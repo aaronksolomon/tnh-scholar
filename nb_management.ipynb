{
 "cells": [
  {
   "cell_type": "markdown",
   "metadata": {},
   "source": [
    "# Notebook Management Utility\n",
    "\n",
    "This notebook provides utilities for managing Jupyter notebook files in a development workflow. It helps maintain separate versions of notebooks for version control and local development.\n",
    "\n",
    "## Key Features\n",
    "- Creates `*_local.ipynb` copies of notebooks for local development\n",
    "- Strips output cells from original notebooks for clean version control\n",
    "- Dry-run option to preview changes before execution\n",
    "- Interactive confirmation before applying changes\n",
    "- Safe execution with preview and confirmation workflow\n",
    "\n",
    "## Usage Example\n",
    "```python\n",
    "# Preview changes (dry run)\n",
    "prep_notebooks(Path(\"./notebooks\"), dry_run=True)\n",
    "\n",
    "# Execute changes with confirmation (see last cell block)\n",
    "from tnh_scholar.utils import get_user_confirmation\n",
    "\n",
    "dir_to_mod = Path(\"./notebooks\")\n",
    "prep_notebooks(dir_to_mod, dry_run=True)  # Preview changes\n",
    "\n",
    "if get_user_confirmation(\"Proceed with changes? (y/N)\", default=False):\n",
    "    prep_notebooks(dir_to_mod, dry_run=False)\n",
    "```\n",
    "\n",
    "The utility implements a safe workflow for notebook management:\n",
    "1. First shows a preview of planned changes (dry run)\n",
    "2. Prompts for user confirmation\n",
    "3. Only executes changes after explicit confirmation\n",
    "\n",
    "This helps prevent accidental modifications while maintaining clean notebooks in version control with separate local development copies."
   ]
  },
  {
   "cell_type": "code",
   "execution_count": 15,
   "metadata": {},
   "outputs": [
    {
     "name": "stdout",
     "output_type": "stream",
     "text": [
      "The autoreload extension is already loaded. To reload it, use:\n",
      "  %reload_ext autoreload\n"
     ]
    }
   ],
   "source": [
    "%load_ext autoreload\n",
    "%autoreload 2"
   ]
  },
  {
   "cell_type": "code",
   "execution_count": 16,
   "metadata": {},
   "outputs": [],
   "source": [
    "from tnh_scholar.utils import get_user_confirmation"
   ]
  },
  {
   "cell_type": "code",
   "execution_count": 39,
   "metadata": {},
   "outputs": [],
   "source": [
    "import sys\n",
    "from pathlib import Path\n",
    "import shutil\n",
    "import subprocess\n",
    "\n",
    "def prep_notebooks(directory: Path, dry_run: bool = True) -> bool:\n",
    "    \"\"\"\n",
    "    Prepare notebooks in directory:\n",
    "    1. Copy *.ipynb to *_local.ipynb if doesn't exist\n",
    "    2. Strip outputs from original notebooks using nbconvert\n",
    "    \"\"\"\n",
    "    directory = Path(directory)\n",
    "    if not directory.exists():\n",
    "        print(f\"Directory not found: {directory}\")\n",
    "        return False\n",
    "\n",
    "    # Find all notebooks that don't end in _local.ipynb\n",
    "    notebooks = list(directory.rglob(\"*.ipynb\"))\n",
    "    notebooks = [path for path in notebooks if \".ipynb_checkpoints\" not in str(path)]\n",
    "    \n",
    "    #nb_list = [str(nb) for nb in filtered_notebooks] \n",
    "    #print(\"All notebooks found:\")\n",
    "    #print(\"\\n\".join(nb_list))\n",
    "\n",
    "    print(f\"Found {len(notebooks)} notebooks to process in {directory}. Ignoring all checkpoint notebooks.\")\n",
    "\n",
    "    for nb_path in notebooks:\n",
    "        local_path = nb_path.parent / f\"{nb_path.stem}_local{nb_path.suffix}\"\n",
    "\n",
    "        # Copy to local version if doesn't exist\n",
    "        if local_path.exists():\n",
    "            print(f\"local copy of notebook exists: {local_path}\")\n",
    "        elif dry_run:\n",
    "            print(f\"Would copy: {nb_path} -> {local_path}\")\n",
    "        else:\n",
    "            print(f\"Copying: {nb_path} -> {local_path}\")\n",
    "            shutil.copy2(nb_path, local_path)\n",
    "\n",
    "        # Strip outputs from original using nbconvert\n",
    "        if dry_run:\n",
    "            print(f\"Would strip outputs from: {nb_path}\")\n",
    "        else:\n",
    "            print(f\"Stripping outputs from: {nb_path}\")\n",
    "            subprocess.run([\n",
    "                \"jupyter\", \"nbconvert\", \n",
    "                \"--ClearOutputPreprocessor.enabled=True\",\n",
    "                \"--inplace\",\n",
    "                str(nb_path)\n",
    "            ])\n",
    "    \n",
    "    return True\n"
   ]
  },
  {
   "cell_type": "code",
   "execution_count": null,
   "metadata": {},
   "outputs": [],
   "source": [
    "dir_to_mod = Path(\"./notebooks\")  # set path to \"./notebooks\" to run on local notebooks dir.\n",
    "\n",
    "if not dir_to_mod.exists():\n",
    "    print(\"Directory not found. Aborted.\")\n",
    "else:\n",
    "    print(\"Running dry run first...\")\n",
    "\n",
    "    if prep_notebooks(dir_to_mod, dry_run=True):\n",
    "\n",
    "        if proceed := get_user_confirmation(\n",
    "            \"\\nProceed with these changes? (y/N)\", default=False\n",
    "        ):\n",
    "            print(\"\\nExecuting changes...\")\n",
    "            prep_notebooks(dir_to_mod, dry_run=False)\n",
    "        else:\n",
    "            print(\"Aborted.\")"
   ]
  },
  {
   "cell_type": "code",
   "execution_count": 30,
   "metadata": {},
   "outputs": [
    {
     "data": {
      "text/plain": [
       "True"
      ]
     },
     "execution_count": 30,
     "metadata": {},
     "output_type": "execute_result"
    }
   ],
   "source": [
    "\".ipynb_checkpoints\" in str(Path(\"notebooks/testing/.ipynb_checkpoints/yt_fetch_test-checkpoint.ipynb\"))"
   ]
  },
  {
   "cell_type": "code",
   "execution_count": 29,
   "metadata": {},
   "outputs": [
    {
     "data": {
      "text/plain": [
       "'notebooks/testing/.ipynb_checkpoints/yt_fetch_test-checkpoint.ipynb'"
      ]
     },
     "execution_count": 29,
     "metadata": {},
     "output_type": "execute_result"
    }
   ],
   "source": [
    "str(Path(\"notebooks/testing/.ipynb_checkpoints/yt_fetch_test-checkpoint.ipynb\"))"
   ]
  },
  {
   "cell_type": "code",
   "execution_count": null,
   "metadata": {},
   "outputs": [],
   "source": []
  }
 ],
 "metadata": {
  "kernelspec": {
   "display_name": "tnh-scholar-test",
   "language": "python",
   "name": "python3"
  },
  "language_info": {
   "codemirror_mode": {
    "name": "ipython",
    "version": 3
   },
   "file_extension": ".py",
   "mimetype": "text/x-python",
   "name": "python",
   "nbconvert_exporter": "python",
   "pygments_lexer": "ipython3",
   "version": "3.12.4"
  }
 },
 "nbformat": 4,
 "nbformat_minor": 2
}
