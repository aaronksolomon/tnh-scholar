{
 "cells": [
  {
   "cell_type": "markdown",
   "metadata": {},
   "source": [
    "# Notebook Management Utility\n",
    "\n",
    "This notebook provides utilities for managing Jupyter notebook files in a development workflow. It helps maintain separate versions of notebooks for version control and local development.\n",
    "\n",
    "## Key Features\n",
    "- Creates `*_local.ipynb` copies of notebooks for local development\n",
    "- Strips output cells from original notebooks for clean version control\n",
    "- Dry-run option to preview changes before execution\n",
    "- Interactive confirmation before applying changes\n",
    "- Safe execution with preview and confirmation workflow\n",
    "\n",
    "## Usage Example\n",
    "```python\n",
    "# Preview changes (dry run)\n",
    "prep_notebooks(Path(\"./notebooks\"), dry_run=True)\n",
    "\n",
    "# Execute changes with confirmation (see last cell block)\n",
    "from tnh_scholar.utils import get_user_confirmation\n",
    "\n",
    "dir_to_mod = Path(\"./notebooks\")\n",
    "prep_notebooks(dir_to_mod, dry_run=True)  # Preview changes\n",
    "\n",
    "if get_user_confirmation(\"Proceed with changes? (y/N)\", default=False):\n",
    "    prep_notebooks(dir_to_mod, dry_run=False)\n",
    "```\n",
    "\n",
    "The utility implements a safe workflow for notebook management:\n",
    "1. First shows a preview of planned changes (dry run)\n",
    "2. Prompts for user confirmation\n",
    "3. Only executes changes after explicit confirmation\n",
    "\n",
    "This helps prevent accidental modifications while maintaining clean notebooks in version control with separate local development copies."
   ]
  },
  {
   "cell_type": "code",
   "execution_count": 15,
   "metadata": {},
   "outputs": [
    {
     "name": "stdout",
     "output_type": "stream",
     "text": [
      "The autoreload extension is already loaded. To reload it, use:\n",
      "  %reload_ext autoreload\n"
     ]
    }
   ],
   "source": [
    "%load_ext autoreload\n",
    "%autoreload 2"
   ]
  },
  {
   "cell_type": "code",
   "execution_count": 16,
   "metadata": {},
   "outputs": [],
   "source": [
    "from tnh_scholar.utils import get_user_confirmation"
   ]
  },
  {
   "cell_type": "code",
   "execution_count": 39,
   "metadata": {},
   "outputs": [],
   "source": [
    "import sys\n",
    "from pathlib import Path\n",
    "import shutil\n",
    "import subprocess\n",
    "\n",
    "def prep_notebooks(directory: Path, dry_run: bool = True) -> bool:\n",
    "    \"\"\"\n",
    "    Prepare notebooks in directory:\n",
    "    1. Copy *.ipynb to *_local.ipynb if doesn't exist\n",
    "    2. Strip outputs from original notebooks using nbconvert\n",
    "    \"\"\"\n",
    "    directory = Path(directory)\n",
    "    if not directory.exists():\n",
    "        print(f\"Directory not found: {directory}\")\n",
    "        return False\n",
    "\n",
    "    # Find all notebooks that don't end in _local.ipynb\n",
    "    notebooks = list(directory.rglob(\"*.ipynb\"))\n",
    "    notebooks = [path for path in notebooks if \".ipynb_checkpoints\" not in str(path)]\n",
    "    \n",
    "    #nb_list = [str(nb) for nb in filtered_notebooks] \n",
    "    #print(\"All notebooks found:\")\n",
    "    #print(\"\\n\".join(nb_list))\n",
    "\n",
    "    print(f\"Found {len(notebooks)} notebooks to process in {directory}. Ignoring all checkpoint notebooks.\")\n",
    "\n",
    "    for nb_path in notebooks:\n",
    "        local_path = nb_path.parent / f\"{nb_path.stem}_local{nb_path.suffix}\"\n",
    "\n",
    "        # Copy to local version if doesn't exist\n",
    "        if local_path.exists():\n",
    "            print(f\"local copy of notebook exists: {local_path}\")\n",
    "        elif dry_run:\n",
    "            print(f\"Would copy: {nb_path} -> {local_path}\")\n",
    "        else:\n",
    "            print(f\"Copying: {nb_path} -> {local_path}\")\n",
    "            shutil.copy2(nb_path, local_path)\n",
    "\n",
    "        # Strip outputs from original using nbconvert\n",
    "        if dry_run:\n",
    "            print(f\"Would strip outputs from: {nb_path}\")\n",
    "        else:\n",
    "            print(f\"Stripping outputs from: {nb_path}\")\n",
    "            subprocess.run([\n",
    "                \"jupyter\", \"nbconvert\", \n",
    "                \"--ClearOutputPreprocessor.enabled=True\",\n",
    "                \"--inplace\",\n",
    "                str(nb_path)\n",
    "            ])\n",
    "    \n",
    "    return True\n"
   ]
  },
  {
   "cell_type": "code",
   "execution_count": 40,
   "metadata": {},
   "outputs": [
    {
     "name": "stdout",
     "output_type": "stream",
     "text": [
      "Running dry run first...\n",
      "Found 71 notebooks to process in notebooks. Ignoring all checkpoint notebooks.\n",
      "Would copy: notebooks/video_processing/postprocessing_english.ipynb -> notebooks/video_processing/postprocessing_english_local.ipynb\n",
      "Would strip outputs from: notebooks/video_processing/postprocessing_english.ipynb\n",
      "Would copy: notebooks/video_processing/process_stepwise.ipynb -> notebooks/video_processing/process_stepwise_local.ipynb\n",
      "Would strip outputs from: notebooks/video_processing/process_stepwise.ipynb\n",
      "Would copy: notebooks/video_processing/repair_process.ipynb -> notebooks/video_processing/repair_process_local.ipynb\n",
      "Would strip outputs from: notebooks/video_processing/repair_process.ipynb\n",
      "Would copy: notebooks/video_processing/collating.ipynb -> notebooks/video_processing/collating_local.ipynb\n",
      "Would strip outputs from: notebooks/video_processing/collating.ipynb\n",
      "Would copy: notebooks/video_processing/youtube_playlist_process.ipynb -> notebooks/video_processing/youtube_playlist_process_local.ipynb\n",
      "Would strip outputs from: notebooks/video_processing/youtube_playlist_process.ipynb\n",
      "Would copy: notebooks/video_processing/batch_recovery.ipynb -> notebooks/video_processing/batch_recovery_local.ipynb\n",
      "Would strip outputs from: notebooks/video_processing/batch_recovery.ipynb\n",
      "Would copy: notebooks/video_processing/postprocessing_viet.ipynb -> notebooks/video_processing/postprocessing_viet_local.ipynb\n",
      "Would strip outputs from: notebooks/video_processing/postprocessing_viet.ipynb\n",
      "Would copy: notebooks/html_viewing/tx_journal_to_html.ipynb -> notebooks/html_viewing/tx_journal_to_html_local.ipynb\n",
      "Would strip outputs from: notebooks/html_viewing/tx_journal_to_html.ipynb\n",
      "Would copy: notebooks/query_text_generation/prompt_sequence1.ipynb -> notebooks/query_text_generation/prompt_sequence1_local.ipynb\n",
      "Would strip outputs from: notebooks/query_text_generation/prompt_sequence1.ipynb\n",
      "Would copy: notebooks/ai_text_processing/section_processing_tests.ipynb -> notebooks/ai_text_processing/section_processing_tests_local.ipynb\n",
      "Would strip outputs from: notebooks/ai_text_processing/section_processing_tests.ipynb\n",
      "Would copy: notebooks/ai_text_processing/patterns.ipynb -> notebooks/ai_text_processing/patterns_local.ipynb\n",
      "Would strip outputs from: notebooks/ai_text_processing/patterns.ipynb\n",
      "Would copy: notebooks/testing/ytdlp_version_test.ipynb -> notebooks/testing/ytdlp_version_test_local.ipynb\n",
      "Would strip outputs from: notebooks/testing/ytdlp_version_test.ipynb\n",
      "Would copy: notebooks/testing/CLI_test.ipynb -> notebooks/testing/CLI_test_local.ipynb\n",
      "Would strip outputs from: notebooks/testing/CLI_test.ipynb\n",
      "Would copy: notebooks/testing/yt_fetch_test.ipynb -> notebooks/testing/yt_fetch_test_local.ipynb\n",
      "Would strip outputs from: notebooks/testing/yt_fetch_test.ipynb\n",
      "Would copy: notebooks/testing/logtesting.ipynb -> notebooks/testing/logtesting_local.ipynb\n",
      "Would strip outputs from: notebooks/testing/logtesting.ipynb\n",
      "Would copy: notebooks/testing/github_dl_test.ipynb -> notebooks/testing/github_dl_test_local.ipynb\n",
      "Would strip outputs from: notebooks/testing/github_dl_test.ipynb\n",
      "Would copy: notebooks/text_processing/epub_parsing_testing2.ipynb -> notebooks/text_processing/epub_parsing_testing2_local.ipynb\n",
      "Would strip outputs from: notebooks/text_processing/epub_parsing_testing2.ipynb\n",
      "Would copy: notebooks/text_processing/textbased_script_testing1.ipynb -> notebooks/text_processing/textbased_script_testing1_local.ipynb\n",
      "Would strip outputs from: notebooks/text_processing/textbased_script_testing1.ipynb\n",
      "Would copy: notebooks/text_processing/old_clean_parse_testing.ipynb -> notebooks/text_processing/old_clean_parse_testing_local.ipynb\n",
      "Would strip outputs from: notebooks/text_processing/old_clean_parse_testing.ipynb\n",
      "Would copy: notebooks/text_processing/textbased_testing2.ipynb -> notebooks/text_processing/textbased_testing2_local.ipynb\n",
      "Would strip outputs from: notebooks/text_processing/textbased_testing2.ipynb\n",
      "Would copy: notebooks/text_processing/epub_based_testing1.ipynb -> notebooks/text_processing/epub_based_testing1_local.ipynb\n",
      "Would strip outputs from: notebooks/text_processing/epub_based_testing1.ipynb\n",
      "Would copy: notebooks/text_processing/text_metadata_tagging.ipynb -> notebooks/text_processing/text_metadata_tagging_local.ipynb\n",
      "Would strip outputs from: notebooks/text_processing/text_metadata_tagging.ipynb\n",
      "Would copy: notebooks/text_processing/epub_parsing_LiA.ipynb -> notebooks/text_processing/epub_parsing_LiA_local.ipynb\n",
      "Would strip outputs from: notebooks/text_processing/epub_parsing_LiA.ipynb\n",
      "Would copy: notebooks/text_processing/text_tagging_formatting_xml_checks.ipynb -> notebooks/text_processing/text_tagging_formatting_xml_checks_local.ipynb\n",
      "Would strip outputs from: notebooks/text_processing/text_tagging_formatting_xml_checks.ipynb\n",
      "Would copy: notebooks/text_processing/xml_to_pdf_work.ipynb -> notebooks/text_processing/xml_to_pdf_work_local.ipynb\n",
      "Would strip outputs from: notebooks/text_processing/xml_to_pdf_work.ipynb\n",
      "Would copy: notebooks/audio_processing/pyannote_test.ipynb -> notebooks/audio_processing/pyannote_test_local.ipynb\n",
      "Would strip outputs from: notebooks/audio_processing/pyannote_test.ipynb\n",
      "Would copy: notebooks/ocr_processing/ocr_testing_asynch_batches.ipynb -> notebooks/ocr_processing/ocr_testing_asynch_batches_local.ipynb\n",
      "Would strip outputs from: notebooks/ocr_processing/ocr_testing_asynch_batches.ipynb\n",
      "Would copy: notebooks/ocr_processing/ocr_testing7.ipynb -> notebooks/ocr_processing/ocr_testing7_local.ipynb\n",
      "Would strip outputs from: notebooks/ocr_processing/ocr_testing7.ipynb\n",
      "Would copy: notebooks/ocr_processing/ocr_testing5.ipynb -> notebooks/ocr_processing/ocr_testing5_local.ipynb\n",
      "Would strip outputs from: notebooks/ocr_processing/ocr_testing5.ipynb\n",
      "Would copy: notebooks/ocr_processing/ocr_testing1.ipynb -> notebooks/ocr_processing/ocr_testing1_local.ipynb\n",
      "Would strip outputs from: notebooks/ocr_processing/ocr_testing1.ipynb\n",
      "Would copy: notebooks/ocr_processing/ocr_testing3.ipynb -> notebooks/ocr_processing/ocr_testing3_local.ipynb\n",
      "Would strip outputs from: notebooks/ocr_processing/ocr_testing3.ipynb\n",
      "Would copy: notebooks/ocr_processing/ocr_testing4.ipynb -> notebooks/ocr_processing/ocr_testing4_local.ipynb\n",
      "Would strip outputs from: notebooks/ocr_processing/ocr_testing4.ipynb\n",
      "Would copy: notebooks/ocr_processing/ocr_testing.ipynb -> notebooks/ocr_processing/ocr_testing_local.ipynb\n",
      "Would strip outputs from: notebooks/ocr_processing/ocr_testing.ipynb\n",
      "Would copy: notebooks/ocr_processing/ocr_testing6.ipynb -> notebooks/ocr_processing/ocr_testing6_local.ipynb\n",
      "Would strip outputs from: notebooks/ocr_processing/ocr_testing6.ipynb\n",
      "Would copy: notebooks/ocr_processing/ocr_hand_checking.ipynb -> notebooks/ocr_processing/ocr_hand_checking_local.ipynb\n",
      "Would strip outputs from: notebooks/ocr_processing/ocr_hand_checking.ipynb\n",
      "Would copy: notebooks/ocr_processing/ocr_testing2.ipynb -> notebooks/ocr_processing/ocr_testing2_local.ipynb\n",
      "Would strip outputs from: notebooks/ocr_processing/ocr_testing2.ipynb\n",
      "Would copy: notebooks/journal_processing/full_journal_process_local.ipynb -> notebooks/journal_processing/full_journal_process_local_local.ipynb\n",
      "Would strip outputs from: notebooks/journal_processing/full_journal_process_local.ipynb\n",
      "local copy of notebook exists: notebooks/journal_processing/journal_processing1_local.ipynb\n",
      "Would strip outputs from: notebooks/journal_processing/journal_processing1.ipynb\n",
      "local copy of notebook exists: notebooks/journal_processing/journal_processing3_local.ipynb\n",
      "Would strip outputs from: notebooks/journal_processing/journal_processing3.ipynb\n",
      "Would copy: notebooks/journal_processing/journal_processing3_local.ipynb -> notebooks/journal_processing/journal_processing3_local_local.ipynb\n",
      "Would strip outputs from: notebooks/journal_processing/journal_processing3_local.ipynb\n",
      "local copy of notebook exists: notebooks/journal_processing/journal_cleaning1_local.ipynb\n",
      "Would strip outputs from: notebooks/journal_processing/journal_cleaning1.ipynb\n",
      "Would copy: notebooks/journal_processing/journal_processing6_local.ipynb -> notebooks/journal_processing/journal_processing6_local_local.ipynb\n",
      "Would strip outputs from: notebooks/journal_processing/journal_processing6_local.ipynb\n",
      "local copy of notebook exists: notebooks/journal_processing/journal_processing7_local.ipynb\n",
      "Would strip outputs from: notebooks/journal_processing/journal_processing7.ipynb\n",
      "local copy of notebook exists: notebooks/journal_processing/journal_processing5_local.ipynb\n",
      "Would strip outputs from: notebooks/journal_processing/journal_processing5.ipynb\n",
      "Would copy: notebooks/journal_processing/journal_flow_2_step_local.ipynb -> notebooks/journal_processing/journal_flow_2_step_local_local.ipynb\n",
      "Would strip outputs from: notebooks/journal_processing/journal_flow_2_step_local.ipynb\n",
      "local copy of notebook exists: notebooks/journal_processing/journal_processing2_local.ipynb\n",
      "Would strip outputs from: notebooks/journal_processing/journal_processing2.ipynb\n",
      "local copy of notebook exists: notebooks/journal_processing/journal_cleaning2_local.ipynb\n",
      "Would strip outputs from: notebooks/journal_processing/journal_cleaning2.ipynb\n",
      "Would copy: notebooks/journal_processing/journal_processing5_local.ipynb -> notebooks/journal_processing/journal_processing5_local_local.ipynb\n",
      "Would strip outputs from: notebooks/journal_processing/journal_processing5_local.ipynb\n",
      "local copy of notebook exists: notebooks/journal_processing/journal_processing4_local.ipynb\n",
      "Would strip outputs from: notebooks/journal_processing/journal_processing4.ipynb\n",
      "Would copy: notebooks/journal_processing/gpt_interface_testing_local.ipynb -> notebooks/journal_processing/gpt_interface_testing_local_local.ipynb\n",
      "Would strip outputs from: notebooks/journal_processing/gpt_interface_testing_local.ipynb\n",
      "local copy of notebook exists: notebooks/journal_processing/journal_flow_2_step2_local.ipynb\n",
      "Would strip outputs from: notebooks/journal_processing/journal_flow_2_step2.ipynb\n",
      "local copy of notebook exists: notebooks/journal_processing/journal_processing6_local.ipynb\n",
      "Would strip outputs from: notebooks/journal_processing/journal_processing6.ipynb\n",
      "Would copy: notebooks/journal_processing/journal_processing7_local.ipynb -> notebooks/journal_processing/journal_processing7_local_local.ipynb\n",
      "Would strip outputs from: notebooks/journal_processing/journal_processing7_local.ipynb\n",
      "Would copy: notebooks/journal_processing/journal_cleaning1_local.ipynb -> notebooks/journal_processing/journal_cleaning1_local_local.ipynb\n",
      "Would strip outputs from: notebooks/journal_processing/journal_cleaning1_local.ipynb\n",
      "local copy of notebook exists: notebooks/journal_processing/journal_processing8_local.ipynb\n",
      "Would strip outputs from: notebooks/journal_processing/journal_processing8.ipynb\n",
      "Would copy: notebooks/journal_processing/journal_processing2_local.ipynb -> notebooks/journal_processing/journal_processing2_local_local.ipynb\n",
      "Would strip outputs from: notebooks/journal_processing/journal_processing2_local.ipynb\n",
      "Would copy: notebooks/journal_processing/journal_flow_2_step2_local.ipynb -> notebooks/journal_processing/journal_flow_2_step2_local_local.ipynb\n",
      "Would strip outputs from: notebooks/journal_processing/journal_flow_2_step2_local.ipynb\n",
      "Would copy: notebooks/journal_processing/journal_processing8_local.ipynb -> notebooks/journal_processing/journal_processing8_local_local.ipynb\n",
      "Would strip outputs from: notebooks/journal_processing/journal_processing8_local.ipynb\n",
      "Would copy: notebooks/journal_processing/journal_processing1_local.ipynb -> notebooks/journal_processing/journal_processing1_local_local.ipynb\n",
      "Would strip outputs from: notebooks/journal_processing/journal_processing1_local.ipynb\n",
      "local copy of notebook exists: notebooks/journal_processing/journal_flow_2_step_local.ipynb\n",
      "Would strip outputs from: notebooks/journal_processing/journal_flow_2_step.ipynb\n",
      "local copy of notebook exists: notebooks/journal_processing/full_journal_process_local.ipynb\n",
      "Would strip outputs from: notebooks/journal_processing/full_journal_process.ipynb\n",
      "Would copy: notebooks/journal_processing/journal_cleaning2_local.ipynb -> notebooks/journal_processing/journal_cleaning2_local_local.ipynb\n",
      "Would strip outputs from: notebooks/journal_processing/journal_cleaning2_local.ipynb\n",
      "Would copy: notebooks/journal_processing/journal_processing4_local.ipynb -> notebooks/journal_processing/journal_processing4_local_local.ipynb\n",
      "Would strip outputs from: notebooks/journal_processing/journal_processing4_local.ipynb\n",
      "local copy of notebook exists: notebooks/journal_processing/gpt_interface_testing_local.ipynb\n",
      "Would strip outputs from: notebooks/journal_processing/gpt_interface_testing.ipynb\n",
      "Would copy: notebooks/video_processing/tests_and_prototypes/omp_fix.ipynb -> notebooks/video_processing/tests_and_prototypes/omp_fix_local.ipynb\n",
      "Would strip outputs from: notebooks/video_processing/tests_and_prototypes/omp_fix.ipynb\n",
      "Would copy: notebooks/video_processing/tests_and_prototypes/postprocessing_tests2.ipynb -> notebooks/video_processing/tests_and_prototypes/postprocessing_tests2_local.ipynb\n",
      "Would strip outputs from: notebooks/video_processing/tests_and_prototypes/postprocessing_tests2.ipynb\n",
      "Would copy: notebooks/video_processing/tests_and_prototypes/audio_extract_testing3.ipynb -> notebooks/video_processing/tests_and_prototypes/audio_extract_testing3_local.ipynb\n",
      "Would strip outputs from: notebooks/video_processing/tests_and_prototypes/audio_extract_testing3.ipynb\n",
      "Would copy: notebooks/video_processing/tests_and_prototypes/audio_extract_testing1.ipynb -> notebooks/video_processing/tests_and_prototypes/audio_extract_testing1_local.ipynb\n",
      "Would strip outputs from: notebooks/video_processing/tests_and_prototypes/audio_extract_testing1.ipynb\n",
      "Would copy: notebooks/video_processing/tests_and_prototypes/audio_extract_testing4.ipynb -> notebooks/video_processing/tests_and_prototypes/audio_extract_testing4_local.ipynb\n",
      "Would strip outputs from: notebooks/video_processing/tests_and_prototypes/audio_extract_testing4.ipynb\n",
      "Would copy: notebooks/video_processing/tests_and_prototypes/audio_extract_testing2.ipynb -> notebooks/video_processing/tests_and_prototypes/audio_extract_testing2_local.ipynb\n",
      "Would strip outputs from: notebooks/video_processing/tests_and_prototypes/audio_extract_testing2.ipynb\n",
      "Would copy: notebooks/video_processing/tests_and_prototypes/post_processing_tests.ipynb -> notebooks/video_processing/tests_and_prototypes/post_processing_tests_local.ipynb\n",
      "Would strip outputs from: notebooks/video_processing/tests_and_prototypes/post_processing_tests.ipynb\n",
      "\n",
      "Proceed with these changes? (y/N) "
     ]
    },
    {
     "name": "stdout",
     "output_type": "stream",
     "text": [
      "y\n",
      "\n",
      "Executing changes...\n",
      "Found 71 notebooks to process in notebooks. Ignoring all checkpoint notebooks.\n",
      "Copying: notebooks/video_processing/postprocessing_english.ipynb -> notebooks/video_processing/postprocessing_english_local.ipynb\n",
      "Stripping outputs from: notebooks/video_processing/postprocessing_english.ipynb\n"
     ]
    },
    {
     "name": "stderr",
     "output_type": "stream",
     "text": [
      "[NbConvertApp] Converting notebook notebooks/video_processing/postprocessing_english.ipynb to notebook\n",
      "[NbConvertApp] Writing 21225 bytes to notebooks/video_processing/postprocessing_english.ipynb\n"
     ]
    },
    {
     "name": "stdout",
     "output_type": "stream",
     "text": [
      "Copying: notebooks/video_processing/process_stepwise.ipynb -> notebooks/video_processing/process_stepwise_local.ipynb\n",
      "Stripping outputs from: notebooks/video_processing/process_stepwise.ipynb\n"
     ]
    },
    {
     "name": "stderr",
     "output_type": "stream",
     "text": [
      "[NbConvertApp] Converting notebook notebooks/video_processing/process_stepwise.ipynb to notebook\n",
      "[NbConvertApp] Writing 6485 bytes to notebooks/video_processing/process_stepwise.ipynb\n"
     ]
    },
    {
     "name": "stdout",
     "output_type": "stream",
     "text": [
      "Copying: notebooks/video_processing/repair_process.ipynb -> notebooks/video_processing/repair_process_local.ipynb\n",
      "Stripping outputs from: notebooks/video_processing/repair_process.ipynb\n"
     ]
    },
    {
     "name": "stderr",
     "output_type": "stream",
     "text": [
      "[NbConvertApp] Converting notebook notebooks/video_processing/repair_process.ipynb to notebook\n",
      "[NbConvertApp] Writing 5084 bytes to notebooks/video_processing/repair_process.ipynb\n"
     ]
    },
    {
     "name": "stdout",
     "output_type": "stream",
     "text": [
      "Copying: notebooks/video_processing/collating.ipynb -> notebooks/video_processing/collating_local.ipynb\n",
      "Stripping outputs from: notebooks/video_processing/collating.ipynb\n"
     ]
    },
    {
     "name": "stderr",
     "output_type": "stream",
     "text": [
      "[NbConvertApp] Converting notebook notebooks/video_processing/collating.ipynb to notebook\n",
      "[NbConvertApp] Writing 5064 bytes to notebooks/video_processing/collating.ipynb\n"
     ]
    },
    {
     "name": "stdout",
     "output_type": "stream",
     "text": [
      "Copying: notebooks/video_processing/youtube_playlist_process.ipynb -> notebooks/video_processing/youtube_playlist_process_local.ipynb\n",
      "Stripping outputs from: notebooks/video_processing/youtube_playlist_process.ipynb\n"
     ]
    },
    {
     "name": "stderr",
     "output_type": "stream",
     "text": [
      "[NbConvertApp] Converting notebook notebooks/video_processing/youtube_playlist_process.ipynb to notebook\n",
      "[NbConvertApp] Writing 6895 bytes to notebooks/video_processing/youtube_playlist_process.ipynb\n"
     ]
    },
    {
     "name": "stdout",
     "output_type": "stream",
     "text": [
      "Copying: notebooks/video_processing/batch_recovery.ipynb -> notebooks/video_processing/batch_recovery_local.ipynb\n",
      "Stripping outputs from: notebooks/video_processing/batch_recovery.ipynb\n"
     ]
    },
    {
     "name": "stderr",
     "output_type": "stream",
     "text": [
      "[NbConvertApp] Converting notebook notebooks/video_processing/batch_recovery.ipynb to notebook\n",
      "[NbConvertApp] Writing 1973 bytes to notebooks/video_processing/batch_recovery.ipynb\n"
     ]
    },
    {
     "name": "stdout",
     "output_type": "stream",
     "text": [
      "Copying: notebooks/video_processing/postprocessing_viet.ipynb -> notebooks/video_processing/postprocessing_viet_local.ipynb\n",
      "Stripping outputs from: notebooks/video_processing/postprocessing_viet.ipynb\n"
     ]
    },
    {
     "name": "stderr",
     "output_type": "stream",
     "text": [
      "[NbConvertApp] Converting notebook notebooks/video_processing/postprocessing_viet.ipynb to notebook\n",
      "[NbConvertApp] Writing 20809 bytes to notebooks/video_processing/postprocessing_viet.ipynb\n"
     ]
    },
    {
     "name": "stdout",
     "output_type": "stream",
     "text": [
      "Copying: notebooks/html_viewing/tx_journal_to_html.ipynb -> notebooks/html_viewing/tx_journal_to_html_local.ipynb\n",
      "Stripping outputs from: notebooks/html_viewing/tx_journal_to_html.ipynb\n"
     ]
    },
    {
     "name": "stderr",
     "output_type": "stream",
     "text": [
      "[NbConvertApp] Converting notebook notebooks/html_viewing/tx_journal_to_html.ipynb to notebook\n",
      "[NbConvertApp] Writing 13663 bytes to notebooks/html_viewing/tx_journal_to_html.ipynb\n"
     ]
    },
    {
     "name": "stdout",
     "output_type": "stream",
     "text": [
      "Copying: notebooks/query_text_generation/prompt_sequence1.ipynb -> notebooks/query_text_generation/prompt_sequence1_local.ipynb\n",
      "Stripping outputs from: notebooks/query_text_generation/prompt_sequence1.ipynb\n"
     ]
    },
    {
     "name": "stderr",
     "output_type": "stream",
     "text": [
      "[NbConvertApp] Converting notebook notebooks/query_text_generation/prompt_sequence1.ipynb to notebook\n",
      "[NbConvertApp] Writing 48109 bytes to notebooks/query_text_generation/prompt_sequence1.ipynb\n"
     ]
    },
    {
     "name": "stdout",
     "output_type": "stream",
     "text": [
      "Copying: notebooks/ai_text_processing/section_processing_tests.ipynb -> notebooks/ai_text_processing/section_processing_tests_local.ipynb\n",
      "Stripping outputs from: notebooks/ai_text_processing/section_processing_tests.ipynb\n"
     ]
    },
    {
     "name": "stderr",
     "output_type": "stream",
     "text": [
      "[NbConvertApp] Converting notebook notebooks/ai_text_processing/section_processing_tests.ipynb to notebook\n",
      "[NbConvertApp] Writing 15578 bytes to notebooks/ai_text_processing/section_processing_tests.ipynb\n"
     ]
    },
    {
     "name": "stdout",
     "output_type": "stream",
     "text": [
      "Copying: notebooks/ai_text_processing/patterns.ipynb -> notebooks/ai_text_processing/patterns_local.ipynb\n",
      "Stripping outputs from: notebooks/ai_text_processing/patterns.ipynb\n"
     ]
    },
    {
     "name": "stderr",
     "output_type": "stream",
     "text": [
      "[NbConvertApp] Converting notebook notebooks/ai_text_processing/patterns.ipynb to notebook\n",
      "[NbConvertApp] Writing 4099 bytes to notebooks/ai_text_processing/patterns.ipynb\n"
     ]
    },
    {
     "name": "stdout",
     "output_type": "stream",
     "text": [
      "Copying: notebooks/testing/ytdlp_version_test.ipynb -> notebooks/testing/ytdlp_version_test_local.ipynb\n",
      "Stripping outputs from: notebooks/testing/ytdlp_version_test.ipynb\n"
     ]
    },
    {
     "name": "stderr",
     "output_type": "stream",
     "text": [
      "[NbConvertApp] Converting notebook notebooks/testing/ytdlp_version_test.ipynb to notebook\n",
      "[NbConvertApp] Writing 2293 bytes to notebooks/testing/ytdlp_version_test.ipynb\n"
     ]
    },
    {
     "name": "stdout",
     "output_type": "stream",
     "text": [
      "Copying: notebooks/testing/CLI_test.ipynb -> notebooks/testing/CLI_test_local.ipynb\n",
      "Stripping outputs from: notebooks/testing/CLI_test.ipynb\n"
     ]
    },
    {
     "name": "stderr",
     "output_type": "stream",
     "text": [
      "[NbConvertApp] Converting notebook notebooks/testing/CLI_test.ipynb to notebook\n",
      "[NbConvertApp] Writing 1093 bytes to notebooks/testing/CLI_test.ipynb\n"
     ]
    },
    {
     "name": "stdout",
     "output_type": "stream",
     "text": [
      "Copying: notebooks/testing/yt_fetch_test.ipynb -> notebooks/testing/yt_fetch_test_local.ipynb\n",
      "Stripping outputs from: notebooks/testing/yt_fetch_test.ipynb\n"
     ]
    },
    {
     "name": "stderr",
     "output_type": "stream",
     "text": [
      "[NbConvertApp] Converting notebook notebooks/testing/yt_fetch_test.ipynb to notebook\n",
      "[NbConvertApp] Writing 5579 bytes to notebooks/testing/yt_fetch_test.ipynb\n"
     ]
    },
    {
     "name": "stdout",
     "output_type": "stream",
     "text": [
      "Copying: notebooks/testing/logtesting.ipynb -> notebooks/testing/logtesting_local.ipynb\n",
      "Stripping outputs from: notebooks/testing/logtesting.ipynb\n"
     ]
    },
    {
     "name": "stderr",
     "output_type": "stream",
     "text": [
      "[NbConvertApp] Converting notebook notebooks/testing/logtesting.ipynb to notebook\n",
      "[NbConvertApp] Writing 5763 bytes to notebooks/testing/logtesting.ipynb\n"
     ]
    },
    {
     "name": "stdout",
     "output_type": "stream",
     "text": [
      "Copying: notebooks/testing/github_dl_test.ipynb -> notebooks/testing/github_dl_test_local.ipynb\n",
      "Stripping outputs from: notebooks/testing/github_dl_test.ipynb\n"
     ]
    },
    {
     "name": "stderr",
     "output_type": "stream",
     "text": [
      "[NbConvertApp] Converting notebook notebooks/testing/github_dl_test.ipynb to notebook\n",
      "[NbConvertApp] Writing 3070 bytes to notebooks/testing/github_dl_test.ipynb\n"
     ]
    },
    {
     "name": "stdout",
     "output_type": "stream",
     "text": [
      "Copying: notebooks/text_processing/epub_parsing_testing2.ipynb -> notebooks/text_processing/epub_parsing_testing2_local.ipynb\n",
      "Stripping outputs from: notebooks/text_processing/epub_parsing_testing2.ipynb\n"
     ]
    },
    {
     "name": "stderr",
     "output_type": "stream",
     "text": [
      "[NbConvertApp] Converting notebook notebooks/text_processing/epub_parsing_testing2.ipynb to notebook\n",
      "[NbConvertApp] Writing 18213 bytes to notebooks/text_processing/epub_parsing_testing2.ipynb\n"
     ]
    },
    {
     "name": "stdout",
     "output_type": "stream",
     "text": [
      "Copying: notebooks/text_processing/textbased_script_testing1.ipynb -> notebooks/text_processing/textbased_script_testing1_local.ipynb\n",
      "Stripping outputs from: notebooks/text_processing/textbased_script_testing1.ipynb\n"
     ]
    },
    {
     "name": "stderr",
     "output_type": "stream",
     "text": [
      "[NbConvertApp] Converting notebook notebooks/text_processing/textbased_script_testing1.ipynb to notebook\n",
      "[NbConvertApp] Writing 9035 bytes to notebooks/text_processing/textbased_script_testing1.ipynb\n"
     ]
    },
    {
     "name": "stdout",
     "output_type": "stream",
     "text": [
      "Copying: notebooks/text_processing/old_clean_parse_testing.ipynb -> notebooks/text_processing/old_clean_parse_testing_local.ipynb\n",
      "Stripping outputs from: notebooks/text_processing/old_clean_parse_testing.ipynb\n"
     ]
    },
    {
     "name": "stderr",
     "output_type": "stream",
     "text": [
      "[NbConvertApp] Converting notebook notebooks/text_processing/old_clean_parse_testing.ipynb to notebook\n",
      "[NbConvertApp] Writing 4009 bytes to notebooks/text_processing/old_clean_parse_testing.ipynb\n"
     ]
    },
    {
     "name": "stdout",
     "output_type": "stream",
     "text": [
      "Copying: notebooks/text_processing/textbased_testing2.ipynb -> notebooks/text_processing/textbased_testing2_local.ipynb\n",
      "Stripping outputs from: notebooks/text_processing/textbased_testing2.ipynb\n"
     ]
    },
    {
     "name": "stderr",
     "output_type": "stream",
     "text": [
      "[NbConvertApp] Converting notebook notebooks/text_processing/textbased_testing2.ipynb to notebook\n",
      "[NbConvertApp] Writing 1491 bytes to notebooks/text_processing/textbased_testing2.ipynb\n"
     ]
    },
    {
     "name": "stdout",
     "output_type": "stream",
     "text": [
      "Copying: notebooks/text_processing/epub_based_testing1.ipynb -> notebooks/text_processing/epub_based_testing1_local.ipynb\n",
      "Stripping outputs from: notebooks/text_processing/epub_based_testing1.ipynb\n"
     ]
    },
    {
     "name": "stderr",
     "output_type": "stream",
     "text": [
      "[NbConvertApp] Converting notebook notebooks/text_processing/epub_based_testing1.ipynb to notebook\n",
      "[NbConvertApp] Writing 33026 bytes to notebooks/text_processing/epub_based_testing1.ipynb\n"
     ]
    },
    {
     "name": "stdout",
     "output_type": "stream",
     "text": [
      "Copying: notebooks/text_processing/text_metadata_tagging.ipynb -> notebooks/text_processing/text_metadata_tagging_local.ipynb\n",
      "Stripping outputs from: notebooks/text_processing/text_metadata_tagging.ipynb\n"
     ]
    },
    {
     "name": "stderr",
     "output_type": "stream",
     "text": [
      "[NbConvertApp] Converting notebook notebooks/text_processing/text_metadata_tagging.ipynb to notebook\n",
      "[NbConvertApp] Writing 5549 bytes to notebooks/text_processing/text_metadata_tagging.ipynb\n"
     ]
    },
    {
     "name": "stdout",
     "output_type": "stream",
     "text": [
      "Copying: notebooks/text_processing/epub_parsing_LiA.ipynb -> notebooks/text_processing/epub_parsing_LiA_local.ipynb\n",
      "Stripping outputs from: notebooks/text_processing/epub_parsing_LiA.ipynb\n"
     ]
    },
    {
     "name": "stderr",
     "output_type": "stream",
     "text": [
      "[NbConvertApp] Converting notebook notebooks/text_processing/epub_parsing_LiA.ipynb to notebook\n",
      "[NbConvertApp] Writing 26247 bytes to notebooks/text_processing/epub_parsing_LiA.ipynb\n"
     ]
    },
    {
     "name": "stdout",
     "output_type": "stream",
     "text": [
      "Copying: notebooks/text_processing/text_tagging_formatting_xml_checks.ipynb -> notebooks/text_processing/text_tagging_formatting_xml_checks_local.ipynb\n",
      "Stripping outputs from: notebooks/text_processing/text_tagging_formatting_xml_checks.ipynb\n"
     ]
    },
    {
     "name": "stderr",
     "output_type": "stream",
     "text": [
      "[NbConvertApp] Converting notebook notebooks/text_processing/text_tagging_formatting_xml_checks.ipynb to notebook\n",
      "[NbConvertApp] Writing 19134 bytes to notebooks/text_processing/text_tagging_formatting_xml_checks.ipynb\n"
     ]
    },
    {
     "name": "stdout",
     "output_type": "stream",
     "text": [
      "Copying: notebooks/text_processing/xml_to_pdf_work.ipynb -> notebooks/text_processing/xml_to_pdf_work_local.ipynb\n",
      "Stripping outputs from: notebooks/text_processing/xml_to_pdf_work.ipynb\n"
     ]
    },
    {
     "name": "stderr",
     "output_type": "stream",
     "text": [
      "[NbConvertApp] Converting notebook notebooks/text_processing/xml_to_pdf_work.ipynb to notebook\n",
      "[NbConvertApp] Writing 7746 bytes to notebooks/text_processing/xml_to_pdf_work.ipynb\n"
     ]
    },
    {
     "name": "stdout",
     "output_type": "stream",
     "text": [
      "Copying: notebooks/audio_processing/pyannote_test.ipynb -> notebooks/audio_processing/pyannote_test_local.ipynb\n",
      "Stripping outputs from: notebooks/audio_processing/pyannote_test.ipynb\n"
     ]
    },
    {
     "name": "stderr",
     "output_type": "stream",
     "text": [
      "[NbConvertApp] Converting notebook notebooks/audio_processing/pyannote_test.ipynb to notebook\n",
      "[NbConvertApp] Writing 10054 bytes to notebooks/audio_processing/pyannote_test.ipynb\n"
     ]
    },
    {
     "name": "stdout",
     "output_type": "stream",
     "text": [
      "Copying: notebooks/ocr_processing/ocr_testing_asynch_batches.ipynb -> notebooks/ocr_processing/ocr_testing_asynch_batches_local.ipynb\n",
      "Stripping outputs from: notebooks/ocr_processing/ocr_testing_asynch_batches.ipynb\n"
     ]
    },
    {
     "name": "stderr",
     "output_type": "stream",
     "text": [
      "[NbConvertApp] Converting notebook notebooks/ocr_processing/ocr_testing_asynch_batches.ipynb to notebook\n",
      "[NbConvertApp] Writing 19681 bytes to notebooks/ocr_processing/ocr_testing_asynch_batches.ipynb\n"
     ]
    },
    {
     "name": "stdout",
     "output_type": "stream",
     "text": [
      "Copying: notebooks/ocr_processing/ocr_testing7.ipynb -> notebooks/ocr_processing/ocr_testing7_local.ipynb\n",
      "Stripping outputs from: notebooks/ocr_processing/ocr_testing7.ipynb\n"
     ]
    },
    {
     "name": "stderr",
     "output_type": "stream",
     "text": [
      "[NbConvertApp] Converting notebook notebooks/ocr_processing/ocr_testing7.ipynb to notebook\n",
      "[NbConvertApp] Writing 4295 bytes to notebooks/ocr_processing/ocr_testing7.ipynb\n"
     ]
    },
    {
     "name": "stdout",
     "output_type": "stream",
     "text": [
      "Copying: notebooks/ocr_processing/ocr_testing5.ipynb -> notebooks/ocr_processing/ocr_testing5_local.ipynb\n",
      "Stripping outputs from: notebooks/ocr_processing/ocr_testing5.ipynb\n"
     ]
    },
    {
     "name": "stderr",
     "output_type": "stream",
     "text": [
      "[NbConvertApp] Converting notebook notebooks/ocr_processing/ocr_testing5.ipynb to notebook\n",
      "[NbConvertApp] Writing 12562 bytes to notebooks/ocr_processing/ocr_testing5.ipynb\n"
     ]
    },
    {
     "name": "stdout",
     "output_type": "stream",
     "text": [
      "Copying: notebooks/ocr_processing/ocr_testing1.ipynb -> notebooks/ocr_processing/ocr_testing1_local.ipynb\n",
      "Stripping outputs from: notebooks/ocr_processing/ocr_testing1.ipynb\n"
     ]
    },
    {
     "name": "stderr",
     "output_type": "stream",
     "text": [
      "[NbConvertApp] Converting notebook notebooks/ocr_processing/ocr_testing1.ipynb to notebook\n",
      "[NbConvertApp] Writing 10867 bytes to notebooks/ocr_processing/ocr_testing1.ipynb\n"
     ]
    },
    {
     "name": "stdout",
     "output_type": "stream",
     "text": [
      "Copying: notebooks/ocr_processing/ocr_testing3.ipynb -> notebooks/ocr_processing/ocr_testing3_local.ipynb\n",
      "Stripping outputs from: notebooks/ocr_processing/ocr_testing3.ipynb\n"
     ]
    },
    {
     "name": "stderr",
     "output_type": "stream",
     "text": [
      "[NbConvertApp] Converting notebook notebooks/ocr_processing/ocr_testing3.ipynb to notebook\n",
      "[NbConvertApp] Writing 14100 bytes to notebooks/ocr_processing/ocr_testing3.ipynb\n"
     ]
    },
    {
     "name": "stdout",
     "output_type": "stream",
     "text": [
      "Copying: notebooks/ocr_processing/ocr_testing4.ipynb -> notebooks/ocr_processing/ocr_testing4_local.ipynb\n",
      "Stripping outputs from: notebooks/ocr_processing/ocr_testing4.ipynb\n"
     ]
    },
    {
     "name": "stderr",
     "output_type": "stream",
     "text": [
      "[NbConvertApp] Converting notebook notebooks/ocr_processing/ocr_testing4.ipynb to notebook\n",
      "[NbConvertApp] Writing 16578 bytes to notebooks/ocr_processing/ocr_testing4.ipynb\n"
     ]
    },
    {
     "name": "stdout",
     "output_type": "stream",
     "text": [
      "Copying: notebooks/ocr_processing/ocr_testing.ipynb -> notebooks/ocr_processing/ocr_testing_local.ipynb\n",
      "Stripping outputs from: notebooks/ocr_processing/ocr_testing.ipynb\n"
     ]
    },
    {
     "name": "stderr",
     "output_type": "stream",
     "text": [
      "[NbConvertApp] Converting notebook notebooks/ocr_processing/ocr_testing.ipynb to notebook\n",
      "[NbConvertApp] Writing 1285 bytes to notebooks/ocr_processing/ocr_testing.ipynb\n"
     ]
    },
    {
     "name": "stdout",
     "output_type": "stream",
     "text": [
      "Copying: notebooks/ocr_processing/ocr_testing6.ipynb -> notebooks/ocr_processing/ocr_testing6_local.ipynb\n",
      "Stripping outputs from: notebooks/ocr_processing/ocr_testing6.ipynb\n"
     ]
    },
    {
     "name": "stderr",
     "output_type": "stream",
     "text": [
      "[NbConvertApp] Converting notebook notebooks/ocr_processing/ocr_testing6.ipynb to notebook\n",
      "[NbConvertApp] Writing 6247 bytes to notebooks/ocr_processing/ocr_testing6.ipynb\n"
     ]
    },
    {
     "name": "stdout",
     "output_type": "stream",
     "text": [
      "Copying: notebooks/ocr_processing/ocr_hand_checking.ipynb -> notebooks/ocr_processing/ocr_hand_checking_local.ipynb\n",
      "Stripping outputs from: notebooks/ocr_processing/ocr_hand_checking.ipynb\n"
     ]
    },
    {
     "name": "stderr",
     "output_type": "stream",
     "text": [
      "[NbConvertApp] Converting notebook notebooks/ocr_processing/ocr_hand_checking.ipynb to notebook\n",
      "[NbConvertApp] Writing 8319 bytes to notebooks/ocr_processing/ocr_hand_checking.ipynb\n"
     ]
    },
    {
     "name": "stdout",
     "output_type": "stream",
     "text": [
      "Copying: notebooks/ocr_processing/ocr_testing2.ipynb -> notebooks/ocr_processing/ocr_testing2_local.ipynb\n",
      "Stripping outputs from: notebooks/ocr_processing/ocr_testing2.ipynb\n"
     ]
    },
    {
     "name": "stderr",
     "output_type": "stream",
     "text": [
      "[NbConvertApp] Converting notebook notebooks/ocr_processing/ocr_testing2.ipynb to notebook\n",
      "[NbConvertApp] Writing 7749 bytes to notebooks/ocr_processing/ocr_testing2.ipynb\n"
     ]
    },
    {
     "name": "stdout",
     "output_type": "stream",
     "text": [
      "Copying: notebooks/journal_processing/full_journal_process_local.ipynb -> notebooks/journal_processing/full_journal_process_local_local.ipynb\n",
      "Stripping outputs from: notebooks/journal_processing/full_journal_process_local.ipynb\n"
     ]
    },
    {
     "name": "stderr",
     "output_type": "stream",
     "text": [
      "[NbConvertApp] Converting notebook notebooks/journal_processing/full_journal_process_local.ipynb to notebook\n",
      "[NbConvertApp] Writing 15720 bytes to notebooks/journal_processing/full_journal_process_local.ipynb\n"
     ]
    },
    {
     "name": "stdout",
     "output_type": "stream",
     "text": [
      "local copy of notebook exists: notebooks/journal_processing/journal_processing1_local.ipynb\n",
      "Stripping outputs from: notebooks/journal_processing/journal_processing1.ipynb\n"
     ]
    },
    {
     "name": "stderr",
     "output_type": "stream",
     "text": [
      "[NbConvertApp] Converting notebook notebooks/journal_processing/journal_processing1.ipynb to notebook\n",
      "[NbConvertApp] Writing 51952 bytes to notebooks/journal_processing/journal_processing1.ipynb\n"
     ]
    },
    {
     "name": "stdout",
     "output_type": "stream",
     "text": [
      "local copy of notebook exists: notebooks/journal_processing/journal_processing3_local.ipynb\n",
      "Stripping outputs from: notebooks/journal_processing/journal_processing3.ipynb\n"
     ]
    },
    {
     "name": "stderr",
     "output_type": "stream",
     "text": [
      "[NbConvertApp] Converting notebook notebooks/journal_processing/journal_processing3.ipynb to notebook\n",
      "[NbConvertApp] Writing 25674 bytes to notebooks/journal_processing/journal_processing3.ipynb\n"
     ]
    },
    {
     "name": "stdout",
     "output_type": "stream",
     "text": [
      "Copying: notebooks/journal_processing/journal_processing3_local.ipynb -> notebooks/journal_processing/journal_processing3_local_local.ipynb\n",
      "Stripping outputs from: notebooks/journal_processing/journal_processing3_local.ipynb\n"
     ]
    },
    {
     "name": "stderr",
     "output_type": "stream",
     "text": [
      "[NbConvertApp] Converting notebook notebooks/journal_processing/journal_processing3_local.ipynb to notebook\n",
      "[NbConvertApp] Writing 25674 bytes to notebooks/journal_processing/journal_processing3_local.ipynb\n"
     ]
    },
    {
     "name": "stdout",
     "output_type": "stream",
     "text": [
      "local copy of notebook exists: notebooks/journal_processing/journal_cleaning1_local.ipynb\n",
      "Stripping outputs from: notebooks/journal_processing/journal_cleaning1.ipynb\n"
     ]
    },
    {
     "name": "stderr",
     "output_type": "stream",
     "text": [
      "[NbConvertApp] Converting notebook notebooks/journal_processing/journal_cleaning1.ipynb to notebook\n",
      "[NbConvertApp] Writing 19470 bytes to notebooks/journal_processing/journal_cleaning1.ipynb\n"
     ]
    },
    {
     "name": "stdout",
     "output_type": "stream",
     "text": [
      "Copying: notebooks/journal_processing/journal_processing6_local.ipynb -> notebooks/journal_processing/journal_processing6_local_local.ipynb\n",
      "Stripping outputs from: notebooks/journal_processing/journal_processing6_local.ipynb\n"
     ]
    },
    {
     "name": "stderr",
     "output_type": "stream",
     "text": [
      "[NbConvertApp] Converting notebook notebooks/journal_processing/journal_processing6_local.ipynb to notebook\n",
      "[NbConvertApp] Writing 29135 bytes to notebooks/journal_processing/journal_processing6_local.ipynb\n"
     ]
    },
    {
     "name": "stdout",
     "output_type": "stream",
     "text": [
      "local copy of notebook exists: notebooks/journal_processing/journal_processing7_local.ipynb\n",
      "Stripping outputs from: notebooks/journal_processing/journal_processing7.ipynb\n"
     ]
    },
    {
     "name": "stderr",
     "output_type": "stream",
     "text": [
      "[NbConvertApp] Converting notebook notebooks/journal_processing/journal_processing7.ipynb to notebook\n",
      "[NbConvertApp] Writing 23182 bytes to notebooks/journal_processing/journal_processing7.ipynb\n"
     ]
    },
    {
     "name": "stdout",
     "output_type": "stream",
     "text": [
      "local copy of notebook exists: notebooks/journal_processing/journal_processing5_local.ipynb\n",
      "Stripping outputs from: notebooks/journal_processing/journal_processing5.ipynb\n"
     ]
    },
    {
     "name": "stderr",
     "output_type": "stream",
     "text": [
      "[NbConvertApp] Converting notebook notebooks/journal_processing/journal_processing5.ipynb to notebook\n",
      "[NbConvertApp] Writing 29604 bytes to notebooks/journal_processing/journal_processing5.ipynb\n"
     ]
    },
    {
     "name": "stdout",
     "output_type": "stream",
     "text": [
      "Copying: notebooks/journal_processing/journal_flow_2_step_local.ipynb -> notebooks/journal_processing/journal_flow_2_step_local_local.ipynb\n",
      "Stripping outputs from: notebooks/journal_processing/journal_flow_2_step_local.ipynb\n"
     ]
    },
    {
     "name": "stderr",
     "output_type": "stream",
     "text": [
      "[NbConvertApp] Converting notebook notebooks/journal_processing/journal_flow_2_step_local.ipynb to notebook\n",
      "[NbConvertApp] Writing 58989 bytes to notebooks/journal_processing/journal_flow_2_step_local.ipynb\n"
     ]
    },
    {
     "name": "stdout",
     "output_type": "stream",
     "text": [
      "local copy of notebook exists: notebooks/journal_processing/journal_processing2_local.ipynb\n",
      "Stripping outputs from: notebooks/journal_processing/journal_processing2.ipynb\n"
     ]
    },
    {
     "name": "stderr",
     "output_type": "stream",
     "text": [
      "[NbConvertApp] Converting notebook notebooks/journal_processing/journal_processing2.ipynb to notebook\n",
      "[NbConvertApp] Writing 22690 bytes to notebooks/journal_processing/journal_processing2.ipynb\n"
     ]
    },
    {
     "name": "stdout",
     "output_type": "stream",
     "text": [
      "local copy of notebook exists: notebooks/journal_processing/journal_cleaning2_local.ipynb\n",
      "Stripping outputs from: notebooks/journal_processing/journal_cleaning2.ipynb\n"
     ]
    },
    {
     "name": "stderr",
     "output_type": "stream",
     "text": [
      "[NbConvertApp] Converting notebook notebooks/journal_processing/journal_cleaning2.ipynb to notebook\n",
      "[NbConvertApp] Writing 18581 bytes to notebooks/journal_processing/journal_cleaning2.ipynb\n"
     ]
    },
    {
     "name": "stdout",
     "output_type": "stream",
     "text": [
      "Copying: notebooks/journal_processing/journal_processing5_local.ipynb -> notebooks/journal_processing/journal_processing5_local_local.ipynb\n",
      "Stripping outputs from: notebooks/journal_processing/journal_processing5_local.ipynb\n"
     ]
    },
    {
     "name": "stderr",
     "output_type": "stream",
     "text": [
      "[NbConvertApp] Converting notebook notebooks/journal_processing/journal_processing5_local.ipynb to notebook\n",
      "[NbConvertApp] Writing 29604 bytes to notebooks/journal_processing/journal_processing5_local.ipynb\n"
     ]
    },
    {
     "name": "stdout",
     "output_type": "stream",
     "text": [
      "local copy of notebook exists: notebooks/journal_processing/journal_processing4_local.ipynb\n",
      "Stripping outputs from: notebooks/journal_processing/journal_processing4.ipynb\n"
     ]
    },
    {
     "name": "stderr",
     "output_type": "stream",
     "text": [
      "[NbConvertApp] Converting notebook notebooks/journal_processing/journal_processing4.ipynb to notebook\n",
      "[NbConvertApp] Writing 23506 bytes to notebooks/journal_processing/journal_processing4.ipynb\n"
     ]
    },
    {
     "name": "stdout",
     "output_type": "stream",
     "text": [
      "Copying: notebooks/journal_processing/gpt_interface_testing_local.ipynb -> notebooks/journal_processing/gpt_interface_testing_local_local.ipynb\n",
      "Stripping outputs from: notebooks/journal_processing/gpt_interface_testing_local.ipynb\n"
     ]
    },
    {
     "name": "stderr",
     "output_type": "stream",
     "text": [
      "[NbConvertApp] Converting notebook notebooks/journal_processing/gpt_interface_testing_local.ipynb to notebook\n",
      "[NbConvertApp] Writing 6786 bytes to notebooks/journal_processing/gpt_interface_testing_local.ipynb\n"
     ]
    },
    {
     "name": "stdout",
     "output_type": "stream",
     "text": [
      "local copy of notebook exists: notebooks/journal_processing/journal_flow_2_step2_local.ipynb\n",
      "Stripping outputs from: notebooks/journal_processing/journal_flow_2_step2.ipynb\n"
     ]
    },
    {
     "name": "stderr",
     "output_type": "stream",
     "text": [
      "[NbConvertApp] Converting notebook notebooks/journal_processing/journal_flow_2_step2.ipynb to notebook\n",
      "[NbConvertApp] Writing 38447 bytes to notebooks/journal_processing/journal_flow_2_step2.ipynb\n"
     ]
    },
    {
     "name": "stdout",
     "output_type": "stream",
     "text": [
      "local copy of notebook exists: notebooks/journal_processing/journal_processing6_local.ipynb\n",
      "Stripping outputs from: notebooks/journal_processing/journal_processing6.ipynb\n"
     ]
    },
    {
     "name": "stderr",
     "output_type": "stream",
     "text": [
      "[NbConvertApp] Converting notebook notebooks/journal_processing/journal_processing6.ipynb to notebook\n",
      "[NbConvertApp] Writing 29135 bytes to notebooks/journal_processing/journal_processing6.ipynb\n"
     ]
    },
    {
     "name": "stdout",
     "output_type": "stream",
     "text": [
      "Copying: notebooks/journal_processing/journal_processing7_local.ipynb -> notebooks/journal_processing/journal_processing7_local_local.ipynb\n",
      "Stripping outputs from: notebooks/journal_processing/journal_processing7_local.ipynb\n"
     ]
    },
    {
     "name": "stderr",
     "output_type": "stream",
     "text": [
      "[NbConvertApp] Converting notebook notebooks/journal_processing/journal_processing7_local.ipynb to notebook\n",
      "[NbConvertApp] Writing 23182 bytes to notebooks/journal_processing/journal_processing7_local.ipynb\n"
     ]
    },
    {
     "name": "stdout",
     "output_type": "stream",
     "text": [
      "Copying: notebooks/journal_processing/journal_cleaning1_local.ipynb -> notebooks/journal_processing/journal_cleaning1_local_local.ipynb\n",
      "Stripping outputs from: notebooks/journal_processing/journal_cleaning1_local.ipynb\n"
     ]
    },
    {
     "name": "stderr",
     "output_type": "stream",
     "text": [
      "[NbConvertApp] Converting notebook notebooks/journal_processing/journal_cleaning1_local.ipynb to notebook\n",
      "[NbConvertApp] Writing 19470 bytes to notebooks/journal_processing/journal_cleaning1_local.ipynb\n"
     ]
    },
    {
     "name": "stdout",
     "output_type": "stream",
     "text": [
      "local copy of notebook exists: notebooks/journal_processing/journal_processing8_local.ipynb\n",
      "Stripping outputs from: notebooks/journal_processing/journal_processing8.ipynb\n"
     ]
    },
    {
     "name": "stderr",
     "output_type": "stream",
     "text": [
      "[NbConvertApp] Converting notebook notebooks/journal_processing/journal_processing8.ipynb to notebook\n",
      "[NbConvertApp] Writing 23291 bytes to notebooks/journal_processing/journal_processing8.ipynb\n"
     ]
    },
    {
     "name": "stdout",
     "output_type": "stream",
     "text": [
      "Copying: notebooks/journal_processing/journal_processing2_local.ipynb -> notebooks/journal_processing/journal_processing2_local_local.ipynb\n",
      "Stripping outputs from: notebooks/journal_processing/journal_processing2_local.ipynb\n"
     ]
    },
    {
     "name": "stderr",
     "output_type": "stream",
     "text": [
      "[NbConvertApp] Converting notebook notebooks/journal_processing/journal_processing2_local.ipynb to notebook\n",
      "[NbConvertApp] Writing 22690 bytes to notebooks/journal_processing/journal_processing2_local.ipynb\n"
     ]
    },
    {
     "name": "stdout",
     "output_type": "stream",
     "text": [
      "Copying: notebooks/journal_processing/journal_flow_2_step2_local.ipynb -> notebooks/journal_processing/journal_flow_2_step2_local_local.ipynb\n",
      "Stripping outputs from: notebooks/journal_processing/journal_flow_2_step2_local.ipynb\n"
     ]
    },
    {
     "name": "stderr",
     "output_type": "stream",
     "text": [
      "[NbConvertApp] Converting notebook notebooks/journal_processing/journal_flow_2_step2_local.ipynb to notebook\n",
      "[NbConvertApp] Writing 38447 bytes to notebooks/journal_processing/journal_flow_2_step2_local.ipynb\n"
     ]
    },
    {
     "name": "stdout",
     "output_type": "stream",
     "text": [
      "Copying: notebooks/journal_processing/journal_processing8_local.ipynb -> notebooks/journal_processing/journal_processing8_local_local.ipynb\n",
      "Stripping outputs from: notebooks/journal_processing/journal_processing8_local.ipynb\n"
     ]
    },
    {
     "name": "stderr",
     "output_type": "stream",
     "text": [
      "[NbConvertApp] Converting notebook notebooks/journal_processing/journal_processing8_local.ipynb to notebook\n",
      "[NbConvertApp] Writing 23291 bytes to notebooks/journal_processing/journal_processing8_local.ipynb\n"
     ]
    },
    {
     "name": "stdout",
     "output_type": "stream",
     "text": [
      "Copying: notebooks/journal_processing/journal_processing1_local.ipynb -> notebooks/journal_processing/journal_processing1_local_local.ipynb\n",
      "Stripping outputs from: notebooks/journal_processing/journal_processing1_local.ipynb\n"
     ]
    },
    {
     "name": "stderr",
     "output_type": "stream",
     "text": [
      "[NbConvertApp] Converting notebook notebooks/journal_processing/journal_processing1_local.ipynb to notebook\n",
      "[NbConvertApp] Writing 51952 bytes to notebooks/journal_processing/journal_processing1_local.ipynb\n"
     ]
    },
    {
     "name": "stdout",
     "output_type": "stream",
     "text": [
      "local copy of notebook exists: notebooks/journal_processing/journal_flow_2_step_local.ipynb\n",
      "Stripping outputs from: notebooks/journal_processing/journal_flow_2_step.ipynb\n"
     ]
    },
    {
     "name": "stderr",
     "output_type": "stream",
     "text": [
      "[NbConvertApp] Converting notebook notebooks/journal_processing/journal_flow_2_step.ipynb to notebook\n",
      "[NbConvertApp] Writing 58989 bytes to notebooks/journal_processing/journal_flow_2_step.ipynb\n"
     ]
    },
    {
     "name": "stdout",
     "output_type": "stream",
     "text": [
      "local copy of notebook exists: notebooks/journal_processing/full_journal_process_local.ipynb\n",
      "Stripping outputs from: notebooks/journal_processing/full_journal_process.ipynb\n"
     ]
    },
    {
     "name": "stderr",
     "output_type": "stream",
     "text": [
      "[NbConvertApp] Converting notebook notebooks/journal_processing/full_journal_process.ipynb to notebook\n",
      "[NbConvertApp] Writing 15720 bytes to notebooks/journal_processing/full_journal_process.ipynb\n"
     ]
    },
    {
     "name": "stdout",
     "output_type": "stream",
     "text": [
      "Copying: notebooks/journal_processing/journal_cleaning2_local.ipynb -> notebooks/journal_processing/journal_cleaning2_local_local.ipynb\n",
      "Stripping outputs from: notebooks/journal_processing/journal_cleaning2_local.ipynb\n"
     ]
    },
    {
     "name": "stderr",
     "output_type": "stream",
     "text": [
      "[NbConvertApp] Converting notebook notebooks/journal_processing/journal_cleaning2_local.ipynb to notebook\n",
      "[NbConvertApp] Writing 18581 bytes to notebooks/journal_processing/journal_cleaning2_local.ipynb\n"
     ]
    },
    {
     "name": "stdout",
     "output_type": "stream",
     "text": [
      "Copying: notebooks/journal_processing/journal_processing4_local.ipynb -> notebooks/journal_processing/journal_processing4_local_local.ipynb\n",
      "Stripping outputs from: notebooks/journal_processing/journal_processing4_local.ipynb\n"
     ]
    },
    {
     "name": "stderr",
     "output_type": "stream",
     "text": [
      "[NbConvertApp] Converting notebook notebooks/journal_processing/journal_processing4_local.ipynb to notebook\n",
      "[NbConvertApp] Writing 23506 bytes to notebooks/journal_processing/journal_processing4_local.ipynb\n"
     ]
    },
    {
     "name": "stdout",
     "output_type": "stream",
     "text": [
      "local copy of notebook exists: notebooks/journal_processing/gpt_interface_testing_local.ipynb\n",
      "Stripping outputs from: notebooks/journal_processing/gpt_interface_testing.ipynb\n"
     ]
    },
    {
     "name": "stderr",
     "output_type": "stream",
     "text": [
      "[NbConvertApp] Converting notebook notebooks/journal_processing/gpt_interface_testing.ipynb to notebook\n",
      "[NbConvertApp] Writing 6786 bytes to notebooks/journal_processing/gpt_interface_testing.ipynb\n"
     ]
    },
    {
     "name": "stdout",
     "output_type": "stream",
     "text": [
      "Copying: notebooks/video_processing/tests_and_prototypes/omp_fix.ipynb -> notebooks/video_processing/tests_and_prototypes/omp_fix_local.ipynb\n",
      "Stripping outputs from: notebooks/video_processing/tests_and_prototypes/omp_fix.ipynb\n"
     ]
    },
    {
     "name": "stderr",
     "output_type": "stream",
     "text": [
      "[NbConvertApp] Converting notebook notebooks/video_processing/tests_and_prototypes/omp_fix.ipynb to notebook\n",
      "[NbConvertApp] Writing 3432 bytes to notebooks/video_processing/tests_and_prototypes/omp_fix.ipynb\n"
     ]
    },
    {
     "name": "stdout",
     "output_type": "stream",
     "text": [
      "Copying: notebooks/video_processing/tests_and_prototypes/postprocessing_tests2.ipynb -> notebooks/video_processing/tests_and_prototypes/postprocessing_tests2_local.ipynb\n",
      "Stripping outputs from: notebooks/video_processing/tests_and_prototypes/postprocessing_tests2.ipynb\n"
     ]
    },
    {
     "name": "stderr",
     "output_type": "stream",
     "text": [
      "[NbConvertApp] Converting notebook notebooks/video_processing/tests_and_prototypes/postprocessing_tests2.ipynb to notebook\n",
      "[NbConvertApp] Writing 22779 bytes to notebooks/video_processing/tests_and_prototypes/postprocessing_tests2.ipynb\n"
     ]
    },
    {
     "name": "stdout",
     "output_type": "stream",
     "text": [
      "Copying: notebooks/video_processing/tests_and_prototypes/audio_extract_testing3.ipynb -> notebooks/video_processing/tests_and_prototypes/audio_extract_testing3_local.ipynb\n",
      "Stripping outputs from: notebooks/video_processing/tests_and_prototypes/audio_extract_testing3.ipynb\n"
     ]
    },
    {
     "name": "stderr",
     "output_type": "stream",
     "text": [
      "[NbConvertApp] Converting notebook notebooks/video_processing/tests_and_prototypes/audio_extract_testing3.ipynb to notebook\n",
      "[NbConvertApp] Writing 11135 bytes to notebooks/video_processing/tests_and_prototypes/audio_extract_testing3.ipynb\n"
     ]
    },
    {
     "name": "stdout",
     "output_type": "stream",
     "text": [
      "Copying: notebooks/video_processing/tests_and_prototypes/audio_extract_testing1.ipynb -> notebooks/video_processing/tests_and_prototypes/audio_extract_testing1_local.ipynb\n",
      "Stripping outputs from: notebooks/video_processing/tests_and_prototypes/audio_extract_testing1.ipynb\n"
     ]
    },
    {
     "name": "stderr",
     "output_type": "stream",
     "text": [
      "[NbConvertApp] Converting notebook notebooks/video_processing/tests_and_prototypes/audio_extract_testing1.ipynb to notebook\n",
      "[NbConvertApp] Writing 16224 bytes to notebooks/video_processing/tests_and_prototypes/audio_extract_testing1.ipynb\n"
     ]
    },
    {
     "name": "stdout",
     "output_type": "stream",
     "text": [
      "Copying: notebooks/video_processing/tests_and_prototypes/audio_extract_testing4.ipynb -> notebooks/video_processing/tests_and_prototypes/audio_extract_testing4_local.ipynb\n",
      "Stripping outputs from: notebooks/video_processing/tests_and_prototypes/audio_extract_testing4.ipynb\n"
     ]
    },
    {
     "name": "stderr",
     "output_type": "stream",
     "text": [
      "[NbConvertApp] Converting notebook notebooks/video_processing/tests_and_prototypes/audio_extract_testing4.ipynb to notebook\n",
      "[NbConvertApp] Writing 8265 bytes to notebooks/video_processing/tests_and_prototypes/audio_extract_testing4.ipynb\n"
     ]
    },
    {
     "name": "stdout",
     "output_type": "stream",
     "text": [
      "Copying: notebooks/video_processing/tests_and_prototypes/audio_extract_testing2.ipynb -> notebooks/video_processing/tests_and_prototypes/audio_extract_testing2_local.ipynb\n",
      "Stripping outputs from: notebooks/video_processing/tests_and_prototypes/audio_extract_testing2.ipynb\n"
     ]
    },
    {
     "name": "stderr",
     "output_type": "stream",
     "text": [
      "[NbConvertApp] Converting notebook notebooks/video_processing/tests_and_prototypes/audio_extract_testing2.ipynb to notebook\n",
      "[NbConvertApp] Writing 5442 bytes to notebooks/video_processing/tests_and_prototypes/audio_extract_testing2.ipynb\n"
     ]
    },
    {
     "name": "stdout",
     "output_type": "stream",
     "text": [
      "Copying: notebooks/video_processing/tests_and_prototypes/post_processing_tests.ipynb -> notebooks/video_processing/tests_and_prototypes/post_processing_tests_local.ipynb\n",
      "Stripping outputs from: notebooks/video_processing/tests_and_prototypes/post_processing_tests.ipynb\n"
     ]
    },
    {
     "name": "stderr",
     "output_type": "stream",
     "text": [
      "[NbConvertApp] Converting notebook notebooks/video_processing/tests_and_prototypes/post_processing_tests.ipynb to notebook\n",
      "[NbConvertApp] Writing 10017 bytes to notebooks/video_processing/tests_and_prototypes/post_processing_tests.ipynb\n"
     ]
    }
   ],
   "source": [
    "dir_to_mod = Path(\"./notebooks\")  # set path to \"./notebooks\" to run on local notebooks dir.\n",
    "\n",
    "if not dir_to_mod.exists():\n",
    "    print(\"Directory not found. Aborted.\")\n",
    "else:\n",
    "    print(\"Running dry run first...\")\n",
    "\n",
    "    if prep_notebooks(dir_to_mod, dry_run=True):\n",
    "\n",
    "        if proceed := get_user_confirmation(\n",
    "            \"\\nProceed with these changes? (y/N)\", default=False\n",
    "        ):\n",
    "            print(\"\\nExecuting changes...\")\n",
    "            prep_notebooks(dir_to_mod, dry_run=False)\n",
    "        else:\n",
    "            print(\"Aborted.\")"
   ]
  },
  {
   "cell_type": "code",
   "execution_count": 30,
   "metadata": {},
   "outputs": [
    {
     "data": {
      "text/plain": [
       "True"
      ]
     },
     "execution_count": 30,
     "metadata": {},
     "output_type": "execute_result"
    }
   ],
   "source": [
    "\".ipynb_checkpoints\" in str(Path(\"notebooks/testing/.ipynb_checkpoints/yt_fetch_test-checkpoint.ipynb\"))"
   ]
  },
  {
   "cell_type": "code",
   "execution_count": 29,
   "metadata": {},
   "outputs": [
    {
     "data": {
      "text/plain": [
       "'notebooks/testing/.ipynb_checkpoints/yt_fetch_test-checkpoint.ipynb'"
      ]
     },
     "execution_count": 29,
     "metadata": {},
     "output_type": "execute_result"
    }
   ],
   "source": [
    "str(Path(\"notebooks/testing/.ipynb_checkpoints/yt_fetch_test-checkpoint.ipynb\"))"
   ]
  },
  {
   "cell_type": "code",
   "execution_count": null,
   "metadata": {},
   "outputs": [],
   "source": []
  }
 ],
 "metadata": {
  "kernelspec": {
   "display_name": "tnh-scholar-test",
   "language": "python",
   "name": "python3"
  },
  "language_info": {
   "codemirror_mode": {
    "name": "ipython",
    "version": 3
   },
   "file_extension": ".py",
   "mimetype": "text/x-python",
   "name": "python",
   "nbconvert_exporter": "python",
   "pygments_lexer": "ipython3",
   "version": "3.12.4"
  }
 },
 "nbformat": 4,
 "nbformat_minor": 2
}
