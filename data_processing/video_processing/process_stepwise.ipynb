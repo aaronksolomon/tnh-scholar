{
 "cells": [
  {
   "cell_type": "code",
   "execution_count": 1,
   "metadata": {},
   "outputs": [],
   "source": [
    "from pathlib import Path\n",
    "import argparse\n",
    "import os\n",
    "import sys\n",
    "import logging\n",
    "import logging_config\n",
    "from logging_config import setup_logging, get_child_logger\n",
    "from video_processing import (\n",
    "    get_youtube_urls_from_csv, \n",
    "    download_audio_yt,\n",
    "    detect_boundaries, \n",
    "    split_audio_at_boundaries,\n",
    "    split_audio_on_silence, \n",
    "    process_audio_chunks\n",
    ")"
   ]
  },
  {
   "cell_type": "code",
   "execution_count": 3,
   "metadata": {},
   "outputs": [],
   "source": [
    "setup_logging(log_filename=\"transcription_process_stepwise.log\")\n",
    "logger = get_child_logger(\"yt_transcribe\")"
   ]
  },
  {
   "cell_type": "code",
   "execution_count": 5,
   "metadata": {},
   "outputs": [],
   "source": [
    "# Parameter settings\n",
    "output_base_dir = Path(\"./processed_videos/video_transcriptions\")\n",
    "start_time = None\n",
    "url = None\n",
    "prompt = \"Dharma, Deer Park, Thay, Thich Nhat Hanh, Bodhicitta, Bodhisattva, Mahayana\"\n",
    "translate_flag = False\n",
    "max_chunk_duration = 7 * 60 # 7 minutes\n",
    "process_setting = \"transcribe\"\n",
    "\n",
    "# Directory settings\n",
    "video_name = \"Taking Care of Our Fear ｜ Br. Phap Luu ｜ 2024-11-06\"\n",
    "if video_name:\n",
    "    video_output_dir = output_base_dir / video_name\n",
    "    video_output_dir.mkdir(parents=True, exist_ok=True)\n",
    "    chunks_dir = video_output_dir / \"chunks\"\n",
    "    chunks_dir.mkdir(parents=True, exist_ok=True)"
   ]
  },
  {
   "cell_type": "code",
   "execution_count": 7,
   "metadata": {},
   "outputs": [],
   "source": [
    "# Step 1: Download audio\n",
    "if process_setting == \"download\":\n",
    "    logger.info(\"Downloading audio...\")\n",
    "    tmp_audio_file = download_audio_yt(url, output_base_dir, start_time=start_time)\n",
    "    logger.info(f\"Downloaded audio file: {tmp_audio_file}\")\n",
    "\n",
    "    video_name = tmp_audio_file.stem  # Use the stem of the audio file (title without extension)\n",
    "\n",
    "    # Move the tmp audio file to the video directory\n",
    "    audio_file = video_output_dir / tmp_audio_file.name\n",
    "\n",
    "    try:\n",
    "        tmp_audio_file.rename(audio_file)  \n",
    "        logger.info(f\"Moved audio file to: {audio_file}\")\n",
    "    except Exception as e:\n",
    "        logger.error(f\"Failed to move audio file to {video_output_dir}: {e}\")\n",
    "        # Ensure the code gracefully handles issues here, reassigning to the original tmp path.\n",
    "        audio_file = tmp_audio_file"
   ]
  },
  {
   "cell_type": "code",
   "execution_count": 8,
   "metadata": {},
   "outputs": [],
   "source": [
    "if process_setting == \"split\":\n",
    "    # Step 2: Detect boundaries\n",
    "    logger.info(\"Detecting boundaries...\")\n",
    "    boundaries = detect_boundaries(audio_file)\n",
    "    logger.info(f\"Boundaries generated.\")\n",
    "\n",
    "    # Step 3: Split audio into chunks\n",
    "    logger.info(\"Splitting audio into chunks...\")\n",
    "    split_audio_at_boundaries(\n",
    "        audio_file=audio_file,\n",
    "        boundaries=boundaries, \n",
    "        output_dir=chunks_dir, \n",
    "        max_duration=max_chunk_duration\n",
    "    )\n",
    "    logger.info(f\"Audio chunks saved to: {chunks_dir}\")"
   ]
  },
  {
   "cell_type": "code",
   "execution_count": 9,
   "metadata": {},
   "outputs": [
    {
     "name": "stderr",
     "output_type": "stream",
     "text": [
      "2024-12-14 06:18:27,608 - tnh.yt_transcribe - \u001b[36mINFO\u001b[0m - Transcribing audio chunks...\u001b[0m\n",
      "2024-12-14 06:18:27,610 - tnh.video_processing - \u001b[36mINFO\u001b[0m - Audio files found:\n",
      "\t['processed_videos/video_transcriptions/Taking Care of Our Fear ｜ Br. Phap Luu ｜ 2024-11-06/chunks/chunk_1.mp3', 'processed_videos/video_transcriptions/Taking Care of Our Fear ｜ Br. Phap Luu ｜ 2024-11-06/chunks/chunk_2.mp3']\u001b[0m\n",
      "2024-12-14 06:18:27,611 - tnh.video_processing - \u001b[36mINFO\u001b[0m - Processing chunk_1.mp3...\u001b[0m\n",
      "2024-12-14 06:18:27,612 - tnh.video_processing - \u001b[36mINFO\u001b[0m - Speech transcript parameters: file=processed_videos/video_transcriptions/Taking Care of Our Fear ｜ Br. Phap Luu ｜ 2024-11-06/chunks/chunk_1.mp3, model=whisper-1, response_format=verbose_json, mode=transcribe\n",
      "\tprompt='Dharma, Deer Park, Thay, Thich Nhat Hanh, Bodhicitta, Bodhisattva, Mahayana'\u001b[0m\n",
      "2024-12-14 06:18:54,003 - tnh.video_processing - \u001b[33mWARNING\u001b[0m - Known UserWarning in OPENAI .to_dict() float serialization caught and ignored.\u001b[0m\n",
      "2024-12-14 06:18:54,005 - tnh.video_processing - \u001b[36mINFO\u001b[0m - Processing chunk_2.mp3...\u001b[0m\n",
      "2024-12-14 06:18:54,006 - tnh.video_processing - \u001b[36mINFO\u001b[0m - Speech transcript parameters: file=processed_videos/video_transcriptions/Taking Care of Our Fear ｜ Br. Phap Luu ｜ 2024-11-06/chunks/chunk_2.mp3, model=whisper-1, response_format=verbose_json, mode=transcribe\n",
      "\tprompt='Dharma, Deer Park, Thay, Thich Nhat Hanh, Bodhicitta, Bodhisattva, Mahayana'\u001b[0m\n",
      "2024-12-14 06:19:03,978 - tnh.video_processing - \u001b[33mWARNING\u001b[0m - Known UserWarning in OPENAI .to_dict() float serialization caught and ignored.\u001b[0m\n",
      "2024-12-14 06:19:03,981 - tnh.video_processing - \u001b[36mINFO\u001b[0m - Stitched transcription saved to processed_videos/video_transcriptions/Taking Care of Our Fear ｜ Br. Phap Luu ｜ 2024-11-06/Taking Care of Our Fear ｜ Br. Phap Luu ｜ 2024-11-06.txt\u001b[0m\n",
      "2024-12-14 06:19:03,982 - tnh.video_processing - \u001b[36mINFO\u001b[0m - Full transcript objects saved to processed_videos/video_transcriptions/Taking Care of Our Fear ｜ Br. Phap Luu ｜ 2024-11-06/Taking Care of Our Fear ｜ Br. Phap Luu ｜ 2024-11-06.jsonl\u001b[0m\n",
      "2024-12-14 06:19:03,984 - tnh.yt_transcribe - \u001b[36mINFO\u001b[0m - Transcription completed for None\u001b[0m\n",
      "2024-12-14 06:19:03,985 - tnh.yt_transcribe - \u001b[36mINFO\u001b[0m - Transcript saved to: processed_videos/video_transcriptions/Taking Care of Our Fear ｜ Br. Phap Luu ｜ 2024-11-06/Taking Care of Our Fear ｜ Br. Phap Luu ｜ 2024-11-06.txt\u001b[0m\n",
      "2024-12-14 06:19:03,986 - tnh.yt_transcribe - \u001b[36mINFO\u001b[0m - Raw transcription data saved to: processed_videos/video_transcriptions/Taking Care of Our Fear ｜ Br. Phap Luu ｜ 2024-11-06/Taking Care of Our Fear ｜ Br. Phap Luu ｜ 2024-11-06.jsonl\u001b[0m\n"
     ]
    }
   ],
   "source": [
    "# Step 4: Transcribe audio chunks\n",
    "if process_setting == \"transcribe\":\n",
    "    logger.info(\"Transcribing audio chunks...\")\n",
    "    transcript_file = video_output_dir / f\"{video_name}.txt\"\n",
    "    jsonl_file = video_output_dir / f\"{video_name}.jsonl\"\n",
    "\n",
    "    process_audio_chunks(\n",
    "        directory=chunks_dir,\n",
    "        output_file=transcript_file,\n",
    "        jsonl_file=jsonl_file,\n",
    "        prompt=prompt,\n",
    "        translate=translate_flag\n",
    "    )\n",
    "\n",
    "    logger.info(f\"Transcription completed for {url}\")\n",
    "    logger.info(f\"Transcript saved to: {transcript_file}\")\n",
    "    logger.info(f\"Raw transcription data saved to: {jsonl_file}\")"
   ]
  },
  {
   "cell_type": "code",
   "execution_count": null,
   "metadata": {},
   "outputs": [],
   "source": []
  }
 ],
 "metadata": {
  "kernelspec": {
   "display_name": "tnh-scholar",
   "language": "python",
   "name": "python3"
  },
  "language_info": {
   "codemirror_mode": {
    "name": "ipython",
    "version": 3
   },
   "file_extension": ".py",
   "mimetype": "text/x-python",
   "name": "python",
   "nbconvert_exporter": "python",
   "pygments_lexer": "ipython3",
   "version": "3.11.10"
  }
 },
 "nbformat": 4,
 "nbformat_minor": 2
}
