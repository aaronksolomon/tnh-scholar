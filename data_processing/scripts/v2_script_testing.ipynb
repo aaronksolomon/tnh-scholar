{
 "cells": [
  {
   "cell_type": "code",
   "execution_count": 1,
   "metadata": {},
   "outputs": [
    {
     "ename": "ImportError",
     "evalue": "cannot import name 'process_book' from 'v2_cleaning_scripts' (/Users/phapman/Desktop/tnh-scholar/data_processing/scripts/v2_cleaning_scripts.py)",
     "output_type": "error",
     "traceback": [
      "\u001b[0;31m---------------------------------------------------------------------------\u001b[0m",
      "\u001b[0;31mImportError\u001b[0m                               Traceback (most recent call last)",
      "Cell \u001b[0;32mIn[1], line 1\u001b[0m\n\u001b[0;32m----> 1\u001b[0m \u001b[38;5;28;01mfrom\u001b[39;00m \u001b[38;5;21;01mv2_cleaning_scripts\u001b[39;00m \u001b[38;5;28;01mimport\u001b[39;00m process_book\n",
      "\u001b[0;31mImportError\u001b[0m: cannot import name 'process_book' from 'v2_cleaning_scripts' (/Users/phapman/Desktop/tnh-scholar/data_processing/scripts/v2_cleaning_scripts.py)"
     ]
    }
   ],
   "source": [
    "from v2_cleaning_scripts import process_book"
   ]
  },
  {
   "cell_type": "code",
   "execution_count": null,
   "metadata": {},
   "outputs": [],
   "source": []
  }
 ],
 "metadata": {
  "kernelspec": {
   "display_name": "tnh-scholar",
   "language": "python",
   "name": "python3"
  },
  "language_info": {
   "codemirror_mode": {
    "name": "ipython",
    "version": 3
   },
   "file_extension": ".py",
   "mimetype": "text/x-python",
   "name": "python",
   "nbconvert_exporter": "python",
   "pygments_lexer": "ipython3",
   "version": "3.11.10"
  }
 },
 "nbformat": 4,
 "nbformat_minor": 2
}
