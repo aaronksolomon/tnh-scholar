{
 "cells": [
  {
   "cell_type": "code",
   "execution_count": 1,
   "metadata": {
    "trusted": false
   },
   "outputs": [],
   "source": [
    "from lxml import etree\n",
    "import json"
   ]
  },
  {
   "cell_type": "code",
   "execution_count": 2,
   "metadata": {
    "trusted": false
   },
   "outputs": [],
   "source": [
    "from data_processing.text_processing import get_text_from_file, set_working_directory, get_working_directory\n",
    "from data_processing.text_processing import normalize_quotes"
   ]
  },
  {
   "cell_type": "code",
   "execution_count": 3,
   "metadata": {
    "trusted": false
   },
   "outputs": [],
   "source": [
    "from data_processing.text_processing import write_text_to_file"
   ]
  },
  {
   "cell_type": "code",
   "execution_count": 4,
   "metadata": {
    "trusted": false
   },
   "outputs": [],
   "source": [
    "from data_processing.gpt_processing import token_count, set_api_client, get_api_client\n",
    "from data_processing.gpt_processing import generate_messages, run_immediate_chat_process, create_jsonl_file_for_batch\n"
   ]
  },
  {
   "cell_type": "code",
   "execution_count": null,
   "metadata": {
    "trusted": false
   },
   "outputs": [],
   "source": [
    "CHUNK_TOKEN_LIMIT = 15000"
   ]
  },
  {
   "cell_type": "code",
   "execution_count": 6,
   "metadata": {
    "trusted": false
   },
   "outputs": [],
   "source": [
    "set_working_directory(\"../../processed_journal_data\")"
   ]
  },
  {
   "cell_type": "code",
   "execution_count": 32,
   "metadata": {
    "trusted": false
   },
   "outputs": [],
   "source": [
    "raw_text_xml = get_text_from_file(\"phat-giao-viet-nam-1956-25-26/full_OCR_text_phat-giao-viet-nam-1956-25-26.xml\")"
   ]
  },
  {
   "cell_type": "code",
   "execution_count": 21,
   "metadata": {
    "trusted": false
   },
   "outputs": [
    {
     "data": {
      "text/plain": [
       "14705"
      ]
     },
     "execution_count": 21,
     "metadata": {},
     "output_type": "execute_result"
    }
   ],
   "source": [
    "token_count(raw_text_xml) "
   ]
  },
  {
   "cell_type": "code",
   "execution_count": 27,
   "metadata": {},
   "outputs": [],
   "source": [
    "tx_comp = get_text_from_file(\"phat-giao-viet-nam-1956-24/journal_1956_24_translation_full.xml\")"
   ]
  },
  {
   "cell_type": "code",
   "execution_count": 28,
   "metadata": {},
   "outputs": [
    {
     "data": {
      "text/plain": [
       "21557"
      ]
     },
     "execution_count": 28,
     "metadata": {},
     "output_type": "execute_result"
    }
   ],
   "source": [
    "token_count(tx_comp)"
   ]
  },
  {
   "cell_type": "markdown",
   "metadata": {},
   "source": [
    "cleaning prompts:\n",
    "\n",
    "You are an intelligent, meticulous, and consistent world expert at cleaning OCR generated Vietnamese text. You are cleaning text from an old 1950's Buddhist Journal.  The text will be given in XML, and the output text should be matching XML. Your goal is to minimally modify the text to generate a cleaned version, removing extraneous text, incomplete words, and formatting markers, to get a clean text. You can use patterns in the text blocks (given in pages) to infer patterns in the text layout. You can use the semantic meaning of the text to infer corrections but strive to make minimal semantic changes. You can also add diacritical marks if they are missing or clearly inaccurate. It's important to note the degree of confidence you have in each cleaning step, and each cleaning step should be noted, with other possible interpretations listed.\n",
    "\n",
    "You are an intelligent, meticulous, and consistent world expert at cleaning OCR-generated Vietnamese text. You are cleaning text from an old 1950's Buddhist Journal.  The text will be given in XML, and the output text should be in matching XML. Your goal is to minimally modify the text to generate a cleaned version, removing extraneous text, incomplete words, and formatting markers, to get a clean text. You can use patterns in the text blocks (given by page) to infer patterns in the text layout. You can use the semantic meaning of the text to infer corrections—but strive to make minimal semantic changes. You can also add diacritical marks if they are missing or clearly inaccurate. It's important to note the degree of confidence you have in each cleaning step, and each cleaning step should be noted as concisely as possible, also listing other possible interpretations of the text.\n",
    "\n",
    "You are an intelligent, meticulous, and consistent world expert at cleaning OCR-generated Vietnamese text. You are cleaning text from a 1950's Buddhist Journal. The text will be given in XML, and the output text should be in matching XML. Your goal is to minimally modify the text to generate a cleaned version. Do not remove any text from the body of the text (unless it is clearly an extraneous mark). Any text that cannot be corrected from context or other means should still be included as bracketed [] text. However, formatting markers at the beginning and end of the text can be adjusted or removed as needed. You can use patterns in the text blocks (given by page) to infer patterns in the text layout. You can use the semantic meaning of the text to infer corrections—but strive to make no semantic changes. You can also add diacritical marks if they are missing or clearly inaccurate. It's important to note the degree of confidence you have in each cleaning step (high, medium or low). Each cleaning step should be noted as concisely as possible, also listing other possible interpretations of the text. This particular text has a publication marker \"Phat Giao Viet Nam\" and publishing mark near the end of each page of text. The publication mark is something like \"Tu Vien HUE QUANG\" and is very difficult for the OCR to process. Text corresponding to these marks can be ommitted.\n",
    "\n",
    "You are an intelligent, meticulous, and consistent world expert at cleaning OCR-generated Vietnamese text. You are cleaning text from a 1950's Buddhist Journal. The text will be given in XML, and the output text should be in matching XML. Your goal is to minimally modify the text to generate a cleaned version. Do not remove any text from the body of the text (unless it is clearly an extraneous mark). Any text that cannot be corrected from context or other means should still be included as bracketed [] text. However, formatting markers at the beginning and end of the text can be adjusted or removed as needed. You can use patterns in the text blocks (given by page) to infer patterns in the text layout. You can use the semantic meaning of the text to infer corrections—but strive to make no semantic changes. You can also add diacritical marks if they are missing or clearly inaccurate. It's important to note the degree of confidence you have in each cleaning step (high, medium or low). Each cleaning step should be noted as concisely as possible, also listing other possible interpretations of the text. This particular text has a title marker \"Phat Giao Viet Nam\" and publishing mark near the end of each page of text. The publication mark is something like \"Tu Vien HUE QUANG\" + \"TRUNG TAM DICH THUAT HAN NOM\" and is very difficult for the OCR to process. Text corresponding to these marks and page numbers can be ommitted."
   ]
  },
  {
   "cell_type": "code",
   "execution_count": 34,
   "metadata": {},
   "outputs": [],
   "source": [
    "def split_xml_text(text, chunk_token_limit=10000):\n",
    "    \"\"\"\n",
    "    Splits an XML document into chunks based on <page> tags, ensuring that no chunk\n",
    "    exceeds the specified token limit.\n",
    "    \n",
    "    Parameters:\n",
    "    - text (str): The XML document as a string.\n",
    "    - chunk_token_limit (int): The maximum number of tokens allowed per chunk.\n",
    "    \n",
    "    Returns:\n",
    "    - List[str]: A list of XML strings, each representing a chunk of pages.\n",
    "    \"\"\"\n",
    "    \n",
    "    # Convert text to bytes\n",
    "    text_bytes = text.encode(\"utf-8\")\n",
    "    \n",
    "    try:\n",
    "        # Parse the XML text into an element tree\n",
    "        root = etree.fromstring(text_bytes)\n",
    "    except etree.XMLSyntaxError as e:\n",
    "        # Extract the line number and column number of the error\n",
    "        line_number = e.lineno\n",
    "        column_number = e.offset\n",
    "        \n",
    "        # Find the offending line in the original text\n",
    "        lines = text.splitlines()\n",
    "        error_line = lines[line_number - 1] if line_number - 1 < len(lines) else \"Unknown line\"\n",
    "        \n",
    "        print(f\"XMLSyntaxError: {e}\")\n",
    "        print(f\"Offending line {line_number}, column {column_number}: {error_line}\")\n",
    "        return []  # Return an empty list or handle the error as needed\n",
    "    \n",
    "    # Initialize variables for splitting the document\n",
    "    chunks = []\n",
    "    current_chunk = []\n",
    "    current_token_count = 0\n",
    "    \n",
    "    # Iterate over each <page> element in the document\n",
    "    for page in root.findall(\".//page\"):\n",
    "        # Convert the current page element back to a string for token counting\n",
    "        page_text = etree.tostring(page, encoding=\"unicode\")\n",
    "        \n",
    "        # Count the tokens in the page\n",
    "        page_token_count = token_count(page_text)\n",
    "        \n",
    "        # Check if adding this page would exceed the token limit for the current chunk\n",
    "        if current_token_count + page_token_count > chunk_token_limit:\n",
    "            # If so, finalize the current chunk and start a new one\n",
    "            chunks.append(\"<document>\" + \"\".join(current_chunk) + \"</document>\")\n",
    "            current_chunk = []\n",
    "            current_token_count = 0\n",
    "            \n",
    "        # Add the current page to the chunk\n",
    "        current_chunk.append(page_text)\n",
    "        current_token_count += page_token_count\n",
    "    \n",
    "    # Add the last chunk if there are remaining pages\n",
    "    if current_chunk:\n",
    "        chunks.append(\"<document>\" + \"\".join(current_chunk) + \"</document>\")\n",
    "    \n",
    "    return chunks"
   ]
  },
  {
   "cell_type": "code",
   "execution_count": 35,
   "metadata": {
    "trusted": false
   },
   "outputs": [],
   "source": [
    "chunks = split_xml_text(raw_text_xml, chunk_token_limit=15000)"
   ]
  },
  {
   "cell_type": "code",
   "execution_count": 36,
   "metadata": {},
   "outputs": [
    {
     "data": {
      "text/plain": [
       "1"
      ]
     },
     "execution_count": 36,
     "metadata": {},
     "output_type": "execute_result"
    }
   ],
   "source": [
    "len(chunks)"
   ]
  },
  {
   "cell_type": "code",
   "execution_count": 69,
   "metadata": {
    "trusted": false
   },
   "outputs": [],
   "source": [
    "system_message_clean = \"\"\"\n",
    "You are an intelligent, meticulous, and consistent world expert at cleaning OCR-generated Vietnamese text. \n",
    "You are cleaning text from a 1950's Buddhist Journal. The text will be given in XML, and the output text should be in matching XML. \n",
    "Your goal is to minimally modify the text to generate a cleaned version. Do not remove any text from the main body of the text.  \n",
    "However, formatting markers at the beginning and end of the text can be adjusted or removed as needed for clarity. \n",
    "You can use patterns in the text blocks (given by page) to infer patterns in the text.\n",
    "You can use the semantic meaning of the text to infer corrections—but make no semantic changes. \n",
    "You can also add diacritical marks if they are missing or clearly inaccurate. \n",
    "Do not change any proper names, except to add missing diacritical marks if the context is clear.  \n",
    "This particular text has a title marker: \"Phat Giao Viet Nam,\" and also a publishing mark near the end of each page of text. \n",
    "The publishing mark is something like \"Tu Vien HUE QUANG\" + \"TRUNG TAM DICH THUAT HAN NOM\" and is very difficult for the OCR to process. \n",
    "Text corresponding to these marks (or part thereof) and page numbers can be omitted.\n",
    "Output the corrected text only with no comments.\n",
    "\"\"\""
   ]
  },
  {
   "cell_type": "code",
   "execution_count": 38,
   "metadata": {
    "trusted": false
   },
   "outputs": [
    {
     "data": {
      "text/plain": [
       "276"
      ]
     },
     "execution_count": 38,
     "metadata": {},
     "output_type": "execute_result"
    }
   ],
   "source": [
    "token_count(system_message_clean)"
   ]
  },
  {
   "cell_type": "code",
   "execution_count": 39,
   "metadata": {
    "trusted": false
   },
   "outputs": [
    {
     "data": {
      "text/plain": [
       "0.0306"
      ]
     },
     "execution_count": 39,
     "metadata": {},
     "output_type": "execute_result"
    }
   ],
   "source": [
    "306 / 10000"
   ]
  },
  {
   "cell_type": "code",
   "execution_count": 40,
   "metadata": {
    "trusted": false
   },
   "outputs": [],
   "source": [
    "user_message_string_clean = \"\"\"Clean this text: {text}\"\"\""
   ]
  },
  {
   "cell_type": "code",
   "execution_count": 41,
   "metadata": {
    "trusted": false
   },
   "outputs": [],
   "source": [
    "def user_wrap_function_clean(text_block):\n",
    "    return user_message_string_clean.format(text=text_block)"
   ]
  },
  {
   "cell_type": "code",
   "execution_count": 44,
   "metadata": {
    "trusted": false
   },
   "outputs": [],
   "source": [
    "message_sequence_clean = generate_messages(system_message_clean, user_wrap_function_clean, chunks)"
   ]
  },
  {
   "cell_type": "code",
   "execution_count": 46,
   "metadata": {
    "trusted": false
   },
   "outputs": [
    {
     "data": {
      "text/plain": [
       "<openai.OpenAI at 0x12662ee90>"
      ]
     },
     "execution_count": 46,
     "metadata": {},
     "output_type": "execute_result"
    }
   ],
   "source": [
    "set_api_client()"
   ]
  },
  {
   "cell_type": "code",
   "execution_count": 68,
   "metadata": {
    "trusted": false
   },
   "outputs": [],
   "source": [
    "system_message_translate = \"\"\"\n",
    "You are translating as Thich Nhat Hanh from Vietnamese to English for your experienced students. \n",
    "The text is from 1956-1958. Use the title: \"Vietnamese Buddhist Journal.\" \n",
    "You want experienced students to understand the material and its historical and cultural context—in particular, as it relates to the life and teaching of Thich Nhat Hanh.\n",
    "\n",
    "- Give a full translation that flows well in English in the style of Thich Nhat Hanh.\n",
    "- Format the text clearly and cleanly.\n",
    "- Add additional standard XML metadata tags that will improve the readability and clarity of the content.\n",
    "- Example tags: <p> <section> <title> <contents> <author> <li> <i> <b> etc.\n",
    "- Titles and XML sections should also be translated.\n",
    "- Do not make comments within the text itself. \n",
    "- Leave all names of people in original Vietnamese with diacritics. \n",
    "- Each section of the text should have its own dedicated `<footnotes>` section.\n",
    "- Use Footnotes liberally to explain elements of Vietnamese Buddhism or Buddhism in general, elements of Vietnamese culture and history, or elements relative to the life, teachings, and practice of Thich Nhat Hanh.\n",
    "- When translating complex terms (Sanskrit, Sino-Vietnamese, or French) mark these with <i></i> tags and give an explanation in the footnotes.  \n",
    "- For any terms footnoted, give the original Vietnamese, Sino-Vietnamese, Sanskrit, or French in the footnote. \n",
    "- If a paragraph logically spans two pages, it can be moved to the most logical page to allow translation to flow seamlessly.\n",
    "- Due to the size of the journal, you may be translating a piece of the document in the middle which will be split from its preceding pages or sections.\n",
    "\n",
    "Footnote Formatting:\n",
    "Inline Footnote Markers:\n",
    "   - In the main text, footnotes should be marked numerically in brackets, such as “[1]”.\n",
    "   - Enclose each inline footnote marker within a `<footnote number=\"n\">` tag, where `n` is the footnote number.\n",
    "   - Example of a footnoted paragraph:\n",
    "     `<p>This paragraph has a footnote. This is a sentence in the paragraph.</p><footnote number=\"1\">[1]</footnote>`\n",
    "\n",
    "Footnote Section:\n",
    "   - At the end of each logical section, include a `<footnotes>` section where explanations for each footnote of that section are listed.\n",
    "   - Each footnote in the `<footnotes>` section should use a `<footnote number=\"n\">` tag, with `n` matching the inline reference.\n",
    "\n",
    "Numbering:\n",
    "   - Footnote numbers should restart at 1 for each new section of text.\n",
    "\n",
    "Here's an example of text containing two footnotes, followed by its `<footnotes>`:\n",
    "\n",
    "`<p>This is the first sentence with a footnote.<footnote number=\"1\">[1]</footnote> Here is another statement that needs a footnote.<footnote number=\"2\">[2]</footnote></p>`\n",
    "\n",
    "`<footnotes>`\n",
    "    `<footnote number=\"1\">This is the explanation of the first footnote</footnote>`\n",
    "    `<footnote number=\"2\">This is the explanation of the second footnote</footnote>`\n",
    "`</footnotes>` \n",
    "\"\"\""
   ]
  },
  {
   "cell_type": "code",
   "execution_count": 49,
   "metadata": {
    "trusted": false
   },
   "outputs": [],
   "source": [
    "user_message_string_translate = \"\"\"{text}\"\"\""
   ]
  },
  {
   "cell_type": "code",
   "execution_count": 50,
   "metadata": {
    "trusted": false
   },
   "outputs": [],
   "source": [
    "def user_wrap_function_translate(text_block):\n",
    "    return user_message_string_translate.format(text=text_block)"
   ]
  },
  {
   "cell_type": "markdown",
   "metadata": {},
   "source": [
    "### Setup a batch processes for all cleaning:"
   ]
  },
  {
   "cell_type": "code",
   "execution_count": null,
   "metadata": {},
   "outputs": [],
   "source": []
  },
  {
   "cell_type": "markdown",
   "metadata": {},
   "source": [
    "### clean the the chunks:"
   ]
  },
  {
   "cell_type": "code",
   "execution_count": null,
   "metadata": {
    "trusted": false
   },
   "outputs": [
    {
     "name": "stdout",
     "output_type": "stream",
     "text": [
      "cleaning chunk: 0\n",
      "cleaning chunk: 1\n"
     ]
    }
   ],
   "source": [
    "chunks = split_xml_text(raw_text_xml, chunk_token_limit=11000)\n",
    "clean_message_seq = generate_messages(system_message_clean, user_wrap_function_clean, chunks)\n",
    "cleaned_data = []\n",
    "translated_chunks = []\n",
    "for i, msgs in enumerate(clean_message_seq):\n",
    "    print(f\"cleaning chunk: {i}\")\n",
    "    completion_clean = run_immediate_chat_process(msgs)\n",
    "    if completion_clean:\n",
    "        clean_response = completion_clean.choices[0].message.content\n",
    "        cleaned_data.append(clean_response)\n",
    "    else:\n",
    "        break\n",
    "        print(\"failed.\")\n",
    "\n"
   ]
  },
  {
   "cell_type": "code",
   "execution_count": 53,
   "metadata": {},
   "outputs": [
    {
     "data": {
      "text/plain": [
       "2"
      ]
     },
     "execution_count": 53,
     "metadata": {},
     "output_type": "execute_result"
    }
   ],
   "source": [
    "len(chunks)"
   ]
  },
  {
   "cell_type": "code",
   "execution_count": 55,
   "metadata": {},
   "outputs": [],
   "source": [
    "full_cleaned_text = \"\\n\".join(cleaned_data)"
   ]
  },
  {
   "cell_type": "code",
   "execution_count": 56,
   "metadata": {},
   "outputs": [
    {
     "name": "stdout",
     "output_type": "stream",
     "text": [
      "<document>\n",
      "  <page page=\"1\">\n",
      "    PHẬT GIÁO VIỆT-NAM NGUYỆT-SAN \n",
      "    SỐ 25 VÀ 26 ĐẶC SAN KỶ NIỆM MỞ ĐẦU NĂM THỨ BA \n",
      "  </page>\n",
      "  <page page=\"2\">\n",
      "    MỤC LỤC \n",
      "    Phật-giáo Việt Nam bước sang năm thứ ba \n",
      "    Chân lý không nằm trong văn tự, danh ngôn \n",
      "    Ngài Huyền-Trang đi Ấn Độ thỉnh Kinh (tiếp theo) \n",
      "    Bản-ngã là gì? \n",
      "    Vì sao cần thống nhất Phật-giáo Việt Nam \n",
      "    Cuộc phỏng vấn của Nguyệt-san P.G.V.N. về vấn đề thống nhất \n",
      "    Kế hoạch thống nhất nghi lễ \n",
      "    Chia gia-lài (Mẩu chuyện Đạo) \n",
      "    Tài liệu Gia đình Phật-tử (tiếp theo) \n",
      "    Cần hiểu đúng đắn ý-nghĩa Gia đình Phật tử \n",
      "    Hai ngọn bền (Truyện ngắn) \n",
      "    Thích Đức-Nhuận \n",
      "    Thích Tâm Châu \n",
      "    Thích Tâm-Thọ \n",
      "    Nguyễn-Khắc-Từ \n",
      "    Hùng-Khanh \n",
      "    Minh-Hữu \n",
      "    Đạo Phật tại Mỹ \n",
      "    Viên-Minh \n",
      "    Cội Phúc (Truyện ngắn được giải khuyến khích) \n",
      "    Lê-Văn \n",
      "  </page>\n",
      "  <page page=\"4\">\n",
      "    PHẬT-GIÁO VIỆT-NAM BƯỚC SANG NĂM THỨ BA \n",
      "    Với số 25 và 26 Phật giáo Việt Nam Nguyệt san bước sang năm thứ ba \n",
      "    Trước khi bước những bước tiến mới, chúng ta hãy tạm dừng lại, nhìn lui con đường vừa qua để rút những bài học kinh nghiệm ngõ hầu tiến tới một cách mạnh mẽ, tránh những vấp ngã và tiến đúng với mục tiêu đã nêu lên. \n",
      "    Sau mấy tháng điều tra dư luận độc giả, chúng tôi đã góp được một mớ ý-kiến về Nguyệt-san Phật-giáo Việt-Nam như sau: Một số độc giả than phiền rằng nội-dung của “Phật giáo Việt Nam” quả cô đọng, chật-hẹp, chỉ quanh-quẩn trong phạm vi Đạo Phật, nên không thể phổ biến rộng ra ngoài được, và chỉ dành riêng cho một số Phật tử thuần thành. Điều ấy quả đúng như thế. Mặc dù chúng tôi đã cố gắng mở rộng phạm vi nhưng không thể mở toang biên giới của nó được, vì cái tên “Phật-giáo Việt-Nam” đã đóng khung nó lại rồi. Mỗi tạp chí đều có một chủ trương, một nội dung, một mục-đích riêng biệt mà cái tên, là cái nhãn hiệu, đã nói lên một phần nào cái tinh thần của nó. Muốn cải đổi, mở rộng phạm vi, trước tiên, phải thay đổi cái tên của Nguyệt-san. Nhưng cái tên “Phật-giáo Việt-Nam” lại không thể thay đổi được, vì nó đã do Hội nghị của Tổng hội Phật-giáo Việt Nam đặt ra và đã được chính quyền cho phép. \n",
      "    Muốn đổi tên phải chờ Hội-nghị của Tổng hội họp lại và phải xin phép lại với chính-quyền. Vả lại, mục-đích của “Phật-giáo Việt Nam Nguyệt san” khi ra đời là nhằm nói lên cái tiếng nói của Tổng hội, cái tinh thần, hoài bão, chương trình, triển vọng của Tổng hội và nhất là, báo cáo, xúc-tiến sự thống-nhất thật sự của Phật giáo nước nhà. Vậy với những độc-giả mong muốn mở rộng, cải đổi nội dung, chúng tôi chỉ còn biết xin ghi lại ý-kiến ấy để vận động xuất bản một tạp-chí khác. \n",
      "    Một số độc giả bảo rằng bài vở quá cao, khó tiếp nhận được, chỉ bổ ích cho một tổ ít có trình độ học hỏi khá, còn phần đông đọc không thấy có lợi ích thiết thực. Nhưng một số độc-giả khác lại bảo rằng một tờ báo của Tổng hội cần phải nói lên được cái cao siêu thâm-thiết của Đạo, nếu không, thì có khác gì một tạp chí khác! Thật là phức-tạp! Tuy thế, số người bảo rằng tờ Phật-giáo Việt-Nam đọc khó hiểu chiếm phần đông. Vì thế, chúng tôi sẽ cố gắng làm vui lòng quý vị độc-giả bằng cách đề cập đến những vấn đề thường-thức với một lối viết giản dị, dễ dãi, thông thường. Nhưng chúng tôi không thể bỏ qua dư luận của số người khác, là không thể hoàn toàn hạ thấp bài vở của Nguyệt san, mà phải dành cho nó một số trang nói lên được ý-nghĩa cao thâm của đạo, phản ánh được một phần nào cái giá trị của cơ quan văn hóa của Tổng hội Phật-giáo Việt Nam.\n",
      "    Một số độc giả thanh-niên, nhất là các anh chị em Huynh trưởng gia đình Phật-tử, lại phàn nàn rằng tờ Phật-giáo Việt-Nam không đề cập, hay đề cập ít quá đến vấn đề thanh niên, Gia đình Phật-tử. Điều ấy cũng có phần đúng. Từ đây chúng tôi sẽ bổ khuyết sự thiếu sót ấy. \n",
      "  </page>\n",
      "  <page page=\"5\">\n",
      "    Về phần hình thức, một số các độc-giả lớn tuổi yêu cầu in chữ to hơn để đọc khỏi mệt mắt. Điều này, trong mấy số gần đây, chúng tôi đã điều-chỉnh, nên có một số bài đã được sắp đặt rõ ràng với thứ chữ tương đối lớn hơn. Nhưng vấn đề này tùy thuộc một phần lớn vào nhà in: hoặc vì chữ ít, hoặc vì cần in gấp, nên không đủ chữ lớn để lên khuôn một lúc. Nhưng dù sao chúng tôi cũng sẽ cố gắng trong phạm vi có thể được, để làm vừa lòng quý vị độc giả. \n",
      "    Tóm lại, bước sang năm thứ ba, chúng tôi sẽ ghi nhớ những ý kiến đúng đắn của quý vị độc giả và sẽ cố gắng thực hiện cho được để đáp lại thịnh tình quý hóa của quý vị đối với “Phật-giáo Việt-Nam” và để xây dựng một ngày một vững-chắc cơ-quan ngôn luận chung của Phật-giáo Việt-Nam chúng ta.\n",
      "  </page>\n",
      "  <page page=\"6\">\n",
      "    CHÂN-LÝ KHÔNG NẰM TRONG VĂN-TỰ, DANH-NGÔN \n",
      "    Đạo Phật chủ-trương rằng đã là chân-lý tuyệt đối thì không thể dùng ngôn-ngữ, văn tự để phổ-biến được. Chân-lý là một cái gì vô biên, vô cùng, không có giới-hạn; trí-óc, văn tự, ngôn ngữ là những gì có biên giới, hữu-hạn; đem cái biên-giới mà so với cái vô cùng, đem cái hữu hạn mà dựng cái vô hạn thì không thể nào làm được. Chân lý trong sách vở không phải là chân-lý, mà văn tự, danh-ngôn chỉ là bóng dáng đã đổi hình của chân-lý mà thôi. Bóng dáng còn không phải là chân-lý, huống chi cái bóng dáng đã đổi hình!\n",
      "    Đức Phật thuyết-pháp trong 49 năm, vậy mà Ngài vẫn nói: “Trong 49 năm, ta chưa hề nói được một chữ”. Câu nói ấy chứng tỏ rằng chân-lý không thể miêu tả được bằng ngôn-ngữ, văn-tự. Kinh Kim-Cang dạy rằng chứng ngộ mà nói chứng ngộ, đó không phải là chứng ngộ thực. Phật lại dạy: “Y theo kinh điển mà giải nghĩa thì oan cho tam thế chư Phật, nhưng lìa kinh ra một chữ thì lại đồng với ma-thuyết”. Kinh điển, lời dạy của bậc giác-ngộ không phải là chân lý mà chỉ là phương-tiện chỉ bày chân-lý, nói đó là chân-lý thì oan cho tam thế chư Phật. Nhưng thảm hại thay! Nếu bảo đó không phải là chân-lý mà bỏ những phương tiện chỉ bày chân-lý tức là kinh điển ra thì chẳng còn gì nữa, ngoài những tà thuyết của Ma-vương. Phật lại dạy: “Chân-lý như mặt trăng, giáo-lý của ta dạy như ngón tay để chỉ mặt trăng cho các người thấy. Đừng làm ngón tay ta là mặt trăng”. Thâm-thiết bao nhiêu mà cũng là đầy đủ bao nhiêu, cái ví dụ của đức Phật.\n",
      "  </page>\n",
      "  <page page=\"7\">\n",
      "    Cái nóng lạnh của một ly nước trà, hình dáng kỳ-quái của những con vi trùng, những cái không phải là khó hiểu lắm ấy mà chúng ta vẫn không thể cảm giác hoặc thấy biết được một cách trực tiếp, huống chi là chân-lý mà chỉ có trí giác-ngộ, xa lìa mê lầm mới có thể thân chứng! Bởi vậy, nghiên cứu để hiểu được chân lý là quan-niệm sai lầm. Nghiên cứu để tự mình thực hành theo, nương vào đấy mà chứng nhập chân-lý, ấy mới là mục-đích của người học Phật. Cho nên, mục đích của tâm-lý-học Phật-giáo không phải chỉ là để thỏa-mãn trí tìm tòi của thể-nhân, mà là để làm một phương tiện chỉ bày chân-lý, vì tự nó, nó không phải là chân lý thực thụ, nó cũng cần đến ngôn-ngữ, văn-tự và dựa lên trí tỷ-lượng của chúng-sinh để biểu lộ.\n",
      "    Tất cả những gì được biểu lộ bằng lời nói thì chỉ là những phương tiện, mà phương-tiện như đã nói ở trên, không phải chân lý; không phải là chân-lý tức là sai lầm. Chân lý là cái gì nhỉ? Ở đời, ta chưa có thể “nói” được một chân-lý. Hai với hai là bốn ư? Chưa chắc như vậy: hai củ khoai và hai củ cà rốt vĩnh viễn vẫn là hai củ khoai và hai củ cà rốt, không bao giờ có thể là “bốn” được. Hai đồng với hai hào vĩnh viễn là hai đồng hai chứ không phải là bốn đồng hay bốn hào được. Thế thì chân-lý ở đâu? Ở ngoài ngôn ngữ và văn tự! Mâu-thuẫn biểu hiện cho sai lầm. Phật học chủ trương rằng trong tất cả các quan-niệm đều chứa sẵn mâu thuẫn và nếu là chân-lý thì đó chỉ là chân lý tương-đối. Sự mâu-thuẫn ấy dẫn dắt đến sự phủ-định quan-niệm về chân lý và đem ta đến một tầng chân-lý cao hơn, song vẫn ở trong tương-đối. Đã là chân lý tương đối thì trong ấy vẫn có sự mâu-thuẫn để rồi có sự phủ-định chân-lý ấy, và do đó, đưa sự hiểu biết tiến dần lên. Song cái hiểu biết do suy luận, do ngữ ngôn biểu lộ, dù cao đến đâu vẫn không phải là chân-lý tuyệt đối.\n",
      "  </page>\n",
      "  <page page=\"8\">\n",
      "    Lời dạy của đức Giác ngộ, tuy không phải là chân-lý tuyệt đối nhưng quý giá vô cùng, vì nó là phương tiện chỉ bày chân-lý. Nó không phải là chân lý vì nó được biểu-lộ bằng ngôn-ngữ, văn tự và là một phương-tiện thiết lập theo trí suy-lượng của chúng-sinh, xa lìa nó ra, ta không thể vịn vào đâu mà chứng nhập chân-lý. Bởi thế học để hiểu, để thấy, để đừng chấp chân-lý là cái có thể do ngôn ngữ, văn-tự biểu lộ được, để nương theo phương-tiện mà đi vào cứu-cánh. Trong khi tìm học, ta có quyền nghi, và nghi là một lợi khí cho sự giác-ngộ và có nghi mới có ngộ. Đừng mù-quáng chấp theo văn-tự, phải dùng trí-óc, phải dùng công phu thực-hành để quán chiếu chân-lý, để được giác-ngộ. Phương-pháp của tâm-lý-học Phật-giáo khác với phương pháp của tâm-lý học Tây phương ở chỗ ấy. Cốt nhất là đừng cố chấp, vì chính sự cố chấp che mất chân lý, mà phá cố chấp thì đồng-thời phá trừ những tham vọng mê mờ che lấp trực-giác.\n",
      "    Hai người bạn đứng chơi, một người xây mặt về hướng Nam, một người xây mặt về hướng Bắc. Người xây mặt về hướng Nam thấy con chim phụng hoàng bay qua liền bảo bạn: “Này anh, quay lại xem chim Phụng-Hoàng”. Nhưng anh vừa nói xong, chim đã biến mất. Thế là người bạn kia cứ một mực đòi xem cho được chim phụng hoàng, muốn biết hình thể nó như thế nào, lông cánh ra làm sao. Người này không biết làm sao, mô tả thế nào cũng không gợi được trong trí óc bạn một con chim phụng hoàng và dù có gợi được, cũng là gợi nên một hình ảnh khác, nhiều khi phản lại cả hình ảnh chính nữa. Cuối cùng, anh ta phải vẽ một con chim Phụng-Hoàng thật đẹp, thật giống (thì cũng cứ cho thật giống đi), tung lên trời. Thế là anh kia chấp chặt đó là chim Phụng-Hoàng. “Phụng-Hoàng là con chim giấy ấy, chim giấy ấy là Phụng-Hoàng, chim giấy và Phụng-Hoàng là một”. Chết chưa! Sao lại là một được? Con chim giấy không phải là Phụng-Hoàng mà chỉ là một phương tiện để chỉ Phụng-Hoàng thật thôi. Nếu nó là Phụng-Hoàng thật sao nó không bay? Chấp nó là Phụng-Hoàng, cái kiến-chấp ấy nguy hiểm biết bao nhiêu, đời nào có thể biết được Phụng-Hoàng. Nếu bỏ cố-chấp ấy đi, do thấy chim giấy mà biết được rằng: “Chim Phụng-Hoàng vừa bay qua cũng giống như thế, nhưng nó là một con khác, một con chim bay được, hót được và bay qua mất rồi. Còn con chim này chỉ là con chim giấy, một phương tiện để chỉ bày cho ta hiểu ấy thôi.” Thấy được như vậy mới thật là không cố chấp. Học Phật cũng giống như thế. Có điều là sẽ thấy được chính chân-lý bằng trực-giác, chứ không phải chỉ thấy có chân lý bằng suy lượng, như anh kia chẳng được thấy bằng mắt chim Phụng-Hoàng thật, mà chỉ thấy được bằng ý thức, suy đạt căn cứ trên mắt thấy và trên con chim giấy.\n",
      "  </page>\n",
      "  <page page=\"10\">\n",
      "    NGÀI HUYỀN-TRANG ĐI ẤN-ĐỘ THỈNH KINH PHẬT \n",
      "    Nguyên văn chữ Hán của DƯƠNG ĐÌNH PHÚC \n",
      "    NÔNG-SƠN DỊCH \n",
      "    (Tiếp theo số 23 và 24) \n",
      "    Ngài Huyền-Trang trước hết đến nước Y-Lạn-Na-Bát-Đa, Nam Ấn-Độ (nay là một giải đất Áo-Lý-Tát) ở đó một năm, lại theo học đại sư Đát-Tha-Yết-Đa và Thầy Tăng-Yết-Đề, sau đó lặn lội qua làn sóng cả ra Ấn-Độ-Dương, đến Khoa-La-Man-Đắc, đến nước Tăng-Già-La (đảo Tích-Lan), từ Tăng Già-La đến nước Yết-Lăng-Ca, Nam Ấn-Độ (nay là Mã Đích-Lạp-Tư, Nam Ấn-Độ), từ đấy lại đi về tây 1800 dặm đến nước Nam Kiều-Tát-La (nay là giải đất Hải-Đắc-Lạp-Ba ở Trung Ấn-Độ), lại vào địa phận Trung Ấn-Độ, theo học Bà-La-Môn (nhân-minh-học). Lại trải qua vô số sự gian hiểm, ngài thẳng đến nước Lang-Yết-La phía cực Tây Ấn-Độ (nay là giải đất Khách-Lạp-Xuy, Tây Ấn Độ) mới trở lại nước Bát-Phật-Đa-La, Bắc Ấn-Độ (không tra khảo được), ở nơi này học tập 2 năm, lại đến núi Trường-Lâm ở 2 năm nữa, học môn học “Duy-thức” và nghiên cứu diễn Tứ phê đà cùng là Thiên-văn, Địa-lý.\n",
      "    Trong thời-gian trọn 6 năm, ngài Huyền-Trang đi khắp Đông, Nam, Tây, Bắc, Trung 5 xứ Ấn Độ, lớn nhỏ hơn 100 nước, xem đọc hết sách các nước. Sau 6 năm ấy, ngài lại về chùa Na Lan-Đà, ông Giới-Hiền sai ngài chủ trì các khóa giảng, giảng Nhiếp-Đại-Thừa-Luận cho tăng-chúng cả chùa ấy. Bấy giờ có một đại đệ tử của ngài Giới-Hiền tên là Sư-Tử Quang không phục ngài Huyền-Trang làm chủ-giảng, ngài Huyền-Trang làm ra 3.000 bài tụng “Hội-tôn-luận”, giảng rõ đại nghĩa, ngài Giới-Hiền cùng tất cả tăng-chúng trong chùa ai cũng duyệt-phục, khen ngợi, Sư-Tử-Quang tự biết học thức của mình không đủ, xấu hổ bỏ đi, một năm sau mới dám trở về.\n",
      "  </page>\n",
      "  <page page=\"11\">\n",
      "    Khi ấy có một người phái Bà-La-Môn viết ra hơn 40 điều lý-luận treo ở cửa chùa Na-Lan-Đà và ngông cuồng nói rằng: nếu ai nạn-phá được một điều nào, thì cam chịu cho người ấy cắt đầu để nhận lỗi. Không một người nào dám bẻ bác, ngài Huyền-Trang xin ngài Giới-Hiền và các vị cao tăng làm chứng, cùng người Bà-La-Môn đó biện-luận, tối hậu người đó không thể không cúi đầu nhận lỗi được, yêu cầu theo lời hứa trước mà thi hành, ngài cười bảo rằng: “đã là hòa thượng thì không bao giờ giết người, anh định để vong hồn anh theo dõi bên mình ta hay sao?”\n",
      "    9) Nước Yết-Nhược-Cúc-Am là nước lớn ở Trung Ấn-Độ, lịch-sử Ấn-độ gọi là Cúc-Đa-Vương-Triều, là thời kỳ tối thịnh Trung-Cổ Văn-Hóa Ấn-Độ, bấy giờ vua Giới-Nhật trị-vì, Phật giáo mở mang rộng lớn. Có một lần vua Giới-Nhật thân-chinh nước Cung-Ngự-Đà (nay không rõ địa-danh) đi qua nước Ô-Đồ, vị Tiêu-Thừa nước đó là Đại sư Ban-Nhã Các-Đá làm ra 700 bài tụng “Phá Đại Thừa-Luận” chê phái Đại-Thừa là “không hoa ngoại đạo”. Vua Giới Nhật viết thư cho ngài Giới Hiền, xin cho người đến nước Ô-Đồ biện-luận phải trái, ngài Giới-Hiền nhận được thư, thương lượng cùng mọi người, chọn ngài Huyền-Trang cùng Sư-Tử-Quang, Hải-Tuệ, Trí-Quang, 4 người đại đệ tử đến nơi đó biện luận; ba người sau này khiếp-đảm, ngài Huyền-Trang không chút sợ hãi, tìm được nguyên-văn 700 bài tụng “Phá đại thừa luận”, hết lòng nghiên-cứu, gặp chỗ nào nghi-nan thì cùng người Bà-La-Môn được ngài thuyết-phục lúc trước, thảo luận, tối-hậu viết ra thành 1600 bài tụng “Phá-Ác-Kiến-luận” trình ngài Giới-Hiền và tuyên bố các đồ chúng; ai đọc qua cũng phải thán-phục.\n",
      "  </page>\n",
      "  <page page=\"12\">\n",
      "    Lúc ấy quốc-vương nước Già-Ma-Lũ-Ba, Đông Ấn-Độ (tỉnh Mạnh-Gia-Lạp, Ấn-Độ ngày nay) là Cưu-Ma-La, ngưỡng mộ ngài Huyền-Trang, sai sứ đến thỉnh ngài đi; khi vua Giới-Nhật về nước, nghe nói ngài đã đến nước Già-Ma-Lũ-Ba rồi, lập tức đến nước ấy thỉnh ngài về. Vì muốn làm rõ rệt giáo nghĩa phái Đại-thừa, sau khi, hai quốc-vương hội kiến với nhau, bàn nhau thông tri cho các nước, mở một đại hội ở thành Khúc-Nữ, thủ đô nước Yết-Nhược-Cúc-Am, để chiêm ngưỡng nghị luận, phong-thái vị học giả Trung-Quốc.\n",
      "    Tháng 12 năm ấy mở đại hội, nhân sĩ các xứ không quản xa xôi có đến 18 quốc-vương 18 nước 5 ở xứ Ấn-Độ, 3.000 tăng-lữ thuộc hết giáo lý Đại thừa và Tiểu thừa, hơn 2.000 người Bà-La-Môn và Ni-Càn ngoại đạo, cùng tăng lữ chùa Na-Lan-Đà hơn 1.000 người đến dự hội. Những người dự hội đó tuy học phái, tín-ngưỡng khác nhau, nhưng đều là người tu dưỡng, học vấn cao-sâu, có thể nói là một đại tập hội của văn hóa danh nhân cả Ấn-Độ, là một đại thịnh hội thứ nhất trên lịch-sử Ấn-Độ.\n",
      "    Đại hội mở đầu, ngày thứ nhất, sau khi cử hành nghi tiết Phật-giáo, mọi người thỉnh ngài Huyền-Trang thượng tọa làm luận chủ (chủ-tịch), bắt đầu giảng kinh nghĩa, ngài ở trước công chúng tuyên bố bài “Phá-ác-kiến luận” và rất nhiều lý-luận phái Đại-thừa, ngoài ra còn viết một bản “Phá ác kiến-luận” treo ở trước cửa nhà họp để tuyên-bố đại chúng. Sau khi treo bài luận đó, từ sáng đến chiều, không một người nào dám đến biện luận. Đại-hội tiếp tục 18 ngày, mọi người nghe ngài nghị luận, nêu ra những nghĩa-lý rất tỉnh-tế, thủy chung không một người nào đề ra được một ý kiến phản đối. Hôm tan hội, quốc vương Giới-Nhật tặng ngài 10.000 tiền vàng, 30.000 bạc, 100 áo lông, quốc vương 18 nước đều tặng rất nhiều phẩm vật quý báu, ngài không chịu nhận mảy may nào.\n",
      "  </page>\n",
      "  <page page=\"13\">\n",
      "    Theo cổ-pháp Ấn-Độ: phàm người nào biện luận đắc thắng, được cưỡi voi du-hành khắp nơi một vòng: bấy giờ 18 quốc vương mời ngài cưỡi con voi lớn trên che dù hoa, sai rất nhiều thần dân đi hộ vệ hai bên, đối đại chúng hò reo đi một vòng, để tỏ tinh thần độc lập không nhờ cậy vào ai, chỉ lấy nghĩa phục được người, của vị Pháp-sư Trung quốc; ngài hai ba lần khiêm nhượng không chịu lên mình voi, mọi người đều nói đó là thành pháp từ xưa để lại, không nên trái lệ, ngài mới phải nghe theo. Quần chúng đi hai bên nâng đỡ áo cà sa của ngài lên, hướng về phía dân chúng nói to lên rằng: “vị Pháp sư Trung quốc lập luận về ý-nghĩa phái Đại thừa, phá tan mọi ý-kiến khác, luôn trong 18 ngày không ai dám tranh luận, hết thảy chúng ta phải nhận biết”. Rồi toàn thể công trường hoan hô nhảy múa, dâng hương tung hoa. Từ đấy ai ai cũng phải công nhận ngài là nhà học-giả oai-quyền, tiếng tăm dậy đất 5 xứ Ấn-Độ.\n",
      "    Kế đó, ngài lại cùng vua Giới-Nhật đến đại thí trường của nước Bát-La-Ra-Già tổ chức đại hội “Vô-Già” 75 ngày, dự hội có đến 50.000 người, là một tập-hội lớn nhất từ trước đến giờ chưa từng có của Ấn-Độ từ khi có lịch-sử đến giờ.\n",
      "  </page>\n",
      "  <page page=\"14\">\n",
      "    10) Lúc ngài tham gia đại hội “Vô-Già” đã 48 tuổi, ở Ấn-Độ vừa đúng 13 năm. Trong thời gian đó không một giờ phút nào ngài không nhớ tổ-quốc. Mục-đích du học và lấy kinh của ngài đã đạt rồi, mới nghĩ mau mau trở về tổ quốc; tuy nhân dân Ấn-Độ cố nài ở lại, nhưng chí về nước của ngài đã kiên-quyết, đến năm 643 (năm Trinh-Quán 17 đời Đường) dùng voi lớn cùng ngựa chở 657 bộ kinh Phật và các phẩm vật khác khởi hành.\n",
      "    Đường về nước của ngài lại đi trọn 2 năm nữa, trong khi đi, lại trải bao nỗi gian-nguy, may mà kinh-điển lạc mất rất ít, chỉ có khi đến nước Đát-Thoa-Thi-La (ở tây-nam nước Già-Thấp Di-La hơn 50 dặm), lúc qua sông lớn Tín-Độ, thuyền đến giữa dòng sông hốt nhiên sóng gió nổi lên dữ dội, làm lay động cả thân thuyền, mất 50 bó kinh và các hạt giống hoa quả lạ Ấn-Độ. Khi ấy vua nước Già Thấp-Di-Ta ở thành Ô-Đạc-Già-Hán, trên sông Tín-Độ, bất ngờ mà gặp ngài Huyền-Trang, cùng đi với ngài và sai người tiễn đưa ngài đến rừng tây núi Đại Tuyết (nay là núi Hưng-Đô-Khố-Thập), ngài men theo rừng đến được Thông-Lĩnh, rồi đến nước Khư-Sa (nay là Xơ-Lặc, xứ Tân-Cương), nước Kiếp-Bàn-Đà (Cáp-Thập-Khổ-Nhĩ, xứ Tân-Cương), nước Tích-Cư-Già (Cáp-Nhĩ-Cát-Lý-Khắc, xứ Tân-Cương), bị vua nước Vu-Điền giữ lại ở đó bảy tháng. Trong thời gian ấy ngài nhất diện giảng dạy dân chúng Vu-Điền, nhất diện sai người đến các nước Khuất-Chi, Khu Sa dò tìm sao lại các bản kinh thất lạc khi qua sông.\n",
      "  </page>\n",
      "  <page page=\"15\">\n",
      "    Vì trước kia ngài trốn ra ngoại quốc, là hành-vi trái phép; nhưng lòng vẫn nhớ tổ-quốc và cũng đã về đến địa giới tổ-quốc rồi, vậy bây giờ phải dùng cách nào đem tin tức về nước của mình thông báo cho người tổ-quốc mình được biết, ngài mới viết một phong thư lời lẽ rất uyển-chuyển, nhờ bọn lái buôn nước Vu-Điền mang về Tràng-An, đưa lên vua Lý-Thế-Dân. Trong thư thuật rõ: vì muốn nghiên-cứu Phật-học, tìm kiếm kinh Phật, mới dám mạo-hiểm qua Ấn-Độ. Đường đi qua hết sa-mạc mênh mông, núi Thiết-Môn gian hiểm, núi Tuyết-Sơn cao chót vót; đi bộ hơn 50.000 dặm đường, trải qua ngàn muôn trùng hiểm trở, mới đến được Ấn-Độ. Ở Ấn-Độ, chu du lịch lãm hơn 10 năm trường, hiện nay trở về, đã đến Vu-Điền. Nhân vì con voi to chết đuối, mang về được rất nhiều kinh-điển, nhưng không có lừa, ngựa để chuyển vận được, nên phải lưu lại Vu-Điền, vâng chờ Thánh-chỉ... Vua Lý-Thế-Dân nhận được thư đó, lập tức viết thư trả lời: “Được tin sư phụ từ ngoại quốc về, ta rất hoan-hỷ, chỉ mong chóng được hội-kiến cùng sư-phụ. Ta đã ra lệnh cho các xứ Vu-Điền, để các nước đó phải cung-cấp phu dịch, lừa ngựa hộ tống sư phụ, sai quan ty ở Đôn-Hoàng nghênh tiếp ở bãi Lưu-Sa, nước Nghiệp-Thiện nghênh tiếp địa phận Thu-Mạt... (ngày nay là huyện Nặc Khương, xứ Tân-Cương)”.\n",
      "    Ngày 24 tháng 1 năm 645 (năm Trinh-Quán thứ 19 đời Đường), ngài Huyền-Trang bình yên về được đến Tràng An. Trước sau đi xa 17 năm, khi về đến tổ quốc đã là một ông già ngoại 50 tuổi, hai mái tóc trắng xóa.\n",
      "    Khi vua Lý-Thế Dân được tin ngài Huyền-Trang đã đến Tràng-An mới sai quan Hữu Bộc Xạ là Phòng-Huyền-Linh, Hữu-Vệ-Hầu Đại-Tướng Quân là Hầu-Mạc, Trần-Thực, quan Tư Mã Ung-Châu là Lý-Thúc-Thận và huyện-lệnh Tràng An là Lý-Kiền Hựu đi nghênh tiếp. Trên đường phố Tràng An hàng vạn dân chúng đứng liền hai bên đường hoan-hô, ngài Huyền-Trang đem hết các thứ mang từ Ấn-Độ về như là: kinh-điển, Phật-tượng, xe dù, và hoa-phan và sản vật Ấn-Độ bày tại phía Nam, phố Chu Tước, mở một hội triển-lãm rất thịnh đạt.\n",
      "  </page>\n",
      "  <page page=\"16\">\n",
      "    11) Mồng 1 tháng 3 năm ấy, ngài Huyền-Trang về đến chùa Hoằng-Phúc, kinh Tràng-An, dự bị làm công tác phiên-dịch đại quy-mô, mời hết các cao tăng, học giả các nơi đến giúp đỡ. Ngài cần dùng đến các người: Chứng-nghĩa, Xuyết văn, Bút-thụ, Thư-thủ, trong đó có hơn 50 người Sa-Môn học rộng giúp việc dịch cho chính nghĩa, có các vị cao tăng học thức trác-việt như ông Linh-Khoát, Văn-Bị, 23 người, chuẩn bị vào công việc.\n",
      "    Trung-tuần tháng 5 bắt đầu phiên-dịch, đến cuối năm ấy đã dịch được 5 loại Đại-Bồ-Tát-Tạng Kinh và Phật-Địa-kinh.\n",
      "    Mùa Thu năm thứ hai, ngài Huyền Trang miệng thuật việc lữ hành của ngài trong 17 năm, trải qua 128 quốc gia, các điều nghe biết, trong đó về lịch sử, phong-thổ, nhân tình, địa-lý, vị trí, sơn xuyên, thổ-sản hiện tình, do một đồ đệ ngài ghi chép lại, viết thành 12 quyển Đại-Đường Tây Vực-Ký. Sau này đọc đến sách ấy, không khác gì đích thân đến được nơi đó, không những là một bộ du-ký vĩ đại, cổ-điển, mà còn là một bộ lịch-sử địa-lý trọng-yếu ghi chép các nước Trung Á và Ấn-Độ, cho nên các nước Tô-Liên, Nhật-Bản, Anh, Đức, Pháp đều có bản dịch bộ du ký ấy; còn có rất nhiều nhà học giả ngoại quốc chuyên môn nghiên cứu bộ Đại-Đường Tây Vực-Ký này đều phải công nhận là bộ sách rất có giá trị, phạm-vi rất lớn, ký-thuật chính xác và nội dung phong phú, trong các loại Đông-Tây-dương lữ-hành-ký thời cổ. Đời nay các nhà chuyên môn nghiên cứu sử, địa, nhờ vào bộ sách ấy rất nhiều, để mà chỉnh lý những lịch-sử, địa-lý, mơ-hồ về nước Ấn-Độ thế kỷ thứ 7.\n",
      "  </page>\n",
      "  <page page=\"17\">\n",
      "    Năm 648, (Trinh Quán thứ 22), mùa hạ tháng 5, ngài Huyền Trang đã dịch xong 9 loại kinh Phật. Tháng 6, ngài hội-diện cùng vua Lý-Thế Dân ở cung Ngọc-Hoa, vì muốn kỷ-niệm ngài Huyền-Trang Tây-du, vua đích thân tự viết bài tựa Đại-Đường Tam-Tạng-Thánh Giáo 781 chữ, do vị Hoài-Nhân hòa thượng lấy đích chữ nhà đại thư pháp đời Tấn là Vương-Hy-Chi viết, khắc lên bia đá. Nhà đại thư pháp đời Đường là Chử Tọa-Lương viết thành hai bản: 1 bản khắc vào tháp chùa Từ-Ân, 1 bản khắc ở Đồng Châu, đến tận bây giờ lối chữ đó là một tự thiếp có tiếng để tập viết.\n",
      "    Tháng 10 năm ấy, ông Lý-Trị (vua Cao-Tôn đời Đường) vì muốn kỷ-niệm mẫu thân ông ấy, mới dựng nên ngôi chùa Từ Ấn ở Tràng An, trong chùa đặc biệt làm một sở gọi là Phiên-kinh Viện, thỉnh ngài Huyền-Trang đến ở đó phiên dịch kinh Phật. Từ đấy ngài ở luôn chùa Từ Ân, chỉ chuyên tâm dịch kinh, không hề bước chân khỏi cửa. Ngài lại sợ thọ-mệnh của mình hữu-hạn, không làm xong được công tác phiên-dịch nặng nề, khó khăn ấy, nên lại càng chăm chỉ lệ mình, hết ngày lại đêm, chăm chỉ làm việc. Mỗi ngày hoạch định rõ công tác, không bỏ phí một giây phút nào, thường đến canh ba mới ngừng bút, chờ đến canh năm thì trở dậy, liền đem kinh điển lấy về đó, dùng bút son điểm thứ-tự, chuẩn bị công tác phiên-dịch ngày hôm sau. Ngoài việc dịch kinh, ban ngày ngài trả lời các tăng-lữ và học giả các nơi đến thỉnh-giáo; đến chiều, giảng học cho các học trò, ở trong phòng hay ở hành-lang, thường đứng đầy các người đến cầu giáo.\n",
      "  </page>\n",
      "  <page page=\"18\">\n",
      "    Tháng 3 năm 652 (năm Vĩnh-Huy thứ 3 đời Đường-Cao-Tôn), vì muốn làm nơi chứa kinh-điển, tượng Phật do ngài đem từ Ấn-Độ về, mới dựng một tòa tháp 5 tầng ở tây-viện chùa Từ-Ân. Bắt đầu từ ngày khởi công, cứ sáng sớm người ta thấy có một vị hòa thượng già ngoài 50 tuổi cùng mọi người gánh vác gạch, đá, lúc mới đầu không biết là ai, sau cùng chuyện trò, mới biết là Pháp-sư Huyền-Trang. Ngài cùng công-nhân xây dựng tháp hai năm mới xong. Cho đến bây giờ tòa tháp đó vẫn xừng-xững đứng ở chợ Tây-An, tỉnh Thiểm Tây.\n",
      "    Sau đó 5 năm, ngài lại dịch xong 10 bộ. Vì lúc còn trẻ ngài dụng công quá độ, cùng khi đi đường trải qua nhiều nỗi gian khổ, cho đến các năm sau, liền mấy năm phiên dịch vất vả, khiến sức khỏe của ngài bị tổn thất nhiều. Thời thường ngài có chứng đau ngực, nhất diện ngài dùng thuốc, nhất diện vẫn không ngơi phiên-dịch và dạy học. Đến năm ngài 65 tuổi, mới bắt đầu dịch bộ sách sau cùng rất to tát khó khăn là bộ Đại-Bát-Nhã-Kinh, bộ ấy bằng chữ Phạn, tổng-cộng có 200.000 tụng, học trò đều cho là số chữ nhiều quá, yêu cầu rút ngắn đi, ngài Huyền-Trang thì nhận là việc phiên-dịch không nên vì số chữ nhiều mà cắt bớt nguyên-văn dịch tắt đi, để làm mất nguyên ý; ngài chủ trương không bỏ một chữ nào, cứ phiên dịch theo thật đúng toàn bộ. Khi ngài ở Tây-Vực thu nhặt ba thứ Đại-Bát-Nhã-Kinh không đúng một mẫu in, dịch đến chỗ nào ngờ, thì so cả ba bản, hiệu-duyệt cẩn thận đến hai ba lần, mới dám hạ bút. Vì trước sau không chút trễ biếng, đến năm 663 (năm Long-Sóc thứ 3) tháng 11, mới dịch xong bộ kinh lớn ấy 600 quyển. Lúc ấy ngài đã là ông già 68 tuổi rồi.\n",
      "  </page>\n",
      "  <page page=\"19\">\n",
      "    Năm sau, giữa đêm mồng 5 tháng 2 ngài Huyền-Trang mất tại chùa Ngọc Hoa.\n",
      "    Đời ngài phiên dịch tổng cộng 75 bộ kinh chữ Phạn, 1335 quyền. Sự thành công rực rỡ ấy đối với phương-diện văn hóa xã hội Trung Hoa thời bấy giờ có ảnh hưởng rất lớn.\n",
      "    Ngày 14 tháng 4, an-táng ngài ở Bạch-Lộc-Nguyên. Khi tang lễ cử hành, phụ-cận Tràng-An 500 dặm, người đến tổng-táng có ước 100 vạn người, có 3 vạn người làm lều ở cạnh mộ ngài mà ở. Như thế có thể biết người thời bấy giờ yêu chuộng ngài Huyền-Trang đến bực nào.\n",
      "  </page>\n",
      "  <page page=\"20\">\n",
      "    Bản ngã là gì?\n",
      "    Bản ngã thật ra chỉ là ngã chấp.\n",
      "    Có hai thứ ngã chấp: câu sanh ngã chấp và phân biệt ngã chấp.\n",
      "    I- Câu-sanh ngã chấp: Câu-sanh ngã chấp thuộc về Mạt-na là thứ ngã chấp đồng có một lần với thân, chứ không phải do có sự phân biệt vọng chấp mới có. Cái ngã chấp này có từ vô thỉ, chỉ khi nào giác ngộ thành Phật mới hẳn tiêu-tan, còn là chúng-sanh thì vẫn còn.\n",
      "    Câu-sanh ngã chấp có hai tác dụng phân-biệt: Một là trực giác chấp-ngã tức là chỉ cho Mạt-na duyên với kiến phần A-lại-gia và chấp cái cảnh tượng mà mình đã biến ra làm tướng phần của mình. Ấy là ngã chấp sâu xa, thâm-thiết. Hai là biết chấp-ngã, là khi Mạt-na trực giác đối tượng, có những tâm sở ngã kiến, ngã-ái, ngã-mạn, ngã-si phát sinh phân-biệt tham đắm. Hai loại ngã chấp thuộc về Mạt-na này thật khó trừ diệt, nó có trước khi có sinh mệnh, nó có từ vô-thỉ, chứ không phải chỉ khi ta sinh ra nó mới phát hiện. Trên đường tu-đạo phải quán thù thắng sinh không mới dần dần trừ diệt được.\n",
      "  </page>\n",
      "  <page page=\"21\">\n",
      "    II. Phân-biệt ngã chấp: là thứ ngã chấp mới có sau khi có thân, do sự phân-biệt vọng chấp. Cái ngã chấp này dễ trừ đoạn hơn; khi mới vào địa vị kiến-đạo, quán sanh không chân như là có thể tiêu diệt nó được.\n",
      "    Phân-biệt ngã chấp, thuộc về ý thức, cũng có hai dụng phân-biệt: một là trực giác ngã-chấp tức là chỉ cho ý-thức khi chấp toàn thân và ý-thức là ngã một cách không cần phân biệt; hai là suy-nghiệm ngã-chấp tức là chỉ cho ý-thức khi dùng suy-nghiệm để chấp hoặc tư thân, hoặc ý thức, hoặc cả hai làm ngã bằng sự suy-nghiệm đo lường.\n",
      "    Phân-biệt ngã chấp tất nhiên nương trên câu sanh ngã-chấp mà được phát hiện; tuy nhiên hoàn cảnh và ý thức là hai động lực thiết yếu để cho nó phát hiện. Trên Mạt-na, lúc nào cũng có ngã chấp thầm-kín, sâu xa; trên ý-thức, cái trực-giác ngã chấp cũng lấy đó làm nền tảng và do suy-nghiệm ngã-chấp cấu thành.\n",
      "    Trẻ con lúc mới sinh, ý-thức về bản ngã của chúng rất lờ mờ, vì lẽ phân-biệt ngã chấp mới nhờ ý-thức và hoàn cảnh thai nghén một cách còn yếu ớt. Có thể nói rằng suy nghiệm ngã chấp đã có một cách lờ mờ, nhưng trực giác ngã chấp thì chưa có. Tuy nhiên câu sanh ngã chấp của nó vẫn có đầy đủ như thường, giống hệt như của người lớn.\n",
      "    Lớn lên một chút, trẻ con đã có thể có quan-niệm về nó và về kẻ khác và bắt đầu phân-biệt mình và người, mình và vật. Nhờ sự động chạm giữa căn và cảnh, nó phân biệt được thân nó và sự vật khác với thân nó. Vì thế, đối với trẻ con, bản ngã nó tức là thân xác nó. Sự phân-biệt rõ ràng về mình, về người luyện nơi ý-thức của nó một trực giác chấp ngã.\n",
      "    Có nhiều người lớn cũng chỉ quan-niệm về bản ngã giống hệt như trẻ con, cho bản ngã là xác thân mình, và chỉ có thế. Chỉ những kẻ suy-nghiệm ngã chấp tinh-vi mới có được những quan-niệm về bản ngã khác hơn. Nhiều kẻ không cho xác thân là bản ngã nữa, và họ nói: “tôi muốn thoát khỏi cái xác này cho rồi”. Thế thì tôi và xác đã là hai cái khác nhau.\n",
      "  </page>\n",
      "</document>\n",
      "<document>\n",
      "<page page=\"22\">\n",
      "    Những kẻ ấy hắn cho \"ta\" là ý thức, là một linh hồn có tính cách thuần nhất và có thể tồn tại ngoài xác thân. Có kẻ lại cho \"ta\" là tổng hợp của tất cả những kiến thức, tư tưởng, tình cảm, không có tính cách thuần nhất. Bản ngã là gì? Thật khó trả lời vì thực ra ta không tìm hiểu nó được, và cũng vì nó không thực có. Bản ngã nếu như có, nó phải là một cái gì có chủ tể. Ta thử nhìn xem cái gì là thân xác ư? Thân xác thì luôn luôn biến đổi, hằng giờ, hằng phút. Thân xác chỉ là sự tập hợp của vô số tế bào sống đang biến chuyển mau lẹ vô cùng. Tinh thần ư, tinh thần là tất cả mọi tư tưởng, cảm giác, tri giác, các hiện tượng ấy vẫn tiếp tục biến chuyển... thay đổi màu sắc, không khi nào và chẳng có gì là thuần nhất cả. Nói bản ngã tức là gồm tất cả những yếu tố vật lý, tâm lý, cũng không được, vì hợp lại, chúng cũng chẳng có tính cách thuần nhất chút nào. Nếu nói bản ngã là một cái gì chẳng phải vật lý cũng chẳng phải tâm lý — là bản ngã ly uẩn — thì cái ấy sẽ đồng như hư không, không còn có tác dụng gì hết, làm sao có thể gọi là bản ngã được? Khi chúng ta nói: \"Tôi ở Saigon,\" thì chữ tôi ấy chính là để chỉ cho thân xác. Khi chúng ta nói: \"tôi suy nghĩ,\" thì chữ tôi ấy không chỉ cho thể xác nữa mà chỉ cho ý thức. Khi chúng ta nói: \"Tôi viết một bài diễn văn,\" thì chữ tôi ấy chỉ cho cả thân xác lẫn ý thức, vì chính phải nhờ trí óc suy nghĩ và nhờ tay viết. Thế thì tôi là cái gì? Là thân xác, là ý thức, hay là cả thân xác và ý thức hợp lại? Sao lại có sự không đồng nhất ấy? Tôi có thể là xác thân, lại có thể là ý thức, tôi là hai hay là một?\n",
      "</page>\n",
      "<page page=\"23\">\n",
      "    Lại như chúng ta bảo: \"thân xác của tôi to lớn,\" thì tôi là cái gì? Lẽ dĩ nhiên là cái có thân xác. Thân xác là cái sở hữu của tôi. Thế thì thân xác không phải tôi. Thế thì ngoài thân xác còn cái Tôi nào nữa? Chúng ta lại bảo: \"ý thức của tôi, ý thức của anh.\" Thế thì ý thức cũng là một vật sở hữu của cái tôi và ngoài ý thức còn có cái Tôi nào nữa? Cái Tôi ấy là trừu tượng hay cụ thể. Nếu trừu tượng thì hình tướng nó như thế nào? Nếu cụ thể thì nó là cái gì? Nếu không trừu tượng cũng không cụ thể, thì nó đồng như cái không vậy. Nói rằng bản ngã vừa là đồng nhất, vừa là biến chuyển cũng không xong. Thử hỏi cái phần đồng nhất ấy có khác biệt với phần biến chuyển không? Nếu khác biệt, thì không có tính cách duy nhất, nếu không khác biệt, thì lại bị biến chuyển, sao lại gọi là đồng nhất được? Bản ngã chỉ là những quan niệm có về một cái gì đồng nhất, chủ tể, một cái gì đó tự thân nó không có. Sự sống chỉ là một dòng biến chuyển mà trong ấy không có một bản ngã lãnh đạo. Năm trước, tôi mua một chiếc xe đạp. Cách đó vài tháng, tôi thay cặp bánh, cách đó nửa năm, tôi thay cặp niềng. Cái xe có thay đổi, nhưng tôi cứ bảo là cái xe của tôi trước kia. Cứ lâu lâu, tôi lại phải đổi nào chuông, nào tản, nào đèn, đổi luôn cả khung xe, đổi căm, đổi líp, đổi tất cả. Đến nay, cái xe ấy, tôi đang dựng bên tường. Tuy nó đã hoàn toàn thay đổi, tôi cứ bảo rằng nó là cái xe của tôi mua năm xưa. Thế thì cái xe ấy, ngoài hình thức nó ra, còn có một cái hồn xe duy nhất, không biến chuyển ư? Nếu cái xe chịu luật biến chuyển thì bên trong phải có một cái gì, cái hồn xe chẳng hạn, không biến chuyển, tôi mới có ý niệm rằng đó là cái xe của tôi mua năm xưa chứ! Thực ra, làm gì có cái hồn xe! Cái xe là một dòng biến chuyển mà không có bản ngã, chủ động. Thân thể và tâm hồn ta cũng là một dòng biến chuyển mà không có bản ngã chủ động. Vì thế, cái bản ngã chủ thể (le moi-sujet) và cái bản vị đối tượng (le moi-objet) đều là những giả danh, không có thực, chỉ do phân biệt vọng chấp mà hình như thực có. Cái vọng chấp của ý thức, tuy thế vẫn nương trên vọng chấp của Mạt-na. Nguồn gốc sâu xa của ngã chấp là ở Mạt-na. Mạt-na kết tinh của vô minh, luôn luôn lấy phần tri kiến của Alaya làm đối tượng để chấp đó là ngã, chấp một cách chặt cứng, không rời ra bao giờ. Alaya tự nhiên không muốn mà trở thành ra ngã tướng, bị Mạt-na chấp. Cái kiến chấp ấy vô lý quá, mà cũng sâu thẳm quá, rất khó dùng ý thức để tìm hiểu và đoạn trừ được; chỉ có thể do công phu thiền định mới thấy rõ và tiêu diệt được nó thôi.\n",
      "</page>\n",
      "<page page=\"25\">\n",
      "    Vì sao cần thống nhất Phật Giáo Việt Nam\n",
      "    I.- Nhận xét những nguyên nhân làm chậm bước tiến của thống nhất. Đại hội toàn quốc của Phật giáo Việt Nam, họp tại chùa Từ Đàm năm 1951, đã đặt nền móng cho sự thống nhất Phật giáo Việt Nam. Điều lệ của Tổng hội đã được toàn thể đại biểu của Tăng đồ và tín đồ Phật giáo dự thảo chấp thuận, và được chính phủ duyệt y. Tinh thần thống nhất đã có. Kế hoạch thực hiện cũng đã vạch. Giấy tờ căn bản hợp lệ cũng đã đủ. Chỉ còn vấn đề thực hiện nữa là hoàn thành. Thật ra, trong mấy năm lại đây, chúng ta không phải không thực hiện thống nhất. Chỉ tiếc là chúng ta đã thực hiện một cách chậm chạp quá! Những nguyên nhân gì đã làm chậm bước tiến ấy? Có nhiều lý do, mà sau đây là những lý do chính: 1. Vấn đề tâm lý. Một số quý vị lãnh đạo trong các tập đoàn của Tổng hội có tâm lý rất \"Đại thừa,\" nghĩa là không cho là quan trọng vấn đề tổ chức thành đoàn thể có hệ thống. Họ nghĩ rằng ngày xưa đức Phật có tổ chức thành giáo hội đâu mà đạo Phật vẫn được truyền bá, bành trướng mạnh mẽ cả năm châu. Miễn là mỗi người đều nghĩ đến Phật, đều làm Phật sự, muốn người như một, triệu người như một, thì không cần đoàn kết mà bằng mười đoàn kết, không thống nhất mà bằng mười thống nhất. Tổ chức chặt chẽ làm gì cho thêm hình thức, thêm việc...\n",
      "2. Vấn đề người. Thêm việc, tức phải thêm người. Số người lãnh đạo được các tập đoàn địa phương đã không đủ, nay thêm ban quản trị trung ương, tất nhiên vấn đề người làm việc lại phải đặt ra và rất khó giải quyết. Trước tiên, có người đã quen sống trong hoàn cảnh của mình, trong nếp sống hằng ngày, nên không muốn rời bỏ cảnh cũ để tập trung vào ban Quản trị trung ương, mà trụ sở có thể là ở Huế hay Sài Gòn. Người Huế thì không thích vào Sài Gòn, người ở Sài Gòn lại không thích ra Huế. Vả lại, có nhiều vị trong hàng cư sĩ hiện đang tòng sự cho chính phủ, hay đang kinh doanh thương mại hay kỹ nghệ ở địa phương mình, họ không thể rời bỏ chỗ ở hiện tại để đến làm việc nơi có trụ sở của ban Quản trị trung ương. Vì thế cho nên từ trước đến nay, nhân viên ban Quản trị trung ương đều ở rải rác mỗi người mỗi nơi, sự trao đổi ý kiến, hội họp rất là bất tiện. Đó là nguyên nhân chính của sự chậm tiến của thống nhất Phật giáo Việt Nam.\n",
      "3. Vấn đề Phật sự ở các tập đoàn. Trong khi Phật sự ở trung ương chưa phát triển mạnh, bộ máy điều khiển chưa vững chắc, tất nhiên vì nhu cầu của tín tâm người Phật tử, các Phật sự ở các tập đoàn cần được tiếp tục, và hơn nữa, vì sự quy ngưỡng Phật giáo của đồng bào đang lên mạnh, nền công việc ở các tập đoàn mỗi ngày mỗi nhiều. Quý vị lãnh đạo trong các tập đoàn cũng là những ban viên của ban Quản trị Trung ương. Khi họ phải lo giải quyết những vấn đề cấp bách của địa phương mình, tập đoàn mình mà chưa đủ thời giờ, thì còn thì giờ đâu để nghĩ đến ban Quản trị Trung ương? Trên đây là vài ba nguyên nhân chính đã làm đình trệ sự thống nhất Phật giáo Việt Nam. Nhưng có nên vì những nguyên nhân ấy mà chặn đứng sự thống nhất, mà đành chịu đầu hàng những trở lực, những chướng ngại trên đường thống nhất chăng? Tất nhiên là không thể như thế được! Sự thống nhất có một giá trị rất cao quý mà dù khó khăn bao nhiêu chúng ta cũng phải cố vượt qua, dù mua với một giá đắt nào cũng vẫn còn rẻ hơn cái giá mà chúng ta sẽ thu thập được, một khi sự thống nhất Phật giáo thực hiện. Nếu chúng ta đầu hàng những khó khăn hiện tại, nền Phật giáo nước nhà sẽ còn tiếp tục chịu đựng rất nhiều thiệt hại trong phạm vi tinh thần cũng như trong phạm vi hoằng dương chính pháp.\n",
      "</page>\n",
      "<page page=\"27\">\n",
      "    II. Những thiệt hại của Phật giáo nước nhà trong tình trạng hiện tại.\n",
      "    1. Lực lượng tinh thần bị chi phối. Điều này không nói thì ai cũng đã thấy: Trong thế giới hiện nay, một sức mạnh tinh thần bao giờ cũng là một sức mạnh có tổ chức, có hệ thống. Nếu không được như thế, thì chưa có thể gọi được là mạnh. Câu chuyện \"bó đũa\" tuy giản dị, nhưng vẫn sâu sắc và vẫn còn là một bài học thâm thúy, có giá trị cho chúng ta. Trong nội bộ, sự thống nhất sẽ gây thêm sức mạnh tinh thần cho tín đồ; sẽ làm cho họ vững tâm tu học, tin tưởng rằng mình đang ở trong một tổ chức lớn lao, có thể dùm bọc che chở mình trong lúc tiến bước trên đường Đạo.\n",
      "    2. Lực lượng vật chất sẽ bị tản mác. Chùa chiền chúng ta rất nhiều, đất ruộng chúng ta không phải ít. Tín đồ Phật giáo Việt Nam rất đông. Nếu chung góp lại, thì đó là một lực lượng đáng kể. Nhưng hiện nay, Phật giáo Việt Nam vẫn thiếu thốn, nghèo nàn về vật chất; mỗi khi cần đến tài chánh để thực hiện một Phật sự có ích cho Đạo hay cho đời, chúng ta lại phải chạy quanh, lúng túng vay mượn, quyền góp một cách khó khăn, chật vật.\n",
      "    3. Những công cuộc thực hiện không thể to tát hoàn bị được, mà có khi còn dẫm đạp lên nhau. Hiện nay tập đoàn nào cũng đang khuyếch trương công tác Phật sự; các ngành chuyên môn trong mỗi tập đoàn: Hoằng pháp, nghi lễ, Gia đình Phật tử, giáo dục, văn nghệ, v.v... đều đang tiến mạnh; nhưng chỉ tiến được trong phạm vi hẹp hòi của tập đoàn mình mà thôi. Các tập đoàn dù muốn, dù không cũng không thể vượt phạm vi của mình, vì tài chánh, nhân lực, ý kiến đều có hạn. Do đó, công tác thực hiện khó có thể to tát, hoàn bị được. Có người cho rằng nếu mọi người, mọi nơi đều nghĩ đến Phật sự, làm Phật sự, thì đó là thống nhất rồi, đó là công tác to nhất. Thật ra vấn đề không phải giản dị như thế. Công việc của một người làm dù sao cũng chỉ là của một người. Nó có phạm vi của nó: Góp bao nhiêu cái nhỏ nhoi ấy lại, thì cũng chỉ thành một tổng số những cái nhỏ nhoi thôi, như góp nhiều hạt cát thì cũng chỉ thành một đống cát. Điều chúng ta muốn là làm thành những khối đá đồ sộ với những hạt cát ấy. Như thế tất nhiên không phải chỉ làm một bài toán cộng, mà phải có một kế hoạch chung, một chỉ huy chung, một sức lực chung; và mỗi người phải bỏ cái phạm vi riêng của mình mà phục vụ cho cái chung ấy. Một vài thí dụ cụ thể nhất, hiện nay các tập đoàn đều có ban phiên dịch và đang làm việc. Nhưng những việc làm ấy đều đơn độc, thiếu chương trình, kế hoạch chung, nên mỗi ban có thể dịch trùng một bản với những thiếu sót của mình; trong khi ấy thì có những bản khác cũng cần dịch mà lại chưa ai động đến. Một thí dụ thứ hai về Gia đình Phật tử: mỗi nơi đều làm việc, đều gặp những khuyết điểm giống nhau, hay khác nhau, nhưng vì thiếu liên lạc, nên những khuyết điểm ấy không được phổ biến cho nhau biết.\n",
      "</page>\n",
      "</document>\n"
     ]
    }
   ],
   "source": [
    "print(full_cleaned_text)"
   ]
  },
  {
   "cell_type": "code",
   "execution_count": 57,
   "metadata": {},
   "outputs": [
    {
     "data": {
      "text/plain": [
       "12714"
      ]
     },
     "execution_count": 57,
     "metadata": {},
     "output_type": "execute_result"
    }
   ],
   "source": [
    "token_count(full_cleaned_text)"
   ]
  },
  {
   "cell_type": "code",
   "execution_count": 59,
   "metadata": {},
   "outputs": [],
   "source": [
    "write_text_to_file(\"phat-giao-viet-nam-1956-25-26/full_cleaned_text.xml\", full_cleaned_text)"
   ]
  },
  {
   "cell_type": "code",
   "execution_count": 60,
   "metadata": {},
   "outputs": [],
   "source": [
    "to_tx_text = get_text_from_file(\"phat-giao-viet-nam-1956-25-26/full_cleaned_text.xml\")"
   ]
  },
  {
   "cell_type": "code",
   "execution_count": 62,
   "metadata": {},
   "outputs": [
    {
     "data": {
      "text/plain": [
       "'<document>\\n  <page page=\"1\">\\n    PHẬT GIÁO VIỆT-NAM NGUYỆT-SAN \\n    SỐ 25 VÀ 26 ĐẶC SAN KỶ NIỆM MỞ ĐẦU NĂM THỨ BA \\n  </page>\\n  <page page=\"2\">\\n    MỤC LỤC \\n    Phật-giáo Việt Nam bước sang năm thứ ba \\n    Chân lý không nằm trong văn tự, danh ngôn \\n    Ngài Huyền-Trang đi Ấn Độ thỉnh Kinh (tiếp theo) \\n    Bản-ngã là gì? \\n    Vì sao cần thống nhất Phật-giáo Việt Nam \\n    Cuộc phỏng vấn của Nguyệt-san P.G.V.N. về vấn đề thống nhất \\n    Kế hoạch thống nhất nghi lễ \\n    Chia gia-lài (Mẩu chuyện Đạo) \\n    Tài liệu Gia đình Phật-tử (tiếp theo) \\n    Cần hiểu đúng đắn ý-nghĩa Gia đình Phật tử \\n    Hai ngọn bền (Truyện ngắn) \\n    Thích Đức-Nhuận \\n    Thích Tâm Châu \\n    Thích Tâm-Thọ \\n    Nguyễn-Khắc-Từ \\n    Hùng-Khanh \\n    Minh-Hữu \\n    Đạo Phật tại Mỹ \\n    Viên-Minh \\n    Cội Phúc (Truyện ngắn được giải khuyến khích) \\n    Lê-Văn \\n  </page>\\n  <page page=\"4\">\\n    PHẬT-GIÁO VIỆT-NAM BƯỚC SANG NĂM THỨ BA \\n    Với số 25 và 26 Phật giáo Việt Nam Nguyệt san bước sang năm thứ ba \\n    Trước khi bước những bước tiến mới, chúng ta hãy tạm dừng lại, nhìn lui con đường vừa qua để rút những bài học kinh nghiệm ngõ hầu tiến tới một cách mạnh mẽ, tránh những vấp ngã và tiến đúng với mục tiêu đã nêu lên. \\n    Sau mấy tháng điều tra dư luận độc giả, chúng tôi đã góp được một mớ ý-kiến về Nguyệt-san Phật-giáo Việt-Nam như sau: Một số độc giả than phiền rằng nội-dung của “Phật giáo Việt Nam” quả cô đọng, chật-hẹp, chỉ quanh-quẩn trong phạm vi Đạo Phật, nên không thể phổ biến rộng ra ngoài được, và chỉ dành riêng cho một số Phật tử thuần thành. Điều ấy quả đúng như thế. Mặc dù chúng tôi đã cố gắng mở rộng phạm vi nhưng không thể mở toang biên giới của nó được, vì cái tên “Phật-giáo Việt-Nam” đã đóng khung nó lại rồi. Mỗi tạp chí đều có một chủ trương, một nội dung, một mục-đích riêng biệt mà cái tên, là cái nhãn hiệu, đã nói lên một phần nào cái tinh thần của nó. Muốn cải đổi, mở rộng phạm vi, trước tiên, phải thay đổi cái tên của Nguyệt-san. Nhưng cái tên “Phật-giáo Việt-Nam” lại không thể thay đổi được, vì nó đã do Hội nghị của Tổng hội Phật-giáo Việt Nam đặt ra và đã được chính quyền cho phép. \\n    Muốn đổi tên phải chờ Hội-nghị của Tổng hội họp lại và phải xin phép lại với chính-quyền. Vả lại, mục-đích của “Phật-giáo Việt Nam Nguyệt san” khi ra đời là nhằm nói lên cái tiếng nói của Tổng hội, cái tinh thần, hoài bão, chương trình, triển vọng của Tổng hội và nhất là, báo cáo, xúc-tiến sự thống-nhất thật sự của Phật giáo nước nhà. Vậy với những độc-giả mong muốn mở rộng, cải đổi nội dung, chúng tôi chỉ còn biết xin ghi lại ý-kiến ấy để vận động xuất bản một tạp-chí khác. \\n    Một số độc giả bảo rằng bài vở quá cao, khó tiếp nhận được, chỉ bổ ích cho một tổ ít có trình độ học hỏi khá, còn phần đông đọc không thấy có lợi ích thiết thực. Nhưng một số độc-giả khác lại bảo rằng một tờ báo của Tổng hội cần phải nói lên được cái cao siêu thâm-thiết của Đạo, nếu không, thì có khác gì một tạp chí khác! Thật là phức-tạp! Tuy thế, số người bảo rằng tờ Phật-giáo Việt-Nam đọc khó hiểu chiếm phần đông. Vì thế, chúng tôi sẽ cố gắng làm vui lòng quý vị độc-giả bằng cách đề cập đến những vấn đề thường-thức với một lối viết giản dị, dễ dãi, thông thường. Nhưng chúng tôi không thể bỏ qua dư luận của số người khác, là không thể hoàn toàn hạ thấp bài vở của Nguyệt san, mà phải dành cho nó một số trang nói lên được ý-nghĩa cao thâm của đạo, phản ánh được một phần nào cái giá trị của cơ quan văn hóa của Tổng hội Phật-giáo Việt Nam.\\n    Một số độc giả thanh-niên, nhất là các anh chị em Huynh trưởng gia đình Phật-tử, lại phàn nàn rằng tờ Phật-giáo Việt-Nam không đề cập, hay đề cập ít quá đến vấn đề thanh niên, Gia đình Phật-tử. Điều ấy cũng có phần đúng. Từ đây chúng tôi sẽ bổ khuyết sự thiếu sót ấy. \\n  </page>\\n  <page page=\"5\">\\n    Về phần hình thức, một số các độc-giả lớn tuổi yêu cầu in chữ to hơn để đọc khỏi mệt mắt. Điều này, trong mấy số gần đây, chúng tôi đã điều-chỉnh, nên có một số bài đã được sắp đặt rõ ràng với thứ chữ tương đối lớn hơn. Nhưng vấn đề này tùy thuộc một phần lớn vào nhà in: hoặc vì chữ ít, hoặc vì cần in gấp, nên không đủ chữ lớn để lên khuôn một lúc. Nhưng dù sao chúng tôi cũng sẽ cố gắng trong phạm vi có thể được, để làm vừa lòng quý vị độc giả. \\n    Tóm lại, bước sang năm thứ ba, chúng tôi sẽ ghi nhớ những ý kiến đúng đắn của quý vị độc giả và sẽ cố gắng thực hiện cho được để đáp lại thịnh tình quý hóa của quý vị đối với “Phật-giáo Việt-Nam” và để xây dựng một ngày một vững-chắc cơ-quan ngôn luận chung của Phật-giáo Việt-Nam chúng ta.\\n  </page>\\n  <page page=\"6\">\\n    CHÂN-LÝ KHÔNG NẰM TRONG VĂN-TỰ, DANH-NGÔN \\n    Đạo Phật chủ-trương rằng đã là chân-lý tuyệt đối thì không thể dùng ngôn-ngữ, văn tự để phổ-biến được. Chân-lý là một cái gì vô biên, vô cùng, không có giới-hạn; trí-óc, văn tự, ngôn ngữ là những gì có biên giới, hữu-hạn; đem cái biên-giới mà so với cái vô cùng, đem cái hữu hạn mà dựng cái vô hạn thì không thể nào làm được. Chân lý trong sách vở không phải là chân-lý, mà văn tự, danh-ngôn chỉ là bóng dáng đã đổi hình của chân-lý mà thôi. Bóng dáng còn không phải là chân-lý, huống chi cái bóng dáng đã đổi hình!\\n    Đức Phật thuyết-pháp trong 49 năm, vậy mà Ngài vẫn nói: “Trong 49 năm, ta chưa hề nói được một chữ”. Câu nói ấy chứng tỏ rằng chân-lý không thể miêu tả được bằng ngôn-ngữ, văn-tự. Kinh Kim-Cang dạy rằng chứng ngộ mà nói chứng ngộ, đó không phải là chứng ngộ thực. Phật lại dạy: “Y theo kinh điển mà giải nghĩa thì oan cho tam thế chư Phật, nhưng lìa kinh ra một chữ thì lại đồng với ma-thuyết”. Kinh điển, lời dạy của bậc giác-ngộ không phải là chân lý mà chỉ là phương-tiện chỉ bày chân-lý, nói đó là chân-lý thì oan cho tam thế chư Phật. Nhưng thảm hại thay! Nếu bảo đó không phải là chân-lý mà bỏ những phương tiện chỉ bày chân-lý tức là kinh điển ra thì chẳng còn gì nữa, ngoài những tà thuyết của Ma-vương. Phật lại dạy: “Chân-lý như mặt trăng, giáo-lý của ta dạy như ngón tay để chỉ mặt trăng cho các người thấy. Đừng làm ngón tay ta là mặt trăng”. Thâm-thiết bao nhiêu mà cũng là đầy đủ bao nhiêu, cái ví dụ của đức Phật.\\n  </page>\\n  <page page=\"7\">\\n    Cái nóng lạnh của một ly nước trà, hình dáng kỳ-quái của những con vi trùng, những cái không phải là khó hiểu lắm ấy mà chúng ta vẫn không thể cảm giác hoặc thấy biết được một cách trực tiếp, huống chi là chân-lý mà chỉ có trí giác-ngộ, xa lìa mê lầm mới có thể thân chứng! Bởi vậy, nghiên cứu để hiểu được chân lý là quan-niệm sai lầm. Nghiên cứu để tự mình thực hành theo, nương vào đấy mà chứng nhập chân-lý, ấy mới là mục-đích của người học Phật. Cho nên, mục đích của tâm-lý-học Phật-giáo không phải chỉ là để thỏa-mãn trí tìm tòi của thể-nhân, mà là để làm một phương tiện chỉ bày chân-lý, vì tự nó, nó không phải là chân lý thực thụ, nó cũng cần đến ngôn-ngữ, văn-tự và dựa lên trí tỷ-lượng của chúng-sinh để biểu lộ.\\n    Tất cả những gì được biểu lộ bằng lời nói thì chỉ là những phương tiện, mà phương-tiện như đã nói ở trên, không phải chân lý; không phải là chân-lý tức là sai lầm. Chân lý là cái gì nhỉ? Ở đời, ta chưa có thể “nói” được một chân-lý. Hai với hai là bốn ư? Chưa chắc như vậy: hai củ khoai và hai củ cà rốt vĩnh viễn vẫn là hai củ khoai và hai củ cà rốt, không bao giờ có thể là “bốn” được. Hai đồng với hai hào vĩnh viễn là hai đồng hai chứ không phải là bốn đồng hay bốn hào được. Thế thì chân-lý ở đâu? Ở ngoài ngôn ngữ và văn tự! Mâu-thuẫn biểu hiện cho sai lầm. Phật học chủ trương rằng trong tất cả các quan-niệm đều chứa sẵn mâu thuẫn và nếu là chân-lý thì đó chỉ là chân lý tương-đối. Sự mâu-thuẫn ấy dẫn dắt đến sự phủ-định quan-niệm về chân lý và đem ta đến một tầng chân-lý cao hơn, song vẫn ở trong tương-đối. Đã là chân lý tương đối thì trong ấy vẫn có sự mâu-thuẫn để rồi có sự phủ-định chân-lý ấy, và do đó, đưa sự hiểu biết tiến dần lên. Song cái hiểu biết do suy luận, do ngữ ngôn biểu lộ, dù cao đến đâu vẫn không phải là chân-lý tuyệt đối.\\n  </page>\\n  <page page=\"8\">\\n    Lời dạy của đức Giác ngộ, tuy không phải là chân-lý tuyệt đối nhưng quý giá vô cùng, vì nó là phương tiện chỉ bày chân-lý. Nó không phải là chân lý vì nó được biểu-lộ bằng ngôn-ngữ, văn tự và là một phương-tiện thiết lập theo trí suy-lượng của chúng-sinh, xa lìa nó ra, ta không thể vịn vào đâu mà chứng nhập chân-lý. Bởi thế học để hiểu, để thấy, để đừng chấp chân-lý là cái có thể do ngôn ngữ, văn-tự biểu lộ được, để nương theo phương-tiện mà đi vào cứu-cánh. Trong khi tìm học, ta có quyền nghi, và nghi là một lợi khí cho sự giác-ngộ và có nghi mới có ngộ. Đừng mù-quáng chấp theo văn-tự, phải dùng trí-óc, phải dùng công phu thực-hành để quán chiếu chân-lý, để được giác-ngộ. Phương-pháp của tâm-lý-học Phật-giáo khác với phương pháp của tâm-lý học Tây phương ở chỗ ấy. Cốt nhất là đừng cố chấp, vì chính sự cố chấp che mất chân lý, mà phá cố chấp thì đồng-thời phá trừ những tham vọng mê mờ che lấp trực-giác.\\n    Hai người bạn đứng chơi, một người xây mặt về hướng Nam, một người xây mặt về hướng Bắc. Người xây mặt về hướng Nam thấy con chim phụng hoàng bay qua liền bảo bạn: “Này anh, quay lại xem chim Phụng-Hoàng”. Nhưng anh vừa nói xong, chim đã biến mất. Thế là người bạn kia cứ một mực đòi xem cho được chim phụng hoàng, muốn biết hình thể nó như thế nào, lông cánh ra làm sao. Người này không biết làm sao, mô tả thế nào cũng không gợi được trong trí óc bạn một con chim phụng hoàng và dù có gợi được, cũng là gợi nên một hình ảnh khác, nhiều khi phản lại cả hình ảnh chính nữa. Cuối cùng, anh ta phải vẽ một con chim Phụng-Hoàng thật đẹp, thật giống (thì cũng cứ cho thật giống đi), tung lên trời. Thế là anh kia chấp chặt đó là chim Phụng-Hoàng. “Phụng-Hoàng là con chim giấy ấy, chim giấy ấy là Phụng-Hoàng, chim giấy và Phụng-Hoàng là một”. Chết chưa! Sao lại là một được? Con chim giấy không phải là Phụng-Hoàng mà chỉ là một phương tiện để chỉ Phụng-Hoàng thật thôi. Nếu nó là Phụng-Hoàng thật sao nó không bay? Chấp nó là Phụng-Hoàng, cái kiến-chấp ấy nguy hiểm biết bao nhiêu, đời nào có thể biết được Phụng-Hoàng. Nếu bỏ cố-chấp ấy đi, do thấy chim giấy mà biết được rằng: “Chim Phụng-Hoàng vừa bay qua cũng giống như thế, nhưng nó là một con khác, một con chim bay được, hót được và bay qua mất rồi. Còn con chim này chỉ là con chim giấy, một phương tiện để chỉ bày cho ta hiểu ấy thôi.” Thấy được như vậy mới thật là không cố chấp. Học Phật cũng giống như thế. Có điều là sẽ thấy được chính chân-lý bằng trực-giác, chứ không phải chỉ thấy có chân lý bằng suy lượng, như anh kia chẳng được thấy bằng mắt chim Phụng-Hoàng thật, mà chỉ thấy được bằng ý thức, suy đạt căn cứ trên mắt thấy và trên con chim giấy.\\n  </page>\\n  <page page=\"10\">\\n    NGÀI HUYỀN-TRANG ĐI ẤN-ĐỘ THỈNH KINH PHẬT \\n    Nguyên văn chữ Hán của DƯƠNG ĐÌNH PHÚC \\n    NÔNG-SƠN DỊCH \\n    (Tiếp theo số 23 và 24) \\n    Ngài Huyền-Trang trước hết đến nước Y-Lạn-Na-Bát-Đa, Nam Ấn-Độ (nay là một giải đất Áo-Lý-Tát) ở đó một năm, lại theo học đại sư Đát-Tha-Yết-Đa và Thầy Tăng-Yết-Đề, sau đó lặn lội qua làn sóng cả ra Ấn-Độ-Dương, đến Khoa-La-Man-Đắc, đến nước Tăng-Già-La (đảo Tích-Lan), từ Tăng Già-La đến nước Yết-Lăng-Ca, Nam Ấn-Độ (nay là Mã Đích-Lạp-Tư, Nam Ấn-Độ), từ đấy lại đi về tây 1800 dặm đến nước Nam Kiều-Tát-La (nay là giải đất Hải-Đắc-Lạp-Ba ở Trung Ấn-Độ), lại vào địa phận Trung Ấn-Độ, theo học Bà-La-Môn (nhân-minh-học). Lại trải qua vô số sự gian hiểm, ngài thẳng đến nước Lang-Yết-La phía cực Tây Ấn-Độ (nay là giải đất Khách-Lạp-Xuy, Tây Ấn Độ) mới trở lại nước Bát-Phật-Đa-La, Bắc Ấn-Độ (không tra khảo được), ở nơi này học tập 2 năm, lại đến núi Trường-Lâm ở 2 năm nữa, học môn học “Duy-thức” và nghiên cứu diễn Tứ phê đà cùng là Thiên-văn, Địa-lý.\\n    Trong thời-gian trọn 6 năm, ngài Huyền-Trang đi khắp Đông, Nam, Tây, Bắc, Trung 5 xứ Ấn Độ, lớn nhỏ hơn 100 nước, xem đọc hết sách các nước. Sau 6 năm ấy, ngài lại về chùa Na Lan-Đà, ông Giới-Hiền sai ngài chủ trì các khóa giảng, giảng Nhiếp-Đại-Thừa-Luận cho tăng-chúng cả chùa ấy. Bấy giờ có một đại đệ tử của ngài Giới-Hiền tên là Sư-Tử Quang không phục ngài Huyền-Trang làm chủ-giảng, ngài Huyền-Trang làm ra 3.000 bài tụng “Hội-tôn-luận”, giảng rõ đại nghĩa, ngài Giới-Hiền cùng tất cả tăng-chúng trong chùa ai cũng duyệt-phục, khen ngợi, Sư-Tử-Quang tự biết học thức của mình không đủ, xấu hổ bỏ đi, một năm sau mới dám trở về.\\n  </page>\\n  <page page=\"11\">\\n    Khi ấy có một người phái Bà-La-Môn viết ra hơn 40 điều lý-luận treo ở cửa chùa Na-Lan-Đà và ngông cuồng nói rằng: nếu ai nạn-phá được một điều nào, thì cam chịu cho người ấy cắt đầu để nhận lỗi. Không một người nào dám bẻ bác, ngài Huyền-Trang xin ngài Giới-Hiền và các vị cao tăng làm chứng, cùng người Bà-La-Môn đó biện-luận, tối hậu người đó không thể không cúi đầu nhận lỗi được, yêu cầu theo lời hứa trước mà thi hành, ngài cười bảo rằng: “đã là hòa thượng thì không bao giờ giết người, anh định để vong hồn anh theo dõi bên mình ta hay sao?”\\n    9) Nước Yết-Nhược-Cúc-Am là nước lớn ở Trung Ấn-Độ, lịch-sử Ấn-độ gọi là Cúc-Đa-Vương-Triều, là thời kỳ tối thịnh Trung-Cổ Văn-Hóa Ấn-Độ, bấy giờ vua Giới-Nhật trị-vì, Phật giáo mở mang rộng lớn. Có một lần vua Giới-Nhật thân-chinh nước Cung-Ngự-Đà (nay không rõ địa-danh) đi qua nước Ô-Đồ, vị Tiêu-Thừa nước đó là Đại sư Ban-Nhã Các-Đá làm ra 700 bài tụng “Phá Đại Thừa-Luận” chê phái Đại-Thừa là “không hoa ngoại đạo”. Vua Giới Nhật viết thư cho ngài Giới Hiền, xin cho người đến nước Ô-Đồ biện-luận phải trái, ngài Giới-Hiền nhận được thư, thương lượng cùng mọi người, chọn ngài Huyền-Trang cùng Sư-Tử-Quang, Hải-Tuệ, Trí-Quang, 4 người đại đệ tử đến nơi đó biện luận; ba người sau này khiếp-đảm, ngài Huyền-Trang không chút sợ hãi, tìm được nguyên-văn 700 bài tụng “Phá đại thừa luận”, hết lòng nghiên-cứu, gặp chỗ nào nghi-nan thì cùng người Bà-La-Môn được ngài thuyết-phục lúc trước, thảo luận, tối-hậu viết ra thành 1600 bài tụng “Phá-Ác-Kiến-luận” trình ngài Giới-Hiền và tuyên bố các đồ chúng; ai đọc qua cũng phải thán-phục.\\n  </page>\\n  <page page=\"12\">\\n    Lúc ấy quốc-vương nước Già-Ma-Lũ-Ba, Đông Ấn-Độ (tỉnh Mạnh-Gia-Lạp, Ấn-Độ ngày nay) là Cưu-Ma-La, ngưỡng mộ ngài Huyền-Trang, sai sứ đến thỉnh ngài đi; khi vua Giới-Nhật về nước, nghe nói ngài đã đến nước Già-Ma-Lũ-Ba rồi, lập tức đến nước ấy thỉnh ngài về. Vì muốn làm rõ rệt giáo nghĩa phái Đại-thừa, sau khi, hai quốc-vương hội kiến với nhau, bàn nhau thông tri cho các nước, mở một đại hội ở thành Khúc-Nữ, thủ đô nước Yết-Nhược-Cúc-Am, để chiêm ngưỡng nghị luận, phong-thái vị học giả Trung-Quốc.\\n    Tháng 12 năm ấy mở đại hội, nhân sĩ các xứ không quản xa xôi có đến 18 quốc-vương 18 nước 5 ở xứ Ấn-Độ, 3.000 tăng-lữ thuộc hết giáo lý Đại thừa và Tiểu thừa, hơn 2.000 người Bà-La-Môn và Ni-Càn ngoại đạo, cùng tăng lữ chùa Na-Lan-Đà hơn 1.000 người đến dự hội. Những người dự hội đó tuy học phái, tín-ngưỡng khác nhau, nhưng đều là người tu dưỡng, học vấn cao-sâu, có thể nói là một đại tập hội của văn hóa danh nhân cả Ấn-Độ, là một đại thịnh hội thứ nhất trên lịch-sử Ấn-Độ.\\n    Đại hội mở đầu, ngày thứ nhất, sau khi cử hành nghi tiết Phật-giáo, mọi người thỉnh ngài Huyền-Trang thượng tọa làm luận chủ (chủ-tịch), bắt đầu giảng kinh nghĩa, ngài ở trước công chúng tuyên bố bài “Phá-ác-kiến luận” và rất nhiều lý-luận phái Đại-thừa, ngoài ra còn viết một bản “Phá ác kiến-luận” treo ở trước cửa nhà họp để tuyên-bố đại chúng. Sau khi treo bài luận đó, từ sáng đến chiều, không một người nào dám đến biện luận. Đại-hội tiếp tục 18 ngày, mọi người nghe ngài nghị luận, nêu ra những nghĩa-lý rất tỉnh-tế, thủy chung không một người nào đề ra được một ý kiến phản đối. Hôm tan hội, quốc vương Giới-Nhật tặng ngài 10.000 tiền vàng, 30.000 bạc, 100 áo lông, quốc vương 18 nước đều tặng rất nhiều phẩm vật quý báu, ngài không chịu nhận mảy may nào.\\n  </page>\\n  <page page=\"13\">\\n    Theo cổ-pháp Ấn-Độ: phàm người nào biện luận đắc thắng, được cưỡi voi du-hành khắp nơi một vòng: bấy giờ 18 quốc vương mời ngài cưỡi con voi lớn trên che dù hoa, sai rất nhiều thần dân đi hộ vệ hai bên, đối đại chúng hò reo đi một vòng, để tỏ tinh thần độc lập không nhờ cậy vào ai, chỉ lấy nghĩa phục được người, của vị Pháp-sư Trung quốc; ngài hai ba lần khiêm nhượng không chịu lên mình voi, mọi người đều nói đó là thành pháp từ xưa để lại, không nên trái lệ, ngài mới phải nghe theo. Quần chúng đi hai bên nâng đỡ áo cà sa của ngài lên, hướng về phía dân chúng nói to lên rằng: “vị Pháp sư Trung quốc lập luận về ý-nghĩa phái Đại thừa, phá tan mọi ý-kiến khác, luôn trong 18 ngày không ai dám tranh luận, hết thảy chúng ta phải nhận biết”. Rồi toàn thể công trường hoan hô nhảy múa, dâng hương tung hoa. Từ đấy ai ai cũng phải công nhận ngài là nhà học-giả oai-quyền, tiếng tăm dậy đất 5 xứ Ấn-Độ.\\n    Kế đó, ngài lại cùng vua Giới-Nhật đến đại thí trường của nước Bát-La-Ra-Già tổ chức đại hội “Vô-Già” 75 ngày, dự hội có đến 50.000 người, là một tập-hội lớn nhất từ trước đến giờ chưa từng có của Ấn-Độ từ khi có lịch-sử đến giờ.\\n  </page>\\n  <page page=\"14\">\\n    10) Lúc ngài tham gia đại hội “Vô-Già” đã 48 tuổi, ở Ấn-Độ vừa đúng 13 năm. Trong thời gian đó không một giờ phút nào ngài không nhớ tổ-quốc. Mục-đích du học và lấy kinh của ngài đã đạt rồi, mới nghĩ mau mau trở về tổ quốc; tuy nhân dân Ấn-Độ cố nài ở lại, nhưng chí về nước của ngài đã kiên-quyết, đến năm 643 (năm Trinh-Quán 17 đời Đường) dùng voi lớn cùng ngựa chở 657 bộ kinh Phật và các phẩm vật khác khởi hành.\\n    Đường về nước của ngài lại đi trọn 2 năm nữa, trong khi đi, lại trải bao nỗi gian-nguy, may mà kinh-điển lạc mất rất ít, chỉ có khi đến nước Đát-Thoa-Thi-La (ở tây-nam nước Già-Thấp Di-La hơn 50 dặm), lúc qua sông lớn Tín-Độ, thuyền đến giữa dòng sông hốt nhiên sóng gió nổi lên dữ dội, làm lay động cả thân thuyền, mất 50 bó kinh và các hạt giống hoa quả lạ Ấn-Độ. Khi ấy vua nước Già Thấp-Di-Ta ở thành Ô-Đạc-Già-Hán, trên sông Tín-Độ, bất ngờ mà gặp ngài Huyền-Trang, cùng đi với ngài và sai người tiễn đưa ngài đến rừng tây núi Đại Tuyết (nay là núi Hưng-Đô-Khố-Thập), ngài men theo rừng đến được Thông-Lĩnh, rồi đến nước Khư-Sa (nay là Xơ-Lặc, xứ Tân-Cương), nước Kiếp-Bàn-Đà (Cáp-Thập-Khổ-Nhĩ, xứ Tân-Cương), nước Tích-Cư-Già (Cáp-Nhĩ-Cát-Lý-Khắc, xứ Tân-Cương), bị vua nước Vu-Điền giữ lại ở đó bảy tháng. Trong thời gian ấy ngài nhất diện giảng dạy dân chúng Vu-Điền, nhất diện sai người đến các nước Khuất-Chi, Khu Sa dò tìm sao lại các bản kinh thất lạc khi qua sông.\\n  </page>\\n  <page page=\"15\">\\n    Vì trước kia ngài trốn ra ngoại quốc, là hành-vi trái phép; nhưng lòng vẫn nhớ tổ-quốc và cũng đã về đến địa giới tổ-quốc rồi, vậy bây giờ phải dùng cách nào đem tin tức về nước của mình thông báo cho người tổ-quốc mình được biết, ngài mới viết một phong thư lời lẽ rất uyển-chuyển, nhờ bọn lái buôn nước Vu-Điền mang về Tràng-An, đưa lên vua Lý-Thế-Dân. Trong thư thuật rõ: vì muốn nghiên-cứu Phật-học, tìm kiếm kinh Phật, mới dám mạo-hiểm qua Ấn-Độ. Đường đi qua hết sa-mạc mênh mông, núi Thiết-Môn gian hiểm, núi Tuyết-Sơn cao chót vót; đi bộ hơn 50.000 dặm đường, trải qua ngàn muôn trùng hiểm trở, mới đến được Ấn-Độ. Ở Ấn-Độ, chu du lịch lãm hơn 10 năm trường, hiện nay trở về, đã đến Vu-Điền. Nhân vì con voi to chết đuối, mang về được rất nhiều kinh-điển, nhưng không có lừa, ngựa để chuyển vận được, nên phải lưu lại Vu-Điền, vâng chờ Thánh-chỉ... Vua Lý-Thế-Dân nhận được thư đó, lập tức viết thư trả lời: “Được tin sư phụ từ ngoại quốc về, ta rất hoan-hỷ, chỉ mong chóng được hội-kiến cùng sư-phụ. Ta đã ra lệnh cho các xứ Vu-Điền, để các nước đó phải cung-cấp phu dịch, lừa ngựa hộ tống sư phụ, sai quan ty ở Đôn-Hoàng nghênh tiếp ở bãi Lưu-Sa, nước Nghiệp-Thiện nghênh tiếp địa phận Thu-Mạt... (ngày nay là huyện Nặc Khương, xứ Tân-Cương)”.\\n    Ngày 24 tháng 1 năm 645 (năm Trinh-Quán thứ 19 đời Đường), ngài Huyền-Trang bình yên về được đến Tràng An. Trước sau đi xa 17 năm, khi về đến tổ quốc đã là một ông già ngoại 50 tuổi, hai mái tóc trắng xóa.\\n    Khi vua Lý-Thế Dân được tin ngài Huyền-Trang đã đến Tràng-An mới sai quan Hữu Bộc Xạ là Phòng-Huyền-Linh, Hữu-Vệ-Hầu Đại-Tướng Quân là Hầu-Mạc, Trần-Thực, quan Tư Mã Ung-Châu là Lý-Thúc-Thận và huyện-lệnh Tràng An là Lý-Kiền Hựu đi nghênh tiếp. Trên đường phố Tràng An hàng vạn dân chúng đứng liền hai bên đường hoan-hô, ngài Huyền-Trang đem hết các thứ mang từ Ấn-Độ về như là: kinh-điển, Phật-tượng, xe dù, và hoa-phan và sản vật Ấn-Độ bày tại phía Nam, phố Chu Tước, mở một hội triển-lãm rất thịnh đạt.\\n  </page>\\n  <page page=\"16\">\\n    11) Mồng 1 tháng 3 năm ấy, ngài Huyền-Trang về đến chùa Hoằng-Phúc, kinh Tràng-An, dự bị làm công tác phiên-dịch đại quy-mô, mời hết các cao tăng, học giả các nơi đến giúp đỡ. Ngài cần dùng đến các người: Chứng-nghĩa, Xuyết văn, Bút-thụ, Thư-thủ, trong đó có hơn 50 người Sa-Môn học rộng giúp việc dịch cho chính nghĩa, có các vị cao tăng học thức trác-việt như ông Linh-Khoát, Văn-Bị, 23 người, chuẩn bị vào công việc.\\n    Trung-tuần tháng 5 bắt đầu phiên-dịch, đến cuối năm ấy đã dịch được 5 loại Đại-Bồ-Tát-Tạng Kinh và Phật-Địa-kinh.\\n    Mùa Thu năm thứ hai, ngài Huyền Trang miệng thuật việc lữ hành của ngài trong 17 năm, trải qua 128 quốc gia, các điều nghe biết, trong đó về lịch sử, phong-thổ, nhân tình, địa-lý, vị trí, sơn xuyên, thổ-sản hiện tình, do một đồ đệ ngài ghi chép lại, viết thành 12 quyển Đại-Đường Tây Vực-Ký. Sau này đọc đến sách ấy, không khác gì đích thân đến được nơi đó, không những là một bộ du-ký vĩ đại, cổ-điển, mà còn là một bộ lịch-sử địa-lý trọng-yếu ghi chép các nước Trung Á và Ấn-Độ, cho nên các nước Tô-Liên, Nhật-Bản, Anh, Đức, Pháp đều có bản dịch bộ du ký ấy; còn có rất nhiều nhà học giả ngoại quốc chuyên môn nghiên cứu bộ Đại-Đường Tây Vực-Ký này đều phải công nhận là bộ sách rất có giá trị, phạm-vi rất lớn, ký-thuật chính xác và nội dung phong phú, trong các loại Đông-Tây-dương lữ-hành-ký thời cổ. Đời nay các nhà chuyên môn nghiên cứu sử, địa, nhờ vào bộ sách ấy rất nhiều, để mà chỉnh lý những lịch-sử, địa-lý, mơ-hồ về nước Ấn-Độ thế kỷ thứ 7.\\n  </page>\\n  <page page=\"17\">\\n    Năm 648, (Trinh Quán thứ 22), mùa hạ tháng 5, ngài Huyền Trang đã dịch xong 9 loại kinh Phật. Tháng 6, ngài hội-diện cùng vua Lý-Thế Dân ở cung Ngọc-Hoa, vì muốn kỷ-niệm ngài Huyền-Trang Tây-du, vua đích thân tự viết bài tựa Đại-Đường Tam-Tạng-Thánh Giáo 781 chữ, do vị Hoài-Nhân hòa thượng lấy đích chữ nhà đại thư pháp đời Tấn là Vương-Hy-Chi viết, khắc lên bia đá. Nhà đại thư pháp đời Đường là Chử Tọa-Lương viết thành hai bản: 1 bản khắc vào tháp chùa Từ-Ân, 1 bản khắc ở Đồng Châu, đến tận bây giờ lối chữ đó là một tự thiếp có tiếng để tập viết.\\n    Tháng 10 năm ấy, ông Lý-Trị (vua Cao-Tôn đời Đường) vì muốn kỷ-niệm mẫu thân ông ấy, mới dựng nên ngôi chùa Từ Ấn ở Tràng An, trong chùa đặc biệt làm một sở gọi là Phiên-kinh Viện, thỉnh ngài Huyền-Trang đến ở đó phiên dịch kinh Phật. Từ đấy ngài ở luôn chùa Từ Ân, chỉ chuyên tâm dịch kinh, không hề bước chân khỏi cửa. Ngài lại sợ thọ-mệnh của mình hữu-hạn, không làm xong được công tác phiên-dịch nặng nề, khó khăn ấy, nên lại càng chăm chỉ lệ mình, hết ngày lại đêm, chăm chỉ làm việc. Mỗi ngày hoạch định rõ công tác, không bỏ phí một giây phút nào, thường đến canh ba mới ngừng bút, chờ đến canh năm thì trở dậy, liền đem kinh điển lấy về đó, dùng bút son điểm thứ-tự, chuẩn bị công tác phiên-dịch ngày hôm sau. Ngoài việc dịch kinh, ban ngày ngài trả lời các tăng-lữ và học giả các nơi đến thỉnh-giáo; đến chiều, giảng học cho các học trò, ở trong phòng hay ở hành-lang, thường đứng đầy các người đến cầu giáo.\\n  </page>\\n  <page page=\"18\">\\n    Tháng 3 năm 652 (năm Vĩnh-Huy thứ 3 đời Đường-Cao-Tôn), vì muốn làm nơi chứa kinh-điển, tượng Phật do ngài đem từ Ấn-Độ về, mới dựng một tòa tháp 5 tầng ở tây-viện chùa Từ-Ân. Bắt đầu từ ngày khởi công, cứ sáng sớm người ta thấy có một vị hòa thượng già ngoài 50 tuổi cùng mọi người gánh vác gạch, đá, lúc mới đầu không biết là ai, sau cùng chuyện trò, mới biết là Pháp-sư Huyền-Trang. Ngài cùng công-nhân xây dựng tháp hai năm mới xong. Cho đến bây giờ tòa tháp đó vẫn xừng-xững đứng ở chợ Tây-An, tỉnh Thiểm Tây.\\n    Sau đó 5 năm, ngài lại dịch xong 10 bộ. Vì lúc còn trẻ ngài dụng công quá độ, cùng khi đi đường trải qua nhiều nỗi gian khổ, cho đến các năm sau, liền mấy năm phiên dịch vất vả, khiến sức khỏe của ngài bị tổn thất nhiều. Thời thường ngài có chứng đau ngực, nhất diện ngài dùng thuốc, nhất diện vẫn không ngơi phiên-dịch và dạy học. Đến năm ngài 65 tuổi, mới bắt đầu dịch bộ sách sau cùng rất to tát khó khăn là bộ Đại-Bát-Nhã-Kinh, bộ ấy bằng chữ Phạn, tổng-cộng có 200.000 tụng, học trò đều cho là số chữ nhiều quá, yêu cầu rút ngắn đi, ngài Huyền-Trang thì nhận là việc phiên-dịch không nên vì số chữ nhiều mà cắt bớt nguyên-văn dịch tắt đi, để làm mất nguyên ý; ngài chủ trương không bỏ một chữ nào, cứ phiên dịch theo thật đúng toàn bộ. Khi ngài ở Tây-Vực thu nhặt ba thứ Đại-Bát-Nhã-Kinh không đúng một mẫu in, dịch đến chỗ nào ngờ, thì so cả ba bản, hiệu-duyệt cẩn thận đến hai ba lần, mới dám hạ bút. Vì trước sau không chút trễ biếng, đến năm 663 (năm Long-Sóc thứ 3) tháng 11, mới dịch xong bộ kinh lớn ấy 600 quyển. Lúc ấy ngài đã là ông già 68 tuổi rồi.\\n  </page>\\n  <page page=\"19\">\\n    Năm sau, giữa đêm mồng 5 tháng 2 ngài Huyền-Trang mất tại chùa Ngọc Hoa.\\n    Đời ngài phiên dịch tổng cộng 75 bộ kinh chữ Phạn, 1335 quyền. Sự thành công rực rỡ ấy đối với phương-diện văn hóa xã hội Trung Hoa thời bấy giờ có ảnh hưởng rất lớn.\\n    Ngày 14 tháng 4, an-táng ngài ở Bạch-Lộc-Nguyên. Khi tang lễ cử hành, phụ-cận Tràng-An 500 dặm, người đến tổng-táng có ước 100 vạn người, có 3 vạn người làm lều ở cạnh mộ ngài mà ở. Như thế có thể biết người thời bấy giờ yêu chuộng ngài Huyền-Trang đến bực nào.\\n  </page>\\n  <page page=\"20\">\\n    Bản ngã là gì?\\n    Bản ngã thật ra chỉ là ngã chấp.\\n    Có hai thứ ngã chấp: câu sanh ngã chấp và phân biệt ngã chấp.\\n    I- Câu-sanh ngã chấp: Câu-sanh ngã chấp thuộc về Mạt-na là thứ ngã chấp đồng có một lần với thân, chứ không phải do có sự phân biệt vọng chấp mới có. Cái ngã chấp này có từ vô thỉ, chỉ khi nào giác ngộ thành Phật mới hẳn tiêu-tan, còn là chúng-sanh thì vẫn còn.\\n    Câu-sanh ngã chấp có hai tác dụng phân-biệt: Một là trực giác chấp-ngã tức là chỉ cho Mạt-na duyên với kiến phần A-lại-gia và chấp cái cảnh tượng mà mình đã biến ra làm tướng phần của mình. Ấy là ngã chấp sâu xa, thâm-thiết. Hai là biết chấp-ngã, là khi Mạt-na trực giác đối tượng, có những tâm sở ngã kiến, ngã-ái, ngã-mạn, ngã-si phát sinh phân-biệt tham đắm. Hai loại ngã chấp thuộc về Mạt-na này thật khó trừ diệt, nó có trước khi có sinh mệnh, nó có từ vô-thỉ, chứ không phải chỉ khi ta sinh ra nó mới phát hiện. Trên đường tu-đạo phải quán thù thắng sinh không mới dần dần trừ diệt được.\\n  </page>\\n  <page page=\"21\">\\n    II. Phân-biệt ngã chấp: là thứ ngã chấp mới có sau khi có thân, do sự phân-biệt vọng chấp. Cái ngã chấp này dễ trừ đoạn hơn; khi mới vào địa vị kiến-đạo, quán sanh không chân như là có thể tiêu diệt nó được.\\n    Phân-biệt ngã chấp, thuộc về ý thức, cũng có hai dụng phân-biệt: một là trực giác ngã-chấp tức là chỉ cho ý-thức khi chấp toàn thân và ý-thức là ngã một cách không cần phân biệt; hai là suy-nghiệm ngã-chấp tức là chỉ cho ý-thức khi dùng suy-nghiệm để chấp hoặc tư thân, hoặc ý thức, hoặc cả hai làm ngã bằng sự suy-nghiệm đo lường.\\n    Phân-biệt ngã chấp tất nhiên nương trên câu sanh ngã-chấp mà được phát hiện; tuy nhiên hoàn cảnh và ý thức là hai động lực thiết yếu để cho nó phát hiện. Trên Mạt-na, lúc nào cũng có ngã chấp thầm-kín, sâu xa; trên ý-thức, cái trực-giác ngã chấp cũng lấy đó làm nền tảng và do suy-nghiệm ngã-chấp cấu thành.\\n    Trẻ con lúc mới sinh, ý-thức về bản ngã của chúng rất lờ mờ, vì lẽ phân-biệt ngã chấp mới nhờ ý-thức và hoàn cảnh thai nghén một cách còn yếu ớt. Có thể nói rằng suy nghiệm ngã chấp đã có một cách lờ mờ, nhưng trực giác ngã chấp thì chưa có. Tuy nhiên câu sanh ngã chấp của nó vẫn có đầy đủ như thường, giống hệt như của người lớn.\\n    Lớn lên một chút, trẻ con đã có thể có quan-niệm về nó và về kẻ khác và bắt đầu phân-biệt mình và người, mình và vật. Nhờ sự động chạm giữa căn và cảnh, nó phân biệt được thân nó và sự vật khác với thân nó. Vì thế, đối với trẻ con, bản ngã nó tức là thân xác nó. Sự phân-biệt rõ ràng về mình, về người luyện nơi ý-thức của nó một trực giác chấp ngã.\\n    Có nhiều người lớn cũng chỉ quan-niệm về bản ngã giống hệt như trẻ con, cho bản ngã là xác thân mình, và chỉ có thế. Chỉ những kẻ suy-nghiệm ngã chấp tinh-vi mới có được những quan-niệm về bản ngã khác hơn. Nhiều kẻ không cho xác thân là bản ngã nữa, và họ nói: “tôi muốn thoát khỏi cái xác này cho rồi”. Thế thì tôi và xác đã là hai cái khác nhau.\\n  </page>\\n<page page=\"22\">\\n    Những kẻ ấy hắn cho \"ta\" là ý thức, là một linh hồn có tính cách thuần nhất và có thể tồn tại ngoài xác thân. Có kẻ lại cho \"ta\" là tổng hợp của tất cả những kiến thức, tư tưởng, tình cảm, không có tính cách thuần nhất. Bản ngã là gì? Thật khó trả lời vì thực ra ta không tìm hiểu nó được, và cũng vì nó không thực có. Bản ngã nếu như có, nó phải là một cái gì có chủ tể. Ta thử nhìn xem cái gì là thân xác ư? Thân xác thì luôn luôn biến đổi, hằng giờ, hằng phút. Thân xác chỉ là sự tập hợp của vô số tế bào sống đang biến chuyển mau lẹ vô cùng. Tinh thần ư, tinh thần là tất cả mọi tư tưởng, cảm giác, tri giác, các hiện tượng ấy vẫn tiếp tục biến chuyển... thay đổi màu sắc, không khi nào và chẳng có gì là thuần nhất cả. Nói bản ngã tức là gồm tất cả những yếu tố vật lý, tâm lý, cũng không được, vì hợp lại, chúng cũng chẳng có tính cách thuần nhất chút nào. Nếu nói bản ngã là một cái gì chẳng phải vật lý cũng chẳng phải tâm lý — là bản ngã ly uẩn — thì cái ấy sẽ đồng như hư không, không còn có tác dụng gì hết, làm sao có thể gọi là bản ngã được? Khi chúng ta nói: \"Tôi ở Saigon,\" thì chữ tôi ấy chính là để chỉ cho thân xác. Khi chúng ta nói: \"tôi suy nghĩ,\" thì chữ tôi ấy không chỉ cho thể xác nữa mà chỉ cho ý thức. Khi chúng ta nói: \"Tôi viết một bài diễn văn,\" thì chữ tôi ấy chỉ cho cả thân xác lẫn ý thức, vì chính phải nhờ trí óc suy nghĩ và nhờ tay viết. Thế thì tôi là cái gì? Là thân xác, là ý thức, hay là cả thân xác và ý thức hợp lại? Sao lại có sự không đồng nhất ấy? Tôi có thể là xác thân, lại có thể là ý thức, tôi là hai hay là một?\\n</page>\\n<page page=\"23\">\\n    Lại như chúng ta bảo: \"thân xác của tôi to lớn,\" thì tôi là cái gì? Lẽ dĩ nhiên là cái có thân xác. Thân xác là cái sở hữu của tôi. Thế thì thân xác không phải tôi. Thế thì ngoài thân xác còn cái Tôi nào nữa? Chúng ta lại bảo: \"ý thức của tôi, ý thức của anh.\" Thế thì ý thức cũng là một vật sở hữu của cái tôi và ngoài ý thức còn có cái Tôi nào nữa? Cái Tôi ấy là trừu tượng hay cụ thể. Nếu trừu tượng thì hình tướng nó như thế nào? Nếu cụ thể thì nó là cái gì? Nếu không trừu tượng cũng không cụ thể, thì nó đồng như cái không vậy. Nói rằng bản ngã vừa là đồng nhất, vừa là biến chuyển cũng không xong. Thử hỏi cái phần đồng nhất ấy có khác biệt với phần biến chuyển không? Nếu khác biệt, thì không có tính cách duy nhất, nếu không khác biệt, thì lại bị biến chuyển, sao lại gọi là đồng nhất được? Bản ngã chỉ là những quan niệm có về một cái gì đồng nhất, chủ tể, một cái gì đó tự thân nó không có. Sự sống chỉ là một dòng biến chuyển mà trong ấy không có một bản ngã lãnh đạo. Năm trước, tôi mua một chiếc xe đạp. Cách đó vài tháng, tôi thay cặp bánh, cách đó nửa năm, tôi thay cặp niềng. Cái xe có thay đổi, nhưng tôi cứ bảo là cái xe của tôi trước kia. Cứ lâu lâu, tôi lại phải đổi nào chuông, nào tản, nào đèn, đổi luôn cả khung xe, đổi căm, đổi líp, đổi tất cả. Đến nay, cái xe ấy, tôi đang dựng bên tường. Tuy nó đã hoàn toàn thay đổi, tôi cứ bảo rằng nó là cái xe của tôi mua năm xưa. Thế thì cái xe ấy, ngoài hình thức nó ra, còn có một cái hồn xe duy nhất, không biến chuyển ư? Nếu cái xe chịu luật biến chuyển thì bên trong phải có một cái gì, cái hồn xe chẳng hạn, không biến chuyển, tôi mới có ý niệm rằng đó là cái xe của tôi mua năm xưa chứ! Thực ra, làm gì có cái hồn xe! Cái xe là một dòng biến chuyển mà không có bản ngã, chủ động. Thân thể và tâm hồn ta cũng là một dòng biến chuyển mà không có bản ngã chủ động. Vì thế, cái bản ngã chủ thể (le moi-sujet) và cái bản vị đối tượng (le moi-objet) đều là những giả danh, không có thực, chỉ do phân biệt vọng chấp mà hình như thực có. Cái vọng chấp của ý thức, tuy thế vẫn nương trên vọng chấp của Mạt-na. Nguồn gốc sâu xa của ngã chấp là ở Mạt-na. Mạt-na kết tinh của vô minh, luôn luôn lấy phần tri kiến của Alaya làm đối tượng để chấp đó là ngã, chấp một cách chặt cứng, không rời ra bao giờ. Alaya tự nhiên không muốn mà trở thành ra ngã tướng, bị Mạt-na chấp. Cái kiến chấp ấy vô lý quá, mà cũng sâu thẳm quá, rất khó dùng ý thức để tìm hiểu và đoạn trừ được; chỉ có thể do công phu thiền định mới thấy rõ và tiêu diệt được nó thôi.\\n</page>\\n<page page=\"25\">\\n    Vì sao cần thống nhất Phật Giáo Việt Nam\\n    I.- Nhận xét những nguyên nhân làm chậm bước tiến của thống nhất. Đại hội toàn quốc của Phật giáo Việt Nam, họp tại chùa Từ Đàm năm 1951, đã đặt nền móng cho sự thống nhất Phật giáo Việt Nam. Điều lệ của Tổng hội đã được toàn thể đại biểu của Tăng đồ và tín đồ Phật giáo dự thảo chấp thuận, và được chính phủ duyệt y. Tinh thần thống nhất đã có. Kế hoạch thực hiện cũng đã vạch. Giấy tờ căn bản hợp lệ cũng đã đủ. Chỉ còn vấn đề thực hiện nữa là hoàn thành. Thật ra, trong mấy năm lại đây, chúng ta không phải không thực hiện thống nhất. Chỉ tiếc là chúng ta đã thực hiện một cách chậm chạp quá! Những nguyên nhân gì đã làm chậm bước tiến ấy? Có nhiều lý do, mà sau đây là những lý do chính: 1. Vấn đề tâm lý. Một số quý vị lãnh đạo trong các tập đoàn của Tổng hội có tâm lý rất \"Đại thừa,\" nghĩa là không cho là quan trọng vấn đề tổ chức thành đoàn thể có hệ thống. Họ nghĩ rằng ngày xưa đức Phật có tổ chức thành giáo hội đâu mà đạo Phật vẫn được truyền bá, bành trướng mạnh mẽ cả năm châu. Miễn là mỗi người đều nghĩ đến Phật, đều làm Phật sự, muốn người như một, triệu người như một, thì không cần đoàn kết mà bằng mười đoàn kết, không thống nhất mà bằng mười thống nhất. Tổ chức chặt chẽ làm gì cho thêm hình thức, thêm việc...\\n2. Vấn đề người. Thêm việc, tức phải thêm người. Số người lãnh đạo được các tập đoàn địa phương đã không đủ, nay thêm ban quản trị trung ương, tất nhiên vấn đề người làm việc lại phải đặt ra và rất khó giải quyết. Trước tiên, có người đã quen sống trong hoàn cảnh của mình, trong nếp sống hằng ngày, nên không muốn rời bỏ cảnh cũ để tập trung vào ban Quản trị trung ương, mà trụ sở có thể là ở Huế hay Sài Gòn. Người Huế thì không thích vào Sài Gòn, người ở Sài Gòn lại không thích ra Huế. Vả lại, có nhiều vị trong hàng cư sĩ hiện đang tòng sự cho chính phủ, hay đang kinh doanh thương mại hay kỹ nghệ ở địa phương mình, họ không thể rời bỏ chỗ ở hiện tại để đến làm việc nơi có trụ sở của ban Quản trị trung ương. Vì thế cho nên từ trước đến nay, nhân viên ban Quản trị trung ương đều ở rải rác mỗi người mỗi nơi, sự trao đổi ý kiến, hội họp rất là bất tiện. Đó là nguyên nhân chính của sự chậm tiến của thống nhất Phật giáo Việt Nam.\\n3. Vấn đề Phật sự ở các tập đoàn. Trong khi Phật sự ở trung ương chưa phát triển mạnh, bộ máy điều khiển chưa vững chắc, tất nhiên vì nhu cầu của tín tâm người Phật tử, các Phật sự ở các tập đoàn cần được tiếp tục, và hơn nữa, vì sự quy ngưỡng Phật giáo của đồng bào đang lên mạnh, nền công việc ở các tập đoàn mỗi ngày mỗi nhiều. Quý vị lãnh đạo trong các tập đoàn cũng là những ban viên của ban Quản trị Trung ương. Khi họ phải lo giải quyết những vấn đề cấp bách của địa phương mình, tập đoàn mình mà chưa đủ thời giờ, thì còn thì giờ đâu để nghĩ đến ban Quản trị Trung ương? Trên đây là vài ba nguyên nhân chính đã làm đình trệ sự thống nhất Phật giáo Việt Nam. Nhưng có nên vì những nguyên nhân ấy mà chặn đứng sự thống nhất, mà đành chịu đầu hàng những trở lực, những chướng ngại trên đường thống nhất chăng? Tất nhiên là không thể như thế được! Sự thống nhất có một giá trị rất cao quý mà dù khó khăn bao nhiêu chúng ta cũng phải cố vượt qua, dù mua với một giá đắt nào cũng vẫn còn rẻ hơn cái giá mà chúng ta sẽ thu thập được, một khi sự thống nhất Phật giáo thực hiện. Nếu chúng ta đầu hàng những khó khăn hiện tại, nền Phật giáo nước nhà sẽ còn tiếp tục chịu đựng rất nhiều thiệt hại trong phạm vi tinh thần cũng như trong phạm vi hoằng dương chính pháp.\\n</page>\\n<page page=\"27\">\\n    II. Những thiệt hại của Phật giáo nước nhà trong tình trạng hiện tại.\\n    1. Lực lượng tinh thần bị chi phối. Điều này không nói thì ai cũng đã thấy: Trong thế giới hiện nay, một sức mạnh tinh thần bao giờ cũng là một sức mạnh có tổ chức, có hệ thống. Nếu không được như thế, thì chưa có thể gọi được là mạnh. Câu chuyện \"bó đũa\" tuy giản dị, nhưng vẫn sâu sắc và vẫn còn là một bài học thâm thúy, có giá trị cho chúng ta. Trong nội bộ, sự thống nhất sẽ gây thêm sức mạnh tinh thần cho tín đồ; sẽ làm cho họ vững tâm tu học, tin tưởng rằng mình đang ở trong một tổ chức lớn lao, có thể dùm bọc che chở mình trong lúc tiến bước trên đường Đạo.\\n    2. Lực lượng vật chất sẽ bị tản mác. Chùa chiền chúng ta rất nhiều, đất ruộng chúng ta không phải ít. Tín đồ Phật giáo Việt Nam rất đông. Nếu chung góp lại, thì đó là một lực lượng đáng kể. Nhưng hiện nay, Phật giáo Việt Nam vẫn thiếu thốn, nghèo nàn về vật chất; mỗi khi cần đến tài chánh để thực hiện một Phật sự có ích cho Đạo hay cho đời, chúng ta lại phải chạy quanh, lúng túng vay mượn, quyền góp một cách khó khăn, chật vật.\\n    3. Những công cuộc thực hiện không thể to tát hoàn bị được, mà có khi còn dẫm đạp lên nhau. Hiện nay tập đoàn nào cũng đang khuyếch trương công tác Phật sự; các ngành chuyên môn trong mỗi tập đoàn: Hoằng pháp, nghi lễ, Gia đình Phật tử, giáo dục, văn nghệ, v.v... đều đang tiến mạnh; nhưng chỉ tiến được trong phạm vi hẹp hòi của tập đoàn mình mà thôi. Các tập đoàn dù muốn, dù không cũng không thể vượt phạm vi của mình, vì tài chánh, nhân lực, ý kiến đều có hạn. Do đó, công tác thực hiện khó có thể to tát, hoàn bị được. Có người cho rằng nếu mọi người, mọi nơi đều nghĩ đến Phật sự, làm Phật sự, thì đó là thống nhất rồi, đó là công tác to nhất. Thật ra vấn đề không phải giản dị như thế. Công việc của một người làm dù sao cũng chỉ là của một người. Nó có phạm vi của nó: Góp bao nhiêu cái nhỏ nhoi ấy lại, thì cũng chỉ thành một tổng số những cái nhỏ nhoi thôi, như góp nhiều hạt cát thì cũng chỉ thành một đống cát. Điều chúng ta muốn là làm thành những khối đá đồ sộ với những hạt cát ấy. Như thế tất nhiên không phải chỉ làm một bài toán cộng, mà phải có một kế hoạch chung, một chỉ huy chung, một sức lực chung; và mỗi người phải bỏ cái phạm vi riêng của mình mà phục vụ cho cái chung ấy. Một vài thí dụ cụ thể nhất, hiện nay các tập đoàn đều có ban phiên dịch và đang làm việc. Nhưng những việc làm ấy đều đơn độc, thiếu chương trình, kế hoạch chung, nên mỗi ban có thể dịch trùng một bản với những thiếu sót của mình; trong khi ấy thì có những bản khác cũng cần dịch mà lại chưa ai động đến. Một thí dụ thứ hai về Gia đình Phật tử: mỗi nơi đều làm việc, đều gặp những khuyết điểm giống nhau, hay khác nhau, nhưng vì thiếu liên lạc, nên những khuyết điểm ấy không được phổ biến cho nhau biết.\\n</page>\\n</document>'"
      ]
     },
     "execution_count": 62,
     "metadata": {},
     "output_type": "execute_result"
    }
   ],
   "source": [
    "input_text"
   ]
  },
  {
   "cell_type": "code",
   "execution_count": 64,
   "metadata": {
    "trusted": false
   },
   "outputs": [
    {
     "name": "stdout",
     "output_type": "stream",
     "text": [
      "translating chunk: 0\n"
     ]
    }
   ],
   "source": [
    "translation_data = []\n",
    "input_text_chunks = [to_tx_text]\n",
    "translation_message_seq = generate_messages(system_message_translate, user_wrap_function_translate, input_text_chunks)\n",
    "for i, tx_msgs in enumerate(translation_message_seq):\n",
    "    print(f\"translating chunk: {i}\")\n",
    "    completion_tx = run_immediate_chat_process(tx_msgs)\n",
    "    if completion_tx:\n",
    "        tx_response = completion_tx.choices[0].message.content\n",
    "        translation_data.append(tx_response)\n",
    "    else:\n",
    "        print(\"failed.\")\n",
    "        break"
   ]
  },
  {
   "cell_type": "code",
   "execution_count": 65,
   "metadata": {},
   "outputs": [
    {
     "name": "stdout",
     "output_type": "stream",
     "text": [
      "<document>\n",
      "  <page page=\"1\">\n",
      "    <title>Journal of Buddhism in Vietnam</title>\n",
      "    <contents>Số 25 và 26 - Special Edition to Commence the Third Year</contents>\n",
      "    <author>Thích Nhất Hạnh</author>\n",
      "  </page>\n",
      "  <page page=\"2\">\n",
      "    <title>Table of Contents</title>\n",
      "    <p>The Vietnamese Buddhism enters its third year</p>\n",
      "    <p>Truth does not lie in language and words</p>\n",
      "    <p>Venerable Huyền Trang's journey to India to seek scriptures (continued)</p>\n",
      "    <p>What is the self?</p>\n",
      "    <p>Why it's necessary to unify Vietnamese Buddhism</p>\n",
      "    <p>The Vietnamese Buddhism Monthly's interview on the issue of unification</p>\n",
      "    <p>Plan to unify rituals</p>\n",
      "    <p><i>Chia gia-lài</i> (A Dharma story)</p><footnote number=\"1\">[1]</footnote>\n",
      "    <p>Documents on the Buddhist Family (continued)</p>\n",
      "    <p>Proper understanding of the significance of the Buddhist Family</p>\n",
      "    <p>Two enduring peaks (A short story)</p>\n",
      "    <p>Thích Đức-Nhuận</p>\n",
      "    <p>Thích Tâm Châu</p>\n",
      "    <p>Thích Tâm-Thọ</p>\n",
      "    <p>Nguyễn-Khắc-Từ</p>\n",
      "    <p>Hùng-Khanh</p>\n",
      "    <p>Minh-Hữu</p>\n",
      "    <p>Buddhism in America</p>\n",
      "    <p>Viên Minh</p>\n",
      "    <p><i>Cội Phúc</i> (Short story awarded an honorable mention)</p><footnote number=\"2\">[2]</footnote>\n",
      "    <p>Lê-Văn</p>\n",
      "  </page>\n",
      "  <footnotes>\n",
      "    <footnote number=\"1\">Chia gia-lài: This refers to a Dharma-related story, reflecting on moral or ethical teachings from Buddhism.</footnote>\n",
      "    <footnote number=\"2\">Cội Phúc: A story focusing on virtues and merits, reflecting the Buddhist ideal of accumulating 'roots of blessings' through virtuous actions.</footnote>\n",
      "  </footnotes>\n",
      "  <page page=\"4\">\n",
      "    <title>The Vietnamese Buddhism Enters its Third Year</title>\n",
      "    <p>With issues 25 and 26, the Vietnamese Buddhism Monthly steps into its third year.</p>\n",
      "    <p>Before making new strides, we should pause, reflecting on the past journey to glean lessons, enabling us to move forward strongly, avoiding pitfalls, and aligning with the predetermined goals.</p>\n",
      "    <p>After months of gathering readers' opinions, we have compiled a set of insights about the Vietnamese Buddhism Monthly as follows: Some readers complain that the content of \"Vietnamese Buddhism\" is too condensed and narrow, confined within the scope of Buddhism, making it challenging to spread beyond and appealing only to a specific group of sincere Buddhists. This is indeed the reality. Despite our efforts to expand our scope, we cannot fully widen its boundaries, as the name \"Vietnamese Buddhism\" has already defined its limits. Every magazine has its unique principles, content, purpose, and the name, as its label, partly reveals its spirit. To change or broaden the scope, we would first need to change the name of the Monthly. However, the name \"Vietnamese Buddhism\" cannot be changed, as it was established by the Congress of the General Vietnamese Buddhist Association and authorized by the government.</p>\n",
      "    <p>To change the name requires another Congress of the General Association and government permission. Moreover, the purpose of the \"Vietnamese Buddhism Monthly\" at its inception was to express the voice of the General Association, its spirit, aspirations, program, prospects, and most importantly, report and advance the genuine unification of national Buddhism. Therefore, to those readers desiring expanded or transformed content, we can only record those opinions and advocate for the publication of a new magazine.</p>\n",
      "    <p>Some readers claim the articles are too advanced, challenging for most to grasp, benefiting primarily those with substantial learning, while the majority find little benefit. Yet, other readers argue that a General Association paper must express the profound aspects of the Dharma—otherwise, it would be no different from other magazines! Indeed, the situation is complex! Nonetheless, the majority claims that the Vietnamese Buddhism journal is difficult to understand. Therefore, we will strive to satisfy our dear readers by addressing common topics in a simple, easy-to-understand, conventional manner. However, we cannot disregard the opinions of others, asserting that we cannot entirely lower the content standard of the Monthly, and must dedicate some pages to express the profound significance of the Dharma, reflecting a portion of the cultural value of the General Vietnamese Buddhist Association's entity.</p>\n",
      "    <p>Youthful readers, especially the brothers and sisters of the Buddhist families, complain that the Vietnamese Buddhism journal hasn't addressed or has addressed too little about youth issues and the Buddhist family. This complaint holds some validity. Henceforth, we will rectify this omission.</p>\n",
      "  </page>\n",
      "  <page page=\"5\">\n",
      "    <p>Regarding format, some older readers request larger print for easier reading. Recently, we have adjusted this, with several articles now featured in relatively larger fonts. Yet, this issue largely depends on the printing press: whether due to a shortage of large fonts or the urgent need for printing, large fonts aren't always in stock. Nonetheless, we will strive within our capacity to please our valued readers.</p>\n",
      "    <p>In summary, as we step into the third year, we will remember the precise feedback from our esteemed readers and strive to implement it, reciprocating the sincere affection they have shown to \"Vietnamese Buddhism\" and fortifying the foundation of our shared voice for Vietnamese Buddhism.</p>\n",
      "  </page>\n",
      "  <page page=\"6\">\n",
      "    <title>Truth Does Not Lie in Language and Words</title>\n",
      "    <p>Buddhism asserts that absolute truth cannot be disseminated through language or written words. Truth is limitless, boundless, without restriction; the intellect, writing, and language are bounded, limited entities; to compare the bounded with the boundless or the finite with the infinite is impossible. Truth in texts is not truth; words and language are mere reflections of truth. Even reflections are not truth, less so when they change form!</p>\n",
      "    <p>For 49 years, the Buddha preached, yet He declared, \"In 49 years, I have not said a single word.\" This statement illustrates that truth cannot be captured through language or writing. The <i>Kinh Kim-Cang</i> teaches that enlightenment spoken of as enlightenment is not genuine enlightenment. The Buddha also said, \"Relying on scriptures for meaning misunderstands all Buddhas; yet, to leave a single word of scripture equals a demon's teachings.\" Scriptures and enlightened teachings are not truth themselves but tools to indicate truth. Claiming them as truth wrongs the Buddhas of the three times. However, if we dismiss them, what's left is the heretical teachings of the Demon King. Buddha further taught: \"Truth is like the moon, and my teachings are like a finger pointing at the moon. Don't mistake my finger for the moon.\" How profound and complete is the Buddha's point!</p>\n",
      "  </page>\n",
      "  <page page=\"7\">\n",
      "    <p>The temperature of a cup of tea, the odd shapes of microbes—these seemingly simple things we still struggle to grasp or perceive directly—more so the truth, which only awakened insight, free from delusion, can truly realize! Thus, researching to 'understand' truth is a misconception. Researching to practice oneself, relying upon it to realize truth, is the goal of a Buddhist learner. Thus, the aim of Buddhist psychology is not merely to satisfy intellectual curiosity, but to serve as a medium to demonstrate truth; for by itself, it is not absolute truth, depending on language, words, and worldly intelligence to express it.</p>\n",
      "    <p>All expressed through words are mere tools, and as previously stated, these tools are not truth; not being truth means they are errors. What, then, is truth? In this life, we have not yet been able to \"speak\" a single truth. Is two plus two four? Not necessarily: two potatoes and two carrots eternally remain two potatoes and two carrots, never becoming \"four.\" Two dollars and two dimes are perpetually two and two, not four dollars or dimes. Where then is truth? Outside of words and language! Contradiction embodies errors; Buddhist philosophy holds that all conceptions inherently contain contradictions, and if truth is termed as such, it remains relative truth. This contradiction leads to the negation of conceptions about truth and brings us to a higher level, yet still within relativity. Relative truth still contains contradictions and, accordingly, lead to further negation, progressing understanding. Yet, understanding through discourse, no matter how high, is never absolute truth.</p>\n",
      "  </page>\n",
      "  <page page=\"8\">\n",
      "    <p>Though the teachings of the Enlightened One are not absolute truth, they are invaluable, for they are the devices to reveal truth. They are not truth, expressed through language and writing, formulated through worldly reasoning, which without, we cannot lean upon to realize truth. Thus, learning is to understand, to see, to avoid clinging to truth as expressible via language and writing, so that one can rely on these devices to approach the ultimate. Amidst learning, we have the right to doubt; doubt is a tool for enlightenment, revealing insights through inquiry. Do not blindly cling to literature; use the intellect and diligent practice to observe truth, to gain enlightenment. Buddhist psychology differs from Western psychology in this. Above all, do not hold onto attachments, as these obscure truth, and eradicating attachment simultaneously dispels the deluded passions obscuring direct intuition.</p>\n",
      "    <p>Two friends stand, one facing south, the other north. The one facing south sees a phoenix fly by and tells his friend: \"Look, a Phoenix!\" But by the time he speaks, the phoenix vanishes. Thus, the other friend continually demands to see the phoenix, to know its shape, its plumage. Helpless, his friend resorts to sketching a very beautiful, lifelike (or so let's assume) phoenix, releasing it into the sky. This leads the other to assume the paper bird is the phoenix. \"Phoenix is that paper bird; paper bird is Phoenix, paper bird and Phoenix are one.\" In so doing, one risks understanding the nature of transformation—not viewing the mere reflection as the true nature.</p>\n",
      "  </page>\n",
      "  <page page=\"10\">\n",
      "    <title>Venerable Huyền Trang's Journey to India to Seek Buddhist Scriptures</title>\n",
      "    <p>Original text in Han script by DƯƠNG ĐÌNH PHÚC</p>\n",
      "    <p>Translated by NÔNG-SƠN</p>\n",
      "    <p>(Continued from issues 23 and 24)</p>\n",
      "    <p>Venerable Huyền-Trang initially arrived at the land of Y-Lạn-Na-Bát-Đa, South India (now part of Áo-Lý-Tát), where he stayed for one year. He studied under the great master Đát-Tha-Yết-Đa and Thầy Tăng-Yết-Đề. He then crossed the immense ocean waves to reach the Indian Ocean, arriving at Khoa-La-Man-Đắc, and the island of Tăng-Già-La (Sri Lanka). From Tăng-Già-La, he traveled to Yết-Lăng-Ca, South India (present-day Mã Đích-Lạp-Tư, South India). From there, he journeyed west 1800 miles to the land of Nam Kiều-Tát-La (in current Hải-Đắc-Lạp-Ba, Central India), entering the territory of Central India to study Brahmanism (<i>nhân-minh-học</i>).</p><footnote number=\"1\">[1]</footnote>\n",
      "    <p>He braved countless perils, traversing westward to Lang-Yết-La, Western India (in Khách-Lạp-Xuy, West India), before returning to Bát-Phật-Đa-La, North India (unidentified). There, he studied for two years, then spent another two years on the Trường-Lâm mountain, learning \"Consciousness-Only\" (<i>Duy-Thức</i>) and studying the Vedas, along with astronomy and geography.</p><footnote number=\"2\">[2]</footnote>\n",
      "    <p>Over the span of six years, Master Huyền-Trang traversed East, South, West, North, and Central India, greater and lesser areas amounting to over 100 countries, reading all their scriptures. After six such years, he returned to Nalanda monastery. Master Giới-Hiền assigned him to lead the lectures, teaching the <i>Nhiếp-Đại-Thừa-Luận</i> to all the monks at the monastery. At that time, a notable disciple of Master Giới-Hiền named Sư-Tử Quang was discontent with Master Huyền-Trang's role as chief lecturer. To respond, Master Huyền-Trang composed 3,000 verses of the \"Hội-tôn-luận,\" elucidated its grand meaning, and was unanimously praised and admired by Master Giới-Hiền and all the monks, leaving Sư-Tử Quang embarrassed and reluctant to return for a year.</p>\n",
      "  </page>\n",
      "  <page page=\"11\">\n",
      "    <p>During this time, a Brahmin scholar hung over 40 debate theses at the entrance of Nalanda monastery, boasting that anyone refuting even one would be permitted to cut off his head to acknowledge the defeat. No one dared challenge, but Master Huyền-Trang requested Master Giới-Hiền and other senior monks to witness his debate with this Brahmin. Ultimately, the Brahmin could not avoid admitting his error. Though he was willing to keep his promise, Master Huyền-Trang laughed and said, \"As a monk, I do not kill. Would you have your spirit follow me?\"</p>\n",
      "    <p>Yết-Nhược-Cúc-Am was a great nation in Central India, known in Indian history as the Gupta Empire—an era marked by flourishing Middle Age culture in India under King Giới-日本(\"the Sun King\"). Buddhism thrived expansively. Once, when King Giới-Nhật led a military campaign through the kingdom of Cung-Ngự-Đà (currently unidentified), passing through Ô-Đồ, Đại sư Ban-Nhã Các-Đá composed 700 verses of \"破大乘論\" (refuting Mahayana Buddhism as the 'flower of heresy'). King Giới Nhật wrote to Master Giới Hiền, requesting a representative for a debate at Ô-Đồ. Master Giới-Hiền conferred with others and selected Master Huyền-Trang along with Sư-Tử-Quang, Hải-Tuệ, and Trí-Quang— four great disciples. Among them, three hesitated in fear, while only Master Huyền-Trang boldly sought out the texts of \"Phá đại thừa luận,\" studied them diligently, and discussed any doubts with the Brahmin he had previously debated. Eventually, Master Huyền-Trang composed 1600 verses of \"Phá-Ác-Kiến-luận,\" presenting them to Master Giới-Hiền, which earned extensive admiration from all who read it.</p>\n",
      "  </page>\n",
      "  <footnotes>\n",
      "    <footnote number=\"1\">Brahmanism: In Vietnamese, this is referred to as <i>nhân-minh-học</i>, an ancient Indian system of intellectual inquiry into reality, being, and the universe.</footnote>\n",
      "    <footnote number=\"2\">Consciousness-Only: Known in Vietnamese as <i>Duy-Thức</i>, a Buddhist school focusing on the idea that perceptions of the material world are merely manifestations of consciousness.</footnote>\n",
      "  </footnotes>\n",
      "  <page page=\"12\">\n",
      "    <p>By then, the king of Già-Ma-Lũ-Ba kingdom in East India (currently Bihar, India) named Cưu-Ma-La revered Master Huyền-Trang and sent envoys to invite him. When King Giới-Nhật returned home, he learned Master Huyền-Trang had traveled to Già-Ma-Lũ-Ba and promptly arrived there to invite Master to return. Together, both kings planned a grand assembly in Khúc-Nữ, the capital of Yết-Nhược-Cúc-Am, to display the wisdom and discourse of a Chinese scholar.</p>\n",
      "    <p>In December, the grand assembly saw scholars from distant lands; 18 kings from 18 nations of the five Indian regions, 3,000 monks well-versed in both Mahayana and Hinayana doctrines, alongside more than 2,000 Brahmins and heretic sages, and over 1,000 monks from Nalanda monastery came to participate. Despite their diverse faiths and beliefs, all attendees were learned, cultivated individuals—the assembly marked a grand cultural convergence, representing the foremost apex of Indian history.</p>\n",
      "    <p>The assembly commenced with Buddhist rites, then all invited Master Huyền-Trang to the seat of honor as chief lecturer. He began by explaining the \"Phá-ác-kiến luận\" and many Mahayana views, publicly displayed in front of the debate hall. Throughout the course of eighteen days, although many attended, no one could propose a single challenge. At the close of the assembly, King Giới-Nhật gifted Master with 10,000 gold, 30,000 silver, and 100 fur garments; eighteen other nations sent valuable gifts, yet Master declined all offerings.</p>\n",
      "  </page>\n",
      "  <page page=\"13\">\n",
      "    <p>According to ancient Indian tradition, anyone victorious in debate rode an elephant around the area: the eighteen kings specially invited Master Huyền-Trang to ride a great elephant adorned with flowers, guarded by citizenry on both sides, declaring his independence without reliance on others, achieving respect through merit alone. Although Master declined several times, he eventually adhered to ancient customs. Crowds lifting his robe accompanied him, proclaiming to the people, \"The Chinese Dhamma Master resolved Mahayana meanings, demolished all opposing views, for eighteen consecutive days without challenge, and everyone acknowledged so.\" The entire assembly erupted in celebration, incense and flowers overspread. Thereafter, his scholarship and prestige echoed throughout the five regions of India.</p>\n",
      "    <p>Subsequently, he and King Giới-Nhật jointly organized a 75-day-long \"無價\" (invaluable assembly) in Bát-La-Ra-Già, attended by 50,000 spectators—an unprecedented gathering in Indian history.</p>\n",
      "  </page>\n",
      "  <page page=\"14\">\n",
      "    <p>During Master Huyền-Trang's participation in the \"無價\" assembly, at age 48, he had spent 13 years in India. Though tempted to stay by the people of India, his unwavering intention to return to his homeland compelled him in 643 (17th year of the Tang dynasty's Zhenguan reign) to load on elephants and horses 657 Buddhist scriptures and various artifacts, commencing his journey back.</p>\n",
      "    <p>His return spanned two years, fraught with danger, yet losing only a few manuscripts. Reaching Đát-Thoa-Thi-La (50 miles southwest of Già-Thấp-Di-La), while crossing the mighty Sindhu River, sudden storms violently tossed his boat, deducting 50 bundles of scripture and rare Indian plant seeds. During this time, King of Già Thấp-Di-Ta, residing in Ô-Đạc-Già-Hán on the Sindhu River, fortuitously encountered Master Huyền-Trang, inviting him along and dispatching attendants to escort him up to the western jungles of Đại Tuyết mountain (now Hưng-Đô-Khố-Thập mountain). Master forged through the wilderness to Thông-Lĩnh, reaching Khư-Sa (present-day Xơ-Lặc, Xinjiang), Kiếp-Bàn-Đà (Hapoinor, Xinjiang), to Tích-Cư-Già (Aligiclicklik, Xinjiang), where he detained for seven months. During that time, instructing the Vu-Điền populace, Master sent emissaries to Khuất-Chi, Khư Sa seeking to recover lost scriptures.</p>\n",
      "  </page>\n",
      "  <page page=\"15\">\n",
      "    <p>Previously, Master ventured illegally overseas; yet despite this, as a patriot ever in heart, he now pondered how to convey his return back to his homeland gracefully. He crafted a poignant letter entrusted to Vu-Điền traders heading to Tràng-An, to be submitted to Emperor Lý-Thế-Dân. The letter detailed his academic quest for Buddhist studies, the audacious travels to India encountering the vast desert, perilous Iron Mountain, and majestic Himalayas—crossing over 50,000 miles on foot, overcoming countless hazards, his eventual arrival in India, living there for over a decade before returning to Vu-Điền. Alas, his large elephant drowned amidst the voyage, he acquired abundant Buddhism texts, yet lacked the means to transport, and so remained in Vu-Điền, biding Holy Emperor's decree...</p>\n",
      "    <p>Upon receiving the message, Emperor Lý-Thế-Dân promptly responded: \"Joyful upon knowing Master has returned from abroad; anticipating eager reunion. I ordered Vu-Điền to ensure manpower, horses, and protective escort for Master, appointing officials from Đôn-Hoàng to greet at the Lưu-Sa desert area, and at Nghiệp-Thiện to meet towards Thu-Mạt... (now Nặc Khương County, Xinjiang).</p>\n",
      "    <p>On January 24, 645 (19th year of the Tang dynasty's Zhenguan reign), Master Huyền-Trang peacefully returned to Tràng An. His journey spanned 17 years, and by his return, he had become a man over 50, his hair radiant white.</p>\n",
      "    <p>Upon hearing of Master Huyền-Trang's arrival at Tràng-An, Emperor Lý-Thế Dân sent high-ranking officials to greet him. Thousands upon thousands of citizens lined Tràng An's streets to cheer, as Master displayed all he brought from India: scriptures, Buddhist images, wagons, and parasols adorned with flowers, creating a grand exhibition down on Chu Tước street.</p>\n",
      "  </page>\n",
      "  <page page=\"16\">\n",
      "    <p>On March 1, the same year, Master Huyền-Trang settled in Hoằng-Phúc Monastery, the capital Tràng-An, preparing a large-scale translation work, inviting high-ranking monks and scholars from afar for assistance. The undertaking required positions such as Significance Correctors, Language Stylists, Scriveners, and Document Compilers; over fifty learned Samanas assisted in translating with correctness, augmented by outstanding scholastic monks like Linh-Khoát and Văn-Bị, numbering twenty-three in total.</p>\n",
      "    <p>Beginning mid-May and by year's end, he translated five major versions of the Great Bodhisattva Canon and the Buddha Realm Sutra.</p>\n",
      "    <p>In the fall of the second year, Master Huyền-Trang verbally recounted his 17-year voyage, traversing 128 nations, witnessing their condition, history, terrain, society, geography, resources, compiled by a disciple into 12 Booklets of the Đại-Đường Tây Vực Ký. Later readers found in its accounts not only grandeur and classic worth, but also persisted as a vital geographic history of Central Asia and India, leading to translations by Soviet, Japanese, British, German, and French nations. The specialist académics around the globe researched this work and concluded this book's grand value, encompassing wide range, precision, and thoughtful content, a pivotal travelogue among ancient East-West travelogues. Contemporary scholars studying historical and geographic subjects extensively relied on this source to clarify historical and geographic ambiguities about the 7th-century Indian region.</p>\n",
      "  </page>\n",
      "  <page page=\"17\">\n",
      "    <p>In 648 (22nd year of the Tang dynasty's Zhenguan reign), during May of the summer, Master Huyền-Trang had completed translating nine Buddhist texts. In June, an audience was held with Emperor Lý-Thế Dân at Ngọc-Hoa Palace; to commemorate Master Huyền-Trang's western pilgrimage, the emperor composed the introduction for the Đại-Đường Tam-Tạng-Thánh Giáo using 781 letters. The Buddhist monk Hoài-Nhân employed the great Jin Calligrapher Wang-Xi-Zhi's style to inscribe it on stone. The renowned Tang calligrapher Chử Tọa-Lương crafted two versions: one engraved at Ci'en Temple, another at Đồng Châu, both relics serving as esteemed calligraphy practice references.</p>\n",
      "    <p>In October of the same year, Emperor Lý-Trị (Kao-Tsung of the Tang Dynasty), to memorialize his mother, constructed Ci'en Temple, equipped with a Special Translation Institute, inviting Master Huyền-Trang to reside for scripture translation. Thus he resided eternally in Ci'en Temple solely dedicated to translation, rarely stepping outside. He feared his limited lifespan wouldn't complete such arduous, demanding translations; hence, he diligently pushed himself day and night. His schedule meticulously planned every day, squandering no moments, routinely ceasing work until late midnight and rising before twilight to allocate scriptures brought from India, marking them with red ink, preparing them for the following day's translation work. Throughout the day beyond translating, he answered queries from distant monks and scholars and instructed his disciples. Usually, the chambers and corridors overflowed with students seeking his wisdom.</p>\n",
      "  </page>\n",
      "  <page page=\"18\">\n",
      "    <p>In March 652 (3rd Year of Emperor Kao-Tsung's Yonghui reign), to store the Buddhist scriptures and images brought from India, a five-tiered pagoda was built at the western courtyard of Ci'en Temple. From the start, every dawn, people saw a monk over fifty carry bricks and stones with the builders. Initially unknown, over time discovered, it was indeed Master Huyền-Trang himself. He labored alongside the workers for two years until completion. To this day, that pagoda prominently stands in the western market of Xi'an, Shaanxi Province.</p>\n",
      "    <p>Five years later, ten more scriptures were translated. Due to youthful diligence and arduous travels, compounded by ensuing years of exhausting translations, his health significantly declined, frequently suffering from chest pain. Despite medication and persistence, he continued translating and teaching. By the age of 65, he began translating an extensive, challenging work, the Great Prajñā Sutra (大般若經) amounting to 200,000 verses in Sanskrit. Disciples concerned over the volume requested abbreviation; yet, Master Huyền-Trang insisted that translation should neither alter nor abbreviate the original text, compromising its intent. He resolved upon complete fidelity, comparing disparities among three versions, scrupulously cross-referencing two or three times before progressing. Through unwavering diligence, by 663 (Longshong Year 3), November, the massive 600-volume sutra was completed. He was then 68 years old.</p>\n",
      "  </page>\n",
      "  <page page=\"19\">\n",
      "    <p>The following year, on the night of the second day of February, Master Huyền-Trang passed away at Ngọc Hoa Temple.</p>\n",
      "    <p>In his lifetime, he translated 75 Sanskrit texts, totaling 1335 scrolls. His illustrious achievements profoundly influenced Chinese culture and society of his time.</p>\n",
      "    <p>On April 14, he was buried at Bạch Lộc Nguyên. During the funeral, within 500 miles of Tràng-An, attendees numbering about a million gathered for his funeral; 30,000 constructed tents, residing alongside his tomb. This affectionate response reflects the contemporary public's adoration for Master Huyền-Trang.</p>\n",
      "  </page>\n",
      "  <page page=\"20\">\n",
      "    <title>What is the Self?</title>\n",
      "    <p>The true self is merely the attachment to a false notion of self.</p>\n",
      "    <p>There are two types of <i>attachment to self</i>: innate attachment and discriminative attachment.</p>\n",
      "    <p>I- Innate attachment: This resides in the <i>Mạt-na</i>, emerging at the same time as the body, not formed by discerningly clinging. This attachment exists from time immemorial, only completely dissolving upon enlightenment to Buddhahood, persisting otherwise while in samsara. Innate attachment has two distinct functions: Direct grasping of self, as the <i>Mạt-na</i> associates with the cognitive phase of <i>A-lại-gia</i>, perceiving projections as its nature. This represents a profound, profound self-attachment.</p>\n",
      "    <p>Secondly, the knowledge of self-attachment arises when <i>Mạt-na</i> directly perceives objects, spawning self-view, self-love, self-pride, self-delusion, distinction, and attachment. These dual types of self-attachment associated with Mạt-na prove difficult to eradicate, existing before life's inception, having existed from the beginningless past, emerging not just upon birth. In the course of practice, meditating on the superior attributes and emptiness gradually removes them.</p>\n",
      "  </page>\n",
      "  <page page=\"21\">\n",
      "    <p>II. Discriminative self-attachment: This type occurs following embodiment, via distinguishingly clinging. Easier to sever; it disappears quickly upon entering insight stage through contemplation on the non-arising nature of True Suchness. Discriminative self-attachment pertains to the mind-consciousness with two distinct modes: immediate self-attachment, perceiving body and consciousness as self without differentiation; reflective self-attachment involves contemplating or measuring oneself, or consciousness, or both as self through reflection.</p>\n",
      "    <p>Discriminative self-attachment naturally relies on innate attachment for manifestation. Yet, environment and consciousness are crucial engines for its surfacing. Within Mạt-na, continually resides covert, profound self-attachment; in mind-consciousness, immediate self-attachment uses this as a base, constructing through reflective self-attachment.</p>\n",
      "    <p>Newborns possess a vague self-awareness, as reflective self-attachment emerges weakly through rising consciousness and environment, with vague reflection-based self-attachment present but immediate grasp not yet developed. Meanwhile, complete innate attachment exists similar to that of adults.</p>\n",
      "    <p>Growing older, children form notions about themselves and others, initiating discrimination between me, others, and objects. Through interactions between sense faculties and surroundings, they distinguish their bodies from others. Therefore, children perceive their bodily existence as selfhood, their evolving awareness of self and others forming immediate self-attachment in their minds.</p>\n",
      "  </page>\n",
      "  <page page=\"22\">\n",
      "    <p>Many adults similarly conceptualize selfhood like children, equating it solely with the physical body. Only those delving into reflective self-attachment might develop different views of selfhood, such as not viewing the body as self, saying: \"I wish to rid myself of this body.\" Hence, \"I\" and the body are different entities.</p>\n",
      "    <p>Such individuals perceive \"I\" as consciousness or a singular soul that may persist without the body. Others consider \"me\" a composite of knowledge, thoughts, feelings, lacking singularity. What is the self then? Truly, understanding it is intricate, for it doesn't truly exist. If the self existed, it would comprise a central command. Examining what the bodily form means? Body ever-altering, constantly transforming every hour, every moment. Body is but an assembly of countless, transient cells rapidly evolving.</p>\n",
      "    <p>Mind? Mind encompasses thoughts, sensations, perceptions, all continually evolving, shifting hues, never stable or uniform. Naming self as a total of physical and psychological elements is insufficient, as together, they don't form a singular entity. Proposing self as neither physical nor mental—as self apart from aggregates would equate to emptiness, void of function, inconceivable as a self.</p>\n",
      "    <p>When we say: \"I'm in Saigon,\" the \"I\" conveyed refers to the body. Saying: \"I think,\" the \"I\" no longer denotes the physical form but consciousness. When stating: \"I wrote a speech,\" \"I\" embodies both body and consciousness, reliant on thinking mind and hand writing. What then am I? Body, consciousness, or both combined? How can this lack of coherence be? \"I\" may refer to body, or consciousness; am I one or two?</p>\n",
      "  </page>\n",
      "  <page page=\"23\">\n",
      "    <p>Additionally, we claim: \"My body is large,\" indicating self is something possessing bodily form. Body then isn't \"I\"; outside the body, is there another self? Again we say: \"My consciousness, your consciousness,\" implying consciousness is a possession of self; outside consciousness, is there another self? Is this self abstract or material? If abstract, what is its form? If material, what is it? If neither, it parallels nothingness. Declaring self as both unified and transformative is unsound. Questioning this unified aspect, does it differ from the transformative? If distinct, lacks singularity; if indistinct, transformation commences, contradicting unity. Self remains but conceptualizations of a unified, central aspect selfhood inherently lacks. Life presents a flowing transformation, leading without a leading self.</p>\n",
      "    <p>A year ago, I bought a bicycle. Months later, replaced the wheels, and six months thereafter swapped the rims. The bicycle changed, yet I claim it's my previous bicycle. Gradually exchanging bell, fender, lamp, frame, spokes, gear—all transformed, and though now entirely altered, I assert it’s my original purchase. Within its form, does a singular, immutable 'bicycle soul' exist, or does its flux entail something indeterminably static, producing an idea that this is the bicycle I acquired long ago? Truly, 'bicycle soul' is nonexistent; the bicycle's evolution lacks a leading self, a guiding metric. Concurrently, our body and mind flow without a dominating self, devoid of contrary ego-identity or objectified self-identity hence merely false names, imaginings portrayed as reality.</p>\n",
      "    <p>This conceptual self-image subsists in the mind-consciousness, stemming from <i>Mạt-na</i>. <i>Mạt-na</i> aggregates ignorance, perpetually fixing <i>Alaya's</i> cognitive phase as an object, adhering fervently. <i>Alaya</i> involuntarily transforms into a self-image, grasped by <i>Mạt-na</i>. Such conceptual attachment, while profoundly irrational, is deeply ingrained, challenging for conscious understanding or cessation, achievable only through meditative effort to observe and dissolve.</p>\n",
      "  </page>\n",
      "  <page page=\"25\">\n",
      "    <title>Why It's Necessary to Unify Vietnamese Buddhism</title>\n",
      "    <p>I.- Recognizing causes for the slow pace of unification. The national conference of Vietnamese Buddhism, held at Từ-Đàm Pagoda in 1951, established the foundation for the unification of Vietnamese Buddhism. The charter of the General Association was drafted, approved by attendees, and sanctioned by the government. The spirit of unification was established, and the implementation plan laid out. Valid foundational documents are complete, pending execution to completion. Truly, over these years, we are working toward unification. Regrettably, our progress has been sluggish! What factors have slowed this advancement? Several reasons exist, with the following as main points:</p>\n",
      "    <p>1. Psychological factors. Some leaders of the General Association's groups view the organizational structure as secondary, asserting that Buddhism, in its early days under the Buddha, flourished without formal ecclesiastical institutions. As for the General Association's paper, precision of the ideation must not be entirely reduced, and appropriate emphasis should reflect its intrinsic cultural value on behalf of Buddhism across Vietnam. Unifying congregational allegiance without an agenda, without mandates promotes a flexible approach,<i> binding diverse elements into oneness </i>[1]. Unified focus fosters effective discernment and support by granting the 'one in the many' principle.</p>\n",
      "    <p>2. Personnel consideration. Task increase implies recruiting more people. Regional group leaders have insufficient staff; elevating additional central management posits personnel challenges. Chiefly, individuals accustomed to current settings resist relocating to central administration, whether Huế or Sài Gòn. Residents of Huế dislike moving to Sài Gòn, while Sài Gòn's populace resists moving to Huế.</p>\n",
      "    <p>Many esteemed laypersons currently engaged in government services or pursuing local business ventures cannot abandon their current positions to work at central leadership offices. This longstanding issue prevents cohesive management, inhibiting comprehensive unification.</p>\n",
      "  </page>\n",
      "  <page page=\"27\">\n",
      "    <p>3. Local congregational activities. While central Buddhist affairs lack firm leadership, necessitating sustenance for the devotees' faith, regional Buddhist activities persist and must be maintained. Meanwhile, increasing public inclination to Buddhism intensifies work in regional congregations while shortage of personnel limits capacity. Leaders, appointees of both regional and central councils, often prioritize their local issues, dedicating insufficient time to central affairs. These reasons chiefly account for delayed unification progress in Vietnamese Buddhism. However, should such setbacks halt unification efforts? Should difficulties cause surrender in pursuing unification? Such cannot be the case! Unification holds immense, priceless worth—obstacles overcome, costs worthwhile—greatly exceed any sacrifice. Failure to address present challenges risks substantial, prolonged detriments in promoting authentic Dharma across Vietnamese Buddhism.</p>\n",
      "    <p>II. The detriments of the national Buddhist condition today.</p>\n",
      "    <p>1. Spiritual forces are fragmented. This circumstance is self-evident; strong spiritual force requires organization and systematization. Resorting to individual ventures, however sincere, cannot substitute cohesive, eleven fellowship, equaled only by systemic unification. The simple \"bundle of chopsticks\" story remains profoundly instructive, a vital lesson still resonates today. Unified internal force will instill confidence among practitioners, assuring their part in a vast, interwoven support system as they progress along the Path.</p>\n",
      "    <p>2. Material resources risk fragmentation. Our countless temples, vast lands—these assets combined with the vast Buddhist populace signify considerable strength. Currently, Buddhism in Vietnam remains materially impoverished; at every needful instance, fund-raising or calling upon financial resources proves taxing and challenging.</p>\n",
      "    <p>3. Projects cannot achieve grand scale or perfection and often overlap. Presently, groups are widening Buddhist activities; specialized divisions like dharma propagation, rituals, Buddhist family organization, education, arts, and more progress within their respective scopes. Nonetheless, activities remain confined due to limited financial, human, and intellectual resources. Consequently, extensive projects cannot fully achieve distinction. Some believe activity equates to unity, effectively accomplished solely by individuals. Reality contrasts this simplification. One individual's work remains individualized; aggregating minuscule gains yields cumulative smallness—not grand construction but rather a cohesive unison toward grandeur requires greater sacrifice, vision, capacity, uniform integration.</p>\n",
      "  </page>\n",
      "</document>\n"
     ]
    }
   ],
   "source": [
    "print(translation_data[0])"
   ]
  },
  {
   "cell_type": "code",
   "execution_count": 66,
   "metadata": {},
   "outputs": [],
   "source": [
    "full_translated_text = \"\\n\".join(translation_data)"
   ]
  },
  {
   "cell_type": "code",
   "execution_count": 67,
   "metadata": {},
   "outputs": [],
   "source": [
    "write_text_to_file(\"journal_1956_25_26_translation_full.xml\", full_translated_text)"
   ]
  },
  {
   "cell_type": "code",
   "execution_count": null,
   "metadata": {
    "trusted": false
   },
   "outputs": [],
   "source": [
    "# response_schema = {\n",
    "#   \"name\": \"text_cleaning\",\n",
    "#   \"strict\": True,\n",
    "#   \"schema\": {\n",
    "#     \"type\": \"object\",\n",
    "#     \"properties\": {\n",
    "#       \"cleaned_text\": {\n",
    "#         \"type\": \"string\",\n",
    "#         \"description\": \"The resulting cleaned text after applying all cleaning steps.\"\n",
    "#       },\n",
    "#       \"cleaning_steps\": {\n",
    "#         \"type\": \"array\",\n",
    "#         \"description\": \"A series of notes that explain each step taken to clean the input text.\",\n",
    "#         \"items\": {\n",
    "#           \"type\": \"object\",\n",
    "#           \"properties\": {\n",
    "#             \"step_description\": {\n",
    "#               \"type\": \"string\",\n",
    "#               \"description\": \"A detailed description of the cleaning step.\"\n",
    "#             },\n",
    "#             \"text_example\": {\n",
    "#               \"type\": \"string\",\n",
    "#               \"description\": \"an example fragment of text that was corrected.\"\n",
    "#             },\n",
    "#             \"confidence_level\": {\n",
    "#               \"type\": \"integer\",\n",
    "#               \"description\": \"3 for high confidence, 2 for medium, 1 for low confidence corrections.\"\n",
    "#             }\n",
    "#           },\n",
    "#           \"required\": [\n",
    "#             \"step_description\",\n",
    "#             \"text_example\",\n",
    "#             \"confidence_level\"\n",
    "#           ],\n",
    "#           \"additionalProperties\": False\n",
    "#         }\n",
    "#       }\n",
    "#     },\n",
    "#     \"required\": [\n",
    "#       \"cleaned_text\",\n",
    "#       \"cleaning_steps\"\n",
    "#     ],\n",
    "#     \"additionalProperties\": False\n",
    "#   }\n",
    "# }"
   ]
  }
 ],
 "metadata": {
  "kernelspec": {
   "display_name": "tnh-scholar",
   "language": "python",
   "name": "python3"
  },
  "language_info": {
   "codemirror_mode": {
    "name": "ipython",
    "version": 3
   },
   "file_extension": ".py",
   "mimetype": "text/x-python",
   "name": "python",
   "nbconvert_exporter": "python",
   "pygments_lexer": "ipython3",
   "version": "3.11.10"
  }
 },
 "nbformat": 4,
 "nbformat_minor": 2
}
