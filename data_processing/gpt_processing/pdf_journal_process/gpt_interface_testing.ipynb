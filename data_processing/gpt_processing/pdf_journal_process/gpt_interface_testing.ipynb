{
 "cells": [
  {
   "cell_type": "code",
   "execution_count": 14,
   "metadata": {},
   "outputs": [
    {
     "name": "stdout",
     "output_type": "stream",
     "text": [
      "The autoreload extension is already loaded. To reload it, use:\n",
      "  %reload_ext autoreload\n"
     ]
    }
   ],
   "source": [
    "%load_ext autoreload\n",
    "%autoreload 2"
   ]
  },
  {
   "cell_type": "code",
   "execution_count": 15,
   "metadata": {},
   "outputs": [],
   "source": [
    "# Imports\n",
    "from data_processing.gpt_processing import (\n",
    "    set_api_client, \n",
    "    generate_messages, \n",
    "    create_jsonl_file_for_batch, \n",
    "    start_batch, \n",
    "    get_batch_response,\n",
    "    get_completed_batches,\n",
    "    set_model_settings,\n",
    "    get_batch_status,\n",
    "    get_active_batches,\n",
    "    get_all_batch_info,\n",
    "    token_count,\n",
    "    run_immediate_chat_process,\n",
    "    run_single_oa_batch,\n",
    "    get_last_batch_response,\n",
    "    delete_old_files\n",
    ")\n",
    "\n",
    "from data_processing.xml_processing import ( \n",
    "    save_pages_to_xml,\n",
    "    split_xml_pages\n",
    ")\n",
    "\n",
    "from data_processing.text_processing import (\n",
    "    get_text_from_file,\n",
    "    write_text_to_file\n",
    ")\n",
    "from pathlib import Path\n",
    "%aimport time\n",
    "%aimport json\n",
    "%aimport datetime\n",
    "%aimport logging\n",
    "from datetime import datetime"
   ]
  },
  {
   "cell_type": "code",
   "execution_count": 17,
   "metadata": {},
   "outputs": [],
   "source": [
    "# Set up API client\n",
    "client = set_api_client()"
   ]
  },
  {
   "cell_type": "code",
   "execution_count": 4,
   "metadata": {},
   "outputs": [],
   "source": [
    "model_settings = {\n",
    "    \"gpt-4o\": {\n",
    "        \"max_tokens\": 5000,\n",
    "        \"context_limit\": 20000,  # Total context limit for the model\n",
    "        \"temperature\": 0.25\n",
    "    },\n",
    "    \"gpt-3.5-turbo\": {\n",
    "        \"max_tokens\": 4096,  # Set conservatively to avoid errors\n",
    "        \"context_limit\": 16384  # Same as gpt-4o\n",
    "        }\n",
    "    }\n",
    "\n",
    "set_model_settings(model_settings)"
   ]
  },
  {
   "cell_type": "code",
   "execution_count": 5,
   "metadata": {},
   "outputs": [],
   "source": [
    "# File paths\n",
    "project_dir = Path(\"/Users/phapman/Desktop/tnh-scholar/\")\n",
    "data_dir = project_dir / \"data_processing\"\n",
    "journal_dir = data_dir / \"processed_journal_data\"\n",
    "journal_name = \"phat-giao-viet-nam-1956-01\"\n",
    "working_dir = journal_dir / journal_name\n",
    "input_xml = working_dir / f\"TEST2_full_cleaned_{journal_name}.xml\"\n",
    "translated_xml = journal_dir / f\"translation_{journal_name}.xml\"\n",
    "section_batch_jsonl = working_dir / \"section_batch.jsonl\"\n",
    "translate_batch_jsonl = working_dir / \"translation_batch.jsonl\"\n",
    "section_metadata = working_dir / \"section_metadata.json\"\n",
    "logfile = data_dir / \"gpt_processing\" / \"processing_info.log\""
   ]
  },
  {
   "cell_type": "code",
   "execution_count": 18,
   "metadata": {},
   "outputs": [
    {
     "name": "stdout",
     "output_type": "stream",
     "text": [
      "Deleted file: file-BPqkrbN8gGSDAWfpgxG4DT (created on 2024-11-28 18:25:11)\n",
      "Deleted file: file-BNkDpwVyZENbpCR3sxV1K7 (created on 2024-11-28 18:24:51)\n",
      "Deleted file: file-B5xSC8QWcJF53UpzkRt6XZ (created on 2024-11-28 18:24:00)\n",
      "Deleted file: file-N3sd9FazYcFwxohz3dukzm (created on 2024-11-28 18:23:17)\n",
      "Deleted file: file-T6pbJ9yNGGtz5M9VHRNShh (created on 2024-11-28 18:17:55)\n",
      "Deleted file: file-EaJGfA3WH6HU4Kt7dZsy2X (created on 2024-11-28 18:17:29)\n",
      "Deleted file: file-T9UrgfsTexTbzqYedXgtfd (created on 2024-11-28 17:51:07)\n",
      "Deleted file: file-JV5dnxCBUE9cAjDXrPzfup (created on 2024-11-28 17:50:40)\n",
      "Deleted file: file-XdVCDc7XjK8rqFg273dZbg (created on 2024-11-28 17:37:42)\n",
      "Deleted file: file-DTsFjcy3WhiC9UP6QonZt8 (created on 2024-11-28 16:55:39)\n",
      "Deleted file: file-1NTyRg9kLfeHg3JG1NLPG3 (created on 2024-11-28 16:53:29)\n",
      "Deleted file: file-NA9BM9nrf6H2WX9tPHpNj1 (created on 2024-11-28 15:48:12)\n",
      "Deleted file: file-ATkFNi7VNsGQZ5tGAD33PE (created on 2024-11-28 15:47:38)\n",
      "Deleted file: file-S1b1MoqvdTCcLCSi9WNPRU (created on 2024-11-28 15:34:35)\n",
      "Deleted file: file-Sgt36xH9AzZHy7Yy15hhvC (created on 2024-11-28 15:26:13)\n",
      "Deleted file: file-4M1egR1ChRXpaWADr4h2xM (created on 2024-11-28 15:24:13)\n",
      "Deleted file: file-EPgoL2mz35giyRSUJmBwbt (created on 2024-11-28 15:23:58)\n",
      "Deleted file: file-PiELFj3MaYdjFXa6nUWrMv (created on 2024-11-28 15:05:27)\n",
      "Deleted file: file-FRiTJyo1WCcovgjCYm2a42 (created on 2024-11-28 08:56:34)\n",
      "Deleted file: file-XQsZR8KUSV9fGJt5fZnkf5 (created on 2024-11-28 07:55:41)\n",
      "Deleted file: file-PM1fUqL7koos7JNGd4DduR (created on 2024-11-28 07:48:12)\n",
      "Deleted file: file-33o7V8MU6jFnyZgVUMd8ME (created on 2024-11-28 07:46:29)\n",
      "Deleted file: file-9XDwCQSNPXfdg7wbiZ31p3 (created on 2024-11-28 07:11:02)\n",
      "Deleted file: file-Pggzcg3oZtswVbKhcHwzao (created on 2024-11-28 06:59:20)\n",
      "Deleted file: file-8duPfjQUxFWz8FBwhAoPh8 (created on 2024-11-28 06:58:16)\n",
      "Deleted file: file-V7QTbAqgtKxiwriKNbFQgm (created on 2024-11-28 06:49:12)\n",
      "Deleted file: file-UQmQkGx694FSd48pfnYZKZ (created on 2024-11-28 06:47:37)\n",
      "Deleted file: file-EwbVU4ZQEejUvsL4Z7LEVT (created on 2024-11-27 20:28:45)\n",
      "Deleted file: file-C2Xr9vRAnxfim4VNHmD8Wk (created on 2024-11-27 20:25:02)\n",
      "Deleted file: file-i8mAcNDhqptwgz3g5coqDF0b (created on 2024-11-21 21:58:45)\n",
      "Deleted file: file-BZksCO66yuEykzz5ctr9oNmT (created on 2024-11-21 21:11:47)\n",
      "Deleted file: file-nIfO0fEwX4P6ACm298dyuLP0 (created on 2024-11-20 13:06:06)\n",
      "Deleted file: file-hKqQTQvqftmkW4WsqiaIyKa1 (created on 2024-11-20 13:02:33)\n",
      "Deleted file: file-YYyH6iRziAM8IrZle84Krzqu (created on 2024-11-20 11:57:08)\n",
      "Deleted file: file-89HdHTYKLHYNvzuA5AiKV05o (created on 2024-11-20 11:56:21)\n",
      "Deleted file: file-0AADMzHMN28V68wFiOZoBhHV (created on 2024-11-17 17:52:52)\n",
      "Deleted file: file-1DAJkVt4uhWe9spR25bTMQaf (created on 2024-11-17 17:51:31)\n",
      "Deleted file: file-utIiWGSymxTXYOuvJ8QgBM66 (created on 2024-11-17 16:52:43)\n",
      "Deleted file: file-jUdjAmQzkzDxhTO7fynKxl2q (created on 2024-11-17 16:49:28)\n",
      "Deleted file: file-zcYd2bYdUG7XNr4ydEnhqHJV (created on 2024-11-15 14:29:48)\n",
      "Deleted file: file-MImv0rzWlwG2jlKO2bjwTlVI (created on 2024-11-15 14:27:35)\n",
      "Deleted file: file-VxlfOfbcw2NopmK0Mufnsmi2 (created on 2024-11-15 14:24:20)\n",
      "Deleted file: file-54HPlufII9aKRjHiTyLhFHcU (created on 2024-11-15 14:22:21)\n",
      "Deleted file: file-eGiVuuuk7mB36zHDd3C15nKd (created on 2024-11-15 12:41:36)\n",
      "Deleted file: file-uXDBKtJdmsfo0SIT6LGFUAks (created on 2024-11-15 12:40:32)\n",
      "Deleted file: file-QnVwet08Zdufhk2XOnduGBHz (created on 2024-11-14 21:27:47)\n",
      "Deleted file: file-UDMIKMUoEGhVQatXAd886jju (created on 2024-11-14 21:22:05)\n",
      "Deleted file: file-PXyxWQF7yp1lf2CWcRTgR5xi (created on 2024-11-14 21:02:16)\n",
      "Deleted file: file-7WPcj9fGYaK5sx4D2l2XQThh (created on 2024-11-14 20:58:03)\n",
      "Deleted file: file-la2dEIWeyaUpt2BdoQ60NxCa (created on 2024-11-14 20:58:02)\n",
      "Deleted file: file-Ibf9FMXkceNDyNJkv5ievkWG (created on 2024-11-14 20:58:01)\n",
      "Deleted file: file-9ttXEOiy6PJi8dHG3Omj3AAV (created on 2024-11-14 20:58:00)\n",
      "Deleted file: file-MUT2DPcPJNJniGh3ykw7CcJq (created on 2024-11-14 20:57:59)\n",
      "Deleted file: file-hMDUM9e8dRTJu6Nw46swYjMT (created on 2024-11-14 20:57:58)\n",
      "Deleted file: file-GDMe081o4cpND0G7s5CCD36D (created on 2024-11-14 20:57:57)\n",
      "Deleted file: file-YEawQnQQOjnoJfcnjxP4D05q (created on 2024-11-14 20:57:57)\n",
      "Deleted file: file-sOovcsrhjH5XI1hZC8oJYeGv (created on 2024-11-14 20:57:55)\n",
      "Deleted file: file-6cH4bfSfbMbnkT3Jd9gXUe7J (created on 2024-11-14 20:57:55)\n",
      "Deleted file: file-ZanF2WxOuiKiym1aG7jOysdD (created on 2024-11-14 20:57:54)\n",
      "Deleted file: file-EIEMSW7kNjKwvEdOx6ErV3Th (created on 2024-11-14 20:57:53)\n",
      "Deleted file: file-0VDRinY9G7zWKuXv7yM98sXI (created on 2024-11-14 20:57:52)\n",
      "Deleted file: file-wxEu3Ass6kfbyChskTEsg3rn (created on 2024-11-14 20:57:51)\n",
      "Deleted file: file-oTsc6KRtPR43uFwXCNb8Rqbz (created on 2024-11-14 20:57:49)\n",
      "Deleted file: file-ttbUmQWk4G9GxSp5HrmxyCUV (created on 2024-11-14 20:57:48)\n",
      "Deleted file: file-sxqh9ngmdrM59llWvJR2iWBZ (created on 2024-11-14 20:57:47)\n",
      "Deleted file: file-I8zyPsuLJhVuLFOOLQys5aR9 (created on 2024-11-14 20:57:47)\n",
      "Deleted file: file-CxWKmXTSzWxHRSJX6ecgpooU (created on 2024-11-14 20:57:46)\n",
      "Deleted file: file-RbKSLP09QCLWAsFRicS0BA4S (created on 2024-11-14 20:57:45)\n",
      "Deleted file: file-eU7Ad91r170oF0TE9EAUjubp (created on 2024-11-14 20:57:44)\n",
      "Deleted file: file-i7WuYIm0TOWIh9eiopqYw4lN (created on 2024-11-14 20:57:42)\n",
      "Deleted file: file-1z1tIeos26a6wpDYCM6LuJb9 (created on 2024-11-14 20:57:40)\n",
      "Deleted file: file-ei4FCGSvzYrNhVCQcLsXPaEF (created on 2024-11-14 19:28:00)\n",
      "Deleted file: file-tfxWrBWaq8LoRC966qHGyIq9 (created on 2024-11-14 19:26:36)\n",
      "Deleted file: file-GUEU0wjM1oAHQEbj29L3WTtd (created on 2024-11-14 19:17:29)\n",
      "Deleted file: file-H7tCGvpRfmbyNU5kjqX8JCVX (created on 2024-11-14 19:16:48)\n",
      "Deleted file: file-IaoqN3RGqCSegnBVUmKzZCGA (created on 2024-11-07 08:15:21)\n",
      "Deleted file: file-D4JPtLtYID0Gq44Ilc7JrPYy (created on 2024-11-06 22:13:35)\n"
     ]
    }
   ],
   "source": [
    "delete_old_files(datetime.now())"
   ]
  },
  {
   "cell_type": "code",
   "execution_count": null,
   "metadata": {},
   "outputs": [],
   "source": []
  }
 ],
 "metadata": {
  "kernelspec": {
   "display_name": "tnh-scholar",
   "language": "python",
   "name": "python3"
  },
  "language_info": {
   "codemirror_mode": {
    "name": "ipython",
    "version": 3
   },
   "file_extension": ".py",
   "mimetype": "text/x-python",
   "name": "python",
   "nbconvert_exporter": "python",
   "pygments_lexer": "ipython3",
   "version": "3.11.10"
  }
 },
 "nbformat": 4,
 "nbformat_minor": 2
}
