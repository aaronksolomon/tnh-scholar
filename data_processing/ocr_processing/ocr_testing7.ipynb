{
 "cells": [
  {
   "cell_type": "code",
   "execution_count": 1,
   "metadata": {},
   "outputs": [],
   "source": [
    "%load_ext autoreload\n",
    "%autoreload 2"
   ]
  },
  {
   "cell_type": "code",
   "execution_count": 2,
   "metadata": {},
   "outputs": [],
   "source": [
    "from google.cloud import vision\n",
    "from pdf2image import convert_from_path\n",
    "from PIL import Image, ImageDraw, ImageFont\n",
    "%aimport io\n",
    "from pathlib import Path\n",
    "import fitz  # PyMuPDF\n",
    "%aimport os\n",
    "from xml.sax.saxutils import escape"
   ]
  },
  {
   "cell_type": "code",
   "execution_count": 3,
   "metadata": {},
   "outputs": [],
   "source": [
    "from data_processing.ocr_processing import build_processed_pdf, save_processed_pdf_data, load_processed_PDF_data, make_image_preprocess_mask"
   ]
  },
  {
   "cell_type": "code",
   "execution_count": 4,
   "metadata": {},
   "outputs": [],
   "source": [
    "from data_processing.xml_processing import save_pages_to_xml"
   ]
  },
  {
   "cell_type": "code",
   "execution_count": 5,
   "metadata": {},
   "outputs": [
    {
     "name": "stderr",
     "output_type": "stream",
     "text": [
      "WARNING: All log messages before absl::InitializeLog() is called are written to STDERR\n",
      "I0000 00:00:1733093833.412476 7822139 check_gcp_environment_no_op.cc:29] ALTS: Platforms other than Linux and Windows are not supported\n"
     ]
    }
   ],
   "source": [
    "client = vision.ImageAnnotatorClient()"
   ]
  },
  {
   "cell_type": "code",
   "execution_count": 6,
   "metadata": {},
   "outputs": [],
   "source": [
    "# def full_pdf_process(pdf_dir, pdf_filename, output_dir):\n",
    "#     current_title, ext = os.path.splitext(pdf_filename)\n",
    "#     assert ext == \".pdf\", f\"Expected .pdf, got {ext}\"\n",
    "#     text_pages, marked_images = build_processed_pdf(pdf_dir, pdf_filename)\n",
    "#     save_annotated_text_and_image_data(output_dir, current_title, text_pages, marked_images)\n",
    "#     save_xml_text_file(output_dir, current_title, text_pages)\n",
    "#     return text_pages, marked_images"
   ]
  },
  {
   "cell_type": "code",
   "execution_count": 7,
   "metadata": {},
   "outputs": [],
   "source": [
    "# directory to read pdfs from\n",
    "pdf_dir =Path(\"../PDF/Phat_Giao_journals\")\n",
    "\n",
    "# directory to save output\n",
    "output_dir = Path(\"../processed_journal_data\")"
   ]
  },
  {
   "cell_type": "code",
   "execution_count": 8,
   "metadata": {},
   "outputs": [
    {
     "data": {
      "text/plain": [
       "(PosixPath('../PDF/Phat_Giao_journals/phat-giao-viet-nam-1956-01.pdf'),\n",
       " 'phat-giao-viet-nam-1956-01')"
      ]
     },
     "execution_count": 8,
     "metadata": {},
     "output_type": "execute_result"
    }
   ],
   "source": [
    "pdf_to_process = pdf_dir / \"phat-giao-viet-nam-1956-01.pdf\"\n",
    "basename = pdf_to_process.stem\n",
    "pdf_to_process, basename"
   ]
  },
  {
   "cell_type": "code",
   "execution_count": 9,
   "metadata": {},
   "outputs": [
    {
     "data": {
      "text/plain": [
       "True"
      ]
     },
     "execution_count": 9,
     "metadata": {},
     "output_type": "execute_result"
    }
   ],
   "source": [
    "Path.exists(pdf_to_process)"
   ]
  },
  {
   "cell_type": "code",
   "execution_count": 10,
   "metadata": {},
   "outputs": [],
   "source": [
    "pre_mask1 = make_image_preprocess_mask(0.1)"
   ]
  },
  {
   "cell_type": "code",
   "execution_count": 11,
   "metadata": {},
   "outputs": [
    {
     "name": "stdout",
     "output_type": "stream",
     "text": [
      "Processing document with 68 pages...\n",
      "Processing page 1/68...\n",
      "Processing page 2/68...\n",
      "\u001b[93mPDFParseWarning: Page 2 empty, added empty datastructures...\n",
      "\u001b[0m\n",
      "Processing page 3/68...\n",
      "Processing page 4/68...\n",
      "Processing page 5/68...\n",
      "Processing page 6/68...\n",
      "Processing page 7/68...\n",
      "Processing page 8/68...\n",
      "Processing page 9/68...\n",
      "Processing page 10/68...\n",
      "Processing page 11/68...\n",
      "Processing page 12/68...\n",
      "Processing page 13/68...\n",
      "Processing page 14/68...\n",
      "Processing page 15/68...\n",
      "Processing page 16/68...\n",
      "Processing page 17/68...\n",
      "Processing page 18/68...\n",
      "Processing page 19/68...\n",
      "Processing page 20/68...\n",
      "Processing page 21/68...\n",
      "Processing page 22/68...\n",
      "Processing page 23/68...\n",
      "Processing page 24/68...\n",
      "Processing page 25/68...\n",
      "Processing page 26/68...\n",
      "Processing page 27/68...\n",
      "Processing page 28/68...\n",
      "Processing page 29/68...\n",
      "Processing page 30/68...\n",
      "Processing page 31/68...\n",
      "Processing page 32/68...\n",
      "Processing page 33/68...\n",
      "Processing page 34/68...\n",
      "Processing page 35/68...\n",
      "Processing page 36/68...\n",
      "Processing page 37/68...\n",
      "Processing page 38/68...\n",
      "Processing page 39/68...\n",
      "Processing page 40/68...\n",
      "Processing page 41/68...\n",
      "Processing page 42/68...\n",
      "Processing page 43/68...\n",
      "Processing page 44/68...\n",
      "Processing page 45/68...\n",
      "Processing page 46/68...\n",
      "Processing page 47/68...\n",
      "Processing page 48/68...\n",
      "Processing page 49/68...\n",
      "Processing page 50/68...\n",
      "Processing page 51/68...\n",
      "Processing page 52/68...\n",
      "Processing page 53/68...\n",
      "Processing page 54/68...\n",
      "Processing page 55/68...\n",
      "Processing page 56/68...\n",
      "Processing page 57/68...\n",
      "Processing page 58/68...\n",
      "Processing page 59/68...\n",
      "Processing page 60/68...\n",
      "Processing page 61/68...\n",
      "Processing page 62/68...\n",
      "Processing page 63/68...\n",
      "Processing page 64/68...\n",
      "Processing page 65/68...\n",
      "Processing page 66/68...\n",
      "Processing page 67/68...\n",
      "Processing page 68/68...\n",
      "page dimensions: {'width_in': 10.720472547743055, 'height_in': 16.08268059624566, 'width_px': 1024, 'height_px': 1536}\n"
     ]
    }
   ],
   "source": [
    "text_pages, word_locations_list, annotated_images, unannotated_images = build_processed_pdf(pdf_to_process, client, pre_mask1)"
   ]
  },
  {
   "cell_type": "code",
   "execution_count": 22,
   "metadata": {},
   "outputs": [
    {
     "data": {
      "text/plain": [
       "PosixPath('../processed_journal_data')"
      ]
     },
     "execution_count": 22,
     "metadata": {},
     "output_type": "execute_result"
    }
   ],
   "source": [
    "output_dir"
   ]
  },
  {
   "cell_type": "code",
   "execution_count": 12,
   "metadata": {},
   "outputs": [
    {
     "name": "stdout",
     "output_type": "stream",
     "text": [
      "Processed data saved in: ../processed_journal_data/phat-giao-viet-nam-1956-01\n"
     ]
    }
   ],
   "source": [
    "save_processed_pdf_data(output_dir, basename, text_pages, word_locations_list, annotated_images, unannotated_images)"
   ]
  },
  {
   "cell_type": "code",
   "execution_count": 30,
   "metadata": {},
   "outputs": [],
   "source": [
    "text_pages, word_locations_list, annotated_images, unannotated_images = load_processed_PDF_data(Path(\"../processed_journal_data/phat-giao-viet-nam-1956-02\"))"
   ]
  },
  {
   "cell_type": "code",
   "execution_count": 36,
   "metadata": {},
   "outputs": [
    {
     "name": "stdout",
     "output_type": "stream",
     "text": [
      "XML file successfully saved at ../processed_journal_data/phat-giao-viet-nam-1956-02/full_OCR_phat-giao-viet-nam-1956-02.xml\n"
     ]
    }
   ],
   "source": [
    "save_pages_to_xml(output_dir / basename / f\"full_OCR_{basename}.xml\", text_pages, overwrite=True)"
   ]
  }
 ],
 "metadata": {
  "kernelspec": {
   "display_name": "tnh-scholar",
   "language": "python",
   "name": "python3"
  },
  "language_info": {
   "codemirror_mode": {
    "name": "ipython",
    "version": 3
   },
   "file_extension": ".py",
   "mimetype": "text/x-python",
   "name": "python",
   "nbconvert_exporter": "python",
   "pygments_lexer": "ipython3",
   "version": "3.11.10"
  }
 },
 "nbformat": 4,
 "nbformat_minor": 2
}
