{
 "cells": [
  {
   "cell_type": "code",
   "execution_count": 21,
   "metadata": {},
   "outputs": [],
   "source": [
    "from google.cloud import storage\n",
    "from pathlib import Path\n",
    "from google.cloud import storage\n",
    "import json\n",
    "from google.cloud import vision\n"
   ]
  },
  {
   "cell_type": "code",
   "execution_count": 22,
   "metadata": {},
   "outputs": [],
   "source": [
    "project_root_dir = Path(\"/Users/phapman/Desktop/tnh-scholar\")"
   ]
  },
  {
   "cell_type": "code",
   "execution_count": 23,
   "metadata": {},
   "outputs": [],
   "source": [
    "def upload_to_gcs(pdf_path: Path, bucket_name: str, gcs_destination: str) -> str:\n",
    "    \"\"\"\n",
    "    Uploads a local PDF file to Google Cloud Storage.\n",
    "    \n",
    "    Parameters:\n",
    "        pdf_path (Path): Path to the local PDF.\n",
    "        bucket_name (str): GCS bucket name.\n",
    "        gcs_destination (str): Path in the GCS bucket.\n",
    "    \n",
    "    Returns:\n",
    "        str: The GCS URI of the uploaded PDF.\n",
    "    \"\"\"\n",
    "    client = storage.Client()\n",
    "    bucket = client.bucket(bucket_name)\n",
    "    blob = bucket.blob(gcs_destination)\n",
    "    blob.upload_from_filename(str(pdf_path))\n",
    "    gcs_uri = f\"gs://{bucket_name}/{gcs_destination}\"\n",
    "    print(f\"Uploaded {pdf_path} to {gcs_uri}\")\n",
    "    return gcs_uri"
   ]
  },
  {
   "cell_type": "code",
   "execution_count": 24,
   "metadata": {},
   "outputs": [],
   "source": [
    "def batch_process_pdf(gcs_uri: str, output_gcs_uri: str) -> str:\n",
    "    \"\"\"\n",
    "    Sends a batch processing request to Google Vision API for document text detection.\n",
    "    \n",
    "    Parameters:\n",
    "        gcs_uri (str): URI of the PDF in GCS.\n",
    "        output_gcs_uri (str): GCS URI for storing the result.\n",
    "    \n",
    "    Returns:\n",
    "        str: The operation name for tracking the job.\n",
    "    \"\"\"\n",
    "    client = vision.ImageAnnotatorClient()\n",
    "\n",
    "    # Input configuration\n",
    "    input_config = vision.InputConfig(\n",
    "        gcs_source=vision.GcsSource(uri=gcs_uri),\n",
    "        mime_type=\"application/pdf\"\n",
    "    )\n",
    "\n",
    "    # Output configuration for asynchronous results\n",
    "    output_config = vision.GcsDestination(uri=output_gcs_uri)\n",
    "\n",
    "    # Feature type: DOCUMENT_TEXT_DETECTION\n",
    "    features = [vision.Feature(type=vision.Feature.Type.DOCUMENT_TEXT_DETECTION)]\n",
    "\n",
    "    # File request (Corrected: `output_config` goes into `AsyncAnnotateFileRequest`)\n",
    "    async_request = vision.AsyncAnnotateFileRequest(\n",
    "        input_config=input_config,\n",
    "        features=features,\n",
    "        output_config=vision.OutputConfig(gcs_destination=output_config, batch_size=1)\n",
    "    )\n",
    "\n",
    "    # Async batch request\n",
    "    operation = client.async_batch_annotate_files(requests=[async_request])\n",
    "    print(f\"Started batch operation: {operation.operation.name}\")\n",
    "    return operation.operation.name"
   ]
  },
  {
   "cell_type": "code",
   "execution_count": 51,
   "metadata": {},
   "outputs": [],
   "source": [
    "import time\n",
    "\n",
    "def poll_operation_status_with_retry(operation_name: str, poll_interval: int = 10, max_retries: int = 30) -> None:\n",
    "    \"\"\"\n",
    "    Polls the status of an asynchronous batch operation with retries.\n",
    "    \n",
    "    Parameters:\n",
    "        operation_name (str): Name of the operation to check.\n",
    "        poll_interval (int): Time (in seconds) to wait between retries.\n",
    "        max_retries (int): Maximum number of retries before giving up.\n",
    "    \"\"\"\n",
    "    client = vision.ImageAnnotatorClient()\n",
    "\n",
    "    for attempt in range(max_retries):\n",
    "        operation = client.transport.operations_client.get_operation(operation_name)\n",
    "        \n",
    "        if operation.done:\n",
    "            if operation.HasField('error'):\n",
    "                print(f\"Operation failed with error: {operation.error.message}\")\n",
    "                return operation\n",
    "            elif operation.HasField('response'):\n",
    "                print(\"Operation completed successfully.\")\n",
    "                return True # Exit the loop upon success or failure\n",
    "            else:\n",
    "                print(\"Unknown operation status.\")\n",
    "                return operation\n",
    "        else:\n",
    "            print(f\"Attempt {attempt + 1}/{max_retries}: Operation still in progress...\")\n",
    "            time.sleep(poll_interval)\n",
    "\n",
    "    print(\"Polling timed out. The operation may still be in progress.\")"
   ]
  },
  {
   "cell_type": "code",
   "execution_count": null,
   "metadata": {},
   "outputs": [],
   "source": [
    "def download_and_parse_results(output_gcs_uri: str, local_output_dir: Path) -> None:\n",
    "    \"\"\"\n",
    "    Downloads and parses batch processing results from GCS.\n",
    "    \n",
    "    Parameters:\n",
    "        output_gcs_uri (str): URI of the GCS folder containing results.\n",
    "        local_output_dir (Path): Local directory to save the results.\n",
    "    \"\"\"\n",
    "    storage_client = storage.Client()\n",
    "    bucket_name, prefix = output_gcs_uri.replace(\"gs://\", \"\").split(\"/\", 1)\n",
    "    bucket = storage_client.bucket(bucket_name)\n",
    "    blobs = bucket.list_blobs(prefix=prefix)\n",
    "    pages = []\n",
    "\n",
    "    local_output_dir.mkdir(parents=True, exist_ok=True)\n",
    "    print(f\"Downloading results to {local_output_dir}...\")\n",
    "\n",
    "    for blob in blobs:\n",
    "        local_file_path = local_output_dir / blob.name.split(\"/\")[-1]\n",
    "        blob.download_to_filename(str(local_file_path))\n",
    "        print(f\"Downloaded: {blob.name}\")\n",
    "\n",
    "        # Parse JSON output\n",
    "        with open(local_file_path, \"r\") as f:\n",
    "            result = json.load(f)\n",
    "            for page in result.get(\"responses\", []):\n",
    "                pages.append(page.get(\"fullTextAnnotation\", {}).get(\"text\", \"\"))\n",
    "    \n",
    "    return pages"
   ]
  },
  {
   "cell_type": "code",
   "execution_count": 120,
   "metadata": {},
   "outputs": [],
   "source": [
    "def download_results(output_gcs_uri: str):\n",
    "    \"\"\"\n",
    "    Downloads and parses batch processing results from GCS directly into memory.\n",
    "\n",
    "    Parameters:\n",
    "        output_gcs_uri (str): URI of the GCS folder containing results.\n",
    "\n",
    "    Returns:\n",
    "        List[str]: A list of texts extracted from the results.\n",
    "    \"\"\"\n",
    "    from google.cloud import storage\n",
    "    import json\n",
    "\n",
    "    storage_client = storage.Client()\n",
    "    bucket_name, prefix = output_gcs_uri.replace(\"gs://\", \"\").split(\"/\", 1)\n",
    "    bucket = storage_client.bucket(bucket_name)\n",
    "    blobs = bucket.list_blobs(prefix=prefix)\n",
    "    pages = []\n",
    "\n",
    "    print(\"Downloading and parsing results in memory...\")\n",
    "\n",
    "    for blob in blobs:\n",
    "        print(f\"Processing: {blob.name}\")\n",
    "        \n",
    "        # Read blob content directly into memory\n",
    "        content = blob.download_as_bytes()\n",
    "        \n",
    "        # Parse JSON from memory\n",
    "        result = json.loads(content)\n",
    "        for page in result.get(\"responses\", []):\n",
    "            text = page.get(\"fullTextAnnotation\", {}).get(\"text\", \"\")\n",
    "            if text:\n",
    "                pages.append(text)\n",
    "\n",
    "    return result, pages"
   ]
  },
  {
   "cell_type": "code",
   "execution_count": 117,
   "metadata": {},
   "outputs": [],
   "source": [
    "pdf_dir_path = project_root_dir / \"data_processing/PDF/Phat_Giao_journals\"\n",
    "pdf_path = pdf_dir_path / \"phat-giao-viet-nam-1956-01.pdf\""
   ]
  },
  {
   "cell_type": "code",
   "execution_count": 118,
   "metadata": {},
   "outputs": [],
   "source": [
    "bucket_name = \"test-bucket-tnh-translation\"\n",
    "gcs_destination = \"vietnamese_docs/vietnamese.pdf\"\n",
    "output_gcs_uri = \"gs://test-bucket-tnh-translation/vietnamese_docs/output/\"\n",
    "local_output_dir = Path(\"./local_results\")"
   ]
  },
  {
   "cell_type": "code",
   "execution_count": null,
   "metadata": {},
   "outputs": [],
   "source": [
    "# Step 1: Upload PDF to GCS\n",
    "# gcs_uri = upload_to_gcs(pdf_path, bucket_name, gcs_destination)"
   ]
  },
  {
   "cell_type": "code",
   "execution_count": null,
   "metadata": {},
   "outputs": [
    {
     "name": "stderr",
     "output_type": "stream",
     "text": [
      "I0000 00:00:1732417874.542762 3887049 check_gcp_environment_no_op.cc:29] ALTS: Platforms other than Linux and Windows are not supported\n"
     ]
    },
    {
     "name": "stdout",
     "output_type": "stream",
     "text": [
      "Started batch operation: projects/tnh-scholar/operations/3b9993cbe4400cdc\n"
     ]
    }
   ],
   "source": [
    "# Step 2: Start batch processing\n",
    "# operation_name = batch_process_pdf(gcs_uri, output_gcs_uri)"
   ]
  },
  {
   "cell_type": "code",
   "execution_count": 52,
   "metadata": {},
   "outputs": [
    {
     "name": "stderr",
     "output_type": "stream",
     "text": [
      "I0000 00:00:1732425449.701308 3887049 check_gcp_environment_no_op.cc:29] ALTS: Platforms other than Linux and Windows are not supported\n"
     ]
    },
    {
     "name": "stdout",
     "output_type": "stream",
     "text": [
      "Operation completed successfully.\n"
     ]
    }
   ],
   "source": [
    "# Step 3: Poll the operation status (repeat until done)\n",
    "result = poll_operation_status_with_retry(operation_name)"
   ]
  },
  {
   "cell_type": "code",
   "execution_count": 119,
   "metadata": {},
   "outputs": [
    {
     "data": {
      "text/plain": [
       "'projects/tnh-scholar/operations/3b9993cbe4400cdc'"
      ]
     },
     "execution_count": 119,
     "metadata": {},
     "output_type": "execute_result"
    }
   ],
   "source": [
    "operation_name"
   ]
  },
  {
   "cell_type": "code",
   "execution_count": 124,
   "metadata": {},
   "outputs": [
    {
     "name": "stdout",
     "output_type": "stream",
     "text": [
      "Downloading and parsing results in memory...\n",
      "Processing: vietnamese_docs/output/output-1-to-1.json\n",
      "Processing: vietnamese_docs/output/output-10-to-10.json\n",
      "Processing: vietnamese_docs/output/output-11-to-11.json\n",
      "Processing: vietnamese_docs/output/output-12-to-12.json\n",
      "Processing: vietnamese_docs/output/output-13-to-13.json\n",
      "Processing: vietnamese_docs/output/output-14-to-14.json\n",
      "Processing: vietnamese_docs/output/output-15-to-15.json\n",
      "Processing: vietnamese_docs/output/output-16-to-16.json\n",
      "Processing: vietnamese_docs/output/output-17-to-17.json\n",
      "Processing: vietnamese_docs/output/output-18-to-18.json\n",
      "Processing: vietnamese_docs/output/output-19-to-19.json\n",
      "Processing: vietnamese_docs/output/output-2-to-2.json\n",
      "Processing: vietnamese_docs/output/output-20-to-20.json\n",
      "Processing: vietnamese_docs/output/output-21-to-21.json\n",
      "Processing: vietnamese_docs/output/output-22-to-22.json\n",
      "Processing: vietnamese_docs/output/output-23-to-23.json\n",
      "Processing: vietnamese_docs/output/output-24-to-24.json\n",
      "Processing: vietnamese_docs/output/output-25-to-25.json\n",
      "Processing: vietnamese_docs/output/output-26-to-26.json\n",
      "Processing: vietnamese_docs/output/output-27-to-27.json\n",
      "Processing: vietnamese_docs/output/output-28-to-28.json\n",
      "Processing: vietnamese_docs/output/output-29-to-29.json\n",
      "Processing: vietnamese_docs/output/output-3-to-3.json\n",
      "Processing: vietnamese_docs/output/output-30-to-30.json\n",
      "Processing: vietnamese_docs/output/output-31-to-31.json\n",
      "Processing: vietnamese_docs/output/output-32-to-32.json\n",
      "Processing: vietnamese_docs/output/output-33-to-33.json\n",
      "Processing: vietnamese_docs/output/output-34-to-34.json\n",
      "Processing: vietnamese_docs/output/output-35-to-35.json\n",
      "Processing: vietnamese_docs/output/output-36-to-36.json\n",
      "Processing: vietnamese_docs/output/output-37-to-37.json\n",
      "Processing: vietnamese_docs/output/output-38-to-38.json\n",
      "Processing: vietnamese_docs/output/output-39-to-39.json\n",
      "Processing: vietnamese_docs/output/output-4-to-4.json\n",
      "Processing: vietnamese_docs/output/output-40-to-40.json\n",
      "Processing: vietnamese_docs/output/output-41-to-41.json\n",
      "Processing: vietnamese_docs/output/output-42-to-42.json\n",
      "Processing: vietnamese_docs/output/output-43-to-43.json\n",
      "Processing: vietnamese_docs/output/output-44-to-44.json\n",
      "Processing: vietnamese_docs/output/output-45-to-45.json\n",
      "Processing: vietnamese_docs/output/output-46-to-46.json\n",
      "Processing: vietnamese_docs/output/output-47-to-47.json\n",
      "Processing: vietnamese_docs/output/output-48-to-48.json\n",
      "Processing: vietnamese_docs/output/output-49-to-49.json\n",
      "Processing: vietnamese_docs/output/output-5-to-5.json\n",
      "Processing: vietnamese_docs/output/output-50-to-50.json\n",
      "Processing: vietnamese_docs/output/output-51-to-51.json\n",
      "Processing: vietnamese_docs/output/output-52-to-52.json\n",
      "Processing: vietnamese_docs/output/output-53-to-53.json\n",
      "Processing: vietnamese_docs/output/output-54-to-54.json\n",
      "Processing: vietnamese_docs/output/output-55-to-55.json\n",
      "Processing: vietnamese_docs/output/output-56-to-56.json\n",
      "Processing: vietnamese_docs/output/output-57-to-57.json\n",
      "Processing: vietnamese_docs/output/output-58-to-58.json\n",
      "Processing: vietnamese_docs/output/output-59-to-59.json\n",
      "Processing: vietnamese_docs/output/output-6-to-6.json\n",
      "Processing: vietnamese_docs/output/output-60-to-60.json\n",
      "Processing: vietnamese_docs/output/output-61-to-61.json\n",
      "Processing: vietnamese_docs/output/output-62-to-62.json\n",
      "Processing: vietnamese_docs/output/output-63-to-63.json\n",
      "Processing: vietnamese_docs/output/output-64-to-64.json\n",
      "Processing: vietnamese_docs/output/output-65-to-65.json\n",
      "Processing: vietnamese_docs/output/output-66-to-66.json\n",
      "Processing: vietnamese_docs/output/output-67-to-67.json\n",
      "Processing: vietnamese_docs/output/output-68-to-68.json\n",
      "Processing: vietnamese_docs/output/output-7-to-7.json\n",
      "Processing: vietnamese_docs/output/output-8-to-8.json\n",
      "Processing: vietnamese_docs/output/output-9-to-9.json\n"
     ]
    }
   ],
   "source": [
    "# Step 4: Download and parse results\n",
    "full_data, pages = download_results(output_gcs_uri)"
   ]
  },
  {
   "cell_type": "code",
   "execution_count": 125,
   "metadata": {},
   "outputs": [
    {
     "data": {
      "text/plain": [
       "'PHẬT GIÁO\\nVIET-NAM\\nNGUYỆT-SAN\\nSỐ 1 RA NGÀY 15 THÁNG 8 BÍNH THÂN THE\\nTV\\nTỔNG. HỘI PHẬT - GIÁO VIỆT - NAM XUẤT.\\nHUỆ QUANG'"
      ]
     },
     "execution_count": 125,
     "metadata": {},
     "output_type": "execute_result"
    }
   ],
   "source": [
    "pages[0]"
   ]
  },
  {
   "cell_type": "code",
   "execution_count": 130,
   "metadata": {},
   "outputs": [
    {
     "data": {
      "text/plain": [
       "dict_keys(['inputConfig', 'responses'])"
      ]
     },
     "execution_count": 130,
     "metadata": {},
     "output_type": "execute_result"
    }
   ],
   "source": [
    "full_data.keys()"
   ]
  },
  {
   "cell_type": "code",
   "execution_count": 133,
   "metadata": {},
   "outputs": [],
   "source": [
    "responses = full_data['responses']"
   ]
  },
  {
   "cell_type": "code",
   "execution_count": 137,
   "metadata": {},
   "outputs": [
    {
     "ename": "KeyError",
     "evalue": "'text_annotation'",
     "output_type": "error",
     "traceback": [
      "\u001b[0;31m---------------------------------------------------------------------------\u001b[0m",
      "\u001b[0;31mKeyError\u001b[0m                                  Traceback (most recent call last)",
      "Cell \u001b[0;32mIn[137], line 1\u001b[0m\n\u001b[0;32m----> 1\u001b[0m \u001b[43mresponses\u001b[49m\u001b[43m[\u001b[49m\u001b[38;5;241;43m0\u001b[39;49m\u001b[43m]\u001b[49m\u001b[43m[\u001b[49m\u001b[38;5;124;43m'\u001b[39;49m\u001b[38;5;124;43mtext_annotation\u001b[39;49m\u001b[38;5;124;43m'\u001b[39;49m\u001b[43m]\u001b[49m\n",
      "\u001b[0;31mKeyError\u001b[0m: 'text_annotation'"
     ]
    }
   ],
   "source": [
    "responses[0]['text_annotation']"
   ]
  },
  {
   "cell_type": "code",
   "execution_count": 62,
   "metadata": {},
   "outputs": [],
   "source": [
    "def parse_ocr_json(json_path):\n",
    "    \"\"\"\n",
    "    Parses a Google Vision OCR JSON output file to extract blocks and paragraphs with their bounding boxes.\n",
    "    Navigates through the hierarchy starting from the 'responses' key.\n",
    "\n",
    "    Args:\n",
    "        json_path (str): Path to the Google Vision OCR output JSON file.\n",
    "\n",
    "    Returns:\n",
    "        list: A list of dictionaries, each representing a block with its text and paragraphs. \n",
    "              Each block contains:\n",
    "                - 'block_text': Full text of the block\n",
    "                - 'bounding_box': Bounding box of the block\n",
    "                - 'paragraphs': List of paragraphs, each containing:\n",
    "                    - 'paragraph_text': Full text of the paragraph\n",
    "                    - 'bounding_box': Bounding box of the paragraph\n",
    "    \"\"\"\n",
    "    import json\n",
    "\n",
    "    with open(json_path, 'r') as f:\n",
    "        ocr_data = json.load(f)\n",
    "\n",
    "    parsed_data = []\n",
    "\n",
    "    # Navigate to 'responses' -> 'fullTextAnnotation' -> 'pages' -> 'blocks'\n",
    "    responses = ocr_data.get('responses', [])\n",
    "    for response in responses:\n",
    "        full_text_annotation = response.get('fullTextAnnotation', {})\n",
    "        pages = full_text_annotation.get('pages', [])\n",
    "        \n",
    "        for page in pages:\n",
    "            for block in page.get('blocks', []):\n",
    "                block_text = []\n",
    "                block_bounding_box = block.get('boundingBox', {})\n",
    "                paragraphs = []\n",
    "\n",
    "                for paragraph in block.get('paragraphs', []):\n",
    "                    paragraph_text = []\n",
    "                    paragraph_bounding_box = paragraph.get('boundingBox', {})\n",
    "\n",
    "                    for word in paragraph.get('words', []):\n",
    "                        word_text = ''.join(symbol.get('text', '') for symbol in word.get('symbols', []))\n",
    "                        paragraph_text.append(word_text)\n",
    "\n",
    "                    paragraphs.append({\n",
    "                        'paragraph_text': ' '.join(paragraph_text),\n",
    "                        'bounding_box': paragraph_bounding_box\n",
    "                    })\n",
    "                    block_text.extend(paragraph_text)\n",
    "\n",
    "                parsed_data.append({\n",
    "                    'block_text': ' '.join(block_text),\n",
    "                    'bounding_box': block_bounding_box,\n",
    "                    'paragraphs': paragraphs\n",
    "                })\n",
    "\n",
    "    return parsed_data\n"
   ]
  },
  {
   "cell_type": "code",
   "execution_count": 102,
   "metadata": {},
   "outputs": [],
   "source": [
    "def get_origin_point(element):\n",
    "    \"\"\"\n",
    "    Extracts the origin point (first vertex) of the bounding box.\n",
    "\n",
    "    Args:\n",
    "        element (dict): A block or paragraph dictionary containing a 'bounding_box' key.\n",
    "\n",
    "    Returns:\n",
    "        tuple: The (x, y) origin point of the bounding box, or None if not found.\n",
    "    \"\"\"\n",
    " \n",
    "    bounding_box = element.get(\"bounding_box\", {})\n",
    "    vertices = bounding_box.get(\"normalizedVertices\", [])\n",
    "\n",
    "    if vertices and len(vertices) > 0:\n",
    "        point = vertices[0].get(\"x\", 0), vertices[0].get(\"y\", 0)\n",
    "        return point\n",
    "    return None"
   ]
  },
  {
   "cell_type": "code",
   "execution_count": 106,
   "metadata": {},
   "outputs": [],
   "source": [
    "def build_xml_from_blocks(parsed_data, include_attributes=[]):\n",
    "    \"\"\"\n",
    "    Converts parsed block and paragraph data into XML-structured text with optional attributes.\n",
    "\n",
    "    Args:\n",
    "        parsed_data (list): A list of dictionaries, each representing a block with text, bounding boxes, \n",
    "                            and paragraphs (output from parse_ocr_json).\n",
    "        include_attributes (list): A list of attributes to include in the tags. Example: [\"bounding_box\", \"origin_point\"].\n",
    "\n",
    "    Returns:\n",
    "        str: XML-structured text representing the data.\n",
    "    \"\"\"\n",
    "    from xml.etree.ElementTree import Element, SubElement, tostring\n",
    "    from xml.dom.minidom import parseString\n",
    "\n",
    "    assert isinstance(include_attributes, list)\n",
    "\n",
    "    # Define a mapping of attribute names to helper functions\n",
    "    attribute_extractors = {\n",
    "        \"origin_point\": get_origin_point,\n",
    "    }\n",
    "\n",
    "    # Root element\n",
    "    root = Element(\"document\")\n",
    "\n",
    "    # Process each block\n",
    "    for block in parsed_data:\n",
    "        # Prepare attributes for the block\n",
    "        block_attributes = {\n",
    "            key: str(attribute_extractors[key](block))\n",
    "            for key in include_attributes if key in attribute_extractors\n",
    "        }\n",
    "        block_element = SubElement(root, \"block\", attrib=block_attributes)\n",
    "\n",
    "        # Add paragraphs within the block\n",
    "        for paragraph in block.get(\"paragraphs\", []):\n",
    "            # Prepare attributes for the paragraph\n",
    "            paragraph_attributes = {\n",
    "                key: str(attribute_extractors[key](paragraph))\n",
    "                for key in include_attributes if key in attribute_extractors\n",
    "            }\n",
    "            paragraph_element = SubElement(\n",
    "                block_element, \"p\", attrib=paragraph_attributes\n",
    "            )\n",
    "            paragraph_element.text = paragraph.get(\"paragraph_text\", \"\")\n",
    "\n",
    "    # Generate pretty XML string\n",
    "    rough_string = tostring(root, encoding=\"unicode\")\n",
    "    pretty_xml = parseString(rough_string).toprettyxml(indent=\"  \")\n",
    "    return pretty_xml"
   ]
  },
  {
   "cell_type": "code",
   "execution_count": 82,
   "metadata": {},
   "outputs": [],
   "source": [
    "test_file = local_output_dir / \"output-1-to-1.json\""
   ]
  },
  {
   "cell_type": "code",
   "execution_count": 83,
   "metadata": {},
   "outputs": [
    {
     "data": {
      "text/plain": [
       "True"
      ]
     },
     "execution_count": 83,
     "metadata": {},
     "output_type": "execute_result"
    }
   ],
   "source": [
    "test_file.exists()"
   ]
  },
  {
   "cell_type": "code",
   "execution_count": 109,
   "metadata": {},
   "outputs": [],
   "source": [
    "result = parse_ocr_json(local_output_dir / \"output-3-to-3.json\")"
   ]
  },
  {
   "cell_type": "code",
   "execution_count": 110,
   "metadata": {},
   "outputs": [
    {
     "data": {
      "text/plain": [
       "[{'block_text': 'IPIHIAT - GIAO VIET = NAM',\n",
       "  'bounding_box': {'normalizedVertices': [{'x': 0.11673152, 'y': 0.11235955},\n",
       "    {'x': 0.58236057, 'y': 0.10976664},\n",
       "    {'x': 0.58365756, 'y': 0.22212619},\n",
       "    {'x': 0.11802854, 'y': 0.2238548}]},\n",
       "  'paragraphs': [{'paragraph_text': 'IPIHIAT - GIAO',\n",
       "    'bounding_box': {'normalizedVertices': [{'x': 0.11673152, 'y': 0.11495246},\n",
       "      {'x': 0.5797665, 'y': 0.110630944},\n",
       "      {'x': 0.58106357, 'y': 0.15384616},\n",
       "      {'x': 0.11802854, 'y': 0.15816768}]}},\n",
       "   {'paragraph_text': 'VIET = NAM',\n",
       "    'bounding_box': {'normalizedVertices': [{'x': 0.11932555, 'y': 0.19187555},\n",
       "      {'x': 0.58236057, 'y': 0.19187555},\n",
       "      {'x': 0.58236057, 'y': 0.22212619},\n",
       "      {'x': 0.11932555, 'y': 0.22212619}]}}]},\n",
       " {'block_text': 'NG.VI',\n",
       "  'bounding_box': {'normalizedVertices': [{'x': 0.6757458, 'y': 0.23336214},\n",
       "    {'x': 0.8715953},\n",
       "    {'x': 0.95071334, 'y': 0.027657736},\n",
       "    {'x': 0.7548638, 'y': 0.26274848}]},\n",
       "  'paragraphs': [{'paragraph_text': 'NG.VI',\n",
       "    'bounding_box': {'normalizedVertices': [{'x': 0.6757458, 'y': 0.23336214},\n",
       "      {'x': 0.8715953},\n",
       "      {'x': 0.95071334, 'y': 0.027657736},\n",
       "      {'x': 0.7548638, 'y': 0.26274848}]}}]},\n",
       " {'block_text': 'TỪ NGÀY 10 Tỳ - Ni - Đa - Lưu - Chi sang nước ta đến nay , kề ra đã đến mười lăm thế kỷ . Phật - Giáo đã ở lại cùng chúng ta một ngàn năm trăm năm , và đã cùng dân tộc Việt - Nam chịu chung bao nhiêu thắng - trầm vinh nhục , Phật - Giáo Việt - Nam quả là một nền Phật - Giáo dân tộc .',\n",
       "  'bounding_box': {'normalizedVertices': [{'x': 0.1154345, 'y': 0.25583404},\n",
       "    {'x': 0.8949416, 'y': 0.25756267},\n",
       "    {'x': 0.89364463, 'y': 0.38288677},\n",
       "    {'x': 0.1154345, 'y': 0.38115817}]},\n",
       "  'paragraphs': [{'paragraph_text': 'TỪ NGÀY 10 Tỳ - Ni - Đa - Lưu - Chi sang nước ta đến nay ,',\n",
       "    'bounding_box': {'normalizedVertices': [{'x': 0.17898832, 'y': 0.25583404},\n",
       "      {'x': 0.8884565, 'y': 0.26188418},\n",
       "      {'x': 0.8884565, 'y': 0.29559204},\n",
       "      {'x': 0.17898832, 'y': 0.28954193}]}},\n",
       "   {'paragraph_text': 'kề ra đã đến mười lăm thế kỷ . Phật - Giáo đã ở lại cùng chúng ta một ngàn năm trăm năm , và đã cùng dân tộc Việt - Nam chịu chung bao nhiêu thắng - trầm vinh nhục ,',\n",
       "    'bounding_box': {'normalizedVertices': [{'x': 0.1154345, 'y': 0.29299915},\n",
       "      {'x': 0.89364463, 'y': 0.29040623},\n",
       "      {'x': 0.8949416, 'y': 0.35350043},\n",
       "      {'x': 0.11673152, 'y': 0.35522905}]}},\n",
       "   {'paragraph_text': 'Phật - Giáo Việt - Nam quả là một nền Phật - Giáo dân tộc .',\n",
       "    'bounding_box': {'normalizedVertices': [{'x': 0.16990921, 'y': 0.3621435},\n",
       "      {'x': 0.8236057, 'y': 0.3621435},\n",
       "      {'x': 0.8236057, 'y': 0.38115817},\n",
       "      {'x': 0.16990921, 'y': 0.38115817}]}}]},\n",
       " {'block_text': 'PHẬT - GIÁO VIỆT NAM',\n",
       "  'bounding_box': {'normalizedVertices': [{'x': 0.11673152, 'y': 0.7372515},\n",
       "    {'x': 0.3463035, 'y': 0.7372515},\n",
       "    {'x': 0.3463035, 'y': 0.7562662},\n",
       "    {'x': 0.11673152, 'y': 0.7562662}]},\n",
       "  'paragraphs': [{'paragraph_text': 'PHẬT - GIÁO VIỆT NAM',\n",
       "    'bounding_box': {'normalizedVertices': [{'x': 0.11673152, 'y': 0.7372515},\n",
       "      {'x': 0.3463035, 'y': 0.7372515},\n",
       "      {'x': 0.3463035, 'y': 0.7562662},\n",
       "      {'x': 0.11673152, 'y': 0.7562662}]}}]},\n",
       " {'block_text': 'Phật - Giáo Việt Nam không phải chỉ là một tồn - giáo tin ngưỡng mà bất cứ thời nào , ở đâu , cũng chỉ biết có sứ - mạng của lồn - giáo tín ngưỡng . Không 1 Ở bất cứ nước nào trên thế giới cũng vậy , khi bước chân đến , Đạo Phật cũng thích nghỉ ngay với phong - lục , khí hậu , nhân tính đề biển thành một lối sống cho quần chúng . Ở Việt Nam cũng thể . Phật - Giáo đã hòa hợp trong cá tính dân tộc ta , đã cùng dân tộc ta xây dựng một văn hóa quốc gia độc - lập .',\n",
       "  'bounding_box': {'normalizedVertices': [{'x': 0.5149157, 'y': 0.39239413},\n",
       "    {'x': 0.8884565, 'y': 0.39152983},\n",
       "    {'x': 0.8897536, 'y': 0.69490063},\n",
       "    {'x': 0.5162127, 'y': 0.6957649}]},\n",
       "  'paragraphs': [{'paragraph_text': 'Phật - Giáo Việt Nam không',\n",
       "    'bounding_box': {'normalizedVertices': [{'x': 0.5693904, 'y': 0.39239413},\n",
       "      {'x': 0.8871595, 'y': 0.39239413},\n",
       "      {'x': 0.8871595, 'y': 0.4105445},\n",
       "      {'x': 0.5693904, 'y': 0.4105445}]}},\n",
       "   {'paragraph_text': 'phải chỉ là một tồn - giáo tin ngưỡng mà bất cứ thời nào , ở đâu , cũng chỉ biết có sứ - mạng của lồn - giáo tín ngưỡng . Không 1 Ở bất cứ nước nào trên thế giới cũng vậy , khi bước chân đến , Đạo Phật cũng thích nghỉ ngay với phong - lục , khí hậu , nhân tính đề biển thành một lối sống cho quần chúng . Ở Việt Nam cũng thể . Phật - Giáo đã hòa hợp trong cá tính dân tộc ta , đã cùng dân tộc ta xây dựng một văn hóa quốc gia độc - lập .',\n",
       "    'bounding_box': {'normalizedVertices': [{'x': 0.5149157, 'y': 0.41486603},\n",
       "      {'x': 0.8871595, 'y': 0.41400173},\n",
       "      {'x': 0.8897536, 'y': 0.6940363},\n",
       "      {'x': 0.5175097, 'y': 0.6957649}]}}]},\n",
       " {'block_text': '3',\n",
       "  'bounding_box': {'normalizedVertices': [{'x': 0.8741894, 'y': 0.7389801},\n",
       "    {'x': 0.8858625, 'y': 0.7389801},\n",
       "    {'x': 0.8858625, 'y': 0.74762315},\n",
       "    {'x': 0.8741894, 'y': 0.74762315}]},\n",
       "  'paragraphs': [{'paragraph_text': '3',\n",
       "    'bounding_box': {'normalizedVertices': [{'x': 0.8741894, 'y': 0.7389801},\n",
       "      {'x': 0.8858625, 'y': 0.7389801},\n",
       "      {'x': 0.8858625, 'y': 0.74762315},\n",
       "      {'x': 0.8741894, 'y': 0.74762315}]}}]},\n",
       " {'block_text': 'THUV',\n",
       "  'bounding_box': {'normalizedVertices': [{'x': 0.0116731515, 'y': 0.9619706},\n",
       "    {'x': 0.20622568, 'y': 0.74243736},\n",
       "    {'x': 0.2853437, 'y': 0.7735523},\n",
       "    {'x': 0.09079118, 'y': 0.99222124}]},\n",
       "  'paragraphs': [{'paragraph_text': 'THUV',\n",
       "    'bounding_box': {'normalizedVertices': [{'x': 0.0116731515,\n",
       "       'y': 0.9619706},\n",
       "      {'x': 0.20622568, 'y': 0.74243736},\n",
       "      {'x': 0.2853437, 'y': 0.7735523},\n",
       "      {'x': 0.09079118, 'y': 0.99222124}]}}]},\n",
       " {'block_text': 'UNO TAM',\n",
       "  'bounding_box': {'normalizedVertices': [{'x': 0.843061, 'y': 0.94987035},\n",
       "    {'x': 0.8651102, 'y': 0.9161625},\n",
       "    {'x': 0.8780804, 'y': 0.9196197},\n",
       "    {'x': 0.8560311, 'y': 0.95419186}]},\n",
       "  'paragraphs': [{'paragraph_text': 'UNO TAM',\n",
       "    'bounding_box': {'normalizedVertices': [{'x': 0.843061, 'y': 0.94987035},\n",
       "      {'x': 0.8651102, 'y': 0.9161625},\n",
       "      {'x': 0.8780804, 'y': 0.9196197},\n",
       "      {'x': 0.8560311, 'y': 0.95419186}]}}]},\n",
       " {'block_text': 'DICH 2',\n",
       "  'bounding_box': {'normalizedVertices': [{'x': 0.86900127, 'y': 0.91097665},\n",
       "    {'x': 0.9040207, 'y': 0.90665513},\n",
       "    {'x': 0.9143969, 'y': 0.9446845},\n",
       "    {'x': 0.8806744, 'y': 0.949006}]},\n",
       "  'paragraphs': [{'paragraph_text': 'DICH',\n",
       "    'bounding_box': {'normalizedVertices': [{'x': 0.8754864, 'y': 0.9144339},\n",
       "      {'x': 0.90142673, 'y': 0.90665513},\n",
       "      {'x': 0.9066148, 'y': 0.91356957},\n",
       "      {'x': 0.8793774, 'y': 0.920484}]}},\n",
       "   {'paragraph_text': '2',\n",
       "    'bounding_box': {'normalizedVertices': [{'x': 0.8793774, 'y': 0.9230769},\n",
       "      {'x': 0.9040207, 'y': 0.9230769},\n",
       "      {'x': 0.9040207, 'y': 0.94554883},\n",
       "      {'x': 0.8793774, 'y': 0.94554883}]}}]},\n",
       " {'block_text': 'HUỆ QUANG',\n",
       "  'bounding_box': {'normalizedVertices': [{'x': 0.8677043, 'y': 0.9628349},\n",
       "    {'x': 0.9442283, 'y': 0.9628349},\n",
       "    {'x': 0.9442283, 'y': 0.97234225},\n",
       "    {'x': 0.8677043, 'y': 0.97234225}]},\n",
       "  'paragraphs': [{'paragraph_text': 'HUỆ QUANG',\n",
       "    'bounding_box': {'normalizedVertices': [{'x': 0.8677043, 'y': 0.9628349},\n",
       "      {'x': 0.9442283, 'y': 0.9628349},\n",
       "      {'x': 0.9442283, 'y': 0.97234225},\n",
       "      {'x': 0.8677043, 'y': 0.97234225}]}}]}]"
      ]
     },
     "execution_count": 110,
     "metadata": {},
     "output_type": "execute_result"
    }
   ],
   "source": [
    "result"
   ]
  },
  {
   "cell_type": "code",
   "execution_count": 113,
   "metadata": {},
   "outputs": [
    {
     "name": "stdout",
     "output_type": "stream",
     "text": [
      "<?xml version=\"1.0\" ?>\n",
      "<document>\n",
      "  <block origin_point=\"(0.11673152, 0.11235955)\">\n",
      "    <p origin_point=\"(0.11673152, 0.11495246)\">IPIHIAT - GIAO</p>\n",
      "    <p origin_point=\"(0.11932555, 0.19187555)\">VIET = NAM</p>\n",
      "  </block>\n",
      "  <block origin_point=\"(0.6757458, 0.23336214)\">\n",
      "    <p origin_point=\"(0.6757458, 0.23336214)\">NG.VI</p>\n",
      "  </block>\n",
      "  <block origin_point=\"(0.1154345, 0.25583404)\">\n",
      "    <p origin_point=\"(0.17898832, 0.25583404)\">TỪ NGÀY 10 Tỳ - Ni - Đa - Lưu - Chi sang nước ta đến nay ,</p>\n",
      "    <p origin_point=\"(0.1154345, 0.29299915)\">kề ra đã đến mười lăm thế kỷ . Phật - Giáo đã ở lại cùng chúng ta một ngàn năm trăm năm , và đã cùng dân tộc Việt - Nam chịu chung bao nhiêu thắng - trầm vinh nhục ,</p>\n",
      "    <p origin_point=\"(0.16990921, 0.3621435)\">Phật - Giáo Việt - Nam quả là một nền Phật - Giáo dân tộc .</p>\n",
      "  </block>\n",
      "  <block origin_point=\"(0.11673152, 0.7372515)\">\n",
      "    <p origin_point=\"(0.11673152, 0.7372515)\">PHẬT - GIÁO VIỆT NAM</p>\n",
      "  </block>\n",
      "  <block origin_point=\"(0.5149157, 0.39239413)\">\n",
      "    <p origin_point=\"(0.5693904, 0.39239413)\">Phật - Giáo Việt Nam không</p>\n",
      "    <p origin_point=\"(0.5149157, 0.41486603)\">phải chỉ là một tồn - giáo tin ngưỡng mà bất cứ thời nào , ở đâu , cũng chỉ biết có sứ - mạng của lồn - giáo tín ngưỡng . Không 1 Ở bất cứ nước nào trên thế giới cũng vậy , khi bước chân đến , Đạo Phật cũng thích nghỉ ngay với phong - lục , khí hậu , nhân tính đề biển thành một lối sống cho quần chúng . Ở Việt Nam cũng thể . Phật - Giáo đã hòa hợp trong cá tính dân tộc ta , đã cùng dân tộc ta xây dựng một văn hóa quốc gia độc - lập .</p>\n",
      "  </block>\n",
      "  <block origin_point=\"(0.8741894, 0.7389801)\">\n",
      "    <p origin_point=\"(0.8741894, 0.7389801)\">3</p>\n",
      "  </block>\n",
      "  <block origin_point=\"(0.0116731515, 0.9619706)\">\n",
      "    <p origin_point=\"(0.0116731515, 0.9619706)\">THUV</p>\n",
      "  </block>\n",
      "  <block origin_point=\"(0.843061, 0.94987035)\">\n",
      "    <p origin_point=\"(0.843061, 0.94987035)\">UNO TAM</p>\n",
      "  </block>\n",
      "  <block origin_point=\"(0.86900127, 0.91097665)\">\n",
      "    <p origin_point=\"(0.8754864, 0.9144339)\">DICH</p>\n",
      "    <p origin_point=\"(0.8793774, 0.9230769)\">2</p>\n",
      "  </block>\n",
      "  <block origin_point=\"(0.8677043, 0.9628349)\">\n",
      "    <p origin_point=\"(0.8677043, 0.9628349)\">HUỆ QUANG</p>\n",
      "  </block>\n",
      "</document>\n",
      "\n"
     ]
    }
   ],
   "source": [
    "print(build_xml_from_blocks(result, include_attributes=[\"origin_point\"]))"
   ]
  },
  {
   "cell_type": "code",
   "execution_count": 105,
   "metadata": {},
   "outputs": [
    {
     "data": {
      "text/plain": [
       "1113.9999793"
      ]
     },
     "execution_count": 105,
     "metadata": {},
     "output_type": "execute_result"
    }
   ],
   "source": [
    "0.9628349 * 1157"
   ]
  },
  {
   "cell_type": "code",
   "execution_count": 114,
   "metadata": {},
   "outputs": [
    {
     "name": "stdout",
     "output_type": "stream",
     "text": [
      "<?xml version=\"1.0\" ?>\n",
      "<document>\n",
      "  <block>\n",
      "    <p>IPIHIAT - GIAO</p>\n",
      "    <p>VIET = NAM</p>\n",
      "  </block>\n",
      "  <block>\n",
      "    <p>NG.VI</p>\n",
      "  </block>\n",
      "  <block>\n",
      "    <p>TỪ NGÀY 10 Tỳ - Ni - Đa - Lưu - Chi sang nước ta đến nay ,</p>\n",
      "    <p>kề ra đã đến mười lăm thế kỷ . Phật - Giáo đã ở lại cùng chúng ta một ngàn năm trăm năm , và đã cùng dân tộc Việt - Nam chịu chung bao nhiêu thắng - trầm vinh nhục ,</p>\n",
      "    <p>Phật - Giáo Việt - Nam quả là một nền Phật - Giáo dân tộc .</p>\n",
      "  </block>\n",
      "  <block>\n",
      "    <p>PHẬT - GIÁO VIỆT NAM</p>\n",
      "  </block>\n",
      "  <block>\n",
      "    <p>Phật - Giáo Việt Nam không</p>\n",
      "    <p>phải chỉ là một tồn - giáo tin ngưỡng mà bất cứ thời nào , ở đâu , cũng chỉ biết có sứ - mạng của lồn - giáo tín ngưỡng . Không 1 Ở bất cứ nước nào trên thế giới cũng vậy , khi bước chân đến , Đạo Phật cũng thích nghỉ ngay với phong - lục , khí hậu , nhân tính đề biển thành một lối sống cho quần chúng . Ở Việt Nam cũng thể . Phật - Giáo đã hòa hợp trong cá tính dân tộc ta , đã cùng dân tộc ta xây dựng một văn hóa quốc gia độc - lập .</p>\n",
      "  </block>\n",
      "  <block>\n",
      "    <p>3</p>\n",
      "  </block>\n",
      "  <block>\n",
      "    <p>THUV</p>\n",
      "  </block>\n",
      "  <block>\n",
      "    <p>UNO TAM</p>\n",
      "  </block>\n",
      "  <block>\n",
      "    <p>DICH</p>\n",
      "    <p>2</p>\n",
      "  </block>\n",
      "  <block>\n",
      "    <p>HUỆ QUANG</p>\n",
      "  </block>\n",
      "</document>\n",
      "\n"
     ]
    }
   ],
   "source": [
    "print(build_xml_from_blocks(result))"
   ]
  },
  {
   "cell_type": "markdown",
   "metadata": {},
   "source": [
    "<?xml version=\"1.0\" ?>\n",
    "<document>\n",
    "  <block>\n",
    "    <p>IPIHIAT - GIAO</p>\n",
    "    <p>VIET = NAM</p>\n",
    "  </block>\n",
    "  <block>\n",
    "    <p>NG.VI</p>\n",
    "  </block>\n",
    "  <block>\n",
    "    <p>TỪ NGÀY 10 Tỳ - Ni - Đa - Lưu - Chi sang nước ta đến nay ,</p>\n",
    "    <p>kề ra đã đến mười lăm thế kỷ . Phật - Giáo đã ở lại cùng chúng ta một ngàn năm trăm năm , và đã cùng dân tộc Việt - Nam chịu chung bao nhiêu thắng - trầm vinh nhục ,</p>\n",
    "    <p>Phật - Giáo Việt - Nam quả là một nền Phật - Giáo dân tộc .</p>\n",
    "  </block>\n",
    "  <block>\n",
    "    <p>PHẬT - GIÁO VIỆT NAM</p>\n",
    "  </block>\n",
    "  <block>\n",
    "    <p>Phật - Giáo Việt Nam không</p>\n",
    "    <p>phải chỉ là một tồn - giáo tin ngưỡng mà bất cứ thời nào , ở đâu , cũng chỉ biết có sứ - mạng của lồn - giáo tín ngưỡng . Không 1 Ở bất cứ nước nào trên thế giới cũng vậy , khi bước chân đến , Đạo Phật cũng thích nghỉ ngay với phong - lục , khí hậu , nhân tính đề biển thành một lối sống cho quần chúng . Ở Việt Nam cũng thể . Phật - Giáo đã hòa hợp trong cá tính dân tộc ta , đã cùng dân tộc ta xây dựng một văn hóa quốc gia độc - lập .</p>\n",
    "  </block>\n",
    "  <block>\n",
    "    <p>3</p>\n",
    "  </block>\n",
    "</document>\n",
    "\n"
   ]
  },
  {
   "cell_type": "code",
   "execution_count": null,
   "metadata": {},
   "outputs": [],
   "source": []
  }
 ],
 "metadata": {
  "kernelspec": {
   "display_name": "tnh-scholar",
   "language": "python",
   "name": "python3"
  },
  "language_info": {
   "codemirror_mode": {
    "name": "ipython",
    "version": 3
   },
   "file_extension": ".py",
   "mimetype": "text/x-python",
   "name": "python",
   "nbconvert_exporter": "python",
   "pygments_lexer": "ipython3",
   "version": "3.11.10"
  }
 },
 "nbformat": 4,
 "nbformat_minor": 2
}
