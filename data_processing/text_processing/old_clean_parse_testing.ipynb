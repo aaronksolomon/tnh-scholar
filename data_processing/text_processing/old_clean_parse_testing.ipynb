{
 "cells": [
  {
   "cell_type": "markdown",
   "metadata": {},
   "source": [
    "### Testing of html traversal in B.Soup:"
   ]
  },
  {
   "cell_type": "code",
   "execution_count": null,
   "metadata": {},
   "outputs": [],
   "source": [
    "from bs4 import BeautifulSoup, Tag, NavigableString\n",
    "\n",
    "def traverse_descendants(tag, indent_level=0):\n",
    "    \"\"\"\n",
    "    Traverse through all descendants of a BeautifulSoup Tag, printing the type and content with indentation.\n",
    "\n",
    "    Parameters:\n",
    "    - tag (Tag): A BeautifulSoup Tag object to traverse.\n",
    "    - indent_level (int): Initial indentation level (used for recursive calls).\n",
    "\n",
    "    Example usage:\n",
    "    >>> html = \"<div><p class='intro'>Hello, <b>world!</b></p></div>\"\n",
    "    >>> soup = BeautifulSoup(html, 'html.parser')\n",
    "    >>> traverse_descendants(soup.body)\n",
    "    \"\"\"\n",
    "    for descendant in tag.descendants:\n",
    "        # Calculate indentation based on ancestor depth\n",
    "        depth = len(list(descendant.parents)) - indent_level\n",
    "        indent = \"    \" * depth\n",
    "\n",
    "        if isinstance(descendant, Tag):\n",
    "            print(f\"{indent}Tag: <{descendant.name}> with attributes {descendant.attrs} and content: {descendant.get_text(strip=True)}\")\n",
    "        elif isinstance(descendant, NavigableString):\n",
    "            print(f\"{indent}Text: {repr(descendant)}\")\n",
    "\n",
    "# Example usage with soups[1]\n",
    "# traverse_descendants(soups[1])"
   ]
  },
  {
   "cell_type": "code",
   "execution_count": null,
   "metadata": {},
   "outputs": [],
   "source": [
    "traverse_descendants(soups[18])"
   ]
  },
  {
   "cell_type": "code",
   "execution_count": null,
   "metadata": {},
   "outputs": [],
   "source": [
    "from bs4 import BeautifulSoup, Tag, NavigableString\n",
    "\n",
    "def simple_prettify(tag, indent=\"  \"):\n",
    "    \"\"\"\n",
    "    A simplified prettify function that adds indentation for each tag and text based on depth.\n",
    "\n",
    "    Parameters:\n",
    "    - tag (Tag): The starting BeautifulSoup Tag object to pretty print.\n",
    "    - indent (str): The string used for indentation (default is two spaces).\n",
    "\n",
    "    Yields:\n",
    "    - Each part of the prettified HTML as a string.\n",
    "    \"\"\"\n",
    "    depth = 0\n",
    "\n",
    "    for element in tag.descendants:\n",
    "        if isinstance(element, Tag):\n",
    "            # Start with the opening tag and indentation\n",
    "            line = f\"{indent * depth}<{element.name}\"\n",
    "\n",
    "            # If the tag has attributes, add them one by one\n",
    "            if element.attrs:\n",
    "                attrs = \" \".join(f'{k}=\"{v}\"' for k, v in element.attrs.items())\n",
    "                line += f\" {attrs}\"\n",
    "            \n",
    "            # Close the opening tag\n",
    "            line += \">\"\n",
    "            yield line\n",
    "\n",
    "            # Increase depth for nested tags\n",
    "            depth += 1\n",
    "        elif isinstance(element, NavigableString):\n",
    "            # Handle text content with indentation\n",
    "            text = element.strip()\n",
    "            if text:  # Skip empty text nodes\n",
    "                yield f\"{indent * depth}{text}\"\n",
    "        \n",
    "        # Handle closing tag if it's the end of a block (decrement depth afterward)\n",
    "        if isinstance(element, Tag) and not element.contents and not element.is_empty_element:\n",
    "            depth -= 1\n",
    "            yield f\"{indent * depth}</{element.name}>\"\n"
   ]
  }
 ],
 "metadata": {
  "kernelspec": {
   "display_name": "tnh-scholar",
   "language": "python",
   "name": "python3"
  },
  "language_info": {
   "name": "python",
   "version": "3.11.10"
  }
 },
 "nbformat": 4,
 "nbformat_minor": 2
}
