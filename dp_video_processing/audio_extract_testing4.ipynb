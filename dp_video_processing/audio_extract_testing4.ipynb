{
 "cells": [
  {
   "cell_type": "code",
   "execution_count": 1,
   "metadata": {},
   "outputs": [],
   "source": [
    "%load_ext autoreload\n",
    "%autoreload 2"
   ]
  },
  {
   "cell_type": "code",
   "execution_count": 2,
   "metadata": {},
   "outputs": [],
   "source": [
    "from pathlib import Path\n",
    "from typing import List, Dict\n",
    "import logging\n",
    "import json"
   ]
  },
  {
   "cell_type": "code",
   "execution_count": 3,
   "metadata": {},
   "outputs": [],
   "source": [
    "from dp_video_processing import get_youtube_urls_from_file, download_audio_yt, detect_boundaries, split_audio_at_boundaries, process_audio_chunks, split_on_silence, postprocess_text"
   ]
  },
  {
   "cell_type": "code",
   "execution_count": 4,
   "metadata": {},
   "outputs": [],
   "source": [
    "from data_processing.gpt_processing import token_count"
   ]
  },
  {
   "cell_type": "code",
   "execution_count": 5,
   "metadata": {},
   "outputs": [],
   "source": [
    "# Configure main logger using setup_logger\n",
    "import logging_config\n",
    "from logging_config import setup_logging\n",
    "from logging_config import get_child_logger"
   ]
  },
  {
   "cell_type": "code",
   "execution_count": 6,
   "metadata": {},
   "outputs": [
    {
     "data": {
      "text/plain": [
       "<Logger tnh (DEBUG)>"
      ]
     },
     "execution_count": 6,
     "metadata": {},
     "output_type": "execute_result"
    }
   ],
   "source": [
    "setup_logging(log_filename=\"audio_extract_testing.log\", log_level=logging.DEBUG)"
   ]
  },
  {
   "cell_type": "code",
   "execution_count": 7,
   "metadata": {},
   "outputs": [
    {
     "name": "stderr",
     "output_type": "stream",
     "text": [
      "2024-12-09 16:02:48,581 - tnh.audio_extract_test - \u001b[1;32mDEBUG\u001b[0m - Created logger with name: tnh.audio_extract_test\u001b[0m\n"
     ]
    }
   ],
   "source": [
    "logger = get_child_logger(\"audio_extract_test\")"
   ]
  },
  {
   "cell_type": "code",
   "execution_count": 8,
   "metadata": {},
   "outputs": [],
   "source": [
    "audio_storage_dir = Path(\"processed_videos/video_transcriptions\")"
   ]
  },
  {
   "cell_type": "code",
   "execution_count": 9,
   "metadata": {},
   "outputs": [],
   "source": [
    "talk_name = \"'Awakening Together' Family Retreat Dharma Talk ｜ Sister Kính Nghiêm ｜ 2024-06-27\""
   ]
  },
  {
   "cell_type": "code",
   "execution_count": 10,
   "metadata": {},
   "outputs": [],
   "source": [
    "audio_working_dir = audio_storage_dir / talk_name"
   ]
  },
  {
   "cell_type": "code",
   "execution_count": 11,
   "metadata": {},
   "outputs": [],
   "source": [
    "audio_file_path = audio_working_dir / f\"{talk_name}.mp3\""
   ]
  },
  {
   "cell_type": "code",
   "execution_count": 12,
   "metadata": {},
   "outputs": [
    {
     "data": {
      "text/plain": [
       "True"
      ]
     },
     "execution_count": 12,
     "metadata": {},
     "output_type": "execute_result"
    }
   ],
   "source": [
    "audio_file_path.exists()"
   ]
  },
  {
   "cell_type": "code",
   "execution_count": 13,
   "metadata": {},
   "outputs": [],
   "source": [
    "# boundaries = detect_boundaries_hf(audio_file_path, language=\"en\")"
   ]
  },
  {
   "cell_type": "code",
   "execution_count": 14,
   "metadata": {},
   "outputs": [],
   "source": [
    "# chunks_directory = split_on_silence(audio_file_path, silence_thresh=-40, min_silence_len=1000)"
   ]
  },
  {
   "cell_type": "code",
   "execution_count": 15,
   "metadata": {},
   "outputs": [],
   "source": [
    "# chunks_directory"
   ]
  },
  {
   "cell_type": "code",
   "execution_count": 16,
   "metadata": {},
   "outputs": [],
   "source": [
    "# split_audio_at_boundaries(audio_file_path, boundaries, test_output_dir, max_duration=1 * 60)"
   ]
  },
  {
   "cell_type": "code",
   "execution_count": null,
   "metadata": {},
   "outputs": [],
   "source": [
    "# output_transcription_file = Path(\"venerable_test_vi.txt\")\n",
    "# output_jsonl_file = Path(\"venerable_test_vi.jsonl\")\n",
    "\n",
    "# process_audio_chunks(\n",
    "#     directory=chunks_directory,\n",
    "#     output_file=output_transcription_file,\n",
    "#     jsonl_file=output_jsonl_file,\n",
    "#     prompt=\"Tiếng Việt\",\n",
    "#     translate=False\n",
    "# )"
   ]
  },
  {
   "cell_type": "code",
   "execution_count": 18,
   "metadata": {},
   "outputs": [
    {
     "data": {
      "text/plain": [
       "PosixPath(\"processed_videos/video_transcriptions/'Awakening Together' Family Retreat Dharma Talk ｜ Sister Kính Nghiêm ｜ 2024-06-27\")"
      ]
     },
     "execution_count": 18,
     "metadata": {},
     "output_type": "execute_result"
    }
   ],
   "source": [
    "audio_working_dir"
   ]
  },
  {
   "cell_type": "code",
   "execution_count": 19,
   "metadata": {},
   "outputs": [],
   "source": [
    "transcript_path = audio_working_dir / f\"kn_test.txt\""
   ]
  },
  {
   "cell_type": "code",
   "execution_count": 20,
   "metadata": {},
   "outputs": [
    {
     "data": {
      "text/plain": [
       "True"
      ]
     },
     "execution_count": 20,
     "metadata": {},
     "output_type": "execute_result"
    }
   ],
   "source": [
    "transcript_path.exists()"
   ]
  },
  {
   "cell_type": "code",
   "execution_count": 21,
   "metadata": {},
   "outputs": [],
   "source": [
    "post_output_path = audio_working_dir / f\"post_kn_test.txt\""
   ]
  },
  {
   "cell_type": "code",
   "execution_count": null,
   "metadata": {},
   "outputs": [],
   "source": [
    "postprocess_section_vi = \"\"\"Add <section> tags to this text where logical sections occur. Make no other changes whatsover.\"\"\""
   ]
  },
  {
   "cell_type": "code",
   "execution_count": null,
   "metadata": {},
   "outputs": [],
   "source": [
    "postprocess_instructions_vi = \"\"\"You are the world's leading expert at translating Dharma talks transcribed from spoken Vietnamese.\n",
    "\n",
    "The current text is from a Dharma talk offered by Venerable Vietnamese Monastic at Deer Park Monastery in California.\n",
    "\n",
    "Common opening salutations are \"Namo Shakyamuni Buddha,\"  \"Dear Noble Community,\" which may be expressed partly in Sanskrit, and partly in Vietnamese. \n",
    "\n",
    "Some transcriptions may be from sounds such as a bell. These can be marked as [Bell].\n",
    "\n",
    "You may have to infer the speaker's intent in order to correct transcription or speaking errors and to generate a text that most closely matches the speaker's meaning and intent,\n",
    "while still giving clear and eloquent English.\n",
    "\n",
    "Your goal is to translate the text and format it into meaningful paragraphs and correct errors (logical, transcription, or grammatical). \n",
    "You must faithfully capture the speaker's style and presentation while creating a meaningful flow using common, clear, and typical English. \n",
    "Translate faithfully and as carefully as possible. \n",
    "\n",
    "Do not leave out any content or summarize. Translate as literally as possible while maintaining good quality English and good flow. \n",
    "\n",
    "The final output should match approximately the length of the original.\n",
    "\n",
    "Your output should be a publishable and polished document.\n",
    "\n",
    "Make no other changes; add no content.\n",
    "\n",
    "Output the final text only.\"\"\""
   ]
  },
  {
   "cell_type": "code",
   "execution_count": 25,
   "metadata": {},
   "outputs": [],
   "source": [
    "postprocess_instructions_en = \"\"\"You are the world's leading expert at formatting Dharma talk audio transcriptions into written text for native, and partly fluent English speakers. \n",
    "\n",
    "The current text is from a Dharma Talk offered by a Southern Californian English-speaking monastic.\n",
    "\n",
    "Format the given text into meaningful concise paragraphs. Use <p> tags to mark paragraphs.\n",
    "\n",
    "Insert <section> and <title> tags where appropriate in the text to mark natural sections in the talk; give these sections appropriate titles.\n",
    "\n",
    "Make any necessary grammatical corrections. \n",
    "\n",
    "Minimally adjust the text to create a publishable and polished document. \n",
    "\n",
    "Do not change adjectives or adverbs or otherwise change the speaker's style.\n",
    "\n",
    "Make no other changes; add no content.\n",
    "\n",
    "Output the final text only.\"\"\""
   ]
  },
  {
   "cell_type": "code",
   "execution_count": 27,
   "metadata": {},
   "outputs": [
    {
     "name": "stderr",
     "output_type": "stream",
     "text": [
      "2024-12-09 16:22:26,954 - tnh.video_processing - \u001b[36mINFO\u001b[0m - Starting postprocessing of file :\n",
      "\tkn_test.txt\n",
      "atch flag set to False.\u001b[0m\n",
      "2024-12-09 16:22:26,955 - tnh.gpt_interface - \u001b[1;32mDEBUG\u001b[0m - Starting chat completion with response_object=None and max_tokens=3556...\u001b[0m\n",
      "2024-12-09 16:23:39,760 - tnh.video_processing - \u001b[1;32mDEBUG\u001b[0m - Full completion:\n",
      "ChatCompletion(id='chatcmpl-AciJ9sc9TOKDPvxfq6nT9G3VU3LPt', choices=[Choice(finish_reason='stop', index=0, logprobs=None, message=ChatCompletionMessage(content=\"<section>\\n<title>Introduction and Greetings</title>\\n<p>I think all the tweens or teens are going to leave the hall. What about the children? Do the children have a program this morning? Can you tell us what you're going to do this morning? Do you know? No? Does it include playing?</p>\\n<p>How have you enjoyed the program so far? It's good? How many of you are in the children's program? Wow, there's so many of you. So, what's your favorite thing so far? Oh, is it the chanting? And it's your first time here?</p>\\n<p>Do you want to stay in the big hall or do you want to go play? What about you? What's your favorite thing? Can you come up here? I can't really hear you. The questions and answers? Yeah, you had questions and answers already? Oh, and what group are you in? You're in the 6th, 7th, and 8th group.</p>\\n<p>Congratulations to the 6th, 7th, and 8th group for being the quietest children's group. Can we carry that on during our mealtimes too? Yeah? So, what is your next favorite thing? Is there anybody else that has a favorite thing so far? How many of you are here with your parents? Are they your favorite thing? Yeah? A very quiet yeah?</p>\\n<p>Before we invite all of the children to leave the hall, maybe we can go to our parents and give them a big hug and tell them that they are your favorite person today. One of our practices is to bring happiness to someone in the morning, and we can do that. Maybe all the children can stand up and go find your parents and give them a big hug, and then you can follow Sister Grasshopper or Brother Forest out to your children's program. Thank you.</p>\\n<p>For all the other adults who don't have physical children here with us, you can also give yourself a hug. The little child inside of you giving you a hug also. Bye. Have fun.</p>\\n</section>\\n\\n<section>\\n<title>Establishing a Calm Presence</title>\\n<p>If you find it in your space too, if you can, move a little bit closer so I'm not too far away from all of you. All of us, if you can, just move a little bit closer. Thank you. Once we get ourselves comfortable in our new seat, we can find an upright position and follow our breathing.</p>\\n<p>I would like to invite all of us to sit upright with our shoulders relaxed and just simply become aware of our in and out breath. There's no need to control it. Just recognize that our breath is there.</p>\\n</section>\\n\\n<section>\\n<title>Embracing Impermanence</title>\\n<p>Dear respected Thay, dear brothers and sisters, and dear family, today is June 27th in the year 2020. We are in our Awakening Together retreat at Deer Park Monastery. I would have to say so many things have happened unexpectedly for me. I didn't know I was going to sit at the bell for the chanting, so I was getting ready to chant, and Brother Phap Luu called me up. I was like, oh, what do I do? I don't know what to say. Then those last-minute changes.</p>\\n<p>Personally, I like to have things planned out way in advance and almost down to the minute. I am my own project manager or event manager, essentially, taking care of every single moment of everything that I will do in the future. So if something throws me off, luckily, I wasn't too derailed. I was like, okay, give me a moment to ground myself.</p>\\n<p>I think that's what essentially we're here for, to find a little bit of grounding ourselves. There are so many things happening outside that our footsteps are a little bit unstable, quite literally and figuratively. We don't know what we're going to do, even though we have so many things planned out.</p>\\n<p>One of the deepest teachings of Buddhism is impermanence. In the teaching of impermanence, we know that intellectually, it's kind of something that we don't want to accept. I don't want to accept I'm growing old, right? Then I tell myself, 40 is the new 20. How many of us have said that before? It's just the fact that trying to hold on to something that is beautiful, at the same time, we also hold on to something that is not so beautiful.</p>\\n</section>\\n\\n<section>\\n<title>Practicing Mindfulness</title>\\n<p>Yesterday we had the orientation, and I was listening to my brothers and sisters share. I have heard orientation so many times. Let's just say at Deer Park, we have at least one retreat a month, that's almost 12 orientations, let alone having guests come every week. There's an orientation.</p>\\n<p>What brings it down to me, yes, we can share how you should do this and sort of fit into the monastery frame of things. The most important thing that we shouldn't forget is everything that you do here is for your own enjoyment. If trying to sit upright and following your breathing in and out and doing the exercises is a little bit stressful, then drop it. Don't tell the monks and nuns you dropped it. Because you're supposed to enjoy the sitting.</p>\\n<p>The sitting is just to enjoy. How often do you get to sit and do nothing, think about nothing, and just come into yourself and just say, this is great, my in-breath and my out-breath, how wonderful is that? Because the rest of the 23 hours and 15 minutes, we're trying to catch our breath in our everyday life. Now we have this chance to just really enjoy.</p>\\n<p>Just enjoy sitting. Enjoy walking. Everybody has their own way of walking. Yes, there are techniques and guidelines on how we can make the best of our walking. But the bottom line is, are you enjoying the walk? Are you enjoying the sit? Are you so focused on, oh, this is what the sister said, this is what the brother said? Then we're back into square one of trying to please other people and to please ourselves.</p>\\n<p>But you made it here to Deer Park. How many of us had to take vacation days to come here? Those precious, very little vacation days from work, sacrificing so much just to come and get caught in the idea that I am doing meditation. Meditation is very unmeditated. It's as simple as just enjoying what you are doing, taking the time to slow down to enjoy that you are eating a piece of carrot.</p>\\n<p>I wonder how many of us actually tasted the carrot, other than the heavy seasoning and all the stuff that we add on, the olive oil, the nutritional yeast, the soy sauce and all that stuff. But just a plain carrot in itself.</p>\\n<p>As part of our practice, our teacher encourages the monastics, occasionally we should do a fast. It's not a spiritual thing, but also as a means to allow our body to rest. Because for so long it's been working non-stop. We'll have a chance to do that today, also in deep relaxation exercise. But also resting in terms of all of our organs working together to digest the food and extract the food. A whole factory that is happening in there 24x7 non-stop.</p>\\n<p>When I was a novice, I tried to fast. One of the teachings that Thay said, once you break the fast, you also have to go into a very slow period of eating very light and almost clean food. Thay said, why don't you just take a slice of bread? You don't eat the whole slice of bread. Take a piece of it and you chew it. It's bread in itself. You chew it until it almost becomes liquified.</p>\\n<p>Then the moment you put the bread into your mouth, you feel the texture. There's the spongy part and then that nice crispy crust. Then you start to chew it. If it's a sourdough, it has a slight sour taste to it, but the more you chew it, you recognize that it becomes sweeter. Without the butter and the jam, it's just naturally sweet, the saliva, the transformation of the food inside your mouth, and it's a different kind of sweet.</p>\\n<p>I remember tasting bread for the first time in that way, and it was such an enjoyment. Wow! I don't need all these condiments; I don't need the peanut butter and the jam, the very American peanut butter and jelly; I don't need the butter; I don't need anything, just that piece of bread, as it is.</p>\\n</section>\\n\\n<section>\\n<title>Embracing Uniqueness</title>\\n<p>Because we have the tendency to think about what we need, and ideas of what will make it better, of a piece of bread or toast, the same thing with ourselves. We have an idea of what will make ourselves better. Forget it's just the simplest things, of just being you, who you are, the whole shebang, the whole package of your highs and lows, it's uniquely you. There is no other person in the world who is exactly like you, and that makes us unique, in the flower, in the garden of humanity.</p>\\n<p>I remember very deeply one time, every single time Thay gave an orientation for walking meditation, he said, you should walk in such a way, where peace and joy can be possible in each step. He did not tell me, Sister Khin Yim, you should walk like me, with your back like this, and your shoulders like this, and your neck straight, nothing to do with that. Sometimes if I'm so focused on walking like him, I forget the enjoyment and the peace part.</p>\\n<p>I would like to encourage all of us, do everything that you do during this retreat, do it for your own enjoyment, as an individual and as a collective. You're breathing just to enjoy, you're eating to enjoy, because this is the time, if not any other time.</p>\\n<p>I had, there's nothing on my notebook, quite literally, but this morning, I was, yesterday morning I had the chance to sit with some of my roommates, it's a pool splash lotus pond, pool transformed into a lotus pond, and we have a lot of lotus flowers in bloom, the sisters have put some in arrangement for you, so these are from Clarity Hamlet.</p>\\n</section>\\n\\n<section>\\n<title>The Essence of the Lotus</title>\\n<p>Just this morning, I was thinking, huh, maybe I should give a Dharma talk on the lotus flowers. I did not tell anybody this, because I'm still scrambling to think what I'm going to talk about, and then my younger sister says, I'm going to cut some lotus flowers to arrange them for the podium, it's perfect, it's set, this is what I'm going to talk about.</p>\\n<p>We've heard so many times the term, no mud, no lotus, it's a very deep practice, but I'm going to share with you the qualities of the lotus. Every single part of this lotus plant can be used as food. We have the lotus root, sometimes we eat the lotus roots, the young stem, the young sprouts that are still in the mud, we use that as a salad, and in this little pod, when it matures, you have the seeds, the lotus leaves, we wrap rice in them and we steam them, we call them the lotus rice, and that makes the very fragrant rice, with the natural, so basically every single part of this lotus plant can be used for food.</p>\\n<p>For fun, I remember Thay, what he used to do, and all the kids in the countryside, they would take the flower petals and they make the little bubbles out of them, blow it up and then you pop it on your forehead. It's a fun pastime, like little pops, not like those fire poppers, but then you just take a lotus leaf and you just pop it on your forehead, it makes a loud popping sound, and Thay used to do that with all the children, because we have a huge lotus pond, many lotus ponds in Pond Village, here, please don't pull all of the lotus flowers, we don't have that many.</p>\\n<p>But the one thing that I really admire about the lotus plant is the lotus leaf, and you may not know it, or you cannot see it, but actually the lotus leaf is almost resistant to water, it doesn't get wet. Then sometimes I said, you know what, my practice is to be like the lotus leaf, if I were to choose one part of the lotus plant, I would choose to practice being like the lotus leaf. Everybody likes to be the flower, they all like to be beautiful, but I just like to be the leaf. At least I know, when I look at something, and when I hold something, it doesn't get me wet.</p>\\n</section>\\n\\n<section>\\n<title>Practicing with the Lotus Leaf</title>\\n<p>One time I created a meditation called pebble meditation, but I had to teach the children that, but I said, I'm going to do something different, other than giving them little stones, I would give each of them a lotus leaf, I would put water in that lotus leaf, and I called it water pebble. I asked them to just hold the leaf and to look at it, and to see the different reflections on the water, and then when they finish looking at all the qualities of the freshness inside, they would pour it into the leaf of their friend, and they would contemplate that.</p>\\n<p>What I like about being a lotus leaf is that when I can look at my own suffering and own despair, because what happens in our own habit is that we're so immersed in our pain, that we identify ourselves as that pain, that is me, and that is who I am, almost an attachment to that. But if I put my pain in a lotus leaf, look at it, and when I'm finished understanding and looking deeply at it, I can pour it down into the water and let it go, and my leaf is still fresh and green.</p>\\n<p>I invite all of us to practice being a lotus leaf, just holding the beauty, the solidity, the mountains, the stability, the clarity inside of us. So when the time comes, we would also need to look at our own pain and our own suffering, and to let it go, not to allow that pain and suffering to identify who we are, because life isn't permanent.</p>\\n<p>So maybe we can imagine ourselves, our hands, as a lotus leaf. We call upon what is really present inside of us right now, and we place that little water pebble or big water pebble on that leaf, and just look at it, and we listen to one sound of the bell, just holding that leaf and looking at the water pebble.</p>\\n<p>Now you can just imagine that you're pouring the water out of the leaf, and it can continue to receive the nourishment of the sun and the nourishment of the water and the mud.</p>\\n</section>\", refusal=None, role='assistant', audio=None, function_call=None, tool_calls=None))], created=1733790147, model='gpt-4o-2024-08-06', object='chat.completion', service_tier=None, system_fingerprint='fp_9d50cd990b', usage=CompletionUsage(completion_tokens=3161, prompt_tokens=3211, total_tokens=6372, completion_tokens_details=CompletionTokensDetails(accepted_prediction_tokens=0, audio_tokens=0, reasoning_tokens=0, rejected_prediction_tokens=0), prompt_tokens_details=PromptTokensDetails(audio_tokens=0, cached_tokens=3072)))\u001b[0m\n",
      "2024-12-09 16:23:39,764 - tnh.video_processing - \u001b[36mINFO\u001b[0m - Postprocessed text written to:\n",
      "\tprocessed_videos/video_transcriptions/'Awakening Together' Family Retreat Dharma Talk ｜ Sister Kính Nghiêm ｜ 2024-06-27/post_kn_test.txt\u001b[0m\n"
     ]
    }
   ],
   "source": [
    "postprocess_text(transcript_path, post_output_path, postprocess_instructions_en, batch=False)"
   ]
  },
  {
   "cell_type": "code",
   "execution_count": null,
   "metadata": {},
   "outputs": [],
   "source": []
  }
 ],
 "metadata": {
  "kernelspec": {
   "display_name": "tnh-scholar",
   "language": "python",
   "name": "python3"
  },
  "language_info": {
   "codemirror_mode": {
    "name": "ipython",
    "version": 3
   },
   "file_extension": ".py",
   "mimetype": "text/x-python",
   "name": "python",
   "nbconvert_exporter": "python",
   "pygments_lexer": "ipython3",
   "version": "3.11.10"
  }
 },
 "nbformat": 4,
 "nbformat_minor": 2
}
