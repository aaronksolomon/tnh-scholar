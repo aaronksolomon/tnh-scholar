{
 "cells": [
  {
   "cell_type": "code",
   "execution_count": null,
   "metadata": {},
   "outputs": [],
   "source": [
    "from pyannote.audio import Pipeline"
   ]
  },
  {
   "cell_type": "code",
   "execution_count": null,
   "metadata": {},
   "outputs": [],
   "source": [
    "from dotenv import load_dotenv"
   ]
  },
  {
   "cell_type": "code",
   "execution_count": null,
   "metadata": {},
   "outputs": [],
   "source": [
    "import os\n",
    "from pathlib import Path"
   ]
  },
  {
   "cell_type": "code",
   "execution_count": null,
   "metadata": {},
   "outputs": [],
   "source": [
    "\n",
    "load_dotenv()\n",
    "hugging_face_token = os.getenv(\"HUGGING_FACE_TOKEN\")"
   ]
  },
  {
   "cell_type": "code",
   "execution_count": null,
   "metadata": {},
   "outputs": [],
   "source": [
    "audio_path = Path(\"/Users/phapman/Desktop/DT_decision_making.wav\")"
   ]
  },
  {
   "cell_type": "code",
   "execution_count": null,
   "metadata": {},
   "outputs": [],
   "source": [
    "audio_path.exists()"
   ]
  },
  {
   "cell_type": "code",
   "execution_count": null,
   "metadata": {},
   "outputs": [],
   "source": [
    "import torch"
   ]
  },
  {
   "cell_type": "code",
   "execution_count": null,
   "metadata": {},
   "outputs": [],
   "source": [
    "def diarize_audio(audio_path: str):\n",
    "    pipeline = Pipeline.from_pretrained(\"pyannote/speaker-diarization-3.1\", use_auth_token=hugging_face_token)\n",
    "    diarization = pipeline(audio_path)\n",
    "    return [\n",
    "        {\"start\": turn.start, \"end\": turn.end, \"speaker\": speaker}\n",
    "        for turn, _, speaker in diarization.itertracks(yield_label=True)\n",
    "    ]"
   ]
  },
  {
   "cell_type": "code",
   "execution_count": null,
   "metadata": {},
   "outputs": [],
   "source": [
    "import torch"
   ]
  },
  {
   "cell_type": "code",
   "execution_count": null,
   "metadata": {},
   "outputs": [],
   "source": [
    "diarize_audio(audio_path)"
   ]
  },
  {
   "cell_type": "code",
   "execution_count": null,
   "metadata": {},
   "outputs": [],
   "source": [
    "import os\n",
    "import requests\n",
    "from pathlib import Path\n",
    "from dotenv import load_dotenv\n",
    "from tnh_scholar.utils import slugify\n",
    "import json\n",
    "from typing import Dict, Any"
   ]
  },
  {
   "cell_type": "code",
   "execution_count": null,
   "metadata": {},
   "outputs": [],
   "source": [
    "from tnh_scholar.logging_config import get_child_logger\n",
    "logger = get_child_logger(\"pyannote_testing_notebook\")"
   ]
  },
  {
   "cell_type": "code",
   "execution_count": null,
   "metadata": {},
   "outputs": [],
   "source": [
    "load_dotenv()\n",
    "api_token = os.getenv(\"PYANNOTEAI_API_TOKEN\")"
   ]
  },
  {
   "cell_type": "code",
   "execution_count": null,
   "metadata": {},
   "outputs": [],
   "source": [
    "input_path = Path(\"/Users/phapman/Desktop/DT_decision_making.mp3\")"
   ]
  },
  {
   "cell_type": "code",
   "execution_count": null,
   "metadata": {},
   "outputs": [],
   "source": [
    "input_path.exists()"
   ]
  },
  {
   "cell_type": "code",
   "execution_count": null,
   "metadata": {},
   "outputs": [],
   "source": [
    "def get_pyannote_upload_url(input_path: Path, media_url: str, api_token: str) -> str:\n",
    "    \"\"\"Get pre-signed URL for uploading media to Pyannote.ai.\"\"\"\n",
    "    url = \"https://api.pyannote.ai/v1/media/input\"\n",
    "    headers = {\n",
    "        \"Authorization\": f\"Bearer {api_token}\",\n",
    "        \"Content-Type\": \"application/json\"\n",
    "    }\n",
    "\n",
    "    body = {\"url\": media_url}\n",
    "\n",
    "    try:\n",
    "        return get_response_status(url, body, headers)\n",
    "    except requests.exceptions.HTTPError as e:\n",
    "        print(f\"HTTP Error Response Body: {e.response.text}\")\n",
    "        raise\n",
    "\n",
    "def get_response_status(url, body, headers):\n",
    "    response = requests.post(url, json=body, headers=headers)\n",
    "    logger.debug(f\"Status Code: {response.status_code}\")\n",
    "    logger.debug(f\"Response Content: {response.text}\")\n",
    "    logger.debug(f\"Request Body: {body}\")\n",
    "    response.raise_for_status()\n",
    "    return response.json()[\"url\"]\n",
    "\n",
    "# # Test the function\n",
    "# try:\n",
    "#     presigned_url = get_pyannote_upload_url(Path(\"dt-decision-making.mp3\"), api_token)\n",
    "# except Exception as e:\n",
    "#     print(f\"Error type: {type(e)}\")\n",
    "#     print(f\"Error details: {str(e)}\")"
   ]
  },
  {
   "cell_type": "code",
   "execution_count": null,
   "metadata": {},
   "outputs": [],
   "source": [
    "def upload_audio_to_pyannote(input_path: Path, bucket: str = None, api_token: str = None) -> str:\n",
    "    \"\"\"\n",
    "    Upload audio file to Pyannote.ai using pre-signed URL.\n",
    "    \n",
    "    Args:\n",
    "        input_path: Path to audio file\n",
    "        api_token: Optional API token (defaults to env var)\n",
    "        \n",
    "    Returns:\n",
    "        str: Media URL for uploaded file\n",
    "        \n",
    "    Raises:\n",
    "        ValueError: If API token not found\n",
    "    \"\"\"\n",
    "    # Get API token\n",
    "    if not api_token:\n",
    "        load_dotenv()\n",
    "        api_token = os.getenv(\"PYANNOTEAI_API_TOKEN\")\n",
    "    if not api_token:\n",
    "        raise ValueError(\"Pyannote API token not found\")\n",
    "\n",
    "    # Use default bucket name if not specified\n",
    "    if not bucket:\n",
    "        bucket = \"default\"\n",
    "        \n",
    "    media_url = f\"media://{bucket}/{slugify(input_path.stem)}{input_path.suffix}\"\n",
    "    \n",
    "    # Get upload URL and upload file\n",
    "    presigned_url = get_pyannote_upload_url(input_path, media_url, api_token)\n",
    "\n",
    "    with open(input_path, \"rb\") as f:\n",
    "        response = requests.put(presigned_url, data=f)\n",
    "        response.raise_for_status()\n",
    "\n",
    "    return media_url\n",
    "\n"
   ]
  },
  {
   "cell_type": "code",
   "execution_count": null,
   "metadata": {},
   "outputs": [],
   "source": [
    "# Usage\n",
    "media_url = upload_audio_to_pyannote(input_path)"
   ]
  },
  {
   "cell_type": "code",
   "execution_count": null,
   "metadata": {},
   "outputs": [],
   "source": [
    "# Replace the input value with your temporary storage location.\n",
    "body = {\n",
    "  \"url\" : \"media://default/dt-decision-making.mp3\",\n",
    "}\n",
    "\n",
    "url = \"https://api.pyannote.ai/v1/diarize\"\n",
    "headers = {\n",
    "   \"Authorization\": \"Bearer {0}\".format(api_token),\n",
    "   \"Content-Type\": \"application/json\"\n",
    "}\n",
    "\n",
    "response = requests.post(url, json=body, headers=headers)\n",
    "response.raise_for_status()\n",
    "print(response.json())\n"
   ]
  },
  {
   "cell_type": "code",
   "execution_count": null,
   "metadata": {},
   "outputs": [],
   "source": [
    "\n",
    "jobId = \"3291e52c-a49f-4169-982e-679f956c3c6f\"\n",
    "\n",
    "url = f\"https://api.pyannote.ai/v1/jobs/{jobId}\"\n",
    "\n",
    "headers = {\"Authorization\": \"Bearer {0}\".format(api_token)}\n",
    "\n",
    "response = requests.request(\"GET\", url, headers=headers)\n",
    "\n",
    "print(response.text)"
   ]
  },
  {
   "cell_type": "code",
   "execution_count": null,
   "metadata": {},
   "outputs": [],
   "source": [
    "response.text"
   ]
  },
  {
   "cell_type": "code",
   "execution_count": null,
   "metadata": {},
   "outputs": [],
   "source": [
    "def get_diarization_result(job_id: str, api_token: str) -> Dict[str, Any]:\n",
    "    \"\"\"\n",
    "    Fetch and parse diarization results from PyAnnotate API.\n",
    "    \n",
    "    Args:\n",
    "        job_id: The job identifier from PyAnnotate\n",
    "        api_token: Authentication token for the API\n",
    "        \n",
    "    Returns:\n",
    "        Dict containing the parsed response data\n",
    "        \n",
    "    Raises:\n",
    "        requests.RequestException: If the API request fails\n",
    "        json.JSONDecodeError: If the response cannot be parsed as JSON\n",
    "        KeyError: If expected data is missing from response\n",
    "    \"\"\"\n",
    "    url = f\"https://api.pyannote.ai/v1/jobs/{job_id}\"\n",
    "    headers = {\"Authorization\": f\"Bearer {api_token}\"}\n",
    "    \n",
    "    try:\n",
    "        response = requests.get(url, headers=headers)\n",
    "        response.raise_for_status()  # Raises an exception for 4XX/5XX status codes\n",
    "        \n",
    "        # Parse JSON response into dictionary\n",
    "        result = response.json()  # This is equivalent to json.loads(response.text)\n",
    "        \n",
    "        logger.debug(f\"Successfully retrieved diarization result for job {job_id}\")\n",
    "        return result\n",
    "        \n",
    "    except requests.RequestException as e:\n",
    "        logger.error(f\"API request failed: {e}\")\n",
    "        raise\n",
    "        \n",
    "    except json.JSONDecodeError as e:\n",
    "        logger.error(f\"Failed to parse API response as JSON: {e}\")\n",
    "        raise"
   ]
  },
  {
   "cell_type": "code",
   "execution_count": null,
   "metadata": {},
   "outputs": [],
   "source": [
    "get_diarization_result(jobId, api_token)"
   ]
  },
  {
   "cell_type": "code",
   "execution_count": null,
   "metadata": {},
   "outputs": [],
   "source": []
  }
 ],
 "metadata": {
  "kernelspec": {
   "display_name": "tnh-scholar-test",
   "language": "python",
   "name": "python3"
  },
  "language_info": {
   "codemirror_mode": {
    "name": "ipython",
    "version": 3
   },
   "file_extension": ".py",
   "mimetype": "text/x-python",
   "name": "python",
   "nbconvert_exporter": "python",
   "pygments_lexer": "ipython3",
   "version": "3.12.4"
  }
 },
 "nbformat": 4,
 "nbformat_minor": 2
}
