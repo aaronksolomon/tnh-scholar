{
 "cells": [
  {
   "cell_type": "markdown",
   "metadata": {},
   "source": [
    "# System Messages Examples\n",
    "\n",
    "This notebook demonstrates the usage of the SystemMessage and SystemMessageManager classes for managing processing instructions."
   ]
  },
  {
   "cell_type": "code",
   "execution_count": 1,
   "metadata": {},
   "outputs": [],
   "source": [
    "%load_ext autoreload\n",
    "%autoreload 2"
   ]
  },
  {
   "cell_type": "code",
   "execution_count": 2,
   "metadata": {},
   "outputs": [],
   "source": [
    "from datetime import datetime\n",
    "from pathlib import Path\n",
    "from tnh_scholar.openai_text_processing import SystemMessage, SystemMessageManager, TaskType, ContentType\n",
    "\n",
    "# Set your system messages directory here\n",
    "system_messages_dir = Path(\"./system_messages\")\n",
    "manager = SystemMessageManager(system_messages_dir)"
   ]
  },
  {
   "cell_type": "markdown",
   "metadata": {},
   "source": [
    "## 1. Creating Basic Messages\n",
    "\n",
    "Let's create some system messages for different tasks."
   ]
  },
  {
   "cell_type": "code",
   "execution_count": 3,
   "metadata": {},
   "outputs": [
    {
     "name": "stdout",
     "output_type": "stream",
     "text": [
      "Message ID: format_dharma_talk_en_default_2024-12-26T22:38:39.792279\n"
     ]
    }
   ],
   "source": [
    "# Create a formatting message for Dharma talks\n",
    "format_msg = SystemMessage(\n",
    "    task_type=TaskType.FORMAT,\n",
    "    content_type=ContentType.DHARMA_TALK,\n",
    "    input_language=\"en\",\n",
    "    instructions=\"\"\"You are formatting a section entitled '{section_title}' from a Dharma Talk \n",
    "    offered by {speaker_name}. Format the text into meaningful paragraphs while \n",
    "    correcting any transcription or grammatical errors.\"\"\",\n",
    "    template_fields={\"section_title\": \"\", \"speaker_name\": \"Unknown Speaker\"},\n",
    "    description=\"Format Dharma talk sections with corrections\",\n",
    "    tags=[\"plum_village\", \"transcription\", \"formatting\"]\n",
    ")\n",
    "\n",
    "# Save the message\n",
    "manager.save_message(format_msg)\n",
    "\n",
    "print(f\"Message ID: {format_msg.msg_id}\")"
   ]
  },
  {
   "cell_type": "code",
   "execution_count": 5,
   "metadata": {},
   "outputs": [],
   "source": [
    "# Create a translation message\n",
    "translate_msg = SystemMessage(\n",
    "    task_type=TaskType.TRANSLATE,\n",
    "    content_type=ContentType.ARTICLE,\n",
    "    input_language=\"vi\",  # Vietnamese\n",
    "    created_at=datetime.now(),\n",
    "    updated_at=datetime.now(),\n",
    "    instructions=\"\"\"Translate the following {content_type} from Vietnamese to English. \n",
    "    Maintain the original meaning and style while ensuring natural English flow. \n",
    "    Context: {context}\"\"\",\n",
    "    template_fields={\"content_type\": \"article\", \"context\": \"\"},\n",
    "    description=\"Vietnamese to English translation for articles\",\n",
    "    tags=[\"translation\", \"vietnamese\"]\n",
    ")\n",
    "\n",
    "manager.save_message(translate_msg)"
   ]
  },
  {
   "cell_type": "markdown",
   "metadata": {},
   "source": [
    "## 2. Applying Templates\n",
    "\n",
    "Let's see how to use the template system with different values."
   ]
  },
  {
   "cell_type": "code",
   "execution_count": 6,
   "metadata": {},
   "outputs": [
    {
     "name": "stdout",
     "output_type": "stream",
     "text": [
      "Formatted instructions:\n",
      "You are formatting a section entitled 'Mindfulness in Daily Life' from a Dharma Talk \n",
      "    offered by Sister Chan Khong. Format the text into meaningful paragraphs while \n",
      "    correcting any transcription or grammatical errors.\n"
     ]
    }
   ],
   "source": [
    "# Apply template with specific values\n",
    "formatted_instructions = manager.apply_template(\n",
    "    format_msg,\n",
    "    {\n",
    "        \"section_title\": \"Mindfulness in Daily Life\",\n",
    "        \"speaker_name\": \"Sister Chan Khong\"\n",
    "    }\n",
    ")\n",
    "\n",
    "print(\"Formatted instructions:\")\n",
    "print(formatted_instructions)"
   ]
  },
  {
   "cell_type": "markdown",
   "metadata": {},
   "source": [
    "## 3. Updating Messages\n",
    "\n",
    "Let's create some updates and see the version history."
   ]
  },
  {
   "cell_type": "code",
   "execution_count": 7,
   "metadata": {},
   "outputs": [
    {
     "name": "stdout",
     "output_type": "stream",
     "text": [
      "Number of versions: 2\n",
      "\n",
      "Version from 2024-12-26 16:28:25.776406:\n",
      "Instructions: You are formatting a section entitled '{section_title}' from a Dharma Talk \n",
      "    offered by {speaker_...\n",
      "Tags: ['plum_village', 'transcription', 'formatting']\n",
      "\n",
      "Version from 2024-12-26 16:29:42.367006:\n",
      "Instructions: You are formatting a section entitled '{section_title}' from a Dharma Talk \n",
      "    offered by {speaker_...\n",
      "Tags: ['plum_village', 'transcription', 'formatting', 'html']\n"
     ]
    }
   ],
   "source": [
    "# Update the formatting message with new instructions\n",
    "updated_msg = manager.update_message(\n",
    "    task_type=TaskType.FORMAT,\n",
    "    content_type=ContentType.DHARMA_TALK,\n",
    "    input_language=\"en\",\n",
    "    instructions=\"\"\"You are formatting a section entitled '{section_title}' from a Dharma Talk \n",
    "    offered by {speaker_name}. Format the text into meaningful paragraphs while \n",
    "    correcting any transcription or grammatical errors. Use <p> tags for paragraphs.\"\"\",\n",
    "    tags=[\"plum_village\", \"transcription\", \"formatting\", \"html\"]\n",
    ")\n",
    "\n",
    "# Get the history of all versions\n",
    "history = manager.get_message_history(\n",
    "    TaskType.FORMAT,\n",
    "    ContentType.DHARMA_TALK,\n",
    "    \"en\"\n",
    ")\n",
    "\n",
    "print(f\"Number of versions: {len(history)}\")\n",
    "for msg in history:\n",
    "    print(f\"\\nVersion from {msg.updated_at}:\")\n",
    "    print(f\"Instructions: {msg.instructions[:100]}...\")\n",
    "    print(f\"Tags: {msg.tags}\")"
   ]
  },
  {
   "cell_type": "markdown",
   "metadata": {},
   "source": [
    "## 4. Complex Example: Multiple Updates and Templates\n",
    "\n",
    "Let's create a more complex workflow with multiple updates and template applications."
   ]
  },
  {
   "cell_type": "code",
   "execution_count": 7,
   "metadata": {},
   "outputs": [
    {
     "name": "stdout",
     "output_type": "stream",
     "text": [
      "Evolution of the sectioning message (4 versions):\n",
      "\n",
      "Version 1 (2024-12-26 15:26:10.274364):\n",
      "Tags: ['book', 'sectioning']\n",
      "Template fields: {'book_title': '', 'author': 'Unknown Author', 'delimiter': 'Chapter', 'chapter_prefix': 'Chapter', 'context': ''}\n",
      "Instructions preview:  Process '{book_title}' by {author}. \n",
      "    Split the text into chapters based on {delimiter}. \n",
      "    Eac ...\n",
      "\n",
      "Version 2 (2024-12-26 15:26:10.278525):\n",
      "Tags: ['book', 'sectioning']\n",
      "Template fields: {'book_title': '', 'author': 'Unknown Author', 'delimiter': 'Chapter|Part', 'chapter_prefix': 'Chapter', 'context': ''}\n",
      "Instructions preview:  Process '{book_title}' by {author}. \n",
      "    Split the text into chapters based on {delimiter}. \n",
      "    Eac ...\n",
      "\n",
      "Version 3 (2024-12-26 15:26:10.279902):\n",
      "Tags: ['book', 'sectioning']\n",
      "Template fields: {'book_title': '', 'author': 'Unknown Author', 'delimiter': 'Chapter|Part', 'chapter_prefix': 'Chapter', 'context': ''}\n",
      "Instructions preview:  Process '{book_title}' by {author}. \n",
      "    Split the text into chapters based on {delimiter}. \n",
      "    Eac ...\n",
      "\n",
      "Version 4 (2024-12-26 15:26:10.280957):\n",
      "Tags: ['book', 'sectioning', 'xml']\n",
      "Template fields: {'book_title': '', 'author': 'Unknown Author', 'delimiter': 'Chapter|Part', 'chapter_prefix': 'Chapter', 'context': ''}\n",
      "Instructions preview:  Process '{book_title}' by {author}. \n",
      "    Split the text into chapters based on {delimiter}. \n",
      "    Eac ...\n"
     ]
    }
   ],
   "source": [
    "# Create a sectioning message for a book\n",
    "section_msg = SystemMessage(\n",
    "    task_type=TaskType.SECTION,\n",
    "    content_type=ContentType.BOOK,\n",
    "    input_language=\"en\",\n",
    "    created_at=datetime.now(),\n",
    "    updated_at=datetime.now(),\n",
    "    instructions=\"\"\"Process '{book_title}' by {author}. \n",
    "    Split the text into chapters based on {delimiter}. \n",
    "    Each chapter should start with '{chapter_prefix}'.\n",
    "    Context: {context}\"\"\",\n",
    "    template_fields={\n",
    "        \"book_title\": \"\",\n",
    "        \"author\": \"Unknown Author\",\n",
    "        \"delimiter\": \"Chapter\",\n",
    "        \"chapter_prefix\": \"Chapter\",\n",
    "        \"context\": \"\"\n",
    "    },\n",
    "    description=\"Section books into chapters\",\n",
    "    tags=[\"book\", \"sectioning\"]\n",
    ")\n",
    "\n",
    "manager.save_message(section_msg)\n",
    "\n",
    "# Make several updates\n",
    "updates = [\n",
    "    {\"description\": \"Updated section format for books\", \n",
    "     \"template_fields\": {\n",
    "         \"book_title\": \"\",\n",
    "         \"author\": \"Unknown Author\",\n",
    "         \"delimiter\": \"Chapter|Part\",  # Added Part as delimiter\n",
    "         \"chapter_prefix\": \"Chapter\",\n",
    "         \"context\": \"\"\n",
    "     }},\n",
    "    {\"instructions\": \"\"\"Process '{book_title}' by {author}. \n",
    "    Split the text into chapters based on {delimiter}. \n",
    "    Each chapter should start with '{chapter_prefix}'.\n",
    "    Add <chapter> tags around each chapter.\n",
    "    Context: {context}\"\"\"},\n",
    "    {\"tags\": [\"book\", \"sectioning\", \"xml\"]}\n",
    "]\n",
    "\n",
    "for update in updates:\n",
    "    section_msg = manager.update_message(\n",
    "        TaskType.SECTION,\n",
    "        ContentType.BOOK,\n",
    "        \"en\",\n",
    "        **update\n",
    "    )\n",
    "\n",
    "# Get all versions and show their differences\n",
    "history = manager.get_message_history(TaskType.SECTION, ContentType.BOOK, \"en\")\n",
    "\n",
    "print(f\"Evolution of the sectioning message ({len(history)} versions):\")\n",
    "for i, msg in enumerate(history, 1):\n",
    "    print(f\"\\nVersion {i} ({msg.updated_at}):\")\n",
    "    print(f\"Tags: {msg.tags}\")\n",
    "    print(f\"Template fields: {msg.template_fields}\")\n",
    "    print(\"Instructions preview: \", msg.instructions[:100], \"...\")"
   ]
  },
  {
   "cell_type": "markdown",
   "metadata": {},
   "source": [
    "## 5. Querying Messages"
   ]
  },
  {
   "cell_type": "code",
   "execution_count": null,
   "metadata": {},
   "outputs": [],
   "source": [
    "# Get latest versions of all format messages\n",
    "format_messages = [\n",
    "    manager.get_latest_message(TaskType.FORMAT, content_type, \"en\")\n",
    "    for content_type in ContentType\n",
    "]\n",
    "\n",
    "print(\"Latest format messages:\")\n",
    "for msg in format_messages:\n",
    "    if msg:  # Some content types might not have format messages\n",
    "        print(f\"\\n{msg.content_type.value}:\")\n",
    "        print(f\"Last updated: {msg.updated_at}\")\n",
    "        print(f\"Template fields: {list(msg.template_fields.keys())}\")"
   ]
  },
  {
   "cell_type": "markdown",
   "metadata": {},
   "source": [
    "## 6. Error Handling Examples\n",
    "\n",
    "Let's see how the system handles various error cases."
   ]
  },
  {
   "cell_type": "code",
   "execution_count": null,
   "metadata": {},
   "outputs": [],
   "source": [
    "try:\n",
    "    # Try to create a message with mismatched template fields\n",
    "    bad_msg = SystemMessage(\n",
    "        task_type=TaskType.FORMAT,\n",
    "        content_type=ContentType.ARTICLE,\n",
    "        input_language=\"en\",\n",
    "        created_at=datetime.now(),\n",
    "        updated_at=datetime.now(),\n",
    "        instructions=\"Format the {title} with {author}\",\n",
    "        template_fields={\"wrong_field\": \"\"},  # Doesn't match instructions\n",
    "        description=\"This should fail\"\n",
    "    )\n",
    "    manager.save_message(bad_msg)\n",
    "except ValueError as e:\n",
    "    print(\"Expected error caught:\")\n",
    "    print(e)\n",
    "\n",
    "try:\n",
    "    # Try to update a non-existent message\n",
    "    result = manager.update_message(\n",
    "        TaskType.FORMAT,\n",
    "        ContentType.NEWSLETTER,\n",
    "        \"fr\",  # No French messages exist\n",
    "        instructions=\"This should fail\"\n",
    "    )\n",
    "    if result is None:\n",
    "        print(\"\\nUpdate failed as expected: No message found to update\")\n",
    "except Exception as e:\n",
    "    print(f\"\\nUnexpected error: {e}\")"
   ]
  }
 ],
 "metadata": {
  "kernelspec": {
   "display_name": "tnh-scholar-test",
   "language": "python",
   "name": "python3"
  },
  "language_info": {
   "codemirror_mode": {
    "name": "ipython",
    "version": 3
   },
   "file_extension": ".py",
   "mimetype": "text/x-python",
   "name": "python",
   "nbconvert_exporter": "python",
   "pygments_lexer": "ipython3",
   "version": "3.12.4"
  }
 },
 "nbformat": 4,
 "nbformat_minor": 4
}
