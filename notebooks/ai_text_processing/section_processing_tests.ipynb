{
 "cells": [
  {
   "cell_type": "code",
   "execution_count": 1,
   "metadata": {},
   "outputs": [],
   "source": [
    "%load_ext autoreload\n",
    "%autoreload 2"
   ]
  },
  {
   "cell_type": "code",
   "execution_count": 2,
   "metadata": {},
   "outputs": [],
   "source": [
    "from pathlib import Path\n",
    "import logging"
   ]
  },
  {
   "cell_type": "code",
   "execution_count": 2,
   "metadata": {},
   "outputs": [],
   "source": [
    "from tnh_scholar.text_processing import NumberedText"
   ]
  },
  {
   "cell_type": "code",
   "execution_count": 3,
   "metadata": {},
   "outputs": [],
   "source": [
    "\n",
    "from tnh_scholar.ai_text_processing import (\n",
    "    Pattern,\n",
    "    PatternManager,\n",
    "    OpenAIProcessor,\n",
    "    SectionProcessor, \n",
    "    SectionParser, \n",
    "    TextObject,\n",
    "    LogicalSection,\n",
    "    find_sections, \n",
    "    process_text_by_sections,\n",
    "    punctuate_text,\n",
    "    translate_text_by_lines,\n",
    "    process_text_by_paragraphs,\n",
    ")\n",
    "\n",
    "from tnh_scholar.text_processing import get_text_from_file\n"
   ]
  },
  {
   "cell_type": "code",
   "execution_count": 4,
   "metadata": {},
   "outputs": [],
   "source": [
    "from tnh_scholar.text_processing import NumberedText, get_numbered_format"
   ]
  },
  {
   "cell_type": "code",
   "execution_count": 5,
   "metadata": {},
   "outputs": [],
   "source": [
    "from tnh_scholar.openai_interface import token_count"
   ]
  },
  {
   "cell_type": "code",
   "execution_count": 6,
   "metadata": {},
   "outputs": [],
   "source": [
    "from tnh_scholar.logging_config import setup_logging, get_child_logger"
   ]
  },
  {
   "cell_type": "code",
   "execution_count": 7,
   "metadata": {},
   "outputs": [
    {
     "name": "stderr",
     "output_type": "stream",
     "text": [
      "2025-01-11 21:20:52,743 - tnh.section_processing - \u001b[1;32mDEBUG\u001b[0m - Created logger with name: tnh.section_processing\u001b[0m\n"
     ]
    }
   ],
   "source": [
    "setup_logging(log_level=logging.DEBUG)\n",
    "logger = get_child_logger(\"section_processing\")"
   ]
  },
  {
   "cell_type": "code",
   "execution_count": 8,
   "metadata": {},
   "outputs": [],
   "source": [
    "from tnh_scholar import PROJECT_ROOT_DIR"
   ]
  },
  {
   "cell_type": "code",
   "execution_count": 9,
   "metadata": {},
   "outputs": [],
   "source": [
    "pattern_repo = PROJECT_ROOT_DIR / \"pattern_repo\""
   ]
  },
  {
   "cell_type": "code",
   "execution_count": 10,
   "metadata": {},
   "outputs": [
    {
     "name": "stderr",
     "output_type": "stream",
     "text": [
      "2025-01-11 21:20:56,473 - tnh.tnh_scholar.ai_text_processing.patterns - \u001b[1;32mDEBUG\u001b[0m - Connected to existing Git repository at /Users/phapman/Desktop/tnh-scholar/pattern_repo\u001b[0m\n",
      "2025-01-11 21:20:56,476 - tnh.tnh_scholar.ai_text_processing.patterns - \u001b[36mINFO\u001b[0m - Initialized pattern management system at /Users/phapman/Desktop/tnh-scholar/pattern_repo\u001b[0m\n"
     ]
    }
   ],
   "source": [
    "manager = PatternManager(pattern_repo)"
   ]
  },
  {
   "cell_type": "code",
   "execution_count": 11,
   "metadata": {},
   "outputs": [
    {
     "name": "stderr",
     "output_type": "stream",
     "text": [
      "2025-01-11 21:20:57,234 - tnh.tnh_scholar.ai_text_processing.patterns - \u001b[1;32mDEBUG\u001b[0m - Found pattern file for ID simple_punctuate at: /Users/phapman/Desktop/tnh-scholar/pattern_repo/simple_punctuate.md\u001b[0m\n",
      "2025-01-11 21:20:57,238 - tnh.tnh_scholar.ai_text_processing.patterns - \u001b[1;32mDEBUG\u001b[0m - Acquired lock for /Users/phapman/Desktop/tnh-scholar/pattern_repo/simple_punctuate.md\u001b[0m\n",
      "2025-01-11 21:20:57,240 - tnh.tnh_scholar.ai_text_processing.patterns - \u001b[1;32mDEBUG\u001b[0m - Released lock for /Users/phapman/Desktop/tnh-scholar/pattern_repo/simple_punctuate.md\u001b[0m\n"
     ]
    }
   ],
   "source": [
    "punctuate_pattern = manager.load_pattern(\"simple_punctuate\")"
   ]
  },
  {
   "cell_type": "code",
   "execution_count": 12,
   "metadata": {},
   "outputs": [],
   "source": [
    "p_instructions = punctuate_pattern.apply_template({\"source_language\": \"English\", \"review_count\": \"5\", \"style_convention\": \"APA\"})"
   ]
  },
  {
   "cell_type": "code",
   "execution_count": 13,
   "metadata": {},
   "outputs": [],
   "source": [
    "large_file = Path(\"/Users/phapman/Desktop/tnh-scholar/sandbox/video_transcriptions/Thiền Là Gì？ [TTSĐCTTĐB 02] TS Thích Nhất Hạnh (24-11-1994, Xóm Thượng, Làng Mai)/Thiền Là Gì？ [TTSĐCTTĐB 02] TS Thích Nhất Hạnh (24-11-1994, Xóm Thượng, Làng Mai).txt\")"
   ]
  },
  {
   "cell_type": "code",
   "execution_count": 14,
   "metadata": {},
   "outputs": [
    {
     "data": {
      "text/plain": [
       "True"
      ]
     },
     "execution_count": 14,
     "metadata": {},
     "output_type": "execute_result"
    }
   ],
   "source": [
    "large_file.exists()"
   ]
  },
  {
   "cell_type": "code",
   "execution_count": 15,
   "metadata": {},
   "outputs": [],
   "source": [
    "large_text = get_text_from_file(large_file)"
   ]
  },
  {
   "cell_type": "code",
   "execution_count": 16,
   "metadata": {},
   "outputs": [],
   "source": [
    "# viet_punct = punctuate_text(large_text)"
   ]
  },
  {
   "cell_type": "code",
   "execution_count": 17,
   "metadata": {},
   "outputs": [],
   "source": [
    "# from tnh_scholar.text_processing.clean_parse_tag import write_text_to_file\n",
    "\n",
    "\n",
    "# write_text_to_file(\"punct_Thiền Là Gì？ [TTSĐCTTĐB 02] TS Thích Nhất Hạnh (24-11-1994, Xóm Thượng, Làng Mai).txt\", viet_punct)"
   ]
  },
  {
   "cell_type": "code",
   "execution_count": 25,
   "metadata": {},
   "outputs": [
    {
     "name": "stderr",
     "output_type": "stream",
     "text": [
      "2025-01-11 14:46:24,372 - tnh.tnh_scholar.ai_text_processing.patterns - \u001b[1;32mDEBUG\u001b[0m - Found pattern file for ID default_section at: /Users/phapman/Desktop/tnh-scholar/pattern_repo/default_section.md\u001b[0m\n",
      "2025-01-11 14:46:24,374 - tnh.tnh_scholar.ai_text_processing.patterns - \u001b[1;32mDEBUG\u001b[0m - Acquired lock for /Users/phapman/Desktop/tnh-scholar/pattern_repo/default_section.md\u001b[0m\n",
      "2025-01-11 14:46:24,376 - tnh.tnh_scholar.ai_text_processing.patterns - \u001b[1;32mDEBUG\u001b[0m - Released lock for /Users/phapman/Desktop/tnh-scholar/pattern_repo/default_section.md\u001b[0m\n",
      "2025-01-11 14:46:24,429 - tnh.tnh_scholar.ai_text_processing.patterns - \u001b[36mINFO\u001b[0m - Detected changes in default_section.md, updating version control.\u001b[0m\n",
      "2025-01-11 14:46:24,447 - tnh.tnh_scholar.ai_text_processing.patterns - \u001b[36mINFO\u001b[0m - Committed changes to /Users/phapman/Desktop/tnh-scholar/pattern_repo/default_section.md: 1817a265817f88539da6dff71e349b7a357f9709\u001b[0m\n",
      "2025-01-11 14:46:24,447 - tnh.tnh_scholar.ai_text_processing.ai_text_processing - \u001b[1;32mDEBUG\u001b[0m - Using default section pattern: default_section.\u001b[0m\n",
      "2025-01-11 14:46:24,463 - tnh.tnh_scholar.ai_text_processing.ai_text_processing - \u001b[1;32mDEBUG\u001b[0m - Average tokens per line: 20.849609375\u001b[0m\n",
      "2025-01-11 14:46:24,466 - tnh.tnh_scholar.ai_text_processing.ai_text_processing - \u001b[1;32mDEBUG\u001b[0m - Finding sections with pattern instructions:\n",
      " # Identity and Purpose\n",
      "You are a master editor, highly skilled and meticulous, processing a text transcript in Vietnamese into clear logical sections.\n",
      "\n",
      "# Input\n",
      "Each line of the transcript is numbered in the format: `NUM:LINE` \n",
      "\n",
      "# Task\n",
      "- Your goal is to divide the entire transcript into approximately 15-19 logical and coherent sections based on content. The logical organization of sections is more important than the number of sections.\n",
      "\n",
      "- For reference, with even splitting, a section would have approximately 31 lines. This may vary significantly depending on the content and structure of the text. \n",
      "\n",
      "- Give starting and ending line numbers of the section (inclusive).\n",
      "\n",
      "- Review your work at least 5 times to make sure you have the most accurate and logical sections and that there are no errors in your work.\n",
      "\n",
      "# Output\n",
      "Your output must match the given response format exactly.\n",
      "\n",
      "IMPORTANT: \n",
      "- Sections must be given in order.\n",
      "\n",
      "- Every line in the transcript must belong to exactly one section.\n",
      "\n",
      "- Don't leave out any lines, even if they are blank or contain only whitespace.\n",
      "\n",
      "- Don't include lines in more than one section.\u001b[0m\n",
      "2025-01-11 14:46:24,466 - tnh.tnh_scholar.ai_text_processing.ai_text_processing - \u001b[36mINFO\u001b[0m - Finding sections for Vietnamese text (target sections: 17)\u001b[0m\n",
      "2025-01-11 14:46:24,467 - tnh.openai_text_processing - \u001b[36mINFO\u001b[0m - Open AI Text Processing with model 'gpt-4o' started...\u001b[0m\n",
      "2025-01-11 14:46:24,468 - tnh.tnh_scholar.openai_interface.openai_interface - \u001b[1;32mDEBUG\u001b[0m - User message content:\n",
      " 1:Thế đại chứng hôm nay là ngày 24 tháng 11 năm 1994, chúng ta đang ở trong khóa mùa đông\n",
      "2:Như quý vị đã biết, đề tài của khóa mùa đông là truyền thống sinh động của thiền tộc trong Đà Bột\n",
      "3:Chữ meditation là tiếng Anh, đã được sử dụng để dịch chữ thiền\n",
      "4:Thiền, nói cho đủ là thiền na, tại vì người ta ưa nói tắt thì người ta bỏ cho na đi, tựa là thiền thôi, tiếng Phạn là gia na\n",
      "5:Và khi mà người Trung Hoa họ đọc chữ gia na thì họ đọc là chan na, chan, rồi họ không bỏ cho na luôn, đọc chan\n",
      "6:chan là tiếng Trung Hoa, thiền là tiếng Việt, thiền là viết như vậy, người Việt đọc là thiền, trong khi đó người Nhật Đất thì đọc là danh\n",
      "7:và trong khi đó thì người Cao Ly đọc là son\n",
      "8:Thì cái gốc của cái chữ Phạn gia na là gia, đó là gốc\n",
      "9:Gia-gia-ti có nghĩa là suy nghĩ, có nghĩa là quan chiếu, có nghĩa là chăm chú về một cái đề tài, và trong đó nó có cái ý nghĩa là suy nghĩ ở trong\n",
      "10:Vì vậy cho nên các tổ ngày xưa họ đã dịch thiền là tư duy tu, và tư duy ở đây nó có nghĩa là suy nghĩ\n",
      "11:Nhưng  ...\u001b[0m\n",
      "2025-01-11 14:46:24,469 - tnh.tnh_scholar.openai_interface.openai_interface - \u001b[1;32mDEBUG\u001b[0m - Starting chat completion with response_format=<class 'tnh_scholar.ai_text_processing.response_format.TextObject'> and max_tokens=4000...\u001b[0m\n",
      "2025-01-11 14:46:27,739 - tnh.openai_text_processing - \u001b[1;32mDEBUG\u001b[0m - Full completion:\n",
      "ParsedChatCompletion[TextObject](id='chatcmpl-AoeXIeXbdX29E3ahuo862cKf0rqiD', choices=[ParsedChoice[TextObject](finish_reason='stop', index=0, logprobs=None, message=ParsedChatCompletionMessage[TextObject](content='{\"language\":\"vi\",\"sections\":[{\"start_line\":1,\"end_line\":12},{\"start_line\":13,\"end_line\":31},{\"start_line\":32,\"end_line\":51},{\"start_line\":52,\"end_line\":79},{\"start_line\":80,\"end_line\":101},{\"start_line\":102,\"end_line\":137},{\"start_line\":138,\"end_line\":172},{\"start_line\":173,\"end_line\":193},{\"start_line\":194,\"end_line\":209},{\"start_line\":210,\"end_line\":246},{\"start_line\":247,\"end_line\":279},{\"start_line\":280,\"end_line\":305},{\"start_line\":306,\"end_line\":335},{\"start_line\":336,\"end_line\":366},{\"start_line\":367,\"end_line\":403},{\"start_line\":404,\"end_line\":445},{\"start_line\":446,\"end_line\":475},{\"start_line\":476,\"end_line\":512}]}', refusal=None, role='assistant', audio=None, function_call=None, tool_calls=[], parsed=TextObject(language='vi', sections=[LogicalSection(start_line=1, end_line=12), LogicalSection(start_line=13, end_line=31), LogicalSection(start_line=32, end_line=51), LogicalSection(start_line=52, end_line=79), LogicalSection(start_line=80, end_line=101), LogicalSection(start_line=102, end_line=137), LogicalSection(start_line=138, end_line=172), LogicalSection(start_line=173, end_line=193), LogicalSection(start_line=194, end_line=209), LogicalSection(start_line=210, end_line=246), LogicalSection(start_line=247, end_line=279), LogicalSection(start_line=280, end_line=305), LogicalSection(start_line=306, end_line=335), LogicalSection(start_line=336, end_line=366), LogicalSection(start_line=367, end_line=403), LogicalSection(start_line=404, end_line=445), LogicalSection(start_line=446, end_line=475), LogicalSection(start_line=476, end_line=512)])))], created=1736635584, model='gpt-4o-2024-08-06', object='chat.completion', service_tier='default', system_fingerprint='fp_703d4ff298', usage=CompletionUsage(completion_tokens=190, prompt_tokens=11981, total_tokens=12171, completion_tokens_details=CompletionTokensDetails(accepted_prediction_tokens=0, audio_tokens=0, reasoning_tokens=0, rejected_prediction_tokens=0), prompt_tokens_details=PromptTokensDetails(audio_tokens=0, cached_tokens=0)))\u001b[0m\n",
      "2025-01-11 14:46:27,740 - tnh.openai_text_processing - \u001b[36mINFO\u001b[0m - Processing completed.\u001b[0m\n"
     ]
    }
   ],
   "source": [
    "large_text_data2 = find_sections(large_text)"
   ]
  },
  {
   "cell_type": "code",
   "execution_count": 26,
   "metadata": {},
   "outputs": [
    {
     "data": {
      "text/plain": [
       "[LogicalSection(start_line=1, end_line=12),\n",
       " LogicalSection(start_line=13, end_line=31),\n",
       " LogicalSection(start_line=32, end_line=51),\n",
       " LogicalSection(start_line=52, end_line=79),\n",
       " LogicalSection(start_line=80, end_line=101),\n",
       " LogicalSection(start_line=102, end_line=137),\n",
       " LogicalSection(start_line=138, end_line=172),\n",
       " LogicalSection(start_line=173, end_line=193),\n",
       " LogicalSection(start_line=194, end_line=209),\n",
       " LogicalSection(start_line=210, end_line=246),\n",
       " LogicalSection(start_line=247, end_line=279),\n",
       " LogicalSection(start_line=280, end_line=305),\n",
       " LogicalSection(start_line=306, end_line=335),\n",
       " LogicalSection(start_line=336, end_line=366),\n",
       " LogicalSection(start_line=367, end_line=403),\n",
       " LogicalSection(start_line=404, end_line=445),\n",
       " LogicalSection(start_line=446, end_line=475),\n",
       " LogicalSection(start_line=476, end_line=512)]"
      ]
     },
     "execution_count": 26,
     "metadata": {},
     "output_type": "execute_result"
    }
   ],
   "source": [
    "large_text_data2.sections"
   ]
  },
  {
   "cell_type": "code",
   "execution_count": 27,
   "metadata": {},
   "outputs": [
    {
     "data": {
      "text/plain": [
       "18"
      ]
     },
     "execution_count": 27,
     "metadata": {},
     "output_type": "execute_result"
    }
   ],
   "source": [
    "len(large_text_data2.sections)"
   ]
  },
  {
   "cell_type": "code",
   "execution_count": 23,
   "metadata": {},
   "outputs": [
    {
     "data": {
      "text/plain": [
       "[LogicalSection(start_line=1, end_line=18),\n",
       " LogicalSection(start_line=19, end_line=24),\n",
       " LogicalSection(start_line=25, end_line=38),\n",
       " LogicalSection(start_line=39, end_line=46),\n",
       " LogicalSection(start_line=47, end_line=61),\n",
       " LogicalSection(start_line=62, end_line=84),\n",
       " LogicalSection(start_line=85, end_line=100),\n",
       " LogicalSection(start_line=101, end_line=144),\n",
       " LogicalSection(start_line=145, end_line=156),\n",
       " LogicalSection(start_line=157, end_line=182),\n",
       " LogicalSection(start_line=183, end_line=224),\n",
       " LogicalSection(start_line=225, end_line=252),\n",
       " LogicalSection(start_line=253, end_line=296),\n",
       " LogicalSection(start_line=297, end_line=378),\n",
       " LogicalSection(start_line=379, end_line=456),\n",
       " LogicalSection(start_line=457, end_line=494),\n",
       " LogicalSection(start_line=495, end_line=512)]"
      ]
     },
     "execution_count": 23,
     "metadata": {},
     "output_type": "execute_result"
    }
   ],
   "source": [
    "large_text_data.sections"
   ]
  },
  {
   "cell_type": "code",
   "execution_count": 24,
   "metadata": {},
   "outputs": [
    {
     "data": {
      "text/plain": [
       "17"
      ]
     },
     "execution_count": 24,
     "metadata": {},
     "output_type": "execute_result"
    }
   ],
   "source": [
    "len(large_text_data.sections)"
   ]
  },
  {
   "cell_type": "code",
   "execution_count": 31,
   "metadata": {},
   "outputs": [
    {
     "name": "stderr",
     "output_type": "stream",
     "text": [
      "2025-01-11 18:20:16,208 - tnh.tnh_scholar.openai_interface.openai_interface - \u001b[1;32mDEBUG\u001b[0m - Created logger with name: tnh.tnh_scholar.openai_interface.openai_interface\u001b[0m\n",
      "2025-01-11 18:20:16,638 - tnh.tnh_scholar.ai_text_processing.ai_text_processing - \u001b[1;32mDEBUG\u001b[0m - Created logger with name: tnh.tnh_scholar.ai_text_processing.ai_text_processing\u001b[0m\n",
      "2025-01-11 18:20:16,932 - tnh.tnh_scholar.ai_text_processing.patterns - \u001b[1;32mDEBUG\u001b[0m - Found pattern file for ID translate_section_thay_en at: /Users/phapman/Desktop/tnh-scholar/pattern_repo/translate_section_thay_en.md\u001b[0m\n",
      "2025-01-11 18:20:16,933 - tnh.tnh_scholar.ai_text_processing.patterns - \u001b[1;32mDEBUG\u001b[0m - Acquired lock for /Users/phapman/Desktop/tnh-scholar/pattern_repo/translate_section_thay_en.md\u001b[0m\n",
      "2025-01-11 18:20:16,935 - tnh.tnh_scholar.ai_text_processing.patterns - \u001b[1;32mDEBUG\u001b[0m - Released lock for /Users/phapman/Desktop/tnh-scholar/pattern_repo/translate_section_thay_en.md\u001b[0m\n"
     ]
    }
   ],
   "source": [
    "sections = process_text_by_sections(large_text, large_text_data2, template_dict={\"source_language\": \"Vietnamese\", \"review_count\": \"5\"}, pattern=manager.load_pattern(\"translate_section_thay_en\"))"
   ]
  },
  {
   "cell_type": "code",
   "execution_count": null,
   "metadata": {},
   "outputs": [],
   "source": [
    "tx_sections = []\n",
    "for tx_section in sections:\n",
    "    print(tx_section.processed_text)\n",
    "    tx_sections.append(tx_section)"
   ]
  },
  {
   "cell_type": "code",
   "execution_count": 29,
   "metadata": {},
   "outputs": [
    {
     "data": {
      "text/plain": [
       "[ProcessedSection(title='Giới thiệu về khóa mùa đông', original_text='Thế đại chứng hôm nay là ngày 24 tháng 11 năm 1994, chúng ta đang ở trong khóa mùa đông', processed_text='INTRODUCTION TO THE WINTER RETREAT\\n\\nDear respected community, today is November 24th, 1994. We are in the winter retreat.', start_line=1, end_line=2, metadata={}),\n",
       " ProcessedSection(title='Nguồn gốc và ý nghĩa của thiền', original_text='Chữ meditation là tiếng Anh, đã được sử dụng để dịch chữ thiền\\nThiền, nói cho đủ là thiền na, tại vì người ta ưa nói tắt thì người ta bỏ cho na đi, tựa là thiền thôi, tiếng Phạn là gia na\\nVà khi mà người Trung Hoa họ đọc chữ gia na thì họ đọc là chan na, chan, rồi họ không bỏ cho na luôn, đọc chan\\nchan là tiếng Trung Hoa, thiền là tiếng Việt, thiền là viết như vậy, người Việt đọc là thiền, trong khi đó người Nhật Đất thì đọc là danh\\nvà trong khi đó thì người Cao Ly đọc là son\\nThì cái gốc của cái chữ Phạn gia na là gia, đó là gốc\\nGia-gia-ti có nghĩa là suy nghĩ, có nghĩa là quan chiếu, có nghĩa là chăm chú về một cái đề tài, và trong đó nó có cái ý nghĩa là suy nghĩ ở trong\\nVì vậy cho nên các tổ ngày xưa họ đã dịch thiền là tư duy tu, và tư duy ở đây nó có nghĩa là suy nghĩ\\nNhưng thường thường chúng ta nghe nói đến thiền tức là không phải suy nghĩ, vì gốc của chữ thiền nó có nghĩa là suy nghĩ ở trong', processed_text='The Origin and Meaning of Meditation\\n\\nThe English word \"meditation\" has been used to translate the word \"thiền.\" Thiền, when spoken fully, is \"thiền na.\" People often abbreviate it by dropping \"na,\" leaving just \"thiền.\" In Sanskrit, it is \"dhyana.\"\\n\\nWhen the Chinese pronounce \"dhyana,\" they say \"chan na,\" and eventually, they drop \"na,\" making it \"chan.\" Chan is Chinese; thiền is Vietnamese. The Vietnamese write it as \"thiền\" and pronounce it as such, while the Japanese pronounce it as \"zen,\" and the Koreans say \"son.\"\\n\\nThe root of the Sanskrit word \"dhyana\" is \"dhyai,\" which originates from \"dhyayati,\" meaning to think, to contemplate, to focus on an object, and within it, there is the implication of inward thinking. Therefore, ancient masters translated thiền as \"tư duy tu,\" with \"tư duy\" here meaning to think.\\n\\nHowever, often when we hear about thiền, we think it means not thinking, even though the root of the word thiền implies internal contemplation.', start_line=3, end_line=12, metadata={}),\n",
       " ProcessedSection(title='Sự khác biệt ý nghĩa thiền giữa các tôn giáo', original_text='Trước hết chúng ta nên biết rằng cái chữ thiền gia na nó không phải là cái chữ chỉ được dùng riêng cho cái sự thiền tập trong Đạo Buộc\\nCác giáo phái khác, các truyền thống khác có trước Đạo Buộc và có mặt đồng thời với Đạo Buộc, và sau Đạo Buộc cũng dùng danh từ gia na\\nVì vậy cho nên gia na thiền không phải chỉ là một cái danh từ được dùng trong Đạo Buộc, đó là một cái danh từ tốt quá\\nCó những trong kinh điển có dùng tới, nhưng mà kinh điển Đạo Buộc dùng những cái danh từ khác nhiều hơn\\nTrong cái thời Đạo Buộc tài thế, thì những cái danh từ khác được dùng nhiều hơn là danh từ thiền\\nThế rằng trong kinh điển cũng có nhiều danh từ thiền Vì vậy, vào khoảng 100 năm sau ngày Bụt nực dịch thì Dân tử Thiền được dùng nhiều hơn, ngay trong thời đại Đạo Bụt bên Phi, điều này điều đều mình phải biết và mình đã câu hỏi tại sao.\\nVậy cuối nguyên khi mà Đạo Bụt dùng Dân tử Thiền thì Đạo Bụt cũng cho vào trong Dân tử đó những ý nghĩa của Đạo Bụt.\\nTại vì những truyền thống ngoài Đạo Bụt, có trước Đạo Bụt, họ cũng dùng những Dân tử đó, nhưng ý nghĩa họ gắn cho Dân tử đó không đồng với ý nghĩa người Phật tự gắn cho Dân tử đó.\\nNó có nghĩa là có thể có những điểm đồng, nhưng có những điểm khác, ví dụ như Dân tử Luân Hồ, Samsara.\\nỞ trong những truyền thống khác, người ta có thể hiểu cái nghĩa Luân Hồ nó khác, và trong Đạo Bụt, chúng ta có một cái ý nghiệm khác về Luân Hồ.\\nVí dụ như là ngoài Đạo Bụt, thì người ta có tin vào một cái linh hồn mất tử, và cái quan nhiệm về Luân Hồi ngoài Đạo Bụt, nó được căn cứ trên những ý nghiệm về linh hồn mất tử.\\nNhưng mà trong Đạo Bụt, chúng ta học giáo lý vô ngã, và vì vậy cho nên Luân Hồi trong Đạo Bụt phải hiểu theo cái yên với cái giáo lý vô ngã.', processed_text='DIFFERENCES IN MEDITATION MEANINGS AMONG RELIGIONS\\n\\nFirst, we should understand that the term \"dhyana\" or meditation is not solely used for the practice of meditation in Buddhism. Other sects, other traditions that existed before Buddhism, as well as those that exist concurrently with or after Buddhism, also use the term \"dhyana.\"\\n\\nThus, the term \"dhyana\" or meditation is not exclusively a Buddhist term; it is a very good term. It is used in some sutras, but more often than not, Buddhist scriptures use other terms.\\n\\nDuring the Buddhist era, other terms were more frequently used than the term \"meditation.\" Even though the term \"meditation\" does appear in the scriptures, about 100 years after the Buddha\\'s time, the term started to be used more frequently. This is something we need to be aware of, and we might wonder why this is the case.\\n\\nWhen Buddhism began to use the term \"meditation,\" it imbued that term with the meanings specific to Buddhist teachings. Traditions outside of Buddhism, those that existed before it, also used the term, but the meanings they attached to it differed from those that Buddhists attached to it.\\n\\nThere can be similarities, but there are also differences. For example, consider the term \"samsara.\" In other traditions, the understanding of \"samsara\" may differ, whereas in Buddhism, we have a distinct understanding of it.\\n\\nFor instance, outside of Buddhism, people might believe in an immortal soul, and their concept of \"reincarnation\" is based on the idea of an eternal soul. However, in Buddhism, we study the doctrine of non-self, and thus, \"reincarnation\" in Buddhism must be understood in alignment with the teaching of non-self.', start_line=13, end_line=25, metadata={}),\n",
       " ProcessedSection(title='Thiền tập thời kỳ đầu của Phật giáo', original_text='Chúng ta biết rằng trong cái thời gọi là Phận Nhân Thủy, tức là thời mà còn là Đạo Bụt cuối cùng,\\nthì các thầy đã thực tập thiền tòa, các thầy đã thực tập thiền hành, các thầy đã thực tập ăn cơ nghiêm lẳng, các thầy đã thực tập hơi thở, có chánh niệm,\\nvà tất cả những cái là thực tập đó, nó là sự thật, và cái tội giác của Bụt cũng như là của các người địa tử,\\ncái tình thương của Bụt và của các người địa tử, cái an là thành thơi của Bụt và địa tử, là nó được phát xuất từ những cái lưới thực tập như vậy.\\nThì những cái lưới thực tập như vậy, bây giờ mình có thể gọi là thiền tập, nhưng mà mình cũng có thể gọi bằng những cái dân từ khác.', processed_text='EARLY BUDDHIST MEDITATION PRACTICES\\n\\nWe know that during the time known as the Early Buddhist Period, when Buddhism was still in its initial stages, the monks practiced sitting meditation, engaged in walking meditation, practiced mindful eating in silence, and followed mindful breathing. All these practices were real, and the enlightenment of the Buddha, as well as his disciples, the love of the Buddha and his disciples, the peace and ease of the Buddha and the disciples, all arose from these kinds of practices.\\n\\nThese practices could now be referred to as meditation, but we can also refer to them by other names.', start_line=26, end_line=31, metadata={}),\n",
       " ProcessedSection(title='Ba ý nghĩa chính của thiền', original_text='Đó là nghĩa đầu tiên.\\nTức là mình lấy một cái sự vật nào đó là một cái nữ tượng, và mình quán chú nó, điều nghiệm vào nó.\\nThe contemplation of a given object.\\nVà cái nghĩa thứ hai, nó cũng gần gần như vậy.\\nTức là mình tới rất gần, mình tiếp xúc rất gần, và mình nhận xét rất gần cái đối tượng đó.\\nMà cái tướng đối tượng đó nó thuộc về một cái hiện tượng, thuộc về thế giới hiện tượng. Cái thế giới hình tượng đó mình đi sâu được vào cái thế giới bản thêm.\\nVí dụ như là một đợt sống.\\nĐể khi mình quán chiếu cái đợt sống đó một cách rất gần gũi,\\ntiếp xúc với nó rất gần gũi, thì mình khám phá ra được\\ncái bản chất của làn sống, tức lược.\\nThứ ba, cái niệm của nó là tàn bọ, loại trừ.\\nTức là trong thiền tập á, mình có chữ tên loại trừ.\\nNhững cái chất liệu, những cái yếu tố,\\nnó làm cho mình khổ đau, nó làm cho mình ngang tối,\\nnó làm cho mình ngỏ an, nó làm cho mình bất an.', processed_text='THREE MAIN MEANINGS OF MEDITATION\\n\\nThat is the first meaning. It means taking a particular object as a theme and focusing on it, contemplating it closely. This is the contemplation of a given object.\\n\\nThe second meaning is similar. It involves getting very close, coming into intimate contact, and closely observing the object. The essence of this object belongs to a phenomenon, part of the world of appearances. By deeply entering this world of appearances, we can touch the deeper underlying reality.\\n\\nFor example, a wave. When we contemplate a wave very closely and intimately, we discover its true nature, which is water.\\n\\nThe third meaning involves removal, elimination. In meditation practice, we have the term elimination. It means removing those elements and factors that cause suffering, that bring darkness, that perturb us, and make us feel uneasy.', start_line=32, end_line=47, metadata={}),\n",
       " ProcessedSection(title='Định nghĩa thiền của thiền sư Tân Hồi', original_text='Thiền sư Tân Hồi được coi như là tổ sư của Thiền Việt Nam.\\nÂm đại từ kinh An Bang Thủ Y,\\nthì Thầy cũng định nghĩa Thiền là sự loại trừ.\\nChữ hán là khí.\\nKhí tức là loại trừ, tức eliminate.\\nCó cái động tự tiếng Phạn là giai gia ti.\\nTiếng Phạn là giáp, giáp ti.\\nNó có nghĩa là đốt cháy, đơn.\\nVà đó cũng là một cái lối các nghĩa về Thiền của các người tổ sư.\\nTrong thiền tạc đó, thì tâm ý chúng ta,\\nnó đột định lại cho một đối tượng.\\nVà nhờ cái lĩnh lực đó là chúng ta có sức mạnh.\\nVới cái sức mạnh đó, chúng ta có thể đốt cháy được những phim nào.\\nCái này cũng có nghĩa tương tự như là khí hay loại trừ.\\nThì hình ảnh đẹp nhất mà chúng ta có thể dùng là hình ảnh của một cái lanh kính,\\nmột cái tâm kính.\\nNó tiếp nhận ánh sáng mặt trời.\\nRồi thì tất cả những tia sáng đó dồn vào một điểm.\\nVà nếu chúng ta đem cái buồn người ứng vào cái chỗ này,\\nthì cái sức nắng hội tụ của ánh sáng đó sẽ tạo ra một cái tâm tư. Các anh sao mặt trời nó có thể nốt cháy được cái bông cỏ đó\\nTrong thiền tập, nếu chúng ta có định mạnh, những định đó chíu vào những trạng thái hôn nghe, chíu vào những trạng thái phiền não, thì những hôn nghe phiền não đó có thể bị nốt cháy', processed_text='MEDITATION DEFINITION BY ZEN MASTER TÂN HỒI\\n\\nZen Master Tân Hồi is considered the patriarch of Vietnamese Zen. According to the Anapanasati Sutra, the teacher also defines meditation as elimination. The Chinese character 氣 (qì) signifies elimination, that is, to eliminate. There is a Sanskrit verb, \"jyā\", which implies burning, simplification. This is one way the patriarchs have defined meditation.\\n\\nIn that meditation practice, our mind fixates on a particular object. Thanks to the power of concentration, we gain strength. With that strength, we can burn away mental images. This corresponds to the meaning of elimination.\\n\\nThe most beautiful image we can use is that of a lens, a focusing lens. It receives sunlight, and all these rays of light converge at one point. If we apply human concentration here, the focused strength of that light creates a focused mind. The rays of sunlight can burn that blade of grass.\\n\\nIn meditation practice, if we have powerful concentration, such concentration can shine on states of confusion and affliction, and these states can be burned away.', start_line=48, end_line=69, metadata={}),\n",
       " ProcessedSection(title='Trái tim của thiền tập là chánh niệm', original_text='Sẽ nhắc lại ý niệm đầu tức là quan chíu, ý niệm thứ hai là quan sát một cách rất gần gũi thế giới hình tượng\\nThứ ba là loại trực, những yếu tố tiêu cực, và thứ tư là nốt cháy\\nTâm trí rất rẻ của thiền tập, nó có ý niệm về tu vi\\nThầy Nghĩa Nāpunika, Nghĩa Nāpunika bác giả cũng là heart of Buddhist meditation\\nThầy Nghĩa Nāpunika là một người Đức, đã tu học tại Thích Lan, đã cư trú mấy chục năm tại Forest Hermitage ở Thích Lan\\nThầy Nghĩa Nāpunika cách đây được chừng một tháng mấy, Thầy đã gọi tránh niệm là cái tim của thiền tập Phật giáo\\nThầy Nghĩa Nāpunika là một nhà hội giả, lúc Thầy đang lớn tuổi, 80 mấy tuổi, Thầy có tới thăm, ngày xưa khi mà tôi còn làm việc ở tại Paris thì Thầy có tới thăm trụ sở của Pháp Đoàn Phật giáo\\nVà Thầy đã đem cuốn Pháp là một sự tính thức về Thích Lan, và Thầy cho xuất bản sau khi đã đi tửa\\nTại vì độc giả của nhà xuất bản ở Thích Lan hầu hết là những người theo Đạo Mục 5 Tâm, cho nên khi mà xuất bản cuốn Pháp là một sự tính thức bằng tiếng Anh ở Thích Lan\\nThì Thầy có xin phép lấy ra khỏi tác phẩm những tư tưởng về Đại Thừa, thì hồi đó tôi gạch đầu đồng ý, tại hồi đó tôi cũng lớn rồi, tôi nói rằng là dòng sông ai muốn tới lấy bao nhiêu nước thì lấy\\nNói rằng là muốn lấy về để tắm cũng được, muốn lấy về để uống trà cũng được, muốn lấy về để rửa chân cũng được, muốn lấy ít cũng được, muốn lấy nhiều cũng được, không sao cả, thành ra tôi rất hoàn hiển\\nSau đó thì cuốn Pháp là một sự tính thức được yên bằng tiếng Đức, được dịch được yên bằng tiếng Đức, rồi sau đó mới yên bằng tiếng Anh, rồi tiếp theo là tiếng Thái Lan\\nThì Thầy Nguyễn Áp Onika đã ở với chúng tôi tại Paris mấy ngày, tôi có nhớ một hôm đưa Thầy đi vào trong công viên Park The Soul, rồi hai người ngồi trên băng ghế đá để mà đàm đào, bây giờ Thầy đã tịch', processed_text=\"Mindfulness as the Heart of Meditation\\n\\nWe will revisit the first concept, which is contemplation. The second concept is to observe closely the world of forms. The third is to eliminate negative elements, and the fourth is to use transformation.\\n\\nThe mind is very flexible in meditation; it has the essence of practice. Master Nyanaponika, who is a translator, also described mindfulness as the heart of Buddhist meditation.\\n\\nMaster Nyanaponika was a German who studied in Sri Lanka and resided for decades at the Forest Hermitage in Sri Lanka. About a month and a half ago, Master Nyanaponika called mindfulness the heart of Buddhist meditation.\\n\\nMaster Nyanaponika was a scholar, and in his later years, well into his eighties, he visited the headquarters of the Buddhist Association in Paris when I was working there.\\n\\nHe brought the manuscript 'The Heart of Buddhist Meditation' from Sri Lanka and sought permission for its publication after removing certain Mahayana concepts, given the readership of the publisher in Sri Lanka was mostly Theravāda Buddhists. I consented, expressing that the river is open to anyone who wishes to draw as much water as they need—be it for bathing, making tea, washing feet, taking a little, or taking a lot—it is all welcomed.\\n\\nLater, 'The Heart of Buddhist Meditation' was printed in German, then translated and published in English, and later in Thai.\\n\\nMaster Nyanaponika stayed with us in Paris for several days. I recall one day taking him to Parc des Sceaux, where we sat on a park bench and conversed. Now, Master has passed away.\", start_line=70, end_line=83, metadata={}),\n",
       " ProcessedSection(title='Chánh niệm trong giáo lý của Phật giáo', original_text='Tên em là Sati, là Svarti, Sati là tiếng Pali Smriti là tiếng Phạn\\nChánh niệm là danh từ dân dùng nhiều nhất trong văn học Phật giáo. Nhiều, gấp mấy trăm lần danh từ thiệt.\\nVì vậy cho nên chúng ta rất thoải mái khi mà chúng ta nghe nói tới chánh niệm như là trái tim của thiền tộc Phật giáo, chứ không phải là những cái khác.\\nTại vì trong số những cái giáo lý, những cái ý niệm về thiền, nó có tứ thiền, tứ vô sắc định, nó có bác, bố, xã, cửu thứ địa định, vân vân, rất nhiều.\\nNhưng mà trái tim của thiền tộc Phật giáo vẫn là chánh niệm như thường.\\nGiờ này mình phải biết tình ấm cho vườn.\\nKhi được dạy bài Pháp Thoại đầu tiên cho 5 thầy ở vườn này, thì ngày trường này giáo lý muốn sự thật tới vụ đấy.\\nVà trong cái bài giảng đầu tiên đó, thì ngày cũng có nói về bác chánh đạo, tức là đạo đế.\\nVà trong đạo đế thì chúng ta thấy có chánh niệm.\\nRồi tiếp theo chánh niệm là tuệ, hay là định là chánh định.', processed_text='Mindfulness in Buddhist Teachings\\n\\nMy name is Sati, or Svarti. Sati is Pali and Smriti is Sanskrit. Mindfulness is the term most commonly used in Buddhist literature, far exceeding many other terms. Therefore, we feel comfortable when we hear that mindfulness is the heart of Buddhist meditation, rather than something else.\\n\\nAmong the teachings and concepts related to meditation, we have the four jhanas, the four formless concentrations, detachment, boundlessness, the nine successive attainments, and so on. Yet the heart of Buddhist meditation remains mindfulness as always.\\n\\nAt this moment, we must understand the warmth for the garden. When the first Dharma talk was given to the five monks in this garden, it was intended to bring forth the truth of that matter. In this first sermon, the Buddha also spoke about the Noble Eightfold Path, which is the path to cessation of suffering, and within this path, we find mindfulness.\\n\\nFollowing mindfulness comes insight, or concentration, which is Right Concentration.', start_line=84, end_line=94, metadata={}),\n",
       " ProcessedSection(title='Giới và chánh niệm trong thực hành', original_text='Và trong cái giáo lý gọi là TÀM HỌC, the three learnings, hay là the three trainings, là chúng ta nói với định và tuệ.\\nCái năm là một 80 tuổi, nó sắp nhập vẹt, thì trong những bài Pháp Thoại nhắn, ngày thường nói về sự huấn luyện thanh tâm bằng TÀM HỌC, tức là giới, định và tuệ.\\nNhưng mà trong cái tu học á, thì Thầy khám phá ra rằng giới mà nói ở đây nó tôn đương với niệm.\\nGiới đây nó chỉ là niệm thôi, niệm tức là chánh niệm.\\nCái điều này chúng ta phải nói đi nói lại hoài, là tại vì ở những chỗ khác á, thì chúng ta cứ nghe niệm, định, huệ, niệm, định, huệ, niệm, định, huệ rất nhiều.\\nMình nói về huấn luyện TÀM HỌC thì chúng ta không thấy niệm, nhưng mà chúng ta thấy giới, định, tuệ.\\nVà nếu chúng ta quan sát cho nó kỳ lưỡng, thì chúng ta khám phá ra rằng giới tức là niệm. Và nếu mình hiểu giới, thực tập giới là thực tập tránh niệm thì giới trở nên rất là sâu sắc.\\nKhi mà chúng ta đọc 5 giới, hay là 10 giới, hay là 14 giới, hay là 250 giới,\\nthì chúng ta có thể có cái quan niệm cạn cờ là những giới đó là những sự ngăn cấm.\\nNhững giới đó là sự ngăn cấm do các bậc thầy đưa ra, để cho đệ tử khỏi xa vào cái hầm hố của tội lỗi.\\nCái quan niệm đó nó không có sai, nhưng không phải là quan niệm sâu sắc nhất về giới.\\nGiới là cái sự biểu hiện của sự thực tập tránh niệm.\\nHiểu như vầy thì chúng ta mới thấy được cái chiều sâu của giới.\\nCho nên trong cái bảng văn năm mới mà chúng ta đang thực tập,', processed_text=\"Precepts and Mindfulness in Practice\\n\\nIn the teaching called TÀM HỌC, or the three learnings, the three trainings, we speak of morality, concentration, and wisdom. As we age, nearing 80, approaching the twilight of life, in the Dharma Talks, we frequently mention training the mind with TÀM HỌC, which consists of precepts, concentration, and wisdom.\\n\\nHowever, in practice, I have discovered that the precepts discussed here are synonymous with mindfulness. These precepts are simply mindfulness, mindfulness meaning right mindfulness. We must repeat this often because elsewhere, we frequently hear mindfulness, concentration, wisdom—mindfulness, concentration, wisdom—again and again. When discussing the training of TÀM HỌC, we don't see mindfulness in words, but we see morality, concentration, wisdom. And if we observe carefully, we discover that precepts are mindfulness. If we understand the precepts, practice precepts as the practice of right mindfulness, then precepts become very profound.\\n\\nWhen we read the Five Precepts, the Ten Precepts, the Fourteen Precepts, or the 250 Precepts, we may hold the shallow view that these precepts are prohibitions. These precepts are restrictions set forth by teachers to prevent disciples from falling into the pits of wrongdoing. This view is not incorrect, but it is not the deepest understanding of the precepts. Precepts are the manifestation of the practice of right mindfulness. Only with this understanding can we see the depth of the precepts. That's why, in the new year's text that we are practicing,\", start_line=95, end_line=109, metadata={}),\n",
       " ProcessedSection(title='Cách thực tập giới và chánh niệm', original_text='Ví dụ như giới thứ nhất thì nói là ý thức được rằng,\\nvì ý thức được những cái đau khổ đã gây ra do sự sát hại.\\nÝ thức được những khổ đau do sự sát hại gây ra,\\ncông dân học theo hành đại đi để bảo vệ sự sống của loài người và mọi loài.\\nCâu đầu là như vầy.\\nThì ý thức được những khổ đau do sự sát hại gây ra là kết quả của tránh niệm.\\nMình có tránh niệm thì mình thấy cái sự sát hại nó gây ra rất nhiều đau khổ.\\nSát hại con người, sát hại các loài động vật, sát hại các loài thực vật,\\nvà sát hại luôn cả những loài khoản vật nữa.\\nVà khi mình thấy được những cái khổ đau đó gây ra do sự sát hại,\\nthì mình phát ra cái tâm đại đi, tức là cái tình thương lớn.\\nVà chính do cái tình thương lớn đó, mình cương quyết hành trí giới.\\nChẳng phải là tại vì Thầy đã bắt tôi phải giữ giới,\\nhay là Bụng bắt tôi phải giữ giới,\\nhay là Tăng đoạn bắt tôi phải giữ giới.\\nNói như vầy thì mình chưa có đạt tới cái chiều sâu nhất của cái trí giới.\\nVì vậy cho nên chúng ta có thể nói giới tức là hoa trái của tránh niệm,\\nvà sự thực tập tránh niệm.\\nVà thực tập giới chẳng qua chỉ là sự thực tập tránh niệm nó thôi.\\nGiới, thực tập giới là thực tập tránh niệm một cách rất là cụ thể.\\nNếu anh không giữ giới,\\nthì anh đâu có thể nói là đang thực tập tránh niệm.', processed_text='PRACTICING PRECEPTS AND MINDFULNESS\\n\\nFor example, the first precept states that being aware of the suffering caused by the destruction of life, we should cultivate compassion and protect the lives of people, animals, plants, and also minerals. The awareness of the suffering caused by the destruction of life is a result of mindfulness. When we have mindfulness, we see the immense suffering caused by killing. Killing humans, killing animals, killing plants, and even destroying mineral life.\\n\\nWhen we recognize the suffering caused by killing, we give rise to the great heart of compassion, and it is through this great compassion that we are determined to practice the precepts. It is not because a teacher tells us to keep the precepts, or the Buddha compels us, or the Sangha forces us to do so. Speaking in such a manner indicates that we have not yet reached the deepest level of practicing the precepts.\\n\\nTherefore, we can say that the precepts are the fruit of mindfulness and the practice of mindfulness. Practicing the precepts is essentially practicing mindfulness. Practicing the precepts is practicing mindfulness in a very concrete way. If you do not observe the precepts, you cannot claim to be practicing mindfulness.', start_line=110, end_line=132, metadata={}),\n",
       " ProcessedSection(title='Chiều sâu của giới và tự do qua giới', original_text='ý thức được những khổ đau do lường gạt, rộng cướp và bất công xã hội gây ra.\\nĐó là về giới thứ hai.\\nCon sân học theo hành đại từ để đem niềm vui sống và an lạc cho mọi người và mọi loài.\\nThì cái tránh niệm nó cho mình thấy được những cái đau khổ do lường gạt, rộng cướp và bất công gây ra.\\nVà khi mà thấy được những đau khổ đó thì mình phát cái lòng đại từ.\\nVà từ cái lòng đại từ đó mà mình cung quyết giữ giới.\\nGiữ giới thứ hai, tức là giới không rộng cướp, không lường gạt và không gây bất công xã hội.\\nBởi vậy cho nên mình phải thấy ở đây là đoạn chất của giới là tránh niệm.\\nVà khi mình biết rằng do cái sự tưu tập tránh niệm mà mình thấy được những cái đau khổ và sự cần thiết của hành trì\\nthì chính mình phát nguyện hành trì giới.\\nChứ không phải là mình hành trì giới là do cái sự phán quyết của một người khác.\\nVà người đó là buộc hay là tâm đoàn.\\nVà khi mà chúng ta hành trì giới như là một cái sự tư nguyện\\nthì giới không còn là những cái bó buộc.', processed_text=\"DEPTH OF PRECEPTS AND FREEDOM THROUGH PRECEPTS\\n\\nWe are aware of the suffering caused by deception, theft, and social injustice. This relates to the second precept.\\n\\nWe practice through great compassion, bringing joy and peace to all people and all beings. Mindfulness allows us to see the suffering caused by deception, theft, and injustice. When we see this suffering, we give rise to great compassion. It is from this compassion that we are determined to uphold the precepts.\\n\\nTo uphold the second precept means not to steal, not to deceive, and not to cause social injustice. Therefore, we must realize that the essence of the precepts is mindfulness. When we understand that it is through the practice of mindfulness that we see suffering and the necessity of practice, we ourselves vow to uphold the precepts.\\n\\nWe do not practice precepts because of someone else's judgment, whether it be a teacher or a community. When we uphold the precepts as an act of volition, the precepts no longer become constraints.\", start_line=133, end_line=147, metadata={}),\n",
       " ProcessedSection(title='Chánh niệm trong cuộc sống hằng ngày', original_text='Mà trái lại giới nó đều thành những cái phương tiện để bảo vệ cái tự do của mình.\\nĐược không? tạo hạnh phúc cho mình và cho người\\nVà điều này là điều Thầy đã tìm ra trong quá trình thực tập\\nNhớ trải qua là niệm\\nChúng tôi phải phát đàn khá nhiều về cái điểm này\\nChúng tôi biết rằng cái bài thiếu pháp đầu tiên của Bụt nói cho năm Thầy\\nNó có niệm định tuệ\\nỞ trong Tứ Dược Đế, trong Bác Chánh Đạo\\nLà cái bài thiếu pháp ngắn mà Bụt nói cho người xuất gia cuối cùng trước khi Bụt nhập diễn\\nNgài cũng nói về Bác Chánh Đạo\\nNó có niệm định và tuệ\\nNó cũng là cái sương sống, cái tên ba của sự thực tập Đạo Bụt\\nĐiều về cái phong niệm 27 Pháp Trời Đạo\\nChúng tôi thấy rằng giáo lý ngũ căn cũng có là tiến tấn niệm định tuệ\\nVà đến ngũ lực thì chúng ta cũng tiến tấn niệm định tuệ\\nThắc Bồ Đề Phẩn, the 7th Factor of Enlightenment\\nThắc Bồ Đề Phẩn cũng có niệm định tuệ\\nTại vì tuệ trong Thắc Bồ Đề Phẩn nó là trạch pháp\\nNó được gọi là trạch pháp\\nTrạch pháp Nắc Chi\\nTứ Nghẹn Sớ\\nNó cũng là nghẹn định tuệ\\nTứ Nghẹn Sớ là thuần túy dạy về tránh niệm\\nRồi tới Bắc Chánh Đạo là cũng có tránh niệm\\nVậy thì chúng ta thấy rất rõ là trong cái toàn bộ của giáo lý Đạo Bược\\nTránh niệm đóng đóng vai trò tính hương, đóng đóng vai trò trái tim\\nVậy là cho nên chúng ta có thể kết nối với Thầy Nyanaponika\\nRằng tránh niệm là trái tim của Thiền Tập Phật Giáo', processed_text=\"MINDFULNESS IN DAILY LIFE\\n\\nOn the contrary, precepts are means to protect our freedom, to create happiness for ourselves and for others. This is something I discovered during my practice.\\n\\nRemember that mindfulness must be present. We need to make this point very clear. We know that the first discourse of the Buddha, given to the five disciples, contains mindfulness, concentration, and insight, elements found in the Four Noble Truths and the Noble Eightfold Path.\\n\\nThis is the short teaching the Buddha gave to monastics before he entered Nirvana, where he also spoke about the Noble Eightfold Path. Mindfulness, concentration, and insight are the backbone, the three pillars of the practice of the Buddha's path.\\n\\nIn the teaching of the 27 factors of enlightenment, we see that the five faculties include diligence, mindfulness, concentration, and insight. When it comes to the five powers, we also have diligence, mindfulness, concentration, and insight.\\n\\nIn the Seven Factors of Enlightenment, known as Thất Bồ Đề Phần, there is mindfulness, concentration, and insight. In the Seven Factors of Enlightenment, insight is known as selection of the Dharma, or Dhamma-vicaya.\\n\\nThe Four Right Efforts also consist of mindfulness, concentration, and insight. The Four Right Efforts are purely about cultivating mindfulness. Moving on to the Noble Eightfold Path, it also includes right mindfulness.\\n\\nThus, we can clearly see that throughout the entire teaching of Buddhism, mindfulness plays a vital role. Mindfulness is like the heart. Hence, we can connect with Master Nyanaponika, who said that mindfulness is the heart of Buddhist meditation practice.\", start_line=148, end_line=176, metadata={}),\n",
       " ProcessedSection(title='Các tâm hành và chánh niệm', original_text='Tránh niệm nó có hạt giống ngay trong cái tâm thức của chúng ta\\nChúng ta biết rằng trong số 51 cái tâm hành mà chúng ta đã học trong khoảng một năm năm ngoái\\nThì có 5 cái tâm hành gọi là đặc biệt\\nLà 5 tâm sở biệt cảnh, tức là Dục, Thắng Giải, Niệm, Định, Tuệ\\nThì Niệm, Định, Tuệ là 3 cái tâm hành nó có trong cái tâm lý của chúng ta\\nKhi mà nó phát hiện thì chúng ta có Niệm, có Định và có Tuệ\\nNhưng là Niệm Định Tuệ ở trong 5 cái tâm hành đó\\nNó có tiếng cách nói chung\\nTức là Niệm có thể là Tránh Niệm, mà cũng có thể là Ta Niệm\\nĐịnh nó có thể là Tránh Niệm, nhưng mà nó có thể là Ta Định\\nVà Tuệ Nó có thể là chánh tuệ, và nó cũng có thể là tạ tuệ.\\nKhi mà chúng ta có một nhận thức sai lầm, chúng ta đoán rằng chúng ta đã thấy, đã biết, đã hiểu, cái đó là tuệ, nhưng mà đó là tạ tuệ.\\nVì vậy cho nên chúng ta phải thêm vào chữ chánh để nói về kỷ niệm chân chính, chúng ta phải thêm vào chữ chánh để nói về kỷ niệm chân chính, và chúng ta phải thêm vào chữ chánh trong tuệ để nói về cái tuệ chân chính.\\nTại vì khi chúng ta bị kẹt vào một nghĩa sai lầm, chúng ta vẫn tưởng là chúng ta đã biết, chúng ta đã hiểu, mà cái đó không phải là tuệ, nó là tạ kiếm.\\nVà khi mà chúng ta, cái tâm của chúng ta luôn luôn trở về với những cái tương tượng dặn hờn, lo lắng, tài dục, thì nó cũng là một loại định, nhưng mà đó là tạ định.', processed_text='MENTAL FORMATIONS AND MINDFULNESS\\n\\nMindfulness has a seed within our consciousness. We know that among the 51 mental formations we learned about last year, there are five called special mental formations. These are the mental factors of Desire, Determination, Mindfulness, Concentration, and Wisdom.\\n\\nMindfulness, Concentration, and Wisdom are three mental formations present in our psychology. When they manifest, we have Mindfulness, Concentration, and Wisdom. However, within these five mental formations, there is a general distinction. Mindfulness can be Right Mindfulness or wrong mindfulness, Concentration can be Right Concentration, but it can also be wrong concentration, and Wisdom can be Right Wisdom, or it can be wrong wisdom.\\n\\nWhen we have a wrong perception, we might think we have seen, known, and understood, but that is wrong wisdom. Therefore, we must add the word \"right\" to refer to genuine mindfulness, and we must add \"right\" in wisdom to speak of true wisdom.\\n\\nBecause when we are caught in a wrong understanding, we might still believe we know and understand, but that is not wisdom; it is wrong view. When our mind continually returns to thoughts of anger, worry, or desire, it is also a form of concentration, but it is wrong concentration.', start_line=177, end_line=192, metadata={}),\n",
       " ProcessedSection(title='Thực tập chánh niệm và định', original_text='Và chúng ta biết rằng niệm bao giờ cũng là niệm một cái gì, chánh niệm bao giờ cũng là chánh niệm về một cái đối tượng gì.\\nNhư là khi mà chúng ta uống nước trà, mà nếu chúng ta biết rằng chúng ta đang uống trà, thì chúng ta có niệm, có chánh niệm.\\nVà cái chánh niệm đó nó có thể càng cực hay là nó có thể sâu sắc là tùy theo cái công phu thực tập của chúng ta.\\nNhưng mà tôi có chánh niệm hay không, anh có chánh niệm hay không là một câu hỏi.\\nNhưng mà chánh niệm của anh có sâu sắc hay không, chánh niệm của tôi có sâu sắc hay không, đó là một câu hỏi khác.\\nVà do theo cái công phu thực tập của mình, mà chánh niệm của mình có thể giúp cho mình thấy được sâu hơn hay là càng hơn.\\nChúng phải thấy là chánh niệm tức là đầy đủ rồi.\\nChúng ta có chánh niệm trong khi chúng ta uống nước, bột cũng có chánh niệm trong khi bột uống nước.\\nNhưng mà cái chánh niệm của bột nó soi thấu xuống dưới đáy của sự vật.\\nCòn cái chánh niệm của chúng ta nó chỉ mới soi được 1, 2, 5, 6 phần trên bề mặt của sự thật mà thôi.\\nVì vậy cho nên chúng ta phải thực tập nhiều hơn nữa.\\nVề khi mà có chánh niệm, trước hết chúng ta phải nói rằng chánh niệm nó gồm có một cái đối tượng.\\nChánh niệm luôn luôn là chánh niệm gồm cái gì?\\nVí dụ như khi mà chúng ta thực tập chánh niệm và hơi thở, thở vào biết là mình đang thở vào, thở ra biết là mình đang thở ra,\\nthì cái đối tượng của chánh niệm là hơi thở.\\nKhi mà chúng ta uống nước có chánh niệm, thì uống nước là đối tượng của chánh niệm.\\nKhi chúng ta đi mà có chánh niệm, thì nước cho người chúng ta là đối tượng của chánh niệm.\\nĐừng có tưởng là chánh niệm là một trữ thể mà không có đối tượng, cái trường đó không bao giờ có.\\nVà khi mà chúng ta có chánh niệm, thì đồng thời cái định nó phát sinh.\\nCái định nó có thể phát sinh rất mỏng ở trong chánh niệm.\\nCũng như là mặt trăng, mặt trăng non, nó là mặt trăng nhưng mà mặt trăng đang non.', processed_text='PRACTICING MINDFULNESS AND CONCENTRATION\\n\\nWe know that mindfulness always involves mindfulness of something; right mindfulness always pertains to a specific object. When we drink tea, if we are aware that we are drinking tea, then we have mindfulness, we have right mindfulness. This mindfulness can either be profound or shallow, depending on our practice. The question, \"Do I have mindfulness?\" or \"Do you have mindfulness?\" is one question, but \"Is your mindfulness deep?\" or \"Is my mindfulness deep?\" is another question.\\n\\nDepending on the diligence of our practice, our mindfulness can enable us to see more deeply or more clearly. We must understand that mindfulness, in itself, is sufficient. We have mindfulness while drinking water, just as a powder has mindfulness while drinking water. However, the powder\\'s mindfulness penetrates to the core of reality, whereas our mindfulness might only skim one, two, or six parts of the surface.\\n\\nTherefore, we must practice more diligently. We must recognize that when we have mindfulness, it includes an object. Mindfulness is always mindfulness of something specific. For example, when we practice mindfulness of breathing, breathing in and knowing we are breathing in, breathing out and knowing we are breathing out, the object of mindfulness is the breath.\\n\\nWhen we drink with mindfulness, drinking is the object of mindfulness. When we walk with mindfulness, our steps are the object of mindfulness. Do not imagine that mindfulness exists in isolation without an object — such a scenario never occurs. When we practice mindfulness, concentration naturally arises. Concentration, like the new moon, may be slight at first. It is indeed the moon, but it is a young moon.', start_line=193, end_line=214, metadata={}),\n",
       " ProcessedSection(title='Ứng dụng thực tế của chánh niệm', original_text='Lúc đang đầu chúng ta thực tập chánh niệm, trong khi đi đến nhà ngồi,\\nthì cái định nó phát sinh liền lập tức trong lòng của chánh niệm. Nhưng mà cái đỉnh đó nó có thể đang còn non\\nVà khi mà cái đỉnh nó đang còn non á\\nThì cái sức mạnh nó không có lớn\\nSức mạnh cơ nó không có lớn\\nCho nên cái thấy của mình nó không có rõ\\nVí dụ như chúng ta ăn cơm trong chánh niệm\\nThì cái đối tượng của chánh niệm nấu bữa cơm á\\nLà thức ăn và tăng thân\\nNhư là sự thực tập của chúng ta\\nThì chúng ta cũng ngồi cũng ăn im lặng như mọi người khác\\nNhưng mà nếu mà so sánh\\nCái chánh niệm của chúng ta với chánh niệm của một người sứ anh, một người sứ chị\\nThì có thể là cái chánh niệm của chúng ta nó đạt nhiều hơn\\nVà khi mà chánh niệm của chúng ta đạt nhiều hơn\\nThì cái mình trong cái chánh niệm đó nó phát sinh, nó cũng đạt nhiều hơn\\nVà cố nhấn là cái tệ phát sinh trong cái định đó nó cũng sẽ bạt nhiều hơn\\nVí dụ đây là cái niệm của chúng ta\\nMà cái niệm của chúng ta không có được mạnh\\nThành ra cái định của chúng ta nó có được từ này\\nVà nếu cái định của chúng ta có được từ này\\nThì cái tệ của chúng ta nó chỉ có được từ này\\nNó có nghĩa là trong chánh niệm nó luôn luôn có chánh định và có tệ', processed_text='PRACTICAL APPLICATION OF MINDFULNESS\\n\\nWhen we first practice mindfulness, while walking to the sitting hall, the concentration arises immediately within the heart of mindfulness. However, that concentration might still be immature. When concentration is still immature, its strength is not substantial. Its power is not great, so our perception is not clear.\\n\\nFor example, when we eat in mindfulness, the objects of mindfulness while preparing a meal are the food and the Sangha. This mirrors our practice. We sit and eat silently like everyone else. But if we compare, our mindfulness with that of a senior brother or sister, our mindfulness may be more developed.\\n\\nWhen our mindfulness is more developed, our presence within that mindfulness arises more fully, and the insight born from that concentration will also be greater. For instance, if our mindfulness is not strong, our concentration will be limited. If our concentration is limited, then our insight will also be limited. This means that within mindfulness, there is always right concentration and insight.', start_line=215, end_line=238, metadata={}),\n",
       " ProcessedSection(title='Niệm, định, tuệ trong thiền tập', original_text='Là nếu chánh niệm hồng hậu\\nThì cái định lực nó sẽ hồng hậu hơn\\nVà nếu định lực hồng hậu hơn\\nThì cái thấy của chúng ta nó rõ ràng hơn, nó sâu sắc hơn\\nVì vậy cho nên ăn cơm là phải ăn cho thật có chánh niệm\\nKhi mình đi thiền hành cũng phải đi thiền hành cho thật có chánh niệm\\nVà tùy theo cái cơn độ, cơn lực của chánh niệm\\nMà cái định chúng ta lớn hay nhỏ\\nVà do đó cái tệ của chúng ta sâu hay là cạn\\nThì chúng ta cần phải thấy ở đây là chánh niệm\\nNó mang trong lòng nó hạt giống của mình và của tệ\\nVì vậy cho nên chúng ta không có thể nói là niệm là khác, tệ là khác\\nLà tại vì như một bà mẹ đang có 3 em bé\\nTí đó là bà mẹ, nhưng em bé nó đã có sẵn cho bà mẹ rồi\\nNếu không có bà mẹ, nếu không có em bé\\nThì cái người đó không thể được gọi là bà mẹ\\nTừ khi mà nó biết thật là chánh niệm rồi\\nThì thế nào trong đó nó cũng có một ý định\\nVà cái định đó tùy theo nó lớn hay nó nhỏ\\nMà nó công hiến cho mình cái tệ nhỏ hay tệ lớn\\nBây giờ chúng ta vẽ trở lại, vẽ khác hơn\\nTại có nhiều cách vẽ\\nCái này là kinh nghiệm của chúng ta\\nVì chúng ta có niệm, cho nên chúng ta có định\\nChúng ta ngắn lạnh xuống kinh nghiệm\\nThì tự nhiên cái định nó phát sinh\\nVà khi mà chúng ta ngắn lạnh xuống cái định', processed_text='Mindfulness, Concentration, and Wisdom in Meditation\\n\\nIf mindfulness is strong, concentration will also be strong. And if concentration is strong, our insight will become clearer and deeper. Therefore, when we eat a meal, we must eat with true mindfulness. When we practice walking meditation, we must walk with true mindfulness as well.\\n\\nDepending on the strength and intensity of our mindfulness, our concentration can be either great or small. Consequently, our wisdom can be either profound or shallow. We must recognize that mindfulness contains within itself the seeds of both concentration and insight. Therefore, we cannot say that mindfulness is separate from insight.\\n\\nThis is like a mother having three children. She is a mother, yet the children are inherently part of her. Without a mother, without children, the person cannot be called a mother. Once we truly understand mindfulness, it inherently includes an element of concentration. This concentration, depending on its magnitude, contributes to either small or great wisdom.\\n\\nNow let us illustrate this differently, as there are many ways to illustrate. This is from our own experience: because we have mindfulness, we have concentration. When we bring our experience into focus, concentration naturally arises. And as we deepen our concentration...', start_line=239, end_line=266, metadata={}),\n",
       " ProcessedSection(title='Sự phát triển và ứng dụng của thiền qua các thời đại', original_text='Cái này là niệm, cái này là định, cái này là tệ\\nVà chúng ta không có thể nào tưởng tượng được\\nLà chúng ta có thể có định mà không thực thực niệm\\nĐiều đó rất rõ\\nChúng ta không có thể tưởng tượng rằng\\nChúng ta sẽ có tệ mà không có định và không có niệm\\nMà chúng ta biết rằng kinh nghiệm là cái mà chúng ta\\nChúng ta có trong tâm của chúng ta\\nNhưng mà nó có thể đó là những cái hạt giống đang còn rất là yếu ớt\\nTại vì chúng ta, kể cả những đứa bé\\nAi cũng có khả năng có thể uống nước\\nMà biết rằng mình không uống nước\\nAi cũng có khả năng biết rằng mình đang... Ngồi với bạn và mình biết rằng mình đang ngồi với bạn\\nAi cũng có khả năng biết rằng chúng ta đang ngồi trong thiền đường sống thường\\nNgồi trong thiền đường sống thường và biết rằng mình đang ngồi trong thiền đường sống thường là có trách nhiệm\\nThành ra không thể nói rằng tôi không có tu được, tôi không có khả năng tu tại vì tôi không có trách nhiệm\\nTại vì người nào cũng có hạt giống trách nhiệm trong con người của mình\\nCái vấn đề là mình có tu tập hay không? Mình có làm cho cái hạt giống trách nhiệm đó được động tới tầm mỗi ngày hay không?\\nCái khác nhau là chỗ đó\\nTới đây thì mình thấy phát hiện rằng có nhân tư\\nMột nhân tư nó rất hay mà mình thích nhìn, đó là nhân tư bà Văn Na\\nBà Văn Na thiên phản nó có nghĩa là tu tập\\nChúng ta có cái vấn đề\\nCái vấn đề là chúng ta có tu tập được không?\\nTại vì những cái nguy hiểm của sự thành công nó có\\nTu tập hay là tu được?\\nChuyện ba ba nó có nghĩa là có, có ra\\nNó có ra, làm thế nào để cho nó có mặt?\\nVí dụ như là một cái đồng hoa hướng dương nở hoa vàng rực mà mình thấy ở Làng Hồng vào tháng 7, tháng 8\\nMình biết rằng bây giờ mình không có thấy cái đồng hoa hướng dương nở hoa vàng rực đó, nhưng mình biết rằng mình có thể làm cho cái đồng hoa hướng dương đó nó có mặt\\nChuyện ba ba nó có nghĩa là do it to be, làm cho nó có mặt\\nThành ra tu tập có nghĩa là làm cho nó có mặt\\nVì vậy cho nên người ta ưu dịch nó là mental culture\\nGọi là tu tập, tu tập cái tâm của mình\\nỞ Việt Nam mình hay gọi là tu tâm\\nTu tâm có nghĩa là làm cho những cái hoa trái của giác mộ, của tự bi, nó có mặt trong cái đời sống của mình, gọi là tu tập\\nVới lại cái ví dụ của đồng hoa hướng dương, thì mình biết rằng đất nó có đó, hạt giống hướng dương nó có đó, cây nó có đó\\nNếu mình biết sử dụng hạt, hạt giống, mình biết sử dụng cây đưa ở phương bón, phân bón và ở đồng ruộng, thì mình có thể làm cho cái đồng hoa hướng dương vàng rực nó trở thành có mặt\\nSự tu tập cũng vậy\\nChúng ta có hạt giống chánh niệm\\nĐất của chúng ta là tâm của chúng ta\\nCơ hội của chúng ta là hơi thở là bước chân\\nVà vì vậy cho nên tu tập ở đây nhập diễn tả dưới hình thức của một sự cày cấy và gieo trồng tối tấm Nếu chúng ta nhớ trọng để có tự nghi và hạnh phúc gọi là mental culture, agri-culture, mental culture, nó cũng vậy thôi\\nTrong truyền thống thiền ở Đông Phương, các thầy thường hay nói, sự tu tập như là cày đừa, ruộng ruộng âm thanh phải tự cày\\nTại vì nếu mình có ruộng vườn mà mình không có cày cấy, không có dâng dống, không có tu tập thì không thể nào có hoa, có trái\\nDo đó cho nên tu tập là vấn đề vườn vườn, vấn đề cày ruộng\\nMà cái miếng đất vườn vườn của mình là chính cái tâm của mình và là có đủ hạt giống\\nChitta bhāvanā, chitta bhāvanā tất cụng là tu tâm\\nCái đồng tượng bhāvatī có nghĩa là tập tập, gieo trồng, làm cho nó có mặt, làm cho nó có mặt, tránh nghiệm, mình làm cho nó có mặt\\nVà khi tránh nghiệm có mặt thì tránh bình nó có mặt và tuệ giác nó có mặt\\nChitta bhāvanā mình dịch là tâm tu tập hoặc là tu tâm\\nChúng ta hãy xét thêm một vài đánh tượng nữa\\nĐó là đánh tượng samādhi\\nSamādhi là ngôn lạc định\\nNó là kết quả của tránh nghiệm và nguyên nhân của tuệ giác\\nSamādhi tiếng Việt mình dịch là tránh định\\nTránh định trước hết nó có nghĩa là đem về một mối, đem tất cả về một mối là putting together\\nKhi mình có định thì tức là mình tạng nát một chỗ này một chút, chỗ kia một chút, thân chỗ này, tâm chỗ kia, nó rời ra\\nMỗi thứ một ngã, còn khi có định tức là mình thâu hồi tất cả đem về một mối, cho nên tiếng Anh gọi là to put together\\nNgày xưa các tổ dịch ra nhiều nhân từ lắm\\nTâm mũi, tâm mũi cũng là samādhi\\nSamādhi tức là cái phiên âm của samādhi, có khi dịch là đẳng trì\\nChữ đẳng có nghĩa là nó mạnh nhau, trong chữ bình đẳng, nó không có bị tranh lịch, nó có thăng bằng\\nTức là nó xa lì ở hai trạng thái tự doang\\nMột là tầm, hai là phụ Phù nghĩa là nó chìm xuống trong trạng thái ngủ nặng nề, và phù nghĩa là nó nổi lên, nó có cách là lăng xăng, không có đụng\\nPhù nghĩa là hai trạng thái đó thì có định gọi là xa, cái đó gọi là đẳng\\nTrường hợp mà nó nổi lên, nó lăng xăng, ta gọi là trạo cử\\nTrường hợp nó chìm xuống, nó nặng nề, ta gọi là hôn trầm\\nĐó là hai cái cục phải đẳng, đụng, là nó có cách đẳng\\nĐẳng tức là không rơi vào hai cái trạng thái trạo cử và hôn trầm\\nVà trì tức là giữ cho được, giữ trì cho được\\nGiữ trì cái gì? Giữ trì trong cái trạng thái không tầm không phụ\\nVà giữ trì trong cái trạng thái tâm dừng ở một cảnh và chỉ một cảnh thôi, một đối tượng thôi\\nTrì tức là một cảnh, một đối tượng\\nKhi mà con khỉ nó leo trèo thì nó bắt cái cành này, rồi nó bắt cái cành kia và nó thả cành này\\nRồi nó cứ tiếp tục như vậy, thì nó không có đứng yên được\\nCái tâm mình nó cũng như là con khỉ, nó không có chương trú vào một cái đối tượng\\nVì vậy cho nên mình không có đỉnh\\nCho nên trong cái trạng thái, trong cái công phu tụ tập, mình phải biết chương trú vào một cái đối tượng\\nCái đó gọi là trì\\nVà trong cái thời gian đó, cái tâm của mình không rơi vào trạng thái hôn trầm hay là trạo cử\\nThì gọi là đẳng, đẳng trì\\nCó khi các tổ dịch là tránh tâm hành xếp\\nLà cái tâm mình nó thẳng lại và nó thực tập quan trống cái đối tượng đặc biệt kia\\nSứ ở đây nó có nghĩa là cái đối tượng quan trống\\nNhư là tử niệm sứ\\nCái đối tượng đó hoặc là cái thân của mình\\nHoặc là cái cảm thỏ của mình\\nHoặc là cái tâm hành của mình\\nHoặc là đối tượng tâm hành của mình, tức là Pháp\\nThì trong cái định đó, thì cái đối tượng có thể là thân, có thể là thỏ, có thể là tâm, có thể là Pháp\\nNhưng mà có thể là cái đối tượng thân nói rộng nó cũng lớn quá\\nVì vậy cho nên phải thâu hẹp cái đối tượng đó trong cái vòng viêu nhỏ\\nVí dụ như là chúng ta chỉ chú ý tới trái tim mà thôi\\nTrong khi đó không có chú ý tới lá gan hay là bụng phổi\\nChúng ta thâu hẹp lại cái đối tượng của cái định của chúng ta\\nVà càng thâu hẹp từ nào thì cái sức mạnh của định nó càng lớn\\nVà vì vậy cho nên định nó có nghĩa là\\nNó được dịch là tâm nhất cảnh\\nTiếng Pali\\nCái tâm của mình\\nNó mong về Một, một đối tượng, EK là một\\nVà có nhiên là chúng ta có hai cái danh từ rất là đạo, rất là đặc biệt của Đạo Buộc\\nCó danh từ đó là Chữ và Quán\\nChữ tức là Samatha\\nSamatha này nó có nghĩa là làm cho nó lắng lại, làm cho nó yên tĩnh lại, làm cho nó chấm dứt lại, nó chất nặng lại, dừng lại, yên lại\\nĐể có thể chú vào một cảnh\\nNếu như cái tâm của chúng ta đang suy nghĩ về trường nào, trường nào, đang thất niệm, đang nghĩ tới những trường không có lợi ích\\nNó làm cho chúng ta lo lắng, làm phiền, sợ hãi, nó làm cho cái tâm của chúng ta không có phối hợp với nhau\\nThì bây giờ ta thở vào, thở ra, trở về với hơi thở\\nThì chúng ta có thể chấm dứt cái sự li hoang của tư tưởng, của tâm mình, cái đó gọi là Chí\\nHay là khi mà chúng ta đang ngồn hay đang rụng, nhưng mà cái nguồn cái giọng đó đang làm cho chúng ta bất an, thì chúng ta thở vào, thở ra, và làm cho cái nguồn cái giọng đó nó yên dịu lại\\nNó yên dịu lại, nó lắng dịu lại, thì cái đó cũng gọi là Chí\\nNhư trong dân tử an tịnh tâm hành, tâm hành của mình có thể là giận hay là buồn hay là lo\\nVà khi mà mình thực tập chỉ, hoặc bằng tình hình, hoặc bằng thở cái tránh niệm\\nThì mình dành cái tránh niệm đó, mình ôm cái tâm hành kia, và làm cho cái tâm hành kia nó dịu lại, giống như bà mẹ ôm con, thì đó gọi là Samatha, là Chí\\nThành ra Chí nó có nghĩa là làm cho nó dừng lại, làm cho nó yêu ái ra lại, an tĩnh ra lại, và làm cho mình có khả năng tâm tâm vào một cái đối tượng duy nhất gọi là Chí\\nVà dân tử này nó thường theo xác, bằng tình hình là Quảng Vipassana\\nQuảng Vipassana nó có nghĩa là nhằm sâu vào để khám phá sự thật, nó nằm trong tự tấn của đối tượng mà mình quán chiếu\\nTức này mình có thể gọi là Deep Looking, mà Deep Looking như vậy, quán chiếu một cách sâu sắc, thì tự nhiên mình thấy được, mình có cái trở giác, mình có cái gọi là Insight Mình có cái thấy sâu sắc về bên trong, trong lòng của sự vật\\nNhờ đó chứng minh các học giáo tươi phương, các khóa thiền sinh tươi phương\\nnghe dịch cái chữ Vipassana là tiếng Pali đó\\nlà Insight Meditation\\nInsight Meditation\\nVà cái chữ mà chúng ta đã dừng hàng ngàn năm rồi là chữ Quán\\nTôi chỉ là tôi quán\\nTôi chỉ là làm cho nó dừng lại, làm cho nó êm dược lại, làm cho tâm mình truyền trống vào một cạnh\\nVà tôi quán là mất thương bất ngỡ, nhìn thật sâu vào trong lòng của đối tượng đó\\nđể thấy được bản chất, sự thật về nó\\nĐó là hai danh tử rất là quan trọng trong bản bộ, rất đặc biệt phật giáo\\nCảm nhận từ thiền, nó không phải là đặc biệt phật giáo\\nNó trưng cho nhiều cái truyền thống khác\\nChúng ta chỉ xét xuyên qua những cái danh tử đó thôi\\nTại chúng ta không có thời gian để có thể đi sâu vào những vấn đề phân tích danh tử\\nTại chúng ta có nhiều chuyện phải làm, nhiều chuyện phải học\\nNhưng mà đây là cái thứ thiếu mà chúng ta phải làm\\nThì như hôm trước tôi đã có nói\\nlà có những phương pháp thực tập, nó thuần túy là một\\nNó có mặt trong cái thời gọi là Đạo Bồ Nhân Thị\\nNhưng mà có những yếu tố khác, nó từ từ, nó được gây ra vào trong cái truyền thống thiền tập của chúng ta\\nVà nó được Phật hóa, Phật hóa nghĩa tình, nó cho nó một cái nội dung về Đạo Phật\\nTrong cái quá trình học hỏi\\nthì có 3 cái danh tử này chúng ta phải làm quen với\\ntức là Đạo Bồ Nhân Thị\\nĐạo Bồ Nhân Thị tức là Đạo Bồ trong thời đại của Bồ\\nGiờ tới Đạo Bồ Bộ Pháp\\nTại vì sau khi Bộc và Nhật Dược, cho đến tăng năm\\nthì đã có cái sự phân phái\\nvà chỉ trong vòng một vài trăm năm thì nó phân ra tới 18, 20 Bộ Pháp\\nthì lúc đó Đạo Phật Bộ Pháp, Đạo Bộc Bộ Pháp đã không còn Đạo Bồ Nhân Thị nữa\\nkhông còn Thần Thủy nữa\\nnghĩa là Đạo Bộc Bộ Phái\\nĐạo Bộc Bộ Phái, nó có chứa Đạo Bộc Nhân Thị tăng lắm\\ntại vì Đạo Bộc Bộ Phái, nó được phát triển từ Đạo Bộc Nhân Thị\\nnhưng mà trong đó có những yếu tố của sự phát triển\\nvà mình phải tính ý lắm để phân biệt được những yếu tố nào là yếu tố của Đạo Bộc Nhân Thị\\nvà những yếu tố nào là ngói thêm vào của Đạo Bộc Bộ Phái và dân tử thứ 3 là Đạo Bục Đại Thừa\\nĐạo Bục Bổ Phái tiếp tục phát triển\\nvà nó đưa tới Đạo Bục Đại Thừa\\nChúng ta có 3 giai đoạn\\nThành ra chúng ta đặt câu hỏi\\nCái nào là Đạo Bục Nguyên Thị?\\nCái nào là do Đạo Bục Bổ Phái thêm thất vọng?\\nVà cái nào là do Đạo Bục Đại Thừa?\\nĐưa vào\\nNó là câu hỏi rất là chính đáng\\nTại vì nếu mà chúng ta không có sự khảo cứu, không có sự tuân tập\\nthì chúng ta khó để nói là cái nào là thật sự Đạo Bục Nguyên Thị\\nTại vì vị trí nguyên các ngạc giả\\nhọ giúp chúng ta công khai nhiều\\nCác sự gia\\nCác nhà khảo cổ\\nCác nhà bác ngữ học\\nBác ngữ học tiếng Pháp là philology\\nCác nhà khảo cổ họ khai cuộc\\nCác nhà sự gia họ nghiên cứu họ so sánh\\nVà các nhà bác ngữ học họ nghiên cứu những văn bản khác nhau\\nHọ tìm ra những yếu tố khác nhau\\nHọ có thể giúp cho chúng ta thấy được\\nMột phần nào, những cái nào nó thật sự là Phật Giáo Nguyên Thị\\nVà những cái nào nó được phát triển\\nVà trong quá trình tìm hiểu đó\\nCàng ngày chúng ta càng thấy rõ thêm\\nThì bây giờ có những câu hỏi\\nMà chúng ta chưa có thể tìm được câu trả lời dứt khoát\\nCó những cái mà chúng ta có thể đồng ý với nhau\\nLà 100% là Đạo Bộc Nguyên Thị\\nCái đó chúng ta có thể qua quyết với nhau được\\nVí dụ như là Phương Pháp Tự Chánh Niệm\\nLà 100% là Đạo Bộc Nguyên Thị\\nNhân giới, giới khách sĩ\\nLà 100% Đạo Bộc Nguyên Thị\\nNhưng có những cái như là Tứng Vô Pháp Định\\nTức là không vô biên sứ\\nThất vô biên sứ\\nVô sử vụ sứ\\nPhi tượng, phi phi tượng sứ\\nThì câu hỏi rất là lớn\\nMà trong các kinh, có rất nhiều kinh nói về Tứng Vô Pháp Định\\nThì cái đó chúng ta biết chắc là không phải là 100% của Đạo Bộc Nguyên Thị\\nTại vì khi mà Bộc đang còn tư tập với thầy\\nVới các thầy Umbraka\\nVới Alara\\nThì đều có thực tập 4 cái pháp gọi là Tứng Vô Pháp Định\\nVà Ngài đã thành công\\nNhưng mà Ngài nói cái đó không có cái công dụng giải thoát sinh tử\\nCho nên Ngài bỏ\\nVậy mà sau này trong các kinh điển tham hồi lại cái đó\\nVà để vào đó như là cái từng từ tù học của Phật Tử\\nThành ra cái đó mình không có thể nói nó là Phật Đạo Bộc Nguyên Thị được\\nNó không có 100% được\\nNó người lắm là 50% thôi\\nVà có thể là các thầy\\nĐã nói rằng ngày xưa Bộc có thực tập\\nTại sao bây giờ chúng ta cũng thực tập cho giống Bộc\\nVà đưa vào\\nĐưa vào trở lại cái mà Bộc đã hất ra ngoài\\nVà cho nó thêm những cái ý nghĩa của Phật Dạo\\nTức là Phật Dạo hóa nó\\nLàm cho nó có tính chất của Bộc\\nVà cái điều này cũng có thể đúng với tư thiền Tức là Sơ Thiền, Ngụy Thiền, Tam Thiền, Thứ Thiền\\nTức là Ngụy Thiền, Ngụy Thiền, Tu Thiền, Giác Ngộ\\nĐạo Đục Nguyên Thủy là Đạo Đục nào?\\nNó vẫn còn là vấn đề lớn\\nChúng ta qua cái sự thu học, qua cái sự nghiên cứu đã có thể thấm định được\\nmột số những yếu tố mà chúng ta có thể quýt chắc được là của Đạo Đục Nguyên Thủy 100%\\nNgoài ra còn có những yếu tố khác chúng ta không có thể xác quyết được như vậy\\nVà có những yếu tố khác chúng ta đã có thể loại trừ ra\\nVí dụ như trong khi mà nghiên cứu kinh niệm sứ đó, thì tôi có phát nhắc ra một cái đoạn kinh\\nMột cái đoạn kinh mà người ta vì cái sự tựa đọc không có trách nhiệm\\ncho nên đã tất nối, đã lấy một cái đoạn kinh, lấy một cái đoạn mà Bục chê là không có lứng\\nMột cái phương pháp tư mà Bục đã chê trong cái kinh là không có lứng để đem vào trong kinh\\ncoi như là một phương pháp mà mình cần phải thực tập\\nThì nếu mà quý vị có đọc cái cuốn Con đường chứng hóa đó, Nghiên cứu về kinh niệm sứ đó, quý vị sẽ thấy cái đoạn kinh đó\\nĐó là cái ví dụ về cái chuyện và nghiên cứu và so sánh các văn bản\\nVà chúng ta tìm được những cái sai lầm đã xảy ra trong cái kho tàng văn học Phật giáo\\nDo cái sự truyền tụng không có trách nhiệm\\nĐó là cái trường hợp mà tam sao thách bản lưu lưu nó xảy ra\\nTrong khi mà học về cái đề tài truyền thống sinh động của thiền tập Phật giáo đó\\nThì chúng ta sẽ dược xét những phương pháp thiền tập đã được qua các thế hệ\\nVà luôn luôn chúng ta cân nhắc\\nChúng ta thấy cái đà phát triển của cái tư tưởng thiền tập và mang những cái pháp luân thực tập về thiền tập\\nVà điều đó có thể cho chúng ta thêm cái niềm tin trong cái pháp luân thực tập của chúng ta\\nCái pháp luân mà chúng ta biết rằng tính ngày xưa được được thiền tập\\nNhững cái pháp luân mà các vị Tổ sư đã phát triển, đã đem ra thực tập và đã truyền lại cho chúng ta', processed_text='Development and Application of Meditation Through the Ages\\n\\nThis is mindfulness, this is concentration, this is insight. And we cannot imagine that we can have concentration without truly having mindfulness. That is very clear. We cannot imagine that we will have insight without concentration and mindfulness. We know that experience is something we have in our minds, but it may be seeds that are still very weak. Because we, including children, everyone has the ability to drink water mindfully, to know that we are drinking water. Everyone has the ability to know that we are sitting with friends and to know that we are sitting with friends. Everyone has the capacity to know that we are sitting in the meditation hall, living our daily life. To sit in the meditation hall and know we are sitting in the meditation hall is to have responsibility.\\n\\nThus, one cannot say, \"I cannot practice, I do not have the ability to practice because I am not responsible.\" Because everyone has the seed of responsibility within themselves. The question is whether we are practicing or not, whether we are making the seed of responsibility surface every day or not. The difference lies here. At this point, we realize there is a wonderful concept we like to consider, which is varnamama, which means cultivation. We have a question: Can we cultivate? Because there are dangers of success. Cultivate or practice? The issue is how to make it present. For example, a field of sunflowers blooming bright yellow, which we see at Plum Village in July and August. We know that right now we cannot see the field of sunflowers in full bloom, but we know we can make that sunflower field manifest.\\n\\nThe expression \"do it to be\" means making it manifest. Thus, cultivation means to make it present. That is why people translate it as mental culture, meaning cultivating our mind. In Vietnam, we often call it \"cultivating the mind.\" Cultivating the mind means allowing the fruits of awakening and compassion to manifest in our lives, called cultivation. With the example of the sunflower field, we know that the land is there, the sunflower seeds are there, the plant is there. If we know how to use the seed, the plant, and provide fertilizers and field conditions, then we can make the bright yellow sunflower field manifest. Such is the practice of cultivation.\\n\\nWe possess the seeds of proper mindfulness. Our soil is our mind. Our opportunities are our breath and our steps. Therefore, cultivation here is expressed as the process of sowing and nurturing. If we remember to cultivate properly, we will attain awareness and happiness called mental culture, agriculture, mental culture, it is the same. In the Eastern Zen tradition, the teachers often say that cultivation is akin to farming, that the fields of sound must be self-cultivated. Because if we have land but do not cultivate, do not sow seeds, do not practice, then flowers and fruits cannot manifest. Thus, cultivation is a gardening issue, a farming issue. And our garden is our very own mind, and it contains all the seeds.\\n\\nChitta bhāvanā, chitta bhāvanā also means cultivating the mind. Bhāvatī has the sense of cultivating, growing, making manifest, making mindfulness manifest. When mindfulness is present, concentration is present, and insight is present. Chitta bhāvanā can be translated as mind cultivation or cultivating the mind.\\n\\nLet us examine a few more concepts. One such concept is samādhi. Samādhi is the state of concentration. It is the result of mindfulness and the cause of insight. In Vietnamese, samādhi is translated as proper concentration. Proper concentration first means bringing everything back to one place, putting everything together. When we have concentration, it means we are no longer scattered, here and there, body here, mind there, fragmented. Each is separate. When we have concentration, it means we gather everything back to one, so in English, it is called \"to put together.\"\\n\\nIn ancient times, the masters translated it with many terms. One such is samui, which is also samādhi. Samādhi is a transliteration of samādhi. Sometimes it is translated as equilibrium stabilization. Equilibrium means equal, as in equality, without disparity, maintaining balance. It transcends the two states of drifting, one being mental agitation, and the other being sinking. Sinking means we fall into a state of heavy sleep, and floating means we rise up and become restless, unable to stay still. In equilibrium, we escape these two states of agitation and sinking.\\n\\nEquilibrium means it does not fall into the two states of agitation and torpor. And stabilization means maintaining, maintaining in a state where mind stays on one object and one object only. Stabilization means one object. When the monkey climbs, it grabs one branch, then reaches for another and lets go of the first one. It continues like this and cannot stay still. Our minds are like monkeys, not concentrating on a single object. Therefore, we do not have concentration. So, in practice, we must know how to focus on one object; this is called stabilization. During this time, the mind does not fall into a state of torpor or agitation, hence called equilibrium stabilization.\\n\\nSometimes it is translated as proper mental conduct. Mental conduct refers to making the mind straight and practicing concentration on a particular object. Territory here refers to the object of concentration, like the Four Foundations of Mindfulness. The object might be our body, our feelings, our mind states, or the objects of our mind states, which is Dharma. In concentration, the object could be the body, feeling, mind, or Dharma. Yet, the object of the body part may be too broad. Therefore, we must narrow the object within a smaller scope. For instance, we might focus only on the heart and ignore the liver or lungs. We narrow the object of our concentration, and the more we narrow the object, the greater the concentration power.\\n\\nThus concentration means it is translated as mind-unifying object. In Pali, the mind is directed towards one, one object, with a very unique and dignified language of Buddhism. There are two terms: calming and insight. Calming refers to Samatha. Samatha means making it calm, making it quiet, stopping, settling, stopping, calming down, so we can focus on one thing.\\n\\nIf our mind is wandering, worrying, thinking about distractions, lacking mindfulness, thinking about unbeneficial things, causing worry, suffering, fear, so our mind is not unified, we breathe in and out, returning to the breath, ceasing the dispersed thoughts, calming the mind, that is calming. Or when we are sitting or working, but the sitting or work is making us anxious, we breathe in and out, easing the anxiety, calming down the indecision, that is also calming. Like in the term \"calm the mental formation,\" our mental formation could be anger, sadness, or fear. When we practice calming through mindful breathing, we embrace that mental formation and let it settle like a mother holding her child. This is called Samatha, calming.\\n\\nTherefore, calming means making it stop, making it gentle, calm, allowing focus on a singular object. This term is often paired with insight, Vipassana. Insight means aiming deeply to discover the truth, lying in the nature of the object of one\\'s insight. We might call it deep looking, and such deep looking yields realization, insight, a profound understanding of the object.\\n\\nWith insight, Western scholars and meditation centers translate the term Vipassana, which is Pali, as Insight Meditation. And the term we have used for thousands of years is quán. Calming is to focus, making it stop, making it gentle, making the mind direct into a single object, and quán is to deeply, profoundly look into the object to see its essence, its truth. These are two very important terms in Buddhism, very special to Buddhism. The term \"meditation\" is not solely Buddhist; it appears in many other traditions. But we have only examined these terms briefly. We do not have time to delve deeply into semantic analysis since we have many things to do, to learn. But this is a crucial thing we must do.\\n\\nAs I said before, there are methods of practice purely original existing during the time of the historical Buddha, but there were other elements gradually added, integrated into our tradition, given a Buddhist content. Throughout our learning process, there are three terms we must become familiar with: Original Buddhism, Sectarian Buddhism, and Mahayana Buddhism. Original Buddhism refers to the Buddhism during the Buddha\\'s lifetime. By the time of Sectarian Buddhism, because after the Buddha\\'s parinirvana, until about a few centuries later, it had already begun to break into various schools. By then, Original Buddhism was no longer purely the same; it had developed into Sectarian Buddhism.\\n\\nSectarian Buddhism grew out of Original Buddhism, but it also included elements of development. We must be very aware to distinguish which elements belong to Original Buddhism and which are additions from Sectarian Buddhism. The third term is Mahayana Buddhism. Sectarian Buddhism continued to develop, leading to Mahayana Buddhism. So, we have three stages. Therefore, we ask: What is Original Buddhism? What elements were added by Sectarian Buddhism? What elements were introduced by Mahayana Buddhism? These are significant questions. Without careful research and practice, it is challenging to determine what truly belonged to Original Buddhism. Academics help by providing evidence through historical research, comparative study, archaeology, and philology. Through their efforts, we gain a clearer understanding each day.\\n\\nCurrently, we have questions we cannot yet conclusively answer, but there are aspects we can agree are 100% Original Buddhism. For example, mindfulness practice is 100% Original Buddhism. Monastic life, monk precepts, are 100% Original Buddhism. But states such as the Four Formless Absorptions—Infinite Space, Infinite Consciousness, Nothingness, and Neither Perception nor Non-Perception—are big questions. Although many sutras refer to the Four Formless Absorptions, we know these are not 100% Original Buddhism, because when the Buddha himself practiced with his teachers Uddaka and Alara, he mastered these practices but found them not conducive to liberation from birth and death, so he rejected them. Yet, later on, they were included back into the sutras as something disciples ought to practice. This means they were not 100% Original Buddhism, perhaps more like 50%. It is possible they symbolically reintroduced into the tradition with a Buddhist meaning, as if appealing to disciples saying, \"The Buddha used to practice, so why not us,\" infusing earlier practices with a new Buddhist philosophical content.\\n\\nSuch a predicament might also apply to the Four Dhyanas: First Dhyana, Second Dhyana, Third Dhyana, Fourth Dhyana, cultivated as a path towards awakening. The question remains: What exactly was Original Buddhism? It remains a significant issue. Through study and research, we can confidently identify some aspects as 100% Original Buddhism, though others remain challenging to definitively categorize.\\n\\nIn the study of the Satipatthana Sutta, I discovered a passage where someone, due to irresponsible recitation, reintroduced a sequence into the text that the Buddha rejected as inadequate, enhancing it as something needed for practice. Those who have read the book \"The Path of Emancipation\" focusing on the Satipatthana Sutta will find this segment. This exemplifies using textual research and comparison to expose errors in Buddhist literature due to irresponsible transmission. There, it falls into the pitfalls of distorted transmission. \\n\\nAs we explore the lively tradition of Buddhist meditation, we consider methods handed down through generations, always weighing perspectives. We observe the development through the interpretations of meditation practice, the introduction of new praxis, which can deepen our faith in our spiritual path. Cultivation methods known to have been practiced by the ancients, the derivatives and innovations by which the venerable masters have actualized and have innovated are now entrusted to us.', start_line=267, end_line=512, metadata={})]"
      ]
     },
     "execution_count": 29,
     "metadata": {},
     "output_type": "execute_result"
    }
   ],
   "source": [
    "tx_sections"
   ]
  },
  {
   "cell_type": "code",
   "execution_count": 35,
   "metadata": {},
   "outputs": [],
   "source": [
    "full_text = \"\\n\\n\".join([section.processed_text for section in tx_sections])"
   ]
  },
  {
   "cell_type": "code",
   "execution_count": 36,
   "metadata": {},
   "outputs": [
    {
     "name": "stdout",
     "output_type": "stream",
     "text": [
      "The Essence of Meditation\n",
      "\n",
      "Today is November 24, 1994, and we are gathered during the winter retreat. As you know, the theme of this retreat is the living tradition of Zen lineage in Dà Bột. The word \"meditation\" in English has been used to translate the word \"thiền.\"\n",
      "\n",
      "\"Thiền,\" fully pronounced as \"thiền na,\" is often shortened by omitting \"na,\" leaving just \"thiền.\" The Sanskrit term is \"dhyāna.\" When the Chinese pronounced \"dhyāna,\" they said \"chan na,\" then further shortened it to \"chan.\" \"Chan\" is the Chinese, \"thiền\" is the Vietnamese pronunciation, and the Japanese read it as \"zen,\" while the Koreans read it as \"seon.\"\n",
      "\n",
      "The root of the Sanskrit word \"dhyāna\" is \"dhyai,\" which signifies thinking, contemplating, or focusing on a particular subject, implying introspection. Thus, the ancients translated \"thiền\" as \"tư duy tu,\" meaning meditation, with \"tư duy\" encompassing the idea of thinking.\n",
      "\n",
      "However, we often hear that meditation is not about thinking. The essence of the word \"thiền\" indeed originally carried the meaning of thinking inwardly.\n",
      "\n",
      "     \n",
      "Understanding Meditation in the Buddha's Way\n",
      "\n",
      "First of all, we should understand that the word \"dhyana\" is not exclusively used for the practice of meditation in Buddhism. Other sects and traditions that existed before, during, and after Buddhism also use the term \"dhyana.\" Therefore, dhyana meditation is not a term used solely in Buddhism though it is a very good term.\n",
      "\n",
      "In the Buddhist scriptures, we often see other terms being used more frequently than the term \"dhyana.\" During the Buddha's lifetime, different terms were used more commonly than \"dhyana.\" However, around 100 years after the Buddha's passing, the term \"meditation\" began to be used more frequently. We must understand and inquire as to why this change occurred.\n",
      "\n",
      "When Buddhism adopted the term \"meditation,\" it infused it with the meanings inherent to Buddhism. Other traditions, prior to and alongside Buddhism, also used these terms, but the meanings they attached to these terms were not always the same as those given by Buddhists. There could be similarities, but also differences. For example, the term \"samsara.\"\n",
      "\n",
      "In other traditions, samsara might be understood differently. In Buddhism, we have a unique understanding of samsara. For instance, outside of Buddhism, there may be a belief in an eternal soul, and their concept of samsara is based on this idea of an eternal soul. However, in Buddhism, we learn the teaching of non-self (anatman), and therefore, samsara in Buddhism must be understood in light of the teaching of non-self.\n",
      "\n",
      "The same term can have different meanings inside and outside of Buddhism. During the Buddha's time, which we might call the \"Age of Awakening,\" practitioners engaged in sitting meditation, walking meditation, mindful eating, and mindful breathing—all practices that are real and true. The insight, the love, and the peace of the Buddha and his disciples originated from such practices.\n",
      "\n",
      "These practices could now be referred to as \"meditation,\" but they could also be called by other names.\n",
      "\n",
      "The Three Meanings of Meditation\n",
      "\n",
      "The first meaning pertains to choosing an object, turning it into a meditative subject, and deeply concentrating on it. This is the contemplation of a given object.\n",
      "\n",
      "The second meaning is similar: it involves getting very close, intimately engaging with, and examining the object. The object in question is part of a phenomenon belonging to the world of appearances. By penetrating deeply into this world of appearances, one can access the true essence behind it. For example, consider a wave. By meditating on the wave in an intimate way, and being in close contact with it, we can discover the true nature of the wave—that is, water.\n",
      "\n",
      "The third meaning involves elimination or removal. In meditation practice, we often use the term elimination to refer to the process of removing the elements and factors that cause suffering, blockage, anxiety, or insecurity. Thien Master Tan Hoi, who lived in the early to mid-third century, is considered the patriarch of Vietnamese Zen. From the Anapanasati Sutra, the master also defined meditation as the act of elimination.\n",
      "\n",
      "The Power of Concentration in Meditation\n",
      "\n",
      "In Buddhist practice, \"eliminate\" is akin to the concept of expelling impurities. The Sanskrit term \"gradya\" encapsulates this idea; it means \"to burn away.\" This interpretation resonates with the teachings of the Zen masters, who emphasize that through meditation, our mind and intention focus intensely on a specific object. This focus gives us power. With such power, we can burn away mental afflictions. This is similar to how concentration is used to eliminate distractions.\n",
      "\n",
      "The most beautiful image for understanding this is that of a magnifying glass. When it captures the sun's light, all its rays converge at a single point, creating a focused energy capable of burning grass. Similarly, through meditation, if our focus is strong, the concentrated energy can consume states of confusion and emotional turbulence.\n",
      "\n",
      "This interpretation by the Zen masters is closely related to the idea of eliminating impurities. It reminds us of the first concept, which is contemplation; the second, observing our inner world in detail; the third, removing negative elements; and the fourth, incineration of these elements.\n",
      "\n",
      "The essence of meditation includes the concept of transcendence. Bhikkhu Nāpunika, a scholar and author of \"The Heart of Buddhist Meditation,\" identified mindfulness as the heart of Buddhist practice. Bhikkhu Nāpunika, a German who studied in Sri Lanka, had lived at Forest Hermitage for many decades.\n",
      "\n",
      "About a month ago, Bhikkhu Nāpunika, an esteemed scholar who visited when I worked in Paris, affirmed mindfulness as the core of Buddhist meditation. He compiled \"The Wakefulness of Dharma\" in Sri Lanka, published after his visit, ensuring accessibility for English-speaking readers there. Given that the audience at the Sri Lankan publishers primarily followed Buddhism, the English release of the Dharma book was especially significant.\n",
      "\n",
      "**The Heart of Buddhist Meditation: Mindfulness**\n",
      "\n",
      "There is a saying that we can take water home to bathe, to drink tea, to wash our feet, whether we take a little or a lot, it is all fine, which makes me very fulfilled. Subsequently, the Dharma was printed in German, translated and printed in German, then in English and later Thai.\n",
      "\n",
      "Thầy Nguyễn Áp Onika spent several days with us in Paris. I remember one day taking him to Park The Soul, where we both sat on a stone bench to converse. Now, Thầy has passed away.\n",
      "\n",
      "According to Thầy Nguyễn Áp Onika, mindfulness is the heart of the Buddhist Meditation Tradition. Mindfulness is known as Sati in Pali, and Smriti in Sanskrit.\n",
      "\n",
      "Mindfulness is the term most commonly used in Buddhist literature, many hundreds of times more often than the term truth. Therefore, we feel very comfortable when we hear that mindfulness is the heart of the Buddhist way of meditation, unlike other concepts.\n",
      "\n",
      "Among the various teachings and notions of meditation, there are four stages of meditation, the four formless absorptions, and various other states. However, the heart of the Buddhist meditation tradition continues to be mindfulness.\n",
      "\n",
      "Now, as practitioners, we should know how to nurture the garden of our practice. When the Buddha gave his first Dharma talk to the five monks here in this garden, the teachings emphasized truth. In that first teaching, he taught about the Noble Eightfold Path, which is the path of truth.\n",
      "\n",
      "Within the Noble Eightfold Path, we find right mindfulness, succeeded by right concentration, or right view, which aligns with wisdom. In the teaching of the \"Three Learnings\"—the three trainings—we talk about concentration and wisdom.\n",
      "\n",
      "At seventy years of age, nearing the end, in short Dharma talks, the Buddha often spoke about training the mind through the Three Learnings: morality, concentration, and wisdom. However, in our practice, the Teacher discovered that morality here aligns with mindfulness. Here, morality simply means mindfulness; mindfulness, that is right mindfulness.\n",
      "\n",
      "We must repeatedly emphasize this because elsewhere we often hear of mindfulness, concentration, wisdom—mindfulness, concentration, wisdom regularly. But when discussing the training of the Three Learnings, we don't see mindfulness; instead, we see morality, concentration, wisdom.\n",
      "\n",
      "The Nature of Precepts\n",
      "\n",
      "When we read the Five Precepts, or the Ten Precepts, or the Fourteen Precepts, or the 250 Precepts, we might have the shallow notion that these precepts are just prohibitions—rules set by teachers to prevent disciples from falling into the pit of wrongdoing. That concept is not incorrect, but it is not the deepest understanding of precepts. Precepts are the manifestation of the practice of mindfulness. Understanding this allows us to see the depth of the precepts.\n",
      "\n",
      "In the new year's text we are practicing, the language is very clear. It demonstrates that precepts are what we perceive through the practice of mindfulness. For example, the first precept speaks about being aware of the suffering caused by destruction. Being aware of the suffering caused by killing, the practitioner follows the path of great compassion to protect life, the lives of humans and all species. This is how it begins.\n",
      "\n",
      "The awareness of the suffering caused by killing is the result of mindfulness. With mindfulness, we see that killing causes immense suffering—killing humans, animals, plants, even inanimate things. When we see the suffering caused by killing, we give rise to great compassion, which is a vast love. It is from this great love that we are determined to uphold the precepts. It's not because the teacher has forced me to keep the precepts, or Buddha has commanded it, or the Sangha insists on it. Saying it that way does not reach the deepest level of precepts.\n",
      "\n",
      "Therefore, we can say that precepts are the fruits of mindfulness and the practice of mindfulness. Practicing precepts is not different from practicing mindfulness itself. Practicing precepts is practicing mindfulness in a very concrete way. If one does not uphold the precepts, one cannot say they are practicing mindfulness.\n",
      "\n",
      "Each of this year's precepts begins with being aware of the suffering caused by deceit, theft, and social injustice. This is related to the second precept. The practitioner follows the path of great compassion to bring joy and peace to everyone and all species. Mindfulness allows us to see the suffering caused by deceit, theft, and injustice.\n",
      "\n",
      "Cultivating Mindfulness and Embracing the Precepts for True Freedom\n",
      "\n",
      "From that great compassion arises the determination to uphold the precepts. The second precept involves refraining from stealing, deceit, and causing social injustice. Thus, we must realize the essence of the precepts as mindfulness. When we awaken to the suffering and the necessity of practice through our cultivation of mindfulness, we make a personal vow to observe the precepts, not because of anyone else's judgment or compulsion, whether by an individual or a monastic community.\n",
      "\n",
      "When we practice the precepts out of personal aspiration, the precepts no longer become constraining rules. They are not regarded as factors that limit our freedom. Instead, the precepts serve as tools to protect our freedom and to create happiness for ourselves and others. This is what I have discovered through the practice: the foundation is mindfulness.\n",
      "\n",
      "We have invested significant effort in understanding this point. We recognize that the first discourse Buddha delivered to the five monks included mindfulness, concentration, and insight. In the teachings of the Four Noble Truths and the Noble Eightfold Path, Buddha shared this concise lecture with the monastics before entering Nirvana, and it acclaimed the Noble Eightfold Path, inclusive of mindfulness, concentration, and insight. These are the backbone, the core elements of the Buddha's practice.\n",
      "\n",
      "We also see that the teaching of the Five Faculties encompasses faith, vigor, mindfulness, concentration, and insight. Similarly, in the Five Powers, we embrace faith, vigor, mindfulness, concentration, and insight. The Seven Factors of Enlightenment include mindfulness, concentration, and insight. Here, the insight is named 'dharmas-selection' or 'dharma-vicaya'—termed 'Dharma Investigation'.\n",
      "\n",
      "The Four Foundations of Mindfulness purely focus on mindfulness itself. The Noble Eightfold Path too emphasizes mindfulness.\n",
      "\n",
      "The Heart of Mindfulness\n",
      "\n",
      "Mindfulness plays the role of fragrance; it plays the role of the heart. Therefore, we can connect with Master Nyanaponika, who said mindfulness is the heart of Buddhist meditation practice. Mindfulness is not something we seek from the outside. It has the seeds already present in our consciousness.\n",
      "\n",
      "We know that among the fifty-one mental formations we studied last year, there are five called the particular mental formations: Desire, Perception, Attention, Concentration, and Insight. Among them, Attention, Concentration, and Insight are mental formations present in our psychology. When they manifest, we have Mindfulness, Concentration, and Insight.\n",
      "\n",
      "However, the characteristics of Mindfulness, Concentration, and Insight among these mental formations can be dualistic. Mindfulness can be Mindfulness or Wrong Mindfulness. Concentration can be Right Concentration or Wrong Concentration. Insight can be Right Insight or Wrong Insight. \n",
      "\n",
      "When we have a mistaken perception, we presume that we have seen, known, and understood, but that is wrong insight. Therefore, we must add the word “right” to denote genuine mindfulness, genuine concentration, and genuine insight. When we are caught in a mistaken view, we think we have knowledge and understanding, but that is not insight; it is wrong view.\n",
      "\n",
      "And when our mind constantly returns to thoughts of anger, worry, or desire, that too is a kind of concentration, but it is wrong concentration. Hence, the five particular mental formations are characterized by their dual nature, clearly dividing Attention, Concentration, and Insight into right and wrong.\n",
      "\n",
      "The Depth of Mindfulness\n",
      "\n",
      "When we drink tea, if we are aware that we are drinking tea, then we practice mindfulness. This mindfulness can either be profound or superficial, depending on our level of practice. \n",
      "\n",
      "Whether I am mindful or you are mindful is one question. But whether your mindfulness or my mindfulness is deep is another question. According to our dedicated practice, our mindfulness can help us see more deeply.\n",
      "\n",
      "We must understand that mindfulness is already complete in itself. We have mindfulness when we drink water, and flour also has mindfulness when it absorbs water. But the mindfulness of flour penetrates deeply to the core of things. Meanwhile, our mindfulness often only touches one or two layers of truth on the surface. Therefore, we must practice more diligently.\n",
      "\n",
      "When we have mindfulness, we should first recognize that mindfulness always involves an object. Mindfulness is always mindfulness of something. For instance, when we practice mindfulness of the breath—breathing in, we know we are breathing in; breathing out, we know we are breathing out—the object of mindfulness is the breath. Similarly, when we drink water mindfully, the act of drinking water becomes the object of our mindfulness.\n",
      "\n",
      "Mindfulness and Its Interconnectedness\n",
      "\n",
      "Do not assume that mindfulness is an abstract entity without an object; such a notion does not exist. When we have mindfulness, concentration arises simultaneously. This concentration may manifest subtly within our mindfulness, much like a new moon—though young, it is still the moon. Our mindfulness functions in a similar manner.\n",
      "\n",
      "In the beginning, when we practice mindfulness, whether in walking or sitting meditation, concentration instantly arises within the heart of mindfulness. However, this concentration may still be in its infancy. And when concentration is nascent, its strength is not significant; thus, our insight may not yet be clear.\n",
      "\n",
      "For example, when we eat mindfully, the object of our mindfulness during the meal is the food and the sangha, reflecting our practice. We also sit and eat in silence like everyone else. But if we compare our mindfulness with that of our elder brothers or sisters, our own may be more developed. As our mindfulness grows stronger, the concentration within it will also become more profound, and consequently, our insight will deepen.\n",
      "\n",
      "Take, for instance, our mindfulness. If it is not robust, then our concentration will be limited. And if our concentration is limited, then our insight is only marginal. This means that within mindfulness, there is always concentration and insight. The key point to remember is that when mindfulness is abundant, concentration will be more powerful, and with stronger concentration, our insight becomes clearer and more profound.\n",
      "\n",
      "Therefore, when eating, one must eat with true mindfulness. Walking meditation should also be practiced with true mindfulness. The depth and strength of our mindfulness will guide us in this practice.\n",
      "\n",
      "The Interconnection of Mindfulness, Concentration, and Insight\n",
      "\n",
      "The depth of our understanding can vary, but what we need to recognize here is mindfulness. It carries within it the seeds of insight. Therefore, we cannot say that mindfulness is separate from insight. It's like a mother who has three children. She is a mother, but the children already exist for her. Without the mother, without the children, the person cannot be called a mother.\n",
      "\n",
      "Once we truly understand mindfulness, there is inherently an intention within it. The strength of this intention, whether large or small, contributes to our insight, whether minor or profound. Let us now look at this differently, for there are many ways to view it. This is our experience. Because we have mindfulness, we also develop concentration. As we deepen our experience, concentration naturally arises. And when we deepen our concentration, insight emerges.\n",
      "\n",
      "Here is mindfulness, there is concentration, and there is insight. We cannot imagine having concentration without truly having mindfulness—that is very clear. And we cannot imagine having insight without concentration and mindfulness. We know that experience is something we hold in our hearts, but they may be seeds that are very fragile. Just as even small children can drink water, they must also be aware of whether or not they are drinking it.\n",
      "\n",
      "The Practice of Presence\n",
      "\n",
      "Everyone has the ability to be aware that we are sitting in the meditation hall of daily life. Sitting in this meditation hall and knowing that we are there is a matter of responsibility.\n",
      "\n",
      "Therefore, it is not correct to say that I cannot practice because I lack responsibility. Every person carries within them the seed of responsibility. The real question is whether we choose to cultivate it. Do we engage this seed of responsibility in our daily lives or not? The difference lies right there.\n",
      "\n",
      "Upon reflecting, we discover the presence of an inner element. This element is quite intriguing, exemplified by the story of Maudgalyayana, a character representing the essence of diligent practice. It is crucial to address whether we can truly practice or not, especially considering the potential pitfalls that come with success.\n",
      "\n",
      "What does actual practice mean? The Vietnamese term \"ba ba\" suggests making something real or present; it refers to manifesting it. Consider a field of blooming sunflowers that we see in Plum Village during July and August. Even if we do not currently see this radiant field, we are aware that we can bring it into existence.\n",
      "\n",
      "Similarly, spiritual practice, or cultivating the mind, means making mindfulness and compassion present in our lives. In Vietnam, we frequently refer to this as cultivating the mind or \"tu tâm.\" This means nurturing the fruits of awakening and compassion so that they manifest in our daily lives.\n",
      "\n",
      "Returning to the sunflower field analogy, we know the soil, seeds, and plant potential are all there. If we understand how to tend to the seeds, use them effectively, and apply fertilizer and care in the fields, we can indeed bring forth the vibrant field of sunflowers. This is the essence of practice.\n",
      "\n",
      "Cultivating Mindfulness\n",
      "\n",
      "We have the seed of mindfulness within us. The soil we possess is our mind. Our opportunity is our breath, our steps. Therefore, practicing here can be expressed in the form of cultivation and mindful sowing. If we remember to pay attention to our introspection and happiness, it is called \"mental culture\". Agriculture, mental culture, it is the same.\n",
      "\n",
      "In the tradition of Eastern Zen, teachers often say that practice is like tilling the fields. The sound fields must be self-tilled. For if we have fields and gardens and do not cultivate them, if we do not sow seeds and do not practice, we cannot have flowers and fruits. Thus, practice is the issue of gardening, the issue of tilling fields. And our plot of garden is our very own mind, which has all the seeds within.\n",
      "\n",
      "Chitta bhāvanā, or mental cultivation, is about cultivating the mind. The word \"bhavati\" means to practice, to sow, to make it present. Making mindfulness present. When mindfulness is present, correct concentration is present, and wisdom is also present. Chitta bhāvanā is translated as mental cultivation or cultivating the mind.\n",
      "\n",
      "Let us consider a few more concepts: samādhi. Samādhi is a term that means concentration. It is the result of mindfulness and the cause of wisdom. Samādhi in Vietnamese is translated as \"chánh định\", which means correct concentration. Correct concentration firstly means to bring everything back to one place, to bring everything together as putting together. When we have concentration, it means we are no longer scattered here and there, our body here, our mind there, they are separated, each to its own direction. But when there is concentration, we bring all of them back together, and in English, it is called \"putting together\".\n",
      "\n",
      "In the past, the ancestors translated this in various terms. Tâm muội, which is also samādhi. Samādhi is a transcription of samādhi, sometimes translated as \"đẳng trì\". The word \"đẳng\" means equanimity, as in the word \"equality\", it is not inclined or unbalanced, it has equilibrium.\n",
      "\n",
      "Thus, it departs from two states. One is agitation, and two is depression. Depression means it is immersed in a heavy, drowsy state, and agitation means it rises, it feels restless, unable to settle down. Departing from these two states is called equanimity, thus we refer to it as \"equal\".\n",
      "\n",
      "In the case it rises and feels restless, we call it agitation. When it sinks, feeling heavy, we call it lethargy.\n",
      "\n",
      "The Practice of Concentration\n",
      "\n",
      "Concentration means not falling into the two states of agitation and drowsiness. To concentrate is to maintain, to sustain what we focus on. To sustain what? To maintain a state free from distraction, where the mind rests on one and only one object.\n",
      "\n",
      "When a monkey climbs, it grabs one branch, then another, constantly moving without resting. Our mind is like the monkey, not concentrating on a single focus. Thus, we lack concentration. In practice, we must train our mind to focus on one object, and that is called \"sustaining.\"\n",
      "\n",
      "During this time, if our mind does not fall into states of drowsiness or agitation, it is called \"equanimity\" or \"focused concentration.\" Some teachers translate this as \"right effort,\" where the mind straightens and focuses on a particular object of contemplation.\n",
      "\n",
      "The term \"object\" here refers to the focus of our observation, like in the Four Establishments of Mindfulness. The object could be our body, feelings, or mental formations—our \"Dharma.\"\n",
      "\n",
      "In concentration, the object might be the body, feelings, mind, or Dharma. However, the object of our body, if considered too broadly, may become overwhelming. Therefore, we must narrow the scope of our concentration, for example, focusing solely on the heart, without paying attention to the liver or lungs.\n",
      "\n",
      "The more we narrow the focus of our concentration, the stronger its power becomes. Thus, concentration is translated as \"the mind steadily fixed on one object.\"\n",
      "\n",
      "The Mind's Journey to Oneness\n",
      "\n",
      "Our mind longs for the One, a singular object, the One we call Ek. Naturally, we have two very spiritual and particular terms in Buddhism: They are Chỉ and Quán.\n",
      "\n",
      "Chỉ, also known as Samatha, means bringing the mind to stillness, calming it, bringing it to a halt, making it stop and rest. This enables us to focus on a single object. If our mind is scattered, dwelling on irrelevant thoughts, which cause worry, disturbance, or fear, and prevent our mind from being at ease, we breathe in and out, returning to our breath. This practice helps end the fragmentation of thoughts and mind, which is called Chỉ.\n",
      "\n",
      "Even when we are restless, with an unsettled mind causing us anxiety, we breathe in and out to calm it down, making it tranquil and settling it. This too is referred to as Chỉ. This term is also known as calming the formations of our mind, which might be anger, sadness, or worry. When we practice stopping, through contemplation or mindful breathing, we embrace our mental formations with mindfulness, soothing them as a mother holds her child. This is called Samatha, or Chỉ.\n",
      "\n",
      "Thus, Chỉ signifies making the mind stop, easing it, calming it, allowing us the capacity to focus on a single object, known as Chỉ. This term is often accompanied by Quán or Vipassana.\n",
      "\n",
      "Quán, or Vipassana, means penetrating deeply to discover the truth inherent in the object of our contemplation. This can be termed Deep Looking. Such profound insight naturally reveals itself when we practice Deep Looking, providing us with the gift of insight, a profound understanding of the essence of things.\n",
      "\n",
      "This is why Western students and practitioners, hearing the term Vipassana, which is Pali, translate it as Insight Meditation. The term we have used for thousands of years is Quán.\n",
      "\n",
      "We practice stopping, to calm, to let our mind rest upon an object, and we practice looking deeply, seeing beyond the surface to understand the true nature, the reality of what we observe. These are two very important and significant terms in Buddhist practice. This insight from meditation is not exclusive to Buddhism; it appears across many spiritual traditions.\n",
      "\n",
      "In our examination, we only traverse the surface of these terms because we lack the time to delve deeply into their analytical aspects; we have many things to do, much to learn. Yet, this remains the essential practice we must undertake.\n",
      "\n",
      "The Evolution of Buddhist Traditions\n",
      "\n",
      "There are methods of practice, pure methods, that have been present from the time known as Early Buddhism. However, other elements gradually integrated into our Zen tradition and were infused with Buddhist essence, giving them a specific Buddhist content during the learning process. \n",
      "\n",
      "There are three terms we must become familiar with: Early Buddhism, Sectarian Buddhism, and Mahayana Buddhism. Early Buddhism refers to the ancient form of Buddhism during the time of its origin. Following that period, we had Sectarian Buddhism. After certain schisms and developments over several hundred years, Buddhism split into 18 or 20 different schools. \n",
      "\n",
      "Thus, Sectarian Buddhism no longer retained the pure form of Early Buddhism. Sectarian Buddhism developed from Early Buddhism, and it contains aspects of it, but we must discern which elements belong to Early Buddhism and which are later additions from Sectarian Buddhism. The third term is Mahayana Buddhism, which grew out of Sectarian Buddhism, eventually evolving into the Mahayana tradition.\n",
      "\n",
      "Therefore, we have these three stages. It leads us to question: What truly belongs to Early Buddhism? What has been added by Sectarian Buddhism? And what has been contributed by Mahayana Buddhism? This is a valid inquiry. Without research and cultivation, it is difficult to determine what truly belonged to Early Buddhism.\n",
      "\n",
      "Historians, archaeologists, and philologists—philology is the study of languages and historical texts—provide invaluable insights. Archaeologists conduct excavations, historians research and compare sources, and philologists examine different manuscripts, revealing distinct elements.\n",
      "\n",
      "Understanding the Essence of Original Buddhism \n",
      "\n",
      "In our exploration of what constitutes original Buddhism and what has been developed later, we are gradually gaining clearer insights. Presently, there are questions for which we have yet to find definitive answers. There are elements where we can mutually agree that they are 100% part of original Buddhism. For example, the practice of Mindfulness is entirely original. The principles of precepts and mendicancy are likewise considered original Buddhism.\n",
      "\n",
      "However, there are concepts such as the Formless Concentrations, represented by stages like the infinity of space, infinity of perception, nothingness, and neither perception nor non-perception. These raise significant questions. Many sutras discuss these Formless Concentrations, but we understand that they might not be entirely part of original Buddhism. This is because when the Buddha was still practicing under his teachers, Arada Kalama and Uddaka Ramaputta, he mastered these four Formless Concentrations. Yet, he stated that they did not result in liberation from birth and death, so he abandoned them. Nevertheless, later texts assimilated these into canonical teachings.\n",
      "\n",
      "Understanding the Authentic Path\n",
      "\n",
      "Thus, we cannot call it the Original Buddhist Path entirely. It's not 100%. At most, it might be 50%. And perhaps the teachers have said that in the past, the Buddha practiced it, so why don't we practice like the Buddha now? And in doing so, we reintroduce what the Buddha cast aside and give it additional meanings of Buddhism, turning it into a Buddhist entity, giving it the quality of awakening.\n",
      "\n",
      "This might also be true with meditation practices, such as First Jhana, Second Jhana, Third Jhana, and Fourth Jhana—false meditation, true meditation, practice, realization. What is the True Original Path? It remains a significant question. Through study and research, we can identify some elements we can confidently attribute to the True Original Path, 100%. Besides that, there are other elements we cannot assert with certainty, and others we might exclude.\n",
      "\n",
      "For example, when researching the Satipatthana Sutta, I discovered a passage where, due to careless transmission, people connected a segment where the Buddha refuted as ineffective in the scriptures. The Buddha criticized that method of practice in the scripture as ineffective, yet it was included in the scriptures as something we need to practice. If you read the book \"The Path of Realization,\" a study of the Satipatthana Sutta, you will see that passage. This is an example of the research and comparison of texts where we find errors that have occurred in the Buddhist literary tradition due to irresponsible transmission. It's a case of distortion over time.\n",
      "\n",
      "When studying the topic of the living tradition of Buddhist meditation, we examine meditation methods that have been passed down through generations. We always weigh them carefully. We see the development of meditative thought and incorporate practical dharma wheels of practice. This can enhance our faith in our practice—the dharma wheel we know was practiced by generations past. These are the practices that the Patriarchs developed, put into practice, and passed down to us.\n"
     ]
    }
   ],
   "source": [
    "print(full_text)"
   ]
  },
  {
   "cell_type": "code",
   "execution_count": 37,
   "metadata": {},
   "outputs": [],
   "source": [
    "from tnh_scholar.text_processing.clean_parse_tag import write_text_to_file\n",
    "\n",
    "filename = large_file.name\n",
    "write_text_to_file(filename, full_text)"
   ]
  },
  {
   "cell_type": "code",
   "execution_count": 57,
   "metadata": {},
   "outputs": [
    {
     "name": "stderr",
     "output_type": "stream",
     "text": [
      "2025-01-09 19:36:41,889 - tnh.tnh_scholar.ai_text_processing.ai_text_processing - \u001b[1;32mDEBUG\u001b[0m - Created logger with name: tnh.tnh_scholar.ai_text_processing.ai_text_processing\u001b[0m\n"
     ]
    }
   ],
   "source": [
    "lt_num = NumberedText(large_text)"
   ]
  },
  {
   "cell_type": "code",
   "execution_count": 58,
   "metadata": {},
   "outputs": [],
   "source": [
    "lt_num_test = lt_num.get_numbered_segment(1,10)"
   ]
  },
  {
   "cell_type": "code",
   "execution_count": 59,
   "metadata": {},
   "outputs": [
    {
     "name": "stdout",
     "output_type": "stream",
     "text": [
      "1:Thế đại chứng hôm nay là ngày 24 tháng 11 năm 1994, chúng ta đang ở trong khóa mùa đông\n",
      "2:Như quý vị đã biết, đề tài của khóa mùa đông là truyền thống sinh động của thiền tộc trong Đà Bột\n",
      "3:Chữ meditation là tiếng Anh, đã được sử dụng để dịch chữ thiền\n",
      "4:Thiền, nói cho đủ là thiền na, tại vì người ta ưa nói tắt thì người ta bỏ cho na đi, tựa là thiền thôi, tiếng Phạn là gia na\n",
      "5:Và khi mà người Trung Hoa họ đọc chữ gia na thì họ đọc là chan na, chan, rồi họ không bỏ cho na luôn, đọc chan\n",
      "6:chan là tiếng Trung Hoa, thiền là tiếng Việt, thiền là viết như vậy, người Việt đọc là thiền, trong khi đó người Nhật Đất thì đọc là danh\n",
      "7:và trong khi đó thì người Cao Ly đọc là son\n",
      "8:Thì cái gốc của cái chữ Phạn gia na là gia, đó là gốc\n",
      "9:Gia-gia-ti có nghĩa là suy nghĩ, có nghĩa là quan chiếu, có nghĩa là chăm chú về một cái đề tài, và trong đó nó có cái ý nghĩa là suy nghĩ ở trong\n"
     ]
    }
   ],
   "source": [
    "print(lt_num_test)"
   ]
  },
  {
   "cell_type": "code",
   "execution_count": 65,
   "metadata": {},
   "outputs": [
    {
     "data": {
      "text/plain": [
       "[LineSegment(start=1, end=41),\n",
       " LineSegment(start=41, end=81),\n",
       " LineSegment(start=81, end=121),\n",
       " LineSegment(start=121, end=161),\n",
       " LineSegment(start=161, end=201),\n",
       " LineSegment(start=201, end=241),\n",
       " LineSegment(start=241, end=281),\n",
       " LineSegment(start=281, end=321),\n",
       " LineSegment(start=321, end=361),\n",
       " LineSegment(start=361, end=401),\n",
       " LineSegment(start=401, end=441),\n",
       " LineSegment(start=441, end=481),\n",
       " LineSegment(start=481, end=513)]"
      ]
     },
     "execution_count": 65,
     "metadata": {},
     "output_type": "execute_result"
    }
   ],
   "source": [
    "list(lt_num.iter_segments(40, 10))"
   ]
  },
  {
   "cell_type": "code",
   "execution_count": 66,
   "metadata": {},
   "outputs": [
    {
     "name": "stdout",
     "output_type": "stream",
     "text": [
      "1 41\n",
      "41 81\n",
      "81 121\n",
      "121 161\n",
      "161 201\n",
      "201 241\n",
      "241 281\n",
      "281 321\n",
      "321 361\n",
      "361 401\n",
      "401 441\n",
      "441 481\n",
      "481 513\n"
     ]
    }
   ],
   "source": [
    "for start_idx, end_idx in lt_num.iter_segments(40, 40 // 5):\n",
    "    print(start_idx, end_idx)"
   ]
  },
  {
   "cell_type": "code",
   "execution_count": 41,
   "metadata": {},
   "outputs": [],
   "source": [
    "lt_num2 = NumberedText(lt_num_test)"
   ]
  },
  {
   "cell_type": "code",
   "execution_count": 42,
   "metadata": {},
   "outputs": [
    {
     "name": "stdout",
     "output_type": "stream",
     "text": [
      "Thế đại chứng hôm nay là ngày 24 tháng 11 năm 1994, chúng ta đang ở trong khóa mùa đông\n",
      "Như quý vị đã biết, đề tài của khóa mùa đông là truyền thống sinh động của thiền tộc trong Đà Bột\n",
      "Chữ meditation là tiếng Anh, đã được sử dụng để dịch chữ thiền\n",
      "Thiền, nói cho đủ là thiền na, tại vì người ta ưa nói tắt thì người ta bỏ cho na đi, tựa là thiền thôi, tiếng Phạn là gia na\n",
      "Và khi mà người Trung Hoa họ đọc chữ gia na thì họ đọc là chan na, chan, rồi họ không bỏ cho na luôn, đọc chan\n",
      "chan là tiếng Trung Hoa, thiền là tiếng Việt, thiền là viết như vậy, người Việt đọc là thiền, trong khi đó người Nhật Đất thì đọc là danh\n",
      "và trong khi đó thì người Cao Ly đọc là son\n",
      "Thì cái gốc của cái chữ Phạn gia na là gia, đó là gốc\n",
      "Gia-gia-ti có nghĩa là suy nghĩ, có nghĩa là quan chiếu, có nghĩa là chăm chú về một cái đề tài, và trong đó nó có cái ý nghĩa là suy nghĩ ở trong\n"
     ]
    }
   ],
   "source": [
    "print(lt_num2.content)"
   ]
  },
  {
   "cell_type": "code",
   "execution_count": 43,
   "metadata": {},
   "outputs": [],
   "source": [
    "test_sample_viet = lt_num.get_segment(1,100)"
   ]
  },
  {
   "cell_type": "code",
   "execution_count": null,
   "metadata": {},
   "outputs": [],
   "source": []
  },
  {
   "cell_type": "code",
   "execution_count": 45,
   "metadata": {},
   "outputs": [
    {
     "name": "stdout",
     "output_type": "stream",
     "text": [
      "Thế đại chứng hôm nay là ngày 24 tháng 11 năm 1994, chúng ta đang ở trong khóa mùa đông\n",
      "Như quý vị đã biết, đề tài của khóa mùa đông là truyền thống sinh động của thiền tộc trong Đà Bột\n",
      "Chữ meditation là tiếng Anh, đã được sử dụng để dịch chữ thiền\n",
      "Thiền, nói cho đủ là thiền na, tại vì người ta ưa nói tắt thì người ta bỏ cho na đi, tựa là thiền thôi, tiếng Phạn là gia na\n",
      "Và khi mà người Trung Hoa họ đọc chữ gia na thì họ đọc là chan na, chan, rồi họ không bỏ cho na luôn, đọc chan\n",
      "chan là tiếng Trung Hoa, thiền là tiếng Việt, thiền là viết như vậy, người Việt đọc là thiền, trong khi đó người Nhật Đất thì đọc là danh\n",
      "và trong khi đó thì người Cao Ly đọc là son\n",
      "Thì cái gốc của cái chữ Phạn gia na là gia, đó là gốc\n",
      "Gia-gia-ti có nghĩa là suy nghĩ, có nghĩa là quan chiếu, có nghĩa là chăm chú về một cái đề tài, và trong đó nó có cái ý nghĩa là suy nghĩ ở trong\n",
      "Vì vậy cho nên các tổ ngày xưa họ đã dịch thiền là tư duy tu, và tư duy ở đây nó có nghĩa là suy nghĩ\n",
      "Nhưng thường thường chúng ta nghe nói đến thiền tức là không phải suy nghĩ, vì gốc của chữ thiền nó có nghĩa là suy nghĩ ở trong\n",
      "Nhưng mà cái vấn đề đều đọc ra là suy nghĩ cái cách nàng, cái loại suy nghĩ nào, cái loại tư duy nào\n",
      "Trước hết chúng ta nên biết rằng cái chữ thiền gia na nó không phải là cái chữ chỉ được dùng riêng cho cái sự thiền tập trong Đạo Buộc\n",
      "Các giáo phái khác, các truyền thống khác có trước Đạo Buộc và có mặt đồng thời với Đạo Buộc, và sau Đạo Buộc cũng dùng danh từ gia na\n",
      "Vì vậy cho nên gia na thiền không phải chỉ là một cái danh từ được dùng trong Đạo Buộc, đó là một cái danh từ tốt quá\n",
      "Có những trong kinh điển có dùng tới, nhưng mà kinh điển Đạo Buộc dùng những cái danh từ khác nhiều hơn\n",
      "Trong cái thời Đạo Buộc tài thế, thì những cái danh từ khác được dùng nhiều hơn là danh từ thiền\n",
      "Thế rằng trong kinh điển cũng có nhiều danh từ thiền Vì vậy, vào khoảng 100 năm sau ngày Bụt nực dịch thì Dân tử Thiền được dùng nhiều hơn, ngay trong thời đại Đạo Bụt bên Phi, điều này điều đều mình phải biết và mình đã câu hỏi tại sao.\n",
      "Vậy cuối nguyên khi mà Đạo Bụt dùng Dân tử Thiền thì Đạo Bụt cũng cho vào trong Dân tử đó những ý nghĩa của Đạo Bụt.\n",
      "Tại vì những truyền thống ngoài Đạo Bụt, có trước Đạo Bụt, họ cũng dùng những Dân tử đó, nhưng ý nghĩa họ gắn cho Dân tử đó không đồng với ý nghĩa người Phật tự gắn cho Dân tử đó.\n",
      "Nó có nghĩa là có thể có những điểm đồng, nhưng có những điểm khác, ví dụ như Dân tử Luân Hồ, Samsara.\n",
      "Ở trong những truyền thống khác, người ta có thể hiểu cái nghĩa Luân Hồ nó khác, và trong Đạo Bụt, chúng ta có một cái ý nghiệm khác về Luân Hồ.\n",
      "Ví dụ như là ngoài Đạo Bụt, thì người ta có tin vào một cái linh hồn mất tử, và cái quan nhiệm về Luân Hồi ngoài Đạo Bụt, nó được căn cứ trên những ý nghiệm về linh hồn mất tử.\n",
      "Nhưng mà trong Đạo Bụt, chúng ta học giáo lý vô ngã, và vì vậy cho nên Luân Hồi trong Đạo Bụt phải hiểu theo cái yên với cái giáo lý vô ngã.\n",
      "Cho nên cùng một bên tử, nhưng mà trong Đạo Bụt vùng khác, và ngoài Đạo Bụt vùng khác, thì nó cũng vậy.\n",
      "Chúng ta biết rằng trong cái thời gọi là Phận Nhân Thủy, tức là thời mà còn là Đạo Bụt cuối cùng,\n",
      "thì các thầy đã thực tập thiền tòa, các thầy đã thực tập thiền hành, các thầy đã thực tập ăn cơ nghiêm lẳng, các thầy đã thực tập hơi thở, có chánh niệm,\n",
      "và tất cả những cái là thực tập đó, nó là sự thật, và cái tội giác của Bụt cũng như là của các người địa tử,\n",
      "cái tình thương của Bụt và của các người địa tử, cái an là thành thơi của Bụt và địa tử, là nó được phát xuất từ những cái lưới thực tập như vậy.\n",
      "Thì những cái lưới thực tập như vậy, bây giờ mình có thể gọi là thiền tập, nhưng mà mình cũng có thể gọi bằng những cái dân từ khác.\n",
      "Theo sự giải thích của các tổ, thì chữ thiền có nghĩa là quán chú về một cái nữ tượng, the contemplation of a.\n",
      "Đó là nghĩa đầu tiên.\n",
      "Tức là mình lấy một cái sự vật nào đó là một cái nữ tượng, và mình quán chú nó, điều nghiệm vào nó.\n",
      "The contemplation of a given object.\n",
      "Và cái nghĩa thứ hai, nó cũng gần gần như vậy.\n",
      "Tức là mình tới rất gần, mình tiếp xúc rất gần, và mình nhận xét rất gần cái đối tượng đó.\n",
      "Mà cái tướng đối tượng đó nó thuộc về một cái hiện tượng, thuộc về thế giới hiện tượng. Cái thế giới hình tượng đó mình đi sâu được vào cái thế giới bản thêm.\n",
      "Ví dụ như là một đợt sống.\n",
      "Để khi mình quán chiếu cái đợt sống đó một cách rất gần gũi,\n",
      "tiếp xúc với nó rất gần gũi, thì mình khám phá ra được\n",
      "cái bản chất của làn sống, tức lược.\n",
      "Thứ ba, cái niệm của nó là tàn bọ, loại trừ.\n",
      "Tức là trong thiền tập á, mình có chữ tên loại trừ.\n",
      "Những cái chất liệu, những cái yếu tố,\n",
      "nó làm cho mình khổ đau, nó làm cho mình ngang tối,\n",
      "nó làm cho mình ngỏ an, nó làm cho mình bất an.\n",
      "Thiền sư Tân Hồi, sớm vào đầu và giữa thế kỷ thứ ba,\n",
      "Thiền sư Tân Hồi được coi như là tổ sư của Thiền Việt Nam.\n",
      "Âm đại từ kinh An Bang Thủ Y,\n",
      "thì Thầy cũng định nghĩa Thiền là sự loại trừ.\n",
      "Chữ hán là khí.\n",
      "Khí tức là loại trừ, tức eliminate.\n",
      "Có cái động tự tiếng Phạn là giai gia ti.\n",
      "Tiếng Phạn là giáp, giáp ti.\n",
      "Nó có nghĩa là đốt cháy, đơn.\n",
      "Và đó cũng là một cái lối các nghĩa về Thiền của các người tổ sư.\n",
      "Trong thiền tạc đó, thì tâm ý chúng ta,\n",
      "nó đột định lại cho một đối tượng.\n",
      "Và nhờ cái lĩnh lực đó là chúng ta có sức mạnh.\n",
      "Với cái sức mạnh đó, chúng ta có thể đốt cháy được những phim nào.\n",
      "Cái này cũng có nghĩa tương tự như là khí hay loại trừ.\n",
      "Thì hình ảnh đẹp nhất mà chúng ta có thể dùng là hình ảnh của một cái lanh kính,\n",
      "một cái tâm kính.\n",
      "Nó tiếp nhận ánh sáng mặt trời.\n",
      "Rồi thì tất cả những tia sáng đó dồn vào một điểm.\n",
      "Và nếu chúng ta đem cái buồn người ứng vào cái chỗ này,\n",
      "thì cái sức nắng hội tụ của ánh sáng đó sẽ tạo ra một cái tâm tư. Các anh sao mặt trời nó có thể nốt cháy được cái bông cỏ đó\n",
      "Trong thiền tập, nếu chúng ta có định mạnh, những định đó chíu vào những trạng thái hôn nghe, chíu vào những trạng thái phiền não, thì những hôn nghe phiền não đó có thể bị nốt cháy\n",
      "Đó là một nghĩa khác của thiền tập do các vị Tổ sư đưa ra, và nó rất gần với ý niệm khí, tức là loại trực\n",
      "Sẽ nhắc lại ý niệm đầu tức là quan chíu, ý niệm thứ hai là quan sát một cách rất gần gũi thế giới hình tượng\n",
      "Thứ ba là loại trực, những yếu tố tiêu cực, và thứ tư là nốt cháy\n",
      "Tâm trí rất rẻ của thiền tập, nó có ý niệm về tu vi\n",
      "Thầy Nghĩa Nāpunika, Nghĩa Nāpunika bác giả cũng là heart of Buddhist meditation\n",
      "Thầy Nghĩa Nāpunika là một người Đức, đã tu học tại Thích Lan, đã cư trú mấy chục năm tại Forest Hermitage ở Thích Lan\n",
      "Thầy Nghĩa Nāpunika cách đây được chừng một tháng mấy, Thầy đã gọi tránh niệm là cái tim của thiền tập Phật giáo\n",
      "Thầy Nghĩa Nāpunika là một nhà hội giả, lúc Thầy đang lớn tuổi, 80 mấy tuổi, Thầy có tới thăm, ngày xưa khi mà tôi còn làm việc ở tại Paris thì Thầy có tới thăm trụ sở của Pháp Đoàn Phật giáo\n",
      "Và Thầy đã đem cuốn Pháp là một sự tính thức về Thích Lan, và Thầy cho xuất bản sau khi đã đi tửa\n",
      "Tại vì độc giả của nhà xuất bản ở Thích Lan hầu hết là những người theo Đạo Mục 5 Tâm, cho nên khi mà xuất bản cuốn Pháp là một sự tính thức bằng tiếng Anh ở Thích Lan\n",
      "Thì Thầy có xin phép lấy ra khỏi tác phẩm những tư tưởng về Đại Thừa, thì hồi đó tôi gạch đầu đồng ý, tại hồi đó tôi cũng lớn rồi, tôi nói rằng là dòng sông ai muốn tới lấy bao nhiêu nước thì lấy\n",
      "Nói rằng là muốn lấy về để tắm cũng được, muốn lấy về để uống trà cũng được, muốn lấy về để rửa chân cũng được, muốn lấy ít cũng được, muốn lấy nhiều cũng được, không sao cả, thành ra tôi rất hoàn hiển\n",
      "Sau đó thì cuốn Pháp là một sự tính thức được yên bằng tiếng Đức, được dịch được yên bằng tiếng Đức, rồi sau đó mới yên bằng tiếng Anh, rồi tiếp theo là tiếng Thái Lan\n",
      "Thì Thầy Nguyễn Áp Onika đã ở với chúng tôi tại Paris mấy ngày, tôi có nhớ một hôm đưa Thầy đi vào trong công viên Park The Soul, rồi hai người ngồi trên băng ghế đá để mà đàm đào, bây giờ Thầy đã tịch\n",
      "Và theo Thầy Nguyễn Áp Onika thì tên em là trái tim của Thiên Tập Pháp Giáp\n",
      "Tên em là Sati, là Svarti, Sati là tiếng Pali Smriti là tiếng Phạn\n",
      "Chánh niệm là danh từ dân dùng nhiều nhất trong văn học Phật giáo. Nhiều, gấp mấy trăm lần danh từ thiệt.\n",
      "Vì vậy cho nên chúng ta rất thoải mái khi mà chúng ta nghe nói tới chánh niệm như là trái tim của thiền tộc Phật giáo, chứ không phải là những cái khác.\n",
      "Tại vì trong số những cái giáo lý, những cái ý niệm về thiền, nó có tứ thiền, tứ vô sắc định, nó có bác, bố, xã, cửu thứ địa định, vân vân, rất nhiều.\n",
      "Nhưng mà trái tim của thiền tộc Phật giáo vẫn là chánh niệm như thường.\n",
      "Giờ này mình phải biết tình ấm cho vườn.\n",
      "Khi được dạy bài Pháp Thoại đầu tiên cho 5 thầy ở vườn này, thì ngày trường này giáo lý muốn sự thật tới vụ đấy.\n",
      "Và trong cái bài giảng đầu tiên đó, thì ngày cũng có nói về bác chánh đạo, tức là đạo đế.\n",
      "Và trong đạo đế thì chúng ta thấy có chánh niệm.\n",
      "Rồi tiếp theo chánh niệm là tuệ, hay là định là chánh định.\n",
      "Và chánh định thì nó đưa tới chánh kiến, chánh kiến nó tôn đương với tuệ.\n",
      "Và trong cái giáo lý gọi là TÀM HỌC, the three learnings, hay là the three trainings, là chúng ta nói với định và tuệ.\n",
      "Cái năm là một 80 tuổi, nó sắp nhập vẹt, thì trong những bài Pháp Thoại nhắn, ngày thường nói về sự huấn luyện thanh tâm bằng TÀM HỌC, tức là giới, định và tuệ.\n",
      "Nhưng mà trong cái tu học á, thì Thầy khám phá ra rằng giới mà nói ở đây nó tôn đương với niệm.\n",
      "Giới đây nó chỉ là niệm thôi, niệm tức là chánh niệm.\n",
      "Cái điều này chúng ta phải nói đi nói lại hoài, là tại vì ở những chỗ khác á, thì chúng ta cứ nghe niệm, định, huệ, niệm, định, huệ, niệm, định, huệ rất nhiều.\n"
     ]
    }
   ],
   "source": [
    "print(test_sample_viet)"
   ]
  },
  {
   "cell_type": "code",
   "execution_count": 85,
   "metadata": {},
   "outputs": [
    {
     "name": "stderr",
     "output_type": "stream",
     "text": [
      "2025-01-09 21:50:27,002 - tnh.tnh_scholar.ai_text_processing.patterns - \u001b[1;32mDEBUG\u001b[0m - Found pattern file for ID translate_lines_thay_audio at: /Users/phapman/Desktop/tnh-scholar/pattern_repo/translate_lines_thay_audio.md\u001b[0m\n",
      "2025-01-09 21:50:27,006 - tnh.tnh_scholar.ai_text_processing.patterns - \u001b[1;32mDEBUG\u001b[0m - Acquired lock for /Users/phapman/Desktop/tnh-scholar/pattern_repo/translate_lines_thay_audio.md\u001b[0m\n",
      "2025-01-09 21:50:27,007 - tnh.tnh_scholar.ai_text_processing.patterns - \u001b[1;32mDEBUG\u001b[0m - Released lock for /Users/phapman/Desktop/tnh-scholar/pattern_repo/translate_lines_thay_audio.md\u001b[0m\n"
     ]
    },
    {
     "name": "stderr",
     "output_type": "stream",
     "text": [
      "2025-01-09 21:50:27,068 - tnh.tnh_scholar.ai_text_processing.ai_text_processing - \u001b[1;32mDEBUG\u001b[0m - Total lines to translate: 99 | Translation segment size: 5.\u001b[0m\n",
      "2025-01-09 21:50:27,069 - tnh.tnh_scholar.ai_text_processing.ai_text_processing - \u001b[36mINFO\u001b[0m - Translating segment (lines 1-6)\u001b[0m\n",
      "2025-01-09 21:50:27,071 - tnh.tnh_scholar.ai_text_processing.ai_text_processing - \u001b[1;32mDEBUG\u001b[0m - translate_instructions:\n",
      "# Identity and Purpose\n",
      "\n",
      "- You are the world's leading expert at translating Dharma talks transcribed (through AI) from spoken Vietnamese into English.\n",
      "- You are translating a segment of text from a Dharma talk offered by Thich Nhat Hanh (Thay) in Plum Village, France.\n",
      "- You take time to consider carefully your translations. \n",
      "- You map out an entire translation for consistency and correctness, then review it at least 3 times, making improvements as you go. \n",
      "\n",
      "# Input\n",
      "- Preceding lines of the transcript marked 'PRECEDING_CONTEXT' (unless this is the beginning of the transcript).\n",
      "- The transcript segment you need to translate and correct marked with 'TRANSCRIPT_SEGMENT'\n",
      "- Lines following the transcript marked 'FOLLOWING_CONTEXT' (unless this is the end of the transcript):\n",
      "- All lines will be in the format 'X:LINE' where X is the line number.\n",
      "- The text content segments will be in Vietnamese.\n",
      "\n",
      "Example:\n",
      "\n",
      "PRECEDING_CONTEXT\n",
      "lines\n",
      "PRECEDING_CONTEXT\n",
      "\n",
      "TRANSCRIPT_SEGMENT\n",
      "lines\n",
      "TRANSCRIPT_SEGMENT\n",
      "\n",
      "FOLLOWING_CONTEXT\n",
      "lines\n",
      "FOLLOWING_CONTEXT\n",
      "\n",
      "\n",
      "# Task\n",
      "Your task is to:\n",
      "\n",
      "1. Translate each line of the TRANSCRIPT_SEGMENT into correct English in the style of Thay and Plum Village. \n",
      "2. Correct all errors: transcription, grammatical, speaking, and logical.\n",
      "3. If needed, infer Thay's intent in order to correct transcription or speaking errors and to generate a text that most closely matches his meaning, while still giving clear and eloquent English. \n",
      "4. Give the best approximation or contextual guess if the transcript is difficult or unclear. \n",
      "4. Add correct punctuation to create meaning that matches the style and intent.\n",
      "6. Consider adjacent lines for corrections and context when generating a line.\n",
      "7. Each line of translation should be as close as possible a translation of the original line--with the exception of adjustments for corrections and logical flow.\n",
      "7. Some transcription lines may be from sounds such as a bell. These can be marked as [Bell].\n",
      "8. Occasionally the transcriber generates unintelligible text (often in a different language). Mark such lines as [Unintelligible]\n",
      "9. Leave blank/empty lines in place.\n",
      "8. You must faithfully capture Thay's style and presentation while creating a meaningful flow.\n",
      "\n",
      "# Output\n",
      "Present your translation in the following format:\n",
      "\n",
      "TRANSCRIPT_SEGMENT\n",
      "X:Translated and corrected line in English\n",
      "X:Translated and corrected line in English\n",
      "...\n",
      "TRANSCRIPT_SEGMENT\n",
      "\n",
      "(X's are the original line numbers.)\n",
      "# Requirements\n",
      "\n",
      "- Maintain the original line numbers, including the start and end line number.\n",
      "- ONLY translate the TRANSCRIPT_SEGMENT. Do not translate the PRECEDING_CONTENT or FOLLOWING_CONTENT.\n",
      "- If a line doesn't make sense on its own, consider the context from surrounding lines to interpret its meaning correctly.\n",
      "- If you need to significantly change a line to make it logical or grammatically correct, try to keep the core meaning intact.\n",
      "- Your output must match exactly the number of lines, as well as the line numbers, as the original input, even if input lines are empty or contain only whitespace.\n",
      "- Do not add any comments or other formatting, such as ```, ` or any other characters.\n",
      "- Make no comments. \n",
      "\n",
      "# Final Note\n",
      "Remember to consider the context from the preceding and following lines when translating and correcting the main transcript segment. \n",
      "Your goal is to produce a clear, grammatically correct, and logically coherent English translation that accurately represents the original content.\u001b[0m\n",
      "2025-01-09 21:50:27,071 - tnh.tnh_scholar.ai_text_processing.ai_text_processing - \u001b[1;32mDEBUG\u001b[0m - Translation input:\n",
      "TRANSCRIPT_SEGMENT\n",
      "1:Thế đại chứng hôm nay là ngày 24 tháng 11 năm 1994, chúng ta đang ở trong khóa mùa đông\n",
      "2:Như quý vị đã biết, đề tài của khóa mùa đông là truyền thống sinh động của thiền tộc trong Đà Bột\n",
      "3:Chữ meditation là tiếng Anh, đã được sử dụng để dịch chữ thiền\n",
      "4:Thiền, nói cho đủ là thiền na, tại vì người ta ưa nói tắt thì người ta bỏ cho na đi, tựa là thiền thôi, tiếng Phạn là gia na\n",
      "5:Và khi mà người Trung Hoa họ đọc chữ gia na thì họ đọc là chan na, chan, rồi họ không bỏ cho na luôn, đọc chan\n",
      "TRANSCRIPT_SEGMENT\n",
      "\n",
      "FOLLOWING_CONTEXT\n",
      "6:chan là tiếng Trung Hoa, thiền là tiếng Việt, thiền là viết như vậy, người Việt đọc là thiền, trong khi đó người Nhật Đất thì đọc là danh\n",
      "7:và trong khi đó thì người Cao Ly đọc là son\n",
      "8:Thì cái gốc của cái chữ Phạn gia na là gia, đó là gốc\n",
      "FOLLOWING_CONTEXT\n",
      "\u001b[0m\n",
      "2025-01-09 21:50:27,073 - tnh.openai_text_processing - \u001b[36mINFO\u001b[0m - Open AI Text Processing with model 'gpt-4o' started...\u001b[0m\n",
      "2025-01-09 21:50:27,074 - tnh.gpt_interface - \u001b[1;32mDEBUG\u001b[0m - Starting chat completion with response_format=None and max_tokens=751...\u001b[0m\n",
      "2025-01-09 21:50:30,350 - tnh.openai_text_processing - \u001b[1;32mDEBUG\u001b[0m - Full completion:\n",
      "ChatCompletion(id='chatcmpl-Ao2CZ82AlySuIYkfmeY4VF8329ZgG', choices=[Choice(finish_reason='stop', index=0, logprobs=None, message=ChatCompletionMessage(content=\"TRANSCRIPT_SEGMENT\\n1:Dear community, today is the 24th of November, 1994, and we are in the Winter Retreat.\\n2:As you know, the topic of this Winter Retreat is the living tradition of the Zen School in the Da Bi district.\\n3:The word 'meditation' in English has been used to translate the word 'thiền.'\\n4:Thiền, fully said, is 'thiền na,' but since people like to abbreviate, they drop the 'na' and simply say 'thiền.' In Sanskrit, it is 'dhyāna.'\\n5:When the Chinese read the word 'dhyāna,' they pronounce it as 'channa,' which is then shortened to 'chan.'\\nTRANSCRIPT_SEGMENT\", refusal=None, role='assistant', audio=None, function_call=None, tool_calls=None))], created=1736488227, model='gpt-4o-2024-08-06', object='chat.completion', service_tier='default', system_fingerprint='fp_b7d65f1a5b', usage=CompletionUsage(completion_tokens=158, prompt_tokens=981, total_tokens=1139, completion_tokens_details=CompletionTokensDetails(accepted_prediction_tokens=0, audio_tokens=0, reasoning_tokens=0, rejected_prediction_tokens=0), prompt_tokens_details=PromptTokensDetails(audio_tokens=0, cached_tokens=0)))\u001b[0m\n",
      "2025-01-09 21:50:30,351 - tnh.openai_text_processing - \u001b[36mINFO\u001b[0m - Processing completed.\u001b[0m\n",
      "2025-01-09 21:50:30,352 - tnh.tnh_scholar.ai_text_processing.ai_text_processing - \u001b[1;32mDEBUG\u001b[0m - Validated 5 lines from 1 to 5\u001b[0m\n",
      "2025-01-09 21:50:30,353 - tnh.tnh_scholar.ai_text_processing.ai_text_processing - \u001b[36mINFO\u001b[0m - Translating segment (lines 6-11)\u001b[0m\n",
      "2025-01-09 21:50:30,354 - tnh.tnh_scholar.ai_text_processing.ai_text_processing - \u001b[1;32mDEBUG\u001b[0m - Translation input:\n",
      "PRECEDING_CONTEXT\n",
      "3:Chữ meditation là tiếng Anh, đã được sử dụng để dịch chữ thiền\n",
      "4:Thiền, nói cho đủ là thiền na, tại vì người ta ưa nói tắt thì người ta bỏ cho na đi, tựa là thiền thôi, tiếng Phạn là gia na\n",
      "5:Và khi mà người Trung Hoa họ đọc chữ gia na thì họ đọc là chan na, chan, rồi họ không bỏ cho na luôn, đọc chan\n",
      "PRECEDING_CONTEXT\n",
      "\n",
      "TRANSCRIPT_SEGMENT\n",
      "6:chan là tiếng Trung Hoa, thiền là tiếng Việt, thiền là viết như vậy, người Việt đọc là thiền, trong khi đó người Nhật Đất thì đọc là danh\n",
      "7:và trong khi đó thì người Cao Ly đọc là son\n",
      "8:Thì cái gốc của cái chữ Phạn gia na là gia, đó là gốc\n",
      "9:Gia-gia-ti có nghĩa là suy nghĩ, có nghĩa là quan chiếu, có nghĩa là chăm chú về một cái đề tài, và trong đó nó có cái ý nghĩa là suy nghĩ ở trong\n",
      "10:Vì vậy cho nên các tổ ngày xưa họ đã dịch thiền là tư duy tu, và tư duy ở đây nó có nghĩa là suy nghĩ\n",
      "TRANSCRIPT_SEGMENT\n",
      "\n",
      "FOLLOWING_CONTEXT\n",
      "11:Nhưng thường thường chúng ta nghe nói đến thiền tức là không phải suy nghĩ, vì gốc của chữ thiền nó có nghĩa là suy nghĩ ở trong\n",
      "12:Nhưng mà cái vấn đề đều đọc ra là suy nghĩ cái cách nàng, cái loại suy nghĩ nào, cái loại tư duy nào\n",
      "13:Trước hết chúng ta nên biết rằng cái chữ thiền gia na nó không phải là cái chữ chỉ được dùng riêng cho cái sự thiền tập trong Đạo Buộc\n",
      "FOLLOWING_CONTEXT\n",
      "\u001b[0m\n",
      "2025-01-09 21:50:30,355 - tnh.openai_text_processing - \u001b[36mINFO\u001b[0m - Open AI Text Processing with model 'gpt-4o' started...\u001b[0m\n",
      "2025-01-09 21:50:30,355 - tnh.gpt_interface - \u001b[1;32mDEBUG\u001b[0m - Starting chat completion with response_format=None and max_tokens=883...\u001b[0m\n",
      "2025-01-09 21:50:32,995 - tnh.openai_text_processing - \u001b[1;32mDEBUG\u001b[0m - Full completion:\n",
      "ChatCompletion(id='chatcmpl-Ao2CciLXwa90lYa5KtTw71BMHlrp1', choices=[Choice(finish_reason='stop', index=0, logprobs=None, message=ChatCompletionMessage(content='TRANSCRIPT_SEGMENT\\n6:Chan is Chinese, Thiền is Vietnamese, written as such; Vietnamese people read it as Thiền, while the Japanese read it as Zen.\\n7:And at the same time, the Koreans read it as Seon.\\n8:So, the root of the Sanskrit word \"dhyana\" is \"dhya,\" that is the root.\\n9:Dhya-dhyaiti means to think, to contemplate, to focus on a subject, and within it, there is the meaning of thinking internally.\\n10:Therefore, the ancient masters translated Thiền as \"mindful cultivation,\" and here \"mindful\" means to think.\\nTRANSCRIPT_SEGMENT', refusal=None, role='assistant', audio=None, function_call=None, tool_calls=None))], created=1736488230, model='gpt-4o-2024-08-06', object='chat.completion', service_tier='default', system_fingerprint='fp_b7d65f1a5b', usage=CompletionUsage(completion_tokens=141, prompt_tokens=1113, total_tokens=1254, completion_tokens_details=CompletionTokensDetails(accepted_prediction_tokens=0, audio_tokens=0, reasoning_tokens=0, rejected_prediction_tokens=0), prompt_tokens_details=PromptTokensDetails(audio_tokens=0, cached_tokens=0)))\u001b[0m\n",
      "2025-01-09 21:50:32,996 - tnh.openai_text_processing - \u001b[36mINFO\u001b[0m - Processing completed.\u001b[0m\n",
      "2025-01-09 21:50:32,997 - tnh.tnh_scholar.ai_text_processing.ai_text_processing - \u001b[1;32mDEBUG\u001b[0m - Validated 5 lines from 6 to 10\u001b[0m\n",
      "2025-01-09 21:50:32,998 - tnh.tnh_scholar.ai_text_processing.ai_text_processing - \u001b[36mINFO\u001b[0m - Translating segment (lines 11-16)\u001b[0m\n",
      "2025-01-09 21:50:32,999 - tnh.tnh_scholar.ai_text_processing.ai_text_processing - \u001b[1;32mDEBUG\u001b[0m - Translation input:\n",
      "PRECEDING_CONTEXT\n",
      "8:Thì cái gốc của cái chữ Phạn gia na là gia, đó là gốc\n",
      "9:Gia-gia-ti có nghĩa là suy nghĩ, có nghĩa là quan chiếu, có nghĩa là chăm chú về một cái đề tài, và trong đó nó có cái ý nghĩa là suy nghĩ ở trong\n",
      "10:Vì vậy cho nên các tổ ngày xưa họ đã dịch thiền là tư duy tu, và tư duy ở đây nó có nghĩa là suy nghĩ\n",
      "PRECEDING_CONTEXT\n",
      "\n",
      "TRANSCRIPT_SEGMENT\n",
      "11:Nhưng thường thường chúng ta nghe nói đến thiền tức là không phải suy nghĩ, vì gốc của chữ thiền nó có nghĩa là suy nghĩ ở trong\n",
      "12:Nhưng mà cái vấn đề đều đọc ra là suy nghĩ cái cách nàng, cái loại suy nghĩ nào, cái loại tư duy nào\n",
      "13:Trước hết chúng ta nên biết rằng cái chữ thiền gia na nó không phải là cái chữ chỉ được dùng riêng cho cái sự thiền tập trong Đạo Buộc\n",
      "14:Các giáo phái khác, các truyền thống khác có trước Đạo Buộc và có mặt đồng thời với Đạo Buộc, và sau Đạo Buộc cũng dùng danh từ gia na\n",
      "15:Vì vậy cho nên gia na thiền không phải chỉ là một cái danh từ được dùng trong Đạo Buộc, đó là một cái danh từ tốt quá\n",
      "TRANSCRIPT_SEGMENT\n",
      "\n",
      "FOLLOWING_CONTEXT\n",
      "16:Có những trong kinh điển có dùng tới, nhưng mà kinh điển Đạo Buộc dùng những cái danh từ khác nhiều hơn\n",
      "17:Trong cái thời Đạo Buộc tài thế, thì những cái danh từ khác được dùng nhiều hơn là danh từ thiền\n",
      "18:Thế rằng trong kinh điển cũng có nhiều danh từ thiền Vì vậy, vào khoảng 100 năm sau ngày Bụt nực dịch thì Dân tử Thiền được dùng nhiều hơn, ngay trong thời đại Đạo Bụt bên Phi, điều này điều đều mình phải biết và mình đã câu hỏi tại sao.\n",
      "FOLLOWING_CONTEXT\n",
      "\u001b[0m\n",
      "2025-01-09 21:50:33,001 - tnh.openai_text_processing - \u001b[36mINFO\u001b[0m - Open AI Text Processing with model 'gpt-4o' started...\u001b[0m\n",
      "2025-01-09 21:50:33,002 - tnh.gpt_interface - \u001b[1;32mDEBUG\u001b[0m - Starting chat completion with response_format=None and max_tokens=938...\u001b[0m\n",
      "2025-01-09 21:50:35,543 - tnh.openai_text_processing - \u001b[1;32mDEBUG\u001b[0m - Full completion:\n",
      "ChatCompletion(id='chatcmpl-Ao2CfSA6QGWNfSGFWqJl2YanzVPbQ', choices=[Choice(finish_reason='stop', index=0, logprobs=None, message=ChatCompletionMessage(content='TRANSCRIPT_SEGMENT\\n11:But usually when we hear about meditation, it is not about thinking, even though the root of the word meditation does imply inner thinking.\\n12:However, the issue at hand is what kind of thinking, what type of contemplation it is.\\n13:First, we should understand that the word meditation, in its original form, is not exclusive to Buddhist meditation practices.\\n14:Other sects, other traditions that existed before Buddhism, alongside Buddhism, and after Buddhism also used the term meditation.\\n15:Therefore, meditation is not just a term used in Buddhism; it is a very valuable term.\\nTRANSCRIPT_SEGMENT', refusal=None, role='assistant', audio=None, function_call=None, tool_calls=None))], created=1736488233, model='gpt-4o-2024-08-06', object='chat.completion', service_tier='default', system_fingerprint='fp_b7d65f1a5b', usage=CompletionUsage(completion_tokens=131, prompt_tokens=1168, total_tokens=1299, completion_tokens_details=CompletionTokensDetails(accepted_prediction_tokens=0, audio_tokens=0, reasoning_tokens=0, rejected_prediction_tokens=0), prompt_tokens_details=PromptTokensDetails(audio_tokens=0, cached_tokens=0)))\u001b[0m\n",
      "2025-01-09 21:50:35,543 - tnh.openai_text_processing - \u001b[36mINFO\u001b[0m - Processing completed.\u001b[0m\n",
      "2025-01-09 21:50:35,544 - tnh.tnh_scholar.ai_text_processing.ai_text_processing - \u001b[1;32mDEBUG\u001b[0m - Validated 5 lines from 11 to 15\u001b[0m\n",
      "2025-01-09 21:50:35,544 - tnh.tnh_scholar.ai_text_processing.ai_text_processing - \u001b[36mINFO\u001b[0m - Translating segment (lines 16-21)\u001b[0m\n",
      "2025-01-09 21:50:35,545 - tnh.tnh_scholar.ai_text_processing.ai_text_processing - \u001b[1;32mDEBUG\u001b[0m - Translation input:\n",
      "PRECEDING_CONTEXT\n",
      "13:Trước hết chúng ta nên biết rằng cái chữ thiền gia na nó không phải là cái chữ chỉ được dùng riêng cho cái sự thiền tập trong Đạo Buộc\n",
      "14:Các giáo phái khác, các truyền thống khác có trước Đạo Buộc và có mặt đồng thời với Đạo Buộc, và sau Đạo Buộc cũng dùng danh từ gia na\n",
      "15:Vì vậy cho nên gia na thiền không phải chỉ là một cái danh từ được dùng trong Đạo Buộc, đó là một cái danh từ tốt quá\n",
      "PRECEDING_CONTEXT\n",
      "\n",
      "TRANSCRIPT_SEGMENT\n",
      "16:Có những trong kinh điển có dùng tới, nhưng mà kinh điển Đạo Buộc dùng những cái danh từ khác nhiều hơn\n",
      "17:Trong cái thời Đạo Buộc tài thế, thì những cái danh từ khác được dùng nhiều hơn là danh từ thiền\n",
      "18:Thế rằng trong kinh điển cũng có nhiều danh từ thiền Vì vậy, vào khoảng 100 năm sau ngày Bụt nực dịch thì Dân tử Thiền được dùng nhiều hơn, ngay trong thời đại Đạo Bụt bên Phi, điều này điều đều mình phải biết và mình đã câu hỏi tại sao.\n",
      "19:Vậy cuối nguyên khi mà Đạo Bụt dùng Dân tử Thiền thì Đạo Bụt cũng cho vào trong Dân tử đó những ý nghĩa của Đạo Bụt.\n",
      "20:Tại vì những truyền thống ngoài Đạo Bụt, có trước Đạo Bụt, họ cũng dùng những Dân tử đó, nhưng ý nghĩa họ gắn cho Dân tử đó không đồng với ý nghĩa người Phật tự gắn cho Dân tử đó.\n",
      "TRANSCRIPT_SEGMENT\n",
      "\n",
      "FOLLOWING_CONTEXT\n",
      "21:Nó có nghĩa là có thể có những điểm đồng, nhưng có những điểm khác, ví dụ như Dân tử Luân Hồ, Samsara.\n",
      "22:Ở trong những truyền thống khác, người ta có thể hiểu cái nghĩa Luân Hồ nó khác, và trong Đạo Bụt, chúng ta có một cái ý nghiệm khác về Luân Hồ.\n",
      "23:Ví dụ như là ngoài Đạo Bụt, thì người ta có tin vào một cái linh hồn mất tử, và cái quan nhiệm về Luân Hồi ngoài Đạo Bụt, nó được căn cứ trên những ý nghiệm về linh hồn mất tử.\n",
      "FOLLOWING_CONTEXT\n",
      "\u001b[0m\n",
      "2025-01-09 21:50:35,547 - tnh.openai_text_processing - \u001b[36mINFO\u001b[0m - Open AI Text Processing with model 'gpt-4o' started...\u001b[0m\n",
      "2025-01-09 21:50:35,547 - tnh.gpt_interface - \u001b[1;32mDEBUG\u001b[0m - Starting chat completion with response_format=None and max_tokens=1007...\u001b[0m\n",
      "2025-01-09 21:50:38,344 - tnh.openai_text_processing - \u001b[1;32mDEBUG\u001b[0m - Full completion:\n",
      "ChatCompletion(id='chatcmpl-Ao2ChWsuJEgKmiwADiJdD3kdYToWN', choices=[Choice(finish_reason='stop', index=0, logprobs=None, message=ChatCompletionMessage(content='TRANSCRIPT_SEGMENT\\n16:In the scriptures, it is used, but the Buddhist scriptures use other terms more frequently.\\n17:During the time of the historical Buddha, other terms were used more than the term \"meditation.\"\\n18:Yet, within the scriptures, there are many terms related to meditation. Therefore, about 100 years after Buddha\\'s passing, the term \"Zen\" was used more frequently, even during the Buddha\\'s time in India. This is something we must know and question why.\\n19:So, when Buddhism adopted the term \"Zen,\" it also infused it with Buddhist meanings.\\n20:Because traditions outside of Buddhism, that existed before Buddhism, also used those terms, but the meanings they attached to those terms were not the same as the meanings Buddhists attached to them.\\nTRANSCRIPT_SEGMENT', refusal=None, role='assistant', audio=None, function_call=None, tool_calls=None))], created=1736488235, model='gpt-4o-2024-08-06', object='chat.completion', service_tier='default', system_fingerprint='fp_b7d65f1a5b', usage=CompletionUsage(completion_tokens=167, prompt_tokens=1237, total_tokens=1404, completion_tokens_details=CompletionTokensDetails(accepted_prediction_tokens=0, audio_tokens=0, reasoning_tokens=0, rejected_prediction_tokens=0), prompt_tokens_details=PromptTokensDetails(audio_tokens=0, cached_tokens=0)))\u001b[0m\n",
      "2025-01-09 21:50:38,344 - tnh.openai_text_processing - \u001b[36mINFO\u001b[0m - Processing completed.\u001b[0m\n",
      "2025-01-09 21:50:38,345 - tnh.tnh_scholar.ai_text_processing.ai_text_processing - \u001b[1;32mDEBUG\u001b[0m - Validated 5 lines from 16 to 20\u001b[0m\n",
      "2025-01-09 21:50:38,346 - tnh.tnh_scholar.ai_text_processing.ai_text_processing - \u001b[36mINFO\u001b[0m - Translating segment (lines 21-26)\u001b[0m\n",
      "2025-01-09 21:50:38,347 - tnh.tnh_scholar.ai_text_processing.ai_text_processing - \u001b[1;32mDEBUG\u001b[0m - Translation input:\n",
      "PRECEDING_CONTEXT\n",
      "18:Thế rằng trong kinh điển cũng có nhiều danh từ thiền Vì vậy, vào khoảng 100 năm sau ngày Bụt nực dịch thì Dân tử Thiền được dùng nhiều hơn, ngay trong thời đại Đạo Bụt bên Phi, điều này điều đều mình phải biết và mình đã câu hỏi tại sao.\n",
      "19:Vậy cuối nguyên khi mà Đạo Bụt dùng Dân tử Thiền thì Đạo Bụt cũng cho vào trong Dân tử đó những ý nghĩa của Đạo Bụt.\n",
      "20:Tại vì những truyền thống ngoài Đạo Bụt, có trước Đạo Bụt, họ cũng dùng những Dân tử đó, nhưng ý nghĩa họ gắn cho Dân tử đó không đồng với ý nghĩa người Phật tự gắn cho Dân tử đó.\n",
      "PRECEDING_CONTEXT\n",
      "\n",
      "TRANSCRIPT_SEGMENT\n",
      "21:Nó có nghĩa là có thể có những điểm đồng, nhưng có những điểm khác, ví dụ như Dân tử Luân Hồ, Samsara.\n",
      "22:Ở trong những truyền thống khác, người ta có thể hiểu cái nghĩa Luân Hồ nó khác, và trong Đạo Bụt, chúng ta có một cái ý nghiệm khác về Luân Hồ.\n",
      "23:Ví dụ như là ngoài Đạo Bụt, thì người ta có tin vào một cái linh hồn mất tử, và cái quan nhiệm về Luân Hồi ngoài Đạo Bụt, nó được căn cứ trên những ý nghiệm về linh hồn mất tử.\n",
      "24:Nhưng mà trong Đạo Bụt, chúng ta học giáo lý vô ngã, và vì vậy cho nên Luân Hồi trong Đạo Bụt phải hiểu theo cái yên với cái giáo lý vô ngã.\n",
      "25:Cho nên cùng một bên tử, nhưng mà trong Đạo Bụt vùng khác, và ngoài Đạo Bụt vùng khác, thì nó cũng vậy.\n",
      "TRANSCRIPT_SEGMENT\n",
      "\n",
      "FOLLOWING_CONTEXT\n",
      "26:Chúng ta biết rằng trong cái thời gọi là Phận Nhân Thủy, tức là thời mà còn là Đạo Bụt cuối cùng,\n",
      "27:thì các thầy đã thực tập thiền tòa, các thầy đã thực tập thiền hành, các thầy đã thực tập ăn cơ nghiêm lẳng, các thầy đã thực tập hơi thở, có chánh niệm,\n",
      "28:và tất cả những cái là thực tập đó, nó là sự thật, và cái tội giác của Bụt cũng như là của các người địa tử,\n",
      "FOLLOWING_CONTEXT\n",
      "\u001b[0m\n",
      "2025-01-09 21:50:38,347 - tnh.openai_text_processing - \u001b[36mINFO\u001b[0m - Open AI Text Processing with model 'gpt-4o' started...\u001b[0m\n",
      "2025-01-09 21:50:38,348 - tnh.gpt_interface - \u001b[1;32mDEBUG\u001b[0m - Starting chat completion with response_format=None and max_tokens=1040...\u001b[0m\n",
      "2025-01-09 21:50:41,087 - tnh.openai_text_processing - \u001b[1;32mDEBUG\u001b[0m - Full completion:\n",
      "ChatCompletion(id='chatcmpl-Ao2CklLG5xUezwh149DL1YllhNfcZ', choices=[Choice(finish_reason='stop', index=0, logprobs=None, message=ChatCompletionMessage(content='TRANSCRIPT_SEGMENT\\n21:This means that there may be some points of agreement, but there are also differences, for example, the term Samsara.\\n22:In other traditions, people might understand the meaning of Samsara differently, and in Buddhism, we have a different interpretation of Samsara.\\n23:For instance, outside of Buddhism, people might believe in an eternal soul, and the concept of Samsara outside of Buddhism is based on these ideas about an eternal soul.\\n24:However, in Buddhism, we learn the teaching of non-self, and therefore Samsara in Buddhism must be understood in alignment with the teaching of non-self.\\n25:So, even with the same term, in Buddhism it is understood differently, and outside of Buddhism, it is understood differently, just like that.\\nTRANSCRIPT_SEGMENT', refusal=None, role='assistant', audio=None, function_call=None, tool_calls=None))], created=1736488238, model='gpt-4o-2024-08-06', object='chat.completion', service_tier='default', system_fingerprint='fp_b7d65f1a5b', usage=CompletionUsage(completion_tokens=165, prompt_tokens=1270, total_tokens=1435, completion_tokens_details=CompletionTokensDetails(accepted_prediction_tokens=0, audio_tokens=0, reasoning_tokens=0, rejected_prediction_tokens=0), prompt_tokens_details=PromptTokensDetails(audio_tokens=0, cached_tokens=1152)))\u001b[0m\n",
      "2025-01-09 21:50:41,088 - tnh.openai_text_processing - \u001b[36mINFO\u001b[0m - Processing completed.\u001b[0m\n",
      "2025-01-09 21:50:41,089 - tnh.tnh_scholar.ai_text_processing.ai_text_processing - \u001b[1;32mDEBUG\u001b[0m - Validated 5 lines from 21 to 25\u001b[0m\n",
      "2025-01-09 21:50:41,091 - tnh.tnh_scholar.ai_text_processing.ai_text_processing - \u001b[36mINFO\u001b[0m - Translating segment (lines 26-31)\u001b[0m\n",
      "2025-01-09 21:50:41,093 - tnh.tnh_scholar.ai_text_processing.ai_text_processing - \u001b[1;32mDEBUG\u001b[0m - Translation input:\n",
      "PRECEDING_CONTEXT\n",
      "23:Ví dụ như là ngoài Đạo Bụt, thì người ta có tin vào một cái linh hồn mất tử, và cái quan nhiệm về Luân Hồi ngoài Đạo Bụt, nó được căn cứ trên những ý nghiệm về linh hồn mất tử.\n",
      "24:Nhưng mà trong Đạo Bụt, chúng ta học giáo lý vô ngã, và vì vậy cho nên Luân Hồi trong Đạo Bụt phải hiểu theo cái yên với cái giáo lý vô ngã.\n",
      "25:Cho nên cùng một bên tử, nhưng mà trong Đạo Bụt vùng khác, và ngoài Đạo Bụt vùng khác, thì nó cũng vậy.\n",
      "PRECEDING_CONTEXT\n",
      "\n",
      "TRANSCRIPT_SEGMENT\n",
      "26:Chúng ta biết rằng trong cái thời gọi là Phận Nhân Thủy, tức là thời mà còn là Đạo Bụt cuối cùng,\n",
      "27:thì các thầy đã thực tập thiền tòa, các thầy đã thực tập thiền hành, các thầy đã thực tập ăn cơ nghiêm lẳng, các thầy đã thực tập hơi thở, có chánh niệm,\n",
      "28:và tất cả những cái là thực tập đó, nó là sự thật, và cái tội giác của Bụt cũng như là của các người địa tử,\n",
      "29:cái tình thương của Bụt và của các người địa tử, cái an là thành thơi của Bụt và địa tử, là nó được phát xuất từ những cái lưới thực tập như vậy.\n",
      "30:Thì những cái lưới thực tập như vậy, bây giờ mình có thể gọi là thiền tập, nhưng mà mình cũng có thể gọi bằng những cái dân từ khác.\n",
      "TRANSCRIPT_SEGMENT\n",
      "\n",
      "FOLLOWING_CONTEXT\n",
      "31:Theo sự giải thích của các tổ, thì chữ thiền có nghĩa là quán chú về một cái nữ tượng, the contemplation of a.\n",
      "32:Đó là nghĩa đầu tiên.\n",
      "33:Tức là mình lấy một cái sự vật nào đó là một cái nữ tượng, và mình quán chú nó, điều nghiệm vào nó.\n",
      "FOLLOWING_CONTEXT\n",
      "\u001b[0m\n",
      "2025-01-09 21:50:41,099 - tnh.openai_text_processing - \u001b[36mINFO\u001b[0m - Open AI Text Processing with model 'gpt-4o' started...\u001b[0m\n",
      "2025-01-09 21:50:41,099 - tnh.gpt_interface - \u001b[1;32mDEBUG\u001b[0m - Starting chat completion with response_format=None and max_tokens=949...\u001b[0m\n",
      "2025-01-09 21:50:43,237 - tnh.openai_text_processing - \u001b[1;32mDEBUG\u001b[0m - Full completion:\n",
      "ChatCompletion(id='chatcmpl-Ao2Cn7pERgBNjV156mh5Z39ErPhVr', choices=[Choice(finish_reason='stop', index=0, logprobs=None, message=ChatCompletionMessage(content='TRANSCRIPT_SEGMENT\\n26:We know that in the time called the Primitive Buddhism, that is the time when Buddhism was still in its pure form,\\n27:the monks practiced sitting meditation, walking meditation, eating in silence, and mindful breathing,\\n28:and all those practices are the truth, and the enlightenment of the Buddha as well as that of his disciples,\\n29:the love of the Buddha and his disciples, the peace and liberation of the Buddha and his disciples, arose from such a web of practice.\\n30:These practices, now we can call them meditation, but we can also call them by other names.\\nTRANSCRIPT_SEGMENT', refusal=None, role='assistant', audio=None, function_call=None, tool_calls=None))], created=1736488241, model='gpt-4o-2024-08-06', object='chat.completion', service_tier='default', system_fingerprint='fp_b7d65f1a5b', usage=CompletionUsage(completion_tokens=131, prompt_tokens=1179, total_tokens=1310, completion_tokens_details=CompletionTokensDetails(accepted_prediction_tokens=0, audio_tokens=0, reasoning_tokens=0, rejected_prediction_tokens=0), prompt_tokens_details=PromptTokensDetails(audio_tokens=0, cached_tokens=0)))\u001b[0m\n",
      "2025-01-09 21:50:43,238 - tnh.openai_text_processing - \u001b[36mINFO\u001b[0m - Processing completed.\u001b[0m\n",
      "2025-01-09 21:50:43,238 - tnh.tnh_scholar.ai_text_processing.ai_text_processing - \u001b[1;32mDEBUG\u001b[0m - Validated 5 lines from 26 to 30\u001b[0m\n",
      "2025-01-09 21:50:43,239 - tnh.tnh_scholar.ai_text_processing.ai_text_processing - \u001b[36mINFO\u001b[0m - Translating segment (lines 31-36)\u001b[0m\n",
      "2025-01-09 21:50:43,240 - tnh.tnh_scholar.ai_text_processing.ai_text_processing - \u001b[1;32mDEBUG\u001b[0m - Translation input:\n",
      "PRECEDING_CONTEXT\n",
      "28:và tất cả những cái là thực tập đó, nó là sự thật, và cái tội giác của Bụt cũng như là của các người địa tử,\n",
      "29:cái tình thương của Bụt và của các người địa tử, cái an là thành thơi của Bụt và địa tử, là nó được phát xuất từ những cái lưới thực tập như vậy.\n",
      "30:Thì những cái lưới thực tập như vậy, bây giờ mình có thể gọi là thiền tập, nhưng mà mình cũng có thể gọi bằng những cái dân từ khác.\n",
      "PRECEDING_CONTEXT\n",
      "\n",
      "TRANSCRIPT_SEGMENT\n",
      "31:Theo sự giải thích của các tổ, thì chữ thiền có nghĩa là quán chú về một cái nữ tượng, the contemplation of a.\n",
      "32:Đó là nghĩa đầu tiên.\n",
      "33:Tức là mình lấy một cái sự vật nào đó là một cái nữ tượng, và mình quán chú nó, điều nghiệm vào nó.\n",
      "34:The contemplation of a given object.\n",
      "35:Và cái nghĩa thứ hai, nó cũng gần gần như vậy.\n",
      "TRANSCRIPT_SEGMENT\n",
      "\n",
      "FOLLOWING_CONTEXT\n",
      "36:Tức là mình tới rất gần, mình tiếp xúc rất gần, và mình nhận xét rất gần cái đối tượng đó.\n",
      "37:Mà cái tướng đối tượng đó nó thuộc về một cái hiện tượng, thuộc về thế giới hiện tượng. Cái thế giới hình tượng đó mình đi sâu được vào cái thế giới bản thêm.\n",
      "38:Ví dụ như là một đợt sống.\n",
      "FOLLOWING_CONTEXT\n",
      "\u001b[0m\n",
      "2025-01-09 21:50:43,241 - tnh.openai_text_processing - \u001b[36mINFO\u001b[0m - Open AI Text Processing with model 'gpt-4o' started...\u001b[0m\n",
      "2025-01-09 21:50:43,241 - tnh.gpt_interface - \u001b[1;32mDEBUG\u001b[0m - Starting chat completion with response_format=None and max_tokens=823...\u001b[0m\n",
      "2025-01-09 21:50:44,985 - tnh.openai_text_processing - \u001b[1;32mDEBUG\u001b[0m - Full completion:\n",
      "ChatCompletion(id='chatcmpl-Ao2CpKbuaQQGwyQfZ4AG5pIG8s4je', choices=[Choice(finish_reason='stop', index=0, logprobs=None, message=ChatCompletionMessage(content='TRANSCRIPT_SEGMENT\\n31:According to the explanations of the patriarchs, the word meditation means the contemplation of a form, the contemplation of a.\\n32:That is the first meaning.\\n33:It means taking an object as a subject of observation, and contemplating it, deeply examining it.\\n34:The contemplation of a given object.\\n35:And the second meaning is quite similar.\\nTRANSCRIPT_SEGMENT', refusal=None, role='assistant', audio=None, function_call=None, tool_calls=None))], created=1736488243, model='gpt-4o-2024-08-06', object='chat.completion', service_tier='default', system_fingerprint='fp_b7d65f1a5b', usage=CompletionUsage(completion_tokens=83, prompt_tokens=1053, total_tokens=1136, completion_tokens_details=CompletionTokensDetails(accepted_prediction_tokens=0, audio_tokens=0, reasoning_tokens=0, rejected_prediction_tokens=0), prompt_tokens_details=PromptTokensDetails(audio_tokens=0, cached_tokens=0)))\u001b[0m\n",
      "2025-01-09 21:50:44,986 - tnh.openai_text_processing - \u001b[36mINFO\u001b[0m - Processing completed.\u001b[0m\n",
      "2025-01-09 21:50:44,986 - tnh.tnh_scholar.ai_text_processing.ai_text_processing - \u001b[1;32mDEBUG\u001b[0m - Validated 5 lines from 31 to 35\u001b[0m\n",
      "2025-01-09 21:50:44,987 - tnh.tnh_scholar.ai_text_processing.ai_text_processing - \u001b[36mINFO\u001b[0m - Translating segment (lines 36-41)\u001b[0m\n",
      "2025-01-09 21:50:44,988 - tnh.tnh_scholar.ai_text_processing.ai_text_processing - \u001b[1;32mDEBUG\u001b[0m - Translation input:\n",
      "PRECEDING_CONTEXT\n",
      "33:Tức là mình lấy một cái sự vật nào đó là một cái nữ tượng, và mình quán chú nó, điều nghiệm vào nó.\n",
      "34:The contemplation of a given object.\n",
      "35:Và cái nghĩa thứ hai, nó cũng gần gần như vậy.\n",
      "PRECEDING_CONTEXT\n",
      "\n",
      "TRANSCRIPT_SEGMENT\n",
      "36:Tức là mình tới rất gần, mình tiếp xúc rất gần, và mình nhận xét rất gần cái đối tượng đó.\n",
      "37:Mà cái tướng đối tượng đó nó thuộc về một cái hiện tượng, thuộc về thế giới hiện tượng. Cái thế giới hình tượng đó mình đi sâu được vào cái thế giới bản thêm.\n",
      "38:Ví dụ như là một đợt sống.\n",
      "39:Để khi mình quán chiếu cái đợt sống đó một cách rất gần gũi,\n",
      "40:tiếp xúc với nó rất gần gũi, thì mình khám phá ra được\n",
      "TRANSCRIPT_SEGMENT\n",
      "\n",
      "FOLLOWING_CONTEXT\n",
      "41:cái bản chất của làn sống, tức lược.\n",
      "42:Thứ ba, cái niệm của nó là tàn bọ, loại trừ.\n",
      "43:Tức là trong thiền tập á, mình có chữ tên loại trừ.\n",
      "FOLLOWING_CONTEXT\n",
      "\u001b[0m\n",
      "2025-01-09 21:50:44,989 - tnh.openai_text_processing - \u001b[36mINFO\u001b[0m - Open AI Text Processing with model 'gpt-4o' started...\u001b[0m\n",
      "2025-01-09 21:50:44,989 - tnh.gpt_interface - \u001b[1;32mDEBUG\u001b[0m - Starting chat completion with response_format=None and max_tokens=759...\u001b[0m\n",
      "2025-01-09 21:50:46,961 - tnh.openai_text_processing - \u001b[1;32mDEBUG\u001b[0m - Full completion:\n",
      "ChatCompletion(id='chatcmpl-Ao2CrLOaYKiZLjp35ZYOV5BwgoC35', choices=[Choice(finish_reason='stop', index=0, logprobs=None, message=ChatCompletionMessage(content='TRANSCRIPT_SEGMENT\\n36:It means that we come very close, we engage very intimately, and we observe that object very closely.\\n37:This aspect of the object belongs to a phenomenon, belonging to the world of phenomena. In the world of images, we can delve deeply into the world of their essence.\\n38:For example, a wave.\\n39:When we contemplate the wave very intimately,\\n40:engage with it very intimately, we discover\\nTRANSCRIPT_SEGMENT', refusal=None, role='assistant', audio=None, function_call=None, tool_calls=None))], created=1736488245, model='gpt-4o-2024-08-06', object='chat.completion', service_tier='default', system_fingerprint='fp_b7d65f1a5b', usage=CompletionUsage(completion_tokens=99, prompt_tokens=989, total_tokens=1088, completion_tokens_details=CompletionTokensDetails(accepted_prediction_tokens=0, audio_tokens=0, reasoning_tokens=0, rejected_prediction_tokens=0), prompt_tokens_details=PromptTokensDetails(audio_tokens=0, cached_tokens=0)))\u001b[0m\n",
      "2025-01-09 21:50:46,963 - tnh.openai_text_processing - \u001b[36mINFO\u001b[0m - Processing completed.\u001b[0m\n",
      "2025-01-09 21:50:46,965 - tnh.tnh_scholar.ai_text_processing.ai_text_processing - \u001b[1;32mDEBUG\u001b[0m - Validated 5 lines from 36 to 40\u001b[0m\n",
      "2025-01-09 21:50:46,966 - tnh.tnh_scholar.ai_text_processing.ai_text_processing - \u001b[36mINFO\u001b[0m - Translating segment (lines 41-46)\u001b[0m\n",
      "2025-01-09 21:50:46,967 - tnh.tnh_scholar.ai_text_processing.ai_text_processing - \u001b[1;32mDEBUG\u001b[0m - Translation input:\n",
      "PRECEDING_CONTEXT\n",
      "38:Ví dụ như là một đợt sống.\n",
      "39:Để khi mình quán chiếu cái đợt sống đó một cách rất gần gũi,\n",
      "40:tiếp xúc với nó rất gần gũi, thì mình khám phá ra được\n",
      "PRECEDING_CONTEXT\n",
      "\n",
      "TRANSCRIPT_SEGMENT\n",
      "41:cái bản chất của làn sống, tức lược.\n",
      "42:Thứ ba, cái niệm của nó là tàn bọ, loại trừ.\n",
      "43:Tức là trong thiền tập á, mình có chữ tên loại trừ.\n",
      "44:Những cái chất liệu, những cái yếu tố,\n",
      "45:nó làm cho mình khổ đau, nó làm cho mình ngang tối,\n",
      "TRANSCRIPT_SEGMENT\n",
      "\n",
      "FOLLOWING_CONTEXT\n",
      "46:nó làm cho mình ngỏ an, nó làm cho mình bất an.\n",
      "47:Thiền sư Tân Hồi, sớm vào đầu và giữa thế kỷ thứ ba,\n",
      "48:Thiền sư Tân Hồi được coi như là tổ sư của Thiền Việt Nam.\n",
      "FOLLOWING_CONTEXT\n",
      "\u001b[0m\n",
      "2025-01-09 21:50:46,968 - tnh.openai_text_processing - \u001b[36mINFO\u001b[0m - Open AI Text Processing with model 'gpt-4o' started...\u001b[0m\n",
      "2025-01-09 21:50:46,969 - tnh.gpt_interface - \u001b[1;32mDEBUG\u001b[0m - Starting chat completion with response_format=None and max_tokens=730...\u001b[0m\n",
      "2025-01-09 21:50:48,955 - tnh.openai_text_processing - \u001b[1;32mDEBUG\u001b[0m - Full completion:\n",
      "ChatCompletion(id='chatcmpl-Ao2CtJy1vY39kUohqI8EG5cPWcFsl', choices=[Choice(finish_reason='stop', index=0, logprobs=None, message=ChatCompletionMessage(content='TRANSCRIPT_SEGMENT\\n41:the true nature of the wave, which is impermanent.\\n42:Thirdly, its notion is to wipe out or eliminate.\\n43:In meditation practice, we have the concept of elimination.\\n44:These materials, these elements,\\n45:that cause us suffering, that bring us darkness,\\nTRANSCRIPT_SEGMENT', refusal=None, role='assistant', audio=None, function_call=None, tool_calls=None))], created=1736488247, model='gpt-4o-2024-08-06', object='chat.completion', service_tier='default', system_fingerprint='fp_b7d65f1a5b', usage=CompletionUsage(completion_tokens=71, prompt_tokens=960, total_tokens=1031, completion_tokens_details=CompletionTokensDetails(accepted_prediction_tokens=0, audio_tokens=0, reasoning_tokens=0, rejected_prediction_tokens=0), prompt_tokens_details=PromptTokensDetails(audio_tokens=0, cached_tokens=0)))\u001b[0m\n",
      "2025-01-09 21:50:48,956 - tnh.openai_text_processing - \u001b[36mINFO\u001b[0m - Processing completed.\u001b[0m\n",
      "2025-01-09 21:50:48,957 - tnh.tnh_scholar.ai_text_processing.ai_text_processing - \u001b[1;32mDEBUG\u001b[0m - Validated 5 lines from 41 to 45\u001b[0m\n",
      "2025-01-09 21:50:48,957 - tnh.tnh_scholar.ai_text_processing.ai_text_processing - \u001b[36mINFO\u001b[0m - Translating segment (lines 46-51)\u001b[0m\n",
      "2025-01-09 21:50:48,958 - tnh.tnh_scholar.ai_text_processing.ai_text_processing - \u001b[1;32mDEBUG\u001b[0m - Translation input:\n",
      "PRECEDING_CONTEXT\n",
      "43:Tức là trong thiền tập á, mình có chữ tên loại trừ.\n",
      "44:Những cái chất liệu, những cái yếu tố,\n",
      "45:nó làm cho mình khổ đau, nó làm cho mình ngang tối,\n",
      "PRECEDING_CONTEXT\n",
      "\n",
      "TRANSCRIPT_SEGMENT\n",
      "46:nó làm cho mình ngỏ an, nó làm cho mình bất an.\n",
      "47:Thiền sư Tân Hồi, sớm vào đầu và giữa thế kỷ thứ ba,\n",
      "48:Thiền sư Tân Hồi được coi như là tổ sư của Thiền Việt Nam.\n",
      "49:Âm đại từ kinh An Bang Thủ Y,\n",
      "50:thì Thầy cũng định nghĩa Thiền là sự loại trừ.\n",
      "TRANSCRIPT_SEGMENT\n",
      "\n",
      "FOLLOWING_CONTEXT\n",
      "51:Chữ hán là khí.\n",
      "52:Khí tức là loại trừ, tức eliminate.\n",
      "53:Có cái động tự tiếng Phạn là giai gia ti.\n",
      "FOLLOWING_CONTEXT\n",
      "\u001b[0m\n",
      "2025-01-09 21:50:48,959 - tnh.openai_text_processing - \u001b[36mINFO\u001b[0m - Open AI Text Processing with model 'gpt-4o' started...\u001b[0m\n",
      "2025-01-09 21:50:48,959 - tnh.gpt_interface - \u001b[1;32mDEBUG\u001b[0m - Starting chat completion with response_format=None and max_tokens=706...\u001b[0m\n",
      "2025-01-09 21:50:51,672 - tnh.openai_text_processing - \u001b[1;32mDEBUG\u001b[0m - Full completion:\n",
      "ChatCompletion(id='chatcmpl-Ao2CvSSDN3r0XZnnGVObyRWnJJC6E', choices=[Choice(finish_reason='stop', index=0, logprobs=None, message=ChatCompletionMessage(content='TRANSCRIPT_SEGMENT\\n46:it makes us troubled, and it makes us insecure.\\n47:Zen master Tan Hoi, early in the first half of the third century,\\n48:Zen master Tan Hoi is regarded as the patriarch of Vietnamese Zen.\\n49:In the text An Bang Thủ Y Sutra,\\n50:he also defines Zen as elimination.\\nTRANSCRIPT_SEGMENT', refusal=None, role='assistant', audio=None, function_call=None, tool_calls=None))], created=1736488249, model='gpt-4o-2024-08-06', object='chat.completion', service_tier='default', system_fingerprint='fp_703d4ff298', usage=CompletionUsage(completion_tokens=79, prompt_tokens=936, total_tokens=1015, completion_tokens_details=CompletionTokensDetails(accepted_prediction_tokens=0, audio_tokens=0, reasoning_tokens=0, rejected_prediction_tokens=0), prompt_tokens_details=PromptTokensDetails(audio_tokens=0, cached_tokens=0)))\u001b[0m\n",
      "2025-01-09 21:50:51,673 - tnh.openai_text_processing - \u001b[36mINFO\u001b[0m - Processing completed.\u001b[0m\n",
      "2025-01-09 21:50:51,674 - tnh.tnh_scholar.ai_text_processing.ai_text_processing - \u001b[1;32mDEBUG\u001b[0m - Validated 5 lines from 46 to 50\u001b[0m\n",
      "2025-01-09 21:50:51,675 - tnh.tnh_scholar.ai_text_processing.ai_text_processing - \u001b[36mINFO\u001b[0m - Translating segment (lines 51-56)\u001b[0m\n",
      "2025-01-09 21:50:51,678 - tnh.tnh_scholar.ai_text_processing.ai_text_processing - \u001b[1;32mDEBUG\u001b[0m - Translation input:\n",
      "PRECEDING_CONTEXT\n",
      "48:Thiền sư Tân Hồi được coi như là tổ sư của Thiền Việt Nam.\n",
      "49:Âm đại từ kinh An Bang Thủ Y,\n",
      "50:thì Thầy cũng định nghĩa Thiền là sự loại trừ.\n",
      "PRECEDING_CONTEXT\n",
      "\n",
      "TRANSCRIPT_SEGMENT\n",
      "51:Chữ hán là khí.\n",
      "52:Khí tức là loại trừ, tức eliminate.\n",
      "53:Có cái động tự tiếng Phạn là giai gia ti.\n",
      "54:Tiếng Phạn là giáp, giáp ti.\n",
      "55:Nó có nghĩa là đốt cháy, đơn.\n",
      "TRANSCRIPT_SEGMENT\n",
      "\n",
      "FOLLOWING_CONTEXT\n",
      "56:Và đó cũng là một cái lối các nghĩa về Thiền của các người tổ sư.\n",
      "57:Trong thiền tạc đó, thì tâm ý chúng ta,\n",
      "58:nó đột định lại cho một đối tượng.\n",
      "FOLLOWING_CONTEXT\n",
      "\u001b[0m\n",
      "2025-01-09 21:50:51,680 - tnh.openai_text_processing - \u001b[36mINFO\u001b[0m - Open AI Text Processing with model 'gpt-4o' started...\u001b[0m\n",
      "2025-01-09 21:50:51,680 - tnh.gpt_interface - \u001b[1;32mDEBUG\u001b[0m - Starting chat completion with response_format=None and max_tokens=695...\u001b[0m\n",
      "2025-01-09 21:50:53,054 - tnh.openai_text_processing - \u001b[1;32mDEBUG\u001b[0m - Full completion:\n",
      "ChatCompletion(id='chatcmpl-Ao2CxirxgofZKO5S5W1ms6Gam0wsT', choices=[Choice(finish_reason='stop', index=0, logprobs=None, message=ChatCompletionMessage(content='TRANSCRIPT_SEGMENT\\n51:The Chinese character is \"khí.\"\\n52:\"Khí\" means to eliminate, that is, to remove.\\n53:There is a Sanskrit verb \"gayi jnati.\"\\n54:\"Jnati\" in Sanskrit means to burn.\\n55:It has the meaning of incinerate, remove.\\nTRANSCRIPT_SEGMENT', refusal=None, role='assistant', audio=None, function_call=None, tool_calls=None))], created=1736488251, model='gpt-4o-2024-08-06', object='chat.completion', service_tier='default', system_fingerprint='fp_b7d65f1a5b', usage=CompletionUsage(completion_tokens=72, prompt_tokens=925, total_tokens=997, completion_tokens_details=CompletionTokensDetails(accepted_prediction_tokens=0, audio_tokens=0, reasoning_tokens=0, rejected_prediction_tokens=0), prompt_tokens_details=PromptTokensDetails(audio_tokens=0, cached_tokens=0)))\u001b[0m\n",
      "2025-01-09 21:50:53,055 - tnh.openai_text_processing - \u001b[36mINFO\u001b[0m - Processing completed.\u001b[0m\n",
      "2025-01-09 21:50:53,056 - tnh.tnh_scholar.ai_text_processing.ai_text_processing - \u001b[1;32mDEBUG\u001b[0m - Validated 5 lines from 51 to 55\u001b[0m\n",
      "2025-01-09 21:50:53,057 - tnh.tnh_scholar.ai_text_processing.ai_text_processing - \u001b[36mINFO\u001b[0m - Translating segment (lines 56-61)\u001b[0m\n",
      "2025-01-09 21:50:53,060 - tnh.tnh_scholar.ai_text_processing.ai_text_processing - \u001b[1;32mDEBUG\u001b[0m - Translation input:\n",
      "PRECEDING_CONTEXT\n",
      "53:Có cái động tự tiếng Phạn là giai gia ti.\n",
      "54:Tiếng Phạn là giáp, giáp ti.\n",
      "55:Nó có nghĩa là đốt cháy, đơn.\n",
      "PRECEDING_CONTEXT\n",
      "\n",
      "TRANSCRIPT_SEGMENT\n",
      "56:Và đó cũng là một cái lối các nghĩa về Thiền của các người tổ sư.\n",
      "57:Trong thiền tạc đó, thì tâm ý chúng ta,\n",
      "58:nó đột định lại cho một đối tượng.\n",
      "59:Và nhờ cái lĩnh lực đó là chúng ta có sức mạnh.\n",
      "60:Với cái sức mạnh đó, chúng ta có thể đốt cháy được những phim nào.\n",
      "TRANSCRIPT_SEGMENT\n",
      "\n",
      "FOLLOWING_CONTEXT\n",
      "61:Cái này cũng có nghĩa tương tự như là khí hay loại trừ.\n",
      "62:Thì hình ảnh đẹp nhất mà chúng ta có thể dùng là hình ảnh của một cái lanh kính,\n",
      "63:một cái tâm kính.\n",
      "FOLLOWING_CONTEXT\n",
      "\u001b[0m\n",
      "2025-01-09 21:50:53,063 - tnh.openai_text_processing - \u001b[36mINFO\u001b[0m - Open AI Text Processing with model 'gpt-4o' started...\u001b[0m\n",
      "2025-01-09 21:50:53,064 - tnh.gpt_interface - \u001b[1;32mDEBUG\u001b[0m - Starting chat completion with response_format=None and max_tokens=707...\u001b[0m\n",
      "2025-01-09 21:50:55,301 - tnh.openai_text_processing - \u001b[1;32mDEBUG\u001b[0m - Full completion:\n",
      "ChatCompletion(id='chatcmpl-Ao2Cz9A1OdztJJXHhVJiqf9NooGXI', choices=[Choice(finish_reason='stop', index=0, logprobs=None, message=ChatCompletionMessage(content='TRANSCRIPT_SEGMENT\\n56:And that is also a way the teachings about Zen by the ancestral teachers.\\n57:In that Zen practice, our mind,\\n58:it becomes concentrated on one object.\\n59:And with that concentration, we gain strength.\\n60:With that strength, we can burn away any afflictions.\\nTRANSCRIPT_SEGMENT', refusal=None, role='assistant', audio=None, function_call=None, tool_calls=None))], created=1736488253, model='gpt-4o-2024-08-06', object='chat.completion', service_tier='default', system_fingerprint='fp_703d4ff298', usage=CompletionUsage(completion_tokens=72, prompt_tokens=937, total_tokens=1009, completion_tokens_details=CompletionTokensDetails(accepted_prediction_tokens=0, audio_tokens=0, reasoning_tokens=0, rejected_prediction_tokens=0), prompt_tokens_details=PromptTokensDetails(audio_tokens=0, cached_tokens=0)))\u001b[0m\n",
      "2025-01-09 21:50:55,309 - tnh.openai_text_processing - \u001b[36mINFO\u001b[0m - Processing completed.\u001b[0m\n",
      "2025-01-09 21:50:55,312 - tnh.tnh_scholar.ai_text_processing.ai_text_processing - \u001b[1;32mDEBUG\u001b[0m - Validated 5 lines from 56 to 60\u001b[0m\n",
      "2025-01-09 21:50:55,316 - tnh.tnh_scholar.ai_text_processing.ai_text_processing - \u001b[36mINFO\u001b[0m - Translating segment (lines 61-66)\u001b[0m\n",
      "2025-01-09 21:50:55,327 - tnh.tnh_scholar.ai_text_processing.ai_text_processing - \u001b[1;32mDEBUG\u001b[0m - Translation input:\n",
      "PRECEDING_CONTEXT\n",
      "58:nó đột định lại cho một đối tượng.\n",
      "59:Và nhờ cái lĩnh lực đó là chúng ta có sức mạnh.\n",
      "60:Với cái sức mạnh đó, chúng ta có thể đốt cháy được những phim nào.\n",
      "PRECEDING_CONTEXT\n",
      "\n",
      "TRANSCRIPT_SEGMENT\n",
      "61:Cái này cũng có nghĩa tương tự như là khí hay loại trừ.\n",
      "62:Thì hình ảnh đẹp nhất mà chúng ta có thể dùng là hình ảnh của một cái lanh kính,\n",
      "63:một cái tâm kính.\n",
      "64:Nó tiếp nhận ánh sáng mặt trời.\n",
      "65:Rồi thì tất cả những tia sáng đó dồn vào một điểm.\n",
      "TRANSCRIPT_SEGMENT\n",
      "\n",
      "FOLLOWING_CONTEXT\n",
      "66:Và nếu chúng ta đem cái buồn người ứng vào cái chỗ này,\n",
      "67:thì cái sức nắng hội tụ của ánh sáng đó sẽ tạo ra một cái tâm tư. Các anh sao mặt trời nó có thể nốt cháy được cái bông cỏ đó\n",
      "68:Trong thiền tập, nếu chúng ta có định mạnh, những định đó chíu vào những trạng thái hôn nghe, chíu vào những trạng thái phiền não, thì những hôn nghe phiền não đó có thể bị nốt cháy\n",
      "FOLLOWING_CONTEXT\n",
      "\u001b[0m\n",
      "2025-01-09 21:50:55,335 - tnh.openai_text_processing - \u001b[36mINFO\u001b[0m - Open AI Text Processing with model 'gpt-4o' started...\u001b[0m\n",
      "2025-01-09 21:50:55,337 - tnh.gpt_interface - \u001b[1;32mDEBUG\u001b[0m - Starting chat completion with response_format=None and max_tokens=768...\u001b[0m\n",
      "2025-01-09 21:50:56,646 - tnh.openai_text_processing - \u001b[1;32mDEBUG\u001b[0m - Full completion:\n",
      "ChatCompletion(id='chatcmpl-Ao2D16Kcfr4aYqhxxzuYDVJijwRfv', choices=[Choice(finish_reason='stop', index=0, logprobs=None, message=ChatCompletionMessage(content='TRANSCRIPT_SEGMENT\\n61:This also has a meaning similar to air or exclusion.\\n62:The most beautiful image we can use is the image of a magnifying glass,\\n63:a lens of the mind.\\n64:It receives sunlight.\\n65:Then all those rays of light converge at one point.\\nTRANSCRIPT_SEGMENT', refusal=None, role='assistant', audio=None, function_call=None, tool_calls=None))], created=1736488255, model='gpt-4o-2024-08-06', object='chat.completion', service_tier='default', system_fingerprint='fp_b7d65f1a5b', usage=CompletionUsage(completion_tokens=65, prompt_tokens=998, total_tokens=1063, completion_tokens_details=CompletionTokensDetails(accepted_prediction_tokens=0, audio_tokens=0, reasoning_tokens=0, rejected_prediction_tokens=0), prompt_tokens_details=PromptTokensDetails(audio_tokens=0, cached_tokens=0)))\u001b[0m\n",
      "2025-01-09 21:50:56,646 - tnh.openai_text_processing - \u001b[36mINFO\u001b[0m - Processing completed.\u001b[0m\n",
      "2025-01-09 21:50:56,647 - tnh.tnh_scholar.ai_text_processing.ai_text_processing - \u001b[1;32mDEBUG\u001b[0m - Validated 5 lines from 61 to 65\u001b[0m\n",
      "2025-01-09 21:50:56,648 - tnh.tnh_scholar.ai_text_processing.ai_text_processing - \u001b[36mINFO\u001b[0m - Translating segment (lines 66-71)\u001b[0m\n",
      "2025-01-09 21:50:56,650 - tnh.tnh_scholar.ai_text_processing.ai_text_processing - \u001b[1;32mDEBUG\u001b[0m - Translation input:\n",
      "PRECEDING_CONTEXT\n",
      "63:một cái tâm kính.\n",
      "64:Nó tiếp nhận ánh sáng mặt trời.\n",
      "65:Rồi thì tất cả những tia sáng đó dồn vào một điểm.\n",
      "PRECEDING_CONTEXT\n",
      "\n",
      "TRANSCRIPT_SEGMENT\n",
      "66:Và nếu chúng ta đem cái buồn người ứng vào cái chỗ này,\n",
      "67:thì cái sức nắng hội tụ của ánh sáng đó sẽ tạo ra một cái tâm tư. Các anh sao mặt trời nó có thể nốt cháy được cái bông cỏ đó\n",
      "68:Trong thiền tập, nếu chúng ta có định mạnh, những định đó chíu vào những trạng thái hôn nghe, chíu vào những trạng thái phiền não, thì những hôn nghe phiền não đó có thể bị nốt cháy\n",
      "69:Đó là một nghĩa khác của thiền tập do các vị Tổ sư đưa ra, và nó rất gần với ý niệm khí, tức là loại trực\n",
      "70:Sẽ nhắc lại ý niệm đầu tức là quan chíu, ý niệm thứ hai là quan sát một cách rất gần gũi thế giới hình tượng\n",
      "TRANSCRIPT_SEGMENT\n",
      "\n",
      "FOLLOWING_CONTEXT\n",
      "71:Thứ ba là loại trực, những yếu tố tiêu cực, và thứ tư là nốt cháy\n",
      "72:Tâm trí rất rẻ của thiền tập, nó có ý niệm về tu vi\n",
      "73:Thầy Nghĩa Nāpunika, Nghĩa Nāpunika bác giả cũng là heart of Buddhist meditation\n",
      "FOLLOWING_CONTEXT\n",
      "\u001b[0m\n",
      "2025-01-09 21:50:56,652 - tnh.openai_text_processing - \u001b[36mINFO\u001b[0m - Open AI Text Processing with model 'gpt-4o' started...\u001b[0m\n",
      "2025-01-09 21:50:56,653 - tnh.gpt_interface - \u001b[1;32mDEBUG\u001b[0m - Starting chat completion with response_format=None and max_tokens=820...\u001b[0m\n",
      "2025-01-09 21:51:00,465 - tnh.openai_text_processing - \u001b[1;32mDEBUG\u001b[0m - Full completion:\n",
      "ChatCompletion(id='chatcmpl-Ao2D2GdMPqCumKaiYWSpMk67V9taV', choices=[Choice(finish_reason='stop', index=0, logprobs=None, message=ChatCompletionMessage(content=\"TRANSCRIPT_SEGMENT\\n66:And if we focus the sun's rays on this point,\\n67:the concentrated power of the sunlight can create a burning focus. Just as the sun can scorch a blade of grass,\\n68:In meditation practice, if we have strong concentration, that concentration directs itself towards states of forgetfulness and afflictions, and those afflictions can be burned away.\\n69:This is another meaning of meditation practice as conveyed by the patriarchs, and it is very close to the concept of energy, which is directness.\\n70:We will revisit the first concept, which is contemplation; the second is observing in a way that is very close to the world of form.\\nTRANSCRIPT_SEGMENT\", refusal=None, role='assistant', audio=None, function_call=None, tool_calls=None))], created=1736488256, model='gpt-4o-2024-08-06', object='chat.completion', service_tier='default', system_fingerprint='fp_703d4ff298', usage=CompletionUsage(completion_tokens=147, prompt_tokens=1050, total_tokens=1197, completion_tokens_details=CompletionTokensDetails(accepted_prediction_tokens=0, audio_tokens=0, reasoning_tokens=0, rejected_prediction_tokens=0), prompt_tokens_details=PromptTokensDetails(audio_tokens=0, cached_tokens=0)))\u001b[0m\n",
      "2025-01-09 21:51:00,497 - tnh.openai_text_processing - \u001b[36mINFO\u001b[0m - Processing completed.\u001b[0m\n",
      "2025-01-09 21:51:00,507 - tnh.tnh_scholar.ai_text_processing.ai_text_processing - \u001b[1;32mDEBUG\u001b[0m - Validated 5 lines from 66 to 70\u001b[0m\n",
      "2025-01-09 21:51:00,509 - tnh.tnh_scholar.ai_text_processing.ai_text_processing - \u001b[36mINFO\u001b[0m - Translating segment (lines 71-76)\u001b[0m\n",
      "2025-01-09 21:51:00,529 - tnh.tnh_scholar.ai_text_processing.ai_text_processing - \u001b[1;32mDEBUG\u001b[0m - Translation input:\n",
      "PRECEDING_CONTEXT\n",
      "68:Trong thiền tập, nếu chúng ta có định mạnh, những định đó chíu vào những trạng thái hôn nghe, chíu vào những trạng thái phiền não, thì những hôn nghe phiền não đó có thể bị nốt cháy\n",
      "69:Đó là một nghĩa khác của thiền tập do các vị Tổ sư đưa ra, và nó rất gần với ý niệm khí, tức là loại trực\n",
      "70:Sẽ nhắc lại ý niệm đầu tức là quan chíu, ý niệm thứ hai là quan sát một cách rất gần gũi thế giới hình tượng\n",
      "PRECEDING_CONTEXT\n",
      "\n",
      "TRANSCRIPT_SEGMENT\n",
      "71:Thứ ba là loại trực, những yếu tố tiêu cực, và thứ tư là nốt cháy\n",
      "72:Tâm trí rất rẻ của thiền tập, nó có ý niệm về tu vi\n",
      "73:Thầy Nghĩa Nāpunika, Nghĩa Nāpunika bác giả cũng là heart of Buddhist meditation\n",
      "74:Thầy Nghĩa Nāpunika là một người Đức, đã tu học tại Thích Lan, đã cư trú mấy chục năm tại Forest Hermitage ở Thích Lan\n",
      "75:Thầy Nghĩa Nāpunika cách đây được chừng một tháng mấy, Thầy đã gọi tránh niệm là cái tim của thiền tập Phật giáo\n",
      "TRANSCRIPT_SEGMENT\n",
      "\n",
      "FOLLOWING_CONTEXT\n",
      "76:Thầy Nghĩa Nāpunika là một nhà hội giả, lúc Thầy đang lớn tuổi, 80 mấy tuổi, Thầy có tới thăm, ngày xưa khi mà tôi còn làm việc ở tại Paris thì Thầy có tới thăm trụ sở của Pháp Đoàn Phật giáo\n",
      "77:Và Thầy đã đem cuốn Pháp là một sự tính thức về Thích Lan, và Thầy cho xuất bản sau khi đã đi tửa\n",
      "78:Tại vì độc giả của nhà xuất bản ở Thích Lan hầu hết là những người theo Đạo Mục 5 Tâm, cho nên khi mà xuất bản cuốn Pháp là một sự tính thức bằng tiếng Anh ở Thích Lan\n",
      "FOLLOWING_CONTEXT\n",
      "\u001b[0m\n",
      "2025-01-09 21:51:00,553 - tnh.openai_text_processing - \u001b[36mINFO\u001b[0m - Open AI Text Processing with model 'gpt-4o' started...\u001b[0m\n",
      "2025-01-09 21:51:00,566 - tnh.gpt_interface - \u001b[1;32mDEBUG\u001b[0m - Starting chat completion with response_format=None and max_tokens=960...\u001b[0m\n",
      "2025-01-09 21:51:03,025 - tnh.openai_text_processing - \u001b[1;32mDEBUG\u001b[0m - Full completion:\n",
      "ChatCompletion(id='chatcmpl-Ao2D6EI4QKAWOLKVOY9siSIKX9Feg', choices=[Choice(finish_reason='stop', index=0, logprobs=None, message=ChatCompletionMessage(content='TRANSCRIPT_SEGMENT\\n71:The third is the direct type, the negative elements, and the fourth is burning away.\\n72:The mind in meditation practice has a very affordable concept of cultivation.\\n73:Venerable Nyanaponika, Nyanaponika Thera is also known as the heart of Buddhist meditation.\\n74:Venerable Nyanaponika was a German monk who studied in Ceylon and lived for several decades at the Forest Hermitage in Ceylon.\\n75:About a month ago, Venerable Nyanaponika called mindfulness the heart of Buddhist meditation practice.\\nTRANSCRIPT_SEGMENT', refusal=None, role='assistant', audio=None, function_call=None, tool_calls=None))], created=1736488260, model='gpt-4o-2024-08-06', object='chat.completion', service_tier='default', system_fingerprint='fp_b7d65f1a5b', usage=CompletionUsage(completion_tokens=125, prompt_tokens=1190, total_tokens=1315, completion_tokens_details=CompletionTokensDetails(accepted_prediction_tokens=0, audio_tokens=0, reasoning_tokens=0, rejected_prediction_tokens=0), prompt_tokens_details=PromptTokensDetails(audio_tokens=0, cached_tokens=0)))\u001b[0m\n",
      "2025-01-09 21:51:03,028 - tnh.openai_text_processing - \u001b[36mINFO\u001b[0m - Processing completed.\u001b[0m\n",
      "2025-01-09 21:51:03,030 - tnh.tnh_scholar.ai_text_processing.ai_text_processing - \u001b[1;32mDEBUG\u001b[0m - Validated 5 lines from 71 to 75\u001b[0m\n",
      "2025-01-09 21:51:03,032 - tnh.tnh_scholar.ai_text_processing.ai_text_processing - \u001b[36mINFO\u001b[0m - Translating segment (lines 76-81)\u001b[0m\n",
      "2025-01-09 21:51:03,036 - tnh.tnh_scholar.ai_text_processing.ai_text_processing - \u001b[1;32mDEBUG\u001b[0m - Translation input:\n",
      "PRECEDING_CONTEXT\n",
      "73:Thầy Nghĩa Nāpunika, Nghĩa Nāpunika bác giả cũng là heart of Buddhist meditation\n",
      "74:Thầy Nghĩa Nāpunika là một người Đức, đã tu học tại Thích Lan, đã cư trú mấy chục năm tại Forest Hermitage ở Thích Lan\n",
      "75:Thầy Nghĩa Nāpunika cách đây được chừng một tháng mấy, Thầy đã gọi tránh niệm là cái tim của thiền tập Phật giáo\n",
      "PRECEDING_CONTEXT\n",
      "\n",
      "TRANSCRIPT_SEGMENT\n",
      "76:Thầy Nghĩa Nāpunika là một nhà hội giả, lúc Thầy đang lớn tuổi, 80 mấy tuổi, Thầy có tới thăm, ngày xưa khi mà tôi còn làm việc ở tại Paris thì Thầy có tới thăm trụ sở của Pháp Đoàn Phật giáo\n",
      "77:Và Thầy đã đem cuốn Pháp là một sự tính thức về Thích Lan, và Thầy cho xuất bản sau khi đã đi tửa\n",
      "78:Tại vì độc giả của nhà xuất bản ở Thích Lan hầu hết là những người theo Đạo Mục 5 Tâm, cho nên khi mà xuất bản cuốn Pháp là một sự tính thức bằng tiếng Anh ở Thích Lan\n",
      "79:Thì Thầy có xin phép lấy ra khỏi tác phẩm những tư tưởng về Đại Thừa, thì hồi đó tôi gạch đầu đồng ý, tại hồi đó tôi cũng lớn rồi, tôi nói rằng là dòng sông ai muốn tới lấy bao nhiêu nước thì lấy\n",
      "80:Nói rằng là muốn lấy về để tắm cũng được, muốn lấy về để uống trà cũng được, muốn lấy về để rửa chân cũng được, muốn lấy ít cũng được, muốn lấy nhiều cũng được, không sao cả, thành ra tôi rất hoàn hiển\n",
      "TRANSCRIPT_SEGMENT\n",
      "\n",
      "FOLLOWING_CONTEXT\n",
      "81:Sau đó thì cuốn Pháp là một sự tính thức được yên bằng tiếng Đức, được dịch được yên bằng tiếng Đức, rồi sau đó mới yên bằng tiếng Anh, rồi tiếp theo là tiếng Thái Lan\n",
      "82:Thì Thầy Nguyễn Áp Onika đã ở với chúng tôi tại Paris mấy ngày, tôi có nhớ một hôm đưa Thầy đi vào trong công viên Park The Soul, rồi hai người ngồi trên băng ghế đá để mà đàm đào, bây giờ Thầy đã tịch\n",
      "83:Và theo Thầy Nguyễn Áp Onika thì tên em là trái tim của Thiên Tập Pháp Giáp\n",
      "FOLLOWING_CONTEXT\n",
      "\u001b[0m\n",
      "2025-01-09 21:51:03,044 - tnh.openai_text_processing - \u001b[36mINFO\u001b[0m - Open AI Text Processing with model 'gpt-4o' started...\u001b[0m\n",
      "2025-01-09 21:51:03,046 - tnh.gpt_interface - \u001b[1;32mDEBUG\u001b[0m - Starting chat completion with response_format=None and max_tokens=1045...\u001b[0m\n",
      "2025-01-09 21:51:09,130 - tnh.openai_text_processing - \u001b[1;32mDEBUG\u001b[0m - Full completion:\n",
      "ChatCompletion(id='chatcmpl-Ao2D9Tyljcwot9UnclKIgDC1TFPHd', choices=[Choice(finish_reason='stop', index=0, logprobs=None, message=ChatCompletionMessage(content='TRANSCRIPT_SEGMENT\\n76:Thay Nghĩa Nāpunika was a scholar, and when he was quite old, in his eighties, he came to visit. In the past, when I was still working in Paris, he visited the headquarters of the Buddhist Delegation.\\n77:He brought the book \"Dharma is an Awakening\" about Sri Lanka, and published it after having refined it.\\n78:This is because the readers of the publishing house in Sri Lanka were mostly followers of the Five Mind Training, so when \"Dharma is an Awakening\" was published in English in Sri Lanka,\\n79:He asked for permission to remove from the work any concepts related to the Mahayana. At that time, I agreed, as I was also advanced in age then, and said that a river allows anyone to take as much water as they wish.\\n80:I said that if they wanted to take water to bathe, that was fine, if they wanted to take it to make tea, that was also fine, to wash their feet was fine, to take a little or a lot was all fine, nothing was a problem, so I felt very complete.\\nTRANSCRIPT_SEGMENT', refusal=None, role='assistant', audio=None, function_call=None, tool_calls=None))], created=1736488263, model='gpt-4o-2024-08-06', object='chat.completion', service_tier='default', system_fingerprint='fp_703d4ff298', usage=CompletionUsage(completion_tokens=245, prompt_tokens=1275, total_tokens=1520, completion_tokens_details=CompletionTokensDetails(accepted_prediction_tokens=0, audio_tokens=0, reasoning_tokens=0, rejected_prediction_tokens=0), prompt_tokens_details=PromptTokensDetails(audio_tokens=0, cached_tokens=0)))\u001b[0m\n",
      "2025-01-09 21:51:09,131 - tnh.openai_text_processing - \u001b[36mINFO\u001b[0m - Processing completed.\u001b[0m\n",
      "2025-01-09 21:51:09,132 - tnh.tnh_scholar.ai_text_processing.ai_text_processing - \u001b[1;32mDEBUG\u001b[0m - Validated 5 lines from 76 to 80\u001b[0m\n",
      "2025-01-09 21:51:09,132 - tnh.tnh_scholar.ai_text_processing.ai_text_processing - \u001b[36mINFO\u001b[0m - Translating segment (lines 81-86)\u001b[0m\n",
      "2025-01-09 21:51:09,133 - tnh.tnh_scholar.ai_text_processing.ai_text_processing - \u001b[1;32mDEBUG\u001b[0m - Translation input:\n",
      "PRECEDING_CONTEXT\n",
      "78:Tại vì độc giả của nhà xuất bản ở Thích Lan hầu hết là những người theo Đạo Mục 5 Tâm, cho nên khi mà xuất bản cuốn Pháp là một sự tính thức bằng tiếng Anh ở Thích Lan\n",
      "79:Thì Thầy có xin phép lấy ra khỏi tác phẩm những tư tưởng về Đại Thừa, thì hồi đó tôi gạch đầu đồng ý, tại hồi đó tôi cũng lớn rồi, tôi nói rằng là dòng sông ai muốn tới lấy bao nhiêu nước thì lấy\n",
      "80:Nói rằng là muốn lấy về để tắm cũng được, muốn lấy về để uống trà cũng được, muốn lấy về để rửa chân cũng được, muốn lấy ít cũng được, muốn lấy nhiều cũng được, không sao cả, thành ra tôi rất hoàn hiển\n",
      "PRECEDING_CONTEXT\n",
      "\n",
      "TRANSCRIPT_SEGMENT\n",
      "81:Sau đó thì cuốn Pháp là một sự tính thức được yên bằng tiếng Đức, được dịch được yên bằng tiếng Đức, rồi sau đó mới yên bằng tiếng Anh, rồi tiếp theo là tiếng Thái Lan\n",
      "82:Thì Thầy Nguyễn Áp Onika đã ở với chúng tôi tại Paris mấy ngày, tôi có nhớ một hôm đưa Thầy đi vào trong công viên Park The Soul, rồi hai người ngồi trên băng ghế đá để mà đàm đào, bây giờ Thầy đã tịch\n",
      "83:Và theo Thầy Nguyễn Áp Onika thì tên em là trái tim của Thiên Tập Pháp Giáp\n",
      "84:Tên em là Sati, là Svarti, Sati là tiếng Pali Smriti là tiếng Phạn\n",
      "85:Chánh niệm là danh từ dân dùng nhiều nhất trong văn học Phật giáo. Nhiều, gấp mấy trăm lần danh từ thiệt.\n",
      "TRANSCRIPT_SEGMENT\n",
      "\n",
      "FOLLOWING_CONTEXT\n",
      "86:Vì vậy cho nên chúng ta rất thoải mái khi mà chúng ta nghe nói tới chánh niệm như là trái tim của thiền tộc Phật giáo, chứ không phải là những cái khác.\n",
      "87:Tại vì trong số những cái giáo lý, những cái ý niệm về thiền, nó có tứ thiền, tứ vô sắc định, nó có bác, bố, xã, cửu thứ địa định, vân vân, rất nhiều.\n",
      "88:Nhưng mà trái tim của thiền tộc Phật giáo vẫn là chánh niệm như thường.\n",
      "FOLLOWING_CONTEXT\n",
      "\u001b[0m\n",
      "2025-01-09 21:51:09,135 - tnh.openai_text_processing - \u001b[36mINFO\u001b[0m - Open AI Text Processing with model 'gpt-4o' started...\u001b[0m\n",
      "2025-01-09 21:51:09,135 - tnh.gpt_interface - \u001b[1;32mDEBUG\u001b[0m - Starting chat completion with response_format=None and max_tokens=1025...\u001b[0m\n",
      "2025-01-09 21:51:13,778 - tnh.openai_text_processing - \u001b[1;32mDEBUG\u001b[0m - Full completion:\n",
      "ChatCompletion(id='chatcmpl-Ao2DFPMWqJ6npsx50u03HTz54ovWK', choices=[Choice(finish_reason='stop', index=0, logprobs=None, message=ChatCompletionMessage(content='TRANSCRIPT_SEGMENT\\n81:After that, the book \"The Path is a Waking\" was printed in German, translated and printed in German, and then later printed in English, followed by Thai.\\n82:Then, Thầy Nguyên Áp Onika stayed with us in Paris for a few days. I remember one day taking him to the Park The Soul, where the two of us sat on a stone bench to have a conversation. Now, he has passed away.\\n83:And according to Thầy Nguyên Áp Onika, Sati is the heart of the Dharma.\\n84:Sati is in Pali, Svarti, Sati in Pali, Smriti in Sanskrit.\\n85:Mindfulness is the term most commonly used in Buddhist literature. Many times more than many other terms.\\nTRANSCRIPT_SEGMENT', refusal=None, role='assistant', audio=None, function_call=None, tool_calls=None))], created=1736488269, model='gpt-4o-2024-08-06', object='chat.completion', service_tier='default', system_fingerprint='fp_703d4ff298', usage=CompletionUsage(completion_tokens=170, prompt_tokens=1255, total_tokens=1425, completion_tokens_details=CompletionTokensDetails(accepted_prediction_tokens=0, audio_tokens=0, reasoning_tokens=0, rejected_prediction_tokens=0), prompt_tokens_details=PromptTokensDetails(audio_tokens=0, cached_tokens=0)))\u001b[0m\n",
      "2025-01-09 21:51:13,779 - tnh.openai_text_processing - \u001b[36mINFO\u001b[0m - Processing completed.\u001b[0m\n",
      "2025-01-09 21:51:13,779 - tnh.tnh_scholar.ai_text_processing.ai_text_processing - \u001b[1;32mDEBUG\u001b[0m - Validated 5 lines from 81 to 85\u001b[0m\n",
      "2025-01-09 21:51:13,780 - tnh.tnh_scholar.ai_text_processing.ai_text_processing - \u001b[36mINFO\u001b[0m - Translating segment (lines 86-91)\u001b[0m\n",
      "2025-01-09 21:51:13,781 - tnh.tnh_scholar.ai_text_processing.ai_text_processing - \u001b[1;32mDEBUG\u001b[0m - Translation input:\n",
      "PRECEDING_CONTEXT\n",
      "83:Và theo Thầy Nguyễn Áp Onika thì tên em là trái tim của Thiên Tập Pháp Giáp\n",
      "84:Tên em là Sati, là Svarti, Sati là tiếng Pali Smriti là tiếng Phạn\n",
      "85:Chánh niệm là danh từ dân dùng nhiều nhất trong văn học Phật giáo. Nhiều, gấp mấy trăm lần danh từ thiệt.\n",
      "PRECEDING_CONTEXT\n",
      "\n",
      "TRANSCRIPT_SEGMENT\n",
      "86:Vì vậy cho nên chúng ta rất thoải mái khi mà chúng ta nghe nói tới chánh niệm như là trái tim của thiền tộc Phật giáo, chứ không phải là những cái khác.\n",
      "87:Tại vì trong số những cái giáo lý, những cái ý niệm về thiền, nó có tứ thiền, tứ vô sắc định, nó có bác, bố, xã, cửu thứ địa định, vân vân, rất nhiều.\n",
      "88:Nhưng mà trái tim của thiền tộc Phật giáo vẫn là chánh niệm như thường.\n",
      "89:Giờ này mình phải biết tình ấm cho vườn.\n",
      "90:Khi được dạy bài Pháp Thoại đầu tiên cho 5 thầy ở vườn này, thì ngày trường này giáo lý muốn sự thật tới vụ đấy.\n",
      "TRANSCRIPT_SEGMENT\n",
      "\n",
      "FOLLOWING_CONTEXT\n",
      "91:Và trong cái bài giảng đầu tiên đó, thì ngày cũng có nói về bác chánh đạo, tức là đạo đế.\n",
      "92:Và trong đạo đế thì chúng ta thấy có chánh niệm.\n",
      "93:Rồi tiếp theo chánh niệm là tuệ, hay là định là chánh định.\n",
      "FOLLOWING_CONTEXT\n",
      "\u001b[0m\n",
      "2025-01-09 21:51:13,782 - tnh.openai_text_processing - \u001b[36mINFO\u001b[0m - Open AI Text Processing with model 'gpt-4o' started...\u001b[0m\n",
      "2025-01-09 21:51:13,782 - tnh.gpt_interface - \u001b[1;32mDEBUG\u001b[0m - Starting chat completion with response_format=None and max_tokens=868...\u001b[0m\n",
      "2025-01-09 21:51:16,602 - tnh.openai_text_processing - \u001b[1;32mDEBUG\u001b[0m - Full completion:\n",
      "ChatCompletion(id='chatcmpl-Ao2DJrI9lZA6JULK7hRLGtY02gDQE', choices=[Choice(finish_reason='stop', index=0, logprobs=None, message=ChatCompletionMessage(content='TRANSCRIPT_SEGMENT\\n86:Therefore, we feel very comfortable when we hear mindfulness referred to as the heart of the Buddhist meditative tradition, rather than anything else.\\n87:Because among the teachings and concepts of meditation, there are the four dhyanas, the four formless absorptions, and others such as loving-kindness, compassion, equanimity, and the nine stages of concentration, and so on.\\n88:Yet, the heart of the Buddhist meditative tradition remains mindfulness as always.\\n89:At this moment, we must take care of the garden.\\n90:When giving the first Dharma talk to the five monks here in the garden, the teachings aimed to bring the truth to that situation.\\nTRANSCRIPT_SEGMENT', refusal=None, role='assistant', audio=None, function_call=None, tool_calls=None))], created=1736488273, model='gpt-4o-2024-08-06', object='chat.completion', service_tier='default', system_fingerprint='fp_b7d65f1a5b', usage=CompletionUsage(completion_tokens=149, prompt_tokens=1098, total_tokens=1247, completion_tokens_details=CompletionTokensDetails(accepted_prediction_tokens=0, audio_tokens=0, reasoning_tokens=0, rejected_prediction_tokens=0), prompt_tokens_details=PromptTokensDetails(audio_tokens=0, cached_tokens=0)))\u001b[0m\n",
      "2025-01-09 21:51:16,602 - tnh.openai_text_processing - \u001b[36mINFO\u001b[0m - Processing completed.\u001b[0m\n",
      "2025-01-09 21:51:16,603 - tnh.tnh_scholar.ai_text_processing.ai_text_processing - \u001b[1;32mDEBUG\u001b[0m - Validated 5 lines from 86 to 90\u001b[0m\n",
      "2025-01-09 21:51:16,603 - tnh.tnh_scholar.ai_text_processing.ai_text_processing - \u001b[36mINFO\u001b[0m - Translating segment (lines 91-96)\u001b[0m\n",
      "2025-01-09 21:51:16,604 - tnh.tnh_scholar.ai_text_processing.ai_text_processing - \u001b[1;32mDEBUG\u001b[0m - Translation input:\n",
      "PRECEDING_CONTEXT\n",
      "88:Nhưng mà trái tim của thiền tộc Phật giáo vẫn là chánh niệm như thường.\n",
      "89:Giờ này mình phải biết tình ấm cho vườn.\n",
      "90:Khi được dạy bài Pháp Thoại đầu tiên cho 5 thầy ở vườn này, thì ngày trường này giáo lý muốn sự thật tới vụ đấy.\n",
      "PRECEDING_CONTEXT\n",
      "\n",
      "TRANSCRIPT_SEGMENT\n",
      "91:Và trong cái bài giảng đầu tiên đó, thì ngày cũng có nói về bác chánh đạo, tức là đạo đế.\n",
      "92:Và trong đạo đế thì chúng ta thấy có chánh niệm.\n",
      "93:Rồi tiếp theo chánh niệm là tuệ, hay là định là chánh định.\n",
      "94:Và chánh định thì nó đưa tới chánh kiến, chánh kiến nó tôn đương với tuệ.\n",
      "95:Và trong cái giáo lý gọi là TÀM HỌC, the three learnings, hay là the three trainings, là chúng ta nói với định và tuệ.\n",
      "TRANSCRIPT_SEGMENT\n",
      "\n",
      "FOLLOWING_CONTEXT\n",
      "96:Cái năm là một 80 tuổi, nó sắp nhập vẹt, thì trong những bài Pháp Thoại nhắn, ngày thường nói về sự huấn luyện thanh tâm bằng TÀM HỌC, tức là giới, định và tuệ.\n",
      "97:Nhưng mà trong cái tu học á, thì Thầy khám phá ra rằng giới mà nói ở đây nó tôn đương với niệm.\n",
      "98:Giới đây nó chỉ là niệm thôi, niệm tức là chánh niệm.\n",
      "FOLLOWING_CONTEXT\n",
      "\u001b[0m\n",
      "2025-01-09 21:51:16,605 - tnh.openai_text_processing - \u001b[36mINFO\u001b[0m - Open AI Text Processing with model 'gpt-4o' started...\u001b[0m\n",
      "2025-01-09 21:51:16,605 - tnh.gpt_interface - \u001b[1;32mDEBUG\u001b[0m - Starting chat completion with response_format=None and max_tokens=852...\u001b[0m\n",
      "2025-01-09 21:51:18,231 - tnh.openai_text_processing - \u001b[1;32mDEBUG\u001b[0m - Full completion:\n",
      "ChatCompletion(id='chatcmpl-Ao2DMbtn1PNO0JS5baRuGnOW9p4Jn', choices=[Choice(finish_reason='stop', index=0, logprobs=None, message=ChatCompletionMessage(content='TRANSCRIPT_SEGMENT\\n91:And in that first Dharma talk, he also spoke about the Noble Eightfold Path, which is the path of practice.\\n92:And within the path of practice, we find mindfulness.\\n93:Following mindfulness is insight, or concentration is right concentration.\\n94:And right concentration leads to right view, right view is equivalent to insight.\\n95:And in the teachings called the Threefold Learning, the three learnings, or the three trainings, we speak of concentration and insight.\\nTRANSCRIPT_SEGMENT', refusal=None, role='assistant', audio=None, function_call=None, tool_calls=None))], created=1736488276, model='gpt-4o-2024-08-06', object='chat.completion', service_tier='default', system_fingerprint='fp_b7d65f1a5b', usage=CompletionUsage(completion_tokens=108, prompt_tokens=1082, total_tokens=1190, completion_tokens_details=CompletionTokensDetails(accepted_prediction_tokens=0, audio_tokens=0, reasoning_tokens=0, rejected_prediction_tokens=0), prompt_tokens_details=PromptTokensDetails(audio_tokens=0, cached_tokens=0)))\u001b[0m\n",
      "2025-01-09 21:51:18,232 - tnh.openai_text_processing - \u001b[36mINFO\u001b[0m - Processing completed.\u001b[0m\n",
      "2025-01-09 21:51:18,233 - tnh.tnh_scholar.ai_text_processing.ai_text_processing - \u001b[1;32mDEBUG\u001b[0m - Validated 5 lines from 91 to 95\u001b[0m\n",
      "2025-01-09 21:51:18,233 - tnh.tnh_scholar.ai_text_processing.ai_text_processing - \u001b[36mINFO\u001b[0m - Translating segment (lines 96-100)\u001b[0m\n",
      "2025-01-09 21:51:18,234 - tnh.tnh_scholar.ai_text_processing.ai_text_processing - \u001b[1;32mDEBUG\u001b[0m - Translation input:\n",
      "PRECEDING_CONTEXT\n",
      "93:Rồi tiếp theo chánh niệm là tuệ, hay là định là chánh định.\n",
      "94:Và chánh định thì nó đưa tới chánh kiến, chánh kiến nó tôn đương với tuệ.\n",
      "95:Và trong cái giáo lý gọi là TÀM HỌC, the three learnings, hay là the three trainings, là chúng ta nói với định và tuệ.\n",
      "PRECEDING_CONTEXT\n",
      "\n",
      "TRANSCRIPT_SEGMENT\n",
      "96:Cái năm là một 80 tuổi, nó sắp nhập vẹt, thì trong những bài Pháp Thoại nhắn, ngày thường nói về sự huấn luyện thanh tâm bằng TÀM HỌC, tức là giới, định và tuệ.\n",
      "97:Nhưng mà trong cái tu học á, thì Thầy khám phá ra rằng giới mà nói ở đây nó tôn đương với niệm.\n",
      "98:Giới đây nó chỉ là niệm thôi, niệm tức là chánh niệm.\n",
      "99:Cái điều này chúng ta phải nói đi nói lại hoài, là tại vì ở những chỗ khác á, thì chúng ta cứ nghe niệm, định, huệ, niệm, định, huệ, niệm, định, huệ rất nhiều.\n",
      "TRANSCRIPT_SEGMENT\n",
      "\u001b[0m\n",
      "2025-01-09 21:51:18,235 - tnh.openai_text_processing - \u001b[36mINFO\u001b[0m - Open AI Text Processing with model 'gpt-4o' started...\u001b[0m\n",
      "2025-01-09 21:51:18,236 - tnh.gpt_interface - \u001b[1;32mDEBUG\u001b[0m - Starting chat completion with response_format=None and max_tokens=772...\u001b[0m\n",
      "2025-01-09 21:51:20,514 - tnh.openai_text_processing - \u001b[1;32mDEBUG\u001b[0m - Full completion:\n",
      "ChatCompletion(id='chatcmpl-Ao2DOguCDYeD0fTQG4EIt7sJixkJi', choices=[Choice(finish_reason='stop', index=0, logprobs=None, message=ChatCompletionMessage(content='TRANSCRIPT_SEGMENT\\n96:At the age of 80, approaching Nirvana, in his Dharma talks, he often spoke about training the mind through the threefold learning, which is ethics, concentration, and wisdom.\\n97:However, through the practice, Thay discovered that ethics, as mentioned here, corresponds to mindfulness.\\n98:Ethics here is just mindfulness; mindfulness means right mindfulness.\\n99:We must keep repeating this because elsewhere, we often hear about mindfulness, concentration, wisdom, mindfulness, concentration, wisdom, mindfulness, concentration, wisdom repeatedly.\\nTRANSCRIPT_SEGMENT', refusal=None, role='assistant', audio=None, function_call=None, tool_calls=None))], created=1736488278, model='gpt-4o-2024-08-06', object='chat.completion', service_tier='default', system_fingerprint='fp_b7d65f1a5b', usage=CompletionUsage(completion_tokens=119, prompt_tokens=1002, total_tokens=1121, completion_tokens_details=CompletionTokensDetails(accepted_prediction_tokens=0, audio_tokens=0, reasoning_tokens=0, rejected_prediction_tokens=0), prompt_tokens_details=PromptTokensDetails(audio_tokens=0, cached_tokens=0)))\u001b[0m\n",
      "2025-01-09 21:51:20,514 - tnh.openai_text_processing - \u001b[36mINFO\u001b[0m - Processing completed.\u001b[0m\n",
      "2025-01-09 21:51:20,515 - tnh.tnh_scholar.ai_text_processing.ai_text_processing - \u001b[1;32mDEBUG\u001b[0m - Validated 4 lines from 96 to 99\u001b[0m\n"
     ]
    }
   ],
   "source": [
    "viet_trans = translate_text_by_lines(test_sample_viet, 'Vietnamese', 'English', style='Thich Nhat Hanh', pattern=manager.load_pattern(\"translate_lines_thay_audio\"), segment_size=5)"
   ]
  },
  {
   "cell_type": "code",
   "execution_count": 86,
   "metadata": {},
   "outputs": [
    {
     "name": "stdout",
     "output_type": "stream",
     "text": [
      "1:Dear community, today is the 24th of November, 1994, and we are in the Winter Retreat.\n",
      "2:As you know, the topic of this Winter Retreat is the living tradition of the Zen School in the Da Bi district.\n",
      "3:The word 'meditation' in English has been used to translate the word 'thiền.'\n",
      "4:Thiền, fully said, is 'thiền na,' but since people like to abbreviate, they drop the 'na' and simply say 'thiền.' In Sanskrit, it is 'dhyāna.'\n",
      "5:When the Chinese read the word 'dhyāna,' they pronounce it as 'channa,' which is then shortened to 'chan.'\n",
      "6:Chan is Chinese, Thiền is Vietnamese, written as such; Vietnamese people read it as Thiền, while the Japanese read it as Zen.\n",
      "7:And at the same time, the Koreans read it as Seon.\n",
      "8:So, the root of the Sanskrit word \"dhyana\" is \"dhya,\" that is the root.\n",
      "9:Dhya-dhyaiti means to think, to contemplate, to focus on a subject, and within it, there is the meaning of thinking internally.\n",
      "10:Therefore, the ancient masters translated Thiền as \"mindful cultivation,\" and here \"mindful\" means to think.\n",
      "11:But usually when we hear about meditation, it is not about thinking, even though the root of the word meditation does imply inner thinking.\n",
      "12:However, the issue at hand is what kind of thinking, what type of contemplation it is.\n",
      "13:First, we should understand that the word meditation, in its original form, is not exclusive to Buddhist meditation practices.\n",
      "14:Other sects, other traditions that existed before Buddhism, alongside Buddhism, and after Buddhism also used the term meditation.\n",
      "15:Therefore, meditation is not just a term used in Buddhism; it is a very valuable term.\n",
      "16:In the scriptures, it is used, but the Buddhist scriptures use other terms more frequently.\n",
      "17:During the time of the historical Buddha, other terms were used more than the term \"meditation.\"\n",
      "18:Yet, within the scriptures, there are many terms related to meditation. Therefore, about 100 years after Buddha's passing, the term \"Zen\" was used more frequently, even during the Buddha's time in India. This is something we must know and question why.\n",
      "19:So, when Buddhism adopted the term \"Zen,\" it also infused it with Buddhist meanings.\n",
      "20:Because traditions outside of Buddhism, that existed before Buddhism, also used those terms, but the meanings they attached to those terms were not the same as the meanings Buddhists attached to them.\n",
      "21:This means that there may be some points of agreement, but there are also differences, for example, the term Samsara.\n",
      "22:In other traditions, people might understand the meaning of Samsara differently, and in Buddhism, we have a different interpretation of Samsara.\n",
      "23:For instance, outside of Buddhism, people might believe in an eternal soul, and the concept of Samsara outside of Buddhism is based on these ideas about an eternal soul.\n",
      "24:However, in Buddhism, we learn the teaching of non-self, and therefore Samsara in Buddhism must be understood in alignment with the teaching of non-self.\n",
      "25:So, even with the same term, in Buddhism it is understood differently, and outside of Buddhism, it is understood differently, just like that.\n",
      "26:We know that in the time called the Primitive Buddhism, that is the time when Buddhism was still in its pure form,\n",
      "27:the monks practiced sitting meditation, walking meditation, eating in silence, and mindful breathing,\n",
      "28:and all those practices are the truth, and the enlightenment of the Buddha as well as that of his disciples,\n",
      "29:the love of the Buddha and his disciples, the peace and liberation of the Buddha and his disciples, arose from such a web of practice.\n",
      "30:These practices, now we can call them meditation, but we can also call them by other names.\n",
      "31:According to the explanations of the patriarchs, the word meditation means the contemplation of a form, the contemplation of a.\n",
      "32:That is the first meaning.\n",
      "33:It means taking an object as a subject of observation, and contemplating it, deeply examining it.\n",
      "34:The contemplation of a given object.\n",
      "35:And the second meaning is quite similar.\n",
      "36:It means that we come very close, we engage very intimately, and we observe that object very closely.\n",
      "37:This aspect of the object belongs to a phenomenon, belonging to the world of phenomena. In the world of images, we can delve deeply into the world of their essence.\n",
      "38:For example, a wave.\n",
      "39:When we contemplate the wave very intimately,\n",
      "40:engage with it very intimately, we discover\n",
      "41:the true nature of the wave, which is impermanent.\n",
      "42:Thirdly, its notion is to wipe out or eliminate.\n",
      "43:In meditation practice, we have the concept of elimination.\n",
      "44:These materials, these elements,\n",
      "45:that cause us suffering, that bring us darkness,\n",
      "46:it makes us troubled, and it makes us insecure.\n",
      "47:Zen master Tan Hoi, early in the first half of the third century,\n",
      "48:Zen master Tan Hoi is regarded as the patriarch of Vietnamese Zen.\n",
      "49:In the text An Bang Thủ Y Sutra,\n",
      "50:he also defines Zen as elimination.\n",
      "51:The Chinese character is \"khí.\"\n",
      "52:\"Khí\" means to eliminate, that is, to remove.\n",
      "53:There is a Sanskrit verb \"gayi jnati.\"\n",
      "54:\"Jnati\" in Sanskrit means to burn.\n",
      "55:It has the meaning of incinerate, remove.\n",
      "56:And that is also a way the teachings about Zen by the ancestral teachers.\n",
      "57:In that Zen practice, our mind,\n",
      "58:it becomes concentrated on one object.\n",
      "59:And with that concentration, we gain strength.\n",
      "60:With that strength, we can burn away any afflictions.\n",
      "61:This also has a meaning similar to air or exclusion.\n",
      "62:The most beautiful image we can use is the image of a magnifying glass,\n",
      "63:a lens of the mind.\n",
      "64:It receives sunlight.\n",
      "65:Then all those rays of light converge at one point.\n",
      "66:And if we focus the sun's rays on this point,\n",
      "67:the concentrated power of the sunlight can create a burning focus. Just as the sun can scorch a blade of grass,\n",
      "68:In meditation practice, if we have strong concentration, that concentration directs itself towards states of forgetfulness and afflictions, and those afflictions can be burned away.\n",
      "69:This is another meaning of meditation practice as conveyed by the patriarchs, and it is very close to the concept of energy, which is directness.\n",
      "70:We will revisit the first concept, which is contemplation; the second is observing in a way that is very close to the world of form.\n",
      "71:The third is the direct type, the negative elements, and the fourth is burning away.\n",
      "72:The mind in meditation practice has a very affordable concept of cultivation.\n",
      "73:Venerable Nyanaponika, Nyanaponika Thera is also known as the heart of Buddhist meditation.\n",
      "74:Venerable Nyanaponika was a German monk who studied in Ceylon and lived for several decades at the Forest Hermitage in Ceylon.\n",
      "75:About a month ago, Venerable Nyanaponika called mindfulness the heart of Buddhist meditation practice.\n",
      "76:Thay Nghĩa Nāpunika was a scholar, and when he was quite old, in his eighties, he came to visit. In the past, when I was still working in Paris, he visited the headquarters of the Buddhist Delegation.\n",
      "77:He brought the book \"Dharma is an Awakening\" about Sri Lanka, and published it after having refined it.\n",
      "78:This is because the readers of the publishing house in Sri Lanka were mostly followers of the Five Mind Training, so when \"Dharma is an Awakening\" was published in English in Sri Lanka,\n",
      "79:He asked for permission to remove from the work any concepts related to the Mahayana. At that time, I agreed, as I was also advanced in age then, and said that a river allows anyone to take as much water as they wish.\n",
      "80:I said that if they wanted to take water to bathe, that was fine, if they wanted to take it to make tea, that was also fine, to wash their feet was fine, to take a little or a lot was all fine, nothing was a problem, so I felt very complete.\n",
      "81:After that, the book \"The Path is a Waking\" was printed in German, translated and printed in German, and then later printed in English, followed by Thai.\n",
      "82:Then, Thầy Nguyên Áp Onika stayed with us in Paris for a few days. I remember one day taking him to the Park The Soul, where the two of us sat on a stone bench to have a conversation. Now, he has passed away.\n",
      "83:And according to Thầy Nguyên Áp Onika, Sati is the heart of the Dharma.\n",
      "84:Sati is in Pali, Svarti, Sati in Pali, Smriti in Sanskrit.\n",
      "85:Mindfulness is the term most commonly used in Buddhist literature. Many times more than many other terms.\n",
      "86:Therefore, we feel very comfortable when we hear mindfulness referred to as the heart of the Buddhist meditative tradition, rather than anything else.\n",
      "87:Because among the teachings and concepts of meditation, there are the four dhyanas, the four formless absorptions, and others such as loving-kindness, compassion, equanimity, and the nine stages of concentration, and so on.\n",
      "88:Yet, the heart of the Buddhist meditative tradition remains mindfulness as always.\n",
      "89:At this moment, we must take care of the garden.\n",
      "90:When giving the first Dharma talk to the five monks here in the garden, the teachings aimed to bring the truth to that situation.\n",
      "91:And in that first Dharma talk, he also spoke about the Noble Eightfold Path, which is the path of practice.\n",
      "92:And within the path of practice, we find mindfulness.\n",
      "93:Following mindfulness is insight, or concentration is right concentration.\n",
      "94:And right concentration leads to right view, right view is equivalent to insight.\n",
      "95:And in the teachings called the Threefold Learning, the three learnings, or the three trainings, we speak of concentration and insight.\n",
      "96:At the age of 80, approaching Nirvana, in his Dharma talks, he often spoke about training the mind through the threefold learning, which is ethics, concentration, and wisdom.\n",
      "97:However, through the practice, Thay discovered that ethics, as mentioned here, corresponds to mindfulness.\n",
      "98:Ethics here is just mindfulness; mindfulness means right mindfulness.\n",
      "99:We must keep repeating this because elsewhere, we often hear about mindfulness, concentration, wisdom, mindfulness, concentration, wisdom, mindfulness, concentration, wisdom repeatedly.\n"
     ]
    }
   ],
   "source": [
    "print(viet_trans)"
   ]
  },
  {
   "cell_type": "code",
   "execution_count": 71,
   "metadata": {},
   "outputs": [],
   "source": [
    "test_file_2 = Path(\"./punct_Thiền Là Gì？ [TTSĐCTTĐB 02] TS Thích Nhất Hạnh (24-11-1994, Xóm Thượng, Làng Mai).txt\")"
   ]
  },
  {
   "cell_type": "code",
   "execution_count": 73,
   "metadata": {},
   "outputs": [],
   "source": [
    "text2 = get_text_from_file(test_file_2)"
   ]
  },
  {
   "cell_type": "code",
   "execution_count": 74,
   "metadata": {},
   "outputs": [],
   "source": [
    "num_text = NumberedText(text2)"
   ]
  },
  {
   "cell_type": "code",
   "execution_count": 88,
   "metadata": {},
   "outputs": [],
   "source": [
    "sample_text2 = num_text.get_segment(1, 5)"
   ]
  },
  {
   "cell_type": "code",
   "execution_count": 90,
   "metadata": {},
   "outputs": [
    {
     "name": "stdout",
     "output_type": "stream",
     "text": [
      "Thế đại chứng, hôm nay là ngày 24 tháng 11 năm 1994, chúng ta đang ở trong khóa mùa đông.\n",
      "\n",
      "Như quý vị đã biết, đề tài của khóa mùa đông là truyền thống sinh động của thiền tộc trong Đà Bột. Chữ \"meditation\" là tiếng Anh, đã được sử dụng để dịch chữ \"thiền\". Thiền, nói cho đủ là thiền-na, tại vì người ta ưa nói tắt thì người ta bỏ chữ \"na\" đi, tựa là thiền thôi, tiếng Phạn là gia-na. Và khi mà người Trung Hoa họ đọc chữ gia-na thì họ đọc là chan-na, chan, rồi họ cũng bỏ chữ \"na\" luôn, đọc chan. Chan là tiếng Trung Hoa, thiền là tiếng Việt, thiền là viết như vậy, người Việt đọc là thiền, trong khi đó người Nhật Đất thì đọc là danh, và trong khi đó thì người Cao Ly đọc là son. Thì cái gốc của cái chữ Phạn gia-na là gia, đó là gốc. Gia-gia-ti có nghĩa là suy nghĩ, có nghĩa là quan chiếu, có nghĩa là chăm chú về một cái đề tài, và trong đó nó có cái ý nghĩa là suy nghĩ ở trong.\n",
      "\n"
     ]
    }
   ],
   "source": [
    "print(sample_text2)"
   ]
  },
  {
   "cell_type": "code",
   "execution_count": 83,
   "metadata": {},
   "outputs": [
    {
     "name": "stderr",
     "output_type": "stream",
     "text": [
      "2025-01-09 21:44:41,642 - tnh.tnh_scholar.ai_text_processing.patterns - \u001b[1;32mDEBUG\u001b[0m - Found pattern file for ID translate_lines_thay_audio at: /Users/phapman/Desktop/tnh-scholar/pattern_repo/translate_lines_thay_audio.md\u001b[0m\n",
      "2025-01-09 21:44:41,651 - tnh.tnh_scholar.ai_text_processing.patterns - \u001b[1;32mDEBUG\u001b[0m - Acquired lock for /Users/phapman/Desktop/tnh-scholar/pattern_repo/translate_lines_thay_audio.md\u001b[0m\n",
      "2025-01-09 21:44:41,654 - tnh.tnh_scholar.ai_text_processing.patterns - \u001b[1;32mDEBUG\u001b[0m - Released lock for /Users/phapman/Desktop/tnh-scholar/pattern_repo/translate_lines_thay_audio.md\u001b[0m\n",
      "2025-01-09 21:44:41,738 - tnh.tnh_scholar.ai_text_processing.ai_text_processing - \u001b[1;32mDEBUG\u001b[0m - Total lines to translate: 13 | Translation segment size: 3.\u001b[0m\n",
      "2025-01-09 21:44:41,740 - tnh.tnh_scholar.ai_text_processing.ai_text_processing - \u001b[36mINFO\u001b[0m - Translating segment (lines 1-4)\u001b[0m\n",
      "2025-01-09 21:44:41,741 - tnh.tnh_scholar.ai_text_processing.ai_text_processing - \u001b[1;32mDEBUG\u001b[0m - translate_instructions:\n",
      "# Identity and Purpose\n",
      "\n",
      "- You are the world's leading expert at translating Dharma talks transcribed (through AI) from spoken Vietnamese into English.\n",
      "- You are translating a segment of text from a Dharma talk offered by Thich Nhat Hanh (Thay) in Plum Village, France.\n",
      "- You take time to consider carefully your translations. \n",
      "- You map out an entire translation for consistency and correctness, then review it at least 3 times, making improvements as you go. \n",
      "\n",
      "# Input\n",
      "- Preceding lines of the transcript marked 'PRECEDING_CONTEXT' (unless this is the beginning of the transcript).\n",
      "- The transcript segment you need to translate and correct marked with 'TRANSCRIPT_SEGMENT'\n",
      "- Lines following the transcript marked 'FOLLOWING_CONTEXT' (unless this is the end of the transcript):\n",
      "- All lines will be in the format 'X:LINE' where X is the line number.\n",
      "- The text content segments will be in Vietnamese.\n",
      "\n",
      "Example:\n",
      "\n",
      "PRECEDING_CONTEXT\n",
      "lines\n",
      "PRECEDING_CONTEXT\n",
      "\n",
      "TRANSCRIPT_SEGMENT\n",
      "lines\n",
      "TRANSCRIPT_SEGMENT\n",
      "\n",
      "FOLLOWING_CONTEXT\n",
      "lines\n",
      "FOLLOWING_CONTEXT\n",
      "\n",
      "\n",
      "# Task\n",
      "Your task is to:\n",
      "\n",
      "1. Translate each line of the TRANSCRIPT_SEGMENT into correct English in the style of Thay and Plum Village. \n",
      "2. Correct all errors: transcription, grammatical, speaking, and logical.\n",
      "3. If needed, infer Thay's intent in order to correct transcription or speaking errors and to generate a text that most closely matches his meaning, while still giving clear and eloquent English. \n",
      "4. Give the best approximation or contextual guess if the transcript is difficult or unclear. \n",
      "4. Add correct punctuation to create meaning that matches the style and intent.\n",
      "6. Consider adjacent lines for corrections and context when generating a line.\n",
      "7. Each line of translation should be as close as possible a translation of the original line--with the exception of adjustments for corrections and logical flow.\n",
      "7. Some transcription lines may be from sounds such as a bell. These can be marked as [Bell].\n",
      "8. Occasionally the transcriber generates unintelligible text (often in a different language). Mark such lines as [Unintelligible]\n",
      "9. Leave blank/empty lines in place.\n",
      "8. You must faithfully capture Thay's style and presentation while creating a meaningful flow.\n",
      "\n",
      "# Output\n",
      "Present your translation in the following format:\n",
      "\n",
      "TRANSCRIPT_SEGMENT\n",
      "X:Translated and corrected line in English\n",
      "X:Translated and corrected line in English\n",
      "...\n",
      "TRANSCRIPT_SEGMENT\n",
      "\n",
      "(X's are the original line numbers.)\n",
      "# Requirements\n",
      "\n",
      "- Maintain the original line numbers, including the start and end line number.\n",
      "- ONLY translate the TRANSCRIPT_SEGMENT. Do not translate the PRECEDING_CONTENT or FOLLOWING_CONTENT.\n",
      "- If a line doesn't make sense on its own, consider the context from surrounding lines to interpret its meaning correctly.\n",
      "- If you need to significantly change a line to make it logical or grammatically correct, try to keep the core meaning intact.\n",
      "- Your output must match exactly the number of lines, as well as the line numbers, as the original input, even if input lines are empty or contain only whitespace.\n",
      "- Do not add any comments or other formatting, such as ```, ` or any other characters.\n",
      "- Make no comments. \n",
      "\n",
      "# Final Note\n",
      "Remember to consider the context from the preceding and following lines when translating and correcting the main transcript segment. \n",
      "Your goal is to produce a clear, grammatically correct, and logically coherent English translation that accurately represents the original content.\u001b[0m\n",
      "2025-01-09 21:44:41,741 - tnh.tnh_scholar.ai_text_processing.ai_text_processing - \u001b[1;32mDEBUG\u001b[0m - Translation input:\n",
      "TRANSCRIPT_SEGMENT\n",
      "1:Thế đại chứng, hôm nay là ngày 24 tháng 11 năm 1994, chúng ta đang ở trong khóa mùa đông.\n",
      "2:\n",
      "3:Như quý vị đã biết, đề tài của khóa mùa đông là truyền thống sinh động của thiền tộc trong Đà Bột. Chữ \"meditation\" là tiếng Anh, đã được sử dụng để dịch chữ \"thiền\". Thiền, nói cho đủ là thiền-na, tại vì người ta ưa nói tắt thì người ta bỏ chữ \"na\" đi, tựa là thiền thôi, tiếng Phạn là gia-na. Và khi mà người Trung Hoa họ đọc chữ gia-na thì họ đọc là chan-na, chan, rồi họ cũng bỏ chữ \"na\" luôn, đọc chan. Chan là tiếng Trung Hoa, thiền là tiếng Việt, thiền là viết như vậy, người Việt đọc là thiền, trong khi đó người Nhật Đất thì đọc là danh, và trong khi đó thì người Cao Ly đọc là son. Thì cái gốc của cái chữ Phạn gia-na là gia, đó là gốc. Gia-gia-ti có nghĩa là suy nghĩ, có nghĩa là quan chiếu, có nghĩa là chăm chú về một cái đề tài, và trong đó nó có cái ý nghĩa là suy nghĩ ở trong.\n",
      "TRANSCRIPT_SEGMENT\n",
      "\n",
      "FOLLOWING_CONTEXT\n",
      "4:\n",
      "5:Vì vậy cho nên các tổ ngày xưa họ đã dịch thiền là tư duy tu, và tư duy ở đây nó có nghĩa là suy nghĩ. Nhưng thường thường chúng ta nghe nói đến thiền tức là không phải suy nghĩ, vì gốc của chữ thiền nó có nghĩa là suy nghĩ ở trong. Nhưng mà cái vấn đề là suy nghĩ cái cách nào, cái loại suy nghĩ nào, cái loại tư duy nào.\n",
      "6:\n",
      "FOLLOWING_CONTEXT\n",
      "\u001b[0m\n",
      "2025-01-09 21:44:41,748 - tnh.openai_text_processing - \u001b[36mINFO\u001b[0m - Open AI Text Processing with model 'gpt-4o' started...\u001b[0m\n",
      "2025-01-09 21:44:41,749 - tnh.gpt_interface - \u001b[1;32mDEBUG\u001b[0m - Starting chat completion with response_format=None and max_tokens=886...\u001b[0m\n",
      "2025-01-09 21:44:46,326 - tnh.openai_text_processing - \u001b[1;32mDEBUG\u001b[0m - Full completion:\n",
      "ChatCompletion(id='chatcmpl-Ao26zdGJtO8FRvOOlHKtum7C2E20o', choices=[Choice(finish_reason='stop', index=0, logprobs=None, message=ChatCompletionMessage(content='TRANSCRIPT_SEGMENT\\n1:Dear community, today is November 24th, 1994, and we are in the winter retreat.\\n2:\\n3:As you already know, the theme of the winter retreat is the living tradition of meditation in the Dhuta community. The word \"meditation\" in English is used to translate the word \"thiền.\" \"Thiền,\" to speak fully, is \"thiền-na,\" because people like to shorten it, they drop the \"na,\" leaving just \"thiền.\" In Sanskrit, it is \"dhyāna.\" When the Chinese read \"dhyāna,\" they say \"chán-na,\" and then they also drop the \"na,\" saying \"chán.\" \"Chán\" is Chinese; \"thiền\" is Vietnamese, and it is written as such, pronounced \"thiền\" by Vietnamese. Meanwhile, the Japanese pronounce it as \"zen,\" and the Koreans pronounce it as \"seon.\" The root of the Sanskrit word \"dhyāna\" is \"dhi,\" which means to contemplate, to observe, to focus attentively on a subject, and within it, there is an implication of inner thinking.\\nTRANSCRIPT_SEGMENT', refusal=None, role='assistant', audio=None, function_call=None, tool_calls=None))], created=1736487881, model='gpt-4o-2024-08-06', object='chat.completion', service_tier='default', system_fingerprint='fp_b7d65f1a5b', usage=CompletionUsage(completion_tokens=249, prompt_tokens=1116, total_tokens=1365, completion_tokens_details=CompletionTokensDetails(accepted_prediction_tokens=0, audio_tokens=0, reasoning_tokens=0, rejected_prediction_tokens=0), prompt_tokens_details=PromptTokensDetails(audio_tokens=0, cached_tokens=0)))\u001b[0m\n",
      "2025-01-09 21:44:46,332 - tnh.openai_text_processing - \u001b[36mINFO\u001b[0m - Processing completed.\u001b[0m\n",
      "2025-01-09 21:44:46,333 - tnh.tnh_scholar.ai_text_processing.ai_text_processing - \u001b[1;32mDEBUG\u001b[0m - Validated 3 lines from 1 to 3\u001b[0m\n",
      "2025-01-09 21:44:46,334 - tnh.tnh_scholar.ai_text_processing.ai_text_processing - \u001b[36mINFO\u001b[0m - Translating segment (lines 4-7)\u001b[0m\n",
      "2025-01-09 21:44:46,337 - tnh.tnh_scholar.ai_text_processing.ai_text_processing - \u001b[1;32mDEBUG\u001b[0m - Translation input:\n",
      "PRECEDING_CONTEXT\n",
      "1:Thế đại chứng, hôm nay là ngày 24 tháng 11 năm 1994, chúng ta đang ở trong khóa mùa đông.\n",
      "2:\n",
      "3:Như quý vị đã biết, đề tài của khóa mùa đông là truyền thống sinh động của thiền tộc trong Đà Bột. Chữ \"meditation\" là tiếng Anh, đã được sử dụng để dịch chữ \"thiền\". Thiền, nói cho đủ là thiền-na, tại vì người ta ưa nói tắt thì người ta bỏ chữ \"na\" đi, tựa là thiền thôi, tiếng Phạn là gia-na. Và khi mà người Trung Hoa họ đọc chữ gia-na thì họ đọc là chan-na, chan, rồi họ cũng bỏ chữ \"na\" luôn, đọc chan. Chan là tiếng Trung Hoa, thiền là tiếng Việt, thiền là viết như vậy, người Việt đọc là thiền, trong khi đó người Nhật Đất thì đọc là danh, và trong khi đó thì người Cao Ly đọc là son. Thì cái gốc của cái chữ Phạn gia-na là gia, đó là gốc. Gia-gia-ti có nghĩa là suy nghĩ, có nghĩa là quan chiếu, có nghĩa là chăm chú về một cái đề tài, và trong đó nó có cái ý nghĩa là suy nghĩ ở trong.\n",
      "PRECEDING_CONTEXT\n",
      "\n",
      "TRANSCRIPT_SEGMENT\n",
      "4:\n",
      "5:Vì vậy cho nên các tổ ngày xưa họ đã dịch thiền là tư duy tu, và tư duy ở đây nó có nghĩa là suy nghĩ. Nhưng thường thường chúng ta nghe nói đến thiền tức là không phải suy nghĩ, vì gốc của chữ thiền nó có nghĩa là suy nghĩ ở trong. Nhưng mà cái vấn đề là suy nghĩ cái cách nào, cái loại suy nghĩ nào, cái loại tư duy nào.\n",
      "6:\n",
      "TRANSCRIPT_SEGMENT\n",
      "\n",
      "FOLLOWING_CONTEXT\n",
      "7:Trước hết chúng ta nên biết rằng cái chữ thiền gia-na nó không phải là cái chữ chỉ được dùng riêng cho cái sự thiền tập trong Đạo Buộc. Các giáo phái khác, các truyền thống khác có trước Đạo Buộc và có mặt đồng thời với Đạo Buộc, và sau Đạo Buộc cũng dùng danh từ gia-na. Vì vậy cho nên gia-na thiền không phải chỉ là một cái danh từ được dùng trong Đạo Buộc, đó là một cái danh từ tốt quá. Có những trong kinh điển có dùng tới, nhưng mà kinh điển Đạo Buộc dùng những cái danh từ khác nhiều hơn. Trong cái thời Đạo Buộc tài thế, thì những cái danh từ khác được dùng nhiều hơn là danh từ thiền. Thế rằng trong kinh điển cũng có nhiều danh từ thiền.\n",
      "8:\n",
      "9:Vì vậy, vào khoảng 100 năm sau ngày Bụt nực dịch thì danh từ Thiền được dùng nhiều hơn, ngay trong thời đại Đạo Bụt bên Phi, điều này điều đều mình phải biết và mình đã câu hỏi tại sao. Vậy cuối nguyên khi mà Đạo Bụt dùng danh từ Thiền thì Đạo Bụt cũng cho vào trong danh từ đó những ý nghĩa của Đạo Bụt. Tại vì những truyền thống ngoài Đạo Bụt, có trước Đạo Bụt, họ cũng dùng những danh từ đó, nhưng ý nghĩa họ gắn cho danh từ đó không đồng với ý nghĩa người Phật tự gắn cho danh từ đó. Nó có nghĩa là có thể có những điểm đồng, nhưng có những điểm khác.\n",
      "FOLLOWING_CONTEXT\n",
      "\u001b[0m\n",
      "2025-01-09 21:44:46,341 - tnh.openai_text_processing - \u001b[36mINFO\u001b[0m - Open AI Text Processing with model 'gpt-4o' started...\u001b[0m\n",
      "2025-01-09 21:44:46,341 - tnh.gpt_interface - \u001b[1;32mDEBUG\u001b[0m - Starting chat completion with response_format=None and max_tokens=1245...\u001b[0m\n",
      "2025-01-09 21:44:48,577 - tnh.openai_text_processing - \u001b[1;32mDEBUG\u001b[0m - Full completion:\n",
      "ChatCompletion(id='chatcmpl-Ao274VIfacndfqIdNQqL19aDsSZlP', choices=[Choice(finish_reason='stop', index=0, logprobs=None, message=ChatCompletionMessage(content='TRANSCRIPT_SEGMENT\\n4:\\n5:Therefore, the ancient teachers translated meditation as \"mindful reflection,\" and here, reflection means thinking. But often when we hear about meditation, it implies not thinking, even though the root of the word meditation suggests thinking within. The issue is how to think, what kind of thinking, what type of reflection.\\n6:\\nTRANSCRIPT_SEGMENT', refusal=None, role='assistant', audio=None, function_call=None, tool_calls=None))], created=1736487886, model='gpt-4o-2024-08-06', object='chat.completion', service_tier='default', system_fingerprint='fp_b7d65f1a5b', usage=CompletionUsage(completion_tokens=78, prompt_tokens=1475, total_tokens=1553, completion_tokens_details=CompletionTokensDetails(accepted_prediction_tokens=0, audio_tokens=0, reasoning_tokens=0, rejected_prediction_tokens=0), prompt_tokens_details=PromptTokensDetails(audio_tokens=0, cached_tokens=0)))\u001b[0m\n",
      "2025-01-09 21:44:48,578 - tnh.openai_text_processing - \u001b[36mINFO\u001b[0m - Processing completed.\u001b[0m\n",
      "2025-01-09 21:44:48,579 - tnh.tnh_scholar.ai_text_processing.ai_text_processing - \u001b[1;32mDEBUG\u001b[0m - Validated 3 lines from 4 to 6\u001b[0m\n",
      "2025-01-09 21:44:48,580 - tnh.tnh_scholar.ai_text_processing.ai_text_processing - \u001b[36mINFO\u001b[0m - Translating segment (lines 7-10)\u001b[0m\n",
      "2025-01-09 21:44:48,581 - tnh.tnh_scholar.ai_text_processing.ai_text_processing - \u001b[1;32mDEBUG\u001b[0m - Translation input:\n",
      "PRECEDING_CONTEXT\n",
      "4:\n",
      "5:Vì vậy cho nên các tổ ngày xưa họ đã dịch thiền là tư duy tu, và tư duy ở đây nó có nghĩa là suy nghĩ. Nhưng thường thường chúng ta nghe nói đến thiền tức là không phải suy nghĩ, vì gốc của chữ thiền nó có nghĩa là suy nghĩ ở trong. Nhưng mà cái vấn đề là suy nghĩ cái cách nào, cái loại suy nghĩ nào, cái loại tư duy nào.\n",
      "6:\n",
      "PRECEDING_CONTEXT\n",
      "\n",
      "TRANSCRIPT_SEGMENT\n",
      "7:Trước hết chúng ta nên biết rằng cái chữ thiền gia-na nó không phải là cái chữ chỉ được dùng riêng cho cái sự thiền tập trong Đạo Buộc. Các giáo phái khác, các truyền thống khác có trước Đạo Buộc và có mặt đồng thời với Đạo Buộc, và sau Đạo Buộc cũng dùng danh từ gia-na. Vì vậy cho nên gia-na thiền không phải chỉ là một cái danh từ được dùng trong Đạo Buộc, đó là một cái danh từ tốt quá. Có những trong kinh điển có dùng tới, nhưng mà kinh điển Đạo Buộc dùng những cái danh từ khác nhiều hơn. Trong cái thời Đạo Buộc tài thế, thì những cái danh từ khác được dùng nhiều hơn là danh từ thiền. Thế rằng trong kinh điển cũng có nhiều danh từ thiền.\n",
      "8:\n",
      "9:Vì vậy, vào khoảng 100 năm sau ngày Bụt nực dịch thì danh từ Thiền được dùng nhiều hơn, ngay trong thời đại Đạo Bụt bên Phi, điều này điều đều mình phải biết và mình đã câu hỏi tại sao. Vậy cuối nguyên khi mà Đạo Bụt dùng danh từ Thiền thì Đạo Bụt cũng cho vào trong danh từ đó những ý nghĩa của Đạo Bụt. Tại vì những truyền thống ngoài Đạo Bụt, có trước Đạo Bụt, họ cũng dùng những danh từ đó, nhưng ý nghĩa họ gắn cho danh từ đó không đồng với ý nghĩa người Phật tự gắn cho danh từ đó. Nó có nghĩa là có thể có những điểm đồng, nhưng có những điểm khác.\n",
      "TRANSCRIPT_SEGMENT\n",
      "\n",
      "FOLLOWING_CONTEXT\n",
      "10:\n",
      "11:Ví dụ như danh từ Luân Hồi, Samsara. Ở trong những truyền thống khác, người ta có thể hiểu cái nghĩa Luân Hồi nó khác, và trong Đạo Bụt, chúng ta có một cái ý nghiệm khác về Luân Hồi. Ví dụ như là ngoài Đạo Bụt, thì người ta có tin vào một cái linh hồn bất tử, và cái quan niệm về Luân Hồi ngoài Đạo Bụt, nó được căn cứ trên những ý nghiệm về linh hồn bất tử. Nhưng mà trong Đạo Bụt, chúng ta học giáo lý vô ngã, và vì vậy cho nên Luân Hồi trong Đạo Bụt phải hiểu theo cái yên với cái giáo lý vô ngã.\n",
      "12:\n",
      "FOLLOWING_CONTEXT\n",
      "\u001b[0m\n",
      "2025-01-09 21:44:48,583 - tnh.openai_text_processing - \u001b[36mINFO\u001b[0m - Open AI Text Processing with model 'gpt-4o' started...\u001b[0m\n",
      "2025-01-09 21:44:48,584 - tnh.gpt_interface - \u001b[1;32mDEBUG\u001b[0m - Starting chat completion with response_format=None and max_tokens=1139...\u001b[0m\n",
      "2025-01-09 21:44:57,189 - tnh.openai_text_processing - \u001b[1;32mDEBUG\u001b[0m - Full completion:\n",
      "ChatCompletion(id='chatcmpl-Ao2764CZDg6XhEgBQuI2OPam4OVCT', choices=[Choice(finish_reason='stop', index=0, logprobs=None, message=ChatCompletionMessage(content='TRANSCRIPT_SEGMENT\\n7:First of all, we should know that the term \"dhyāna\" is not exclusively used for the meditation practice in Buddhism. Other sects, other traditions that existed before Buddhism, coexisted with Buddhism, and even those that appeared after Buddhism, also use the term \"dhyāna.\" Therefore, \"dhyāna meditation\" is not a term used solely within Buddhism; it is a very good term. It is found in some scriptures, but Buddhist scriptures use other terms more frequently. During the historical time of Buddhism, other terms were used more than the term \"meditation.\" Thus, in the scriptures, there are many terms for meditation.\\n8:\\n9:Therefore, about 100 years after the Buddha\\'s passing, the term \"meditation\" was used more, even during the Buddhist era in India. This is something we must know and question why. So ultimately, when Buddhism uses the term \"meditation,\" it also incorporates Buddhist meanings into that term. Because traditions outside of Buddhism, those existing before Buddhism, also use that term, but the meaning they attach to it is not the same as the meaning Buddhists attach to it. It means there may be some similarities, but there are differences as well.\\nTRANSCRIPT_SEGMENT', refusal=None, role='assistant', audio=None, function_call=None, tool_calls=None))], created=1736487888, model='gpt-4o-2024-08-06', object='chat.completion', service_tier='default', system_fingerprint='fp_b7d65f1a5b', usage=CompletionUsage(completion_tokens=263, prompt_tokens=1369, total_tokens=1632, completion_tokens_details=CompletionTokensDetails(accepted_prediction_tokens=0, audio_tokens=0, reasoning_tokens=0, rejected_prediction_tokens=0), prompt_tokens_details=PromptTokensDetails(audio_tokens=0, cached_tokens=0)))\u001b[0m\n",
      "2025-01-09 21:44:57,197 - tnh.openai_text_processing - \u001b[36mINFO\u001b[0m - Processing completed.\u001b[0m\n",
      "2025-01-09 21:44:57,197 - tnh.tnh_scholar.ai_text_processing.ai_text_processing - \u001b[1;32mDEBUG\u001b[0m - Validated 3 lines from 7 to 9\u001b[0m\n",
      "2025-01-09 21:44:57,198 - tnh.tnh_scholar.ai_text_processing.ai_text_processing - \u001b[36mINFO\u001b[0m - Translating segment (lines 10-13)\u001b[0m\n",
      "2025-01-09 21:44:57,200 - tnh.tnh_scholar.ai_text_processing.ai_text_processing - \u001b[1;32mDEBUG\u001b[0m - Translation input:\n",
      "PRECEDING_CONTEXT\n",
      "7:Trước hết chúng ta nên biết rằng cái chữ thiền gia-na nó không phải là cái chữ chỉ được dùng riêng cho cái sự thiền tập trong Đạo Buộc. Các giáo phái khác, các truyền thống khác có trước Đạo Buộc và có mặt đồng thời với Đạo Buộc, và sau Đạo Buộc cũng dùng danh từ gia-na. Vì vậy cho nên gia-na thiền không phải chỉ là một cái danh từ được dùng trong Đạo Buộc, đó là một cái danh từ tốt quá. Có những trong kinh điển có dùng tới, nhưng mà kinh điển Đạo Buộc dùng những cái danh từ khác nhiều hơn. Trong cái thời Đạo Buộc tài thế, thì những cái danh từ khác được dùng nhiều hơn là danh từ thiền. Thế rằng trong kinh điển cũng có nhiều danh từ thiền.\n",
      "8:\n",
      "9:Vì vậy, vào khoảng 100 năm sau ngày Bụt nực dịch thì danh từ Thiền được dùng nhiều hơn, ngay trong thời đại Đạo Bụt bên Phi, điều này điều đều mình phải biết và mình đã câu hỏi tại sao. Vậy cuối nguyên khi mà Đạo Bụt dùng danh từ Thiền thì Đạo Bụt cũng cho vào trong danh từ đó những ý nghĩa của Đạo Bụt. Tại vì những truyền thống ngoài Đạo Bụt, có trước Đạo Bụt, họ cũng dùng những danh từ đó, nhưng ý nghĩa họ gắn cho danh từ đó không đồng với ý nghĩa người Phật tự gắn cho danh từ đó. Nó có nghĩa là có thể có những điểm đồng, nhưng có những điểm khác.\n",
      "PRECEDING_CONTEXT\n",
      "\n",
      "TRANSCRIPT_SEGMENT\n",
      "10:\n",
      "11:Ví dụ như danh từ Luân Hồi, Samsara. Ở trong những truyền thống khác, người ta có thể hiểu cái nghĩa Luân Hồi nó khác, và trong Đạo Bụt, chúng ta có một cái ý nghiệm khác về Luân Hồi. Ví dụ như là ngoài Đạo Bụt, thì người ta có tin vào một cái linh hồn bất tử, và cái quan niệm về Luân Hồi ngoài Đạo Bụt, nó được căn cứ trên những ý nghiệm về linh hồn bất tử. Nhưng mà trong Đạo Bụt, chúng ta học giáo lý vô ngã, và vì vậy cho nên Luân Hồi trong Đạo Bụt phải hiểu theo cái yên với cái giáo lý vô ngã.\n",
      "12:\n",
      "TRANSCRIPT_SEGMENT\n",
      "\n",
      "FOLLOWING_CONTEXT\n",
      "13:Cho nên cùng một danh từ, nhưng mà trong Đạo Bục vùng khác, và ngoài Đạo Bục vùng khác, thì nó cũng vậy. Chúng ta biết rằng trong cái thời gọi là Phận Nhân Thủy, tức là thời mà còn là Đạo Bụt cuối cùng, thì các thầy đã thực tập thiền tọa, các thầy đã thực tập thiền hành, các thầy đã thực tập ăn cơ nghiêm lặng, các thầy đã thực tập hơi thở, có chánh niệm, và tất cả những cái là thực tập đó, nó là sự thật, và cái tội giác của Bụt cũng như là của các người địa tử, cái tình thương của Bụt và của các người địa tử, cái an lạc, thành thơi của Bụt và đệ tử, là nó được phát xuất từ những cái lưới thực tập như vậy.\n",
      "FOLLOWING_CONTEXT\n",
      "\u001b[0m\n",
      "2025-01-09 21:44:57,210 - tnh.openai_text_processing - \u001b[36mINFO\u001b[0m - Open AI Text Processing with model 'gpt-4o' started...\u001b[0m\n",
      "2025-01-09 21:44:57,210 - tnh.gpt_interface - \u001b[1;32mDEBUG\u001b[0m - Starting chat completion with response_format=None and max_tokens=1239...\u001b[0m\n",
      "2025-01-09 21:44:59,631 - tnh.openai_text_processing - \u001b[1;32mDEBUG\u001b[0m - Full completion:\n",
      "ChatCompletion(id='chatcmpl-Ao27FFetidg5imbndZTSQOk85hZsm', choices=[Choice(finish_reason='stop', index=0, logprobs=None, message=ChatCompletionMessage(content='TRANSCRIPT_SEGMENT\\n10:\\n11:For example, the term Samsara. In other traditions, people might understand the meaning of Samsara differently, whereas in Buddhism, we have a different conception of Samsara. For instance, outside of Buddhism, people may believe in an immortal soul, and the concept of Samsara outside of Buddhism is often based on these notions of an immortal soul. However, in Buddhism, we study the doctrine of non-self, and therefore, Samsara in Buddhism must be understood in harmony with the doctrine of non-self.\\n12:\\nTRANSCRIPT_SEGMENT', refusal=None, role='assistant', audio=None, function_call=None, tool_calls=None))], created=1736487897, model='gpt-4o-2024-08-06', object='chat.completion', service_tier='default', system_fingerprint='fp_b7d65f1a5b', usage=CompletionUsage(completion_tokens=118, prompt_tokens=1469, total_tokens=1587, completion_tokens_details=CompletionTokensDetails(accepted_prediction_tokens=0, audio_tokens=0, reasoning_tokens=0, rejected_prediction_tokens=0), prompt_tokens_details=PromptTokensDetails(audio_tokens=0, cached_tokens=0)))\u001b[0m\n",
      "2025-01-09 21:44:59,632 - tnh.openai_text_processing - \u001b[36mINFO\u001b[0m - Processing completed.\u001b[0m\n",
      "2025-01-09 21:44:59,634 - tnh.tnh_scholar.ai_text_processing.ai_text_processing - \u001b[1;32mDEBUG\u001b[0m - Validated 3 lines from 10 to 12\u001b[0m\n",
      "2025-01-09 21:44:59,635 - tnh.tnh_scholar.ai_text_processing.ai_text_processing - \u001b[36mINFO\u001b[0m - Translating segment (lines 13-14)\u001b[0m\n",
      "2025-01-09 21:44:59,636 - tnh.tnh_scholar.ai_text_processing.ai_text_processing - \u001b[1;32mDEBUG\u001b[0m - Translation input:\n",
      "PRECEDING_CONTEXT\n",
      "10:\n",
      "11:Ví dụ như danh từ Luân Hồi, Samsara. Ở trong những truyền thống khác, người ta có thể hiểu cái nghĩa Luân Hồi nó khác, và trong Đạo Bụt, chúng ta có một cái ý nghiệm khác về Luân Hồi. Ví dụ như là ngoài Đạo Bụt, thì người ta có tin vào một cái linh hồn bất tử, và cái quan niệm về Luân Hồi ngoài Đạo Bụt, nó được căn cứ trên những ý nghiệm về linh hồn bất tử. Nhưng mà trong Đạo Bụt, chúng ta học giáo lý vô ngã, và vì vậy cho nên Luân Hồi trong Đạo Bụt phải hiểu theo cái yên với cái giáo lý vô ngã.\n",
      "12:\n",
      "PRECEDING_CONTEXT\n",
      "\n",
      "TRANSCRIPT_SEGMENT\n",
      "13:Cho nên cùng một danh từ, nhưng mà trong Đạo Bục vùng khác, và ngoài Đạo Bục vùng khác, thì nó cũng vậy. Chúng ta biết rằng trong cái thời gọi là Phận Nhân Thủy, tức là thời mà còn là Đạo Bụt cuối cùng, thì các thầy đã thực tập thiền tọa, các thầy đã thực tập thiền hành, các thầy đã thực tập ăn cơ nghiêm lặng, các thầy đã thực tập hơi thở, có chánh niệm, và tất cả những cái là thực tập đó, nó là sự thật, và cái tội giác của Bụt cũng như là của các người địa tử, cái tình thương của Bụt và của các người địa tử, cái an lạc, thành thơi của Bụt và đệ tử, là nó được phát xuất từ những cái lưới thực tập như vậy.\n",
      "TRANSCRIPT_SEGMENT\n",
      "\u001b[0m\n",
      "2025-01-09 21:44:59,637 - tnh.openai_text_processing - \u001b[36mINFO\u001b[0m - Open AI Text Processing with model 'gpt-4o' started...\u001b[0m\n",
      "2025-01-09 21:44:59,638 - tnh.gpt_interface - \u001b[1;32mDEBUG\u001b[0m - Starting chat completion with response_format=None and max_tokens=882...\u001b[0m\n",
      "2025-01-09 21:45:02,072 - tnh.openai_text_processing - \u001b[1;32mDEBUG\u001b[0m - Full completion:\n",
      "ChatCompletion(id='chatcmpl-Ao27Hxh5o4ofI2CM6zP2NhfN3TuC5', choices=[Choice(finish_reason='stop', index=0, logprobs=None, message=ChatCompletionMessage(content='TRANSCRIPT_SEGMENT\\n13:Therefore, the same term, but within Buddhism it carries different meanings, just like outside Buddhism. We know that during the era known as the Buddha’s time, when it was still the final form of Buddhism, the monks practiced sitting meditation, they practiced walking meditation, they practiced mindful eating in silence, and they practiced mindful breathing. All of these practices are real, and the insight of the Buddha, as well as that of his disciples, the love of the Buddha and his disciples, the peace and freedom of the Buddha and his disciples, all arose from such practices.\\nTRANSCRIPT_SEGMENT', refusal=None, role='assistant', audio=None, function_call=None, tool_calls=None))], created=1736487899, model='gpt-4o-2024-08-06', object='chat.completion', service_tier='default', system_fingerprint='fp_b7d65f1a5b', usage=CompletionUsage(completion_tokens=126, prompt_tokens=1112, total_tokens=1238, completion_tokens_details=CompletionTokensDetails(accepted_prediction_tokens=0, audio_tokens=0, reasoning_tokens=0, rejected_prediction_tokens=0), prompt_tokens_details=PromptTokensDetails(audio_tokens=0, cached_tokens=0)))\u001b[0m\n",
      "2025-01-09 21:45:02,075 - tnh.openai_text_processing - \u001b[36mINFO\u001b[0m - Processing completed.\u001b[0m\n",
      "2025-01-09 21:45:02,075 - tnh.tnh_scholar.ai_text_processing.ai_text_processing - \u001b[1;32mDEBUG\u001b[0m - Validated 1 lines from 13 to 13\u001b[0m\n"
     ]
    }
   ],
   "source": [
    "viet_trans2 = translate_text_by_lines(sample_text2, 'Vietnamese', 'English', style='Thich Nhat Hanh', pattern=manager.load_pattern(\"translate_lines_thay_audio\"), segment_size=3)"
   ]
  },
  {
   "cell_type": "code",
   "execution_count": 84,
   "metadata": {},
   "outputs": [
    {
     "name": "stdout",
     "output_type": "stream",
     "text": [
      "1:Dear community, today is November 24th, 1994, and we are in the winter retreat.\n",
      "2:\n",
      "3:As you already know, the theme of the winter retreat is the living tradition of meditation in the Dhuta community. The word \"meditation\" in English is used to translate the word \"thiền.\" \"Thiền,\" to speak fully, is \"thiền-na,\" because people like to shorten it, they drop the \"na,\" leaving just \"thiền.\" In Sanskrit, it is \"dhyāna.\" When the Chinese read \"dhyāna,\" they say \"chán-na,\" and then they also drop the \"na,\" saying \"chán.\" \"Chán\" is Chinese; \"thiền\" is Vietnamese, and it is written as such, pronounced \"thiền\" by Vietnamese. Meanwhile, the Japanese pronounce it as \"zen,\" and the Koreans pronounce it as \"seon.\" The root of the Sanskrit word \"dhyāna\" is \"dhi,\" which means to contemplate, to observe, to focus attentively on a subject, and within it, there is an implication of inner thinking.\n",
      "4:\n",
      "5:Therefore, the ancient teachers translated meditation as \"mindful reflection,\" and here, reflection means thinking. But often when we hear about meditation, it implies not thinking, even though the root of the word meditation suggests thinking within. The issue is how to think, what kind of thinking, what type of reflection.\n",
      "6:\n",
      "7:First of all, we should know that the term \"dhyāna\" is not exclusively used for the meditation practice in Buddhism. Other sects, other traditions that existed before Buddhism, coexisted with Buddhism, and even those that appeared after Buddhism, also use the term \"dhyāna.\" Therefore, \"dhyāna meditation\" is not a term used solely within Buddhism; it is a very good term. It is found in some scriptures, but Buddhist scriptures use other terms more frequently. During the historical time of Buddhism, other terms were used more than the term \"meditation.\" Thus, in the scriptures, there are many terms for meditation.\n",
      "8:\n",
      "9:Therefore, about 100 years after the Buddha's passing, the term \"meditation\" was used more, even during the Buddhist era in India. This is something we must know and question why. So ultimately, when Buddhism uses the term \"meditation,\" it also incorporates Buddhist meanings into that term. Because traditions outside of Buddhism, those existing before Buddhism, also use that term, but the meaning they attach to it is not the same as the meaning Buddhists attach to it. It means there may be some similarities, but there are differences as well.\n",
      "10:\n",
      "11:For example, the term Samsara. In other traditions, people might understand the meaning of Samsara differently, whereas in Buddhism, we have a different conception of Samsara. For instance, outside of Buddhism, people may believe in an immortal soul, and the concept of Samsara outside of Buddhism is often based on these notions of an immortal soul. However, in Buddhism, we study the doctrine of non-self, and therefore, Samsara in Buddhism must be understood in harmony with the doctrine of non-self.\n",
      "12:\n",
      "13:Therefore, the same term, but within Buddhism it carries different meanings, just like outside Buddhism. We know that during the era known as the Buddha’s time, when it was still the final form of Buddhism, the monks practiced sitting meditation, they practiced walking meditation, they practiced mindful eating in silence, and they practiced mindful breathing. All of these practices are real, and the insight of the Buddha, as well as that of his disciples, the love of the Buddha and his disciples, the peace and freedom of the Buddha and his disciples, all arose from such practices.\n"
     ]
    }
   ],
   "source": [
    "print(viet_trans2)"
   ]
  },
  {
   "cell_type": "code",
   "execution_count": 15,
   "metadata": {},
   "outputs": [],
   "source": [
    "mini_processor = OpenAIProcessor(model='gpt-4o-mini')"
   ]
  },
  {
   "cell_type": "code",
   "execution_count": 16,
   "metadata": {},
   "outputs": [],
   "source": [
    "testfile = Path('./testfile')"
   ]
  },
  {
   "cell_type": "code",
   "execution_count": 17,
   "metadata": {},
   "outputs": [],
   "source": [
    "test_input = get_text_from_file(testfile)"
   ]
  },
  {
   "cell_type": "code",
   "execution_count": 48,
   "metadata": {},
   "outputs": [
    {
     "data": {
      "text/plain": [
       "2134"
      ]
     },
     "execution_count": 48,
     "metadata": {},
     "output_type": "execute_result"
    }
   ],
   "source": [
    "token_count(test_input)"
   ]
  },
  {
   "cell_type": "code",
   "execution_count": 18,
   "metadata": {},
   "outputs": [],
   "source": [
    "wrapped_text = wrap_text(test_input)"
   ]
  },
  {
   "cell_type": "code",
   "execution_count": 19,
   "metadata": {},
   "outputs": [
    {
     "name": "stdout",
     "output_type": "stream",
     "text": [
      "a while back I made a video about B Rule and explained how it had been influential in my thinking I didn't really however explain how Bas rule Works um or what it is so I'm going to do that today I'll start with a puzzle imagine that you're walking across the campus of some large American University and you meet a guy let's call him Tom you chat with Tom for a few minutes and you notice that Tom is shy he's not really making eye contact very often he's um mumbling and my question for you is if you had to guess would you guess that Tom is more likely to be in a math PhD program or in the business school let's assume it has to be one or the other so I don't know what you guessed but uh I've taught a class on Bas rule a bunch of times so I can tell you what most people guess and that is that Tom is more likely to be a math PhD student um the reasoning is that shyness is just much more common in math phds than in Business Schools and I think this is accurate based on my experience there's an old joke that goes how can you tell the extroverted mathematician and the answer is he's the one looking at your shoes instead of his shoes anyway so I think that observation is accurate but there's another piece of information that's relevant and that people tend to forget when answering this question and that is how many math phds are there relative to business school students there's a lot fewer uh the numbers will vary from school to school but it's something on the order of 10 times as many business school students as math PhD students so we have these two pieces of information uh about there being many more business students than math students and also about shyness being more common among math students than business students and the question is how do we combine these two pieces to get one overall estimate about Tom this is where base rule comes in so you can imagine that this divided rectangle represents the relative proportions of math to business students very roughly speaking um we'll put it at 1 to 10 and now looking just at math students we can ask how common is shyness um I would very roughly guess that it's about 75% of math PhD students um come off as shy and now looking just at business school students again guessing roughly I'd say about 15% of business school students come off as shy so now we've presented both of those pieces of information in one diagram and we want to know whether Tom is more likely to be in a math program or a business program we don't know which one he's in but we do know that he's shy which means that he must be in one of those lavender rectangles right because those represent the shy math and the shy business students so to get a sense of the relative probabilities of him being in math versus business we just have to compare the relative sizes of those lavender rectangles um and it looks roughly like the lavender business rectangle is about twice as big as the lavender math rectangle and you can see how the math shakes out we just multiply two linear ratios the ratio of um math to business students which we put at 1 to 10 times the ratio of shyness in math versus shyness in business which we put at 75-5 and multiplying those two linear ratios gives us a ratio of areas which comes out to about 1 to two so roughly twice as likely for Tom to be in the business program even though shyness is more common among math students so this is the mechanics of Base rule this is how it works and now I want to talk about how I use it in my everyday thinking I don't plug numbers into a formula um I almost never draw these diagrams in fact but there are a few rules uh principles of thinking that fall out of the math of Bas rule that uh that are really useful for me principle number one is something like remember your priors so so as you saw in the Tom example um what people naturally do is focus on the evidence that Tom is shy and forget about the prior the sort of background knowledge that um math is just much less common major or or program than business and uh this is a very common phenomenon it's called base rate neglect and a personal example I have many examples of this myself but one example uh comes recently from I rented a house with some friends and and while we were there we had to call a repairman to fix the stove and he made us a little bit nervous because uh while he was there we noticed him sort of peering into different rooms of the house and there's no reason you would need to uh see the bedroom of a house if you're here to fix the stove so uh we had heard stories in which repair men come back after having done their repairs um and rob a house after having had a chance to you know case the joint or whatever and so we were worried that that was what was going on in this case and I think that seeing your repairman snooping is some evidence that should make you somewhat more confident that he's going to rob you um but we had to take a step back and remember what is the prior on a repairman being honest versus a robber and I think that it's not that common for uh someone to be a robber I don't know the exact numbers but maybe there are hundred times more honest repairmen than robbers something on that order so uh even imagining that snooping is much more common among robbers than honest repairmen let's say 80% of robbers will uh be seen to be snooping and maybe 10% of honest repairmen even so seeing that evidence should only bump our probability of this guy uh wanting to Rob us from maybe 1% to maybe uh 8% so you know we should lock our doors but not freak out something like that so that's principle number one remember your priors principle number two um I'll illustrate with a another story from My Life um a while ago I was working with a guy named let's call him Bob and I had reason to believe that Bob might be jealous of or competitive with another person who worked with us let's call her Alice so one day I'm having coffee with Bob and he's complaining about Alice I think because she hadn't finished some project that she was supposed to have finished by that point and I'm thinking to myself this just proves that I was right about Bob uh if he was jealous of her he would want to make her look bad and he's complaining about her so I'm right and a little while later it occurred to me to ask well okay let's assume for the moment that I'm wrong and Boba is not jealous of Alice how implausible is it really in that scenario that he would be complaining about her and it's not implausible at all actually it often happens that people uh get annoyed when someone doesn't finish something that they were supposed to finish and it doesn't have anything to do with being jealous or competitive and so I may still have my prior reasons to suspect that Bob is probably jealous of or competitive with Alice but seeing this new piece of evidence should not make me feel significantly more confident that I'm right um maybe complaining about Alice is a little bit more likely in the world in which he's jealous of her than in the world in which he's not but only slightly it should not really shift my probability that much at all that I was right and I think that this is a very common thing as well that we go around the world seeing um pieces of evidence that we can explain with our current theory with our pet Theory and that makes us feel all the more confident that we're right and we don't take that extra step of asking well what if I were wrong what would I expect to see then and how different is it if at all from what I see now so I keep this principle in mind when uh let's say I I try some new diet and I noticed that I I have more energy this week well How likely is that in the world in which the diet doesn't work compared to the world in which it does maybe my energy is really very variable so it's not really that implausible that my energy would happen to be uh higher right after trying the diet or uh let's say uh I give someone a a paper or or an idea to evaluate and he thinks it's great um I have to ask myself well how common is it for him to think that bad ideas are great um how much evidence is his approval that my idea is in fact great so that's principle number two ask yourself what if I were wrong what would I expect to see and how is it different from what I currently see principle number three is sort of the flip side of principle number two um you could you could call it update incrementally so another story um when when I first moved to Berkeley I was pretty confident that meditation was for lack of a better word fake um and so I was surprised when I when one of my friends that I met in Berkeley who was very smart and thoughtful he raved about meditation and said it had made him much happier as a person and I think it's very easy to explain this evidence Away by saying well there's a placebo effect there he expected meditation to work and so he felt that it did or maybe there was something else in his life that changed around the time he started meditating and that was actually making him happier not the meditation and I think both of these stories are totally plausible but I have to admit that it seems at least a little bit more likely that my smart thoughtful friend would report benefits from meditation in the world in which meditation is real than in the world in which it's not um and so maybe I shouldn't change my mind significantly about whether meditation works or not but it should it should update my probability a little bit towards meditation being real and if I encounter additional pieces of small to medium-sized evidence as time goes on all of which are more likely in the world in which meditation Works than in the world in which it doesn't I should gradually you know change my mind maybe there will be a Tipping Point where cumulatively it's just more likely overall that meditation works and that it doesn't given all the evidence I've encountered and I think it's important to pay attention to the these these snowflakes of evidence that maybe weigh very little on their own but if you pay attention to them and notice how they accumulate gradually their their Collective weight becomes enough to break a tree branch so that's principle number three update incrementally and I hope that you've gotten some sense now for um base rule how it works the intuition behind it and and how it can be useful in informing your thinking I don't think that it's the be all end all of how to think about everything um as some people hold it up to be but I do think it's a really essential framework for thinking about what to believe uh how confident to be and how to shift your beliefs as you encounter new information about the world \n",
      "\n"
     ]
    }
   ],
   "source": [
    "print(test_input)"
   ]
  },
  {
   "cell_type": "code",
   "execution_count": 20,
   "metadata": {},
   "outputs": [
    {
     "name": "stderr",
     "output_type": "stream",
     "text": [
      "2025-01-03 21:16:45,347 - tnh.openai_text_processing - \u001b[36mINFO\u001b[0m - Open AI Text Processing with model 'gpt-4o-mini' started...\u001b[0m\n",
      "2025-01-03 21:17:07,733 - tnh.openai_text_processing - \u001b[36mINFO\u001b[0m - Processing completed.\u001b[0m\n"
     ]
    }
   ],
   "source": [
    "text_punctuated = mini_processor.process_text(wrapped_text, p_instructions)"
   ]
  },
  {
   "cell_type": "code",
   "execution_count": 31,
   "metadata": {},
   "outputs": [
    {
     "name": "stdout",
     "output_type": "stream",
     "text": [
      "A while back, I made a video about Bayes' Rule and explained how it had been influential in my thinking. I didn't really, however, explain how Bayes' Rule works or what it is, so I'm going to do that today. I'll start with a puzzle.\n",
      "\n",
      "Imagine that you're walking across the campus of some large American university, and you meet a guy—let's call him Tom. You chat with Tom for a few minutes, and you notice that Tom is shy. He's not really making eye contact very often, he's mumbling, and my question for you is: if you had to guess, would you guess that Tom is more likely to be in a math PhD program or in the business school? Let's assume it has to be one or the other.\n",
      "\n",
      "So, I don't know what you guessed, but I've taught a class on Bayes' Rule a bunch of times, so I can tell you what most people guess: that Tom is more likely to be a math PhD student. The reasoning is that shyness is much more common in math PhDs than in business schools, and I think this is accurate based on my experience. There's an old joke that goes, \"How can you tell the extroverted mathematician?\" The answer is, \"He's the one looking at your shoes instead of his shoes.\"\n",
      "\n",
      "Anyway, I think that observation is accurate, but there's another piece of information that's relevant and that people tend to forget when answering this question: how many math PhDs are there relative to business school students. There are a lot fewer. The numbers will vary from school to school, but it's something on the order of ten times as many business school students as math PhD students.\n",
      "\n",
      "So, we have these two pieces of information about there being many more business students than math students and also about shyness being more common among math students than business students. The question is, how do we combine these two pieces to get one overall estimate about Tom? This is where Bayes' Rule comes in.\n",
      "\n",
      "You can imagine that this divided rectangle represents the relative proportions of math to business students, very roughly speaking. We'll put it at 1 to 10. Now, looking just at math students, we can ask how common is shyness. I would very roughly guess that about 75% of math PhD students come off as shy. Looking just at business school students again, guessing roughly, I'd say about 15% of business school students come off as shy.\n",
      "\n",
      "Now, we've presented both pieces of information in one diagram, and we want to know whether Tom is more likely to be in a math program or a business program. We don't know which one he's in, but we do know that he's shy, which means that he must be in one of those lavender rectangles, right? Because those represent the shy math and the shy business students. To get a sense of the relative probabilities of him being in math versus business, we have to compare the relative sizes of those lavender rectangles. It looks roughly like the lavender business rectangle is about twice as big as the lavender math rectangle.\n",
      "\n",
      "You can see how the math shakes out: we just multiply two linear ratios. The ratio of math to business students, which we put at 1 to 10, times the ratio of shyness in math versus shyness in business, which we put at 75 to 15. Multiplying those two linear ratios gives us a ratio of areas, which comes out to about 1 to 2. So, it's roughly twice as likely for Tom to be in the business program, even though shyness is more common among math students.\n",
      "\n",
      "This is the mechanics of Bayes' Rule. This is how it works. Now I want to talk about how I use it in my everyday thinking. I don't plug numbers into a formula; I almost never draw these diagrams, in fact. But there are a few rules—principles of thinking—that fall out of the math of Bayes' Rule that are really useful for me.\n",
      "\n",
      "Principle number one is something like \"remember your priors.\" As you saw in the Tom example, what people naturally do is focus on the evidence that Tom is shy and forget about the prior—the sort of background knowledge that math is just a much less common major or program than business. This is a very common phenomenon; it's called base rate neglect.\n",
      "\n",
      "A personal example: I have many examples of this myself, but one example comes recently from when I rented a house with some friends. While we were there, we had to call a repairman to fix the stove, and he made us a little bit nervous because while he was there, we noticed him sort of peering into different rooms of the house. There’s no reason you would need to see the bedroom of a house if you're there to fix the stove.\n",
      "\n",
      "We had heard stories in which repairmen come back after having done their repairs and rob a house after having had a chance to, you know, case the joint or whatever, so we were worried that that was what was going on in this case. I think that seeing your repairman snooping is some evidence that should make you somewhat more confident that he's going to rob you. But we had to take a step back and remember, what is the prior on a repairman being honest versus a robber? I think that it's not that common for someone to be a robber. I don't know the exact numbers, but maybe there are a hundred times more honest repairmen than robbers, something on that order. \n",
      "\n",
      "Even imagining that snooping is much more common among robbers than honest repairmen—let's say 80% of robbers will be seen snooping, and maybe 10% of honest repairmen—even so, seeing that evidence should only bump our probability of this guy wanting to rob us from maybe 1% to maybe 8%. So, you know, we should lock our doors but not freak out—something like that. \n",
      "\n",
      "That's principle number one: remember your priors.\n",
      "\n",
      "Principle number two, I'll illustrate with another story from my life. A while ago, I was working with a guy named—let's call him Bob—and I had reason to believe that Bob might be jealous of or competitive with another person who worked with us—let's call her Alice. One day, I'm having coffee with Bob, and he's complaining about Alice, I think because she hadn't finished some project she was supposed to have finished by that point. I'm thinking to myself, \"This just proves that I was right about Bob.\" If he was jealous of her, he would want to make her look bad, and he's complaining about her, so I'm right. \n",
      "\n",
      "A little while later, it occurred to me to ask, well, okay, let's assume for the moment that I'm wrong and Bob is not jealous of Alice. How implausible is it really, in that scenario, that he would be complaining about her? It's not implausible at all, actually. It often happens that people get annoyed when someone doesn't finish something they were supposed to finish, and it doesn't have anything to do with being jealous or competitive. \n",
      "\n",
      "I may still have my prior reasons to suspect that Bob is probably jealous of or competitive with Alice, but seeing this new piece of evidence should not make me feel significantly more confident that I'm right. Maybe complaining about Alice is a little bit more likely in the world in which he's jealous of her than in the world in which he's not, but only slightly. It should not really shift my probability that much at all that I was right.\n",
      "\n",
      "I think that this is a very common thing as well: that we go around the world seeing pieces of evidence that we can explain with our current theory—with our pet theory—and that makes us feel all the more confident that we're right. We don't take that extra step of asking, \"What if I were wrong? What would I expect to see then, and how different is it, if at all, from what I see now?\" \n",
      "\n",
      "So I keep this principle in mind when, let's say, I try some new diet, and I notice that I have more energy this week. Well, how likely is that in the world in which the diet doesn't work compared to the world in which it does? Maybe my energy is really very variable, so it's not really that implausible that my energy would happen to be higher right after trying the diet. Or let's say I give someone a paper or an idea to evaluate, and he thinks it's great, I have to ask myself, \"Well, how common is it for him to think that bad ideas are great? How much evidence is his approval that my idea is, in fact, great?\"\n",
      "\n",
      "So that's principle number two: ask yourself, \"What if I were wrong? What would I expect to see, and how is it different from what I currently see?\"\n",
      "\n",
      "Principle number three is sort of the flip side of principle number two. You could call it \"update incrementally.\"\n",
      "\n",
      "Another story: when I first moved to Berkeley, I was pretty confident that meditation was, for lack of a better word, fake. So I was surprised when one of my friends that I met in Berkeley—who was very smart and thoughtful—raved about meditation and said it had made him much happier as a person. I think it's very easy to explain this evidence away by saying, \"Well, there's a placebo effect there; he expected meditation to work, and so he felt that it did,\" or \"Maybe there was something else in his life that changed around the time he started meditating, and that was actually making him happier—not the meditation.\" I think both of these stories are totally plausible, but I have to admit that it seems at least a little bit more likely that my smart, thoughtful friend would report benefits from meditation in the world in which meditation is real than in the world in which it's not. \n",
      "\n",
      "So maybe I shouldn't change my mind significantly about whether meditation works or not, but it should update my probability a little bit towards meditation being real. If I encounter additional pieces of small to medium-sized evidence as time goes on, all of which are more likely in the world in which meditation works than in the world in which it doesn't, I should gradually change my mind. Maybe there will be a tipping point where, cumulatively, it's just more likely overall that meditation works and that it doesn't, given all the evidence I've encountered.\n",
      "\n",
      "I think it's important to pay attention to these snowflakes of evidence that maybe weigh very little on their own, but if you pay attention to them and notice how they accumulate gradually, their collective weight becomes enough to break a tree branch.\n",
      "\n",
      "So that's principle number three: update incrementally.\n",
      "\n",
      "I hope that you've gotten some sense now for Bayes' Rule—how it works, the intuition behind it, and how it can be useful in informing your thinking. I don't think that it's the be-all-end-all of how to think about everything, as some people hold it up to be, but I do think it's a really essential framework for thinking about what to believe, how confident to be, and how to shift your beliefs as you encounter new information about the world.\n"
     ]
    }
   ],
   "source": [
    "print(text_punctuated)"
   ]
  },
  {
   "cell_type": "code",
   "execution_count": 32,
   "metadata": {},
   "outputs": [],
   "source": [
    "paragraphs = text_punctuated.split(\"\\n\\n\")"
   ]
  },
  {
   "cell_type": "code",
   "execution_count": 33,
   "metadata": {},
   "outputs": [
    {
     "data": {
      "text/plain": [
       "\"Imagine that you're walking across the campus of some large American university, and you meet a guy—let's call him Tom. You chat with Tom for a few minutes, and you notice that Tom is shy. He's not really making eye contact very often, he's mumbling, and my question for you is: if you had to guess, would you guess that Tom is more likely to be in a math PhD program or in the business school? Let's assume it has to be one or the other.\""
      ]
     },
     "execution_count": 33,
     "metadata": {},
     "output_type": "execute_result"
    }
   ],
   "source": [
    "paragraphs[1]"
   ]
  },
  {
   "cell_type": "code",
   "execution_count": 34,
   "metadata": {},
   "outputs": [],
   "source": [
    "x = [token_count(p) for p in paragraphs]"
   ]
  },
  {
   "cell_type": "code",
   "execution_count": 35,
   "metadata": {},
   "outputs": [
    {
     "data": {
      "text/plain": [
       "[56,\n",
       " 101,\n",
       " 113,\n",
       " 76,\n",
       " 63,\n",
       " 94,\n",
       " 123,\n",
       " 109,\n",
       " 78,\n",
       " 71,\n",
       " 94,\n",
       " 143,\n",
       " 89,\n",
       " 10,\n",
       " 135,\n",
       " 94,\n",
       " 87,\n",
       " 88,\n",
       " 142,\n",
       " 34,\n",
       " 24,\n",
       " 186,\n",
       " 106,\n",
       " 47,\n",
       " 10,\n",
       " 96]"
      ]
     },
     "execution_count": 35,
     "metadata": {},
     "output_type": "execute_result"
    }
   ],
   "source": [
    "x"
   ]
  },
  {
   "cell_type": "code",
   "execution_count": 36,
   "metadata": {},
   "outputs": [
    {
     "data": {
      "text/plain": [
       "\"I hope that you've gotten some sense now for Bayes' Rule—how it works, the intuition behind it, and how it can be useful in informing your thinking. I don't think that it's the be-all-end-all of how to think about everything, as some people hold it up to be, but I do think it's a really essential framework for thinking about what to believe, how confident to be, and how to shift your beliefs as you encounter new information about the world.\""
      ]
     },
     "execution_count": 36,
     "metadata": {},
     "output_type": "execute_result"
    }
   ],
   "source": [
    "paragraphs[-1]"
   ]
  },
  {
   "cell_type": "code",
   "execution_count": 37,
   "metadata": {},
   "outputs": [],
   "source": [
    "from numpy import average"
   ]
  },
  {
   "cell_type": "code",
   "execution_count": 38,
   "metadata": {},
   "outputs": [
    {
     "data": {
      "text/plain": [
       "np.float64(87.26923076923077)"
      ]
     },
     "execution_count": 38,
     "metadata": {},
     "output_type": "execute_result"
    }
   ],
   "source": [
    "average(x)"
   ]
  },
  {
   "cell_type": "code",
   "execution_count": 39,
   "metadata": {},
   "outputs": [],
   "source": [
    "section_pattern = manager.load_pattern(\"default_generate_sections\")"
   ]
  },
  {
   "cell_type": "code",
   "execution_count": 40,
   "metadata": {},
   "outputs": [
    {
     "name": "stdout",
     "output_type": "stream",
     "text": [
      "# Identity and Purpose\n",
      "You are a master editor, highly skilled and meticulous, processing a text in {{ SOURCE_LANGUAGE }} into clear logical sections.\n",
      "\n",
      "# Input\n",
      "Each line of the transcript is numbered in the format: `<NUM:LINE>` \n",
      "\n",
      "# Task\n",
      "- Your goal is to divide the entire transcript into approximately {{ SECTION_COUNT }} logical and coherent sections based on content. \n",
      "\n",
      "- For each section, give a title in the source language: {{ SOURCE_LANGUAGE }}. \n",
      "\n",
      "- If the source language is not English, also give the title in English.\n",
      "\n",
      "- Give a summary in English\n",
      "\n",
      "- Give starting and ending line numbers of the section (inclusive).\n",
      "\n",
      "- Provide a summary of the whole text in English.\n",
      "\n",
      "- Review your work at least {{ REVIEW_COUNT }} times to make sure you have the most accurate and logical sections and that there are no errors in your work.\n",
      "\n",
      "# Output\n",
      "Your output must match the given response format exactly.\n",
      "\n",
      "IMPORTANT: \n",
      "- Sections must be given in order.\n",
      "\n",
      "- Every line in the transcript must belong to a section.\n",
      "\n",
      "- Don't leave out any lines, even if they are blank or contain only whitespace.\n",
      "\n",
      "- Don't include lines in more than one section.\n"
     ]
    }
   ],
   "source": [
    "print(section_pattern.instructions)"
   ]
  },
  {
   "cell_type": "code",
   "execution_count": 46,
   "metadata": {},
   "outputs": [
    {
     "name": "stderr",
     "output_type": "stream",
     "text": [
      "2025-01-04 07:03:28,141 - tnh.tnh_scholar.openai_text_processing.patterns - \u001b[36mINFO\u001b[0m - Initialized pattern management system at /Users/phapman/Desktop/tnh-scholar/pattern_repo\u001b[0m\n",
      "2025-01-04 07:03:28,191 - tnh.tnh_scholar.openai_text_processing.patterns - \u001b[36mINFO\u001b[0m - Initialized pattern management system at /Users/phapman/Desktop/tnh-scholar/pattern_repo\u001b[0m\n",
      "2025-01-04 07:03:28,241 - tnh.tnh_scholar.openai_text_processing.ai_text_processing - \u001b[36mINFO\u001b[0m - Punctuating text prior to sectioning...\u001b[0m\n",
      "2025-01-04 07:03:28,245 - tnh.openai_text_processing - \u001b[36mINFO\u001b[0m - Open AI Text Processing with model 'gpt-4o-mini' started...\u001b[0m\n",
      "2025-01-04 07:04:02,850 - tnh.openai_text_processing - \u001b[36mINFO\u001b[0m - Processing completed.\u001b[0m\n",
      "2025-01-04 07:04:02,859 - tnh.tnh_scholar.openai_text_processing.ai_text_processing - \u001b[36mINFO\u001b[0m - Punctuation completed.\u001b[0m\n",
      "2025-01-04 07:04:02,865 - tnh.tnh_scholar.openai_text_processing.ai_text_processing - \u001b[36mINFO\u001b[0m - Generating sections for English text (target sections: 5)\u001b[0m\n",
      "2025-01-04 07:04:02,867 - tnh.openai_text_processing - \u001b[36mINFO\u001b[0m - Open AI Text Processing with model 'default' started...\u001b[0m\n",
      "2025-01-04 07:04:11,588 - tnh.openai_text_processing - \u001b[36mINFO\u001b[0m - Processing completed.\u001b[0m\n"
     ]
    }
   ],
   "source": [
    "to3 = find_sections(test_input, 'English')"
   ]
  },
  {
   "cell_type": "code",
   "execution_count": 47,
   "metadata": {},
   "outputs": [
    {
     "data": {
      "text/plain": [
       "[Section(start_line=1, end_line=9, title_orig='Introduction and Context', title_en='Introduction and Context', summary=\"The speaker introduces their previous discussion on Bayes' Rule and sets the stage for explaining what Bayes' Rule is and how it works. They present a puzzle involving a character named Tom to explore initial biases in making predictions about people based on observable traits.\"),\n",
       " Section(start_line=10, end_line=16, title_orig=\"Understanding Bayes' Rule\", title_en=\"Understanding Bayes' Rule\", summary=\"Bayes' Rule is explained using visual aids like the divided rectangle model. The scenario of determining the likelihood of Tom being a math PhD student versus a business student is used to demonstrate how Bayes' Rule combines different types of information to arrive at a probabilistic conclusion.\"),\n",
       " Section(start_line=17, end_line=25, title_orig='Principle 1: Remember Your Priors', title_en='Principle 1: Remember Your Priors', summary=\"The first principle derived from Bayes' Rule is to consider existing knowledge or base information, referred to as 'priors.' The speaker shares a personal anecdote about a repairman to illustrate how prior probabilities should influence our confidence in hypotheses, in this case, suspecting someone is a robber.\"),\n",
       " Section(start_line=26, end_line=35, title_orig='Principle 2: Consider Alternative Explanations', title_en='Principle 2: Consider Alternative Explanations', summary=\"Principle two involves evaluating how likely evidence is under both the current hypothesis and alternative explanations. Using a personal story about a coworker named Bob, the speaker stresses the importance of considering how expected behavior would differ if one's initial judgment were wrong, thereby preventing overconfidence in one's assumptions.\"),\n",
       " Section(start_line=36, end_line=43, title_orig='Principle 3: Update Incrementally', title_en='Principle 3: Update Incrementally', summary='The third principle emphasizes updating beliefs gradually as new evidence is gathered. Through an anecdote about reassessing views on meditation, the speaker highlights the significance of small incremental updates to beliefs, ultimately influencing overall belief as the totality of evidence shifts over time.')]"
      ]
     },
     "execution_count": 47,
     "metadata": {},
     "output_type": "execute_result"
    }
   ],
   "source": [
    "to3.sections"
   ]
  },
  {
   "cell_type": "code",
   "execution_count": 107,
   "metadata": {},
   "outputs": [
    {
     "data": {
      "text/plain": [
       "[Section(start_line=1, end_line=3, title_orig='Introduction and Purpose', title_en='Introduction and Purpose', summary=\"The speaker introduces a previous discussion on Bayes' Rule and sets the current objective to explain its workings with an example.\"),\n",
       " Section(start_line=4, end_line=30, title_orig='The Puzzle and Initial Reasoning', title_en='The Puzzle and Initial Reasoning', summary='A puzzle involving a character named Tom highlights common reasoning errors when categorizing him as a math PhD student due to his shyness, neglecting the base rate of math PhD versus business students.'),\n",
       " Section(start_line=31, end_line=55, title_orig=\"Mechanics of Bayes' Rule\", title_en=\"Mechanics of Bayes' Rule\", summary=\"The mechanics of Bayes' Rule are explained using a diagram to calculate the likelihood of Tom being in a business program despite his shyness, showing how probabilities are combined.\"),\n",
       " Section(start_line=56, end_line=91, title_orig=\"Applying Bayes' Rule: Principle 1 - Remember Your Priors\", title_en=\"Applying Bayes' Rule: Principle 1 - Remember Your Priors\", summary='The speaker discusses the importance of remembering prior probabilities to avoid base rate neglect, illustrated through an example involving a suspicious repairman.'),\n",
       " Section(start_line=92, end_line=135, title_orig=\"Applying Bayes' Rule: Principle 2 - Questioning Assumptions\", title_en=\"Applying Bayes' Rule: Principle 2 - Questioning Assumptions\", summary='The speaker emphasizes the need to question assumptions by considering alternative explanations for evidence, using examples like workplace dynamics and evaluating personal theories.'),\n",
       " Section(start_line=136, end_line=173, title_orig=\"Applying Bayes' Rule: Principle 3 - Update Incrementally\", title_en=\"Applying Bayes' Rule: Principle 3 - Update Incrementally\", summary='The final principle advises on incremental belief updates in light of accumulating evidence, illustrated through a personal experience with shifting views on meditation, emphasizing gradual evidence-based belief adjustment.')]"
      ]
     },
     "execution_count": 107,
     "metadata": {},
     "output_type": "execute_result"
    }
   ],
   "source": [
    "to2.sections"
   ]
  },
  {
   "cell_type": "code",
   "execution_count": 108,
   "metadata": {},
   "outputs": [
    {
     "data": {
      "text/plain": [
       "[Section(start_line=1, end_line=9, title_orig=\"Introduction to Bayes' Rule\", title_en=\"Introduction to Bayes' Rule\", summary=\"The speaker introduces the topic of Bayes' Rule, providing a brief review of a previous discussion about its influence without going into detail about how it works. The introduction sets the stage to explain Bayes' Rule through a practical example involving a decision-making scenario about a person named Tom, who exhibits certain characteristics, and compares the likelihood of him being in different academic programs.\"),\n",
       " Section(start_line=10, end_line=15, title_orig=\"Understanding Bayes' Rule through Examples\", title_en=\"Understanding Bayes' Rule through Examples\", summary=\"The explanation uses a visual example of probabilities to demonstrate how Bayes' Rule aids in decision-making. Starting with an illustration of the proportion of math versus business students, it examines shyness prevalence to calculate the probability of Tom's program of study. The mathematical process reveals why, despite shyness being more common in math students, the larger number of business students makes it more likely for Tom to be in the business program.\"),\n",
       " Section(start_line=16, end_line=25, title_orig='Principle One: Remember Your Priors', title_en='Principle One: Remember Your Priors', summary='The first principle derived from Bayes’ Rule emphasizes the importance of considering prior probabilities or base rates when evaluating new evidence. The principle is illustrated with a personal story about a suspicious repairman, underlining the necessity to weigh new observations against the broader context of what is generally more probable.'),\n",
       " Section(start_line=26, end_line=39, title_orig='Principle Two: Question Your Assumptions', title_en='Principle Two: Question Your Assumptions', summary='The second principle involves questioning initial assumptions by considering scenarios where these assumptions might be false. Through another personal anecdote, the speaker explains how we often wrongly reinforce beliefs by not considering if our expectations could occur even when our beliefs are wrong. It encourages a critical examination of evidence to avoid overconfidence in unverified theories.'),\n",
       " Section(start_line=40, end_line=51, title_orig='Principle Three: Update Incrementally', title_en='Principle Three: Update Incrementally', summary='The third principle is about updating beliefs gradually based on accumulating evidence rather than seeking dramatic proof for immediate belief change. This is explained with a story about meditation, illustrating that even small pieces of evidence should adjust our beliefs slightly, encouraging a more nuanced and cumulative approach to reassessment.')]"
      ]
     },
     "execution_count": 108,
     "metadata": {},
     "output_type": "execute_result"
    }
   ],
   "source": [
    "to.sections"
   ]
  },
  {
   "cell_type": "code",
   "execution_count": 5,
   "metadata": {},
   "outputs": [],
   "source": [
    "lines = \"this is line 1\\nthis is line 2\\nthis is line 3\".split(\"\\n\")"
   ]
  },
  {
   "cell_type": "code",
   "execution_count": 6,
   "metadata": {},
   "outputs": [
    {
     "data": {
      "text/plain": [
       "['this is line 1', 'this is line 2', 'this is line 3']"
      ]
     },
     "execution_count": 6,
     "metadata": {},
     "output_type": "execute_result"
    }
   ],
   "source": [
    "lines"
   ]
  },
  {
   "cell_type": "code",
   "execution_count": 7,
   "metadata": {},
   "outputs": [],
   "source": [
    "preceding_context = \"\\n\".join(lines[0:0])"
   ]
  },
  {
   "cell_type": "code",
   "execution_count": 8,
   "metadata": {},
   "outputs": [
    {
     "data": {
      "text/plain": [
       "''"
      ]
     },
     "execution_count": 8,
     "metadata": {},
     "output_type": "execute_result"
    }
   ],
   "source": [
    "preceding_context"
   ]
  },
  {
   "cell_type": "code",
   "execution_count": 9,
   "metadata": {},
   "outputs": [
    {
     "name": "stdout",
     "output_type": "stream",
     "text": [
      "not true\n"
     ]
    }
   ],
   "source": [
    "if preceding_context: \n",
    "    print('true') \n",
    "else:\n",
    "    print('not true') "
   ]
  },
  {
   "cell_type": "code",
   "execution_count": 16,
   "metadata": {},
   "outputs": [],
   "source": [
    "punctuate_file = PROJECT_ROOT_DIR / \"sandbox\" / \"punct_Thiền Là Gì？ [TTSĐCTTĐB 02] TS Thích Nhất Hạnh (24-11-1994, Xóm Thượng, Làng Mai).txt\""
   ]
  },
  {
   "cell_type": "code",
   "execution_count": 17,
   "metadata": {},
   "outputs": [
    {
     "data": {
      "text/plain": [
       "True"
      ]
     },
     "execution_count": 17,
     "metadata": {},
     "output_type": "execute_result"
    }
   ],
   "source": [
    "punctuate_file.exists()"
   ]
  },
  {
   "cell_type": "code",
   "execution_count": 18,
   "metadata": {},
   "outputs": [],
   "source": [
    "punct_text = get_text_from_file(str(punctuate_file))"
   ]
  },
  {
   "cell_type": "code",
   "execution_count": 19,
   "metadata": {},
   "outputs": [
    {
     "name": "stderr",
     "output_type": "stream",
     "text": [
      "2025-01-11 21:28:24,807 - tnh.tnh_scholar.ai_text_processing.patterns - \u001b[1;32mDEBUG\u001b[0m - Found pattern file for ID simple_translate_paragraph_thay at: /Users/phapman/Desktop/tnh-scholar/pattern_repo/simple_translate_paragraph_thay.md\u001b[0m\n",
      "2025-01-11 21:28:24,812 - tnh.tnh_scholar.ai_text_processing.patterns - \u001b[1;32mDEBUG\u001b[0m - Acquired lock for /Users/phapman/Desktop/tnh-scholar/pattern_repo/simple_translate_paragraph_thay.md\u001b[0m\n",
      "2025-01-11 21:28:24,813 - tnh.tnh_scholar.ai_text_processing.patterns - \u001b[1;32mDEBUG\u001b[0m - Released lock for /Users/phapman/Desktop/tnh-scholar/pattern_repo/simple_translate_paragraph_thay.md\u001b[0m\n",
      "2025-01-11 21:28:24,859 - tnh.tnh_scholar.ai_text_processing.patterns - \u001b[36mINFO\u001b[0m - Detected changes in simple_translate_paragraph_thay.md, updating version control.\u001b[0m\n",
      "2025-01-11 21:28:24,900 - tnh.tnh_scholar.ai_text_processing.patterns - \u001b[36mINFO\u001b[0m - Committed changes to /Users/phapman/Desktop/tnh-scholar/pattern_repo/simple_translate_paragraph_thay.md: 9aed98e4913c060b05fa9b63b69aa405327050cd\u001b[0m\n"
     ]
    }
   ],
   "source": [
    "sections = process_text_by_paragraphs(punct_text, template_dict={}, pattern=manager.load_pattern(\"simple_translate_paragraph_thay\"))"
   ]
  },
  {
   "cell_type": "code",
   "execution_count": 20,
   "metadata": {},
   "outputs": [
    {
     "name": "stderr",
     "output_type": "stream",
     "text": [
      "2025-01-11 21:30:01,109 - tnh.tnh_scholar.ai_text_processing.ai_text_processing - \u001b[36mINFO\u001b[0m - Processing lines as paragraphs with pattern: simple_translate_paragraph_thay\u001b[0m\n",
      "2025-01-11 21:30:01,126 - tnh.openai_text_processing - \u001b[36mINFO\u001b[0m - Open AI Text Processing with model 'gpt-4o' started...\u001b[0m\n",
      "2025-01-11 21:30:01,151 - tnh.tnh_scholar.openai_interface.openai_interface - \u001b[1;32mDEBUG\u001b[0m - User message content:\n",
      "Thế đại chứng, hôm nay là ngày 24 tháng 11 năm 1994, chúng ta đang ở trong khóa mùa đông. ...\u001b[0m\n",
      "2025-01-11 21:30:01,153 - tnh.tnh_scholar.openai_interface.openai_interface - \u001b[1;32mDEBUG\u001b[0m - Starting chat completion with response_format=None and max_tokens=528...\u001b[0m\n",
      "2025-01-11 21:30:01,786 - tnh.openai_text_processing - \u001b[1;32mDEBUG\u001b[0m - Full completion:\n",
      "ChatCompletion(id='chatcmpl-Aokpt8JNJm8lqOGsyXs4sE85jtGdc', choices=[Choice(finish_reason='stop', index=0, logprobs=None, message=ChatCompletionMessage(content='Dear community, today is November 24th, 1994, and we are in the winter retreat.', refusal=None, role='assistant', audio=None, function_call=None, tool_calls=None))], created=1736659801, model='gpt-4o-2024-08-06', object='chat.completion', service_tier='default', system_fingerprint='fp_703d4ff298', usage=CompletionUsage(completion_tokens=23, prompt_tokens=149, total_tokens=172, completion_tokens_details=CompletionTokensDetails(accepted_prediction_tokens=0, audio_tokens=0, reasoning_tokens=0, rejected_prediction_tokens=0), prompt_tokens_details=PromptTokensDetails(audio_tokens=0, cached_tokens=0)))\u001b[0m\n",
      "2025-01-11 21:30:01,786 - tnh.openai_text_processing - \u001b[36mINFO\u001b[0m - Processing completed.\u001b[0m\n",
      "2025-01-11 21:30:01,798 - tnh.openai_text_processing - \u001b[36mINFO\u001b[0m - Open AI Text Processing with model 'gpt-4o' started...\u001b[0m\n",
      "2025-01-11 21:30:01,798 - tnh.tnh_scholar.openai_interface.openai_interface - \u001b[1;32mDEBUG\u001b[0m - User message content:\n",
      "Như quý vị đã biết, đề tài của khóa mùa đông là truyền thống sinh động của thiền tộc trong Đà Bột. Chữ \"meditation\" là tiếng Anh, đã được sử dụng để dịch chữ \"thiền\". Thiền, nói cho đủ là thiền-na, tại vì người ta ưa nói tắt thì người ta bỏ chữ \"na\" đi, tựa là thiền thôi, tiếng Phạn là gia-na. Và khi mà người Trung Hoa họ đọc chữ gia-na thì họ đọc là chan-na, chan, rồi họ cũng bỏ chữ \"na\" luôn, đọc chan. Chan là tiếng Trung Hoa, thiền là tiếng Việt, thiền là viết như vậy, người Việt đọc là thiền, trong khi đó người Nhật Đất thì đọc là danh, và trong khi đó thì người Cao Ly đọc là son. Thì cái gốc của cái chữ Phạn gia-na là gia, đó là gốc. Gia-gia-ti có nghĩa là suy nghĩ, có nghĩa là quan chiếu, có nghĩa là chăm chú về một cái đề tài, và trong đó nó có cái ý nghĩa là suy nghĩ ở trong. ...\u001b[0m\n",
      "2025-01-11 21:30:01,799 - tnh.tnh_scholar.openai_interface.openai_interface - \u001b[1;32mDEBUG\u001b[0m - Starting chat completion with response_format=None and max_tokens=739...\u001b[0m\n"
     ]
    },
    {
     "name": "stdout",
     "output_type": "stream",
     "text": [
      "Dear community, today is November 24th, 1994, and we are in the winter retreat.\n"
     ]
    },
    {
     "name": "stderr",
     "output_type": "stream",
     "text": [
      "2025-01-11 21:30:04,540 - tnh.openai_text_processing - \u001b[1;32mDEBUG\u001b[0m - Full completion:\n",
      "ChatCompletion(id='chatcmpl-Aokpta6oocAldpViBk0hd7WemQmtG', choices=[Choice(finish_reason='stop', index=0, logprobs=None, message=ChatCompletionMessage(content='As you know, the theme of the winter retreat is the living tradition of meditation in Da Bot. The word \"meditation\" is an English term used to translate the word \"thiền.\" \"Thiền,\" fully called \"thiền-na,\" is often shortened by dropping the \"na,\" thus just \"thiền,\" which in Sanskrit is \"dhyana.\" When the Chinese read \"dhyana,\" they pronounce it as \"chan-na,\" or \"chan,\" dropping the \"na.\" \"Chan\" is the Chinese term, \"thiền\" is the Vietnamese term, written the same but pronounced as \"thiền\" by Vietnamese people, while the Japanese pronounce it as \"zen,\" and the Koreans pronounce it as \"seon.\" The root of the Sanskrit word \"dhyana\" is \"dhyai,\" which means to think, to contemplate, to concentrate on a subject, and it carries the implication of inner reflection.', refusal=None, role='assistant', audio=None, function_call=None, tool_calls=None))], created=1736659801, model='gpt-4o-2024-08-06', object='chat.completion', service_tier='default', system_fingerprint='fp_703d4ff298', usage=CompletionUsage(completion_tokens=192, prompt_tokens=360, total_tokens=552, completion_tokens_details=CompletionTokensDetails(accepted_prediction_tokens=0, audio_tokens=0, reasoning_tokens=0, rejected_prediction_tokens=0), prompt_tokens_details=PromptTokensDetails(audio_tokens=0, cached_tokens=0)))\u001b[0m\n",
      "2025-01-11 21:30:04,541 - tnh.openai_text_processing - \u001b[36mINFO\u001b[0m - Processing completed.\u001b[0m\n",
      "2025-01-11 21:30:04,542 - tnh.openai_text_processing - \u001b[36mINFO\u001b[0m - Open AI Text Processing with model 'gpt-4o' started...\u001b[0m\n",
      "2025-01-11 21:30:04,543 - tnh.tnh_scholar.openai_interface.openai_interface - \u001b[1;32mDEBUG\u001b[0m - User message content:\n",
      "Vì vậy cho nên các tổ ngày xưa họ đã dịch thiền là tư duy tu, và tư duy ở đây nó có nghĩa là suy nghĩ. Nhưng thường thường chúng ta nghe nói đến thiền tức là không phải suy nghĩ, vì gốc của chữ thiền nó có nghĩa là suy nghĩ ở trong. Nhưng mà cái vấn đề là suy nghĩ cái cách nào, cái loại suy nghĩ nào, cái loại tư duy nào. ...\u001b[0m\n",
      "2025-01-11 21:30:04,544 - tnh.tnh_scholar.openai_interface.openai_interface - \u001b[1;32mDEBUG\u001b[0m - Starting chat completion with response_format=None and max_tokens=589...\u001b[0m\n"
     ]
    },
    {
     "name": "stdout",
     "output_type": "stream",
     "text": [
      "As you know, the theme of the winter retreat is the living tradition of meditation in Da Bot. The word \"meditation\" is an English term used to translate the word \"thiền.\" \"Thiền,\" fully called \"thiền-na,\" is often shortened by dropping the \"na,\" thus just \"thiền,\" which in Sanskrit is \"dhyana.\" When the Chinese read \"dhyana,\" they pronounce it as \"chan-na,\" or \"chan,\" dropping the \"na.\" \"Chan\" is the Chinese term, \"thiền\" is the Vietnamese term, written the same but pronounced as \"thiền\" by Vietnamese people, while the Japanese pronounce it as \"zen,\" and the Koreans pronounce it as \"seon.\" The root of the Sanskrit word \"dhyana\" is \"dhyai,\" which means to think, to contemplate, to concentrate on a subject, and it carries the implication of inner reflection.\n"
     ]
    },
    {
     "name": "stderr",
     "output_type": "stream",
     "text": [
      "2025-01-11 21:30:06,382 - tnh.openai_text_processing - \u001b[1;32mDEBUG\u001b[0m - Full completion:\n",
      "ChatCompletion(id='chatcmpl-Aokpw5761B5r55AhMcfeGSdw3XCWp', choices=[Choice(finish_reason='stop', index=0, logprobs=None, message=ChatCompletionMessage(content='Therefore, in the old days, the masters translated meditation as contemplation, and contemplation here means thinking. However, we often hear that meditation means not thinking, because the root of the word meditation implies thinking inwardly. But the issue is how to think, what kind of thinking, what kind of contemplation.', refusal=None, role='assistant', audio=None, function_call=None, tool_calls=None))], created=1736659804, model='gpt-4o-2024-08-06', object='chat.completion', service_tier='default', system_fingerprint='fp_703d4ff298', usage=CompletionUsage(completion_tokens=62, prompt_tokens=210, total_tokens=272, completion_tokens_details=CompletionTokensDetails(accepted_prediction_tokens=0, audio_tokens=0, reasoning_tokens=0, rejected_prediction_tokens=0), prompt_tokens_details=PromptTokensDetails(audio_tokens=0, cached_tokens=0)))\u001b[0m\n",
      "2025-01-11 21:30:06,383 - tnh.openai_text_processing - \u001b[36mINFO\u001b[0m - Processing completed.\u001b[0m\n",
      "2025-01-11 21:30:06,385 - tnh.openai_text_processing - \u001b[36mINFO\u001b[0m - Open AI Text Processing with model 'gpt-4o' started...\u001b[0m\n",
      "2025-01-11 21:30:06,386 - tnh.tnh_scholar.openai_interface.openai_interface - \u001b[1;32mDEBUG\u001b[0m - User message content:\n",
      "Trước hết chúng ta nên biết rằng cái chữ thiền gia-na nó không phải là cái chữ chỉ được dùng riêng cho cái sự thiền tập trong Đạo Buộc. Các giáo phái khác, các truyền thống khác có trước Đạo Buộc và có mặt đồng thời với Đạo Buộc, và sau Đạo Buộc cũng dùng danh từ gia-na. Vì vậy cho nên gia-na thiền không phải chỉ là một cái danh từ được dùng trong Đạo Buộc, đó là một cái danh từ tốt quá. Có những trong kinh điển có dùng tới, nhưng mà kinh điển Đạo Buộc dùng những cái danh từ khác nhiều hơn. Trong cái thời Đạo Buộc tài thế, thì những cái danh từ khác được dùng nhiều hơn là danh từ thiền. Thế rằng trong kinh điển cũng có nhiều danh từ thiền. ...\u001b[0m\n",
      "2025-01-11 21:30:06,386 - tnh.tnh_scholar.openai_interface.openai_interface - \u001b[1;32mDEBUG\u001b[0m - Starting chat completion with response_format=None and max_tokens=678...\u001b[0m\n"
     ]
    },
    {
     "name": "stdout",
     "output_type": "stream",
     "text": [
      "Therefore, in the old days, the masters translated meditation as contemplation, and contemplation here means thinking. However, we often hear that meditation means not thinking, because the root of the word meditation implies thinking inwardly. But the issue is how to think, what kind of thinking, what kind of contemplation.\n"
     ]
    },
    {
     "name": "stderr",
     "output_type": "stream",
     "text": [
      "2025-01-11 21:30:08,221 - tnh.openai_text_processing - \u001b[1;32mDEBUG\u001b[0m - Full completion:\n",
      "ChatCompletion(id='chatcmpl-AokpyFrregeOG3CFJeA9PySym5i36', choices=[Choice(finish_reason='stop', index=0, logprobs=None, message=ChatCompletionMessage(content='First, we should know that the term \"dhyana\" (meditation) is not exclusively used for meditation practice in Buddhism. Other sects and traditions that existed before, during, and after Buddhism also use the term dhyana. Therefore, dhyana meditation is not a term used solely in Buddhism; it is a very good term. In the scriptures, it is indeed used, but Buddhist scriptures employ different terms more frequently. During the time of the Buddha, other terms were used more often than the term \"meditation.\" Thus, although there are numerous terms for meditation in the scriptures, other terms were more commonly used during the Buddha\\'s era.', refusal=None, role='assistant', audio=None, function_call=None, tool_calls=None))], created=1736659806, model='gpt-4o-2024-08-06', object='chat.completion', service_tier='default', system_fingerprint='fp_703d4ff298', usage=CompletionUsage(completion_tokens=133, prompt_tokens=299, total_tokens=432, completion_tokens_details=CompletionTokensDetails(accepted_prediction_tokens=0, audio_tokens=0, reasoning_tokens=0, rejected_prediction_tokens=0), prompt_tokens_details=PromptTokensDetails(audio_tokens=0, cached_tokens=0)))\u001b[0m\n",
      "2025-01-11 21:30:08,222 - tnh.openai_text_processing - \u001b[36mINFO\u001b[0m - Processing completed.\u001b[0m\n",
      "2025-01-11 21:30:08,223 - tnh.openai_text_processing - \u001b[36mINFO\u001b[0m - Open AI Text Processing with model 'gpt-4o' started...\u001b[0m\n",
      "2025-01-11 21:30:08,224 - tnh.tnh_scholar.openai_interface.openai_interface - \u001b[1;32mDEBUG\u001b[0m - User message content:\n",
      "Vì vậy, vào khoảng 100 năm sau ngày Bụt nực dịch thì danh từ Thiền được dùng nhiều hơn, ngay trong thời đại Đạo Bụt bên Phi, điều này điều đều mình phải biết và mình đã câu hỏi tại sao. Vậy cuối nguyên khi mà Đạo Bụt dùng danh từ Thiền thì Đạo Bụt cũng cho vào trong danh từ đó những ý nghĩa của Đạo Bụt. Tại vì những truyền thống ngoài Đạo Bụt, có trước Đạo Bụt, họ cũng dùng những danh từ đó, nhưng ý nghĩa họ gắn cho danh từ đó không đồng với ý nghĩa người Phật tự gắn cho danh từ đó. Nó có nghĩa là có thể có những điểm đồng, nhưng có những điểm khác. ...\u001b[0m\n",
      "2025-01-11 21:30:08,224 - tnh.tnh_scholar.openai_interface.openai_interface - \u001b[1;32mDEBUG\u001b[0m - Starting chat completion with response_format=None and max_tokens=665...\u001b[0m\n"
     ]
    },
    {
     "name": "stdout",
     "output_type": "stream",
     "text": [
      "First, we should know that the term \"dhyana\" (meditation) is not exclusively used for meditation practice in Buddhism. Other sects and traditions that existed before, during, and after Buddhism also use the term dhyana. Therefore, dhyana meditation is not a term used solely in Buddhism; it is a very good term. In the scriptures, it is indeed used, but Buddhist scriptures employ different terms more frequently. During the time of the Buddha, other terms were used more often than the term \"meditation.\" Thus, although there are numerous terms for meditation in the scriptures, other terms were more commonly used during the Buddha's era.\n"
     ]
    },
    {
     "name": "stderr",
     "output_type": "stream",
     "text": [
      "2025-01-11 21:30:09,683 - tnh.openai_text_processing - \u001b[1;32mDEBUG\u001b[0m - Full completion:\n",
      "ChatCompletion(id='chatcmpl-Aokq0v5aXv7duZCir3xARfBwMWpgH', choices=[Choice(finish_reason='stop', index=0, logprobs=None, message=ChatCompletionMessage(content='Therefore, about 100 years after the time of the Buddha, the term Zen was used more often, even in the era of Buddhism in Africa. This is something we must understand and question why. So eventually, when Buddhism adopted the term Zen, Buddhism also infused it with meanings from Buddhism. This is because traditions outside of Buddhism, existing before Buddhism, also used these terms, but the meanings they attached to those terms were not the same as those Buddhists attached to them. This means there may be some similarities, but there are also differences.', refusal=None, role='assistant', audio=None, function_call=None, tool_calls=None))], created=1736659808, model='gpt-4o-2024-08-06', object='chat.completion', service_tier='default', system_fingerprint='fp_703d4ff298', usage=CompletionUsage(completion_tokens=111, prompt_tokens=286, total_tokens=397, completion_tokens_details=CompletionTokensDetails(accepted_prediction_tokens=0, audio_tokens=0, reasoning_tokens=0, rejected_prediction_tokens=0), prompt_tokens_details=PromptTokensDetails(audio_tokens=0, cached_tokens=0)))\u001b[0m\n",
      "2025-01-11 21:30:09,684 - tnh.openai_text_processing - \u001b[36mINFO\u001b[0m - Processing completed.\u001b[0m\n",
      "2025-01-11 21:30:09,688 - tnh.openai_text_processing - \u001b[36mINFO\u001b[0m - Open AI Text Processing with model 'gpt-4o' started...\u001b[0m\n",
      "2025-01-11 21:30:09,689 - tnh.tnh_scholar.openai_interface.openai_interface - \u001b[1;32mDEBUG\u001b[0m - User message content:\n",
      "Ví dụ như danh từ Luân Hồi, Samsara. Ở trong những truyền thống khác, người ta có thể hiểu cái nghĩa Luân Hồi nó khác, và trong Đạo Bụt, chúng ta có một cái ý nghiệm khác về Luân Hồi. Ví dụ như là ngoài Đạo Bụt, thì người ta có tin vào một cái linh hồn bất tử, và cái quan niệm về Luân Hồi ngoài Đạo Bụt, nó được căn cứ trên những ý nghiệm về linh hồn bất tử. Nhưng mà trong Đạo Bụt, chúng ta học giáo lý vô ngã, và vì vậy cho nên Luân Hồi trong Đạo Bụt phải hiểu theo cái yên với cái giáo lý vô ngã. ...\u001b[0m\n",
      "2025-01-11 21:30:09,689 - tnh.tnh_scholar.openai_interface.openai_interface - \u001b[1;32mDEBUG\u001b[0m - Starting chat completion with response_format=None and max_tokens=661...\u001b[0m\n"
     ]
    },
    {
     "name": "stdout",
     "output_type": "stream",
     "text": [
      "Therefore, about 100 years after the time of the Buddha, the term Zen was used more often, even in the era of Buddhism in Africa. This is something we must understand and question why. So eventually, when Buddhism adopted the term Zen, Buddhism also infused it with meanings from Buddhism. This is because traditions outside of Buddhism, existing before Buddhism, also used these terms, but the meanings they attached to those terms were not the same as those Buddhists attached to them. This means there may be some similarities, but there are also differences.\n"
     ]
    },
    {
     "name": "stderr",
     "output_type": "stream",
     "text": [
      "2025-01-11 21:30:11,496 - tnh.openai_text_processing - \u001b[1;32mDEBUG\u001b[0m - Full completion:\n",
      "ChatCompletion(id='chatcmpl-Aokq1MEdGFzou6KvDyH55o0fqGMfj', choices=[Choice(finish_reason='stop', index=0, logprobs=None, message=ChatCompletionMessage(content='For example, the noun \"Reincarnation\" or \"Samsara.\" In different traditions, people might understand the meaning of Reincarnation differently, and in Buddhism, we have a different concept of Reincarnation. For instance, outside of Buddhism, people may believe in an immortal soul, and the concept of Reincarnation outside of Buddhism is based on notions of an immortal soul. However, in Buddhism, we study the doctrine of non-self, and therefore Reincarnation in Buddhism must be understood in alignment with the doctrine of non-self.', refusal=None, role='assistant', audio=None, function_call=None, tool_calls=None))], created=1736659809, model='gpt-4o-2024-08-06', object='chat.completion', service_tier='default', system_fingerprint='fp_703d4ff298', usage=CompletionUsage(completion_tokens=112, prompt_tokens=282, total_tokens=394, completion_tokens_details=CompletionTokensDetails(accepted_prediction_tokens=0, audio_tokens=0, reasoning_tokens=0, rejected_prediction_tokens=0), prompt_tokens_details=PromptTokensDetails(audio_tokens=0, cached_tokens=0)))\u001b[0m\n",
      "2025-01-11 21:30:11,496 - tnh.openai_text_processing - \u001b[36mINFO\u001b[0m - Processing completed.\u001b[0m\n",
      "2025-01-11 21:30:11,498 - tnh.openai_text_processing - \u001b[36mINFO\u001b[0m - Open AI Text Processing with model 'gpt-4o' started...\u001b[0m\n",
      "2025-01-11 21:30:11,499 - tnh.tnh_scholar.openai_interface.openai_interface - \u001b[1;32mDEBUG\u001b[0m - User message content:\n",
      "Cho nên cùng một danh từ, nhưng mà trong Đạo Bục vùng khác, và ngoài Đạo Bục vùng khác, thì nó cũng vậy. Chúng ta biết rằng trong cái thời gọi là Phận Nhân Thủy, tức là thời mà còn là Đạo Bụt cuối cùng, thì các thầy đã thực tập thiền tọa, các thầy đã thực tập thiền hành, các thầy đã thực tập ăn cơ nghiêm lặng, các thầy đã thực tập hơi thở, có chánh niệm, và tất cả những cái là thực tập đó, nó là sự thật, và cái tội giác của Bụt cũng như là của các người địa tử, cái tình thương của Bụt và của các người địa tử, cái an lạc, thành thơi của Bụt và đệ tử, là nó được phát xuất từ những cái lưới thực tập như vậy. ...\u001b[0m\n",
      "2025-01-11 21:30:11,499 - tnh.tnh_scholar.openai_interface.openai_interface - \u001b[1;32mDEBUG\u001b[0m - Starting chat completion with response_format=None and max_tokens=693...\u001b[0m\n"
     ]
    },
    {
     "name": "stdout",
     "output_type": "stream",
     "text": [
      "For example, the noun \"Reincarnation\" or \"Samsara.\" In different traditions, people might understand the meaning of Reincarnation differently, and in Buddhism, we have a different concept of Reincarnation. For instance, outside of Buddhism, people may believe in an immortal soul, and the concept of Reincarnation outside of Buddhism is based on notions of an immortal soul. However, in Buddhism, we study the doctrine of non-self, and therefore Reincarnation in Buddhism must be understood in alignment with the doctrine of non-self.\n"
     ]
    },
    {
     "name": "stderr",
     "output_type": "stream",
     "text": [
      "2025-01-11 21:30:13,111 - tnh.openai_text_processing - \u001b[1;32mDEBUG\u001b[0m - Full completion:\n",
      "ChatCompletion(id='chatcmpl-Aokq3oT7cBCM9y6qeoLj2yRTfVUN5', choices=[Choice(finish_reason='stop', index=0, logprobs=None, message=ChatCompletionMessage(content=\"Therefore, the same term may mean different things within Buddhism in different regions and outside Buddhism in other areas. We know that during the time called the Period of Humanity's Beginning, or when it was still considered the final stage of Buddhism, the monks practiced seated meditation, walking meditation, mindful eating in silence, mindful breathing, and all of these practices were genuine. The enlightenment of the Buddha, as well as that of his disciples, the compassion of the Buddha and his disciples, and the peace and freedom of the Buddha and his disciples, all originated from such practices.\", refusal=None, role='assistant', audio=None, function_call=None, tool_calls=None))], created=1736659811, model='gpt-4o-2024-08-06', object='chat.completion', service_tier='default', system_fingerprint='fp_703d4ff298', usage=CompletionUsage(completion_tokens=114, prompt_tokens=314, total_tokens=428, completion_tokens_details=CompletionTokensDetails(accepted_prediction_tokens=0, audio_tokens=0, reasoning_tokens=0, rejected_prediction_tokens=0), prompt_tokens_details=PromptTokensDetails(audio_tokens=0, cached_tokens=0)))\u001b[0m\n",
      "2025-01-11 21:30:13,112 - tnh.openai_text_processing - \u001b[36mINFO\u001b[0m - Processing completed.\u001b[0m\n",
      "2025-01-11 21:30:13,115 - tnh.openai_text_processing - \u001b[36mINFO\u001b[0m - Open AI Text Processing with model 'gpt-4o' started...\u001b[0m\n",
      "2025-01-11 21:30:13,115 - tnh.tnh_scholar.openai_interface.openai_interface - \u001b[1;32mDEBUG\u001b[0m - User message content:\n",
      "Thì những cái lưới thực tập như vậy, bây giờ mình có thể gọi là thiền tập, nhưng mà mình cũng có thể gọi bằng những cái danh từ khác. ...\u001b[0m\n",
      "2025-01-11 21:30:13,116 - tnh.tnh_scholar.openai_interface.openai_interface - \u001b[1;32mDEBUG\u001b[0m - Starting chat completion with response_format=None and max_tokens=538...\u001b[0m\n"
     ]
    },
    {
     "name": "stdout",
     "output_type": "stream",
     "text": [
      "Therefore, the same term may mean different things within Buddhism in different regions and outside Buddhism in other areas. We know that during the time called the Period of Humanity's Beginning, or when it was still considered the final stage of Buddhism, the monks practiced seated meditation, walking meditation, mindful eating in silence, mindful breathing, and all of these practices were genuine. The enlightenment of the Buddha, as well as that of his disciples, the compassion of the Buddha and his disciples, and the peace and freedom of the Buddha and his disciples, all originated from such practices.\n"
     ]
    },
    {
     "name": "stderr",
     "output_type": "stream",
     "text": [
      "2025-01-11 21:30:13,681 - tnh.openai_text_processing - \u001b[1;32mDEBUG\u001b[0m - Full completion:\n",
      "ChatCompletion(id='chatcmpl-Aokq51gTwWMdOsF9fmSjsiCi4jecN', choices=[Choice(finish_reason='stop', index=0, logprobs=None, message=ChatCompletionMessage(content='Practices like these can now be called meditation, but they can also be referred to by different terms.', refusal=None, role='assistant', audio=None, function_call=None, tool_calls=None))], created=1736659813, model='gpt-4o-2024-08-06', object='chat.completion', service_tier='default', system_fingerprint='fp_703d4ff298', usage=CompletionUsage(completion_tokens=22, prompt_tokens=159, total_tokens=181, completion_tokens_details=CompletionTokensDetails(accepted_prediction_tokens=0, audio_tokens=0, reasoning_tokens=0, rejected_prediction_tokens=0), prompt_tokens_details=PromptTokensDetails(audio_tokens=0, cached_tokens=0)))\u001b[0m\n",
      "2025-01-11 21:30:13,682 - tnh.openai_text_processing - \u001b[36mINFO\u001b[0m - Processing completed.\u001b[0m\n",
      "2025-01-11 21:30:13,686 - tnh.openai_text_processing - \u001b[36mINFO\u001b[0m - Open AI Text Processing with model 'gpt-4o' started...\u001b[0m\n",
      "2025-01-11 21:30:13,686 - tnh.tnh_scholar.openai_interface.openai_interface - \u001b[1;32mDEBUG\u001b[0m - User message content:\n",
      "Theo sự giải thích của các tổ, thì chữ thiền có nghĩa là quán chú về một cái nữ tượng, the contemplation of a. Đó là nghĩa đầu tiên. Tức là mình lấy một cái sự vật nào đó là một cái nữ tượng, và mình quán chú nó, điều nghiệm vào nó. The contemplation of a given object. Và cái nghĩa thứ hai, nó cũng gần gần như vậy. Tức là mình tới rất gần, mình tiếp xúc rất gần, và mình nhận xét rất gần cái đối tượng đó. Mà cái tướng đối tượng đó nó thuộc về một cái hiện tượng, thuộc về thế giới hiện tượng. Cái thế giới hình tượng đó mình đi sâu được vào cái thế giới bản thêm. ...\u001b[0m\n",
      "2025-01-11 21:30:13,687 - tnh.tnh_scholar.openai_interface.openai_interface - \u001b[1;32mDEBUG\u001b[0m - Starting chat completion with response_format=None and max_tokens=651...\u001b[0m\n"
     ]
    },
    {
     "name": "stdout",
     "output_type": "stream",
     "text": [
      "Practices like these can now be called meditation, but they can also be referred to by different terms.\n"
     ]
    },
    {
     "name": "stderr",
     "output_type": "stream",
     "text": [
      "2025-01-11 21:30:15,113 - tnh.openai_text_processing - \u001b[1;32mDEBUG\u001b[0m - Full completion:\n",
      "ChatCompletion(id='chatcmpl-Aokq5Dd699lyw1gGNQDuF64yy3iUP', choices=[Choice(finish_reason='stop', index=0, logprobs=None, message=ChatCompletionMessage(content='According to the explanation of the ancients, the word \"meditation\" means the contemplation of an object. That is the first meaning. It means you take a certain object as a focus, and you contemplate it, immerse yourself in it. The contemplation of a given object. And the second meaning is quite similar. It means you come very close, you get in touch very closely, and you observe that object very closely. That object pertains to a phenomenon, belonging to the world of phenomena. You can delve deeply into that phenomenal world and enter the realm of true essence.', refusal=None, role='assistant', audio=None, function_call=None, tool_calls=None))], created=1736659813, model='gpt-4o-2024-08-06', object='chat.completion', service_tier='default', system_fingerprint='fp_703d4ff298', usage=CompletionUsage(completion_tokens=117, prompt_tokens=272, total_tokens=389, completion_tokens_details=CompletionTokensDetails(accepted_prediction_tokens=0, audio_tokens=0, reasoning_tokens=0, rejected_prediction_tokens=0), prompt_tokens_details=PromptTokensDetails(audio_tokens=0, cached_tokens=0)))\u001b[0m\n",
      "2025-01-11 21:30:15,114 - tnh.openai_text_processing - \u001b[36mINFO\u001b[0m - Processing completed.\u001b[0m\n",
      "2025-01-11 21:30:15,115 - tnh.openai_text_processing - \u001b[36mINFO\u001b[0m - Open AI Text Processing with model 'gpt-4o' started...\u001b[0m\n",
      "2025-01-11 21:30:15,116 - tnh.tnh_scholar.openai_interface.openai_interface - \u001b[1;32mDEBUG\u001b[0m - User message content:\n",
      "Ví dụ như là một đợt sống. Để khi mình quán chiếu cái đợt sống đó một cách rất gần gũi, tiếp xúc với nó rất gần gũi, thì mình khám phá ra được cái bản chất của làn sống, tức lược. Thứ ba, cái niệm của nó là tàn bọ, loại trừ. Tức là trong thiền tập á, mình có chữ tên loại trừ. Những cái chất liệu, những cái yếu tố, nó làm cho mình khổ đau, nó làm cho mình ngang tối, nó làm cho mình ngỏ an, nó làm cho mình bất an. ...\u001b[0m\n",
      "2025-01-11 21:30:15,116 - tnh.tnh_scholar.openai_interface.openai_interface - \u001b[1;32mDEBUG\u001b[0m - Starting chat completion with response_format=None and max_tokens=636...\u001b[0m\n"
     ]
    },
    {
     "name": "stdout",
     "output_type": "stream",
     "text": [
      "According to the explanation of the ancients, the word \"meditation\" means the contemplation of an object. That is the first meaning. It means you take a certain object as a focus, and you contemplate it, immerse yourself in it. The contemplation of a given object. And the second meaning is quite similar. It means you come very close, you get in touch very closely, and you observe that object very closely. That object pertains to a phenomenon, belonging to the world of phenomena. You can delve deeply into that phenomenal world and enter the realm of true essence.\n"
     ]
    },
    {
     "name": "stderr",
     "output_type": "stream",
     "text": [
      "2025-01-11 21:30:16,613 - tnh.openai_text_processing - \u001b[1;32mDEBUG\u001b[0m - Full completion:\n",
      "ChatCompletion(id='chatcmpl-Aokq7VqT7H71E6xgmXxwyLszy3vFY', choices=[Choice(finish_reason='stop', index=0, logprobs=None, message=ChatCompletionMessage(content='For example, consider a wave. When we contemplate the wave very closely and intimately, we discover its true nature, which is impermanence. Thirdly, its essence involves eradication or elimination. In meditation practice, we have a term called elimination. These are the materials and elements that cause us suffering, make us feel hindered, make us lose our peace, and cause us insecurity.', refusal=None, role='assistant', audio=None, function_call=None, tool_calls=None))], created=1736659815, model='gpt-4o-2024-08-06', object='chat.completion', service_tier='default', system_fingerprint='fp_703d4ff298', usage=CompletionUsage(completion_tokens=79, prompt_tokens=257, total_tokens=336, completion_tokens_details=CompletionTokensDetails(accepted_prediction_tokens=0, audio_tokens=0, reasoning_tokens=0, rejected_prediction_tokens=0), prompt_tokens_details=PromptTokensDetails(audio_tokens=0, cached_tokens=0)))\u001b[0m\n",
      "2025-01-11 21:30:16,614 - tnh.openai_text_processing - \u001b[36mINFO\u001b[0m - Processing completed.\u001b[0m\n",
      "2025-01-11 21:30:16,615 - tnh.openai_text_processing - \u001b[36mINFO\u001b[0m - Open AI Text Processing with model 'gpt-4o' started...\u001b[0m\n",
      "2025-01-11 21:30:16,616 - tnh.tnh_scholar.openai_interface.openai_interface - \u001b[1;32mDEBUG\u001b[0m - User message content:\n",
      "Thiền sư Tân Hồi, sớm vào đầu và giữa thế kỷ thứ ba, Thiền sư Tân Hồi được coi như là tổ sư của Thiền Việt Nam. Âm đại từ kinh An Bang Thủ Y, thì Thầy cũng định nghĩa Thiền là sự loại trừ. Chữ hán là khí. Khí tức là loại trừ, tức eliminate. Có cái động tự tiếng Phạn là giai gia ti. Tiếng Phạn là giáp, giáp ti. Nó có nghĩa là đốt cháy, đơn. Và đó cũng là một cái lối các nghĩa về Thiền của các người tổ sư. ...\u001b[0m\n",
      "2025-01-11 21:30:16,617 - tnh.tnh_scholar.openai_interface.openai_interface - \u001b[1;32mDEBUG\u001b[0m - Starting chat completion with response_format=None and max_tokens=641...\u001b[0m\n"
     ]
    },
    {
     "name": "stdout",
     "output_type": "stream",
     "text": [
      "For example, consider a wave. When we contemplate the wave very closely and intimately, we discover its true nature, which is impermanence. Thirdly, its essence involves eradication or elimination. In meditation practice, we have a term called elimination. These are the materials and elements that cause us suffering, make us feel hindered, make us lose our peace, and cause us insecurity.\n"
     ]
    },
    {
     "name": "stderr",
     "output_type": "stream",
     "text": [
      "2025-01-11 21:30:18,252 - tnh.openai_text_processing - \u001b[1;32mDEBUG\u001b[0m - Full completion:\n",
      "ChatCompletion(id='chatcmpl-Aokq8P1COGC8sYDwEi5YJxvjBlIF2', choices=[Choice(finish_reason='stop', index=0, logprobs=None, message=ChatCompletionMessage(content='Zen Master Tân Hội, early in the third century, is considered the patriarch of Vietnamese Zen. Based on the An Bang Thủ Y scripture, he also defined Zen as elimination. The Chinese character is \"khí,\" which means to eliminate. The Sanskrit verb is \"gai gia ti.\" In Sanskrit, it is \"jhap,\" \"jhap ti,\" meaning to burn, to simplify. This is also one of the interpretations of Zen by the patriarchs.', refusal=None, role='assistant', audio=None, function_call=None, tool_calls=None))], created=1736659816, model='gpt-4o-2024-08-06', object='chat.completion', service_tier='default', system_fingerprint='fp_703d4ff298', usage=CompletionUsage(completion_tokens=96, prompt_tokens=262, total_tokens=358, completion_tokens_details=CompletionTokensDetails(accepted_prediction_tokens=0, audio_tokens=0, reasoning_tokens=0, rejected_prediction_tokens=0), prompt_tokens_details=PromptTokensDetails(audio_tokens=0, cached_tokens=0)))\u001b[0m\n",
      "2025-01-11 21:30:18,253 - tnh.openai_text_processing - \u001b[36mINFO\u001b[0m - Processing completed.\u001b[0m\n",
      "2025-01-11 21:30:18,254 - tnh.openai_text_processing - \u001b[36mINFO\u001b[0m - Open AI Text Processing with model 'gpt-4o' started...\u001b[0m\n",
      "2025-01-11 21:30:18,255 - tnh.tnh_scholar.openai_interface.openai_interface - \u001b[1;32mDEBUG\u001b[0m - User message content:\n",
      "Trong thiền tạc đó, thì tâm ý chúng ta, nó đột định lại cho một đối tượng. Và nhờ cái lĩnh lực đó là chúng ta có sức mạnh. Với cái sức mạnh đó, chúng ta có thể đốt cháy được những phim nào. Cái này cũng có nghĩa tương tự như là khí hay loại trừ. Thì hình ảnh đẹp nhất mà chúng ta có thể dùng là hình ảnh của một cái lanh kính, một cái tâm kính. Nó tiếp nhận ánh sáng mặt trời. Rồi thì tất cả những tia sáng đó dồn vào một điểm. Và nếu chúng ta đem cái buồn người ứng vào cái chỗ này, thì cái sức nắng hội tụ của ánh sáng đó sẽ tạo ra một cái tâm tư. ...\u001b[0m\n",
      "2025-01-11 21:30:18,256 - tnh.tnh_scholar.openai_interface.openai_interface - \u001b[1;32mDEBUG\u001b[0m - Starting chat completion with response_format=None and max_tokens=657...\u001b[0m\n"
     ]
    },
    {
     "name": "stdout",
     "output_type": "stream",
     "text": [
      "Zen Master Tân Hội, early in the third century, is considered the patriarch of Vietnamese Zen. Based on the An Bang Thủ Y scripture, he also defined Zen as elimination. The Chinese character is \"khí,\" which means to eliminate. The Sanskrit verb is \"gai gia ti.\" In Sanskrit, it is \"jhap,\" \"jhap ti,\" meaning to burn, to simplify. This is also one of the interpretations of Zen by the patriarchs.\n"
     ]
    },
    {
     "name": "stderr",
     "output_type": "stream",
     "text": [
      "2025-01-11 21:30:19,688 - tnh.openai_text_processing - \u001b[1;32mDEBUG\u001b[0m - Full completion:\n",
      "ChatCompletion(id='chatcmpl-AokqAbQ7J9FrmJlqSnXNdsw1r9B44', choices=[Choice(finish_reason='stop', index=0, logprobs=None, message=ChatCompletionMessage(content='In that meditation practice, our mind focuses intensely on a single object. Thanks to that concentration, we gain strength. With this strength, we can burn through any obstacles. This is similar to the concept of eliminating or purifying. The most beautiful image we can use is that of a magnifying glass or a lens. It receives the sunlight, and then all the rays converge at one point. If we associate our sadness with this spot, the focused intensity of that light will create a sense of clarity.', refusal=None, role='assistant', audio=None, function_call=None, tool_calls=None))], created=1736659818, model='gpt-4o-2024-08-06', object='chat.completion', service_tier='default', system_fingerprint='fp_703d4ff298', usage=CompletionUsage(completion_tokens=102, prompt_tokens=278, total_tokens=380, completion_tokens_details=CompletionTokensDetails(accepted_prediction_tokens=0, audio_tokens=0, reasoning_tokens=0, rejected_prediction_tokens=0), prompt_tokens_details=PromptTokensDetails(audio_tokens=0, cached_tokens=0)))\u001b[0m\n",
      "2025-01-11 21:30:19,689 - tnh.openai_text_processing - \u001b[36mINFO\u001b[0m - Processing completed.\u001b[0m\n",
      "2025-01-11 21:30:19,690 - tnh.openai_text_processing - \u001b[36mINFO\u001b[0m - Open AI Text Processing with model 'gpt-4o' started...\u001b[0m\n",
      "2025-01-11 21:30:19,691 - tnh.tnh_scholar.openai_interface.openai_interface - \u001b[1;32mDEBUG\u001b[0m - User message content:\n",
      "Các anh sao mặt trời nó có thể nốt cháy được cái bông cỏ đó. Trong thiền tập, nếu chúng ta có định mạnh, những định đó chiếu vào những trạng thái hôn nghe, chiếu vào những trạng thái phiền não, thì những hôn nghe phiền não đó có thể bị nốt cháy. Đó là một nghĩa khác của thiền tập do các vị Tổ sư đưa ra, và nó rất gần với ý niệm khí, tức là loại trực. Sẽ nhắc lại ý niệm đầu tức là quan chíu, ý niệm thứ hai là quan sát một cách rất gần gũi thế giới hình tượng. Thứ ba là loại trực, những yếu tố tiêu cực, và thứ tư là nốt cháy. ...\u001b[0m\n",
      "2025-01-11 21:30:19,692 - tnh.tnh_scholar.openai_interface.openai_interface - \u001b[1;32mDEBUG\u001b[0m - Starting chat completion with response_format=None and max_tokens=664...\u001b[0m\n"
     ]
    },
    {
     "name": "stdout",
     "output_type": "stream",
     "text": [
      "In that meditation practice, our mind focuses intensely on a single object. Thanks to that concentration, we gain strength. With this strength, we can burn through any obstacles. This is similar to the concept of eliminating or purifying. The most beautiful image we can use is that of a magnifying glass or a lens. It receives the sunlight, and then all the rays converge at one point. If we associate our sadness with this spot, the focused intensity of that light will create a sense of clarity.\n"
     ]
    },
    {
     "name": "stderr",
     "output_type": "stream",
     "text": [
      "2025-01-11 21:30:21,540 - tnh.openai_text_processing - \u001b[1;32mDEBUG\u001b[0m - Full completion:\n",
      "ChatCompletion(id='chatcmpl-AokqBHRgY6IyaT3LYRFCO66rRN0CL', choices=[Choice(finish_reason='stop', index=0, logprobs=None, message=ChatCompletionMessage(content='The way the sun can burn a blade of grass is similar to meditation. In meditation practice, if we have strong concentration, that concentration can illuminate states of dullness and afflictions, and those states of dullness and afflictions can be burnt away. This is another meaning of meditation practice given by the patriarchs, and it is very close to the concept of qi, which is a type of directness. It will recall the first idea, which is contemplation, the second idea is closely observing the world of form, the third is directness, dealing with negative elements, and the fourth is burning away.', refusal=None, role='assistant', audio=None, function_call=None, tool_calls=None))], created=1736659819, model='gpt-4o-2024-08-06', object='chat.completion', service_tier='default', system_fingerprint='fp_703d4ff298', usage=CompletionUsage(completion_tokens=126, prompt_tokens=285, total_tokens=411, completion_tokens_details=CompletionTokensDetails(accepted_prediction_tokens=0, audio_tokens=0, reasoning_tokens=0, rejected_prediction_tokens=0), prompt_tokens_details=PromptTokensDetails(audio_tokens=0, cached_tokens=0)))\u001b[0m\n",
      "2025-01-11 21:30:21,541 - tnh.openai_text_processing - \u001b[36mINFO\u001b[0m - Processing completed.\u001b[0m\n",
      "2025-01-11 21:30:21,544 - tnh.openai_text_processing - \u001b[36mINFO\u001b[0m - Open AI Text Processing with model 'gpt-4o' started...\u001b[0m\n",
      "2025-01-11 21:30:21,545 - tnh.tnh_scholar.openai_interface.openai_interface - \u001b[1;32mDEBUG\u001b[0m - User message content:\n",
      "Tâm trí rất rẻ của thiền tập, nó có ý niệm về tu vi. Thầy Nghĩa Nāpunika, Nghĩa Nāpunika bác giả cũng là heart of Buddhist meditation. Thầy Nghĩa Nāpunika là một người Đức, đã tu học tại Thích Lan, đã cư trú mấy chục năm tại Forest Hermitage ở Thích Lan. Thầy Nghĩa Nāpunika cách đây được chừng một tháng mấy, Thầy đã gọi tránh niệm là cái tim của thiền tập Phật giáo. Thầy Nghĩa Nāpunika là một nhà hội giả, lúc Thầy đang lớn tuổi, 80 mấy tuổi, Thầy có tới thăm, ngày xưa khi mà tôi còn làm việc ở tại Paris thì Thầy có tới thăm trụ sở của Pháp Đoàn Phật giáo. Và Thầy đã đem cuốn Pháp là một sự tính thức về Thích Lan, và Thầy cho xuất bản sau khi đã đi tựa. ...\u001b[0m\n",
      "2025-01-11 21:30:21,545 - tnh.tnh_scholar.openai_interface.openai_interface - \u001b[1;32mDEBUG\u001b[0m - Starting chat completion with response_format=None and max_tokens=716...\u001b[0m\n"
     ]
    },
    {
     "name": "stdout",
     "output_type": "stream",
     "text": [
      "The way the sun can burn a blade of grass is similar to meditation. In meditation practice, if we have strong concentration, that concentration can illuminate states of dullness and afflictions, and those states of dullness and afflictions can be burnt away. This is another meaning of meditation practice given by the patriarchs, and it is very close to the concept of qi, which is a type of directness. It will recall the first idea, which is contemplation, the second idea is closely observing the world of form, the third is directness, dealing with negative elements, and the fourth is burning away.\n"
     ]
    },
    {
     "name": "stderr",
     "output_type": "stream",
     "text": [
      "2025-01-11 21:30:23,774 - tnh.openai_text_processing - \u001b[1;32mDEBUG\u001b[0m - Full completion:\n",
      "ChatCompletion(id='chatcmpl-AokqDoeNC9T0me6ClVlXviWpQsKx5', choices=[Choice(finish_reason='stop', index=0, logprobs=None, message=ChatCompletionMessage(content='The mind is very inexpensive in the practice of meditation, with the concept of cultivation. Ven. Nyanaponika, who is also known as the heart of Buddhist meditation, was a German who studied in Sri Lanka and resided for several decades at the Forest Hermitage in Sri Lanka. About a month ago, Ven. Nyanaponika called mindfulness the heart of Buddhist meditation. Ven. Nyanaponika is a scholar, and when he was in his eighties, he visited. In the past, when I was working in Paris, he came to visit the headquarters of the Buddhist Association. He brought the book \"The Heart of Buddhist Meditation\" about Sri Lanka, and he published it after careful consideration.', refusal=None, role='assistant', audio=None, function_call=None, tool_calls=None))], created=1736659821, model='gpt-4o-2024-08-06', object='chat.completion', service_tier='default', system_fingerprint='fp_703d4ff298', usage=CompletionUsage(completion_tokens=145, prompt_tokens=337, total_tokens=482, completion_tokens_details=CompletionTokensDetails(accepted_prediction_tokens=0, audio_tokens=0, reasoning_tokens=0, rejected_prediction_tokens=0), prompt_tokens_details=PromptTokensDetails(audio_tokens=0, cached_tokens=0)))\u001b[0m\n",
      "2025-01-11 21:30:23,774 - tnh.openai_text_processing - \u001b[36mINFO\u001b[0m - Processing completed.\u001b[0m\n",
      "2025-01-11 21:30:23,776 - tnh.openai_text_processing - \u001b[36mINFO\u001b[0m - Open AI Text Processing with model 'gpt-4o' started...\u001b[0m\n",
      "2025-01-11 21:30:23,776 - tnh.tnh_scholar.openai_interface.openai_interface - \u001b[1;32mDEBUG\u001b[0m - User message content:\n",
      "Tại vì độc giả của nhà xuất bản ở Thích Lan hầu hết là những người theo Đạo Mục 5 Tâm, cho nên khi mà xuất bản cuốn Pháp là một sự tính thức bằng tiếng Anh ở Thích Lan thì Thầy có xin phép lấy ra khỏi tác phẩm những tư tưởng về Đại Thừa, thì hồi đó tôi gạch đầu đồng ý, tại hồi đó tôi cũng lớn rồi. Tôi nói rằng là dòng sông ai muốn tới lấy bao nhiêu nước thì lấy. Nói rằng là muốn lấy về để tắm cũng được, muốn lấy về để uống trà cũng được, muốn lấy về để rửa chân cũng được, muốn lấy ít cũng được, muốn lấy nhiều cũng được, không sao cả, thành ra tôi rất hoàn hiển. ...\u001b[0m\n",
      "2025-01-11 21:30:23,777 - tnh.tnh_scholar.openai_interface.openai_interface - \u001b[1;32mDEBUG\u001b[0m - Starting chat completion with response_format=None and max_tokens=662...\u001b[0m\n"
     ]
    },
    {
     "name": "stdout",
     "output_type": "stream",
     "text": [
      "The mind is very inexpensive in the practice of meditation, with the concept of cultivation. Ven. Nyanaponika, who is also known as the heart of Buddhist meditation, was a German who studied in Sri Lanka and resided for several decades at the Forest Hermitage in Sri Lanka. About a month ago, Ven. Nyanaponika called mindfulness the heart of Buddhist meditation. Ven. Nyanaponika is a scholar, and when he was in his eighties, he visited. In the past, when I was working in Paris, he came to visit the headquarters of the Buddhist Association. He brought the book \"The Heart of Buddhist Meditation\" about Sri Lanka, and he published it after careful consideration.\n"
     ]
    },
    {
     "name": "stderr",
     "output_type": "stream",
     "text": [
      "2025-01-11 21:30:25,350 - tnh.openai_text_processing - \u001b[1;32mDEBUG\u001b[0m - Full completion:\n",
      "ChatCompletion(id='chatcmpl-AokqF54IEDJA9qN2e8yhGGSejq1jf', choices=[Choice(finish_reason='stop', index=0, logprobs=None, message=ChatCompletionMessage(content='Because the majority of the readers of the publisher in Thailand are followers of the Five Mind Dharma, when publishing the book \"Pháp is an Awakening\" in English in Thailand, I was asked for permission to remove the ideas of Mahayana from the work. At that time, I agreed because I was already quite mature. I said that the river is there for anyone who wants to take as much water as they like. Whether one wants to take it to bathe, to drink tea, to wash their feet, to take only a little or a lot, it doesn\\'t matter. So, I was perfectly fine with it.', refusal=None, role='assistant', audio=None, function_call=None, tool_calls=None))], created=1736659823, model='gpt-4o-2024-08-06', object='chat.completion', service_tier='default', system_fingerprint='fp_703d4ff298', usage=CompletionUsage(completion_tokens=127, prompt_tokens=283, total_tokens=410, completion_tokens_details=CompletionTokensDetails(accepted_prediction_tokens=0, audio_tokens=0, reasoning_tokens=0, rejected_prediction_tokens=0), prompt_tokens_details=PromptTokensDetails(audio_tokens=0, cached_tokens=0)))\u001b[0m\n",
      "2025-01-11 21:30:25,350 - tnh.openai_text_processing - \u001b[36mINFO\u001b[0m - Processing completed.\u001b[0m\n",
      "2025-01-11 21:30:25,352 - tnh.openai_text_processing - \u001b[36mINFO\u001b[0m - Open AI Text Processing with model 'gpt-4o' started...\u001b[0m\n",
      "2025-01-11 21:30:25,352 - tnh.tnh_scholar.openai_interface.openai_interface - \u001b[1;32mDEBUG\u001b[0m - User message content:\n",
      "Sau đó thì cuốn Pháp là một sự tính thức được yên bằng tiếng Đức, được dịch được yên bằng tiếng Đức, rồi sau đó mới yên bằng tiếng Anh, rồi tiếp theo là tiếng Thái Lan. Thì Thầy Nguyễn Áp Onika đã ở với chúng tôi tại Paris mấy ngày, tôi có nhớ một hôm đưa Thầy đi vào trong công viên Park The Soul, rồi hai người ngồi trên băng ghế đá để mà đàm đào, bây giờ Thầy đã tịch. Và theo Thầy Nguyễn Áp Onika thì tên em là trái tim của Thiền Tập Pháp Giáp. ...\u001b[0m\n",
      "2025-01-11 21:30:25,353 - tnh.tnh_scholar.openai_interface.openai_interface - \u001b[1;32mDEBUG\u001b[0m - Starting chat completion with response_format=None and max_tokens=635...\u001b[0m\n"
     ]
    },
    {
     "name": "stdout",
     "output_type": "stream",
     "text": [
      "Because the majority of the readers of the publisher in Thailand are followers of the Five Mind Dharma, when publishing the book \"Pháp is an Awakening\" in English in Thailand, I was asked for permission to remove the ideas of Mahayana from the work. At that time, I agreed because I was already quite mature. I said that the river is there for anyone who wants to take as much water as they like. Whether one wants to take it to bathe, to drink tea, to wash their feet, to take only a little or a lot, it doesn't matter. So, I was perfectly fine with it.\n"
     ]
    },
    {
     "name": "stderr",
     "output_type": "stream",
     "text": [
      "2025-01-11 21:30:26,861 - tnh.openai_text_processing - \u001b[1;32mDEBUG\u001b[0m - Full completion:\n",
      "ChatCompletion(id='chatcmpl-AokqHAGteokX0ARcIOZNVrYSOdigJ', choices=[Choice(finish_reason='stop', index=0, logprobs=None, message=ChatCompletionMessage(content='Later, the Dharma book was printed in German, translated and printed in German, then later printed in English, and after that in Thai. Master Nguyễn Áp Onika stayed with us in Paris for a few days. I remember one day taking him to Park The Soul, where we both sat on a stone bench to converse. Now, Master has passed away. According to Master Nguyễn Áp Onika, your name is the heart of Zen Practice Dharma Bond.', refusal=None, role='assistant', audio=None, function_call=None, tool_calls=None))], created=1736659825, model='gpt-4o-2024-08-06', object='chat.completion', service_tier='default', system_fingerprint='fp_b7d65f1a5b', usage=CompletionUsage(completion_tokens=94, prompt_tokens=256, total_tokens=350, completion_tokens_details=CompletionTokensDetails(accepted_prediction_tokens=0, audio_tokens=0, reasoning_tokens=0, rejected_prediction_tokens=0), prompt_tokens_details=PromptTokensDetails(audio_tokens=0, cached_tokens=0)))\u001b[0m\n",
      "2025-01-11 21:30:26,862 - tnh.openai_text_processing - \u001b[36mINFO\u001b[0m - Processing completed.\u001b[0m\n",
      "2025-01-11 21:30:26,863 - tnh.openai_text_processing - \u001b[36mINFO\u001b[0m - Open AI Text Processing with model 'gpt-4o' started...\u001b[0m\n",
      "2025-01-11 21:30:26,864 - tnh.tnh_scholar.openai_interface.openai_interface - \u001b[1;32mDEBUG\u001b[0m - User message content:\n",
      "Tên em là Sati, là Svarti, Sati là tiếng Pali. Smriti là tiếng Phạn. Chánh niệm là danh từ dân dùng nhiều nhất trong văn học Phật giáo. Nhiều, gấp mấy trăm lần danh từ thiệt. Vì vậy cho nên chúng ta rất thoải mái khi mà chúng ta nghe nói tới chánh niệm như là trái tim của thiền tộc Phật giáo, chứ không phải là những cái khác. Tại vì trong số những cái giáo lý, những cái ý niệm về thiền, nó có tứ thiền, tứ vô sắc định, nó có bác, bố, xã, cửu thứ địa định, vân vân, rất nhiều. Nhưng mà trái tim của thiền tộc Phật giáo vẫn là chánh niệm như thường. Giờ này mình phải biết tình ấm cho vườn. ...\u001b[0m\n",
      "2025-01-11 21:30:26,864 - tnh.tnh_scholar.openai_interface.openai_interface - \u001b[1;32mDEBUG\u001b[0m - Starting chat completion with response_format=None and max_tokens=691...\u001b[0m\n"
     ]
    },
    {
     "name": "stdout",
     "output_type": "stream",
     "text": [
      "Later, the Dharma book was printed in German, translated and printed in German, then later printed in English, and after that in Thai. Master Nguyễn Áp Onika stayed with us in Paris for a few days. I remember one day taking him to Park The Soul, where we both sat on a stone bench to converse. Now, Master has passed away. According to Master Nguyễn Áp Onika, your name is the heart of Zen Practice Dharma Bond.\n"
     ]
    },
    {
     "name": "stderr",
     "output_type": "stream",
     "text": [
      "2025-01-11 21:30:28,986 - tnh.openai_text_processing - \u001b[1;32mDEBUG\u001b[0m - Full completion:\n",
      "ChatCompletion(id='chatcmpl-AokqJGf4yoB13wibsja14e7t3mN27', choices=[Choice(finish_reason='stop', index=0, logprobs=None, message=ChatCompletionMessage(content='Your name is Sati, also Svarti, Sati is in Pali. Smriti is in Sanskrit. Mindfulness is the term most commonly used in Buddhist literature. Many, hundreds of times more than the actual term. Therefore, we are very comfortable when we hear of mindfulness as the heart of Buddhist meditation practice, rather than anything else. Because among the teachings and concepts of meditation, there are the four jhanas, the four formless attainments, the eight emancipations, the absorption levels, and so on, many things. But the heart of the Buddhist meditation practice remains mindfulness as usual. At this moment, we must know to care for the garden.', refusal=None, role='assistant', audio=None, function_call=None, tool_calls=None))], created=1736659827, model='gpt-4o-2024-08-06', object='chat.completion', service_tier='default', system_fingerprint='fp_703d4ff298', usage=CompletionUsage(completion_tokens=137, prompt_tokens=312, total_tokens=449, completion_tokens_details=CompletionTokensDetails(accepted_prediction_tokens=0, audio_tokens=0, reasoning_tokens=0, rejected_prediction_tokens=0), prompt_tokens_details=PromptTokensDetails(audio_tokens=0, cached_tokens=0)))\u001b[0m\n",
      "2025-01-11 21:30:28,987 - tnh.openai_text_processing - \u001b[36mINFO\u001b[0m - Processing completed.\u001b[0m\n",
      "2025-01-11 21:30:28,989 - tnh.openai_text_processing - \u001b[36mINFO\u001b[0m - Open AI Text Processing with model 'gpt-4o' started...\u001b[0m\n",
      "2025-01-11 21:30:28,989 - tnh.tnh_scholar.openai_interface.openai_interface - \u001b[1;32mDEBUG\u001b[0m - User message content:\n",
      "Khi được dạy bài Pháp Thoại đầu tiên cho 5 thầy ở vườn này, thì ngày trường này giáo lý muốn sự thật tới vụ đấy. Và trong cái bài giảng đầu tiên đó, thì ngày cũng có nói về bác chánh đạo, tức là đạo đế. Và trong đạo đế thì chúng ta thấy có chánh niệm. Rồi tiếp theo chánh niệm là tuệ, hay là định là chánh định. Và chánh định thì nó đưa tới chánh kiến, chánh kiến nó tôn đương với tuệ. Và trong cái giáo lý gọi là TÀM HỌC, the three learnings, hay là the three trainings, là chúng ta nói với định và tuệ. Cái năm là một 80 tuổi, nó sắp nhập vẹt, thì trong những bài Pháp Thoại nhắn, ngày thường nói về sự huấn luyện thanh tâm bằng TÀM HỌC, tức là giới, định và tuệ. ...\u001b[0m\n",
      "2025-01-11 21:30:28,990 - tnh.tnh_scholar.openai_interface.openai_interface - \u001b[1;32mDEBUG\u001b[0m - Starting chat completion with response_format=None and max_tokens=715...\u001b[0m\n"
     ]
    },
    {
     "name": "stdout",
     "output_type": "stream",
     "text": [
      "Your name is Sati, also Svarti, Sati is in Pali. Smriti is in Sanskrit. Mindfulness is the term most commonly used in Buddhist literature. Many, hundreds of times more than the actual term. Therefore, we are very comfortable when we hear of mindfulness as the heart of Buddhist meditation practice, rather than anything else. Because among the teachings and concepts of meditation, there are the four jhanas, the four formless attainments, the eight emancipations, the absorption levels, and so on, many things. But the heart of the Buddhist meditation practice remains mindfulness as usual. At this moment, we must know to care for the garden.\n"
     ]
    },
    {
     "name": "stderr",
     "output_type": "stream",
     "text": [
      "2025-01-11 21:30:31,123 - tnh.openai_text_processing - \u001b[1;32mDEBUG\u001b[0m - Full completion:\n",
      "ChatCompletion(id='chatcmpl-AokqL1omZyqvhgwNPAy83WXtOBSmU', choices=[Choice(finish_reason='stop', index=0, logprobs=None, message=ChatCompletionMessage(content='When the first Dharma talk was taught to the five monks in this garden, this doctrine aimed for truth in that event. In that first sermon, the teacher also spoke about the Noble Eightfold Path, which is the path of realization. Within this path, we find right mindfulness. Following right mindfulness is wisdom, or concentration, which is right concentration. Right concentration leads to right view, and right view aligns with wisdom. In the doctrine called THE THREE LEARNINGS, or the three trainings, we mention concentration and wisdom. At the age of 80, nearing his passing, in his Dharma talks, he often spoke about training the mind with THE THREE LEARNINGS, which are morality, concentration, and wisdom.', refusal=None, role='assistant', audio=None, function_call=None, tool_calls=None))], created=1736659829, model='gpt-4o-2024-08-06', object='chat.completion', service_tier='default', system_fingerprint='fp_703d4ff298', usage=CompletionUsage(completion_tokens=145, prompt_tokens=336, total_tokens=481, completion_tokens_details=CompletionTokensDetails(accepted_prediction_tokens=0, audio_tokens=0, reasoning_tokens=0, rejected_prediction_tokens=0), prompt_tokens_details=PromptTokensDetails(audio_tokens=0, cached_tokens=0)))\u001b[0m\n",
      "2025-01-11 21:30:31,123 - tnh.openai_text_processing - \u001b[36mINFO\u001b[0m - Processing completed.\u001b[0m\n",
      "2025-01-11 21:30:31,124 - tnh.openai_text_processing - \u001b[36mINFO\u001b[0m - Open AI Text Processing with model 'gpt-4o' started...\u001b[0m\n",
      "2025-01-11 21:30:31,125 - tnh.tnh_scholar.openai_interface.openai_interface - \u001b[1;32mDEBUG\u001b[0m - User message content:\n",
      "Nhưng mà trong cái tu học á, thì Thầy khám phá ra rằng giới mà nói ở đây nó tôn đương với niệm. Giới đây nó chỉ là niệm thôi, niệm tức là chánh niệm. Cái điều này chúng ta phải nói đi nói lại hoài, là tại vì ở những chỗ khác á, thì chúng ta cứ nghe niệm, định, tuệ, niệm, định, tuệ, niệm, định, tuệ rất nhiều. Mình nói về huấn luyện TÀM HỌC thì chúng ta không thấy niệm, nhưng mà chúng ta thấy giới, định, tuệ. Và nếu chúng ta quan sát cho nó kỳ lưỡng, thì chúng ta khám phá ra rằng giới tức là niệm. Và nếu mình hiểu giới, thực tập giới là thực tập tránh niệm thì giới trở nên rất là sâu sắc. ...\u001b[0m\n",
      "2025-01-11 21:30:31,126 - tnh.tnh_scholar.openai_interface.openai_interface - \u001b[1;32mDEBUG\u001b[0m - Starting chat completion with response_format=None and max_tokens=687...\u001b[0m\n"
     ]
    },
    {
     "name": "stdout",
     "output_type": "stream",
     "text": [
      "When the first Dharma talk was taught to the five monks in this garden, this doctrine aimed for truth in that event. In that first sermon, the teacher also spoke about the Noble Eightfold Path, which is the path of realization. Within this path, we find right mindfulness. Following right mindfulness is wisdom, or concentration, which is right concentration. Right concentration leads to right view, and right view aligns with wisdom. In the doctrine called THE THREE LEARNINGS, or the three trainings, we mention concentration and wisdom. At the age of 80, nearing his passing, in his Dharma talks, he often spoke about training the mind with THE THREE LEARNINGS, which are morality, concentration, and wisdom.\n"
     ]
    },
    {
     "name": "stderr",
     "output_type": "stream",
     "text": [
      "2025-01-11 21:30:33,311 - tnh.openai_text_processing - \u001b[1;32mDEBUG\u001b[0m - Full completion:\n",
      "ChatCompletion(id='chatcmpl-AokqNJBvT7ZC1Zidzt5rbhKzAYdxY', choices=[Choice(finish_reason='stop', index=0, logprobs=None, message=ChatCompletionMessage(content=\"In the practice of study, the teacher discovered that the precepts mentioned here correspond to mindfulness. The precepts here are simply mindfulness, which is right mindfulness. This is something we have to repeatedly emphasize because, elsewhere, we often hear about mindfulness, concentration, and insight. When we talk about the training of the threefold study, we don't see mindfulness, but we see precepts, concentration, and insight. And if we observe carefully, we discover that precepts are mindfulness. If we understand precepts and practice precepts as practicing right mindfulness, then the precepts become very profound.\", refusal=None, role='assistant', audio=None, function_call=None, tool_calls=None))], created=1736659831, model='gpt-4o-2024-08-06', object='chat.completion', service_tier='default', system_fingerprint='fp_703d4ff298', usage=CompletionUsage(completion_tokens=120, prompt_tokens=308, total_tokens=428, completion_tokens_details=CompletionTokensDetails(accepted_prediction_tokens=0, audio_tokens=0, reasoning_tokens=0, rejected_prediction_tokens=0), prompt_tokens_details=PromptTokensDetails(audio_tokens=0, cached_tokens=0)))\u001b[0m\n",
      "2025-01-11 21:30:33,312 - tnh.openai_text_processing - \u001b[36mINFO\u001b[0m - Processing completed.\u001b[0m\n",
      "2025-01-11 21:30:33,313 - tnh.openai_text_processing - \u001b[36mINFO\u001b[0m - Open AI Text Processing with model 'gpt-4o' started...\u001b[0m\n",
      "2025-01-11 21:30:33,313 - tnh.tnh_scholar.openai_interface.openai_interface - \u001b[1;32mDEBUG\u001b[0m - User message content:\n",
      "Khi mà chúng ta đọc 5 giới, hay là 10 giới, hay là 14 giới, hay là 250 giới, thì chúng ta có thể có cái quan niệm cạn cờ là những giới đó là những sự ngăn cấm. Những giới đó là sự ngăn cấm do các bậc thầy đưa ra, để cho đệ tử khỏi xa vào cái hầm hố của tội lỗi. Cái quan niệm đó nó không có sai, nhưng không phải là quan niệm sâu sắc nhất về giới. Giới là cái sự biểu hiện của sự thực tập tránh niệm. Hiểu như vầy thì chúng ta mới thấy được cái chiều sâu của giới. ...\u001b[0m\n",
      "2025-01-11 21:30:33,314 - tnh.tnh_scholar.openai_interface.openai_interface - \u001b[1;32mDEBUG\u001b[0m - Starting chat completion with response_format=None and max_tokens=647...\u001b[0m\n"
     ]
    },
    {
     "name": "stdout",
     "output_type": "stream",
     "text": [
      "In the practice of study, the teacher discovered that the precepts mentioned here correspond to mindfulness. The precepts here are simply mindfulness, which is right mindfulness. This is something we have to repeatedly emphasize because, elsewhere, we often hear about mindfulness, concentration, and insight. When we talk about the training of the threefold study, we don't see mindfulness, but we see precepts, concentration, and insight. And if we observe carefully, we discover that precepts are mindfulness. If we understand precepts and practice precepts as practicing right mindfulness, then the precepts become very profound.\n"
     ]
    },
    {
     "name": "stderr",
     "output_type": "stream",
     "text": [
      "2025-01-11 21:30:35,341 - tnh.openai_text_processing - \u001b[1;32mDEBUG\u001b[0m - Full completion:\n",
      "ChatCompletion(id='chatcmpl-AokqPfGbccZ5TwlrVvoygJyPHgb2X', choices=[Choice(finish_reason='stop', index=0, logprobs=None, message=ChatCompletionMessage(content='When we read the Five Precepts, or the Ten Precepts, or the Fourteen Precepts, or the 250 Precepts, we might have the shallow notion that these precepts are prohibitions. These precepts are seen as prohibitions established by teachers to prevent disciples from falling into the pitfalls of wrongdoing. This notion is not incorrect, but it is not the deepest understanding of the precepts. The precepts are the manifestation of the practice of mindfulness. Understanding them in this way allows us to see the depth of the precepts.', refusal=None, role='assistant', audio=None, function_call=None, tool_calls=None))], created=1736659833, model='gpt-4o-2024-08-06', object='chat.completion', service_tier='default', system_fingerprint='fp_703d4ff298', usage=CompletionUsage(completion_tokens=111, prompt_tokens=268, total_tokens=379, completion_tokens_details=CompletionTokensDetails(accepted_prediction_tokens=0, audio_tokens=0, reasoning_tokens=0, rejected_prediction_tokens=0), prompt_tokens_details=PromptTokensDetails(audio_tokens=0, cached_tokens=0)))\u001b[0m\n",
      "2025-01-11 21:30:35,341 - tnh.openai_text_processing - \u001b[36mINFO\u001b[0m - Processing completed.\u001b[0m\n",
      "2025-01-11 21:30:35,342 - tnh.openai_text_processing - \u001b[36mINFO\u001b[0m - Open AI Text Processing with model 'gpt-4o' started...\u001b[0m\n",
      "2025-01-11 21:30:35,343 - tnh.tnh_scholar.openai_interface.openai_interface - \u001b[1;32mDEBUG\u001b[0m - User message content:\n",
      "Cho nên trong cái bảng văn năm mới mà chúng ta đang thực tập, thì cái lời văn nó rất rõ ràng, nó chứng tỏ rằng là giới tức là cái mình thấy được do sự thực tập tránh niệm. Ví dụ như giới thứ nhất thì nói là ý thức được rằng, vì ý thức được những cái đau khổ đã gây ra do sự sát hại. Ý thức được những khổ đau do sự sát hại gây ra, công dân học theo hành đại đi để bảo vệ sự sống của loài người và mọi loài. Câu đầu là như vầy. Thì ý thức được những khổ đau do sự sát hại gây ra là kết quả của tránh niệm. ...\u001b[0m\n",
      "2025-01-11 21:30:35,343 - tnh.tnh_scholar.openai_interface.openai_interface - \u001b[1;32mDEBUG\u001b[0m - Starting chat completion with response_format=None and max_tokens=646...\u001b[0m\n"
     ]
    },
    {
     "name": "stdout",
     "output_type": "stream",
     "text": [
      "When we read the Five Precepts, or the Ten Precepts, or the Fourteen Precepts, or the 250 Precepts, we might have the shallow notion that these precepts are prohibitions. These precepts are seen as prohibitions established by teachers to prevent disciples from falling into the pitfalls of wrongdoing. This notion is not incorrect, but it is not the deepest understanding of the precepts. The precepts are the manifestation of the practice of mindfulness. Understanding them in this way allows us to see the depth of the precepts.\n"
     ]
    },
    {
     "name": "stderr",
     "output_type": "stream",
     "text": [
      "2025-01-11 21:30:36,957 - tnh.openai_text_processing - \u001b[1;32mDEBUG\u001b[0m - Full completion:\n",
      "ChatCompletion(id='chatcmpl-AokqRiVO2SdEwqjP35boqU2RgiS2I', choices=[Choice(finish_reason='stop', index=0, logprobs=None, message=ChatCompletionMessage(content=\"Therefore, in the new year's resolution text that we are practicing, the wording is very clear. It demonstrates that the precepts are what we perceive through the practice of mindfulness. For example, the first precept states that being aware means recognizing the suffering caused by killing. Aware of the pain caused by killing, citizens learn according to the teachings of great compassion to protect the lives of humans and all species. The first sentence goes like this. Thus, being aware of the suffering caused by killing is the result of mindfulness.\", refusal=None, role='assistant', audio=None, function_call=None, tool_calls=None))], created=1736659835, model='gpt-4o-2024-08-06', object='chat.completion', service_tier='default', system_fingerprint='fp_703d4ff298', usage=CompletionUsage(completion_tokens=106, prompt_tokens=267, total_tokens=373, completion_tokens_details=CompletionTokensDetails(accepted_prediction_tokens=0, audio_tokens=0, reasoning_tokens=0, rejected_prediction_tokens=0), prompt_tokens_details=PromptTokensDetails(audio_tokens=0, cached_tokens=0)))\u001b[0m\n",
      "2025-01-11 21:30:36,957 - tnh.openai_text_processing - \u001b[36mINFO\u001b[0m - Processing completed.\u001b[0m\n",
      "2025-01-11 21:30:36,958 - tnh.openai_text_processing - \u001b[36mINFO\u001b[0m - Open AI Text Processing with model 'gpt-4o' started...\u001b[0m\n",
      "2025-01-11 21:30:36,958 - tnh.tnh_scholar.openai_interface.openai_interface - \u001b[1;32mDEBUG\u001b[0m - User message content:\n",
      "Mình có tránh niệm thì mình thấy cái sự sát hại nó gây ra rất nhiều đau khổ. Sát hại con người, sát hại các loài động vật, sát hại các loài thực vật, và sát hại luôn cả những loài khoản vật nữa. Và khi mình thấy được những cái khổ đau đó gây ra do sự sát hại, thì mình phát ra cái tâm đại đi, tức là cái tình thương lớn. Và chính do cái tình thương lớn đó, mình cương quyết hành trí giới. Chẳng phải là tại vì Thầy đã bắt tôi phải giữ giới, hay là Bụng bắt tôi phải giữ giới, hay là Tăng đoạn bắt tôi phải giữ giới. Nói như vầy thì mình chưa có đạt tới cái chiều sâu nhất của cái trí giới. ...\u001b[0m\n",
      "2025-01-11 21:30:36,959 - tnh.tnh_scholar.openai_interface.openai_interface - \u001b[1;32mDEBUG\u001b[0m - Starting chat completion with response_format=None and max_tokens=670...\u001b[0m\n"
     ]
    },
    {
     "name": "stdout",
     "output_type": "stream",
     "text": [
      "Therefore, in the new year's resolution text that we are practicing, the wording is very clear. It demonstrates that the precepts are what we perceive through the practice of mindfulness. For example, the first precept states that being aware means recognizing the suffering caused by killing. Aware of the pain caused by killing, citizens learn according to the teachings of great compassion to protect the lives of humans and all species. The first sentence goes like this. Thus, being aware of the suffering caused by killing is the result of mindfulness.\n"
     ]
    },
    {
     "name": "stderr",
     "output_type": "stream",
     "text": [
      "2025-01-11 21:30:38,456 - tnh.openai_text_processing - \u001b[1;32mDEBUG\u001b[0m - Full completion:\n",
      "ChatCompletion(id='chatcmpl-AokqTFF9dvqyZqj06BkMpHz1vUFHy', choices=[Choice(finish_reason='stop', index=0, logprobs=None, message=ChatCompletionMessage(content=\"When we are mindful, we see that killing causes a lot of suffering. Killing people, animals, plants, and even non-living things. And when we see the suffering caused by killing, we develop a great compassion, which is a large love. It is because of this great love that we are determined to uphold the precepts. It's not because the teacher forced us to keep the precepts, or the Buddha forced us, or the Sangha forced us. Speaking in this way means we have not yet reached the deepest level of understanding the precepts.\", refusal=None, role='assistant', audio=None, function_call=None, tool_calls=None))], created=1736659837, model='gpt-4o-2024-08-06', object='chat.completion', service_tier='default', system_fingerprint='fp_b7d65f1a5b', usage=CompletionUsage(completion_tokens=114, prompt_tokens=291, total_tokens=405, completion_tokens_details=CompletionTokensDetails(accepted_prediction_tokens=0, audio_tokens=0, reasoning_tokens=0, rejected_prediction_tokens=0), prompt_tokens_details=PromptTokensDetails(audio_tokens=0, cached_tokens=0)))\u001b[0m\n",
      "2025-01-11 21:30:38,457 - tnh.openai_text_processing - \u001b[36mINFO\u001b[0m - Processing completed.\u001b[0m\n",
      "2025-01-11 21:30:38,458 - tnh.openai_text_processing - \u001b[36mINFO\u001b[0m - Open AI Text Processing with model 'gpt-4o' started...\u001b[0m\n",
      "2025-01-11 21:30:38,459 - tnh.tnh_scholar.openai_interface.openai_interface - \u001b[1;32mDEBUG\u001b[0m - User message content:\n",
      "Vì vậy cho nên chúng ta có thể nói giới tức là hoa trái của tránh niệm, và sự thực tập tránh niệm. Và thực tập giới chẳng qua chỉ là sự thực tập tránh niệm nó thôi. Giới, thực tập giới là thực tập tránh niệm một cách rất là cụ thể. Nếu anh không giữ giới, thì anh đâu có thể nói là đang thực tập tránh niệm. Giới nào trong năm nay cũng bắt đầu được bằng cái câu đó là ý thức được những khổ đau do lường gạt, rộng cướp và bất công xã hội gây ra. Đó là về giới thứ hai. Con sân học theo hành đại từ để đem niềm vui sống và an lạc cho mọi người và mọi loài. Thì cái tránh niệm nó cho mình thấy được những cái đau khổ do lường gạt, rộng cướp và bất công gây ra. Và khi mà thấy được những đau khổ đó thì mình phát cái lòng đại từ. Và từ cái lòng đại từ đó mà mình cung quyết giữ giới. ...\u001b[0m\n",
      "2025-01-11 21:30:38,459 - tnh.tnh_scholar.openai_interface.openai_interface - \u001b[1;32mDEBUG\u001b[0m - Starting chat completion with response_format=None and max_tokens=721...\u001b[0m\n"
     ]
    },
    {
     "name": "stdout",
     "output_type": "stream",
     "text": [
      "When we are mindful, we see that killing causes a lot of suffering. Killing people, animals, plants, and even non-living things. And when we see the suffering caused by killing, we develop a great compassion, which is a large love. It is because of this great love that we are determined to uphold the precepts. It's not because the teacher forced us to keep the precepts, or the Buddha forced us, or the Sangha forced us. Speaking in this way means we have not yet reached the deepest level of understanding the precepts.\n"
     ]
    },
    {
     "name": "stderr",
     "output_type": "stream",
     "text": [
      "2025-01-11 21:30:40,618 - tnh.openai_text_processing - \u001b[1;32mDEBUG\u001b[0m - Full completion:\n",
      "ChatCompletion(id='chatcmpl-AokqUqumQuHjWUMzzU8tQ4PgR8dF2', choices=[Choice(finish_reason='stop', index=0, logprobs=None, message=ChatCompletionMessage(content='Thus, we can say that precepts are the fruit of mindfulness and the practice of mindfulness. Practicing the precepts is essentially practicing mindfulness itself. Precepts, practicing the precepts, means practicing mindfulness in a very concrete way. If you don’t uphold the precepts, you cannot claim to be practicing mindfulness. Each of the five precepts begins with the awareness of the suffering caused by deceit, theft, and social injustice. This is related to the second precept. Practicing compassion involves acting with great love to bring joy and peace to everyone and all beings. Mindfulness allows us to see the suffering caused by deceit, theft, and injustice. When we see this suffering, we generate great compassion. And from this great compassion comes the determination to uphold the precepts.', refusal=None, role='assistant', audio=None, function_call=None, tool_calls=None))], created=1736659838, model='gpt-4o-2024-08-06', object='chat.completion', service_tier='default', system_fingerprint='fp_703d4ff298', usage=CompletionUsage(completion_tokens=158, prompt_tokens=342, total_tokens=500, completion_tokens_details=CompletionTokensDetails(accepted_prediction_tokens=0, audio_tokens=0, reasoning_tokens=0, rejected_prediction_tokens=0), prompt_tokens_details=PromptTokensDetails(audio_tokens=0, cached_tokens=0)))\u001b[0m\n",
      "2025-01-11 21:30:40,619 - tnh.openai_text_processing - \u001b[36mINFO\u001b[0m - Processing completed.\u001b[0m\n",
      "2025-01-11 21:30:40,620 - tnh.openai_text_processing - \u001b[36mINFO\u001b[0m - Open AI Text Processing with model 'gpt-4o' started...\u001b[0m\n",
      "2025-01-11 21:30:40,621 - tnh.tnh_scholar.openai_interface.openai_interface - \u001b[1;32mDEBUG\u001b[0m - User message content:\n",
      "Giữ giới thứ hai, tức là giới không rộng cướp, không lường gạt và không gây bất công xã hội. Bởi vậy cho nên mình phải thấy ở đây là bản chất của giới là tránh niệm. Và khi mình biết rằng do cái sự tưu tập tránh niệm mà mình thấy được những cái đau khổ và sự cần thiết của hành trì thì chính mình phát nguyện hành trì giới. Chứ không phải là mình hành trì giới là do cái sự phán quyết của một người khác. Và người đó là buộc hay là tâm đoàn. Và khi mà chúng ta hành trì giới như là một cái sự tư nguyện thì giới không còn là những cái bó buộc. Giới không còn được coi như là những cái ưu tố nó hạn chế cái tự do của mình. Mà trái lại giới nó đều thành những cái phương tiện để bảo vệ cái tự do của mình. Được không? tạo hạnh phúc cho mình và cho người. ...\u001b[0m\n",
      "2025-01-11 21:30:40,621 - tnh.tnh_scholar.openai_interface.openai_interface - \u001b[1;32mDEBUG\u001b[0m - Starting chat completion with response_format=None and max_tokens=704...\u001b[0m\n"
     ]
    },
    {
     "name": "stdout",
     "output_type": "stream",
     "text": [
      "Thus, we can say that precepts are the fruit of mindfulness and the practice of mindfulness. Practicing the precepts is essentially practicing mindfulness itself. Precepts, practicing the precepts, means practicing mindfulness in a very concrete way. If you don’t uphold the precepts, you cannot claim to be practicing mindfulness. Each of the five precepts begins with the awareness of the suffering caused by deceit, theft, and social injustice. This is related to the second precept. Practicing compassion involves acting with great love to bring joy and peace to everyone and all beings. Mindfulness allows us to see the suffering caused by deceit, theft, and injustice. When we see this suffering, we generate great compassion. And from this great compassion comes the determination to uphold the precepts.\n"
     ]
    },
    {
     "name": "stderr",
     "output_type": "stream",
     "text": [
      "2025-01-11 21:30:42,941 - tnh.openai_text_processing - \u001b[1;32mDEBUG\u001b[0m - Full completion:\n",
      "ChatCompletion(id='chatcmpl-AokqW3n3So0vmmXMlYc5G166zlqsY', choices=[Choice(finish_reason='stop', index=0, logprobs=None, message=ChatCompletionMessage(content=\"Keeping the second precept, which is not to steal, not to cheat, and not to cause social injustice. Therefore, we must see here that the essence of precepts is mindfulness. And when we know that through the practice of mindfulness, we see the suffering and the necessity of practice, we ourselves vow to uphold the precepts. It's not because of the judgment of someone else that we uphold them. And that person might be an authority or a monastic community. When we practice the precepts as a personal vow, precepts no longer become constraints. They are no longer seen as factors that limit our freedom. On the contrary, precepts become tools to protect our freedom. Right? They create happiness for ourselves and others.\", refusal=None, role='assistant', audio=None, function_call=None, tool_calls=None))], created=1736659840, model='gpt-4o-2024-08-06', object='chat.completion', service_tier='default', system_fingerprint='fp_703d4ff298', usage=CompletionUsage(completion_tokens=149, prompt_tokens=325, total_tokens=474, completion_tokens_details=CompletionTokensDetails(accepted_prediction_tokens=0, audio_tokens=0, reasoning_tokens=0, rejected_prediction_tokens=0), prompt_tokens_details=PromptTokensDetails(audio_tokens=0, cached_tokens=0)))\u001b[0m\n",
      "2025-01-11 21:30:42,942 - tnh.openai_text_processing - \u001b[36mINFO\u001b[0m - Processing completed.\u001b[0m\n",
      "2025-01-11 21:30:42,944 - tnh.openai_text_processing - \u001b[36mINFO\u001b[0m - Open AI Text Processing with model 'gpt-4o' started...\u001b[0m\n",
      "2025-01-11 21:30:42,944 - tnh.tnh_scholar.openai_interface.openai_interface - \u001b[1;32mDEBUG\u001b[0m - User message content:\n",
      "Và điều này là điều Thầy đã tìm ra trong quá trình thực tập. Nhớ trải qua là niệm. Chúng tôi phải phát đàn khá nhiều về cái điểm này. Chúng tôi biết rằng cái bài thiếu pháp đầu tiên của Bụt nói cho năm Thầy. Nó có niệm định tuệ. Ở trong Tứ Dược Đế, trong Bác Chánh Đạo. Là cái bài thiếu pháp ngắn mà Bụt nói cho người xuất gia cuối cùng trước khi Bụt nhập diễn. Ngài cũng nói về Bác Chánh Đạo. Nó có niệm định và tuệ. Nó cũng là cái sương sống, cái tên ba của sự thực tập Đạo Bụt. Điều về cái phong niệm 27 Pháp Trời Đạo. Chúng tôi thấy rằng giáo lý ngũ căn cũng có là tiến tấn niệm định tuệ. Và đến ngũ lực thì chúng ta cũng tiến tấn niệm định tuệ. Thắc Bồ Đề Phẩn, the 7th Factor of Enlightenment. Thắc Bồ Đề Phẩn cũng có niệm định tuệ. Tại vì tuệ trong Thắc Bồ Đề Phẩn nó là trạch pháp. Nó được gọi là trạch pháp. Trạch pháp Nắc Chi. Tứ Nghẹn Sớ. Nó cũng là nghẹn định tuệ. ...\u001b[0m\n",
      "2025-01-11 21:30:42,944 - tnh.tnh_scholar.openai_interface.openai_interface - \u001b[1;32mDEBUG\u001b[0m - Starting chat completion with response_format=None and max_tokens=793...\u001b[0m\n"
     ]
    },
    {
     "name": "stdout",
     "output_type": "stream",
     "text": [
      "Keeping the second precept, which is not to steal, not to cheat, and not to cause social injustice. Therefore, we must see here that the essence of precepts is mindfulness. And when we know that through the practice of mindfulness, we see the suffering and the necessity of practice, we ourselves vow to uphold the precepts. It's not because of the judgment of someone else that we uphold them. And that person might be an authority or a monastic community. When we practice the precepts as a personal vow, precepts no longer become constraints. They are no longer seen as factors that limit our freedom. On the contrary, precepts become tools to protect our freedom. Right? They create happiness for ourselves and others.\n"
     ]
    },
    {
     "name": "stderr",
     "output_type": "stream",
     "text": [
      "2025-01-11 21:30:46,391 - tnh.openai_text_processing - \u001b[1;32mDEBUG\u001b[0m - Full completion:\n",
      "ChatCompletion(id='chatcmpl-AokqZzoLuKgguFYMVCnAMjW31lGqT', choices=[Choice(finish_reason='stop', index=0, logprobs=None, message=ChatCompletionMessage(content=\"And this is what I have discovered in the process of practice. To remember and experience is mindfulness. We must reflect quite a bit on this point. We know that the first Dharma talk by the Buddha to the five disciples included mindfulness, concentration, and insight. In the Four Noble Truths and the Noble Eightfold Path, in the brief Dharma talk that the Buddha gave to the monastics before his Parinirvana, he also talked about the Noble Eightfold Path. It includes mindfulness, concentration, and insight. It is also the backbone, the tripod of Buddhist practice. The practice of mindfulness, concentration, and insight is present in the 37 Factors of Enlightenment. We see that the teachings of the five faculties also include diligence, mindfulness, concentration, and insight. And with the five powers, we also continue with diligence, mindfulness, concentration, and insight. The Factors of Enlightenment, the 7th Factor, also include mindfulness, concentration, and insight. Because insight in the Factors of Enlightenment is called dharma selection. It is referred to as dharma selection, 'dharma-vicaya.' The Four Foundations of Mindfulness also comprise mindfulness, concentration, and insight.\", refusal=None, role='assistant', audio=None, function_call=None, tool_calls=None))], created=1736659843, model='gpt-4o-2024-08-06', object='chat.completion', service_tier='default', system_fingerprint='fp_703d4ff298', usage=CompletionUsage(completion_tokens=243, prompt_tokens=414, total_tokens=657, completion_tokens_details=CompletionTokensDetails(accepted_prediction_tokens=0, audio_tokens=0, reasoning_tokens=0, rejected_prediction_tokens=0), prompt_tokens_details=PromptTokensDetails(audio_tokens=0, cached_tokens=0)))\u001b[0m\n",
      "2025-01-11 21:30:46,391 - tnh.openai_text_processing - \u001b[36mINFO\u001b[0m - Processing completed.\u001b[0m\n",
      "2025-01-11 21:30:46,393 - tnh.openai_text_processing - \u001b[36mINFO\u001b[0m - Open AI Text Processing with model 'gpt-4o' started...\u001b[0m\n",
      "2025-01-11 21:30:46,393 - tnh.tnh_scholar.openai_interface.openai_interface - \u001b[1;32mDEBUG\u001b[0m - User message content:\n",
      "Tứ Nghẹn Sớ là thuần túy dạy về tránh niệm. Rồi tới Bắc Chánh Đạo là cũng có tránh niệm. Vậy thì chúng ta thấy rất rõ là trong cái toàn bộ của giáo lý Đạo Bược. Tránh niệm đóng đông vai trò tính hương, đóng đông vai trò trái tim. ...\u001b[0m\n",
      "2025-01-11 21:30:46,394 - tnh.tnh_scholar.openai_interface.openai_interface - \u001b[1;32mDEBUG\u001b[0m - Starting chat completion with response_format=None and max_tokens=573...\u001b[0m\n"
     ]
    },
    {
     "name": "stdout",
     "output_type": "stream",
     "text": [
      "And this is what I have discovered in the process of practice. To remember and experience is mindfulness. We must reflect quite a bit on this point. We know that the first Dharma talk by the Buddha to the five disciples included mindfulness, concentration, and insight. In the Four Noble Truths and the Noble Eightfold Path, in the brief Dharma talk that the Buddha gave to the monastics before his Parinirvana, he also talked about the Noble Eightfold Path. It includes mindfulness, concentration, and insight. It is also the backbone, the tripod of Buddhist practice. The practice of mindfulness, concentration, and insight is present in the 37 Factors of Enlightenment. We see that the teachings of the five faculties also include diligence, mindfulness, concentration, and insight. And with the five powers, we also continue with diligence, mindfulness, concentration, and insight. The Factors of Enlightenment, the 7th Factor, also include mindfulness, concentration, and insight. Because insight in the Factors of Enlightenment is called dharma selection. It is referred to as dharma selection, 'dharma-vicaya.' The Four Foundations of Mindfulness also comprise mindfulness, concentration, and insight.\n"
     ]
    },
    {
     "name": "stderr",
     "output_type": "stream",
     "text": [
      "2025-01-11 21:30:47,349 - tnh.openai_text_processing - \u001b[1;32mDEBUG\u001b[0m - Full completion:\n",
      "ChatCompletion(id='chatcmpl-AokqchunbWayNPzqMFZkms2IviUC4', choices=[Choice(finish_reason='stop', index=0, logprobs=None, message=ChatCompletionMessage(content=\"The Four Establishments of Mindfulness purely teach about mindfulness. Then, in the Noble Eightfold Path, there is also mindfulness. So we see very clearly that in the entire teaching of the Buddha's Path, mindfulness plays the role of essence, it plays the role of the heart.\", refusal=None, role='assistant', audio=None, function_call=None, tool_calls=None))], created=1736659846, model='gpt-4o-2024-08-06', object='chat.completion', service_tier='default', system_fingerprint='fp_703d4ff298', usage=CompletionUsage(completion_tokens=58, prompt_tokens=194, total_tokens=252, completion_tokens_details=CompletionTokensDetails(accepted_prediction_tokens=0, audio_tokens=0, reasoning_tokens=0, rejected_prediction_tokens=0), prompt_tokens_details=PromptTokensDetails(audio_tokens=0, cached_tokens=0)))\u001b[0m\n",
      "2025-01-11 21:30:47,350 - tnh.openai_text_processing - \u001b[36mINFO\u001b[0m - Processing completed.\u001b[0m\n",
      "2025-01-11 21:30:47,351 - tnh.openai_text_processing - \u001b[36mINFO\u001b[0m - Open AI Text Processing with model 'gpt-4o' started...\u001b[0m\n",
      "2025-01-11 21:30:47,351 - tnh.tnh_scholar.openai_interface.openai_interface - \u001b[1;32mDEBUG\u001b[0m - User message content:\n",
      "Vậy là cho nên chúng ta có thể kết nối với Thầy Nyanaponika rằng tránh niệm là trái tim của Thiền Tập Phật Giáo. Và tránh niệm không phải là cái gì mà chúng ta đi kiếm từ bên ngoài. Tránh niệm nó có hạt giống ngay trong cái tâm thức của chúng ta. Chúng ta biết rằng trong số 51 cái tâm hành mà chúng ta đã học trong khoảng một năm năm ngoái, thì có 5 cái tâm hành gọi là đặc biệt. Là 5 tâm sở biệt cảnh, tức là Dục, Thắng Giải, Niệm, Định, Tuệ. Thì Niệm, Định, Tuệ là 3 cái tâm hành nó có trong cái tâm lý của chúng ta. Khi mà nó phát hiện thì chúng ta có Niệm, có Định và có Tuệ. ...\u001b[0m\n",
      "2025-01-11 21:30:47,352 - tnh.tnh_scholar.openai_interface.openai_interface - \u001b[1;32mDEBUG\u001b[0m - Starting chat completion with response_format=None and max_tokens=681...\u001b[0m\n"
     ]
    },
    {
     "name": "stdout",
     "output_type": "stream",
     "text": [
      "The Four Establishments of Mindfulness purely teach about mindfulness. Then, in the Noble Eightfold Path, there is also mindfulness. So we see very clearly that in the entire teaching of the Buddha's Path, mindfulness plays the role of essence, it plays the role of the heart.\n"
     ]
    },
    {
     "name": "stderr",
     "output_type": "stream",
     "text": [
      "2025-01-11 21:30:49,218 - tnh.openai_text_processing - \u001b[1;32mDEBUG\u001b[0m - Full completion:\n",
      "ChatCompletion(id='chatcmpl-AokqdITGt1VFYth7RZJkVyaK4W303', choices=[Choice(finish_reason='stop', index=0, logprobs=None, message=ChatCompletionMessage(content='Therefore, we can connect with Teacher Nyanaponika in understanding that mindfulness is the heart of Buddhist meditation. Mindfulness is not something we seek from outside. The seed of mindfulness is already within our consciousness. We know that among the 51 mental formations we studied over about a year last year, there are five special mental formations. These are the five object-determining mental factors: Desire, Conviction, Mindfulness, Concentration, and Wisdom. Mindfulness, Concentration, and Wisdom are three mental formations that exist within our psychology. When they manifest, we have mindfulness, concentration, and wisdom.', refusal=None, role='assistant', audio=None, function_call=None, tool_calls=None))], created=1736659847, model='gpt-4o-2024-08-06', object='chat.completion', service_tier='default', system_fingerprint='fp_703d4ff298', usage=CompletionUsage(completion_tokens=124, prompt_tokens=302, total_tokens=426, completion_tokens_details=CompletionTokensDetails(accepted_prediction_tokens=0, audio_tokens=0, reasoning_tokens=0, rejected_prediction_tokens=0), prompt_tokens_details=PromptTokensDetails(audio_tokens=0, cached_tokens=0)))\u001b[0m\n",
      "2025-01-11 21:30:49,219 - tnh.openai_text_processing - \u001b[36mINFO\u001b[0m - Processing completed.\u001b[0m\n",
      "2025-01-11 21:30:49,220 - tnh.openai_text_processing - \u001b[36mINFO\u001b[0m - Open AI Text Processing with model 'gpt-4o' started...\u001b[0m\n",
      "2025-01-11 21:30:49,221 - tnh.tnh_scholar.openai_interface.openai_interface - \u001b[1;32mDEBUG\u001b[0m - User message content:\n",
      "Nhưng là Niệm Định Tuệ ở trong 5 cái tâm hành đó, nó có tiếng cách nói chung. Tức là Niệm có thể là Tránh Niệm, mà cũng có thể là Ta Niệm. Định nó có thể là Tránh Định, nhưng mà nó có thể là Ta Định. Và Tuệ Nó có thể là chánh tuệ, và nó cũng có thể là tạ tuệ. ...\u001b[0m\n",
      "2025-01-11 21:30:49,221 - tnh.tnh_scholar.openai_interface.openai_interface - \u001b[1;32mDEBUG\u001b[0m - Starting chat completion with response_format=None and max_tokens=591...\u001b[0m\n"
     ]
    },
    {
     "name": "stdout",
     "output_type": "stream",
     "text": [
      "Therefore, we can connect with Teacher Nyanaponika in understanding that mindfulness is the heart of Buddhist meditation. Mindfulness is not something we seek from outside. The seed of mindfulness is already within our consciousness. We know that among the 51 mental formations we studied over about a year last year, there are five special mental formations. These are the five object-determining mental factors: Desire, Conviction, Mindfulness, Concentration, and Wisdom. Mindfulness, Concentration, and Wisdom are three mental formations that exist within our psychology. When they manifest, we have mindfulness, concentration, and wisdom.\n"
     ]
    },
    {
     "name": "stderr",
     "output_type": "stream",
     "text": [
      "2025-01-11 21:30:50,631 - tnh.openai_text_processing - \u001b[1;32mDEBUG\u001b[0m - Full completion:\n",
      "ChatCompletion(id='chatcmpl-AokqfUr9z6XqIyxEoZTBO0LEGHGuk', choices=[Choice(finish_reason='stop', index=0, logprobs=None, message=ChatCompletionMessage(content='But in the five mental formations, Mindfulness, Concentration, and Insight can be understood in general terms. Mindfulness can be Right Mindfulness, but it can also be Wrong Mindfulness. Concentration can be Right Concentration, but it can also be Wrong Concentration. And Insight can be Right Insight, but it can also be Wrong Insight.', refusal=None, role='assistant', audio=None, function_call=None, tool_calls=None))], created=1736659849, model='gpt-4o-2024-08-06', object='chat.completion', service_tier='default', system_fingerprint='fp_703d4ff298', usage=CompletionUsage(completion_tokens=72, prompt_tokens=212, total_tokens=284, completion_tokens_details=CompletionTokensDetails(accepted_prediction_tokens=0, audio_tokens=0, reasoning_tokens=0, rejected_prediction_tokens=0), prompt_tokens_details=PromptTokensDetails(audio_tokens=0, cached_tokens=0)))\u001b[0m\n",
      "2025-01-11 21:30:50,631 - tnh.openai_text_processing - \u001b[36mINFO\u001b[0m - Processing completed.\u001b[0m\n",
      "2025-01-11 21:30:50,632 - tnh.openai_text_processing - \u001b[36mINFO\u001b[0m - Open AI Text Processing with model 'gpt-4o' started...\u001b[0m\n",
      "2025-01-11 21:30:50,633 - tnh.tnh_scholar.openai_interface.openai_interface - \u001b[1;32mDEBUG\u001b[0m - User message content:\n",
      "Khi mà chúng ta có một nhận thức sai lầm, chúng ta đoán rằng chúng ta đã thấy, đã biết, đã hiểu, cái đó là tuệ, nhưng mà đó là tạ tuệ. Vì vậy cho nên chúng ta phải thêm vào chữ chánh để nói về kỷ niệm chân chính, chúng ta phải thêm vào chữ chánh để nói về kỷ niệm chân chính, và chúng ta phải thêm vào chữ chánh trong tuệ để nói về cái tuệ chân chính. Tại vì khi chúng ta bị kẹt vào một nghĩa sai lầm, chúng ta vẫn tưởng là chúng ta đã biết, chúng ta đã hiểu, mà cái đó không phải là tuệ, nó là tạ kiếm. ...\u001b[0m\n",
      "2025-01-11 21:30:50,633 - tnh.tnh_scholar.openai_interface.openai_interface - \u001b[1;32mDEBUG\u001b[0m - Starting chat completion with response_format=None and max_tokens=652...\u001b[0m\n"
     ]
    },
    {
     "name": "stdout",
     "output_type": "stream",
     "text": [
      "But in the five mental formations, Mindfulness, Concentration, and Insight can be understood in general terms. Mindfulness can be Right Mindfulness, but it can also be Wrong Mindfulness. Concentration can be Right Concentration, but it can also be Wrong Concentration. And Insight can be Right Insight, but it can also be Wrong Insight.\n"
     ]
    },
    {
     "name": "stderr",
     "output_type": "stream",
     "text": [
      "2025-01-11 21:30:52,265 - tnh.openai_text_processing - \u001b[1;32mDEBUG\u001b[0m - Full completion:\n",
      "ChatCompletion(id='chatcmpl-AokqgARhPLw1Hv9XlEZT5wUo4iMUR', choices=[Choice(finish_reason='stop', index=0, logprobs=None, message=ChatCompletionMessage(content='When we have a mistaken perception, we assume that we have seen, known, and understood, thinking that it is wisdom, but it is actually distorted wisdom. Therefore, we must add the word \"right\" to speak of true remembrance, we must add the word \"right\" to speak of true remembrance, and we must add the word \"right\" in wisdom to refer to true wisdom. Because when we are stuck in a mistaken meaning, we still believe that we know, that we understand, but that is not wisdom, it is wrong view.', refusal=None, role='assistant', audio=None, function_call=None, tool_calls=None))], created=1736659850, model='gpt-4o-2024-08-06', object='chat.completion', service_tier='default', system_fingerprint='fp_703d4ff298', usage=CompletionUsage(completion_tokens=112, prompt_tokens=273, total_tokens=385, completion_tokens_details=CompletionTokensDetails(accepted_prediction_tokens=0, audio_tokens=0, reasoning_tokens=0, rejected_prediction_tokens=0), prompt_tokens_details=PromptTokensDetails(audio_tokens=0, cached_tokens=0)))\u001b[0m\n",
      "2025-01-11 21:30:52,266 - tnh.openai_text_processing - \u001b[36mINFO\u001b[0m - Processing completed.\u001b[0m\n",
      "2025-01-11 21:30:52,267 - tnh.openai_text_processing - \u001b[36mINFO\u001b[0m - Open AI Text Processing with model 'gpt-4o' started...\u001b[0m\n",
      "2025-01-11 21:30:52,267 - tnh.tnh_scholar.openai_interface.openai_interface - \u001b[1;32mDEBUG\u001b[0m - User message content:\n",
      "Và khi mà chúng ta, cái tâm của chúng ta luôn luôn trở về với những cái tương tượng dặn hờn, lo lắng, tài dục, thì nó cũng là một loại định, nhưng mà đó là tạ định. Vì vậy cho nên 5 cái tâm sở biệt cảnh là 5 cái tâm sở có tính cách mối chung, và trong đó niềm định tuệ, nó được phân chia ra làm tạ, làm chánh rất rõ ràng. ...\u001b[0m\n",
      "2025-01-11 21:30:52,268 - tnh.tnh_scholar.openai_interface.openai_interface - \u001b[1;32mDEBUG\u001b[0m - Starting chat completion with response_format=None and max_tokens=600...\u001b[0m\n"
     ]
    },
    {
     "name": "stdout",
     "output_type": "stream",
     "text": [
      "When we have a mistaken perception, we assume that we have seen, known, and understood, thinking that it is wisdom, but it is actually distorted wisdom. Therefore, we must add the word \"right\" to speak of true remembrance, we must add the word \"right\" to speak of true remembrance, and we must add the word \"right\" in wisdom to refer to true wisdom. Because when we are stuck in a mistaken meaning, we still believe that we know, that we understand, but that is not wisdom, it is wrong view.\n"
     ]
    },
    {
     "name": "stderr",
     "output_type": "stream",
     "text": [
      "2025-01-11 21:30:53,569 - tnh.openai_text_processing - \u001b[1;32mDEBUG\u001b[0m - Full completion:\n",
      "ChatCompletion(id='chatcmpl-AokqiLS27RskVSFqe7HY3JaDcERNp', choices=[Choice(finish_reason='stop', index=0, logprobs=None, message=ChatCompletionMessage(content='And when our mind is always returning to imagined grudges, worries, and desires, it also becomes a form of concentration, but it is wrong concentration. Therefore, the five particular mental formations are five faculties that have a general characteristic, and among them, mindfulness, concentration, and wisdom are clearly divided into right and wrong.', refusal=None, role='assistant', audio=None, function_call=None, tool_calls=None))], created=1736659852, model='gpt-4o-2024-08-06', object='chat.completion', service_tier='default', system_fingerprint='fp_703d4ff298', usage=CompletionUsage(completion_tokens=66, prompt_tokens=221, total_tokens=287, completion_tokens_details=CompletionTokensDetails(accepted_prediction_tokens=0, audio_tokens=0, reasoning_tokens=0, rejected_prediction_tokens=0), prompt_tokens_details=PromptTokensDetails(audio_tokens=0, cached_tokens=0)))\u001b[0m\n",
      "2025-01-11 21:30:53,569 - tnh.openai_text_processing - \u001b[36mINFO\u001b[0m - Processing completed.\u001b[0m\n",
      "2025-01-11 21:30:53,570 - tnh.openai_text_processing - \u001b[36mINFO\u001b[0m - Open AI Text Processing with model 'gpt-4o' started...\u001b[0m\n",
      "2025-01-11 21:30:53,571 - tnh.tnh_scholar.openai_interface.openai_interface - \u001b[1;32mDEBUG\u001b[0m - User message content:\n",
      "Và chúng ta biết rằng niệm bao giờ cũng là niệm một cái gì, chánh niệm bao giờ cũng là chánh niệm về một cái đối tượng gì. Như là khi mà chúng ta uống nước trà, mà nếu chúng ta biết rằng chúng ta đang uống trà, thì chúng ta có niệm, có chánh niệm. Và cái chánh niệm đó nó có thể càng cực hay là nó có thể sâu sắc là tùy theo cái công phu thực tập của chúng ta. Nhưng mà tôi có chánh niệm hay không, anh có chánh niệm hay không là một câu hỏi. Nhưng mà chánh niệm của anh có sâu sắc hay không, chánh niệm của tôi có sâu sắc hay không, đó là một câu hỏi khác. ...\u001b[0m\n",
      "2025-01-11 21:30:53,571 - tnh.tnh_scholar.openai_interface.openai_interface - \u001b[1;32mDEBUG\u001b[0m - Starting chat completion with response_format=None and max_tokens=663...\u001b[0m\n"
     ]
    },
    {
     "name": "stdout",
     "output_type": "stream",
     "text": [
      "And when our mind is always returning to imagined grudges, worries, and desires, it also becomes a form of concentration, but it is wrong concentration. Therefore, the five particular mental formations are five faculties that have a general characteristic, and among them, mindfulness, concentration, and wisdom are clearly divided into right and wrong.\n"
     ]
    },
    {
     "name": "stderr",
     "output_type": "stream",
     "text": [
      "2025-01-11 21:30:55,211 - tnh.openai_text_processing - \u001b[1;32mDEBUG\u001b[0m - Full completion:\n",
      "ChatCompletion(id='chatcmpl-AokqjAmw154ZjhyrKOuAOGBWHMDi5', choices=[Choice(finish_reason='stop', index=0, logprobs=None, message=ChatCompletionMessage(content='And we know that mindfulness is always mindfulness of something, right mindfulness is always right mindfulness of something specific. For example, when we are drinking tea, if we are aware that we are drinking tea, then we have mindfulness, we have right mindfulness. And that right mindfulness can be developed or deepened depending on our practice. Whether I have right mindfulness or not, whether you have right mindfulness or not, is one question. But whether your mindfulness is deep or whether my mindfulness is deep is another question.', refusal=None, role='assistant', audio=None, function_call=None, tool_calls=None))], created=1736659853, model='gpt-4o-2024-08-06', object='chat.completion', service_tier='default', system_fingerprint='fp_703d4ff298', usage=CompletionUsage(completion_tokens=102, prompt_tokens=284, total_tokens=386, completion_tokens_details=CompletionTokensDetails(accepted_prediction_tokens=0, audio_tokens=0, reasoning_tokens=0, rejected_prediction_tokens=0), prompt_tokens_details=PromptTokensDetails(audio_tokens=0, cached_tokens=0)))\u001b[0m\n",
      "2025-01-11 21:30:55,212 - tnh.openai_text_processing - \u001b[36mINFO\u001b[0m - Processing completed.\u001b[0m\n",
      "2025-01-11 21:30:55,213 - tnh.openai_text_processing - \u001b[36mINFO\u001b[0m - Open AI Text Processing with model 'gpt-4o' started...\u001b[0m\n",
      "2025-01-11 21:30:55,214 - tnh.tnh_scholar.openai_interface.openai_interface - \u001b[1;32mDEBUG\u001b[0m - User message content:\n",
      "Và do theo cái công phu thực tập của mình, mà chánh niệm của mình có thể giúp cho mình thấy được sâu hơn hay là càng hơn. Chúng phải thấy là chánh niệm tức là đầy đủ rồi. Chúng ta có chánh niệm trong khi chúng ta uống nước, bột cũng có chánh niệm trong khi bột uống nước. Nhưng mà cái chánh niệm của bột nó soi thấu xuống dưới đáy của sự vật. Còn cái chánh niệm của chúng ta nó chỉ mới soi được 1, 2, 5, 6 phần trên bề mặt của sự thật mà thôi. Vì vậy cho nên chúng ta phải thực tập nhiều hơn nữa. ...\u001b[0m\n",
      "2025-01-11 21:30:55,214 - tnh.tnh_scholar.openai_interface.openai_interface - \u001b[1;32mDEBUG\u001b[0m - Starting chat completion with response_format=None and max_tokens=651...\u001b[0m\n"
     ]
    },
    {
     "name": "stdout",
     "output_type": "stream",
     "text": [
      "And we know that mindfulness is always mindfulness of something, right mindfulness is always right mindfulness of something specific. For example, when we are drinking tea, if we are aware that we are drinking tea, then we have mindfulness, we have right mindfulness. And that right mindfulness can be developed or deepened depending on our practice. Whether I have right mindfulness or not, whether you have right mindfulness or not, is one question. But whether your mindfulness is deep or whether my mindfulness is deep is another question.\n"
     ]
    },
    {
     "name": "stderr",
     "output_type": "stream",
     "text": [
      "2025-01-11 21:30:56,693 - tnh.openai_text_processing - \u001b[1;32mDEBUG\u001b[0m - Full completion:\n",
      "ChatCompletion(id='chatcmpl-AokqlqIWHizJaNVJMhoDFAFkGL1VC', choices=[Choice(finish_reason='stop', index=0, logprobs=None, message=ChatCompletionMessage(content='And thanks to our diligent practice, our mindfulness can help us see more deeply or more extensively. We must recognize that mindfulness itself is complete. We have mindfulness when we drink water, and flour also has mindfulness when it absorbs water. But the mindfulness of the flour penetrates to the depths of things. Whereas our mindfulness only manages to illuminate one, two, five, or six parts of the surface of the truth. Therefore, we must practice more.', refusal=None, role='assistant', audio=None, function_call=None, tool_calls=None))], created=1736659855, model='gpt-4o-2024-08-06', object='chat.completion', service_tier='default', system_fingerprint='fp_703d4ff298', usage=CompletionUsage(completion_tokens=91, prompt_tokens=272, total_tokens=363, completion_tokens_details=CompletionTokensDetails(accepted_prediction_tokens=0, audio_tokens=0, reasoning_tokens=0, rejected_prediction_tokens=0), prompt_tokens_details=PromptTokensDetails(audio_tokens=0, cached_tokens=0)))\u001b[0m\n",
      "2025-01-11 21:30:56,694 - tnh.openai_text_processing - \u001b[36mINFO\u001b[0m - Processing completed.\u001b[0m\n",
      "2025-01-11 21:30:56,695 - tnh.openai_text_processing - \u001b[36mINFO\u001b[0m - Open AI Text Processing with model 'gpt-4o' started...\u001b[0m\n",
      "2025-01-11 21:30:56,695 - tnh.tnh_scholar.openai_interface.openai_interface - \u001b[1;32mDEBUG\u001b[0m - User message content:\n",
      "Về khi mà có chánh niệm, trước hết chúng ta phải nói rằng chánh niệm nó gồm có một cái đối tượng. Chánh niệm luôn luôn là chánh niệm gồm cái gì? Ví dụ như khi mà chúng ta thực tập chánh niệm và hơi thở, thở vào biết là mình đang thở vào, thở ra biết là mình đang thở ra, thì cái đối tượng của chánh niệm là hơi thở. Khi mà chúng ta uống nước có chánh niệm, thì uống nước là đối tượng của chánh niệm. Khi chúng ta đi mà có chánh niệm, thì nước cho người chúng ta là đối tượng của chánh niệm. Đừng có tưởng là chánh niệm là một trữ thể mà không có đối tượng, cái trường đó không bao giờ có. ...\u001b[0m\n",
      "2025-01-11 21:30:56,696 - tnh.tnh_scholar.openai_interface.openai_interface - \u001b[1;32mDEBUG\u001b[0m - Starting chat completion with response_format=None and max_tokens=676...\u001b[0m\n"
     ]
    },
    {
     "name": "stdout",
     "output_type": "stream",
     "text": [
      "And thanks to our diligent practice, our mindfulness can help us see more deeply or more extensively. We must recognize that mindfulness itself is complete. We have mindfulness when we drink water, and flour also has mindfulness when it absorbs water. But the mindfulness of the flour penetrates to the depths of things. Whereas our mindfulness only manages to illuminate one, two, five, or six parts of the surface of the truth. Therefore, we must practice more.\n"
     ]
    },
    {
     "name": "stderr",
     "output_type": "stream",
     "text": [
      "2025-01-11 21:30:58,218 - tnh.openai_text_processing - \u001b[1;32mDEBUG\u001b[0m - Full completion:\n",
      "ChatCompletion(id='chatcmpl-Aokqmup5E4iSCb0m6wB2RL1eJHme0', choices=[Choice(finish_reason='stop', index=0, logprobs=None, message=ChatCompletionMessage(content='When we talk about mindfulness, we must first say that mindfulness always involves an object. Mindfulness is always mindfulness of something. For example, when we practice mindfulness of breathing, breathing in, we know we are breathing in; breathing out, we know we are breathing out. In this case, the object of mindfulness is the breath. When we drink water mindfully, drinking water is the object of mindfulness. When we walk mindfully, our steps are the object of mindfulness. Do not think that mindfulness is a state without an object; such a state does not exist.', refusal=None, role='assistant', audio=None, function_call=None, tool_calls=None))], created=1736659856, model='gpt-4o-2024-08-06', object='chat.completion', service_tier='default', system_fingerprint='fp_703d4ff298', usage=CompletionUsage(completion_tokens=116, prompt_tokens=297, total_tokens=413, completion_tokens_details=CompletionTokensDetails(accepted_prediction_tokens=0, audio_tokens=0, reasoning_tokens=0, rejected_prediction_tokens=0), prompt_tokens_details=PromptTokensDetails(audio_tokens=0, cached_tokens=0)))\u001b[0m\n",
      "2025-01-11 21:30:58,219 - tnh.openai_text_processing - \u001b[36mINFO\u001b[0m - Processing completed.\u001b[0m\n",
      "2025-01-11 21:30:58,220 - tnh.openai_text_processing - \u001b[36mINFO\u001b[0m - Open AI Text Processing with model 'gpt-4o' started...\u001b[0m\n",
      "2025-01-11 21:30:58,220 - tnh.tnh_scholar.openai_interface.openai_interface - \u001b[1;32mDEBUG\u001b[0m - User message content:\n",
      "Và khi mà chúng ta có chánh niệm, thì đồng thời cái định nó phát sinh. Cái định nó có thể phát sinh rất mỏng ở trong chánh niệm. Cũng như là mặt trăng, mặt trăng non, nó là mặt trăng nhưng mà mặt trăng đang non. Thì cái chánh niệm của chúng ta cũng vậy đó. Lúc đang đầu chúng ta thực tập chánh niệm, trong khi đi đến nhà ngồi, thì cái định nó phát sinh liền lập tức trong lòng của chánh niệm. Nhưng mà cái đỉnh đó nó có thể đang còn non. ...\u001b[0m\n",
      "2025-01-11 21:30:58,221 - tnh.tnh_scholar.openai_interface.openai_interface - \u001b[1;32mDEBUG\u001b[0m - Starting chat completion with response_format=None and max_tokens=631...\u001b[0m\n"
     ]
    },
    {
     "name": "stdout",
     "output_type": "stream",
     "text": [
      "When we talk about mindfulness, we must first say that mindfulness always involves an object. Mindfulness is always mindfulness of something. For example, when we practice mindfulness of breathing, breathing in, we know we are breathing in; breathing out, we know we are breathing out. In this case, the object of mindfulness is the breath. When we drink water mindfully, drinking water is the object of mindfulness. When we walk mindfully, our steps are the object of mindfulness. Do not think that mindfulness is a state without an object; such a state does not exist.\n"
     ]
    },
    {
     "name": "stderr",
     "output_type": "stream",
     "text": [
      "2025-01-11 21:30:59,390 - tnh.openai_text_processing - \u001b[1;32mDEBUG\u001b[0m - Full completion:\n",
      "ChatCompletion(id='chatcmpl-AokqoewcYxIHH1T3HzplFFzM6HLK4', choices=[Choice(finish_reason='stop', index=0, logprobs=None, message=ChatCompletionMessage(content='And when we have mindfulness, concentration arises simultaneously. Concentration can emerge very subtly within mindfulness. Just like the moon—a new moon—it is still the moon, but a young moon. Our mindfulness is similar. At the beginning, when we practice mindfulness, whether we are walking or sitting at home, concentration arises immediately within the heart of mindfulness. However, that concentration may still be in its early stages.', refusal=None, role='assistant', audio=None, function_call=None, tool_calls=None))], created=1736659858, model='gpt-4o-2024-08-06', object='chat.completion', service_tier='default', system_fingerprint='fp_b7d65f1a5b', usage=CompletionUsage(completion_tokens=82, prompt_tokens=252, total_tokens=334, completion_tokens_details=CompletionTokensDetails(accepted_prediction_tokens=0, audio_tokens=0, reasoning_tokens=0, rejected_prediction_tokens=0), prompt_tokens_details=PromptTokensDetails(audio_tokens=0, cached_tokens=0)))\u001b[0m\n",
      "2025-01-11 21:30:59,390 - tnh.openai_text_processing - \u001b[36mINFO\u001b[0m - Processing completed.\u001b[0m\n",
      "2025-01-11 21:30:59,391 - tnh.openai_text_processing - \u001b[36mINFO\u001b[0m - Open AI Text Processing with model 'gpt-4o' started...\u001b[0m\n",
      "2025-01-11 21:30:59,392 - tnh.tnh_scholar.openai_interface.openai_interface - \u001b[1;32mDEBUG\u001b[0m - User message content:\n",
      "Và khi mà cái đỉnh nó đang còn non á, thì cái sức mạnh nó không có lớn. Sức mạnh cơ nó không có lớn. Cho nên cái thấy của mình nó không có rõ. ...\u001b[0m\n",
      "2025-01-11 21:30:59,393 - tnh.tnh_scholar.openai_interface.openai_interface - \u001b[1;32mDEBUG\u001b[0m - Starting chat completion with response_format=None and max_tokens=542...\u001b[0m\n"
     ]
    },
    {
     "name": "stdout",
     "output_type": "stream",
     "text": [
      "And when we have mindfulness, concentration arises simultaneously. Concentration can emerge very subtly within mindfulness. Just like the moon—a new moon—it is still the moon, but a young moon. Our mindfulness is similar. At the beginning, when we practice mindfulness, whether we are walking or sitting at home, concentration arises immediately within the heart of mindfulness. However, that concentration may still be in its early stages.\n"
     ]
    },
    {
     "name": "stderr",
     "output_type": "stream",
     "text": [
      "2025-01-11 21:31:00,251 - tnh.openai_text_processing - \u001b[1;32mDEBUG\u001b[0m - Full completion:\n",
      "ChatCompletion(id='chatcmpl-AokqpBOhVsLjaaqt0bB2p9DdcEOQv', choices=[Choice(finish_reason='stop', index=0, logprobs=None, message=ChatCompletionMessage(content='And when the peak is still young, its strength is not great. Its muscular strength is not strong. Therefore, our perception is not clear.', refusal=None, role='assistant', audio=None, function_call=None, tool_calls=None))], created=1736659859, model='gpt-4o-2024-08-06', object='chat.completion', service_tier='default', system_fingerprint='fp_703d4ff298', usage=CompletionUsage(completion_tokens=30, prompt_tokens=163, total_tokens=193, completion_tokens_details=CompletionTokensDetails(accepted_prediction_tokens=0, audio_tokens=0, reasoning_tokens=0, rejected_prediction_tokens=0), prompt_tokens_details=PromptTokensDetails(audio_tokens=0, cached_tokens=0)))\u001b[0m\n",
      "2025-01-11 21:31:00,252 - tnh.openai_text_processing - \u001b[36mINFO\u001b[0m - Processing completed.\u001b[0m\n",
      "2025-01-11 21:31:00,253 - tnh.openai_text_processing - \u001b[36mINFO\u001b[0m - Open AI Text Processing with model 'gpt-4o' started...\u001b[0m\n",
      "2025-01-11 21:31:00,254 - tnh.tnh_scholar.openai_interface.openai_interface - \u001b[1;32mDEBUG\u001b[0m - User message content:\n",
      "Ví dụ như chúng ta ăn cơm trong chánh niệm, thì cái đối tượng của chánh niệm nấu bữa cơm á, là thức ăn và tăng thân. Như là sự thực tập của chúng ta. Thì chúng ta cũng ngồi cũng ăn im lặng như mọi người khác. Nhưng mà nếu mà so sánh, cái chánh niệm của chúng ta với chánh niệm của một người sứ anh, một người sứ chị, thì có thể là cái chánh niệm của chúng ta nó đạt nhiều hơn. Và khi mà chánh niệm của chúng ta đạt nhiều hơn, thì cái mình trong cái chánh niệm đó nó phát sinh, nó cũng đạt nhiều hơn. Và cố nhấn là cái tệ phát sinh trong cái định đó nó cũng sẽ đạt nhiều hơn. ...\u001b[0m\n",
      "2025-01-11 21:31:00,254 - tnh.tnh_scholar.openai_interface.openai_interface - \u001b[1;32mDEBUG\u001b[0m - Starting chat completion with response_format=None and max_tokens=671...\u001b[0m\n"
     ]
    },
    {
     "name": "stdout",
     "output_type": "stream",
     "text": [
      "And when the peak is still young, its strength is not great. Its muscular strength is not strong. Therefore, our perception is not clear.\n"
     ]
    },
    {
     "name": "stderr",
     "output_type": "stream",
     "text": [
      "2025-01-11 21:31:01,901 - tnh.openai_text_processing - \u001b[1;32mDEBUG\u001b[0m - Full completion:\n",
      "ChatCompletion(id='chatcmpl-AokqqIRE8ri1Bz2NRwLPWUVpWmEfe', choices=[Choice(finish_reason='stop', index=0, logprobs=None, message=ChatCompletionMessage(content='For example, when we eat mindfully, the object of mindfulness during the meal is the food and the community. It is our practice. We sit and eat in silence like everyone else. However, if we compare our mindfulness to that of a senior brother or sister, our mindfulness might be more profound. And when our mindfulness is deeper, what arises within that mindfulness also becomes more profound. Importantly, insight arising from that concentration will be more deeply attained.', refusal=None, role='assistant', audio=None, function_call=None, tool_calls=None))], created=1736659860, model='gpt-4o-2024-08-06', object='chat.completion', service_tier='default', system_fingerprint='fp_b7d65f1a5b', usage=CompletionUsage(completion_tokens=93, prompt_tokens=292, total_tokens=385, completion_tokens_details=CompletionTokensDetails(accepted_prediction_tokens=0, audio_tokens=0, reasoning_tokens=0, rejected_prediction_tokens=0), prompt_tokens_details=PromptTokensDetails(audio_tokens=0, cached_tokens=0)))\u001b[0m\n",
      "2025-01-11 21:31:01,902 - tnh.openai_text_processing - \u001b[36mINFO\u001b[0m - Processing completed.\u001b[0m\n",
      "2025-01-11 21:31:01,904 - tnh.openai_text_processing - \u001b[36mINFO\u001b[0m - Open AI Text Processing with model 'gpt-4o' started...\u001b[0m\n",
      "2025-01-11 21:31:01,904 - tnh.tnh_scholar.openai_interface.openai_interface - \u001b[1;32mDEBUG\u001b[0m - User message content:\n",
      "Ví dụ đây là cái niệm của chúng ta, mà cái niệm của chúng ta không có được mạnh. Thành ra cái định của chúng ta nó có được từ này. Và nếu cái định của chúng ta có được từ này, thì cái tệ của chúng ta nó chỉ có được từ này. ...\u001b[0m\n",
      "2025-01-11 21:31:01,905 - tnh.tnh_scholar.openai_interface.openai_interface - \u001b[1;32mDEBUG\u001b[0m - Starting chat completion with response_format=None and max_tokens=562...\u001b[0m\n"
     ]
    },
    {
     "name": "stdout",
     "output_type": "stream",
     "text": [
      "For example, when we eat mindfully, the object of mindfulness during the meal is the food and the community. It is our practice. We sit and eat in silence like everyone else. However, if we compare our mindfulness to that of a senior brother or sister, our mindfulness might be more profound. And when our mindfulness is deeper, what arises within that mindfulness also becomes more profound. Importantly, insight arising from that concentration will be more deeply attained.\n"
     ]
    },
    {
     "name": "stderr",
     "output_type": "stream",
     "text": [
      "2025-01-11 21:31:02,712 - tnh.openai_text_processing - \u001b[1;32mDEBUG\u001b[0m - Full completion:\n",
      "ChatCompletion(id='chatcmpl-AokqsGmsS89qMlAbH7R5GzkTiKdNM', choices=[Choice(finish_reason='stop', index=0, logprobs=None, message=ChatCompletionMessage(content='For example, this is our mindfulness, and our mindfulness is not strong. Therefore, our concentration comes from this. And if our concentration comes from this, then our insight only comes from this.', refusal=None, role='assistant', audio=None, function_call=None, tool_calls=None))], created=1736659862, model='gpt-4o-2024-08-06', object='chat.completion', service_tier='default', system_fingerprint='fp_b7d65f1a5b', usage=CompletionUsage(completion_tokens=40, prompt_tokens=183, total_tokens=223, completion_tokens_details=CompletionTokensDetails(accepted_prediction_tokens=0, audio_tokens=0, reasoning_tokens=0, rejected_prediction_tokens=0), prompt_tokens_details=PromptTokensDetails(audio_tokens=0, cached_tokens=0)))\u001b[0m\n",
      "2025-01-11 21:31:02,713 - tnh.openai_text_processing - \u001b[36mINFO\u001b[0m - Processing completed.\u001b[0m\n",
      "2025-01-11 21:31:02,714 - tnh.openai_text_processing - \u001b[36mINFO\u001b[0m - Open AI Text Processing with model 'gpt-4o' started...\u001b[0m\n",
      "2025-01-11 21:31:02,715 - tnh.tnh_scholar.openai_interface.openai_interface - \u001b[1;32mDEBUG\u001b[0m - User message content:\n",
      "Nó có nghĩa là trong chánh niệm nó luôn luôn có chánh định và có tệ. Chỉ có một điều cần nhớ, là nếu chánh niệm hồng hậu, thì cái định lực nó sẽ hồng hậu hơn. Và nếu định lực hồng hậu hơn, thì cái thấy của chúng ta nó rõ ràng hơn, nó sâu sắc hơn. Vì vậy cho nên ăn cơm là phải ăn cho thật có chánh niệm. Khi mình đi thiền hành cũng phải đi thiền hành cho thật có chánh niệm. Và tùy theo cái cơn độ, cơn lực của chánh niệm, mà cái định chúng ta lớn hay nhỏ. Và do đó cái tệ của chúng ta sâu hay là cạn. ...\u001b[0m\n",
      "2025-01-11 21:31:02,715 - tnh.tnh_scholar.openai_interface.openai_interface - \u001b[1;32mDEBUG\u001b[0m - Starting chat completion with response_format=None and max_tokens=657...\u001b[0m\n"
     ]
    },
    {
     "name": "stdout",
     "output_type": "stream",
     "text": [
      "For example, this is our mindfulness, and our mindfulness is not strong. Therefore, our concentration comes from this. And if our concentration comes from this, then our insight only comes from this.\n"
     ]
    },
    {
     "name": "stderr",
     "output_type": "stream",
     "text": [
      "2025-01-11 21:31:04,351 - tnh.openai_text_processing - \u001b[1;32mDEBUG\u001b[0m - Full completion:\n",
      "ChatCompletion(id='chatcmpl-Aokqs4FHVWxhrqJk6QF6ZXdKVr12I', choices=[Choice(finish_reason='stop', index=0, logprobs=None, message=ChatCompletionMessage(content='It means that in mindfulness, there is always concentration and insight. There is only one thing to remember: if mindfulness is strong, then concentration will be stronger. And if concentration is stronger, then our insight will be clearer and deeper. Therefore, when eating, we must eat with true mindfulness. When walking in meditation, we must walk with true mindfulness as well. Depending on the strength and intensity of our mindfulness, our concentration can be greater or lesser, and consequently, our insight can be deeper or shallower.', refusal=None, role='assistant', audio=None, function_call=None, tool_calls=None))], created=1736659862, model='gpt-4o-2024-08-06', object='chat.completion', service_tier='default', system_fingerprint='fp_703d4ff298', usage=CompletionUsage(completion_tokens=104, prompt_tokens=278, total_tokens=382, completion_tokens_details=CompletionTokensDetails(accepted_prediction_tokens=0, audio_tokens=0, reasoning_tokens=0, rejected_prediction_tokens=0), prompt_tokens_details=PromptTokensDetails(audio_tokens=0, cached_tokens=0)))\u001b[0m\n",
      "2025-01-11 21:31:04,352 - tnh.openai_text_processing - \u001b[36mINFO\u001b[0m - Processing completed.\u001b[0m\n",
      "2025-01-11 21:31:04,353 - tnh.openai_text_processing - \u001b[36mINFO\u001b[0m - Open AI Text Processing with model 'gpt-4o' started...\u001b[0m\n",
      "2025-01-11 21:31:04,353 - tnh.tnh_scholar.openai_interface.openai_interface - \u001b[1;32mDEBUG\u001b[0m - User message content:\n",
      "Thì chúng ta cần phải thấy ở đây là chánh niệm, nó mang trong lòng nó hạt giống của mình và của tệ. Vì vậy cho nên chúng ta không có thể nói là niệm là khác, tệ là khác. Là tại vì như một bà mẹ đang có 3 em bé. Tí đó là bà mẹ, nhưng em bé nó đã có sẵn cho bà mẹ rồi. Nếu không có bà mẹ, nếu không có em bé, thì cái người đó không thể được gọi là bà mẹ. Từ khi mà nó biết thật là chánh niệm rồi, thì thế nào trong đó nó cũng có một ý định. Và cái định đó tùy theo nó lớn hay nó nhỏ. Mà nó công hiến cho mình cái tệ nhỏ hay tệ lớn. ...\u001b[0m\n",
      "2025-01-11 21:31:04,354 - tnh.tnh_scholar.openai_interface.openai_interface - \u001b[1;32mDEBUG\u001b[0m - Starting chat completion with response_format=None and max_tokens=665...\u001b[0m\n"
     ]
    },
    {
     "name": "stdout",
     "output_type": "stream",
     "text": [
      "It means that in mindfulness, there is always concentration and insight. There is only one thing to remember: if mindfulness is strong, then concentration will be stronger. And if concentration is stronger, then our insight will be clearer and deeper. Therefore, when eating, we must eat with true mindfulness. When walking in meditation, we must walk with true mindfulness as well. Depending on the strength and intensity of our mindfulness, our concentration can be greater or lesser, and consequently, our insight can be deeper or shallower.\n"
     ]
    },
    {
     "name": "stderr",
     "output_type": "stream",
     "text": [
      "2025-01-11 21:31:05,725 - tnh.openai_text_processing - \u001b[1;32mDEBUG\u001b[0m - Full completion:\n",
      "ChatCompletion(id='chatcmpl-AokquvJcmgmSHUnoJYm38PheGR5rf', choices=[Choice(finish_reason='stop', index=0, logprobs=None, message=ChatCompletionMessage(content=\"What we need to see here is that mindfulness holds within it the seeds of concentration and insight. Therefore, we cannot say that mindfulness is separate from concentration and insight. It's like a mother who has three children. She is a mother, but the children already exist within her. Without the mother, and without the children, she cannot be called a mother. Once there is true mindfulness, there is also an intention within it. And the concentration varies depending on how much it has been cultivated, whether small or large, contributing to greater or lesser insight.\", refusal=None, role='assistant', audio=None, function_call=None, tool_calls=None))], created=1736659864, model='gpt-4o-2024-08-06', object='chat.completion', service_tier='default', system_fingerprint='fp_703d4ff298', usage=CompletionUsage(completion_tokens=111, prompt_tokens=286, total_tokens=397, completion_tokens_details=CompletionTokensDetails(accepted_prediction_tokens=0, audio_tokens=0, reasoning_tokens=0, rejected_prediction_tokens=0), prompt_tokens_details=PromptTokensDetails(audio_tokens=0, cached_tokens=0)))\u001b[0m\n",
      "2025-01-11 21:31:05,725 - tnh.openai_text_processing - \u001b[36mINFO\u001b[0m - Processing completed.\u001b[0m\n",
      "2025-01-11 21:31:05,727 - tnh.openai_text_processing - \u001b[36mINFO\u001b[0m - Open AI Text Processing with model 'gpt-4o' started...\u001b[0m\n",
      "2025-01-11 21:31:05,727 - tnh.tnh_scholar.openai_interface.openai_interface - \u001b[1;32mDEBUG\u001b[0m - User message content:\n",
      "Bây giờ chúng ta vẽ trở lại, vẽ khác hơn. Tại có nhiều cách vẽ. Cái này là kinh nghiệm của chúng ta. Vì chúng ta có niệm, cho nên chúng ta có định. Chúng ta ngắn lạnh xuống kinh nghiệm, thì tự nhiên cái định nó phát sinh. Và khi mà chúng ta ngắn lạnh xuống cái định, thì cái tệ phát sinh. Cái này là niệm, cái này là định, cái này là tệ. Và chúng ta không có thể nào tưởng tượng được là chúng ta có thể có định mà không thực thực niệm. Điều đó rất rõ. ...\u001b[0m\n",
      "2025-01-11 21:31:05,728 - tnh.tnh_scholar.openai_interface.openai_interface - \u001b[1;32mDEBUG\u001b[0m - Starting chat completion with response_format=None and max_tokens=632...\u001b[0m\n"
     ]
    },
    {
     "name": "stdout",
     "output_type": "stream",
     "text": [
      "What we need to see here is that mindfulness holds within it the seeds of concentration and insight. Therefore, we cannot say that mindfulness is separate from concentration and insight. It's like a mother who has three children. She is a mother, but the children already exist within her. Without the mother, and without the children, she cannot be called a mother. Once there is true mindfulness, there is also an intention within it. And the concentration varies depending on how much it has been cultivated, whether small or large, contributing to greater or lesser insight.\n"
     ]
    },
    {
     "name": "stderr",
     "output_type": "stream",
     "text": [
      "2025-01-11 21:31:06,804 - tnh.openai_text_processing - \u001b[1;32mDEBUG\u001b[0m - Full completion:\n",
      "ChatCompletion(id='chatcmpl-Aokqv17WlNQOnpKMTpA8gYZ12cxMt', choices=[Choice(finish_reason='stop', index=0, logprobs=None, message=ChatCompletionMessage(content='Now we draw again, differently this time. There are many ways to draw. This is our experience. Because we have mindfulness, we have concentration. When we immerse ourselves in experience, naturally concentration arises. And when we immerse ourselves in concentration, wisdom arises. This is mindfulness, this is concentration, this is wisdom. And we cannot imagine having concentration without true mindfulness. This is very clear.', refusal=None, role='assistant', audio=None, function_call=None, tool_calls=None))], created=1736659865, model='gpt-4o-2024-08-06', object='chat.completion', service_tier='default', system_fingerprint='fp_703d4ff298', usage=CompletionUsage(completion_tokens=80, prompt_tokens=253, total_tokens=333, completion_tokens_details=CompletionTokensDetails(accepted_prediction_tokens=0, audio_tokens=0, reasoning_tokens=0, rejected_prediction_tokens=0), prompt_tokens_details=PromptTokensDetails(audio_tokens=0, cached_tokens=0)))\u001b[0m\n",
      "2025-01-11 21:31:06,805 - tnh.openai_text_processing - \u001b[36mINFO\u001b[0m - Processing completed.\u001b[0m\n",
      "2025-01-11 21:31:06,806 - tnh.openai_text_processing - \u001b[36mINFO\u001b[0m - Open AI Text Processing with model 'gpt-4o' started...\u001b[0m\n",
      "2025-01-11 21:31:06,806 - tnh.tnh_scholar.openai_interface.openai_interface - \u001b[1;32mDEBUG\u001b[0m - User message content:\n",
      "Chúng ta không có thể tưởng tượng rằng chúng ta sẽ có tệ mà không có định và không có niệm. Mà chúng ta biết rằng kinh nghiệm là cái mà chúng ta có trong tâm của chúng ta. Nhưng mà nó có thể đó là những cái hạt giống đang còn rất là yếu ớt. Tại vì chúng ta, kể cả những đứa bé, ai cũng có khả năng có thể uống nước, mà biết rằng mình không uống nước. Ai cũng có khả năng biết rằng mình đang... ngồi với bạn và mình biết rằng mình đang ngồi với bạn. Ai cũng có khả năng biết rằng chúng ta đang ngồi trong thiền đường sống thường. Ngồi trong thiền đường sống thường và biết rằng mình đang ngồi trong thiền đường sống thường là có trách nhiệm. ...\u001b[0m\n",
      "2025-01-11 21:31:06,807 - tnh.tnh_scholar.openai_interface.openai_interface - \u001b[1;32mDEBUG\u001b[0m - Starting chat completion with response_format=None and max_tokens=667...\u001b[0m\n"
     ]
    },
    {
     "name": "stdout",
     "output_type": "stream",
     "text": [
      "Now we draw again, differently this time. There are many ways to draw. This is our experience. Because we have mindfulness, we have concentration. When we immerse ourselves in experience, naturally concentration arises. And when we immerse ourselves in concentration, wisdom arises. This is mindfulness, this is concentration, this is wisdom. And we cannot imagine having concentration without true mindfulness. This is very clear.\n"
     ]
    },
    {
     "name": "stderr",
     "output_type": "stream",
     "text": [
      "2025-01-11 21:31:08,397 - tnh.openai_text_processing - \u001b[1;32mDEBUG\u001b[0m - Full completion:\n",
      "ChatCompletion(id='chatcmpl-AokqwYTwlzvV5Udp57MsPe1KoIXs5', choices=[Choice(finish_reason='stop', index=0, logprobs=None, message=ChatCompletionMessage(content='We cannot imagine having mindfulness without concentration and awareness. We know that experience is what we have in our mind. However, it might be that these seeds are still very fragile. Because all of us, including children, have the ability to drink water and be aware that we are drinking water. Everyone has the ability to know that they are sitting with a friend and to know that they are sitting with a friend. Everyone has the ability to know that we are sitting in the meditation hall in everyday life. Sitting in the meditation hall in everyday life and knowing that we are sitting in the meditation hall in everyday life is having responsibility.', refusal=None, role='assistant', audio=None, function_call=None, tool_calls=None))], created=1736659866, model='gpt-4o-2024-08-06', object='chat.completion', service_tier='default', system_fingerprint='fp_703d4ff298', usage=CompletionUsage(completion_tokens=126, prompt_tokens=288, total_tokens=414, completion_tokens_details=CompletionTokensDetails(accepted_prediction_tokens=0, audio_tokens=0, reasoning_tokens=0, rejected_prediction_tokens=0), prompt_tokens_details=PromptTokensDetails(audio_tokens=0, cached_tokens=0)))\u001b[0m\n",
      "2025-01-11 21:31:08,399 - tnh.openai_text_processing - \u001b[36mINFO\u001b[0m - Processing completed.\u001b[0m\n",
      "2025-01-11 21:31:08,400 - tnh.openai_text_processing - \u001b[36mINFO\u001b[0m - Open AI Text Processing with model 'gpt-4o' started...\u001b[0m\n",
      "2025-01-11 21:31:08,400 - tnh.tnh_scholar.openai_interface.openai_interface - \u001b[1;32mDEBUG\u001b[0m - User message content:\n",
      "Thành ra không thể nói rằng tôi không có tu được, tôi không có khả năng tu tại vì tôi không có trách nhiệm. Tại vì người nào cũng có hạt giống trách nhiệm trong con người của mình. Cái vấn đề là mình có tu tập hay không? Mình có làm cho cái hạt giống trách nhiệm đó được động tới tầm mỗi ngày hay không? Cái khác nhau là chỗ đó. ...\u001b[0m\n",
      "2025-01-11 21:31:08,401 - tnh.tnh_scholar.openai_interface.openai_interface - \u001b[1;32mDEBUG\u001b[0m - Starting chat completion with response_format=None and max_tokens=588...\u001b[0m\n"
     ]
    },
    {
     "name": "stdout",
     "output_type": "stream",
     "text": [
      "We cannot imagine having mindfulness without concentration and awareness. We know that experience is what we have in our mind. However, it might be that these seeds are still very fragile. Because all of us, including children, have the ability to drink water and be aware that we are drinking water. Everyone has the ability to know that they are sitting with a friend and to know that they are sitting with a friend. Everyone has the ability to know that we are sitting in the meditation hall in everyday life. Sitting in the meditation hall in everyday life and knowing that we are sitting in the meditation hall in everyday life is having responsibility.\n"
     ]
    },
    {
     "name": "stderr",
     "output_type": "stream",
     "text": [
      "2025-01-11 21:31:09,476 - tnh.openai_text_processing - \u001b[1;32mDEBUG\u001b[0m - Full completion:\n",
      "ChatCompletion(id='chatcmpl-AokqygQoX0G2J68WsImRjsiyxcRA6', choices=[Choice(finish_reason='stop', index=0, logprobs=None, message=ChatCompletionMessage(content='Therefore, it cannot be said that I cannot practice, that I am not capable of practicing because I lack responsibility. Because everyone has the seed of responsibility within themselves. The issue is whether we practice or not. Do we nurture and touch that seed of responsibility every day or not? That is where the difference lies.', refusal=None, role='assistant', audio=None, function_call=None, tool_calls=None))], created=1736659868, model='gpt-4o-2024-08-06', object='chat.completion', service_tier='default', system_fingerprint='fp_703d4ff298', usage=CompletionUsage(completion_tokens=63, prompt_tokens=209, total_tokens=272, completion_tokens_details=CompletionTokensDetails(accepted_prediction_tokens=0, audio_tokens=0, reasoning_tokens=0, rejected_prediction_tokens=0), prompt_tokens_details=PromptTokensDetails(audio_tokens=0, cached_tokens=0)))\u001b[0m\n",
      "2025-01-11 21:31:09,476 - tnh.openai_text_processing - \u001b[36mINFO\u001b[0m - Processing completed.\u001b[0m\n",
      "2025-01-11 21:31:09,477 - tnh.openai_text_processing - \u001b[36mINFO\u001b[0m - Open AI Text Processing with model 'gpt-4o' started...\u001b[0m\n",
      "2025-01-11 21:31:09,478 - tnh.tnh_scholar.openai_interface.openai_interface - \u001b[1;32mDEBUG\u001b[0m - User message content:\n",
      "Tới đây thì mình thấy phát hiện rằng có nhân tư. Một nhân tư nó rất hay mà mình thích nhìn, đó là nhân tư bà Văn Na. Bà Văn Na tiếng Phạn nó có nghĩa là tu tập. Chúng ta có cái vấn đề. Cái vấn đề là chúng ta có tu tập được không? Tại vì những cái nguy hiểm của sự thành công nó có. Tu tập hay là tu được? ...\u001b[0m\n",
      "2025-01-11 21:31:09,478 - tnh.tnh_scholar.openai_interface.openai_interface - \u001b[1;32mDEBUG\u001b[0m - Starting chat completion with response_format=None and max_tokens=588...\u001b[0m\n"
     ]
    },
    {
     "name": "stdout",
     "output_type": "stream",
     "text": [
      "Therefore, it cannot be said that I cannot practice, that I am not capable of practicing because I lack responsibility. Because everyone has the seed of responsibility within themselves. The issue is whether we practice or not. Do we nurture and touch that seed of responsibility every day or not? That is where the difference lies.\n"
     ]
    },
    {
     "name": "stderr",
     "output_type": "stream",
     "text": [
      "2025-01-11 21:31:10,380 - tnh.openai_text_processing - \u001b[1;32mDEBUG\u001b[0m - Full completion:\n",
      "ChatCompletion(id='chatcmpl-AokqzDbxlkvXEIzMd437ktexOYBNN', choices=[Choice(finish_reason='stop', index=0, logprobs=None, message=ChatCompletionMessage(content='Here, I have come to realize that there is a sense of mindfulness. A very interesting sense of mindfulness that I like to observe is the mindfulness of Bhavana. Bhavana in Sanskrit means cultivation. We have a question. The question is whether we can practice. Because there are dangers associated with success. Can we practice or not?', refusal=None, role='assistant', audio=None, function_call=None, tool_calls=None))], created=1736659869, model='gpt-4o-2024-08-06', object='chat.completion', service_tier='default', system_fingerprint='fp_703d4ff298', usage=CompletionUsage(completion_tokens=68, prompt_tokens=209, total_tokens=277, completion_tokens_details=CompletionTokensDetails(accepted_prediction_tokens=0, audio_tokens=0, reasoning_tokens=0, rejected_prediction_tokens=0), prompt_tokens_details=PromptTokensDetails(audio_tokens=0, cached_tokens=0)))\u001b[0m\n",
      "2025-01-11 21:31:10,381 - tnh.openai_text_processing - \u001b[36mINFO\u001b[0m - Processing completed.\u001b[0m\n",
      "2025-01-11 21:31:10,382 - tnh.openai_text_processing - \u001b[36mINFO\u001b[0m - Open AI Text Processing with model 'gpt-4o' started...\u001b[0m\n",
      "2025-01-11 21:31:10,382 - tnh.tnh_scholar.openai_interface.openai_interface - \u001b[1;32mDEBUG\u001b[0m - User message content:\n",
      "Chuyện ba ba nó có nghĩa là có, có ra. Nó có ra, làm thế nào để cho nó có mặt? Ví dụ như là một cái đồng hoa hướng dương nở hoa vàng rực mà mình thấy ở Làng Hồng vào tháng 7, tháng 8. Mình biết rằng bây giờ mình không có thấy cái đồng hoa hướng dương nở hoa vàng rực đó, nhưng mình biết rằng mình có thể làm cho cái đồng hoa hướng dương đó nó có mặt. Chuyện ba ba nó có nghĩa là do it to be, làm cho nó có mặt. ...\u001b[0m\n",
      "2025-01-11 21:31:10,383 - tnh.tnh_scholar.openai_interface.openai_interface - \u001b[1;32mDEBUG\u001b[0m - Starting chat completion with response_format=None and max_tokens=624...\u001b[0m\n"
     ]
    },
    {
     "name": "stdout",
     "output_type": "stream",
     "text": [
      "Here, I have come to realize that there is a sense of mindfulness. A very interesting sense of mindfulness that I like to observe is the mindfulness of Bhavana. Bhavana in Sanskrit means cultivation. We have a question. The question is whether we can practice. Because there are dangers associated with success. Can we practice or not?\n"
     ]
    },
    {
     "name": "stderr",
     "output_type": "stream",
     "text": [
      "2025-01-11 21:31:11,929 - tnh.openai_text_processing - \u001b[1;32mDEBUG\u001b[0m - Full completion:\n",
      "ChatCompletion(id='chatcmpl-Aokr0OSsdCuX3zHlHXoI8b8O63Yt0', choices=[Choice(finish_reason='stop', index=0, logprobs=None, message=ChatCompletionMessage(content='The concept of \"ba ba\" means something has being, it comes into existence. What does it mean for it to come into being, for it to manifest? For example, like the vibrant yellow sunflowers blooming in the fields you can see in Plum Village during July and August. You know that right now, you cannot see those vibrant yellow sunflower fields, but you know you can bring those sunflower fields into being. The concept of \"ba ba\" means do it to exist, to make it manifest.', refusal=None, role='assistant', audio=None, function_call=None, tool_calls=None))], created=1736659870, model='gpt-4o-2024-08-06', object='chat.completion', service_tier='default', system_fingerprint='fp_703d4ff298', usage=CompletionUsage(completion_tokens=103, prompt_tokens=245, total_tokens=348, completion_tokens_details=CompletionTokensDetails(accepted_prediction_tokens=0, audio_tokens=0, reasoning_tokens=0, rejected_prediction_tokens=0), prompt_tokens_details=PromptTokensDetails(audio_tokens=0, cached_tokens=0)))\u001b[0m\n",
      "2025-01-11 21:31:11,930 - tnh.openai_text_processing - \u001b[36mINFO\u001b[0m - Processing completed.\u001b[0m\n",
      "2025-01-11 21:31:11,931 - tnh.openai_text_processing - \u001b[36mINFO\u001b[0m - Open AI Text Processing with model 'gpt-4o' started...\u001b[0m\n",
      "2025-01-11 21:31:11,932 - tnh.tnh_scholar.openai_interface.openai_interface - \u001b[1;32mDEBUG\u001b[0m - User message content:\n",
      "Thành ra tu tập có nghĩa là làm cho nó có mặt. Vì vậy cho nên người ta ưu dịch nó là mental culture. Gọi là tu tập, tu tập cái tâm của mình. Ở Việt Nam mình hay gọi là tu tâm. Tu tâm có nghĩa là làm cho những cái hoa trái của giác mộ, của tự bi, nó có mặt trong cái đời sống của mình, gọi là tu tập. Với lại cái ví dụ của đồng hoa hướng dương, thì mình biết rằng đất nó có đó, hạt giống hướng dương nó có đó, cây nó có đó. Nếu mình biết sử dụng hạt, hạt giống, mình biết sử dụng cây đưa ở phương bón, phân bón và ở đồng ruộng, thì mình có thể làm cho cái đồng hoa hướng dương vàng rực nó trở thành có mặt. ...\u001b[0m\n",
      "2025-01-11 21:31:11,932 - tnh.tnh_scholar.openai_interface.openai_interface - \u001b[1;32mDEBUG\u001b[0m - Starting chat completion with response_format=None and max_tokens=675...\u001b[0m\n"
     ]
    },
    {
     "name": "stdout",
     "output_type": "stream",
     "text": [
      "The concept of \"ba ba\" means something has being, it comes into existence. What does it mean for it to come into being, for it to manifest? For example, like the vibrant yellow sunflowers blooming in the fields you can see in Plum Village during July and August. You know that right now, you cannot see those vibrant yellow sunflower fields, but you know you can bring those sunflower fields into being. The concept of \"ba ba\" means do it to exist, to make it manifest.\n"
     ]
    },
    {
     "name": "stderr",
     "output_type": "stream",
     "text": [
      "2025-01-11 21:31:13,566 - tnh.openai_text_processing - \u001b[1;32mDEBUG\u001b[0m - Full completion:\n",
      "ChatCompletion(id='chatcmpl-Aokr2u5f3uY3DGxbjabokg78bCxDg', choices=[Choice(finish_reason='stop', index=0, logprobs=None, message=ChatCompletionMessage(content=\"Practicing means making it present. Therefore, it is often translated as mental culture. It is called practice, cultivating one's own mind. In Vietnam, we commonly refer to it as cultivating the mind. Cultivating the mind means bringing the fruits of enlightenment and compassion into our lives, which is called practice. With the example of a sunflower field, we know that the earth is there, the sunflower seed is there, the plant is there. If we know how to use the seed, the plant, and apply fertilizers in the fields, then we can make the field of bright yellow sunflowers come into being.\", refusal=None, role='assistant', audio=None, function_call=None, tool_calls=None))], created=1736659872, model='gpt-4o-2024-08-06', object='chat.completion', service_tier='default', system_fingerprint='fp_703d4ff298', usage=CompletionUsage(completion_tokens=124, prompt_tokens=296, total_tokens=420, completion_tokens_details=CompletionTokensDetails(accepted_prediction_tokens=0, audio_tokens=0, reasoning_tokens=0, rejected_prediction_tokens=0), prompt_tokens_details=PromptTokensDetails(audio_tokens=0, cached_tokens=0)))\u001b[0m\n",
      "2025-01-11 21:31:13,567 - tnh.openai_text_processing - \u001b[36mINFO\u001b[0m - Processing completed.\u001b[0m\n",
      "2025-01-11 21:31:13,568 - tnh.openai_text_processing - \u001b[36mINFO\u001b[0m - Open AI Text Processing with model 'gpt-4o' started...\u001b[0m\n",
      "2025-01-11 21:31:13,569 - tnh.tnh_scholar.openai_interface.openai_interface - \u001b[1;32mDEBUG\u001b[0m - User message content:\n",
      "Sự tu tập cũng vậy. Chúng ta có hạt giống chánh niệm. Đất của chúng ta là tâm của chúng ta. Cơ hội của chúng ta là hơi thở là bước chân. Và vì vậy cho nên tu tập ở đây nhập diễn tả dưới hình thức của một sự cày cấy và gieo trồng tối tấm. Nếu chúng ta nhớ trọng để có tự nghi và hạnh phúc gọi là mental culture, agri-culture, mental culture, nó cũng vậy thôi. ...\u001b[0m\n",
      "2025-01-11 21:31:13,569 - tnh.tnh_scholar.openai_interface.openai_interface - \u001b[1;32mDEBUG\u001b[0m - Starting chat completion with response_format=None and max_tokens=608...\u001b[0m\n"
     ]
    },
    {
     "name": "stdout",
     "output_type": "stream",
     "text": [
      "Practicing means making it present. Therefore, it is often translated as mental culture. It is called practice, cultivating one's own mind. In Vietnam, we commonly refer to it as cultivating the mind. Cultivating the mind means bringing the fruits of enlightenment and compassion into our lives, which is called practice. With the example of a sunflower field, we know that the earth is there, the sunflower seed is there, the plant is there. If we know how to use the seed, the plant, and apply fertilizers in the fields, then we can make the field of bright yellow sunflowers come into being.\n"
     ]
    },
    {
     "name": "stderr",
     "output_type": "stream",
     "text": [
      "2025-01-11 21:31:14,593 - tnh.openai_text_processing - \u001b[1;32mDEBUG\u001b[0m - Full completion:\n",
      "ChatCompletion(id='chatcmpl-Aokr3nAXSmH7rOscUKouBXMpPZ142', choices=[Choice(finish_reason='stop', index=0, logprobs=None, message=ChatCompletionMessage(content='Practice is the same. We have the seed of mindfulness. Our soil is our mind. Our opportunities are our breath and our steps. Therefore, practice here is expressed in the form of cultivating and sowing. If we remember to have insight and happiness, it is called mental culture, which is similar to agriculture; mental culture is just the same.', refusal=None, role='assistant', audio=None, function_call=None, tool_calls=None))], created=1736659873, model='gpt-4o-2024-08-06', object='chat.completion', service_tier='default', system_fingerprint='fp_703d4ff298', usage=CompletionUsage(completion_tokens=71, prompt_tokens=229, total_tokens=300, completion_tokens_details=CompletionTokensDetails(accepted_prediction_tokens=0, audio_tokens=0, reasoning_tokens=0, rejected_prediction_tokens=0), prompt_tokens_details=PromptTokensDetails(audio_tokens=0, cached_tokens=0)))\u001b[0m\n",
      "2025-01-11 21:31:14,594 - tnh.openai_text_processing - \u001b[36mINFO\u001b[0m - Processing completed.\u001b[0m\n",
      "2025-01-11 21:31:14,595 - tnh.openai_text_processing - \u001b[36mINFO\u001b[0m - Open AI Text Processing with model 'gpt-4o' started...\u001b[0m\n",
      "2025-01-11 21:31:14,596 - tnh.tnh_scholar.openai_interface.openai_interface - \u001b[1;32mDEBUG\u001b[0m - User message content:\n",
      "Trong truyền thống thiền ở Đông Phương, các thầy thường hay nói, sự tu tập như là cày đừa, ruộng ruộng âm thanh phải tự cày. Tại vì nếu mình có ruộng vườn mà mình không có cày cấy, không có dâng dống, không có tu tập thì không thể nào có hoa, có trái. Do đó cho nên tu tập là vấn đề vườn vườn, vấn đề cày ruộng. Mà cái miếng đất vườn vườn của mình là chính cái tâm của mình và là có đủ hạt giống. ...\u001b[0m\n",
      "2025-01-11 21:31:14,596 - tnh.tnh_scholar.openai_interface.openai_interface - \u001b[1;32mDEBUG\u001b[0m - Starting chat completion with response_format=None and max_tokens=630...\u001b[0m\n"
     ]
    },
    {
     "name": "stdout",
     "output_type": "stream",
     "text": [
      "Practice is the same. We have the seed of mindfulness. Our soil is our mind. Our opportunities are our breath and our steps. Therefore, practice here is expressed in the form of cultivating and sowing. If we remember to have insight and happiness, it is called mental culture, which is similar to agriculture; mental culture is just the same.\n"
     ]
    },
    {
     "name": "stderr",
     "output_type": "stream",
     "text": [
      "2025-01-11 21:31:15,905 - tnh.openai_text_processing - \u001b[1;32mDEBUG\u001b[0m - Full completion:\n",
      "ChatCompletion(id='chatcmpl-Aokr4ryeQoEYRer1Tgp4KmGIxnyzR', choices=[Choice(finish_reason='stop', index=0, logprobs=None, message=ChatCompletionMessage(content='In the Eastern Zen tradition, teachers often say that practice is like plowing a field, and each person must plow their own field of sound. This means that if we have a garden or field but do not plow, plant, or cultivate it, we cannot expect flowers or fruit. Therefore, practice is about tending to our own field, about plowing our own land. The piece of land we cultivate is our own mind, which contains an abundance of seeds.', refusal=None, role='assistant', audio=None, function_call=None, tool_calls=None))], created=1736659874, model='gpt-4o-2024-08-06', object='chat.completion', service_tier='default', system_fingerprint='fp_703d4ff298', usage=CompletionUsage(completion_tokens=96, prompt_tokens=251, total_tokens=347, completion_tokens_details=CompletionTokensDetails(accepted_prediction_tokens=0, audio_tokens=0, reasoning_tokens=0, rejected_prediction_tokens=0), prompt_tokens_details=PromptTokensDetails(audio_tokens=0, cached_tokens=0)))\u001b[0m\n",
      "2025-01-11 21:31:15,913 - tnh.openai_text_processing - \u001b[36mINFO\u001b[0m - Processing completed.\u001b[0m\n",
      "2025-01-11 21:31:15,916 - tnh.openai_text_processing - \u001b[36mINFO\u001b[0m - Open AI Text Processing with model 'gpt-4o' started...\u001b[0m\n",
      "2025-01-11 21:31:15,917 - tnh.tnh_scholar.openai_interface.openai_interface - \u001b[1;32mDEBUG\u001b[0m - User message content:\n",
      "Chitta bhāvanā, chitta bhāvanā tất cụng là tu tâm. Cái đồng tượng bhāvatī có nghĩa là tập tập, gieo trồng, làm cho nó có mặt, làm cho nó có mặt, tránh nghiệm, mình làm cho nó có mặt. Và khi tránh nghiệm có mặt thì tránh bình nó có mặt và tuệ giác nó có mặt. Chitta bhāvanā mình dịch là tâm tu tập hoặc là tu tâm. ...\u001b[0m\n",
      "2025-01-11 21:31:15,918 - tnh.tnh_scholar.openai_interface.openai_interface - \u001b[1;32mDEBUG\u001b[0m - Starting chat completion with response_format=None and max_tokens=598...\u001b[0m\n"
     ]
    },
    {
     "name": "stdout",
     "output_type": "stream",
     "text": [
      "In the Eastern Zen tradition, teachers often say that practice is like plowing a field, and each person must plow their own field of sound. This means that if we have a garden or field but do not plow, plant, or cultivate it, we cannot expect flowers or fruit. Therefore, practice is about tending to our own field, about plowing our own land. The piece of land we cultivate is our own mind, which contains an abundance of seeds.\n"
     ]
    },
    {
     "name": "stderr",
     "output_type": "stream",
     "text": [
      "2025-01-11 21:31:17,038 - tnh.openai_text_processing - \u001b[1;32mDEBUG\u001b[0m - Full completion:\n",
      "ChatCompletion(id='chatcmpl-Aokr6sU4Ez8mvJZb6FqVdREhZgGkk', choices=[Choice(finish_reason='stop', index=0, logprobs=None, message=ChatCompletionMessage(content='Chitta bhāvanā, chitta bhāvanā also means cultivating the mind. The term bhāvatī means to practice, to cultivate, to bring it into existence, to bring it into existence, to realize, to bring it into existence. And when realization is present, tranquility is present, and insight is present. We translate chitta bhāvanā as mind cultivation or cultivating the mind.', refusal=None, role='assistant', audio=None, function_call=None, tool_calls=None))], created=1736659876, model='gpt-4o-2024-08-06', object='chat.completion', service_tier='default', system_fingerprint='fp_703d4ff298', usage=CompletionUsage(completion_tokens=85, prompt_tokens=219, total_tokens=304, completion_tokens_details=CompletionTokensDetails(accepted_prediction_tokens=0, audio_tokens=0, reasoning_tokens=0, rejected_prediction_tokens=0), prompt_tokens_details=PromptTokensDetails(audio_tokens=0, cached_tokens=0)))\u001b[0m\n",
      "2025-01-11 21:31:17,038 - tnh.openai_text_processing - \u001b[36mINFO\u001b[0m - Processing completed.\u001b[0m\n",
      "2025-01-11 21:31:17,040 - tnh.openai_text_processing - \u001b[36mINFO\u001b[0m - Open AI Text Processing with model 'gpt-4o' started...\u001b[0m\n",
      "2025-01-11 21:31:17,041 - tnh.tnh_scholar.openai_interface.openai_interface - \u001b[1;32mDEBUG\u001b[0m - User message content:\n",
      "Chúng ta hãy xét thêm một vài đánh tượng nữa. Đó là đánh tượng samādhi. Samādhi là ngôn lạc định. Nó là kết quả của tránh nghiệm và nguyên nhân của tuệ giác. ...\u001b[0m\n",
      "2025-01-11 21:31:17,042 - tnh.tnh_scholar.openai_interface.openai_interface - \u001b[1;32mDEBUG\u001b[0m - Starting chat completion with response_format=None and max_tokens=546...\u001b[0m\n"
     ]
    },
    {
     "name": "stdout",
     "output_type": "stream",
     "text": [
      "Chitta bhāvanā, chitta bhāvanā also means cultivating the mind. The term bhāvatī means to practice, to cultivate, to bring it into existence, to bring it into existence, to realize, to bring it into existence. And when realization is present, tranquility is present, and insight is present. We translate chitta bhāvanā as mind cultivation or cultivating the mind.\n"
     ]
    },
    {
     "name": "stderr",
     "output_type": "stream",
     "text": [
      "2025-01-11 21:31:17,804 - tnh.openai_text_processing - \u001b[1;32mDEBUG\u001b[0m - Full completion:\n",
      "ChatCompletion(id='chatcmpl-Aokr7PJmM2ABicrs3OsdmJ0syYov2', choices=[Choice(finish_reason='stop', index=0, logprobs=None, message=ChatCompletionMessage(content='Let us examine a few more symbols. There is the symbol of samādhi. Samādhi is concentration. It is the result of right mindfulness and the cause of wisdom.', refusal=None, role='assistant', audio=None, function_call=None, tool_calls=None))], created=1736659877, model='gpt-4o-2024-08-06', object='chat.completion', service_tier='default', system_fingerprint='fp_703d4ff298', usage=CompletionUsage(completion_tokens=37, prompt_tokens=167, total_tokens=204, completion_tokens_details=CompletionTokensDetails(accepted_prediction_tokens=0, audio_tokens=0, reasoning_tokens=0, rejected_prediction_tokens=0), prompt_tokens_details=PromptTokensDetails(audio_tokens=0, cached_tokens=0)))\u001b[0m\n",
      "2025-01-11 21:31:17,805 - tnh.openai_text_processing - \u001b[36mINFO\u001b[0m - Processing completed.\u001b[0m\n",
      "2025-01-11 21:31:17,806 - tnh.openai_text_processing - \u001b[36mINFO\u001b[0m - Open AI Text Processing with model 'gpt-4o' started...\u001b[0m\n",
      "2025-01-11 21:31:17,806 - tnh.tnh_scholar.openai_interface.openai_interface - \u001b[1;32mDEBUG\u001b[0m - User message content:\n",
      "Samādhi tiếng Việt mình dịch là tránh định. Tránh định trước hết nó có nghĩa là đem về một mối, đem tất cả về một mối là putting together. Khi mình có định thì tức là mình tạng nát một chỗ này một chút, chỗ kia một chút, thân chỗ này, tâm chỗ kia, nó rời ra. Mỗi thứ một ngã, còn khi có định tức là mình thâu hồi tất cả đem về một mối, cho nên tiếng Anh gọi là to put together. ...\u001b[0m\n",
      "2025-01-11 21:31:17,807 - tnh.tnh_scholar.openai_interface.openai_interface - \u001b[1;32mDEBUG\u001b[0m - Starting chat completion with response_format=None and max_tokens=612...\u001b[0m\n"
     ]
    },
    {
     "name": "stdout",
     "output_type": "stream",
     "text": [
      "Let us examine a few more symbols. There is the symbol of samādhi. Samādhi is concentration. It is the result of right mindfulness and the cause of wisdom.\n"
     ]
    },
    {
     "name": "stderr",
     "output_type": "stream",
     "text": [
      "2025-01-11 21:31:19,688 - tnh.openai_text_processing - \u001b[1;32mDEBUG\u001b[0m - Full completion:\n",
      "ChatCompletion(id='chatcmpl-Aokr7bSel1E66GjiZFhpKbEg4xdf1', choices=[Choice(finish_reason='stop', index=0, logprobs=None, message=ChatCompletionMessage(content='Samādhi in Vietnamese is translated as \"tránh định.\" Initially, it means bringing everything into one focal point, which is \"putting together.\" When we have samādhi, it means we are no longer dispersed—one part here, another part there, the body in one place, the mind in another, scattered. Everything is in different directions, but when there is samādhi, we gather everything and bring it into one focal point. That\\'s why in English it\\'s called \"to put together.\"', refusal=None, role='assistant', audio=None, function_call=None, tool_calls=None))], created=1736659877, model='gpt-4o-2024-08-06', object='chat.completion', service_tier='default', system_fingerprint='fp_b7d65f1a5b', usage=CompletionUsage(completion_tokens=104, prompt_tokens=233, total_tokens=337, completion_tokens_details=CompletionTokensDetails(accepted_prediction_tokens=0, audio_tokens=0, reasoning_tokens=0, rejected_prediction_tokens=0), prompt_tokens_details=PromptTokensDetails(audio_tokens=0, cached_tokens=0)))\u001b[0m\n",
      "2025-01-11 21:31:19,689 - tnh.openai_text_processing - \u001b[36mINFO\u001b[0m - Processing completed.\u001b[0m\n",
      "2025-01-11 21:31:19,691 - tnh.openai_text_processing - \u001b[36mINFO\u001b[0m - Open AI Text Processing with model 'gpt-4o' started...\u001b[0m\n",
      "2025-01-11 21:31:19,691 - tnh.tnh_scholar.openai_interface.openai_interface - \u001b[1;32mDEBUG\u001b[0m - User message content:\n",
      "Ngày xưa các tổ dịch ra nhiều nhân từ lắm. Tâm mũi, tâm mũi cũng là samādhi. Samādhi tức là cái phiên âm của samādhi, có khi dịch là đẳng trì. Chữ đẳng có nghĩa là nó mạnh nhau, trong chữ bình đẳng, nó không có bị tranh lịch, nó có thăng bằng. Tức là nó xa lì ở hai trạng thái tự doang. Một là tầm, hai là phù. ...\u001b[0m\n",
      "2025-01-11 21:31:19,691 - tnh.tnh_scholar.openai_interface.openai_interface - \u001b[1;32mDEBUG\u001b[0m - Starting chat completion with response_format=None and max_tokens=603...\u001b[0m\n"
     ]
    },
    {
     "name": "stdout",
     "output_type": "stream",
     "text": [
      "Samādhi in Vietnamese is translated as \"tránh định.\" Initially, it means bringing everything into one focal point, which is \"putting together.\" When we have samādhi, it means we are no longer dispersed—one part here, another part there, the body in one place, the mind in another, scattered. Everything is in different directions, but when there is samādhi, we gather everything and bring it into one focal point. That's why in English it's called \"to put together.\"\n"
     ]
    },
    {
     "name": "stderr",
     "output_type": "stream",
     "text": [
      "2025-01-11 21:31:21,146 - tnh.openai_text_processing - \u001b[1;32mDEBUG\u001b[0m - Full completion:\n",
      "ChatCompletion(id='chatcmpl-Aokr9arBFEnSozFw7aSszdhRNjSPJ', choices=[Choice(finish_reason='stop', index=0, logprobs=None, message=ChatCompletionMessage(content='In the old days, the ancestors translated many kind things. Concentration, concentration is also samādhi. Samādhi is the transliteration of samādhi, sometimes translated as equanimity. The word equanimity means equal strength, as in equality, without imbalance; it has balance. It means it is free from two excessive states. One is scattered, and the other is unsteady.', refusal=None, role='assistant', audio=None, function_call=None, tool_calls=None))], created=1736659879, model='gpt-4o-2024-08-06', object='chat.completion', service_tier='default', system_fingerprint='fp_b7d65f1a5b', usage=CompletionUsage(completion_tokens=83, prompt_tokens=224, total_tokens=307, completion_tokens_details=CompletionTokensDetails(accepted_prediction_tokens=0, audio_tokens=0, reasoning_tokens=0, rejected_prediction_tokens=0), prompt_tokens_details=PromptTokensDetails(audio_tokens=0, cached_tokens=0)))\u001b[0m\n",
      "2025-01-11 21:31:21,147 - tnh.openai_text_processing - \u001b[36mINFO\u001b[0m - Processing completed.\u001b[0m\n",
      "2025-01-11 21:31:21,148 - tnh.openai_text_processing - \u001b[36mINFO\u001b[0m - Open AI Text Processing with model 'gpt-4o' started...\u001b[0m\n",
      "2025-01-11 21:31:21,148 - tnh.tnh_scholar.openai_interface.openai_interface - \u001b[1;32mDEBUG\u001b[0m - User message content:\n",
      "Phù nghĩa là nó chìm xuống trong trạng thái ngủ nặng nề, và phù nghĩa là nó nổi lên, nó có cách là lăng xăng, không có đụng. Phù nghĩa là hai trạng thái đó thì có định gọi là xa, cái đó gọi là đẳng. ...\u001b[0m\n",
      "2025-01-11 21:31:21,149 - tnh.tnh_scholar.openai_interface.openai_interface - \u001b[1;32mDEBUG\u001b[0m - Starting chat completion with response_format=None and max_tokens=562...\u001b[0m\n"
     ]
    },
    {
     "name": "stdout",
     "output_type": "stream",
     "text": [
      "In the old days, the ancestors translated many kind things. Concentration, concentration is also samādhi. Samādhi is the transliteration of samādhi, sometimes translated as equanimity. The word equanimity means equal strength, as in equality, without imbalance; it has balance. It means it is free from two excessive states. One is scattered, and the other is unsteady.\n"
     ]
    },
    {
     "name": "stderr",
     "output_type": "stream",
     "text": [
      "2025-01-11 21:31:21,931 - tnh.openai_text_processing - \u001b[1;32mDEBUG\u001b[0m - Full completion:\n",
      "ChatCompletion(id='chatcmpl-AokrBN06afonBnmFo3PdTgFwwOCTY', choices=[Choice(finish_reason='stop', index=0, logprobs=None, message=ChatCompletionMessage(content='Phù means it sinks into a heavy sleep state, and phù means it comes up, it has a way of being restless, without touching. Phù means those two states can be called distant, that is called balance.', refusal=None, role='assistant', audio=None, function_call=None, tool_calls=None))], created=1736659881, model='gpt-4o-2024-08-06', object='chat.completion', service_tier='default', system_fingerprint='fp_703d4ff298', usage=CompletionUsage(completion_tokens=46, prompt_tokens=183, total_tokens=229, completion_tokens_details=CompletionTokensDetails(accepted_prediction_tokens=0, audio_tokens=0, reasoning_tokens=0, rejected_prediction_tokens=0), prompt_tokens_details=PromptTokensDetails(audio_tokens=0, cached_tokens=0)))\u001b[0m\n",
      "2025-01-11 21:31:21,931 - tnh.openai_text_processing - \u001b[36mINFO\u001b[0m - Processing completed.\u001b[0m\n",
      "2025-01-11 21:31:21,933 - tnh.openai_text_processing - \u001b[36mINFO\u001b[0m - Open AI Text Processing with model 'gpt-4o' started...\u001b[0m\n",
      "2025-01-11 21:31:21,933 - tnh.tnh_scholar.openai_interface.openai_interface - \u001b[1;32mDEBUG\u001b[0m - User message content:\n",
      "Trường hợp mà nó nổi lên, nó lăng xăng, ta gọi là trạo cử. Trường hợp nó chìm xuống, nó nặng nề, ta gọi là hôn trầm. Đó là hai cái cục phải đẳng, đụng, là nó có cách đẳng. Đẳng tức là không rơi vào hai cái trạng thái trạo cử và hôn trầm. Và trì tức là giữ cho được, giữ trì cho được. ...\u001b[0m\n",
      "2025-01-11 21:31:21,934 - tnh.tnh_scholar.openai_interface.openai_interface - \u001b[1;32mDEBUG\u001b[0m - Starting chat completion with response_format=None and max_tokens=601...\u001b[0m\n"
     ]
    },
    {
     "name": "stdout",
     "output_type": "stream",
     "text": [
      "Phù means it sinks into a heavy sleep state, and phù means it comes up, it has a way of being restless, without touching. Phù means those two states can be called distant, that is called balance.\n"
     ]
    },
    {
     "name": "stderr",
     "output_type": "stream",
     "text": [
      "2025-01-11 21:31:23,080 - tnh.openai_text_processing - \u001b[1;32mDEBUG\u001b[0m - Full completion:\n",
      "ChatCompletion(id='chatcmpl-AokrCaMtgfXrMj1n4Bih3AaOn9KE1', choices=[Choice(finish_reason='stop', index=0, logprobs=None, message=ChatCompletionMessage(content='When it arises and becomes agitated, we call it restlessness. When it sinks and becomes heavy, we call it drowsiness. These are two states that we must balance and manage. Balance means not falling into the states of restlessness and drowsiness. And maintaining means keeping it steady, sustaining that balance.', refusal=None, role='assistant', audio=None, function_call=None, tool_calls=None))], created=1736659882, model='gpt-4o-2024-08-06', object='chat.completion', service_tier='default', system_fingerprint='fp_703d4ff298', usage=CompletionUsage(completion_tokens=66, prompt_tokens=222, total_tokens=288, completion_tokens_details=CompletionTokensDetails(accepted_prediction_tokens=0, audio_tokens=0, reasoning_tokens=0, rejected_prediction_tokens=0), prompt_tokens_details=PromptTokensDetails(audio_tokens=0, cached_tokens=0)))\u001b[0m\n",
      "2025-01-11 21:31:23,082 - tnh.openai_text_processing - \u001b[36mINFO\u001b[0m - Processing completed.\u001b[0m\n",
      "2025-01-11 21:31:23,083 - tnh.openai_text_processing - \u001b[36mINFO\u001b[0m - Open AI Text Processing with model 'gpt-4o' started...\u001b[0m\n",
      "2025-01-11 21:31:23,084 - tnh.tnh_scholar.openai_interface.openai_interface - \u001b[1;32mDEBUG\u001b[0m - User message content:\n",
      "Giữ trì cái gì? Giữ trì trong cái trạng thái không tầm không phụ. Và giữ trì trong cái trạng thái tâm dừng ở một cảnh và chỉ một cảnh thôi, một đối tượng thôi. Trì tức là một cảnh, một đối tượng. Khi mà con khỉ nó leo trèo thì nó bắt cái cành này, rồi nó bắt cái cành kia và nó thả cành này. Rồi nó cứ tiếp tục như vậy, thì nó không có đứng yên được. Cái tâm mình nó cũng như là con khỉ, nó không có chương trú vào một cái đối tượng. Vì vậy cho nên mình không có đỉnh. ...\u001b[0m\n",
      "2025-01-11 21:31:23,085 - tnh.tnh_scholar.openai_interface.openai_interface - \u001b[1;32mDEBUG\u001b[0m - Starting chat completion with response_format=None and max_tokens=637...\u001b[0m\n"
     ]
    },
    {
     "name": "stdout",
     "output_type": "stream",
     "text": [
      "When it arises and becomes agitated, we call it restlessness. When it sinks and becomes heavy, we call it drowsiness. These are two states that we must balance and manage. Balance means not falling into the states of restlessness and drowsiness. And maintaining means keeping it steady, sustaining that balance.\n"
     ]
    },
    {
     "name": "stderr",
     "output_type": "stream",
     "text": [
      "2025-01-11 21:31:24,527 - tnh.openai_text_processing - \u001b[1;32mDEBUG\u001b[0m - Full completion:\n",
      "ChatCompletion(id='chatcmpl-AokrDm3Cfnmt8VkQCMgiMe0lBVurk', choices=[Choice(finish_reason='stop', index=0, logprobs=None, message=ChatCompletionMessage(content='What to maintain? Maintain in the state of no searching and no object preference. And maintain in the state where the mind stops at one scene and only one scene, one object only. Maintenance implies one scene, one object. When the monkey climbs, it grabs one branch, then another, releasing the first. It continues like that, never staying still. Our mind is like the monkey; it doesn’t settle on one object. Therefore, we lack concentration.', refusal=None, role='assistant', audio=None, function_call=None, tool_calls=None))], created=1736659883, model='gpt-4o-2024-08-06', object='chat.completion', service_tier='default', system_fingerprint='fp_703d4ff298', usage=CompletionUsage(completion_tokens=93, prompt_tokens=258, total_tokens=351, completion_tokens_details=CompletionTokensDetails(accepted_prediction_tokens=0, audio_tokens=0, reasoning_tokens=0, rejected_prediction_tokens=0), prompt_tokens_details=PromptTokensDetails(audio_tokens=0, cached_tokens=0)))\u001b[0m\n",
      "2025-01-11 21:31:24,528 - tnh.openai_text_processing - \u001b[36mINFO\u001b[0m - Processing completed.\u001b[0m\n",
      "2025-01-11 21:31:24,529 - tnh.openai_text_processing - \u001b[36mINFO\u001b[0m - Open AI Text Processing with model 'gpt-4o' started...\u001b[0m\n",
      "2025-01-11 21:31:24,530 - tnh.tnh_scholar.openai_interface.openai_interface - \u001b[1;32mDEBUG\u001b[0m - User message content:\n",
      "Cho nên trong cái trạng thái, trong cái công phu tụ tập, mình phải biết chương trú vào một cái đối tượng. Cái đó gọi là trì. Và trong cái thời gian đó, cái tâm của mình không rơi vào trạng thái hôn trầm hay là trạo cử thì gọi là đẳng, đẳng trì. ...\u001b[0m\n",
      "2025-01-11 21:31:24,531 - tnh.tnh_scholar.openai_interface.openai_interface - \u001b[1;32mDEBUG\u001b[0m - Starting chat completion with response_format=None and max_tokens=570...\u001b[0m\n"
     ]
    },
    {
     "name": "stdout",
     "output_type": "stream",
     "text": [
      "What to maintain? Maintain in the state of no searching and no object preference. And maintain in the state where the mind stops at one scene and only one scene, one object only. Maintenance implies one scene, one object. When the monkey climbs, it grabs one branch, then another, releasing the first. It continues like that, never staying still. Our mind is like the monkey; it doesn’t settle on one object. Therefore, we lack concentration.\n"
     ]
    },
    {
     "name": "stderr",
     "output_type": "stream",
     "text": [
      "2025-01-11 21:31:25,471 - tnh.openai_text_processing - \u001b[1;32mDEBUG\u001b[0m - Full completion:\n",
      "ChatCompletion(id='chatcmpl-AokrEQ3yXQNV3686Iba2XYGC0JUvd', choices=[Choice(finish_reason='stop', index=0, logprobs=None, message=ChatCompletionMessage(content='Therefore, in that state, in the practice of meditation, we must know how to focus on a single object. This is called concentration. And during that time, if our mind does not fall into a state of dullness or agitation, it is called equanimity, equanimous concentration.', refusal=None, role='assistant', audio=None, function_call=None, tool_calls=None))], created=1736659884, model='gpt-4o-2024-08-06', object='chat.completion', service_tier='default', system_fingerprint='fp_703d4ff298', usage=CompletionUsage(completion_tokens=61, prompt_tokens=191, total_tokens=252, completion_tokens_details=CompletionTokensDetails(accepted_prediction_tokens=0, audio_tokens=0, reasoning_tokens=0, rejected_prediction_tokens=0), prompt_tokens_details=PromptTokensDetails(audio_tokens=0, cached_tokens=0)))\u001b[0m\n",
      "2025-01-11 21:31:25,472 - tnh.openai_text_processing - \u001b[36mINFO\u001b[0m - Processing completed.\u001b[0m\n",
      "2025-01-11 21:31:25,476 - tnh.openai_text_processing - \u001b[36mINFO\u001b[0m - Open AI Text Processing with model 'gpt-4o' started...\u001b[0m\n",
      "2025-01-11 21:31:25,477 - tnh.tnh_scholar.openai_interface.openai_interface - \u001b[1;32mDEBUG\u001b[0m - User message content:\n",
      "Có khi các tổ dịch là tránh tâm hành xếp. Là cái tâm mình nó thẳng lại và nó thực tập quan trống cái đối tượng đặc biệt kia. Sứ ở đây nó có nghĩa là cái đối tượng quan trống. Như là tử niệm sứ. Cái đối tượng đó hoặc là cái thân của mình. Hoặc là cái cảm thỏ của mình. Hoặc là cái tâm hành của mình. Hoặc là đối tượng tâm hành của mình, tức là Pháp. Thì trong cái định đó, thì cái đối tượng có thể là thân, có thể là thỏ, có thể là tâm, có thể là Pháp. ...\u001b[0m\n",
      "2025-01-11 21:31:25,478 - tnh.tnh_scholar.openai_interface.openai_interface - \u001b[1;32mDEBUG\u001b[0m - Starting chat completion with response_format=None and max_tokens=637...\u001b[0m\n"
     ]
    },
    {
     "name": "stdout",
     "output_type": "stream",
     "text": [
      "Therefore, in that state, in the practice of meditation, we must know how to focus on a single object. This is called concentration. And during that time, if our mind does not fall into a state of dullness or agitation, it is called equanimity, equanimous concentration.\n"
     ]
    },
    {
     "name": "stderr",
     "output_type": "stream",
     "text": [
      "2025-01-11 21:31:26,892 - tnh.openai_text_processing - \u001b[1;32mDEBUG\u001b[0m - Full completion:\n",
      "ChatCompletion(id='chatcmpl-AokrFrKABpWqszDiVOBDn2S0r4Hqj', choices=[Choice(finish_reason='stop', index=0, logprobs=None, message=ChatCompletionMessage(content='Sometimes the masters translate it as avoiding arrangement of mental formations. It means the mind straightens itself and practices contemplating that particular object. \"Sứ\" here means the object of contemplation, like the mindfulness foundation. That object can be your body, your feelings, your mental formations, or the object of your mental formations, which is Dharma. So in that concentration, the object can be the body, can be feelings, can be the mind, or can be the Dharma.', refusal=None, role='assistant', audio=None, function_call=None, tool_calls=None))], created=1736659885, model='gpt-4o-2024-08-06', object='chat.completion', service_tier='default', system_fingerprint='fp_703d4ff298', usage=CompletionUsage(completion_tokens=96, prompt_tokens=258, total_tokens=354, completion_tokens_details=CompletionTokensDetails(accepted_prediction_tokens=0, audio_tokens=0, reasoning_tokens=0, rejected_prediction_tokens=0), prompt_tokens_details=PromptTokensDetails(audio_tokens=0, cached_tokens=0)))\u001b[0m\n",
      "2025-01-11 21:31:26,894 - tnh.openai_text_processing - \u001b[36mINFO\u001b[0m - Processing completed.\u001b[0m\n",
      "2025-01-11 21:31:26,896 - tnh.openai_text_processing - \u001b[36mINFO\u001b[0m - Open AI Text Processing with model 'gpt-4o' started...\u001b[0m\n",
      "2025-01-11 21:31:26,897 - tnh.tnh_scholar.openai_interface.openai_interface - \u001b[1;32mDEBUG\u001b[0m - User message content:\n",
      "Nhưng mà có thể là cái đối tượng thân nói rộng nó cũng lớn quá. Vì vậy cho nên phải thâu hẹp cái đối tượng đó trong cái vòng viêu nhỏ. Ví dụ như là chúng ta chỉ chú ý tới trái tim mà thôi. Trong khi đó không có chú ý tới lá gan hay là bụng phổi. Chúng ta thâu hẹp lại cái đối tượng của cái định của chúng ta. Và càng thâu hẹp từ nào thì cái sức mạnh của định nó càng lớn. Và vì vậy cho nên định nó có nghĩa là. Nó được dịch là tâm nhất cảnh. Tiếng Pali. Cái tâm của mình. Nó mong về Một, một đối tượng, EK là một. ...\u001b[0m\n",
      "2025-01-11 21:31:26,898 - tnh.tnh_scholar.openai_interface.openai_interface - \u001b[1;32mDEBUG\u001b[0m - Starting chat completion with response_format=None and max_tokens=648...\u001b[0m\n"
     ]
    },
    {
     "name": "stdout",
     "output_type": "stream",
     "text": [
      "Sometimes the masters translate it as avoiding arrangement of mental formations. It means the mind straightens itself and practices contemplating that particular object. \"Sứ\" here means the object of contemplation, like the mindfulness foundation. That object can be your body, your feelings, your mental formations, or the object of your mental formations, which is Dharma. So in that concentration, the object can be the body, can be feelings, can be the mind, or can be the Dharma.\n"
     ]
    },
    {
     "name": "stderr",
     "output_type": "stream",
     "text": [
      "2025-01-11 21:31:28,407 - tnh.openai_text_processing - \u001b[1;32mDEBUG\u001b[0m - Full completion:\n",
      "ChatCompletion(id='chatcmpl-AokrHwURcc8era4Vq7xNHuPBXoQum', choices=[Choice(finish_reason='stop', index=0, logprobs=None, message=ChatCompletionMessage(content=\"However, it may be that the object of concentration is too vast. Therefore, we need to narrow down this object to a smaller scope. For example, we may focus solely on the heart, disregarding the liver or lungs. We narrow the object of our concentration. The more we narrow it, the stronger our concentration becomes. This is why 'concentration' means 'one-pointedness of mind.' In Pali, the mind aims towards one, a single object, EK is one.\", refusal=None, role='assistant', audio=None, function_call=None, tool_calls=None))], created=1736659887, model='gpt-4o-2024-08-06', object='chat.completion', service_tier='default', system_fingerprint='fp_703d4ff298', usage=CompletionUsage(completion_tokens=101, prompt_tokens=269, total_tokens=370, completion_tokens_details=CompletionTokensDetails(accepted_prediction_tokens=0, audio_tokens=0, reasoning_tokens=0, rejected_prediction_tokens=0), prompt_tokens_details=PromptTokensDetails(audio_tokens=0, cached_tokens=0)))\u001b[0m\n",
      "2025-01-11 21:31:28,408 - tnh.openai_text_processing - \u001b[36mINFO\u001b[0m - Processing completed.\u001b[0m\n",
      "2025-01-11 21:31:28,410 - tnh.openai_text_processing - \u001b[36mINFO\u001b[0m - Open AI Text Processing with model 'gpt-4o' started...\u001b[0m\n",
      "2025-01-11 21:31:28,410 - tnh.tnh_scholar.openai_interface.openai_interface - \u001b[1;32mDEBUG\u001b[0m - User message content:\n",
      "Và có nhiên là chúng ta có hai cái danh từ rất là đạo, rất là đặc biệt của Đạo Buộc. Có danh từ đó là Chữ và Quán. Chữ tức là Samatha. Samatha này nó có nghĩa là làm cho nó lắng lại, làm cho nó yên tĩnh lại, làm cho nó chấm dứt lại, nó chất nặng lại, dừng lại, yên lại. Để có thể chú vào một cảnh. Nếu như cái tâm của chúng ta đang suy nghĩ về trường nào, trường nào, đang thất niệm, đang nghĩ tới những trường không có lợi ích. Nó làm cho chúng ta lo lắng, làm phiền, sợ hãi, nó làm cho cái tâm của chúng ta không có phối hợp với nhau. Thì bây giờ ta thở vào, thở ra, trở về với hơi thở. Thì chúng ta có thể chấm dứt cái sự li hoang của tư tưởng, của tâm mình, cái đó gọi là Chí. ...\u001b[0m\n",
      "2025-01-11 21:31:28,411 - tnh.tnh_scholar.openai_interface.openai_interface - \u001b[1;32mDEBUG\u001b[0m - Starting chat completion with response_format=None and max_tokens=717...\u001b[0m\n"
     ]
    },
    {
     "name": "stdout",
     "output_type": "stream",
     "text": [
      "However, it may be that the object of concentration is too vast. Therefore, we need to narrow down this object to a smaller scope. For example, we may focus solely on the heart, disregarding the liver or lungs. We narrow the object of our concentration. The more we narrow it, the stronger our concentration becomes. This is why 'concentration' means 'one-pointedness of mind.' In Pali, the mind aims towards one, a single object, EK is one.\n"
     ]
    },
    {
     "name": "stderr",
     "output_type": "stream",
     "text": [
      "2025-01-11 21:31:30,360 - tnh.openai_text_processing - \u001b[1;32mDEBUG\u001b[0m - Full completion:\n",
      "ChatCompletion(id='chatcmpl-AokrIkkugkyrIBOSmR62AEgTV67ds', choices=[Choice(finish_reason='stop', index=0, logprobs=None, message=ChatCompletionMessage(content='And of course, we have two very special terms that are fundamental in Buddhism. The first term is \"Chỉ\" and the second is \"Quán.\" \"Chỉ\" refers to Samatha. Samatha means to calm, to make peaceful, to bring it to a stop, to let it settle, to cease, to rest in peace. It allows us to focus on a single point. If our mind is thinking about one thing and then another, distracted, and thinking about things of no benefit, causing us worry, disturbance, fear, and making our mind uncoordinated, we now inhale and exhale, returning to our breath. We can then stop the wandering of thoughts and our mind, which is called \"Chỉ.\"', refusal=None, role='assistant', audio=None, function_call=None, tool_calls=None))], created=1736659888, model='gpt-4o-2024-08-06', object='chat.completion', service_tier='default', system_fingerprint='fp_703d4ff298', usage=CompletionUsage(completion_tokens=152, prompt_tokens=338, total_tokens=490, completion_tokens_details=CompletionTokensDetails(accepted_prediction_tokens=0, audio_tokens=0, reasoning_tokens=0, rejected_prediction_tokens=0), prompt_tokens_details=PromptTokensDetails(audio_tokens=0, cached_tokens=0)))\u001b[0m\n",
      "2025-01-11 21:31:30,361 - tnh.openai_text_processing - \u001b[36mINFO\u001b[0m - Processing completed.\u001b[0m\n",
      "2025-01-11 21:31:30,364 - tnh.openai_text_processing - \u001b[36mINFO\u001b[0m - Open AI Text Processing with model 'gpt-4o' started...\u001b[0m\n",
      "2025-01-11 21:31:30,364 - tnh.tnh_scholar.openai_interface.openai_interface - \u001b[1;32mDEBUG\u001b[0m - User message content:\n",
      "Hay là khi mà chúng ta đang ngồn hay đang rụng, nhưng mà cái nguồn cái giọng đó đang làm cho chúng ta bất an, thì chúng ta thở vào, thở ra, và làm cho cái nguồn cái giọng đó nó yên dịu lại. Nó yên dịu lại, nó lắng dịu lại, thì cái đó cũng gọi là Chí. Như trong dân tử an tịnh tâm hành, tâm hành của mình có thể là giận hay là buồn hay là lo. Và khi mà mình thực tập chỉ, hoặc bằng tình hình, hoặc bằng thở cái tránh niệm. Thì mình dành cái tránh niệm đó, mình ôm cái tâm hành kia, và làm cho cái tâm hành kia nó dịu lại, giống như bà mẹ ôm con, thì đó gọi là Samatha, là Chí. ...\u001b[0m\n",
      "2025-01-11 21:31:30,365 - tnh.tnh_scholar.openai_interface.openai_interface - \u001b[1;32mDEBUG\u001b[0m - Starting chat completion with response_format=None and max_tokens=680...\u001b[0m\n"
     ]
    },
    {
     "name": "stdout",
     "output_type": "stream",
     "text": [
      "And of course, we have two very special terms that are fundamental in Buddhism. The first term is \"Chỉ\" and the second is \"Quán.\" \"Chỉ\" refers to Samatha. Samatha means to calm, to make peaceful, to bring it to a stop, to let it settle, to cease, to rest in peace. It allows us to focus on a single point. If our mind is thinking about one thing and then another, distracted, and thinking about things of no benefit, causing us worry, disturbance, fear, and making our mind uncoordinated, we now inhale and exhale, returning to our breath. We can then stop the wandering of thoughts and our mind, which is called \"Chỉ.\"\n"
     ]
    },
    {
     "name": "stderr",
     "output_type": "stream",
     "text": [
      "2025-01-11 21:31:32,205 - tnh.openai_text_processing - \u001b[1;32mDEBUG\u001b[0m - Full completion:\n",
      "ChatCompletion(id='chatcmpl-AokrKP3gX4qreOotSbvxvevBmmZmU', choices=[Choice(finish_reason='stop', index=0, logprobs=None, message=ChatCompletionMessage(content='Or when we are sitting or lying down, but a certain source or voice is making us uneasy, we breathe in, breathe out, and calm that source or voice. When it becomes calm and settles down, that is also called Samatha. As in the term \"calming the mind,\" our mental state might be anger, sadness, or worry. And when we practice Samatha, either through concentration or mindful breathing, we use that mindfulness to embrace and soothe the mental state, just like a mother holding her child. That is called Samatha, or calming.', refusal=None, role='assistant', audio=None, function_call=None, tool_calls=None))], created=1736659890, model='gpt-4o-2024-08-06', object='chat.completion', service_tier='default', system_fingerprint='fp_703d4ff298', usage=CompletionUsage(completion_tokens=115, prompt_tokens=301, total_tokens=416, completion_tokens_details=CompletionTokensDetails(accepted_prediction_tokens=0, audio_tokens=0, reasoning_tokens=0, rejected_prediction_tokens=0), prompt_tokens_details=PromptTokensDetails(audio_tokens=0, cached_tokens=0)))\u001b[0m\n",
      "2025-01-11 21:31:32,207 - tnh.openai_text_processing - \u001b[36mINFO\u001b[0m - Processing completed.\u001b[0m\n",
      "2025-01-11 21:31:32,209 - tnh.openai_text_processing - \u001b[36mINFO\u001b[0m - Open AI Text Processing with model 'gpt-4o' started...\u001b[0m\n",
      "2025-01-11 21:31:32,209 - tnh.tnh_scholar.openai_interface.openai_interface - \u001b[1;32mDEBUG\u001b[0m - User message content:\n",
      "Thành ra Chí nó có nghĩa là làm cho nó dừng lại, làm cho nó yêu ái ra lại, an tĩnh ra lại, và làm cho mình có khả năng tâm tâm vào một cái đối tượng duy nhất gọi là Chí. Và dân tử này nó thường theo xác, bằng tình hình là Quảng Vipassana. ...\u001b[0m\n",
      "2025-01-11 21:31:32,210 - tnh.tnh_scholar.openai_interface.openai_interface - \u001b[1;32mDEBUG\u001b[0m - Starting chat completion with response_format=None and max_tokens=571...\u001b[0m\n"
     ]
    },
    {
     "name": "stdout",
     "output_type": "stream",
     "text": [
      "Or when we are sitting or lying down, but a certain source or voice is making us uneasy, we breathe in, breathe out, and calm that source or voice. When it becomes calm and settles down, that is also called Samatha. As in the term \"calming the mind,\" our mental state might be anger, sadness, or worry. And when we practice Samatha, either through concentration or mindful breathing, we use that mindfulness to embrace and soothe the mental state, just like a mother holding her child. That is called Samatha, or calming.\n"
     ]
    },
    {
     "name": "stderr",
     "output_type": "stream",
     "text": [
      "2025-01-11 21:31:33,256 - tnh.openai_text_processing - \u001b[1;32mDEBUG\u001b[0m - Full completion:\n",
      "ChatCompletion(id='chatcmpl-AokrM6sqO3jOYKSob2LVGSZlNerok', choices=[Choice(finish_reason='stop', index=0, logprobs=None, message=ChatCompletionMessage(content='Thus, Chí means to make it stop, to make it calm and serene again, to make ourselves capable of concentrating on a single object called Chí. And this term is often associated with the practice known as Vipassana.', refusal=None, role='assistant', audio=None, function_call=None, tool_calls=None))], created=1736659892, model='gpt-4o-2024-08-06', object='chat.completion', service_tier='default', system_fingerprint='fp_703d4ff298', usage=CompletionUsage(completion_tokens=48, prompt_tokens=192, total_tokens=240, completion_tokens_details=CompletionTokensDetails(accepted_prediction_tokens=0, audio_tokens=0, reasoning_tokens=0, rejected_prediction_tokens=0), prompt_tokens_details=PromptTokensDetails(audio_tokens=0, cached_tokens=0)))\u001b[0m\n",
      "2025-01-11 21:31:33,270 - tnh.openai_text_processing - \u001b[36mINFO\u001b[0m - Processing completed.\u001b[0m\n",
      "2025-01-11 21:31:33,356 - tnh.openai_text_processing - \u001b[36mINFO\u001b[0m - Open AI Text Processing with model 'gpt-4o' started...\u001b[0m\n",
      "2025-01-11 21:31:33,494 - tnh.tnh_scholar.openai_interface.openai_interface - \u001b[1;32mDEBUG\u001b[0m - User message content:\n",
      "Quảng Vipassana nó có nghĩa là nhằm sâu vào để khám phá sự thật, nó nằm trong tự tấn của đối tượng mà mình quán chiếu. Tức này mình có thể gọi là Deep Looking, mà Deep Looking như vậy, quán chiếu một cách sâu sắc, thì tự nhiên mình thấy được, mình có cái trở giác, mình có cái gọi là Insight Mình có cái thấy sâu sắc về bên trong, trong lòng của sự vật. ...\u001b[0m\n",
      "2025-01-11 21:31:33,495 - tnh.tnh_scholar.openai_interface.openai_interface - \u001b[1;32mDEBUG\u001b[0m - Starting chat completion with response_format=None and max_tokens=596...\u001b[0m\n"
     ]
    },
    {
     "name": "stdout",
     "output_type": "stream",
     "text": [
      "Thus, Chí means to make it stop, to make it calm and serene again, to make ourselves capable of concentrating on a single object called Chí. And this term is often associated with the practice known as Vipassana.\n"
     ]
    },
    {
     "name": "stderr",
     "output_type": "stream",
     "text": [
      "2025-01-11 21:31:34,883 - tnh.openai_text_processing - \u001b[1;32mDEBUG\u001b[0m - Full completion:\n",
      "ChatCompletion(id='chatcmpl-AokrNSx9LIhR5Hvx1GkRT3GAe22rF', choices=[Choice(finish_reason='stop', index=0, logprobs=None, message=ChatCompletionMessage(content='Vipassana means to look deeply in order to discover the truth that lies within the nature of the object we are contemplating. This can be called Deep Looking, and through such deep contemplation, we naturally gain awareness and insight. We acquire a profound understanding of the inner essence of things.', refusal=None, role='assistant', audio=None, function_call=None, tool_calls=None))], created=1736659893, model='gpt-4o-2024-08-06', object='chat.completion', service_tier='default', system_fingerprint='fp_703d4ff298', usage=CompletionUsage(completion_tokens=58, prompt_tokens=217, total_tokens=275, completion_tokens_details=CompletionTokensDetails(accepted_prediction_tokens=0, audio_tokens=0, reasoning_tokens=0, rejected_prediction_tokens=0), prompt_tokens_details=PromptTokensDetails(audio_tokens=0, cached_tokens=0)))\u001b[0m\n",
      "2025-01-11 21:31:34,884 - tnh.openai_text_processing - \u001b[36mINFO\u001b[0m - Processing completed.\u001b[0m\n",
      "2025-01-11 21:31:34,886 - tnh.openai_text_processing - \u001b[36mINFO\u001b[0m - Open AI Text Processing with model 'gpt-4o' started...\u001b[0m\n",
      "2025-01-11 21:31:34,887 - tnh.tnh_scholar.openai_interface.openai_interface - \u001b[1;32mDEBUG\u001b[0m - User message content:\n",
      "Nhờ đó chứng minh các học giáo tươi phương, các khóa thiền sinh tươi phương nghe dịch cái chữ Vipassana là tiếng Pali đó là Insight Meditation. Insight Meditation và cái chữ mà chúng ta đã dừng hàng ngàn năm rồi là chữ Quán. Tôi chỉ là tôi quán. Tôi chỉ là làm cho nó dừng lại, làm cho nó êm dược lại, làm cho tâm mình truyền trống vào một cạnh. Và tôi quán là mất thương bất ngỡ, nhìn thật sâu vào trong lòng của đối tượng đó để thấy được bản chất, sự thật về nó. Đó là hai danh tử rất là quan trọng trong bản bộ, rất đặc biệt phật giáo. ...\u001b[0m\n",
      "2025-01-11 21:31:34,888 - tnh.tnh_scholar.openai_interface.openai_interface - \u001b[1;32mDEBUG\u001b[0m - Starting chat completion with response_format=None and max_tokens=647...\u001b[0m\n"
     ]
    },
    {
     "name": "stdout",
     "output_type": "stream",
     "text": [
      "Vipassana means to look deeply in order to discover the truth that lies within the nature of the object we are contemplating. This can be called Deep Looking, and through such deep contemplation, we naturally gain awareness and insight. We acquire a profound understanding of the inner essence of things.\n"
     ]
    },
    {
     "name": "stderr",
     "output_type": "stream",
     "text": [
      "2025-01-11 21:31:36,614 - tnh.openai_text_processing - \u001b[1;32mDEBUG\u001b[0m - Full completion:\n",
      "ChatCompletion(id='chatcmpl-AokrPZpa61bYlu1S24tuciNMWpkaW', choices=[Choice(finish_reason='stop', index=0, logprobs=None, message=ChatCompletionMessage(content='Thus, it proves the teachings of the Western disciplines, whereby meditation students in the West understand the word Vipassana from Pali as Insight Meditation. Insight Meditation corresponds to the word Quán that we have used for thousands of years. I am simply practicing quán. I simply make it stop, make it calm again, allowing the mind to become concentrated on one aspect. Practicing quán is to observe without surprise, to look deeply into the essence of the object in order to see its true nature and reality. These are two very important terms in the canon, particularly significant in Buddhism.', refusal=None, role='assistant', audio=None, function_call=None, tool_calls=None))], created=1736659895, model='gpt-4o-2024-08-06', object='chat.completion', service_tier='default', system_fingerprint='fp_703d4ff298', usage=CompletionUsage(completion_tokens=120, prompt_tokens=268, total_tokens=388, completion_tokens_details=CompletionTokensDetails(accepted_prediction_tokens=0, audio_tokens=0, reasoning_tokens=0, rejected_prediction_tokens=0), prompt_tokens_details=PromptTokensDetails(audio_tokens=0, cached_tokens=0)))\u001b[0m\n",
      "2025-01-11 21:31:36,618 - tnh.openai_text_processing - \u001b[36mINFO\u001b[0m - Processing completed.\u001b[0m\n",
      "2025-01-11 21:31:36,627 - tnh.openai_text_processing - \u001b[36mINFO\u001b[0m - Open AI Text Processing with model 'gpt-4o' started...\u001b[0m\n",
      "2025-01-11 21:31:36,627 - tnh.tnh_scholar.openai_interface.openai_interface - \u001b[1;32mDEBUG\u001b[0m - User message content:\n",
      "Cảm nhận từ thiền, nó không phải là đặc biệt phật giáo. Nó trưng cho nhiều cái truyền thống khác. Chúng ta chỉ xét xuyên qua những cái danh tử đó thôi. Tại chúng ta không có thời gian để có thể đi sâu vào những vấn đề phân tích danh tử. Tại chúng ta có nhiều chuyện phải làm, nhiều chuyện phải học. Nhưng mà đây là cái thứ thiếu mà chúng ta phải làm. ...\u001b[0m\n",
      "2025-01-11 21:31:36,628 - tnh.tnh_scholar.openai_interface.openai_interface - \u001b[1;32mDEBUG\u001b[0m - Starting chat completion with response_format=None and max_tokens=591...\u001b[0m\n"
     ]
    },
    {
     "name": "stdout",
     "output_type": "stream",
     "text": [
      "Thus, it proves the teachings of the Western disciplines, whereby meditation students in the West understand the word Vipassana from Pali as Insight Meditation. Insight Meditation corresponds to the word Quán that we have used for thousands of years. I am simply practicing quán. I simply make it stop, make it calm again, allowing the mind to become concentrated on one aspect. Practicing quán is to observe without surprise, to look deeply into the essence of the object in order to see its true nature and reality. These are two very important terms in the canon, particularly significant in Buddhism.\n"
     ]
    },
    {
     "name": "stderr",
     "output_type": "stream",
     "text": [
      "2025-01-11 21:31:38,245 - tnh.openai_text_processing - \u001b[1;32mDEBUG\u001b[0m - Full completion:\n",
      "ChatCompletion(id='chatcmpl-AokrQ9QC0ToUa6OlnXcgQnB3HOEc7', choices=[Choice(finish_reason='stop', index=0, logprobs=None, message=ChatCompletionMessage(content=\"The feeling from meditation is not exclusively Buddhist. It represents many other traditions. We only look through those names. Because we don't have the time to delve deeply into the analysis of names. We have many things to do, many things to learn. But this is the missing thing we have to do.\", refusal=None, role='assistant', audio=None, function_call=None, tool_calls=None))], created=1736659896, model='gpt-4o-2024-08-06', object='chat.completion', service_tier='default', system_fingerprint='fp_703d4ff298', usage=CompletionUsage(completion_tokens=60, prompt_tokens=212, total_tokens=272, completion_tokens_details=CompletionTokensDetails(accepted_prediction_tokens=0, audio_tokens=0, reasoning_tokens=0, rejected_prediction_tokens=0), prompt_tokens_details=PromptTokensDetails(audio_tokens=0, cached_tokens=0)))\u001b[0m\n",
      "2025-01-11 21:31:38,248 - tnh.openai_text_processing - \u001b[36mINFO\u001b[0m - Processing completed.\u001b[0m\n",
      "2025-01-11 21:31:38,251 - tnh.openai_text_processing - \u001b[36mINFO\u001b[0m - Open AI Text Processing with model 'gpt-4o' started...\u001b[0m\n",
      "2025-01-11 21:31:38,251 - tnh.tnh_scholar.openai_interface.openai_interface - \u001b[1;32mDEBUG\u001b[0m - User message content:\n",
      "Thì như hôm trước tôi đã có nói là có những phương pháp thực tập, nó thuần túy là một. Nó có mặt trong cái thời gọi là Đạo Bồ Nhân Thị. Nhưng mà có những yếu tố khác, nó từ từ, nó được gây ra vào trong cái truyền thống thiền tập của chúng ta. Và nó được Phật hóa, Phật hóa nghĩa tình, nó cho nó một cái nội dung về Đạo Phật. ...\u001b[0m\n",
      "2025-01-11 21:31:38,252 - tnh.tnh_scholar.openai_interface.openai_interface - \u001b[1;32mDEBUG\u001b[0m - Starting chat completion with response_format=None and max_tokens=596...\u001b[0m\n"
     ]
    },
    {
     "name": "stdout",
     "output_type": "stream",
     "text": [
      "The feeling from meditation is not exclusively Buddhist. It represents many other traditions. We only look through those names. Because we don't have the time to delve deeply into the analysis of names. We have many things to do, many things to learn. But this is the missing thing we have to do.\n"
     ]
    },
    {
     "name": "stderr",
     "output_type": "stream",
     "text": [
      "2025-01-11 21:31:39,135 - tnh.openai_text_processing - \u001b[1;32mDEBUG\u001b[0m - Full completion:\n",
      "ChatCompletion(id='chatcmpl-AokrSxSysCCOHXu1WHb2io7BvVby0', choices=[Choice(finish_reason='stop', index=0, logprobs=None, message=ChatCompletionMessage(content='As I mentioned the other day, there are certain practices that are purely one. They were present during the time known as the Way of Bodhisattva Human Market. However, there are other elements that gradually became part of our meditation tradition. These elements were gradually integrated into the Buddhist tradition, giving them a meaningful Buddhist essence.', refusal=None, role='assistant', audio=None, function_call=None, tool_calls=None))], created=1736659898, model='gpt-4o-2024-08-06', object='chat.completion', service_tier='default', system_fingerprint='fp_703d4ff298', usage=CompletionUsage(completion_tokens=67, prompt_tokens=217, total_tokens=284, completion_tokens_details=CompletionTokensDetails(accepted_prediction_tokens=0, audio_tokens=0, reasoning_tokens=0, rejected_prediction_tokens=0), prompt_tokens_details=PromptTokensDetails(audio_tokens=0, cached_tokens=0)))\u001b[0m\n",
      "2025-01-11 21:31:39,136 - tnh.openai_text_processing - \u001b[36mINFO\u001b[0m - Processing completed.\u001b[0m\n",
      "2025-01-11 21:31:39,139 - tnh.openai_text_processing - \u001b[36mINFO\u001b[0m - Open AI Text Processing with model 'gpt-4o' started...\u001b[0m\n",
      "2025-01-11 21:31:39,139 - tnh.tnh_scholar.openai_interface.openai_interface - \u001b[1;32mDEBUG\u001b[0m - User message content:\n",
      "Trong cái quá trình học hỏi thì có 3 cái danh tử này chúng ta phải làm quen với, tức là Đạo Bồ Nhân Thị. Đạo Bồ Nhân Thị tức là Đạo Bồ trong thời đại của Bồ. ...\u001b[0m\n",
      "2025-01-11 21:31:39,140 - tnh.tnh_scholar.openai_interface.openai_interface - \u001b[1;32mDEBUG\u001b[0m - Starting chat completion with response_format=None and max_tokens=553...\u001b[0m\n"
     ]
    },
    {
     "name": "stdout",
     "output_type": "stream",
     "text": [
      "As I mentioned the other day, there are certain practices that are purely one. They were present during the time known as the Way of Bodhisattva Human Market. However, there are other elements that gradually became part of our meditation tradition. These elements were gradually integrated into the Buddhist tradition, giving them a meaningful Buddhist essence.\n"
     ]
    },
    {
     "name": "stderr",
     "output_type": "stream",
     "text": [
      "2025-01-11 21:31:39,910 - tnh.openai_text_processing - \u001b[1;32mDEBUG\u001b[0m - Full completion:\n",
      "ChatCompletion(id='chatcmpl-AokrTYd6WtOXhQDm3BE13VwL3kcWa', choices=[Choice(finish_reason='stop', index=0, logprobs=None, message=ChatCompletionMessage(content='In the process of learning, there are three terms that we need to become familiar with, namely Đạo Bồ Nhân Thị. Đạo Bồ Nhân Thị refers to the path of enlightenment in the era of enlightenment.', refusal=None, role='assistant', audio=None, function_call=None, tool_calls=None))], created=1736659899, model='gpt-4o-2024-08-06', object='chat.completion', service_tier='default', system_fingerprint='fp_703d4ff298', usage=CompletionUsage(completion_tokens=49, prompt_tokens=174, total_tokens=223, completion_tokens_details=CompletionTokensDetails(accepted_prediction_tokens=0, audio_tokens=0, reasoning_tokens=0, rejected_prediction_tokens=0), prompt_tokens_details=PromptTokensDetails(audio_tokens=0, cached_tokens=0)))\u001b[0m\n",
      "2025-01-11 21:31:39,925 - tnh.openai_text_processing - \u001b[36mINFO\u001b[0m - Processing completed.\u001b[0m\n",
      "2025-01-11 21:31:39,928 - tnh.openai_text_processing - \u001b[36mINFO\u001b[0m - Open AI Text Processing with model 'gpt-4o' started...\u001b[0m\n",
      "2025-01-11 21:31:39,929 - tnh.tnh_scholar.openai_interface.openai_interface - \u001b[1;32mDEBUG\u001b[0m - User message content:\n",
      "Giờ tới Đạo Bồ Bộ Pháp. Tại vì sau khi Bộc và Nhật Dược, cho đến tăng năm thì đã có cái sự phân phái và chỉ trong vòng một vài trăm năm thì nó phân ra tới 18, 20 Bộ Pháp. Thì lúc đó Đạo Phật Bộ Pháp, Đạo Bộc Bộ Pháp đã không còn Đạo Bồ Nhân Thị nữa. Không còn Thần Thủy nữa. Nghĩa là Đạo Bộc Bộ Pháp, Đạo Bộc Bộ Phái, nó có chứa Đạo Bộc Nhân Thị tăng lắm. Tại vì Đạo Bộc Bộ Pháp, nó được phát triển từ Đạo Bộc Nhân Thị. Nhưng mà trong đó có những yếu tố của sự phát triển. Và mình phải tính ý lắm để phân biệt được những yếu tố nào là yếu tố của Đạo Bộc Nhân Thị và những yếu tố nào là ngói thêm vào của Đạo Bộc Bộ Pháp và dân tử thứ 3 là Đạo Bục Đại Thừa. ...\u001b[0m\n",
      "2025-01-11 21:31:39,930 - tnh.tnh_scholar.openai_interface.openai_interface - \u001b[1;32mDEBUG\u001b[0m - Starting chat completion with response_format=None and max_tokens=731...\u001b[0m\n"
     ]
    },
    {
     "name": "stdout",
     "output_type": "stream",
     "text": [
      "In the process of learning, there are three terms that we need to become familiar with, namely Đạo Bồ Nhân Thị. Đạo Bồ Nhân Thị refers to the path of enlightenment in the era of enlightenment.\n"
     ]
    },
    {
     "name": "stderr",
     "output_type": "stream",
     "text": [
      "2025-01-11 21:31:42,573 - tnh.openai_text_processing - \u001b[1;32mDEBUG\u001b[0m - Full completion:\n",
      "ChatCompletion(id='chatcmpl-AokrUinLqllsyefeWqrk0xnGImrwS', choices=[Choice(finish_reason='stop', index=0, logprobs=None, message=ChatCompletionMessage(content='Now we come to the School of Buddhadharma. Because after the Buddha and his teachings, within about five hundred years, there was a division into numerous schools, eventually splitting into 18 or 20 sects. At that point, the School of Buddhadharma no longer adhered to the original teachings of Humanism. The original essence was no longer present. This means that the School of Buddhadharma inherited many elements of the Humanistic School because it developed from Humanism. However, in this evolution, there are certain elements that emerged. We need to be very discerning to differentiate which elements remained from the Humanistic School and which elements were added by the School of Buddhadharma and the third category, which is Mahayana Buddhism.', refusal=None, role='assistant', audio=None, function_call=None, tool_calls=None))], created=1736659900, model='gpt-4o-2024-08-06', object='chat.completion', service_tier='default', system_fingerprint='fp_703d4ff298', usage=CompletionUsage(completion_tokens=150, prompt_tokens=352, total_tokens=502, completion_tokens_details=CompletionTokensDetails(accepted_prediction_tokens=0, audio_tokens=0, reasoning_tokens=0, rejected_prediction_tokens=0), prompt_tokens_details=PromptTokensDetails(audio_tokens=0, cached_tokens=0)))\u001b[0m\n",
      "2025-01-11 21:31:42,575 - tnh.openai_text_processing - \u001b[36mINFO\u001b[0m - Processing completed.\u001b[0m\n",
      "2025-01-11 21:31:42,579 - tnh.openai_text_processing - \u001b[36mINFO\u001b[0m - Open AI Text Processing with model 'gpt-4o' started...\u001b[0m\n",
      "2025-01-11 21:31:42,581 - tnh.tnh_scholar.openai_interface.openai_interface - \u001b[1;32mDEBUG\u001b[0m - User message content:\n",
      "Đạo Bục Bổ Phái tiếp tục phát triển và nó đưa tới Đạo Bục Đại Thừa. Chúng ta có 3 giai đoạn. Thành ra chúng ta đặt câu hỏi, cái nào là Đạo Bục Nguyên Thị? Cái nào là do Đạo Bục Bộ Pháp thêm thất vọng? Và cái nào là do Đạo Bục Đại Thừa? Đưa vào. Nó là câu hỏi rất là chính đáng. ...\u001b[0m\n",
      "2025-01-11 21:31:42,582 - tnh.tnh_scholar.openai_interface.openai_interface - \u001b[1;32mDEBUG\u001b[0m - Starting chat completion with response_format=None and max_tokens=596...\u001b[0m\n"
     ]
    },
    {
     "name": "stdout",
     "output_type": "stream",
     "text": [
      "Now we come to the School of Buddhadharma. Because after the Buddha and his teachings, within about five hundred years, there was a division into numerous schools, eventually splitting into 18 or 20 sects. At that point, the School of Buddhadharma no longer adhered to the original teachings of Humanism. The original essence was no longer present. This means that the School of Buddhadharma inherited many elements of the Humanistic School because it developed from Humanism. However, in this evolution, there are certain elements that emerged. We need to be very discerning to differentiate which elements remained from the Humanistic School and which elements were added by the School of Buddhadharma and the third category, which is Mahayana Buddhism.\n"
     ]
    },
    {
     "name": "stderr",
     "output_type": "stream",
     "text": [
      "2025-01-11 21:31:43,584 - tnh.openai_text_processing - \u001b[1;32mDEBUG\u001b[0m - Full completion:\n",
      "ChatCompletion(id='chatcmpl-AokrWDmn12Y0tL6CEVFsnBDCmBaL5', choices=[Choice(finish_reason='stop', index=0, logprobs=None, message=ChatCompletionMessage(content=\"The original Buddhist sect continued to develop, leading to the Mahayana Buddhism. We have three stages. Therefore, we ask the question, which is the original Buddhism? Which is from the later sects' added disappointments? And which is Mahayana Buddhism? Introducing. It is a very legitimate question.\", refusal=None, role='assistant', audio=None, function_call=None, tool_calls=None))], created=1736659902, model='gpt-4o-2024-08-06', object='chat.completion', service_tier='default', system_fingerprint='fp_703d4ff298', usage=CompletionUsage(completion_tokens=62, prompt_tokens=217, total_tokens=279, completion_tokens_details=CompletionTokensDetails(accepted_prediction_tokens=0, audio_tokens=0, reasoning_tokens=0, rejected_prediction_tokens=0), prompt_tokens_details=PromptTokensDetails(audio_tokens=0, cached_tokens=0)))\u001b[0m\n",
      "2025-01-11 21:31:43,585 - tnh.openai_text_processing - \u001b[36mINFO\u001b[0m - Processing completed.\u001b[0m\n",
      "2025-01-11 21:31:43,586 - tnh.openai_text_processing - \u001b[36mINFO\u001b[0m - Open AI Text Processing with model 'gpt-4o' started...\u001b[0m\n",
      "2025-01-11 21:31:43,587 - tnh.tnh_scholar.openai_interface.openai_interface - \u001b[1;32mDEBUG\u001b[0m - User message content:\n",
      "Tại vì nếu mà chúng ta không có sự khảo cứu, không có sự tuân tập, thì chúng ta khó để nói là cái nào là thật sự Đạo Bục Nguyên Thị. Tại vì vị trí nguyên các ngạc giả, họ giúp chúng ta công khai nhiều. Các sự gia. Các nhà khảo cổ. Các nhà bác ngữ học. Bác ngữ học tiếng Pháp là philology. Các nhà khảo cổ họ khai cuộc. Các nhà sự gia họ nghiên cứu họ so sánh. Và các nhà bác ngữ học họ nghiên cứu những văn bản khác nhau. Họ tìm ra những yếu tố khác nhau. Họ có thể giúp cho chúng ta thấy được một phần nào, những cái nào nó thật sự là Phật Giáo Nguyên Thị. Và những cái nào nó được phát triển. Và trong quá trình tìm hiểu đó, càng ngày chúng ta càng thấy rõ thêm. ...\u001b[0m\n",
      "2025-01-11 21:31:43,587 - tnh.tnh_scholar.openai_interface.openai_interface - \u001b[1;32mDEBUG\u001b[0m - Starting chat completion with response_format=None and max_tokens=690...\u001b[0m\n"
     ]
    },
    {
     "name": "stdout",
     "output_type": "stream",
     "text": [
      "The original Buddhist sect continued to develop, leading to the Mahayana Buddhism. We have three stages. Therefore, we ask the question, which is the original Buddhism? Which is from the later sects' added disappointments? And which is Mahayana Buddhism? Introducing. It is a very legitimate question.\n"
     ]
    },
    {
     "name": "stderr",
     "output_type": "stream",
     "text": [
      "2025-01-11 21:31:45,034 - tnh.openai_text_processing - \u001b[1;32mDEBUG\u001b[0m - Full completion:\n",
      "ChatCompletion(id='chatcmpl-AokrXVv5ttFHq3B3jxHsS2ENI5day', choices=[Choice(finish_reason='stop', index=0, logprobs=None, message=ChatCompletionMessage(content='Because if we do not research or practice, it is difficult to say what truly belongs to Original Buddhism. The scholars play a vital role as they help us to unveil many aspects. The historians, archaeologists, and philologists. Philology in French is similar to the study of languages. Archaeologists conduct excavations. Historians study and compare. Philologists analyze different texts. They identify different elements. They can help us see, to some extent, what truly pertains to Original Buddhism and what has been developed later. Through this process of exploration, we increasingly gain clearer understanding over time.', refusal=None, role='assistant', audio=None, function_call=None, tool_calls=None))], created=1736659903, model='gpt-4o-2024-08-06', object='chat.completion', service_tier='default', system_fingerprint='fp_703d4ff298', usage=CompletionUsage(completion_tokens=120, prompt_tokens=311, total_tokens=431, completion_tokens_details=CompletionTokensDetails(accepted_prediction_tokens=0, audio_tokens=0, reasoning_tokens=0, rejected_prediction_tokens=0), prompt_tokens_details=PromptTokensDetails(audio_tokens=0, cached_tokens=0)))\u001b[0m\n",
      "2025-01-11 21:31:45,034 - tnh.openai_text_processing - \u001b[36mINFO\u001b[0m - Processing completed.\u001b[0m\n",
      "2025-01-11 21:31:45,035 - tnh.openai_text_processing - \u001b[36mINFO\u001b[0m - Open AI Text Processing with model 'gpt-4o' started...\u001b[0m\n",
      "2025-01-11 21:31:45,036 - tnh.tnh_scholar.openai_interface.openai_interface - \u001b[1;32mDEBUG\u001b[0m - User message content:\n",
      "Thì bây giờ có những câu hỏi mà chúng ta chưa có thể tìm được câu trả lời dứt khoát. Có những cái mà chúng ta có thể đồng ý với nhau là 100% là Đạo Bộc Nguyên Thị. Cái đó chúng ta có thể qua quyết với nhau được. Ví dụ như là Phương Pháp Tự Chánh Niệm là 100% là Đạo Bộc Nguyên Thị. Nhân giới, giới khách sĩ là 100% Đạo Bộc Nguyên Thị. ...\u001b[0m\n",
      "2025-01-11 21:31:45,037 - tnh.tnh_scholar.openai_interface.openai_interface - \u001b[1;32mDEBUG\u001b[0m - Starting chat completion with response_format=None and max_tokens=613...\u001b[0m\n"
     ]
    },
    {
     "name": "stdout",
     "output_type": "stream",
     "text": [
      "Because if we do not research or practice, it is difficult to say what truly belongs to Original Buddhism. The scholars play a vital role as they help us to unveil many aspects. The historians, archaeologists, and philologists. Philology in French is similar to the study of languages. Archaeologists conduct excavations. Historians study and compare. Philologists analyze different texts. They identify different elements. They can help us see, to some extent, what truly pertains to Original Buddhism and what has been developed later. Through this process of exploration, we increasingly gain clearer understanding over time.\n"
     ]
    },
    {
     "name": "stderr",
     "output_type": "stream",
     "text": [
      "2025-01-11 21:31:45,969 - tnh.openai_text_processing - \u001b[1;32mDEBUG\u001b[0m - Full completion:\n",
      "ChatCompletion(id='chatcmpl-AokrZHCaVymfDFUIVAChc4S9nU2wo', choices=[Choice(finish_reason='stop', index=0, logprobs=None, message=ChatCompletionMessage(content='Right now, there are questions for which we cannot find a definitive answer. There are things on which we can agree 100% are Original Buddhism. We can decide on these together. For example, the Method of Mindfulness is 100% Original Buddhism. The precepts, the monastic precepts, are 100% Original Buddhism.', refusal=None, role='assistant', audio=None, function_call=None, tool_calls=None))], created=1736659905, model='gpt-4o-2024-08-06', object='chat.completion', service_tier='default', system_fingerprint='fp_703d4ff298', usage=CompletionUsage(completion_tokens=70, prompt_tokens=234, total_tokens=304, completion_tokens_details=CompletionTokensDetails(accepted_prediction_tokens=0, audio_tokens=0, reasoning_tokens=0, rejected_prediction_tokens=0), prompt_tokens_details=PromptTokensDetails(audio_tokens=0, cached_tokens=0)))\u001b[0m\n",
      "2025-01-11 21:31:45,969 - tnh.openai_text_processing - \u001b[36mINFO\u001b[0m - Processing completed.\u001b[0m\n",
      "2025-01-11 21:31:45,971 - tnh.openai_text_processing - \u001b[36mINFO\u001b[0m - Open AI Text Processing with model 'gpt-4o' started...\u001b[0m\n",
      "2025-01-11 21:31:45,971 - tnh.tnh_scholar.openai_interface.openai_interface - \u001b[1;32mDEBUG\u001b[0m - User message content:\n",
      "Nhưng có những cái như là Tứng Vô Pháp Định, tức là không vô biên sứ, thất vô biên sứ, vô sử vụ sứ, phi tượng, phi phi tượng sứ. Thì câu hỏi rất là lớn. Mà trong các kinh, có rất nhiều kinh nói về Tứng Vô Pháp Định. Thì cái đó chúng ta biết chắc là không phải là 100% của Đạo Bộc Nguyên Thị. Tại vì khi mà Bộc đang còn tư tập với thầy, với các thầy Umbraka, với Alara. Thì đều có thực tập 4 cái pháp gọi là Tứng Vô Pháp Định. Và Ngài đã thành công. Nhưng mà Ngài nói cái đó không có cái công dụng giải thoát sinh tử. Cho nên Ngài bỏ. Vậy mà sau này trong các kinh điển tham hồi lại cái đó. Và để vào đó như là cái từng từ tù học của Phật Tử. Thành ra cái đó mình không có thể nói nó là Phật Đạo Bộc Nguyên Thị được. Nó không có 100% được. Nó người lắm là 50% thôi. ...\u001b[0m\n",
      "2025-01-11 21:31:45,972 - tnh.tnh_scholar.openai_interface.openai_interface - \u001b[1;32mDEBUG\u001b[0m - Starting chat completion with response_format=None and max_tokens=754...\u001b[0m\n"
     ]
    },
    {
     "name": "stdout",
     "output_type": "stream",
     "text": [
      "Right now, there are questions for which we cannot find a definitive answer. There are things on which we can agree 100% are Original Buddhism. We can decide on these together. For example, the Method of Mindfulness is 100% Original Buddhism. The precepts, the monastic precepts, are 100% Original Buddhism.\n"
     ]
    },
    {
     "name": "stderr",
     "output_type": "stream",
     "text": [
      "2025-01-11 21:31:48,589 - tnh.openai_text_processing - \u001b[1;32mDEBUG\u001b[0m - Full completion:\n",
      "ChatCompletion(id='chatcmpl-AokraDysAE1eAurvJcG836enlBqrn', choices=[Choice(finish_reason='stop', index=0, logprobs=None, message=ChatCompletionMessage(content=\"However, there are concepts such as the Four Immaterial Attainments, which include the Dimension of Infinite Space, the Dimension of Infinite Consciousness, the Dimension of Nothingness, and the Dimension of Neither Perception nor Non-Perception. This poses a significant question. In many sutras, there is extensive discussion about these Four Immaterial Attainments. It is clear that they do not represent 100% of the original teachings of the Buddha. This is because when the Buddha was still practicing with his teachers, including Uddaka and Alara, he practiced these Four Immaterial Attainments and succeeded. However, he stated that they did not lead to liberation from the cycle of birth and death, so he abandoned them. Yet, later on, these practices were reintroduced into the sutras and included as part of the practice for Buddhists. Therefore, we cannot claim that these entirely constitute the original Buddha's teachings. They are at most 50% aligned.\", refusal=None, role='assistant', audio=None, function_call=None, tool_calls=None))], created=1736659906, model='gpt-4o-2024-08-06', object='chat.completion', service_tier='default', system_fingerprint='fp_703d4ff298', usage=CompletionUsage(completion_tokens=199, prompt_tokens=375, total_tokens=574, completion_tokens_details=CompletionTokensDetails(accepted_prediction_tokens=0, audio_tokens=0, reasoning_tokens=0, rejected_prediction_tokens=0), prompt_tokens_details=PromptTokensDetails(audio_tokens=0, cached_tokens=0)))\u001b[0m\n",
      "2025-01-11 21:31:48,590 - tnh.openai_text_processing - \u001b[36mINFO\u001b[0m - Processing completed.\u001b[0m\n",
      "2025-01-11 21:31:48,591 - tnh.openai_text_processing - \u001b[36mINFO\u001b[0m - Open AI Text Processing with model 'gpt-4o' started...\u001b[0m\n",
      "2025-01-11 21:31:48,592 - tnh.tnh_scholar.openai_interface.openai_interface - \u001b[1;32mDEBUG\u001b[0m - User message content:\n",
      "Và có thể là các thầy đã nói rằng ngày xưa Bộc có thực tập. Tại sao bây giờ chúng ta cũng thực tập cho giống Bộc. Và đưa vào. Đưa vào trở lại cái mà Bộc đã hất ra ngoài. Và cho nó thêm những cái ý nghĩa của Phật Dạo. Tức là Phật Dạo hóa nó. Làm cho nó có tính chất của Bộc. Và cái điều này cũng có thể đúng với tư thiền. Tức là Sơ Thiền, Ngụy Thiền, Tam Thiền, Thứ Thiền. ...\u001b[0m\n",
      "2025-01-11 21:31:48,592 - tnh.tnh_scholar.openai_interface.openai_interface - \u001b[1;32mDEBUG\u001b[0m - Starting chat completion with response_format=None and max_tokens=626...\u001b[0m\n"
     ]
    },
    {
     "name": "stdout",
     "output_type": "stream",
     "text": [
      "However, there are concepts such as the Four Immaterial Attainments, which include the Dimension of Infinite Space, the Dimension of Infinite Consciousness, the Dimension of Nothingness, and the Dimension of Neither Perception nor Non-Perception. This poses a significant question. In many sutras, there is extensive discussion about these Four Immaterial Attainments. It is clear that they do not represent 100% of the original teachings of the Buddha. This is because when the Buddha was still practicing with his teachers, including Uddaka and Alara, he practiced these Four Immaterial Attainments and succeeded. However, he stated that they did not lead to liberation from the cycle of birth and death, so he abandoned them. Yet, later on, these practices were reintroduced into the sutras and included as part of the practice for Buddhists. Therefore, we cannot claim that these entirely constitute the original Buddha's teachings. They are at most 50% aligned.\n"
     ]
    },
    {
     "name": "stderr",
     "output_type": "stream",
     "text": [
      "2025-01-11 21:31:50,433 - tnh.openai_text_processing - \u001b[1;32mDEBUG\u001b[0m - Full completion:\n",
      "ChatCompletion(id='chatcmpl-AokrcpBRnNsWREGUMxUO1tm4oE7LV', choices=[Choice(finish_reason='stop', index=0, logprobs=None, message=ChatCompletionMessage(content='And perhaps the teachers have said that in the past, Bộc practiced. Why do we now also practice to be like Bộc? And incorporate. Bring back what Bộc had cast out. And give it the meanings of Buddhism. That is, transform it in a Buddhist way. Make it bear the characteristics of Bộc. And this might also be true for the meditation postures: the first meditation, the second meditation, the third meditation, and the fourth meditation.', refusal=None, role='assistant', audio=None, function_call=None, tool_calls=None))], created=1736659908, model='gpt-4o-2024-08-06', object='chat.completion', service_tier='default', system_fingerprint='fp_703d4ff298', usage=CompletionUsage(completion_tokens=96, prompt_tokens=247, total_tokens=343, completion_tokens_details=CompletionTokensDetails(accepted_prediction_tokens=0, audio_tokens=0, reasoning_tokens=0, rejected_prediction_tokens=0), prompt_tokens_details=PromptTokensDetails(audio_tokens=0, cached_tokens=0)))\u001b[0m\n",
      "2025-01-11 21:31:50,433 - tnh.openai_text_processing - \u001b[36mINFO\u001b[0m - Processing completed.\u001b[0m\n",
      "2025-01-11 21:31:50,434 - tnh.openai_text_processing - \u001b[36mINFO\u001b[0m - Open AI Text Processing with model 'gpt-4o' started...\u001b[0m\n",
      "2025-01-11 21:31:50,435 - tnh.tnh_scholar.openai_interface.openai_interface - \u001b[1;32mDEBUG\u001b[0m - User message content:\n",
      "Tức là Ngụy Thiền, Ngụy Thiền, Tu Thiền, Giác Ngộ. Đạo Đục Nguyên Thủy là Đạo Đục nào? ...\u001b[0m\n",
      "2025-01-11 21:31:50,436 - tnh.tnh_scholar.openai_interface.openai_interface - \u001b[1;32mDEBUG\u001b[0m - Starting chat completion with response_format=None and max_tokens=539...\u001b[0m\n"
     ]
    },
    {
     "name": "stdout",
     "output_type": "stream",
     "text": [
      "And perhaps the teachers have said that in the past, Bộc practiced. Why do we now also practice to be like Bộc? And incorporate. Bring back what Bộc had cast out. And give it the meanings of Buddhism. That is, transform it in a Buddhist way. Make it bear the characteristics of Bộc. And this might also be true for the meditation postures: the first meditation, the second meditation, the third meditation, and the fourth meditation.\n"
     ]
    },
    {
     "name": "stderr",
     "output_type": "stream",
     "text": [
      "2025-01-11 21:31:51,253 - tnh.openai_text_processing - \u001b[1;32mDEBUG\u001b[0m - Full completion:\n",
      "ChatCompletion(id='chatcmpl-Aokrelbvg3SWKwZR2AjIIHCwxRYCR', choices=[Choice(finish_reason='stop', index=0, logprobs=None, message=ChatCompletionMessage(content='It means False Zen, False Zen, Cultivating Zen, Enlightenment. Which is the Original Muddy Path?', refusal=None, role='assistant', audio=None, function_call=None, tool_calls=None))], created=1736659910, model='gpt-4o-2024-08-06', object='chat.completion', service_tier='default', system_fingerprint='fp_703d4ff298', usage=CompletionUsage(completion_tokens=25, prompt_tokens=160, total_tokens=185, completion_tokens_details=CompletionTokensDetails(accepted_prediction_tokens=0, audio_tokens=0, reasoning_tokens=0, rejected_prediction_tokens=0), prompt_tokens_details=PromptTokensDetails(audio_tokens=0, cached_tokens=0)))\u001b[0m\n",
      "2025-01-11 21:31:51,254 - tnh.openai_text_processing - \u001b[36mINFO\u001b[0m - Processing completed.\u001b[0m\n",
      "2025-01-11 21:31:51,256 - tnh.openai_text_processing - \u001b[36mINFO\u001b[0m - Open AI Text Processing with model 'gpt-4o' started...\u001b[0m\n",
      "2025-01-11 21:31:51,256 - tnh.tnh_scholar.openai_interface.openai_interface - \u001b[1;32mDEBUG\u001b[0m - User message content:\n",
      "Nó vẫn còn là vấn đề lớn. Chúng ta qua cái sự thu học, qua cái sự nghiên cứu đã có thể thấm định được một số những yếu tố mà chúng ta có thể quýt chắc được là của Đạo Đục Nguyên Thủy 100%. Ngoài ra còn có những yếu tố khác chúng ta không có thể xác quyết được như vậy. Và có những yếu tố khác chúng ta đã có thể loại trừ ra. Ví dụ như trong khi mà nghiên cứu kinh niệm sứ đó, thì tôi có phát nhắc ra một cái đoạn kinh. Một cái đoạn kinh mà người ta vì cái sự tựa đọc không có trách nhiệm. ...\u001b[0m\n",
      "2025-01-11 21:31:51,257 - tnh.tnh_scholar.openai_interface.openai_interface - \u001b[1;32mDEBUG\u001b[0m - Starting chat completion with response_format=None and max_tokens=638...\u001b[0m\n"
     ]
    },
    {
     "name": "stdout",
     "output_type": "stream",
     "text": [
      "It means False Zen, False Zen, Cultivating Zen, Enlightenment. Which is the Original Muddy Path?\n"
     ]
    },
    {
     "name": "stderr",
     "output_type": "stream",
     "text": [
      "2025-01-11 21:31:52,487 - tnh.openai_text_processing - \u001b[1;32mDEBUG\u001b[0m - Full completion:\n",
      "ChatCompletion(id='chatcmpl-Aokrf7KqO8HNB4abWa3gIPug4wNsP', choices=[Choice(finish_reason='stop', index=0, logprobs=None, message=ChatCompletionMessage(content='It is still a big issue. Through the process of learning and researching, we have been able to identify certain elements that we can confidently assert belong 100% to the original teachings. Besides those, there are other elements that we cannot determine with such certainty. And there are other elements we have been able to exclude. For example, during the research of the Satipatthana Sutra, I discovered a passage that people have mishandled due to irresponsible reading.', refusal=None, role='assistant', audio=None, function_call=None, tool_calls=None))], created=1736659911, model='gpt-4o-2024-08-06', object='chat.completion', service_tier='default', system_fingerprint='fp_703d4ff298', usage=CompletionUsage(completion_tokens=95, prompt_tokens=259, total_tokens=354, completion_tokens_details=CompletionTokensDetails(accepted_prediction_tokens=0, audio_tokens=0, reasoning_tokens=0, rejected_prediction_tokens=0), prompt_tokens_details=PromptTokensDetails(audio_tokens=0, cached_tokens=0)))\u001b[0m\n",
      "2025-01-11 21:31:52,488 - tnh.openai_text_processing - \u001b[36mINFO\u001b[0m - Processing completed.\u001b[0m\n",
      "2025-01-11 21:31:52,489 - tnh.openai_text_processing - \u001b[36mINFO\u001b[0m - Open AI Text Processing with model 'gpt-4o' started...\u001b[0m\n",
      "2025-01-11 21:31:52,490 - tnh.tnh_scholar.openai_interface.openai_interface - \u001b[1;32mDEBUG\u001b[0m - User message content:\n",
      "Cho nên đã tất nối, đã lấy một cái đoạn kinh, lấy một cái đoạn mà Bục chê là không có lứng. Một cái phương pháp tư mà Bục đã chê trong cái kinh là không có lứng để đem vào trong kinh coi như là một phương pháp mà mình cần phải thực tập. ...\u001b[0m\n",
      "2025-01-11 21:31:52,490 - tnh.tnh_scholar.openai_interface.openai_interface - \u001b[1;32mDEBUG\u001b[0m - Starting chat completion with response_format=None and max_tokens=565...\u001b[0m\n"
     ]
    },
    {
     "name": "stdout",
     "output_type": "stream",
     "text": [
      "It is still a big issue. Through the process of learning and researching, we have been able to identify certain elements that we can confidently assert belong 100% to the original teachings. Besides those, there are other elements that we cannot determine with such certainty. And there are other elements we have been able to exclude. For example, during the research of the Satipatthana Sutra, I discovered a passage that people have mishandled due to irresponsible reading.\n"
     ]
    },
    {
     "name": "stderr",
     "output_type": "stream",
     "text": [
      "2025-01-11 21:31:53,506 - tnh.openai_text_processing - \u001b[1;32mDEBUG\u001b[0m - Full completion:\n",
      "ChatCompletion(id='chatcmpl-Aokrg6PxcIk3GgjEPZKVj9qx0DVC0', choices=[Choice(finish_reason='stop', index=0, logprobs=None, message=ChatCompletionMessage(content='Vì vậy, họ đã trích dẫn một đoạn kinh, lấy một phần mà Đức Phật phê phán là không có giá trị. Một phương pháp tư duy mà Đức Phật đã chỉ trích trong kinh là không có giá trị được đưa vào kinh như thể đó là một phương pháp mà chúng ta cần phải thực hành.', refusal=None, role='assistant', audio=None, function_call=None, tool_calls=None))], created=1736659912, model='gpt-4o-2024-08-06', object='chat.completion', service_tier='default', system_fingerprint='fp_703d4ff298', usage=CompletionUsage(completion_tokens=70, prompt_tokens=186, total_tokens=256, completion_tokens_details=CompletionTokensDetails(accepted_prediction_tokens=0, audio_tokens=0, reasoning_tokens=0, rejected_prediction_tokens=0), prompt_tokens_details=PromptTokensDetails(audio_tokens=0, cached_tokens=0)))\u001b[0m\n",
      "2025-01-11 21:31:53,507 - tnh.openai_text_processing - \u001b[36mINFO\u001b[0m - Processing completed.\u001b[0m\n",
      "2025-01-11 21:31:53,508 - tnh.openai_text_processing - \u001b[36mINFO\u001b[0m - Open AI Text Processing with model 'gpt-4o' started...\u001b[0m\n",
      "2025-01-11 21:31:53,508 - tnh.tnh_scholar.openai_interface.openai_interface - \u001b[1;32mDEBUG\u001b[0m - User message content:\n",
      "Thì nếu mà quý vị có đọc cái cuốn Con đường chứng hóa đó, Nghiên cứu về kinh niệm sứ đó, quý vị sẽ thấy cái đoạn kinh đó. ...\u001b[0m\n",
      "2025-01-11 21:31:53,508 - tnh.tnh_scholar.openai_interface.openai_interface - \u001b[1;32mDEBUG\u001b[0m - Starting chat completion with response_format=None and max_tokens=538...\u001b[0m\n"
     ]
    },
    {
     "name": "stdout",
     "output_type": "stream",
     "text": [
      "Vì vậy, họ đã trích dẫn một đoạn kinh, lấy một phần mà Đức Phật phê phán là không có giá trị. Một phương pháp tư duy mà Đức Phật đã chỉ trích trong kinh là không có giá trị được đưa vào kinh như thể đó là một phương pháp mà chúng ta cần phải thực hành.\n"
     ]
    },
    {
     "name": "stderr",
     "output_type": "stream",
     "text": [
      "2025-01-11 21:31:54,207 - tnh.openai_text_processing - \u001b[1;32mDEBUG\u001b[0m - Full completion:\n",
      "ChatCompletion(id='chatcmpl-AokrhvYKCtXq6BwTOjtXOtgQHHZEG', choices=[Choice(finish_reason='stop', index=0, logprobs=None, message=ChatCompletionMessage(content='If you read the book \"The Path of Realization,\" the study on the Satipatthana Sutta, you will see that passage of the sutra.', refusal=None, role='assistant', audio=None, function_call=None, tool_calls=None))], created=1736659913, model='gpt-4o-2024-08-06', object='chat.completion', service_tier='default', system_fingerprint='fp_703d4ff298', usage=CompletionUsage(completion_tokens=33, prompt_tokens=159, total_tokens=192, completion_tokens_details=CompletionTokensDetails(accepted_prediction_tokens=0, audio_tokens=0, reasoning_tokens=0, rejected_prediction_tokens=0), prompt_tokens_details=PromptTokensDetails(audio_tokens=0, cached_tokens=0)))\u001b[0m\n",
      "2025-01-11 21:31:54,208 - tnh.openai_text_processing - \u001b[36mINFO\u001b[0m - Processing completed.\u001b[0m\n",
      "2025-01-11 21:31:54,209 - tnh.openai_text_processing - \u001b[36mINFO\u001b[0m - Open AI Text Processing with model 'gpt-4o' started...\u001b[0m\n",
      "2025-01-11 21:31:54,210 - tnh.tnh_scholar.openai_interface.openai_interface - \u001b[1;32mDEBUG\u001b[0m - User message content:\n",
      "Đó là cái ví dụ về cái chuyện và nghiên cứu và so sánh các văn bản. Và chúng ta tìm được những cái sai lầm đã xảy ra trong cái kho tàng văn học Phật giáo. Do cái sự truyền tụng không có trách nhiệm. Đó là cái trường hợp mà tam sao thách bản lưu lưu nó xảy ra. ...\u001b[0m\n",
      "2025-01-11 21:31:54,211 - tnh.tnh_scholar.openai_interface.openai_interface - \u001b[1;32mDEBUG\u001b[0m - Starting chat completion with response_format=None and max_tokens=573...\u001b[0m\n"
     ]
    },
    {
     "name": "stdout",
     "output_type": "stream",
     "text": [
      "If you read the book \"The Path of Realization,\" the study on the Satipatthana Sutta, you will see that passage of the sutra.\n"
     ]
    },
    {
     "name": "stderr",
     "output_type": "stream",
     "text": [
      "2025-01-11 21:31:55,229 - tnh.openai_text_processing - \u001b[1;32mDEBUG\u001b[0m - Full completion:\n",
      "ChatCompletion(id='chatcmpl-Aokri5TCjDJYZAXrDrCFxqoSftWKY', choices=[Choice(finish_reason='stop', index=0, logprobs=None, message=ChatCompletionMessage(content='That is an example of the matter of researching and comparing texts. And we have found the mistakes that have occurred within the treasure trove of Buddhist literature. Due to the irresponsible transmission. That is the case of errors occurring through repeated copying and transmission.', refusal=None, role='assistant', audio=None, function_call=None, tool_calls=None))], created=1736659914, model='gpt-4o-2024-08-06', object='chat.completion', service_tier='default', system_fingerprint='fp_703d4ff298', usage=CompletionUsage(completion_tokens=51, prompt_tokens=194, total_tokens=245, completion_tokens_details=CompletionTokensDetails(accepted_prediction_tokens=0, audio_tokens=0, reasoning_tokens=0, rejected_prediction_tokens=0), prompt_tokens_details=PromptTokensDetails(audio_tokens=0, cached_tokens=0)))\u001b[0m\n",
      "2025-01-11 21:31:55,230 - tnh.openai_text_processing - \u001b[36mINFO\u001b[0m - Processing completed.\u001b[0m\n",
      "2025-01-11 21:31:55,231 - tnh.openai_text_processing - \u001b[36mINFO\u001b[0m - Open AI Text Processing with model 'gpt-4o' started...\u001b[0m\n",
      "2025-01-11 21:31:55,232 - tnh.tnh_scholar.openai_interface.openai_interface - \u001b[1;32mDEBUG\u001b[0m - User message content:\n",
      "Trong khi mà học về cái đề tài truyền thống sinh động của thiền tập Phật giáo đó, thì chúng ta sẽ dược xét những phương pháp thiền tập đã được qua các thế hệ. Và luôn luôn chúng ta cân nhắc. Chúng ta thấy cái đà phát triển của cái tư tưởng thiền tập và mang những cái pháp luân thực tập về thiền tập. Và điều đó có thể cho chúng ta thêm cái niềm tin trong cái pháp luân thực tập của chúng ta. Cái pháp luân mà chúng ta biết rằng tính ngày xưa được được thiền tập. Những cái pháp luân mà các vị Tổ sư đã phát triển, đã đem ra thực tập và đã truyền lại cho chúng ta. ...\u001b[0m\n",
      "2025-01-11 21:31:55,232 - tnh.tnh_scholar.openai_interface.openai_interface - \u001b[1;32mDEBUG\u001b[0m - Starting chat completion with response_format=None and max_tokens=653...\u001b[0m\n"
     ]
    },
    {
     "name": "stdout",
     "output_type": "stream",
     "text": [
      "That is an example of the matter of researching and comparing texts. And we have found the mistakes that have occurred within the treasure trove of Buddhist literature. Due to the irresponsible transmission. That is the case of errors occurring through repeated copying and transmission.\n"
     ]
    },
    {
     "name": "stderr",
     "output_type": "stream",
     "text": [
      "2025-01-11 21:31:56,546 - tnh.openai_text_processing - \u001b[1;32mDEBUG\u001b[0m - Full completion:\n",
      "ChatCompletion(id='chatcmpl-AokrjG1095P2Exx9DY6C2CWgvbLiX', choices=[Choice(finish_reason='stop', index=0, logprobs=None, message=ChatCompletionMessage(content='While studying the dynamic traditional topic of Buddhist meditation practice, we will examine the meditation methods passed down through generations. We always reflect on these practices. We see the development of meditation practice concepts and bring these Dharma practices into our meditative training. This can give us more confidence in our own Dharma practice. These are practices that were diligently cultivated in ancient times. The methods that the patriarchs developed, practiced, and transmitted to us.', refusal=None, role='assistant', audio=None, function_call=None, tool_calls=None))], created=1736659915, model='gpt-4o-2024-08-06', object='chat.completion', service_tier='default', system_fingerprint='fp_703d4ff298', usage=CompletionUsage(completion_tokens=87, prompt_tokens=274, total_tokens=361, completion_tokens_details=CompletionTokensDetails(accepted_prediction_tokens=0, audio_tokens=0, reasoning_tokens=0, rejected_prediction_tokens=0), prompt_tokens_details=PromptTokensDetails(audio_tokens=0, cached_tokens=0)))\u001b[0m\n",
      "2025-01-11 21:31:56,547 - tnh.openai_text_processing - \u001b[36mINFO\u001b[0m - Processing completed.\u001b[0m\n",
      "2025-01-11 21:31:56,548 - tnh.openai_text_processing - \u001b[36mINFO\u001b[0m - Open AI Text Processing with model 'gpt-4o' started...\u001b[0m\n",
      "2025-01-11 21:31:56,554 - tnh.tnh_scholar.openai_interface.openai_interface - \u001b[1;32mDEBUG\u001b[0m - User message content:\n",
      "Trong lúc này chúng ta sẽ nghe nói về tứ thiền và tứ vô xác định. ...\u001b[0m\n",
      "2025-01-11 21:31:56,554 - tnh.tnh_scholar.openai_interface.openai_interface - \u001b[1;32mDEBUG\u001b[0m - Starting chat completion with response_format=None and max_tokens=520...\u001b[0m\n"
     ]
    },
    {
     "name": "stdout",
     "output_type": "stream",
     "text": [
      "While studying the dynamic traditional topic of Buddhist meditation practice, we will examine the meditation methods passed down through generations. We always reflect on these practices. We see the development of meditation practice concepts and bring these Dharma practices into our meditative training. This can give us more confidence in our own Dharma practice. These are practices that were diligently cultivated in ancient times. The methods that the patriarchs developed, practiced, and transmitted to us.\n"
     ]
    },
    {
     "name": "stderr",
     "output_type": "stream",
     "text": [
      "2025-01-11 21:31:57,108 - tnh.openai_text_processing - \u001b[1;32mDEBUG\u001b[0m - Full completion:\n",
      "ChatCompletion(id='chatcmpl-AokrkP3aqWL3ZlHFGplRVHnDdCLwr', choices=[Choice(finish_reason='stop', index=0, logprobs=None, message=ChatCompletionMessage(content='At this moment, we will hear about the Four Form Jhanas and the Four Formless Jhanas.', refusal=None, role='assistant', audio=None, function_call=None, tool_calls=None))], created=1736659916, model='gpt-4o-2024-08-06', object='chat.completion', service_tier='default', system_fingerprint='fp_703d4ff298', usage=CompletionUsage(completion_tokens=24, prompt_tokens=141, total_tokens=165, completion_tokens_details=CompletionTokensDetails(accepted_prediction_tokens=0, audio_tokens=0, reasoning_tokens=0, rejected_prediction_tokens=0), prompt_tokens_details=PromptTokensDetails(audio_tokens=0, cached_tokens=0)))\u001b[0m\n",
      "2025-01-11 21:31:57,109 - tnh.openai_text_processing - \u001b[36mINFO\u001b[0m - Processing completed.\u001b[0m\n"
     ]
    },
    {
     "name": "stdout",
     "output_type": "stream",
     "text": [
      "At this moment, we will hear about the Four Form Jhanas and the Four Formless Jhanas.\n"
     ]
    }
   ],
   "source": [
    "tx_sections = []\n",
    "for tx_section in sections:\n",
    "    print(tx_section)\n",
    "    tx_sections.append(tx_section)"
   ]
  },
  {
   "cell_type": "code",
   "execution_count": 21,
   "metadata": {},
   "outputs": [
    {
     "name": "stdout",
     "output_type": "stream",
     "text": [
      "Dear community, today is November 24th, 1994, and we are in the winter retreat.\n",
      "As you know, the theme of the winter retreat is the living tradition of meditation in Da Bot. The word \"meditation\" is an English term used to translate the word \"thiền.\" \"Thiền,\" fully called \"thiền-na,\" is often shortened by dropping the \"na,\" thus just \"thiền,\" which in Sanskrit is \"dhyana.\" When the Chinese read \"dhyana,\" they pronounce it as \"chan-na,\" or \"chan,\" dropping the \"na.\" \"Chan\" is the Chinese term, \"thiền\" is the Vietnamese term, written the same but pronounced as \"thiền\" by Vietnamese people, while the Japanese pronounce it as \"zen,\" and the Koreans pronounce it as \"seon.\" The root of the Sanskrit word \"dhyana\" is \"dhyai,\" which means to think, to contemplate, to concentrate on a subject, and it carries the implication of inner reflection.\n",
      "Therefore, in the old days, the masters translated meditation as contemplation, and contemplation here means thinking. However, we often hear that meditation means not thinking, because the root of the word meditation implies thinking inwardly. But the issue is how to think, what kind of thinking, what kind of contemplation.\n",
      "First, we should know that the term \"dhyana\" (meditation) is not exclusively used for meditation practice in Buddhism. Other sects and traditions that existed before, during, and after Buddhism also use the term dhyana. Therefore, dhyana meditation is not a term used solely in Buddhism; it is a very good term. In the scriptures, it is indeed used, but Buddhist scriptures employ different terms more frequently. During the time of the Buddha, other terms were used more often than the term \"meditation.\" Thus, although there are numerous terms for meditation in the scriptures, other terms were more commonly used during the Buddha's era.\n",
      "Therefore, about 100 years after the time of the Buddha, the term Zen was used more often, even in the era of Buddhism in Africa. This is something we must understand and question why. So eventually, when Buddhism adopted the term Zen, Buddhism also infused it with meanings from Buddhism. This is because traditions outside of Buddhism, existing before Buddhism, also used these terms, but the meanings they attached to those terms were not the same as those Buddhists attached to them. This means there may be some similarities, but there are also differences.\n",
      "For example, the noun \"Reincarnation\" or \"Samsara.\" In different traditions, people might understand the meaning of Reincarnation differently, and in Buddhism, we have a different concept of Reincarnation. For instance, outside of Buddhism, people may believe in an immortal soul, and the concept of Reincarnation outside of Buddhism is based on notions of an immortal soul. However, in Buddhism, we study the doctrine of non-self, and therefore Reincarnation in Buddhism must be understood in alignment with the doctrine of non-self.\n",
      "Therefore, the same term may mean different things within Buddhism in different regions and outside Buddhism in other areas. We know that during the time called the Period of Humanity's Beginning, or when it was still considered the final stage of Buddhism, the monks practiced seated meditation, walking meditation, mindful eating in silence, mindful breathing, and all of these practices were genuine. The enlightenment of the Buddha, as well as that of his disciples, the compassion of the Buddha and his disciples, and the peace and freedom of the Buddha and his disciples, all originated from such practices.\n",
      "Practices like these can now be called meditation, but they can also be referred to by different terms.\n",
      "According to the explanation of the ancients, the word \"meditation\" means the contemplation of an object. That is the first meaning. It means you take a certain object as a focus, and you contemplate it, immerse yourself in it. The contemplation of a given object. And the second meaning is quite similar. It means you come very close, you get in touch very closely, and you observe that object very closely. That object pertains to a phenomenon, belonging to the world of phenomena. You can delve deeply into that phenomenal world and enter the realm of true essence.\n",
      "For example, consider a wave. When we contemplate the wave very closely and intimately, we discover its true nature, which is impermanence. Thirdly, its essence involves eradication or elimination. In meditation practice, we have a term called elimination. These are the materials and elements that cause us suffering, make us feel hindered, make us lose our peace, and cause us insecurity.\n",
      "Zen Master Tân Hội, early in the third century, is considered the patriarch of Vietnamese Zen. Based on the An Bang Thủ Y scripture, he also defined Zen as elimination. The Chinese character is \"khí,\" which means to eliminate. The Sanskrit verb is \"gai gia ti.\" In Sanskrit, it is \"jhap,\" \"jhap ti,\" meaning to burn, to simplify. This is also one of the interpretations of Zen by the patriarchs.\n",
      "In that meditation practice, our mind focuses intensely on a single object. Thanks to that concentration, we gain strength. With this strength, we can burn through any obstacles. This is similar to the concept of eliminating or purifying. The most beautiful image we can use is that of a magnifying glass or a lens. It receives the sunlight, and then all the rays converge at one point. If we associate our sadness with this spot, the focused intensity of that light will create a sense of clarity.\n",
      "The way the sun can burn a blade of grass is similar to meditation. In meditation practice, if we have strong concentration, that concentration can illuminate states of dullness and afflictions, and those states of dullness and afflictions can be burnt away. This is another meaning of meditation practice given by the patriarchs, and it is very close to the concept of qi, which is a type of directness. It will recall the first idea, which is contemplation, the second idea is closely observing the world of form, the third is directness, dealing with negative elements, and the fourth is burning away.\n",
      "The mind is very inexpensive in the practice of meditation, with the concept of cultivation. Ven. Nyanaponika, who is also known as the heart of Buddhist meditation, was a German who studied in Sri Lanka and resided for several decades at the Forest Hermitage in Sri Lanka. About a month ago, Ven. Nyanaponika called mindfulness the heart of Buddhist meditation. Ven. Nyanaponika is a scholar, and when he was in his eighties, he visited. In the past, when I was working in Paris, he came to visit the headquarters of the Buddhist Association. He brought the book \"The Heart of Buddhist Meditation\" about Sri Lanka, and he published it after careful consideration.\n",
      "Because the majority of the readers of the publisher in Thailand are followers of the Five Mind Dharma, when publishing the book \"Pháp is an Awakening\" in English in Thailand, I was asked for permission to remove the ideas of Mahayana from the work. At that time, I agreed because I was already quite mature. I said that the river is there for anyone who wants to take as much water as they like. Whether one wants to take it to bathe, to drink tea, to wash their feet, to take only a little or a lot, it doesn't matter. So, I was perfectly fine with it.\n",
      "Later, the Dharma book was printed in German, translated and printed in German, then later printed in English, and after that in Thai. Master Nguyễn Áp Onika stayed with us in Paris for a few days. I remember one day taking him to Park The Soul, where we both sat on a stone bench to converse. Now, Master has passed away. According to Master Nguyễn Áp Onika, your name is the heart of Zen Practice Dharma Bond.\n",
      "Your name is Sati, also Svarti, Sati is in Pali. Smriti is in Sanskrit. Mindfulness is the term most commonly used in Buddhist literature. Many, hundreds of times more than the actual term. Therefore, we are very comfortable when we hear of mindfulness as the heart of Buddhist meditation practice, rather than anything else. Because among the teachings and concepts of meditation, there are the four jhanas, the four formless attainments, the eight emancipations, the absorption levels, and so on, many things. But the heart of the Buddhist meditation practice remains mindfulness as usual. At this moment, we must know to care for the garden.\n",
      "When the first Dharma talk was taught to the five monks in this garden, this doctrine aimed for truth in that event. In that first sermon, the teacher also spoke about the Noble Eightfold Path, which is the path of realization. Within this path, we find right mindfulness. Following right mindfulness is wisdom, or concentration, which is right concentration. Right concentration leads to right view, and right view aligns with wisdom. In the doctrine called THE THREE LEARNINGS, or the three trainings, we mention concentration and wisdom. At the age of 80, nearing his passing, in his Dharma talks, he often spoke about training the mind with THE THREE LEARNINGS, which are morality, concentration, and wisdom.\n",
      "In the practice of study, the teacher discovered that the precepts mentioned here correspond to mindfulness. The precepts here are simply mindfulness, which is right mindfulness. This is something we have to repeatedly emphasize because, elsewhere, we often hear about mindfulness, concentration, and insight. When we talk about the training of the threefold study, we don't see mindfulness, but we see precepts, concentration, and insight. And if we observe carefully, we discover that precepts are mindfulness. If we understand precepts and practice precepts as practicing right mindfulness, then the precepts become very profound.\n",
      "When we read the Five Precepts, or the Ten Precepts, or the Fourteen Precepts, or the 250 Precepts, we might have the shallow notion that these precepts are prohibitions. These precepts are seen as prohibitions established by teachers to prevent disciples from falling into the pitfalls of wrongdoing. This notion is not incorrect, but it is not the deepest understanding of the precepts. The precepts are the manifestation of the practice of mindfulness. Understanding them in this way allows us to see the depth of the precepts.\n",
      "Therefore, in the new year's resolution text that we are practicing, the wording is very clear. It demonstrates that the precepts are what we perceive through the practice of mindfulness. For example, the first precept states that being aware means recognizing the suffering caused by killing. Aware of the pain caused by killing, citizens learn according to the teachings of great compassion to protect the lives of humans and all species. The first sentence goes like this. Thus, being aware of the suffering caused by killing is the result of mindfulness.\n",
      "When we are mindful, we see that killing causes a lot of suffering. Killing people, animals, plants, and even non-living things. And when we see the suffering caused by killing, we develop a great compassion, which is a large love. It is because of this great love that we are determined to uphold the precepts. It's not because the teacher forced us to keep the precepts, or the Buddha forced us, or the Sangha forced us. Speaking in this way means we have not yet reached the deepest level of understanding the precepts.\n",
      "Thus, we can say that precepts are the fruit of mindfulness and the practice of mindfulness. Practicing the precepts is essentially practicing mindfulness itself. Precepts, practicing the precepts, means practicing mindfulness in a very concrete way. If you don’t uphold the precepts, you cannot claim to be practicing mindfulness. Each of the five precepts begins with the awareness of the suffering caused by deceit, theft, and social injustice. This is related to the second precept. Practicing compassion involves acting with great love to bring joy and peace to everyone and all beings. Mindfulness allows us to see the suffering caused by deceit, theft, and injustice. When we see this suffering, we generate great compassion. And from this great compassion comes the determination to uphold the precepts.\n",
      "Keeping the second precept, which is not to steal, not to cheat, and not to cause social injustice. Therefore, we must see here that the essence of precepts is mindfulness. And when we know that through the practice of mindfulness, we see the suffering and the necessity of practice, we ourselves vow to uphold the precepts. It's not because of the judgment of someone else that we uphold them. And that person might be an authority or a monastic community. When we practice the precepts as a personal vow, precepts no longer become constraints. They are no longer seen as factors that limit our freedom. On the contrary, precepts become tools to protect our freedom. Right? They create happiness for ourselves and others.\n",
      "And this is what I have discovered in the process of practice. To remember and experience is mindfulness. We must reflect quite a bit on this point. We know that the first Dharma talk by the Buddha to the five disciples included mindfulness, concentration, and insight. In the Four Noble Truths and the Noble Eightfold Path, in the brief Dharma talk that the Buddha gave to the monastics before his Parinirvana, he also talked about the Noble Eightfold Path. It includes mindfulness, concentration, and insight. It is also the backbone, the tripod of Buddhist practice. The practice of mindfulness, concentration, and insight is present in the 37 Factors of Enlightenment. We see that the teachings of the five faculties also include diligence, mindfulness, concentration, and insight. And with the five powers, we also continue with diligence, mindfulness, concentration, and insight. The Factors of Enlightenment, the 7th Factor, also include mindfulness, concentration, and insight. Because insight in the Factors of Enlightenment is called dharma selection. It is referred to as dharma selection, 'dharma-vicaya.' The Four Foundations of Mindfulness also comprise mindfulness, concentration, and insight.\n",
      "The Four Establishments of Mindfulness purely teach about mindfulness. Then, in the Noble Eightfold Path, there is also mindfulness. So we see very clearly that in the entire teaching of the Buddha's Path, mindfulness plays the role of essence, it plays the role of the heart.\n",
      "Therefore, we can connect with Teacher Nyanaponika in understanding that mindfulness is the heart of Buddhist meditation. Mindfulness is not something we seek from outside. The seed of mindfulness is already within our consciousness. We know that among the 51 mental formations we studied over about a year last year, there are five special mental formations. These are the five object-determining mental factors: Desire, Conviction, Mindfulness, Concentration, and Wisdom. Mindfulness, Concentration, and Wisdom are three mental formations that exist within our psychology. When they manifest, we have mindfulness, concentration, and wisdom.\n",
      "But in the five mental formations, Mindfulness, Concentration, and Insight can be understood in general terms. Mindfulness can be Right Mindfulness, but it can also be Wrong Mindfulness. Concentration can be Right Concentration, but it can also be Wrong Concentration. And Insight can be Right Insight, but it can also be Wrong Insight.\n",
      "When we have a mistaken perception, we assume that we have seen, known, and understood, thinking that it is wisdom, but it is actually distorted wisdom. Therefore, we must add the word \"right\" to speak of true remembrance, we must add the word \"right\" to speak of true remembrance, and we must add the word \"right\" in wisdom to refer to true wisdom. Because when we are stuck in a mistaken meaning, we still believe that we know, that we understand, but that is not wisdom, it is wrong view.\n",
      "And when our mind is always returning to imagined grudges, worries, and desires, it also becomes a form of concentration, but it is wrong concentration. Therefore, the five particular mental formations are five faculties that have a general characteristic, and among them, mindfulness, concentration, and wisdom are clearly divided into right and wrong.\n",
      "And we know that mindfulness is always mindfulness of something, right mindfulness is always right mindfulness of something specific. For example, when we are drinking tea, if we are aware that we are drinking tea, then we have mindfulness, we have right mindfulness. And that right mindfulness can be developed or deepened depending on our practice. Whether I have right mindfulness or not, whether you have right mindfulness or not, is one question. But whether your mindfulness is deep or whether my mindfulness is deep is another question.\n",
      "And thanks to our diligent practice, our mindfulness can help us see more deeply or more extensively. We must recognize that mindfulness itself is complete. We have mindfulness when we drink water, and flour also has mindfulness when it absorbs water. But the mindfulness of the flour penetrates to the depths of things. Whereas our mindfulness only manages to illuminate one, two, five, or six parts of the surface of the truth. Therefore, we must practice more.\n",
      "When we talk about mindfulness, we must first say that mindfulness always involves an object. Mindfulness is always mindfulness of something. For example, when we practice mindfulness of breathing, breathing in, we know we are breathing in; breathing out, we know we are breathing out. In this case, the object of mindfulness is the breath. When we drink water mindfully, drinking water is the object of mindfulness. When we walk mindfully, our steps are the object of mindfulness. Do not think that mindfulness is a state without an object; such a state does not exist.\n",
      "And when we have mindfulness, concentration arises simultaneously. Concentration can emerge very subtly within mindfulness. Just like the moon—a new moon—it is still the moon, but a young moon. Our mindfulness is similar. At the beginning, when we practice mindfulness, whether we are walking or sitting at home, concentration arises immediately within the heart of mindfulness. However, that concentration may still be in its early stages.\n",
      "And when the peak is still young, its strength is not great. Its muscular strength is not strong. Therefore, our perception is not clear.\n",
      "For example, when we eat mindfully, the object of mindfulness during the meal is the food and the community. It is our practice. We sit and eat in silence like everyone else. However, if we compare our mindfulness to that of a senior brother or sister, our mindfulness might be more profound. And when our mindfulness is deeper, what arises within that mindfulness also becomes more profound. Importantly, insight arising from that concentration will be more deeply attained.\n",
      "For example, this is our mindfulness, and our mindfulness is not strong. Therefore, our concentration comes from this. And if our concentration comes from this, then our insight only comes from this.\n",
      "It means that in mindfulness, there is always concentration and insight. There is only one thing to remember: if mindfulness is strong, then concentration will be stronger. And if concentration is stronger, then our insight will be clearer and deeper. Therefore, when eating, we must eat with true mindfulness. When walking in meditation, we must walk with true mindfulness as well. Depending on the strength and intensity of our mindfulness, our concentration can be greater or lesser, and consequently, our insight can be deeper or shallower.\n",
      "What we need to see here is that mindfulness holds within it the seeds of concentration and insight. Therefore, we cannot say that mindfulness is separate from concentration and insight. It's like a mother who has three children. She is a mother, but the children already exist within her. Without the mother, and without the children, she cannot be called a mother. Once there is true mindfulness, there is also an intention within it. And the concentration varies depending on how much it has been cultivated, whether small or large, contributing to greater or lesser insight.\n",
      "Now we draw again, differently this time. There are many ways to draw. This is our experience. Because we have mindfulness, we have concentration. When we immerse ourselves in experience, naturally concentration arises. And when we immerse ourselves in concentration, wisdom arises. This is mindfulness, this is concentration, this is wisdom. And we cannot imagine having concentration without true mindfulness. This is very clear.\n",
      "We cannot imagine having mindfulness without concentration and awareness. We know that experience is what we have in our mind. However, it might be that these seeds are still very fragile. Because all of us, including children, have the ability to drink water and be aware that we are drinking water. Everyone has the ability to know that they are sitting with a friend and to know that they are sitting with a friend. Everyone has the ability to know that we are sitting in the meditation hall in everyday life. Sitting in the meditation hall in everyday life and knowing that we are sitting in the meditation hall in everyday life is having responsibility.\n",
      "Therefore, it cannot be said that I cannot practice, that I am not capable of practicing because I lack responsibility. Because everyone has the seed of responsibility within themselves. The issue is whether we practice or not. Do we nurture and touch that seed of responsibility every day or not? That is where the difference lies.\n",
      "Here, I have come to realize that there is a sense of mindfulness. A very interesting sense of mindfulness that I like to observe is the mindfulness of Bhavana. Bhavana in Sanskrit means cultivation. We have a question. The question is whether we can practice. Because there are dangers associated with success. Can we practice or not?\n",
      "The concept of \"ba ba\" means something has being, it comes into existence. What does it mean for it to come into being, for it to manifest? For example, like the vibrant yellow sunflowers blooming in the fields you can see in Plum Village during July and August. You know that right now, you cannot see those vibrant yellow sunflower fields, but you know you can bring those sunflower fields into being. The concept of \"ba ba\" means do it to exist, to make it manifest.\n",
      "Practicing means making it present. Therefore, it is often translated as mental culture. It is called practice, cultivating one's own mind. In Vietnam, we commonly refer to it as cultivating the mind. Cultivating the mind means bringing the fruits of enlightenment and compassion into our lives, which is called practice. With the example of a sunflower field, we know that the earth is there, the sunflower seed is there, the plant is there. If we know how to use the seed, the plant, and apply fertilizers in the fields, then we can make the field of bright yellow sunflowers come into being.\n",
      "Practice is the same. We have the seed of mindfulness. Our soil is our mind. Our opportunities are our breath and our steps. Therefore, practice here is expressed in the form of cultivating and sowing. If we remember to have insight and happiness, it is called mental culture, which is similar to agriculture; mental culture is just the same.\n",
      "In the Eastern Zen tradition, teachers often say that practice is like plowing a field, and each person must plow their own field of sound. This means that if we have a garden or field but do not plow, plant, or cultivate it, we cannot expect flowers or fruit. Therefore, practice is about tending to our own field, about plowing our own land. The piece of land we cultivate is our own mind, which contains an abundance of seeds.\n",
      "Chitta bhāvanā, chitta bhāvanā also means cultivating the mind. The term bhāvatī means to practice, to cultivate, to bring it into existence, to bring it into existence, to realize, to bring it into existence. And when realization is present, tranquility is present, and insight is present. We translate chitta bhāvanā as mind cultivation or cultivating the mind.\n",
      "Let us examine a few more symbols. There is the symbol of samādhi. Samādhi is concentration. It is the result of right mindfulness and the cause of wisdom.\n",
      "Samādhi in Vietnamese is translated as \"tránh định.\" Initially, it means bringing everything into one focal point, which is \"putting together.\" When we have samādhi, it means we are no longer dispersed—one part here, another part there, the body in one place, the mind in another, scattered. Everything is in different directions, but when there is samādhi, we gather everything and bring it into one focal point. That's why in English it's called \"to put together.\"\n",
      "In the old days, the ancestors translated many kind things. Concentration, concentration is also samādhi. Samādhi is the transliteration of samādhi, sometimes translated as equanimity. The word equanimity means equal strength, as in equality, without imbalance; it has balance. It means it is free from two excessive states. One is scattered, and the other is unsteady.\n",
      "Phù means it sinks into a heavy sleep state, and phù means it comes up, it has a way of being restless, without touching. Phù means those two states can be called distant, that is called balance.\n",
      "When it arises and becomes agitated, we call it restlessness. When it sinks and becomes heavy, we call it drowsiness. These are two states that we must balance and manage. Balance means not falling into the states of restlessness and drowsiness. And maintaining means keeping it steady, sustaining that balance.\n",
      "What to maintain? Maintain in the state of no searching and no object preference. And maintain in the state where the mind stops at one scene and only one scene, one object only. Maintenance implies one scene, one object. When the monkey climbs, it grabs one branch, then another, releasing the first. It continues like that, never staying still. Our mind is like the monkey; it doesn’t settle on one object. Therefore, we lack concentration.\n",
      "Therefore, in that state, in the practice of meditation, we must know how to focus on a single object. This is called concentration. And during that time, if our mind does not fall into a state of dullness or agitation, it is called equanimity, equanimous concentration.\n",
      "Sometimes the masters translate it as avoiding arrangement of mental formations. It means the mind straightens itself and practices contemplating that particular object. \"Sứ\" here means the object of contemplation, like the mindfulness foundation. That object can be your body, your feelings, your mental formations, or the object of your mental formations, which is Dharma. So in that concentration, the object can be the body, can be feelings, can be the mind, or can be the Dharma.\n",
      "However, it may be that the object of concentration is too vast. Therefore, we need to narrow down this object to a smaller scope. For example, we may focus solely on the heart, disregarding the liver or lungs. We narrow the object of our concentration. The more we narrow it, the stronger our concentration becomes. This is why 'concentration' means 'one-pointedness of mind.' In Pali, the mind aims towards one, a single object, EK is one.\n",
      "And of course, we have two very special terms that are fundamental in Buddhism. The first term is \"Chỉ\" and the second is \"Quán.\" \"Chỉ\" refers to Samatha. Samatha means to calm, to make peaceful, to bring it to a stop, to let it settle, to cease, to rest in peace. It allows us to focus on a single point. If our mind is thinking about one thing and then another, distracted, and thinking about things of no benefit, causing us worry, disturbance, fear, and making our mind uncoordinated, we now inhale and exhale, returning to our breath. We can then stop the wandering of thoughts and our mind, which is called \"Chỉ.\"\n",
      "Or when we are sitting or lying down, but a certain source or voice is making us uneasy, we breathe in, breathe out, and calm that source or voice. When it becomes calm and settles down, that is also called Samatha. As in the term \"calming the mind,\" our mental state might be anger, sadness, or worry. And when we practice Samatha, either through concentration or mindful breathing, we use that mindfulness to embrace and soothe the mental state, just like a mother holding her child. That is called Samatha, or calming.\n",
      "Thus, Chí means to make it stop, to make it calm and serene again, to make ourselves capable of concentrating on a single object called Chí. And this term is often associated with the practice known as Vipassana.\n",
      "Vipassana means to look deeply in order to discover the truth that lies within the nature of the object we are contemplating. This can be called Deep Looking, and through such deep contemplation, we naturally gain awareness and insight. We acquire a profound understanding of the inner essence of things.\n",
      "Thus, it proves the teachings of the Western disciplines, whereby meditation students in the West understand the word Vipassana from Pali as Insight Meditation. Insight Meditation corresponds to the word Quán that we have used for thousands of years. I am simply practicing quán. I simply make it stop, make it calm again, allowing the mind to become concentrated on one aspect. Practicing quán is to observe without surprise, to look deeply into the essence of the object in order to see its true nature and reality. These are two very important terms in the canon, particularly significant in Buddhism.\n",
      "The feeling from meditation is not exclusively Buddhist. It represents many other traditions. We only look through those names. Because we don't have the time to delve deeply into the analysis of names. We have many things to do, many things to learn. But this is the missing thing we have to do.\n",
      "As I mentioned the other day, there are certain practices that are purely one. They were present during the time known as the Way of Bodhisattva Human Market. However, there are other elements that gradually became part of our meditation tradition. These elements were gradually integrated into the Buddhist tradition, giving them a meaningful Buddhist essence.\n",
      "In the process of learning, there are three terms that we need to become familiar with, namely Đạo Bồ Nhân Thị. Đạo Bồ Nhân Thị refers to the path of enlightenment in the era of enlightenment.\n",
      "Now we come to the School of Buddhadharma. Because after the Buddha and his teachings, within about five hundred years, there was a division into numerous schools, eventually splitting into 18 or 20 sects. At that point, the School of Buddhadharma no longer adhered to the original teachings of Humanism. The original essence was no longer present. This means that the School of Buddhadharma inherited many elements of the Humanistic School because it developed from Humanism. However, in this evolution, there are certain elements that emerged. We need to be very discerning to differentiate which elements remained from the Humanistic School and which elements were added by the School of Buddhadharma and the third category, which is Mahayana Buddhism.\n",
      "The original Buddhist sect continued to develop, leading to the Mahayana Buddhism. We have three stages. Therefore, we ask the question, which is the original Buddhism? Which is from the later sects' added disappointments? And which is Mahayana Buddhism? Introducing. It is a very legitimate question.\n",
      "Because if we do not research or practice, it is difficult to say what truly belongs to Original Buddhism. The scholars play a vital role as they help us to unveil many aspects. The historians, archaeologists, and philologists. Philology in French is similar to the study of languages. Archaeologists conduct excavations. Historians study and compare. Philologists analyze different texts. They identify different elements. They can help us see, to some extent, what truly pertains to Original Buddhism and what has been developed later. Through this process of exploration, we increasingly gain clearer understanding over time.\n",
      "Right now, there are questions for which we cannot find a definitive answer. There are things on which we can agree 100% are Original Buddhism. We can decide on these together. For example, the Method of Mindfulness is 100% Original Buddhism. The precepts, the monastic precepts, are 100% Original Buddhism.\n",
      "However, there are concepts such as the Four Immaterial Attainments, which include the Dimension of Infinite Space, the Dimension of Infinite Consciousness, the Dimension of Nothingness, and the Dimension of Neither Perception nor Non-Perception. This poses a significant question. In many sutras, there is extensive discussion about these Four Immaterial Attainments. It is clear that they do not represent 100% of the original teachings of the Buddha. This is because when the Buddha was still practicing with his teachers, including Uddaka and Alara, he practiced these Four Immaterial Attainments and succeeded. However, he stated that they did not lead to liberation from the cycle of birth and death, so he abandoned them. Yet, later on, these practices were reintroduced into the sutras and included as part of the practice for Buddhists. Therefore, we cannot claim that these entirely constitute the original Buddha's teachings. They are at most 50% aligned.\n",
      "And perhaps the teachers have said that in the past, Bộc practiced. Why do we now also practice to be like Bộc? And incorporate. Bring back what Bộc had cast out. And give it the meanings of Buddhism. That is, transform it in a Buddhist way. Make it bear the characteristics of Bộc. And this might also be true for the meditation postures: the first meditation, the second meditation, the third meditation, and the fourth meditation.\n",
      "It means False Zen, False Zen, Cultivating Zen, Enlightenment. Which is the Original Muddy Path?\n",
      "It is still a big issue. Through the process of learning and researching, we have been able to identify certain elements that we can confidently assert belong 100% to the original teachings. Besides those, there are other elements that we cannot determine with such certainty. And there are other elements we have been able to exclude. For example, during the research of the Satipatthana Sutra, I discovered a passage that people have mishandled due to irresponsible reading.\n",
      "Vì vậy, họ đã trích dẫn một đoạn kinh, lấy một phần mà Đức Phật phê phán là không có giá trị. Một phương pháp tư duy mà Đức Phật đã chỉ trích trong kinh là không có giá trị được đưa vào kinh như thể đó là một phương pháp mà chúng ta cần phải thực hành.\n",
      "If you read the book \"The Path of Realization,\" the study on the Satipatthana Sutta, you will see that passage of the sutra.\n",
      "That is an example of the matter of researching and comparing texts. And we have found the mistakes that have occurred within the treasure trove of Buddhist literature. Due to the irresponsible transmission. That is the case of errors occurring through repeated copying and transmission.\n",
      "While studying the dynamic traditional topic of Buddhist meditation practice, we will examine the meditation methods passed down through generations. We always reflect on these practices. We see the development of meditation practice concepts and bring these Dharma practices into our meditative training. This can give us more confidence in our own Dharma practice. These are practices that were diligently cultivated in ancient times. The methods that the patriarchs developed, practiced, and transmitted to us.\n",
      "At this moment, we will hear about the Four Form Jhanas and the Four Formless Jhanas.\n"
     ]
    }
   ],
   "source": [
    "print(\"\\n\".join(tx_sections))"
   ]
  },
  {
   "cell_type": "code",
   "execution_count": null,
   "metadata": {},
   "outputs": [],
   "source": []
  }
 ],
 "metadata": {
  "kernelspec": {
   "display_name": "tnh-scholar-test",
   "language": "python",
   "name": "python3"
  },
  "language_info": {
   "codemirror_mode": {
    "name": "ipython",
    "version": 3
   },
   "file_extension": ".py",
   "mimetype": "text/x-python",
   "name": "python",
   "nbconvert_exporter": "python",
   "pygments_lexer": "ipython3",
   "version": "3.12.4"
  }
 },
 "nbformat": 4,
 "nbformat_minor": 2
}
