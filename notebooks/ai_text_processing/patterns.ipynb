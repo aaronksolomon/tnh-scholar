{
 "cells": [
  {
   "cell_type": "code",
   "execution_count": null,
   "metadata": {},
   "outputs": [],
   "source": [
    "%load_ext autoreload\n",
    "%autoreload 2"
   ]
  },
  {
   "cell_type": "code",
   "execution_count": null,
   "metadata": {},
   "outputs": [],
   "source": [
    "# Basic Exploration of the Pattern Management System\n",
    "\n",
    "# ## Importing Required Modules\n",
    "\n",
    "from pathlib import Path\n",
    "from datetime import datetime\n",
    "from tnh_scholar.ai_text_processing.patterns import (\n",
    "    Pattern,\n",
    "    GitBackedRepository,\n",
    "    PatternManager,\n",
    ")\n",
    "import logging\n",
    "import tnh_scholar.logging_config\n",
    "from tnh_scholar.logging_config import setup_logging, get_child_logger"
   ]
  },
  {
   "cell_type": "code",
   "execution_count": null,
   "metadata": {},
   "outputs": [],
   "source": [
    "setup_logging(log_level=logging.DEBUG)\n",
    "get_child_logger(\"pattern_manager_testing\")"
   ]
  },
  {
   "cell_type": "code",
   "execution_count": null,
   "metadata": {},
   "outputs": [],
   "source": [
    "# ## Setup Paths and Initialize Pattern Manager\n",
    "\n",
    "# Define a base directory for testing\n",
    "base_dir = Path(\"test_pattern_repo\")\n",
    "\n",
    "# Initialize the PatternManager\n",
    "pattern_manager = PatternManager(base_path=base_dir)"
   ]
  },
  {
   "cell_type": "code",
   "execution_count": null,
   "metadata": {},
   "outputs": [],
   "source": [
    "# ## Create and Save a Pattern\n",
    "\n",
    "instructions = \"\"\"\n",
    "# Format Text Task\n",
    "\n",
    "- Format this Dharma talk by {{speaker}} into clear and eloquent paragraphs.\n",
    "\"\"\"\n",
    "\n",
    "# Create a new message\n",
    "test_pattern = Pattern(\n",
    "    name = \"format_paragraphs\", \n",
    "    instructions=instructions\n",
    ")\n",
    "\n",
    "print(f\"Created Pattern:\\n{test_pattern}\")"
   ]
  },
  {
   "cell_type": "code",
   "execution_count": null,
   "metadata": {},
   "outputs": [],
   "source": [
    "pattern_manager.base_path"
   ]
  },
  {
   "cell_type": "code",
   "execution_count": null,
   "metadata": {},
   "outputs": [],
   "source": [
    "# Save the pattern\n",
    "pattern_path = pattern_manager.save_pattern(test_pattern, \"format\")"
   ]
  },
  {
   "cell_type": "code",
   "execution_count": null,
   "metadata": {},
   "outputs": [],
   "source": [
    "pattern_path"
   ]
  },
  {
   "cell_type": "code",
   "execution_count": null,
   "metadata": {},
   "outputs": [],
   "source": [
    "pattern_manager._normalize_path(pattern_path)"
   ]
  },
  {
   "cell_type": "code",
   "execution_count": null,
   "metadata": {},
   "outputs": [],
   "source": [
    "# Load the saved message\n",
    "\n",
    "loaded_pattern = pattern_manager.load_pattern(test_pattern.name)\n",
    "print(f\"Loaded Message:\\n{loaded_pattern}\")\n"
   ]
  },
  {
   "cell_type": "code",
   "execution_count": null,
   "metadata": {},
   "outputs": [],
   "source": [
    "# ## Explore Git Versioning\n",
    "\n",
    "# show the version history of the message\n",
    "pattern_manager.show_pattern_history(test_pattern.name)"
   ]
  },
  {
   "cell_type": "code",
   "execution_count": null,
   "metadata": {},
   "outputs": [],
   "source": [
    "# ## Clean Up\n",
    "\n",
    "# Optionally, delete the test repository and files\n",
    "import shutil\n",
    "shutil.rmtree(base_dir)\n",
    "print(f\"Cleaned up test repository: {base_dir}\")"
   ]
  },
  {
   "cell_type": "code",
   "execution_count": null,
   "metadata": {},
   "outputs": [],
   "source": []
  }
 ],
 "metadata": {
  "kernelspec": {
   "display_name": "tnh-scholar-test",
   "language": "python",
   "name": "python3"
  },
  "language_info": {
   "codemirror_mode": {
    "name": "ipython",
    "version": 3
   },
   "file_extension": ".py",
   "mimetype": "text/x-python",
   "name": "python",
   "nbconvert_exporter": "python",
   "pygments_lexer": "ipython3",
   "version": "3.12.4"
  }
 },
 "nbformat": 4,
 "nbformat_minor": 2
}
