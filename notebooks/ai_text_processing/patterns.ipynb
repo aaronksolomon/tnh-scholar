{
 "cells": [
  {
   "cell_type": "code",
   "execution_count": 23,
   "metadata": {},
   "outputs": [
    {
     "name": "stdout",
     "output_type": "stream",
     "text": [
      "The autoreload extension is already loaded. To reload it, use:\n",
      "  %reload_ext autoreload\n"
     ]
    }
   ],
   "source": [
    "%load_ext autoreload\n",
    "%autoreload 2"
   ]
  },
  {
   "cell_type": "code",
   "execution_count": 24,
   "metadata": {},
   "outputs": [],
   "source": [
    "# Basic Exploration of the Pattern Management System\n",
    "\n",
    "# ## Importing Required Modules\n",
    "\n",
    "from pathlib import Path\n",
    "from datetime import datetime\n",
    "from tnh_scholar.openai_text_processing.patterns import (\n",
    "    Pattern,\n",
    "    GitBackedRepository,\n",
    "    PatternManager,\n",
    ")\n",
    "import logging\n",
    "import tnh_scholar.logging_config\n",
    "from tnh_scholar.logging_config import setup_logging, get_child_logger"
   ]
  },
  {
   "cell_type": "code",
   "execution_count": 25,
   "metadata": {},
   "outputs": [
    {
     "name": "stderr",
     "output_type": "stream",
     "text": [
      "2024-12-31 08:16:25,009 - tnh.pattern_manager_testing - \u001b[1;32mDEBUG\u001b[0m - Created logger with name: tnh.pattern_manager_testing\u001b[0m\n"
     ]
    },
    {
     "data": {
      "text/plain": [
       "<Logger tnh.pattern_manager_testing (DEBUG)>"
      ]
     },
     "execution_count": 25,
     "metadata": {},
     "output_type": "execute_result"
    }
   ],
   "source": [
    "setup_logging(log_level=logging.DEBUG)\n",
    "get_child_logger(\"pattern_manager_testing\")"
   ]
  },
  {
   "cell_type": "code",
   "execution_count": 36,
   "metadata": {},
   "outputs": [
    {
     "name": "stderr",
     "output_type": "stream",
     "text": [
      "2024-12-31 08:41:26,539 - tnh.tnh_scholar.openai_text_processing.patterns - \u001b[1;32mDEBUG\u001b[0m - Created logger with name: tnh.tnh_scholar.openai_text_processing.patterns\u001b[0m\n",
      "2024-12-31 08:41:26,678 - tnh.tnh_scholar.openai_text_processing.patterns - \u001b[1;32mDEBUG\u001b[0m - Connected to existing Git repository at /Users/phapman/Desktop/tnh-scholar/notebooks/ai_text_processing/test_pattern_repo\u001b[0m\n",
      "2024-12-31 08:41:26,678 - tnh.tnh_scholar.openai_text_processing.patterns - \u001b[36mINFO\u001b[0m - Initialized pattern management system at test_pattern_repo\u001b[0m\n"
     ]
    }
   ],
   "source": [
    "# ## Setup Paths and Initialize Pattern Manager\n",
    "\n",
    "# Define a base directory for testing\n",
    "base_dir = Path(\"test_pattern_repo\")\n",
    "\n",
    "# Initialize the PatternManager\n",
    "pattern_manager = PatternManager(base_path=base_dir)"
   ]
  },
  {
   "cell_type": "code",
   "execution_count": 27,
   "metadata": {},
   "outputs": [
    {
     "name": "stdout",
     "output_type": "stream",
     "text": [
      "Created Pattern:\n",
      "Pattern(name='format_paragraphs', instructions='\\n# Format Text Task\\n\\n- Format this Dharma talk by {{speaker}} into clear and eloquent paragraphs.\\n', template_fields={})\n"
     ]
    }
   ],
   "source": [
    "# ## Create and Save a Pattern\n",
    "\n",
    "instructions = \"\"\"\n",
    "# Format Text Task\n",
    "\n",
    "- Format this Dharma talk by {{speaker}} into clear and eloquent paragraphs.\n",
    "\"\"\"\n",
    "\n",
    "# Create a new message\n",
    "test_pattern = Pattern(\n",
    "    name = \"format_paragraphs\", \n",
    "    instructions=instructions\n",
    ")\n",
    "\n",
    "print(f\"Created Pattern:\\n{test_pattern}\")"
   ]
  },
  {
   "cell_type": "code",
   "execution_count": 28,
   "metadata": {},
   "outputs": [
    {
     "data": {
      "text/plain": [
       "PosixPath('/Users/phapman/Desktop/tnh-scholar/notebooks/ai_text_processing/test_pattern_repo')"
      ]
     },
     "execution_count": 28,
     "metadata": {},
     "output_type": "execute_result"
    }
   ],
   "source": [
    "pattern_manager.base_path"
   ]
  },
  {
   "cell_type": "code",
   "execution_count": 29,
   "metadata": {},
   "outputs": [
    {
     "name": "stderr",
     "output_type": "stream",
     "text": [
      "2024-12-31 08:16:25,063 - tnh.tnh_scholar.openai_text_processing.patterns - \u001b[1;32mDEBUG\u001b[0m - Found pattern file for ID format_paragraphs at: /Users/phapman/Desktop/tnh-scholar/notebooks/ai_text_processing/test_pattern_repo/format/format_paragraphs.md\u001b[0m\n",
      "2024-12-31 08:16:25,064 - tnh.tnh_scholar.openai_text_processing.patterns - \u001b[1;32mDEBUG\u001b[0m - Acquired lock for /Users/phapman/Desktop/tnh-scholar/notebooks/ai_text_processing/test_pattern_repo/format/format_paragraphs.md\u001b[0m\n",
      "2024-12-31 08:16:25,109 - tnh.tnh_scholar.openai_text_processing.patterns - \u001b[36mINFO\u001b[0m - Detected changes in format/format_paragraphs.md, updating version control.\u001b[0m\n",
      "2024-12-31 08:16:25,138 - tnh.tnh_scholar.openai_text_processing.patterns - \u001b[36mINFO\u001b[0m - Committed changes to /Users/phapman/Desktop/tnh-scholar/notebooks/ai_text_processing/test_pattern_repo/format/format_paragraphs.md: 7120d04ceaa1c329bf74c630d9b64672c9e5ebb9\u001b[0m\n",
      "2024-12-31 08:16:25,139 - tnh.tnh_scholar.openai_text_processing.patterns - \u001b[36mINFO\u001b[0m - Pattern saved at /Users/phapman/Desktop/tnh-scholar/notebooks/ai_text_processing/test_pattern_repo/format/format_paragraphs.md\u001b[0m\n",
      "2024-12-31 08:16:25,139 - tnh.tnh_scholar.openai_text_processing.patterns - \u001b[1;32mDEBUG\u001b[0m - Released lock for /Users/phapman/Desktop/tnh-scholar/notebooks/ai_text_processing/test_pattern_repo/format/format_paragraphs.md\u001b[0m\n"
     ]
    }
   ],
   "source": [
    "# Save the pattern\n",
    "pattern_path = pattern_manager.save_pattern(test_pattern, \"format\")"
   ]
  },
  {
   "cell_type": "code",
   "execution_count": 30,
   "metadata": {},
   "outputs": [
    {
     "data": {
      "text/plain": [
       "PosixPath('format/format_paragraphs.md')"
      ]
     },
     "execution_count": 30,
     "metadata": {},
     "output_type": "execute_result"
    }
   ],
   "source": [
    "pattern_path"
   ]
  },
  {
   "cell_type": "code",
   "execution_count": 31,
   "metadata": {},
   "outputs": [
    {
     "data": {
      "text/plain": [
       "PosixPath('/Users/phapman/Desktop/tnh-scholar/notebooks/ai_text_processing/test_pattern_repo/format/format_paragraphs.md')"
      ]
     },
     "execution_count": 31,
     "metadata": {},
     "output_type": "execute_result"
    }
   ],
   "source": [
    "pattern_manager._normalize_path(pattern_path)"
   ]
  },
  {
   "cell_type": "code",
   "execution_count": 32,
   "metadata": {},
   "outputs": [
    {
     "name": "stderr",
     "output_type": "stream",
     "text": [
      "2024-12-31 08:16:25,179 - tnh.tnh_scholar.openai_text_processing.patterns - \u001b[1;32mDEBUG\u001b[0m - Found pattern file for ID format_paragraphs at: /Users/phapman/Desktop/tnh-scholar/notebooks/ai_text_processing/test_pattern_repo/format/format_paragraphs.md\u001b[0m\n",
      "2024-12-31 08:16:25,180 - tnh.tnh_scholar.openai_text_processing.patterns - \u001b[1;32mDEBUG\u001b[0m - Acquired lock for /Users/phapman/Desktop/tnh-scholar/notebooks/ai_text_processing/test_pattern_repo/format/format_paragraphs.md\u001b[0m\n",
      "2024-12-31 08:16:25,180 - tnh.tnh_scholar.openai_text_processing.patterns - \u001b[1;32mDEBUG\u001b[0m - Released lock for /Users/phapman/Desktop/tnh-scholar/notebooks/ai_text_processing/test_pattern_repo/format/format_paragraphs.md\u001b[0m\n"
     ]
    },
    {
     "name": "stdout",
     "output_type": "stream",
     "text": [
      "Loaded Message:\n",
      "Pattern(name='format_paragraphs', instructions='\\n# Format Text Task\\n\\n- Format this Dharma talk by {{speaker}} into clear and eloquent paragraphs.\\n', template_fields={})\n"
     ]
    }
   ],
   "source": [
    "# Load the saved message\n",
    "\n",
    "loaded_pattern = pattern_manager.load_pattern(test_pattern.name)\n",
    "print(f\"Loaded Message:\\n{loaded_pattern}\")\n"
   ]
  },
  {
   "cell_type": "code",
   "execution_count": 37,
   "metadata": {},
   "outputs": [
    {
     "name": "stderr",
     "output_type": "stream",
     "text": [
      "2024-12-31 08:41:33,304 - tnh.tnh_scholar.openai_text_processing.patterns - \u001b[1;32mDEBUG\u001b[0m - Found pattern file for ID format_paragraphs at: /Users/phapman/Desktop/tnh-scholar/notebooks/ai_text_processing/test_pattern_repo/format/format_paragraphs.md\u001b[0m\n"
     ]
    },
    {
     "name": "stdout",
     "output_type": "stream",
     "text": [
      "\n",
      "Commit 7120d04c (2024-12-31 08:16:25):\n",
      "Message: Update file format_paragraphs\n",
      "\n",
      "Changes:\n",
      " format/format_paragraphs.md | 7 +++----\n",
      " 1 file changed, 3 insertions(+), 4 deletions(-)\n",
      "\n",
      "Detailed diff:\n",
      "\u001b[1mdiff --git a/format/format_paragraphs.md b/format/format_paragraphs.md\u001b[m\n",
      "\u001b[1mindex 3fe0b69..028dff2 100644\u001b[m\n",
      "\u001b[1m--- a/format/format_paragraphs.md\u001b[m\n",
      "\u001b[1m+++ b/format/format_paragraphs.md\u001b[m\n",
      "\u001b[36m@@ -1,5 +1,4 @@\u001b[m\n",
      "\n",
      "# Format \u001b[31m[-text task-]\u001b[m\n",
      "\u001b[31m[-    -]\u001b[m\n",
      "\u001b[31m[-    - Format this Dharma talk by {{speaker}} into clear and eloquent paragraphs.-]\u001b[m\u001b[32m{+Text Task+}\u001b[m\n",
      "\n",
      "\u001b[32m{+- Format this Dharma talk by {{speaker}} into clear and eloquent paragraphs.+}\u001b[m\n",
      "\u001b[0m--------------------------------------------------------------------------------\n",
      "\n",
      "Commit 3d2c083c (2024-12-31 08:14:55):\n",
      "Message: Update file format_paragraphs\n",
      "\n",
      "Changes:\n",
      " format/format_paragraphs.md | 4 ++--\n",
      " 1 file changed, 2 insertions(+), 2 deletions(-)\n",
      "\n",
      "Detailed diff:\n",
      "\u001b[1mdiff --git a/format/format_paragraphs.md b/format/format_paragraphs.md\u001b[m\n",
      "\u001b[1mindex cc34539..3fe0b69 100644\u001b[m\n",
      "\u001b[1m--- a/format/format_paragraphs.md\u001b[m\n",
      "\u001b[1m+++ b/format/format_paragraphs.md\u001b[m\n",
      "\u001b[36m@@ -1,5 +1,5 @@\u001b[m\n",
      "\n",
      "    # Format text task\n",
      "    \u001b[m\n",
      "    - Format this Dharma talk by {{speaker}} into clear and eloquent paragraphs.\n",
      "    \u001b[m\n",
      "\u001b[0m--------------------------------------------------------------------------------\n",
      "\n",
      "Commit 5be1a127 (2024-12-30 20:55:44):\n",
      "Message: Update file format_paragraphs\n",
      "\n",
      "Changes:\n",
      " format/format_paragraphs.md | 4 ++--\n",
      " 1 file changed, 2 insertions(+), 2 deletions(-)\n",
      "\n",
      "Detailed diff:\n",
      "\u001b[1mdiff --git a/format/format_paragraphs.md b/format/format_paragraphs.md\u001b[m\n",
      "\u001b[1mindex 3fe0b69..cc34539 100644\u001b[m\n",
      "\u001b[1m--- a/format/format_paragraphs.md\u001b[m\n",
      "\u001b[1m+++ b/format/format_paragraphs.md\u001b[m\n",
      "\u001b[36m@@ -1,5 +1,5 @@\u001b[m\n",
      "\n",
      "# Format text task\n",
      "    \u001b[m\n",
      "- Format this Dharma talk by {{speaker}} into clear and eloquent paragraphs.\n",
      "    \u001b[m\n",
      "\u001b[0m--------------------------------------------------------------------------------\n",
      "\n",
      "Commit 7e5cf7ba (2024-12-30 20:37:44):\n",
      "Message: Update pattern format_paragraphs\n",
      "\n",
      "Changes:\n",
      " format/format_paragraphs.md | 5 +++++\n",
      " 1 file changed, 5 insertions(+)\n",
      "\n",
      "Detailed diff:\n",
      "\u001b[1mdiff --git a/format/format_paragraphs.md b/format/format_paragraphs.md\u001b[m\n",
      "\u001b[1mnew file mode 100644\u001b[m\n",
      "\u001b[1mindex 0000000..3fe0b69\u001b[m\n",
      "\u001b[1m--- /dev/null\u001b[m\n",
      "\u001b[1m+++ b/format/format_paragraphs.md\u001b[m\n",
      "\u001b[36m@@ -0,0 +1,5 @@\u001b[m\n",
      "\n",
      "    \u001b[32m{+# Format text task+}\u001b[m\n",
      "\u001b[32m{+    +}\u001b[m\n",
      "\u001b[32m{+    - Format this Dharma talk by {{speaker}} into clear and eloquent paragraphs.+}\u001b[m\n",
      "    \n",
      "\u001b[0m--------------------------------------------------------------------------------\n"
     ]
    }
   ],
   "source": [
    "# ## Explore Git Versioning\n",
    "\n",
    "# show the version history of the message\n",
    "pattern_manager.show_pattern_history(test_pattern.name)"
   ]
  },
  {
   "cell_type": "code",
   "execution_count": 7,
   "metadata": {},
   "outputs": [
    {
     "name": "stdout",
     "output_type": "stream",
     "text": [
      "Cleaned up test repository: test_pattern_repo\n"
     ]
    }
   ],
   "source": [
    "# ## Clean Up\n",
    "\n",
    "# Optionally, delete the test repository and files\n",
    "import shutil\n",
    "shutil.rmtree(base_dir)\n",
    "print(f\"Cleaned up test repository: {base_dir}\")"
   ]
  },
  {
   "cell_type": "code",
   "execution_count": null,
   "metadata": {},
   "outputs": [],
   "source": []
  }
 ],
 "metadata": {
  "kernelspec": {
   "display_name": "tnh-scholar-test",
   "language": "python",
   "name": "python3"
  },
  "language_info": {
   "codemirror_mode": {
    "name": "ipython",
    "version": 3
   },
   "file_extension": ".py",
   "mimetype": "text/x-python",
   "name": "python",
   "nbconvert_exporter": "python",
   "pygments_lexer": "ipython3",
   "version": "3.12.4"
  }
 },
 "nbformat": 4,
 "nbformat_minor": 2
}
