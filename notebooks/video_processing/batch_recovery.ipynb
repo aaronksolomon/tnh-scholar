{
 "cells": [
  {
   "cell_type": "code",
   "execution_count": 4,
   "metadata": {},
   "outputs": [],
   "source": [
    "from data_processing.gpt_processing import token_count, get_completed_batches, get_batch_response, run_immediate_chat_process, run_immediate_completion_simple"
   ]
  },
  {
   "cell_type": "code",
   "execution_count": 5,
   "metadata": {},
   "outputs": [
    {
     "data": {
      "text/plain": [
       "ChatCompletion(id='chatcmpl-AdgnaEk62Qz9VVce8NZBFudAZZOnZ', choices=[Choice(finish_reason='stop', index=0, logprobs=None, message=ChatCompletionMessage(content=\"Of course! Deriving the number pi (π) is a fascinating journey into geometry and mathematics. Pi is the ratio of the circumference of a circle to its diameter, and it's an irrational number, meaning it has infinite, non-repeating decimal places. Here's a classical way to understand how pi can be derived conceptually:\\n\\n### Geometric Approach\\n\\n1. **Circle Definition:**\\n   Imagine a circle with a diameter of 1 unit. According to the definition of pi, the circumference (C) of this circle is pi times the diameter. So, C = π * 1 = π.\\n\\n2. **Inscribed and Circumscribed Polygons:**\\n   To approximate pi, you can inscribe a regular polygon (like a hexagon) within the circle and circumscribe a similar polygon around the circle. By calculating the perimeters of these polygons, you can obtain lower and upper bounds for the circumference.\\n\\n3. **Increasing the Number of Sides:**\\n   As the number of sides of these polygons increases, their perimeters will approach the actual circumference of the circle. For a given number of sides n, you use trigonometry to calculate these perimeters.\\n\\n4. **Archimedes' Method:**\\n   Archimedes famously used this technique with polygons of up to 96 sides, calculating both inscribed and circumscribed perimeters, thereby bracketing π between two values. The more sides you use, the closer you get to pi.\\n\\n### Calculus Approach\\n\\n1. **Integration:**\\n   In calculus, pi can be derived by integrating certain functions. Consider the function for a semicircle, \\\\( y = \\\\sqrt{1 - x^2} \\\\), over the interval from -1 to 1. The area under this curve gives half the area of a circle with radius 1. Integrate to find the area:\\n\\n   \\\\[\\n   \\\\text{Area} = \\\\int_{-1}^{1} \\\\sqrt{1 - x^2} \\\\, dx\\n   \\\\]\\n\\n   This results in π, since it's half the area of a circle \\\\( A = \\\\pi r^2 \\\\) where \\\\( r = 1 \\\\).\\n\\n### Series Approach\\n\\n1. **Infinite Series:**\\n   Pi can also be derived using infinite series. One famous series is the Gregory-Leibniz series:\\n\\n   \\\\[\\n   \\\\frac{\\\\pi}{4} = 1 - \\\\frac{1}{3} + \\\\frac{1}{5} - \\\\frac{1}{7} + \\\\cdots\\n   \\\\]\\n\\n   This series converges very slowly to π, but it's a classic example of how infinite sums can approximate real numbers.\\n\\n2. **More Efficient Series:**\\n   You might also encounter the more rapidly converging series, such as those derived from the arctan function:\\n\\n   \\\\[\\n   \\\\pi = 4 \\\\left( 1 - \\\\frac{1}{3} + \\\\frac{1}{5} - \\\\frac{1}{7} + \\\\cdots \\\\right)\\n   \\\\]\\n\\n   Or using properties of inverse trigonometric functions to derive Machin's formula:\\n   \\n   \\\\[\\n   \\\\frac{\\\\pi}{4} = 4 \\\\cdot \\\\arctan\\\\left(\\\\frac{1}{5}\\\\right) - \\\\arctan\\\\left(\\\\frac{1}{239}\\\\right)\\n   \\\\]\\n\\nThese approaches—geometric, calculus-based, and series—offer a rich insight into how mathematicians have historically understood and calculated pi. It's a great example of the interplay between pure mathematics and practical geometry. If you have questions about any of these methods or would like to dive deeper into one, let me know!\", refusal=None, role='assistant', audio=None, function_call=None, tool_calls=None))], created=1734022674, model='gpt-4o-2024-08-06', object='chat.completion', service_tier=None, system_fingerprint='fp_f785eb5f47', usage=CompletionUsage(completion_tokens=759, prompt_tokens=30, total_tokens=789, completion_tokens_details=CompletionTokensDetails(accepted_prediction_tokens=0, audio_tokens=0, reasoning_tokens=0, rejected_prediction_tokens=0), prompt_tokens_details=PromptTokensDetails(audio_tokens=0, cached_tokens=0)))"
      ]
     },
     "execution_count": 5,
     "metadata": {},
     "output_type": "execute_result"
    }
   ],
   "source": [
    "run_immediate_completion_simple(\"you are a friendly math tutor\", \"give an explanation of how to derive the mathematical number 'pi'.\")"
   ]
  },
  {
   "cell_type": "code",
   "execution_count": 2,
   "metadata": {},
   "outputs": [
    {
     "data": {
      "text/plain": [
       "[]"
      ]
     },
     "execution_count": 2,
     "metadata": {},
     "output_type": "execute_result"
    }
   ],
   "source": [
    "completed = get_completed_batches()\n",
    "completed"
   ]
  },
  {
   "cell_type": "code",
   "execution_count": 3,
   "metadata": {},
   "outputs": [
    {
     "ename": "IndexError",
     "evalue": "list index out of range",
     "output_type": "error",
     "traceback": [
      "\u001b[0;31m---------------------------------------------------------------------------\u001b[0m",
      "\u001b[0;31mIndexError\u001b[0m                                Traceback (most recent call last)",
      "Cell \u001b[0;32mIn[3], line 1\u001b[0m\n\u001b[0;32m----> 1\u001b[0m resp \u001b[38;5;241m=\u001b[39m get_batch_response(\u001b[43mcompleted\u001b[49m\u001b[43m[\u001b[49m\u001b[38;5;241;43m1\u001b[39;49m\u001b[43m]\u001b[49m[\u001b[38;5;124m'\u001b[39m\u001b[38;5;124mid\u001b[39m\u001b[38;5;124m'\u001b[39m])\n",
      "\u001b[0;31mIndexError\u001b[0m: list index out of range"
     ]
    }
   ],
   "source": [
    "resp = get_batch_response(completed[1]['id'])"
   ]
  },
  {
   "cell_type": "code",
   "execution_count": 14,
   "metadata": {},
   "outputs": [
    {
     "name": "stdout",
     "output_type": "stream",
     "text": [
      "[Bell]\n",
      "[Bell]\n",
      "[Bell]\n",
      "\n",
      "Namo Shakyamuni Buddha,\n",
      "Revered Sangha,\n",
      "Dear Noble Community,\n",
      "\n",
      "Today is the 4th of August, 2024.\n",
      "\n",
      "There are many fascinating stories about meditation that I would like to share. Consider this: a regular customer walks into a fine dining restaurant, acknowledging its reputation for culinary excellence. The chef, revered as the best, prepares an exquisite banquet. But this familiar customer surprises everyone by asking the owner to taste their own food.\n",
      "\n",
      "The owner, startled, questions the request. Is the food too salty? Is the presentation unappealing? Is it the drinks that fail to satisfy? Finally, the strange mystery is unveiled: there were no utensils provided, no spoon or plate to try the delicious meal. This revelation reminds us of how, in moments of tranquility, we may remember the simplicity of forgotten utensils, sparking a reflection on our practice and preparation.\n",
      "\n",
      "In the realm of our spiritual practice, everything might seem perfect: practitioners have gathered, teachers are ready to impart wisdom. Yet, sometimes, we lack the tools needed to truly taste the essence of our teachings, similar to having a sumptuous meal without any utensils.\n",
      "\n",
      "This is reminiscent of an Eastern or Western dining tradition without necessary implements -it sounds amusing, but it offers insight into our spiritual lives. We often rely on external conditions for joy and happiness, yet overlook that fulfillment and contentment spring from within. The true essence lies not in external objects but in our own equipped faculties for mind and body.\n",
      "\n",
      "Wealth, family, possessions - they provide perceived happiness, yet true peace is not born from these external conditions. The nature of internal tranquility depends on nurturing our own mind and spirit at their core level.\n",
      "\n",
      "In Buddhist terms, it's the internal condition, the ability to nurture consciousness within each of us. The same circumstances, the same conditions, yet we live a life of bliss when we cultivate inner peace. Without that, despite all comforts, our life may still flounder, bogged down.\n",
      "\n",
      "Hellish states or heavenly ones are not dictated by external factors but by our inner strength. This inner power is not a divine gift, but something born from personal cultivation, from absorbing the Buddhist teachings and practice.\n",
      "\n",
      "Though the feast stands ready and waiting, without the right tools, we're headed for starvation. 'Sơn hào hải vị' – the finest delicacies. This narrative offers a reflection on the happiness of human life, not sourced from external conditions, but the maturity of consciousness.\n",
      "\n",
      "Whether rich or poor, young or old, living in a monastery or bustling urban streets, one can find happiness with the right internal framework. Absent this, even residing in the heavenly realms can become a burdened existence.\n",
      "\n",
      "This leads us to another key point: mature understanding develops through nurturing, never as a gift from birth or divine benevolence. Growing physically relies on good nutrition. However, intellectual, emotional, and spiritual maturity require conscious nurturing.\n",
      "\n",
      "Emotional maturity, essential for the human race, extends beyond familial ties. As we mature, our affection should reach beyond, embracing society and forming friendships and connections in various aspects of life. Limitless affection brings warmth and broadens the development of one's consciousness.\n",
      "\n",
      "Consider someone with a narrow mind, unable to form connections beyond their family circle. Such a person lives in suspicion and isolation, while those who are open-hearted thrive in relationships, succeeding in business, politics, or personal endeavors because of their ability to connect.\n",
      "\n",
      "Yet, without a developed intellect, love can become possessive, removing freedom from those we care for. Thus, the cultivation of intellect is essential. Mature intuition goes hand-in-hand with mature affection and finds a stable path on one’s spiritual journey.\n",
      "\n",
      "Failure to integrate spiritual growth leads intellect to merely feed into desires and ignorance. When emotional maturity combines with spiritual growth, it transcends possessiveness, turning love into a sweet breeze that nurtures rather than captures.\n",
      "\n",
      "A woman once told me she found true love in her later years when compassion dawned during illness and age. It was not tied to physical attraction or youth but came from a deep sense of compassion and understanding that developed over time.\n",
      "\n",
      "Spiritual practice imbues both affection and intellect with depth, preventing them from becoming stale or claustrophobic. Peace and happiness become pervasive, manifest in mundane activities like cooking or housekeeping, transforming every act into an opportunity for mindfulness and joy.\n",
      "\n",
      "Spirituality is intrinsic to all religions, offering paths that refine one’s life meaning. Finding a spiritual avenue expands our capacity for happiness and contributes to lifelong joy and love. External achievements and material wealth provide transient pleasures but leave us yearning for something deeper.\n",
      "\n",
      "True transformation happens when spiritual practice enters our life, altering not what we do but how we experience each moment. With spiritual insight, every day becomes a field of boundless potential, and our delight in the world's small wonders grows infinite.\n",
      "\n",
      "Ultimately, our journey is not towards a distant land but back to this very moment, receiving the breath, observing it, and through it, discovering an endless capacity for love and wisdom.\n",
      "\n",
      "I thank you all for your presence today and hope these words inspire you to nurture your inner life, turning every moment into a profound source of peace.\n",
      "\n",
      "[Bell]\n",
      "[Bell]\n"
     ]
    }
   ],
   "source": [
    "print(resp[0])"
   ]
  },
  {
   "cell_type": "code",
   "execution_count": 15,
   "metadata": {},
   "outputs": [
    {
     "data": {
      "text/plain": [
       "1059"
      ]
     },
     "execution_count": 15,
     "metadata": {},
     "output_type": "execute_result"
    }
   ],
   "source": [
    "token_count(resp[0])"
   ]
  },
  {
   "cell_type": "code",
   "execution_count": null,
   "metadata": {},
   "outputs": [],
   "source": [
    "from data_processing.text_processing import get_text_from_file"
   ]
  },
  {
   "cell_type": "code",
   "execution_count": null,
   "metadata": {},
   "outputs": [],
   "source": [
    "from data_processing.text_processing"
   ]
  }
 ],
 "metadata": {
  "kernelspec": {
   "display_name": "tnh-scholar",
   "language": "python",
   "name": "python3"
  },
  "language_info": {
   "codemirror_mode": {
    "name": "ipython",
    "version": 3
   },
   "file_extension": ".py",
   "mimetype": "text/x-python",
   "name": "python",
   "nbconvert_exporter": "python",
   "pygments_lexer": "ipython3",
   "version": "3.11.10"
  }
 },
 "nbformat": 4,
 "nbformat_minor": 2
}
