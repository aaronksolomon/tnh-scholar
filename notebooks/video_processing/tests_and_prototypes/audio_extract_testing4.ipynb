{
 "cells": [
  {
   "cell_type": "code",
   "execution_count": null,
   "metadata": {},
   "outputs": [],
   "source": [
    "%load_ext autoreload\n",
    "%autoreload 2"
   ]
  },
  {
   "cell_type": "code",
   "execution_count": null,
   "metadata": {},
   "outputs": [],
   "source": [
    "from pathlib import Path\n",
    "from typing import List, Dict\n",
    "import logging\n",
    "import json"
   ]
  },
  {
   "cell_type": "code",
   "execution_count": null,
   "metadata": {},
   "outputs": [],
   "source": [
    "from dp_video_processing import get_youtube_urls_from_file, download_audio_yt, detect_boundaries, split_audio_at_boundaries, process_audio_chunks, split_on_silence, postprocess_text"
   ]
  },
  {
   "cell_type": "code",
   "execution_count": null,
   "metadata": {},
   "outputs": [],
   "source": [
    "from data_processing.gpt_processing import token_count"
   ]
  },
  {
   "cell_type": "code",
   "execution_count": null,
   "metadata": {},
   "outputs": [],
   "source": [
    "# Configure main logger using setup_logger\n",
    "import logging_config\n",
    "from logging_config import setup_logging\n",
    "from logging_config import get_child_logger"
   ]
  },
  {
   "cell_type": "code",
   "execution_count": null,
   "metadata": {},
   "outputs": [],
   "source": [
    "setup_logging(log_filename=\"audio_extract_testing.log\", log_level=logging.DEBUG)"
   ]
  },
  {
   "cell_type": "code",
   "execution_count": null,
   "metadata": {},
   "outputs": [],
   "source": [
    "logger = get_child_logger(\"audio_extract_test\")"
   ]
  },
  {
   "cell_type": "code",
   "execution_count": null,
   "metadata": {},
   "outputs": [],
   "source": [
    "audio_storage_dir = Path(\"processed_videos/video_transcriptions\")"
   ]
  },
  {
   "cell_type": "code",
   "execution_count": null,
   "metadata": {},
   "outputs": [],
   "source": [
    "talk_name = \"'Awakening Together' Family Retreat Dharma Talk ｜ Sister Kính Nghiêm ｜ 2024-06-27\""
   ]
  },
  {
   "cell_type": "code",
   "execution_count": null,
   "metadata": {},
   "outputs": [],
   "source": [
    "audio_working_dir = audio_storage_dir / talk_name"
   ]
  },
  {
   "cell_type": "code",
   "execution_count": null,
   "metadata": {},
   "outputs": [],
   "source": [
    "audio_file_path = audio_working_dir / f\"{talk_name}.mp3\""
   ]
  },
  {
   "cell_type": "code",
   "execution_count": null,
   "metadata": {},
   "outputs": [],
   "source": [
    "audio_file_path.exists()"
   ]
  },
  {
   "cell_type": "code",
   "execution_count": null,
   "metadata": {},
   "outputs": [],
   "source": [
    "# boundaries = detect_boundaries_hf(audio_file_path, language=\"en\")"
   ]
  },
  {
   "cell_type": "code",
   "execution_count": null,
   "metadata": {},
   "outputs": [],
   "source": [
    "# chunks_directory = split_on_silence(audio_file_path, silence_thresh=-40, min_silence_len=1000)"
   ]
  },
  {
   "cell_type": "code",
   "execution_count": null,
   "metadata": {},
   "outputs": [],
   "source": [
    "# chunks_directory"
   ]
  },
  {
   "cell_type": "code",
   "execution_count": null,
   "metadata": {},
   "outputs": [],
   "source": [
    "# split_audio_at_boundaries(audio_file_path, boundaries, test_output_dir, max_duration=1 * 60)"
   ]
  },
  {
   "cell_type": "code",
   "execution_count": null,
   "metadata": {},
   "outputs": [],
   "source": [
    "# output_transcription_file = Path(\"venerable_test_vi.txt\")\n",
    "# output_jsonl_file = Path(\"venerable_test_vi.jsonl\")\n",
    "\n",
    "# process_audio_chunks(\n",
    "#     directory=chunks_directory,\n",
    "#     output_file=output_transcription_file,\n",
    "#     jsonl_file=output_jsonl_file,\n",
    "#     prompt=\"Tiếng Việt\",\n",
    "#     translate=False\n",
    "# )"
   ]
  },
  {
   "cell_type": "code",
   "execution_count": null,
   "metadata": {},
   "outputs": [],
   "source": [
    "audio_working_dir"
   ]
  },
  {
   "cell_type": "code",
   "execution_count": null,
   "metadata": {},
   "outputs": [],
   "source": [
    "transcript_path = audio_working_dir / f\"kn_test.txt\""
   ]
  },
  {
   "cell_type": "code",
   "execution_count": null,
   "metadata": {},
   "outputs": [],
   "source": [
    "transcript_path.exists()"
   ]
  },
  {
   "cell_type": "code",
   "execution_count": null,
   "metadata": {},
   "outputs": [],
   "source": [
    "post_output_path = audio_working_dir / f\"post_kn_test.txt\""
   ]
  },
  {
   "cell_type": "code",
   "execution_count": null,
   "metadata": {},
   "outputs": [],
   "source": [
    "postprocess_section_vi = \"\"\"Add <section> tags to this text where logical sections occur. Make no other changes whatsover.\"\"\""
   ]
  },
  {
   "cell_type": "code",
   "execution_count": null,
   "metadata": {},
   "outputs": [],
   "source": [
    "postprocess_instructions_vi = \"\"\"You are the world's leading expert at translating Dharma talks transcribed from spoken Vietnamese.\n",
    "\n",
    "The current text is from a Dharma talk offered by Venerable Vietnamese Monastic at Deer Park Monastery in California.\n",
    "\n",
    "Common opening salutations are \"Namo Shakyamuni Buddha,\"  \"Dear Noble Community,\" which may be expressed partly in Sanskrit, and partly in Vietnamese. \n",
    "\n",
    "Some transcriptions may be from sounds such as a bell. These can be marked as [Bell].\n",
    "\n",
    "You may have to infer the speaker's intent in order to correct transcription or speaking errors and to generate a text that most closely matches the speaker's meaning and intent,\n",
    "while still giving clear and eloquent English.\n",
    "\n",
    "Your goal is to translate the text and format it into meaningful paragraphs and correct errors (logical, transcription, or grammatical). \n",
    "You must faithfully capture the speaker's style and presentation while creating a meaningful flow using common, clear, and typical English. \n",
    "Translate faithfully and as carefully as possible. \n",
    "\n",
    "Do not leave out any content or summarize. Translate as literally as possible while maintaining good quality English and good flow. \n",
    "\n",
    "The final output should match approximately the length of the original.\n",
    "\n",
    "Your output should be a publishable and polished document.\n",
    "\n",
    "Make no other changes; add no content.\n",
    "\n",
    "Output the final text only.\"\"\""
   ]
  },
  {
   "cell_type": "code",
   "execution_count": null,
   "metadata": {},
   "outputs": [],
   "source": [
    "postprocess_instructions_en = \"\"\"You are the world's leading expert at formatting Dharma talk audio transcriptions into written text for native, and partly fluent English speakers. \n",
    "\n",
    "The current text is from a Dharma Talk offered by a Southern Californian English-speaking monastic.\n",
    "\n",
    "Format the given text into meaningful concise paragraphs. Use <p> tags to mark paragraphs.\n",
    "\n",
    "Insert <section> and <title> tags where appropriate in the text to mark natural sections in the talk; give these sections appropriate titles.\n",
    "\n",
    "Make any necessary grammatical corrections. \n",
    "\n",
    "Minimally adjust the text to create a publishable and polished document. \n",
    "\n",
    "Do not change adjectives or adverbs or otherwise change the speaker's style.\n",
    "\n",
    "Make no other changes; add no content.\n",
    "\n",
    "Output the final text only.\"\"\""
   ]
  },
  {
   "cell_type": "code",
   "execution_count": null,
   "metadata": {},
   "outputs": [],
   "source": [
    "postprocess_text(transcript_path, post_output_path, postprocess_instructions_en, batch=False)"
   ]
  },
  {
   "cell_type": "code",
   "execution_count": null,
   "metadata": {},
   "outputs": [],
   "source": []
  }
 ],
 "metadata": {
  "kernelspec": {
   "display_name": "tnh-scholar",
   "language": "python",
   "name": "python3"
  },
  "language_info": {
   "codemirror_mode": {
    "name": "ipython",
    "version": 3
   },
   "file_extension": ".py",
   "mimetype": "text/x-python",
   "name": "python",
   "nbconvert_exporter": "python",
   "pygments_lexer": "ipython3",
   "version": "3.11.10"
  }
 },
 "nbformat": 4,
 "nbformat_minor": 2
}
