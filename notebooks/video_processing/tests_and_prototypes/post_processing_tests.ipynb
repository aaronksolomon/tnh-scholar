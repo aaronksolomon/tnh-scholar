{
 "cells": [
  {
   "cell_type": "code",
   "execution_count": null,
   "metadata": {},
   "outputs": [],
   "source": [
    "from pathlib import Path\n",
    "from data_processing.text_processing import get_text_from_file\n",
    "from data_processing.gpt_processing import token_count\n",
    "from utils.json_utils import load_jsonl_to_dict"
   ]
  },
  {
   "cell_type": "code",
   "execution_count": 9,
   "metadata": {},
   "outputs": [],
   "source": [
    "processed_video_dir = Path(\"./processed_videos\")"
   ]
  },
  {
   "cell_type": "code",
   "execution_count": 10,
   "metadata": {},
   "outputs": [],
   "source": [
    "test_text = \"\"\"\n",
    "So, dear respected teacher, Thay, dear noble Sangha, today is September 15, year 2024. We are on the Day of Mindfulness in Deer Park Monastery, Esconedo, California. Do you enjoy the walking this morning? Remember last week, we have the whole week so hot, 100 degrees. This morning, I really enjoy the fresh air. Realize that some days also cool, cool air. I've been a while, we didn't have a Day of Mindfulness. Monastic brothers and sisters came to, we stayed awake. We closed our monastery for two weeks, more than two weeks. Two weeks for the trip to YMCA in Colorado State Park. We have a one-week retreat. We have a one-week nourish a monastic brownies family, hiking every day. And also we travel by bus, so four days. Two days come there, two days back. Nourish a lot of joy and peace and happiness together as a community. Today, welcome back all the siblings, friends for Day of Mindfulness. How many of you are here for the first time? Raise your hand, please. Welcome and also welcome friends. So I don't have much thing to share. Today, I share the basic practices. I'm very basic, I share the basics. I love to breathe, I love to smile, I love to walk, I love to exercise. Those kind of things, very basics. I love how to enjoy my body, small, being fresh. As a society, we're growing up and we always have a lot of pressure to learn how to be successful. We have a lot of fame, a lot of wealth. So pressure to have a lot of power, to have position in the world, so that really those elements, these qualities make you feel like you are happy. All of us sacrifice ourselves a lot to want to have those things. So we train ourselves to be successful and to have a lot of wealth, a lot of good careers, fame and power. We call, we have this and then we feel happy. Buddhism, we learn how to be happy without those things. We are all practitioners and when we train to be a happy practitioner. So today I want to share with you how to be a happy practitioner. Last whole life that I trained, I've been trained and practiced with the Sangha. We meditate and practice and we feel masterful. We don't want to do practice anymore. So practice should be very joyful and happy. I think so many of us think that we have a lot of success in life, position and wealth, have a lot of knowledge so that we can help people change the world. In Buddhism, we say that those things are actually the obstacles to help people because a lot of people, we have a lot of those things. We are not happy. We are still very suffered and fear. When we suffer a lot, we have a lot of fear. How can we help people? So be a happy practitioner can help a lot of people in the world. Because happiness, when you are there, very happy, a lot of love, a lot of compassion in your heart. Someone sits near you, he or she feels some energy. You are there, look like a stranger, but you are ready to offer a smile with a feeling of embracing. Someone benefits from that. Being too happy practitioner, actually, we need in this world. Being a happy practitioner already helps a lot of people in the world. Someone practices very happy, the first element you can think about is freshness. You are happy, you are very fresh. When you are suffering all the time, you cannot be fresh. Or we have tears, or we have worries. Someone, if you have a lot of happiness, a lot of true happiness in you, someone knows how to smile. Someone knows how to be fresh himself. So in the meditation, the first thing we do is breathing in. I see myself as a flower, and now I feel fresh. The practitioners, we practice like that every day. I think many of us, when we think about a flower, don't think that we hate the flower, right? So being a flower yourself, actually, is a practice of loving kindness towards ourselves. I see myself as a flower. I recognize this body as a flower, you know? I feel fresh. I accept who I am. And the Buddha said that all of us are the wonderful flowers of humankind. You are very unique. I am very unique. I will never be the same with the other flowers. I'm beautiful. So when you practice being your own flower, actually practice accepting who you are. And when you think about flower, you just do one thing. Cultivate the quality of freshness, the beauty. In meditation, we use a lot of images in order to look deeply, contemplate. The first image we want to contemplate, visualize ourselves as an image of a flower. In a flower, it's the first practice. Happy practitioners know how to cultivate every day. How can you maintain that freshness? For me, it's not audible. In this time, it's easy to smile, easy to be happy. As a monastic, we train ourselves. Every time when we wake up, we train ourselves to smile. We practice with different gathas. We wake up in the morning. The first thing we do, actually, I smile. And that is very simple. Actually, everybody can do it. You don't need to learn to have a diploma to certify yourself to do it. Actually, you can do it every day. But because we are so busy, we need to have something in order to be happy and to finish, to do something and to gain something in order to feel content. We are practitioners. Every day is an opportunity. In the morning, when I wake up, I've been taught that I've woken up this morning to smile. I sit on the bed, and I take a few minutes. No rush. I know that I have the whole one hour, two hours in the morning to meditate. This is my time. So I sit on my bed, and I smile to myself. At the beginning, it looks like I have to do it. But later on, actually, I love to do it because it is a very beautiful thing to offer to my body. To be myself, offer my smile. It's a kind of practice of loving kindness to our body. When I breathe out, I recognize there are 24 hours before me. Breathing in again, I vow to live deeply each moment. Breathing out, to look all beings with the eyes of compassion. That is the gatha of waking up in the morning. All the monastics, when we are there, train ourselves to practice. It looks very easy, but if you are taken away by the project, you need to finish that one. You need to do that. It means when you wake up, you think about that project already. But for us, it's an opportunity for us. When you wake up, you're supposed to offer yourself something. It's a surmise. Whatever I do, I can do later. But now, I'm alive. I wake up, I'm still alive. I think the practice to train ourselves to be smiling, that is the first element to be fresh. To offer the loving kindness to yourself. There is a practice that is our teacher, not us. But at the same time, the Buddha, is also our teacher. 26 centuries. We practice, and we still feel like we need to do this. We still need to practice. And I think thanks to that, we can feel there is something in you. Something we call the energy of mindfulness. The energy of flower. The freshness is there. So that kind of energy of mindfulness, energy of recognizing that you are the flower, that carries you the whole day. And for me, this is kind of nourishment of the meditation. It's not about labor. So I know that if I cannot be fresh, it's not much I can offer to my younger ones. Imagine the mother, you are there as a flower, fresh. Smiling at what the children get from you. You don't need to do much, but you are there, very fresh. You are the flower. You are not angry in that moment.\n",
    "\"\"\""
   ]
  },
  {
   "cell_type": "code",
   "execution_count": 3,
   "metadata": {},
   "outputs": [
    {
     "data": {
      "text/plain": [
       "7351"
      ]
     },
     "execution_count": 3,
     "metadata": {},
     "output_type": "execute_result"
    }
   ],
   "source": [
    "len(test_text)"
   ]
  },
  {
   "cell_type": "code",
   "execution_count": 11,
   "metadata": {},
   "outputs": [],
   "source": [
    "talk_data_path = processed_video_dir / \"video_transcriptions\" / \"How to be a Happy Practitioner ｜ Brother Man Tue ｜ 2024-09-15\" / \"How to be a Happy Practitioner ｜ Brother Man Tue ｜ 2024-09-15.jsonl\""
   ]
  },
  {
   "cell_type": "code",
   "execution_count": 12,
   "metadata": {},
   "outputs": [
    {
     "data": {
      "text/plain": [
       "1702"
      ]
     },
     "execution_count": 12,
     "metadata": {},
     "output_type": "execute_result"
    }
   ],
   "source": [
    "token_count(test_text)"
   ]
  },
  {
   "cell_type": "code",
   "execution_count": 14,
   "metadata": {},
   "outputs": [],
   "source": [
    "talk_data = load_jsonl_to_dict(talk_data_path)"
   ]
  },
  {
   "cell_type": "code",
   "execution_count": 16,
   "metadata": {},
   "outputs": [
    {
     "data": {
      "text/plain": [
       "list"
      ]
     },
     "execution_count": 16,
     "metadata": {},
     "output_type": "execute_result"
    }
   ],
   "source": [
    "type(talk_data)"
   ]
  },
  {
   "cell_type": "code",
   "execution_count": 20,
   "metadata": {},
   "outputs": [],
   "source": [
    "segments = [segment['text'] for segment in talk_data[0]['segments']]"
   ]
  },
  {
   "cell_type": "code",
   "execution_count": 23,
   "metadata": {},
   "outputs": [],
   "source": [
    "split_text = \"\\n\".join(segments)"
   ]
  },
  {
   "cell_type": "code",
   "execution_count": 24,
   "metadata": {},
   "outputs": [
    {
     "name": "stdout",
     "output_type": "stream",
     "text": [
      " So, dear respected teacher, Thay, dear noble Sangha, today is September 15, year 2024.\n",
      " We are on the Day of Mindfulness in Deer Park Monastery, Esconedo, California.\n",
      " Do you enjoy the walking this morning?\n",
      " Remember last week, we have the whole week so hot, 100 degrees.\n",
      " This morning, I really enjoy the fresh air.\n",
      " Realize that some days also cool, cool air.\n",
      " I've been a while, we didn't have a Day of Mindfulness.\n",
      " Monastic brothers and sisters came to, we stayed awake.\n",
      " We closed our monastery for two weeks, more than two weeks.\n",
      " Two weeks for the trip to YMCA in Colorado State Park.\n",
      " We have a one-week retreat.\n",
      " We have a one-week nourish a monastic brownies family, hiking every day.\n",
      " And also we travel by bus, so four days.\n",
      " Two days come there, two days back.\n",
      " Nourish a lot of joy and peace and happiness together as a community.\n",
      " Today, welcome back all the siblings, friends for Day of Mindfulness.\n",
      " How many of you are here for the first time?\n",
      " Raise your hand, please.\n",
      " Welcome and also welcome friends.\n",
      " So I don't have much thing to share.\n",
      " Today, I share the basic practices.\n",
      " I'm very basic, I share the basics.\n",
      " I love to breathe, I love to smile, I love to walk, I love to exercise.\n",
      " Those kind of things, very basics.\n",
      " I love how to enjoy my body, small, being fresh.\n",
      " As a society, we're growing up and we always have a lot of pressure\n",
      " to learn how to be successful.\n",
      " We have a lot of fame, a lot of wealth.\n",
      " So pressure to have a lot of power,\n",
      " to have position in the world,\n",
      " so that really those elements,\n",
      " these qualities make you feel like you are happy.\n",
      " All of us sacrifice ourselves a lot to want to have those things.\n",
      " So we train ourselves to be successful\n",
      " and to have a lot of wealth,\n",
      " a lot of good careers,\n",
      " fame and power.\n",
      " We call, we have this and then we feel happy.\n",
      " Buddhism, we learn how to be happy without those things.\n",
      " We are all practitioners\n",
      " and when we train to be a happy practitioner.\n",
      " So today I want to share with you how to be a happy practitioner.\n",
      " Last whole life that I trained,\n",
      " I've been trained and practiced with the Sangha.\n",
      " We meditate and practice and we feel masterful.\n",
      " We don't want to do practice anymore.\n",
      " So practice should be very joyful and happy.\n",
      " I think so many of us think that we have a lot of success\n",
      " in life, position and wealth,\n",
      " have a lot of knowledge\n",
      " so that we can help people change the world.\n",
      " In Buddhism, we say that those things are actually the obstacles to help people\n",
      " because a lot of people,\n",
      " we have a lot of those things.\n",
      " We are not happy.\n",
      " We are still very suffered and fear.\n",
      " When we suffer a lot,\n",
      " we have a lot of fear.\n",
      " How can we help people?\n",
      " So be a happy practitioner\n",
      " can help a lot of people in the world.\n",
      " Because happiness,\n",
      " when you are there, very happy,\n",
      " a lot of love,\n",
      " a lot of compassion in your heart.\n",
      " Someone sits near you,\n",
      " he or she feels some energy.\n",
      " You are there,\n",
      " look like a stranger,\n",
      " but you are ready to offer a smile\n",
      " with a feeling of embracing.\n",
      " Someone benefits from that.\n",
      " Being too happy practitioner,\n",
      " actually, we need\n",
      " in this world.\n",
      " Being a happy practitioner\n",
      " already helps a lot of\n",
      " people in the world.\n",
      " Someone practices very happy,\n",
      " the first element you can think about is freshness.\n",
      " You are happy, you are very fresh.\n",
      " When you are suffering all the time,\n",
      " you cannot be fresh.\n",
      " Or we have tears, or we have worries.\n",
      " Someone, if you have a lot of happiness,\n",
      " a lot of true happiness in you,\n",
      " someone knows how to smile.\n",
      " Someone knows how to be fresh himself.\n",
      " So in the meditation,\n",
      " the first thing we do\n",
      " is breathing in.\n",
      " I see myself as a flower,\n",
      " and now I feel fresh.\n",
      " The practitioners, we practice like that every day.\n",
      " I think many of us,\n",
      " when we think about a flower,\n",
      " don't think that we hate the flower, right?\n",
      " So being a flower\n",
      " yourself, actually,\n",
      " is a practice of\n",
      " loving kindness\n",
      " towards ourselves.\n",
      " I see myself as a flower.\n",
      " I recognize this body\n",
      " as a flower, you know?\n",
      " I feel fresh.\n",
      " I accept who I am.\n",
      " And the Buddha said that all of us\n",
      " are the wonderful\n",
      " flowers of humankind.\n",
      " You are very unique.\n",
      " I am very unique.\n",
      " I will never be the same with the other flowers.\n",
      " I'm beautiful.\n",
      " So when you practice being your own flower,\n",
      " actually practice accepting who you are.\n",
      " And when you think about flower,\n",
      " you just do one thing.\n",
      " Cultivate the quality of freshness,\n",
      " the beauty.\n",
      " In meditation, we use a lot of images\n",
      " in order to look deeply, contemplate.\n",
      " The first image\n",
      " we want to contemplate,\n",
      " visualize ourselves as an image of a flower.\n",
      " In a flower,\n",
      " it's the first practice.\n",
      " Happy practitioners know how to cultivate\n",
      " every day.\n",
      " How can you maintain that freshness?\n",
      " For me, it's not\n",
      " audible.\n",
      " In this time, it's easy to smile,\n",
      " easy to be happy.\n",
      " As a monastic, we train ourselves.\n",
      " Every time when we wake up,\n",
      " we train ourselves to smile.\n",
      " We practice with different gathas.\n",
      " We wake up in the morning.\n",
      " The first thing we do, actually,\n",
      " I smile.\n",
      " And that is very simple.\n",
      " Actually, everybody can do it.\n",
      " You don't need to learn to have a diploma\n",
      " to certify yourself to do it.\n",
      " Actually, you can do it every day.\n",
      " But because we are so busy,\n",
      " we need to have something in order to be happy\n",
      " and to finish,\n",
      " to do something\n",
      " and to gain something\n",
      " in order to feel content.\n",
      " We are practitioners.\n",
      " Every day is an opportunity.\n",
      " In the morning, when I wake up,\n",
      " I've been taught that I've woken up this morning\n",
      " to smile.\n",
      " I sit on the bed, and I take a few minutes.\n",
      " No rush.\n",
      " I know that I have the whole one hour,\n",
      " two hours in the morning to meditate.\n",
      " This is my time.\n",
      " So I sit on my bed, and I smile to myself.\n",
      " At the beginning, it looks like I have to do it.\n",
      " But later on, actually, I love to do it\n",
      " because it is a very beautiful thing\n",
      " to offer to my body.\n",
      " To be myself, offer my smile.\n",
      " It's a kind of practice of loving kindness\n",
      " to our body.\n",
      " When I breathe out, I recognize\n",
      " there are 24 hours\n",
      " before me.\n",
      " Breathing in again, I vow\n",
      " to live deeply each moment.\n",
      " Breathing out,\n",
      " to look all beings\n",
      " with the eyes of compassion.\n",
      " That is the gatha of waking up in the morning.\n",
      " All the monastics, when we are there,\n",
      " train ourselves to practice.\n",
      " It looks very easy, but if you are\n",
      " taken away by the project, you need to finish that one.\n",
      " You need to do that.\n",
      " It means when you wake up, you think about that project already.\n",
      " But for us,\n",
      " it's an opportunity for us.\n",
      " When you wake up,\n",
      " you're supposed to offer yourself something.\n",
      " It's a surmise.\n",
      " Whatever I do, I can do later.\n",
      " But now, I'm alive. I wake up, I'm still alive.\n",
      " I think the practice to train ourselves\n",
      " to be smiling,\n",
      " that is the first element to be fresh.\n",
      " To offer the loving kindness to yourself.\n",
      " There is a practice that is our teacher,\n",
      " not us.\n",
      " But at the same time,\n",
      " the Buddha,\n",
      " is also our teacher.\n",
      " 26\n",
      " centuries.\n",
      " We practice,\n",
      " and we still feel like we need to\n",
      " do this.\n",
      " We still need to practice.\n",
      " And I think thanks to that,\n",
      " we can feel there is something in you.\n",
      " Something we call\n",
      " the energy of\n",
      " mindfulness.\n",
      " The energy of flower.\n",
      " The freshness is there.\n",
      " So that kind of energy of mindfulness,\n",
      " energy of recognizing that you are the flower,\n",
      " that carries you the whole day.\n",
      " And for me, this is kind of nourishment\n",
      " of the meditation.\n",
      " It's not about labor.\n",
      " So I know that if I cannot be fresh,\n",
      " it's not much I can offer\n",
      " to my younger ones.\n",
      " Imagine the mother,\n",
      " you are there as a flower,\n",
      " fresh.\n",
      " Smiling at what the children get\n",
      " from you.\n",
      " You don't need to do much,\n",
      " but you are there, very fresh.\n",
      " You are the flower.\n",
      " You are not angry in that moment.\n"
     ]
    }
   ],
   "source": [
    "print(split_text)"
   ]
  },
  {
   "cell_type": "code",
   "execution_count": null,
   "metadata": {},
   "outputs": [],
   "source": []
  }
 ],
 "metadata": {
  "kernelspec": {
   "display_name": "tnh-scholar",
   "language": "python",
   "name": "python3"
  },
  "language_info": {
   "codemirror_mode": {
    "name": "ipython",
    "version": 3
   },
   "file_extension": ".py",
   "mimetype": "text/x-python",
   "name": "python",
   "nbconvert_exporter": "python",
   "pygments_lexer": "ipython3",
   "version": "3.11.10"
  }
 },
 "nbformat": 4,
 "nbformat_minor": 2
}
