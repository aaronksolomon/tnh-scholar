{
 "cells": [
  {
   "cell_type": "code",
   "execution_count": null,
   "metadata": {},
   "outputs": [],
   "source": [
    "%load_ext autoreload\n",
    "%autoreload 2"
   ]
  },
  {
   "cell_type": "code",
   "execution_count": null,
   "metadata": {},
   "outputs": [],
   "source": [
    "from pathlib import Path\n",
    "from typing import List, Dict\n",
    "import logging\n",
    "import json\n",
    "\n",
    "from pydantic import BaseModel, Field\n",
    "from typing import List, Optional\n",
    "\n",
    "from data_processing.xml_processing import wrap_lines, unwrap_lines, lines_from_wrapped_text\n",
    "from data_processing.text_processing import get_text_from_file, write_text_to_file"
   ]
  },
  {
   "cell_type": "code",
   "execution_count": null,
   "metadata": {},
   "outputs": [],
   "source": [
    "from dp_video_processing import get_youtube_urls_from_file, download_audio_yt, detect_boundaries, split_audio_at_boundaries, process_audio_chunks, split_on_silence, postprocess_text"
   ]
  },
  {
   "cell_type": "code",
   "execution_count": null,
   "metadata": {},
   "outputs": [],
   "source": [
    "from data_processing.gpt_processing import token_count"
   ]
  },
  {
   "cell_type": "code",
   "execution_count": null,
   "metadata": {},
   "outputs": [],
   "source": [
    "# Configure main logger using setup_logger\n",
    "import logging_config\n",
    "from logging_config import setup_logging\n",
    "from logging_config import get_child_logger"
   ]
  },
  {
   "cell_type": "code",
   "execution_count": null,
   "metadata": {},
   "outputs": [],
   "source": [
    "setup_logging(log_filename=\"audio_extract_testing.log\", log_level=logging.DEBUG)\n",
    "logger = get_child_logger(\"audio_extract_testing\")"
   ]
  },
  {
   "cell_type": "code",
   "execution_count": null,
   "metadata": {},
   "outputs": [],
   "source": [
    "audio_storage_dir = Path(\"processed_videos/video_transcriptions\")"
   ]
  },
  {
   "cell_type": "code",
   "execution_count": null,
   "metadata": {},
   "outputs": [],
   "source": [
    "talk_name = \"PTTT 04⧸08⧸2024 ｜ Pháp Thoại Hoà Thượng Thích Phước Tịnh ｜ TV Lộc Uyển (Làng Mai tại Mỹ)\""
   ]
  },
  {
   "cell_type": "code",
   "execution_count": null,
   "metadata": {},
   "outputs": [],
   "source": [
    "# talk_name = \"'Awakening Together' Family Retreat Dharma Talk ｜ Sister Kính Nghiêm ｜ 2024-06-27\""
   ]
  },
  {
   "cell_type": "code",
   "execution_count": null,
   "metadata": {},
   "outputs": [],
   "source": [
    "audio_working_dir = audio_storage_dir / talk_name\n",
    "print(audio_working_dir)"
   ]
  },
  {
   "cell_type": "code",
   "execution_count": null,
   "metadata": {},
   "outputs": [],
   "source": [
    "audio_file_path = audio_working_dir / f\"{talk_name}.mp3\"\n",
    "print(audio_file_path)"
   ]
  },
  {
   "cell_type": "code",
   "execution_count": null,
   "metadata": {},
   "outputs": [],
   "source": [
    "transcript_path = audio_working_dir / f\"{talk_name}.txt\"\n",
    "print(transcript_path)"
   ]
  },
  {
   "cell_type": "code",
   "execution_count": null,
   "metadata": {},
   "outputs": [],
   "source": [
    "audio_file_path.exists(), transcript_path.exists()"
   ]
  },
  {
   "cell_type": "code",
   "execution_count": null,
   "metadata": {},
   "outputs": [],
   "source": [
    "transcript_path = audio_working_dir / f\"{talk_name}.txt\"\n",
    "print(transcript_path.name)"
   ]
  },
  {
   "cell_type": "code",
   "execution_count": null,
   "metadata": {},
   "outputs": [],
   "source": [
    "wrap_transcript_path = audio_working_dir / f\"wrap_{talk_name}.txt\""
   ]
  },
  {
   "cell_type": "code",
   "execution_count": null,
   "metadata": {},
   "outputs": [],
   "source": [
    "section_output_path = audio_working_dir / f\"section_{talk_name}.json\"\n",
    "print(section_output_path)"
   ]
  },
  {
   "cell_type": "code",
   "execution_count": null,
   "metadata": {},
   "outputs": [],
   "source": []
  },
  {
   "cell_type": "code",
   "execution_count": null,
   "metadata": {},
   "outputs": [],
   "source": [
    "post_output_path = audio_working_dir / f\"format_{talk_name}.txt\""
   ]
  },
  {
   "cell_type": "code",
   "execution_count": null,
   "metadata": {},
   "outputs": [],
   "source": [
    "postprocess_section_vi = \"\"\"You are a highly skilled and meticulous assistant processing an audio transcript of a Dharma Talk given in Vietnamese.\n",
    "Each line of the transcript is numbered in the format: <NUM:LINE> \n",
    "You goal is to divide the entire transcript into logical sections based on content. \n",
    "For each section, give the title, both in Vietnamese and English, and starting and ending line numbers.\n",
    "Also provide a brief summary of the text in English.\n",
    "IMPORTANT: Every line in the transcript must belong to a section. Don't leave out any lines. Don't include lines in more than one section.\"\"\"\n"
   ]
  },
  {
   "cell_type": "markdown",
   "metadata": {},
   "source": [
    "### sectioning test messages:\n",
    "\"\"\"You are a highly skilled and meticulous assistant processing an audio transcript of a Dharma Talk given in Vietnamese.\n",
    "Each line of the transcript is numbered in the format: <NUM:LINE> \n",
    "You goal is to divide the entire transcript into logical sections based on content. \n",
    "For each section, give the title, both in Vietnamese and English, and starting and ending line numbers.\n",
    "Also provide a brief summary of the text in English.\n",
    "IMPORTANT: Every line in the transcript must belong to a section. Don't leave out any lines. Don't include lines in more than one section.\"\"\"\n",
    "\n",
    "You are a highly skilled and meticulous assistant processing an audio transcript of a Dharma Talk given in Vietnamese.\n",
    "You goal is to divide the entire transcript into logical sections based on content. \n",
    "For each section insert a <section> tag, and close the section with </section> \n",
    "IMPORTANT: Every line in the transcript must belong to a section. Don't leave out any lines. Don't include lines in more than one section."
   ]
  },
  {
   "cell_type": "code",
   "execution_count": null,
   "metadata": {},
   "outputs": [],
   "source": [
    "instructions_translate_vi_1 = \"\"\"You are the world's leading expert at translating Dharma talks transcribed from spoken Vietnamese.\n",
    "\n",
    "You are translating a section titled '{section_title}' from a Dharma talk offered by a Venerable Vietnamese Monastic at Deer Park Monastery in California.\n",
    "\n",
    "Some transcriptions may be from sounds such as a bell. These can be marked as [Bell].\n",
    "\n",
    "You may have to infer the speaker's intent in order to correct transcription or speaking errors and to generate a text that most closely matches the speaker's meaning,\n",
    "while still giving clear and eloquent English.\n",
    "\n",
    "Your goal is to translate the text and to correct errors (logical, transcription, or grammatical). \n",
    "You must faithfully capture the speaker's style and presentation while creating a meaningful flow using common, clear, and typical English. \n",
    "Translate faithfully and as carefully as possible. \n",
    "\n",
    "Do not leave out any content or summarize. \n",
    "\n",
    "The final output should match approximately the length and detail of the original.\n",
    "\n",
    "Your output should be a polished section.\n",
    "\n",
    "Make no other changes; add no content.\n",
    "\n",
    "Output the final text only.\"\"\""
   ]
  },
  {
   "cell_type": "code",
   "execution_count": null,
   "metadata": {},
   "outputs": [],
   "source": [
    "instructions_translate_vi_2 = \"\"\"You are the world's leading expert at translating Dharma talks transcribed from spoken Vietnamese.\n",
    "\n",
    "You are translating a section titled '{section_title}' from a Dharma talk offered by a Venerable Vietnamese Monastic at Deer Park Monastery in California.\n",
    "\n",
    "Lines of the transcript are numbered and are given in the format <NUM:LINE>.\n",
    "\n",
    "Your task is to translate each line into correct, clear and typical English. Add correct punctuation to create meaning that matches the speakers style and intent.\n",
    "\n",
    "You may have to infer the speaker's intent in order to correct transcription or speaking errors and to generate a text that most closely matches the speaker's meaning,\n",
    "while still giving clear and eloquent English. Give the best approximation or contextual guess if the transcript is difficult or unclear. Make no comments.\n",
    "\n",
    "You may consider adjacent lines for corrections and context when generating a line, however each line of translation should be as close as possible a translation of the original line.\n",
    "\n",
    "Some transcriptions may be from sounds such as a bell. These can be marked as [Bell].\n",
    "\n",
    "You must faithfully capture the speaker's style and presentation while creating a meaningful flow.\n",
    "\n",
    "Do not leave out any content or summarize. \n",
    "\n",
    "The final output should match the same line structure as the original.\n",
    "\n",
    "Your output should be a polished section.\n",
    "\n",
    "Make no other changes; add no content.\n",
    "\n",
    "Output the final text only.\"\"\""
   ]
  },
  {
   "cell_type": "code",
   "execution_count": null,
   "metadata": {},
   "outputs": [],
   "source": [
    "instructions_translate_vi_3 = \"\"\"You are the world's leading expert at translating Dharma talks transcribed from spoken Vietnamese.\n",
    "\n",
    "You are translating a section titled '{section_title}' from a Dharma talk offered by a Venerable Vietnamese Monastic at Deer Park Monastery in California.\n",
    "\n",
    "Lines of the transcript are numbered and are given in the format <NUM:LINE>.\n",
    "\n",
    "Your task is to translate each line into correct, clear and typical English. \n",
    "\n",
    "Add correct punctuation to create meaning that matches the speakers style and intent and creates flow between lines. You may adjust capitalization as needed for correctness.\n",
    "\n",
    "You may have to infer the speaker's intent in order to correct transcription or speaking errors and to generate a text that most closely matches the speaker's meaning,\n",
    "while still giving clear and eloquent English. Give the best approximation or contextual guess if the transcript is difficult or unclear. Make no comments.\n",
    "\n",
    "You may consider adjacent lines for corrections and context when generating a line, however each line of translation should be based on the original line.\n",
    "\n",
    "Some transcriptions may be from sounds such as a bell. These can be marked as [Bell].\n",
    "\n",
    "You must faithfully capture the speaker's style and presentation while creating a meaningful flow.\n",
    "\n",
    "Do not leave out any content or summarize. \n",
    "\n",
    "The final output should match the same line structure as the original.\n",
    "\n",
    "Your output should be a polished section.\n",
    "\n",
    "Make no other changes; add no content.\n",
    "\n",
    "Output the final text only.\"\"\""
   ]
  },
  {
   "cell_type": "markdown",
   "metadata": {},
   "source": [
    "You are the world's leading expert at translating Dharma talks transcribed from spoken Vietnamese.\n",
    "\n",
    "You are translating a section titled '{section_title}' from a Dharma talk offered by a Venerable Vietnamese Monastic at Deer Park Monastery in California.\n",
    "\n",
    "Lines of the transcript are numbered and are given in the format <NUM:LINE>.\n",
    "\n",
    "Your task is to translate each line into correct, clear and typical English.\n",
    "\n",
    "You may have to infer the speaker's intent in order to correct transcription or speaking errors and to generate a text that most closely matches the speaker's meaning,\n",
    "while still giving clear and eloquent English.\n",
    "\n",
    "You may consider adjacent lines for corrections and context when creating a line, however each line of translation should be as close as possible a translation of the original line.\n",
    "\n",
    "Some transcriptions may be from sounds such as a bell. These can be marked as [Bell].\n",
    "\n",
    "You must faithfully capture the speaker's style and presentation while creating a meaningful flow.\n",
    "\n",
    "Translate faithfully and as carefully as possible. \n",
    "\n",
    "Do not leave out any content or summarize. \n",
    "\n",
    "The final output should match the same line structure as the original.\n",
    "\n",
    "Your output should be a polished section.\n",
    "\n",
    "Make no other changes; add no content.\n",
    "\n",
    "Output the final text only."
   ]
  },
  {
   "cell_type": "markdown",
   "metadata": {},
   "source": [
    "You are the world's leading expert at translating Dharma talks transcribed from spoken Vietnamese.\n",
    "\n",
    "You are translating a section titled '{section_title}' from a Dharma talk offered by a Venerable Vietnamese Monastic at Deer Park Monastery in California.\n",
    "\n",
    "Lines of the transcript are numbered and are given in the format <NUM:LINE>.\n",
    "\n",
    "Your task is to translate each line into correct, clear and typical English.\n",
    "\n",
    "You may have to infer the speaker's intent in order to correct transcription or speaking errors and to generate a translation\n",
    "that matches the speaker's meaning and intent within the context of the section, and is in creates a meaningful, logical and correct flow in English.\n",
    "\n",
    "Consider adjacent lines and the context of the section for corrections when translating a line, however, each line of translation should be based on the original line.\n",
    "\n",
    "Some transcription lines may be from sounds such as a bell. These can be marked as [Bell].\n",
    " \n",
    "You must faithfully capture the speaker's style, presentation and intent while creating coherent, eloquent content across all lines.\n",
    "\n",
    "Do not leave out any content or summarize. \n",
    "\n",
    "The final output should match exactly the same line structure as the original.\n",
    "\n",
    "Make no other changes; add no content.\n",
    "\n",
    "Output the final text only."
   ]
  },
  {
   "cell_type": "code",
   "execution_count": null,
   "metadata": {},
   "outputs": [],
   "source": []
  },
  {
   "cell_type": "code",
   "execution_count": null,
   "metadata": {},
   "outputs": [],
   "source": [
    "postprocess_format_en = \"\"\"You are the world's leading expert at formatting Dharma talk audio transcriptions into written text for native, and partly fluent English speakers. \n",
    "\n",
    "The current text is from a Dharma Talk offered by a Southern Californian English-speaking monastic.\n",
    "\n",
    "Make necessary corrections to grammar to create correct English sentence structure and logical flow. \n",
    "\n",
    "Insert <section> and <title> tags where appropriate in the text to mark natural sections in the talk; give these sections appropriate titles.\n",
    "\n",
    "You may have to infer the speaker's intent in order to correct transcription or speaking errors and to generate a text that most closely matches the speaker's meaning in clear and eloquent English.\n",
    "\n",
    "Your goal is to format the text into meaningful paragraphs and sections while correcting errors (logical, transcription, or grammatical). \n",
    "\n",
    "Faithfully to convey the speaker’s intended meaning as accurately as possible while maintaining the original tone and style. Use the speaker's original phrasing as much as possible.\n",
    "\n",
    "Do not leave out any content. Do not summarize. \n",
    "\n",
    "Output the final text only.\"\"\""
   ]
  },
  {
   "cell_type": "code",
   "execution_count": null,
   "metadata": {},
   "outputs": [],
   "source": [
    "text = get_text_from_file(transcript_path)"
   ]
  },
  {
   "cell_type": "code",
   "execution_count": null,
   "metadata": {},
   "outputs": [],
   "source": [
    "wtext = wrap_lines(text, number=True)"
   ]
  },
  {
   "cell_type": "code",
   "execution_count": null,
   "metadata": {},
   "outputs": [],
   "source": [
    "print(wtext)"
   ]
  },
  {
   "cell_type": "code",
   "execution_count": null,
   "metadata": {},
   "outputs": [],
   "source": [
    "wtext_test = lines_from_wrapped_text(wtext, 1, 100)"
   ]
  },
  {
   "cell_type": "code",
   "execution_count": null,
   "metadata": {},
   "outputs": [],
   "source": [
    "wrap_transcript_path"
   ]
  },
  {
   "cell_type": "code",
   "execution_count": null,
   "metadata": {},
   "outputs": [],
   "source": [
    "write_text_to_file(wrap_transcript_path, wtext)"
   ]
  },
  {
   "cell_type": "code",
   "execution_count": null,
   "metadata": {},
   "outputs": [],
   "source": [
    "class Section(BaseModel):\n",
    "    title_vi: str = Field(\n",
    "        ..., \n",
    "        description=\"The title of the section in Vietnamese.\"\n",
    "    )\n",
    "    title_en: str = Field(\n",
    "        ..., \n",
    "        description=\"The translation of the title of the section in English.\"\n",
    "    )\n",
    "    summary: str = Field(\n",
    "        ..., \n",
    "        description=\"A summary of the section in English.\"\n",
    "    )\n",
    "    start_line: int = Field(\n",
    "        ..., \n",
    "        description=\"The starting line number of this section.\"\n",
    "    )\n",
    "    end_line: int = Field(\n",
    "        ...,\n",
    "        description=\"The ending line number of this section.\"\n",
    "    )\n",
    "\n",
    "class DharmaTalkSections(BaseModel):\n",
    "    talk_summary: str = Field(\n",
    "        ..., \n",
    "        description=\"A summary of the Dharma talk in English.\"\n",
    "    )\n",
    "    sections: List[Section] = Field(\n",
    "        ..., \n",
    "        description=\"An ordered list of sections with their titles and included start and end line numbers. The sequence of line ranges for the sections must cover every line from start to finish without any overlaps or gaps.\"\n",
    "    )"
   ]
  },
  {
   "cell_type": "code",
   "execution_count": null,
   "metadata": {},
   "outputs": [],
   "source": [
    "wrap_transcript_path"
   ]
  },
  {
   "cell_type": "code",
   "execution_count": null,
   "metadata": {},
   "outputs": [],
   "source": [
    "print(postprocess_section_vi)"
   ]
  },
  {
   "cell_type": "code",
   "execution_count": null,
   "metadata": {},
   "outputs": [],
   "source": [
    "section_object = postprocess_text(wrap_transcript_path, postprocess_section_vi, response_object=DharmaTalkSections, batch=False, max_tokens=5000)"
   ]
  },
  {
   "cell_type": "code",
   "execution_count": null,
   "metadata": {},
   "outputs": [],
   "source": [
    "section_object.sections"
   ]
  },
  {
   "cell_type": "code",
   "execution_count": null,
   "metadata": {},
   "outputs": [],
   "source": [
    "len(section_object.sections)"
   ]
  },
  {
   "cell_type": "code",
   "execution_count": null,
   "metadata": {},
   "outputs": [],
   "source": [
    "sections_translated = []\n",
    "sections_original = []\n",
    "sections = section_object.sections\n",
    "section_range = range(0, 16)\n",
    "backup_file = Path(\"backup_section_data.txt\")\n",
    "for i in section_range:\n",
    "    section = sections[i]\n",
    "    original_lines = lines_from_wrapped_text(wtext, section.start_line, section.end_line, keep_brackets=True)\n",
    "    translate_instructions = instructions_translate_vi_2.format(section_title=section.title_en)\n",
    "    logger.info(f\"Translating section '{section.title_en}'...\")\n",
    "\n",
    "    if i == 0:\n",
    "        logger.info(f\"Translation instructions:\\n{translate_instructions}\")\n",
    "    \n",
    "    translated_lines = postprocess_text(original_lines, translate_instructions, batch=False)\n",
    "    sections_translated.append(translated_lines)\n",
    "    write_text_to_file(backup_file, translated_lines, append=True)\n",
    "    sections_original.append(original_lines)\n",
    "\n"
   ]
  },
  {
   "cell_type": "code",
   "execution_count": null,
   "metadata": {},
   "outputs": [],
   "source": [
    "original_lines"
   ]
  },
  {
   "cell_type": "code",
   "execution_count": null,
   "metadata": {},
   "outputs": [],
   "source": [
    "for i in section_range:\n",
    "    original_lines = unwrap_lines(sections_original[i], number=True).split('\\n')\n",
    "    translated_lines = unwrap_lines(sections_translated[i], number=True).split('\\n')\n",
    "\n",
    "    # Get the maximum length of the original lines\n",
    "    max_original_len = max(len(line) for line in translated_lines)\n",
    "    \n",
    "    # Format output with columns\n",
    "    for j, (o_l, t_l) in enumerate(zip(original_lines, translated_lines)):\n",
    "        print(f\"{j:>4}: {t_l:<{max_original_len + 5}}<<<   {o_l}\")\n",
    "    # print(section_original[i])\n",
    "    # print(section_translated[i])"
   ]
  },
  {
   "cell_type": "code",
   "execution_count": null,
   "metadata": {},
   "outputs": [],
   "source": [
    "print(postprocess_translate_vi.format(section_title=section.title_en))"
   ]
  },
  {
   "cell_type": "code",
   "execution_count": null,
   "metadata": {},
   "outputs": [],
   "source": [
    "section_object.talk_summary"
   ]
  },
  {
   "cell_type": "code",
   "execution_count": null,
   "metadata": {},
   "outputs": [],
   "source": [
    "section_object.model_dump_json()"
   ]
  },
  {
   "cell_type": "code",
   "execution_count": null,
   "metadata": {},
   "outputs": [],
   "source": [
    "write_text_to_file(section_output_path, section_object.model_dump_json())"
   ]
  },
  {
   "cell_type": "code",
   "execution_count": null,
   "metadata": {},
   "outputs": [],
   "source": [
    "postprocess_text(transcript_path, post_output_path, postprocess_format_en, batch=False)"
   ]
  },
  {
   "cell_type": "code",
   "execution_count": null,
   "metadata": {},
   "outputs": [],
   "source": []
  }
 ],
 "metadata": {
  "kernelspec": {
   "display_name": "tnh-scholar",
   "language": "python",
   "name": "python3"
  },
  "language_info": {
   "codemirror_mode": {
    "name": "ipython",
    "version": 3
   },
   "file_extension": ".py",
   "mimetype": "text/x-python",
   "name": "python",
   "nbconvert_exporter": "python",
   "pygments_lexer": "ipython3",
   "version": "3.11.10"
  }
 },
 "nbformat": 4,
 "nbformat_minor": 2
}
