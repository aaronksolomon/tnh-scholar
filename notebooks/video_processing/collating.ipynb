{
 "cells": [
  {
   "cell_type": "code",
   "execution_count": null,
   "metadata": {},
   "outputs": [],
   "source": [
    "import re\n",
    "from pathlib import Path\n",
    "import shutil\n",
    "from utils import iterate_subdir\n",
    "\n",
    "def copy_files_with_regex(\n",
    "    source_dir: Path,\n",
    "    destination_dir: Path,\n",
    "    regex_patterns: list[str],\n",
    "    preserve_structure: bool = True\n",
    ") -> None:\n",
    "    \"\"\"\n",
    "    Copies files from one level down in the source directory to the destination directory\n",
    "    if they match any regex pattern. Optionally preserves the directory structure.\n",
    "\n",
    "    Args:\n",
    "        source_dir (Path): Path to the source directory to search files in.\n",
    "        destination_dir (Path): Path to the destination directory where files will be copied.\n",
    "        regex_patterns (list[str]): List of regex patterns to match file names.\n",
    "        preserve_structure (bool): Whether to preserve the directory structure. Defaults to True.\n",
    "\n",
    "    Example:\n",
    "        copy_files_with_regex(\n",
    "            source_dir=Path(\"/path/to/source\"),\n",
    "            destination_dir=Path(\"/path/to/destination\"),\n",
    "            regex_patterns=[r'.*\\.txt$', r'.*\\.log$'],\n",
    "            preserve_structure=True\n",
    "        )\n",
    "    \"\"\"\n",
    "    if not source_dir.is_dir():\n",
    "        raise ValueError(f\"The source directory {source_dir} does not exist or is not a directory.\")\n",
    "\n",
    "    if not destination_dir.exists():\n",
    "        destination_dir.mkdir(parents=True, exist_ok=True)\n",
    "\n",
    "    # Compile regex patterns for efficiency\n",
    "    compiled_patterns = [re.compile(pattern) for pattern in regex_patterns]\n",
    "\n",
    "    # Process only one level down\n",
    "    for subdir in source_dir.iterdir():\n",
    "        if subdir.is_dir():  # Only process subdirectories\n",
    "            print(f\"processing {subdir}:\")\n",
    "            for file_path in subdir.iterdir():  # Only files in this subdirectory\n",
    "                if file_path.is_file():\n",
    "                    print(f\"checking file: {file_path.name}\")\n",
    "                    # Check if the file matches any of the regex patterns\n",
    "                    if any(pattern.match(file_path.name) for pattern in compiled_patterns):\n",
    "                        if preserve_structure:\n",
    "                            # Construct the target path, preserving relative structure\n",
    "                            relative_path = subdir.relative_to(source_dir) / file_path.name\n",
    "                            target_path = destination_dir / relative_path\n",
    "                            target_path.parent.mkdir(parents=True, exist_ok=True)\n",
    "                        else:\n",
    "                            # Place directly in destination without subdirectory structure\n",
    "                            target_path = destination_dir / file_path.name\n",
    "\n",
    "                        shutil.copy2(file_path, target_path)\n",
    "                        print(f\"Copied: {file_path} -> {target_path}\")\n",
    "\n",
    "# Example usage\n",
    "# copy_files_with_regex(\n",
    "#     source_dir=Path(\"/path/to/source\"),\n",
    "#     destination_dir=Path(\"/path/to/destination\"),\n",
    "#     regex_patterns=[r'.*\\.txt$', r'.*\\.py$'],\n",
    "#     preserve_structure=True\n",
    "# )"
   ]
  },
  {
   "cell_type": "code",
   "execution_count": null,
   "metadata": {},
   "outputs": [],
   "source": [
    "video_data_dir = Path(\"./processed_videos/video_transcriptions\")"
   ]
  },
  {
   "cell_type": "code",
   "execution_count": null,
   "metadata": {},
   "outputs": [],
   "source": [
    "video_data_dir.exists()"
   ]
  },
  {
   "cell_type": "code",
   "execution_count": null,
   "metadata": {},
   "outputs": [],
   "source": [
    "data_export_dir = Path(\"./export_data\")"
   ]
  },
  {
   "cell_type": "code",
   "execution_count": null,
   "metadata": {},
   "outputs": [],
   "source": [
    "copy_files_with_regex(video_data_dir, data_export_dir, [r'formatted_.*\\.xml', r'section_.*\\.json'])"
   ]
  },
  {
   "cell_type": "code",
   "execution_count": null,
   "metadata": {},
   "outputs": [],
   "source": [
    "copy_files_with_regex(video_data_dir, data_export_dir, [r'.*\\.txt'])"
   ]
  },
  {
   "cell_type": "code",
   "execution_count": null,
   "metadata": {},
   "outputs": [],
   "source": []
  }
 ],
 "metadata": {
  "kernelspec": {
   "display_name": "tnh-scholar",
   "language": "python",
   "name": "python3"
  },
  "language_info": {
   "codemirror_mode": {
    "name": "ipython",
    "version": 3
   },
   "file_extension": ".py",
   "mimetype": "text/x-python",
   "name": "python",
   "nbconvert_exporter": "python",
   "pygments_lexer": "ipython3",
   "version": "3.11.10"
  }
 },
 "nbformat": 4,
 "nbformat_minor": 2
}
