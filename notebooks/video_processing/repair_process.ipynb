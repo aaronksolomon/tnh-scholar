{
 "cells": [
  {
   "cell_type": "code",
   "execution_count": 2,
   "metadata": {},
   "outputs": [],
   "source": [
    "from pathlib import Path\n",
    "import argparse\n",
    "import os\n",
    "import sys\n",
    "import logging\n",
    "import logging_config\n",
    "from typing import Generator\n",
    "\n",
    "from logging_config import setup_logging, get_child_logger\n",
    "from dp_video_processing import (\n",
    "    get_youtube_urls_from_csv, \n",
    "    download_audio_yt,\n",
    "    detect_boundaries, \n",
    "    split_audio_at_boundaries,\n",
    "    split_audio_on_silence, \n",
    "    process_audio_chunks\n",
    ")\n",
    "\n",
    "setup_logging(log_filename=\"transcription_repair.log\")\n",
    "logger = get_child_logger(\"yt_transcribe_repair\")\n",
    "\n",
    "# Parameters\n",
    "DEFAULT_OUTPUT_DIR = \"./video_transcriptions\"\n",
    "DEFAULT_CHUNK_DURATION_S = 10 * 60  # in seconds. 10 minute default duration\n",
    "DEFAULT_CHUNK_DURATION_MS = 5 * 60 * 1000 # in miliseconds. 10m \n",
    "DEFAULT_PROMPT = \"Dharma, Deer Park, Thay, Thich Nhat Hanh, Bodhicitta, Bodhisattva, Mahayana\""
   ]
  },
  {
   "cell_type": "code",
   "execution_count": 3,
   "metadata": {},
   "outputs": [],
   "source": [
    "def iterate_subdir(directory: Path) -> Generator[Path, None, None]:\n",
    "    \"\"\"\n",
    "    Recursively iterates through all subdirectories in the given directory.\n",
    "\n",
    "    Args:\n",
    "        directory (Path): The root directory to start the iteration.\n",
    "\n",
    "    Yields:\n",
    "        Path: Paths to each subdirectory.\n",
    "    \n",
    "    Example:\n",
    "        >>> for subdir in iterate_subdirectories(Path('/root')):\n",
    "        ...     print(subdir)\n",
    "    \"\"\"\n",
    "    for subdirectory in directory.rglob('*'):\n",
    "        if subdirectory.is_dir():\n",
    "            yield subdirectory"
   ]
  },
  {
   "cell_type": "code",
   "execution_count": 4,
   "metadata": {},
   "outputs": [],
   "source": [
    "video_output_dir = Path(DEFAULT_OUTPUT_DIR)"
   ]
  },
  {
   "cell_type": "code",
   "execution_count": 5,
   "metadata": {},
   "outputs": [
    {
     "data": {
      "text/plain": [
       "PosixPath('video_transcriptions')"
      ]
     },
     "execution_count": 5,
     "metadata": {},
     "output_type": "execute_result"
    }
   ],
   "source": [
    "video_output_dir"
   ]
  },
  {
   "cell_type": "code",
   "execution_count": null,
   "metadata": {},
   "outputs": [
    {
     "name": "stderr",
     "output_type": "stream",
     "text": [
      "2024-12-12 03:35:03,284 - tnh.yt_transcribe_repair - \u001b[36mINFO\u001b[0m - Processing video: 'Vesak - The Baby Buddha Within ｜ Sister Kính Nghiêm ｜ 2024-05-19'\u001b[0m\n",
      "2024-12-12 03:35:03,296 - tnh.yt_transcribe_repair - \u001b[36mINFO\u001b[0m - skipping 'Vesak - The Baby Buddha Within ｜ Sister Kính Nghiêm ｜ 2024-05-19': .txt file exists\u001b[0m\n",
      "2024-12-12 03:35:03,345 - tnh.yt_transcribe_repair - \u001b[36mINFO\u001b[0m - Processing video: 'The Redwood Sutra： a Dharma Talk with Brother Phap Luu ｜ 2023-06-11'\u001b[0m\n",
      "2024-12-12 03:35:03,346 - tnh.yt_transcribe_repair - \u001b[36mINFO\u001b[0m - skipping 'The Redwood Sutra： a Dharma Talk with Brother Phap Luu ｜ 2023-06-11': .txt file exists\u001b[0m\n",
      "2024-12-12 03:35:03,347 - tnh.yt_transcribe_repair - \u001b[36mINFO\u001b[0m - Processing video: 'Beginning Anew with Children & Teens ｜ Sister Dang Nghiem ｜ 2023-06-23'\u001b[0m\n",
      "2024-12-12 03:35:03,348 - tnh.yt_transcribe_repair - \u001b[36mINFO\u001b[0m - Detecting boundaries...\u001b[0m\n",
      "2024-12-12 03:35:03,348 - tnh.video_processing - \u001b[36mINFO\u001b[0m - Loading model...\u001b[0m\n",
      "2024-12-12 03:35:03,760 - tnh.video_processing - \u001b[36mINFO\u001b[0m - Model 'tiny' loaded.\u001b[0m\n",
      "2024-12-12 03:35:03,761 - tnh.video_processing - \u001b[36mINFO\u001b[0m - Transcribing with language: auto-detected (default: en)\u001b[0m\n",
      "2024-12-12 03:35:03,762 - tnh.video_processing - \u001b[36mINFO\u001b[0m - Transcribing preliminary text...\u001b[0m\n",
      "/opt/anaconda3/envs/tnh-scholar/lib/python3.11/site-packages/whisper/transcribe.py:132: UserWarning: FP16 is not supported on CPU; using FP32 instead\n",
      "  warnings.warn(\"FP16 is not supported on CPU; using FP32 instead\")\n",
      "2024-12-12 03:37:23,208 - tnh.video_processing - \u001b[36mINFO\u001b[0m - Intial transcription for boundaries generated.\u001b[0m\n",
      "2024-12-12 03:37:23,217 - tnh.yt_transcribe_repair - \u001b[36mINFO\u001b[0m - Boundaries generated.\u001b[0m\n",
      "2024-12-12 03:37:23,218 - tnh.yt_transcribe_repair - \u001b[36mINFO\u001b[0m - Splitting audio into chunks...\u001b[0m\n",
      "2024-12-12 03:37:35,805 - tnh.video_processing - \u001b[36mINFO\u001b[0m - Exported: video_transcriptions/Beginning Anew with Children & Teens ｜ Sister Dang Nghiem ｜ 2023-06-23/chunks/chunk_1.mp3\u001b[0m\n",
      "2024-12-12 03:37:42,233 - tnh.video_processing - \u001b[36mINFO\u001b[0m - Exported: video_transcriptions/Beginning Anew with Children & Teens ｜ Sister Dang Nghiem ｜ 2023-06-23/chunks/chunk_2.mp3\u001b[0m\n",
      "2024-12-12 03:37:47,996 - tnh.video_processing - \u001b[36mINFO\u001b[0m - Exported: video_transcriptions/Beginning Anew with Children & Teens ｜ Sister Dang Nghiem ｜ 2023-06-23/chunks/chunk_3.mp3\u001b[0m\n"
     ]
    }
   ],
   "source": [
    "\n",
    "for video_dir in iterate_subdir(video_output_dir):\n",
    "\n",
    "    try:\n",
    "        # Parameters:\n",
    "        chunks_dir = video_dir / \"chunks\"\n",
    "        video_name = video_dir.name\n",
    "        logger.info(f\"Processing video: '{video_name}'\") \n",
    "        audio_file = video_dir / f\"{video_name}.mp3\"\n",
    "        transcript_file = video_dir / f\"{video_name}.txt\"\n",
    "\n",
    "        if transcript_file.exists():\n",
    "            logger.info(f\"skipping '{video_name}': .txt file exists\")\n",
    "            continue # can skip this file \n",
    "\n",
    "        # begin processing:\n",
    "        # Step 2: Detect boundaries\n",
    "        logger.info(\"Detecting boundaries...\")\n",
    "        boundaries = detect_boundaries(audio_file)\n",
    "        logger.info(f\"Boundaries generated.\")\n",
    "\n",
    "        # Step 3: Split audio into chunks\n",
    "        logger.info(\"Splitting audio into chunks...\")\n",
    "        split_audio_at_boundaries(\n",
    "            audio_file=audio_file,\n",
    "            boundaries=boundaries, \n",
    "            output_dir=chunks_dir, \n",
    "            max_duration=DEFAULT_CHUNK_DURATION_S\n",
    "        )\n",
    "        logger.info(f\"Audio chunks saved to: {chunks_dir}\")\n",
    "\n",
    "        # Step 4: Transcribe audio chunks\n",
    "        logger.info(\"Transcribing audio chunks...\")\n",
    "        jsonl_file = video_dir / f\"{video_name}.jsonl\"\n",
    "        process_audio_chunks(\n",
    "            directory=chunks_dir,\n",
    "            output_file=transcript_file,\n",
    "            jsonl_file=jsonl_file,\n",
    "            prompt=DEFAULT_PROMPT,\n",
    "            translate=False\n",
    "        )\n",
    "        logger.info(f\"Transcription completed for {video_name}\")\n",
    "        logger.info(f\"Transcript saved to: {transcript_file}\")\n",
    "        logger.info(f\"Raw transcription data saved to: {jsonl_file}\")\n",
    "\n",
    "    except Exception as e:\n",
    "        logger.error(f\"Failed to process video {video_name}: {e}\")"
   ]
  },
  {
   "cell_type": "code",
   "execution_count": null,
   "metadata": {},
   "outputs": [],
   "source": []
  }
 ],
 "metadata": {
  "kernelspec": {
   "display_name": "tnh-scholar",
   "language": "python",
   "name": "python3"
  },
  "language_info": {
   "codemirror_mode": {
    "name": "ipython",
    "version": 3
   },
   "file_extension": ".py",
   "mimetype": "text/x-python",
   "name": "python",
   "nbconvert_exporter": "python",
   "pygments_lexer": "ipython3",
   "version": "3.11.10"
  }
 },
 "nbformat": 4,
 "nbformat_minor": 2
}
