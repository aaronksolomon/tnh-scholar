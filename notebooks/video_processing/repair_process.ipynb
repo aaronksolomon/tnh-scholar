{
 "cells": [
  {
   "cell_type": "code",
   "execution_count": null,
   "metadata": {},
   "outputs": [],
   "source": [
    "from pathlib import Path\n",
    "import argparse\n",
    "import os\n",
    "import sys\n",
    "import logging\n",
    "import logging_config\n",
    "from typing import Generator\n",
    "\n",
    "from logging_config import setup_logging, get_child_logger\n",
    "from dp_video_processing import (\n",
    "    get_youtube_urls_from_csv, \n",
    "    download_audio_yt,\n",
    "    detect_boundaries, \n",
    "    split_audio_at_boundaries,\n",
    "    split_audio_on_silence, \n",
    "    process_audio_chunks\n",
    ")\n",
    "\n",
    "setup_logging(log_filename=\"transcription_repair.log\")\n",
    "logger = get_child_logger(\"yt_transcribe_repair\")\n",
    "\n",
    "# Parameters\n",
    "DEFAULT_OUTPUT_DIR = \"./video_transcriptions\"\n",
    "DEFAULT_CHUNK_DURATION_S = 10 * 60  # in seconds. 10 minute default duration\n",
    "DEFAULT_CHUNK_DURATION_MS = 5 * 60 * 1000 # in miliseconds. 10m \n",
    "DEFAULT_PROMPT = \"Dharma, Deer Park, Thay, Thich Nhat Hanh, Bodhicitta, Bodhisattva, Mahayana\""
   ]
  },
  {
   "cell_type": "code",
   "execution_count": null,
   "metadata": {},
   "outputs": [],
   "source": [
    "def iterate_subdir(directory: Path) -> Generator[Path, None, None]:\n",
    "    \"\"\"\n",
    "    Recursively iterates through all subdirectories in the given directory.\n",
    "\n",
    "    Args:\n",
    "        directory (Path): The root directory to start the iteration.\n",
    "\n",
    "    Yields:\n",
    "        Path: Paths to each subdirectory.\n",
    "    \n",
    "    Example:\n",
    "        >>> for subdir in iterate_subdirectories(Path('/root')):\n",
    "        ...     print(subdir)\n",
    "    \"\"\"\n",
    "    for subdirectory in directory.rglob('*'):\n",
    "        if subdirectory.is_dir():\n",
    "            yield subdirectory"
   ]
  },
  {
   "cell_type": "code",
   "execution_count": null,
   "metadata": {},
   "outputs": [],
   "source": [
    "video_output_dir = Path(DEFAULT_OUTPUT_DIR)"
   ]
  },
  {
   "cell_type": "code",
   "execution_count": null,
   "metadata": {},
   "outputs": [],
   "source": [
    "video_output_dir"
   ]
  },
  {
   "cell_type": "code",
   "execution_count": null,
   "metadata": {},
   "outputs": [],
   "source": [
    "\n",
    "for video_dir in iterate_subdir(video_output_dir):\n",
    "\n",
    "    try:\n",
    "        # Parameters:\n",
    "        chunks_dir = video_dir / \"chunks\"\n",
    "        video_name = video_dir.name\n",
    "        logger.info(f\"Processing video: '{video_name}'\") \n",
    "        audio_file = video_dir / f\"{video_name}.mp3\"\n",
    "        transcript_file = video_dir / f\"{video_name}.txt\"\n",
    "\n",
    "        if transcript_file.exists():\n",
    "            logger.info(f\"skipping '{video_name}': .txt file exists\")\n",
    "            continue # can skip this file \n",
    "\n",
    "        # begin processing:\n",
    "        # Step 2: Detect boundaries\n",
    "        logger.info(\"Detecting boundaries...\")\n",
    "        boundaries = detect_boundaries(audio_file)\n",
    "        logger.info(f\"Boundaries generated.\")\n",
    "\n",
    "        # Step 3: Split audio into chunks\n",
    "        logger.info(\"Splitting audio into chunks...\")\n",
    "        split_audio_at_boundaries(\n",
    "            audio_file=audio_file,\n",
    "            boundaries=boundaries, \n",
    "            output_dir=chunks_dir, \n",
    "            max_duration=DEFAULT_CHUNK_DURATION_S\n",
    "        )\n",
    "        logger.info(f\"Audio chunks saved to: {chunks_dir}\")\n",
    "\n",
    "        # Step 4: Transcribe audio chunks\n",
    "        logger.info(\"Transcribing audio chunks...\")\n",
    "        jsonl_file = video_dir / f\"{video_name}.jsonl\"\n",
    "        process_audio_chunks(\n",
    "            directory=chunks_dir,\n",
    "            output_file=transcript_file,\n",
    "            jsonl_file=jsonl_file,\n",
    "            prompt=DEFAULT_PROMPT,\n",
    "            translate=False\n",
    "        )\n",
    "        logger.info(f\"Transcription completed for {video_name}\")\n",
    "        logger.info(f\"Transcript saved to: {transcript_file}\")\n",
    "        logger.info(f\"Raw transcription data saved to: {jsonl_file}\")\n",
    "\n",
    "    except Exception as e:\n",
    "        logger.error(f\"Failed to process video {video_name}: {e}\")"
   ]
  },
  {
   "cell_type": "code",
   "execution_count": null,
   "metadata": {},
   "outputs": [],
   "source": []
  }
 ],
 "metadata": {
  "kernelspec": {
   "display_name": "tnh-scholar",
   "language": "python",
   "name": "python3"
  },
  "language_info": {
   "codemirror_mode": {
    "name": "ipython",
    "version": 3
   },
   "file_extension": ".py",
   "mimetype": "text/x-python",
   "name": "python",
   "nbconvert_exporter": "python",
   "pygments_lexer": "ipython3",
   "version": "3.11.10"
  }
 },
 "nbformat": 4,
 "nbformat_minor": 2
}
