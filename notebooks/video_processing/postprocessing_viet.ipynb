{
 "cells": [
  {
   "cell_type": "code",
   "execution_count": 10,
   "metadata": {
    "trusted": false
   },
   "outputs": [
    {
     "name": "stdout",
     "output_type": "stream",
     "text": [
      "The autoreload extension is already loaded. To reload it, use:\n",
      "  %reload_ext autoreload\n"
     ]
    }
   ],
   "source": [
    "%load_ext autoreload\n",
    "%autoreload 2"
   ]
  },
  {
   "cell_type": "code",
   "execution_count": 43,
   "metadata": {
    "trusted": false
   },
   "outputs": [],
   "source": [
    "from pathlib import Path\n",
    "from typing import List, Dict, Optional\n",
    "import logging\n",
    "import json\n",
    "\n",
    "from pydantic import BaseModel, Field\n",
    "from typing import List, Optional\n",
    "\n",
    "from tnh_scholar.xml_processing import wrap_lines, unwrap_lines, lines_from_wrapped_text\n",
    "from tnh_scholar.text_processing import get_text_from_file, write_text_to_file, process_text\n",
    "from tnh_scholar.utils import iterate_subdir, load_json_into_model, save_model_to_json"
   ]
  },
  {
   "cell_type": "code",
   "execution_count": 12,
   "metadata": {
    "trusted": false
   },
   "outputs": [],
   "source": [
    "from tnh_scholar.openai_interface import token_count"
   ]
  },
  {
   "cell_type": "code",
   "execution_count": 13,
   "metadata": {
    "trusted": false
   },
   "outputs": [],
   "source": [
    "# Configure main logger using setup_logger\n",
    "import tnh_scholar.logging_config as logging_config\n",
    "from tnh_scholar.logging_config import setup_logging, get_child_logger"
   ]
  },
  {
   "cell_type": "code",
   "execution_count": 14,
   "metadata": {
    "trusted": false
   },
   "outputs": [],
   "source": [
    "setup_logging(log_filepath=\"postprocessing_english.log\")\n",
    "logger = get_child_logger(\"postprocessing_english\")"
   ]
  },
  {
   "cell_type": "code",
   "execution_count": 15,
   "metadata": {},
   "outputs": [],
   "source": [
    "from tnh_scholar import PROJECT_ROOT_DIR"
   ]
  },
  {
   "cell_type": "code",
   "execution_count": 16,
   "metadata": {
    "trusted": false
   },
   "outputs": [],
   "source": [
    "video_storage_dir = PROJECT_ROOT_DIR / \"sandbox/video_transcriptions\""
   ]
  },
  {
   "cell_type": "code",
   "execution_count": 17,
   "metadata": {},
   "outputs": [],
   "source": [
    "class Section(BaseModel):\n",
    "    title_vi: str = Field(\n",
    "        ..., \n",
    "        description=\"The title of the section in Vietnamese.\"\n",
    "    )\n",
    "    title_en: str = Field(\n",
    "        ..., \n",
    "        description=\"The translation of the title of the section in English.\"\n",
    "    )\n",
    "    summary: str = Field(\n",
    "        ..., \n",
    "        description=\"A summary of the section in English.\"\n",
    "    )\n",
    "    start_line: int = Field(\n",
    "        ..., \n",
    "        description=\"The starting line number of this section.\"\n",
    "    )\n",
    "    end_line: int = Field(\n",
    "        ...,\n",
    "        description=\"The ending line number of this section.\"\n",
    "    )\n",
    "\n",
    "class DharmaTalkSections(BaseModel):\n",
    "    talk_summary: str = Field(\n",
    "        ..., \n",
    "        description=\"A summary of the Dharma talk in English.\"\n",
    "    )\n",
    "    sections: List[Section] = Field(\n",
    "        ..., \n",
    "        description=\"An ordered list of sections with their titles and included start and end line numbers. The sequence of line ranges for the sections must cover every line from start to finish without any overlaps or gaps.\"\n",
    "    )"
   ]
  },
  {
   "cell_type": "code",
   "execution_count": null,
   "metadata": {},
   "outputs": [],
   "source": [
    "class TranslatedSection(Section):\n",
    "    content_vi: Optional[str] = Field(\n",
    "        None,\n",
    "        description=\"The full content of the section in Vietnamese.\"\n",
    "    )\n",
    "    content_en: Optional[str] = Field(\n",
    "        None,\n",
    "        description=\"The translation of the full content of the section in English.\"\n",
    "    )"
   ]
  },
  {
   "cell_type": "code",
   "execution_count": 18,
   "metadata": {},
   "outputs": [],
   "source": [
    "def process_sections(output_file: Path, wrapped_transcript: str, section_object: DharmaTalkSections, instructions: str) -> None:\n",
    "    \"\"\"\n",
    "    Processes sections of a document by applying provided instructions\n",
    "    and writing the results to an output file.\n",
    "\n",
    "    Args:\n",
    "        output_file (Path): Path to the file where the processed sections will be written.\n",
    "        wrapped_transcript (str): The transcripted with line number wrapping\n",
    "        section_object: Object containing the sections to process. Each section should have 'start_line', \n",
    "                        'end_line', and 'title' attributes.\n",
    "        instructions (str): Instructions for processing each section.\n",
    "\n",
    "    Example:\n",
    "        process_sections(\n",
    "            output_file=\"output.xml\",\n",
    "            section_object=my_section_object,\n",
    "            instructions=\"Process section titled '{section_title}' carefully.\"\n",
    "        )\n",
    "    \"\"\"\n",
    "    sections = section_object.sections\n",
    "    sections_processed = []\n",
    "    \n",
    "    write_text_to_file(output_file, \"<document>\\n\", overwrite=True)\n",
    "    logger.info(f\"Sections to process: {len(sections)}\")\n",
    "    for i, section in enumerate(sections):\n",
    "        logger.info(f\"Processing section {i+1}: '{section.title}'...\")\n",
    "        original_lines = lines_from_wrapped_text(\n",
    "            wrapped_transcript,  \n",
    "            start=section.start_line,\n",
    "            end=section.end_line,\n",
    "            keep_brackets=False\n",
    "        )\n",
    "        section_instructions = instructions.format(section_title=section.title)\n",
    "        \n",
    "        if i == 0:\n",
    "            logger.info(f\"Processing instructions:\\n{section_instructions}\")\n",
    "        \n",
    "        processed_lines = process_text(original_lines, section_instructions, batch=False)\n",
    "        sections_processed.append(processed_lines)\n",
    "        write_text_to_file(output_file, processed_lines, append=True)\n",
    "    write_text_to_file(output_file, \"</document>\", append=True)\n",
    "    return sections_processed\n",
    "    "
   ]
  },
  {
   "cell_type": "code",
   "execution_count": 57,
   "metadata": {},
   "outputs": [],
   "source": [
    "from typing import List\n",
    "\n",
    "def convert_wrapped_lines_to_xml(wrapped_lines: str) -> str:\n",
    "    \"\"\"\n",
    "    Converts a list of wrapped lines into a valid XML structure with <line number=\"x\"> tags.\n",
    "\n",
    "    Args:\n",
    "        lines (List[str]): A list of strings, where each line is in the format \"<n: ...>\".\n",
    "\n",
    "    Returns:\n",
    "        str: A string containing valid XML.\n",
    "\n",
    "    Example:\n",
    "        lines = \"\\n\".join([\n",
    "            \"<1:Today is the 20th of November, 1994.>\",\n",
    "            \"<2:The theme of this winter retreat is>\",\n",
    "        ])\n",
    "        print(convert_wrapped_lines_to_xml(lines))\n",
    "    \"\"\"\n",
    "    xml_lines = []\n",
    "    for line in wrapped_lines.split(\"\\n\"):\n",
    "        line = line.strip()\n",
    "        # Extract the line number and content using slicing\n",
    "        if line.startswith('<') and line.endswith('>'):\n",
    "            try:\n",
    "                colon_index = line.index(':')  # Find colon separating number and content\n",
    "                number = line[1:colon_index]  # Extract the line number\n",
    "                content = line[colon_index + 1:-1].strip()  # Extract the content\n",
    "                # Wrap the content in a valid <line> tag\n",
    "                xml_lines.append(f'  <line number=\"{number}\">{content}</line>')\n",
    "            except ValueError:\n",
    "                raise ValueError(f\"Invalid format: {line}\")\n",
    "        else:\n",
    "            raise ValueError(f\"Invalid line format: {line}\")\n",
    "    return '\\n'.join(xml_lines)\n",
    "\n"
   ]
  },
  {
   "cell_type": "code",
   "execution_count": 33,
   "metadata": {},
   "outputs": [],
   "source": [
    "process_section_instructions_vi = \"\"\"You are a highly skilled and meticulous assistant processing an audio transcript of a Dharma Talk given by Thich Nhat Hanh in Vietnamese.\n",
    "\n",
    "Each line of the transcript is numbered in the format: <NUM:LINE> \n",
    "\n",
    "You goal is to divide the entire transcript into {section_count} logical sections based on content. \n",
    "\n",
    "For each section, give the title in Vietnamese and English, a summary in English, and the starting and ending line numbers of the section.\n",
    "\n",
    "Also provide a summary of the talk in English.\n",
    "\n",
    "IMPORTANT: Every line in the transcript must belong to a section. Don't leave out any lines. Don't include lines in more than one section.\"\"\"\n"
   ]
  },
  {
   "cell_type": "code",
   "execution_count": 47,
   "metadata": {},
   "outputs": [],
   "source": [
    "section_instructions_translate_vi = \"\"\"You are the world's leading expert at translating Dharma talks transcribed from spoken Vietnamese.\n",
    "\n",
    "You are translating a section titled '{section_title}' from a Dharma talk offered by Thich Nhat Hanh (Thay) in Plum Village, France.\n",
    "\n",
    "Lines of the transcript are numbered and are given in the format <NUM:LINE>.\n",
    "\n",
    "Your task is to translate each line into correct, clear and typical English. Add correct punctuation to create meaning that matches the speakers style and intent.\n",
    "\n",
    "You may have to infer the Thay's intent in order to correct transcription or speaking errors and to generate a text that most closely matches the speaker's meaning,\n",
    "while still giving clear and eloquent English. Give the best approximation or contextual guess if the transcript is difficult or unclear. Make no comments. \n",
    "\n",
    "Use Plum Village typical English style when making translations.\n",
    "\n",
    "You may consider adjacent lines for corrections and context when generating a line, however each line of translation should be as close as possible a translation of the original line.\n",
    "\n",
    "Some transcriptions may be from sounds such as a bell. These can be marked as [Bell].\n",
    "\n",
    "You must faithfully capture Thay's style and presentation while creating a meaningful flow.\n",
    "\n",
    "Do not leave out any content or summarize. \n",
    "\n",
    "The final output should match the same line structure and line numbering using <> as the original.\n",
    "\n",
    "Your output should be a polished section.\n",
    "\n",
    "Make no other changes; add no content.\n",
    "\n",
    "Output the final text only.\"\"\""
   ]
  },
  {
   "cell_type": "code",
   "execution_count": 21,
   "metadata": {},
   "outputs": [],
   "source": [
    "talk_name = \"Kinh Tư Lượng [TTSĐCTTĐB 01] ｜ TS Thích Nhất Hạnh (20-11-1994, Xóm Thượng, Làng Mai)\""
   ]
  },
  {
   "cell_type": "code",
   "execution_count": 22,
   "metadata": {},
   "outputs": [],
   "source": [
    "video_dir = video_storage_dir / talk_name"
   ]
  },
  {
   "cell_type": "code",
   "execution_count": 23,
   "metadata": {},
   "outputs": [],
   "source": [
    "transcript_path = video_dir / f\"{talk_name}.txt\""
   ]
  },
  {
   "cell_type": "code",
   "execution_count": 24,
   "metadata": {},
   "outputs": [
    {
     "name": "stdout",
     "output_type": "stream",
     "text": [
      "/Users/phapman/Desktop/tnh-scholar/sandbox/video_transcriptions/Kinh Tư Lượng [TTSĐCTTĐB 01] ｜ TS Thích Nhất Hạnh (20-11-1994, Xóm Thượng, Làng Mai)/Kinh Tư Lượng [TTSĐCTTĐB 01] ｜ TS Thích Nhất Hạnh (20-11-1994, Xóm Thượng, Làng Mai).txt\n"
     ]
    },
    {
     "data": {
      "text/plain": [
       "True"
      ]
     },
     "execution_count": 24,
     "metadata": {},
     "output_type": "execute_result"
    }
   ],
   "source": [
    "print(transcript_path)\n",
    "transcript_path.exists()"
   ]
  },
  {
   "cell_type": "code",
   "execution_count": 25,
   "metadata": {},
   "outputs": [],
   "source": [
    "transcript = get_text_from_file(transcript_path)"
   ]
  },
  {
   "cell_type": "code",
   "execution_count": 26,
   "metadata": {},
   "outputs": [
    {
     "name": "stdout",
     "output_type": "stream",
     "text": [
      "Đây là ngày 20 tháng 11 năm 1994. Sáng hôm nay chúng ta đã làm lễ khai kinh ở trên Thiền đường Cam Lộ.\n",
      "Đề tài của khóa tu mùa đông này là\n",
      "truyền thống sân động của thiền tập.\n",
      "Trong Đạo Bụt.\n",
      "Và dạy tiếng Anh là The Living Tradition of Buddhist Meditation.\n",
      "Chúng ta thấy rằng cái chữ thiền tập ở đây được việc bằng là tiếng Anh là Meditation.\n",
      "Và truyền thống sân động của thiền tập trong Đạo Bụt có nghĩa là ngoài Đạo Bụt nó cũng có thiền tập.\n",
      "Thành ra dịch thiền tập trong Đạo Bụt mình dịch là Buddhist Meditation.\n",
      "Tại vì ngoài Đạo Bụt nó còn có những cái truyền thống thiền tập khác.\n",
      "Chữ sân động ở đây nó có nghĩa là nó là một thực tài sống.\n",
      "Chứ không phải là một cái nền triết lý mà mình nghiên cứu.\n",
      "Một cái nền triết lý nó nằm trong sách vở mà mình nghiên cứu.\n",
      "Và cái chủ đề này không phải là một chủ đề dành cho người nghiên cứu.\n",
      "Đúng là phương diện truy thức.\n",
      "Mà là một chủ đề dành cho người muốn và có cái niềm thao thức thực tập.\n",
      "Vì vậy cho nên trong suốt khóa tu chúng ta sẽ có cơ hội thiên n\n"
     ]
    }
   ],
   "source": [
    "print(transcript[:1000])"
   ]
  },
  {
   "cell_type": "code",
   "execution_count": 27,
   "metadata": {},
   "outputs": [],
   "source": [
    "wrapped_transcript = wrap_lines(transcript, number=True)"
   ]
  },
  {
   "cell_type": "code",
   "execution_count": 50,
   "metadata": {},
   "outputs": [
    {
     "name": "stdout",
     "output_type": "stream",
     "text": [
      "<1:Đây là ngày 20 tháng 11 năm 1994. Sáng hôm nay chúng ta đã làm lễ khai kinh ở trên Thiền đường Cam Lộ.>\n",
      "<2:Đề tài của khóa tu mùa đông này là>\n",
      "<3:truyền thống sân động của thiền tập.>\n",
      "<4:Trong Đạo Bụt.>\n",
      "<5:Và dạy tiếng Anh là The Living Tradition of Buddhist Meditation.>\n",
      "<6:Chúng ta thấy rằng cái chữ thiền tập ở đây được việc bằng là tiếng Anh là Meditation.>\n",
      "<7:Và truyền thống sân động của thiền tập trong Đạo Bụt có nghĩa là ngoài Đạo Bụt nó cũng có thiền tập.>\n",
      "<8:Thành ra dịch thiền tập trong Đạo Bụt mình dịch là Buddhist Meditation.>\n",
      "<9:Tại vì ngoài Đạo Bụt nó còn có những cái truyền thống thiền tập khác.>\n",
      "<10:Chữ sân động ở đây nó có nghĩa là nó là một thực tài sống.>\n",
      "<11:Chứ không phải là một cái nền triết lý mà mình nghiên cứu.>\n",
      "<12:Một cái nền triết lý nó nằm trong sách vở mà mình nghiên cứu.>\n",
      "<13:Và cái chủ đề này không phải là một chủ đề dành cho người nghiên cứu.>\n",
      "<14:Đúng là phương diện truy thức.>\n",
      "<15:Mà là một chủ đề dành cho người muốn và có cái niềm thao thức thực tập\n"
     ]
    }
   ],
   "source": [
    "print(wrapped_transcript[:1000])"
   ]
  },
  {
   "cell_type": "code",
   "execution_count": 30,
   "metadata": {},
   "outputs": [],
   "source": [
    "section_instructions = process_section_instructions_vi.format(section_count=\"\")"
   ]
  },
  {
   "cell_type": "code",
   "execution_count": 31,
   "metadata": {},
   "outputs": [
    {
     "name": "stdout",
     "output_type": "stream",
     "text": [
      "You are a highly skilled and meticulous assistant processing an audio transcript of a Dharma Talk given by Thich Nhat Hanh in English.\n",
      "\n",
      "Each line of the transcript is numbered in the format: <NUM:LINE> \n",
      "\n",
      "You goal is to divide the entire transcript into  logical sections based on content. \n",
      "\n",
      "For each section, give the title, a brief summary, and starting and ending line numbers.\n",
      "\n",
      "Also provide a brief summary of the whole text.\n",
      "\n",
      "IMPORTANT: Every line in the transcript must belong to a section. Don't leave out any lines. Don't include lines in more than one section.\n"
     ]
    }
   ],
   "source": [
    "print(section_instructions)"
   ]
  },
  {
   "cell_type": "code",
   "execution_count": 35,
   "metadata": {},
   "outputs": [
    {
     "name": "stderr",
     "output_type": "stream",
     "text": [
      "2024-12-20 19:25:21,611 - tnh.open_ai_text_processing - \u001b[36mINFO\u001b[0m - Postprocessing started.\u001b[0m\n"
     ]
    }
   ],
   "source": [
    "section_object = process_text(wrapped_transcript, section_instructions, response_object=DharmaTalkSections, max_tokens=5000)"
   ]
  },
  {
   "cell_type": "code",
   "execution_count": 36,
   "metadata": {},
   "outputs": [],
   "source": [
    "json_section_path = video_dir / f\"section_{talk_name}.json\""
   ]
  },
  {
   "cell_type": "code",
   "execution_count": 37,
   "metadata": {},
   "outputs": [],
   "source": [
    "save_model_to_json(json_section_path, section_object)"
   ]
  },
  {
   "cell_type": "code",
   "execution_count": 94,
   "metadata": {},
   "outputs": [],
   "source": [
    "# section_object = load_json_into_model(json_section_path, DharmaTalkSections)"
   ]
  },
  {
   "cell_type": "code",
   "execution_count": 38,
   "metadata": {},
   "outputs": [
    {
     "name": "stdout",
     "output_type": "stream",
     "text": [
      "The Dharma talk by Thich Nhat Hanh discusses the theme of the winter retreat, which is the 'Living Tradition of Buddhist Meditation.' It emphasizes the need to maintain mindfulness meditation as a living, adaptive practice that addresses human suffering and needs across different eras. The talk references the use of canonical texts, particularly the Sutta on Measuring (Anumana Sutta), to provide guidelines for practitioners to review personal faults and virtues in the context of a community. It highlights the importance of Sangha building, as without a supportive community, personal transformation and practice are challenging.\n"
     ]
    }
   ],
   "source": [
    "print(section_object.talk_summary)"
   ]
  },
  {
   "cell_type": "code",
   "execution_count": 39,
   "metadata": {},
   "outputs": [
    {
     "data": {
      "text/plain": [
       "[Section(title_vi='Giới thiệu khóa tu và chủ đề truyền thống Thiền tập', title_en='Introduction to the Retreat and Theme of the Living Tradition of Meditation', summary=\"Thich Nhat Hanh introduces the winter retreat's focus on the 'Living Tradition of Buddhist Meditation.' This includes understanding the dynamic nature of meditation within Buddhist teachings, acknowledging that meditation exists outside Buddhism as well, and ensuring it's a responsive practice addressing human needs and suffering.\", start_line=1, end_line=27),\n",
       " Section(title_vi='Lịch sử và triển khai của thiền tập Phật giáo', title_en='The History and Development of Buddhist Meditation', summary='An overview of the historical development of meditation from the time of the Buddha to the emergence of Mahayana Buddhism. The talk covers the spread of meditation practices from India to China and Vietnam, highlighting the challenges of fully understanding meditation traditions across multiple countries within a short retreat period.', start_line=28, end_line=42),\n",
       " Section(title_vi='Tổng quan về Kinh Tư Lượng', title_en='Overview of the Anumana Sutta (Sutta on Measuring)', summary=\"The talk introduces the Anumana Sutta or Sutta on Measuring, explaining its use in the Pali and Chinese canons. It emphasizes the Sutta's relevance for community building within the Sangha, as it was commonly recited after the monastic code, explaining its practical relevance and broad acceptance across traditions.\", start_line=43, end_line=89),\n",
       " Section(title_vi='Giới thiệu và phân tích Kinh Tư Lượng', title_en='Introduction and Analysis of the Anumana Sutta', summary='Thich Nhat Hanh explains the significance of the Anumana Sutta, believed to reflect the teachings of Maha Moggallana, a disciple of the Buddha. He outlines key themes of the text, including personal reflection and community guidance, and emphasizes the importance of altruistic listening and speaking to overcome personal and communal obstacles.', start_line=90, end_line=172),\n",
       " Section(title_vi='Các nguyên do gây cô lập trong Tăng thân', title_en='Causes of Isolation within the Sangha', summary='This section discusses behaviors that can lead to a practitioner feeling isolated within the Sangha. These include attachment to personal desires, arrogance, and an inability or unwillingness to accept criticism. The talk advocates self-reflection to identify these traits and encourages nurturing an intentional community to maintain harmony.', start_line=173, end_line=275),\n",
       " Section(title_vi='Thực những đức tính tốt để duy trì Tăng thân', title_en='Cultivating Good Qualities to Sustain the Sangha', summary='The concluding part lists good qualities to nurture within oneself to promote openness and communality within the Sangha. By reflecting on personal conduct regularly and aligning one’s actions with the precepts voiced in the Sutta, practitioners can ensure they are approachable and receptive, thereby fostering a supportive community environment.', start_line=276, end_line=412),\n",
       " Section(title_vi='Sử dụng Kinh như một công cụ thực tập', title_en='Using the Sutta as a Practice Tool', summary=\"The discussion emphasizes using the Sutta as a mirror for self-assessment, encouraging Sangha members to be introspective like viewing one's reflection. The aim is personal development through recognizing and addressing one's faults and identifying the need for community support, reinforcing Sangha building as an essential practice.\", start_line=413, end_line=466),\n",
       " Section(title_vi='Những cách phản ứng tiêu cực và thực tập lắng nghe', title_en='Negative Responses and the Practice of Listening', summary=\"The text discusses inadequacies in personal management of faults when approached by others. Emphasizing the art of listening and understanding as pivotal for personal and communal progress, the talk advises acceptance and grace in receiving feedback to prevent isolation and ensure the Sangha's health.\", start_line=467, end_line=540),\n",
       " Section(title_vi='Bài học từ Kinh và lời dạy của Thầy', title_en='Lessons from the Sutta and the Teachings of the Teacher', summary='Thich Nhat Hanh shares reflections from the ancient practices, noting their continuity through time. He underscores the teachings of disciples such as Maha Moggallana, in cultivating mindfulness and community spirit through successive generations, highlighting the value of historical context in modern application.', start_line=541, end_line=640),\n",
       " Section(title_vi='Kết luận và động lực thực tập trong Tăng thân', title_en='Concluding Remarks and Motivation for Sangha Practice', summary='The talk concludes by returning to the essence of Sangha building, as laid down by the Buddha. Through a mix of historical anecdotes and personal practice insights, Thich Nhat Hanh encourages practitioners to remain open to the Dharma, to aid in transforming personal suffering and building a supportive community.', start_line=641, end_line=847)]"
      ]
     },
     "execution_count": 39,
     "metadata": {},
     "output_type": "execute_result"
    }
   ],
   "source": [
    "section_object.sections"
   ]
  },
  {
   "cell_type": "code",
   "execution_count": 42,
   "metadata": {},
   "outputs": [
    {
     "data": {
      "text/plain": [
       "10"
      ]
     },
     "execution_count": 42,
     "metadata": {},
     "output_type": "execute_result"
    }
   ],
   "source": [
    "len(section_object.sections)"
   ]
  },
  {
   "cell_type": "code",
   "execution_count": 40,
   "metadata": {},
   "outputs": [],
   "source": [
    "output_xml_path = video_dir / f\"formatted_{talk_name}.xml\""
   ]
  },
  {
   "cell_type": "code",
   "execution_count": 41,
   "metadata": {},
   "outputs": [
    {
     "name": "stdout",
     "output_type": "stream",
     "text": [
      "/Users/phapman/Desktop/tnh-scholar/sandbox/video_transcriptions/Kinh Tư Lượng [TTSĐCTTĐB 01] ｜ TS Thích Nhất Hạnh (20-11-1994, Xóm Thượng, Làng Mai)/formatted_Kinh Tư Lượng [TTSĐCTTĐB 01] ｜ TS Thích Nhất Hạnh (20-11-1994, Xóm Thượng, Làng Mai).xml\n"
     ]
    }
   ],
   "source": [
    "print(output_xml_path)"
   ]
  },
  {
   "cell_type": "markdown",
   "metadata": {},
   "source": [
    "### for repairing: conditionally adding some sections or all sections as specified by the section_range"
   ]
  },
  {
   "cell_type": "code",
   "execution_count": 60,
   "metadata": {},
   "outputs": [
    {
     "name": "stderr",
     "output_type": "stream",
     "text": [
      "2024-12-20 20:38:43,781 - tnh.postprocessing_english - \u001b[36mINFO\u001b[0m - Sections to process: [0, 1, 2, 3, 4, 5, 6, 7, 8, 9]\u001b[0m\n",
      "2024-12-20 20:38:43,782 - tnh.postprocessing_english - \u001b[36mINFO\u001b[0m - Processing section 1: 'Introduction to the Retreat and Theme of the Living Tradition of Meditation'...\u001b[0m\n",
      "2024-12-20 20:38:43,783 - tnh.postprocessing_english - \u001b[36mINFO\u001b[0m - Processing instructions:\n",
      "You are the world's leading expert at translating Dharma talks transcribed from spoken Vietnamese.\n",
      "\n",
      "You are translating a section titled 'Introduction to the Retreat and Theme of the Living Tradition of Meditation' from a Dharma talk offered by Thich Nhat Hanh (Thay) in Plum Village, France.\n",
      "\n",
      "Lines of the transcript are numbered and are given in the format <NUM:LINE>.\n",
      "\n",
      "Your task is to translate each line into correct, clear and typical English. Add correct punctuation to create meaning that matches the speakers style and intent.\n",
      "\n",
      "You may have to infer the Thay's intent in order to correct transcription or speaking errors and to generate a text that most closely matches the speaker's meaning,\n",
      "while still giving clear and eloquent English. Give the best approximation or contextual guess if the transcript is difficult or unclear. Make no comments. \n",
      "\n",
      "Use Plum Village typical English style when making translations.\n",
      "\n",
      "You may consider adjacent lines for corrections and context when generating a line, however each line of translation should be as close as possible a translation of the original line.\n",
      "\n",
      "Some transcriptions may be from sounds such as a bell. These can be marked as [Bell].\n",
      "\n",
      "You must faithfully capture Thay's style and presentation while creating a meaningful flow.\n",
      "\n",
      "Do not leave out any content or summarize. \n",
      "\n",
      "The final output should match the same line structure as the original.\n",
      "\n",
      "Your output should be a polished section.\n",
      "\n",
      "Make no other changes; add no content.\n",
      "\n",
      "Output the final text only.\u001b[0m\n",
      "2024-12-20 20:38:43,784 - tnh.open_ai_text_processing - \u001b[36mINFO\u001b[0m - Postprocessing started...\u001b[0m\n"
     ]
    },
    {
     "name": "stderr",
     "output_type": "stream",
     "text": [
      "2024-12-20 20:38:48,908 - tnh.open_ai_text_processing - \u001b[36mINFO\u001b[0m - Processing completed.\u001b[0m\n",
      "2024-12-20 20:38:48,910 - tnh.postprocessing_english - \u001b[36mINFO\u001b[0m - Processing section 2: 'The History and Development of Buddhist Meditation'...\u001b[0m\n",
      "2024-12-20 20:38:48,912 - tnh.open_ai_text_processing - \u001b[36mINFO\u001b[0m - Postprocessing started...\u001b[0m\n",
      "2024-12-20 20:38:51,004 - tnh.open_ai_text_processing - \u001b[36mINFO\u001b[0m - Processing completed.\u001b[0m\n",
      "2024-12-20 20:38:51,006 - tnh.postprocessing_english - \u001b[36mINFO\u001b[0m - Processing section 3: 'Overview of the Anumana Sutta (Sutta on Measuring)'...\u001b[0m\n",
      "2024-12-20 20:38:51,011 - tnh.open_ai_text_processing - \u001b[36mINFO\u001b[0m - Postprocessing started...\u001b[0m\n",
      "2024-12-20 20:39:01,981 - tnh.open_ai_text_processing - \u001b[36mINFO\u001b[0m - Processing completed.\u001b[0m\n",
      "2024-12-20 20:39:01,984 - tnh.postprocessing_english - \u001b[36mINFO\u001b[0m - Processing section 4: 'Introduction and Analysis of the Anumana Sutta'...\u001b[0m\n",
      "2024-12-20 20:39:01,989 - tnh.open_ai_text_processing - \u001b[36mINFO\u001b[0m - Postprocessing started...\u001b[0m\n",
      "2024-12-20 20:39:12,251 - tnh.open_ai_text_processing - \u001b[36mINFO\u001b[0m - Processing completed.\u001b[0m\n",
      "2024-12-20 20:39:12,252 - tnh.postprocessing_english - \u001b[36mINFO\u001b[0m - Processing section 5: 'Causes of Isolation within the Sangha'...\u001b[0m\n",
      "2024-12-20 20:39:12,257 - tnh.open_ai_text_processing - \u001b[36mINFO\u001b[0m - Postprocessing started...\u001b[0m\n",
      "2024-12-20 20:39:27,575 - tnh.open_ai_text_processing - \u001b[36mINFO\u001b[0m - Processing completed.\u001b[0m\n",
      "2024-12-20 20:39:27,578 - tnh.postprocessing_english - \u001b[36mINFO\u001b[0m - Processing section 6: 'Cultivating Good Qualities to Sustain the Sangha'...\u001b[0m\n",
      "2024-12-20 20:39:27,584 - tnh.open_ai_text_processing - \u001b[36mINFO\u001b[0m - Postprocessing started...\u001b[0m\n",
      "2024-12-20 20:39:52,995 - tnh.open_ai_text_processing - \u001b[36mINFO\u001b[0m - Processing completed.\u001b[0m\n",
      "2024-12-20 20:39:52,997 - tnh.postprocessing_english - \u001b[36mINFO\u001b[0m - Processing section 7: 'Using the Sutta as a Practice Tool'...\u001b[0m\n",
      "2024-12-20 20:39:53,003 - tnh.open_ai_text_processing - \u001b[36mINFO\u001b[0m - Postprocessing started...\u001b[0m\n",
      "2024-12-20 20:40:08,945 - tnh.open_ai_text_processing - \u001b[36mINFO\u001b[0m - Processing completed.\u001b[0m\n",
      "2024-12-20 20:40:08,946 - tnh.postprocessing_english - \u001b[36mINFO\u001b[0m - Processing section 8: 'Negative Responses and the Practice of Listening'...\u001b[0m\n",
      "2024-12-20 20:40:08,951 - tnh.open_ai_text_processing - \u001b[36mINFO\u001b[0m - Postprocessing started...\u001b[0m\n",
      "2024-12-20 20:40:31,427 - tnh.open_ai_text_processing - \u001b[36mINFO\u001b[0m - Processing completed.\u001b[0m\n",
      "2024-12-20 20:40:31,429 - tnh.postprocessing_english - \u001b[36mINFO\u001b[0m - Processing section 9: 'Lessons from the Sutta and the Teachings of the Teacher'...\u001b[0m\n",
      "2024-12-20 20:40:31,436 - tnh.open_ai_text_processing - \u001b[36mINFO\u001b[0m - Postprocessing started...\u001b[0m\n",
      "2024-12-20 20:41:02,629 - tnh.open_ai_text_processing - \u001b[36mINFO\u001b[0m - Processing completed.\u001b[0m\n",
      "2024-12-20 20:41:02,631 - tnh.postprocessing_english - \u001b[36mINFO\u001b[0m - Processing section 10: 'Concluding Remarks and Motivation for Sangha Practice'...\u001b[0m\n",
      "2024-12-20 20:41:02,636 - tnh.open_ai_text_processing - \u001b[36mINFO\u001b[0m - Postprocessing started...\u001b[0m\n",
      "2024-12-20 20:41:48,889 - tnh.open_ai_text_processing - \u001b[36mINFO\u001b[0m - Processing completed.\u001b[0m\n"
     ]
    }
   ],
   "source": [
    "sections = section_object.sections\n",
    "sections_processed = []\n",
    "\n",
    "section_range = range(0, 10)\n",
    "\n",
    "logger.info(f\"Sections to process: {list(section_range)}\")\n",
    "for i in section_range:\n",
    "    section = sections[i]\n",
    "    logger.info(f\"Processing section {i+1}: '{section.title_en}'...\")\n",
    "    original_lines = lines_from_wrapped_text(\n",
    "        wrapped_transcript,  \n",
    "        start=section.start_line,\n",
    "        end=section.end_line,\n",
    "        keep_brackets=True\n",
    "    )\n",
    "    section_instructions = section_instructions_translate_vi.format(section_title=section.title_en)\n",
    "    \n",
    "    if i == 0:\n",
    "        logger.info(f\"Processing instructions:\\n{section_instructions}\")\n",
    "    \n",
    "    processed_lines = process_text(original_lines, section_instructions, batch=False)\n",
    "    processed_line = processed_lines\n",
    "    sections_processed.append(f\"<section>\\n<title>{section.title_en}</title>\\n{processed_lines}\\n</section>\")\n",
    "output_str = \"<document>\\n\" + \"\\n\\n\".join(sections_processed) + \"\\n</document>\"\n",
    "write_text_to_file(output_xml_path, output_str, overwrite=True)\n"
   ]
  },
  {
   "cell_type": "code",
   "execution_count": 53,
   "metadata": {},
   "outputs": [
    {
     "name": "stdout",
     "output_type": "stream",
     "text": [
      "<document>\n",
      "<1:Today is the 20th of November, 1994. This morning, we held the opening ceremony for the retreat at the Cam Lo Meditation Hall.>\n",
      "<2:The theme of this winter retreat is>\n",
      "<3:The Living Tradition of Meditation.>\n",
      "<4:In the Buddhist tradition.>\n",
      "<5:And it is translated into English as The Living Tradition of Buddhist Meditation.>\n",
      "<6:We see that the term 'thiền tập' is translated into English as Meditation.>\n",
      "<7:And the living tradition of meditation in Buddhism means that outside of Buddhism, there is also meditation.>\n",
      "<8:Therefore, we translate 'thiền tập' in Buddhism as Buddhist Meditation.>\n",
      "<9:Because outside of Buddhism, there are also other meditation traditions.>\n",
      "<10:The term 'living' here means it is a living reality.>\n",
      "<11:Not merely a philosophical foundation that we study.>\n",
      "<12:A philosophical foundation that resides in books, which we study.>\n",
      "<13:And this theme is not for those interested purely in academic research.>\n",
      "<14:It pertains to experiential understanding.>\n",
      "<15:But it is meant for people who wish to actively practice and have the aspiration to do so.>\n",
      "<16:Therefore, throughout the retreat, we will have the opportunity to experience the methods of Buddhist meditation.>\n",
      "<17:From the methods taught directly by the Buddha.>\n",
      "<18:To those developed and offered by the masters of the tradition.>\n",
      "<19:This is an opportunity for us to look back at the history of the tradition of meditation.>\n",
      "<20:And to see that meditation is not something rigid.>\n",
      "<21:But a living reality.>\n",
      "<22:And meditation must respond to the needs and sufferings of human beings.>\n",
      "<23:And these needs and sufferings vary through different eras.>\n",
      "<24:Seeing this, we feel it is our duty to keep the tradition of meditation alive.>\n",
      "<25:Not to turn it into merely an intellectual subject.>\n",
      "<26:And as long as meditation maintains its dynamic nature,>\n",
      "<27:it can continue to serve humanity.>\n",
      "<28:Because it answers some of the deepest questions of human existence.>\n",
      "<29:These are the questions that pertain to suffering and happiness.>\n",
      "<30:Let us begin by looking at the meditation practices from the time of the Buddha.>\n",
      "<31:We will then continue with the meditation practices that developed after the Buddha's passing.>\n",
      "<32:When the Mahayana Buddhism was discovered and emerged,>\n",
      "<33:the meditation practices also changed.>\n",
      "<34:We will learn and practice the methods of Mahayana meditation.>\n",
      "<35:First, we will start in India.>\n",
      "<36:Then, we will examine the meditation practices that were taught and practiced in China.>\n",
      "<37:Next, we will journey into the tradition of meditation in Vietnam.>\n",
      "<38:If we have time, we will touch upon the meditation practices in Japan and Korea.>\n",
      "<39:However, realistically speaking, three months is not enough for us to study>\n",
      "<40:and explore the meditation practices of five countries.>\n",
      "<41:That is, three countries.>\n",
      "<42:India, China, and Vietnam.></document>\n"
     ]
    }
   ],
   "source": [
    "print(output_str)"
   ]
  },
  {
   "cell_type": "code",
   "execution_count": 126,
   "metadata": {},
   "outputs": [
    {
     "name": "stdout",
     "output_type": "stream",
     "text": [
      "processed_videos/video_transcriptions/The Redwood Sutra： a Dharma Talk with Brother Phap Luu ｜ 2023-06-11/formatted_The Redwood Sutra： a Dharma Talk with Brother Phap Luu ｜ 2023-06-11.xml\n"
     ]
    }
   ],
   "source": [
    "print(output_xml_path)"
   ]
  },
  {
   "cell_type": "code",
   "execution_count": 127,
   "metadata": {},
   "outputs": [
    {
     "name": "stderr",
     "output_type": "stream",
     "text": [
      "2024-12-12 21:19:15,645 - tnh.postprocessing_english - \u001b[36mINFO\u001b[0m - Sections to process: 12\u001b[0m\n",
      "2024-12-12 21:19:15,647 - tnh.postprocessing_english - \u001b[36mINFO\u001b[0m - Processing section 1: 'Introduction to Mindfulness Retreat and Personal Reflections on Redwood Trees'...\u001b[0m\n",
      "2024-12-12 21:19:15,647 - tnh.postprocessing_english - \u001b[36mINFO\u001b[0m - Processing instructions:\n",
      "You are the world's leading expert at formatting Dharma talk audio transcriptions into written text. The talks are given by native, and mostly-fluent, English speakers. \n",
      "\n",
      "The current text is a section entitled 'Introduction to Mindfulness Retreat and Personal Reflections on Redwood Trees' from a Dharma Talk offered by a California-based English-speaking monastic. \n",
      "\n",
      "Your goal is to process the section into meaningful paragraphs while correcting errors (logical, transcription, or grammatical). \n",
      "\n",
      "Use <p> tags to mark paragraphs. Insert <section> and <title> tags at the beginning of the text and close with a </section> tag. \n",
      "\n",
      "You may have to infer the speaker's intent, and also use clues from context, in order to correct transcription or speaking errors and to generate a text that most closely matches the speaker's meaning in clear and eloquent English.\n",
      "\n",
      "Faithfully convey the speaker's intended meaning as accurately as possible while maintaining the original tone and style. Use the speaker's original phrasing if it works well and is correct.\n",
      "\n",
      "The final section should be polished and publication ready.\n",
      "\n",
      "Do not leave out any content. Do not add any content. Do not summarize. \n",
      "\n",
      "Output the final text only.\u001b[0m\n",
      "2024-12-12 21:19:15,648 - tnh.video_processing - \u001b[36mINFO\u001b[0m - Starting postprocessing...\u001b[0m\n"
     ]
    },
    {
     "name": "stderr",
     "output_type": "stream",
     "text": [
      "2024-12-12 21:19:21,161 - tnh.postprocessing_english - \u001b[36mINFO\u001b[0m - Processing section 2: 'The Experience of Mindfulness and Spiritual Insights'...\u001b[0m\n",
      "2024-12-12 21:19:21,164 - tnh.video_processing - \u001b[36mINFO\u001b[0m - Starting postprocessing...\u001b[0m\n",
      "2024-12-12 21:19:24,951 - tnh.postprocessing_english - \u001b[36mINFO\u001b[0m - Processing section 3: 'Mindfulness and Technology'...\u001b[0m\n",
      "2024-12-12 21:19:24,952 - tnh.video_processing - \u001b[36mINFO\u001b[0m - Starting postprocessing...\u001b[0m\n",
      "2024-12-12 21:19:29,305 - tnh.postprocessing_english - \u001b[36mINFO\u001b[0m - Processing section 4: 'The Redwood Sutra and Its Qualities'...\u001b[0m\n",
      "2024-12-12 21:19:29,307 - tnh.video_processing - \u001b[36mINFO\u001b[0m - Starting postprocessing...\u001b[0m\n",
      "2024-12-12 21:19:43,445 - tnh.postprocessing_english - \u001b[36mINFO\u001b[0m - Processing section 5: 'Monastic Qualities and Reflection on Redwood Traits'...\u001b[0m\n",
      "2024-12-12 21:19:43,447 - tnh.video_processing - \u001b[36mINFO\u001b[0m - Starting postprocessing...\u001b[0m\n",
      "2024-12-12 21:19:49,784 - tnh.postprocessing_english - \u001b[36mINFO\u001b[0m - Processing section 6: 'Mindfulness, Sense Impressions, and Spiritual Growth'...\u001b[0m\n",
      "2024-12-12 21:19:49,787 - tnh.video_processing - \u001b[36mINFO\u001b[0m - Starting postprocessing...\u001b[0m\n",
      "2024-12-12 21:19:56,545 - tnh.postprocessing_english - \u001b[36mINFO\u001b[0m - Processing section 7: 'Community Support and Interconnection'...\u001b[0m\n",
      "2024-12-12 21:19:56,547 - tnh.video_processing - \u001b[36mINFO\u001b[0m - Starting postprocessing...\u001b[0m\n",
      "2024-12-12 21:20:04,952 - tnh.postprocessing_english - \u001b[36mINFO\u001b[0m - Processing section 8: 'Patience and Endurance in Spiritual Practice'...\u001b[0m\n",
      "2024-12-12 21:20:04,956 - tnh.video_processing - \u001b[36mINFO\u001b[0m - Starting postprocessing...\u001b[0m\n",
      "2024-12-12 21:20:18,478 - tnh.postprocessing_english - \u001b[36mINFO\u001b[0m - Processing section 9: 'Transmission of Teachings and Continuation'...\u001b[0m\n",
      "2024-12-12 21:20:18,482 - tnh.video_processing - \u001b[36mINFO\u001b[0m - Starting postprocessing...\u001b[0m\n",
      "2024-12-12 21:20:34,018 - tnh.postprocessing_english - \u001b[36mINFO\u001b[0m - Processing section 10: 'Adaptability and Learning from Environment'...\u001b[0m\n",
      "2024-12-12 21:20:34,022 - tnh.video_processing - \u001b[36mINFO\u001b[0m - Starting postprocessing...\u001b[0m\n",
      "2024-12-12 21:20:43,602 - tnh.postprocessing_english - \u001b[36mINFO\u001b[0m - Processing section 11: 'Value of Sangha and Intertwining With Traditions'...\u001b[0m\n",
      "2024-12-12 21:20:43,605 - tnh.video_processing - \u001b[36mINFO\u001b[0m - Starting postprocessing...\u001b[0m\n",
      "2024-12-12 21:20:50,809 - tnh.postprocessing_english - \u001b[36mINFO\u001b[0m - Processing section 12: 'Conclusion and Encouragement in Practice'...\u001b[0m\n",
      "2024-12-12 21:20:50,812 - tnh.video_processing - \u001b[36mINFO\u001b[0m - Starting postprocessing...\u001b[0m\n"
     ]
    },
    {
     "data": {
      "text/plain": [
       "[\"<section>\\n<title>Introduction to Mindfulness Retreat and Personal Reflections on Redwood Trees</title>\\n\\n<p>Like a redwood tree, upright in a forest of the Sangha, we feel our roots spreading out into the beautiful map on the forest floor, here in the Ocean of Peace Meditation Hall, as we listen to the three sounds of the bell.</p>\\n\\n<p>Dear respected Thay, dear noble community, welcome to our first Day of Mindfulness at Deer Park after many, many weeks. It's so nice to see the hall full, like a big forest.</p>\\n\\n<p>Many of us have seen a redwood tree or walked in the redwood forest. Can you raise your hand? Many of us. The monks and nuns just returned from Northern California, having driven two days up to the coastal redwoods near Crescent City. We camped on the banks of the Smith River. For many of our brothers and sisters, it was their first time seeing a redwood tree.</p>\\n\\n<p>When I was about 13, during my second trip on a plane, I visited that area. My father was on a business trip, and he wanted to introduce me to the redwoods. I distinctly remember, after landing in Redding, driving up as it was already dark. Eventually, the roads started winding. If any of you have been on those roads that go through the redwood forest, you know that for a New Englander like me, the usual approach is to put down the road and think about the trees later. Here, the road accommodates the trees.</p>\\n\\n<p>I hadn't seen that on a major road before, maybe on a tiny road in the backwoods or a dirt road. This road was curving to go around the trees, and I began to perceive these giants. At first, I didn't believe they were trees; I thought they were some kind of rock or boulder. Then I realized these were trees, massive trees, ancient trees, elders.</p>\\n\\n<p>In the days that followed, I learned to walk among those trees and to look out for the banana slugs as we descended to the coast and the beautiful cliffs of Northern California. Many of us...</p>\\n\\n</section>\",\n",
       " \"<section>\\n<title>The Experience of Mindfulness and Spiritual Insights</title>\\n\\n<p>Many of us may have had a spiritual experience in nature as a child. When we discover mindfulness, these moments return to us because there's a point where we suddenly awaken to the immense experience occurring in the present moment.</p>\\n\\n<p>The Buddha had an experience like this when he was a young child living in the forest. He sat under a rose apple tree, known as jambu in Southeast Asia. In Sanskrit, it's also called jambu; during the Buddha's time, India was referred to as Jambu Vipa, meaning the island of rose apples. As the Buddha sat under that tree, he watched the farmers turning up the soil for springtime, observing the insects and worms living in the earth being disturbed and destroyed. This encounter with the suffering of living beings was his first moment of insight into the Dharma and led to a profound experience of concentration.</p>\\n\\n<p>I remember a similar experience in my youth, sitting on the back bowls of Breckenridge, a ski mountain in Colorado. I grew up in a skiing family, and there was a time when I was alone and relatively young—maybe around 15 years old. The snow had started falling, creating an empty landscape around me, with only the pine trees and the quiet sound of snow touching the surface. It was a moment of peace and an awakening to the present moment.</p>\\n</section>\",\n",
       " \"<section>\\n<title>Mindfulness and Technology</title>\\n\\n<p>We can enjoy our breathing as we mindfully listen to the sound of the cell phone ringing. At Deer Park, we have a very special meditation practice that involves our mobile devices. Many of you have a cell phone or mobile phone, right? No, I don't believe it. Come on! We're going to engage in a little meditation with our cell phones.</p>\\n\\n<p>First, you have to be honest. I want everybody who has a cell phone to take it out and hold it up into the air. We are going to proudly display our phones. It doesn't matter whether it's an Android or an iPhone, or whether you are a monk or a nun. Just hold it up, and we're going to look at it and smile. Smile at your cell phone.</p>\\n\\n<p>Don't look at your neighbor and judge them based on whether they have a Samsung or an Apple, as if that determined their personality. Now, we're going to mindfully breathe. Each phone is different, but usually, you can hold down the button for a while until the option to power off appears. We’re practicing saving power here.</p>\\n\\n<p>Take a mindful breath in, and out, as you hold down the power off button. Then, drag your finger across. In doing this, we are freeing ourselves.</p>\\n</section>\",\n",
       " '<section>\\n<title>The Redwood Sutra and Its Qualities</title>\\n<p>So back to this snow bowl in Breckenridge, before the age of iPhones. I recognize that I\\'m very privileged to be able to ski on the back bowl of Breckenridge Mountain. Anyhow, I suddenly had this experience of no separation—no separation between the snow and the water and my body, no separation between the mountain and my bones, no separation between the sky and my breath, no separation between my body and the earth. I couldn\\'t describe it like that in words until I became a monk and reflected on that experience.</p>\\n<p>We all may have had experiences like that in our lives, where we kind of awaken to a purity, the innate suchness of things, and we realize there are already enough conditions for us to be happy. In a moment like that, you don\\'t need to live another second. Your life is already complete, has been fulfilled. I had a little bit of that experience when I first saw the immensity of the redwood trees and walked among them.</p>\\n<p>We are very fortunate as monks and nuns. Because there is so much snow in the Sierra Nevada, they moved the Sangha trip to the redwoods. The first day of walking among the redwoods was so joyful—to see the massive girth of the redwoods, the fibrous bark, to place our hands on it, to look up and not be able to see the top of the tree, and the giant burls coming out the side. The roots, when a redwood has fallen, rise two or three times our height, with new trees, mosses, and lichens growing on the fallen trunk, crisscrossing the forest floor. The monks and nuns somehow got very excited and happy.</p>\\n<p>As we were driving back from that first walk, one of the sisters, Sister Lockneem, suggested that we should write a redwood sutra. We began thinking of all the qualities of a redwood that are admirable. The next day, after breakfast, we started writing it down. Every night while we were camping, the monks and nuns would gather around the fire for dinner and sing songs. We tried to have everyone sing a song, even if they didn\\'t think they could.</p>\\n<p>The Sangha then asked me to read the draft of the Redwood Sutra. I read it, and we translated it into Vietnamese so that everyone could understand. After listening, the monks and nuns were very happy and began to put it into practice. Today, I\\'m going to share some bits of this new Redwood Sutra. But first, I\\'d like to draw something like a redwood on the board. Please be very compassionate regarding my drawing skills.</p>\\n<p>Sometimes they have doubles. Let me draw a little monk. Okay, I\\'ll draw a nun embracing the redwood. Oh wait, more monks taking pictures. We took a lot of pictures. I told you, please be compassionate.</p>\\n<p>Thus have I heard, one time when the Venerable Mrigavattamsaka was residing in the Del Norte redwoods by the banks of the Smith River, California. I wanted to say in the country of California, but I don\\'t know if that would be controversial. After eating a breakfast of grilled corn with the Sangha, the Venerable Mrigavattamsaka spoke to the assembled monks and nuns. Surrounded by firs and redwoods, with nomads, campers, squirrels, jays, elk, and a bear nearby, he said: \"Friends of the forest, there are eight qualities of a redwood tree that make it an exceptional tree worthy of respect and admiration. What are the eight?</p>\\n<p>The redwood knows how to grow its wood in such a way that it protects itself from infection and rot. The roots of the redwood know how to grow laterally on the forest floor and interlock with each other\\'s roots into a mat to support its enormous weight. The redwood can tolerate shade well for many years as a sapling until it has access to sunlight, when it grows up straight rapidly to reach the top of the forest canopy. The seed of the redwood is small, like a tomato seed, but it grows higher than any other tree. The trunk of a fallen redwood provides a surface and sustenance for the younger generation to put down their roots and grow over it. The burls and crotches of the redwood create soil, access to sunlight, and water for many other plants: huckleberries, ferns, mosses, lichens, and other trees and animals that grow and live on it. The redwood harvests the fog and rain, providing water for itself and the forest floor below. A redwood knows that it can grow most beautifully, tall and stably, in a grove, supporting and protecting one another in harmony.\"</p>\\n</section>',\n",
       " \"<section>\\n<title>Monastic Qualities and Reflection on Redwood Traits</title>\\n\\n<p>In the same way, oh friends of the forest, when a monastic or a practitioner in our Sangha knows how to put into practice these eight qualities of a redwood, they also become an exceptional monk or nun, worthy of respect and admiration.</p>\\n\\n<p>What are these eight qualities? A monastic knows how to protect themselves and protect others with their practice of the precepts and fine manners, shielding from sense impressions that give rise to craving or hatred. These are impressions arising from the eye, the ear, the nose, the tongue, the body, or the mind. They recognize that these sense impressions are as fleeting as a bubble, a flash of lightning, or a magic trick, and their mind is not attached to or carried away by them. This is how a monastic protects themselves from infection.</p>\\n\\n<p>Redwood trees have a very thick bark. If you put your hand on it, it feels almost like, not quite like cardboard, but it's kind of spongy. You can push into it, and it has deep furrows. That thick, fibrous bark protects the tree from infection. It also has chemical defenses; tannin and lignin are produced, which have antimicrobial properties. So if there is an infection, it can neutralize it very quickly. Similarly, we practice with our sense impressions.</p>\\n\\n<p>The path of a monastic or practitioner is to develop these protective qualities, just as redwoods protect themselves with their unique bark and chemical defenses.</p>\\n</section>\",\n",
       " \"<section>\\n<title>Mindfulness, Sense Impressions, and Spiritual Growth</title>\\n\\n<p>The goal is not to avoid sense impressions or ignore them entirely. Instead, we aim not to get carried away by the images we see on the internet. Consider situations like binge-watching Netflix or YouTube, which often leave us feeling uneasy or unsure of how to spend our time. Here, mindfulness becomes our anchor. It allows us to stop and return to the present moment, recognizing that such activities are not nourishing. They don't help us grow straight and tall on our spiritual path; instead, we veer off course. Mindfulness helps us become aware of these tendencies.</p>\\n\\n<p>Take a simple act like opening the refrigerator. What drives us to peer inside? Often, it’s not genuine hunger but boredom. When I was a child, I would open the fridge and just stand there, feeling the cold air, not because I was hungry but out of curiosity—wondering if there was anything new or exciting that my mom brought home. Today, technology offers smart fridges that know when you are low on certain ingredients and can order them online. Does anyone here do that? Jennifer, nodding her head, might have insider knowledge from her time at Google. But really, do people let technology automatically replenish their food items? It seems some do, while others don't.</p>\\n\\n<p>These experiences illustrate how we are constantly bombarded by sense impressions. Another example is grocery shopping when hungry, which is risky. The common advice is to go shopping when you’re full. A disciplined approach, like sticking to a shopping list, trains us not to succumb to sensory temptations such as sale items or the enticing setup of products accompanied by nostalgic music playing in the background, making us feel young again. These are the small lessons we can learn, akin to the wisdom of the redwood tree.</p>\\n\\n<p>Mindfulness acts like a chemical defense, similar to an immune system. It's not about eliminating threats but bolstering our capacity to resist being swept away by sense impressions. We begin to see them for what they are—illusions produced by our nervous system to help distinguish ripe fruit from potential poisons in nature. In contemporary society, these impressions have been repurposed in ways our evolution has not prepared us to handle harmoniously. Mindfulness helps us navigate this complexity.</p>\\n</section>\",\n",
       " '<section>\\n<title>Community Support and Interconnection</title>\\n<p>And so, advertising and bright colors have influenced our perceptions such that we can no longer tell by the color of a tomato whether it will taste good. It\\'s akin to being just a bubble of water, devoid of true substance. While we have these bright vegetables, they are cultivated to be visually appealing, with colors that please the eye but may not please the palate or nourish the body. We are actively changing our environment based on our desires for sensory pleasure. This creates an illusion, one where a sweet-looking tomato can actually be quite bland.</p>\\n\\n<p>The redwood tree offers an insightful comparison. It has resistant heartwood; the core of the tree contains high levels of extractives, natural compounds that offer protection and the ability to compartmentalize infection. This feature is one reason why redwoods can live so long—when an infection occurs, the tree isolates it, preventing it from taking over entirely.</p>\\n\\n<p>In contrast, oak trees here have suffered from beetles that infiltrate and can overtake the entire tree. Sometimes, the severity of the infestation isn\\'t evident for many years, only becoming apparent when a storm causes the weakened tree to fall.</p>\\n\\n<p>Similarly, as practitioners, we can fall into the trap of thinking, \"I\\'m a very good mindfulness practitioner.\" We might attend Deer Park regularly, subscribe to mindfulness magazines, or even hold prestigious positions in the mindfulness industry, such as being a professor or director at a business. These are components of what we might call the spiritual materialistic culture of mindfulness.</p>\\n\\n<p>However, if we do not genuinely care for how we relate to our sense impressions, we may unknowingly harbor internal conflicts and issues, much like the oak tree with the unseen beetle infestation. True mindfulness requires deep, internal nurturing, not just the appearance of engagement or credentials in the mindfulness community.</p>\\n</section>',\n",
       " '<section>\\n<title>Patience and Endurance in Spiritual Practice</title>\\n\\n<p>What comes in, that is all just the outer form. Inside, in the heartwood, there is an infection. It is taking over. If we truly practice mindfulness well, we learn to compartmentalize the infection. We don\\'t let it take over. One technique I like to use is to focus on a part of my body that is not experiencing pain. When I have a painful feeling or am pulled away by a strong emotion, for example, I come back to my bones. They\\'re very solid. They\\'re not affected by these romantic feelings in my gut or whatever it is—these hormones being stimulated at that moment. Maybe it\\'s just indigestion. You start to psychoanalyze yourself because of a bit of indigestion. \"Oh, it\\'s because of how my mom treated me when I was four years old.\" It doesn\\'t necessarily mean that she treated you poorly, but it suggests you\\'re not learning to isolate the infection.</p>\\n\\n<p>Mindfulness helps us not to completely cut off but to focus and assert, \"Okay, I\\'m not going to let that thought take over my mind. I\\'m not going to let these sense impressions take over my mind.\" The Buddha experienced seeing, hearing, tasting, and touching, and he enjoyed his food, but those sense pleasures didn\\'t invade and dominate his mind. He mentioned this many times. If we are a bit naive or beginning in the practice, we might engage in spiritual bypassing. We might claim, \"That didn\\'t affect me. I am equanimous,\" while real suffering is present. We might project an exterior of not suffering, but internally we might be deeply wounded.</p>\\n\\n<p>Thus, it’s not that sense impressions don\\'t come in through our eyes, ears, nose, tongue, body, and mind, but we don\\'t let them dominate our mind. Learn to bring mindfulness to that thought and see that we are exaggerating that emotion through our way of thinking, self-critique, and judgment. Like the redwood tree, which heals its wounds rapidly, mindfulness allows us to heal quickly and isolates the exposure to stop further infection. When some trees get an opening or a wound, like cutting a branch without protection, infection can enter through that area. The redwood is adept at self-healing, preventing further infection. This kind of mindful practice, inspired by the redwood, is one way to cultivate patience and endurance.</p>\\n\\n<p>Secondly, a monastic establishes strong roots throughout the Sangha, connecting with others and finding joy in the whole community without discrimination. They see the good in everyone and help others do the same. A monastic knows how to interlock their roots with others in the Sangha, similar to how a redwood tree operates. Interestingly, a redwood tree doesn\\'t have a taproot like many trees, such as the oaks here. These trees send a deep root down to access water and nutrients. In contrast, a redwood sends its roots out laterally, far beyond the crown\\'s diameter, interlocking with nearby redwoods. When winds or storms arrive, these interlocked roots provide immense stability.</p>\\n\\n<p>About three to five feet thick, the layer of interlocking roots demonstrates the benefit of growing together. If one is threatened, they are all threatened, yet they also create incredible stability. Without a taproot, redwoods can grow larger than any other trees, symbolizing taking refuge in the community—an antidote to America\\'s strongly individualistic culture. The 20th century is often called the century of individualism. We need to transcend this narrow perspective. America, in its founders\\' eyes, seemed like a vast, empty canvas. We know how much pain and suffering this attitude has caused, especially in the treatment of indigenous peoples, breaking treaties, and expanding across the country.</p>\\n\\n<p>The perspective that supported the idea of the rugged individual has to be re-evaluated. We now live on an interconnected planet; there\\'s nowhere left to expand. Continuing to uphold the pretense that the individual is supreme is unsustainable. Reflecting on history reveals the foundation of our society—built by countless communities. Emphasizing this connection demonstrates winding roots that provide stability and resilience, just like the redwoods.</p>\\n</section>',\n",
       " '<section>\\n<title>Transmission of Teachings and Continuation</title>\\n\\n<p>Unions, workers, and everyday people collaborating and working together, crossing boundaries of race and class, are at the heart of this experiment we call America. This principle holds true not only here on this continent but also around the world. We cannot pretend that for the sake of our individual success, we can engage in actions that are immoral or contrary to the community\\'s values.</p>\\n\\n<p>My teacher, Thay, trained us as monastics to learn to let go of our own ideas. This is one of the most important practices I learned as a monk in the Plum Village Sangha. I have had many ideas, and I still have many. One of my sisters once remarked, \"Brother Phap Luu, you tire the Sangha out with too many projects.\" Her words made me reflect on my practice of letting go. I understood that if the Sangha is not ready for an idea, or if it is deemed not beneficial, I must consider letting it go. This reflection is crucial for my practice of taking refuge in the community and not assuming that my ideas are superior to the collective wisdom.</p>\\n\\n<p>I need to learn to listen like a musician. A good musician knows how to open their ears, hearing both the notes being played and the silence between them. Oftentimes, the silence is more important than the notes. When we constantly make noise with our ideas, we miss the opportunity to open our ears and listen deeply. This is my own practice: to open my ears, listen deeply, and let go of my ideas.</p>\\n\\n<p>Brotherhood and sisterhood, or siblinghood, is more important than any idea, even more important than the Dharma itself. Thay taught us that if we must choose between Buddhism and brotherhood and sisterhood, the latter should take precedence. We should not cling to our ideas, even our understanding of the Buddha\\'s teachings, if it disrupts the harmony of the community. This can be challenging for those of us who were raised with the ideology of rugged individualism. We must learn to extend our roots laterally and take refuge in the community.</p>\\n\\n<p>A redwood tree might think it wants to be the tallest, but it can never reach the top of the forest canopy alone. It must extend its roots in every direction, without discrimination, to thrive. Let us take a moment to listen to the sound of the bell, as beautifully and patiently as a redwood.</p>\\n\\n<p>A monastic understands the great aspiration to wake up and help all beings to be free. Yet, they also recognize the need to be patient in their practice. Thanks to a strong aspiration, they walk steadily on the path of liberation despite encountering difficulties or obstacles. This is how a monastic grows strong and straight in the Sangha, tolerating shade for many years until, finally, they have access to sunlight and can grow rapidly to reach the forest canopy.</p>\\n\\n<p>It is fascinating how redwood seedlings emerge. At first, they are very small and cannot access full sunlight because of the towering trees around them. However, redwood trees can patiently tolerate shade for many decades, growing slowly and establishing themselves with their roots and branches.</p>\\n\\n<p>In contrast, in other forests, only one tree may survive when a large tree falls and creates an opening. Redwood trees, however, thrive due to their ability to endure shade. I was curious about how these massive trees could coexist so closely, and I\\'ve learned that it\\'s this quality that allows them to do so.</p>\\n\\n<p>When we start as mindfulness practitioners, we may want to rush to enlightenment, become Dharma teachers, or start sharing our wisdom online. Yet, we soon encounter difficulties and may suffer when we fail to practice what we preach. Sometimes, this leads us to fall away from the path and community, seeking new teachers or traditions, much like trying new diets in search of one that works.</p>\\n\\n<p>If we fail to recognize our suffering as stemming from within—shaped by our ancestral lineage, family, and society—we mistakenly blame outside conditions. We think that by changing our environment, we will find the right spiritual path. However, true practitioners learn to tolerate the shade, grow at their own pace, and establish deep roots within the Sangha.</p>\\n\\n<p>We don\\'t wish for a path without obstacles, as these challenges are integral to our spiritual growth. Thay authored a beautiful book titled \"No Mud, No Lotus,\" which captures this truth: without mud, there can be no lotus. Without the suffering and challenges of our afflictions, how can we grow? In the Mahayana tradition, we understand that afflictions themselves are a form of enlightenment. By bringing mindfulness to our internal suffering, we can shine a light of awareness upon it, transforming our understanding and being.</p>\\n</section>',\n",
       " \"<section>\\n<title>Adaptability and Learning from Environment</title>\\n\\n<p>Don't expect happiness to come right away, or joy to immediately appear. Instead, we must cultivate patience. We may experience small moments of joy, small glimpses of happiness. Rather than continuing with automatic thinking, we bring the light of mindfulness to our suffering. By doing so consistently, over time, transformation begins. We realize that suffering isn't what we thought it was. In the state of automatic, almost zombie-like thinking, we assume we know our suffering intimately.</p>\\n\\n<p>Some people become very attached to their suffering. It becomes part of their identity as they talk about it with others constantly. It doesn't mean we should never discuss our suffering, but we must be cautious not to get too attached. Sometimes, we might become frightened at the idea of letting go of suffering. When happiness, peace, and joy enter our lives, we can learn to practice like redwoods: enduring shade and growing beautifully, quietly, and gently. Then, when sudden opportunities arise, like an opening in the canopy when an elder tree falls, we have the chance for rapid growth towards enlightenment, akin to reaching for the sunlight. In that moment, the Dhamma, nurtured through our lifestyle for many years, propels us to become noble members of the Sangha, ready to transmit the teachings.</p>\\n\\n<p>Thus, we allow the Sangha and the Dhamma to lift us up. We shouldn't strive for recognition, as one of my elders taught me. Attempting to elevate oneself without the support of the Sangha is not a stable path. Our practice involves letting go of personal ambition, allowing the Sangha to elevate us. This Dhamma talk isn't delivered out of personal desire but because the Sangha requested it. The Sangha holds us with a wisdom deeper than any individual.</p>\\n\\n<p>A monastic knows that diligently learning the Dhamma and applying it progressively paves the way for rapid and significant growth. They remain steadfast despite the time required to transform afflictions. Even if they come to the Sangha with just a tiny seed of spiritual life, they can grow remarkably. A monastic, taking refuge in the Dhamma, extends roots through the Sangha, establishing a stable practice. Using this stability, they achieve ever-greater heights and strength, starting small but aspiring to soar above the rest, like a tomato seed becoming a towering tree.</p>\\n\\n<p>Moreover, a monastic understands how to live and practice within the Sangha in a way that nurtures future generations. The actions, speech, and thoughts of a monastic offer nourishment to those who follow, even after the monastic's physical form has dissolved. As a result, their younger siblings find stability in their practice and put down roots that spread around them.</p>\\n\\n<p>We are in awe of the forest floor, strewn with fallen redwoods. You can observe trees growing atop fallen giants, with roots hanging around, supported by the nutrients in the decaying wood. As the trunks decay over the years, nutrients return to the soil, feeding future generations of redwoods. Our teacher, Thay, serves as a beautiful example—like a monumental redwood standing tallest in the Sangha forest. Thay trained us not to view him as a guru but as our beloved teacher, establishing a profound relationship. When Thay had a stroke and eventually passed away, his Dharma body continued through the living Sangha. We draw on Thay’s teachings through online talks and books, but more profoundly, through the living presence of the Sangha, which embodies Thay's Dharma body.</p>\\n\\n<p>The most beautiful continuation of Thay's legacy is seen in the thriving Sangha, much like the majestic redwood forest, where people find solace and growth. As redwoods feed on fallen predecessors, we are Thay's continuation body. These nourishments allow redwoods to rise tall and strong. Today, at Deer Park and Plum Village, as well as Magnolia Grove Monastery, new generations of redwoods and teachings rise on Thay's Dharma body. Different groves nourish his continuation body, offering spaces for cultivation and spiritual growth.</p>\\n\\n<p>Understanding how to build and support the Sangha wherever they go is crucial for a monastic. This is the way Thay's teaching lives on, as vibrant and enduring as the living redwood forest.</p>\\n</section>\",\n",
       " \"<section>\\n<title>Value of Sangha and Intertwining With Traditions</title>\\n\\n<p>\\nPractitioners know how to make good use of the conditions that manifest wherever they find themselves. They understand how to transform suffering in such a way that it becomes a platform for others to grow closer to the sunlight. They recognize that happiness is not an individual matter and that the transformation of their own suffering can help many living beings suffer less. This is how a practitioner practices: allowing the burrows and crevices to create soil and provide access to sunlight and water so that many other plants and animals can thrive.\\n</p>\\n\\n<p>\\nIn preparing for this talk, I took many notes about redwood trees. We observe that these trees often have large growths, sometimes situated near the root systems. From these growths, new trees can sprout directly from the burrow. It's like a tiny branch, and this phenomenon is known as a burrow. The redwood has a unique quality as it grows; it sheds its lower branches to focus its energy on growing straight upward as high as possible. Once it reaches the sunlight, it bursts forth with new branches, creating an experience likened to a forest that few people are privileged to witness. You need to be an arborist or a tree climber to venture into the crown of a redwood tree.\\n</p>\\n\\n<p>\\nThose parts of the tree can turn into a burrow from which new trees might emerge. Additionally, we observed many trees that would grow in multiples, often splitting into two, three, or four as they reached skyward. In the crevices between these trees, mosses and lichens take root, grow, and die, forming soil. This creates a whole microclimate within the body of the redwood tree, serving as a kind of microhabitat that retains water.\\n</p>\\n\\n<p>\\nNext, I wish to discuss the fascinating way these trees harvest fog. Redwood trees grow to such heights that when the marine layer rolls in, they are positioned perfectly to capture this moisture. \\n</p>\\n</section>\",\n",
       " '<section>\\n<title>Conclusion and Encouragement in Practice</title>\\n<p>This is why we have these giant redwood trees. The marine layer that comes in from the Pacific is captured by the grove of redwoods. The needle-like structure of their leaves precipitates the fog and causes it to turn into water droplets, which then spill off, traveling down the trunk to the forest floor and into crevices. This moisture nourishes all kinds of insects, plants, birds, and invertebrates, creating a niche space within the tree.</p>\\n\\n<p>As practitioners, we can make good use of all situations. When we practice well, others can draw from our energy and mindfulness to support their practice. Coming together at a place like Deer Park to practice is similar; we borrow the collective energy, like a Sunday in a redwood forest. Each mindful step during community walking contributes to our capacity to grow in practice. The silence of mindful eating supports us in our mindfulness practice.</p>\\n\\n<p>The big, solid redwoods around us, like the monks, nuns, and long-term lay practitioners, support us. If we are new, we might be like a little tree or moss growing in the tree\\'s crotch. A monastic sees everything as a Dharma teaching and nourishment for happiness and insight. The more established they become in the Dharma, the more others can take refuge in them and benefit from their presence. This is how a monastic harvests the fog, providing water for itself and the forest floor below, just like the redwood makes good use of the fog.</p>\\n\\n<p>We can learn to make good use of every situation whether it\\'s a sunny day, foggy day, or storm. During a storm, the redwood finds refuge in the roots, interlocking with other redwoods for stability. In the light morning fog, the leaves\\' shape allows harvesting, turning it into water droplets to nourish itself and the forest floor. In rainstorms, the grove prevents erosion. The forest floor is covered in duff, a layer of decaying material from fallen branches and living beings.</p>\\n\\n<p>The practice of Dharma helps us transform adverse situations into growth and nourishment. In the spirit of \"no mud, no lotus,\" don\\'t pick and choose experiences. Accept them and transform them into Dharma teachings. As said in the Lotus Sutra, everything becomes a Dharma teaching. Thay wrote a poem about the Lotus Sutra, perhaps one of the brothers or sisters knows it. It\\'s a beautiful piece about the Lotus Sutra, emphasizing harmony with the Dharma.</p>\\n\\n<p>A monastic recognizes the rarity of living in a Sangha, just as the redwoods are rare from Oregon to Big Sur. People worldwide visit to see these exceptional trees. Similarly, finding and living in a Sangha is a precious opportunity for nourishment and support. Recognize that personal progress is intertwined with that of your siblings, and appreciate the abundant conditions for happiness. Don\\'t leave your Sangha. Imagine a redwood walking away from its forest—it\\'s inconceivable!</p>\\n\\n<p>This mirrors our own traditions—Christian, Jewish, Muslim—which we should deepen rather than abandon. Thay worked with various leaders and taught that you don\\'t need to convert to benefit from Buddhist teachings. Instead, you deepen your roots in your own tradition, enriching yourself and supporting community growth. Deer Park Monastery aims not to create Buddhists but to help individuals deepen their own ancestral traditions, cultivating growth and stability.</p>\\n\\n<p>In understanding the spiritual paths of our ancestors, we learn not to reject but to nourish ourselves. This lack of separation shows how entwined we are. Right where we are, we have enough conditions for happiness. A monastic practitioner grows tall and stable among other redwoods, supporting others in harmony.</p>\\n\\n<p>Friends of the forest, a monastic practitioner, practices these eight qualities of a redwood to become an exceptional monastic, respected and admired. Even the venerable Mrigavatamsaka taught monks and nuns alongside nomads and animals, practicing these teachings. This playful yet nourishing lesson is a creative way to share insights, based on real situations that remember our insights and brotherhood in the redwoods.</p>\\n\\n<p>Take these teachings home. Observe your environment, perhaps a magnolia or a blossoming chamise, and learn from them in your Dharma practice. Be like the redwood, harvesting the fog of life and transforming it into teachings to nourish your community.</p>\\n\\n<p>Thank you for receiving and putting into practice this redwood sutra. I hope it brought you joy. Let\\'s finish with three sounds of the bell.</p>\\n</section>']"
      ]
     },
     "execution_count": 127,
     "metadata": {},
     "output_type": "execute_result"
    }
   ],
   "source": [
    "#process_sections(output_xml_path, transcript, section_object, postprocess_format_instructions_en_2)"
   ]
  },
  {
   "cell_type": "code",
   "execution_count": 68,
   "metadata": {},
   "outputs": [
    {
     "name": "stderr",
     "output_type": "stream",
     "text": [
      "2024-12-12 20:36:56,716 - tnh.postprocessing_english - \u001b[36mINFO\u001b[0m - Formatting section 'Introduction to Vesak and Personal Celebrations'...\u001b[0m\n",
      "2024-12-12 20:36:56,717 - tnh.postprocessing_english - \u001b[36mINFO\u001b[0m - Translation instructions:\n",
      "You are the world's leading expert at formatting Dharma talk audio transcriptions into written text. The talks are given by native, and mostly-fluent, English speakers. \n",
      "\n",
      "The current text is a section entitled 'Introduction to Vesak and Personal Celebrations' from a Dharma Talk offered by a California-based English-speaking monastic. \n",
      "\n",
      "Your goal is to process the section into meaningful paragraphs while correcting errors (logical, transcription, or grammatical). \n",
      "\n",
      "Use <p> tags to mark paragraphs. Insert <section> and <title> tags at the beginning of the text and close with a </section> tag. \n",
      "\n",
      "You may have to infer the speaker's intent, and also use clues from context, in order to correct transcription or speaking errors and to generate a text that most closely matches the speaker's meaning in clear and eloquent English.\n",
      "\n",
      "Faithfully convey the speaker's intended meaning as accurately as possible while maintaining the original tone and style. Use the speaker's original phrasing if it works well and is correct.\n",
      "\n",
      "The final section should be polished and publication ready.\n",
      "\n",
      "Do not leave out any content. Do not add any content. Do not summarize. \n",
      "\n",
      "Output the final text only.\u001b[0m\n",
      "2024-12-12 20:36:56,718 - tnh.video_processing - \u001b[36mINFO\u001b[0m - Starting postprocessing.\u001b[0m\n",
      "2024-12-12 20:37:00,038 - tnh.postprocessing_english - \u001b[36mINFO\u001b[0m - Formatting section 'Global Celebration of Vesak and Historic Buddha'...\u001b[0m\n",
      "2024-12-12 20:37:00,040 - tnh.video_processing - \u001b[36mINFO\u001b[0m - Starting postprocessing.\u001b[0m\n"
     ]
    }
   ],
   "source": [
    "# sections_formatted = []\n",
    "# sections_original = []\n",
    "# sections = section_object.sections\n",
    "# section_range = range(0, 2)\n",
    "# output_file = test_dir / f\"formatted_{talk_name}.xml\"\n",
    "# for i in section_range:\n",
    "#     section = sections[i]\n",
    "#     original_lines = lines_from_wrapped_text(wtest, section.start_line, section.end_line, keep_brackets=False)\n",
    "#     format_instructions = postprocess_format_instructions_en_2.format(section_title=section.title)\n",
    "#     logger.info(f\"Formatting section '{section.title}'...\")\n",
    "\n",
    "#     if i == 0:\n",
    "#         logger.info(f\"Translation instructions:\\n{format_instructions}\")\n",
    "    \n",
    "#     translated_lines = postprocess_text(original_lines, format_instructions, batch=False)\n",
    "#     sections_formatted.append(translated_lines)\n",
    "#     write_text_to_file(output_file, translated_lines, append=True)\n",
    "    "
   ]
  },
  {
   "cell_type": "code",
   "execution_count": 40,
   "metadata": {
    "trusted": false
   },
   "outputs": [
    {
     "name": "stderr",
     "output_type": "stream",
     "text": [
      "2024-12-13 07:45:56,323 - tnh.postprocessing_english - \u001b[36mINFO\u001b[0m - Processing talk 1: 'Vesak - The Baby Buddha Within ｜ Sister Kính Nghiêm ｜ 2024-05-19'\u001b[0m\n",
      "2024-12-13 07:45:56,324 - tnh.postprocessing_english - \u001b[36mINFO\u001b[0m - Transcript found: processed_videos/video_transcriptions/Vesak - The Baby Buddha Within ｜ Sister Kính Nghiêm ｜ 2024-05-19/Vesak - The Baby Buddha Within ｜ Sister Kính Nghiêm ｜ 2024-05-19.txt\u001b[0m\n",
      "2024-12-13 07:45:56,324 - tnh.postprocessing_english - \u001b[36mINFO\u001b[0m - Formatted xml file found. Skipping Vesak - The Baby Buddha Within ｜ Sister Kính Nghiêm ｜ 2024-05-19.\u001b[0m\n",
      "2024-12-13 07:45:56,325 - tnh.postprocessing_english - \u001b[36mINFO\u001b[0m - Processing talk 2: 'The Redwood Sutra： a Dharma Talk with Brother Phap Luu ｜ 2023-06-11'\u001b[0m\n",
      "2024-12-13 07:45:56,325 - tnh.postprocessing_english - \u001b[36mINFO\u001b[0m - Transcript found: processed_videos/video_transcriptions/The Redwood Sutra： a Dharma Talk with Brother Phap Luu ｜ 2023-06-11/The Redwood Sutra： a Dharma Talk with Brother Phap Luu ｜ 2023-06-11.txt\u001b[0m\n",
      "2024-12-13 07:45:56,326 - tnh.postprocessing_english - \u001b[36mINFO\u001b[0m - Formatted xml file found. Skipping The Redwood Sutra： a Dharma Talk with Brother Phap Luu ｜ 2023-06-11.\u001b[0m\n",
      "2024-12-13 07:45:56,326 - tnh.postprocessing_english - \u001b[36mINFO\u001b[0m - Processing talk 3: 'Beginning Anew with Children & Teens ｜ Sister Dang Nghiem ｜ 2023-06-23'\u001b[0m\n",
      "2024-12-13 07:45:56,327 - tnh.postprocessing_english - \u001b[36mINFO\u001b[0m - Transcript found: processed_videos/video_transcriptions/Beginning Anew with Children & Teens ｜ Sister Dang Nghiem ｜ 2023-06-23/Beginning Anew with Children & Teens ｜ Sister Dang Nghiem ｜ 2023-06-23.txt\u001b[0m\n",
      "2024-12-13 07:45:56,327 - tnh.postprocessing_english - \u001b[36mINFO\u001b[0m - Formatted xml file found. Skipping Beginning Anew with Children & Teens ｜ Sister Dang Nghiem ｜ 2023-06-23.\u001b[0m\n",
      "2024-12-13 07:45:56,328 - tnh.postprocessing_english - \u001b[36mINFO\u001b[0m - Processing talk 4: 'Thay Phap Dung ｜ Wake Up 2024, Opening the Joyful Path ｜ 2024-04-08'\u001b[0m\n",
      "2024-12-13 07:45:56,328 - tnh.postprocessing_english - \u001b[36mINFO\u001b[0m - Transcript found: processed_videos/video_transcriptions/Thay Phap Dung ｜ Wake Up 2024, Opening the Joyful Path ｜ 2024-04-08/Thay Phap Dung ｜ Wake Up 2024, Opening the Joyful Path ｜ 2024-04-08.txt\u001b[0m\n",
      "2024-12-13 07:45:56,328 - tnh.postprocessing_english - \u001b[36mINFO\u001b[0m - Formatted xml file found. Skipping Thay Phap Dung ｜ Wake Up 2024, Opening the Joyful Path ｜ 2024-04-08.\u001b[0m\n",
      "2024-12-13 07:45:56,329 - tnh.postprocessing_english - \u001b[36mINFO\u001b[0m - Processing talk 5: 'Be Resisters, for Teens ｜ Brother Phap Dung ｜ 2023-07-09'\u001b[0m\n",
      "2024-12-13 07:45:56,329 - tnh.postprocessing_english - \u001b[36mINFO\u001b[0m - Transcript found: processed_videos/video_transcriptions/Be Resisters, for Teens ｜ Brother Phap Dung ｜ 2023-07-09/Be Resisters, for Teens ｜ Brother Phap Dung ｜ 2023-07-09.txt\u001b[0m\n",
      "2024-12-13 07:45:56,330 - tnh.postprocessing_english - \u001b[36mINFO\u001b[0m - Formatted xml file found. Skipping Be Resisters, for Teens ｜ Brother Phap Dung ｜ 2023-07-09.\u001b[0m\n",
      "2024-12-13 07:45:56,331 - tnh.postprocessing_english - \u001b[36mINFO\u001b[0m - Processing talk 6: 'The One-Eyed Goldfish ｜ Thay Phap Dung ｜ 2024-06-30'\u001b[0m\n",
      "2024-12-13 07:45:56,332 - tnh.postprocessing_english - \u001b[36mINFO\u001b[0m - Transcript found: processed_videos/video_transcriptions/The One-Eyed Goldfish ｜ Thay Phap Dung ｜ 2024-06-30/The One-Eyed Goldfish ｜ Thay Phap Dung ｜ 2024-06-30.txt\u001b[0m\n",
      "2024-12-13 07:45:56,332 - tnh.postprocessing_english - \u001b[36mINFO\u001b[0m - Formatted xml file found. Skipping The One-Eyed Goldfish ｜ Thay Phap Dung ｜ 2024-06-30.\u001b[0m\n",
      "2024-12-13 07:45:56,333 - tnh.postprocessing_english - \u001b[36mINFO\u001b[0m - Processing talk 7: 'How to Stop, Rest and Heal ｜  Brother Mãn Tuệ ｜ 2023-07-23'\u001b[0m\n",
      "2024-12-13 07:45:56,335 - tnh.postprocessing_english - \u001b[36mINFO\u001b[0m - Transcript found: processed_videos/video_transcriptions/How to Stop, Rest and Heal ｜  Brother Mãn Tuệ ｜ 2023-07-23/How to Stop, Rest and Heal ｜  Brother Mãn Tuệ ｜ 2023-07-23.txt\u001b[0m\n",
      "2024-12-13 07:45:56,335 - tnh.postprocessing_english - \u001b[36mINFO\u001b[0m - Formatted xml file found. Skipping How to Stop, Rest and Heal ｜  Brother Mãn Tuệ ｜ 2023-07-23.\u001b[0m\n",
      "2024-12-13 07:45:56,336 - tnh.postprocessing_english - \u001b[36mINFO\u001b[0m - Processing talk 8: 'Stopping and Caring for Ourselves ｜ Sister Peace and Brett Cook ｜ 2024-05-09'\u001b[0m\n",
      "2024-12-13 07:45:56,337 - tnh.postprocessing_english - \u001b[36mINFO\u001b[0m - Transcript found: processed_videos/video_transcriptions/Stopping and Caring for Ourselves ｜ Sister Peace and Brett Cook ｜ 2024-05-09/Stopping and Caring for Ourselves ｜ Sister Peace and Brett Cook ｜ 2024-05-09.txt\u001b[0m\n",
      "2024-12-13 07:45:56,337 - tnh.postprocessing_english - \u001b[36mINFO\u001b[0m - Formatted xml file found. Skipping Stopping and Caring for Ourselves ｜ Sister Peace and Brett Cook ｜ 2024-05-09.\u001b[0m\n",
      "2024-12-13 07:45:56,338 - tnh.postprocessing_english - \u001b[36mINFO\u001b[0m - Processing talk 9: 'Greatest Love of All ｜ Sister Than Nghiem ｜ 2023-06-22'\u001b[0m\n",
      "2024-12-13 07:45:56,339 - tnh.postprocessing_english - \u001b[36mINFO\u001b[0m - Transcript found: processed_videos/video_transcriptions/Greatest Love of All ｜ Sister Than Nghiem ｜ 2023-06-22/Greatest Love of All ｜ Sister Than Nghiem ｜ 2023-06-22.txt\u001b[0m\n",
      "2024-12-13 07:45:56,339 - tnh.postprocessing_english - \u001b[36mINFO\u001b[0m - Formatted xml file found. Skipping Greatest Love of All ｜ Sister Than Nghiem ｜ 2023-06-22.\u001b[0m\n",
      "2024-12-13 07:45:56,340 - tnh.postprocessing_english - \u001b[36mINFO\u001b[0m - Processing talk 10: 'The Miracle of Mindfulness ｜ Sister Boi Nghiem ｜ 2024-11-17'\u001b[0m\n",
      "2024-12-13 07:45:56,340 - tnh.postprocessing_english - \u001b[36mINFO\u001b[0m - Transcript found: processed_videos/video_transcriptions/The Miracle of Mindfulness ｜ Sister Boi Nghiem ｜ 2024-11-17/The Miracle of Mindfulness ｜ Sister Boi Nghiem ｜ 2024-11-17.txt\u001b[0m\n",
      "2024-12-13 07:45:56,341 - tnh.postprocessing_english - \u001b[36mINFO\u001b[0m - Formatted xml file found. Skipping The Miracle of Mindfulness ｜ Sister Boi Nghiem ｜ 2024-11-17.\u001b[0m\n",
      "2024-12-13 07:45:56,342 - tnh.postprocessing_english - \u001b[36mINFO\u001b[0m - Processing talk 11: 'Noble Tooth, for Teens ｜ Sister Dang Nghiem ｜ 2023-07-06'\u001b[0m\n",
      "2024-12-13 07:45:56,342 - tnh.postprocessing_english - \u001b[36mINFO\u001b[0m - Transcript found: processed_videos/video_transcriptions/Noble Tooth, for Teens ｜ Sister Dang Nghiem ｜ 2023-07-06/Noble Tooth, for Teens ｜ Sister Dang Nghiem ｜ 2023-07-06.txt\u001b[0m\n",
      "2024-12-13 07:45:56,343 - tnh.postprocessing_english - \u001b[36mINFO\u001b[0m - Formatted xml file found. Skipping Noble Tooth, for Teens ｜ Sister Dang Nghiem ｜ 2023-07-06.\u001b[0m\n",
      "2024-12-13 07:45:56,343 - tnh.postprocessing_english - \u001b[36mINFO\u001b[0m - Processing talk 12: 'Stepping into Freedom ｜ Brother Man Tue ｜ 2024-11-10'\u001b[0m\n",
      "2024-12-13 07:45:56,344 - tnh.postprocessing_english - \u001b[36mINFO\u001b[0m - Transcript found: processed_videos/video_transcriptions/Stepping into Freedom ｜ Brother Man Tue ｜ 2024-11-10/Stepping into Freedom ｜ Brother Man Tue ｜ 2024-11-10.txt\u001b[0m\n",
      "2024-12-13 07:45:56,344 - tnh.postprocessing_english - \u001b[36mINFO\u001b[0m - Formatted xml file found. Skipping Stepping into Freedom ｜ Brother Man Tue ｜ 2024-11-10.\u001b[0m\n",
      "2024-12-13 07:45:56,345 - tnh.postprocessing_english - \u001b[36mINFO\u001b[0m - Processing talk 13: 'Liberation for Parent and Child ｜ Brother Phap Dung ｜ 2023-06-25'\u001b[0m\n",
      "2024-12-13 07:45:56,346 - tnh.postprocessing_english - \u001b[36mINFO\u001b[0m - Transcript found: processed_videos/video_transcriptions/Liberation for Parent and Child ｜ Brother Phap Dung ｜ 2023-06-25/Liberation for Parent and Child ｜ Brother Phap Dung ｜ 2023-06-25.txt\u001b[0m\n",
      "2024-12-13 07:45:56,346 - tnh.postprocessing_english - \u001b[36mINFO\u001b[0m - Formatted xml file found. Skipping Liberation for Parent and Child ｜ Brother Phap Dung ｜ 2023-06-25.\u001b[0m\n",
      "2024-12-13 07:45:56,347 - tnh.postprocessing_english - \u001b[36mINFO\u001b[0m - Processing talk 14: 'Thanksgiving Day Dharma Talk ｜ Sister Spirit (Than Nghiem) ｜ 2024-11-28'\u001b[0m\n",
      "2024-12-13 07:45:56,348 - tnh.postprocessing_english - \u001b[36mINFO\u001b[0m - Transcript found: processed_videos/video_transcriptions/Thanksgiving Day Dharma Talk ｜ Sister Spirit (Than Nghiem) ｜ 2024-11-28/Thanksgiving Day Dharma Talk ｜ Sister Spirit (Than Nghiem) ｜ 2024-11-28.txt\u001b[0m\n",
      "2024-12-13 07:45:56,348 - tnh.postprocessing_english - \u001b[36mINFO\u001b[0m - Formatted xml file found. Skipping Thanksgiving Day Dharma Talk ｜ Sister Spirit (Than Nghiem) ｜ 2024-11-28.\u001b[0m\n",
      "2024-12-13 07:45:56,349 - tnh.postprocessing_english - \u001b[36mINFO\u001b[0m - Processing talk 15: ''Awakening Together' Family Retreat Dharma Talk ｜ Sister Kính Nghiêm ｜ 2024-06-27'\u001b[0m\n",
      "2024-12-13 07:45:56,349 - tnh.postprocessing_english - \u001b[36mINFO\u001b[0m - Transcript found: processed_videos/video_transcriptions/'Awakening Together' Family Retreat Dharma Talk ｜ Sister Kính Nghiêm ｜ 2024-06-27/'Awakening Together' Family Retreat Dharma Talk ｜ Sister Kính Nghiêm ｜ 2024-06-27.txt\u001b[0m\n",
      "2024-12-13 07:45:56,350 - tnh.postprocessing_english - \u001b[36mINFO\u001b[0m - Formatted xml file found. Skipping 'Awakening Together' Family Retreat Dharma Talk ｜ Sister Kính Nghiêm ｜ 2024-06-27.\u001b[0m\n",
      "2024-12-13 07:45:56,350 - tnh.postprocessing_english - \u001b[36mINFO\u001b[0m - Processing talk 16: 'Holiday Retreat Dharma Talk ｜ Brother Phap Luu ｜ 2023-12-30'\u001b[0m\n",
      "2024-12-13 07:45:56,351 - tnh.postprocessing_english - \u001b[36mINFO\u001b[0m - Transcript found: processed_videos/video_transcriptions/Holiday Retreat Dharma Talk ｜ Brother Phap Luu ｜ 2023-12-30/Holiday Retreat Dharma Talk ｜ Brother Phap Luu ｜ 2023-12-30.txt\u001b[0m\n",
      "2024-12-13 07:45:56,351 - tnh.postprocessing_english - \u001b[36mINFO\u001b[0m - Formatted xml file found. Skipping Holiday Retreat Dharma Talk ｜ Brother Phap Luu ｜ 2023-12-30.\u001b[0m\n",
      "2024-12-13 07:45:56,352 - tnh.postprocessing_english - \u001b[36mINFO\u001b[0m - Processing talk 17: 'Flowers in the Dark ｜ Sư Cô Đẳng Nghiêm ｜ 2024-03-22'\u001b[0m\n",
      "2024-12-13 07:45:56,352 - tnh.postprocessing_english - \u001b[36mINFO\u001b[0m - Transcript found: processed_videos/video_transcriptions/Flowers in the Dark ｜ Sư Cô Đẳng Nghiêm ｜ 2024-03-22/Flowers in the Dark ｜ Sư Cô Đẳng Nghiêm ｜ 2024-03-22.txt\u001b[0m\n",
      "2024-12-13 07:45:56,353 - tnh.postprocessing_english - \u001b[36mINFO\u001b[0m - Formatted xml file found. Skipping Flowers in the Dark ｜ Sư Cô Đẳng Nghiêm ｜ 2024-03-22.\u001b[0m\n",
      "2024-12-13 07:45:56,353 - tnh.postprocessing_english - \u001b[36mINFO\u001b[0m - Processing talk 18: 'Non-Violence and Compassion： A Path to Healing in Gaza and the Middle East ｜ Thay Phap Luu'\u001b[0m\n",
      "2024-12-13 07:45:56,354 - tnh.postprocessing_english - \u001b[36mINFO\u001b[0m - Transcript found: processed_videos/video_transcriptions/Non-Violence and Compassion： A Path to Healing in Gaza and the Middle East ｜ Thay Phap Luu/Non-Violence and Compassion： A Path to Healing in Gaza and the Middle East ｜ Thay Phap Luu.txt\u001b[0m\n",
      "2024-12-13 07:45:56,354 - tnh.postprocessing_english - \u001b[36mINFO\u001b[0m - Formatted xml file found. Skipping Non-Violence and Compassion： A Path to Healing in Gaza and the Middle East ｜ Thay Phap Luu.\u001b[0m\n",
      "2024-12-13 07:45:56,355 - tnh.postprocessing_english - \u001b[36mINFO\u001b[0m - Processing talk 19: 'Be the Change you want to See with Br. Ngo Khong'\u001b[0m\n",
      "2024-12-13 07:45:56,355 - tnh.postprocessing_english - \u001b[36mINFO\u001b[0m - Transcript found: processed_videos/video_transcriptions/Be the Change you want to See with Br. Ngo Khong/Be the Change you want to See with Br. Ngo Khong.txt\u001b[0m\n",
      "2024-12-13 07:45:56,356 - tnh.postprocessing_english - \u001b[36mINFO\u001b[0m - Formatted xml file found. Skipping Be the Change you want to See with Br. Ngo Khong.\u001b[0m\n",
      "2024-12-13 07:45:56,356 - tnh.postprocessing_english - \u001b[36mINFO\u001b[0m - Processing talk 20: 'Zen and Harry Potter ｜ Sr. Đẳng Nghiêm ｜ Christmas Eve 2023-12-24'\u001b[0m\n",
      "2024-12-13 07:45:56,357 - tnh.postprocessing_english - \u001b[36mINFO\u001b[0m - Transcript found: processed_videos/video_transcriptions/Zen and Harry Potter ｜ Sr. Đẳng Nghiêm ｜ Christmas Eve 2023-12-24/Zen and Harry Potter ｜ Sr. Đẳng Nghiêm ｜ Christmas Eve 2023-12-24.txt\u001b[0m\n",
      "2024-12-13 07:45:56,357 - tnh.postprocessing_english - \u001b[36mINFO\u001b[0m - Formatted xml file found. Skipping Zen and Harry Potter ｜ Sr. Đẳng Nghiêm ｜ Christmas Eve 2023-12-24.\u001b[0m\n",
      "2024-12-13 07:45:56,358 - tnh.postprocessing_english - \u001b[36mINFO\u001b[0m - Processing talk 21: 'Thay Phap Luu ｜ Wake Up 2024, Opening the Joyful Path ｜ 2024-04-08'\u001b[0m\n",
      "2024-12-13 07:45:56,358 - tnh.postprocessing_english - \u001b[36mINFO\u001b[0m - Transcript found: processed_videos/video_transcriptions/Thay Phap Luu ｜ Wake Up 2024, Opening the Joyful Path ｜ 2024-04-08/Thay Phap Luu ｜ Wake Up 2024, Opening the Joyful Path ｜ 2024-04-08.txt\u001b[0m\n",
      "2024-12-13 07:45:56,359 - tnh.postprocessing_english - \u001b[36mINFO\u001b[0m - Formatted xml file found. Skipping Thay Phap Luu ｜ Wake Up 2024, Opening the Joyful Path ｜ 2024-04-08.\u001b[0m\n",
      "2024-12-13 07:45:56,359 - tnh.postprocessing_english - \u001b[36mINFO\u001b[0m - Processing talk 22: 'Faith, Trust, and Doubt ｜  Sister Thần Nghiêm ｜ 2023-12-10'\u001b[0m\n",
      "2024-12-13 07:45:56,359 - tnh.postprocessing_english - \u001b[36mINFO\u001b[0m - Transcript found: processed_videos/video_transcriptions/Faith, Trust, and Doubt ｜  Sister Thần Nghiêm ｜ 2023-12-10/Faith, Trust, and Doubt ｜  Sister Thần Nghiêm ｜ 2023-12-10.txt\u001b[0m\n",
      "2024-12-13 07:45:56,360 - tnh.postprocessing_english - \u001b[36mINFO\u001b[0m - Formatted xml file found. Skipping Faith, Trust, and Doubt ｜  Sister Thần Nghiêm ｜ 2023-12-10.\u001b[0m\n",
      "2024-12-13 07:45:56,361 - tnh.postprocessing_english - \u001b[36mINFO\u001b[0m - Processing talk 23: '3-Month Retreat Opens ｜ Br. Phap Dung ｜ 2023-10-22'\u001b[0m\n",
      "2024-12-13 07:45:56,362 - tnh.postprocessing_english - \u001b[36mINFO\u001b[0m - Transcript found: processed_videos/video_transcriptions/3-Month Retreat Opens ｜ Br. Phap Dung ｜ 2023-10-22/3-Month Retreat Opens ｜ Br. Phap Dung ｜ 2023-10-22.txt\u001b[0m\n",
      "2024-12-13 07:45:56,363 - tnh.postprocessing_english - \u001b[36mINFO\u001b[0m - Formatted xml file found. Skipping 3-Month Retreat Opens ｜ Br. Phap Dung ｜ 2023-10-22.\u001b[0m\n",
      "2024-12-13 07:45:56,363 - tnh.postprocessing_english - \u001b[36mINFO\u001b[0m - Processing talk 24: 'New Years Eve ｜  Sister Kính Nghiêm ｜ 2023-12-31'\u001b[0m\n",
      "2024-12-13 07:45:56,364 - tnh.postprocessing_english - \u001b[36mINFO\u001b[0m - Transcript found: processed_videos/video_transcriptions/New Years Eve ｜  Sister Kính Nghiêm ｜ 2023-12-31/New Years Eve ｜  Sister Kính Nghiêm ｜ 2023-12-31.txt\u001b[0m\n",
      "2024-12-13 07:45:56,364 - tnh.postprocessing_english - \u001b[36mINFO\u001b[0m - Formatted xml file found. Skipping New Years Eve ｜  Sister Kính Nghiêm ｜ 2023-12-31.\u001b[0m\n",
      "2024-12-13 07:45:56,365 - tnh.postprocessing_english - \u001b[36mINFO\u001b[0m - Processing talk 25: 'How to be a Happy Practitioner ｜ Brother Man Tue ｜ 2024-09-15'\u001b[0m\n",
      "2024-12-13 07:45:56,365 - tnh.postprocessing_english - \u001b[36mINFO\u001b[0m - No transcript found in processed_videos/video_transcriptions/How to be a Happy Practitioner ｜ Brother Man Tue ｜ 2024-09-15/How to be a Happy Practitioner ｜ Brother Man Tue ｜ 2024-09-15.txt. Skipping How to be a Happy Practitioner ｜ Brother Man Tue ｜ 2024-09-15\u001b[0m\n",
      "2024-12-13 07:45:56,366 - tnh.postprocessing_english - \u001b[36mINFO\u001b[0m - Processing talk 26: 'The Buddha's Life, My Life ｜ Thay Phap Dung ｜ 2024-10-13'\u001b[0m\n",
      "2024-12-13 07:45:56,366 - tnh.postprocessing_english - \u001b[36mINFO\u001b[0m - Transcript found: processed_videos/video_transcriptions/The Buddha's Life, My Life ｜ Thay Phap Dung ｜ 2024-10-13/The Buddha's Life, My Life ｜ Thay Phap Dung ｜ 2024-10-13.txt\u001b[0m\n",
      "2024-12-13 07:45:56,366 - tnh.postprocessing_english - \u001b[36mINFO\u001b[0m - Formatted xml file found. Skipping The Buddha's Life, My Life ｜ Thay Phap Dung ｜ 2024-10-13.\u001b[0m\n",
      "2024-12-13 07:45:56,367 - tnh.postprocessing_english - \u001b[36mINFO\u001b[0m - Processing talk 27: 'Hands That Hold： Embracing Presence, Connection, & Gratitude in Every Touch ｜ Bội Nghiêm ｜ 11-26-23'\u001b[0m\n",
      "2024-12-13 07:45:56,368 - tnh.postprocessing_english - \u001b[36mINFO\u001b[0m - Transcript found: processed_videos/video_transcriptions/Hands That Hold： Embracing Presence, Connection, & Gratitude in Every Touch ｜ Bội Nghiêm ｜ 11-26-23/Hands That Hold： Embracing Presence, Connection, & Gratitude in Every Touch ｜ Bội Nghiêm ｜ 11-26-23.txt\u001b[0m\n",
      "2024-12-13 07:45:56,368 - tnh.postprocessing_english - \u001b[36mINFO\u001b[0m - Formatted xml file found. Skipping Hands That Hold： Embracing Presence, Connection, & Gratitude in Every Touch ｜ Bội Nghiêm ｜ 11-26-23.\u001b[0m\n",
      "2024-12-13 07:45:56,369 - tnh.postprocessing_english - \u001b[36mINFO\u001b[0m - Processing talk 28: 'Taking Care of Our Fear ｜ Br. Phap Luu ｜ 2024-11-06'\u001b[0m\n",
      "2024-12-13 07:45:56,369 - tnh.postprocessing_english - \u001b[36mINFO\u001b[0m - No transcript found in processed_videos/video_transcriptions/Taking Care of Our Fear ｜ Br. Phap Luu ｜ 2024-11-06/Taking Care of Our Fear ｜ Br. Phap Luu ｜ 2024-11-06.txt. Skipping Taking Care of Our Fear ｜ Br. Phap Luu ｜ 2024-11-06\u001b[0m\n",
      "2024-12-13 07:45:56,370 - tnh.postprocessing_english - \u001b[36mINFO\u001b[0m - Processing talk 29: 'Day of Gratitude Dharma Talk ｜ Brother Phap Dung ｜ 2023-11-23'\u001b[0m\n",
      "2024-12-13 07:45:56,371 - tnh.postprocessing_english - \u001b[36mINFO\u001b[0m - Transcript found: processed_videos/video_transcriptions/Day of Gratitude Dharma Talk ｜ Brother Phap Dung ｜ 2023-11-23/Day of Gratitude Dharma Talk ｜ Brother Phap Dung ｜ 2023-11-23.txt\u001b[0m\n",
      "2024-12-13 07:45:56,372 - tnh.postprocessing_english - \u001b[36mINFO\u001b[0m - Starting sectioning postprocess for Day of Gratitude Dharma Talk ｜ Brother Phap Dung ｜ 2023-11-23...\u001b[0m\n",
      "2024-12-13 07:45:56,373 - tnh.video_processing - \u001b[36mINFO\u001b[0m - Starting postprocessing...\u001b[0m\n",
      "2024-12-13 07:46:07,978 - tnh.postprocessing_english - \u001b[36mINFO\u001b[0m - Sectioning for Day of Gratitude Dharma Talk ｜ Brother Phap Dung ｜ 2023-11-23 completed. Dumped section data to processed_videos/video_transcriptions/Day of Gratitude Dharma Talk ｜ Brother Phap Dung ｜ 2023-11-23/section_Day of Gratitude Dharma Talk ｜ Brother Phap Dung ｜ 2023-11-23.json.\u001b[0m\n",
      "2024-12-13 07:46:07,980 - tnh.postprocessing_english - \u001b[36mINFO\u001b[0m - Starting postprocess for Day of Gratitude Dharma Talk ｜ Brother Phap Dung ｜ 2023-11-23: section formatting sequence.\u001b[0m\n",
      "2024-12-13 07:46:07,981 - tnh.postprocessing_english - \u001b[36mINFO\u001b[0m - Sections to process: 12\u001b[0m\n",
      "2024-12-13 07:46:07,983 - tnh.postprocessing_english - \u001b[36mINFO\u001b[0m - Processing section 1: 'Guided Meditation with the Bell'...\u001b[0m\n",
      "2024-12-13 07:46:07,984 - tnh.postprocessing_english - \u001b[36mINFO\u001b[0m - Processing instructions:\n",
      "You are the world's leading expert at formatting Dharma talk audio transcriptions into written text. The talks are given by native, and mostly-fluent, English speakers. \n",
      "\n",
      "The current text is a section entitled 'Guided Meditation with the Bell' from a Dharma Talk offered by a California-based English-speaking monastic. \n",
      "\n",
      "Your goal is to process the section into meaningful paragraphs while correcting errors (logical, transcription, or grammatical). \n",
      "\n",
      "Use <p> tags to mark paragraphs. Insert <section> and <title> tags at the beginning of the text and close with a </section> tag. \n",
      "\n",
      "You may have to infer the speaker's intent, and also use clues from context, in order to correct transcription or speaking errors and to generate a text that most closely matches the speaker's meaning in clear and eloquent English.\n",
      "\n",
      "Faithfully convey the speaker's intended meaning as accurately as possible while maintaining the original tone and style. Use the speaker's original phrasing if it works well and is correct.\n",
      "\n",
      "The final section should be polished and publication ready.\n",
      "\n",
      "Do not leave out any content. Do not add any content. Do not summarize. \n",
      "\n",
      "Output the final text only.\u001b[0m\n",
      "2024-12-13 07:46:07,986 - tnh.video_processing - \u001b[36mINFO\u001b[0m - Starting postprocessing...\u001b[0m\n",
      "2024-12-13 07:46:13,934 - tnh.postprocessing_english - \u001b[36mINFO\u001b[0m - Processing section 2: 'Welcome and Reflections on the Setting'...\u001b[0m\n",
      "2024-12-13 07:46:13,936 - tnh.video_processing - \u001b[36mINFO\u001b[0m - Starting postprocessing...\u001b[0m\n",
      "2024-12-13 07:46:20,031 - tnh.postprocessing_english - \u001b[36mINFO\u001b[0m - Processing section 3: 'Experiences with Neighbors'...\u001b[0m\n",
      "2024-12-13 07:46:20,034 - tnh.video_processing - \u001b[36mINFO\u001b[0m - Starting postprocessing...\u001b[0m\n",
      "2024-12-13 07:46:27,841 - tnh.postprocessing_english - \u001b[36mINFO\u001b[0m - Processing section 4: 'Philosophy of Celebrations and Gratitude'...\u001b[0m\n",
      "2024-12-13 07:46:27,844 - tnh.video_processing - \u001b[36mINFO\u001b[0m - Starting postprocessing...\u001b[0m\n",
      "2024-12-13 07:46:46,064 - tnh.postprocessing_english - \u001b[36mINFO\u001b[0m - Processing section 5: 'The Challenge and Beauty of Family Relations'...\u001b[0m\n",
      "2024-12-13 07:46:46,065 - tnh.video_processing - \u001b[36mINFO\u001b[0m - Starting postprocessing...\u001b[0m\n",
      "2024-12-13 07:46:56,582 - tnh.postprocessing_english - \u001b[36mINFO\u001b[0m - Processing section 6: 'Mindfulness and the Four Noble Truths'...\u001b[0m\n",
      "2024-12-13 07:46:56,584 - tnh.video_processing - \u001b[36mINFO\u001b[0m - Starting postprocessing...\u001b[0m\n",
      "2024-12-13 07:47:03,510 - tnh.postprocessing_english - \u001b[36mINFO\u001b[0m - Processing section 7: 'Practices of Gratitude and Ancestral Acknowledgment'...\u001b[0m\n",
      "2024-12-13 07:47:03,513 - tnh.video_processing - \u001b[36mINFO\u001b[0m - Starting postprocessing...\u001b[0m\n",
      "2024-12-13 07:47:09,343 - tnh.postprocessing_english - \u001b[36mINFO\u001b[0m - Processing section 8: 'Philosophical Reflections on Ancestry and Cultural Connection'...\u001b[0m\n",
      "2024-12-13 07:47:09,349 - tnh.video_processing - \u001b[36mINFO\u001b[0m - Starting postprocessing...\u001b[0m\n",
      "2024-12-13 07:47:22,317 - tnh.postprocessing_english - \u001b[36mINFO\u001b[0m - Processing section 9: 'Environmental Stewardship and Cultural Harmony'...\u001b[0m\n",
      "2024-12-13 07:47:22,324 - tnh.video_processing - \u001b[36mINFO\u001b[0m - Starting postprocessing...\u001b[0m\n",
      "2024-12-13 07:47:35,507 - tnh.postprocessing_english - \u001b[36mINFO\u001b[0m - Processing section 10: 'Embracing Diverse Lifeforms and Understanding Disgust'...\u001b[0m\n",
      "2024-12-13 07:47:35,508 - tnh.video_processing - \u001b[36mINFO\u001b[0m - Starting postprocessing...\u001b[0m\n",
      "2024-12-13 07:47:45,659 - tnh.postprocessing_english - \u001b[36mINFO\u001b[0m - Processing section 11: 'Navigating Family and Cultural Influences'...\u001b[0m\n",
      "2024-12-13 07:47:45,661 - tnh.video_processing - \u001b[36mINFO\u001b[0m - Starting postprocessing...\u001b[0m\n",
      "2024-12-13 07:47:52,831 - tnh.postprocessing_english - \u001b[36mINFO\u001b[0m - Processing section 12: 'Conclusion and Final Meditation'...\u001b[0m\n",
      "2024-12-13 07:47:52,833 - tnh.video_processing - \u001b[36mINFO\u001b[0m - Starting postprocessing...\u001b[0m\n",
      "2024-12-13 07:47:57,944 - tnh.postprocessing_english - \u001b[36mINFO\u001b[0m - Postprocessing completed for Day of Gratitude Dharma Talk ｜ Brother Phap Dung ｜ 2023-11-23\u001b[0m\n"
     ]
    }
   ],
   "source": [
    "for i, video_dir in enumerate(iterate_subdir(video_storage_dir)):\n",
    "    try:\n",
    "        talk_name = video_dir.name\n",
    "        \n",
    "        logger.info(f\"Processing talk {i+1}: '{talk_name}'\") \n",
    "        \n",
    "        transcript_file = video_dir / f\"{talk_name}.txt\"\n",
    "\n",
    "        section_output_path = video_dir / f\"section_{talk_name}.json\"\n",
    "\n",
    "        output_xml_path = video_dir / f\"formatted_{talk_name}.xml\"\n",
    "\n",
    "    except Exception as e:\n",
    "        logger.error(f\"Error in file setup for {talk_name}: {e}, skipping.\")\n",
    "\n",
    "    if transcript_file.exists():\n",
    "        \n",
    "        logger.info(f\"Transcript found: {transcript_file}\")\n",
    "\n",
    "        if output_xml_path.exists():\n",
    "            logger.info(f\"Formatted xml file found. Skipping {talk_name}.\")\n",
    "            \n",
    "        else: \n",
    "            try:\n",
    "                transcript = get_text_from_file(transcript_file)\n",
    "\n",
    "                wrapped_transcript = wrap_lines(transcript, number=True)\n",
    "\n",
    "                logger.info(f\"Starting sectioning postprocess for {talk_name}...\")\n",
    "\n",
    "                section_object = postprocess_text(wrapped_transcript, postprocess_section_instructions_en, response_object=DharmaTalkSections, max_tokens=5000)\n",
    "\n",
    "                write_text_to_file(section_output_path, section_object.model_dump_json())\n",
    "                logger.info(f\"Sectioning for {talk_name} completed. Dumped section data to {section_output_path}.\")\n",
    "                \n",
    "                logger.info(f\"Starting postprocess for {talk_name}: section formatting sequence.\")            \n",
    "                process_sections(output_xml_path, wrapped_transcript, section_object, postprocess_format_instructions_en_2)\n",
    "                logger.info(f\"Postprocessing completed for {talk_name}\")\n",
    "\n",
    "            except Exception as e:\n",
    "                logger.error(f\"Error processing {talk_name}: {e}. Partial processing may have been saved. Skipping to next talk file.\")\n",
    "\n",
    "    else:\n",
    "        logger.info(f\"No transcript found in {transcript_file}. Skipping {talk_name}\")"
   ]
  },
  {
   "cell_type": "code",
   "execution_count": 23,
   "metadata": {},
   "outputs": [
    {
     "data": {
      "text/plain": [
       "[Section(title='Invocation of Avalokiteshvara Bodhisattva', summary='The section begins with an explanation of the invocation of Avalokiteshvara Bodhisattva, emphasizing deep listening and looking into suffering within ourselves and others, and the interconnectedness of all beings. It prepares the community to experience compassion through a collective chant.', start_line=1, end_line=24),\n",
       " Section(title='Introduction of Sangha Members', summary='This section introduces Sister Peace and Brother Brett Cook, who attended the first People of Color retreat 20 years ago. It highlights the practice within families and the connection to land through spiritual guidance from monastic leaders.', start_line=25, end_line=39),\n",
       " Section(title='Teachings of Eye-Hugging Practice', summary=\"Brother Brett Cook shares a simple practice called 'eye-hugging', emphasizing connection and presence through smiling and making eye contact. He discusses the calming effect of this practice in fostering community connections and gratitude.\", start_line=40, end_line=65),\n",
       " Section(title='Reflecting on Past Retreat Experiences', summary='Brother Brett shares his first retreat experiences, contrasting his fast-paced life in New York with the slow, mindful practices he learned. He reflects on interconnectedness and how mindfulness changed his perception towards a more contemplative lifestyle.', start_line=66, end_line=116),\n",
       " Section(title='Life Lessons and Teachings from Thich Nhat Hanh', summary=\"Brother Brett illustrates Thich Nhat Hanh's teachings through stories, particularly about interconnectedness, using metaphors of a flower and jazz. He discusses mindfulness practices like samadhi, walking meditation, and their transformative impacts.\", start_line=117, end_line=200),\n",
       " Section(title='Cultural and Spiritual Reflection and Transformation', summary='The speaker discusses experiences at the retreat focusing on cultural and environmental consciousness, connecting with Vietnamese culture and the importance of teaching in a culturally diverse center. The notions of transformation through mindful practices are underscored.', start_line=201, end_line=270),\n",
       " Section(title='Decision Against Commercialism: A Lesson in Principles', summary='Brett reflects on declining a lucrative commercial opportunity that conflicted with his values. Stepping away from commercial pressures through mindfulness practices led to a pivotal shift in his life, illustrating the importance of aligning actions with principles.', start_line=271, end_line=350),\n",
       " Section(title='Legacy of Non-Discrimination and Peaceful Activism', summary='This section honors leaders like Thich Nhat Hanh and Dr. King, emphasizing their influence on peaceful activism. It discusses the importance of non-discrimination and interconnectedness in overcoming personal and societal suffering and continuing their legacy.', start_line=351, end_line=441),\n",
       " Section(title='Practices of Compassionate Action in Challenging Environments', summary='Sister Peace shares her use of mindfulness practices to support and transform environments with high suffering, such as detention centers. She describes how slowing down and mindful action can have profound impacts on personal and communal well-being.', start_line=442, end_line=523),\n",
       " Section(title='Exploring Ancestral Connection and Historical Awareness', summary='Sister Peace recounts how deeply connecting with her ancestors brought insights into understanding suffering from both ancestral and current perspectives, urging compassion even towards those who have committed injustices, to heal and transform oppression.', start_line=524, end_line=590),\n",
       " Section(title='Final Reflections and Community Encouragement', summary='The speakers conclude by encouraging the community to reflect on their personal journeys, share stories, and foster a spirit of community. They promote the power of shared experiences and the importance of dialogue in strengthening the practice.', start_line=591, end_line=579)]"
      ]
     },
     "execution_count": 23,
     "metadata": {},
     "output_type": "execute_result"
    }
   ],
   "source": [
    "section_object.sections"
   ]
  },
  {
   "cell_type": "code",
   "execution_count": 20,
   "metadata": {
    "vscode": {
     "languageId": "shellscript"
    }
   },
   "outputs": [
    {
     "data": {
      "text/plain": [
       "947"
      ]
     },
     "execution_count": 20,
     "metadata": {},
     "output_type": "execute_result"
    }
   ],
   "source": [
    "token_count(str(section_object))"
   ]
  }
 ],
 "metadata": {
  "kernelspec": {
   "display_name": "tnh-scholar",
   "language": "python",
   "name": "python3"
  },
  "language_info": {
   "codemirror_mode": {
    "name": "ipython",
    "version": 3
   },
   "file_extension": ".py",
   "mimetype": "text/x-python",
   "name": "python",
   "nbconvert_exporter": "python",
   "pygments_lexer": "ipython3",
   "version": "3.11.10"
  }
 },
 "nbformat": 4,
 "nbformat_minor": 2
}
