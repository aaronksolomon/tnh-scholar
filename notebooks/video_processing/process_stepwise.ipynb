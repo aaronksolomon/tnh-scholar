{
 "cells": [
  {
   "cell_type": "code",
   "execution_count": null,
   "metadata": {},
   "outputs": [],
   "source": [
    "%load_ext autoreload\n",
    "%autoreload 2"
   ]
  },
  {
   "cell_type": "code",
   "execution_count": 2,
   "metadata": {},
   "outputs": [
    {
     "ename": "ModuleNotFoundError",
     "evalue": "No module named 'tnh_scholar'",
     "output_type": "error",
     "traceback": [
      "\u001b[0;31m---------------------------------------------------------------------------\u001b[0m",
      "\u001b[0;31mModuleNotFoundError\u001b[0m                       Traceback (most recent call last)",
      "Cell \u001b[0;32mIn[2], line 6\u001b[0m\n\u001b[1;32m      4\u001b[0m \u001b[38;5;28;01mimport\u001b[39;00m \u001b[38;5;21;01msys\u001b[39;00m\n\u001b[1;32m      5\u001b[0m \u001b[38;5;28;01mimport\u001b[39;00m \u001b[38;5;21;01mlogging\u001b[39;00m\n\u001b[0;32m----> 6\u001b[0m \u001b[38;5;28;01mimport\u001b[39;00m \u001b[38;5;21;01mtnh_scholar\u001b[39;00m\u001b[38;5;21;01m.\u001b[39;00m\u001b[38;5;21;01mlogging_config\u001b[39;00m\n",
      "\u001b[0;31mModuleNotFoundError\u001b[0m: No module named 'tnh_scholar'"
     ]
    }
   ],
   "source": [
    "from pathlib import Path\n",
    "import argparse\n",
    "import os\n",
    "import sys\n",
    "import logging\n",
    "import tnh_scholar.logging_config\n"
   ]
  },
  {
   "cell_type": "code",
   "execution_count": 3,
   "metadata": {},
   "outputs": [],
   "source": [
    "from tnh_scholar.logging_config import setup_logging, get_child_logger\n",
    "from tnh_scholar.video_processing import (\n",
    "    get_youtube_urls_from_csv, \n",
    "    download_audio_yt,\n",
    ")\n",
    "from tnh_scholar.audio_processing import (\n",
    "    detect_whisper_boundaries, \n",
    "    split_audio_at_boundaries,\n",
    "    process_audio_chunks,\n",
    "    calculate_silence_percentage\n",
    ")"
   ]
  },
  {
   "cell_type": "code",
   "execution_count": 6,
   "metadata": {},
   "outputs": [],
   "source": [
    "from tnh_scholar import PROJECT_ROOT_DIR"
   ]
  },
  {
   "cell_type": "code",
   "execution_count": 7,
   "metadata": {},
   "outputs": [
    {
     "name": "stderr",
     "output_type": "stream",
     "text": [
      "2024-12-22 21:26:25,928 - tnh.yt_transcribe - \u001b[1;32mDEBUG\u001b[0m - Created logger with name: tnh.yt_transcribe\u001b[0m\n"
     ]
    }
   ],
   "source": [
    "setup_logging(log_filepath=\"transcription_process_stepwise.log\", log_level=logging.DEBUG)\n",
    "logger = get_child_logger(\"yt_transcribe\")"
   ]
  },
  {
   "cell_type": "code",
   "execution_count": 8,
   "metadata": {},
   "outputs": [],
   "source": [
    "# Parameter settings\n",
    "output_base_dir = PROJECT_ROOT_DIR / \"sandbox/video_transcriptions\"\n",
    "start_time = None\n",
    "url = None\n",
    "prompt = \"Dharma, Deer Park, Thay, Thich Nhat Hanh, Bodhicitta, Bodhisattva, Mahayana\"\n",
    "translate_flag = False\n",
    "max_chunk_duration = 5 * 60 # 5 minutes\n",
    "process_setting = \"split\"\n",
    "\n",
    "# Directory settings\n",
    "video_name = \"Thiền Là Gì？ [TTSĐCTTĐB 02] TS Thích Nhất Hạnh (24-11-1994, Xóm Thượng, Làng Mai)\"\n",
    "if video_name:\n",
    "    video_output_dir = output_base_dir / video_name\n",
    "    video_output_dir.mkdir(parents=True, exist_ok=True)\n",
    "    chunks_dir = video_output_dir / \"chunks\"\n",
    "    chunks_dir.mkdir(parents=True, exist_ok=True)"
   ]
  },
  {
   "cell_type": "code",
   "execution_count": 9,
   "metadata": {},
   "outputs": [],
   "source": [
    "# Step 1: Download audio\n",
    "if process_setting == \"download\":\n",
    "    logger.info(\"Downloading audio...\")\n",
    "    audio_file = download_audio_yt(url, output_base_dir, start_time=start_time)\n",
    "    logger.info(f\"Downloaded audio file: {audio_file}\")\n",
    "\n",
    "    video_name = audio_file.stem  # Use the stem of the audio file (title without extension)\n",
    "\n",
    "    # # Move the tmp audio file to the video directory\n",
    "    # audio_file = video_output_dir / tmp_audio_file.name\n",
    "\n",
    "    # try:\n",
    "    #     tmp_audio_file.rename(audio_file)  \n",
    "    #     logger.info(f\"Moved audio file to: {audio_file}\")\n",
    "    # except Exception as e:\n",
    "    #     logger.error(f\"Failed to move audio file to {video_output_dir}: {e}\")\n",
    "    #     # Ensure the code gracefully handles issues here, reassigning to the original tmp path.\n",
    "    #     audio_file = tmp_audio_file"
   ]
  },
  {
   "cell_type": "code",
   "execution_count": 10,
   "metadata": {},
   "outputs": [],
   "source": [
    "audio_file = output_base_dir / f\"{video_name}.mp3\""
   ]
  },
  {
   "cell_type": "code",
   "execution_count": 11,
   "metadata": {},
   "outputs": [
    {
     "name": "stdout",
     "output_type": "stream",
     "text": [
      "/Users/phapman/Desktop/tnh-scholar/sandbox/video_transcriptions/Thiền Là Gì？ [TTSĐCTTĐB 02] TS Thích Nhất Hạnh (24-11-1994, Xóm Thượng, Làng Mai).mp3\n"
     ]
    }
   ],
   "source": [
    "print(audio_file)"
   ]
  },
  {
   "cell_type": "code",
   "execution_count": 12,
   "metadata": {},
   "outputs": [
    {
     "data": {
      "text/plain": [
       "True"
      ]
     },
     "execution_count": 12,
     "metadata": {},
     "output_type": "execute_result"
    }
   ],
   "source": [
    "audio_file.exists()"
   ]
  },
  {
   "cell_type": "code",
   "execution_count": 18,
   "metadata": {},
   "outputs": [
    {
     "name": "stderr",
     "output_type": "stream",
     "text": [
      "2024-12-23 15:43:18,013 - tnh.yt_transcribe - \u001b[36mINFO\u001b[0m - Detecting boundaries...\u001b[0m\n",
      "2024-12-23 15:43:18,014 - tnh.audio_processing - \u001b[36mINFO\u001b[0m - Loading Whisper model...\u001b[0m\n",
      "2024-12-23 15:43:18,454 - tnh.audio_processing - \u001b[36mINFO\u001b[0m - Model 'tiny' loaded.\u001b[0m\n",
      "2024-12-23 15:43:18,455 - tnh.audio_processing - \u001b[36mINFO\u001b[0m - Estimating boundary generation time...\u001b[0m\n",
      "2024-12-23 15:43:32,489 - tnh.audio_processing - \u001b[36mINFO\u001b[0m - Expected boundary generation time: 247 seconds. This may vary significantly from the actual time.\u001b[0m\n"
     ]
    },
    {
     "name": "stdout",
     "output_type": "stream",
     "text": [
      "Generating transcription boundaries [Expected Time: 4:06, Elapsed Time: 0:34] ..................................\n"
     ]
    },
    {
     "ename": "KeyboardInterrupt",
     "evalue": "",
     "output_type": "error",
     "traceback": [
      "\u001b[0;31m---------------------------------------------------------------------------\u001b[0m",
      "\u001b[0;31mKeyboardInterrupt\u001b[0m                         Traceback (most recent call last)",
      "Cell \u001b[0;32mIn[18], line 4\u001b[0m\n\u001b[1;32m      1\u001b[0m \u001b[38;5;28;01mif\u001b[39;00m process_setting \u001b[38;5;241m==\u001b[39m \u001b[38;5;124m\"\u001b[39m\u001b[38;5;124msplit\u001b[39m\u001b[38;5;124m\"\u001b[39m:\n\u001b[1;32m      2\u001b[0m     \u001b[38;5;66;03m# Step 2: Detect boundaries    \u001b[39;00m\n\u001b[1;32m      3\u001b[0m     logger\u001b[38;5;241m.\u001b[39minfo(\u001b[38;5;124m\"\u001b[39m\u001b[38;5;124mDetecting boundaries...\u001b[39m\u001b[38;5;124m\"\u001b[39m)\n\u001b[0;32m----> 4\u001b[0m     boundaries, boundary_transciption \u001b[38;5;241m=\u001b[39m \u001b[43mdetect_whisper_boundaries\u001b[49m\u001b[43m(\u001b[49m\u001b[43maudio_file\u001b[49m\u001b[43m,\u001b[49m\u001b[43m \u001b[49m\u001b[43mlanguage\u001b[49m\u001b[38;5;241;43m=\u001b[39;49m\u001b[38;5;124;43m'\u001b[39;49m\u001b[38;5;124;43mvi\u001b[39;49m\u001b[38;5;124;43m'\u001b[39;49m\u001b[43m)\u001b[49m\n\u001b[1;32m      5\u001b[0m     logger\u001b[38;5;241m.\u001b[39minfo(\u001b[38;5;124mf\u001b[39m\u001b[38;5;124m\"\u001b[39m\u001b[38;5;124mBoundaries generated.\u001b[39m\u001b[38;5;124m\"\u001b[39m)\n",
      "File \u001b[0;32m~/Desktop/tnh-scholar/src/tnh_scholar/audio_processing/audio_processing.py:87\u001b[0m, in \u001b[0;36mdetect_whisper_boundaries\u001b[0;34m(audio_file, model_size, language)\u001b[0m\n\u001b[1;32m     84\u001b[0m logger\u001b[38;5;241m.\u001b[39minfo(\u001b[38;5;124mf\u001b[39m\u001b[38;5;124m\"\u001b[39m\u001b[38;5;124mExpected boundary generation time: \u001b[39m\u001b[38;5;132;01m{\u001b[39;00mexpected_time\u001b[38;5;132;01m:\u001b[39;00m\u001b[38;5;124m3.0f\u001b[39m\u001b[38;5;132;01m}\u001b[39;00m\u001b[38;5;124m seconds. This may vary significantly from the actual time.\u001b[39m\u001b[38;5;124m\"\u001b[39m)\n\u001b[1;32m     86\u001b[0m \u001b[38;5;28;01mwith\u001b[39;00m TimeProgress(expected_time\u001b[38;5;241m=\u001b[39mexpected_time, desc\u001b[38;5;241m=\u001b[39m\u001b[38;5;124m\"\u001b[39m\u001b[38;5;124mGenerating transcription boundaries\u001b[39m\u001b[38;5;124m\"\u001b[39m):\n\u001b[0;32m---> 87\u001b[0m     boundary_transcription \u001b[38;5;241m=\u001b[39m \u001b[43mwhisper_model_transcribe\u001b[49m\u001b[43m(\u001b[49m\u001b[43mmodel\u001b[49m\u001b[43m,\u001b[49m\u001b[43m \u001b[49m\u001b[38;5;28;43mstr\u001b[39;49m\u001b[43m(\u001b[49m\u001b[43maudio_file\u001b[49m\u001b[43m)\u001b[49m\u001b[43m,\u001b[49m\u001b[43m \u001b[49m\u001b[43mtask\u001b[49m\u001b[38;5;241;43m=\u001b[39;49m\u001b[38;5;124;43m\"\u001b[39;49m\u001b[38;5;124;43mtranscribe\u001b[39;49m\u001b[38;5;124;43m\"\u001b[39;49m\u001b[43m,\u001b[49m\u001b[43m \u001b[49m\u001b[43mword_timestamps\u001b[49m\u001b[38;5;241;43m=\u001b[39;49m\u001b[38;5;28;43;01mTrue\u001b[39;49;00m\u001b[43m,\u001b[49m\u001b[43m \u001b[49m\u001b[43mlanguage\u001b[49m\u001b[38;5;241;43m=\u001b[39;49m\u001b[43mlanguage\u001b[49m\u001b[43m)\u001b[49m\n\u001b[1;32m     89\u001b[0m sentence_boundaries \u001b[38;5;241m=\u001b[39m []\n\u001b[1;32m     90\u001b[0m \u001b[38;5;28;01mfor\u001b[39;00m segment \u001b[38;5;129;01min\u001b[39;00m boundary_transcription[\u001b[38;5;124m'\u001b[39m\u001b[38;5;124msegments\u001b[39m\u001b[38;5;124m'\u001b[39m]:\n",
      "File \u001b[0;32m~/Desktop/tnh-scholar/src/tnh_scholar/audio_processing/audio_processing.py:433\u001b[0m, in \u001b[0;36mwhisper_model_transcribe\u001b[0;34m(model, input_source, *args, **kwargs)\u001b[0m\n\u001b[1;32m    430\u001b[0m         input_source \u001b[38;5;241m=\u001b[39m \u001b[38;5;28mstr\u001b[39m(input_source)\n\u001b[1;32m    432\u001b[0m     \u001b[38;5;66;03m# Call the original transcribe function\u001b[39;00m\n\u001b[0;32m--> 433\u001b[0m     \u001b[38;5;28;01mreturn\u001b[39;00m \u001b[43mmodel\u001b[49m\u001b[38;5;241;43m.\u001b[39;49m\u001b[43mtranscribe\u001b[49m\u001b[43m(\u001b[49m\u001b[43minput_source\u001b[49m\u001b[43m,\u001b[49m\u001b[43m \u001b[49m\u001b[38;5;241;43m*\u001b[39;49m\u001b[43margs\u001b[49m\u001b[43m,\u001b[49m\u001b[43m \u001b[49m\u001b[38;5;241;43m*\u001b[39;49m\u001b[38;5;241;43m*\u001b[39;49m\u001b[43mkwargs\u001b[49m\u001b[43m)\u001b[49m\n\u001b[1;32m    434\u001b[0m \u001b[38;5;28;01mfinally\u001b[39;00m:\n\u001b[1;32m    435\u001b[0m     \u001b[38;5;66;03m# Restore original stdout\u001b[39;00m\n\u001b[1;32m    436\u001b[0m     sys\u001b[38;5;241m.\u001b[39mstdout \u001b[38;5;241m=\u001b[39m original_stdout\n",
      "File \u001b[0;32m/opt/anaconda3/envs/tnh-scholar/lib/python3.11/site-packages/whisper/transcribe.py:279\u001b[0m, in \u001b[0;36mtranscribe\u001b[0;34m(model, audio, verbose, temperature, compression_ratio_threshold, logprob_threshold, no_speech_threshold, condition_on_previous_text, initial_prompt, word_timestamps, prepend_punctuations, append_punctuations, clip_timestamps, hallucination_silence_threshold, **decode_options)\u001b[0m\n\u001b[1;32m    276\u001b[0m mel_segment \u001b[38;5;241m=\u001b[39m pad_or_trim(mel_segment, N_FRAMES)\u001b[38;5;241m.\u001b[39mto(model\u001b[38;5;241m.\u001b[39mdevice)\u001b[38;5;241m.\u001b[39mto(dtype)\n\u001b[1;32m    278\u001b[0m decode_options[\u001b[38;5;124m\"\u001b[39m\u001b[38;5;124mprompt\u001b[39m\u001b[38;5;124m\"\u001b[39m] \u001b[38;5;241m=\u001b[39m all_tokens[prompt_reset_since:]\n\u001b[0;32m--> 279\u001b[0m result: DecodingResult \u001b[38;5;241m=\u001b[39m \u001b[43mdecode_with_fallback\u001b[49m\u001b[43m(\u001b[49m\u001b[43mmel_segment\u001b[49m\u001b[43m)\u001b[49m\n\u001b[1;32m    280\u001b[0m tokens \u001b[38;5;241m=\u001b[39m torch\u001b[38;5;241m.\u001b[39mtensor(result\u001b[38;5;241m.\u001b[39mtokens)\n\u001b[1;32m    282\u001b[0m \u001b[38;5;28;01mif\u001b[39;00m no_speech_threshold \u001b[38;5;129;01mis\u001b[39;00m \u001b[38;5;129;01mnot\u001b[39;00m \u001b[38;5;28;01mNone\u001b[39;00m:\n\u001b[1;32m    283\u001b[0m     \u001b[38;5;66;03m# no voice activity check\u001b[39;00m\n",
      "File \u001b[0;32m/opt/anaconda3/envs/tnh-scholar/lib/python3.11/site-packages/whisper/transcribe.py:195\u001b[0m, in \u001b[0;36mtranscribe.<locals>.decode_with_fallback\u001b[0;34m(segment)\u001b[0m\n\u001b[1;32m    192\u001b[0m     kwargs\u001b[38;5;241m.\u001b[39mpop(\u001b[38;5;124m\"\u001b[39m\u001b[38;5;124mbest_of\u001b[39m\u001b[38;5;124m\"\u001b[39m, \u001b[38;5;28;01mNone\u001b[39;00m)\n\u001b[1;32m    194\u001b[0m options \u001b[38;5;241m=\u001b[39m DecodingOptions(\u001b[38;5;241m*\u001b[39m\u001b[38;5;241m*\u001b[39mkwargs, temperature\u001b[38;5;241m=\u001b[39mt)\n\u001b[0;32m--> 195\u001b[0m decode_result \u001b[38;5;241m=\u001b[39m \u001b[43mmodel\u001b[49m\u001b[38;5;241;43m.\u001b[39;49m\u001b[43mdecode\u001b[49m\u001b[43m(\u001b[49m\u001b[43msegment\u001b[49m\u001b[43m,\u001b[49m\u001b[43m \u001b[49m\u001b[43moptions\u001b[49m\u001b[43m)\u001b[49m\n\u001b[1;32m    197\u001b[0m needs_fallback \u001b[38;5;241m=\u001b[39m \u001b[38;5;28;01mFalse\u001b[39;00m\n\u001b[1;32m    198\u001b[0m \u001b[38;5;28;01mif\u001b[39;00m (\n\u001b[1;32m    199\u001b[0m     compression_ratio_threshold \u001b[38;5;129;01mis\u001b[39;00m \u001b[38;5;129;01mnot\u001b[39;00m \u001b[38;5;28;01mNone\u001b[39;00m\n\u001b[1;32m    200\u001b[0m     \u001b[38;5;129;01mand\u001b[39;00m decode_result\u001b[38;5;241m.\u001b[39mcompression_ratio \u001b[38;5;241m>\u001b[39m compression_ratio_threshold\n\u001b[1;32m    201\u001b[0m ):\n",
      "File \u001b[0;32m/opt/anaconda3/envs/tnh-scholar/lib/python3.11/site-packages/torch/utils/_contextlib.py:116\u001b[0m, in \u001b[0;36mcontext_decorator.<locals>.decorate_context\u001b[0;34m(*args, **kwargs)\u001b[0m\n\u001b[1;32m    113\u001b[0m \u001b[38;5;129m@functools\u001b[39m\u001b[38;5;241m.\u001b[39mwraps(func)\n\u001b[1;32m    114\u001b[0m \u001b[38;5;28;01mdef\u001b[39;00m \u001b[38;5;21mdecorate_context\u001b[39m(\u001b[38;5;241m*\u001b[39margs, \u001b[38;5;241m*\u001b[39m\u001b[38;5;241m*\u001b[39mkwargs):\n\u001b[1;32m    115\u001b[0m     \u001b[38;5;28;01mwith\u001b[39;00m ctx_factory():\n\u001b[0;32m--> 116\u001b[0m         \u001b[38;5;28;01mreturn\u001b[39;00m \u001b[43mfunc\u001b[49m\u001b[43m(\u001b[49m\u001b[38;5;241;43m*\u001b[39;49m\u001b[43margs\u001b[49m\u001b[43m,\u001b[49m\u001b[43m \u001b[49m\u001b[38;5;241;43m*\u001b[39;49m\u001b[38;5;241;43m*\u001b[39;49m\u001b[43mkwargs\u001b[49m\u001b[43m)\u001b[49m\n",
      "File \u001b[0;32m/opt/anaconda3/envs/tnh-scholar/lib/python3.11/site-packages/whisper/decoding.py:824\u001b[0m, in \u001b[0;36mdecode\u001b[0;34m(model, mel, options, **kwargs)\u001b[0m\n\u001b[1;32m    821\u001b[0m \u001b[38;5;28;01mif\u001b[39;00m kwargs:\n\u001b[1;32m    822\u001b[0m     options \u001b[38;5;241m=\u001b[39m replace(options, \u001b[38;5;241m*\u001b[39m\u001b[38;5;241m*\u001b[39mkwargs)\n\u001b[0;32m--> 824\u001b[0m result \u001b[38;5;241m=\u001b[39m \u001b[43mDecodingTask\u001b[49m\u001b[43m(\u001b[49m\u001b[43mmodel\u001b[49m\u001b[43m,\u001b[49m\u001b[43m \u001b[49m\u001b[43moptions\u001b[49m\u001b[43m)\u001b[49m\u001b[38;5;241;43m.\u001b[39;49m\u001b[43mrun\u001b[49m\u001b[43m(\u001b[49m\u001b[43mmel\u001b[49m\u001b[43m)\u001b[49m\n\u001b[1;32m    826\u001b[0m \u001b[38;5;28;01mreturn\u001b[39;00m result[\u001b[38;5;241m0\u001b[39m] \u001b[38;5;28;01mif\u001b[39;00m single \u001b[38;5;28;01melse\u001b[39;00m result\n",
      "File \u001b[0;32m/opt/anaconda3/envs/tnh-scholar/lib/python3.11/site-packages/torch/utils/_contextlib.py:116\u001b[0m, in \u001b[0;36mcontext_decorator.<locals>.decorate_context\u001b[0;34m(*args, **kwargs)\u001b[0m\n\u001b[1;32m    113\u001b[0m \u001b[38;5;129m@functools\u001b[39m\u001b[38;5;241m.\u001b[39mwraps(func)\n\u001b[1;32m    114\u001b[0m \u001b[38;5;28;01mdef\u001b[39;00m \u001b[38;5;21mdecorate_context\u001b[39m(\u001b[38;5;241m*\u001b[39margs, \u001b[38;5;241m*\u001b[39m\u001b[38;5;241m*\u001b[39mkwargs):\n\u001b[1;32m    115\u001b[0m     \u001b[38;5;28;01mwith\u001b[39;00m ctx_factory():\n\u001b[0;32m--> 116\u001b[0m         \u001b[38;5;28;01mreturn\u001b[39;00m \u001b[43mfunc\u001b[49m\u001b[43m(\u001b[49m\u001b[38;5;241;43m*\u001b[39;49m\u001b[43margs\u001b[49m\u001b[43m,\u001b[49m\u001b[43m \u001b[49m\u001b[38;5;241;43m*\u001b[39;49m\u001b[38;5;241;43m*\u001b[39;49m\u001b[43mkwargs\u001b[49m\u001b[43m)\u001b[49m\n",
      "File \u001b[0;32m/opt/anaconda3/envs/tnh-scholar/lib/python3.11/site-packages/whisper/decoding.py:737\u001b[0m, in \u001b[0;36mDecodingTask.run\u001b[0;34m(self, mel)\u001b[0m\n\u001b[1;32m    734\u001b[0m tokens \u001b[38;5;241m=\u001b[39m tokens\u001b[38;5;241m.\u001b[39mrepeat_interleave(\u001b[38;5;28mself\u001b[39m\u001b[38;5;241m.\u001b[39mn_group, dim\u001b[38;5;241m=\u001b[39m\u001b[38;5;241m0\u001b[39m)\u001b[38;5;241m.\u001b[39mto(audio_features\u001b[38;5;241m.\u001b[39mdevice)\n\u001b[1;32m    736\u001b[0m \u001b[38;5;66;03m# call the main sampling loop\u001b[39;00m\n\u001b[0;32m--> 737\u001b[0m tokens, sum_logprobs, no_speech_probs \u001b[38;5;241m=\u001b[39m \u001b[38;5;28;43mself\u001b[39;49m\u001b[38;5;241;43m.\u001b[39;49m\u001b[43m_main_loop\u001b[49m\u001b[43m(\u001b[49m\u001b[43maudio_features\u001b[49m\u001b[43m,\u001b[49m\u001b[43m \u001b[49m\u001b[43mtokens\u001b[49m\u001b[43m)\u001b[49m\n\u001b[1;32m    739\u001b[0m \u001b[38;5;66;03m# reshape the tensors to have (n_audio, n_group) as the first two dimensions\u001b[39;00m\n\u001b[1;32m    740\u001b[0m audio_features \u001b[38;5;241m=\u001b[39m audio_features[:: \u001b[38;5;28mself\u001b[39m\u001b[38;5;241m.\u001b[39mn_group]\n",
      "File \u001b[0;32m/opt/anaconda3/envs/tnh-scholar/lib/python3.11/site-packages/whisper/decoding.py:687\u001b[0m, in \u001b[0;36mDecodingTask._main_loop\u001b[0;34m(self, audio_features, tokens)\u001b[0m\n\u001b[1;32m    685\u001b[0m \u001b[38;5;28;01mtry\u001b[39;00m:\n\u001b[1;32m    686\u001b[0m     \u001b[38;5;28;01mfor\u001b[39;00m i \u001b[38;5;129;01min\u001b[39;00m \u001b[38;5;28mrange\u001b[39m(\u001b[38;5;28mself\u001b[39m\u001b[38;5;241m.\u001b[39msample_len):\n\u001b[0;32m--> 687\u001b[0m         logits \u001b[38;5;241m=\u001b[39m \u001b[38;5;28;43mself\u001b[39;49m\u001b[38;5;241;43m.\u001b[39;49m\u001b[43minference\u001b[49m\u001b[38;5;241;43m.\u001b[39;49m\u001b[43mlogits\u001b[49m\u001b[43m(\u001b[49m\u001b[43mtokens\u001b[49m\u001b[43m,\u001b[49m\u001b[43m \u001b[49m\u001b[43maudio_features\u001b[49m\u001b[43m)\u001b[49m\n\u001b[1;32m    689\u001b[0m         \u001b[38;5;28;01mif\u001b[39;00m (\n\u001b[1;32m    690\u001b[0m             i \u001b[38;5;241m==\u001b[39m \u001b[38;5;241m0\u001b[39m \u001b[38;5;129;01mand\u001b[39;00m \u001b[38;5;28mself\u001b[39m\u001b[38;5;241m.\u001b[39mtokenizer\u001b[38;5;241m.\u001b[39mno_speech \u001b[38;5;129;01mis\u001b[39;00m \u001b[38;5;129;01mnot\u001b[39;00m \u001b[38;5;28;01mNone\u001b[39;00m\n\u001b[1;32m    691\u001b[0m         ):  \u001b[38;5;66;03m# save no_speech_probs\u001b[39;00m\n\u001b[1;32m    692\u001b[0m             probs_at_sot \u001b[38;5;241m=\u001b[39m logits[:, \u001b[38;5;28mself\u001b[39m\u001b[38;5;241m.\u001b[39msot_index]\u001b[38;5;241m.\u001b[39mfloat()\u001b[38;5;241m.\u001b[39msoftmax(dim\u001b[38;5;241m=\u001b[39m\u001b[38;5;241m-\u001b[39m\u001b[38;5;241m1\u001b[39m)\n",
      "File \u001b[0;32m/opt/anaconda3/envs/tnh-scholar/lib/python3.11/site-packages/whisper/decoding.py:163\u001b[0m, in \u001b[0;36mPyTorchInference.logits\u001b[0;34m(self, tokens, audio_features)\u001b[0m\n\u001b[1;32m    159\u001b[0m \u001b[38;5;28;01mif\u001b[39;00m tokens\u001b[38;5;241m.\u001b[39mshape[\u001b[38;5;241m-\u001b[39m\u001b[38;5;241m1\u001b[39m] \u001b[38;5;241m>\u001b[39m \u001b[38;5;28mself\u001b[39m\u001b[38;5;241m.\u001b[39minitial_token_length:\n\u001b[1;32m    160\u001b[0m     \u001b[38;5;66;03m# only need to use the last token except in the first forward pass\u001b[39;00m\n\u001b[1;32m    161\u001b[0m     tokens \u001b[38;5;241m=\u001b[39m tokens[:, \u001b[38;5;241m-\u001b[39m\u001b[38;5;241m1\u001b[39m:]\n\u001b[0;32m--> 163\u001b[0m \u001b[38;5;28;01mreturn\u001b[39;00m \u001b[38;5;28;43mself\u001b[39;49m\u001b[38;5;241;43m.\u001b[39;49m\u001b[43mmodel\u001b[49m\u001b[38;5;241;43m.\u001b[39;49m\u001b[43mdecoder\u001b[49m\u001b[43m(\u001b[49m\u001b[43mtokens\u001b[49m\u001b[43m,\u001b[49m\u001b[43m \u001b[49m\u001b[43maudio_features\u001b[49m\u001b[43m,\u001b[49m\u001b[43m \u001b[49m\u001b[43mkv_cache\u001b[49m\u001b[38;5;241;43m=\u001b[39;49m\u001b[38;5;28;43mself\u001b[39;49m\u001b[38;5;241;43m.\u001b[39;49m\u001b[43mkv_cache\u001b[49m\u001b[43m)\u001b[49m\n",
      "File \u001b[0;32m/opt/anaconda3/envs/tnh-scholar/lib/python3.11/site-packages/torch/nn/modules/module.py:1740\u001b[0m, in \u001b[0;36mModule._wrapped_call_impl\u001b[0;34m(self, *args, **kwargs)\u001b[0m\n\u001b[1;32m   1738\u001b[0m     \u001b[38;5;28;01mreturn\u001b[39;00m \u001b[38;5;28mself\u001b[39m\u001b[38;5;241m.\u001b[39m_compiled_call_impl(\u001b[38;5;241m*\u001b[39margs, \u001b[38;5;241m*\u001b[39m\u001b[38;5;241m*\u001b[39mkwargs)  \u001b[38;5;66;03m# type: ignore[misc]\u001b[39;00m\n\u001b[1;32m   1739\u001b[0m \u001b[38;5;28;01melse\u001b[39;00m:\n\u001b[0;32m-> 1740\u001b[0m     \u001b[38;5;28;01mreturn\u001b[39;00m \u001b[38;5;28;43mself\u001b[39;49m\u001b[38;5;241;43m.\u001b[39;49m\u001b[43m_call_impl\u001b[49m\u001b[43m(\u001b[49m\u001b[38;5;241;43m*\u001b[39;49m\u001b[43margs\u001b[49m\u001b[43m,\u001b[49m\u001b[43m \u001b[49m\u001b[38;5;241;43m*\u001b[39;49m\u001b[38;5;241;43m*\u001b[39;49m\u001b[43mkwargs\u001b[49m\u001b[43m)\u001b[49m\n",
      "File \u001b[0;32m/opt/anaconda3/envs/tnh-scholar/lib/python3.11/site-packages/torch/nn/modules/module.py:1751\u001b[0m, in \u001b[0;36mModule._call_impl\u001b[0;34m(self, *args, **kwargs)\u001b[0m\n\u001b[1;32m   1746\u001b[0m \u001b[38;5;66;03m# If we don't have any hooks, we want to skip the rest of the logic in\u001b[39;00m\n\u001b[1;32m   1747\u001b[0m \u001b[38;5;66;03m# this function, and just call forward.\u001b[39;00m\n\u001b[1;32m   1748\u001b[0m \u001b[38;5;28;01mif\u001b[39;00m \u001b[38;5;129;01mnot\u001b[39;00m (\u001b[38;5;28mself\u001b[39m\u001b[38;5;241m.\u001b[39m_backward_hooks \u001b[38;5;129;01mor\u001b[39;00m \u001b[38;5;28mself\u001b[39m\u001b[38;5;241m.\u001b[39m_backward_pre_hooks \u001b[38;5;129;01mor\u001b[39;00m \u001b[38;5;28mself\u001b[39m\u001b[38;5;241m.\u001b[39m_forward_hooks \u001b[38;5;129;01mor\u001b[39;00m \u001b[38;5;28mself\u001b[39m\u001b[38;5;241m.\u001b[39m_forward_pre_hooks\n\u001b[1;32m   1749\u001b[0m         \u001b[38;5;129;01mor\u001b[39;00m _global_backward_pre_hooks \u001b[38;5;129;01mor\u001b[39;00m _global_backward_hooks\n\u001b[1;32m   1750\u001b[0m         \u001b[38;5;129;01mor\u001b[39;00m _global_forward_hooks \u001b[38;5;129;01mor\u001b[39;00m _global_forward_pre_hooks):\n\u001b[0;32m-> 1751\u001b[0m     \u001b[38;5;28;01mreturn\u001b[39;00m \u001b[43mforward_call\u001b[49m\u001b[43m(\u001b[49m\u001b[38;5;241;43m*\u001b[39;49m\u001b[43margs\u001b[49m\u001b[43m,\u001b[49m\u001b[43m \u001b[49m\u001b[38;5;241;43m*\u001b[39;49m\u001b[38;5;241;43m*\u001b[39;49m\u001b[43mkwargs\u001b[49m\u001b[43m)\u001b[49m\n\u001b[1;32m   1753\u001b[0m result \u001b[38;5;241m=\u001b[39m \u001b[38;5;28;01mNone\u001b[39;00m\n\u001b[1;32m   1754\u001b[0m called_always_called_hooks \u001b[38;5;241m=\u001b[39m \u001b[38;5;28mset\u001b[39m()\n",
      "File \u001b[0;32m/opt/anaconda3/envs/tnh-scholar/lib/python3.11/site-packages/whisper/model.py:242\u001b[0m, in \u001b[0;36mTextDecoder.forward\u001b[0;34m(self, x, xa, kv_cache)\u001b[0m\n\u001b[1;32m    239\u001b[0m x \u001b[38;5;241m=\u001b[39m x\u001b[38;5;241m.\u001b[39mto(xa\u001b[38;5;241m.\u001b[39mdtype)\n\u001b[1;32m    241\u001b[0m \u001b[38;5;28;01mfor\u001b[39;00m block \u001b[38;5;129;01min\u001b[39;00m \u001b[38;5;28mself\u001b[39m\u001b[38;5;241m.\u001b[39mblocks:\n\u001b[0;32m--> 242\u001b[0m     x \u001b[38;5;241m=\u001b[39m \u001b[43mblock\u001b[49m\u001b[43m(\u001b[49m\u001b[43mx\u001b[49m\u001b[43m,\u001b[49m\u001b[43m \u001b[49m\u001b[43mxa\u001b[49m\u001b[43m,\u001b[49m\u001b[43m \u001b[49m\u001b[43mmask\u001b[49m\u001b[38;5;241;43m=\u001b[39;49m\u001b[38;5;28;43mself\u001b[39;49m\u001b[38;5;241;43m.\u001b[39;49m\u001b[43mmask\u001b[49m\u001b[43m,\u001b[49m\u001b[43m \u001b[49m\u001b[43mkv_cache\u001b[49m\u001b[38;5;241;43m=\u001b[39;49m\u001b[43mkv_cache\u001b[49m\u001b[43m)\u001b[49m\n\u001b[1;32m    244\u001b[0m x \u001b[38;5;241m=\u001b[39m \u001b[38;5;28mself\u001b[39m\u001b[38;5;241m.\u001b[39mln(x)\n\u001b[1;32m    245\u001b[0m logits \u001b[38;5;241m=\u001b[39m (\n\u001b[1;32m    246\u001b[0m     x \u001b[38;5;241m@\u001b[39m torch\u001b[38;5;241m.\u001b[39mtranspose(\u001b[38;5;28mself\u001b[39m\u001b[38;5;241m.\u001b[39mtoken_embedding\u001b[38;5;241m.\u001b[39mweight\u001b[38;5;241m.\u001b[39mto(x\u001b[38;5;241m.\u001b[39mdtype), \u001b[38;5;241m0\u001b[39m, \u001b[38;5;241m1\u001b[39m)\n\u001b[1;32m    247\u001b[0m )\u001b[38;5;241m.\u001b[39mfloat()\n",
      "File \u001b[0;32m/opt/anaconda3/envs/tnh-scholar/lib/python3.11/site-packages/torch/nn/modules/module.py:1740\u001b[0m, in \u001b[0;36mModule._wrapped_call_impl\u001b[0;34m(self, *args, **kwargs)\u001b[0m\n\u001b[1;32m   1738\u001b[0m     \u001b[38;5;28;01mreturn\u001b[39;00m \u001b[38;5;28mself\u001b[39m\u001b[38;5;241m.\u001b[39m_compiled_call_impl(\u001b[38;5;241m*\u001b[39margs, \u001b[38;5;241m*\u001b[39m\u001b[38;5;241m*\u001b[39mkwargs)  \u001b[38;5;66;03m# type: ignore[misc]\u001b[39;00m\n\u001b[1;32m   1739\u001b[0m \u001b[38;5;28;01melse\u001b[39;00m:\n\u001b[0;32m-> 1740\u001b[0m     \u001b[38;5;28;01mreturn\u001b[39;00m \u001b[38;5;28;43mself\u001b[39;49m\u001b[38;5;241;43m.\u001b[39;49m\u001b[43m_call_impl\u001b[49m\u001b[43m(\u001b[49m\u001b[38;5;241;43m*\u001b[39;49m\u001b[43margs\u001b[49m\u001b[43m,\u001b[49m\u001b[43m \u001b[49m\u001b[38;5;241;43m*\u001b[39;49m\u001b[38;5;241;43m*\u001b[39;49m\u001b[43mkwargs\u001b[49m\u001b[43m)\u001b[49m\n",
      "File \u001b[0;32m/opt/anaconda3/envs/tnh-scholar/lib/python3.11/site-packages/torch/nn/modules/module.py:1751\u001b[0m, in \u001b[0;36mModule._call_impl\u001b[0;34m(self, *args, **kwargs)\u001b[0m\n\u001b[1;32m   1746\u001b[0m \u001b[38;5;66;03m# If we don't have any hooks, we want to skip the rest of the logic in\u001b[39;00m\n\u001b[1;32m   1747\u001b[0m \u001b[38;5;66;03m# this function, and just call forward.\u001b[39;00m\n\u001b[1;32m   1748\u001b[0m \u001b[38;5;28;01mif\u001b[39;00m \u001b[38;5;129;01mnot\u001b[39;00m (\u001b[38;5;28mself\u001b[39m\u001b[38;5;241m.\u001b[39m_backward_hooks \u001b[38;5;129;01mor\u001b[39;00m \u001b[38;5;28mself\u001b[39m\u001b[38;5;241m.\u001b[39m_backward_pre_hooks \u001b[38;5;129;01mor\u001b[39;00m \u001b[38;5;28mself\u001b[39m\u001b[38;5;241m.\u001b[39m_forward_hooks \u001b[38;5;129;01mor\u001b[39;00m \u001b[38;5;28mself\u001b[39m\u001b[38;5;241m.\u001b[39m_forward_pre_hooks\n\u001b[1;32m   1749\u001b[0m         \u001b[38;5;129;01mor\u001b[39;00m _global_backward_pre_hooks \u001b[38;5;129;01mor\u001b[39;00m _global_backward_hooks\n\u001b[1;32m   1750\u001b[0m         \u001b[38;5;129;01mor\u001b[39;00m _global_forward_hooks \u001b[38;5;129;01mor\u001b[39;00m _global_forward_pre_hooks):\n\u001b[0;32m-> 1751\u001b[0m     \u001b[38;5;28;01mreturn\u001b[39;00m \u001b[43mforward_call\u001b[49m\u001b[43m(\u001b[49m\u001b[38;5;241;43m*\u001b[39;49m\u001b[43margs\u001b[49m\u001b[43m,\u001b[49m\u001b[43m \u001b[49m\u001b[38;5;241;43m*\u001b[39;49m\u001b[38;5;241;43m*\u001b[39;49m\u001b[43mkwargs\u001b[49m\u001b[43m)\u001b[49m\n\u001b[1;32m   1753\u001b[0m result \u001b[38;5;241m=\u001b[39m \u001b[38;5;28;01mNone\u001b[39;00m\n\u001b[1;32m   1754\u001b[0m called_always_called_hooks \u001b[38;5;241m=\u001b[39m \u001b[38;5;28mset\u001b[39m()\n",
      "File \u001b[0;32m/opt/anaconda3/envs/tnh-scholar/lib/python3.11/site-packages/whisper/model.py:170\u001b[0m, in \u001b[0;36mResidualAttentionBlock.forward\u001b[0;34m(self, x, xa, mask, kv_cache)\u001b[0m\n\u001b[1;32m    168\u001b[0m \u001b[38;5;28;01mif\u001b[39;00m \u001b[38;5;28mself\u001b[39m\u001b[38;5;241m.\u001b[39mcross_attn:\n\u001b[1;32m    169\u001b[0m     x \u001b[38;5;241m=\u001b[39m x \u001b[38;5;241m+\u001b[39m \u001b[38;5;28mself\u001b[39m\u001b[38;5;241m.\u001b[39mcross_attn(\u001b[38;5;28mself\u001b[39m\u001b[38;5;241m.\u001b[39mcross_attn_ln(x), xa, kv_cache\u001b[38;5;241m=\u001b[39mkv_cache)[\u001b[38;5;241m0\u001b[39m]\n\u001b[0;32m--> 170\u001b[0m x \u001b[38;5;241m=\u001b[39m x \u001b[38;5;241m+\u001b[39m \u001b[38;5;28;43mself\u001b[39;49m\u001b[38;5;241;43m.\u001b[39;49m\u001b[43mmlp\u001b[49m\u001b[43m(\u001b[49m\u001b[38;5;28;43mself\u001b[39;49m\u001b[38;5;241;43m.\u001b[39;49m\u001b[43mmlp_ln\u001b[49m\u001b[43m(\u001b[49m\u001b[43mx\u001b[49m\u001b[43m)\u001b[49m\u001b[43m)\u001b[49m\n\u001b[1;32m    171\u001b[0m \u001b[38;5;28;01mreturn\u001b[39;00m x\n",
      "File \u001b[0;32m/opt/anaconda3/envs/tnh-scholar/lib/python3.11/site-packages/torch/nn/modules/module.py:1740\u001b[0m, in \u001b[0;36mModule._wrapped_call_impl\u001b[0;34m(self, *args, **kwargs)\u001b[0m\n\u001b[1;32m   1738\u001b[0m     \u001b[38;5;28;01mreturn\u001b[39;00m \u001b[38;5;28mself\u001b[39m\u001b[38;5;241m.\u001b[39m_compiled_call_impl(\u001b[38;5;241m*\u001b[39margs, \u001b[38;5;241m*\u001b[39m\u001b[38;5;241m*\u001b[39mkwargs)  \u001b[38;5;66;03m# type: ignore[misc]\u001b[39;00m\n\u001b[1;32m   1739\u001b[0m \u001b[38;5;28;01melse\u001b[39;00m:\n\u001b[0;32m-> 1740\u001b[0m     \u001b[38;5;28;01mreturn\u001b[39;00m \u001b[38;5;28;43mself\u001b[39;49m\u001b[38;5;241;43m.\u001b[39;49m\u001b[43m_call_impl\u001b[49m\u001b[43m(\u001b[49m\u001b[38;5;241;43m*\u001b[39;49m\u001b[43margs\u001b[49m\u001b[43m,\u001b[49m\u001b[43m \u001b[49m\u001b[38;5;241;43m*\u001b[39;49m\u001b[38;5;241;43m*\u001b[39;49m\u001b[43mkwargs\u001b[49m\u001b[43m)\u001b[49m\n",
      "File \u001b[0;32m/opt/anaconda3/envs/tnh-scholar/lib/python3.11/site-packages/torch/nn/modules/module.py:1751\u001b[0m, in \u001b[0;36mModule._call_impl\u001b[0;34m(self, *args, **kwargs)\u001b[0m\n\u001b[1;32m   1746\u001b[0m \u001b[38;5;66;03m# If we don't have any hooks, we want to skip the rest of the logic in\u001b[39;00m\n\u001b[1;32m   1747\u001b[0m \u001b[38;5;66;03m# this function, and just call forward.\u001b[39;00m\n\u001b[1;32m   1748\u001b[0m \u001b[38;5;28;01mif\u001b[39;00m \u001b[38;5;129;01mnot\u001b[39;00m (\u001b[38;5;28mself\u001b[39m\u001b[38;5;241m.\u001b[39m_backward_hooks \u001b[38;5;129;01mor\u001b[39;00m \u001b[38;5;28mself\u001b[39m\u001b[38;5;241m.\u001b[39m_backward_pre_hooks \u001b[38;5;129;01mor\u001b[39;00m \u001b[38;5;28mself\u001b[39m\u001b[38;5;241m.\u001b[39m_forward_hooks \u001b[38;5;129;01mor\u001b[39;00m \u001b[38;5;28mself\u001b[39m\u001b[38;5;241m.\u001b[39m_forward_pre_hooks\n\u001b[1;32m   1749\u001b[0m         \u001b[38;5;129;01mor\u001b[39;00m _global_backward_pre_hooks \u001b[38;5;129;01mor\u001b[39;00m _global_backward_hooks\n\u001b[1;32m   1750\u001b[0m         \u001b[38;5;129;01mor\u001b[39;00m _global_forward_hooks \u001b[38;5;129;01mor\u001b[39;00m _global_forward_pre_hooks):\n\u001b[0;32m-> 1751\u001b[0m     \u001b[38;5;28;01mreturn\u001b[39;00m \u001b[43mforward_call\u001b[49m\u001b[43m(\u001b[49m\u001b[38;5;241;43m*\u001b[39;49m\u001b[43margs\u001b[49m\u001b[43m,\u001b[49m\u001b[43m \u001b[49m\u001b[38;5;241;43m*\u001b[39;49m\u001b[38;5;241;43m*\u001b[39;49m\u001b[43mkwargs\u001b[49m\u001b[43m)\u001b[49m\n\u001b[1;32m   1753\u001b[0m result \u001b[38;5;241m=\u001b[39m \u001b[38;5;28;01mNone\u001b[39;00m\n\u001b[1;32m   1754\u001b[0m called_always_called_hooks \u001b[38;5;241m=\u001b[39m \u001b[38;5;28mset\u001b[39m()\n",
      "File \u001b[0;32m/opt/anaconda3/envs/tnh-scholar/lib/python3.11/site-packages/torch/nn/modules/container.py:250\u001b[0m, in \u001b[0;36mSequential.forward\u001b[0;34m(self, input)\u001b[0m\n\u001b[1;32m    248\u001b[0m \u001b[38;5;28;01mdef\u001b[39;00m \u001b[38;5;21mforward\u001b[39m(\u001b[38;5;28mself\u001b[39m, \u001b[38;5;28minput\u001b[39m):\n\u001b[1;32m    249\u001b[0m     \u001b[38;5;28;01mfor\u001b[39;00m module \u001b[38;5;129;01min\u001b[39;00m \u001b[38;5;28mself\u001b[39m:\n\u001b[0;32m--> 250\u001b[0m         \u001b[38;5;28minput\u001b[39m \u001b[38;5;241m=\u001b[39m \u001b[43mmodule\u001b[49m\u001b[43m(\u001b[49m\u001b[38;5;28;43minput\u001b[39;49m\u001b[43m)\u001b[49m\n\u001b[1;32m    251\u001b[0m     \u001b[38;5;28;01mreturn\u001b[39;00m \u001b[38;5;28minput\u001b[39m\n",
      "File \u001b[0;32m/opt/anaconda3/envs/tnh-scholar/lib/python3.11/site-packages/torch/nn/modules/module.py:1740\u001b[0m, in \u001b[0;36mModule._wrapped_call_impl\u001b[0;34m(self, *args, **kwargs)\u001b[0m\n\u001b[1;32m   1738\u001b[0m     \u001b[38;5;28;01mreturn\u001b[39;00m \u001b[38;5;28mself\u001b[39m\u001b[38;5;241m.\u001b[39m_compiled_call_impl(\u001b[38;5;241m*\u001b[39margs, \u001b[38;5;241m*\u001b[39m\u001b[38;5;241m*\u001b[39mkwargs)  \u001b[38;5;66;03m# type: ignore[misc]\u001b[39;00m\n\u001b[1;32m   1739\u001b[0m \u001b[38;5;28;01melse\u001b[39;00m:\n\u001b[0;32m-> 1740\u001b[0m     \u001b[38;5;28;01mreturn\u001b[39;00m \u001b[38;5;28;43mself\u001b[39;49m\u001b[38;5;241;43m.\u001b[39;49m\u001b[43m_call_impl\u001b[49m\u001b[43m(\u001b[49m\u001b[38;5;241;43m*\u001b[39;49m\u001b[43margs\u001b[49m\u001b[43m,\u001b[49m\u001b[43m \u001b[49m\u001b[38;5;241;43m*\u001b[39;49m\u001b[38;5;241;43m*\u001b[39;49m\u001b[43mkwargs\u001b[49m\u001b[43m)\u001b[49m\n",
      "File \u001b[0;32m/opt/anaconda3/envs/tnh-scholar/lib/python3.11/site-packages/torch/nn/modules/module.py:1751\u001b[0m, in \u001b[0;36mModule._call_impl\u001b[0;34m(self, *args, **kwargs)\u001b[0m\n\u001b[1;32m   1746\u001b[0m \u001b[38;5;66;03m# If we don't have any hooks, we want to skip the rest of the logic in\u001b[39;00m\n\u001b[1;32m   1747\u001b[0m \u001b[38;5;66;03m# this function, and just call forward.\u001b[39;00m\n\u001b[1;32m   1748\u001b[0m \u001b[38;5;28;01mif\u001b[39;00m \u001b[38;5;129;01mnot\u001b[39;00m (\u001b[38;5;28mself\u001b[39m\u001b[38;5;241m.\u001b[39m_backward_hooks \u001b[38;5;129;01mor\u001b[39;00m \u001b[38;5;28mself\u001b[39m\u001b[38;5;241m.\u001b[39m_backward_pre_hooks \u001b[38;5;129;01mor\u001b[39;00m \u001b[38;5;28mself\u001b[39m\u001b[38;5;241m.\u001b[39m_forward_hooks \u001b[38;5;129;01mor\u001b[39;00m \u001b[38;5;28mself\u001b[39m\u001b[38;5;241m.\u001b[39m_forward_pre_hooks\n\u001b[1;32m   1749\u001b[0m         \u001b[38;5;129;01mor\u001b[39;00m _global_backward_pre_hooks \u001b[38;5;129;01mor\u001b[39;00m _global_backward_hooks\n\u001b[1;32m   1750\u001b[0m         \u001b[38;5;129;01mor\u001b[39;00m _global_forward_hooks \u001b[38;5;129;01mor\u001b[39;00m _global_forward_pre_hooks):\n\u001b[0;32m-> 1751\u001b[0m     \u001b[38;5;28;01mreturn\u001b[39;00m \u001b[43mforward_call\u001b[49m\u001b[43m(\u001b[49m\u001b[38;5;241;43m*\u001b[39;49m\u001b[43margs\u001b[49m\u001b[43m,\u001b[49m\u001b[43m \u001b[49m\u001b[38;5;241;43m*\u001b[39;49m\u001b[38;5;241;43m*\u001b[39;49m\u001b[43mkwargs\u001b[49m\u001b[43m)\u001b[49m\n\u001b[1;32m   1753\u001b[0m result \u001b[38;5;241m=\u001b[39m \u001b[38;5;28;01mNone\u001b[39;00m\n\u001b[1;32m   1754\u001b[0m called_always_called_hooks \u001b[38;5;241m=\u001b[39m \u001b[38;5;28mset\u001b[39m()\n",
      "File \u001b[0;32m/opt/anaconda3/envs/tnh-scholar/lib/python3.11/site-packages/whisper/model.py:46\u001b[0m, in \u001b[0;36mLinear.forward\u001b[0;34m(self, x)\u001b[0m\n\u001b[1;32m     45\u001b[0m \u001b[38;5;28;01mdef\u001b[39;00m \u001b[38;5;21mforward\u001b[39m(\u001b[38;5;28mself\u001b[39m, x: Tensor) \u001b[38;5;241m-\u001b[39m\u001b[38;5;241m>\u001b[39m Tensor:\n\u001b[0;32m---> 46\u001b[0m     \u001b[38;5;28;01mreturn\u001b[39;00m \u001b[43mF\u001b[49m\u001b[38;5;241;43m.\u001b[39;49m\u001b[43mlinear\u001b[49m\u001b[43m(\u001b[49m\n\u001b[1;32m     47\u001b[0m \u001b[43m        \u001b[49m\u001b[43mx\u001b[49m\u001b[43m,\u001b[49m\n\u001b[1;32m     48\u001b[0m \u001b[43m        \u001b[49m\u001b[38;5;28;43mself\u001b[39;49m\u001b[38;5;241;43m.\u001b[39;49m\u001b[43mweight\u001b[49m\u001b[38;5;241;43m.\u001b[39;49m\u001b[43mto\u001b[49m\u001b[43m(\u001b[49m\u001b[43mx\u001b[49m\u001b[38;5;241;43m.\u001b[39;49m\u001b[43mdtype\u001b[49m\u001b[43m)\u001b[49m\u001b[43m,\u001b[49m\n\u001b[1;32m     49\u001b[0m \u001b[43m        \u001b[49m\u001b[38;5;28;43;01mNone\u001b[39;49;00m\u001b[43m \u001b[49m\u001b[38;5;28;43;01mif\u001b[39;49;00m\u001b[43m \u001b[49m\u001b[38;5;28;43mself\u001b[39;49m\u001b[38;5;241;43m.\u001b[39;49m\u001b[43mbias\u001b[49m\u001b[43m \u001b[49m\u001b[38;5;129;43;01mis\u001b[39;49;00m\u001b[43m \u001b[49m\u001b[38;5;28;43;01mNone\u001b[39;49;00m\u001b[43m \u001b[49m\u001b[38;5;28;43;01melse\u001b[39;49;00m\u001b[43m \u001b[49m\u001b[38;5;28;43mself\u001b[39;49m\u001b[38;5;241;43m.\u001b[39;49m\u001b[43mbias\u001b[49m\u001b[38;5;241;43m.\u001b[39;49m\u001b[43mto\u001b[49m\u001b[43m(\u001b[49m\u001b[43mx\u001b[49m\u001b[38;5;241;43m.\u001b[39;49m\u001b[43mdtype\u001b[49m\u001b[43m)\u001b[49m\u001b[43m,\u001b[49m\n\u001b[1;32m     50\u001b[0m \u001b[43m    \u001b[49m\u001b[43m)\u001b[49m\n",
      "\u001b[0;31mKeyboardInterrupt\u001b[0m: "
     ]
    }
   ],
   "source": [
    "if process_setting == \"split\":\n",
    "    # Step 2: Detect boundaries    \n",
    "    logger.info(\"Detecting boundaries...\")\n",
    "    boundaries, boundary_transciption = detect_whisper_boundaries(audio_file, language='vi')\n",
    "    logger.info(f\"Boundaries generated.\")"
   ]
  },
  {
   "cell_type": "code",
   "execution_count": 14,
   "metadata": {},
   "outputs": [
    {
     "data": {
      "text/plain": [
       "dict"
      ]
     },
     "execution_count": 14,
     "metadata": {},
     "output_type": "execute_result"
    }
   ],
   "source": [
    "type(boundary_transciption)"
   ]
  },
  {
   "cell_type": "code",
   "execution_count": 44,
   "metadata": {},
   "outputs": [],
   "source": [
    "# Step 3: Split audio into chunks\n",
    "if process_setting == \"split\":\n",
    "    logger.info(\"Splitting audio into chunks...\")\n",
    "    split_audio_at_boundaries(\n",
    "        audio_file=audio_file,\n",
    "        boundaries=boundaries, \n",
    "        output_dir=chunks_dir, \n",
    "        max_duration=max_chunk_duration\n",
    "    )\n",
    "    logger.info(f\"Audio chunks saved to: {chunks_dir}\")"
   ]
  },
  {
   "cell_type": "code",
   "execution_count": 48,
   "metadata": {},
   "outputs": [
    {
     "name": "stderr",
     "output_type": "stream",
     "text": [
      "2024-12-20 12:55:29,172 - tnh.yt_transcribe - \u001b[36mINFO\u001b[0m - Transcribing audio chunks...\u001b[0m\n",
      "2024-12-20 12:55:29,175 - tnh.audio_transcription - \u001b[36mINFO\u001b[0m - Audio files found:\n",
      "\t['/Users/phapman/Desktop/tnh-scholar/sandbox/video_transcriptions/Kinh Tư Lượng [TTSĐCTTĐB 01] ｜ TS Thích Nhất Hạnh (20-11-1994, Xóm Thượng, Làng Mai)/chunks/chunk_1.mp3', '/Users/phapman/Desktop/tnh-scholar/sandbox/video_transcriptions/Kinh Tư Lượng [TTSĐCTTĐB 01] ｜ TS Thích Nhất Hạnh (20-11-1994, Xóm Thượng, Làng Mai)/chunks/chunk_2.mp3', '/Users/phapman/Desktop/tnh-scholar/sandbox/video_transcriptions/Kinh Tư Lượng [TTSĐCTTĐB 01] ｜ TS Thích Nhất Hạnh (20-11-1994, Xóm Thượng, Làng Mai)/chunks/chunk_3.mp3', '/Users/phapman/Desktop/tnh-scholar/sandbox/video_transcriptions/Kinh Tư Lượng [TTSĐCTTĐB 01] ｜ TS Thích Nhất Hạnh (20-11-1994, Xóm Thượng, Làng Mai)/chunks/chunk_4.mp3', '/Users/phapman/Desktop/tnh-scholar/sandbox/video_transcriptions/Kinh Tư Lượng [TTSĐCTTĐB 01] ｜ TS Thích Nhất Hạnh (20-11-1994, Xóm Thượng, Làng Mai)/chunks/chunk_5.mp3', '/Users/phapman/Desktop/tnh-scholar/sandbox/video_transcriptions/Kinh Tư Lượng [TTSĐCTTĐB 01] ｜ TS Thích Nhất Hạnh (20-11-1994, Xóm Thượng, Làng Mai)/chunks/chunk_6.mp3', '/Users/phapman/Desktop/tnh-scholar/sandbox/video_transcriptions/Kinh Tư Lượng [TTSĐCTTĐB 01] ｜ TS Thích Nhất Hạnh (20-11-1994, Xóm Thượng, Làng Mai)/chunks/chunk_7.mp3', '/Users/phapman/Desktop/tnh-scholar/sandbox/video_transcriptions/Kinh Tư Lượng [TTSĐCTTĐB 01] ｜ TS Thích Nhất Hạnh (20-11-1994, Xóm Thượng, Làng Mai)/chunks/chunk_8.mp3', '/Users/phapman/Desktop/tnh-scholar/sandbox/video_transcriptions/Kinh Tư Lượng [TTSĐCTTĐB 01] ｜ TS Thích Nhất Hạnh (20-11-1994, Xóm Thượng, Làng Mai)/chunks/chunk_9.mp3', '/Users/phapman/Desktop/tnh-scholar/sandbox/video_transcriptions/Kinh Tư Lượng [TTSĐCTTĐB 01] ｜ TS Thích Nhất Hạnh (20-11-1994, Xóm Thượng, Làng Mai)/chunks/chunk_10.mp3', '/Users/phapman/Desktop/tnh-scholar/sandbox/video_transcriptions/Kinh Tư Lượng [TTSĐCTTĐB 01] ｜ TS Thích Nhất Hạnh (20-11-1994, Xóm Thượng, Làng Mai)/chunks/chunk_11.mp3', '/Users/phapman/Desktop/tnh-scholar/sandbox/video_transcriptions/Kinh Tư Lượng [TTSĐCTTĐB 01] ｜ TS Thích Nhất Hạnh (20-11-1994, Xóm Thượng, Làng Mai)/chunks/chunk_12.mp3', '/Users/phapman/Desktop/tnh-scholar/sandbox/video_transcriptions/Kinh Tư Lượng [TTSĐCTTĐB 01] ｜ TS Thích Nhất Hạnh (20-11-1994, Xóm Thượng, Làng Mai)/chunks/chunk_13.mp3', '/Users/phapman/Desktop/tnh-scholar/sandbox/video_transcriptions/Kinh Tư Lượng [TTSĐCTTĐB 01] ｜ TS Thích Nhất Hạnh (20-11-1994, Xóm Thượng, Làng Mai)/chunks/chunk_14.mp3', '/Users/phapman/Desktop/tnh-scholar/sandbox/video_transcriptions/Kinh Tư Lượng [TTSĐCTTĐB 01] ｜ TS Thích Nhất Hạnh (20-11-1994, Xóm Thượng, Làng Mai)/chunks/chunk_15.mp3', '/Users/phapman/Desktop/tnh-scholar/sandbox/video_transcriptions/Kinh Tư Lượng [TTSĐCTTĐB 01] ｜ TS Thích Nhất Hạnh (20-11-1994, Xóm Thượng, Làng Mai)/chunks/chunk_16.mp3']\u001b[0m\n",
      "2024-12-20 12:55:29,175 - tnh.audio_transcription - \u001b[36mINFO\u001b[0m - Processing chunk_1.mp3...\u001b[0m\n",
      "2024-12-20 12:55:29,176 - tnh.audio_transcription - \u001b[36mINFO\u001b[0m - Speech transcript parameters: file=/Users/phapman/Desktop/tnh-scholar/sandbox/video_transcriptions/Kinh Tư Lượng [TTSĐCTTĐB 01] ｜ TS Thích Nhất Hạnh (20-11-1994, Xóm Thượng, Làng Mai)/chunks/chunk_1.mp3, model=whisper-1, response_format=verbose_json, mode=transcribe\n",
      "\tprompt='Dharma, Deer Park, Thay, Thich Nhat Hanh, Bodhicitta, Bodhisattva, Mahayana'\u001b[0m\n",
      "2024-12-20 12:55:45,382 - tnh.audio_transcription - \u001b[1;32mDEBUG\u001b[0m - Entered custom_to_json function.\u001b[0m\n",
      "2024-12-20 12:55:45,387 - tnh.audio_transcription - \u001b[33mWARNING\u001b[0m - Known UserWarning in OPENAI .to_dict() float serialization caught and ignored.\u001b[0m\n",
      "2024-12-20 12:55:45,388 - tnh.audio_transcription - \u001b[1;32mDEBUG\u001b[0m - Dumping json in custom_to_json...\u001b[0m\n",
      "2024-12-20 12:55:45,389 - tnh.audio_transcription - \u001b[1;32mDEBUG\u001b[0m - Serialized JSON output excerpt: u...\u001b[0m\n",
      "2024-12-20 12:55:45,391 - tnh.audio_transcription - \u001b[1;32mDEBUG\u001b[0m - transcript is type: <class 'openai.types.audio.transcription_verbose.TranscriptionVerbose'>\u001b[0m\n",
      "2024-12-20 12:55:45,391 - tnh.audio_transcription - \u001b[36mINFO\u001b[0m - Processing chunk_2.mp3...\u001b[0m\n",
      "2024-12-20 12:55:45,392 - tnh.audio_transcription - \u001b[36mINFO\u001b[0m - Speech transcript parameters: file=/Users/phapman/Desktop/tnh-scholar/sandbox/video_transcriptions/Kinh Tư Lượng [TTSĐCTTĐB 01] ｜ TS Thích Nhất Hạnh (20-11-1994, Xóm Thượng, Làng Mai)/chunks/chunk_2.mp3, model=whisper-1, response_format=verbose_json, mode=transcribe\n",
      "\tprompt='Dharma, Deer Park, Thay, Thich Nhat Hanh, Bodhicitta, Bodhisattva, Mahayana'\u001b[0m\n",
      "2024-12-20 12:56:01,135 - tnh.audio_transcription - \u001b[1;32mDEBUG\u001b[0m - Entered custom_to_json function.\u001b[0m\n",
      "2024-12-20 12:56:01,136 - tnh.audio_transcription - \u001b[33mWARNING\u001b[0m - Known UserWarning in OPENAI .to_dict() float serialization caught and ignored.\u001b[0m\n",
      "2024-12-20 12:56:01,138 - tnh.audio_transcription - \u001b[1;32mDEBUG\u001b[0m - Dumping json in custom_to_json...\u001b[0m\n",
      "2024-12-20 12:56:01,140 - tnh.audio_transcription - \u001b[1;32mDEBUG\u001b[0m - Serialized JSON output excerpt: u...\u001b[0m\n",
      "2024-12-20 12:56:01,142 - tnh.audio_transcription - \u001b[1;32mDEBUG\u001b[0m - transcript is type: <class 'openai.types.audio.transcription_verbose.TranscriptionVerbose'>\u001b[0m\n",
      "2024-12-20 12:56:01,143 - tnh.audio_transcription - \u001b[36mINFO\u001b[0m - Processing chunk_3.mp3...\u001b[0m\n",
      "2024-12-20 12:56:01,145 - tnh.audio_transcription - \u001b[36mINFO\u001b[0m - Speech transcript parameters: file=/Users/phapman/Desktop/tnh-scholar/sandbox/video_transcriptions/Kinh Tư Lượng [TTSĐCTTĐB 01] ｜ TS Thích Nhất Hạnh (20-11-1994, Xóm Thượng, Làng Mai)/chunks/chunk_3.mp3, model=whisper-1, response_format=verbose_json, mode=transcribe\n",
      "\tprompt='Dharma, Deer Park, Thay, Thich Nhat Hanh, Bodhicitta, Bodhisattva, Mahayana'\u001b[0m\n",
      "2024-12-20 12:56:16,893 - tnh.audio_transcription - \u001b[1;32mDEBUG\u001b[0m - Entered custom_to_json function.\u001b[0m\n",
      "2024-12-20 12:56:16,895 - tnh.audio_transcription - \u001b[33mWARNING\u001b[0m - Known UserWarning in OPENAI .to_dict() float serialization caught and ignored.\u001b[0m\n",
      "2024-12-20 12:56:16,897 - tnh.audio_transcription - \u001b[1;32mDEBUG\u001b[0m - Dumping json in custom_to_json...\u001b[0m\n",
      "2024-12-20 12:56:16,899 - tnh.audio_transcription - \u001b[1;32mDEBUG\u001b[0m - Serialized JSON output excerpt: t...\u001b[0m\n",
      "2024-12-20 12:56:16,901 - tnh.audio_transcription - \u001b[1;32mDEBUG\u001b[0m - transcript is type: <class 'openai.types.audio.transcription_verbose.TranscriptionVerbose'>\u001b[0m\n",
      "2024-12-20 12:56:16,902 - tnh.audio_transcription - \u001b[36mINFO\u001b[0m - Processing chunk_4.mp3...\u001b[0m\n",
      "2024-12-20 12:56:16,903 - tnh.audio_transcription - \u001b[36mINFO\u001b[0m - Speech transcript parameters: file=/Users/phapman/Desktop/tnh-scholar/sandbox/video_transcriptions/Kinh Tư Lượng [TTSĐCTTĐB 01] ｜ TS Thích Nhất Hạnh (20-11-1994, Xóm Thượng, Làng Mai)/chunks/chunk_4.mp3, model=whisper-1, response_format=verbose_json, mode=transcribe\n",
      "\tprompt='Dharma, Deer Park, Thay, Thich Nhat Hanh, Bodhicitta, Bodhisattva, Mahayana'\u001b[0m\n",
      "2024-12-20 12:56:34,914 - tnh.audio_transcription - \u001b[1;32mDEBUG\u001b[0m - Entered custom_to_json function.\u001b[0m\n",
      "2024-12-20 12:56:34,917 - tnh.audio_transcription - \u001b[33mWARNING\u001b[0m - Known UserWarning in OPENAI .to_dict() float serialization caught and ignored.\u001b[0m\n",
      "2024-12-20 12:56:34,918 - tnh.audio_transcription - \u001b[1;32mDEBUG\u001b[0m - Dumping json in custom_to_json...\u001b[0m\n",
      "2024-12-20 12:56:34,920 - tnh.audio_transcription - \u001b[1;32mDEBUG\u001b[0m - Serialized JSON output excerpt: e...\u001b[0m\n",
      "2024-12-20 12:56:34,921 - tnh.audio_transcription - \u001b[1;32mDEBUG\u001b[0m - transcript is type: <class 'openai.types.audio.transcription_verbose.TranscriptionVerbose'>\u001b[0m\n",
      "2024-12-20 12:56:34,923 - tnh.audio_transcription - \u001b[36mINFO\u001b[0m - Processing chunk_5.mp3...\u001b[0m\n",
      "2024-12-20 12:56:34,924 - tnh.audio_transcription - \u001b[36mINFO\u001b[0m - Speech transcript parameters: file=/Users/phapman/Desktop/tnh-scholar/sandbox/video_transcriptions/Kinh Tư Lượng [TTSĐCTTĐB 01] ｜ TS Thích Nhất Hạnh (20-11-1994, Xóm Thượng, Làng Mai)/chunks/chunk_5.mp3, model=whisper-1, response_format=verbose_json, mode=transcribe\n",
      "\tprompt='Dharma, Deer Park, Thay, Thich Nhat Hanh, Bodhicitta, Bodhisattva, Mahayana'\u001b[0m\n",
      "2024-12-20 12:56:52,736 - tnh.audio_transcription - \u001b[1;32mDEBUG\u001b[0m - Entered custom_to_json function.\u001b[0m\n",
      "2024-12-20 12:56:52,738 - tnh.audio_transcription - \u001b[33mWARNING\u001b[0m - Known UserWarning in OPENAI .to_dict() float serialization caught and ignored.\u001b[0m\n",
      "2024-12-20 12:56:52,740 - tnh.audio_transcription - \u001b[1;32mDEBUG\u001b[0m - Dumping json in custom_to_json...\u001b[0m\n",
      "2024-12-20 12:56:52,742 - tnh.audio_transcription - \u001b[1;32mDEBUG\u001b[0m - Serialized JSON output excerpt: h...\u001b[0m\n",
      "2024-12-20 12:56:52,744 - tnh.audio_transcription - \u001b[1;32mDEBUG\u001b[0m - transcript is type: <class 'openai.types.audio.transcription_verbose.TranscriptionVerbose'>\u001b[0m\n",
      "2024-12-20 12:56:52,745 - tnh.audio_transcription - \u001b[36mINFO\u001b[0m - Processing chunk_6.mp3...\u001b[0m\n",
      "2024-12-20 12:56:52,746 - tnh.audio_transcription - \u001b[36mINFO\u001b[0m - Speech transcript parameters: file=/Users/phapman/Desktop/tnh-scholar/sandbox/video_transcriptions/Kinh Tư Lượng [TTSĐCTTĐB 01] ｜ TS Thích Nhất Hạnh (20-11-1994, Xóm Thượng, Làng Mai)/chunks/chunk_6.mp3, model=whisper-1, response_format=verbose_json, mode=transcribe\n",
      "\tprompt='Dharma, Deer Park, Thay, Thich Nhat Hanh, Bodhicitta, Bodhisattva, Mahayana'\u001b[0m\n",
      "2024-12-20 12:57:07,689 - tnh.audio_transcription - \u001b[1;32mDEBUG\u001b[0m - Entered custom_to_json function.\u001b[0m\n",
      "2024-12-20 12:57:07,689 - tnh.audio_transcription - \u001b[33mWARNING\u001b[0m - Known UserWarning in OPENAI .to_dict() float serialization caught and ignored.\u001b[0m\n",
      "2024-12-20 12:57:07,690 - tnh.audio_transcription - \u001b[1;32mDEBUG\u001b[0m - Dumping json in custom_to_json...\u001b[0m\n",
      "2024-12-20 12:57:07,691 - tnh.audio_transcription - \u001b[1;32mDEBUG\u001b[0m - Serialized JSON output excerpt: 0...\u001b[0m\n",
      "2024-12-20 12:57:07,692 - tnh.audio_transcription - \u001b[1;32mDEBUG\u001b[0m - transcript is type: <class 'openai.types.audio.transcription_verbose.TranscriptionVerbose'>\u001b[0m\n",
      "2024-12-20 12:57:07,692 - tnh.audio_transcription - \u001b[36mINFO\u001b[0m - Processing chunk_7.mp3...\u001b[0m\n",
      "2024-12-20 12:57:07,693 - tnh.audio_transcription - \u001b[36mINFO\u001b[0m - Speech transcript parameters: file=/Users/phapman/Desktop/tnh-scholar/sandbox/video_transcriptions/Kinh Tư Lượng [TTSĐCTTĐB 01] ｜ TS Thích Nhất Hạnh (20-11-1994, Xóm Thượng, Làng Mai)/chunks/chunk_7.mp3, model=whisper-1, response_format=verbose_json, mode=transcribe\n",
      "\tprompt='Dharma, Deer Park, Thay, Thich Nhat Hanh, Bodhicitta, Bodhisattva, Mahayana'\u001b[0m\n",
      "2024-12-20 12:57:33,137 - tnh.audio_transcription - \u001b[1;32mDEBUG\u001b[0m - Entered custom_to_json function.\u001b[0m\n",
      "2024-12-20 12:57:33,139 - tnh.audio_transcription - \u001b[33mWARNING\u001b[0m - Known UserWarning in OPENAI .to_dict() float serialization caught and ignored.\u001b[0m\n",
      "2024-12-20 12:57:33,141 - tnh.audio_transcription - \u001b[1;32mDEBUG\u001b[0m - Dumping json in custom_to_json...\u001b[0m\n",
      "2024-12-20 12:57:33,143 - tnh.audio_transcription - \u001b[1;32mDEBUG\u001b[0m - Serialized JSON output excerpt: \\...\u001b[0m\n",
      "2024-12-20 12:57:33,144 - tnh.audio_transcription - \u001b[1;32mDEBUG\u001b[0m - transcript is type: <class 'openai.types.audio.transcription_verbose.TranscriptionVerbose'>\u001b[0m\n",
      "2024-12-20 12:57:33,146 - tnh.audio_transcription - \u001b[36mINFO\u001b[0m - Processing chunk_8.mp3...\u001b[0m\n",
      "2024-12-20 12:57:33,147 - tnh.audio_transcription - \u001b[36mINFO\u001b[0m - Speech transcript parameters: file=/Users/phapman/Desktop/tnh-scholar/sandbox/video_transcriptions/Kinh Tư Lượng [TTSĐCTTĐB 01] ｜ TS Thích Nhất Hạnh (20-11-1994, Xóm Thượng, Làng Mai)/chunks/chunk_8.mp3, model=whisper-1, response_format=verbose_json, mode=transcribe\n",
      "\tprompt='Dharma, Deer Park, Thay, Thich Nhat Hanh, Bodhicitta, Bodhisattva, Mahayana'\u001b[0m\n",
      "2024-12-20 12:57:51,515 - tnh.audio_transcription - \u001b[1;32mDEBUG\u001b[0m - Entered custom_to_json function.\u001b[0m\n",
      "2024-12-20 12:57:51,519 - tnh.audio_transcription - \u001b[33mWARNING\u001b[0m - Known UserWarning in OPENAI .to_dict() float serialization caught and ignored.\u001b[0m\n",
      "2024-12-20 12:57:51,520 - tnh.audio_transcription - \u001b[1;32mDEBUG\u001b[0m - Dumping json in custom_to_json...\u001b[0m\n",
      "2024-12-20 12:57:51,522 - tnh.audio_transcription - \u001b[1;32mDEBUG\u001b[0m - Serialized JSON output excerpt: \\...\u001b[0m\n",
      "2024-12-20 12:57:51,525 - tnh.audio_transcription - \u001b[1;32mDEBUG\u001b[0m - transcript is type: <class 'openai.types.audio.transcription_verbose.TranscriptionVerbose'>\u001b[0m\n",
      "2024-12-20 12:57:51,526 - tnh.audio_transcription - \u001b[36mINFO\u001b[0m - Processing chunk_9.mp3...\u001b[0m\n",
      "2024-12-20 12:57:51,527 - tnh.audio_transcription - \u001b[36mINFO\u001b[0m - Speech transcript parameters: file=/Users/phapman/Desktop/tnh-scholar/sandbox/video_transcriptions/Kinh Tư Lượng [TTSĐCTTĐB 01] ｜ TS Thích Nhất Hạnh (20-11-1994, Xóm Thượng, Làng Mai)/chunks/chunk_9.mp3, model=whisper-1, response_format=verbose_json, mode=transcribe\n",
      "\tprompt='Dharma, Deer Park, Thay, Thich Nhat Hanh, Bodhicitta, Bodhisattva, Mahayana'\u001b[0m\n",
      "2024-12-20 12:58:07,692 - tnh.audio_transcription - \u001b[1;32mDEBUG\u001b[0m - Entered custom_to_json function.\u001b[0m\n",
      "2024-12-20 12:58:07,695 - tnh.audio_transcription - \u001b[33mWARNING\u001b[0m - Known UserWarning in OPENAI .to_dict() float serialization caught and ignored.\u001b[0m\n",
      "2024-12-20 12:58:07,697 - tnh.audio_transcription - \u001b[1;32mDEBUG\u001b[0m - Dumping json in custom_to_json...\u001b[0m\n",
      "2024-12-20 12:58:07,699 - tnh.audio_transcription - \u001b[1;32mDEBUG\u001b[0m - Serialized JSON output excerpt: x...\u001b[0m\n",
      "2024-12-20 12:58:07,701 - tnh.audio_transcription - \u001b[1;32mDEBUG\u001b[0m - transcript is type: <class 'openai.types.audio.transcription_verbose.TranscriptionVerbose'>\u001b[0m\n",
      "2024-12-20 12:58:07,702 - tnh.audio_transcription - \u001b[36mINFO\u001b[0m - Processing chunk_10.mp3...\u001b[0m\n",
      "2024-12-20 12:58:07,703 - tnh.audio_transcription - \u001b[36mINFO\u001b[0m - Speech transcript parameters: file=/Users/phapman/Desktop/tnh-scholar/sandbox/video_transcriptions/Kinh Tư Lượng [TTSĐCTTĐB 01] ｜ TS Thích Nhất Hạnh (20-11-1994, Xóm Thượng, Làng Mai)/chunks/chunk_10.mp3, model=whisper-1, response_format=verbose_json, mode=transcribe\n",
      "\tprompt='Dharma, Deer Park, Thay, Thich Nhat Hanh, Bodhicitta, Bodhisattva, Mahayana'\u001b[0m\n",
      "2024-12-20 12:58:19,352 - tnh.audio_transcription - \u001b[1;32mDEBUG\u001b[0m - Entered custom_to_json function.\u001b[0m\n",
      "2024-12-20 12:58:19,355 - tnh.audio_transcription - \u001b[33mWARNING\u001b[0m - Known UserWarning in OPENAI .to_dict() float serialization caught and ignored.\u001b[0m\n",
      "2024-12-20 12:58:19,356 - tnh.audio_transcription - \u001b[1;32mDEBUG\u001b[0m - Dumping json in custom_to_json...\u001b[0m\n",
      "2024-12-20 12:58:19,357 - tnh.audio_transcription - \u001b[1;32mDEBUG\u001b[0m - Serialized JSON output excerpt: \\...\u001b[0m\n",
      "2024-12-20 12:58:19,358 - tnh.audio_transcription - \u001b[1;32mDEBUG\u001b[0m - transcript is type: <class 'openai.types.audio.transcription_verbose.TranscriptionVerbose'>\u001b[0m\n",
      "2024-12-20 12:58:19,359 - tnh.audio_transcription - \u001b[36mINFO\u001b[0m - Processing chunk_11.mp3...\u001b[0m\n",
      "2024-12-20 12:58:19,359 - tnh.audio_transcription - \u001b[36mINFO\u001b[0m - Speech transcript parameters: file=/Users/phapman/Desktop/tnh-scholar/sandbox/video_transcriptions/Kinh Tư Lượng [TTSĐCTTĐB 01] ｜ TS Thích Nhất Hạnh (20-11-1994, Xóm Thượng, Làng Mai)/chunks/chunk_11.mp3, model=whisper-1, response_format=verbose_json, mode=transcribe\n",
      "\tprompt='Dharma, Deer Park, Thay, Thich Nhat Hanh, Bodhicitta, Bodhisattva, Mahayana'\u001b[0m\n",
      "2024-12-20 12:58:42,307 - tnh.audio_transcription - \u001b[1;32mDEBUG\u001b[0m - Entered custom_to_json function.\u001b[0m\n",
      "2024-12-20 12:58:42,308 - tnh.audio_transcription - \u001b[33mWARNING\u001b[0m - Known UserWarning in OPENAI .to_dict() float serialization caught and ignored.\u001b[0m\n",
      "2024-12-20 12:58:42,310 - tnh.audio_transcription - \u001b[1;32mDEBUG\u001b[0m - Dumping json in custom_to_json...\u001b[0m\n",
      "2024-12-20 12:58:42,311 - tnh.audio_transcription - \u001b[1;32mDEBUG\u001b[0m - Serialized JSON output excerpt: i...\u001b[0m\n",
      "2024-12-20 12:58:42,312 - tnh.audio_transcription - \u001b[1;32mDEBUG\u001b[0m - transcript is type: <class 'openai.types.audio.transcription_verbose.TranscriptionVerbose'>\u001b[0m\n",
      "2024-12-20 12:58:42,313 - tnh.audio_transcription - \u001b[36mINFO\u001b[0m - Processing chunk_12.mp3...\u001b[0m\n",
      "2024-12-20 12:58:42,313 - tnh.audio_transcription - \u001b[36mINFO\u001b[0m - Speech transcript parameters: file=/Users/phapman/Desktop/tnh-scholar/sandbox/video_transcriptions/Kinh Tư Lượng [TTSĐCTTĐB 01] ｜ TS Thích Nhất Hạnh (20-11-1994, Xóm Thượng, Làng Mai)/chunks/chunk_12.mp3, model=whisper-1, response_format=verbose_json, mode=transcribe\n",
      "\tprompt='Dharma, Deer Park, Thay, Thich Nhat Hanh, Bodhicitta, Bodhisattva, Mahayana'\u001b[0m\n",
      "2024-12-20 12:58:57,657 - tnh.audio_transcription - \u001b[1;32mDEBUG\u001b[0m - Entered custom_to_json function.\u001b[0m\n",
      "2024-12-20 12:58:57,658 - tnh.audio_transcription - \u001b[33mWARNING\u001b[0m - Known UserWarning in OPENAI .to_dict() float serialization caught and ignored.\u001b[0m\n",
      "2024-12-20 12:58:57,658 - tnh.audio_transcription - \u001b[1;32mDEBUG\u001b[0m - Dumping json in custom_to_json...\u001b[0m\n",
      "2024-12-20 12:58:57,659 - tnh.audio_transcription - \u001b[1;32mDEBUG\u001b[0m - Serialized JSON output excerpt: \\...\u001b[0m\n",
      "2024-12-20 12:58:57,661 - tnh.audio_transcription - \u001b[1;32mDEBUG\u001b[0m - transcript is type: <class 'openai.types.audio.transcription_verbose.TranscriptionVerbose'>\u001b[0m\n",
      "2024-12-20 12:58:57,661 - tnh.audio_transcription - \u001b[36mINFO\u001b[0m - Processing chunk_13.mp3...\u001b[0m\n",
      "2024-12-20 12:58:57,662 - tnh.audio_transcription - \u001b[36mINFO\u001b[0m - Speech transcript parameters: file=/Users/phapman/Desktop/tnh-scholar/sandbox/video_transcriptions/Kinh Tư Lượng [TTSĐCTTĐB 01] ｜ TS Thích Nhất Hạnh (20-11-1994, Xóm Thượng, Làng Mai)/chunks/chunk_13.mp3, model=whisper-1, response_format=verbose_json, mode=transcribe\n",
      "\tprompt='Dharma, Deer Park, Thay, Thich Nhat Hanh, Bodhicitta, Bodhisattva, Mahayana'\u001b[0m\n",
      "2024-12-20 12:59:16,919 - tnh.audio_transcription - \u001b[1;32mDEBUG\u001b[0m - Entered custom_to_json function.\u001b[0m\n",
      "2024-12-20 12:59:16,921 - tnh.audio_transcription - \u001b[33mWARNING\u001b[0m - Known UserWarning in OPENAI .to_dict() float serialization caught and ignored.\u001b[0m\n",
      "2024-12-20 12:59:16,924 - tnh.audio_transcription - \u001b[1;32mDEBUG\u001b[0m - Dumping json in custom_to_json...\u001b[0m\n",
      "2024-12-20 12:59:16,926 - tnh.audio_transcription - \u001b[1;32mDEBUG\u001b[0m - Serialized JSON output excerpt: \\...\u001b[0m\n",
      "2024-12-20 12:59:16,928 - tnh.audio_transcription - \u001b[1;32mDEBUG\u001b[0m - transcript is type: <class 'openai.types.audio.transcription_verbose.TranscriptionVerbose'>\u001b[0m\n",
      "2024-12-20 12:59:16,929 - tnh.audio_transcription - \u001b[36mINFO\u001b[0m - Processing chunk_14.mp3...\u001b[0m\n",
      "2024-12-20 12:59:16,930 - tnh.audio_transcription - \u001b[36mINFO\u001b[0m - Speech transcript parameters: file=/Users/phapman/Desktop/tnh-scholar/sandbox/video_transcriptions/Kinh Tư Lượng [TTSĐCTTĐB 01] ｜ TS Thích Nhất Hạnh (20-11-1994, Xóm Thượng, Làng Mai)/chunks/chunk_14.mp3, model=whisper-1, response_format=verbose_json, mode=transcribe\n",
      "\tprompt='Dharma, Deer Park, Thay, Thich Nhat Hanh, Bodhicitta, Bodhisattva, Mahayana'\u001b[0m\n",
      "2024-12-20 12:59:30,842 - tnh.audio_transcription - \u001b[1;32mDEBUG\u001b[0m - Entered custom_to_json function.\u001b[0m\n",
      "2024-12-20 12:59:30,844 - tnh.audio_transcription - \u001b[33mWARNING\u001b[0m - Known UserWarning in OPENAI .to_dict() float serialization caught and ignored.\u001b[0m\n",
      "2024-12-20 12:59:30,846 - tnh.audio_transcription - \u001b[1;32mDEBUG\u001b[0m - Dumping json in custom_to_json...\u001b[0m\n",
      "2024-12-20 12:59:30,848 - tnh.audio_transcription - \u001b[1;32mDEBUG\u001b[0m - Serialized JSON output excerpt: u...\u001b[0m\n",
      "2024-12-20 12:59:30,850 - tnh.audio_transcription - \u001b[1;32mDEBUG\u001b[0m - transcript is type: <class 'openai.types.audio.transcription_verbose.TranscriptionVerbose'>\u001b[0m\n",
      "2024-12-20 12:59:30,851 - tnh.audio_transcription - \u001b[36mINFO\u001b[0m - Processing chunk_15.mp3...\u001b[0m\n",
      "2024-12-20 12:59:30,852 - tnh.audio_transcription - \u001b[36mINFO\u001b[0m - Speech transcript parameters: file=/Users/phapman/Desktop/tnh-scholar/sandbox/video_transcriptions/Kinh Tư Lượng [TTSĐCTTĐB 01] ｜ TS Thích Nhất Hạnh (20-11-1994, Xóm Thượng, Làng Mai)/chunks/chunk_15.mp3, model=whisper-1, response_format=verbose_json, mode=transcribe\n",
      "\tprompt='Dharma, Deer Park, Thay, Thich Nhat Hanh, Bodhicitta, Bodhisattva, Mahayana'\u001b[0m\n",
      "2024-12-20 12:59:55,208 - tnh.audio_transcription - \u001b[1;32mDEBUG\u001b[0m - Entered custom_to_json function.\u001b[0m\n",
      "2024-12-20 12:59:55,210 - tnh.audio_transcription - \u001b[33mWARNING\u001b[0m - Known UserWarning in OPENAI .to_dict() float serialization caught and ignored.\u001b[0m\n",
      "2024-12-20 12:59:55,211 - tnh.audio_transcription - \u001b[1;32mDEBUG\u001b[0m - Dumping json in custom_to_json...\u001b[0m\n",
      "2024-12-20 12:59:55,213 - tnh.audio_transcription - \u001b[1;32mDEBUG\u001b[0m - Serialized JSON output excerpt: \\...\u001b[0m\n",
      "2024-12-20 12:59:55,215 - tnh.audio_transcription - \u001b[1;32mDEBUG\u001b[0m - transcript is type: <class 'openai.types.audio.transcription_verbose.TranscriptionVerbose'>\u001b[0m\n",
      "2024-12-20 12:59:55,216 - tnh.audio_transcription - \u001b[36mINFO\u001b[0m - Processing chunk_16.mp3...\u001b[0m\n",
      "2024-12-20 12:59:55,218 - tnh.audio_transcription - \u001b[36mINFO\u001b[0m - Speech transcript parameters: file=/Users/phapman/Desktop/tnh-scholar/sandbox/video_transcriptions/Kinh Tư Lượng [TTSĐCTTĐB 01] ｜ TS Thích Nhất Hạnh (20-11-1994, Xóm Thượng, Làng Mai)/chunks/chunk_16.mp3, model=whisper-1, response_format=verbose_json, mode=transcribe\n",
      "\tprompt='Dharma, Deer Park, Thay, Thich Nhat Hanh, Bodhicitta, Bodhisattva, Mahayana'\u001b[0m\n",
      "2024-12-20 13:00:14,066 - tnh.audio_transcription - \u001b[1;32mDEBUG\u001b[0m - Entered custom_to_json function.\u001b[0m\n",
      "2024-12-20 13:00:14,071 - tnh.audio_transcription - \u001b[33mWARNING\u001b[0m - Known UserWarning in OPENAI .to_dict() float serialization caught and ignored.\u001b[0m\n",
      "2024-12-20 13:00:14,072 - tnh.audio_transcription - \u001b[1;32mDEBUG\u001b[0m - Dumping json in custom_to_json...\u001b[0m\n",
      "2024-12-20 13:00:14,074 - tnh.audio_transcription - \u001b[1;32mDEBUG\u001b[0m - Serialized JSON output excerpt: 0...\u001b[0m\n",
      "2024-12-20 13:00:14,075 - tnh.audio_transcription - \u001b[1;32mDEBUG\u001b[0m - transcript is type: <class 'openai.types.audio.transcription_verbose.TranscriptionVerbose'>\u001b[0m\n",
      "2024-12-20 13:00:14,078 - tnh.audio_transcription - \u001b[36mINFO\u001b[0m - Stitched transcription saved to /Users/phapman/Desktop/tnh-scholar/sandbox/video_transcriptions/Kinh Tư Lượng [TTSĐCTTĐB 01] ｜ TS Thích Nhất Hạnh (20-11-1994, Xóm Thượng, Làng Mai)/Kinh Tư Lượng [TTSĐCTTĐB 01] ｜ TS Thích Nhất Hạnh (20-11-1994, Xóm Thượng, Làng Mai).txt\u001b[0m\n",
      "2024-12-20 13:00:14,079 - tnh.audio_transcription - \u001b[36mINFO\u001b[0m - Full transcript objects saved to /Users/phapman/Desktop/tnh-scholar/sandbox/video_transcriptions/Kinh Tư Lượng [TTSĐCTTĐB 01] ｜ TS Thích Nhất Hạnh (20-11-1994, Xóm Thượng, Làng Mai)/Kinh Tư Lượng [TTSĐCTTĐB 01] ｜ TS Thích Nhất Hạnh (20-11-1994, Xóm Thượng, Làng Mai).jsonl\u001b[0m\n",
      "2024-12-20 13:00:14,080 - tnh.yt_transcribe - \u001b[36mINFO\u001b[0m - Transcription completed for None\u001b[0m\n",
      "2024-12-20 13:00:14,081 - tnh.yt_transcribe - \u001b[36mINFO\u001b[0m - Transcript saved to: /Users/phapman/Desktop/tnh-scholar/sandbox/video_transcriptions/Kinh Tư Lượng [TTSĐCTTĐB 01] ｜ TS Thích Nhất Hạnh (20-11-1994, Xóm Thượng, Làng Mai)/Kinh Tư Lượng [TTSĐCTTĐB 01] ｜ TS Thích Nhất Hạnh (20-11-1994, Xóm Thượng, Làng Mai).txt\u001b[0m\n",
      "2024-12-20 13:00:14,082 - tnh.yt_transcribe - \u001b[36mINFO\u001b[0m - Raw transcription data saved to: /Users/phapman/Desktop/tnh-scholar/sandbox/video_transcriptions/Kinh Tư Lượng [TTSĐCTTĐB 01] ｜ TS Thích Nhất Hạnh (20-11-1994, Xóm Thượng, Làng Mai)/Kinh Tư Lượng [TTSĐCTTĐB 01] ｜ TS Thích Nhất Hạnh (20-11-1994, Xóm Thượng, Làng Mai).jsonl\u001b[0m\n"
     ]
    }
   ],
   "source": [
    "# Step 4: Transcribe audio chunks\n",
    "if process_setting == \"transcribe\":\n",
    "    logger.info(\"Transcribing audio chunks...\")\n",
    "    transcript_file = video_output_dir / f\"{video_name}.txt\"\n",
    "    jsonl_file = video_output_dir / f\"{video_name}.jsonl\"\n",
    "\n",
    "    process_audio_chunks(\n",
    "        directory=chunks_dir,\n",
    "        output_file=transcript_file,\n",
    "        jsonl_file=jsonl_file,\n",
    "        prompt=prompt,\n",
    "        translate=translate_flag\n",
    "    )\n",
    "\n",
    "    logger.info(f\"Transcription completed for {url}\")\n",
    "    logger.info(f\"Transcript saved to: {transcript_file}\")\n",
    "    logger.info(f\"Raw transcription data saved to: {jsonl_file}\")"
   ]
  }
 ],
 "metadata": {
  "kernelspec": {
   "display_name": "tnh-scholar-env",
   "language": "python",
   "name": "python3"
  },
  "language_info": {
   "codemirror_mode": {
    "name": "ipython",
    "version": 3
   },
   "file_extension": ".py",
   "mimetype": "text/x-python",
   "name": "python",
   "nbconvert_exporter": "python",
   "pygments_lexer": "ipython3",
   "version": "3.11.10"
  }
 },
 "nbformat": 4,
 "nbformat_minor": 2
}
