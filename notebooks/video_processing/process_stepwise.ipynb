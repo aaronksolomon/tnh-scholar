{
 "cells": [
  {
   "cell_type": "code",
   "execution_count": null,
   "metadata": {},
   "outputs": [],
   "source": [
    "%load_ext autoreload\n",
    "%autoreload 2"
   ]
  },
  {
   "cell_type": "code",
   "execution_count": null,
   "metadata": {},
   "outputs": [],
   "source": [
    "from pathlib import Path\n",
    "import argparse\n",
    "import os\n",
    "import sys\n",
    "import logging\n",
    "import tnh_scholar.logging_config\n"
   ]
  },
  {
   "cell_type": "code",
   "execution_count": null,
   "metadata": {},
   "outputs": [],
   "source": [
    "from tnh_scholar.logging_config import setup_logging, get_child_logger\n",
    "from tnh_scholar.video_processing import (\n",
    "    get_youtube_urls_from_csv, \n",
    "    download_audio_yt,\n",
    ")\n",
    "from tnh_scholar.audio_processing import (\n",
    "    detect_whisper_boundaries, \n",
    "    split_audio_at_boundaries,\n",
    "    process_audio_chunks,\n",
    ")"
   ]
  },
  {
   "cell_type": "code",
   "execution_count": null,
   "metadata": {},
   "outputs": [],
   "source": [
    "from tnh_scholar import PROJECT_ROOT_DIR"
   ]
  },
  {
   "cell_type": "code",
   "execution_count": null,
   "metadata": {},
   "outputs": [],
   "source": [
    "setup_logging(log_filepath=\"transcription_process_stepwise.log\", log_level=logging.DEBUG)\n",
    "logger = get_child_logger(\"yt_transcribe\")"
   ]
  },
  {
   "cell_type": "code",
   "execution_count": null,
   "metadata": {},
   "outputs": [],
   "source": [
    "# Parameter settings\n",
    "output_base_dir = PROJECT_ROOT_DIR / \"sandbox/video_transcriptions\"\n",
    "start_time = None\n",
    "url = None\n",
    "prompt = \"Dharma, Deer Park, Thay, Thich Nhat Hanh, Bodhicitta, Bodhisattva, Mahayana\"\n",
    "translate_flag = False\n",
    "max_chunk_duration = 5 * 60 # 5 minutes\n",
    "process_setting = \"split\"\n",
    "\n",
    "# Directory settings\n",
    "video_name = \"Thiền Là Gì？ [TTSĐCTTĐB 02] TS Thích Nhất Hạnh (24-11-1994, Xóm Thượng, Làng Mai)\"\n",
    "if video_name:\n",
    "    video_output_dir = output_base_dir / video_name\n",
    "    video_output_dir.mkdir(parents=True, exist_ok=True)\n",
    "    chunks_dir = video_output_dir / \"chunks\"\n",
    "    chunks_dir.mkdir(parents=True, exist_ok=True)"
   ]
  },
  {
   "cell_type": "code",
   "execution_count": null,
   "metadata": {},
   "outputs": [],
   "source": [
    "# Step 1: Download audio\n",
    "if process_setting == \"download\":\n",
    "    logger.info(\"Downloading audio...\")\n",
    "    audio_file = download_audio_yt(url, output_base_dir, start_time=start_time)\n",
    "    logger.info(f\"Downloaded audio file: {audio_file}\")\n",
    "\n",
    "    video_name = audio_file.stem  # Use the stem of the audio file (title without extension)\n",
    "\n",
    "    # # Move the tmp audio file to the video directory\n",
    "    # audio_file = video_output_dir / tmp_audio_file.name\n",
    "\n",
    "    # try:\n",
    "    #     tmp_audio_file.rename(audio_file)  \n",
    "    #     logger.info(f\"Moved audio file to: {audio_file}\")\n",
    "    # except Exception as e:\n",
    "    #     logger.error(f\"Failed to move audio file to {video_output_dir}: {e}\")\n",
    "    #     # Ensure the code gracefully handles issues here, reassigning to the original tmp path.\n",
    "    #     audio_file = tmp_audio_file"
   ]
  },
  {
   "cell_type": "code",
   "execution_count": null,
   "metadata": {},
   "outputs": [],
   "source": [
    "audio_file = output_base_dir / f\"{video_name}.mp3\""
   ]
  },
  {
   "cell_type": "code",
   "execution_count": null,
   "metadata": {},
   "outputs": [],
   "source": [
    "print(audio_file)"
   ]
  },
  {
   "cell_type": "code",
   "execution_count": null,
   "metadata": {},
   "outputs": [],
   "source": [
    "audio_file.exists()"
   ]
  },
  {
   "cell_type": "code",
   "execution_count": null,
   "metadata": {},
   "outputs": [],
   "source": [
    "import os\n",
    "os.environ[\"KMP_WARNINGS\"] = \"0\""
   ]
  },
  {
   "cell_type": "code",
   "execution_count": null,
   "metadata": {},
   "outputs": [],
   "source": [
    "if process_setting == \"split\":\n",
    "    # Step 2: Detect boundaries    \n",
    "    logger.info(\"Detecting boundaries...\")\n",
    "    boundaries, boundary_transcription = detect_whisper_boundaries(audio_file, language='vi')\n",
    "    logger.info(\"Boundaries generated.\")"
   ]
  },
  {
   "cell_type": "code",
   "execution_count": null,
   "metadata": {},
   "outputs": [],
   "source": [
    "type(boundary_transcription)"
   ]
  },
  {
   "cell_type": "code",
   "execution_count": null,
   "metadata": {},
   "outputs": [],
   "source": [
    "# Step 3: Split audio into chunks\n",
    "if process_setting == \"split\":\n",
    "    logger.info(\"Splitting audio into chunks...\")\n",
    "    split_audio_at_boundaries(\n",
    "        audio_file=audio_file,\n",
    "        boundaries=boundaries, \n",
    "        output_dir=chunks_dir, \n",
    "        max_duration=max_chunk_duration\n",
    "    )\n",
    "    logger.info(f\"Audio chunks saved to: {chunks_dir}\")"
   ]
  },
  {
   "cell_type": "code",
   "execution_count": null,
   "metadata": {},
   "outputs": [],
   "source": [
    "# Step 4: Transcribe audio chunks\n",
    "if process_setting == \"transcribe\":\n",
    "    logger.info(\"Transcribing audio chunks...\")\n",
    "    transcript_file = video_output_dir / f\"{video_name}.txt\"\n",
    "    jsonl_file = video_output_dir / f\"{video_name}.jsonl\"\n",
    "\n",
    "    process_audio_chunks(\n",
    "        directory=chunks_dir,\n",
    "        output_file=transcript_file,\n",
    "        jsonl_file=jsonl_file,\n",
    "        prompt=prompt,\n",
    "        translate=translate_flag\n",
    "    )\n",
    "\n",
    "    logger.info(f\"Transcription completed for {url}\")\n",
    "    logger.info(f\"Transcript saved to: {transcript_file}\")\n",
    "    logger.info(f\"Raw transcription data saved to: {jsonl_file}\")"
   ]
  }
 ],
 "metadata": {
  "kernelspec": {
   "display_name": "tnh-scholar-test",
   "language": "python",
   "name": "python3"
  },
  "language_info": {
   "codemirror_mode": {
    "name": "ipython",
    "version": 3
   },
   "file_extension": ".py",
   "mimetype": "text/x-python",
   "name": "python",
   "nbconvert_exporter": "python",
   "pygments_lexer": "ipython3",
   "version": "3.12.4"
  }
 },
 "nbformat": 4,
 "nbformat_minor": 2
}
