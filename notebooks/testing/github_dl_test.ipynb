{
 "cells": [
  {
   "cell_type": "code",
   "execution_count": null,
   "metadata": {},
   "outputs": [],
   "source": [
    "import requests\n",
    "from pathlib import Path\n",
    "import zipfile\n",
    "import io\n",
    "\n",
    "def download_patterns(target_dir: Path) -> bool:\n",
    "    \"\"\"Download and extract pattern files preserving directory structure.\"\"\"\n",
    "    url = \"https://github.com/aaronksolomon/patterns/archive/main.zip\"\n",
    "    \n",
    "    try:\n",
    "        # Download zip file\n",
    "        response = requests.get(url)\n",
    "        response.raise_for_status()\n",
    "        \n",
    "        # Extract directly from memory\n",
    "        with zipfile.ZipFile(io.BytesIO(response.content)) as zip_ref:\n",
    "            # Files will be in a root dir like 'patterns-main/'\n",
    "            root_dir = zip_ref.filelist[0].filename.split('/')[0]\n",
    "            \n",
    "            for zip_info in zip_ref.filelist:\n",
    "                if zip_info.filename.endswith('.md'):\n",
    "                    # Remove the root directory but keep nested structure\n",
    "                    rel_path = Path(zip_info.filename).relative_to(root_dir)\n",
    "                    target_path = target_dir / rel_path\n",
    "                    \n",
    "                    # Create parent directories\n",
    "                    target_path.parent.mkdir(parents=True, exist_ok=True)\n",
    "                    \n",
    "                    # Extract file\n",
    "                    with zip_ref.open(zip_info) as source, \\\n",
    "                         open(target_path, 'wb') as target:\n",
    "                        target.write(source.read())\n",
    "        return True\n",
    "        \n",
    "    except requests.RequestException as e:\n",
    "        print(f\"Download failed: {e}\")\n",
    "        return False\n",
    "    except zipfile.BadZipFile:\n",
    "        print(\"Invalid zip file received\")\n",
    "        return False\n",
    "\n",
    "# Test it\n",
    "if __name__ == \"__main__\":\n",
    "    test_dir = Path(\"test_patterns\")\n",
    "    test_dir.mkdir(exist_ok=True)\n",
    "    success = download_patterns(test_dir)\n",
    "    print(f\"Download {'succeeded' if success else 'failed'}\")\n",
    "    if success:\n",
    "        print(\"Downloaded patterns:\")\n",
    "        for f in test_dir.glob(\"**/*.md\"):\n",
    "            print(f\"  {f.relative_to(test_dir)}\")"
   ]
  }
 ],
 "metadata": {
  "kernelspec": {
   "display_name": "tnh-scholar-test",
   "language": "python",
   "name": "python3"
  },
  "language_info": {
   "codemirror_mode": {
    "name": "ipython",
    "version": 3
   },
   "file_extension": ".py",
   "mimetype": "text/x-python",
   "name": "python",
   "nbconvert_exporter": "python",
   "pygments_lexer": "ipython3",
   "version": "3.12.4"
  }
 },
 "nbformat": 4,
 "nbformat_minor": 2
}
