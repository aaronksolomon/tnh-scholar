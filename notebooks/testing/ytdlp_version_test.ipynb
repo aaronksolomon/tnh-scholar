{
 "cells": [
  {
   "cell_type": "code",
   "execution_count": 5,
   "metadata": {},
   "outputs": [],
   "source": [
    "from packaging.version import Version, InvalidVersion\n",
    "import requests"
   ]
  },
  {
   "cell_type": "code",
   "execution_count": 2,
   "metadata": {},
   "outputs": [],
   "source": [
    "from tnh_scholar.cli_tools.audio_transcribe import YTDVersionChecker"
   ]
  },
  {
   "cell_type": "code",
   "execution_count": 3,
   "metadata": {},
   "outputs": [
    {
     "name": "stderr",
     "output_type": "stream",
     "text": [
      "2025-01-19 07:17:52,768 - tnh.__main__ - \u001b[1;32mDEBUG\u001b[0m - Created logger with name: tnh.__main__\u001b[0m\n"
     ]
    }
   ],
   "source": [
    "import logging\n",
    "from tnh_scholar.logging_config import get_child_logger, setup_logging\n",
    "\n",
    "setup_logging(log_level=logging.DEBUG)\n",
    "\n",
    "logger = get_child_logger(__name__)"
   ]
  },
  {
   "cell_type": "code",
   "execution_count": null,
   "metadata": {},
   "outputs": [
    {
     "name": "stderr",
     "output_type": "stream",
     "text": [
      "2025-01-19 07:18:21,015 - tnh.__main__ - \u001b[36mINFO\u001b[0m - yt-dlp is up to date (version 2025.1.15)\u001b[0m\n"
     ]
    }
   ],
   "source": [
    "\n",
    "checker = YTDVersionChecker()\n",
    "try:\n",
    "    needs_update, current, latest = checker.check_version()\n",
    "    if needs_update:\n",
    "        logger.info(f\"Update available: {current} -> {latest}\")\n",
    "        logger.info(\"Please run the appropriate upgrade in your environment.\")\n",
    "        logger.info(\"   For example: pip install --upgrade yt-dlp \")\n",
    "    else:\n",
    "        logger.info(f\"yt-dlp is up to date (version {current})\")\n",
    "        \n",
    "except ImportError as e:\n",
    "    logger.error(f\"Package error: {e}\")\n",
    "except requests.RequestException as e:\n",
    "    logger.error(f\"Network error: {e}\")\n",
    "except InvalidVersion as e:\n",
    "    logger.error(f\"Version parsing error: {e}\")\n",
    "except Exception as e:\n",
    "    logger.error(f\"Unexpected error: {e}\")"
   ]
  },
  {
   "cell_type": "code",
   "execution_count": null,
   "metadata": {},
   "outputs": [],
   "source": []
  }
 ],
 "metadata": {
  "kernelspec": {
   "display_name": "tnh-scholar-test",
   "language": "python",
   "name": "python3"
  },
  "language_info": {
   "codemirror_mode": {
    "name": "ipython",
    "version": 3
   },
   "file_extension": ".py",
   "mimetype": "text/x-python",
   "name": "python",
   "nbconvert_exporter": "python",
   "pygments_lexer": "ipython3",
   "version": "3.12.4"
  }
 },
 "nbformat": 4,
 "nbformat_minor": 2
}
