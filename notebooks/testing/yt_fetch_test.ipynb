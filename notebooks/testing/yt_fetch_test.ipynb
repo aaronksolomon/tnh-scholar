{
 "cells": [
  {
   "cell_type": "code",
   "execution_count": null,
   "metadata": {},
   "outputs": [],
   "source": [
    "%load_ext autoreload\n",
    "%autoreload 2"
   ]
  },
  {
   "cell_type": "code",
   "execution_count": null,
   "metadata": {},
   "outputs": [],
   "source": [
    "from tnh_scholar.video_processing import get_transcript"
   ]
  },
  {
   "cell_type": "code",
   "execution_count": null,
   "metadata": {},
   "outputs": [],
   "source": [
    "import logging\n",
    "import tnh_scholar.logging_config\n",
    "from tnh_scholar.logging_config import setup_logging\n"
   ]
  },
  {
   "cell_type": "code",
   "execution_count": null,
   "metadata": {},
   "outputs": [],
   "source": [
    "logger = setup_logging(log_level=logging.DEBUG)"
   ]
  },
  {
   "cell_type": "code",
   "execution_count": null,
   "metadata": {},
   "outputs": [],
   "source": [
    "test_text = get_transcript(\"https://www.youtube.com/watch?v=q98chKcXIZw&ab_channel=HowToAcademy\")"
   ]
  },
  {
   "cell_type": "code",
   "execution_count": null,
   "metadata": {},
   "outputs": [],
   "source": [
    "print(test_text)"
   ]
  },
  {
   "cell_type": "code",
   "execution_count": null,
   "metadata": {},
   "outputs": [],
   "source": [
    "url = \"https://www.youtube.com/watch?v=q98chKcXIZw&ab_channel=HowToAcademy\"  # Test URL "
   ]
  },
  {
   "cell_type": "code",
   "execution_count": null,
   "metadata": {},
   "outputs": [],
   "source": [
    "import yt_dlp\n",
    "\n",
    "# Test grabbing a transcript in VTT format\n",
    "opts = {\n",
    "    \"writesubtitles\": True,\n",
    "    \"writeautomaticsub\": True,\n",
    "    \"subtitleslangs\": [\"en\"],\n",
    "    \"subtitlesformat\": \"vtt\",\n",
    "    \"skip_download\": True\n",
    "}\n",
    "\n",
    "with yt_dlp.YoutubeDL(opts) as ydl:\n",
    "    info = ydl.extract_info(url, download=True)"
   ]
  },
  {
   "cell_type": "code",
   "execution_count": null,
   "metadata": {},
   "outputs": [],
   "source": [
    "[key for key in info.keys()]"
   ]
  },
  {
   "cell_type": "code",
   "execution_count": null,
   "metadata": {},
   "outputs": [],
   "source": [
    "import yt_dlp\n",
    "from pathlib import Path\n",
    "\n",
    "# Define the output path for the transcripts\n",
    "output_dir = Path(\"transcripts\")\n",
    "output_dir.mkdir(exist_ok=True)\n",
    "\n",
    "output_template = str(output_dir / 'temp')\n",
    "output_path = output_dir / 'temp.en.ttml'\n",
    "\n",
    "# Set yt-dlp options\n",
    "opts = {\n",
    "    'writesubtitles': True,\n",
    "    'writeautomaticsub': True,\n",
    "    'subtitleslangs': ['en'],\n",
    "    'subtitlesformat': 'ttml',\n",
    "    'skip_download': True,\n",
    "    'outtmpl': output_template,\n",
    "}\n",
    "\n",
    "# Extract information and download subtitles\n",
    "with yt_dlp.YoutubeDL(opts) as ydl:\n",
    "    info = ydl.extract_info(url, download=True)"
   ]
  },
  {
   "cell_type": "code",
   "execution_count": null,
   "metadata": {},
   "outputs": [],
   "source": [
    "output_path.exists()"
   ]
  },
  {
   "cell_type": "code",
   "execution_count": null,
   "metadata": {},
   "outputs": [],
   "source": [
    "from webvtt import WebVTT\n",
    "from pathlib import Path\n",
    "\n",
    "# Test with a sample VTT file\n",
    "vtt_path = output_path\n",
    "\n",
    "# Read and extract raw text\n",
    "raw_text = \"\\n\".join(caption.text for caption in WebVTT().read(vtt_path))\n",
    "\n",
    "# Print result\n",
    "print(raw_text)"
   ]
  },
  {
   "cell_type": "code",
   "execution_count": null,
   "metadata": {},
   "outputs": [],
   "source": [
    "from tnh_scholar import PROJECT_ROOT_DIR\n",
    "from tnh_scholar.utils.file_utils import get_text_from_file\n",
    "\n",
    "test_file = PROJECT_ROOT_DIR / \"sandbox\" / \"q98chKcXIZw.en.ttml\"\n",
    "\n",
    "test_ttml_text = get_text_from_file(test_file)"
   ]
  },
  {
   "cell_type": "code",
   "execution_count": null,
   "metadata": {},
   "outputs": [],
   "source": [
    "import xml.etree.ElementTree as ET\n",
    "\n",
    "def extract_ttml_text(ttml_str: str) -> str:\n",
    "    # Remove xml namespace to simplify parsing\n",
    "    ttml_str = ttml_str.replace('xmlns=\"http://www.w3.org/ns/ttml\"', '')\n",
    "\n",
    "    # Parse XML \n",
    "    root = ET.fromstring(ttml_str)\n",
    "\n",
    "    # Find all <p> elements and extract text\n",
    "    # Note: Using // to find all <p> elements at any level\n",
    "    text_lines = []\n",
    "    text_lines.extend(p.text for p in root.findall('.//p') if p.text)\n",
    "    return '\\n'.join(text_lines)\n",
    "\n",
    "\n",
    "print(extract_ttml_text(test_ttml_text))"
   ]
  },
  {
   "cell_type": "code",
   "execution_count": null,
   "metadata": {},
   "outputs": [],
   "source": [
    "help(yt_dlp.YoutubeDL)"
   ]
  },
  {
   "cell_type": "code",
   "execution_count": null,
   "metadata": {},
   "outputs": [],
   "source": [
    "get_transcript(url)"
   ]
  },
  {
   "cell_type": "code",
   "execution_count": null,
   "metadata": {},
   "outputs": [],
   "source": []
  }
 ],
 "metadata": {
  "kernelspec": {
   "display_name": "Python 3",
   "language": "python",
   "name": "python3"
  },
  "language_info": {
   "codemirror_mode": {
    "name": "ipython",
    "version": 3
   },
   "file_extension": ".py",
   "mimetype": "text/x-python",
   "name": "python",
   "nbconvert_exporter": "python",
   "pygments_lexer": "ipython3",
   "version": "3.10.4"
  }
 },
 "nbformat": 4,
 "nbformat_minor": 2
}
