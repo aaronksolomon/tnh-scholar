{
 "cells": [
  {
   "cell_type": "code",
   "execution_count": null,
   "metadata": {},
   "outputs": [],
   "source": [
    "%load_ext autoreload\n",
    "%autoreload 2"
   ]
  },
  {
   "cell_type": "code",
   "execution_count": null,
   "metadata": {},
   "outputs": [],
   "source": [
    "from lxml import etree\n",
    "%aimport json\n",
    "from pathlib import Path\n",
    "%aimport re\n",
    "from typing import List, Dict\n",
    "%aimport os\n",
    "from xml.sax.saxutils import escape"
   ]
  },
  {
   "cell_type": "code",
   "execution_count": null,
   "metadata": {},
   "outputs": [],
   "source": [
    "from data_processing.text_processing import get_text_from_file, set_working_directory, get_working_directory\n",
    "from data_processing.text_processing import normalize_quotes"
   ]
  },
  {
   "cell_type": "code",
   "execution_count": null,
   "metadata": {},
   "outputs": [],
   "source": [
    "from data_processing.text_processing import write_text_to_file"
   ]
  },
  {
   "cell_type": "code",
   "execution_count": null,
   "metadata": {},
   "outputs": [],
   "source": [
    "from data_processing.gpt_processing import token_count, set_api_client, get_api_client, get_active_batches\n",
    "from data_processing.gpt_processing import generate_messages, run_immediate_chat_process, create_jsonl_file_for_batch, start_batch\n",
    "from data_processing.gpt_processing import get_completed_batches, get_batch_response\n"
   ]
  },
  {
   "cell_type": "code",
   "execution_count": null,
   "metadata": {},
   "outputs": [],
   "source": [
    "user_message_string_clean = \"\"\"{text}\"\"\""
   ]
  },
  {
   "cell_type": "code",
   "execution_count": null,
   "metadata": {},
   "outputs": [],
   "source": [
    "def user_wrap_function_clean(text_block):\n",
    "    return user_message_string_clean.format(text=text_block)"
   ]
  },
  {
   "cell_type": "code",
   "execution_count": null,
   "metadata": {},
   "outputs": [],
   "source": [
    "system_message_clean = \"\"\"\n",
    "- You are a meticulous and consistent world expert at cleaning OCR-generated Vietnamese text. \n",
    "- You are cleaning text from a 1950's Buddhist Journal. \n",
    "IMPORTANT: You will receive one page of text listed by lines: do not modify the line structure.\n",
    "- You will minimally modify the text to fix any OCR errors.\n",
    "- You will add <section>, <title>, <author>, <p>, <li>, <ul>, <ol> tags (only) where appropriate in text, based on text layout and content. \n",
    "- Do not remove any content from the main body of the text.   \n",
    "- Use patterns in the text blocks (given by page) to infer patterns in the text.\n",
    "- Use the semantic meaning of the text to infer corrections—but make no semantic changes. \n",
    "- Add diacritical marks if they are missing or clearly inaccurate. \n",
    "- Do not change any proper names, except to add missing diacritical marks if the context is clear.  \n",
    "IMPORTANT: Output the corrected text only with no comments or additional formatting marks of any kind.\n",
    "\"\"\""
   ]
  },
  {
   "cell_type": "markdown",
   "metadata": {},
   "source": [
    "### testing gpt-4o-mini system message"
   ]
  },
  {
   "cell_type": "markdown",
   "metadata": {},
   "source": [
    "You are an intelligent, meticulous, and consistent expert at cleaning OCR-generated Vietnamese text. \n",
    "The text will be given in XML, and the output text should be in matching XML. \n",
    "Your goal is to minimally modify the text to generate a cleaned version. \n",
    "Do not remove any text from the main content.  \n",
    "Formatting markers at the beginning and end of the text can be adjusted or removed as needed for clarity. \n",
    "You can use the semantic meaning of the text to infer corrections—but make no semantic changes. \n",
    "You can also add diacritical marks if they are missing or clearly inaccurate and can be determined by context.\n",
    "Do not change any proper names, except to add missing diacritical marks if the context is clear.  \n",
    "This particular text has a title marker: \"Phat Giao Viet Nam,\" and also a publishing mark near the end of each page of text. \n",
    "The publishing mark is something like \"Tu Vien HUE QUANG\" + \"TRUNG TAM DICH THUAT HAN NOM\" and is often incomplete.\n",
    "Text corresponding to these marks (or part thereof) and page numbers can be omitted.\n",
    "Output the corrected text only with no comments."
   ]
  },
  {
   "cell_type": "markdown",
   "metadata": {},
   "source": [
    "### Process files in sequence and generate cleaning batch JSON files:"
   ]
  },
  {
   "cell_type": "code",
   "execution_count": null,
   "metadata": {},
   "outputs": [],
   "source": [
    "def split_xml_pages(text):\n",
    "    \"\"\"\n",
    "    Splits an XML document into individual pages based on <page> tags\n",
    "    and returns the text content of each page, excluding the <page> tags.\n",
    "\n",
    "    Parameters:\n",
    "    - text (str): The XML document as a string.\n",
    "\n",
    "    Returns:\n",
    "    - List[str]: A list of strings, each representing the content of a page.\n",
    "    \"\"\"\n",
    "    # Convert text to bytes\n",
    "    text_bytes = text.encode(\"utf-8\")\n",
    "    \n",
    "    try:\n",
    "        # Parse the XML text into an element tree\n",
    "        root = etree.fromstring(text_bytes)\n",
    "    except etree.XMLSyntaxError as e:\n",
    "        # Extract the line number and column number of the error\n",
    "        line_number = e.lineno\n",
    "        column_number = e.offset\n",
    "        \n",
    "        # Find the offending line in the original text\n",
    "        lines = text.splitlines()\n",
    "        error_line = lines[line_number - 1] if line_number - 1 < len(lines) else \"Unknown line\"\n",
    "        \n",
    "        print(f\"XMLSyntaxError: {e}\")\n",
    "        print(f\"Offending line {line_number}, column {column_number}: {error_line}\")\n",
    "        return []  # Return an empty list or handle the error as needed\n",
    "\n",
    "    # Extract text content of each <page> element\n",
    "    pages = [etree.tostring(page, encoding=\"unicode\") for page in root.findall(\".//page\")]\n",
    "    \n",
    "    return pages"
   ]
  },
  {
   "cell_type": "code",
   "execution_count": null,
   "metadata": {},
   "outputs": [],
   "source": [
    "def split_xml_pages(text, page_groups=None):\n",
    "    \"\"\"\n",
    "    Splits an XML document into individual pages based on <page> tags.\n",
    "    Optionally groups pages together based on page_groups.\n",
    "\n",
    "    Parameters:\n",
    "    - text (str): The XML document as a string.\n",
    "    - page_groups (list of tuples, optional): A list of tuples defining page ranges to group together.\n",
    "                                              Each tuple is of the form (start_page, end_page), inclusive.\n",
    "\n",
    "    Returns:\n",
    "    - List[str]: A list of strings, where each element is a single page (if no groups) or a group of pages.\n",
    "    \"\"\"\n",
    "    from lxml import etree\n",
    "\n",
    "    # Parse the XML text into an element tree\n",
    "    try:\n",
    "        root = etree.fromstring(text.encode(\"utf-8\"))\n",
    "    except etree.XMLSyntaxError as e:\n",
    "        # Handle parsing errors with helpful debugging information\n",
    "        line_number = e.lineno\n",
    "        column_number = e.offset\n",
    "        lines = text.splitlines()\n",
    "        error_line = lines[line_number - 1] if line_number - 1 < len(lines) else \"Unknown line\"\n",
    "        print(f\"XMLSyntaxError: {e}\")\n",
    "        print(f\"Offending line {line_number}, column {column_number}: {error_line}\")\n",
    "        return []  # Return an empty list if parsing fails\n",
    "\n",
    "    # Extract all pages as a list of strings\n",
    "    pages = [\n",
    "        (int(page.get(\"page\")), etree.tostring(page, encoding=\"unicode\"))\n",
    "        for page in root.findall(\".//page\")\n",
    "    ]\n",
    "    \n",
    "    # Sort pages by page number\n",
    "    pages.sort(key=lambda x: x[0])\n",
    "\n",
    "    # If no page_groups, return individual pages\n",
    "    if not page_groups:\n",
    "        return [content for _, content in pages]\n",
    "\n",
    "    # Group pages based on page_groups\n",
    "    grouped_pages = []\n",
    "    for start, end in page_groups:\n",
    "        group_content = \"\"\n",
    "        for page_num, content in pages:\n",
    "            if start <= page_num <= end:\n",
    "                group_content += content\n",
    "        if group_content:\n",
    "            grouped_pages.append(group_content)\n",
    "\n",
    "    return grouped_pages"
   ]
  },
  {
   "cell_type": "code",
   "execution_count": null,
   "metadata": {},
   "outputs": [],
   "source": [
    "processed_journals = \"../../processed_journal_data\"\n",
    "batch_ouput_prefix = \"./journal_cleaning_batches/\""
   ]
  },
  {
   "cell_type": "code",
   "execution_count": null,
   "metadata": {},
   "outputs": [],
   "source": [
    "ocr_xml = get_text_from_file(\"phat-giao-viet-nam-1956-28/full_OCR_text_phat-giao-viet-nam-1956-28.xml\", processed_journals)"
   ]
  },
  {
   "cell_type": "code",
   "execution_count": null,
   "metadata": {},
   "outputs": [],
   "source": [
    "pages = split_xml_pages(ocr_xml)"
   ]
  },
  {
   "cell_type": "code",
   "execution_count": null,
   "metadata": {},
   "outputs": [],
   "source": [
    "pages"
   ]
  },
  {
   "cell_type": "code",
   "execution_count": null,
   "metadata": {},
   "outputs": [],
   "source": [
    "print(system_message_clean)"
   ]
  },
  {
   "cell_type": "code",
   "execution_count": null,
   "metadata": {},
   "outputs": [],
   "source": [
    "# generate all cleaning batch files using pages:\n",
    "\n",
    "processed_journals = \"../../processed_journal_data\"\n",
    "batch_ouput_prefix = \"./journal_cleaning_batches/\"\n",
    "\n",
    "for path in Path(processed_journals).iterdir():\n",
    "    if path.is_dir():\n",
    "        journal_name = path.name\n",
    "        for subpath in Path(path).iterdir():\n",
    "            regex = re.compile(r\"^full_OCR_.*\\.xml\")\n",
    "            if subpath.is_file() and regex.search(subpath.name):\n",
    "                print(subpath.name)\n",
    "                try:\n",
    "                    ocr_text = get_text_from_file(subpath.name, path)\n",
    "                    print(f\"{ocr_text[:90]}...\")\n",
    "                    chunks = split_xml_pages(ocr_text)\n",
    "                    clean_message_seq = generate_messages(system_message_clean, user_wrap_function_clean, chunks)\n",
    "                    create_jsonl_file_for_batch(clean_message_seq, batch_ouput_prefix + \"clean_batch_\" + journal_name + \".jsonl\")\n",
    "                except Exception as e:\n",
    "                    print(f\"{e}\\nfailed.. \\nContinuing.\")\n",
    "                    "
   ]
  },
  {
   "cell_type": "code",
   "execution_count": null,
   "metadata": {},
   "outputs": [],
   "source": [
    "batch_client = set_api_client()"
   ]
  },
  {
   "cell_type": "code",
   "execution_count": null,
   "metadata": {},
   "outputs": [],
   "source": [
    "batch_job_dir = \"./journal_cleaning_batches\"\n",
    "batch_files = os.listdir(batch_job_dir)\n",
    "batch_files\n"
   ]
  },
  {
   "cell_type": "code",
   "execution_count": null,
   "metadata": {},
   "outputs": [],
   "source": [
    "file_path = os.path.join(batch_job_dir, 'clean_batch_phat-giao-viet-nam-1956-28.jsonl')\n",
    "file_path"
   ]
  },
  {
   "cell_type": "markdown",
   "metadata": {},
   "source": [
    "## completed batches:\n",
    "10, 25-26"
   ]
  },
  {
   "cell_type": "code",
   "execution_count": null,
   "metadata": {},
   "outputs": [],
   "source": [
    "batch28 = start_batch(file_path)"
   ]
  },
  {
   "cell_type": "code",
   "execution_count": null,
   "metadata": {},
   "outputs": [],
   "source": [
    "# file_path"
   ]
  },
  {
   "cell_type": "code",
   "execution_count": null,
   "metadata": {},
   "outputs": [],
   "source": [
    "# batch_27 = start_batch(file_path)"
   ]
  },
  {
   "cell_type": "code",
   "execution_count": null,
   "metadata": {},
   "outputs": [],
   "source": [
    "# batch_05_06 = start_batch(file_path)"
   ]
  },
  {
   "cell_type": "code",
   "execution_count": null,
   "metadata": {},
   "outputs": [],
   "source": [
    "get_active_batches()"
   ]
  },
  {
   "cell_type": "code",
   "execution_count": null,
   "metadata": {},
   "outputs": [],
   "source": [
    "completed = get_completed_batches()"
   ]
  },
  {
   "cell_type": "code",
   "execution_count": null,
   "metadata": {},
   "outputs": [],
   "source": [
    "completed"
   ]
  },
  {
   "cell_type": "code",
   "execution_count": null,
   "metadata": {},
   "outputs": [],
   "source": [
    "cleaned_data = get_batch_response(completed[0]['id'])"
   ]
  },
  {
   "cell_type": "code",
   "execution_count": null,
   "metadata": {},
   "outputs": [],
   "source": [
    "len(cleaned_data)"
   ]
  },
  {
   "cell_type": "code",
   "execution_count": null,
   "metadata": {},
   "outputs": [],
   "source": [
    "print(cleaned_data[3])"
   ]
  },
  {
   "cell_type": "code",
   "execution_count": null,
   "metadata": {},
   "outputs": [],
   "source": [
    "# deprectated: now <page> markers stay in cleaned text.\n",
    "# def join_pages(data):\n",
    "#     result = [\"<document>\"]\n",
    "#     for i, page in enumerate(data):\n",
    "#         result.append(f\"<page page=\\\"{i+1}\\\">\\n\")\n",
    "#         result.append(escape(page))\n",
    "#         result.append(\"\\n</page>\\n\")\n",
    "#     result.append(\"</document>\")\n",
    "\n",
    "#     return \"\".join(result)\n",
    "\n",
    "def join_pages(data):\n",
    "    result = [\"<document>\"]\n",
    "    result = result + data\n",
    "    result.append(\"</document>\")\n",
    "\n",
    "    return \"\\n\".join(result)\n"
   ]
  },
  {
   "cell_type": "code",
   "execution_count": null,
   "metadata": {},
   "outputs": [],
   "source": [
    "cleaned_data"
   ]
  },
  {
   "cell_type": "code",
   "execution_count": null,
   "metadata": {},
   "outputs": [],
   "source": [
    "full_cleaned_text = join_pages(cleaned_data)"
   ]
  },
  {
   "cell_type": "code",
   "execution_count": null,
   "metadata": {},
   "outputs": [],
   "source": [
    "print(full_cleaned_text)"
   ]
  },
  {
   "cell_type": "code",
   "execution_count": null,
   "metadata": {},
   "outputs": [],
   "source": []
  },
  {
   "cell_type": "code",
   "execution_count": null,
   "metadata": {},
   "outputs": [],
   "source": [
    "#write_text_to_file(\"full_cleaned_journal_28.xml\", full_cleaned_text)"
   ]
  },
  {
   "cell_type": "code",
   "execution_count": null,
   "metadata": {},
   "outputs": [],
   "source": [
    "full_cleaned_text = get_text_from_file(\"full_cleaned_journal_28.xml\")"
   ]
  },
  {
   "cell_type": "code",
   "execution_count": null,
   "metadata": {},
   "outputs": [],
   "source": [
    "token_count(full_cleaned_text)"
   ]
  },
  {
   "cell_type": "code",
   "execution_count": null,
   "metadata": {},
   "outputs": [],
   "source": [
    "cleaned_sections = split_xml_pages(full_cleaned_text, page_groups=[(1, 6), (7, 17),(18, 25), (26, 30), (31, 36), (37, 37), (38, 44), (45, 51)])"
   ]
  },
  {
   "cell_type": "code",
   "execution_count": null,
   "metadata": {},
   "outputs": [],
   "source": [
    "[token_count(x) for x in cleaned_sections]"
   ]
  },
  {
   "cell_type": "code",
   "execution_count": null,
   "metadata": {},
   "outputs": [],
   "source": [
    "[type(x) for x in cleaned_sections]"
   ]
  },
  {
   "cell_type": "code",
   "execution_count": null,
   "metadata": {},
   "outputs": [],
   "source": [
    "print(cleaned_sections[0])"
   ]
  },
  {
   "cell_type": "code",
   "execution_count": null,
   "metadata": {},
   "outputs": [],
   "source": [
    "system_message_translate = \"\"\"\n",
    "You are translating as Thich Nhat Hanh from Vietnamese to English for your experienced students. \n",
    "The text is from 1956-1958. Use the title: \"Vietnamese Buddhist Journal.\" \n",
    "You want experienced students to understand the material and its historical and cultural context—in particular, as it relates to the life and teaching of Thich Nhat Hanh.\n",
    "\n",
    "- You will receive 1 section of the journal at a time. \n",
    "- Give a full English translation in the style of Thich Nhat Hanh. Precision and clarity are important.\n",
    "- Format the text neatly.\n",
    "- Keep pages together: each translated page must match it's original page source as pages will be studied side by side with the original Vietnamese.\n",
    "- Exception: you can move a sentence if it is split between two pages.\n",
    "- Pages will already have metadata tags that were generated page by page.\n",
    "- Edit and adjust XML tags as needed to join page information and create clarity.\n",
    "- Add additional XML tags for clarity.\n",
    "- All titles and XML sections should also be translated.\n",
    "- Do not make comments within the text itself. \n",
    "- Leave all names of people in original Vietnamese with diacritics. \n",
    "- Each section of the text should have its own dedicated `<footnotes>` section.\n",
    "- Use footnotes generously to explain elements of Vietnamese Buddhism or Buddhism in general, elements of Vietnamese culture and history, or elements relative to the life, teachings, and practice of Thich Nhat Hanh.\n",
    "- When translating complex terms (Sanskrit, Sino-Vietnamese, or French) mark these with <i></i> tags and give an explanation in the footnotes.  \n",
    "- For any terms footnoted, give the original Vietnamese, Sino-Vietnamese, Sanskrit, or French in the footnote. \n",
    "\n",
    "Footnote Formatting:\n",
    "Inline Footnote Markers:\n",
    "   - In the main text, footnotes should be marked numerically in brackets, such as \"[1]\".\n",
    "   - Enclose each inline footnote marker within a `<footnote number=\"n\">` tag, where `n` is the footnote number.\n",
    "   - Example of a footnoted paragraph:\n",
    "     `<p>This paragraph has a footnote. This is a sentence in the paragraph.</p><footnote number=\"1\">[1]</footnote>`\n",
    "\n",
    "Footnote Section:\n",
    "   - If a page has footnotes then it should have a `<footnotes>` section at the end of the page with the information for each footnote.\n",
    "   - Each footnote in the `<footnotes>` section should use a `<footnote number=\"n\">` tag, with `n` matching the inline reference.\n",
    "\n",
    "Numbering:\n",
    "   - Footnote numbers should restart at 1 for each new page of text.\n",
    "\n",
    "Here's an example of a page containing two footnotes:\n",
    "\n",
    "```\n",
    "   <page> \n",
    "      <p>This is sentence has a footnote.<footnote number=\"1\">[1]</footnote> <p>\n",
    "      <p>Here is another statement that needs a footnote.<footnote number=\"2\">[2]</footnote></p>`\n",
    "      <p>The rest of the page follows ... </p>   \n",
    "      ...\n",
    "      <footnotes>\n",
    "         <footnote number=\"1\">This is the information for the first footnote</footnote>`\n",
    "         <footnote number=\"2\">This is the information for the second footnote</footnote>`\n",
    "      </footnotes>\n",
    "   </page>\n",
    "```\n",
    "\"\"\""
   ]
  },
  {
   "cell_type": "code",
   "execution_count": null,
   "metadata": {},
   "outputs": [],
   "source": [
    "token_count(system_message_translate)"
   ]
  },
  {
   "cell_type": "code",
   "execution_count": null,
   "metadata": {},
   "outputs": [],
   "source": [
    "user_message_string_translate = \"\"\"{text}\"\"\""
   ]
  },
  {
   "cell_type": "code",
   "execution_count": null,
   "metadata": {},
   "outputs": [],
   "source": [
    "def user_wrap_function_translate(text_block):\n",
    "    return user_message_string_translate.format(text=text_block)"
   ]
  },
  {
   "cell_type": "code",
   "execution_count": null,
   "metadata": {},
   "outputs": [],
   "source": [
    "translation_message_seq = generate_messages(system_message_translate, user_wrap_function_translate, cleaned_sections)"
   ]
  },
  {
   "cell_type": "code",
   "execution_count": null,
   "metadata": {},
   "outputs": [],
   "source": [
    "processed_journals = \"../../processed_journal_data\"\n",
    "batch_ouput_prefix = \"./journal_translate_batches/\"\n",
    "journal_name = \"phat-giao-viet-nam-1956-28\""
   ]
  },
  {
   "cell_type": "code",
   "execution_count": null,
   "metadata": {},
   "outputs": [],
   "source": [
    "create_jsonl_file_for_batch(translation_message_seq, batch_ouput_prefix + \"translate_batch_\" + journal_name + \".jsonl\")"
   ]
  },
  {
   "cell_type": "code",
   "execution_count": null,
   "metadata": {},
   "outputs": [],
   "source": [
    "batch_job_dir = \"./journal_translate_batches\"\n",
    "batch_path = os.path.join(batch_job_dir, 'translate_batch_phat-giao-viet-nam-1956-28.jsonl')\n",
    "batch_path"
   ]
  },
  {
   "cell_type": "code",
   "execution_count": null,
   "metadata": {},
   "outputs": [],
   "source": [
    "tx_batch = start_batch(batch_path)\n",
    "tx_batch"
   ]
  },
  {
   "cell_type": "code",
   "execution_count": null,
   "metadata": {},
   "outputs": [],
   "source": [
    "get_active_batches()"
   ]
  },
  {
   "cell_type": "code",
   "execution_count": null,
   "metadata": {},
   "outputs": [],
   "source": [
    "completed = get_completed_batches()"
   ]
  },
  {
   "cell_type": "code",
   "execution_count": null,
   "metadata": {},
   "outputs": [],
   "source": [
    "completed"
   ]
  },
  {
   "cell_type": "code",
   "execution_count": null,
   "metadata": {},
   "outputs": [],
   "source": [
    "translated_data = get_batch_response(completed[0]['id'])"
   ]
  },
  {
   "cell_type": "code",
   "execution_count": null,
   "metadata": {},
   "outputs": [],
   "source": [
    "len(translated_data)"
   ]
  },
  {
   "cell_type": "code",
   "execution_count": null,
   "metadata": {},
   "outputs": [],
   "source": [
    "full_translated_text = join_pages(translated_data)"
   ]
  },
  {
   "cell_type": "code",
   "execution_count": null,
   "metadata": {},
   "outputs": [],
   "source": [
    "print(full_translated_text)"
   ]
  },
  {
   "cell_type": "code",
   "execution_count": null,
   "metadata": {},
   "outputs": [],
   "source": [
    "token_count(full_translated_text)"
   ]
  },
  {
   "cell_type": "code",
   "execution_count": null,
   "metadata": {},
   "outputs": [],
   "source": [
    "write_text_to_file(\"full_tx_phat-giao-viet-nam-1956-28.xml\", full_translated_text)"
   ]
  },
  {
   "cell_type": "code",
   "execution_count": null,
   "metadata": {},
   "outputs": [],
   "source": []
  }
 ],
 "metadata": {
  "kernelspec": {
   "display_name": "tnh-scholar",
   "language": "python",
   "name": "python3"
  },
  "language_info": {
   "codemirror_mode": {
    "name": "ipython",
    "version": 3
   },
   "file_extension": ".py",
   "mimetype": "text/x-python",
   "name": "python",
   "nbconvert_exporter": "python",
   "pygments_lexer": "ipython3",
   "version": "3.11.10"
  }
 },
 "nbformat": 4,
 "nbformat_minor": 2
}
