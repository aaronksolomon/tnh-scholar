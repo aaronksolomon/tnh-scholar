{
 "cells": [
  {
   "cell_type": "code",
   "execution_count": null,
   "metadata": {},
   "outputs": [],
   "source": [
    "from lxml import etree\n",
    "import json"
   ]
  },
  {
   "cell_type": "code",
   "execution_count": null,
   "metadata": {},
   "outputs": [],
   "source": [
    "from data_processing.text_processing import get_text_from_file, set_working_directory, get_working_directory\n",
    "from data_processing.text_processing import normalize_quotes"
   ]
  },
  {
   "cell_type": "code",
   "execution_count": null,
   "metadata": {},
   "outputs": [],
   "source": [
    "from data_processing.text_processing import write_text_to_file"
   ]
  },
  {
   "cell_type": "code",
   "execution_count": null,
   "metadata": {},
   "outputs": [],
   "source": [
    "from data_processing.gpt_processing import token_count, set_api_client, get_api_client\n",
    "from data_processing.gpt_processing import generate_messages, run_immediate_chat_process, create_jsonl_file_for_batch\n"
   ]
  },
  {
   "cell_type": "code",
   "execution_count": null,
   "metadata": {},
   "outputs": [],
   "source": [
    "CHUNK_TOKEN_LIMIT = 10000"
   ]
  },
  {
   "cell_type": "code",
   "execution_count": null,
   "metadata": {},
   "outputs": [],
   "source": [
    "set_working_directory(\"../../ocr_processing\")"
   ]
  },
  {
   "cell_type": "code",
   "execution_count": null,
   "metadata": {},
   "outputs": [],
   "source": [
    "raw_text_xml = get_text_from_file(\"ocr_processed_output/phat-giao-viet-nam-1956-24/text_data.xml\")"
   ]
  },
  {
   "cell_type": "code",
   "execution_count": null,
   "metadata": {},
   "outputs": [],
   "source": [
    "raw_text_xml"
   ]
  },
  {
   "cell_type": "code",
   "execution_count": null,
   "metadata": {},
   "outputs": [],
   "source": [
    "print(raw_text_xml)"
   ]
  },
  {
   "cell_type": "markdown",
   "metadata": {},
   "source": [
    "cleaning text to test:\n"
   ]
  },
  {
   "cell_type": "markdown",
   "metadata": {},
   "source": [
    "<?xml version='1.0' encoding='UTF-8'?>\n",
    "<document>\n",
    "  <title>phat-giao-viet-nam-1956-24</title>\n",
    "  <page page='1'>\n",
    "    PHẬT GIÁO\n",
    "VIỆT-NAM\n",
    "NGUYỆT SAN\n",
    "TÂM DỊCH THUẬT HẠN\n",
    "_\n",
    "SỐ 24 RA NGÀY 15 THÁNG 8 NĂM MẬU - TUẤT\n",
    "HƯƠNG CÔNG HỘI PHẬT - GIÁO VIỆT- NAM XUẤT BẢN\n",
    "  </page>\n",
    "  <page page='2'>\n",
    "    MUC LUC\n",
    "ANG.V\n",
    "Nguyệt-san « Phật-giáo Việt-nam »\n",
    "day hai tubi\n",
    "P.G.V.N.\n",
    "Nang-lure bat-diet\n",
    "của tiềm thức\n",
    "Jadigh Kasyapa\n",
    "Ngài Huyền-Trang đi Ấn độ\n",
    "thỉnh Kinh (tiếp theo)\n",
    "Dương-đình-Phúc\n",
    "Thắc mắc -\n",
    "Phương Bối\n",
    "Vui đời Đạo lý\n",
    "(truyện ngắn được giải khuyến khích)\n",
    "Tài liệu về Gia đình Phật tử\n",
    "Đi tìm Châu-lí\n",
    "Ni Phat-ti Marguerite La Fuente da vien-tich\n",
    "Tin Tec\n",
    "Kết quả cuộc thi giải trí Hop the Toa-soan\n",
    "Minh-Trâm\n",
    "Nguyễn khắc Từ\n",
    "Nguyễn-đức-Tương\n",
    "P.G.V.N.\n",
    "THU\n",
    "DICH THU\n",
    "TV\n",
    "_ HUỆ\n",
    "QUANG\n",
    "  </page>\n",
    "  <page page='3'>\n",
    "    _ HUỆ QUANG\n",
    "TAM DICH\n",
    "TUVIENHURQU\n",
    "  </page>\n",
    "  <page page='4'>\n",
    "    PHẬT-GIÁO\n",
    "VIỆT-NAM\n",
    "ĐẨY HAI TUỔI\n",
    "ới số 24 này, Phật giáo Việt nam nguyệt san đã được\n",
    "hai tuổi. Ra đời giữa sự khó khăn về tài chánh riêng trong nội bộ\n",
    "và chịu ảnh hưởng của nền kinh tế chung, Phật-giáo Việt-nam đã\n",
    "được nếm cái mùi “tân khổ ngay trong tuổi ấu thơ. Cuộc đời của\n",
    "nó không ngờ lại khó khăn đến thế! Là con tinh thần của Tổng hội\n",
    "Phật-giáo Việt-nam, khai sanh giữa Hội-nghị Phật-giáo, được sự\n",
    "đỡ đầu của sáu tập đoàn đàn anh Trung, Nam, Bắc, ai cũng mừng\n",
    "thầm cho nó sẽ có một cuộc đời sung túc. Nhưng có lẽ số kiếp nó\n",
    "vất vả, nên người cha tinh thần thường hay ốm yếu và các đàn anh\n",
    "đỡ đầu cũng luôn luôn bận rộn với đời sống riêng, ít có cơ hội săn\n",
    "sóc đến nó.\n",
    "Nhưng đã được cái vinh hạnh là con đẻ của Tổng-hội Phật.\n",
    "giáo Việt-nam, là em đỡ đầu của các tập đoàn Phật giáo đàn anh\n",
    "trong ba phần, nó phải sớm tự lập, nỗ lực xây dựng đời sống của\n",
    "mình sao cho khỏi then mặt cha, anh. Tuy còn thơ ấu, nó đã nhận\n",
    "thức được sứ mệnh quan trọng của mình là phải bảo vệ, nâng đỡ\n",
    "người cha ốm yếu, kêu gọi sự đoàn kết chặt chẽ giữa các anh em\n",
    "cùng một huyết thống, một lý tưởng, nêu cao ngọn cờ Chánh Pháp.\n",
    "nói lên tiếng nói thành khẩn, đúng đắn của đức Bổn sự.\n",
    "PHẬT-GIÁO VIỆT NAM\n",
    "THU\n",
    "DICH TRUAT H\n",
    "Th\n",
    "HUỆ QUANG\n",
    "  </page>"
   ]
  },
  {
   "cell_type": "markdown",
   "metadata": {},
   "source": [
    "Output as JSON from cleaning:"
   ]
  },
  {
   "cell_type": "markdown",
   "metadata": {},
   "source": [
    "{\n",
    "    \"cleaned_text\": \"<?xml version='1.0' encoding='UTF-8'?>\\n<document>\\n  <title>Phật Giáo Việt Nam 1956 Số 24</title>\\n  <page page='1'>\\n    PHẬT GIÁO\\nVIỆT NAM\\nNGUYỆT SAN\\nTÂM DỊCH THUẬT HẠN\\nSỐ 24 RA NGÀY 15 THÁNG 8 NĂM MẬU TUẤT\\nHƯƠNG CÔNG HỘI PHẬT GIÁO VIỆT NAM XUẤT BẢN\\n  </page>\\n  <page page='2'>\\n    MỤC LỤC\\nNGUYỆT SAN \\\"PHẬT GIÁO VIỆT NAM\\\"\\nĐẦY HAI TUỔI\\nP.G.V.N.\\nNăng lực bất diệt của tiềm thức\\nJadigh Kasyapa\\nNgài Huyền Trang đi Ấn Độ thỉnh Kinh (tiếp theo)\\nDương Đình Phúc\\nThắc mắc - Phương Bối\\nVui đời Đạo lý\\n(truyện ngắn được giải khuyến khích)\\nTài liệu về Gia đình Phật tử\\nĐi tìm Châu Lí\\nNi Phật tử Marguerite La Fuente đã viên tịch\\nTin Tức\\nKết quả cuộc thi giải trí Hợp thất Toà soạn\\nMinh Trâm\\nNguyễn Khắc Từ\\nNguyễn Đức Tương\\nP.G.V.N.\\n  </page>\\n  <page page='3'>\\n    \\n  </page>\\n  <page page='4'>\\n    PHẬT GIÁO\\nVIỆT NAM\\nĐẦY HAI TUỔI\\nVới số 24 này, Phật giáo Việt Nam nguyệt san đã được hai tuổi. Ra đời giữa sự khó khăn về tài chánh riêng trong nội bộ và chịu ảnh hưởng của nền kinh tế chung, Phật giáo Việt Nam đã được nếm cái mùi “tân khổ” ngay trong tuổi ấu thơ. Cuộc đời của nó không ngờ lại khó khăn đến thế! Là con tinh thần của Tổng hội Phật giáo Việt Nam, khai sanh giữa Hội nghị Phật giáo, được sự đỡ đầu của sáu tập đoàn đàn anh Trung, Nam, Bắc, ai cũng mừng thầm cho nó sẽ có một cuộc đời sung túc. Nhưng có lẽ số kiếp nó vất vả, nên người cha tinh thần thường hay ốm yếu và các đàn anh đỡ đầu cũng luôn luôn bận rộn với đời sống riêng, ít có cơ hội săn sóc đến nó.\\nNhưng đã được cái vinh hạnh là con đẻ của Tổng hội Phật giáo Việt Nam, là em đỡ đầu của các tập đoàn Phật giáo đàn anh trong ba phần, nó phải sớm tự lập, nỗ lực xây dựng đời sống của mình sao cho khỏi thẹn mặt cha, anh. Tuy còn thơ ấu, nó đã nhận thức được sứ mệnh quan trọng của mình là phải bảo vệ, nâng đỡ người cha ốm yếu, kêu gọi sự đoàn kết chặt chẽ giữa các anh em cùng một huyết thống, một lý tưởng, nêu cao ngọn cờ Chánh Pháp, nói lên tiếng nói thành khẩn, đúng đắn của đức Bổn Sư.\\n  </page>\\n</document>\",\n",
    "    \"cleaning_steps\": [\n",
    "        {\n",
    "            \"cleaning_step\": {\n",
    "                \"description\": \"Corrected the diacritical marks in the title and text, and fixed misspellings. Removed publishing markers and page numbers at the end of each section which were inaccurately read.\",\n",
    "                \"text_example\": \"PHAT GIAO VIET-NAM -> PHẬT GIÁO VIỆT NAM\",\n",
    "                \"confidence_level\": 3\n",
    "            }\n",
    "        },\n",
    "        {\n",
    "            \"cleaning_step\": {\n",
    "                \"description\": \"Replaced inconsistently transliterated Vietnamese words with their correct forms. This includes proper nouns like 'Nguyễn Đức Tương'.\",\n",
    "                \"text_example\": \"Nguyen-duc-Tuong -> Nguyễn Đức Tương\",\n",
    "                \"confidence_level\": 3\n",
    "            }\n",
    "        },\n",
    "        {\n",
    "            \"cleaning_step\": {\n",
    "                \"description\": \"Reformatted the title and cleaned unnecessary underscores and OCR artifacts at the top and bottom of pages.\",\n",
    "                \"text_example\": \"PHẬT GIÁO\\nVIỆT-NAM\\nNGUYỆT SAN\\n_ -> PHẬT GIÁO VIỆT NAM NGUYỆT SAN\",\n",
    "                \"confidence_level\": 2\n",
    "            }\n",
    "        },\n",
    "        {\n",
    "            \"cleaning_step\": {\n",
    "                \"description\": \"Removed garbled text sections that are likely publishing marks. These were inconsistent sequences at the end of pages.\",\n",
    "                \"text_example\": \"_ HUỆ QUANG TAM DICH -> [empty]\",\n",
    "                \"confidence_level\": 2\n",
    "            }\n",
    "        }\n",
    "    ]\n",
    "}"
   ]
  },
  {
   "cell_type": "code",
   "execution_count": null,
   "metadata": {},
   "outputs": [],
   "source": [
    "output_test = \"\"\"\n",
    "{\n",
    "    \"cleaned_text\": \"<?xml version='1.0' encoding='UTF-8'?>\\n<document>\\n  <title>Phật Giáo Việt Nam 1956 Số 24</title>\\n  <page page='1'>\\n    PHẬT GIÁO\\nVIỆT NAM\\nNGUYỆT SAN\\nTÂM DỊCH THUẬT HẠN\\nSỐ 24 RA NGÀY 15 THÁNG 8 NĂM MẬU TUẤT\\nHƯƠNG CÔNG HỘI PHẬT GIÁO VIỆT NAM XUẤT BẢN\\n  </page>\\n  <page page='2'>\\n    MỤC LỤC\\nNGUYỆT SAN \\\"PHẬT GIÁO VIỆT NAM\\\"\\nĐẦY HAI TUỔI\\nP.G.V.N.\\nNăng lực bất diệt của tiềm thức\\nJadigh Kasyapa\\nNgài Huyền Trang đi Ấn Độ thỉnh Kinh (tiếp theo)\\nDương Đình Phúc\\nThắc mắc - Phương Bối\\nVui đời Đạo lý\\n(truyện ngắn được giải khuyến khích)\\nTài liệu về Gia đình Phật tử\\nĐi tìm Châu Lí\\nNi Phật tử Marguerite La Fuente đã viên tịch\\nTin Tức\\nKết quả cuộc thi giải trí Hợp thất Toà soạn\\nMinh Trâm\\nNguyễn Khắc Từ\\nNguyễn Đức Tương\\nP.G.V.N.\\n  </page>\\n  <page page='3'>\\n    \\n  </page>\\n  <page page='4'>\\n    PHẬT GIÁO\\nVIỆT NAM\\nĐẦY HAI TUỔI\\nVới số 24 này, Phật giáo Việt Nam nguyệt san đã được hai tuổi. Ra đời giữa sự khó khăn về tài chánh riêng trong nội bộ và chịu ảnh hưởng của nền kinh tế chung, Phật giáo Việt Nam đã được nếm cái mùi “tân khổ” ngay trong tuổi ấu thơ. Cuộc đời của nó không ngờ lại khó khăn đến thế! Là con tinh thần của Tổng hội Phật giáo Việt Nam, khai sanh giữa Hội nghị Phật giáo, được sự đỡ đầu của sáu tập đoàn đàn anh Trung, Nam, Bắc, ai cũng mừng thầm cho nó sẽ có một cuộc đời sung túc. Nhưng có lẽ số kiếp nó vất vả, nên người cha tinh thần thường hay ốm yếu và các đàn anh đỡ đầu cũng luôn luôn bận rộn với đời sống riêng, ít có cơ hội săn sóc đến nó.\\nNhưng đã được cái vinh hạnh là con đẻ của Tổng hội Phật giáo Việt Nam, là em đỡ đầu của các tập đoàn Phật giáo đàn anh trong ba phần, nó phải sớm tự lập, nỗ lực xây dựng đời sống của mình sao cho khỏi thẹn mặt cha, anh. Tuy còn thơ ấu, nó đã nhận thức được sứ mệnh quan trọng của mình là phải bảo vệ, nâng đỡ người cha ốm yếu, kêu gọi sự đoàn kết chặt chẽ giữa các anh em cùng một huyết thống, một lý tưởng, nêu cao ngọn cờ Chánh Pháp, nói lên tiếng nói thành khẩn, đúng đắn của đức Bổn Sư.\\n  </page>\\n</document>\",\n",
    "    \"cleaning_steps\": [\n",
    "        {\n",
    "            \"cleaning_step\": {\n",
    "                \"description\": \"Corrected the diacritical marks in the title and text, and fixed misspellings. Removed publishing markers and page numbers at the end of each section which were inaccurately read.\",\n",
    "                \"text_example\": \"PHAT GIAO VIET-NAM -> PHẬT GIÁO VIỆT NAM\",\n",
    "                \"confidence_level\": 3\n",
    "            }\n",
    "        },\n",
    "        {\n",
    "            \"cleaning_step\": {\n",
    "                \"description\": \"Replaced inconsistently transliterated Vietnamese words with their correct forms. This includes proper nouns like 'Nguyễn Đức Tương'.\",\n",
    "                \"text_example\": \"Nguyen-duc-Tuong -> Nguyễn Đức Tương\",\n",
    "                \"confidence_level\": 3\n",
    "            }\n",
    "        },\n",
    "        {\n",
    "            \"cleaning_step\": {\n",
    "                \"description\": \"Reformatted the title and cleaned unnecessary underscores and OCR artifacts at the top and bottom of pages.\",\n",
    "                \"text_example\": \"PHẬT GIÁO\\nVIỆT-NAM\\nNGUYỆT SAN\\n_ -> PHẬT GIÁO VIỆT NAM NGUYỆT SAN\",\n",
    "                \"confidence_level\": 2\n",
    "            }\n",
    "        },\n",
    "        {\n",
    "            \"cleaning_step\": {\n",
    "                \"description\": \"Removed garbled text sections that are likely publishing marks. These were inconsistent sequences at the end of pages.\",\n",
    "                \"text_example\": \"_ HUỆ QUANG TAM DICH -> [empty]\",\n",
    "                \"confidence_level\": 2\n",
    "            }\n",
    "        }\n",
    "    ]\n",
    "}\n",
    "\"\"\""
   ]
  },
  {
   "cell_type": "code",
   "execution_count": null,
   "metadata": {},
   "outputs": [],
   "source": [
    "print(repr(output_test))"
   ]
  },
  {
   "cell_type": "code",
   "execution_count": null,
   "metadata": {},
   "outputs": [],
   "source": [
    "import json\n",
    "import re\n",
    "\n",
    "def repair_json_string(json_string):\n",
    "    \"\"\"\n",
    "    Attempts to repair a JSON string by selectively escaping problematic characters within\n",
    "    string values (e.g., newlines, tabs, carriage returns, double quotes, and backslashes).\n",
    "    \n",
    "    Args:\n",
    "        json_string (str): The raw JSON string that may have unescaped characters.\n",
    "        \n",
    "    Returns:\n",
    "        str: The repaired JSON string with necessary characters escaped within values.\n",
    "    \"\"\"\n",
    "    try:\n",
    "        # First, try to parse the JSON directly\n",
    "        data = json.loads(json_string)\n",
    "        return json_string  # JSON is valid, return as is\n",
    "    except json.JSONDecodeError:\n",
    "        # If parsing fails, proceed to escape within string values selectively\n",
    "        pass\n",
    "\n",
    "    # Regex to identify string values in JSON: finds any content between double quotes\n",
    "    def escape_special_characters(match):\n",
    "        # Escapes problematic characters within the JSON value\n",
    "        value = match.group(0)\n",
    "        value = value.replace('\\\\', '\\\\\\\\')  # Escape backslashes\n",
    "        value = value.replace('\\n', '\\\\n')    # Escape newlines\n",
    "        value = value.replace('\\t', '\\\\t')    # Escape tabs\n",
    "        value = value.replace('\\r', '\\\\r')    # Escape carriage returns\n",
    "        value = value.replace('\"', '\\\\\"')     # Escape double quotes\n",
    "        return value\n",
    "\n",
    "    # Apply regex replacement only on JSON values enclosed in double quotes\n",
    "    repaired_json_string = re.sub(r'(?<=: \")(.*?)(?=\",|\"$)', escape_special_characters, json_string)\n",
    "\n",
    "    return repaired_json_string"
   ]
  },
  {
   "cell_type": "code",
   "execution_count": null,
   "metadata": {},
   "outputs": [],
   "source": [
    "# Repair the JSON string\n",
    "repaired_json_data = repair_json_string(output_test)\n",
    "\n",
    "# Now try parsing the repaired JSON string\n",
    "try:\n",
    "    data = json.loads(repaired_json_data)\n",
    "    print(\"JSON parsed successfully:\", data)\n",
    "except json.JSONDecodeError as e:\n",
    "    print(\"JSONDecodeError:\", e)"
   ]
  },
  {
   "cell_type": "code",
   "execution_count": null,
   "metadata": {},
   "outputs": [],
   "source": [
    "print(repaired_json_data)"
   ]
  },
  {
   "cell_type": "code",
   "execution_count": null,
   "metadata": {},
   "outputs": [],
   "source": [
    "import re\n",
    "problematic_chars = re.findall(r'[\\x00-\\x08\\x0b\\x0c\\x0e-\\x1f]', output_test)\n",
    "print(problematic_chars)"
   ]
  },
  {
   "cell_type": "code",
   "execution_count": null,
   "metadata": {},
   "outputs": [],
   "source": [
    "# data = json.loads(output_test)"
   ]
  },
  {
   "cell_type": "markdown",
   "metadata": {},
   "source": [
    "segment to test translation:"
   ]
  },
  {
   "cell_type": "markdown",
   "metadata": {},
   "source": [
    "<?xml version='1.0' encoding='UTF-8'?>\\n<document>\\n  <title>Phật-giáo Việt-nam 1956-24</title>\\n  <page page='1'>\\n    PHẬT GIÁO\\nVIỆT-NAM\\nNGUYỆT SAN\\nTÂM DỊCH THUẬT HẠN\\n\\nSỐ 24 RA NGÀY 15 THÁNG 8 NĂM MẬU TUẤT\\nHƯƠNG CÔNG HỘI PHẬT-GIÁO VIỆT-NAM XUẤT BẢN\\n  </page>\\n  <page page='2'>\\n    MỤC LỤC\\n\\nNguyệt-san « Phật-giáo Việt-nam »\\nĐỘI HAI TUỔI\\nP.G.V.N.\\n\\nNăng-lực bất-diệt\\ncủa tiềm thức\\nJadigha Kasyapa\\nNgài Huyền-Trang đi Ấn Độ\\nthỉnh Kinh (tiếp theo)\\nDương-đình-Phúc\\nThắc mắc -\\nPhương Bối\\nVui đời Đạo lý\\n(truyện ngắn được giải khuyến khích)\\nTài liệu về Gia đình Phật tử\\nĐi tìm Châu-lí\\nNi Phật-tử Marguerite La Fuente đã viên-tịch\\nTin Tức\\nKết quả cuộc thi giải trí Hợp thư Tòa-soạn\\nMinh-Trâm\\nNguyễn Khắc Từ\\nNguyễn-đức-Tương\\nP.G.V.N.\\nTHƯ DỊCH THUẬT\\nHUỆ QUANG\\n  </page>\\n  <page page='3'>\\n    HUỆ QUANG\\n\\n  </page>\\n  <page page='4'>\\n    PHẬT-GIÁO\\nVIỆT-NAM\\nĐỘI HAI TUỔI\\nVới số 24 này, Phật giáo Việt Nam nguyệt san đã được\\nhai tuổi. Ra đời giữa sự khó khăn về tài chánh riêng trong nội bộ\\nvà chịu ảnh hưởng của nền kinh tế chung, Phật-giáo Việt-nam đã\\nđược nếm cái mùi “tân khổ” ngay trong tuổi ấu thơ. Cuộc đời của\\nnó không ngờ lại khó khăn đến thế! Là con tinh thần của Tổng hội\\nPhật-giáo Việt-nam, khai sanh giữa Hội-nghị Phật-giáo, được sự\\nđỡ đầu của sáu tập đoàn đàn anh Trung, Nam, Bắc, ai cũng mừng\\nthầm cho nó sẽ có một cuộc đời sung túc. Nhưng có lẽ số kiếp nó\\nvất vả, nên người cha tinh thần thường hay ốm yếu và các đàn anh\\nđỡ đầu cũng luôn luôn bận rộn với đời sống riêng, ít có cơ hội săn\\nsóc đến nó.\\nNhưng đã được cái vinh hạnh là con đẻ của Tổng-hội Phật\\n-giáo Việt-nam, là em đỡ đầu của các tập đoàn Phật giáo đàn anh\\ntrong ba phần, nó phải sớm tự lập, nỗ lực xây dựng đời sống của\\nmình sao cho khỏi thẹn mặt cha, anh. Tuy còn thơ ấu, nó đã nhận\\nthức được sứ mệnh quan trọng của mình là phải bảo vệ, nâng đỡ\\nngười cha ốm yếu, kêu gọi sự đoàn kết chặt chẽ giữa các anh em\\ncùng một huyết thống, một lý tưởng, nêu cao ngọn cờ Chánh Pháp.\\nnói lên tiếng nói thành khẩn, đúng đắn của đức Bổn Sư.\\nPHẬT-GIÁO VIỆT NAM\\n\\nTHƯ DỊCH THUẬT\\nHUỆ QUANG\\n  </page>\\n</document>\n"
   ]
  },
  {
   "cell_type": "markdown",
   "metadata": {},
   "source": [
    "translation prompt:\n"
   ]
  },
  {
   "cell_type": "markdown",
   "metadata": {},
   "source": [
    "You are Thich Nhat Hanh. You are translating Vietnamese to English for your students, from your own writings. The text is from a 1956-1958 Buddhist Journal you edited. The data is given in xml format. Give a full translation in xml format that reads well in English and is well formatted. You may add additinal xml metadata tags where it will improve the the readability and clarity of the content. You want your students to understand the material well. Make no additions or commentary within the text itself. Leave all proper names in original vietnamese with diacritics. Do not translate foreign language terms (such as sanskrit or french) but rather give explanations for these terms in the footnotes. Each page of text should have it's own footnote section which explains any important or interesting elements of the text, and also which clearly explains any key terms in the text. The footnotes should point out any inconsistencies, alternate translations, or possible errors in the text. Footnotes should be added to the text using the standard notation, e.g.[1] and should have tag <footnote number=\"n\"> surrounding it. Footnote numbers should restart at 1 for each new page."
   ]
  },
  {
   "cell_type": "code",
   "execution_count": null,
   "metadata": {},
   "outputs": [],
   "source": [
    "token_count(raw_text_xml)"
   ]
  },
  {
   "cell_type": "markdown",
   "metadata": {},
   "source": [
    "cleaning prompts:\n",
    "\n",
    "You are an intelligent, meticulous, and consistent world expert at cleaning OCR generated Vietnamese text. You are cleaning text from an old 1950's Buddhist Journal.  The text will be given in XML, and the output text should be matching XML. Your goal is to minimally modify the text to generate a cleaned version, removing extraneous text, incomplete words, and formatting markers, to get a clean text. You can use patterns in the text blocks (given in pages) to infer patterns in the text layout. You can use the semantic meaning of the text to infer corrections but strive to make minimal semantic changes. You can also add diacritical marks if they are missing or clearly inaccurate. It's important to note the degree of confidence you have in each cleaning step, and each cleaning step should be noted, with other possible interpretations listed.\n",
    "\n",
    "You are an intelligent, meticulous, and consistent world expert at cleaning OCR-generated Vietnamese text. You are cleaning text from an old 1950's Buddhist Journal.  The text will be given in XML, and the output text should be in matching XML. Your goal is to minimally modify the text to generate a cleaned version, removing extraneous text, incomplete words, and formatting markers, to get a clean text. You can use patterns in the text blocks (given by page) to infer patterns in the text layout. You can use the semantic meaning of the text to infer corrections—but strive to make minimal semantic changes. You can also add diacritical marks if they are missing or clearly inaccurate. It's important to note the degree of confidence you have in each cleaning step, and each cleaning step should be noted as concisely as possible, also listing other possible interpretations of the text.\n",
    "\n",
    "You are an intelligent, meticulous, and consistent world expert at cleaning OCR-generated Vietnamese text. You are cleaning text from a 1950's Buddhist Journal. The text will be given in XML, and the output text should be in matching XML. Your goal is to minimally modify the text to generate a cleaned version. Do not remove any text from the body of the text (unless it is clearly an extraneous mark). Any text that cannot be corrected from context or other means should still be included as bracketed [] text. However, formatting markers at the beginning and end of the text can be adjusted or removed as needed. You can use patterns in the text blocks (given by page) to infer patterns in the text layout. You can use the semantic meaning of the text to infer corrections—but strive to make no semantic changes. You can also add diacritical marks if they are missing or clearly inaccurate. It's important to note the degree of confidence you have in each cleaning step (high, medium or low). Each cleaning step should be noted as concisely as possible, also listing other possible interpretations of the text. This particular text has a publication marker \"Phat Giao Viet Nam\" and publishing mark near the end of each page of text. The publication mark is something like \"Tu Vien HUE QUANG\" and is very difficult for the OCR to process. Text corresponding to these marks can be ommitted.\n",
    "\n",
    "You are an intelligent, meticulous, and consistent world expert at cleaning OCR-generated Vietnamese text. You are cleaning text from a 1950's Buddhist Journal. The text will be given in XML, and the output text should be in matching XML. Your goal is to minimally modify the text to generate a cleaned version. Do not remove any text from the body of the text (unless it is clearly an extraneous mark). Any text that cannot be corrected from context or other means should still be included as bracketed [] text. However, formatting markers at the beginning and end of the text can be adjusted or removed as needed. You can use patterns in the text blocks (given by page) to infer patterns in the text layout. You can use the semantic meaning of the text to infer corrections—but strive to make no semantic changes. You can also add diacritical marks if they are missing or clearly inaccurate. It's important to note the degree of confidence you have in each cleaning step (high, medium or low). Each cleaning step should be noted as concisely as possible, also listing other possible interpretations of the text. This particular text has a title marker \"Phat Giao Viet Nam\" and publishing mark near the end of each page of text. The publication mark is something like \"Tu Vien HUE QUANG\" + \"TRUNG TAM DICH THUAT HAN NOM\" and is very difficult for the OCR to process. Text corresponding to these marks and page numbers can be ommitted."
   ]
  },
  {
   "cell_type": "code",
   "execution_count": null,
   "metadata": {},
   "outputs": [],
   "source": [
    "def split_xml_text(text, chunk_token_limit=10000):\n",
    "    \"\"\"\n",
    "    Splits an XML document into chunks based on <page> tags, ensuring that no chunk\n",
    "    exceeds the specified token limit.\n",
    "    \n",
    "    Parameters:\n",
    "    - text (str): The XML document as a string.\n",
    "    - chunk_token_limit (int): The maximum number of tokens allowed per chunk.\n",
    "    \n",
    "    Returns:\n",
    "    - List[str]: A list of XML strings, each representing a chunk of pages.\n",
    "    \"\"\"\n",
    "    \n",
    "    # Parse the XML text into an element tree\n",
    "    # Convert text to bytes\n",
    "    text_bytes = text.encode(\"utf-8\")\n",
    "\n",
    "    root = etree.fromstring(text_bytes)\n",
    "    \n",
    "    # Initialize variables for splitting the document\n",
    "    chunks = []\n",
    "    current_chunk = []\n",
    "    current_token_count = 0\n",
    "    \n",
    "    # Iterate over each <page> element in the document\n",
    "    for page in root.findall(\".//page\"):\n",
    "        # Convert the current page element back to a string for token counting\n",
    "        page_text = etree.tostring(page, encoding=\"unicode\")\n",
    "        \n",
    "        # Count the tokens in the page\n",
    "        page_token_count = token_count(page_text)\n",
    "        \n",
    "        # Check if adding this page would exceed the token limit for the current chunk\n",
    "        if current_token_count + page_token_count > chunk_token_limit:\n",
    "            # If so, finalize the current chunk and start a new one\n",
    "            chunks.append(\"<document>\" + \"\".join(current_chunk) + \"</document>\")\n",
    "            current_chunk = []\n",
    "            current_token_count = 0\n",
    "            \n",
    "        # Add the current page to the chunk\n",
    "        current_chunk.append(page_text)\n",
    "        current_token_count += page_token_count\n",
    "    \n",
    "    # Add the last chunk if there are remaining pages\n",
    "    if current_chunk:\n",
    "        chunks.append(\"<document>\" + \"\".join(current_chunk) + \"</document>\")\n",
    "    \n",
    "    return chunks\n",
    "\n",
    "# Example usage:\n",
    "# xml_text = \"\"\"<?xml version='1.0' encoding='UTF-8'?><document><title>Phật-giáo Việt-nam 1956-24</title><page page='1'>...</page><page page='2'>...</page>...</document>\"\"\"\n",
    "# chunks = split_xml_text(xml_text)\n",
    "\n",
    "# Each item in `chunks` is an XML document string within the token limit"
   ]
  },
  {
   "cell_type": "code",
   "execution_count": null,
   "metadata": {},
   "outputs": [],
   "source": [
    "chunks = split_xml_text(raw_text_xml, chunk_token_limit=5000)"
   ]
  },
  {
   "cell_type": "code",
   "execution_count": null,
   "metadata": {},
   "outputs": [],
   "source": [
    "print(chunks[0])"
   ]
  },
  {
   "cell_type": "code",
   "execution_count": null,
   "metadata": {},
   "outputs": [],
   "source": []
  },
  {
   "cell_type": "markdown",
   "metadata": {},
   "source": [
    "# old system cleaing message:\n",
    "\n",
    " \"\"\"\n",
    "You are an intelligent, meticulous, and consistent world expert at cleaning OCR-generated Vietnamese text. \n",
    "You are cleaning text from a 1950's Buddhist Journal. The text will be given in XML, and the output text should be in matching XML. \n",
    "Your goal is to minimally modify the text to generate a cleaned version. Do not remove any text from the main body of the text.  \n",
    "However, formatting markers at the beginning and end of the text can be adjusted or removed as needed for clarity. \n",
    "You can use patterns in the text blocks (given by page) to infer patterns in the text.\n",
    "You can use the semantic meaning of the text to infer corrections—but make no semantic changes. \n",
    "You can also add diacritical marks if they are missing or clearly inaccurate. \n",
    "Do not change any proper names, except to add missing diacritical marks if the context is clear.  \n",
    "Each cleaning step should be noted with an example and page reference and should list any other possible interpretations of the text.\n",
    "Note the degree of confidence you have in each cleaning step (3 high, 2 medium or 1 low). \n",
    "This particular text has a title marker: \"Phat Giao Viet Nam,\" and also a publishing mark near the end of each page of text. \n",
    "The publishing mark is something like \"Tu Vien HUE QUANG\" + \"TRUNG TAM DICH THUAT HAN NOM\" and is very difficult for the OCR to process. \n",
    "Text corresponding to these marks (or part thereof) and page numbers can be omitted.\n",
    "Provide output in JSON format:\n",
    "{\n",
    "    \"type\": \"object\",\n",
    "    \"properties\": {\n",
    "        \"cleaned_text\": {\n",
    "            \"type\": \"string\",\n",
    "            \"description\": \"The final cleaned text after all specified cleaning steps have been applied.\"\n",
    "        },\n",
    "        \"cleaning_steps\": {\n",
    "            \"type\": \"array\",\n",
    "            \"items\": {\n",
    "                \"type\": \"object\",\n",
    "                \"properties\": {\n",
    "                    \"cleaning_step\": {\n",
    "                        \"type\": \"object\",\n",
    "                        \"properties\": {\n",
    "                            \"description\": {\n",
    "                                \"type\": \"string\",\n",
    "                                \"description\": \"A clear, detailed explanation of the specific cleaning step applied, with page numbers indicating where corrections were made.\"\n",
    "                            },\n",
    "                            \"text_example\": {\n",
    "                                \"type\": \"string\",\n",
    "                                \"description\": \"An example fragment of the text before and after cleaning, showing the result of this step.\"\n",
    "                            },\n",
    "                            \"confidence_level\": {\n",
    "                                \"type\": \"integer\",\n",
    "                                \"enum\": [1, 2, 3],\n",
    "                                \"description\": \"Confidence level of the correction: 3 for high confidence, 2 for medium confidence, 1 for low confidence.\"\n",
    "                            }\n",
    "                        },\n",
    "                        \"required\": [\"description\", \"text_example\", \"confidence_level\"]\n",
    "                    }\n",
    "                }\n",
    "            }\n",
    "        }\n",
    "    },\n",
    "    \"required\": [\"cleaned_text\", \"cleaning_steps\"]\n",
    "}\n",
    "Only return valid JSON; avoid comments or non-JSON text.\n",
    "\"\"\""
   ]
  },
  {
   "cell_type": "code",
   "execution_count": null,
   "metadata": {},
   "outputs": [],
   "source": [
    "system_message_clean = \"\"\"\n",
    "You are an intelligent, meticulous, and consistent world expert at cleaning OCR-generated Vietnamese text. \n",
    "You are cleaning text from a 1950's Buddhist Journal. The text will be given in XML, and the output text should be in matching XML. \n",
    "Your goal is to minimally modify the text to generate a cleaned version. Do not remove any text from the main body of the text.  \n",
    "However, formatting markers at the beginning and end of the text can be adjusted or removed as needed for clarity. \n",
    "You can use patterns in the text blocks (given by page) to infer patterns in the text.\n",
    "You can use the semantic meaning of the text to infer corrections—but make no semantic changes. \n",
    "You can also add diacritical marks if they are missing or clearly inaccurate. \n",
    "Do not change any proper names, except to add missing diacritical marks if the context is clear.  \n",
    "This particular text has a title marker: \"Phat Giao Viet Nam,\" and also a publishing mark near the end of each page of text. \n",
    "The publishing mark is something like \"Tu Vien HUE QUANG\" + \"TRUNG TAM DICH THUAT HAN NOM\" and is very difficult for the OCR to process. \n",
    "Text corresponding to these marks (or part thereof) and page numbers can be omitted.\n",
    "Output the corrected text only with no comments.\n",
    "\"\"\""
   ]
  },
  {
   "cell_type": "code",
   "execution_count": null,
   "metadata": {},
   "outputs": [],
   "source": [
    "token_count(system_message_clean)"
   ]
  },
  {
   "cell_type": "code",
   "execution_count": null,
   "metadata": {},
   "outputs": [],
   "source": [
    "306 / 10000"
   ]
  },
  {
   "cell_type": "code",
   "execution_count": null,
   "metadata": {},
   "outputs": [],
   "source": [
    "user_message_string_clean = \"\"\"Clean this text: {text}\"\"\""
   ]
  },
  {
   "cell_type": "code",
   "execution_count": null,
   "metadata": {},
   "outputs": [],
   "source": [
    "def user_wrap_function_clean(text_block):\n",
    "    return user_message_string_clean.format(text=text_block)"
   ]
  },
  {
   "cell_type": "code",
   "execution_count": null,
   "metadata": {},
   "outputs": [],
   "source": [
    "message_sequence_clean = generate_messages(system_message_clean, user_wrap_function_clean, chunks)"
   ]
  },
  {
   "cell_type": "code",
   "execution_count": null,
   "metadata": {},
   "outputs": [],
   "source": [
    "message_sequence_clean[0]"
   ]
  },
  {
   "cell_type": "code",
   "execution_count": null,
   "metadata": {},
   "outputs": [],
   "source": [
    "print(system_message_clean)"
   ]
  },
  {
   "cell_type": "code",
   "execution_count": null,
   "metadata": {},
   "outputs": [],
   "source": [
    "set_api_client()"
   ]
  },
  {
   "cell_type": "code",
   "execution_count": null,
   "metadata": {},
   "outputs": [],
   "source": [
    "get_api_client()"
   ]
  },
  {
   "cell_type": "code",
   "execution_count": null,
   "metadata": {},
   "outputs": [],
   "source": [
    "from pydantic import BaseModel, Field\n",
    "from typing import List\n",
    "\n",
    "class CleaningStep(BaseModel):\n",
    "    step_description: str = Field(\n",
    "        ..., \n",
    "        description=\"A clear, detailed explanation of the specific cleaning step applied, with page numbers indicating where corrections were made.\"\n",
    "    )\n",
    "    text_example: str = Field(\n",
    "        ..., \n",
    "        description=\"An example fragment of the text before and after cleaning, showing the result of this step.\"\n",
    "    )\n",
    "    confidence_level: int = Field(\n",
    "        ..., \n",
    "        description=\"Confidence level of the correction: 3 for high confidence, 2 for medium confidence, 1 for low confidence.\"\n",
    "    )\n",
    "\n",
    "class TextCleaningResponse(BaseModel):\n",
    "    cleaned_text: str = Field(\n",
    "        ..., \n",
    "        description=\"The final cleaned text after all specified cleaning steps have been applied.\"\n",
    "    )\n",
    "    cleaning_steps: List[CleaningStep] = Field(\n",
    "        ..., \n",
    "        description=\"An ordered list of steps detailing each action taken to clean the text, including descriptions and confidence levels.\"\n",
    "    )"
   ]
  },
  {
   "cell_type": "code",
   "execution_count": null,
   "metadata": {},
   "outputs": [],
   "source": [
    "completion_clean = run_immediate_chat_process(message_sequence_clean[0], response_object=TextCleaningResponse)"
   ]
  },
  {
   "cell_type": "code",
   "execution_count": null,
   "metadata": {},
   "outputs": [],
   "source": [
    "completion_clean"
   ]
  },
  {
   "cell_type": "code",
   "execution_count": null,
   "metadata": {},
   "outputs": [],
   "source": [
    "response_clean = completion_clean.choices[0].message.parsed"
   ]
  },
  {
   "cell_type": "code",
   "execution_count": null,
   "metadata": {},
   "outputs": [],
   "source": [
    "response_clean"
   ]
  },
  {
   "cell_type": "code",
   "execution_count": null,
   "metadata": {},
   "outputs": [],
   "source": [
    "response_clean.cleaned_text"
   ]
  },
  {
   "cell_type": "code",
   "execution_count": null,
   "metadata": {},
   "outputs": [],
   "source": [
    "response_clean.cleaning_steps"
   ]
  },
  {
   "cell_type": "code",
   "execution_count": null,
   "metadata": {},
   "outputs": [],
   "source": [
    "system_message_translate = \"\"\"\n",
    "You are translating as Thich Nhat Hanh from Vietnamese to English for your experienced students. \n",
    "The text is from a 1956-1958. Use the title: \"Journal of Buddhism in Vietnam.\" You want your students to understand the material well.\n",
    "\n",
    "- Give a full translation that flows well in English according to Thich Nhat Hanh's style and is well formatted. \n",
    "- Add additional standard xml metadata tags where it will improve the the readability and clarity of the content. Examples: <p> <section> <title> <contents> <author> <li> <i> <b> etc.\n",
    "- Titles and XML sections should also be translated.\n",
    "- Do not make commentary within the text itself. \n",
    "- Leave all names of people in original Vietnamese with diacritics. \n",
    "- When translating complex terms (Sanskrit, Sino-Vietnamese, or French) mark these with <i></i> tags and give the meaning in the footnotes.  \n",
    "- For any terms footnoted, give the original Vietnamese, Sino-Vietnamese, Sanskrit, or French in the footnote. \n",
    "- Each <page> of text should have its own dedicated `<footnotes>` section.\n",
    "- Footnotes which explains elements of translation, elements of Vietnamese Buddhism, elements of Buddhism or spiritual practice, elements of Vietnamese culture, or elements relative to the life, teachings and practice of Thich Nhat Hanh's.\n",
    "- If a paragraph logically spans two pages, then it can be moved into the most logical page to allow translation to flow seamlessly.\n",
    "- Due to the size of the journal, you may be translating a piece of the document in the middle which will be split from it's preceding pages or sections. These translated sections will be joined later. \n",
    "\n",
    "Footnote Formatting:\n",
    "Inline Footnote Markers:\n",
    "   - In the main text, footnotes should be marked using a numerical format in brackets, such as “[1]”.\n",
    "   - Enclose each inline footnote marker within a `<footnote number=\"n\">` tag, where `n` is the footnote number.\n",
    "   - Example:\n",
    "     `<p>This paragraph has a footnote. This is some more text in the paragraph.</p><footnote number=\"1\">[1]</footnote>`\n",
    "\n",
    "Footnote Section for Each Page:\n",
    "   - At the end of each page, include a `<footnotes>` section where explanations for each footnote on that page are listed.\n",
    "   - Footnotes should address any of the following:\n",
    "     - Complex terms or phrases, complex or interesting points or teachings.\n",
    "     - Alternate translations for phrases or terms.\n",
    "     - Possible errors or ambiguities that may need clarification.\n",
    "   - Each explanation in the `<footnotes>` section should use a `<footnote number=\"n\">` tag, with `n` matching the inline reference.\n",
    "\n",
    "Numbering:\n",
    "   - Footnote numbers should restart at 1 for each new page of text.\n",
    "\n",
    "Here's an example of a page with text containing two footnotes, followed by its `<footnotes>`:\n",
    "\n",
    "`<p>This is the first sentence with a footnote.<footnote number=\"1\">[1]</footnote> Here is another statement that needs a footnote.<footnote number=\"2\">[2]</footnote></p>`\n",
    "\n",
    "`<footnotes>`\n",
    "    `<footnote number=\"1\">This is the explanation of the first footnote</footnote>`\n",
    "    `<footnote number=\"2\">This is the explanation of the second footnote</footnote>`\n",
    "`</footnotes>` \n",
    "\"\"\""
   ]
  },
  {
   "cell_type": "code",
   "execution_count": null,
   "metadata": {},
   "outputs": [],
   "source": [
    "class Footnote(BaseModel):\n",
    "    footnote_page: int = Field(\n",
    "         ..., \n",
    "        description=\"Footnote page number. The page on which this footnote is listed.\"\n",
    "    )\n",
    "    footnote_number: int = Field(\n",
    "        ..., \n",
    "        description=\"The footnote number within the page.\"\n",
    "    )\n",
    "    text: str = Field(\n",
    "        ..., \n",
    "        description=\"The text of the footnote.\"\n",
    "    )\n",
    "\n",
    "class TranslatedResponse(BaseModel):\n",
    "    translated_xml_text: str = Field(\n",
    "        ..., \n",
    "        description=\"The final translated xml text with complete tags, including footnote tags and sections.\"\n",
    "    )\n",
    "    footnotes: List[Footnote] = Field(\n",
    "        ..., \n",
    "        description=\"An ordered list of all footnotes in the entire translated document.\"\n",
    "    )"
   ]
  },
  {
   "cell_type": "code",
   "execution_count": null,
   "metadata": {},
   "outputs": [],
   "source": [
    "user_message_string_translate = \"\"\"{text}\"\"\""
   ]
  },
  {
   "cell_type": "code",
   "execution_count": null,
   "metadata": {},
   "outputs": [],
   "source": [
    "def user_wrap_function_translate(text_block):\n",
    "    return user_message_string_translate.format(text=text_block)"
   ]
  },
  {
   "cell_type": "code",
   "execution_count": null,
   "metadata": {},
   "outputs": [],
   "source": [
    "response_clean"
   ]
  },
  {
   "cell_type": "code",
   "execution_count": null,
   "metadata": {},
   "outputs": [],
   "source": [
    "response_clean.cleaned_text"
   ]
  },
  {
   "cell_type": "code",
   "execution_count": null,
   "metadata": {},
   "outputs": [],
   "source": [
    "print(response_clean.cleaned_text)"
   ]
  },
  {
   "cell_type": "code",
   "execution_count": null,
   "metadata": {},
   "outputs": [],
   "source": [
    "cleaned = \"\"\"<document><page page=\"1\">PHẬT GIÁO VIỆT-NAM NGUYỆT SAN SỐ 24 RA NGÀY 15 THÁNG 8 NĂM MẬU - TUẤT HƯƠNG CÔNG HỘI PHẬT - GIÁO VIỆT-NAM XUẤT BẢN</page><page page=\"2\">MỤC LỤC Nguyệt-san « Phật-giáo Việt-nam » đầy hai tuổi P.G.V.N. Năng lực bất diệt của tiềm thức Ngài Huyền-Trang đi Ấn Độ thỉnh Kinh (tiếp theo) Dương-đình-Phúc Thắc mắc - Phương Bối Vui đời Đạo lý (truyện ngắn được giải khuyến khích) Tài liệu về Gia đình Phật tử Đi tìm Châu-lị Ni Phật tử Marguerite La Fuente đã viên tịch Tin Tức Kết quả cuộc thi giải trí Hợp thể Tòa-soạn Minh-Trâm Nguyễn Khắc Từ Nguyễn-đức-Tương P.G.V.N.</page><page page=\"3\"></page><page page=\"4\">PHẬT-GIÁO VIỆT-NAM ĐẦY HAI TUỔI Với số 24 này, Phật giáo Việt nam nguyệt san đã được hai tuổi. Ra đời giữa sự khó khăn về tài chánh riêng trong nội bộ và chịu ảnh hưởng của nền kinh tế chung, Phật-giáo Việt-nam đã được nếm cái mùi “tân khổ” ngay trong tuổi ấu thơ. Cuộc đời của nó không ngờ lại khó khăn đến thế! Là con tinh thần của Tổng hội Phật-giáo Việt-nam, khai sinh giữa Hội nghị Phật-giáo, được sự đỡ đầu của sáu tập đoàn đàn anh Trung, Nam, Bắc, ai cũng mừng thầm cho nó sẽ có một cuộc đời sung túc. Nhưng có lẽ số kiếp nó vất vả, nên người cha tinh thần thường hay ốm yếu và các đàn anh đỡ đầu cũng luôn luôn bận rộn với đời sống riêng, ít có cơ hội săn sóc đến nó. Nhưng đã được cái vinh hạnh là con đẻ của Tổng-hội Phật-giáo Việt-nam, là em đỡ đầu của các tập đoàn Phật giáo đàn anh trong ba phần, nó phải sớm tự lập, nỗ lực xây dựng đời sống của mình sao cho khỏi thẹn mặt cha, anh. Tuy còn thơ ấu, nó đã nhận thức được sứ mệnh quan trọng của mình là phải bảo vệ, nâng đỡ người cha ốm yếu, kêu gọi sự đoàn kết chặt chẽ giữa các anh em cùng một huyết thống, một lý tưởng, nêu cao ngọn cờ Chánh Pháp, nói lên tiếng nói thành khẩn, đúng đắn của đức Bổn sự.</page></document>\"\"\""
   ]
  },
  {
   "cell_type": "code",
   "execution_count": null,
   "metadata": {},
   "outputs": [],
   "source": [
    "message_sequence_translate = generate_messages(system_message_translate, user_wrap_function_translate, [response_clean.cleaned_text])"
   ]
  },
  {
   "cell_type": "code",
   "execution_count": null,
   "metadata": {},
   "outputs": [],
   "source": [
    "message_sequence_translate[0]"
   ]
  },
  {
   "cell_type": "code",
   "execution_count": null,
   "metadata": {},
   "outputs": [],
   "source": [
    "token_count(response_clean.cleaned_text)"
   ]
  },
  {
   "cell_type": "code",
   "execution_count": null,
   "metadata": {},
   "outputs": [],
   "source": [
    "token_count(chunks[0])"
   ]
  },
  {
   "cell_type": "code",
   "execution_count": null,
   "metadata": {},
   "outputs": [],
   "source": [
    "completion_translate = run_immediate_chat_process(message_sequence_translate[0])"
   ]
  },
  {
   "cell_type": "code",
   "execution_count": null,
   "metadata": {},
   "outputs": [],
   "source": [
    "completion_translate"
   ]
  },
  {
   "cell_type": "code",
   "execution_count": null,
   "metadata": {},
   "outputs": [],
   "source": [
    "response_translate = completion_translate.choices[0].message.content"
   ]
  },
  {
   "cell_type": "code",
   "execution_count": null,
   "metadata": {},
   "outputs": [],
   "source": [
    "print(response_translate)"
   ]
  },
  {
   "cell_type": "code",
   "execution_count": null,
   "metadata": {},
   "outputs": [],
   "source": [
    "# write_text_to_file(\"first_tx.xml\", response_translate)"
   ]
  },
  {
   "cell_type": "code",
   "execution_count": null,
   "metadata": {},
   "outputs": [],
   "source": [
    "chunks = split_xml_text(raw_text_xml, chunk_token_limit=11000)\n",
    "[token_count(chunk) for chunk in chunks]"
   ]
  },
  {
   "cell_type": "code",
   "execution_count": null,
   "metadata": {},
   "outputs": [],
   "source": [
    "chunks = split_xml_text(raw_text_xml, chunk_token_limit=11000)\n",
    "clean_message_seq = generate_messages(system_message_clean, user_wrap_function_clean, chunks)\n",
    "cleaned_data = []\n",
    "translated_chunks = []\n",
    "for i, msgs in enumerate(clean_message_seq):\n",
    "    print(f\"cleaning chunk: {i}\")\n",
    "    completion_clean = run_immediate_chat_process(msgs)\n",
    "    if completion_clean:\n",
    "        clean_response = completion_clean.choices[0].message.content\n",
    "        cleaned_data.append(clean_response)\n",
    "    else:\n",
    "        break\n",
    "        print(\"failed.\")\n",
    "\n"
   ]
  },
  {
   "cell_type": "code",
   "execution_count": null,
   "metadata": {},
   "outputs": [],
   "source": [
    "for datum in cleaned_data:\n",
    "    print(datum)\n",
    "    "
   ]
  },
  {
   "cell_type": "code",
   "execution_count": null,
   "metadata": {},
   "outputs": [],
   "source": [
    "full_cleaned_text = cleaned_data[0] + cleaned_data[1] + cleaned_data[2]"
   ]
  },
  {
   "cell_type": "code",
   "execution_count": null,
   "metadata": {},
   "outputs": [],
   "source": [
    "print(cleaned_data[2])"
   ]
  },
  {
   "cell_type": "code",
   "execution_count": null,
   "metadata": {},
   "outputs": [],
   "source": [
    "token_count(full_cleaned_text)"
   ]
  },
  {
   "cell_type": "code",
   "execution_count": null,
   "metadata": {},
   "outputs": [],
   "source": [
    "token_count(cleaned_data[0])"
   ]
  },
  {
   "cell_type": "code",
   "execution_count": null,
   "metadata": {},
   "outputs": [],
   "source": [
    "translation_data = []\n",
    "cleaned_input_text = cleaned_data\n",
    "translation_message_seq = generate_messages(system_message_translate, user_wrap_function_translate, cleaned_input_text)\n",
    "for i, tx_msgs in enumerate(translation_message_seq):\n",
    "    print(f\"translating chunk: {i}\")\n",
    "    completion_tx = run_immediate_chat_process(tx_msgs)\n",
    "    if completion_tx:\n",
    "        tx_response = completion_tx.choices[0].message.content\n",
    "        translation_data.append(tx_response)\n",
    "    else:\n",
    "        print(\"failed.\")\n",
    "        break"
   ]
  },
  {
   "cell_type": "code",
   "execution_count": null,
   "metadata": {},
   "outputs": [],
   "source": [
    "print(translation_data[0])"
   ]
  },
  {
   "cell_type": "code",
   "execution_count": null,
   "metadata": {},
   "outputs": [],
   "source": [
    "full_translated_text = \"\\n\".join(translation_data)"
   ]
  },
  {
   "cell_type": "code",
   "execution_count": null,
   "metadata": {},
   "outputs": [],
   "source": [
    "write_text_to_file(\"journal_1956_24_translation_full.xml\", full_translated_text)"
   ]
  },
  {
   "cell_type": "code",
   "execution_count": null,
   "metadata": {},
   "outputs": [],
   "source": [
    "# response_schema = {\n",
    "#   \"name\": \"text_cleaning\",\n",
    "#   \"strict\": True,\n",
    "#   \"schema\": {\n",
    "#     \"type\": \"object\",\n",
    "#     \"properties\": {\n",
    "#       \"cleaned_text\": {\n",
    "#         \"type\": \"string\",\n",
    "#         \"description\": \"The resulting cleaned text after applying all cleaning steps.\"\n",
    "#       },\n",
    "#       \"cleaning_steps\": {\n",
    "#         \"type\": \"array\",\n",
    "#         \"description\": \"A series of notes that explain each step taken to clean the input text.\",\n",
    "#         \"items\": {\n",
    "#           \"type\": \"object\",\n",
    "#           \"properties\": {\n",
    "#             \"step_description\": {\n",
    "#               \"type\": \"string\",\n",
    "#               \"description\": \"A detailed description of the cleaning step.\"\n",
    "#             },\n",
    "#             \"text_example\": {\n",
    "#               \"type\": \"string\",\n",
    "#               \"description\": \"an example fragment of text that was corrected.\"\n",
    "#             },\n",
    "#             \"confidence_level\": {\n",
    "#               \"type\": \"integer\",\n",
    "#               \"description\": \"3 for high confidence, 2 for medium, 1 for low confidence corrections.\"\n",
    "#             }\n",
    "#           },\n",
    "#           \"required\": [\n",
    "#             \"step_description\",\n",
    "#             \"text_example\",\n",
    "#             \"confidence_level\"\n",
    "#           ],\n",
    "#           \"additionalProperties\": False\n",
    "#         }\n",
    "#       }\n",
    "#     },\n",
    "#     \"required\": [\n",
    "#       \"cleaned_text\",\n",
    "#       \"cleaning_steps\"\n",
    "#     ],\n",
    "#     \"additionalProperties\": False\n",
    "#   }\n",
    "# }"
   ]
  }
 ],
 "metadata": {
  "kernelspec": {
   "display_name": "tnh-scholar",
   "language": "python",
   "name": "python3"
  },
  "language_info": {
   "codemirror_mode": {
    "name": "ipython",
    "version": 3
   },
   "file_extension": ".py",
   "mimetype": "text/x-python",
   "name": "python",
   "nbconvert_exporter": "python",
   "pygments_lexer": "ipython3",
   "version": "3.11.10"
  }
 },
 "nbformat": 4,
 "nbformat_minor": 2
}
