{
 "cells": [
  {
   "cell_type": "code",
   "execution_count": 1,
   "metadata": {},
   "outputs": [],
   "source": [
    "%load_ext autoreload\n",
    "%autoreload 2"
   ]
  },
  {
   "cell_type": "code",
   "execution_count": 2,
   "metadata": {
    "trusted": false
   },
   "outputs": [],
   "source": [
    "from lxml import etree\n",
    "%aimport json\n",
    "from pathlib import Path\n",
    "%aimport re\n",
    "from typing import List, Dict\n",
    "%aimport os"
   ]
  },
  {
   "cell_type": "code",
   "execution_count": 3,
   "metadata": {
    "trusted": false
   },
   "outputs": [],
   "source": [
    "from data_processing.text_processing import get_text_from_file, set_working_directory, get_working_directory\n",
    "from data_processing.text_processing import normalize_quotes"
   ]
  },
  {
   "cell_type": "code",
   "execution_count": 4,
   "metadata": {
    "trusted": false
   },
   "outputs": [],
   "source": [
    "from data_processing.text_processing import write_text_to_file"
   ]
  },
  {
   "cell_type": "code",
   "execution_count": 42,
   "metadata": {
    "trusted": false
   },
   "outputs": [],
   "source": [
    "from data_processing.gpt_processing import token_count, set_api_client, get_api_client, get_active_batches\n",
    "from data_processing.gpt_processing import generate_messages, run_immediate_chat_process, create_jsonl_file_for_batch, start_batch\n",
    "from data_processing.gpt_processing import get_completed_batches, get_batch_response\n"
   ]
  },
  {
   "cell_type": "code",
   "execution_count": 6,
   "metadata": {
    "trusted": false
   },
   "outputs": [],
   "source": [
    "CHUNK_TOKEN_LIMIT = 15000"
   ]
  },
  {
   "cell_type": "code",
   "execution_count": 7,
   "metadata": {},
   "outputs": [],
   "source": [
    "def split_xml_text(text, chunk_token_limit=CHUNK_TOKEN_LIMIT):\n",
    "    \"\"\"\n",
    "    Splits an XML document into chunks based on <page> tags, ensuring that no chunk\n",
    "    exceeds the specified token limit.\n",
    "    \n",
    "    Parameters:\n",
    "    - text (str): The XML document as a string.\n",
    "    - chunk_token_limit (int): The maximum number of tokens allowed per chunk.\n",
    "    \n",
    "    Returns:\n",
    "    - List[str]: A list of XML strings, each representing a chunk of pages.\n",
    "    \"\"\"\n",
    "    \n",
    "    # Convert text to bytes\n",
    "    text_bytes = text.encode(\"utf-8\")\n",
    "    \n",
    "    try:\n",
    "        # Parse the XML text into an element tree\n",
    "        root = etree.fromstring(text_bytes)\n",
    "    except etree.XMLSyntaxError as e:\n",
    "        # Extract the line number and column number of the error\n",
    "        line_number = e.lineno\n",
    "        column_number = e.offset\n",
    "        \n",
    "        # Find the offending line in the original text\n",
    "        lines = text.splitlines()\n",
    "        error_line = lines[line_number - 1] if line_number - 1 < len(lines) else \"Unknown line\"\n",
    "        \n",
    "        print(f\"XMLSyntaxError: {e}\")\n",
    "        print(f\"Offending line {line_number}, column {column_number}: {error_line}\")\n",
    "        return []  # Return an empty list or handle the error as needed\n",
    "    \n",
    "    # Initialize variables for splitting the document\n",
    "    chunks = []\n",
    "    current_chunk = []\n",
    "    current_token_count = 0\n",
    "    \n",
    "    # Iterate over each <page> element in the document\n",
    "    for page in root.findall(\".//page\"):\n",
    "        # Convert the current page element back to a string for token counting\n",
    "        page_text = etree.tostring(page, encoding=\"unicode\")\n",
    "        \n",
    "        # Count the tokens in the page\n",
    "        page_token_count = token_count(page_text)\n",
    "        \n",
    "        # Check if adding this page would exceed the token limit for the current chunk\n",
    "        if current_token_count + page_token_count > chunk_token_limit:\n",
    "            # If so, finalize the current chunk and start a new one\n",
    "            chunks.append(\"<document>\" + \"\".join(current_chunk) + \"</document>\")\n",
    "            current_chunk = []\n",
    "            current_token_count = 0\n",
    "            \n",
    "        # Add the current page to the chunk\n",
    "        current_chunk.append(page_text)\n",
    "        current_token_count += page_token_count\n",
    "    \n",
    "    # Add the last chunk if there are remaining pages\n",
    "    if current_chunk:\n",
    "        chunks.append(\"<document>\" + \"\".join(current_chunk) + \"</document>\")\n",
    "    \n",
    "    return chunks"
   ]
  },
  {
   "cell_type": "code",
   "execution_count": 8,
   "metadata": {},
   "outputs": [],
   "source": [
    "user_message_string_clean = \"\"\"Clean this text: {text}\"\"\""
   ]
  },
  {
   "cell_type": "code",
   "execution_count": 9,
   "metadata": {},
   "outputs": [],
   "source": [
    "def user_wrap_function_clean(text_block):\n",
    "    return user_message_string_clean.format(text=text_block)"
   ]
  },
  {
   "cell_type": "code",
   "execution_count": null,
   "metadata": {},
   "outputs": [],
   "source": [
    "system_message_clean = \"\"\"\n",
    "You are a meticulous and consistent world expert at cleaning OCR-generated Vietnamese text. \n",
    "You are cleaning text from a 1950's Buddhist Journal. \n",
    "The text will be given in XML, and the output text should be in matching XML. \n",
    "Your goal is to minimally modify the text to generate a cleaned version.\n",
    "IMPORTANT: Do not move any text from one page to another.  \n",
    "Do not remove any text from the main body of the text. \n",
    "Formatting markers (such as footers) at the end of the text can be adjusted or removed as needed for clarity. \n",
    "You can use patterns in the text blocks (given by page) to infer patterns in the text.\n",
    "You can use the semantic meaning of the text to infer corrections—but make no semantic changes. \n",
    "You can also add diacritical marks if they are missing or clearly inaccurate. \n",
    "Do not change any proper names, except to add missing diacritical marks if the context is clear.  \n",
    "This particular text has a title marker: \"Phat Giao Viet Nam,\" and also a publishing mark near the end of each page of text. \n",
    "The publishing mark is something like \"Tu Vien HUE QUANG\" + \"TRUNG TAM DICH THUAT HAN NOM\" and is very difficult for the OCR to process. \n",
    "Text corresponding to these marks (or part thereof) and page numbers can be omitted.\n",
    "Output the corrected text only with no comments.\n",
    "\"\"\""
   ]
  },
  {
   "cell_type": "markdown",
   "metadata": {},
   "source": [
    "### testing gpt-4o-mini system message"
   ]
  },
  {
   "cell_type": "markdown",
   "metadata": {},
   "source": [
    "You are an intelligent, meticulous, and consistent expert at cleaning OCR-generated Vietnamese text. \n",
    "The text will be given in XML, and the output text should be in matching XML. \n",
    "Your goal is to minimally modify the text to generate a cleaned version. \n",
    "Do not remove any text from the main content.  \n",
    "Formatting markers at the beginning and end of the text can be adjusted or removed as needed for clarity. \n",
    "You can use the semantic meaning of the text to infer corrections—but make no semantic changes. \n",
    "You can also add diacritical marks if they are missing or clearly inaccurate and can be determined by context.\n",
    "Do not change any proper names, except to add missing diacritical marks if the context is clear.  \n",
    "This particular text has a title marker: \"Phat Giao Viet Nam,\" and also a publishing mark near the end of each page of text. \n",
    "The publishing mark is something like \"Tu Vien HUE QUANG\" + \"TRUNG TAM DICH THUAT HAN NOM\" and is often incomplete.\n",
    "Text corresponding to these marks (or part thereof) and page numbers can be omitted.\n",
    "Output the corrected text only with no comments."
   ]
  },
  {
   "cell_type": "code",
   "execution_count": 11,
   "metadata": {},
   "outputs": [],
   "source": [
    "# from unittest.mock import Mock\n",
    "# from datetime import datetime\n",
    "\n",
    "# # Create a mock client with files.create and batches.create methods\n",
    "# mock_client = Mock()\n",
    "\n",
    "# # Mock the behavior of files.create to return a mock file object with an id\n",
    "# mock_client.files.create.return_value.id = \"mock_file_id\"\n",
    "\n",
    "# # Mock the behavior of batches.create to return a dictionary as if it were a batch object\n",
    "# mock_client.batches.create.return_value = {\"id\": \"mock_batch_id\", \"status\": \"created\"}\n",
    "\n",
    "# # Test the function\n",
    "# jsonl_file = \"journal_cleaning_batches/clean_batch_phat-giao-viet-nam-1956-01.jsonl\"\n",
    "# result = start_batch(mock_client, jsonl_file)\n",
    "\n",
    "# print(result)  # Expected output: {'id': 'mock_batch_id', 'status': 'created'}"
   ]
  },
  {
   "cell_type": "markdown",
   "metadata": {},
   "source": [
    "### Testing:"
   ]
  },
  {
   "cell_type": "code",
   "execution_count": 12,
   "metadata": {},
   "outputs": [],
   "source": [
    "# batch = start_batch(my_client, \"journal_cleaning_batches/test_batch.jsonl\")"
   ]
  },
  {
   "cell_type": "code",
   "execution_count": 13,
   "metadata": {},
   "outputs": [],
   "source": [
    "# batch = start_batch(my_client, \"journal_cleaning_batches/TEST_clean_batch_phat-giao-viet-nam-1956-01.jsonl\")"
   ]
  },
  {
   "cell_type": "markdown",
   "metadata": {},
   "source": [
    "### Process files in sequence and generate cleaning batch JSON files:"
   ]
  },
  {
   "cell_type": "code",
   "execution_count": 14,
   "metadata": {},
   "outputs": [],
   "source": [
    "\n",
    "# processed_journals = \"../../processed_journal_data\"\n",
    "# batch_ouput_prefix = \"./journal_cleaning_batches/\"\n",
    "\n",
    "# for path in Path(processed_journals).iterdir():\n",
    "#     if path.is_dir():\n",
    "#         journal_name = path.name\n",
    "#         for subpath in Path(path).iterdir():\n",
    "#             regex = re.compile(r\"^full_OCR_.*\\.xml\")\n",
    "#             if subpath.is_file() and regex.search(subpath.name):\n",
    "#                 print(subpath.name)\n",
    "#                 try:\n",
    "#                     ocr_text = get_text_from_file(subpath.name, path)\n",
    "#                     print(f\"{ocr_text[:90]}...\")\n",
    "#                     chunks = split_xml_text(ocr_text)\n",
    "#                     clean_message_seq = generate_messages(system_message_clean, user_wrap_function_clean, chunks)\n",
    "#                     create_jsonl_file_for_batch(clean_message_seq, batch_ouput_prefix + \"clean_batch_\" + journal_name + \".jsonl\")\n",
    "#                 except Exception as e:\n",
    "#                     print(f\"{e}\\nfailed.. \\nContinuing.\")\n",
    "                    "
   ]
  },
  {
   "cell_type": "markdown",
   "metadata": {},
   "source": [
    "### Send batches to API client:"
   ]
  },
  {
   "cell_type": "code",
   "execution_count": 15,
   "metadata": {},
   "outputs": [],
   "source": [
    "batch_client = set_api_client()"
   ]
  },
  {
   "cell_type": "code",
   "execution_count": 16,
   "metadata": {},
   "outputs": [
    {
     "data": {
      "text/plain": [
       "['clean_batch_phat-giao-viet-nam-1956-12.jsonl',\n",
       " 'clean_batch_phat-giao-viet-nam-1956-14.jsonl',\n",
       " 'clean_batch_phat-giao-viet-nam-1956-09-10.jsonl',\n",
       " 'clean_batch_phat-giao-viet-nam-1956-16.jsonl',\n",
       " 'clean_batch_phat-giao-viet-nam-1956-11.jsonl',\n",
       " 'clean_batch_phat-giao-viet-nam-1956-25-26.jsonl',\n",
       " 'clean_batch_phat-giao-viet-nam-1956-13.jsonl',\n",
       " 'clean_batch_phat-giao-viet-nam-1956-17-18.jsonl',\n",
       " 'clean_batch_phat-giao-viet-nam-1956-15.jsonl',\n",
       " 'clean_batch_phat-giao-viet-nam-1956-28.jsonl',\n",
       " 'clean_batch_phat-giao-viet-nam-1956-24.jsonl',\n",
       " 'clean_batch_phat-giao-viet-nam-1956-19.jsonl',\n",
       " 'clean_batch_phat-giao-viet-nam-1956-02.jsonl',\n",
       " 'clean_batch_phat-giao-viet-nam-1956-22.jsonl',\n",
       " 'clean_batch_phat-giao-viet-nam-1956-04.jsonl',\n",
       " 'clean_batch_phat-giao-viet-nam-1956-03.jsonl',\n",
       " 'clean_batch_phat-giao-viet-nam-1956-27.jsonl',\n",
       " 'clean_batch_phat-giao-viet-nam-1956-01.jsonl',\n",
       " 'clean_batch_phat-giao-viet-nam-1956-05-06.jsonl',\n",
       " 'clean_batch_phat-giao-viet-nam-1956-23.jsonl',\n",
       " 'clean_batch_phat-giao-viet-nam-1956-20-21.jsonl',\n",
       " 'clean_batch_phat-giao-viet-nam-1956-07.jsonl']"
      ]
     },
     "execution_count": 16,
     "metadata": {},
     "output_type": "execute_result"
    }
   ],
   "source": [
    "batch_job_dir = \"./journal_cleaning_batches\"\n",
    "batch_files = os.listdir(batch_job_dir)\n",
    "batch_files\n"
   ]
  },
  {
   "cell_type": "code",
   "execution_count": 17,
   "metadata": {},
   "outputs": [
    {
     "data": {
      "text/plain": [
       "'./journal_cleaning_batches/clean_batch_phat-giao-viet-nam-1956-05-06.jsonl'"
      ]
     },
     "execution_count": 17,
     "metadata": {},
     "output_type": "execute_result"
    }
   ],
   "source": [
    "file_path = os.path.join(batch_job_dir, 'clean_batch_phat-giao-viet-nam-1956-05-06.jsonl')\n",
    "file_path"
   ]
  },
  {
   "cell_type": "markdown",
   "metadata": {},
   "source": [
    "## completed batches:\n",
    "10, 25-26"
   ]
  },
  {
   "cell_type": "code",
   "execution_count": 18,
   "metadata": {},
   "outputs": [],
   "source": [
    "# start_batch(file_path)"
   ]
  },
  {
   "cell_type": "code",
   "execution_count": 19,
   "metadata": {},
   "outputs": [],
   "source": [
    "# file_path"
   ]
  },
  {
   "cell_type": "code",
   "execution_count": 20,
   "metadata": {},
   "outputs": [],
   "source": [
    "# batch_27 = start_batch(file_path)"
   ]
  },
  {
   "cell_type": "code",
   "execution_count": 21,
   "metadata": {},
   "outputs": [],
   "source": [
    "# batch_05_06 = start_batch(file_path)"
   ]
  },
  {
   "cell_type": "code",
   "execution_count": 34,
   "metadata": {},
   "outputs": [
    {
     "data": {
      "text/plain": [
       "<openai.OpenAI at 0x11b253690>"
      ]
     },
     "execution_count": 34,
     "metadata": {},
     "output_type": "execute_result"
    }
   ],
   "source": [
    "set_api_client()"
   ]
  },
  {
   "cell_type": "code",
   "execution_count": 38,
   "metadata": {},
   "outputs": [
    {
     "data": {
      "text/plain": [
       "[]"
      ]
     },
     "execution_count": 38,
     "metadata": {},
     "output_type": "execute_result"
    }
   ],
   "source": [
    "get_active_batches()"
   ]
  },
  {
   "cell_type": "code",
   "execution_count": 35,
   "metadata": {},
   "outputs": [],
   "source": [
    "completed = get_completed_batches()"
   ]
  },
  {
   "cell_type": "code",
   "execution_count": 36,
   "metadata": {},
   "outputs": [
    {
     "data": {
      "text/plain": [
       "[{'id': 'batch_6737cad8c280819083f11d54277c8d0e',\n",
       "  'status': 'completed',\n",
       "  'created_at': 1731709656,\n",
       "  'output_file_id': 'file-zcYd2bYdUG7XNr4ydEnhqHJV',\n",
       "  'metadata': {'description': '11-15-2024 14:27:34 PST | ./journal_cleaning_batches/clean_batch_phat-giao-viet-nam-1956-05-06.jsonl'}},\n",
       " {'id': 'batch_6737c99efe508190b9859fe37a8832eb',\n",
       "  'status': 'completed',\n",
       "  'created_at': 1731709343,\n",
       "  'output_file_id': 'file-VxlfOfbcw2NopmK0Mufnsmi2',\n",
       "  'metadata': {'description': '11-15-2024 14:22:21 PST | ./journal_cleaning_batches/clean_batch_phat-giao-viet-nam-1956-27.jsonl'}},\n",
       " {'id': 'batch_6737b1c194f08190bafa64d6f7567eb8',\n",
       "  'status': 'completed',\n",
       "  'created_at': 1731703233,\n",
       "  'output_file_id': 'file-eGiVuuuk7mB36zHDd3C15nKd',\n",
       "  'metadata': {'description': '11-15-2024 12:40:32 PST | ./journal_cleaning_batches/clean_batch_phat-giao-viet-nam-1956-12.jsonl'}},\n",
       " {'id': 'batch_6736d4cc63208190ac93b6a0f5b64e3d',\n",
       "  'status': 'completed',\n",
       "  'created_at': 1731646668,\n",
       "  'output_file_id': 'file-PXyxWQF7yp1lf2CWcRTgR5xi',\n",
       "  'metadata': {'description': '11-14-2024 20:57:47 PST | journal_cleaning_batches/clean_batch_phat-giao-viet-nam-1956-25-26.jsonl'}},\n",
       " {'id': 'batch_6736d4c9138c8190af59f75d95eeae87',\n",
       "  'status': 'completed',\n",
       "  'created_at': 1731646665,\n",
       "  'output_file_id': 'file-QnVwet08Zdufhk2XOnduGBHz',\n",
       "  'metadata': {'description': '11-14-2024 20:57:43 PST | journal_cleaning_batches/clean_batch_phat-giao-viet-nam-1956-09-10.jsonl'}},\n",
       " {'id': 'batch_6736d4c75ca48190b8317fb4c3f537dd',\n",
       "  'status': 'completed',\n",
       "  'created_at': 1731646663,\n",
       "  'output_file_id': 'file-UDMIKMUoEGhVQatXAd886jju',\n",
       "  'metadata': {'description': '11-14-2024 20:57:41 PST | journal_cleaning_batches/clean_batch_phat-giao-viet-nam-1956-14.jsonl'}},\n",
       " {'id': 'batch_6736d4c58bd48190bd26ae8ea3693f75',\n",
       "  'status': 'completed',\n",
       "  'created_at': 1731646661,\n",
       "  'output_file_id': 'file-I8zyPsuLJhVuLFOOLQys5aR9',\n",
       "  'metadata': {'description': '11-14-2024 20:57:39 PST | journal_cleaning_batches/clean_batch_phat-giao-viet-nam-1956-12.jsonl'}},\n",
       " {'id': 'batch_6736bf6d76b08190ab40956058bc9008',\n",
       "  'status': 'completed',\n",
       "  'created_at': 1731641197,\n",
       "  'output_file_id': 'file-ei4FCGSvzYrNhVCQcLsXPaEF',\n",
       "  'metadata': {'description': '11-14-2024 19:26:35 PST | journal_cleaning_batches/TEST_clean_batch_phat-giao-viet-nam-1956-01.jsonl'}},\n",
       " {'id': 'batch_6736bd219200819097f0e999d0f2ede6',\n",
       "  'status': 'completed',\n",
       "  'created_at': 1731640609,\n",
       "  'output_file_id': 'file-GUEU0wjM1oAHQEbj29L3WTtd',\n",
       "  'metadata': {'description': '11-14-2024 19:16:47 PST | journal_cleaning_batches/test_batch.jsonl'}},\n",
       " {'id': 'batch_672ce74d7ec88190bab5c7da083f4d7f',\n",
       "  'status': 'completed',\n",
       "  'created_at': 1730996045,\n",
       "  'output_file_id': 'file-IaoqN3RGqCSegnBVUmKzZCGA',\n",
       "  'metadata': {'description': 'first (query,text) generation task run.'}},\n",
       " {'id': 'batch_672c5a1f24a88190a51881c98d00d2f6',\n",
       "  'status': 'completed',\n",
       "  'created_at': 1730959903,\n",
       "  'output_file_id': 'file-D4JPtLtYID0Gq44Ilc7JrPYy',\n",
       "  'metadata': {'description': 'first (query,text) generation task run.'}},\n",
       " {'id': 'batch_672c305a02848190844c9972b47c14ff',\n",
       "  'status': 'completed',\n",
       "  'created_at': 1730949210,\n",
       "  'output_file_id': 'file-6UgCavD658hXYjcSLKdTzSVx',\n",
       "  'metadata': {'description': 'test eval job'}},\n",
       " {'id': 'batch_672c2c20ac648190b4010fc3b2b28d11',\n",
       "  'status': 'completed',\n",
       "  'created_at': 1730948128,\n",
       "  'output_file_id': 'file-GyZWgigYETJy4rV5aGUzhoHH',\n",
       "  'metadata': {'description': 'test eval job'}},\n",
       " {'id': 'batch_672c291d935081909c57c2e269c303ce',\n",
       "  'status': 'completed',\n",
       "  'created_at': 1730947357,\n",
       "  'output_file_id': 'file-fLoEINOWS1CciMbmv5lKYNHo',\n",
       "  'metadata': {'description': 'test eval job'}},\n",
       " {'id': 'batch_672c24cdd2ac8190b3a019458fb8addb',\n",
       "  'status': 'completed',\n",
       "  'created_at': 1730946254,\n",
       "  'output_file_id': 'file-TlH2cWZOs2MLKXb7iXnKLdfQ',\n",
       "  'metadata': {'description': 'test eval job'}},\n",
       " {'id': 'batch_672b85772df8819085957fa62c4e3020',\n",
       "  'status': 'completed',\n",
       "  'created_at': 1730905463,\n",
       "  'output_file_id': None,\n",
       "  'metadata': None},\n",
       " {'id': 'batch_672b091c02088190b0d4e5d9275ec258',\n",
       "  'status': 'completed',\n",
       "  'created_at': 1730873628,\n",
       "  'output_file_id': None,\n",
       "  'metadata': None}]"
      ]
     },
     "execution_count": 36,
     "metadata": {},
     "output_type": "execute_result"
    }
   ],
   "source": [
    "completed"
   ]
  },
  {
   "cell_type": "code",
   "execution_count": 37,
   "metadata": {},
   "outputs": [],
   "source": [
    "def get_response_from_batch_info(batch_info):\n",
    "    output_id = batch_info['output_file_id']\n",
    "    file = batch_client.files.content(output_id)\n",
    "    return file"
   ]
  },
  {
   "cell_type": "code",
   "execution_count": 39,
   "metadata": {},
   "outputs": [],
   "source": [
    "out = get_batch_response(completed[0]['id'])"
   ]
  },
  {
   "cell_type": "code",
   "execution_count": 49,
   "metadata": {},
   "outputs": [
    {
     "data": {
      "text/plain": [
       "5"
      ]
     },
     "execution_count": 49,
     "metadata": {},
     "output_type": "execute_result"
    }
   ],
   "source": [
    "len(out)"
   ]
  },
  {
   "cell_type": "code",
   "execution_count": 47,
   "metadata": {},
   "outputs": [],
   "source": [
    "full_cleaned_text = \"\\n\".join(out)"
   ]
  },
  {
   "cell_type": "code",
   "execution_count": null,
   "metadata": {},
   "outputs": [],
   "source": [
    "set_working_directory()"
   ]
  },
  {
   "cell_type": "code",
   "execution_count": 48,
   "metadata": {},
   "outputs": [],
   "source": [
    "write_text_to_file(\"full_cleaned_phat-giao-viet-nam-1956-05-06\", full_cleaned_text)"
   ]
  },
  {
   "cell_type": "code",
   "execution_count": 50,
   "metadata": {},
   "outputs": [],
   "source": [
    "cleaned_chunks = out"
   ]
  },
  {
   "cell_type": "code",
   "execution_count": 41,
   "metadata": {},
   "outputs": [
    {
     "name": "stdout",
     "output_type": "stream",
     "text": [
      "<document>\n",
      "  <page page=\"1\">\n",
      "    PHẬT GIÁO VIỆT NAM\n",
      "    HUỆ QUANG\n",
      "  </page>\n",
      "  <page page=\"2\">\n",
      "    PHẬT-GIÁO VIỆT-NAM\n",
      "    MỤC LỤC SỐ 5 VÀ\n",
      "    XUÂN ĐINH DẬU (P.L. 2501)\n",
      "    PHẬT GIÁO VIỆT NAM CHÚC TẾT\n",
      "    MÙA XUÂN LÝ TƯỞNG\n",
      "    NGUYÊN LÝ PHẬT HỌC\n",
      "    GIAO CẢM\n",
      "    GHÉT TẾT\n",
      "    PHẬT GIÁO BỊ LỢI DỤNG\n",
      "    TẾT THÔNG CẢM\n",
      "    ĐẠO PHẬT NGÀY NAY\n",
      "    P.G.V.N\n",
      "    MINH HẠNH\n",
      "    THÁI HƯ PHÁP SƯ\n",
      "    NHẤT HẠNH\n",
      "    THIỀU CHI\n",
      "    PHẠM BÌNH\n",
      "    HOÀNG HOA\n",
      "    CHRISTMAS HUMPREY\n",
      "    XUÂN DÂN TỘC VỚI NỤ CƯỜI ĐỨC DI LẶC TÂM NGUYÊN\n",
      "    ĐỨC DI LẶC BỒ TÁT\n",
      "    ĐẠI SỨ KHUÔNG VIỆT\n",
      "    THỊ CHÚNG\n",
      "    THIỆN HOA\n",
      "    NGUYỄN-VĂN-HẬU\n",
      "    MÃN GIÁC THIỀN SƯ\n",
      "    TAMA HANA\n",
      "  </page>\n",
      "  <page page=\"3\">\n",
      "    BỨC TRANH XUÂN\n",
      "    MÙA XUÂN MỚI\n",
      "    CẢI HÓA\n",
      "    TIÊU CHUẨN CỦA THIỆN ÁC\n",
      "    BẠN NGHÈO\n",
      "    PHẬT GIÁO VỚI KHOA HỌC\n",
      "    TIẾNG MÕ ĐÊM BA MƯƠI\n",
      "    HIỂU BIẾT CHÂN CHÍNH\n",
      "    AI MẠNH HƠN CẢ?\n",
      "    BÀ CHẲNG TINH\n",
      "    VẤN ĐỀ GIẢI THOÁT\n",
      "    XUNG QUANH ĐẠI LỄ GIỚI ĐÀN\n",
      "    HUYỀN-KHÔNG\n",
      "    PHÙNG KHÁNH\n",
      "    KHÁC HUẤN\n",
      "    TUỆ UYỀN\n",
      "    THÍCH TÁC PHƯỚC\n",
      "    A. WIJESEKERA\n",
      "    THIỆN TÀI\n",
      "    HỮU QUÁN\n",
      "    TUỆ UYỀN\n",
      "    THẠC ĐỨC\n",
      "    KHOA-KHẢ CHÍNH\n",
      "  </page>\n",
      "  <page page=\"4\">\n",
      "    PHẬT GIÁO VIỆT NAM CHÚC TẾT\n",
      "    NHÂN dịp Xuân về, PHẬT GIÁO VIỆT NAM kính chúc các bạn độc giả cùng toàn thể Phật tử Việt Nam một năm mới an lạc và tinh tiến.\n",
      "    Bởi chúng ta đang ở vào Mùa Chúc Tụng, và cũng bởi mùa Xuân đã về mang theo bao niềm Hy Vọng, chúng ta có dịp hoan hỷ hướng về tương lai sáng đẹp của nhân loại và cùng trao đổi cho nhau những lời cầu chúc an lạc, thái bình, trong ánh Xuân tràn ngập niềm vui như niềm vui của ánh đạo giải thoát màu nhiệm.\n",
      "    Đành rằng mùa Xuân Lý Tưởng của Phật tử là một mùa Xuân bất diệt, vượt ra ngoài những dời đổi biến thiên, nhưng nếu không có mùa Xuân của cỏ hoa, của nắng ấm reo vui thì làm sao ta có thể có được ý niệm về một Mùa Xuân Thường Còn của Chân Lý. Mùa Xuân của hàng năm là sứ giả của mùa Xuân bất diệt. Những mùa Xuân hàng năm cứ nối tiếp nhau trở về để nhắc cho chúng ta mau lo thực hiện một Mùa Xuân Bất Diệt của lý tưởng.\n",
      "  </page>\n",
      "  <page page=\"5\">\n",
      "    Thế giới trong những năm qua đã sống trong tình trạng hồi hộp lo âu. Những trận chiến tranh nguội âm thầm nối tiếp những trận chiến tranh “nóng”. Cái âm ý bên trong càng lúc càng được cảm thấy rõ rệt chỉ chực bùng lên thành chiến tranh tàn khốc. Mùa Xuân Nhân loại có thể thực hiện được chăng, hay chỉ mãi mãi là một ước vọng xa xôi? Bao nhiêu mùa Xuân năm tháng đã về mà vẫn chưa có mùa Xuân nào báo hiệu được cho sự thuyên giảm của tình trạng trầm trọng và khẩn cấp đó của nhân loại.\n",
      "    Nhưng năm 2500 của Phật lịch đã tới để đánh dấu một giai đoạn mới trong lịch sử loài người. Phải, chính năm nay, mùa Xuân Đinh Dậu báo hiệu cho một sự thức tỉnh: loài người dần dần bừng mắt dậy và đang lo liệu phương cách cứu trị tình trạng khẩn trương nguy cấp.\n",
      "    Chúng ta hãy nghe tiếng kêu gọi “đồng lâm” của đại diện hàng trăm triệu tín đồ Phật giáo thế giới tại Hội Nghị Phật Giáo lần thứ tư. Loài người phải chăng đã biết rùng mình trên hồ diệt vong, và đã tự nhận được hướng đi lầm lạc của mình để cương quyết trở lại tìm con đường mới, hướng đến một mùa Xuân nhân loại?\n",
      "    Năm ngoái, cách đây chừng một tháng, khi qua thăm trụ sở Liên Hiệp Quốc, Thủ tướng của xứ Phật giáo Ấn Độ đã không ngần ngại gì mà không vạch ra một cách mạnh dạn những nguyên do gây nên tình trạng khẩn trương của thế giới hiện kim. Ông đã nói: “Tương lai thế giới không thể chỉ căn cứ vào tự do của các dân tộc và các cá nhân. Tương lai thế giới không thể dựa vào những phương tiện quân sự dũng mãnh, vào những hiệp ước quân sự, mà cũng không thể dựa vào sự hiện diện của các lực lượng quân sự, của một nước này đối với nước khác, mặc dầu có một nước trong hai nước sợ sệt ép lòng phải chịu theo.\n",
      "    Những phương pháp đó chỉ tạo ra và duy trì chiến tranh nguội và chiến tranh nóng, rất có thể làm phát sinh những vụ gây hấn hủy diệt cả thế giới.\n",
      "  </page>\n",
      "  <page page=\"6\">\n",
      "    Trong kỷ nguyên của các khí giới nguyên tử này, chiến tranh đã thành ra một tình trạng mà một thế giới lành mạnh không thể nào kham nổi.\n",
      "    Chúng tôi muốn sống hòa bình với các bạn láng giềng và trong giờ này đây, tất cả các nước đều là bạn láng giềng của chúng ta. Hiệp ước và liên minh chỉ tạo ra bất bình cho các quốc gia khác.\n",
      "    Người Phật tử ấy quả đã nói thay được cho bao nhiêu người Phật tử, bao giờ cũng chuộng sự thực và ước muốn sống hòa bình.\n",
      "    Ngoài kia, bao nhiêu quốc gia đang vươn mình đứng dậy với một sức sống lành mạnh rạt rào. Tinh thần từ bi của đạo Phật được xem như là yếu tố căn bản để thiết lập nền hòa bình chân chính của xã hội.\n",
      "    Cái lý mạnh được yếu thua của bạo lực hiện không còn đứng vững nữa. Thế giới không phải chỉ có một bạo lực ấy, mà có nhiều bạo lực. Những bạo lực kia, nếu cần, sẽ tiêu diệt nhau để lôi kéo tất cả vào diệt vong. Vũ lực của một đại cường quốc còn chưa làm gì được ai, huống hồ binh lực của một nhược tiểu! Chỉ có một lối thoát; những người ước muốn hòa bình phải đứng cả dậy. Tay không, nhưng với tất cả ý muốn chân thành. Ánh sáng đạo lý đang lan rộng.\n",
      "    Mọi nơi hướng về tin tưởng.\n",
      "    Phật giáo Việt Nam chúng ta cũng phải tiến triển một lần với ngọn trào nhân loại. Tiến lên với thiện chí hòa bình, để hòa hợp với triều sống an hòa đang dậy. Chúng ta hãy liên kết lại, triệt hạ những mầm chia rẽ vị ký nhất, cùng sống theo tinh thần đại bi hòa kính của Phật tổ, tự hiến mình làm một viên gạch kim cương rắn chắc để dùng trong công việc xây dựng nền tảng cho thế giới hòa bình.\n",
      "    PHẬT-GIÁO VIỆT-NAM tin tưởng rằng Xuân Đinh Dậu sẽ mở đầu cho cuộc xây dựng nền tảng ấy...\n",
      "  </page>\n",
      "  <page page=\"7\">\n",
      "    MÙA XUÂN LÝ TƯỞNG\n",
      "    Ý tưởng về mùa xuân thường gợi nên ý tưởng về hạnh phúc. Mọi người đều ước ao hạnh phúc, cho nên đều hân hoan chào đón mùa Xuân.\n",
      "    Nhưng mùa Xuân trước sau vẫn chỉ có thể gợi lên trong tâm hồn con người những ước ao về hạnh phúc, mà chưa bao giờ có thể là nguyên nhân của hạnh phúc con người. Hạnh phúc phải chăng là một tiếng mà người ta đã bịa đặt ra để gọi một cái gì không thể có, hay không thể hiện được. Hoặc giả hạnh phúc chính là những thú vui chốc lát, những thú vui không bao giờ dài quá những gang tay?\n",
      "    Đời là một dòng chuyển biến. Tất cả mọi hiện tượng đều chịu chung luật vô thường. Mà vì vô thường, cho nên có sinh diệt. Có sinh diệt là có khổ đau.\n",
      "    Cái ước ao sâu xa thâm trầm của con người, trước hết, là mong cho vạn vật được thường còn, không chuyển biến. Bởi vì còn chuyển biến là còn đau khổ. Trước tiên, con người muốn cho bản thân của mình được tồn tại vĩnh viễn. Ai cũng lo săn sóc, nâng niu cái \"ta\" của mình. Cái \"ta\" này mà yếu đau, suy nhược, cái \"ta\" này mà già cỗi, tiêu hoại thì làm sao có được hạnh phúc dài lâu?\n",
      "    Nhưng hoàn cảnh không bao giờ thuận lợi cho cái \"ta\" ấy mãi. Những tai họa bất ngờ kéo đến, tiêu hủy cái \"ta\", phá hoại cái \"ta\". Con người tìm mọi cách để chế ngự hoàn cảnh, để kéo dài thời hạn tồn tại của cái \"ta\". Người xưa đã điêu luyện, luyện thuốc, mong cho được trường sinh bất tử. Người nay lại đi kêu cầu, khấn đảo để được vô sự bình an. Không những muốn cho cái \"ta\" thường còn, miên viễn, con người lại muốn cho bà con, thân thuộc cùng tất cả những tiền tài danh vọng phụ thuộc vào cái \"ta\" của mình cũng được tồn tại miên viễn như thế.\n",
      "    Bao nhiêu đối tượng của sự hy cầu, yêu mến, tham tiếc phải còn lại đó mãi mãi, không được tan biến, tiêu hoại, như thế con người mới được an tâm.\n",
      "    Nhưng một điều kiện THƯỜNG CÒN vẫn chưa đủ để tạo nên hạnh phúc. Bởi vì sự thường tồn miên viễn của những chuỗi ngày buồn khổ không thể là hạnh phúc được. Cho nên con người ước ao xa lánh được hết những khổ não đau buồn của tinh thần và thân xác để rong ruổi theo những điều vui sướng thỏa thích cho bản thân mình. Đó là điều kiện LẠC THÚ. Tuy nhiên, vẫn chưa đủ. Con người phải có hoàn toàn tự do, muốn gì được nấy. Cái \"lạc\" kia chưa chắc chỉ đáng vui với một kẻ khác nhưng lại đáng ghét đối với bản thân mình. Mình phải có một ước muốn tự do, và ước muốn tự do ấy phải luôn luôn được thỏa mãn. Những lạc thú phải được thực hiện theo ý muốn của mình, như thế mới có thể có hạnh phúc. Điều kiện thứ ba là TỰ DO vậy.\n",
      "    Điều kiện thứ tư là không thấy không nghe những lời đau khổ, xấu xa, không còn chứng kiến sự đau đớn, truy lạc của mọi người xung quanh và của chính bản thân mình. Phải được trong sạch cả về vật chất, cả về tinh thần. Thân thể cho đến tinh thần phải được tốt lành, sáng sủa, hướng đến cao đẹp, rời bỏ cả mọi sự đen tối. Điều kiện này là điều kiện THANH TỊNH vậy.\n",
      "    Những ước muốn ấy của mọi người mà được thực hiện, thì con người sẽ có hạnh phúc.\n",
      "    Nhưng sự thực ở hiện tại cho ta thấy rằng cuộc đời không bao giờ có bốn điều kiện căn bản kia. Cuộc đời không thường còn, không có lạc thú, không có tự do, không có thanh tịnh. Đạo Phật nhấn mạnh đến những tính cách vô thường, khổ, vô ngã và bất tịnh ấy để khai thị cho chúng ta cái giá trị chân thực của cuộc đời.\n",
      "  </page>\n",
      "  <page page=\"8\">\n",
      "    Vậy con người không thể tìm được hạnh phúc trên cuộc đời sao? Muốn có hạnh phúc phải chăng con người phải xa lìa, rời bỏ cuộc đời hiện tại, tìm đến một thế giới khác có đủ những điều kiện thường, lạc, ngã, tịnh?\n",
      "    Không. Bỏ thế gian để tìm hạnh phúc ở một cõi khác xa xăm và tìm với một tâm niệm cao trước tham lam, con người sẽ không bao giờ đạt đến mục đích cả.\n",
      "    Nghiệp báo của mọi loài đã tạo dựng nên một thế giới, đau khổ nhiều mà an vui ít. Nếu loài người, một mai kia bỏ nhau đi hết đến một thế giới xa lạ khác để tìm hạnh phúc, thì cuộc đời này, thế giới này không biết sẽ ra sao! Mà giả sử họ có đi tìm đến một thế giới khác chăng nữa, thì chắc họ vẫn lại phải gặp cảnh vô thường, khổ đau, và bất tịnh như xưa...\n",
      "    Bởi vì sống là chuyển biến. Có chuyển biến mới có thời gian. Và có thời gian mới có sự sống.\n",
      "    Ta hãy tưởng tượng thời gian ngừng động lại. Mọi vật im lặng như chết, không biến dịch, không tàn hoại. Vạn vật như làm bằng đá, và cứ tồn tại miên viễn như thế ngàn đời. Chán ngán thay! Một sự tồn tại vô nghĩa, vô tri, vô giác!\n",
      "    Cho nên, đi tìm sự thường còn trong cuộc sống là một việc không bao giờ có thể làm được. Đi tìm sự thường còn ngoài cuộc sống lại là một điều vô lý hơn.\n",
      "    Đã có những người bực mình khi thấy Xuân sang với những mẫu mẻ hạnh phúc bên ngoài của nó:\n",
      "    Tôi có chờ đâu, có đợi đâu,\n",
      "    Đem chi Xuân lại, gợi thêm sầu?\n",
      "    Với tôi, tất cả như vô nghĩa,\n",
      "    Tất cả không ngoài nghĩa khổ đau.\n",
      "    (CHẾ LAN VIÊN)\n",
      "    Bởi vì Xuân cũng chỉ là một giai đoạn của thành hoại! Mà thành hoại là dấu khổ. Cũng có người nhìn Xuân như một hình bóng nhất thời của hạnh phúc, muốn vội vàng hưởng thụ cho kịp thời kẻo một mai kia nó qua đi, không bao giờ trở lại.\n",
      "    Xuân đang tới, nghĩa là Xuân đang qua,\n",
      "    Xuân còn non, nghĩa là Xuân sẽ già,\n",
      "    Mà Xuân hết, nghĩa là tôi cũng mất...\n",
      "    (XUÂN DIỆU)\n",
      "    Tội nghiệp thay cho con người muốn ước ao vĩnh viễn!\n",
      "    Trong cái sinh, người đã nhìn thấy cái tử; trong cái thành, người đã nhìn thấy cái hoại; trong cái hữu, người đã nhìn thấy cái vô! Trong một trạng thái làm hồn hoảng hốt, dẫn dắt và tham lam như thế làm sao người ta có thể an lành mà thực hiện được hạnh phúc?\n",
      "    Cũng đã có người nhìn thấy rõ những biến chuyển mộng ảo của cuộc đời, nên không còn bận lòng vì thành hoại, và thản nhiên nhìn Xuân sang với trăm hoa ngàn bướm mà không mảy may xúc cảm:\n",
      "    Xuân Lai, hoa điệp thiện tri thị,\n",
      "    Hoa điệp ưng tư tiện ứng kỳ,\n",
      "    Hoa điệp bản lai giai thị huyền,\n",
      "    Mạc tu hoa điệp vãn lâm thì.\n",
      "    (Giác Hải Thiền Sư)\n",
      "    Dịch:\n",
      "    Xuân sang, hoa bướm khéo quen thì,\n",
      "    Bướm liệng, hoa cười vẫn đúng kỳ.\n",
      "    Nên biết: bướm hoa đều huyền ảo,\n",
      "    Thấy hoa, mặc bướm, đừng lâm trì.\n",
      "    \"Huyền ảo\" bởi vì không có gì trường tồn mãi mãi. Mọi vật đều qua, rồi đều mất. Và vì thế, khi Xuân đến không mừng, khi Xuân qua, không tiếc. Không sợ hãi vì cuộc thịnh suy, âu cũng là chỗ sở đắc cao siêu của thiền sư Vạn Hạnh:\n",
      "    Thân như điện ảnh hữu hoàn vô,\n",
      "    Thảo mộc Xuân vinh, thu hựu khô.\n",
      "    Nhậm vận thịnh suy, vô bố úy.\n",
      "    Thịnh suy như lộ thảo đầu phô.\n",
      "    Dịch:\n",
      "    Thân như bóng chớp, có rồi không,\n",
      "    Cây cối Xuân tươi, thu não nùng!\n",
      "    Mặc cuộc thịnh suy đừng sợ hãi,\n",
      "    Kìa kìa: ngọn cỏ giọt sương đông.\n",
      "    Hình ảnh của một giọt sương đọng đầu ngọn cỏ mới mong manh làm sao! Vạn vật trên đời đều dễ tan hoại như thế! Có được một tâm trạng thản nhiên, không vui khi chúng hợp, không buồn khi chúng tản, ôi! Thảnh thơi và an lành biết mấy!\n",
      "    Nhưng không phải thái độ kia là một thái độ chán đời, lìa đời. Chỉ là một thái độ khôn ngoan, không để bị cảnh đời lung lạc chi phối. Các bậc giác ngộ đã tìm thấy một thực thể thường tồn khi nhìn qua những hiện tượng huyền ảo trải qua trước mắt.\n",
      "  </page>\n",
      "  <page page=\"9\">\n",
      "    Thiền-Sư Mãn Giác đời Lý đã nói lên ý nhiệm màu đó trong bài kệ Thị-Chúng:\n",
      "    Xuân khứ bách hoa lạc\n",
      "    Xuân đáo bách hoa khai;\n",
      "    Sự trục nhãn tiền quá,\n",
      "    Lão tùng đầu thượng lai.\n",
      "    Mạc vị Xuân tàn hoa lạc tận,\n",
      "    Đình tiền tạc dạ, nhất chi mai.\n",
      "    Mùa xuân qua: trăm hoa rụng, Mùa xuân đến: trăm hoa mừng. Các hiện tượng thế gian cứ sinh rồi lại diệt, diệt rồi lại sinh: chẳng mấy chốc, tóc trên đầu đã bạc. Nhưng không phải khi xuân tàn mà không có hoa đâu, vì trước sân, đêm qua, có một cành mai vừa nở, mang những nụ hoa trắng như tuyết đọng:\n",
      "    Xuân tối, trăm hoa rụng,\n",
      "    Xuân tới, trăm hoa cười.\n",
      "    Trước mặt việc đi mãi,\n",
      "    Trên đầu già đến rồi!\n",
      "    Đừng tưởng Xuân tàn, hoa rụng hết,\n",
      "    Đêm qua, sân trước, một cành mai...\n",
      "    Cuộc đời thật là thường tại, xuân đi rồi xuân lại, vạn vật theo nhau mà sinh diệt, diệt sinh... Tuy nhiên, qua sự sinh diệt diệt sinh đó, ta vẫn thấy được một cái gì bất sinh bất diệt làm nguồn gốc cho bao nhiêu diệt sinh. Hai câu cuối cùng mới thật là tuyệt diệu:\n",
      "    Đừng tưởng Xuân tàn, hoa rụng hết,\n",
      "    Đêm qua, sân trước, một cành mai...\n",
      "    Vì mùa nào mà chẳng có hoa! Giải thoát, đạt đến chỗ bất diệt bất sinh, con người có thể an nhiên nhìn bao nhiêu sinh diệt, sống trong cõi trần thế mà hưởng thụ niết bàn. Những tính cách thường, lạc, ngã, tịnh chỉ có thể thực hiện được trong đời sống đã giải thoát khỏi mờ mịt dục vọng. Dù sao, ham muốn của thế nhân vẫn là nguồn gốc của khổ đau. An lạc chân chính là ở chỗ đạt đạo.\n",
      "    Mùa xuân lý tưởng của người Phật tử chính là mùa Xuân giác ngộ, mùa Xuân của Thường, Lạc, Ngã, Tịnh, một mùa Xuân không sinh diệt theo thời gian, theo thăng trầm biến chuyển của nghiệp lực muôn đời.\n",
      "    Nhưng bây giờ đây, mùa xuân trần thế đã về. Thấy mùa xuân trần thế, ta hãy nghĩ đến mùa xuân lý tưởng. Hãy can đảm lên để nhận rõ giá trị cuộc đời; chúng ta gắng diệt bớt dục vọng, tăng thêm tình thương, học thêm lời Phật dạy để có thể gần với mùa xuân bất diệt và làm nhẹ bởi những khổ não cho dòng loại, cho thế nhân.\n",
      "    MINH HẠNH\n",
      "  </page>\n",
      "  <page page=\"10\">\n",
      "    Có ba vấn đề quan trọng cần phải giải quyết. Ba vấn đề ấy là gì?\n",
      "    1– Vạn vật do đâu mà có?\n",
      "    2– Bản thể của vạn vật là gì?\n",
      "    3– Vạn vật rồi sẽ trở về đâu?\n",
      "    Ba câu hỏi này làm cho con người thắc mắc âu lo. Giải quyết được những câu hỏi này tức là giải quyết được những thắc mắc lo âu kia. Hơn nữa, có giải quyết được những câu hỏi này người ta mới tìm được con đường đi và nhân loại mới có chỗ an tâm lập mạng - được.\n",
      "    Tôn giáo nào, triết học nào mà giải quyết được ba vấn đề ấy tức là được nhân loại cần đến vậy. Quan niệm của đạo Phật như thế nào?\n",
      "    Vạn vật (tất cả những hiện tượng tinh thần và những hiện tượng vật chất) thì vô số vô lượng, ngàn sai muôn khác, nhưng đều là những hiện tượng có hoại diệt. Không có một vật nào vĩnh của bất biến cả.\n",
      "    PHẬT-GIÁO VIỆT-NAM\n",
      "  </page>\n",
      "  <page page=\"11\">\n",
      "    NGUYÊN-LÝ PHẬT-HỌC\n",
      "    THÁI-HƯ PHÁP SƯ\n",
      "    Tất cả đều tồn tại một cách giả tạm, ngẫu nhiên. Chẳng những thế, sự vật làm khi đang có liền trở thành không, đang không lại trở nên có, biến chuyển thật mau chóng vô cùng. Tuy nhiên, có một cái không bị chuyển biến, không bị tiêu hoại; đó là cái thực tại chuyên biến. Qua sự thành hoại của các lớp sóng, vẫn còn một cái gì không thành hoạt: nước. Cũng như thế, qua sự biến chuyển của vạn vật, còn có một cái gì không biến chuyển. Cái không biến chuyển ấy tuy không thể bảo rằng không có, nhưng cũng không thể bảo rằng có theo nghĩa tồn tại trở thành (hữu – l'existence = le devenir) được. Ta tạm gọi nó là * Như, nghĩa là vẫn cứ như thế, không biến chuyển, diệt hoại. Ngoài cái “Như” ấy, tất cả đều biến dịch. Đã biến dịch tất nhiên không thể gọi là chân thực. Bởi vì đã chân thực tức là phải bất biến, phải Như. Sự vật biến dịch cho nên không phải là \"chân\", chỉ có “Như” mới là chân, cho nên cái bản thể bất biến của vạn vật được tạm gọi là \"Chân Như\" vậy.\n",
      "    Chân như thì ở chỗ và lúc nào cũng thế. Tâm không nhận được nó, nhưng kỳ thực nó là nguồn gốc phát sinh của tất cả vạn vật. Nói một cách khác hơn, chân như cũng chính là vạn vật, nhưng vì vô minh đề nặng nên khả năng tri thức kém cỏi của ta không nhận được chân như (bản thể) mà chỉ nhận được vạn vật (hiện tượng).\n",
      "    Vì vô minh sâu, nên ở tâm chúng ta hiện khởi chủ thể và đối tượng: chủ thể là thức và đối tượng là cảnh tùy thức biến hiện. Thế là đối tượng nhận thức chỉ có thể là vạn vật hiện tượng mà thôi. Thức tâm chúng ta đã không đạt đến được chân như bản thể.\n",
      "    Tuy nhiên, chân như bản thể vẫn không rời vạn vật hiện tượng. Nếu không có vô minh, thì trí giác minh diệu đồng giao cảm với chân như bản thể trong một trạng thái hồn nhiên vô phân biệt. Nhưng vì vô minh mà trí giác minh diệu của ta bị che lấp, tri thức mờ ám làm biến khởi vạn vật hiện tượng. Tri thức ấy được gọi là ý thức.\n",
      "    Trong trường hợp trí giác minh diệu, chân như bản thể nằm trong trạng thái hồn nhiên vô phân biệt. Trong trường hợp vô minh, ý thức làm phát hiện vạn vật hiện tượng.\n",
      "  </page>\n",
      "  <page page=\"12\">\n",
      "    Vậy thì bản thể của vạn vật là chân như.\n",
      "    Và nguyên do của vạn vật là ý thức.\n",
      "    Hai câu hỏi đầu tiên được giải đáp như thế.\n",
      "    Nhưng tại sao ý thức lại không duyên đến chân như mà chỉ duyên đến vạn vật hiện tượng?\n",
      "    Chân như vốn không có công dụng tự phân biệt. Ý thức chính là sự “muốn phân biệt, phát sinh từ chân như vậy,\" cho nên đối tượng của sự phân biệt chỉ là vạn vật hiện tượng mà không phải là chân như bản thể.\n",
      "    Song trong lúc phân biệt, ý thức phát khởi cảm giác khổ thọ (vì mê muội và vì bức não) cho nên ý thức có hy vọng giải thoát và ngộ triệt được bản lai của vạn vật hiện tượng. Ý thức tin rằng ngoài vạn vật hiện tượng luôn luôn biến dị do mình mà sinh khởi, còn có giác tính như bất biến bất dị. Do đó, ý thức tiến dần đến giải thoát. Bước đầu là quan sát vạn vật “đều do mình (ý thức) biến sinh,” do đó biết được rằng vạn vật hiện tượng đều * duy ý thức. Từ lúc ấy ý thức không còn tìm tòi phân biệt ở vạn vật hiện tượng nữa, và tiến lên một bước nữa, quán “ý thức tức là chân như, chân như tức là ý thức.” Chứng ý thức tức là chân như thì ý thức không còn tính chất huyền mộng vô minh nữa. Chứng chân như tức là ý thức thì chân như hoàn thành “diệu giác minh tri”.\n",
      "    Chân như đã thành diệu giác minh tri thì có thể viên chiếu được vạn vật hiện tượng mà tự tánh không sợ bị mê muội nữa. Ý thức đã không còn tính chất huyền mộng vô minh thì có thể tùy duyên phát hiện vạn vật hiện tượng một cách tự tại mà không còn bị vạn vật hiện tượng lôi chuyển xiểng bức nữa.\n",
      "    Đó là địa vị giác ngộ vô thượng chánh đẳng.\n",
      "    Vậy Phật học trả lời câu hỏi thứ ba:\n",
      "    Vạn vật sẽ trở về diệu giác, tức là giác tính minh diệu.\n",
      "    Vấn đề hệ trọng nhất của triết học là bản thể, cũng gọi là nguyên luận hay huyền luận. Các phái thuyết minh về bản thể mỗi phái một khác, nhưng tựu trung chỉ có thể đạt đến quan niệm về bản thể chân như của Phật học là cùng.\n",
      "    Triết học đối với các hiện tượng vũ trụ – vật chất, tinh thần, sinh mệnh cũng thuyết minh bằng các luật nhân quả, sinh diệt, thành hoại, phân hợp, nghiệp dụng, công năng, tạo hóa... tuy nhiên tất cả các quan niệm ấy đều có thể nằm gọn trong duy thức luận của Phật học. Chỗ thiết yếu của triết học là muốn biết được tính cách thông cảm liên lạc giữa chân tướng thực thể và huyễn tướng. Nói một cách khác hơn, là muốn xét xem con người có thể có được một tri thức chính xác vĩnh cứu khả dĩ nhận được bản thể không. Vì thế, gần đây vấn đề tri thức (tri thức luận) được xem rất trọng yếu trong bản thể luận. Phải làm sao cho tri thức chính xác thì sự hư ảo của hiện tượng mới được hiện hiện minh bạch, do đó mới phản chứng được rằng các hiện tượng vũ trụ đều do ý thức mê ám bản thể mà sinh khởi. Nếu luyện nhiên thấy được rằng bản thể đồng triệt với hiện tượng, hiện tượng đồng triệt với bản thể, lý và sự mới nhất trí. Nói tri thức chính xác tức là nói đến diệu giác minh trí của Phật giáo vậy.\n",
      "    Tóm lại bản thể Chân Như vốn tuyệt đối không có tác dụng nhận thức. Vì vốn không có nhận thức nên phát khởi tác dụng nhận thức sai lầm. Vì phát khởi nhận thức sai lầm nên sai lầm mờ ám càng tích tập. Sai làm mờ ám không giải được nên có chúng sinh, có thế giới, có nghiệp quả tương tục. Nếu tự biết rằng tác dụng nhận thức xưa nay là sai lầm, quả quyết đoạn trừ sự sai lầm đó để tự biến thành một trí thức chân xác thì có thể nhận thức được bản thể của tất cả vạn pháp, không còn gì gọi là sai lầm mờ ám nữa.\n",
      "    Lúc ấy, con người thành Phật.\n",
      "    Môn học tập và thực hành việc thành Phật ấy gọi là Phật Học.\n",
      "    Thành Phật chẳng phải là một việc lạ lùng: ai ai cũng có thể làm được, miễn là có một chí hướng trượng phu.\n",
      "  </page>\n",
      "  <page page=\"13\">\n",
      "    GIAO CẢM\n",
      "    Lặng lẽ Chiên đàn nhả khói thơm,\n",
      "    Đỉnh trầm xông ngát Ý thuyền môn.\n",
      "    Lung linh nên ngọc, ngời sao điểm,\n",
      "    Thanh tịnh, trần gian sạch tủi hờn.\n",
      "    Chầm chậm Xuân về, lòng đất chuyển,\n",
      "    Nhạc trời thanh thoát rộn muôn phương.\n",
      "    Tâm linh một thoáng bừng giao cảm:\n",
      "    Lặng hết bao nhiêu lớp sóng cồn.\n",
      "    Trời đất hân hoan mừng Nắng dậy,\n",
      "    Một đoàn em nhỏ rộn yêu thương.\n",
      "    Quần điều, áo lục, theo chân mẹ\n",
      "    Hái lộc mùa Xuân chật ngả đường.\n",
      "    NHẤT-HẠNH\n",
      "  </page>\n",
      "  <page page=\"14\">\n",
      "    GHÉT TẾT\n",
      "    Toàn không hiểu tại sao mình lại dửng dưng được với cái Tết dễ như thế. Còn bảy hôm nữa thì đến Tết rồi. Thế mà chàng không thấy vui buồn gì cả. Trong khi đó, các em chàng rối rít lên. Mấy hôm nữa thì chúng được nghỉ học rồi. Đã mấy lần, chúng ướm thử bộ áo quần Tết mà mẹ chàng đã may cho chúng từ cuối tháng mười. Thằng Nam nhảy nhót như điên cuồng. Còn con Thẻ Yến thì luôn luôn quấn quýt xung quanh mẹ nó để cử xỉu rỉ hỏi về chuyện Tết.\n",
      "    Thằng Nam thì cứ nằn nì nhờ chàng viết cho nó bài diễn văn để đọc trong buổi học cuối năm, bài diễn văn chúc Tết thầy giáo nó. Cái thằng mới gan làm sao chứ! Nếu viết không nổi bài diễn văn thì ai bảo nó vỗ ngực nhận lãnh. Toàn mặc kệ. Hễ nó chạy vào nhờ viết là chàng đẩy ngay nó ra.\n",
      "    Con Thẻ Yến tuy không xôn xao bằng thằng Nam nhưng kỳ thực, cũng hoạt động ghê lắm. Nó đã nhờ vú già giặt ủi hộ đồ quân gia đình Phật tử để mồng một mặc đi họp. Nó hoảng bàn Phật của nó mới cẩn thận làm sao! Chẳng thể mà nó kỹ giấy để tí hon, để kéo mẹ nó mua cho được một nhành hoa cắm vào cái độc bình thủng bên cạnh tấm ảnh Phật lồng trong khung kính cũng nhỏ xíu, độ bằng ba ngón tay của người lớn.\n",
      "    Nào có phải là trẻ con mới vui Tết đâu: Chính mẹ chàng cũng xôn xao vì Tết đấy! Bà sửa soạn cho cái Tết từ tháng mười một. Hôm nay, bà với vú già ngồi gói bánh một cách vui vẻ và chăm chút. Áo quần và khăn bàn để trong tủ cũng đã được đem ra phơi, choáng rực cả sân. Không khí có vẻ tưng bừng quá. Cha chàng mấy hôm nay cũng để ý đặc biệt về chuyện Tết. Trưa hôm qua, thứ bảy, ở sở làm về, ông đã đem lư đồng và đồ thờ xuống và hai cha con đã lau chùi suốt một buổi chiều. Hôm nay, ở cửa, đã lóe loạt hai câu đối do cha chàng và chàng lau chùi tràng kỷ, bàn thờ và các củ đối khảm xà cừ. Cha chàng thường ngày ít khi mó đến những việc tỉ mỉ này lắm. Thế mà hôm nay, ông làm một cách hoan hỷ, và lắm lúc, có vẻ trang nghiêm nữa. Còn Toàn, chàng chỉ làm việc một cách \"nguyên tắc\" mà thôi, không cảm thấy một chút rung động nào trong tâm hồn cả.\n",
      "  </page>\n",
      "  <page page=\"15\">\n",
      "    Chắc có lẽ ngày Tết đối với mình không còn thiêng liêng nữa. Tuy nghĩ vậy, Toàn cũng vẫn còn thấy thắc mắc. Bọn em chàng nó có cần thấy cái thiêng liêng của ngày Tết đâu, thế mà chúng vẫn xôn xao với ngày Tết.\n",
      "    Hay tại vì ưa lớn mất rồi! Cũng không có lý tí nào. Vậy thì cha mẹ mình không già rồi à? Sao hai ông bà vẫn nghĩ đến cái Tết một cách trầm tư như thế?\n",
      "    Toàn khó biết được tại sao. Chàng nghĩ đến những năm xưa, mỗi lần Tết đến, là mỗi lần chàng vui vẻ nô đùa sung sướng hơn lúc nào hết. Chàng nhớ đến năm mười bảy tuổi, cái năm mà chàng có cảm tưởng rằng chàng đã lớn. Ừ từ cái năm ấy trở đi, chàng thấy có sự đổi khác. Tết năm ấy, chàng muốn cho \"người lớn\" biết rằng chàng cũng đã \"lớn rồi,\" nên chàng \"giả bộ\" không muốn sửa soạn gì ráo. Chà! đợi đến Tết, diện một bộ y phục mới để đi chơi, cái kiểu ấy mới xoàng làm sao và trẻ con làm sao! Cho nên chàng đã mặc một bộ đồ cũ trong ngày mồng một. Chàng đã nằm nhà đọc tiểu thuyết và ngủ, trong khi các bạn chàng, các em chàng đốt pháo, đi chơi, nô đùa một cách thành thực.\n",
      "    Nằm trong buồng, Toàn cũng muốn ra chơi với bạn đấy; nhưng nghĩ rằng đã \"người lớn\" thì phải \"lớn\" cho luôn, nên chàng lại cứ nằm lì như thế cho đến hết mấy ngày Tết. Trong những năm loạn lạc, người ta ăn Tết một cách ngập ngừng, sợ hãi, Toàn chủ trương cái triết lý \"dân tộc còn đau khổ vui gì mà ăn Tết,\" và càng lúc càng thấy cái Tết nhạt nhẽo vô nghĩa. Có lúc chàng đâm ra ghét Tết. Và vì thế, năm nay, tuy máu dân tộc đã ngừng chảy trên đất nước, Toàn vẫn thấy dửng dưng với cái Tết như thường.\n",
      "    Nhìn đàn em náo nức trẻ con với cái Tết, chàng ước được lại như chúng để nô đùa một cách vô tư. Chàng tự biết cái thái độ lãnh đạm của chàng đối với cái Tết đã làm giảm mất cái vui cho mọi người trong gia đình chàng. Chàng đã đứng riêng ra một phe, một phe đối lập với gia đình và đối lập với cái Tết.\n",
      "    Vậy thì vì cái Tết mà Toàn cảm thấy xa gia đình, xa cả mọi người nữa. Chàng đứng trên một mảnh đất riêng, nhìn cái Tết như nhìn một vật gì xa lạ. Chàng chợt thấy thù oán cái người nào đã đặt ra Tết để cho chàng cảm thấy chàng xa hẳn mọi người.\n",
      "    Ai đặt ra Tết nhỉ?\n",
      "  </page>\n",
      "  <page page=\"16\">\n",
      "    Nào biết ai đặt ra! Ngày xưa bốn mùa được phân biệt ra theo quan niệm âm dương, một vòng thành trụ hoại không. Một cuộc sinh trụ dị diệt. Lẽ tuần hoàn ấy ai cũng đã biết. Vạn vật tươi tốt ở mùa xuân để rồi tàn lụi trong mùa đông. Nhưng cuối đông khi dương lại trở về, và vũ trụ tăng thêm sinh lực, chuyển mình để tạo nên một mùa Xuân mới. Lại một vòng thành trụ hoại không. Lại một cuộc sinh trụ, dị diệt...\n",
      "    Trong cuộc sống, con người đã muốn nhịp nhàng theo vũ trụ. Trong cuộc sống, con người đã phải đau khổ theo cùng thành hoại. Mỗi lần mùa Xuân đến là mỗi lần để cho người hy vọng. Tâm trạng con người tươi vui lên như hoa cỏ mùa Xuân, phơi phới lên như ánh nắng hồng ấm áp. Vì con người cần sống, cho nên con người phải hy vọng. Ngày Tết quả không phải chỉ là một ngày hội ăn chơi. Ngày Tết phải là ngày hy vọng.\n",
      "    Toàn bỗng thấy giờ phút giao thừa với tất cả tính cách quan trọng của nó. Vào đêm ba mươi Tết, khắp đó đây, mọi gia đình đều sửa soạn để đón giờ phút ấy. Giao thừa! giờ chấm dứt một năm qua, giờ mở đầu cho một năm mới tinh khôi, đầy hứa hẹn! Giao thừa! Giờ phút quý báu và linh thiêng, giờ khởi diễn của tương lai tươi sáng...\n",
      "    Hèn chi ngày mồng một Tết lại là ngày vía đức Di-lặc. Đức Phật vị lai này là tượng trưng cho một niềm hoan hỷ vô biên, cho một trời tương lai sáng đẹp. Khen thay cho những con người thời xưa! Đem ngày đầu năm để làm ngày kỷ niệm tượng trưng cho vị Phật Tương lai và Hoan hỷ, còn gì thích hợp hơn nữa!\n",
      "    Nghĩ đến đấy, Toàn thấy cả một sức sống bền bỉ của những con người Á đông qua các cuộc biến chuyển thăng trầm, Tổ tiên của người Việt đã vạch ra nếp sống của người Việt. Niềm hy vọng đầu Xuân năm nào cũng như năm nào, vẫn mặn nồng và tha thiết. Giờ phút giao thừa là giờ phút cha mẹ con cái trong gia đình họp lại dưới làn trầm hương trong sự thông cảm chứng giám của tổ tiên để đón chào Tương lai và Hy vọng.\n",
      "    Bao nhiêu đen tối của quá khứ phải tan biến đi trước một niềm Hy vọng dạt dào, một niềm tin tưởng vững vàng ở tương lai. Nụ cười Hoan hỷ của Phật Di Lặc là biểu trưng cụ thể cho một Tương lai sáng đẹp, cho một Hy vọng dồi dào, cho một Hoan lạc vô biên.\n",
      "    Đời sống gia đình với tình thương yêu mặn nồng được đặt trên một nền tảng vững vàng: đó là sự thông cảm và hoài niệm tổ tiên, đó là những truyền thống chặt chẽ giữ cho con người vững gốc. Nếp sống tín ngưỡng, nếp sống tình cảm, nếp sống kinh tế đã cùng nhau hòa hợp tạo thành một lề lối sống đặc biệt cho người dân Việt.\n",
      "    Toàn không còn xem cái Tết như là một ngày hội để cho con người nghỉ ngơi và vui chơi cho thỏa thích nữa. Bởi vì chàng thấy rằng quan niệm như thế thì rất thiếu sót và sai lầm. Ngày Tết là sự biểu thị đầy đủ nhất của nếp sống truyền thống muôn đời. Thế mà chàng đã định chống lại cái Tết. Chống lại cái Tết tức là chống lại gia đình, chống lại tổ tiên, chống lại dân tộc. Mà sự chống lại ấy lại chỉ phát xuất do một quan niệm quá máy móc, quá thiên về nếp sống vật chất, từ bỏ những gì gọi là thiêng liêng, là truyền thống của nếp sống tình cảm sâu xa.\n",
      "    Chàng vui vẻ gọi Nam lại, và bằng lòng viết cho Nam bài diễn văn để cậu đọc trong dịp tất niên. Thể Yến thấy anh vui vẻ nhập cuộc, thích chí cười vang. Tiếng cười trong sáng gây trong lòng Toàn một niềm rung động thanh cao. Từ giờ phút này, người con trai ấy lại bắt đầu mến Tết.\n",
      "  </page>\n",
      "  <page page=\"17\">\n",
      "    PHẬT GIÁO BỊ LỢI DỤNG?\n",
      "    Dưới thời Pháp thuộc, vào khoảng năm 1930, phong trào Phật giáo bỗng nhiên bồng bột nổi dậy, bắt đầu từ Nam rồi tràn rộng ra Trung Bắc. Nhiều người không hiểu sao có phong trào ấy, đã bàn tán sôi nổi. Có người nghĩ đấy là sự phản động của lòng tự ái của một dân tộc bị áp bức, một dân tộc tuy kém thiếu về vật chất, nhưng tinh thần còn tráng kiện: một dân tộc sau nhiều trận chiến đấu về mặt chính trị không có kết quả vì bị đàn áp quá mạnh, nên lòng yêu nước thương nòi đã biến thể mà phát lộ ra hình thức tôn giáo. Nhưng có một số rất đông đồng bào lại nghi chính thực dân đã lợi dụng Phật giáo để ru ngủ một dân tộc muốn quật khởi. Họ cho rằng vì toan dùng thần giáo để huyễn hoặc dân chúng không được nên thực dân đã xoay qua dùng Phật giáo, vì Phật giáo, tuy không chủ trương mê hoặc, nhưng cũng có hương vị tôn giáo đủ để dân bản xứ say sưa trong cõi mộng Niết bàn.\n",
      "    Những lời bàn ấy có đúng chăng? Chúng ta hãy nghe báo VIÊN ÂM hồi ấy giải bày:\n",
      "    \"Xưa nay, Phật giáo vẫn trải qua nhiều cuộc thịnh suy. Phong trào Phật giáo phục hưng hiện nay, không những chỉ ở nước ta, mà đã bắt đầu ở Nhật, ở Trung Hoa, Ấn Độ, Xiêm và truyền khắp Âu Châu, Mỹ Châu. Phong trào ấy có hai nguyên nhân chính:\n",
      "    \"1.– Sự tiến hóa của phái trí thức xứ ta về phương diện luận lý: Xứ ta xưa nay chịu ảnh hưởng Tổng nha, lối lý luận bị khép vào khuôn khổ nhất định, khó lãnh hội được lối lý luận khúc chiết của đạo Phật. Vì thế các kinh điển lý nghĩa sâu xa khó truyền bá rộng ra ngoài một số người uyên bác. Nay nhờ hấp thụ tinh thần tự do biện luận của khoa học và triết học mới, trí thức được mở mang, đủ tư cách để hiểu giáo lý sâu xa của Phật, vì thế mà sự tuyên dương Phật học được bành trướng dễ dàng.\n",
      "    \"2.— Sự phản động của luân lý đạo đức trước sức mạnh lạnh lùng và mù quáng của Khoa học đã phát minh nhiều lẽ chân thật phủ tan bao bóng mở u mê, xóa bỏ một phần lớn cội gốc của mê tín. Nhưng khoa học chỉ giúp cho người thêm năng lực mà không thể trực tiếp tự mình giúp cho người được an vui, hạnh phúc. Thần giáo đã bị khoa học đánh đổ, triết học đã bị khoa học lấn một phần lớn địa hạt, nên mất hẳn tư cách lãnh đạo tinh thần nhân loại. Vậy người ta còn biết nương vào đâu đề dùng khoa học cho đúng đắn? Bởi thế, sự chấn hưng Phật học bỗng nhiên trở thành khẩn thiết, vì chỉ Phật giáo có nghĩa lý sâu xa đúng đắn, có thực nghiệm chắc chắn nơi tự tâm, chứ không bắt phải tin cạn, theo bậy, không bắt quy lụy một đấng thiêng liêng nào nên rất hợp với trí não không chịu ỷ lại không chịu mê tín của khoa học. Phật pháp trau dồi đức tính cho người để có thể dùng khoa học phụng sự nhân sanh một cách đúng đắn.\n",
      "    \"Vì những lẽ ấy mà các thức giả trong nước, cũng như trong thế giới đã xu hướng về Phật học và kích thích cho phong trào Phật giáo phục hưng và phát triển mạnh.\"\n",
      "    Có lẽ những lời giải ấy đã được phần đông đồng bào công nhận nên không còn những lời vu khống nặng nề nữa. Tuy thế thỉnh thoảng vẫn còn thấy xuất hiện những quyển sách nhỏ hoặc những cột báo không biết tác giả là ai, công kích lý thuyết của Phật một cách buồn cười hoặc kê lề tội lỗi của một vài sư, vãi, hoặc một vài nhân vật trong hội Phật học v.v... và tệ hơn nữa, gần đây, có một số người trước mặt thì tỏ ra tán dương mà sau lưng thì ngấm ngầm công kích Phật giáo.\n",
      "    Nhưng chúng ta hãy bỏ qua những lời công kích vụn vặt ấy và những cử chỉ thiếu thành thật kia. Chủ trương của người viết bài này không phải để binh vực một vài cá nhân hư đốn, hay cải chính một vài lý thuyết đã bị hiểu lầm. Chúng tôi nêu vấn đề này lên là cốt để độc giả và chúng tôi thiết thực xét lại một lần nữa xem Phật giáo có lợi hoặc có hại gì cho quần chúng mà thôi. Nếu có hại chúng ta nên triệt để bài trừ. Nếu có lợi chúng ta nên cố gắng duy trì, khuyến khích và nếu ai muốn “lợi dụng” Phật giáo, chúng ta nên khuyến khích họ - lợi dụng - thêm.\n",
      "    Về phần đạo đức, đạo Phật chủ trương bình đẳng triệt để: Bình đẳng giữa Phật, Tiên, Người và muôn vật; bác ái triệt để: thương yêu tất cả mọi loài cho đến các giống sinh vật nhỏ; vị tha triệt để: làm ích lợi không phân biệt người và mình.\n",
      "    Về phần tư tưởng, Phật Giáo đã lập những hệ thống triết lý rực rỡ vững vàng (sẽ nghiên cứu rõ ràng sau) những hệ thống triết lý ấy có thể hướng dẫn trí người theo con đường đúng đắn để được sáng suốt khỏi vấn vương trong huyễn mộng, mờ ám trong lý thuyết và soi thấu tính cách chân thật của sự vật.\n",
      "  </page>\n",
      "  <page page=\"18\">\n",
      "    Về phần thực hành, Phật giáo có đủ các phép tu như: ngũ giới, thập thiện, lục độ, thập hành v.v... để thi hành đúng theo đạo lý, để nâng đời sống ra khỏi khổ ải trầm luân.\n",
      "    Ai đã biết qua Phật giáo đều khâm phục, đều nhận thấy bổ ích rất nhiều cho tinh thần; nhưng nếu phải công nhận lý thuyết thật là hay, người ta thường công kích Phật giáo kém thực hành.\n",
      "    Nhưng đạo Phật có kém thực hành không?\n",
      "    Người ta thường bằng vào những công cuộc xã hội của một vài tôn giáo Âu Tây mà chê trách Phật giáo kém thực hành. Có thể công nhận rằng người Việt Nam cũng như hết thảy dân tộc Á đông, không có não tổ chức những công cuộc cứu tế xã hội. Nhưng chúng ta không thể bằng vào não thiếu tổ chức ấy để phê bình rằng dân tộc ta hầu hết là Phật tử thiếu lòng từ thiện, thiếu thực hành thiện sự. Chính bởi lòng từ thiện quá dồi dào, thực hành thiện sự quá dễ dàng nên trong xã hội ta từ trước không cần phải tổ chức những công cuộc cứu tế xã hội to lớn.\n",
      "    Các bạn khoan cho câu nói của chúng tôi là lập dị. Trong khi mọi người nghèo đói có thể ngửa tay xin bất kỳ một người nào, một kẻ lỡ đường có thể gõ cửa ở mọi nhà, một người đau có năm bảy người láng giềng chạy đến cho thuốc, một người khách lạ đến nhà, gặp bữa ăn, chỉ thêm một bát đũa... thử hỏi khi ấy, có cần gì phải lập ra những nhà tế bần, dục anh hay bệnh viện?... Chính khi trong một xã hội, việc lập những cơ quan từ thiện đã trở thành vấn đề cấp bách, là khi lòng người ở đấy đã có góc có cạnh, đã chia cách nhau lắm rồi. Họ không thể làm việc thiện một cách trực tiếp, dễ dàng, mà phải cần những cơ quan môi giới giữa người cho và người nhận, người giàu và người nghèo, người sướng và người khổ.\n",
      "    Vì những lẽ trên, chúng ta không nên bằng vào sự thiếu tổ chức những công cuộc xã hội mà chê trách Phật tử thiếu thực hành. Trái lại, nếu xét một cách vô tư ở vài quan điểm khác, chúng ta có thể nhận được những ảnh hưởng tốt của Phật giáo giữa quần chúng từ ngày phong trào Phật giáo nổi dậy. Như ở Trung, hễ ở đâu có hội Phật học, nhất là có người thông hiểu giáo lý, thành thật tu học thì ở đó chúng ta nhận thấy có sự cố gắng để làm việc Phật dạy, như khuyên bảo nhau, tránh vật dục, giúp đỡ nhau, làm việc phước thiện một cách âm thầm, kín đáo. Và nếu điều tra kỹ, chúng ta sẽ thấy rằng làng nào có khuôn TỊNH ĐỘ, tất có sự thay đổi tốt hơn trước; và hiện nay, nếu kiểm điểm các người đã hăng hái tham gia vào việc làng việc nước, chúng ta sẽ thấy một số đông là Phật tử. Tóm lại, tuy Phật giáo chưa làm được những công cuộc lợi ích lớn lao như ta mong ước và giáo lý đã hứa hẹn, nhưng Phật giáo cũng chưa hề gây hại gì như dùng sức mạnh để truyền bá giáo lý của mình, chia rẽ quốc dân, binh mạnh hiếp yếu v.v..\n",
      "    Vậy đã nhận thấy đạo Phật là hay, chúng ta cần phải làm thế nào để ủng hộ cho Phật giáo được nảy nở mạnh, để được lợi ích nhiều.\n",
      "  </page>\n",
      "  <page page=\"19\">\n",
      "    Như thế là chúng ta biết lợi dụng Phật giáo. Thực dân đã lợi dụng Phật giáo, nhưng cũng chỉ biết lợi dụng căn bản, nghĩa là muốn dùng cái hình thức tôn giáo. để một mặt hòng mê hoặc quần chúng, một mặt quảng cáo sự tôn trọng tự do tín ngưỡng của chúng. Gây những nhân hình thức, chúng cũng chỉ thu được quả hình thức; một ít lễ cầu siêu hoặc cầu an cho vài nhân vật quyền thế, một vài cuộc đón tiếp hoặc tiễn đưa một cách gượng gạo, mà người thức giả đứng trong cuộc cũng thấy ngao ngán cả can trường. Trái lại, một số tín đồ Phật giáo, đã biết lợi dụng cái tinh túy của Phật giáo, nên đã bồi dưỡng cho tâm trí mình và những người chung quanh mình thêm phần tươi tốt, để làm cho đời sống của mình có ý nghĩa và êm ái ích lợi hơn.\n",
      "    Phật giáo bị lợi dụng! Ấy là điều người ta thường nghi ngại. Nhưng nghi ngại như thế vì chưa thật hiểu Phật giáo. Phật giáo không hề sợ ai lợi dụng. Phật giáo là phương pháp giúp cho người đạt ý tốt của mình. Người có nguyện vọng nhỏ chỉ dùng những phương pháp giản dị cũng đủ thỏa mãn; người có chí hướng cao xa, thì sẵn có phép tu khó khăn hơn để giúp cho thực hiện chí nguyện cao xa ấy. Phật thường dạy: \"Giáo lý thật như một kho báu, tùy sở thích của mình, ai muốn lựa gì thì lựa, song hễ đã biết lựa mà dùng thì bao giờ cũng được bổ ích”. Nếu biết lợi dụng ngũ giới thì sẽ được thần tâm yên ổn, thiện tính phát triển, người đời mến yêu. Nếu biết lợi dụng thập thiện, thì sẽ được luôn luôn sung sướng, người đời tôn trọng, vì đã giúp ích vô cùng cho đời sống. Nếu biết lợi dụng đúng phép Thanh văn, Duyên giác thì có thể thành bậc Thánh hiện siêu thoát không còn vướng chút khổ trần gian. Nếu biết lợi dụng phép Bồ Tát Giới như Tứ Nhiếp Pháp, Lục độ, thì có thể giác ngộ giải thoát thành Phật đủ năng lực cứu độ cho vô số chúng sanh.\n",
      "    Chúng ta không nên sợ Phật giáo bị lợi dụng. Chỉ sợ người đời không biết lợi dụng Phật giáo mà thôi. Chính vì lẽ ấy mà Phật Thích Ca đã suốt đời giảng giải đạo lý và các Phật tử, đủ trí đủ sức, không ngại gian lao, nguy hiểm, đã luôn luôn tìm đủ phương tiện để cho ai ai cũng biết triệt để lợi dụng Phật giáo để đưa mình và người đến nơi hạnh phúc chân thật.\n",
      "    PHẠM HỮU BÌNH\n",
      "    (Trong đoàn Phật Học Đ.D.)\n",
      "  </page>\n",
      "  <page page=\"20\">\n",
      "    TẾT THÔNG CẢM\n",
      "    TRUYỆN NGẮN CỦA: HOÀNG HOA\n",
      "    – Mẹ gắng uống thêm một viên thuốc nữa cho mau mạnh mẹ.\n",
      "    Bà Sáu mở mắt nhìn Vị, rồi ra hiệu cho đứa con trai mười một tuổi ngồi xuống bên giường. Bà nắm lấy tay Vi, mỉm cười với con:\n",
      "    – Không còn uống thuốc nữa đâu, con ạ. Mẹ thấy khỏe lắm rồi. Con xem, mẹ ăn được nhiều cháo lắm.\n",
      "    Mẹ của Vị ăn được nhiều thật thực. Hồi trưa, lui cui dưới bếp, Vị có nấu cho mẹ vài chén cháo thật ngon, bỏ tiêu vào hơi nhiều để mẹ Vị ăn cho ra mồ hôi. Hồi sáng Vị cũng đã có nấu cháo, nhưng bà Sáu chỉ nhấm nháp chút ít rồi thôi. Thế mà chiều nay bà ăn được hơn hai chén cháo tiêu. Vị rất lấy làm sung sướng.\n",
      "    Mẹ có lạnh mà hôi không mẹ?\n",
      "    – Có. Con lấy cho mẹ cái áo để mẹ thay.\n",
      "    Thay áo cho mẹ xong, Vị hỏi:\n",
      "    Mẹ có thấy trong người khỏe hơn không mẹ?\n",
      "    Quàng tay vào cổ con, bà Sáu âu yếm trả lời:\n",
      "    – Mẹ thấy nhẹ trong người lắm rồi, con ạ. Có lẽ ngày mai mẹ bắt đầu ăn cơm được. Mai con sẽ nấu cơm cho mẹ ăn nhé. À, hôm nay có phải ba mươi Tết không hả con, hay mới hai mươi chín thôi?\n",
      "    Vị rầu rầu nét mặt:\n",
      "    – Ba mươi rồi đấy mẹ ạ. Chà! người ta đi chợ Tết đông quá! Nếu mẹ không ốm thì có lẽ chiều hôm nay mẹ với con cũng đi chợ Tết đấy.\n",
      "    Bà Sáu buồn rầu:\n",
      "    – Tết nhất đến rồi mà trong nhà chẳng có gì cả. Chơ vơ chỉ có hai mẹ con. Mẹ thì ốm, con thì dại...\n",
      "    Thấy mẹ buồn, Vị vội gạt đi:\n",
      "    – Mẹ đừng nói thế chứ! Tết với nhất, cần gì! Căn bản hơn hết là mẹ khỏi bệnh. Mẹ khỏi bệnh thì con mừng bằng một ngàn lần.\n",
      "  </page>\n",
      "</document>\n"
     ]
    }
   ],
   "source": [
    "print(out[0])"
   ]
  },
  {
   "cell_type": "code",
   "execution_count": null,
   "metadata": {},
   "outputs": [
    {
     "name": "stdout",
     "output_type": "stream",
     "text": [
      "journal_cleaning_batches/clean_batch_phat-giao-viet-nam-1956-12.jsonl\n",
      "Batch Initiated: 11-14-2024 20:57:39 PST | journal_cleaning_batches/clean_batch_phat-giao-viet-nam-1956-12.jsonl\n",
      "journal_cleaning_batches/clean_batch_phat-giao-viet-nam-1956-14.jsonl\n",
      "Batch Initiated: 11-14-2024 20:57:41 PST | journal_cleaning_batches/clean_batch_phat-giao-viet-nam-1956-14.jsonl\n",
      "journal_cleaning_batches/clean_batch_phat-giao-viet-nam-1956-09-10.jsonl\n",
      "Batch Initiated: 11-14-2024 20:57:43 PST | journal_cleaning_batches/clean_batch_phat-giao-viet-nam-1956-09-10.jsonl\n",
      "journal_cleaning_batches/clean_batch_phat-giao-viet-nam-1956-16.jsonl\n",
      "Batch Initiated: 11-14-2024 20:57:45 PST | journal_cleaning_batches/clean_batch_phat-giao-viet-nam-1956-16.jsonl\n",
      "journal_cleaning_batches/clean_batch_phat-giao-viet-nam-1956-11.jsonl\n",
      "Batch Initiated: 11-14-2024 20:57:46 PST | journal_cleaning_batches/clean_batch_phat-giao-viet-nam-1956-11.jsonl\n",
      "journal_cleaning_batches/clean_batch_phat-giao-viet-nam-1956-25-26.jsonl\n",
      "Batch Initiated: 11-14-2024 20:57:47 PST | journal_cleaning_batches/clean_batch_phat-giao-viet-nam-1956-25-26.jsonl\n",
      "journal_cleaning_batches/clean_batch_phat-giao-viet-nam-1956-13.jsonl\n",
      "Batch Initiated: 11-14-2024 20:57:48 PST | journal_cleaning_batches/clean_batch_phat-giao-viet-nam-1956-13.jsonl\n",
      "journal_cleaning_batches/clean_batch_phat-giao-viet-nam-1956-17-18.jsonl\n",
      "Batch Initiated: 11-14-2024 20:57:49 PST | journal_cleaning_batches/clean_batch_phat-giao-viet-nam-1956-17-18.jsonl\n",
      "journal_cleaning_batches/clean_batch_phat-giao-viet-nam-1956-15.jsonl\n",
      "Batch Initiated: 11-14-2024 20:57:51 PST | journal_cleaning_batches/clean_batch_phat-giao-viet-nam-1956-15.jsonl\n",
      "journal_cleaning_batches/clean_batch_phat-giao-viet-nam-1956-28.jsonl\n",
      "Batch Initiated: 11-14-2024 20:57:52 PST | journal_cleaning_batches/clean_batch_phat-giao-viet-nam-1956-28.jsonl\n",
      "journal_cleaning_batches/clean_batch_phat-giao-viet-nam-1956-24.jsonl\n",
      "Batch Initiated: 11-14-2024 20:57:53 PST | journal_cleaning_batches/clean_batch_phat-giao-viet-nam-1956-24.jsonl\n",
      "journal_cleaning_batches/clean_batch_phat-giao-viet-nam-1956-19.jsonl\n",
      "Batch Initiated: 11-14-2024 20:57:54 PST | journal_cleaning_batches/clean_batch_phat-giao-viet-nam-1956-19.jsonl\n",
      "journal_cleaning_batches/clean_batch_phat-giao-viet-nam-1956-02.jsonl\n",
      "Batch Initiated: 11-14-2024 20:57:54 PST | journal_cleaning_batches/clean_batch_phat-giao-viet-nam-1956-02.jsonl\n",
      "journal_cleaning_batches/clean_batch_phat-giao-viet-nam-1956-22.jsonl\n",
      "Batch Initiated: 11-14-2024 20:57:55 PST | journal_cleaning_batches/clean_batch_phat-giao-viet-nam-1956-22.jsonl\n",
      "journal_cleaning_batches/clean_batch_phat-giao-viet-nam-1956-04.jsonl\n",
      "Batch Initiated: 11-14-2024 20:57:56 PST | journal_cleaning_batches/clean_batch_phat-giao-viet-nam-1956-04.jsonl\n",
      "journal_cleaning_batches/clean_batch_phat-giao-viet-nam-1956-03.jsonl\n",
      "Batch Initiated: 11-14-2024 20:57:57 PST | journal_cleaning_batches/clean_batch_phat-giao-viet-nam-1956-03.jsonl\n",
      "journal_cleaning_batches/clean_batch_phat-giao-viet-nam-1956-27.jsonl\n",
      "Batch Initiated: 11-14-2024 20:57:58 PST | journal_cleaning_batches/clean_batch_phat-giao-viet-nam-1956-27.jsonl\n",
      "journal_cleaning_batches/clean_batch_phat-giao-viet-nam-1956-01.jsonl\n",
      "Batch Initiated: 11-14-2024 20:57:59 PST | journal_cleaning_batches/clean_batch_phat-giao-viet-nam-1956-01.jsonl\n",
      "journal_cleaning_batches/clean_batch_phat-giao-viet-nam-1956-05-06.jsonl\n",
      "Batch Initiated: 11-14-2024 20:58:00 PST | journal_cleaning_batches/clean_batch_phat-giao-viet-nam-1956-05-06.jsonl\n",
      "journal_cleaning_batches/clean_batch_phat-giao-viet-nam-1956-23.jsonl\n",
      "Batch Initiated: 11-14-2024 20:58:01 PST | journal_cleaning_batches/clean_batch_phat-giao-viet-nam-1956-23.jsonl\n",
      "journal_cleaning_batches/clean_batch_phat-giao-viet-nam-1956-20-21.jsonl\n",
      "Batch Initiated: 11-14-2024 20:58:02 PST | journal_cleaning_batches/clean_batch_phat-giao-viet-nam-1956-20-21.jsonl\n",
      "journal_cleaning_batches/clean_batch_phat-giao-viet-nam-1956-07.jsonl\n",
      "Batch Initiated: 11-14-2024 20:58:03 PST | journal_cleaning_batches/clean_batch_phat-giao-viet-nam-1956-07.jsonl\n"
     ]
    }
   ],
   "source": [
    "# batch_job_path = Path(\"./journal_cleaning_batches\")\n",
    "\n",
    "# batch_info = []\n",
    "# for path_obj in batch_job_path.iterdir():\n",
    "#     regex = re.compile(r\"^clean_batch_.*\\.jsonl\")\n",
    "#     if path_obj.is_file() and regex.search(path_obj.name):\n",
    "#         batch_file = batch_job_path / path_obj.name\n",
    "#         print(batch_file)\n",
    "#         try:\n",
    "#             batch = start_batch(batch_file)\n",
    "#             batch_info.append(batch)\n",
    "#         except Exception as e:\n",
    "#             print(f\"{e}\\nfailed.. \\nContinuing.\")"
   ]
  },
  {
   "cell_type": "code",
   "execution_count": 51,
   "metadata": {
    "trusted": false
   },
   "outputs": [],
   "source": [
    "system_message_translate = \"\"\"\n",
    "You are translating as Thich Nhat Hanh from Vietnamese to English for your experienced students. \n",
    "The text is from 1956-1958. Use the title: \"Vietnamese Buddhist Journal.\" \n",
    "You want experienced students to understand the material and its historical and cultural context—in particular, as it relates to the life and teaching of Thich Nhat Hanh.\n",
    "\n",
    "- Give a full translation that flows well in English in the style of Thich Nhat Hanh.\n",
    "- Format the text clearly and cleanly.\n",
    "- Add standard XML metadata tags that will improve the readability and clarity of the content.\n",
    "- Example tags: <p> <section> <title> <subtitle> <contents> <author> <li> <i> <b> etc.\n",
    "- Titles and XML sections should also be translated.\n",
    "- Do not make comments within the text itself. \n",
    "- Leave all names of people in original Vietnamese with diacritics. \n",
    "- Each section of the text should have its own dedicated `<footnotes>` section.\n",
    "- Use Footnotes liberally to explain elements of Vietnamese Buddhism or Buddhism in general, elements of Vietnamese culture and history, or elements relative to the life, teachings, and practice of Thich Nhat Hanh.\n",
    "- When translating complex terms (Sanskrit, Sino-Vietnamese, or French) mark these with <i></i> tags and give an explanation in the footnotes.  \n",
    "- For any terms footnoted, give the original Vietnamese, Sino-Vietnamese, Sanskrit, or French in the footnote. \n",
    "- If a paragraph logically spans two pages, it can be moved to the most logical page to allow translation to flow seamlessly.\n",
    "- Due to the size of the journal, you may be translating a piece of the document in the middle which will be split from its preceding pages or sections.\n",
    "\n",
    "Footnote Formatting:\n",
    "Inline Footnote Markers:\n",
    "   - In the main text, footnotes should be marked numerically in brackets, such as “[1]”.\n",
    "   - Enclose each inline footnote marker within a `<footnote number=\"n\">` tag, where `n` is the footnote number.\n",
    "   - Example of a footnoted paragraph:\n",
    "     `<p>This paragraph has a footnote. This is a sentence in the paragraph.</p><footnote number=\"1\">[1]</footnote>`\n",
    "\n",
    "Footnote Section:\n",
    "   - At the end of each logical section, include a `<footnotes>` section where explanations for each footnote of that section are listed.\n",
    "   - Each footnote in the `<footnotes>` section should use a `<footnote number=\"n\">` tag, with `n` matching the inline reference.\n",
    "\n",
    "Numbering:\n",
    "   - Footnote numbers should restart at 1 for each new section of text.\n",
    "\n",
    "Here's an example of text containing two footnotes, followed by its `<footnotes>`:\n",
    "\n",
    "`<p>This is the first sentence with a footnote.<footnote number=\"1\">[1]</footnote> Here is another statement that needs a footnote.<footnote number=\"2\">[2]</footnote></p>`\n",
    "\n",
    "`<footnotes>`\n",
    "    `<footnote number=\"1\">This is the explanation of the first footnote</footnote>`\n",
    "    `<footnote number=\"2\">This is the explanation of the second footnote</footnote>`\n",
    "`</footnotes>` \n",
    "\"\"\""
   ]
  },
  {
   "cell_type": "code",
   "execution_count": 52,
   "metadata": {
    "trusted": false
   },
   "outputs": [],
   "source": [
    "user_message_string_translate = \"\"\"{text}\"\"\""
   ]
  },
  {
   "cell_type": "code",
   "execution_count": 53,
   "metadata": {
    "trusted": false
   },
   "outputs": [],
   "source": [
    "def user_wrap_function_translate(text_block):\n",
    "    return user_message_string_translate.format(text=text_block)"
   ]
  },
  {
   "cell_type": "markdown",
   "metadata": {},
   "source": [
    "### clean the the chunks:"
   ]
  },
  {
   "cell_type": "code",
   "execution_count": 54,
   "metadata": {
    "trusted": false
   },
   "outputs": [],
   "source": [
    "# chunks = split_xml_text(raw_text_xml, chunk_token_limit=11000)\n",
    "# clean_message_seq = generate_messages(system_message_clean, user_wrap_function_clean, chunks)\n",
    "# cleaned_data = []\n",
    "# translated_chunks = []\n",
    "# for i, msgs in enumerate(clean_message_seq):\n",
    "#     print(f\"cleaning chunk: {i}\")\n",
    "#     completion_clean = run_immediate_chat_process(msgs)\n",
    "#     if completion_clean:\n",
    "#         clean_response = completion_clean.choices[0].message.content\n",
    "#         cleaned_data.append(clean_response)\n",
    "#     else:\n",
    "#         break\n",
    "#         print(\"failed.\")\n",
    "\n"
   ]
  },
  {
   "cell_type": "code",
   "execution_count": 57,
   "metadata": {},
   "outputs": [
    {
     "data": {
      "text/plain": [
       "12714"
      ]
     },
     "execution_count": 57,
     "metadata": {},
     "output_type": "execute_result"
    }
   ],
   "source": [
    "token_count(full_cleaned_text)"
   ]
  },
  {
   "cell_type": "code",
   "execution_count": null,
   "metadata": {},
   "outputs": [],
   "source": [
    "# write_text_to_file(\"phat-giao-viet-nam-1956-25-26/full_cleaned_text.xml\", full_cleaned_text)"
   ]
  },
  {
   "cell_type": "code",
   "execution_count": null,
   "metadata": {},
   "outputs": [],
   "source": [
    "# to_tx_text = get_text_from_file(\"phat-giao-viet-nam-1956-25-26/full_cleaned_text.xml\")"
   ]
  },
  {
   "cell_type": "code",
   "execution_count": 55,
   "metadata": {},
   "outputs": [
    {
     "data": {
      "text/plain": [
       "5"
      ]
     },
     "execution_count": 55,
     "metadata": {},
     "output_type": "execute_result"
    }
   ],
   "source": [
    "len(cleaned_chunks)"
   ]
  },
  {
   "cell_type": "code",
   "execution_count": null,
   "metadata": {},
   "outputs": [],
   "source": [
    "translation_message_seq = generate_messages(system_message_translate, user_wrap_function_translate, cleaned_chunks)\n",
    "for i, tx_msgs in enumerate(translation_message_seq):\n",
    "    print(f\"translating chunk: {i}\")\n",
    "    \n",
    "    if completion_tx:\n",
    "        tx_response = completion_tx.choices[0].message.content\n",
    "        translation_data.append(tx_response)\n",
    "    else:\n",
    "        print(\"failed.\")\n",
    "        break"
   ]
  },
  {
   "cell_type": "code",
   "execution_count": null,
   "metadata": {},
   "outputs": [],
   "source": [
    "translation_message_seq = generate_messages(system_message_translate, user_wrap_function_translate, cleaned_chunks)\n",
    "for i, tx_msgs in enumerate(translation_message_seq):\n",
    "    print(f\"translating chunk: {i}\")\n",
    "    \n",
    "    if completion_tx:\n",
    "        tx_response = completion_tx.choices[0].message.content\n",
    "        translation_data.append(tx_response)\n",
    "    else:\n",
    "        print(\"failed.\")\n",
    "        break"
   ]
  },
  {
   "cell_type": "code",
   "execution_count": null,
   "metadata": {
    "trusted": false
   },
   "outputs": [
    {
     "name": "stdout",
     "output_type": "stream",
     "text": [
      "translating chunk: 0\n"
     ]
    }
   ],
   "source": [
    "# translation_data = []\n",
    "# input_text_chunks = [to_tx_text]\n",
    "# translation_message_seq = generate_messages(system_message_translate, user_wrap_function_translate, input_text_chunks)\n",
    "# for i, tx_msgs in enumerate(translation_message_seq):\n",
    "#     print(f\"translating chunk: {i}\")\n",
    "#     completion_tx = run_immediate_chat_process(tx_msgs)\n",
    "#     if completion_tx:\n",
    "#         tx_response = completion_tx.choices[0].message.content\n",
    "#         translation_data.append(tx_response)\n",
    "#     else:\n",
    "#         print(\"failed.\")\n",
    "#         break"
   ]
  },
  {
   "cell_type": "code",
   "execution_count": 65,
   "metadata": {},
   "outputs": [
    {
     "name": "stdout",
     "output_type": "stream",
     "text": [
      "<document>\n",
      "  <page page=\"1\">\n",
      "    <title>Journal of Buddhism in Vietnam</title>\n",
      "    <contents>Số 25 và 26 - Special Edition to Commence the Third Year</contents>\n",
      "    <author>Thích Nhất Hạnh</author>\n",
      "  </page>\n",
      "  <page page=\"2\">\n",
      "    <title>Table of Contents</title>\n",
      "    <p>The Vietnamese Buddhism enters its third year</p>\n",
      "    <p>Truth does not lie in language and words</p>\n",
      "    <p>Venerable Huyền Trang's journey to India to seek scriptures (continued)</p>\n",
      "    <p>What is the self?</p>\n",
      "    <p>Why it's necessary to unify Vietnamese Buddhism</p>\n",
      "    <p>The Vietnamese Buddhism Monthly's interview on the issue of unification</p>\n",
      "    <p>Plan to unify rituals</p>\n",
      "    <p><i>Chia gia-lài</i> (A Dharma story)</p><footnote number=\"1\">[1]</footnote>\n",
      "    <p>Documents on the Buddhist Family (continued)</p>\n",
      "    <p>Proper understanding of the significance of the Buddhist Family</p>\n",
      "    <p>Two enduring peaks (A short story)</p>\n",
      "    <p>Thích Đức-Nhuận</p>\n",
      "    <p>Thích Tâm Châu</p>\n",
      "    <p>Thích Tâm-Thọ</p>\n",
      "    <p>Nguyễn-Khắc-Từ</p>\n",
      "    <p>Hùng-Khanh</p>\n",
      "    <p>Minh-Hữu</p>\n",
      "    <p>Buddhism in America</p>\n",
      "    <p>Viên Minh</p>\n",
      "    <p><i>Cội Phúc</i> (Short story awarded an honorable mention)</p><footnote number=\"2\">[2]</footnote>\n",
      "    <p>Lê-Văn</p>\n",
      "  </page>\n",
      "  <footnotes>\n",
      "    <footnote number=\"1\">Chia gia-lài: This refers to a Dharma-related story, reflecting on moral or ethical teachings from Buddhism.</footnote>\n",
      "    <footnote number=\"2\">Cội Phúc: A story focusing on virtues and merits, reflecting the Buddhist ideal of accumulating 'roots of blessings' through virtuous actions.</footnote>\n",
      "  </footnotes>\n",
      "  <page page=\"4\">\n",
      "    <title>The Vietnamese Buddhism Enters its Third Year</title>\n",
      "    <p>With issues 25 and 26, the Vietnamese Buddhism Monthly steps into its third year.</p>\n",
      "    <p>Before making new strides, we should pause, reflecting on the past journey to glean lessons, enabling us to move forward strongly, avoiding pitfalls, and aligning with the predetermined goals.</p>\n",
      "    <p>After months of gathering readers' opinions, we have compiled a set of insights about the Vietnamese Buddhism Monthly as follows: Some readers complain that the content of \"Vietnamese Buddhism\" is too condensed and narrow, confined within the scope of Buddhism, making it challenging to spread beyond and appealing only to a specific group of sincere Buddhists. This is indeed the reality. Despite our efforts to expand our scope, we cannot fully widen its boundaries, as the name \"Vietnamese Buddhism\" has already defined its limits. Every magazine has its unique principles, content, purpose, and the name, as its label, partly reveals its spirit. To change or broaden the scope, we would first need to change the name of the Monthly. However, the name \"Vietnamese Buddhism\" cannot be changed, as it was established by the Congress of the General Vietnamese Buddhist Association and authorized by the government.</p>\n",
      "    <p>To change the name requires another Congress of the General Association and government permission. Moreover, the purpose of the \"Vietnamese Buddhism Monthly\" at its inception was to express the voice of the General Association, its spirit, aspirations, program, prospects, and most importantly, report and advance the genuine unification of national Buddhism. Therefore, to those readers desiring expanded or transformed content, we can only record those opinions and advocate for the publication of a new magazine.</p>\n",
      "    <p>Some readers claim the articles are too advanced, challenging for most to grasp, benefiting primarily those with substantial learning, while the majority find little benefit. Yet, other readers argue that a General Association paper must express the profound aspects of the Dharma—otherwise, it would be no different from other magazines! Indeed, the situation is complex! Nonetheless, the majority claims that the Vietnamese Buddhism journal is difficult to understand. Therefore, we will strive to satisfy our dear readers by addressing common topics in a simple, easy-to-understand, conventional manner. However, we cannot disregard the opinions of others, asserting that we cannot entirely lower the content standard of the Monthly, and must dedicate some pages to express the profound significance of the Dharma, reflecting a portion of the cultural value of the General Vietnamese Buddhist Association's entity.</p>\n",
      "    <p>Youthful readers, especially the brothers and sisters of the Buddhist families, complain that the Vietnamese Buddhism journal hasn't addressed or has addressed too little about youth issues and the Buddhist family. This complaint holds some validity. Henceforth, we will rectify this omission.</p>\n",
      "  </page>\n",
      "  <page page=\"5\">\n",
      "    <p>Regarding format, some older readers request larger print for easier reading. Recently, we have adjusted this, with several articles now featured in relatively larger fonts. Yet, this issue largely depends on the printing press: whether due to a shortage of large fonts or the urgent need for printing, large fonts aren't always in stock. Nonetheless, we will strive within our capacity to please our valued readers.</p>\n",
      "    <p>In summary, as we step into the third year, we will remember the precise feedback from our esteemed readers and strive to implement it, reciprocating the sincere affection they have shown to \"Vietnamese Buddhism\" and fortifying the foundation of our shared voice for Vietnamese Buddhism.</p>\n",
      "  </page>\n",
      "  <page page=\"6\">\n",
      "    <title>Truth Does Not Lie in Language and Words</title>\n",
      "    <p>Buddhism asserts that absolute truth cannot be disseminated through language or written words. Truth is limitless, boundless, without restriction; the intellect, writing, and language are bounded, limited entities; to compare the bounded with the boundless or the finite with the infinite is impossible. Truth in texts is not truth; words and language are mere reflections of truth. Even reflections are not truth, less so when they change form!</p>\n",
      "    <p>For 49 years, the Buddha preached, yet He declared, \"In 49 years, I have not said a single word.\" This statement illustrates that truth cannot be captured through language or writing. The <i>Kinh Kim-Cang</i> teaches that enlightenment spoken of as enlightenment is not genuine enlightenment. The Buddha also said, \"Relying on scriptures for meaning misunderstands all Buddhas; yet, to leave a single word of scripture equals a demon's teachings.\" Scriptures and enlightened teachings are not truth themselves but tools to indicate truth. Claiming them as truth wrongs the Buddhas of the three times. However, if we dismiss them, what's left is the heretical teachings of the Demon King. Buddha further taught: \"Truth is like the moon, and my teachings are like a finger pointing at the moon. Don't mistake my finger for the moon.\" How profound and complete is the Buddha's point!</p>\n",
      "  </page>\n",
      "  <page page=\"7\">\n",
      "    <p>The temperature of a cup of tea, the odd shapes of microbes—these seemingly simple things we still struggle to grasp or perceive directly—more so the truth, which only awakened insight, free from delusion, can truly realize! Thus, researching to 'understand' truth is a misconception. Researching to practice oneself, relying upon it to realize truth, is the goal of a Buddhist learner. Thus, the aim of Buddhist psychology is not merely to satisfy intellectual curiosity, but to serve as a medium to demonstrate truth; for by itself, it is not absolute truth, depending on language, words, and worldly intelligence to express it.</p>\n",
      "    <p>All expressed through words are mere tools, and as previously stated, these tools are not truth; not being truth means they are errors. What, then, is truth? In this life, we have not yet been able to \"speak\" a single truth. Is two plus two four? Not necessarily: two potatoes and two carrots eternally remain two potatoes and two carrots, never becoming \"four.\" Two dollars and two dimes are perpetually two and two, not four dollars or dimes. Where then is truth? Outside of words and language! Contradiction embodies errors; Buddhist philosophy holds that all conceptions inherently contain contradictions, and if truth is termed as such, it remains relative truth. This contradiction leads to the negation of conceptions about truth and brings us to a higher level, yet still within relativity. Relative truth still contains contradictions and, accordingly, lead to further negation, progressing understanding. Yet, understanding through discourse, no matter how high, is never absolute truth.</p>\n",
      "  </page>\n",
      "  <page page=\"8\">\n",
      "    <p>Though the teachings of the Enlightened One are not absolute truth, they are invaluable, for they are the devices to reveal truth. They are not truth, expressed through language and writing, formulated through worldly reasoning, which without, we cannot lean upon to realize truth. Thus, learning is to understand, to see, to avoid clinging to truth as expressible via language and writing, so that one can rely on these devices to approach the ultimate. Amidst learning, we have the right to doubt; doubt is a tool for enlightenment, revealing insights through inquiry. Do not blindly cling to literature; use the intellect and diligent practice to observe truth, to gain enlightenment. Buddhist psychology differs from Western psychology in this. Above all, do not hold onto attachments, as these obscure truth, and eradicating attachment simultaneously dispels the deluded passions obscuring direct intuition.</p>\n",
      "    <p>Two friends stand, one facing south, the other north. The one facing south sees a phoenix fly by and tells his friend: \"Look, a Phoenix!\" But by the time he speaks, the phoenix vanishes. Thus, the other friend continually demands to see the phoenix, to know its shape, its plumage. Helpless, his friend resorts to sketching a very beautiful, lifelike (or so let's assume) phoenix, releasing it into the sky. This leads the other to assume the paper bird is the phoenix. \"Phoenix is that paper bird; paper bird is Phoenix, paper bird and Phoenix are one.\" In so doing, one risks understanding the nature of transformation—not viewing the mere reflection as the true nature.</p>\n",
      "  </page>\n",
      "  <page page=\"10\">\n",
      "    <title>Venerable Huyền Trang's Journey to India to Seek Buddhist Scriptures</title>\n",
      "    <p>Original text in Han script by DƯƠNG ĐÌNH PHÚC</p>\n",
      "    <p>Translated by NÔNG-SƠN</p>\n",
      "    <p>(Continued from issues 23 and 24)</p>\n",
      "    <p>Venerable Huyền-Trang initially arrived at the land of Y-Lạn-Na-Bát-Đa, South India (now part of Áo-Lý-Tát), where he stayed for one year. He studied under the great master Đát-Tha-Yết-Đa and Thầy Tăng-Yết-Đề. He then crossed the immense ocean waves to reach the Indian Ocean, arriving at Khoa-La-Man-Đắc, and the island of Tăng-Già-La (Sri Lanka). From Tăng-Già-La, he traveled to Yết-Lăng-Ca, South India (present-day Mã Đích-Lạp-Tư, South India). From there, he journeyed west 1800 miles to the land of Nam Kiều-Tát-La (in current Hải-Đắc-Lạp-Ba, Central India), entering the territory of Central India to study Brahmanism (<i>nhân-minh-học</i>).</p><footnote number=\"1\">[1]</footnote>\n",
      "    <p>He braved countless perils, traversing westward to Lang-Yết-La, Western India (in Khách-Lạp-Xuy, West India), before returning to Bát-Phật-Đa-La, North India (unidentified). There, he studied for two years, then spent another two years on the Trường-Lâm mountain, learning \"Consciousness-Only\" (<i>Duy-Thức</i>) and studying the Vedas, along with astronomy and geography.</p><footnote number=\"2\">[2]</footnote>\n",
      "    <p>Over the span of six years, Master Huyền-Trang traversed East, South, West, North, and Central India, greater and lesser areas amounting to over 100 countries, reading all their scriptures. After six such years, he returned to Nalanda monastery. Master Giới-Hiền assigned him to lead the lectures, teaching the <i>Nhiếp-Đại-Thừa-Luận</i> to all the monks at the monastery. At that time, a notable disciple of Master Giới-Hiền named Sư-Tử Quang was discontent with Master Huyền-Trang's role as chief lecturer. To respond, Master Huyền-Trang composed 3,000 verses of the \"Hội-tôn-luận,\" elucidated its grand meaning, and was unanimously praised and admired by Master Giới-Hiền and all the monks, leaving Sư-Tử Quang embarrassed and reluctant to return for a year.</p>\n",
      "  </page>\n",
      "  <page page=\"11\">\n",
      "    <p>During this time, a Brahmin scholar hung over 40 debate theses at the entrance of Nalanda monastery, boasting that anyone refuting even one would be permitted to cut off his head to acknowledge the defeat. No one dared challenge, but Master Huyền-Trang requested Master Giới-Hiền and other senior monks to witness his debate with this Brahmin. Ultimately, the Brahmin could not avoid admitting his error. Though he was willing to keep his promise, Master Huyền-Trang laughed and said, \"As a monk, I do not kill. Would you have your spirit follow me?\"</p>\n",
      "    <p>Yết-Nhược-Cúc-Am was a great nation in Central India, known in Indian history as the Gupta Empire—an era marked by flourishing Middle Age culture in India under King Giới-日本(\"the Sun King\"). Buddhism thrived expansively. Once, when King Giới-Nhật led a military campaign through the kingdom of Cung-Ngự-Đà (currently unidentified), passing through Ô-Đồ, Đại sư Ban-Nhã Các-Đá composed 700 verses of \"破大乘論\" (refuting Mahayana Buddhism as the 'flower of heresy'). King Giới Nhật wrote to Master Giới Hiền, requesting a representative for a debate at Ô-Đồ. Master Giới-Hiền conferred with others and selected Master Huyền-Trang along with Sư-Tử-Quang, Hải-Tuệ, and Trí-Quang— four great disciples. Among them, three hesitated in fear, while only Master Huyền-Trang boldly sought out the texts of \"Phá đại thừa luận,\" studied them diligently, and discussed any doubts with the Brahmin he had previously debated. Eventually, Master Huyền-Trang composed 1600 verses of \"Phá-Ác-Kiến-luận,\" presenting them to Master Giới-Hiền, which earned extensive admiration from all who read it.</p>\n",
      "  </page>\n",
      "  <footnotes>\n",
      "    <footnote number=\"1\">Brahmanism: In Vietnamese, this is referred to as <i>nhân-minh-học</i>, an ancient Indian system of intellectual inquiry into reality, being, and the universe.</footnote>\n",
      "    <footnote number=\"2\">Consciousness-Only: Known in Vietnamese as <i>Duy-Thức</i>, a Buddhist school focusing on the idea that perceptions of the material world are merely manifestations of consciousness.</footnote>\n",
      "  </footnotes>\n",
      "  <page page=\"12\">\n",
      "    <p>By then, the king of Già-Ma-Lũ-Ba kingdom in East India (currently Bihar, India) named Cưu-Ma-La revered Master Huyền-Trang and sent envoys to invite him. When King Giới-Nhật returned home, he learned Master Huyền-Trang had traveled to Già-Ma-Lũ-Ba and promptly arrived there to invite Master to return. Together, both kings planned a grand assembly in Khúc-Nữ, the capital of Yết-Nhược-Cúc-Am, to display the wisdom and discourse of a Chinese scholar.</p>\n",
      "    <p>In December, the grand assembly saw scholars from distant lands; 18 kings from 18 nations of the five Indian regions, 3,000 monks well-versed in both Mahayana and Hinayana doctrines, alongside more than 2,000 Brahmins and heretic sages, and over 1,000 monks from Nalanda monastery came to participate. Despite their diverse faiths and beliefs, all attendees were learned, cultivated individuals—the assembly marked a grand cultural convergence, representing the foremost apex of Indian history.</p>\n",
      "    <p>The assembly commenced with Buddhist rites, then all invited Master Huyền-Trang to the seat of honor as chief lecturer. He began by explaining the \"Phá-ác-kiến luận\" and many Mahayana views, publicly displayed in front of the debate hall. Throughout the course of eighteen days, although many attended, no one could propose a single challenge. At the close of the assembly, King Giới-Nhật gifted Master with 10,000 gold, 30,000 silver, and 100 fur garments; eighteen other nations sent valuable gifts, yet Master declined all offerings.</p>\n",
      "  </page>\n",
      "  <page page=\"13\">\n",
      "    <p>According to ancient Indian tradition, anyone victorious in debate rode an elephant around the area: the eighteen kings specially invited Master Huyền-Trang to ride a great elephant adorned with flowers, guarded by citizenry on both sides, declaring his independence without reliance on others, achieving respect through merit alone. Although Master declined several times, he eventually adhered to ancient customs. Crowds lifting his robe accompanied him, proclaiming to the people, \"The Chinese Dhamma Master resolved Mahayana meanings, demolished all opposing views, for eighteen consecutive days without challenge, and everyone acknowledged so.\" The entire assembly erupted in celebration, incense and flowers overspread. Thereafter, his scholarship and prestige echoed throughout the five regions of India.</p>\n",
      "    <p>Subsequently, he and King Giới-Nhật jointly organized a 75-day-long \"無價\" (invaluable assembly) in Bát-La-Ra-Già, attended by 50,000 spectators—an unprecedented gathering in Indian history.</p>\n",
      "  </page>\n",
      "  <page page=\"14\">\n",
      "    <p>During Master Huyền-Trang's participation in the \"無價\" assembly, at age 48, he had spent 13 years in India. Though tempted to stay by the people of India, his unwavering intention to return to his homeland compelled him in 643 (17th year of the Tang dynasty's Zhenguan reign) to load on elephants and horses 657 Buddhist scriptures and various artifacts, commencing his journey back.</p>\n",
      "    <p>His return spanned two years, fraught with danger, yet losing only a few manuscripts. Reaching Đát-Thoa-Thi-La (50 miles southwest of Già-Thấp-Di-La), while crossing the mighty Sindhu River, sudden storms violently tossed his boat, deducting 50 bundles of scripture and rare Indian plant seeds. During this time, King of Già Thấp-Di-Ta, residing in Ô-Đạc-Già-Hán on the Sindhu River, fortuitously encountered Master Huyền-Trang, inviting him along and dispatching attendants to escort him up to the western jungles of Đại Tuyết mountain (now Hưng-Đô-Khố-Thập mountain). Master forged through the wilderness to Thông-Lĩnh, reaching Khư-Sa (present-day Xơ-Lặc, Xinjiang), Kiếp-Bàn-Đà (Hapoinor, Xinjiang), to Tích-Cư-Già (Aligiclicklik, Xinjiang), where he detained for seven months. During that time, instructing the Vu-Điền populace, Master sent emissaries to Khuất-Chi, Khư Sa seeking to recover lost scriptures.</p>\n",
      "  </page>\n",
      "  <page page=\"15\">\n",
      "    <p>Previously, Master ventured illegally overseas; yet despite this, as a patriot ever in heart, he now pondered how to convey his return back to his homeland gracefully. He crafted a poignant letter entrusted to Vu-Điền traders heading to Tràng-An, to be submitted to Emperor Lý-Thế-Dân. The letter detailed his academic quest for Buddhist studies, the audacious travels to India encountering the vast desert, perilous Iron Mountain, and majestic Himalayas—crossing over 50,000 miles on foot, overcoming countless hazards, his eventual arrival in India, living there for over a decade before returning to Vu-Điền. Alas, his large elephant drowned amidst the voyage, he acquired abundant Buddhism texts, yet lacked the means to transport, and so remained in Vu-Điền, biding Holy Emperor's decree...</p>\n",
      "    <p>Upon receiving the message, Emperor Lý-Thế-Dân promptly responded: \"Joyful upon knowing Master has returned from abroad; anticipating eager reunion. I ordered Vu-Điền to ensure manpower, horses, and protective escort for Master, appointing officials from Đôn-Hoàng to greet at the Lưu-Sa desert area, and at Nghiệp-Thiện to meet towards Thu-Mạt... (now Nặc Khương County, Xinjiang).</p>\n",
      "    <p>On January 24, 645 (19th year of the Tang dynasty's Zhenguan reign), Master Huyền-Trang peacefully returned to Tràng An. His journey spanned 17 years, and by his return, he had become a man over 50, his hair radiant white.</p>\n",
      "    <p>Upon hearing of Master Huyền-Trang's arrival at Tràng-An, Emperor Lý-Thế Dân sent high-ranking officials to greet him. Thousands upon thousands of citizens lined Tràng An's streets to cheer, as Master displayed all he brought from India: scriptures, Buddhist images, wagons, and parasols adorned with flowers, creating a grand exhibition down on Chu Tước street.</p>\n",
      "  </page>\n",
      "  <page page=\"16\">\n",
      "    <p>On March 1, the same year, Master Huyền-Trang settled in Hoằng-Phúc Monastery, the capital Tràng-An, preparing a large-scale translation work, inviting high-ranking monks and scholars from afar for assistance. The undertaking required positions such as Significance Correctors, Language Stylists, Scriveners, and Document Compilers; over fifty learned Samanas assisted in translating with correctness, augmented by outstanding scholastic monks like Linh-Khoát and Văn-Bị, numbering twenty-three in total.</p>\n",
      "    <p>Beginning mid-May and by year's end, he translated five major versions of the Great Bodhisattva Canon and the Buddha Realm Sutra.</p>\n",
      "    <p>In the fall of the second year, Master Huyền-Trang verbally recounted his 17-year voyage, traversing 128 nations, witnessing their condition, history, terrain, society, geography, resources, compiled by a disciple into 12 Booklets of the Đại-Đường Tây Vực Ký. Later readers found in its accounts not only grandeur and classic worth, but also persisted as a vital geographic history of Central Asia and India, leading to translations by Soviet, Japanese, British, German, and French nations. The specialist académics around the globe researched this work and concluded this book's grand value, encompassing wide range, precision, and thoughtful content, a pivotal travelogue among ancient East-West travelogues. Contemporary scholars studying historical and geographic subjects extensively relied on this source to clarify historical and geographic ambiguities about the 7th-century Indian region.</p>\n",
      "  </page>\n",
      "  <page page=\"17\">\n",
      "    <p>In 648 (22nd year of the Tang dynasty's Zhenguan reign), during May of the summer, Master Huyền-Trang had completed translating nine Buddhist texts. In June, an audience was held with Emperor Lý-Thế Dân at Ngọc-Hoa Palace; to commemorate Master Huyền-Trang's western pilgrimage, the emperor composed the introduction for the Đại-Đường Tam-Tạng-Thánh Giáo using 781 letters. The Buddhist monk Hoài-Nhân employed the great Jin Calligrapher Wang-Xi-Zhi's style to inscribe it on stone. The renowned Tang calligrapher Chử Tọa-Lương crafted two versions: one engraved at Ci'en Temple, another at Đồng Châu, both relics serving as esteemed calligraphy practice references.</p>\n",
      "    <p>In October of the same year, Emperor Lý-Trị (Kao-Tsung of the Tang Dynasty), to memorialize his mother, constructed Ci'en Temple, equipped with a Special Translation Institute, inviting Master Huyền-Trang to reside for scripture translation. Thus he resided eternally in Ci'en Temple solely dedicated to translation, rarely stepping outside. He feared his limited lifespan wouldn't complete such arduous, demanding translations; hence, he diligently pushed himself day and night. His schedule meticulously planned every day, squandering no moments, routinely ceasing work until late midnight and rising before twilight to allocate scriptures brought from India, marking them with red ink, preparing them for the following day's translation work. Throughout the day beyond translating, he answered queries from distant monks and scholars and instructed his disciples. Usually, the chambers and corridors overflowed with students seeking his wisdom.</p>\n",
      "  </page>\n",
      "  <page page=\"18\">\n",
      "    <p>In March 652 (3rd Year of Emperor Kao-Tsung's Yonghui reign), to store the Buddhist scriptures and images brought from India, a five-tiered pagoda was built at the western courtyard of Ci'en Temple. From the start, every dawn, people saw a monk over fifty carry bricks and stones with the builders. Initially unknown, over time discovered, it was indeed Master Huyền-Trang himself. He labored alongside the workers for two years until completion. To this day, that pagoda prominently stands in the western market of Xi'an, Shaanxi Province.</p>\n",
      "    <p>Five years later, ten more scriptures were translated. Due to youthful diligence and arduous travels, compounded by ensuing years of exhausting translations, his health significantly declined, frequently suffering from chest pain. Despite medication and persistence, he continued translating and teaching. By the age of 65, he began translating an extensive, challenging work, the Great Prajñā Sutra (大般若經) amounting to 200,000 verses in Sanskrit. Disciples concerned over the volume requested abbreviation; yet, Master Huyền-Trang insisted that translation should neither alter nor abbreviate the original text, compromising its intent. He resolved upon complete fidelity, comparing disparities among three versions, scrupulously cross-referencing two or three times before progressing. Through unwavering diligence, by 663 (Longshong Year 3), November, the massive 600-volume sutra was completed. He was then 68 years old.</p>\n",
      "  </page>\n",
      "  <page page=\"19\">\n",
      "    <p>The following year, on the night of the second day of February, Master Huyền-Trang passed away at Ngọc Hoa Temple.</p>\n",
      "    <p>In his lifetime, he translated 75 Sanskrit texts, totaling 1335 scrolls. His illustrious achievements profoundly influenced Chinese culture and society of his time.</p>\n",
      "    <p>On April 14, he was buried at Bạch Lộc Nguyên. During the funeral, within 500 miles of Tràng-An, attendees numbering about a million gathered for his funeral; 30,000 constructed tents, residing alongside his tomb. This affectionate response reflects the contemporary public's adoration for Master Huyền-Trang.</p>\n",
      "  </page>\n",
      "  <page page=\"20\">\n",
      "    <title>What is the Self?</title>\n",
      "    <p>The true self is merely the attachment to a false notion of self.</p>\n",
      "    <p>There are two types of <i>attachment to self</i>: innate attachment and discriminative attachment.</p>\n",
      "    <p>I- Innate attachment: This resides in the <i>Mạt-na</i>, emerging at the same time as the body, not formed by discerningly clinging. This attachment exists from time immemorial, only completely dissolving upon enlightenment to Buddhahood, persisting otherwise while in samsara. Innate attachment has two distinct functions: Direct grasping of self, as the <i>Mạt-na</i> associates with the cognitive phase of <i>A-lại-gia</i>, perceiving projections as its nature. This represents a profound, profound self-attachment.</p>\n",
      "    <p>Secondly, the knowledge of self-attachment arises when <i>Mạt-na</i> directly perceives objects, spawning self-view, self-love, self-pride, self-delusion, distinction, and attachment. These dual types of self-attachment associated with Mạt-na prove difficult to eradicate, existing before life's inception, having existed from the beginningless past, emerging not just upon birth. In the course of practice, meditating on the superior attributes and emptiness gradually removes them.</p>\n",
      "  </page>\n",
      "  <page page=\"21\">\n",
      "    <p>II. Discriminative self-attachment: This type occurs following embodiment, via distinguishingly clinging. Easier to sever; it disappears quickly upon entering insight stage through contemplation on the non-arising nature of True Suchness. Discriminative self-attachment pertains to the mind-consciousness with two distinct modes: immediate self-attachment, perceiving body and consciousness as self without differentiation; reflective self-attachment involves contemplating or measuring oneself, or consciousness, or both as self through reflection.</p>\n",
      "    <p>Discriminative self-attachment naturally relies on innate attachment for manifestation. Yet, environment and consciousness are crucial engines for its surfacing. Within Mạt-na, continually resides covert, profound self-attachment; in mind-consciousness, immediate self-attachment uses this as a base, constructing through reflective self-attachment.</p>\n",
      "    <p>Newborns possess a vague self-awareness, as reflective self-attachment emerges weakly through rising consciousness and environment, with vague reflection-based self-attachment present but immediate grasp not yet developed. Meanwhile, complete innate attachment exists similar to that of adults.</p>\n",
      "    <p>Growing older, children form notions about themselves and others, initiating discrimination between me, others, and objects. Through interactions between sense faculties and surroundings, they distinguish their bodies from others. Therefore, children perceive their bodily existence as selfhood, their evolving awareness of self and others forming immediate self-attachment in their minds.</p>\n",
      "  </page>\n",
      "  <page page=\"22\">\n",
      "    <p>Many adults similarly conceptualize selfhood like children, equating it solely with the physical body. Only those delving into reflective self-attachment might develop different views of selfhood, such as not viewing the body as self, saying: \"I wish to rid myself of this body.\" Hence, \"I\" and the body are different entities.</p>\n",
      "    <p>Such individuals perceive \"I\" as consciousness or a singular soul that may persist without the body. Others consider \"me\" a composite of knowledge, thoughts, feelings, lacking singularity. What is the self then? Truly, understanding it is intricate, for it doesn't truly exist. If the self existed, it would comprise a central command. Examining what the bodily form means? Body ever-altering, constantly transforming every hour, every moment. Body is but an assembly of countless, transient cells rapidly evolving.</p>\n",
      "    <p>Mind? Mind encompasses thoughts, sensations, perceptions, all continually evolving, shifting hues, never stable or uniform. Naming self as a total of physical and psychological elements is insufficient, as together, they don't form a singular entity. Proposing self as neither physical nor mental—as self apart from aggregates would equate to emptiness, void of function, inconceivable as a self.</p>\n",
      "    <p>When we say: \"I'm in Saigon,\" the \"I\" conveyed refers to the body. Saying: \"I think,\" the \"I\" no longer denotes the physical form but consciousness. When stating: \"I wrote a speech,\" \"I\" embodies both body and consciousness, reliant on thinking mind and hand writing. What then am I? Body, consciousness, or both combined? How can this lack of coherence be? \"I\" may refer to body, or consciousness; am I one or two?</p>\n",
      "  </page>\n",
      "  <page page=\"23\">\n",
      "    <p>Additionally, we claim: \"My body is large,\" indicating self is something possessing bodily form. Body then isn't \"I\"; outside the body, is there another self? Again we say: \"My consciousness, your consciousness,\" implying consciousness is a possession of self; outside consciousness, is there another self? Is this self abstract or material? If abstract, what is its form? If material, what is it? If neither, it parallels nothingness. Declaring self as both unified and transformative is unsound. Questioning this unified aspect, does it differ from the transformative? If distinct, lacks singularity; if indistinct, transformation commences, contradicting unity. Self remains but conceptualizations of a unified, central aspect selfhood inherently lacks. Life presents a flowing transformation, leading without a leading self.</p>\n",
      "    <p>A year ago, I bought a bicycle. Months later, replaced the wheels, and six months thereafter swapped the rims. The bicycle changed, yet I claim it's my previous bicycle. Gradually exchanging bell, fender, lamp, frame, spokes, gear—all transformed, and though now entirely altered, I assert it’s my original purchase. Within its form, does a singular, immutable 'bicycle soul' exist, or does its flux entail something indeterminably static, producing an idea that this is the bicycle I acquired long ago? Truly, 'bicycle soul' is nonexistent; the bicycle's evolution lacks a leading self, a guiding metric. Concurrently, our body and mind flow without a dominating self, devoid of contrary ego-identity or objectified self-identity hence merely false names, imaginings portrayed as reality.</p>\n",
      "    <p>This conceptual self-image subsists in the mind-consciousness, stemming from <i>Mạt-na</i>. <i>Mạt-na</i> aggregates ignorance, perpetually fixing <i>Alaya's</i> cognitive phase as an object, adhering fervently. <i>Alaya</i> involuntarily transforms into a self-image, grasped by <i>Mạt-na</i>. Such conceptual attachment, while profoundly irrational, is deeply ingrained, challenging for conscious understanding or cessation, achievable only through meditative effort to observe and dissolve.</p>\n",
      "  </page>\n",
      "  <page page=\"25\">\n",
      "    <title>Why It's Necessary to Unify Vietnamese Buddhism</title>\n",
      "    <p>I.- Recognizing causes for the slow pace of unification. The national conference of Vietnamese Buddhism, held at Từ-Đàm Pagoda in 1951, established the foundation for the unification of Vietnamese Buddhism. The charter of the General Association was drafted, approved by attendees, and sanctioned by the government. The spirit of unification was established, and the implementation plan laid out. Valid foundational documents are complete, pending execution to completion. Truly, over these years, we are working toward unification. Regrettably, our progress has been sluggish! What factors have slowed this advancement? Several reasons exist, with the following as main points:</p>\n",
      "    <p>1. Psychological factors. Some leaders of the General Association's groups view the organizational structure as secondary, asserting that Buddhism, in its early days under the Buddha, flourished without formal ecclesiastical institutions. As for the General Association's paper, precision of the ideation must not be entirely reduced, and appropriate emphasis should reflect its intrinsic cultural value on behalf of Buddhism across Vietnam. Unifying congregational allegiance without an agenda, without mandates promotes a flexible approach,<i> binding diverse elements into oneness </i>[1]. Unified focus fosters effective discernment and support by granting the 'one in the many' principle.</p>\n",
      "    <p>2. Personnel consideration. Task increase implies recruiting more people. Regional group leaders have insufficient staff; elevating additional central management posits personnel challenges. Chiefly, individuals accustomed to current settings resist relocating to central administration, whether Huế or Sài Gòn. Residents of Huế dislike moving to Sài Gòn, while Sài Gòn's populace resists moving to Huế.</p>\n",
      "    <p>Many esteemed laypersons currently engaged in government services or pursuing local business ventures cannot abandon their current positions to work at central leadership offices. This longstanding issue prevents cohesive management, inhibiting comprehensive unification.</p>\n",
      "  </page>\n",
      "  <page page=\"27\">\n",
      "    <p>3. Local congregational activities. While central Buddhist affairs lack firm leadership, necessitating sustenance for the devotees' faith, regional Buddhist activities persist and must be maintained. Meanwhile, increasing public inclination to Buddhism intensifies work in regional congregations while shortage of personnel limits capacity. Leaders, appointees of both regional and central councils, often prioritize their local issues, dedicating insufficient time to central affairs. These reasons chiefly account for delayed unification progress in Vietnamese Buddhism. However, should such setbacks halt unification efforts? Should difficulties cause surrender in pursuing unification? Such cannot be the case! Unification holds immense, priceless worth—obstacles overcome, costs worthwhile—greatly exceed any sacrifice. Failure to address present challenges risks substantial, prolonged detriments in promoting authentic Dharma across Vietnamese Buddhism.</p>\n",
      "    <p>II. The detriments of the national Buddhist condition today.</p>\n",
      "    <p>1. Spiritual forces are fragmented. This circumstance is self-evident; strong spiritual force requires organization and systematization. Resorting to individual ventures, however sincere, cannot substitute cohesive, eleven fellowship, equaled only by systemic unification. The simple \"bundle of chopsticks\" story remains profoundly instructive, a vital lesson still resonates today. Unified internal force will instill confidence among practitioners, assuring their part in a vast, interwoven support system as they progress along the Path.</p>\n",
      "    <p>2. Material resources risk fragmentation. Our countless temples, vast lands—these assets combined with the vast Buddhist populace signify considerable strength. Currently, Buddhism in Vietnam remains materially impoverished; at every needful instance, fund-raising or calling upon financial resources proves taxing and challenging.</p>\n",
      "    <p>3. Projects cannot achieve grand scale or perfection and often overlap. Presently, groups are widening Buddhist activities; specialized divisions like dharma propagation, rituals, Buddhist family organization, education, arts, and more progress within their respective scopes. Nonetheless, activities remain confined due to limited financial, human, and intellectual resources. Consequently, extensive projects cannot fully achieve distinction. Some believe activity equates to unity, effectively accomplished solely by individuals. Reality contrasts this simplification. One individual's work remains individualized; aggregating minuscule gains yields cumulative smallness—not grand construction but rather a cohesive unison toward grandeur requires greater sacrifice, vision, capacity, uniform integration.</p>\n",
      "  </page>\n",
      "</document>\n"
     ]
    }
   ],
   "source": [
    "print(translation_data[0])"
   ]
  },
  {
   "cell_type": "code",
   "execution_count": 66,
   "metadata": {},
   "outputs": [],
   "source": [
    "full_translated_text = \"\\n\".join(translation_data)"
   ]
  },
  {
   "cell_type": "code",
   "execution_count": 67,
   "metadata": {},
   "outputs": [],
   "source": [
    "write_text_to_file(\"journal_1956_25_26_translation_full.xml\", full_translated_text)"
   ]
  },
  {
   "cell_type": "code",
   "execution_count": null,
   "metadata": {
    "trusted": false
   },
   "outputs": [],
   "source": [
    "# response_schema = {\n",
    "#   \"name\": \"text_cleaning\",\n",
    "#   \"strict\": True,\n",
    "#   \"schema\": {\n",
    "#     \"type\": \"object\",\n",
    "#     \"properties\": {\n",
    "#       \"cleaned_text\": {\n",
    "#         \"type\": \"string\",\n",
    "#         \"description\": \"The resulting cleaned text after applying all cleaning steps.\"\n",
    "#       },\n",
    "#       \"cleaning_steps\": {\n",
    "#         \"type\": \"array\",\n",
    "#         \"description\": \"A series of notes that explain each step taken to clean the input text.\",\n",
    "#         \"items\": {\n",
    "#           \"type\": \"object\",\n",
    "#           \"properties\": {\n",
    "#             \"step_description\": {\n",
    "#               \"type\": \"string\",\n",
    "#               \"description\": \"A detailed description of the cleaning step.\"\n",
    "#             },\n",
    "#             \"text_example\": {\n",
    "#               \"type\": \"string\",\n",
    "#               \"description\": \"an example fragment of text that was corrected.\"\n",
    "#             },\n",
    "#             \"confidence_level\": {\n",
    "#               \"type\": \"integer\",\n",
    "#               \"description\": \"3 for high confidence, 2 for medium, 1 for low confidence corrections.\"\n",
    "#             }\n",
    "#           },\n",
    "#           \"required\": [\n",
    "#             \"step_description\",\n",
    "#             \"text_example\",\n",
    "#             \"confidence_level\"\n",
    "#           ],\n",
    "#           \"additionalProperties\": False\n",
    "#         }\n",
    "#       }\n",
    "#     },\n",
    "#     \"required\": [\n",
    "#       \"cleaned_text\",\n",
    "#       \"cleaning_steps\"\n",
    "#     ],\n",
    "#     \"additionalProperties\": False\n",
    "#   }\n",
    "# }"
   ]
  }
 ],
 "metadata": {
  "kernelspec": {
   "display_name": "tnh-scholar",
   "language": "python",
   "name": "python3"
  },
  "language_info": {
   "codemirror_mode": {
    "name": "ipython",
    "version": 3
   },
   "file_extension": ".py",
   "mimetype": "text/x-python",
   "name": "python",
   "nbconvert_exporter": "python",
   "pygments_lexer": "ipython3",
   "version": "3.11.10"
  }
 },
 "nbformat": 4,
 "nbformat_minor": 2
}
