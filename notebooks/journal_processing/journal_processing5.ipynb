{
 "cells": [
  {
   "cell_type": "code",
   "execution_count": null,
   "metadata": {},
   "outputs": [],
   "source": [
    "%load_ext autoreload\n",
    "%autoreload 2"
   ]
  },
  {
   "cell_type": "code",
   "execution_count": null,
   "metadata": {},
   "outputs": [],
   "source": [
    "from lxml import etree\n",
    "%aimport json\n",
    "from pathlib import Path\n",
    "%aimport re\n",
    "from typing import List, Dict\n",
    "%aimport os\n",
    "from xml.sax.saxutils import escape"
   ]
  },
  {
   "cell_type": "code",
   "execution_count": null,
   "metadata": {},
   "outputs": [],
   "source": [
    "from data_processing.text_processing import get_text_from_file, set_working_directory, get_working_directory\n",
    "from data_processing.text_processing import normalize_quotes"
   ]
  },
  {
   "cell_type": "code",
   "execution_count": null,
   "metadata": {},
   "outputs": [],
   "source": [
    "from data_processing.text_processing import write_text_to_file"
   ]
  },
  {
   "cell_type": "code",
   "execution_count": null,
   "metadata": {},
   "outputs": [],
   "source": [
    "from data_processing.gpt_processing import token_count, set_api_client, get_api_client, get_active_batches\n",
    "from data_processing.gpt_processing import generate_messages, run_immediate_chat_process, create_jsonl_file_for_batch, start_batch\n",
    "from data_processing.gpt_processing import get_completed_batches, get_batch_response\n"
   ]
  },
  {
   "cell_type": "code",
   "execution_count": null,
   "metadata": {},
   "outputs": [],
   "source": [
    "user_message_string_clean = \"\"\"{text}\"\"\""
   ]
  },
  {
   "cell_type": "code",
   "execution_count": null,
   "metadata": {},
   "outputs": [],
   "source": [
    "def user_wrap_function_clean(text_block):\n",
    "    return user_message_string_clean.format(text=text_block)"
   ]
  },
  {
   "cell_type": "code",
   "execution_count": null,
   "metadata": {},
   "outputs": [],
   "source": [
    "system_message_clean = \"\"\"\n",
    "- You are a meticulous and consistent world expert at cleaning OCR-generated Vietnamese text. \n",
    "- You are cleaning text from a 1950's Buddhist Journal. \n",
    "IMPORTANT: You will receive one page of text listed by lines: do not modify the line structure.\n",
    "- You will minimally modify the text to fix any OCR errors.\n",
    "- You will add <section>, <title>, <author>, <p>, <li>, <ul>, <ol> tags (only) where appropriate in text, based on text layout and content. \n",
    "- Do not remove any content from the main body of the text.   \n",
    "- Use patterns in the text blocks (given by page) to infer patterns in the text.\n",
    "- Use the semantic meaning of the text to infer corrections—but make no semantic changes. \n",
    "- Add diacritical marks if they are missing or clearly inaccurate. \n",
    "- Do not change any proper names, except to add missing diacritical marks if the context is clear.  \n",
    "IMPORTANT: Output the corrected text only with no comments or additional formatting marks of any kind.\n",
    "\"\"\""
   ]
  },
  {
   "cell_type": "code",
   "execution_count": null,
   "metadata": {},
   "outputs": [],
   "source": [
    "system_message_clean = \"\"\"\n",
    "- You are a meticulous and consistent world expert at cleaning OCR-generated Vietnamese text. \n",
    "- You are cleaning text from a 1950's Buddhist Journal. \n",
    "IMPORTANT: You will receive one page of text listed by lines: do not modify the line structure.\n",
    "- You will minimally modify the text to fix any OCR errors.\n",
    "- Do not remove any content from the main body of the text.   \n",
    "- Use patterns in the text blocks (given by page) to infer patterns in the text.\n",
    "- Use the semantic meaning of the text to infer corrections—but make no semantic changes. \n",
    "- Add diacritical marks if they are missing or clearly inaccurate. \n",
    "- Do not change any proper names, except to add missing diacritical marks if the context is clear.  \n",
    "IMPORTANT: Output the corrected text only with no comments or additional formatting marks of any kind.\n",
    "\n",
    "You will add the following xml tags (only) where appropriate in text, based on text layout and content: \n",
    "\n",
    "   <p> for paragraphs.\n",
    "   <section> for major sections.\n",
    "   <subsection> for subsections.\n",
    "   <title> for main titles of sections and subsections. \n",
    "   <subtitle> for subtitles of sections and subsections. \n",
    "   <heading> for headings that do not mark titles or subtitles\n",
    "   <contents> for tables of contents\n",
    "   <author> for authors of sections or subsections\n",
    "   <blockquote> for block or pull quotes\n",
    "   <note> for notes within the text\n",
    "   <ol> <ul> <li> for lists\n",
    "   <i> for italics. \n",
    "   <b> for bold.\n",
    "\n",
    "\"\"\""
   ]
  },
  {
   "cell_type": "markdown",
   "metadata": {},
   "source": [
    "### testing gpt-4o-mini system message"
   ]
  },
  {
   "cell_type": "markdown",
   "metadata": {},
   "source": [
    "You are an intelligent, meticulous, and consistent expert at cleaning OCR-generated Vietnamese text. \n",
    "The text will be given in XML, and the output text should be in matching XML. \n",
    "Your goal is to minimally modify the text to generate a cleaned version. \n",
    "Do not remove any text from the main content.  \n",
    "Formatting markers at the beginning and end of the text can be adjusted or removed as needed for clarity. \n",
    "You can use the semantic meaning of the text to infer corrections—but make no semantic changes. \n",
    "You can also add diacritical marks if they are missing or clearly inaccurate and can be determined by context.\n",
    "Do not change any proper names, except to add missing diacritical marks if the context is clear.  \n",
    "This particular text has a title marker: \"Phat Giao Viet Nam,\" and also a publishing mark near the end of each page of text. \n",
    "The publishing mark is something like \"Tu Vien HUE QUANG\" + \"TRUNG TAM DICH THUAT HAN NOM\" and is often incomplete.\n",
    "Text corresponding to these marks (or part thereof) and page numbers can be omitted.\n",
    "Output the corrected text only with no comments."
   ]
  },
  {
   "cell_type": "markdown",
   "metadata": {},
   "source": [
    "### Process files in sequence and generate cleaning batch JSON files:"
   ]
  },
  {
   "cell_type": "code",
   "execution_count": null,
   "metadata": {},
   "outputs": [],
   "source": [
    "def split_xml_pages(text, page_groups=None):\n",
    "    \"\"\"\n",
    "    Splits an XML document into individual pages based on <page> tags.\n",
    "    Optionally groups pages together based on page_groups.\n",
    "\n",
    "    Parameters:\n",
    "    - text (str): The XML document as a string.\n",
    "    - page_groups (list of tuples, optional): A list of tuples defining page ranges to group together.\n",
    "                                              Each tuple is of the form (start_page, end_page), inclusive.\n",
    "\n",
    "    Returns:\n",
    "    - List[str]: A list of strings, where each element is a single page (if no groups) or a group of pages.\n",
    "    \"\"\"\n",
    "    from lxml import etree\n",
    "\n",
    "    # Parse the XML text into an element tree\n",
    "    try:\n",
    "        root = etree.fromstring(text.encode(\"utf-8\"))\n",
    "    except etree.XMLSyntaxError as e:\n",
    "        # Handle parsing errors with helpful debugging information\n",
    "        line_number = e.lineno\n",
    "        column_number = e.offset\n",
    "        lines = text.splitlines()\n",
    "        error_line = lines[line_number - 1] if line_number - 1 < len(lines) else \"Unknown line\"\n",
    "        print(f\"XMLSyntaxError: {e}\")\n",
    "        print(f\"Offending line {line_number}, column {column_number}: {error_line}\")\n",
    "        return []  # Return an empty list if parsing fails\n",
    "\n",
    "    # Extract all pages as a list of strings\n",
    "    pages = [\n",
    "        (int(page.get(\"page\")), etree.tostring(page, encoding=\"unicode\"))\n",
    "        for page in root.findall(\".//page\")\n",
    "    ]\n",
    "    \n",
    "    # Sort pages by page number\n",
    "    pages.sort(key=lambda x: x[0])\n",
    "\n",
    "    # If no page_groups, return individual pages\n",
    "    if not page_groups:\n",
    "        return [content for _, content in pages]\n",
    "\n",
    "    # Group pages based on page_groups\n",
    "    grouped_pages = []\n",
    "    for start, end in page_groups:\n",
    "        group_content = \"\"\n",
    "        for page_num, content in pages:\n",
    "            if start <= page_num <= end:\n",
    "                group_content += content\n",
    "        if group_content:\n",
    "            grouped_pages.append(group_content)\n",
    "\n",
    "    return grouped_pages"
   ]
  },
  {
   "cell_type": "code",
   "execution_count": null,
   "metadata": {},
   "outputs": [],
   "source": [
    "import re\n",
    "\n",
    "def clean_xml_keep_pages(xml_content):\n",
    "    \"\"\"\n",
    "    Remove all XML tags except <page> and <document>, preserving all whitespace.\n",
    "\n",
    "    Args:\n",
    "        xml_content (str): The original XML document as a string.\n",
    "\n",
    "    Returns:\n",
    "        str: The cleaned XML content with only <page> and <document> tags preserved.\n",
    "    \"\"\"\n",
    "    # Regex pattern to match unwanted tags (any tags except <page> and <document>)\n",
    "    unwanted_tags_pattern = r\"<(?!/?(page|document)\\b)[^>]+>\"\n",
    "    \n",
    "    # Use re.sub to replace unwanted tags with an empty string\n",
    "    cleaned_content = re.sub(unwanted_tags_pattern, \"\", xml_content)\n",
    "    \n",
    "    return cleaned_content\n",
    "\n",
    "# Example usage\n",
    "xml_example = \"\"\"\n",
    "<document>\n",
    "  <title>This is a title</title>\n",
    "  <page page=\"1\">\n",
    "    <paragraph>This is some text in a paragraph.</paragraph>\n",
    "    <section>Here is a section.</section>\n",
    "  </page>\n",
    "  <page page=\"2\">\n",
    "    <note>Some note text.</note>\n",
    "  </page>\n",
    "</document>\n",
    "\"\"\"\n",
    "\n",
    "cleaned_xml = clean_xml_keep_pages(xml_example)\n",
    "print(cleaned_xml)"
   ]
  },
  {
   "cell_type": "code",
   "execution_count": null,
   "metadata": {},
   "outputs": [],
   "source": [
    "processed_journals = \"../../processed_journal_data\"\n",
    "batch_ouput_prefix = \"./journal_cleaning_batches/\""
   ]
  },
  {
   "cell_type": "code",
   "execution_count": null,
   "metadata": {},
   "outputs": [],
   "source": [
    "ocr_xml = get_text_from_file(\"phat-giao-viet-nam-1956-28/full_OCR_text_phat-giao-viet-nam-1956-28.xml\", processed_journals)"
   ]
  },
  {
   "cell_type": "code",
   "execution_count": null,
   "metadata": {},
   "outputs": [],
   "source": [
    "pages = split_xml_pages(ocr_xml)"
   ]
  },
  {
   "cell_type": "code",
   "execution_count": null,
   "metadata": {},
   "outputs": [],
   "source": [
    "print(pages[3])"
   ]
  },
  {
   "cell_type": "code",
   "execution_count": null,
   "metadata": {},
   "outputs": [],
   "source": [
    "pages"
   ]
  },
  {
   "cell_type": "code",
   "execution_count": null,
   "metadata": {},
   "outputs": [],
   "source": [
    "print(system_message_clean)"
   ]
  },
  {
   "cell_type": "code",
   "execution_count": null,
   "metadata": {},
   "outputs": [],
   "source": [
    "# generate all cleaning batch files using pages:\n",
    "\n",
    "processed_journals = \"../../processed_journal_data\"\n",
    "batch_ouput_prefix = \"./journal_cleaning_batches/\"\n",
    "\n",
    "for path in Path(processed_journals).iterdir():\n",
    "    if path.is_dir():\n",
    "        filename = path.name\n",
    "        for subpath in Path(path).iterdir():\n",
    "            regex = re.compile(r\"^full_OCR_.*\\.xml\")\n",
    "            if subpath.is_file() and regex.search(subpath.name):\n",
    "                print(subpath.name)\n",
    "                try:\n",
    "                    text = get_text_from_file(subpath.name, path)\n",
    "                    print(f\"{text[:90]}...\")\n",
    "                    chunks = split_xml_pages(text)\n",
    "                    clean_message_seq = generate_messages(system_message_clean, user_wrap_function_clean, chunks)\n",
    "                    create_jsonl_file_for_batch(clean_message_seq, batch_ouput_prefix + \"clean_batch_\" + filename + \".jsonl\")\n",
    "                except Exception as e:\n",
    "                    print(f\"{e}\\nfailed.. \\nContinuing.\")\n",
    "                    "
   ]
  },
  {
   "cell_type": "code",
   "execution_count": null,
   "metadata": {},
   "outputs": [],
   "source": [
    "import logging\n",
    "from pathlib import Path\n",
    "\n",
    "def generate_single_oa_batch_from_pages(\n",
    "    input_xml_file: str,\n",
    "    output_file: str,\n",
    "    system_message: str,\n",
    "    user_wrap_function,\n",
    "):\n",
    "    \"\"\"\n",
    "    Generate a batch file for the OpenAI (OA) API using a single input XML file.\n",
    "\n",
    "    Parameters:\n",
    "        batch_file (str): Full path to the input XML file to process.\n",
    "        output_file (str): Full path to the output batch JSONL file.\n",
    "        system_message (str): System message template for batch processing.\n",
    "        user_wrap_function (callable): Function to wrap user input for processing pages.\n",
    "\n",
    "    Returns:\n",
    "        str: Path to the created batch file.\n",
    "\n",
    "    Raises:\n",
    "        Exception: If an error occurs during file processing.\n",
    "    \"\"\"\n",
    "    logger = logging.getLogger(__name__)\n",
    "\n",
    "    try:\n",
    "        # Read the OCR text from the batch file\n",
    "        text = get_text_from_file(input_xml_file)\n",
    "        logger.info(f\"Processing file: {input_xml_file}\")\n",
    "\n",
    "        # Split the text into pages for processing\n",
    "        pages = split_xml_pages(text)\n",
    "        if not pages:\n",
    "            raise ValueError(f\"No pages found in XML file: {input_xml_file}\")\n",
    "        logger.info(f\"Found {len(pages)} pages in {input_xml_file}.\")\n",
    "\n",
    "        # Generate messages for the pages\n",
    "        batch_message_seq = generate_messages(system_message, user_wrap_function, pages)\n",
    "\n",
    "        # Save the batch file\n",
    "        create_jsonl_file_for_batch(batch_message_seq, output_file)\n",
    "        logger.info(f\"Batch file created successfully: {output_file}\")\n",
    "\n",
    "        return output_file\n",
    "\n",
    "    except FileNotFoundError:\n",
    "        logger.error(f\"File not found: {input_xml_file}\")\n",
    "        raise\n",
    "    except ValueError as e:\n",
    "        logger.error(f\"Value error: {e}\")\n",
    "        raise\n",
    "    except Exception as e:\n",
    "        logger.error(f\"Unexpected error while processing {input_xml_file}: {e}\")\n",
    "        raise"
   ]
  },
  {
   "cell_type": "code",
   "execution_count": null,
   "metadata": {},
   "outputs": [],
   "source": [
    "import logging\n",
    "from pathlib import Path\n",
    "import re\n",
    "\n",
    "def generate_all_batches(\n",
    "    processed_document_dir: str,\n",
    "    system_message: str,\n",
    "    user_wrap_function,\n",
    "    file_regex: str = r\".*\\.xml\",\n",
    "):\n",
    "    \"\"\"\n",
    "    Generate cleaning batches for all journals in the specified directory.\n",
    "\n",
    "    Parameters:\n",
    "        processed_journals_dir (str): Path to the directory containing processed journal data.\n",
    "        system_message (str): System message template for batch processing.\n",
    "        user_wrap_function (callable): Function to wrap user input for processing pages.\n",
    "        file_regex (str): Regex pattern to identify target files (default: \".*\\\\.xml\").\n",
    "\n",
    "    Returns:\n",
    "        None\n",
    "    \"\"\"\n",
    "    logger = logging.getLogger(__name__)\n",
    "    document_dir = Path(processed_document_dir)\n",
    "    regex = re.compile(file_regex)\n",
    "\n",
    "    for journal_file in document_dir.iterdir():\n",
    "        if journal_file.is_file() and regex.search(journal_file.name):\n",
    "            try:\n",
    "                # Derive output file path\n",
    "                output_file = journal_file.with_suffix(\".jsonl\")\n",
    "                logger.info(f\"Generating batch for {journal_file}...\")\n",
    "\n",
    "                # Call single batch function\n",
    "                generate_single_oa_batch_from_pages(\n",
    "                    input_xml_file=str(journal_file),\n",
    "                    output_file=str(output_file),\n",
    "                    system_message=system_message,\n",
    "                    user_wrap_function=user_wrap_function,\n",
    "                )\n",
    "            except Exception as e:\n",
    "                logger.error(f\"Failed to process {journal_file}: {e}\")\n",
    "                continue\n",
    "\n",
    "    logger.info(\"Batch generation completed.\")"
   ]
  },
  {
   "cell_type": "code",
   "execution_count": null,
   "metadata": {},
   "outputs": [],
   "source": [
    "batch_client = set_api_client()"
   ]
  },
  {
   "cell_type": "code",
   "execution_count": null,
   "metadata": {},
   "outputs": [],
   "source": [
    "batch_job_dir = \"./journal_cleaning_batches\"\n",
    "batch_files = os.listdir(batch_job_dir)\n",
    "batch_files\n"
   ]
  },
  {
   "cell_type": "code",
   "execution_count": null,
   "metadata": {},
   "outputs": [],
   "source": [
    "file_path = os.path.join(batch_job_dir, 'clean_batch_phat-giao-viet-nam-1956-28.jsonl')\n",
    "file_path"
   ]
  },
  {
   "cell_type": "markdown",
   "metadata": {},
   "source": [
    "## completed batches:\n",
    "10, 25-26"
   ]
  },
  {
   "cell_type": "code",
   "execution_count": null,
   "metadata": {},
   "outputs": [],
   "source": [
    "batch28 = start_batch(file_path)"
   ]
  },
  {
   "cell_type": "code",
   "execution_count": null,
   "metadata": {},
   "outputs": [],
   "source": [
    "# file_path"
   ]
  },
  {
   "cell_type": "code",
   "execution_count": null,
   "metadata": {},
   "outputs": [],
   "source": [
    "# batch_27 = start_batch(file_path)"
   ]
  },
  {
   "cell_type": "code",
   "execution_count": null,
   "metadata": {},
   "outputs": [],
   "source": [
    "# batch_05_06 = start_batch(file_path)"
   ]
  },
  {
   "cell_type": "code",
   "execution_count": null,
   "metadata": {},
   "outputs": [],
   "source": [
    "get_active_batches()"
   ]
  },
  {
   "cell_type": "code",
   "execution_count": null,
   "metadata": {},
   "outputs": [],
   "source": [
    "completed = get_completed_batches()"
   ]
  },
  {
   "cell_type": "code",
   "execution_count": null,
   "metadata": {},
   "outputs": [],
   "source": [
    "completed"
   ]
  },
  {
   "cell_type": "code",
   "execution_count": null,
   "metadata": {},
   "outputs": [],
   "source": [
    "cleaned_data = get_batch_response(completed[0]['id'])"
   ]
  },
  {
   "cell_type": "code",
   "execution_count": null,
   "metadata": {},
   "outputs": [],
   "source": [
    "len(cleaned_data)"
   ]
  },
  {
   "cell_type": "code",
   "execution_count": null,
   "metadata": {},
   "outputs": [],
   "source": [
    "print(cleaned_data[3])"
   ]
  },
  {
   "cell_type": "code",
   "execution_count": null,
   "metadata": {},
   "outputs": [],
   "source": [
    "def join_pages(data):\n",
    "    result = [\"<document>\"]\n",
    "    result = result + data\n",
    "    result.append(\"</document>\")\n",
    "\n",
    "    return \"\\n\".join(result)\n"
   ]
  },
  {
   "cell_type": "code",
   "execution_count": null,
   "metadata": {},
   "outputs": [],
   "source": [
    "cleaned_data"
   ]
  },
  {
   "cell_type": "code",
   "execution_count": null,
   "metadata": {},
   "outputs": [],
   "source": [
    "full_cleaned_text = join_pages(cleaned_data)"
   ]
  },
  {
   "cell_type": "code",
   "execution_count": null,
   "metadata": {},
   "outputs": [],
   "source": [
    "print(full_cleaned_text)"
   ]
  },
  {
   "cell_type": "code",
   "execution_count": null,
   "metadata": {},
   "outputs": [],
   "source": [
    "#write_text_to_file(\"full_cleaned_journal_28.xml\", full_cleaned_text)"
   ]
  },
  {
   "cell_type": "code",
   "execution_count": null,
   "metadata": {},
   "outputs": [],
   "source": [
    "processed_journal_path = Path(\"/Users/phapman/Desktop/tnh-scholar/data_processing/processed_journal_data\")\n",
    "current_journal_dir = processed_journal_path / \"phat-giao-viet-nam-1956-28\""
   ]
  },
  {
   "cell_type": "code",
   "execution_count": null,
   "metadata": {},
   "outputs": [],
   "source": [
    "full_cleaned_text = get_text_from_file(current_journal_dir / \"full_cleaned_phat-giao-viet-nam-1956-28.xml\")"
   ]
  },
  {
   "cell_type": "code",
   "execution_count": null,
   "metadata": {},
   "outputs": [],
   "source": [
    "token_count(full_cleaned_text)"
   ]
  },
  {
   "cell_type": "code",
   "execution_count": null,
   "metadata": {},
   "outputs": [],
   "source": [
    "cleaned_sections = split_xml_pages(full_cleaned_text, page_groups=[(1, 6), (7, 17),(18, 25), (26, 30), (31, 36), (37, 37), (38, 44), (45, 51)])"
   ]
  },
  {
   "cell_type": "code",
   "execution_count": null,
   "metadata": {},
   "outputs": [],
   "source": [
    "print(clean_xml_keep_pages(cleaned_sections[0]))"
   ]
  },
  {
   "cell_type": "code",
   "execution_count": null,
   "metadata": {},
   "outputs": [],
   "source": [
    "print(cleaned_sections[0])"
   ]
  },
  {
   "cell_type": "code",
   "execution_count": null,
   "metadata": {},
   "outputs": [],
   "source": [
    "[token_count(x) for x in cleaned_sections]"
   ]
  },
  {
   "cell_type": "code",
   "execution_count": null,
   "metadata": {},
   "outputs": [],
   "source": [
    "system_message_translate = \"\"\"\n",
    "You are Thich Nhat Hanh translating from Vietnamese to English for your experienced students. \n",
    "The text is a section of a journal you edited from 1956-1958. Use the title: \"Journal of Vietnamese Buddhism\" \n",
    "You want your students to understand the material and its historical and cultural context—in particular, as it relates to your life and teachings.\n",
    "Give a full English translation in the style of Thich Nhat Hanh. Translate for the most meaningful, typical, and eloquent English interpretation.\n",
    "Keep pages together: each translated page must match its original page source as pages will be studied side by side with the original Vietnamese.\n",
    "Add XML tags for clarity. Use only the following: \n",
    "\n",
    "   <p> for paragraphs.\n",
    "   <section> for major sections.\n",
    "   <subsection> for subsections.\n",
    "   <title> for main titles of sections and subsections. \n",
    "   <subtitle> for subtitles of sections and subsections. \n",
    "   <heading> for headings that do not mark titles or subtitles\n",
    "   <contents> for tables of contents\n",
    "   <author> for authors of sections or subsections\n",
    "   <ol> <ul> <li> for lists\n",
    "   <i> for italics. \n",
    "   <b> for bold.\n",
    "   <footnote> <footnote-section> for footnotes.\n",
    "\n",
    "All titles, XML sections, text, and terms should be translated--do not leave any terms or expressions in Vietnamese, except names of Vietnamese people.\n",
    "Add footnotes as follows:\n",
    "\n",
    "1. Structure\n",
    "   - Inline Reference: Use `<footnote number=\"X\">[X]</footnote>` directly after the reference in the text.\n",
    "   - Footnote Section: Include all footnote explanations in `<footnote-section>` at the end of the document. Example:\n",
    "     A sentence with a footnote.<footnote number=\"1\">[1]</footnote>\n",
    "     <footnote-section>\n",
    "         <footnote number=\"1\">Explanation for footnote 1.</footnote>\n",
    "     </footnote-section>\n",
    "\n",
    "2. Numbering\n",
    "   - Start numbering at 1 for each new section.\n",
    "   - Increment sequentially for each new reference.\n",
    "\n",
    "4. Placement\n",
    "   - Inline `<footnote>` tags immediately follow the referenced text.\n",
    "   - `<footnote-section>` appears at the end of each section.\n",
    "\n",
    "5. Formatting\n",
    "   - Inline footnote references use square brackets: `[X]`.\n",
    "   - Explanations appear only in `<footnote-section>`.\n",
    "   - Highlight complex terms (Sanskrit, Sino-Vietnamese, French) with `<i>` tags and explain in footnotes. \n",
    "   - Each footnote should always include the original text or term before translation.\n",
    "\n",
    "6. Content \n",
    "   - Use footnotes liberally to explain:\n",
    "     * Elements of Vietnamese Buddhism or Buddhism in general.\n",
    "     * Vietnamese culture and history.\n",
    "     * Life, teachings, and practices of Thich Nhat Hanh.\n",
    "   - For footnoted terms, include the original Vietnamese, Sino-Vietnamese, Sanskrit, or French in the explanation.\n",
    "\n",
    "7. Examples:\n",
    "   Inline: Thich Nhat Hanh emphasized <i>mindfulness</i> <footnote number=\"1\">[1]</footnote>.\n",
    "   Section: \n",
    "   <footnote-section>\n",
    "       <footnote number=\"1\"><i>Mindfulness</i>: Original term is \"Chánh niệm\" (Vietnamese).</footnote>\n",
    "   </footnote-section>\n",
    "\"\"\""
   ]
  },
  {
   "cell_type": "code",
   "execution_count": null,
   "metadata": {},
   "outputs": [],
   "source": [
    "token_count(system_message_translate)"
   ]
  },
  {
   "cell_type": "code",
   "execution_count": null,
   "metadata": {},
   "outputs": [],
   "source": [
    "user_message_string_translate = \"\"\"{text}\"\"\""
   ]
  },
  {
   "cell_type": "code",
   "execution_count": null,
   "metadata": {},
   "outputs": [],
   "source": [
    "def user_wrap_function_translate(text_block):\n",
    "    return user_message_string_translate.format(text=text_block)"
   ]
  },
  {
   "cell_type": "code",
   "execution_count": null,
   "metadata": {},
   "outputs": [],
   "source": [
    "translation_message_seq = generate_messages(system_message_translate, user_wrap_function_translate, cleaned_sections[1:2])"
   ]
  },
  {
   "cell_type": "code",
   "execution_count": null,
   "metadata": {},
   "outputs": [],
   "source": [
    "batch_job_dir = Path(\"../gpt_batch_files/journal_translate_batches\")\n",
    "journal_name = \"phat-giao-viet-nam-1956-28\"\n",
    "batch_file_name = \"translate_batch_\" + journal_name + \".jsonl\" \n",
    "batch_path = batch_job_dir / batch_file_name"
   ]
  },
  {
   "cell_type": "code",
   "execution_count": null,
   "metadata": {},
   "outputs": [],
   "source": [
    "create_jsonl_file_for_batch(translation_message_seq, batch_path)"
   ]
  },
  {
   "cell_type": "code",
   "execution_count": null,
   "metadata": {},
   "outputs": [],
   "source": [
    "tx_batch = start_batch(batch_path)\n",
    "tx_batch"
   ]
  },
  {
   "cell_type": "code",
   "execution_count": null,
   "metadata": {},
   "outputs": [],
   "source": [
    "get_active_batches()"
   ]
  },
  {
   "cell_type": "code",
   "execution_count": null,
   "metadata": {},
   "outputs": [],
   "source": [
    "completed = get_completed_batches()"
   ]
  },
  {
   "cell_type": "code",
   "execution_count": null,
   "metadata": {},
   "outputs": [],
   "source": [
    "completed"
   ]
  },
  {
   "cell_type": "code",
   "execution_count": null,
   "metadata": {},
   "outputs": [],
   "source": [
    "translated_data = get_batch_response(completed[0]['id'])"
   ]
  },
  {
   "cell_type": "code",
   "execution_count": null,
   "metadata": {},
   "outputs": [],
   "source": [
    "len(translated_data)"
   ]
  },
  {
   "cell_type": "code",
   "execution_count": null,
   "metadata": {},
   "outputs": [],
   "source": [
    "print(translated_data[0])"
   ]
  },
  {
   "cell_type": "code",
   "execution_count": null,
   "metadata": {},
   "outputs": [],
   "source": [
    "full_translated_text = join_pages(translated_data)"
   ]
  },
  {
   "cell_type": "code",
   "execution_count": null,
   "metadata": {},
   "outputs": [],
   "source": [
    "print(full_translated_text)"
   ]
  },
  {
   "cell_type": "code",
   "execution_count": null,
   "metadata": {},
   "outputs": [],
   "source": [
    "token_count(full_translated_text)"
   ]
  },
  {
   "cell_type": "code",
   "execution_count": null,
   "metadata": {},
   "outputs": [],
   "source": [
    "write_text_to_file(\"full_tx_phat-giao-viet-nam-1956-28.xml\", full_translated_text)"
   ]
  },
  {
   "cell_type": "code",
   "execution_count": null,
   "metadata": {},
   "outputs": [],
   "source": []
  }
 ],
 "metadata": {
  "kernelspec": {
   "display_name": "tnh-scholar",
   "language": "python",
   "name": "python3"
  },
  "language_info": {
   "codemirror_mode": {
    "name": "ipython",
    "version": 3
   },
   "file_extension": ".py",
   "mimetype": "text/x-python",
   "name": "python",
   "nbconvert_exporter": "python",
   "pygments_lexer": "ipython3",
   "version": "3.11.10"
  }
 },
 "nbformat": 4,
 "nbformat_minor": 2
}
