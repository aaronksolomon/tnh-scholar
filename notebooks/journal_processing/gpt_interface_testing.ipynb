{
 "cells": [
  {
   "cell_type": "code",
   "execution_count": null,
   "metadata": {},
   "outputs": [],
   "source": [
    "%load_ext autoreload\n",
    "%autoreload 2"
   ]
  },
  {
   "cell_type": "code",
   "execution_count": null,
   "metadata": {},
   "outputs": [],
   "source": [
    "# Imports\n",
    "from data_processing.gpt_processing import (\n",
    "    set_api_client, \n",
    "    generate_messages, \n",
    "    create_jsonl_file_for_batch, \n",
    "    start_batch, \n",
    "    get_batch_response,\n",
    "    get_completed_batches,\n",
    "    set_model_settings,\n",
    "    get_batch_status,\n",
    "    get_active_batches,\n",
    "    get_all_batch_info,\n",
    "    token_count,\n",
    "    run_immediate_chat_process,\n",
    "    run_single_batch,\n",
    "    get_last_batch_response,\n",
    "    delete_old_files\n",
    ")\n",
    "\n",
    "from data_processing.xml_processing import ( \n",
    "    save_pages_to_xml,\n",
    "    split_xml_pages\n",
    ")\n",
    "\n",
    "from data_processing.text_processing import (\n",
    "    get_text_from_file,\n",
    "    write_text_to_file\n",
    ")\n",
    "from pathlib import Path\n",
    "%aimport time\n",
    "%aimport json\n",
    "%aimport datetime\n",
    "\n",
    "from datetime import datetime"
   ]
  },
  {
   "cell_type": "code",
   "execution_count": null,
   "metadata": {},
   "outputs": [],
   "source": [
    "# Set up API client\n",
    "client = set_api_client()"
   ]
  },
  {
   "cell_type": "code",
   "execution_count": null,
   "metadata": {},
   "outputs": [],
   "source": [
    "model_settings = {\n",
    "    \"gpt-4o\": {\n",
    "        \"max_tokens\": 5000,\n",
    "        \"context_limit\": 20000,  # Total context limit for the model\n",
    "        \"temperature\": 0.25\n",
    "    },\n",
    "    \"gpt-3.5-turbo\": {\n",
    "        \"max_tokens\": 4096,  # Set conservatively to avoid errors\n",
    "        \"context_limit\": 16384  # Same as gpt-4o\n",
    "        }\n",
    "    }\n",
    "\n",
    "set_model_settings(model_settings)"
   ]
  },
  {
   "cell_type": "code",
   "execution_count": null,
   "metadata": {},
   "outputs": [],
   "source": [
    "# File paths\n",
    "project_dir = Path(\"/Users/phapman/Desktop/tnh-scholar/\")\n",
    "data_dir = project_dir / \"data_processing\"\n",
    "journal_dir = data_dir / \"processed_journal_data\"\n",
    "journal_name = \"phat-giao-viet-nam-1956-01\"\n",
    "working_dir = journal_dir / journal_name\n",
    "input_xml = working_dir / f\"TEST2_full_cleaned_{journal_name}.xml\"\n",
    "translated_xml = journal_dir / f\"translation_{journal_name}.xml\"\n",
    "section_batch_jsonl = working_dir / \"section_batch.jsonl\"\n",
    "translate_batch_jsonl = working_dir / \"translation_batch.jsonl\"\n",
    "section_metadata = working_dir / \"section_metadata.json\"\n",
    "logfile = data_dir / \"gpt_processing\" / \"processing_info.log\""
   ]
  },
  {
   "cell_type": "code",
   "execution_count": null,
   "metadata": {},
   "outputs": [],
   "source": [
    "delete_old_files(datetime.now())"
   ]
  },
  {
   "cell_type": "code",
   "execution_count": null,
   "metadata": {},
   "outputs": [],
   "source": [
    "batches = get_all_batch_info()"
   ]
  },
  {
   "cell_type": "code",
   "execution_count": null,
   "metadata": {},
   "outputs": [],
   "source": [
    "[batch['id'] for batch in batches]"
   ]
  },
  {
   "cell_type": "code",
   "execution_count": null,
   "metadata": {},
   "outputs": [],
   "source": [
    "import os\n",
    "import time\n",
    "from openai import OpenAI\n",
    "from pathlib import Path\n",
    "\n",
    "test_file = Path(\"./temp_batch_run.jsonl\")\n",
    "\n",
    "def start_and_poll_batch(jsonl_file: Path, interval: int = 10, description=\"\"):\n",
    "    \"\"\"\n",
    "    Starts a batch process and polls the batch status until it completes or fails.\n",
    "    Runs for a maximum of 100 attempts to demonstrate intermittent failures.\n",
    "\n",
    "    Args:\n",
    "        jsonl_file (Path): Path to the .jsonl batch file.\n",
    "        interval (int): Time interval in seconds to wait between polling attempts.\n",
    "        description (str): Metadata description for the batch job.\n",
    "\n",
    "    Returns:\n",
    "        bool: True if successful, False if the batch fails.\n",
    "    \"\"\"\n",
    "    client = OpenAI(api_key=os.getenv(\"OPENAI_API_KEY\"))\n",
    "\n",
    "    def get_batch_status(batch_id):\n",
    "        batch = client.batches.retrieve(batch_id)\n",
    "        return batch.status\n",
    "    \n",
    "    for attempt in range(100):\n",
    "        # Start the batch\n",
    "        with jsonl_file.open(\"rb\") as file:\n",
    "            batch_input_file = client.files.create(file=file, purpose=\"batch\")\n",
    "\n",
    "        batch = client.batches.create(\n",
    "            input_file_id=batch_input_file.id,\n",
    "            endpoint=\"/v1/chat/completions\",\n",
    "            completion_window=\"24h\",\n",
    "            metadata={\"description\": description}\n",
    "        )\n",
    "        batch_id = batch.id\n",
    "        print(f\"Batch started successfully: {batch_id}\")\n",
    "\n",
    "        time.sleep(interval)\n",
    "\n",
    "        while(True):\n",
    "            batch_status = get_batch_status(batch_id)\n",
    "\n",
    "            if batch_status == \"completed\":\n",
    "                print(\"Batch completed successfully.\")\n",
    "                return True\n",
    "\n",
    "            elif batch_status == \"failed\":\n",
    "                print(f\"Batch failed on attempt {attempt + 1}. Retrying...\")\n",
    "                break # exit this loop and retry batches.\n",
    "\n",
    "            else:\n",
    "                print(f\"batch status: {batch_status}\")\n",
    "                time.sleep(interval)\n",
    "                continue\n",
    "\n",
    "    print(\"Exceeded maximum attempts (100). Exiting.\")\n",
    "    return False"
   ]
  },
  {
   "cell_type": "code",
   "execution_count": null,
   "metadata": {},
   "outputs": [],
   "source": [
    "start_and_poll_batch(test_file)"
   ]
  },
  {
   "cell_type": "code",
   "execution_count": null,
   "metadata": {},
   "outputs": [],
   "source": []
  }
 ],
 "metadata": {
  "kernelspec": {
   "display_name": "tnh-scholar",
   "language": "python",
   "name": "python3"
  },
  "language_info": {
   "codemirror_mode": {
    "name": "ipython",
    "version": 3
   },
   "file_extension": ".py",
   "mimetype": "text/x-python",
   "name": "python",
   "nbconvert_exporter": "python",
   "pygments_lexer": "ipython3",
   "version": "3.11.10"
  }
 },
 "nbformat": 4,
 "nbformat_minor": 2
}
