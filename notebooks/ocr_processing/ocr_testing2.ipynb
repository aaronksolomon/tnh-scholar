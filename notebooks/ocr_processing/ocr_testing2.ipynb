{
 "cells": [
  {
   "cell_type": "code",
   "execution_count": null,
   "metadata": {},
   "outputs": [],
   "source": [
    "from google.cloud import vision\n",
    "from pdf2image import convert_from_path\n",
    "from PIL import Image, ImageDraw\n",
    "import io\n",
    "import fitz  # PyMuPDF\n",
    "import os\n",
    "import requests"
   ]
  },
  {
   "cell_type": "code",
   "execution_count": null,
   "metadata": {},
   "outputs": [],
   "source": [
    "client = vision.ImageAnnotatorClient()"
   ]
  },
  {
   "cell_type": "code",
   "execution_count": null,
   "metadata": {},
   "outputs": [],
   "source": [
    "import fitz  # PyMuPDF\n",
    "\n",
    "def get_image_metadata_from_pdf(pdf_path):\n",
    "    \"\"\"\n",
    "    Extracts metadata of images embedded in each page of a scanned PDF,\n",
    "    including page dimensions in points and inches, and calculates DPI if missing.\n",
    "    \"\"\"\n",
    "    doc = fitz.open(pdf_path)\n",
    "    image_metadata = []\n",
    "    \n",
    "    for page_num in range(doc.page_count):\n",
    "        page = doc.load_page(page_num)\n",
    "        \n",
    "        # Get page dimensions in points and inches\n",
    "        page_width_pts, page_height_pts = page.rect.width, page.rect.height\n",
    "        page_width_in = page_width_pts / 72  # Convert points to inches\n",
    "        page_height_in = page_height_pts / 72\n",
    "        \n",
    "        # Extract the list of images on this page\n",
    "        images = page.get_images(full=True)  # 'full=True' gets all images on page\n",
    "        \n",
    "        for img_index, img in enumerate(images):\n",
    "            xref = img[0]  # Image reference number\n",
    "            base_image = doc.extract_image(xref)\n",
    "            \n",
    "            # Retrieve metadata about the image\n",
    "            width_px, height_px = base_image[\"width\"], base_image[\"height\"]\n",
    "            dpi_x, dpi_y = base_image.get(\"dpi\", (None, None))\n",
    "            \n",
    "            # Calculate DPI if not provided\n",
    "            if dpi_x is None or dpi_y is None:\n",
    "                dpi_x = width_px / page_width_in\n",
    "                dpi_y = height_px / page_height_in\n",
    "            \n",
    "            # Append metadata, including page dimensions and calculated DPI\n",
    "            image_metadata.append({\n",
    "                \"page\": page_num + 1,\n",
    "                \"image_index\": img_index + 1,\n",
    "                \"width_px\": width_px,\n",
    "                \"height_px\": height_px,\n",
    "                \"format\": base_image[\"ext\"],\n",
    "                \"dpi_x\": dpi_x,\n",
    "                \"dpi_y\": dpi_y,\n",
    "                \"page_width_pts\": page_width_pts,\n",
    "                \"page_height_pts\": page_height_pts,\n",
    "                \"page_width_in\": page_width_in,\n",
    "                \"page_height_in\": page_height_in,\n",
    "            })\n",
    "    \n",
    "    doc.close()\n",
    "    return image_metadata"
   ]
  },
  {
   "cell_type": "code",
   "execution_count": null,
   "metadata": {},
   "outputs": [],
   "source": [
    "pdf_path = '../books/TEST-phat-giao-viet-nam-1956-05-06.pdf'"
   ]
  },
  {
   "cell_type": "code",
   "execution_count": null,
   "metadata": {},
   "outputs": [],
   "source": [
    "get_image_metadata_from_pdf(pdf_path)"
   ]
  },
  {
   "cell_type": "code",
   "execution_count": null,
   "metadata": {},
   "outputs": [],
   "source": [
    "# Load PDF and extract image bytes from a given page\n",
    "doc = fitz.open(pdf_path)\n",
    "page = doc.load_page(0)  # Load the first page\n",
    "images = page.get_images(full=True)\n",
    "xref = images[0][0]  # Get the first image reference\n",
    "\n",
    "base_image = doc.extract_image(xref)\n",
    "image_bytes = base_image[\"image\"]  # Get the raw JPEG byte content"
   ]
  },
  {
   "cell_type": "code",
   "execution_count": null,
   "metadata": {},
   "outputs": [],
   "source": [
    "# Convert to PIL Image for further processing if needed\n",
    "pil_image = Image.open(io.BytesIO(image_bytes))\n"
   ]
  },
  {
   "cell_type": "code",
   "execution_count": null,
   "metadata": {},
   "outputs": [],
   "source": [
    "pil_image"
   ]
  },
  {
   "cell_type": "code",
   "execution_count": null,
   "metadata": {},
   "outputs": [],
   "source": [
    "#annotate with vision\n",
    "image = vision.Image(content=image_bytes)\n",
    "response = client.text_detection(image=image)"
   ]
  },
  {
   "cell_type": "code",
   "execution_count": null,
   "metadata": {},
   "outputs": [],
   "source": [
    "text = response.text_annotations"
   ]
  },
  {
   "cell_type": "code",
   "execution_count": null,
   "metadata": {},
   "outputs": [],
   "source": [
    "print(text[0].description)"
   ]
  },
  {
   "cell_type": "code",
   "execution_count": null,
   "metadata": {},
   "outputs": [],
   "source": [
    "draw = ImageDraw.Draw(test_image)"
   ]
  },
  {
   "cell_type": "code",
   "execution_count": null,
   "metadata": {},
   "outputs": [],
   "source": [
    "# scape website for .pdfs\n",
    "\n",
    "import requests\n",
    "from bs4 import BeautifulSoup\n",
    "import re\n",
    "\n",
    "# Target URL\n",
    "url = \"https://thuvienhoasen.org/a26248/tap-chi-phat-giao-viet-nam\"\n",
    "\n",
    "# Request page content\n",
    "response = requests.get(url)\n",
    "soup = BeautifulSoup(response.content, \"html.parser\")\n",
    "\n",
    "# Find all links ending with .pdf\n",
    "pdf_links = []\n",
    "for link in soup.find_all(\"a\", href=True):\n",
    "    if link[\"href\"].endswith(\".pdf\"):\n",
    "        pdf_links.append(link[\"href\"])\n",
    "\n",
    "# Display results\n",
    "for pdf_link in pdf_links:\n",
    "    print(pdf_link)"
   ]
  },
  {
   "cell_type": "code",
   "execution_count": null,
   "metadata": {},
   "outputs": [],
   "source": [
    "# Specify the directory where PDFs will be saved\n",
    "pdf_download_directory = \"../PDF/Phat_Giao_journals\"  # Update this path to your desired directory\n",
    "os.makedirs(pdf_download_directory, exist_ok=True)"
   ]
  },
  {
   "cell_type": "code",
   "execution_count": null,
   "metadata": {},
   "outputs": [],
   "source": [
    "# download all pdf:\n",
    "# Base URL for constructing full PDF URLs\n",
    "base_url = \"https://thuvienhoasen.org\"\n",
    "\n",
    "# Download each PDF in pdf_links\n",
    "for pdf_link in pdf_links:\n",
    "    # Construct the full URL for each PDF link\n",
    "    pdf_url = base_url + pdf_link if pdf_link.startswith('/') else pdf_link\n",
    "    pdf_name = os.path.basename(pdf_url)\n",
    "    pdf_path = os.path.join(pdf_download_directory, pdf_name)\n",
    "    \n",
    "    # Download the PDF file\n",
    "    pdf_response = requests.get(pdf_url, stream=True)\n",
    "    with open(pdf_path, \"wb\") as pdf_file:\n",
    "        for chunk in pdf_response.iter_content(chunk_size=1024):\n",
    "            pdf_file.write(chunk)\n",
    "    \n",
    "    print(f\"Downloaded {pdf_name} to {pdf_path}\")"
   ]
  },
  {
   "cell_type": "code",
   "execution_count": null,
   "metadata": {},
   "outputs": [],
   "source": []
  }
 ],
 "metadata": {
  "kernelspec": {
   "display_name": "tnh-scholar",
   "language": "python",
   "name": "python3"
  },
  "language_info": {
   "codemirror_mode": {
    "name": "ipython",
    "version": 3
   },
   "file_extension": ".py",
   "mimetype": "text/x-python",
   "name": "python",
   "nbconvert_exporter": "python",
   "pygments_lexer": "ipython3",
   "version": "3.11.10"
  }
 },
 "nbformat": 4,
 "nbformat_minor": 2
}
