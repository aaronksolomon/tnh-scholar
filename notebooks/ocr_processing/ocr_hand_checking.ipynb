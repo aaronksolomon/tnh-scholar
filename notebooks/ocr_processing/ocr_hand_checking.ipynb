{
 "cells": [
  {
   "cell_type": "code",
   "execution_count": null,
   "metadata": {},
   "outputs": [],
   "source": [
    "import os\n",
    "from lxml import etree\n",
    "from PIL import Image\n",
    "from IPython.display import display\n",
    "import ipywidgets as widgets\n",
    "from pathlib import Path"
   ]
  },
  {
   "cell_type": "code",
   "execution_count": null,
   "metadata": {},
   "outputs": [],
   "source": [
    "project_root = Path(\"/Users/phapman/Desktop/tnh-scholar\")\n",
    "working_dir = project_root / \"data_processing\" / \"processed_journal_data/phat-giao-viet-nam-1956-25-26\"\n",
    "image_dir_path = working_dir / \"html_view/images\""
   ]
  },
  {
   "cell_type": "code",
   "execution_count": null,
   "metadata": {},
   "outputs": [],
   "source": [
    "# Paths (adjust these as needed)\n",
    "xml_file_path = working_dir / \"full_OCR_text_phat-giao-viet-nam-1956-25-26.xml\"\n",
    "\n",
    "# Load XML file\n",
    "def load_xml(file_path):\n",
    "    with open(file_path, \"r\", encoding=\"utf-8\") as file:\n",
    "        tree = etree.parse(file)\n",
    "    return tree\n",
    "\n",
    "# Save XML file\n",
    "def save_xml(tree, file_path):\n",
    "    with open(file_path, \"wb\") as file:\n",
    "        tree.write(file, pretty_print=True, encoding=\"utf-8\", xml_declaration=True)\n",
    "\n",
    "# Extract OCR text and image paths\n",
    "def extract_pages(tree, image_dir):\n",
    "    pages = []\n",
    "    for page in tree.xpath(\"//page\"):\n",
    "        page_number = page.get(\"page\")\n",
    "        print(f\"processing page {page_number}\")\n",
    "        ocr_text = page.text.strip() if page.text else \"\"\n",
    "        image_path = os.path.join(image_dir, f\"page_{page_number}.jpg\")  # Assuming images are named by page number\n",
    "        if os.path.exists(image_path):\n",
    "            pages.append({\"number\": page_number, \"text\": ocr_text, \"image\": image_path})\n",
    "    return pages\n",
    "\n",
    "# # Display text and image side by side with editing\n",
    "# def edit_page(page, tree):\n",
    "#     page_text_area = widgets.Textarea(\n",
    "#         value=page[\"text\"],\n",
    "#         description=f\"Page {page['number']}\",\n",
    "#         layout=widgets.Layout(width=\"100%\", height=\"300px\")\n",
    "#     )\n",
    "\n",
    "#     # Display image\n",
    "#     img = Image.open(page[\"image\"])\n",
    "#     display(img)\n",
    "\n",
    "#     # Display editable text area\n",
    "#     display(page_text_area)\n",
    "\n",
    "#     # Save button\n",
    "#     save_button = widgets.Button(description=\"Save Changes\")\n",
    "#     output = widgets.Output()\n",
    "\n",
    "#     def save_changes(_):\n",
    "#         # Update XML with new text\n",
    "#         page_element = tree.xpath(f\"//page[@page='{page['number']}']\")[0]\n",
    "#         page_element.text = page_text_area.value\n",
    "#         save_xml(tree, xml_file_path)\n",
    "#         with output:\n",
    "#             print(f\"Page {page['number']} updated and saved!\")\n",
    "\n",
    "#     save_button.on_click(save_changes)\n",
    "#     display(save_button, output)\n",
    "\n"
   ]
  },
  {
   "cell_type": "code",
   "execution_count": null,
   "metadata": {},
   "outputs": [],
   "source": [
    "from IPython.display import display, HTML, Javascript\n",
    "\n",
    "def edit_page_with_save(page, tree):\n",
    "    \"\"\"\n",
    "    Displays OCR text and corresponding image side by side with save functionality.\n",
    "    \"\"\"\n",
    "    html_content = f\"\"\"\n",
    "    <div style=\"display: flex; align-items: flex-start; gap: 20px;\">\n",
    "        <div>\n",
    "            <img src=\"{page['image']}\" alt=\"Page {page['number']} Image\" style=\"max-width: 600px; border: 1px solid #ccc;\">\n",
    "        </div>\n",
    "        <div style=\"flex-grow: 1;\">\n",
    "            <textarea id=\"text-area-{page['number']}\" \n",
    "                      style=\"width: 100%; height: 300px; border: 1px solid #ccc; padding: 5px; font-family: monospace;\">\n",
    "{page['text']}\n",
    "            </textarea>\n",
    "            <button id=\"save-button-{page['number']}\" \n",
    "                    style=\"margin-top: 10px; padding: 5px 10px; font-size: 14px;\">Save Changes</button>\n",
    "        </div>\n",
    "    </div>\n",
    "    <script>\n",
    "        document.getElementById(\"save-button-{page['number']}\").onclick = function() {{\n",
    "            const text = document.getElementById(\"text-area-{page['number']}\").value;\n",
    "            const kernel = Jupyter.notebook.kernel;\n",
    "            const command = \"update_text_in_python(\" + {page['number']} + \", `\" + text.replace(/`/g, \"\\\\`\") + \"`)\";\n",
    "            kernel.execute(command);\n",
    "            alert(\"Saved changes for page {page['number']}!\");\n",
    "        }};\n",
    "    </script>\n",
    "    \"\"\"\n",
    "    display(HTML(html_content))"
   ]
  },
  {
   "cell_type": "code",
   "execution_count": null,
   "metadata": {},
   "outputs": [],
   "source": [
    "def update_text_in_python(page_number, new_text):\n",
    "    # Update XML tree with new text\n",
    "    page_element = tree.xpath(f\"//page[@page='{page_number}']\")[0]\n",
    "    page_element.text = new_text\n",
    "    save_xml(tree, xml_file_path)\n",
    "    print(f\"Saved changes for page {page_number}\")"
   ]
  },
  {
   "cell_type": "code",
   "execution_count": null,
   "metadata": {},
   "outputs": [],
   "source": [
    "os.getcwd()"
   ]
  },
  {
   "cell_type": "code",
   "execution_count": null,
   "metadata": {},
   "outputs": [],
   "source": [
    "os.path.exists(\"html_view/images/page_2.jpg\")"
   ]
  },
  {
   "cell_type": "code",
   "execution_count": null,
   "metadata": {},
   "outputs": [],
   "source": [
    "img = Image.open(\"html_view/images/page_2.jpg\")\n",
    "display(img)\n"
   ]
  },
  {
   "cell_type": "code",
   "execution_count": null,
   "metadata": {},
   "outputs": [],
   "source": [
    "# Main\n",
    "tree = load_xml(xml_file_path)\n",
    "pages = extract_pages(tree, image_dir_path)"
   ]
  },
  {
   "cell_type": "code",
   "execution_count": null,
   "metadata": {},
   "outputs": [],
   "source": [
    "pages"
   ]
  },
  {
   "cell_type": "code",
   "execution_count": null,
   "metadata": {},
   "outputs": [],
   "source": [
    "import streamlit as st\n",
    "from PIL import Image\n",
    "\n",
    "# Simulate OCR processing\n",
    "def load_ocr_results(image_path):\n",
    "    # Dummy OCR text for demonstration\n",
    "    return \"This is the OCR result for the image.\"\n",
    "\n",
    "# Sidebar for selecting an image\n",
    "st.sidebar.title(\"OCR Editor\")\n",
    "uploaded_file = st.sidebar.file_uploader(\"Upload an Image\", type=[\"jpg\", \"jpeg\", \"png\", \"pdf\"])\n",
    "\n",
    "if uploaded_file:\n",
    "    # Display the image\n",
    "    image = Image.open(uploaded_file)\n",
    "    st.image(image, caption=\"Uploaded Image\", use_column_width=True)\n",
    "\n",
    "    # Display OCR text in an editable field\n",
    "    ocr_text = load_ocr_results(uploaded_file)\n",
    "    edited_text = st.text_area(\"Edit OCR Text\", ocr_text, height=300)\n",
    "\n",
    "    # Save button\n",
    "    if st.button(\"Save Changes\"):\n",
    "        # Replace with your saving logic\n",
    "        st.write(\"Saved changes!\")\n",
    "        # For example, save to file\n",
    "        with open(\"ocr_output.txt\", \"w\") as f:\n",
    "            f.write(edited_text)\n",
    "\n",
    "else:\n",
    "    st.write(\"Upload an image to begin.\")"
   ]
  },
  {
   "cell_type": "code",
   "execution_count": null,
   "metadata": {},
   "outputs": [],
   "source": []
  }
 ],
 "metadata": {
  "kernelspec": {
   "display_name": "tnh-scholar",
   "language": "python",
   "name": "python3"
  },
  "language_info": {
   "codemirror_mode": {
    "name": "ipython",
    "version": 3
   },
   "file_extension": ".py",
   "mimetype": "text/x-python",
   "name": "python",
   "nbconvert_exporter": "python",
   "pygments_lexer": "ipython3",
   "version": "3.11.10"
  }
 },
 "nbformat": 4,
 "nbformat_minor": 2
}
