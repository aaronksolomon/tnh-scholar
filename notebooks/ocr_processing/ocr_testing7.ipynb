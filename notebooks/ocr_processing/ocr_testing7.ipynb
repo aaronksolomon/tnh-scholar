{
 "cells": [
  {
   "cell_type": "code",
   "execution_count": null,
   "metadata": {},
   "outputs": [],
   "source": [
    "%load_ext autoreload\n",
    "%autoreload 2"
   ]
  },
  {
   "cell_type": "code",
   "execution_count": null,
   "metadata": {},
   "outputs": [],
   "source": [
    "from google.cloud import vision\n",
    "from pdf2image import convert_from_path\n",
    "from PIL import Image, ImageDraw, ImageFont\n",
    "%aimport io\n",
    "from pathlib import Path\n",
    "import fitz  # PyMuPDF\n",
    "%aimport os\n",
    "from xml.sax.saxutils import escape"
   ]
  },
  {
   "cell_type": "code",
   "execution_count": null,
   "metadata": {},
   "outputs": [],
   "source": [
    "from data_processing.ocr_processing import build_processed_pdf, save_processed_pdf_data, load_processed_PDF_data, make_image_preprocess_mask"
   ]
  },
  {
   "cell_type": "code",
   "execution_count": null,
   "metadata": {},
   "outputs": [],
   "source": [
    "from data_processing.xml_processing import save_pages_to_xml"
   ]
  },
  {
   "cell_type": "code",
   "execution_count": null,
   "metadata": {},
   "outputs": [],
   "source": [
    "client = vision.ImageAnnotatorClient()"
   ]
  },
  {
   "cell_type": "code",
   "execution_count": null,
   "metadata": {},
   "outputs": [],
   "source": [
    "# def full_pdf_process(pdf_dir, pdf_filename, output_dir):\n",
    "#     current_title, ext = os.path.splitext(pdf_filename)\n",
    "#     assert ext == \".pdf\", f\"Expected .pdf, got {ext}\"\n",
    "#     text_pages, marked_images = build_processed_pdf(pdf_dir, pdf_filename)\n",
    "#     save_annotated_text_and_image_data(output_dir, current_title, text_pages, marked_images)\n",
    "#     save_xml_text_file(output_dir, current_title, text_pages)\n",
    "#     return text_pages, marked_images"
   ]
  },
  {
   "cell_type": "code",
   "execution_count": null,
   "metadata": {},
   "outputs": [],
   "source": [
    "# directory to read pdfs from\n",
    "pdf_dir =Path(\"../PDF/Phat_Giao_journals\")\n",
    "\n",
    "# directory to save output\n",
    "output_dir = Path(\"../processed_journal_data\")"
   ]
  },
  {
   "cell_type": "code",
   "execution_count": null,
   "metadata": {},
   "outputs": [],
   "source": [
    "pdf_to_process = pdf_dir / \"phat-giao-viet-nam-1956-01.pdf\"\n",
    "basename = pdf_to_process.stem\n",
    "pdf_to_process, basename"
   ]
  },
  {
   "cell_type": "code",
   "execution_count": null,
   "metadata": {},
   "outputs": [],
   "source": [
    "Path.exists(pdf_to_process)"
   ]
  },
  {
   "cell_type": "code",
   "execution_count": null,
   "metadata": {},
   "outputs": [],
   "source": [
    "pre_mask1 = make_image_preprocess_mask(0.1)"
   ]
  },
  {
   "cell_type": "code",
   "execution_count": null,
   "metadata": {},
   "outputs": [],
   "source": [
    "text_pages, word_locations_list, annotated_images, unannotated_images = build_processed_pdf(pdf_to_process, client, pre_mask1)"
   ]
  },
  {
   "cell_type": "code",
   "execution_count": null,
   "metadata": {},
   "outputs": [],
   "source": [
    "output_dir"
   ]
  },
  {
   "cell_type": "code",
   "execution_count": null,
   "metadata": {},
   "outputs": [],
   "source": [
    "save_processed_pdf_data(output_dir, basename, text_pages, word_locations_list, annotated_images, unannotated_images)"
   ]
  },
  {
   "cell_type": "code",
   "execution_count": null,
   "metadata": {},
   "outputs": [],
   "source": [
    "text_pages, word_locations_list, annotated_images, unannotated_images = load_processed_PDF_data(Path(\"../processed_journal_data/phat-giao-viet-nam-1956-02\"))"
   ]
  },
  {
   "cell_type": "code",
   "execution_count": null,
   "metadata": {},
   "outputs": [],
   "source": [
    "save_pages_to_xml(output_dir / basename / f\"full_OCR_{basename}.xml\", text_pages, overwrite=True)"
   ]
  }
 ],
 "metadata": {
  "kernelspec": {
   "display_name": "tnh-scholar",
   "language": "python",
   "name": "python3"
  },
  "language_info": {
   "codemirror_mode": {
    "name": "ipython",
    "version": 3
   },
   "file_extension": ".py",
   "mimetype": "text/x-python",
   "name": "python",
   "nbconvert_exporter": "python",
   "pygments_lexer": "ipython3",
   "version": "3.11.10"
  }
 },
 "nbformat": 4,
 "nbformat_minor": 2
}
