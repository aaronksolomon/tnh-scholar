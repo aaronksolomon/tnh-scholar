{
 "cells": [
  {
   "cell_type": "code",
   "execution_count": null,
   "metadata": {},
   "outputs": [],
   "source": [
    "%load_ext autoreload\n",
    "%autoreload 2"
   ]
  },
  {
   "cell_type": "code",
   "execution_count": null,
   "metadata": {},
   "outputs": [],
   "source": [
    "%aimport bs4, ebooklib, spacy, html.parser, lxml, re, warnings"
   ]
  },
  {
   "cell_type": "code",
   "execution_count": null,
   "metadata": {},
   "outputs": [],
   "source": [
    "from lxml import etree\n",
    "from bs4 import BeautifulSoup\n"
   ]
  },
  {
   "cell_type": "code",
   "execution_count": null,
   "metadata": {},
   "outputs": [],
   "source": [
    "from clean_parse_tag import set_working_directory, get_text_from_file, write_text_to_file\n",
    "from clean_parse_tag import normalize_quotes, normalize_newlines\n",
    "\n",
    "set_working_directory(\"../books/private_books\")"
   ]
  },
  {
   "cell_type": "code",
   "execution_count": null,
   "metadata": {},
   "outputs": [],
   "source": [
    "import re\n",
    "\n",
    "def tag_chapters(text):\n",
    "    \"\"\"\n",
    "    Adds XML tags to chapter headers in the format:\n",
    "    -Chapter <number_in_words>-\\n\\n(title)\\n\\n\n",
    "    \n",
    "    Args:\n",
    "        text (str): The input text containing chapter headers.\n",
    "        \n",
    "    Returns:\n",
    "        str: The text with chapter headers tagged.\n",
    "    \n",
    "    Example:\n",
    "        >>> text = \"-Chapter Two-\\n\\nA Proposal for Peace\\n\\nSome content here.\"\n",
    "        >>> print(tag_chapters(text))\n",
    "        <section level=\"2\" type=\"chapter\">\n",
    "        <chapter-number>Chapter Two</chapter-number>\n",
    "        <title>A Proposal for Peace</title>\n",
    "        \n",
    "        Some content here.\n",
    "    \"\"\"\n",
    "    # Updated regex pattern to match chapter number in words and title\n",
    "    pattern = r\"^-Chapter ([A-Za-z]+)-\\n\\n([^\\n]+)\\n\\n\"\n",
    "    \n",
    "    # Replacement string with tags\n",
    "    replacement = r\"\"\"<section level=\"2\" type=\"chapter\">\n",
    "<chapter-number>Chapter \\1</chapter-number>\n",
    "<title>\\2</title>\n",
    "\n",
    "\"\"\"\n",
    "    \n",
    "    # Perform the substitution and return the result\n",
    "    tagged_text = re.sub(pattern, replacement, text, flags=re.M)\n",
    "    return tagged_text\n",
    "\n",
    "# Example usage\n",
    "text = \"\"\"\n",
    "some text\n",
    "\n",
    "-Chapter Two-\n",
    "\n",
    "A Proposal for Peace\n",
    "\n",
    "Some content here.\n",
    "\n",
    "\"\"\"\n",
    "print(tag_chapters(text))\n"
   ]
  },
  {
   "cell_type": "code",
   "execution_count": null,
   "metadata": {},
   "outputs": [],
   "source": []
  },
  {
   "cell_type": "code",
   "execution_count": null,
   "metadata": {},
   "outputs": [],
   "source": [
    "work_text = get_text_from_file(\"working_LiA.txt\")\n"
   ]
  },
  {
   "cell_type": "code",
   "execution_count": null,
   "metadata": {},
   "outputs": [],
   "source": [
    "print(work_text)"
   ]
  },
  {
   "cell_type": "code",
   "execution_count": null,
   "metadata": {},
   "outputs": [],
   "source": [
    "text_sub = tag_chapters(work_text)"
   ]
  },
  {
   "cell_type": "code",
   "execution_count": null,
   "metadata": {},
   "outputs": [],
   "source": [
    "print(text_sub)"
   ]
  },
  {
   "cell_type": "code",
   "execution_count": null,
   "metadata": {},
   "outputs": [],
   "source": [
    "# write_text_to_file(\"working_LiA2.txt\", text_sub)"
   ]
  },
  {
   "cell_type": "code",
   "execution_count": null,
   "metadata": {},
   "outputs": [],
   "source": [
    "work_text2 = get_text_from_file(\"TH_working_metadata_tagged.txt\")"
   ]
  },
  {
   "cell_type": "code",
   "execution_count": null,
   "metadata": {},
   "outputs": [],
   "source": [
    "work_text2 = normalize_quotes(work_text2)"
   ]
  },
  {
   "cell_type": "code",
   "execution_count": null,
   "metadata": {},
   "outputs": [],
   "source": [
    "import warnings\n",
    "\n",
    "# ANSI code for red text\n",
    "RED = \"\\033[91m\"\n",
    "RESET = \"\\033[0m\"\n",
    "\n",
    "# Custom function to format and color warning output\n",
    "def custom_showwarning(message, category, filename, lineno, file=None, line=None):\n",
    "    # Print the warning message in red, excluding file path and line info\n",
    "    print(f\"{RED}{category.__name__}: {message}{RESET}\")\n",
    "\n",
    "# Define a custom warning class\n",
    "class LineFormatWarning(UserWarning):\n",
    "    \"\"\"Warning for issues with line formatting in text parsing.\"\"\"\n",
    "    pass\n",
    "\n",
    "# Override the default warning output behavior\n",
    "warnings.showwarning = custom_showwarning\n",
    "\n",
    "def process_text_string(text):\n",
    "    output = []\n",
    "    inside_list = False  # State to track if we're inside a <list>\n",
    "\n",
    "    # Regular expressions for detecting patterns\n",
    "    tag_pattern = re.compile(r'^<.*>$')\n",
    "    list_item_pattern = re.compile(r'^\\d+\\.\\s')\n",
    "    list_start_pattern = re.compile(r'^1\\.\\s')\n",
    "    paragraph_start_pattern = re.compile(r\"^[\\u0022\\u201C\\u201D'A-Z0-9\\-\\#\\*]\")\n",
    "\n",
    "    # Split the input text into lines\n",
    "    for idx, line in enumerate(text.splitlines()):\n",
    "        stripped_line = line.strip()\n",
    "        \n",
    "        # print(f\"line: {stripped_line} | match: {paragraph_start_pattern.match(stripped_line)}\")\n",
    "\n",
    "        # Ignore lines that start with a tag\n",
    "        if tag_pattern.match(stripped_line):\n",
    "            \n",
    "            if inside_list:\n",
    "                output.append('</list>')\n",
    "                inside_list = False\n",
    "\n",
    "            output.append(stripped_line)\n",
    "            continue\n",
    "\n",
    "        # Ignore all blank lines as these are not considered significant to text structure\n",
    "        if not stripped_line:\n",
    "            output.append(\"\")\n",
    "            continue\n",
    "        \n",
    "        # Check if the line is a numbered list item\n",
    "        elif list_item_pattern.match(stripped_line):\n",
    "            if not inside_list and list_start_pattern.match(stripped_line):\n",
    "                output.append('<list>')  # Start the list if not already inside one\n",
    "                inside_list = True\n",
    "            if inside_list:\n",
    "                output.append(f'    <item>{stripped_line}</item>')\n",
    "            else: # treat as a paragraph\n",
    "                warnings.warn(f\"Out of order numbered line detected at line {idx}:\\n\\t'{stripped_line}'\", LineFormatWarning)\n",
    "        \n",
    "        # Check if the line should be a paragraph\n",
    "        elif paragraph_start_pattern.match(stripped_line):\n",
    "            # If we're inside a list and encounter a paragraph, close the list\n",
    "            if inside_list:\n",
    "                output.append('</list>')\n",
    "                inside_list = False\n",
    "            output.append(f'<p>{stripped_line}</p>')\n",
    "        \n",
    "        elif stripped_line[0].islower():\n",
    "            # flag this line as improper:\n",
    "            warnings.warn(f\"Uncapitalized line detected at line {idx}:\\n\\t'{stripped_line}'\\n\\tParagraph <p> tags added.\", LineFormatWarning)\n",
    "            # still make a paragraph:\n",
    "            output.append(f'<p>{stripped_line}</p>')\n",
    "            # still close a list in this case:\n",
    "            if inside_list:\n",
    "                output.append('</list>')\n",
    "                inside_list = False    \n",
    "        \n",
    "        else:\n",
    "            warnings.warn(f\"Unrecognized line format at line {idx}:\\n'{stripped_line}'\\n\\tParagraph <p> tags added.\", LineFormatWarning)\n",
    "            output.append(f'<p>{stripped_line}</p>')\n",
    "\n",
    "\n",
    "    # Close any remaining open list at the end of the text\n",
    "    if inside_list:\n",
    "        output.append('</list>')\n",
    "\n",
    "    return '\\n'.join(output)\n",
    "\n",
    "# Usage\n",
    "text = \"\"\"\n",
    "<section level=\"2\"><sutra-section>I.</sutra-section></section>\n",
    "\n",
    "Capitalized \n",
    "\"What are the Four Establishments?\n",
    "\n",
    "\"\"\"\n",
    "\n",
    "processed_text = process_text_string(text)\n",
    "print(processed_text)"
   ]
  },
  {
   "cell_type": "code",
   "execution_count": null,
   "metadata": {},
   "outputs": [],
   "source": [
    "update_text2 = process_text_string(work_text2)"
   ]
  },
  {
   "cell_type": "code",
   "execution_count": null,
   "metadata": {},
   "outputs": [],
   "source": [
    "print(update_text2)"
   ]
  },
  {
   "cell_type": "code",
   "execution_count": null,
   "metadata": {},
   "outputs": [],
   "source": [
    "def transform_section_tags(xml_text):\n",
    "    # Parse the XML text\n",
    "    root = etree.fromstring(xml_text)\n",
    "    \n",
    "    # Find all sections to process them\n",
    "    sections = root.findall(\".//section\")\n",
    "    \n",
    "    for section in sections:\n",
    "        # Retrieve the first child (descriptor tag, e.g., <note> or <introduction>)\n",
    "        descriptor_tag = section[0]\n",
    "        \n",
    "        # Get the tag type and content\n",
    "        tag_type = descriptor_tag.tag\n",
    "        tag_content = descriptor_tag.text\n",
    "        \n",
    "        # Update the section tag with type attribute and title element\n",
    "        section.set(\"type\", tag_type)  # Add `type` attribute to section\n",
    "        title_element = etree.Element(\"title\")\n",
    "        title_element.text = tag_content  # Add title element text\n",
    "        \n",
    "        # Replace the descriptor tag with the title element\n",
    "        section.replace(descriptor_tag, title_element)\n",
    "        \n",
    "        # Move subsequent paragraphs into the current section\n",
    "        next_sibling = section.getnext()\n",
    "        while next_sibling is not None and next_sibling.tag != \"section\":\n",
    "            # Append the sibling paragraph to the current section\n",
    "            section.append(next_sibling)\n",
    "            next_sibling = section.getnext()  # Update to next sibling\n",
    "\n",
    "    # Return the modified XML as a string\n",
    "    return etree.tostring(root, pretty_print=True).decode()\n",
    "\n",
    "# Sample input XML text\n",
    "xml_text = '''\n",
    "<root>\n",
    "    <section level=\"1\"><note>A NOTE ON THE TEXT</note></section>\n",
    "    <p>The word for a Buddhist scripture, the teachings of the Buddha...</p>\n",
    "    <p>The word satipatthana (Sanskrit: smrityupasthana) is a compound...</p>\n",
    "    <p>For ease of use, the text of the original sutra has been kept...</p>\n",
    "    <section level=\"1\"><introduction>Introduction: What Is Mindfulness?</introduction></section>\n",
    "    <p>Mindfulness is the foundation of Buddhist practice...</p>\n",
    "</root>\n",
    "'''\n",
    "\n",
    "# Run the transformation\n",
    "transformed_xml = transform_section_tags(xml_text)\n",
    "print(transformed_xml)"
   ]
  },
  {
   "cell_type": "code",
   "execution_count": null,
   "metadata": {},
   "outputs": [],
   "source": [
    "# write_text_to_file(\"TH_working2.txt\", update_text2)"
   ]
  },
  {
   "cell_type": "code",
   "execution_count": null,
   "metadata": {},
   "outputs": [],
   "source": [
    "work_text3 = get_text_from_file(\"TH_working3.xml\")"
   ]
  },
  {
   "cell_type": "code",
   "execution_count": null,
   "metadata": {},
   "outputs": [],
   "source": [
    "def validate_xml(xml_text):\n",
    "    errors = []  # List to collect error messages\n",
    "\n",
    "    # First pass to collect all errors without recovery\n",
    "    parser_no_recover = etree.XMLParser(recover=False)\n",
    "    try:\n",
    "        etree.fromstring(xml_text, parser_no_recover)\n",
    "    except etree.XMLSyntaxError as e:\n",
    "        errors.extend(e.error_log)  \n",
    "    \n",
    "    return errors"
   ]
  },
  {
   "cell_type": "code",
   "execution_count": null,
   "metadata": {},
   "outputs": [],
   "source": [
    "root = etree.fromstring(work_text3)"
   ]
  },
  {
   "cell_type": "code",
   "execution_count": null,
   "metadata": {},
   "outputs": [],
   "source": [
    "validate_xml(work_text3)"
   ]
  },
  {
   "cell_type": "code",
   "execution_count": null,
   "metadata": {},
   "outputs": [],
   "source": [
    "from lxml import etree\n",
    "\n",
    "def validate_and_repair_xml(xml_text):\n",
    "    try:\n",
    "        # Attempt to parse the XML text\n",
    "        parser = etree.XMLParser(recover=True)  # recover=True allows minor repairs\n",
    "        root = etree.fromstring(xml_text, parser)\n",
    "        print(\"XML is well-formed and any minor errors have been repaired.\")\n",
    "        return etree.tostring(root, pretty_print=True).decode()  # Return repaired XML\n",
    "    except etree.XMLSyntaxError as e:\n",
    "        print(\"XML Syntax Error detected:\", e)\n",
    "        return None\n",
    "\n",
    "# Sample XML input with potential issues\n",
    "xml_text = '''\n",
    "<root>\n",
    "    <section level=\"1\"><note>A NOTE ON THE TEXT</note></section>\n",
    "    The word for a Buddhist scripture, the teachings of the Buddha...\n",
    "    <section level=\"1\"><introduction>Introduction: What Is Mindfulness?</introduction>\n",
    "    Mindfulness is the foundation of Buddhist practice...\n",
    "</root>\n",
    "'''\n",
    "\n",
    "# Run validation and repair\n",
    "repaired_xml = validate_and_repair_xml(xml_text)\n",
    "if repaired_xml:\n",
    "    print(repaired_xml)\n",
    "else:\n",
    "    print(\"The XML could not be repaired and requires manual correction.\")"
   ]
  },
  {
   "cell_type": "code",
   "execution_count": null,
   "metadata": {},
   "outputs": [],
   "source": [
    "work_text3 = validate_and_repair_xml(work_text3)"
   ]
  },
  {
   "cell_type": "code",
   "execution_count": null,
   "metadata": {},
   "outputs": [],
   "source": [
    "tag_fix_text2 = transform_section_tags(work_text3)"
   ]
  },
  {
   "cell_type": "code",
   "execution_count": null,
   "metadata": {},
   "outputs": [],
   "source": [
    "write_text_to_file(\"TH_working3.txt\", tag_fix_text2)"
   ]
  },
  {
   "cell_type": "code",
   "execution_count": null,
   "metadata": {},
   "outputs": [],
   "source": [
    "current_xml = get_text_from_file(\"TH_working3.xml\")"
   ]
  },
  {
   "cell_type": "code",
   "execution_count": null,
   "metadata": {},
   "outputs": [],
   "source": [
    "from lxml import etree\n",
    "\n",
    "def transform_exercise_quotes(xml_content):\n",
    "    \"\"\"\n",
    "    Parses an XML document to replace <p> tags with <sutra-quote> tags \n",
    "    within <section> elements of level 3 and type 'exercise', specifically \n",
    "    for paragraphs immediately following the title.\n",
    "    \n",
    "    Parameters:\n",
    "        xml_content (str): XML content as a string.\n",
    "        \n",
    "    Returns:\n",
    "        str: Modified XML as a string.\n",
    "    \n",
    "    Example:\n",
    "        transformed_xml = transform_exercise_quotes(xml_content)\n",
    "    \"\"\"\n",
    "    # Parse the XML content\n",
    "    root = etree.fromstring(xml_content)\n",
    "    \n",
    "    # Find all level 3 exercise sections\n",
    "    for section in root.xpath('//section[@level=\"3\" and @type=\"exercise\"]'):\n",
    "        # Locate the <title> and then check the next element\n",
    "        title = section.find('title')\n",
    "        if title is not None:\n",
    "            # Get the next element after <title> and check if it's <p>\n",
    "            next_element = title.getnext()\n",
    "            if next_element is not None and next_element.tag == 'p':\n",
    "                # Create <sutra-quote> element and copy the text from <p>\n",
    "                sutra_quote = etree.Element(\"sutra-quote\")\n",
    "                sutra_quote.text = next_element.text\n",
    "                \n",
    "                # Replace <p> with <sutra-quote>\n",
    "                section.replace(next_element, sutra_quote)\n",
    "    \n",
    "    # Convert the modified XML tree back to string\n",
    "    return etree.tostring(root, pretty_print=True, encoding='unicode')\n",
    "\n",
    "# Example usage\n",
    "xml_content = '''<root>\n",
    "    <section level=\"3\" type=\"exercise\">\n",
    "        <title>Exercise 5 | Positions of the Body</title>\n",
    "        <p>Moreover, when a practitioner walks, he is aware, 'I am walking.' When he is\n",
    "            standing, he is aware, 'I am standing.' When he is sitting, he is aware, 'I am\n",
    "            sitting.' When he is lying down, he is aware, 'I am lying down.' In whatever\n",
    "            position his body happens to be, he is aware of the position of his body.</p>\n",
    "    </section>\n",
    "</root>'''\n",
    "\n",
    "transformed_xml = transform_exercise_quotes(xml_content)\n",
    "print(transformed_xml)"
   ]
  },
  {
   "cell_type": "code",
   "execution_count": null,
   "metadata": {},
   "outputs": [],
   "source": [
    "tx_quotes = transform_exercise_quotes(current_xml)"
   ]
  },
  {
   "cell_type": "code",
   "execution_count": null,
   "metadata": {},
   "outputs": [],
   "source": [
    "print(tx_quotes)"
   ]
  },
  {
   "cell_type": "code",
   "execution_count": null,
   "metadata": {},
   "outputs": [],
   "source": [
    "#write_text_to_file(\"TH_working4.xml\", tx_quotes)"
   ]
  },
  {
   "cell_type": "code",
   "execution_count": null,
   "metadata": {},
   "outputs": [],
   "source": [
    "# normalize  newlines to remove extras:\n",
    "\n",
    "working_txt = get_text_from_file(\"TH_working4.xml\")\n",
    "working_txt = normalize_newlines(working_txt, 1)\n"
   ]
  },
  {
   "cell_type": "code",
   "execution_count": null,
   "metadata": {},
   "outputs": [],
   "source": [
    "print(working_txt)"
   ]
  },
  {
   "cell_type": "code",
   "execution_count": null,
   "metadata": {},
   "outputs": [],
   "source": [
    "write_text_to_file(\"TH_working4.xml\", working_txt)"
   ]
  },
  {
   "cell_type": "code",
   "execution_count": null,
   "metadata": {},
   "outputs": [],
   "source": []
  }
 ],
 "metadata": {
  "kernelspec": {
   "display_name": "tnh-scholar",
   "language": "python",
   "name": "python3"
  },
  "language_info": {
   "codemirror_mode": {
    "name": "ipython",
    "version": 3
   },
   "file_extension": ".py",
   "mimetype": "text/x-python",
   "name": "python",
   "nbconvert_exporter": "python",
   "pygments_lexer": "ipython3",
   "version": "3.11.10"
  }
 },
 "nbformat": 4,
 "nbformat_minor": 2
}
