{
 "cells": [
  {
   "cell_type": "markdown",
   "metadata": {},
   "source": [
    "## Testing automated text tagging based on a TOC in text"
   ]
  },
  {
   "cell_type": "code",
   "execution_count": null,
   "metadata": {},
   "outputs": [],
   "source": [
    "%load_ext autoreload\n",
    "%autoreload 2"
   ]
  },
  {
   "cell_type": "code",
   "execution_count": null,
   "metadata": {},
   "outputs": [],
   "source": [
    "%aimport xml, re"
   ]
  },
  {
   "cell_type": "code",
   "execution_count": null,
   "metadata": {},
   "outputs": [],
   "source": [
    "import xml.etree.ElementTree as ET\n",
    "import re"
   ]
  },
  {
   "cell_type": "code",
   "execution_count": null,
   "metadata": {},
   "outputs": [],
   "source": [
    "from clean_parse_tag import get_text_from_file, set_working_directory, write_text_to_file"
   ]
  },
  {
   "cell_type": "code",
   "execution_count": null,
   "metadata": {},
   "outputs": [],
   "source": [
    "def add_toc_tags(text):\n",
    "    \"\"\"\n",
    "    Adds XML metadata tags to sections in text based on TOC structure.\n",
    "\n",
    "    Args:\n",
    "        text (str): The input text containing the TOC and text body.\n",
    "\n",
    "    Returns:\n",
    "        str: Modified text with metadata tags added.\n",
    "    \n",
    "    Example:\n",
    "        >>> text = \"some text containing <toc>...</toc> and more text\"\n",
    "        >>> modified_text = add_toc_tags(text)\n",
    "        >>> print(modified_text)\n",
    "    \"\"\"\n",
    "    # Step 1: Extract TOC content\n",
    "    toc_pattern = re.compile(r'<toc>\\s*(.*?)\\s*</toc>', re.DOTALL)\n",
    "    toc_match = toc_pattern.search(text)\n",
    "    if not toc_match:\n",
    "        raise ValueError(\"TOC section not found in the text.\")\n",
    "\n",
    "    toc_content = toc_match.group(1)\n",
    "\n",
    "    # Step 2: Parse TOC XML and create a metadata map\n",
    "    toc_sections = []\n",
    "    toc_root = ET.fromstring(f\"<toc>{toc_content}</toc>\")\n",
    "    for section in toc_root.findall(\".//section\"):\n",
    "        level = section.get(\"level\")\n",
    "        for elem in section:\n",
    "            tag = elem.tag\n",
    "            title = elem.text.strip()\n",
    "            toc_sections.append((level, tag, title))\n",
    "\n",
    "    # Step 3: Add metadata tags to matching segments in the text\n",
    "    def add_tags(match):\n",
    "        matched_text = match.group(1)\n",
    "        print(matched_text)\n",
    "        for level, tag, title in toc_sections:\n",
    "            if title in matched_text:\n",
    "                return f'\\n<section level=\"{level}\"><{tag}>{matched_text}</{tag}></section>\\n\\n'\n",
    "        return matched_text\n",
    "\n",
    "    # Compile patterns for each TOC title in a case-sensitive way\n",
    "    patterns = [re.compile(rf\"(?:^|\\n)({re.escape(title)})\\s*\\n\") for _, _, title in toc_sections]\n",
    "\n",
    "    print(patterns)\n",
    "    # Step 4: Process the text, applying tags where TOC titles are matched\n",
    "    tagged_text = text\n",
    "    for pattern in patterns:\n",
    "        tagged_text = pattern.sub(add_tags, tagged_text)\n",
    "\n",
    "    return tagged_text"
   ]
  },
  {
   "cell_type": "code",
   "execution_count": null,
   "metadata": {},
   "outputs": [],
   "source": [
    "set_working_directory(\"../books/private_books\")\n",
    "test_text = get_text_from_file('test_th_output.txt')"
   ]
  },
  {
   "cell_type": "code",
   "execution_count": null,
   "metadata": {},
   "outputs": [],
   "source": [
    "print(test_text)"
   ]
  },
  {
   "cell_type": "code",
   "execution_count": null,
   "metadata": {},
   "outputs": [],
   "source": [
    "result = add_toc_tags(test_text)"
   ]
  },
  {
   "cell_type": "code",
   "execution_count": null,
   "metadata": {},
   "outputs": [],
   "source": [
    "write_text_to_file(\"toc_tagged_test.txt\", result)"
   ]
  },
  {
   "cell_type": "code",
   "execution_count": null,
   "metadata": {},
   "outputs": [],
   "source": [
    "import re\n",
    "\n",
    "text = \"\\nA NOTE ON THE TEXT\\nAnother line\"\n",
    "\n",
    "pattern = re.compile(r\"(?:^|\\n)(A NOTE ON THE TEXT)\\s*\\n\")\n",
    "\n",
    "match = pattern.search(text)\n",
    "if match:\n",
    "    print(\"Matched:\", match.group(2))  # Should print \"A NOTE ON THE TEXT\"\n",
    "else:\n",
    "    print(\"No match found\")"
   ]
  },
  {
   "cell_type": "code",
   "execution_count": null,
   "metadata": {},
   "outputs": [],
   "source": [
    "pattern = re.compile('^(A\\\\ NOTE\\\\ ON\\\\ THE\\\\ TEXT)\\\\s*\\\\n')\n",
    "print(pattern)"
   ]
  },
  {
   "cell_type": "code",
   "execution_count": null,
   "metadata": {},
   "outputs": [],
   "source": [
    "match = pattern.search(text)"
   ]
  },
  {
   "cell_type": "code",
   "execution_count": null,
   "metadata": {},
   "outputs": [],
   "source": [
    "print(match)"
   ]
  },
  {
   "cell_type": "code",
   "execution_count": null,
   "metadata": {},
   "outputs": [],
   "source": []
  }
 ],
 "metadata": {
  "kernelspec": {
   "display_name": "tnh-scholar",
   "language": "python",
   "name": "python3"
  },
  "language_info": {
   "codemirror_mode": {
    "name": "ipython",
    "version": 3
   },
   "file_extension": ".py",
   "mimetype": "text/x-python",
   "name": "python",
   "nbconvert_exporter": "python",
   "pygments_lexer": "ipython3",
   "version": "3.11.10"
  }
 },
 "nbformat": 4,
 "nbformat_minor": 2
}
