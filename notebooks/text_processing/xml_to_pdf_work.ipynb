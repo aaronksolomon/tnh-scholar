{
 "cells": [
  {
   "cell_type": "code",
   "execution_count": null,
   "metadata": {},
   "outputs": [],
   "source": [
    "import os\n",
    "from data_processing.text_processing import get_text_from_file, set_working_directory\n"
   ]
  },
  {
   "cell_type": "code",
   "execution_count": null,
   "metadata": {},
   "outputs": [],
   "source": [
    "from lxml import etree\n",
    "\n",
    "def extract_unique_tags(xml_file):\n",
    "    \"\"\"\n",
    "    Extract all unique tags from an XML file using lxml.\n",
    "    \n",
    "    Parameters:\n",
    "        xml_file (str): Path to the XML file.\n",
    "        \n",
    "    Returns:\n",
    "        set: A set of unique tags in the XML document.\n",
    "    \"\"\"\n",
    "    # Parse the XML file\n",
    "    tree = etree.parse(xml_file)\n",
    "    \n",
    "    # Find all unique tags\n",
    "    unique_tags = {element.tag for element in tree.iter()}\n",
    "    \n",
    "    return unique_tags\n",
    "\n",
    "# # Example usage\n",
    "# if __name__ == \"__main__\":\n",
    "#     # Replace 'path/to/your/file.xml' with your actual file path\n",
    "#     xml_file_path = \"path/to/your/file.xml\"\n",
    "#     tags = extract_unique_tags(xml_file_path)\n",
    "    \n",
    "#     # Print all unique tags\n",
    "#     print(\"Unique Tags Found:\")\n",
    "#     for tag in sorted(tags):\n",
    "#         print(tag)"
   ]
  },
  {
   "cell_type": "code",
   "execution_count": null,
   "metadata": {},
   "outputs": [],
   "source": [
    "set_working_directory(\"../processed_journal_data\")"
   ]
  },
  {
   "cell_type": "code",
   "execution_count": null,
   "metadata": {},
   "outputs": [],
   "source": [
    "test_file = \"../processed_journal_data/phat-giao-viet-nam-1956-24/journal_1956_24_translation_full.xml\""
   ]
  },
  {
   "cell_type": "code",
   "execution_count": null,
   "metadata": {},
   "outputs": [],
   "source": [
    "os.getcwd()"
   ]
  },
  {
   "cell_type": "code",
   "execution_count": null,
   "metadata": {},
   "outputs": [],
   "source": [
    "j24 = get_text_from_file(\"phat-giao-viet-nam-1956-24/journal_1956_24_translation_full.xml\")"
   ]
  },
  {
   "cell_type": "code",
   "execution_count": null,
   "metadata": {},
   "outputs": [],
   "source": [
    "extract_unique_tags(\"../processed_journal_data/phat-giao-viet-nam-1956-24/journal_1956_24_translation_full.xml\")"
   ]
  },
  {
   "cell_type": "code",
   "execution_count": null,
   "metadata": {},
   "outputs": [],
   "source": [
    "import xml.etree.ElementTree as ET\n",
    "\n",
    "def extract_structure(xml_file):\n",
    "    tree = ET.parse(xml_file)\n",
    "    root = tree.getroot()\n",
    "\n",
    "    def recurse(element):\n",
    "        return {\n",
    "            \"tag\": element.tag,\n",
    "            \"children\": [recurse(child) for child in element]\n",
    "        }\n",
    "    \n",
    "    return recurse(root)\n"
   ]
  },
  {
   "cell_type": "code",
   "execution_count": null,
   "metadata": {},
   "outputs": [],
   "source": [
    "xml_structure = extract_structure(test_file)\n",
    "print(xml_structure)"
   ]
  },
  {
   "cell_type": "code",
   "execution_count": null,
   "metadata": {},
   "outputs": [],
   "source": [
    "from reportlab.lib.pagesizes import letter\n",
    "from reportlab.platypus import SimpleDocTemplate, Paragraph, Spacer, ListFlowable, ListItem\n",
    "from reportlab.lib.styles import getSampleStyleSheet\n",
    "import xml.etree.ElementTree as ET\n",
    "from reportlab.lib.units import inch\n",
    "\n",
    "\n",
    "def parse_xml_to_pdf(xml_file, output_pdf, xml_structure):\n",
    "    \"\"\"\n",
    "    Parses an XML file, maps it to the given structure, and generates a PDF.\n",
    "    \"\"\"\n",
    "    # Parse the XML file\n",
    "    tree = ET.parse(xml_file)\n",
    "    root = tree.getroot()\n",
    "\n",
    "    # Set up PDF document and styles\n",
    "    doc = SimpleDocTemplate(output_pdf, pagesize=letter)\n",
    "    elements = []\n",
    "    styles = getSampleStyleSheet()\n",
    "\n",
    "    # Define a function to map tags to styles and layout logic\n",
    "    def render_element(element, structure):\n",
    "        tag = element.tag\n",
    "        children = list(element)\n",
    "\n",
    "        if tag == 'title':\n",
    "            elements.append(Paragraph(element.text or \"Title Placeholder\", styles['Title']))\n",
    "        elif tag == 'subtitle':\n",
    "            elements.append(Paragraph(element.text or \"Subtitle Placeholder\", styles['Heading2']))\n",
    "        elif tag == 'author':\n",
    "            elements.append(Paragraph(element.text or \"Author Placeholder\", styles['Italic']))\n",
    "        elif tag == 'p':\n",
    "            elements.append(Paragraph(element.text or \"Paragraph Placeholder\", styles['BodyText']))\n",
    "        elif tag == 'footer':\n",
    "            elements.append(Paragraph(element.text or \"Footer Placeholder\", styles['Italic']))\n",
    "        elif tag == 'ul':\n",
    "            ul_items = [ListItem(Paragraph(child.text or \"List Item Placeholder\", styles['BodyText'])) for child in children]\n",
    "            elements.append(ListFlowable(ul_items, bulletType='bullet'))\n",
    "        elif tag == 'ol':\n",
    "            ol_items = [ListItem(Paragraph(child.text or \"List Item Placeholder\", styles['BodyText'])) for child in children]\n",
    "            elements.append(ListFlowable(ol_items, bulletType='1'))\n",
    "        elif tag == 'footnote':\n",
    "            elements.append(Paragraph(element.text or \"Footnote Placeholder\", styles['Italic']))\n",
    "        elif tag in ['section', 'subsection']:\n",
    "            elements.append(Paragraph(element.text or f\"{tag.capitalize()} Placeholder\", styles['Heading1']))\n",
    "\n",
    "        # Recursively process child elements\n",
    "        for child in children:\n",
    "            child_structure = next((s for s in structure.get('children', []) if s['tag'] == child.tag), {})\n",
    "            render_element(child, child_structure)\n",
    "\n",
    "        # Add spacing after processing each element\n",
    "        elements.append(Spacer(1, 0.2 * inch))\n",
    "\n",
    "    # Start rendering from the root\n",
    "    render_element(root, xml_structure)\n",
    "\n",
    "    # Build the PDF\n",
    "    doc.build(elements)\n",
    "\n",
    "\n",
    "# Example `xml_structure` to define tag-to-style mappings\n",
    "xml_structure = {\n",
    "    'tag': 'document',\n",
    "    'children': [\n",
    "        {'tag': 'page', 'children': [\n",
    "            {'tag': 'title', 'children': []},\n",
    "            {'tag': 'author', 'children': []},\n",
    "            {'tag': 'footer', 'children': [{'tag': 'i', 'children': []}, {'tag': 'footnote', 'children': []}]}\n",
    "        ]}\n",
    "    ]\n",
    "}\n",
    "\n",
    "# Example usage with an XML file\n"
   ]
  },
  {
   "cell_type": "code",
   "execution_count": null,
   "metadata": {},
   "outputs": [],
   "source": [
    "parse_xml_to_pdf(test_file, \"test_output.pdf\", xml_structure)"
   ]
  },
  {
   "cell_type": "code",
   "execution_count": null,
   "metadata": {},
   "outputs": [],
   "source": []
  }
 ],
 "metadata": {
  "kernelspec": {
   "display_name": "tnh-scholar",
   "language": "python",
   "name": "python3"
  },
  "language_info": {
   "codemirror_mode": {
    "name": "ipython",
    "version": 3
   },
   "file_extension": ".py",
   "mimetype": "text/x-python",
   "name": "python",
   "nbconvert_exporter": "python",
   "pygments_lexer": "ipython3",
   "version": "3.11.10"
  }
 },
 "nbformat": 4,
 "nbformat_minor": 2
}
